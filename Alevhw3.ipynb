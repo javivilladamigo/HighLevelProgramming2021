{
 "cells": [
  {
   "cell_type": "markdown",
   "metadata": {},
   "source": [
    "1\\. Write a function that converts numbers among the bin, dec, and hex representations (bin<->dec<->hex)"
   ]
  },
  {
   "cell_type": "code",
   "execution_count": 2,
   "metadata": {
    "scrolled": true
   },
   "outputs": [
    {
     "name": "stdout",
     "output_type": "stream",
     "text": [
      "10 --> 0b1010\n",
      "0b1010 --> 10\n",
      "\n",
      "36 --> 0x24\n",
      "0x24 --> 36\n",
      "\n",
      "0x24 --> 0b100100\n",
      "0b100100 --> 0x24\n"
     ]
    }
   ],
   "source": [
    "def convert(num, to_base=10):\n",
    "    num = str(num)\n",
    "    if num[:2] == '0b': \n",
    "        x = int(num, 2)\n",
    "    elif num[:2] == '0x':\n",
    "        x = int(num, 16)\n",
    "    else:\n",
    "        x = int(num)\n",
    "    \n",
    "\n",
    "    if to_base == 2:\n",
    "        return bin(x)\n",
    "    \n",
    "    elif to_base == 16:\n",
    "         return hex(x)\n",
    "    elif to_base == 10:\n",
    "         return x\n",
    "    else:\n",
    "        print(f'Conversion to base {to_base} not supported')\n",
    "        \n",
    "#test dec -> bin and bin -> dec conversition\n",
    "a = 10\n",
    "a_bin = convert(a, 2)\n",
    "print(f'{a} --> {a_bin}')\n",
    "print(f'{a_bin} --> {convert(a_bin)}\\n')\n",
    "\n",
    "#test dec -> hex and hex -> dec conversition\n",
    "b = 36\n",
    "b_hex = convert(b, 16)\n",
    "print(f'{b} --> {b_hex}')\n",
    "print(f'{b_hex} --> {convert(b_hex)}\\n')\n",
    "\n",
    "#test hex -> bin and bin -> hex conversition\n",
    "b_bin = convert(b_hex, 2)\n",
    "print(f'{b_hex} --> {b_bin}')\n",
    "print(f'{b_bin} --> {convert(b_bin,16)}')\n"
   ]
  },
  {
   "cell_type": "markdown",
   "metadata": {},
   "source": [
    "2\\. Write a function that converts a 32 bit word into a single precision floating point (i.e. interprets the various bits as sign, mantissa and exponent) and check its validity."
   ]
  },
  {
   "cell_type": "code",
   "execution_count": 8,
   "metadata": {},
   "outputs": [
    {
     "name": "stdout",
     "output_type": "stream",
     "text": [
      "Enter a number for doing floating point: 8.75\n",
      "floating point of number is :\n",
      "0|10000010|00011000000000000000000\n",
      "sign of number\n",
      "0\n"
     ]
    }
   ],
   "source": [
    "def binaryfraction(fraction):\n",
    "    binary = str()\n",
    "    while (fraction):\n",
    "        fraction *= 2\n",
    "        if (fraction >= 1):\n",
    "            int_part = 1\n",
    "            fraction -= 1\n",
    "        else:\n",
    "            int_part = 0\n",
    "            \n",
    "        binary += str(int_part)\n",
    "    #print(binary)\n",
    "    return binary\n",
    "def floating_Point(real_number):\n",
    "    signofbit = 0\n",
    "    if(real_number < 0):\n",
    "        signofbit = 1\n",
    "    real_number = abs(real_number)\n",
    "    int_str = bin(int(real_number))[2 : ]\n",
    "    fraction_str = binaryfraction(real_number - int(real_number))\n",
    "    ind = int_str.index('1')\n",
    "    exp_str = bin((len(int_str) - ind - 1) + 127)[2 : ]\n",
    "    mant_str = int_str[ind + 1 : ] + fraction_str\n",
    "    mant_str = mant_str + ('0' * (23 - len(mant_str)))\n",
    "    return signofbit, exp_str, mant_str\n",
    "if __name__ == \"__main__\":\n",
    "    num=float(input(\"Enter a number for doing floating point: \")) \n",
    "    signofbit, exp_str, mant_str = floating_Point(num)\n",
    "    ajd32 = str(signofbit) + '|' + exp_str + '|' + mant_str\n",
    "    print(\"floating point of number is :\")\n",
    "    print(ajd32)\n",
    "    print(\"sign of number\")\n",
    "    print(signofbit)\n",
    "    "
   ]
  },
  {
   "cell_type": "markdown",
   "metadata": {},
   "source": [
    "3\\. Write a program to determine the underflow and overflow limits (within a factor of 2) for python on your computer. \n",
    "\n",
    "**Tip**: define two variables initialized to 1 and halve/double them for a sufficient amount of times to exceed the under/over-flow limits  "
   ]
  },
  {
   "cell_type": "code",
   "execution_count": 9,
   "metadata": {},
   "outputs": [
    {
     "name": "stdout",
     "output_type": "stream",
     "text": [
      "underflow limit 5e-324\n",
      "overflow limit 8.98846567431158e+307\n"
     ]
    }
   ],
   "source": [
    "import math\n",
    "prev_temp = 1\n",
    "temp = 1\n",
    "while temp != 0:\n",
    "    temp = prev_temp/2\n",
    "    if temp == 0:\n",
    "        break\n",
    "    prev_temp = temp\n",
    "print('underflow limit', prev_temp)\n",
    "\n",
    "prev_temp = 1.\n",
    "while not math.isinf(temp):\n",
    "    temp = prev_temp*2\n",
    "    if math.isinf(temp):\n",
    "        break\n",
    "    prev_temp = temp\n",
    "print('overflow limit', prev_temp)\n",
    "    "
   ]
  },
  {
   "cell_type": "markdown",
   "metadata": {},
   "source": [
    "4\\. Write a program to determine the machine precision\n",
    "\n",
    "**Tip**: define a new variable by adding an increasingly smaller value (in the same way as the previous problem) and check when the addition starts to have no effect on the number"
   ]
  },
  {
   "cell_type": "code",
   "execution_count": 10,
   "metadata": {},
   "outputs": [
    {
     "name": "stdout",
     "output_type": "stream",
     "text": [
      "1.1102230246251565e-16\n"
     ]
    }
   ],
   "source": [
    "num = 1\n",
    "while(1 + num != 1):\n",
    "    num /= 2\n",
    "print(num)"
   ]
  },
  {
   "cell_type": "markdown",
   "metadata": {},
   "source": [
    "5\\. Write a function that takes in input three parameters $a$, $b$ and $c$ and prints out the two solutions to the quadratic equation $ax^2+bx+c=0$ using the standard formula:\n",
    "$$\n",
    "x=\\frac{-b\\pm\\sqrt{b^2-4ac}}{2a}\n",
    "$$\n",
    "\n",
    "(a) use the program to compute the solution for $a=0.001$, $b=1000$ and $c=0.001$\n",
    "\n",
    "(b) re-express the standard solution formula by multiplying the numerator and the denominator by $-b\\mp\\sqrt{b^2-4ac}$ and again find the solution for $a=0.001$, $b=1000$ and $c=0.001$. How does it compare with what has been previously obtained, and why?\n",
    "\n",
    "(c) write a function that computes the roots of a quadratic equation accurately in all cases"
   ]
  },
  {
   "cell_type": "code",
   "execution_count": 13,
   "metadata": {},
   "outputs": [
    {
     "name": "stdout",
     "output_type": "stream",
     "text": [
      "The solutions are -999999.999999 and -9.999894245993346e-07\n",
      "second part\n",
      "The solutions are -999999.999999 and -9.999894245993346e-07\n",
      "results are the same with part a because a has no effect for this solution\n",
      "third part\n",
      "2 roots: -0.000001 and -999999.999999\n"
     ]
    }
   ],
   "source": [
    "import math\n",
    "a = 0.001\n",
    "b = 1000\n",
    "c = 0.001\n",
    "d = float((b**2) - (4*a*c))\n",
    "sol1 = (-b - math.sqrt(d))/(2*a)\n",
    "sol2 = (-b+math.sqrt(d))/(2*a)\n",
    "print('The solutions are {0} and {1}'.format(sol1,sol2))\n",
    "print(\"second part\")\n",
    "\n",
    "d = float((b**2) - (4*a*c))\n",
    "factor = (-b - math.sqrt(d))\n",
    "sol1 = ((-b - math.sqrt(d)) *factor) /((2*a) * factor)\n",
    "sol2 = ((-b+math.sqrt(d))* factor)/((2*a) *factor)\n",
    "\n",
    "print('The solutions are {0} and {1}'.format(sol1,sol2)) \n",
    "print(\"results are the same with part a because a has no effect for this solution\")\n",
    "def quadratic(d):\n",
    "    print(\"third part\")\n",
    "    if d > 0:\n",
    "        num_roots = 2\n",
    "        x1 = (((-b) + math.sqrt(d))/(2*a))     \n",
    "        x2 = (((-b) - math.sqrt(d))/(2*a))\n",
    "        print(\"2 roots: %f and %f\" % (x1, x2))\n",
    "    elif d == 0:\n",
    "        num_roots = 1\n",
    "        x = (-b) / 2*a\n",
    "        print(\"There is one root: \", x)\n",
    "    else:\n",
    "        num_roots = 0\n",
    "        print(\"No roots < 0.\")\n",
    "        exit()\n",
    "        \n",
    "d = float((b**2) - (4*a*c)) \n",
    "quadratic(d)"
   ]
  },
  {
   "cell_type": "markdown",
   "metadata": {},
   "source": [
    "6\\. Write a program that implements the function $f(x)=x(x−1)$\n",
    "\n",
    "(a) Calculate the derivative of the function at the point $x = 1$ using the derivative definition:\n",
    "\n",
    "$$\n",
    "\\frac{{\\rm d}f}{{\\rm d}x} = \\lim_{\\delta\\to0} \\frac{f(x+\\delta)-f(x)}{\\delta}\n",
    "$$\n",
    "\n",
    "with $\\delta = 10^{−2}$. Calculate the true value of the same derivative analytically and compare it with the answer your program gives. The two will not agree perfectly. Why?\n",
    "\n",
    "(b) Repeat the calculation for $\\delta = 10^{−4}, 10^{−6}, 10^{−8}, 10^{−10}, 10^{−12}$ and $10^{−14}$. How does the accuracy scales with $\\delta$?"
   ]
  },
  {
   "cell_type": "code",
   "execution_count": 15,
   "metadata": {},
   "outputs": [
    {
     "name": "stdout",
     "output_type": "stream",
     "text": [
      "2*x - 1\n",
      "Result  with python derivative :  1\n",
      "Result  with h 0.01 derivative :  1.01\n",
      "Result  with h is  0.00010000000000  derivative :  1.0001\n",
      "Result  with h is  0.00000100000000  derivative :  1.000001\n",
      "Result  with h is  0.00000001000000  derivative :  1.0\n",
      "Result  with h is  0.00000000010000  derivative :  1.0\n",
      "Result  with h is  0.00000000000100  derivative :  1.000089\n",
      "Result  with h is  0.00000000000001  derivative :  0.999201\n"
     ]
    }
   ],
   "source": [
    "from sympy import *\n",
    "import math\n",
    "x = Symbol('x')\n",
    "f = x*(x-1)\n",
    "f_prime = f.diff(x)\n",
    "print(f_prime)\n",
    "f_prime = lambdify(x, f_prime)\n",
    "print(\"Result  with python derivative : \", f_prime(1))\n",
    "\n",
    "# a) There're not agreeing perfectly because iam not using a h value small enough to ignore\n",
    "def f(x):\n",
    "    return x*(x-1)\n",
    "\n",
    "def derive(function, value):\n",
    "    h = 1e-2\n",
    "    top = function(value + h) - function(value)\n",
    "    bottom = h\n",
    "    slope = top / bottom\n",
    "    # return the slope to the third decimal\n",
    "    return float(\"%f\" % slope)\n",
    "print(\"Result  with h 0.01 derivative : \", derive(f, 1))\n",
    "\n",
    "# b) The results are more correct  when the h value get close to 0\n",
    "\n",
    "def f(x):\n",
    "    return x*(x-1)\n",
    "\n",
    "def derive2(function, value,h):\n",
    "    top = function(value + h) - function(value)\n",
    "    bottom = h\n",
    "    slope = top / bottom\n",
    "    return float(\"%f\" % slope)\n",
    "h = 1e-2\n",
    "for i in range(0,6):\n",
    "    h = h * 1e-2\n",
    "    print(\"Result  with h is \",\"%.14f\" % h ,\" derivative : \", derive2(f, 1,h))"
   ]
  },
  {
   "cell_type": "markdown",
   "metadata": {},
   "source": [
    "7\\. Consider the integral of the semicircle of radius 1:\n",
    "$$\n",
    "I=\\int_{-1}^{1} \\sqrt(1-x^2) {\\rm d}x\n",
    "$$\n",
    "which is known to be $I=\\frac{\\pi}{2}=1.57079632679...$.\n",
    "\n",
    "Alternatively we can use the Riemann definition of the integral:\n",
    "$$\n",
    "I=\\lim_{N\\to\\infty} \\sum_{k=1}^{N} h y_k \n",
    "$$\n",
    "\n",
    "with $h=2/N$ the width of each of the $N$ slices the domain is divided into and where\n",
    "$y_k$ is the value of the function at the $k-$th slice.\n",
    "\n",
    "(a) Write a program to compute the integral with $N=100$. How does the result compare to the true value?\n",
    "\n",
    "(b) How much can $N$ be increased if the computation needs to be run in less than a second? What is the gain in running it for 1 minute? \n"
   ]
  },
  {
   "cell_type": "code",
   "execution_count": 16,
   "metadata": {},
   "outputs": [
    {
     "name": "stdout",
     "output_type": "stream",
     "text": [
      "For N=100 we get a wrong result:  79.01042579447612\n",
      "\n",
      "For N=400000 we get a good result:  1.57080032209098\n",
      "Computation time:  0.21875\n",
      "\n",
      "For N=1000000 we get a good result:  1.570796360124936\n",
      "Computation time:  19.796875\n",
      "% improvement =  0.0002522259505810531\n"
     ]
    }
   ],
   "source": [
    "import time\n",
    "import math\n",
    "\n",
    "print (\"For N=100 we get a wrong result: \", sum([math.sqrt(1-(k/100)**2) for k in range(0,100)]))  \n",
    "\n",
    "#For a second\n",
    "N = 250000\n",
    "start = time.process_time()\n",
    "a = sum([(2/N)*math.sqrt(1-(k/N)**2) for k in range(0,N)])\n",
    "t = time.process_time() - start\n",
    "print(\"\\nFor N=400000 we get a good result: \", a)\n",
    "print(\"Computation time: \",t)\n",
    "\n",
    "#For a minute\n",
    "N = 30000000\n",
    "start = time.process_time()\n",
    "b = sum([(2/N)*math.sqrt(1-(k/N)**2) for k in range(0,N)])\n",
    "t = time.process_time() - start\n",
    "print(\"\\nFor N=1000000 we get a good result: \", b)\n",
    "print(\"Computation time: \",t)\n",
    "\n",
    "print(\"% improvement = \", (1-(b/a))*100)"
   ]
  },
  {
   "cell_type": "code",
   "execution_count": null,
   "metadata": {},
   "outputs": [],
   "source": []
  }
 ],
 "metadata": {
  "kernelspec": {
   "display_name": "Python 3",
   "language": "python",
   "name": "python3"
  },
  "language_info": {
   "codemirror_mode": {
    "name": "ipython",
    "version": 3
   },
   "file_extension": ".py",
   "mimetype": "text/x-python",
   "name": "python",
   "nbconvert_exporter": "python",
   "pygments_lexer": "ipython3",
   "version": "3.8.5"
  }
 },
 "nbformat": 4,
 "nbformat_minor": 2
}
