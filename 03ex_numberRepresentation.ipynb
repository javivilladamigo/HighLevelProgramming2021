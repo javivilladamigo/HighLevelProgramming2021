{
 "cells": [
  {
   "cell_type": "markdown",
   "metadata": {},
   "source": [
    "1\\. Write a function that converts numbers among the bin, dec, and hex representations (bin<->dec<->hex)"
   ]
  },
  {
   "cell_type": "code",
   "execution_count": null,
   "metadata": {},
   "outputs": [],
   "source": [
    "# answer\n",
    "\n",
    "def converter(x):\n",
    "    print(\"The decimal value\", \"is:\", int(x))\n",
    "    print(\"The binary value\", \"is:\", bin(x))\n",
    "    print(\"The hexadecimalvalue\", \"is:\", hex(x))\n",
    "\n",
    "converter() # enter a number in bin, hex or dec"
   ]
  },
  {
   "cell_type": "markdown",
   "metadata": {},
   "source": [
    "2\\. Write a function that converts a 32 bit word into a single precision floating point (i.e. interprets the various bits as sign, mantissa and exponent) and check its validity."
   ]
  },
  {
   "cell_type": "code",
   "execution_count": null,
   "metadata": {},
   "outputs": [],
   "source": [
    "#answer\n",
    "\n",
    "def conv(num):\n",
    "    sign=int(num[0])\n",
    "    if sign==1:\n",
    "        sign=-1\n",
    "    else:\n",
    "        sign=1\n",
    "    e1=0\n",
    "    mantissa=1\n",
    "    for i in range(1,9):\n",
    "        e1=e1 + 2**(8-i)*int(num[i])\n",
    "    \n",
    "    #print(e1)    \n",
    "    for i in range(9,32):\n",
    "        mantissa=mantissa+ 2**(8-i)*int(num[i])\n",
    "    #print(mantissa)\n",
    "    \n",
    "    ans= sign * mantissa * 2**( e1-127)\n",
    "    #print (2**(-23))\n",
    "    return ans\n",
    "        \n",
    "#print(conv(\"10100000100000000001000000000011\"))"
   ]
  },
  {
   "cell_type": "markdown",
   "metadata": {},
   "source": [
    "3\\. Write a program to determine the underflow and overflow limits (within a factor of 2) for python on your computer. \n",
    "\n",
    "**Tip**: define two variables initialized to 1 and halve/double them for a sufficient amount of times to exceed the under/over-flow limits  "
   ]
  },
  {
   "cell_type": "code",
   "execution_count": 9,
   "metadata": {},
   "outputs": [
    {
     "name": "stdout",
     "output_type": "stream",
     "text": [
      "break\n",
      "Counter of underflow of 1 1074\n",
      "Counter of overflow of 1 1023\n",
      "number of underflow 5e-324\n"
     ]
    }
   ],
   "source": [
    "# answer\n",
    "\n",
    "import math\n",
    "underflow= 1\n",
    "overflow= 1\n",
    "count_u= 0\n",
    "count_o= 0\n",
    "while underflow/2 != 0.0:\n",
    "    count_u = count_u+1\n",
    "    underflow = underflow/2\n",
    "try:\n",
    "    while math.isinf(overflow * 2) == False:\n",
    "        count_o=count_o+1\n",
    "        overflow=overflow * 2\n",
    "except:\n",
    "    print(\"break\")\n",
    "\n",
    "print(f\"Counter of underflow of 1 {count_u}\",f\"Counter of overflow of 1 {count_o}\" ,f\"number of underflow {underflow}\",sep=\"\\n\") "
   ]
  },
  {
   "cell_type": "markdown",
   "metadata": {},
   "source": [
    "4\\. Write a program to determine the machine precision\n",
    "\n",
    "**Tip**: define a new variable by adding an increasingly smaller value (in the same way as the previous problem) and check when the addition starts to have no effect on the number"
   ]
  },
  {
   "cell_type": "code",
   "execution_count": 10,
   "metadata": {},
   "outputs": [
    {
     "name": "stdout",
     "output_type": "stream",
     "text": [
      "2.220446049250313e-16\n"
     ]
    }
   ],
   "source": [
    "# answer\n",
    "\n",
    "x=1\n",
    "y=0.5\n",
    "while x+ y/2 !=x+y:\n",
    "    y=y/2\n",
    "    x=x+y\n",
    "print(y)"
   ]
  },
  {
   "cell_type": "markdown",
   "metadata": {},
   "source": [
    "5\\. Write a function that takes in input three parameters $a$, $b$ and $c$ and prints out the two solutions to the quadratic equation $ax^2+bx+c=0$ using the standard formula:\n",
    "$$\n",
    "x=\\frac{-b\\pm\\sqrt{b^2-4ac}}{2a}\n",
    "$$\n",
    "\n",
    "(a) use the program to compute the solution for $a=0.001$, $b=1000$ and $c=0.001$\n",
    "\n",
    "(b) re-express the standard solution formula by multiplying the numerator and the denominator by $-b\\mp\\sqrt{b^2-4ac}$ and again find the solution for $a=0.001$, $b=1000$ and $c=0.001$. How does it compare with what has been previously obtained, and why?\n",
    "\n",
    "(c) write a function that computes the roots of a quadratic equation accurately in all cases"
   ]
  },
  {
   "cell_type": "code",
   "execution_count": null,
   "metadata": {},
   "outputs": [],
   "source": [
    "# answer\n",
    "\n",
    "# part a\n",
    "import math\n",
    "\n",
    "a = 0.001\n",
    "b = 1000\n",
    "c = 0.001\n",
    "\n",
    "d = b**2-4*a*c\n",
    "\n",
    "if d < 0:\n",
    "    print(\"This equation has no real solution\")\n",
    "elif d == 0:\n",
    "    x = (-b+math.sqrt(b**2-4*a*c))/2*a\n",
    "    print(\"real and same roots: \"), x\n",
    "else:\n",
    "    x1 = (-b+math.sqrt((b**2)-(4*(a*c))))/(2*a)\n",
    "    x2 = (-b-math.sqrt((b**2)-(4*(a*c))))/(2*a)\n",
    "    print(\"real and different roots: \", x1, \" or\", x2)\n",
    "\n",
    "#========================================================================\n",
    "\n",
    "# part c\n",
    "import math\n",
    "\n",
    "def equation_roots( a, b, c):\n",
    "\n",
    "    d = b * b - 4 * a * c\n",
    "    sq = math.sqrt(abs(d))\n",
    "\n",
    "    if d > 0:\n",
    "        print(\" real and different roots \")\n",
    "        print((-b + sq)/(2 * a))\n",
    "        print((-b - sq)/(2 * a))\n",
    "\n",
    "    elif d == 0:\n",
    "        print(\" real and same roots\")\n",
    "        print(-b / (2 * a))\n",
    "\n",
    "    else:\n",
    "        print(\"Complex Roots\")\n",
    "        print(- b / (2 * a), \" + i\", sq)\n",
    "        print(- b / (2 * a), \" - i\", sq)\n",
    "\n",
    "a = 0.001    # we can change a, b and c to any number\n",
    "b = 1000\n",
    "c = 0.001\n",
    "equation_roots(a, b, c)"
   ]
  },
  {
   "cell_type": "markdown",
   "metadata": {},
   "source": [
    "6\\. Write a program that implements the function $f(x)=x(x−1)$\n",
    "\n",
    "(a) Calculate the derivative of the function at the point $x = 1$ using the derivative definition:\n",
    "\n",
    "$$\n",
    "\\frac{{\\rm d}f}{{\\rm d}x} = \\lim_{\\delta\\to0} \\frac{f(x+\\delta)-f(x)}{\\delta}\n",
    "$$\n",
    "\n",
    "with $\\delta = 10^{−2}$. Calculate the true value of the same derivative analytically and compare it with the answer your program gives. The two will not agree perfectly. Why?\n",
    "\n",
    "(b) Repeat the calculation for $\\delta = 10^{−4}, 10^{−6}, 10^{−8}, 10^{−10}, 10^{−12}$ and $10^{−14}$. How does the accuracy scales with $\\delta$?"
   ]
  },
  {
   "cell_type": "code",
   "execution_count": null,
   "metadata": {},
   "outputs": [],
   "source": [
    "# answer\n",
    "\n",
    "def func_fx(x):\n",
    "    y=x*(x-1)\n",
    "    return y\n",
    "def derivate(delta,x=1,func=func_fx):\n",
    "    d= (func(x + delta)- func(x))/delta\n",
    "    return d\n",
    "\n",
    "\n",
    "print(derivate(10**(-2)))\n",
    "# the value of derivative of f(x) for x=1 is (2x-1)(1)= 1,and when we try to find the result with lim : [(x+delta)(x+delta-1)-x(x-1)]/delta=(1+delta)(delta)-0/delta=1+delta so until delta become smaller the result will be more near to the correct result  \n",
    "\n",
    "print(derivate(10**(-4)))\n",
    "print(derivate(10**(-6)))\n",
    "print(derivate(10**(-8)))\n",
    "print(derivate(10**(-10)))\n",
    "print(derivate(10**(-12)))\n",
    "print(derivate(10**(-14))) \n",
    "    "
   ]
  },
  {
   "cell_type": "markdown",
   "metadata": {},
   "source": [
    "7\\. Consider the integral of the semicircle of radius 1:\n",
    "$$\n",
    "I=\\int_{-1}^{1} \\sqrt(1-x^2) {\\rm d}x\n",
    "$$\n",
    "which is known to be $I=\\frac{\\pi}{2}=1.57079632679...$.\n",
    "\n",
    "Alternatively we can use the Riemann definition of the integral:\n",
    "$$\n",
    "I=\\lim_{N\\to\\infty} \\sum_{k=1}^{N} h y_k \n",
    "$$\n",
    "\n",
    "with $h=2/N$ the width of each of the $N$ slices the domain is divided into and where\n",
    "$y_k$ is the value of the function at the $k-$th slice.\n",
    "\n",
    "(a) Write a program to compute the integral with $N=100$. How does the result compare to the true value?\n",
    "\n",
    "(b) How much can $N$ be increased if the computation needs to be run in less than a second? What is the gain in running it for 1 minute? \n"
   ]
  },
  {
   "cell_type": "code",
   "execution_count": null,
   "metadata": {},
   "outputs": [],
   "source": [
    "# Unfortunately I wasn't able to do this. I will ask my friends about it."
   ]
  }
 ],
 "metadata": {
  "kernelspec": {
   "display_name": "Python 3 (ipykernel)",
   "language": "python",
   "name": "python3"
  },
  "language_info": {
   "codemirror_mode": {
    "name": "ipython",
    "version": 3
   },
   "file_extension": ".py",
   "mimetype": "text/x-python",
   "name": "python",
   "nbconvert_exporter": "python",
   "pygments_lexer": "ipython3",
   "version": "3.9.5"
  }
 },
 "nbformat": 4,
 "nbformat_minor": 2
}
