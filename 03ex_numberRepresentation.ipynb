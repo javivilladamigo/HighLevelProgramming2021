{
 "cells": [
  {
   "cell_type": "markdown",
   "metadata": {},
   "source": [
    "1\\. Write a function that converts numbers among the bin, dec, and hex representations (bin<->dec<->hex)"
   ]
  },
  {
   "cell_type": "code",
   "execution_count": 4,
   "metadata": {},
   "outputs": [
    {
     "name": "stdout",
     "output_type": "stream",
     "text": [
      "Binary 100 : 0b1100100\n",
      "Decimal 0b1100100 : 100\n",
      "Hexadecimal 100 : 0x64\n",
      "Decimal 0x64 : 100\n",
      "Binary 0x64 : 0b1100100\n",
      "Hexadecimal 0b1100100 : 0x64\n"
     ]
    }
   ],
   "source": [
    "def convert_num(a):\n",
    "    \n",
    " \n",
    "    bin1 = bin(a)\n",
    "    print('Binary', a, ':', bin1)\n",
    "    print('Decimal', bin1, ':', int(bin1, 2))\n",
    "    hex1 = hex(a)\n",
    "    print('Hexadecimal', a, ':', hex1)\n",
    "    print('Decimal', hex1, ':', int(hex1, 16))\n",
    "    bin1 = bin(int(hex1, 16))\n",
    "    print('Binary', hex1, ':', bin1)\n",
    "    hex1 = hex(int(bin1, 2))\n",
    "    print('Hexadecimal', bin1, ':', hex1)    \n",
    "x = 100\n",
    "convert_num(x)"
   ]
  },
  {
   "cell_type": "markdown",
   "metadata": {},
   "source": [
    "2\\. Write a function that converts a 32 bit word into a single precision floating point (i.e. interprets the various bits as sign, mantissa and exponent) and check its validity."
   ]
  },
  {
   "cell_type": "code",
   "execution_count": 8,
   "metadata": {},
   "outputs": [
    {
     "name": "stdout",
     "output_type": "stream",
     "text": [
      "conversion of 32 bit word:  0|10000001|00100000000000000000000\n",
      "single precision:  4.5\n"
     ]
    }
   ],
   "source": [
    "def mantissa_calc(mnt_stg): \n",
    "    power1 = -1 \n",
    "    mantissa1 = 0\n",
    "    for i in mnt_stg:\n",
    "        mantissa1 += (int(i) * pow(2, power1))\n",
    "        power1 -= 1 \n",
    "    return (mantissa1 + 1)\n",
    "\n",
    "def conv(word_32bit):\n",
    "    sign = int(word[0])\n",
    "    exp_bias = int(word[2 : 10], 2)\n",
    "    exp_unbias = exp_bias - 127 \n",
    "    mantissa_stg = word[11 : ]\n",
    "    mantissa1 = mantissa_calc(mantissa_stg)\n",
    "    \n",
    "    floating_point = pow(-1, sign) * mantissa1 * pow(2, exp_unbias)\n",
    "    \n",
    "    return floating_point\n",
    "    \n",
    "\n",
    "word = '0|10000001|00100000000000000000000'  \n",
    "\n",
    "result = conversion(word)\n",
    "\n",
    "print(\"conversion of 32 bit word: \", word)\n",
    "print(\"single precision: \", result)"
   ]
  },
  {
   "cell_type": "markdown",
   "metadata": {},
   "source": [
    "3\\. Write a program to determine the underflow and overflow limits (within a factor of 2) for python on your computer. \n",
    "\n",
    "**Tip**: define two variables initialized to 1 and halve/double them for a sufficient amount of times to exceed the under/over-flow limits  "
   ]
  },
  {
   "cell_type": "code",
   "execution_count": 9,
   "metadata": {},
   "outputs": [
    {
     "ename": "KeyboardInterrupt",
     "evalue": "",
     "output_type": "error",
     "traceback": [
      "\u001b[1;31m---------------------------------------------------------------------------\u001b[0m",
      "\u001b[1;31mKeyboardInterrupt\u001b[0m                         Traceback (most recent call last)",
      "\u001b[1;32m<ipython-input-9-c023d6908f5a>\u001b[0m in \u001b[0;36m<module>\u001b[1;34m\u001b[0m\n\u001b[0;32m      8\u001b[0m \u001b[1;32mwhile\u001b[0m\u001b[1;33m(\u001b[0m\u001b[0moflow\u001b[0m \u001b[1;33m!=\u001b[0m \u001b[0mfloat\u001b[0m\u001b[1;33m(\u001b[0m\u001b[1;34m'inf'\u001b[0m\u001b[1;33m)\u001b[0m\u001b[1;33m)\u001b[0m\u001b[1;33m:\u001b[0m\u001b[1;33m\u001b[0m\u001b[1;33m\u001b[0m\u001b[0m\n\u001b[0;32m      9\u001b[0m     \u001b[0mx\u001b[0m \u001b[1;33m=\u001b[0m \u001b[0moflow\u001b[0m\u001b[1;33m\u001b[0m\u001b[1;33m\u001b[0m\u001b[0m\n\u001b[1;32m---> 10\u001b[1;33m     \u001b[0moverflow\u001b[0m \u001b[1;33m=\u001b[0m \u001b[0moflow\u001b[0m \u001b[1;33m*\u001b[0m \u001b[1;36m2\u001b[0m \u001b[1;31m# multiplication of overflow with power of two until reach max\u001b[0m\u001b[1;33m\u001b[0m\u001b[1;33m\u001b[0m\u001b[0m\n\u001b[0m\u001b[0;32m     11\u001b[0m     \u001b[0mcounter_oflow\u001b[0m \u001b[1;33m+=\u001b[0m \u001b[1;36m1\u001b[0m\u001b[1;33m\u001b[0m\u001b[1;33m\u001b[0m\u001b[0m\n\u001b[0;32m     12\u001b[0m \u001b[1;33m\u001b[0m\u001b[0m\n",
      "\u001b[1;31mKeyboardInterrupt\u001b[0m: "
     ]
    }
   ],
   "source": [
    "uflow = 1.0\n",
    "oflow = 1.0\n",
    "\n",
    "counter_oflow = 0;\n",
    "counter_uflow = 0;\n",
    "temp = 0\n",
    "\n",
    "while(oflow != float('inf')):\n",
    "    x = oflow\n",
    "    oflow = oflow * 2 # multiplication of overflow with power of two until reach max\n",
    "    counter_oflow += 1\n",
    "    \n",
    "print(\"Overflow Details:\")\n",
    "print(counter_oflow)\n",
    "print(oflow)\n",
    "print(x)\n",
    "\n",
    "while(underflow != 0):\n",
    "    x = uflow\n",
    "    uflow = uflow / 2# division of underflow with two until reach min\n",
    "    counter_uflow += 1\n",
    "    \n",
    "print(\"Underflow:\")\n",
    "print(counter_uflow)\n",
    "print(uflow)\n",
    "print(x)\n",
    "print(\"-----------------\")"
   ]
  },
  {
   "cell_type": "markdown",
   "metadata": {},
   "source": [
    "4\\. Write a program to determine the machine precision\n",
    "\n",
    "**Tip**: define a new variable by adding an increasingly smaller value (in the same way as the previous problem) and check when the addition starts to have no effect on the number"
   ]
  },
  {
   "cell_type": "code",
   "execution_count": 10,
   "metadata": {},
   "outputs": [
    {
     "name": "stdout",
     "output_type": "stream",
     "text": [
      "Precision = 1.7763568394002505e-15\n"
     ]
    }
   ],
   "source": [
    "n = 200\n",
    "small_value = 1\n",
    "new_var = 20.0\n",
    "flag = True\n",
    "i = 0 \n",
    "\n",
    "while(i in range(n) and flag == True):\n",
    "    x = new_var+small_value\n",
    "    if new_var.hex() == x.hex(): \n",
    "        print(\"Precision =\", small_value)\n",
    "        flag = False\n",
    "    small_value = small_value/2"
   ]
  },
  {
   "cell_type": "markdown",
   "metadata": {},
   "source": [
    "5\\. Write a function that takes in input three parameters $a$, $b$ and $c$ and prints out the two solutions to the quadratic equation $ax^2+bx+c=0$ using the standard formula:\n",
    "$$\n",
    "x=\\frac{-b\\pm\\sqrt{b^2-4ac}}{2a}\n",
    "$$\n",
    "\n",
    "(a) use the program to compute the solution for $a=0.001$, $b=1000$ and $c=0.001$\n",
    "\n",
    "(b) re-express the standard solution formula by multiplying the numerator and the denominator by $-b\\mp\\sqrt{b^2-4ac}$ and again find the solution for $a=0.001$, $b=1000$ and $c=0.001$. How does it compare with what has been previously obtained, and why?\n",
    "\n",
    "(c) write a function that computes the roots of a quadratic equation accurately in all cases"
   ]
  },
  {
   "cell_type": "code",
   "execution_count": 14,
   "metadata": {},
   "outputs": [
    {
     "name": "stdout",
     "output_type": "stream",
     "text": [
      "A:  (-9.999894245993346e-07, -999999.999999)\n",
      "A:  (-9.999894245993346e-07, -999999.999999)\n",
      "B:  (-1000010.5755125057, -1.000000000001e-06)\n",
      "C:  (-1.000000000001e-06, -999999.999999)\n"
     ]
    }
   ],
   "source": [
    "a = 0.001\n",
    "b = 1000\n",
    "c = 0.001\n",
    "# Qa\n",
    "def quadratic_form1(a, b, c):\n",
    "    sqrt_var = (b**2 - 4*a*c)**(1/2)\n",
    "    x1 = (-b + sqrt_var)/(2*a)\n",
    "    x2 = (-b - sqrt_var)/(2*a)\n",
    "    return x1, x2\n",
    "\n",
    "\n",
    "x1, x2 = quadratic_form1(a, b, c)\n",
    "print(\"A: \", (x1, x2))\n",
    "# when b is very larger in comparison to a,c this problem can happen -> problem with negative root\n",
    "\n",
    "# Qb\n",
    "def quadratic_form2(a, b, c):\n",
    "    sqrt_var = (b**2 - 4*a*c)**(1/2)\n",
    "    res = -b + sqrt_var\n",
    "    res2 = -b - sqrt_var\n",
    "\n",
    "    # after multiplication mentioned in question\n",
    "    x1 = 2*c/res\n",
    "    x2 = 2*c/res2\n",
    "    return x1, x2\n",
    "\n",
    "# Qc\n",
    "def quadratic_form3(a, b, c):\n",
    "    sqrt_var = (b**2 - 4*a*c)**(1/2)\n",
    "    res = -b - sqrt_var\n",
    "\n",
    "    x1 = 2*c/res\n",
    "    x2 = (-b - sqrt_var)/(2*a)\n",
    "    return x1, x2\n",
    "\n",
    "x1, x2 = quadratic_form1(a, b, c)\n",
    "print(\"A: \", (x1, x2))\n",
    "#  negative root problem\n",
    "\n",
    "x1, x2 = quadratic_form2(0.001, 1000, 0.001)\n",
    "print(\"B: \", (x1, x2))\n",
    "# positive root problem\n",
    "\n",
    "x1, x2 = quadratic_form3(0.001, 1000, 0.001)\n",
    "print(\"C: \", (x1, x2))\n",
    "# using method in A and B with each other to solve the problem"
   ]
  },
  {
   "cell_type": "markdown",
   "metadata": {},
   "source": [
    "6\\. Write a program that implements the function $f(x)=x(x−1)$\n",
    "\n",
    "(a) Calculate the derivative of the function at the point $x = 1$ using the derivative definition:\n",
    "\n",
    "$$\n",
    "\\frac{{\\rm d}f}{{\\rm d}x} = \\lim_{\\delta\\to0} \\frac{f(x+\\delta)-f(x)}{\\delta}\n",
    "$$\n",
    "\n",
    "with $\\delta = 10^{−2}$. Calculate the true value of the same derivative analytically and compare it with the answer your program gives. The two will not agree perfectly. Why?\n",
    "\n",
    "(b) Repeat the calculation for $\\delta = 10^{−4}, 10^{−6}, 10^{−8}, 10^{−10}, 10^{−12}$ and $10^{−14}$. How does the accuracy scales with $\\delta$?"
   ]
  },
  {
   "cell_type": "code",
   "execution_count": 15,
   "metadata": {},
   "outputs": [
    {
     "name": "stdout",
     "output_type": "stream",
     "text": [
      "1 0.01 1.010000000000001\n"
     ]
    }
   ],
   "source": [
    "# Qa\n",
    "def f(x):\n",
    "    return x*(x-1)\n",
    "\n",
    "def derivative(x, delta):\n",
    "    return (f(x+delta) - f(x))/delta\n",
    "\n",
    "x = 1 \n",
    "delta = 10**(-2)\n",
    "print(x, delta, derivative(x, delta))"
   ]
  },
  {
   "cell_type": "code",
   "execution_count": 17,
   "metadata": {},
   "outputs": [
    {
     "name": "stdout",
     "output_type": "stream",
     "text": [
      "for delta=10**- 2  result is: 1.010000000000001\n",
      "for delta=10**- 4  result is: 1.0000999999998899\n",
      "for delta=10**- 6  result is: 1.0000009999177333\n",
      "for delta=10**- 8  result is: 1.0000000039225287\n",
      "for delta=10**- 10  result is: 1.000000082840371\n",
      "for delta=10**- 12  result is: 1.0000889005833413\n",
      "for delta=10**- 14  result is: 0.9992007221626509\n"
     ]
    }
   ],
   "source": [
    "for i in range(1,16):\n",
    "    if i%2 == 0:\n",
    "        print(\"for delta=10**-\",i, \" result is:\",derivative(1, 10**(-i)))"
   ]
  },
  {
   "cell_type": "markdown",
   "metadata": {},
   "source": [
    "because of low precision of machine the derivative=1 can not be obtained.\n",
    "decreasing delta to (2 pow -4 , -6) make the derivative better and -8 has the best result but for greater delta derivative is further from 1"
   ]
  },
  {
   "cell_type": "markdown",
   "metadata": {},
   "source": [
    "7\\. Consider the integral of the semicircle of radius 1:\n",
    "$$\n",
    "I=\\int_{-1}^{1} \\sqrt(1-x^2) {\\rm d}x\n",
    "$$\n",
    "which is known to be $I=\\frac{\\pi}{2}=1.57079632679...$.\n",
    "\n",
    "Alternatively we can use the Riemann definition of the integral:\n",
    "$$\n",
    "I=\\lim_{N\\to\\infty} \\sum_{k=1}^{N} h y_k \n",
    "$$\n",
    "\n",
    "with $h=2/N$ the width of each of the $N$ slices the domain is divided into and where\n",
    "$y_k$ is the value of the function at the $k-$th slice.\n",
    "\n",
    "(a) Write a program to compute the integral with $N=100$. How does the result compare to the true value?\n",
    "\n",
    "(b) How much can $N$ be increased if the computation needs to be run in less than a second? What is the gain in running it for 1 minute? \n"
   ]
  },
  {
   "cell_type": "code",
   "execution_count": null,
   "metadata": {},
   "outputs": [
    {
     "name": "stdout",
     "output_type": "stream",
     "text": [
      "for N=100 result: 1.5602085158895234 , true pi is: 1.5707963267948966\n",
      "total time is: 0.0010385513305664062\n",
      "for approx. 1s result: 1.5707960031669508 , true pi is: 1.5707963267948966\n",
      "time: 0.9909093000005669 s\n",
      "N: 3091000\n"
     ]
    }
   ],
   "source": [
    "import time\n",
    "import math\n",
    "from math import sqrt\n",
    "\n",
    "realPi=math.pi/2\n",
    "\n",
    "def riemann(N):\n",
    "    h=2/N\n",
    "    sum1=0\n",
    "    for i in range(1,N+1):\n",
    "        sum1+=h*math.sqrt(1-(i/N)**2)\n",
    "    return sum1\n",
    "\n",
    "start= time.time()\n",
    "print(\"for N=100 result:\", riemann(100),\", true pi is:\",realPi)\n",
    "finish= time.time()\n",
    "total = finish-start\n",
    "print(\"total time is:\", total)\n",
    "\n",
    "# 1s\n",
    "N=1000\n",
    "start= 0\n",
    "finish= 0\n",
    "total = 0\n",
    "result = 0\n",
    "\n",
    "N = 3091000 \n",
    "start= time.perf_counter()\n",
    "result = riemann(N)\n",
    "finish=time.perf_counter()\n",
    "total = finish-start\n",
    "print(\"for approx. 1s result:\", result,\", true pi is:\",realPi)    \n",
    "print(\"time:\",total,\"s\")\n",
    "print(\"N:\",N)\n",
    "\n",
    "#for 60 sec\n",
    "N=N*60\n",
    "start= time.perf_counter()\n",
    "result = riemann(N)\n",
    "finish=time.perf_counter()\n",
    "total = finish-start\n",
    "print(\"for approx. 60s result:\", result,\", true pi is:\",realPi)    \n",
    "print(\"time:\",total,\"s\")\n",
    "\n",
    "print(\"We can see that for 60s we get near to real pi value\")"
   ]
  },
  {
   "cell_type": "code",
   "execution_count": null,
   "metadata": {},
   "outputs": [],
   "source": []
  }
 ],
 "metadata": {
  "kernelspec": {
   "display_name": "Python 3",
   "language": "python",
   "name": "python3"
  },
  "language_info": {
   "codemirror_mode": {
    "name": "ipython",
    "version": 3
   },
   "file_extension": ".py",
   "mimetype": "text/x-python",
   "name": "python",
   "nbconvert_exporter": "python",
   "pygments_lexer": "ipython3",
   "version": "3.8.8"
  }
 },
 "nbformat": 4,
 "nbformat_minor": 2
}
