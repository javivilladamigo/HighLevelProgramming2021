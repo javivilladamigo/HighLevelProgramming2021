{
 "cells": [
  {
   "cell_type": "markdown",
   "metadata": {},
   "source": [
    "1\\. Write a function that converts numbers among the bin, dec, and hex representations (bin<->dec<->hex)"
   ]
  },
  {
   "cell_type": "code",
   "execution_count": 11,
   "metadata": {},
   "outputs": [
    {
     "name": "stdout",
     "output_type": "stream",
     "text": [
      "Enter a number: 0x3232fd2f3d\n",
      "0x3232fd2f3d  is in Hexadecimal representation \n",
      "Decimal representation of 0x3232fd2f3d : 215603818301\n",
      "Binary representation of 0x3232fd2f3d : 0b11001000110010111111010010111100111101\n"
     ]
    }
   ],
   "source": [
    "def convertor_fun(n):\n",
    "    if str(n)[1] == 'b':                  # n is binary format\n",
    "        print(n , ' is in Binary representation ')\n",
    "        print('Decimal representation of', n, ':', int(n, 2))\n",
    "        print('Hexadecimal representation of', n, ':', hex(int(n, 2))) \n",
    "        \n",
    "    elif str(n)[1] == 'x':                # n is in hex format\n",
    "        print(n , ' is in Hexadecimal representation ')\n",
    "        print('Decimal representation of', n, ':', int(n, 16))\n",
    "        print('Binary representation of', n, ':', bin(int(n, 16)))\n",
    "        \n",
    "    else:                                 # n is in decimal format\n",
    "        print(n , ' is in Decimal representation ')\n",
    "        print('Hexadecimal representation of', n, ':', hex(int(n)))\n",
    "        print('Binary representation of', n, ':', bin(int(n)))\n",
    "    \n",
    "    \n",
    "    \n",
    "    \n",
    "\n",
    "    \n",
    "convertor_fun(input(\"Enter a number: \"))"
   ]
  },
  {
   "cell_type": "markdown",
   "metadata": {},
   "source": [
    "2\\. Write a function that converts a 32 bit word into a single precision floating point (i.e. interprets the various bits as sign, mantissa and exponent) and check its validity."
   ]
  },
  {
   "cell_type": "code",
   "execution_count": 6,
   "metadata": {},
   "outputs": [
    {
     "name": "stdout",
     "output_type": "stream",
     "text": [
      "You must enter 32 bits (1/0). The leftmost bit will be considered as a sign. If you enter less, zero will be added from the right to reach 32 bits, and if you enter more, the first 32 bits from the left will be used.\n",
      "\n",
      "For evaluating the result the online calculator at https://www.h-schmidt.net/FloatConverter/IEEE754.html was used.\n",
      "\n",
      "\n",
      "Enter 32 bit words: 11000000101100000000000000000000\n",
      "\n",
      "The 32 bit word used for calculation is:  11000000101100000000000000000000\n",
      "\n",
      "sign:  1\n",
      "exponent:  129\n",
      "mantissa:  0.375\n",
      "\n",
      "\n",
      "The calculated floating number is:  -5.5\n"
     ]
    }
   ],
   "source": [
    "\n",
    "def m_cal(m):\n",
    "    f = 0.0\n",
    "    for i in range(23):\n",
    "        f = f + int(m[i] , 2) * 0.5**(i+1)\n",
    "    return f\n",
    "\n",
    "\n",
    "\n",
    "\n",
    "print(\"You must enter 32 bits (1/0). The leftmost bit will be considered as a sign. \" + \n",
    "      \"If you enter less, zero will be added from the right to reach 32 bits, \" + \n",
    "      \"and if you enter more, the first 32 bits from the left will be used.\")\n",
    "\n",
    "print(\"\\nFor evaluating the result the online calculator at https://www.h-schmidt.net/FloatConverter/IEEE754.html was used.\")\n",
    "\n",
    "w32 = input (\"\\n\\nEnter 32 bit words: \")\n",
    "\n",
    "\n",
    "if len(w32) > 32:\n",
    "    print(\"You enter more than 32 bits. Extra bits will be dropped.\")\n",
    "    w32 = w32[0:32]\n",
    "elif len(w32) < 32:\n",
    "    w32 = w32 + \"0\"*(32-len(w32))\n",
    "    \n",
    "print (\"\\nThe 32 bit word used for calculation is: \" , w32)\n",
    "    \n",
    "f_sign = int (w32[0] , 2)\n",
    "f_exponent = int (w32[1:9] , 2)\n",
    "f_mantissa = m_cal (w32[9:])\n",
    "\n",
    "\n",
    "print(\"\\nsign: \", f_sign)\n",
    "print(\"exponent: \", f_exponent)\n",
    "print(\"mantissa: \", f_mantissa)\n",
    "\n",
    "if (f_sign == 0) and (f_exponent == 255) and (f_mantissa == 0):\n",
    "    print(\"+INF\")\n",
    "elif (f_sign == 1) and (f_exponent == 255) and (f_mantissa == 0):\n",
    "    print(\"-INF\")\n",
    "elif (f_exponent == 255) and (f_mantissa == 1):\n",
    "    print(\"NaN\")\n",
    "else:\n",
    "    n_float = (-1)**(f_sign) * (1 + f_mantissa) * 2 ** (f_exponent - 127)\n",
    "    \n",
    "print(\"\\n\\nThe calculated floating number is: \", n_float)\n",
    "\n"
   ]
  },
  {
   "cell_type": "markdown",
   "metadata": {},
   "source": [
    "3\\. Write a program to determine the underflow and overflow limits (within a factor of 2) for python on your computer. \n",
    "\n",
    "**Tip**: define two variables initialized to 1 and halve/double them for a sufficient amount of times to exceed the under/over-flow limits  "
   ]
  },
  {
   "cell_type": "code",
   "execution_count": 7,
   "metadata": {},
   "outputs": [
    {
     "name": "stdout",
     "output_type": "stream",
     "text": [
      "Underflow:  5e-324\n",
      "Overflow;  8.98846567431158e+307\n"
     ]
    }
   ],
   "source": [
    "import math\n",
    "\n",
    "underflow = 1.0\n",
    "overflow = 1.0\n",
    "\n",
    "\n",
    "while ((underflow / 2) != 0):\n",
    "    underflow = underflow / 2\n",
    "\n",
    "\n",
    "while ((overflow * 2) != math.inf):\n",
    "    overflow = overflow * 2\n",
    "\n",
    "\n",
    "print(\"Underflow: \" , underflow)\n",
    "print(\"Overflow; \" , overflow)\n",
    "\n"
   ]
  },
  {
   "cell_type": "markdown",
   "metadata": {},
   "source": [
    "4\\. Write a program to determine the machine precision\n",
    "\n",
    "**Tip**: define a new variable by adding an increasingly smaller value (in the same way as the previous problem) and check when the addition starts to have no effect on the number"
   ]
  },
  {
   "cell_type": "code",
   "execution_count": 9,
   "metadata": {},
   "outputs": [
    {
     "name": "stdout",
     "output_type": "stream",
     "text": [
      "Machine precision;  1.1102230246251565e-16\n"
     ]
    }
   ],
   "source": [
    "precision = 1.0\n",
    "\n",
    "while ((1 + precision) != 1):\n",
    "    p_precision = precision\n",
    "    precision /= 2\n",
    "\n",
    "\n",
    "print(\"Machine precision: \" , precision)\n"
   ]
  },
  {
   "cell_type": "markdown",
   "metadata": {},
   "source": [
    "5\\. Write a function that takes in input three parameters $a$, $b$ and $c$ and prints out the two solutions to the quadratic equation $ax^2+bx+c=0$ using the standard formula:\n",
    "$$\n",
    "x=\\frac{-b\\pm\\sqrt{b^2-4ac}}{2a}\n",
    "$$\n",
    "\n",
    "(a) use the program to compute the solution for $a=0.001$, $b=1000$ and $c=0.001$\n",
    "\n",
    "(b) re-express the standard solution formula by multiplying the numerator and the denominator by $-b\\mp\\sqrt{b^2-4ac}$ and again find the solution for $a=0.001$, $b=1000$ and $c=0.001$. How does it compare with what has been previously obtained, and why?\n",
    "\n",
    "(c) write a function that computes the roots of a quadratic equation accurately in all cases"
   ]
  },
  {
   "cell_type": "code",
   "execution_count": 11,
   "metadata": {},
   "outputs": [
    {
     "name": "stdout",
     "output_type": "stream",
     "text": [
      "a , b & c are coefficent in : aX^2 + bX + c = 0\n",
      "Enter a: 0.001\n",
      "Enter b: 1000\n",
      "Enter c: 0.001\n",
      "The result by standard solution formula is:  [-999999.999999, -9.999894245993346e-07]\n"
     ]
    }
   ],
   "source": [
    "from math import sqrt\n",
    "\n",
    "def solver(a,b,c):\n",
    "    delta = b**2 - 4*a*c\n",
    "    num1 = -b - sqrt(delta)\n",
    "    num2 = -b + sqrt(delta)\n",
    "    denum = 2 * a\n",
    "    x = [num1 / denum , num2 / denum]\n",
    "    return x\n",
    "\n",
    "\n",
    "print(\"a , b & c are coefficent in : aX^2 + bX + c = 0\")\n",
    "a = float(input(\"Enter a: \"))\n",
    "b = float(input(\"Enter b: \"))\n",
    "c = float(input(\"Enter c: \"))\n",
    "\n",
    "result = solver(a , b , c)\n",
    "\n",
    "\n",
    "print(\"The result by standard solution formula is: \" , result)"
   ]
  },
  {
   "cell_type": "code",
   "execution_count": 14,
   "metadata": {
    "scrolled": true
   },
   "outputs": [
    {
     "name": "stdout",
     "output_type": "stream",
     "text": [
      "a , b & c are coefficent in : aX^2 + bX + c = 0\n",
      "Enter a: 0.001\n",
      "Enter b: 1000\n",
      "Enter c: 0.001\n",
      "The result by re-expressed standard solution formula is:  [-1000010.5755125057, -1.000000000001e-06]\n"
     ]
    }
   ],
   "source": [
    "from math import sqrt\n",
    "\n",
    "def solver_new(a,b,c):\n",
    "    delta = b**2 - 4 * a * c\n",
    "    denum1 = -b + sqrt(delta)\n",
    "    denum2 = -b - sqrt(delta)\n",
    "    num = 2 * c\n",
    "    x = [num / denum1 , num / denum2]\n",
    "    return x\n",
    "\n",
    "print(\"a , b & c are coefficent in : aX^2 + bX + c = 0\")\n",
    "a = float(input(\"Enter a: \"))\n",
    "b = float(input(\"Enter b: \"))\n",
    "c = float(input(\"Enter c: \"))\n",
    "\n",
    "\n",
    "result_new = solver_new(a , b , c)\n",
    "\n",
    "print(\"The result by re-expressed standard solution formula is: \" , result_new)\n"
   ]
  },
  {
   "cell_type": "markdown",
   "metadata": {},
   "source": [
    "The result of the two functions is not equal exactly. Since 4ac is negligible in comparison to b^2, the sqrt(b^2 - 4ac) is nearly equal to b.\n",
    "Subtracting these two nearly equal numbers made a rounding error. It means the first solution calculates the larger root more precisely. Note that meaning of \"subtracting\" is depend of the sign of \"b\". \n",
    "The second one calculates the smaller more precisely. So for all cases, an accurate solution is using both of them."
   ]
  },
  {
   "cell_type": "code",
   "execution_count": 15,
   "metadata": {},
   "outputs": [
    {
     "name": "stdout",
     "output_type": "stream",
     "text": [
      "a , b & c are coefficent in : aX^2 + bX + c = 0\n",
      "Enter a: 0.001\n",
      "Enter b: 1000\n",
      "Enter c: 0.001\n",
      "The result by accurate solution formula is:  [-999999.999999, -1.000000000001e-06]\n"
     ]
    }
   ],
   "source": [
    "from math import sqrt\n",
    "\n",
    "\n",
    "def solver_accurate(a,b,c):\n",
    "    h1 = -b + sqrt(b**2 - 4 * a * c)\n",
    "    h2 = -b - sqrt(b**2 - 4 * a * c)\n",
    "    if b < 0:\n",
    "        x = [h1/(2 * a) , (2 * c)/h1]\n",
    "    elif b >= 0:\n",
    "        x = [h2/(2 * a) , (2 * c)/h2]\n",
    "    return x\n",
    "\n",
    "\n",
    "print(\"a , b & c are coefficent in : aX^2 + bX + c = 0\")\n",
    "a = float(input(\"Enter a: \"))\n",
    "b = float(input(\"Enter b: \"))\n",
    "c = float(input(\"Enter c: \"))\n",
    "\n",
    "result = solver_accurate(a , b , c)\n",
    "\n",
    "print(\"The result by accurate solution formula is: \" , result)"
   ]
  },
  {
   "cell_type": "markdown",
   "metadata": {},
   "source": [
    "6\\. Write a program that implements the function $f(x)=x(x−1)$\n",
    "\n",
    "(a) Calculate the derivative of the function at the point $x = 1$ using the derivative definition:\n",
    "\n",
    "$$\n",
    "\\frac{{\\rm d}f}{{\\rm d}x} = \\lim_{\\delta\\to0} \\frac{f(x+\\delta)-f(x)}{\\delta}\n",
    "$$\n",
    "\n",
    "with $\\delta = 10^{−2}$. Calculate the true value of the same derivative analytically and compare it with the answer your program gives. The two will not agree perfectly. Why?\n",
    "\n",
    "(b) Repeat the calculation for $\\delta = 10^{−4}, 10^{−6}, 10^{−8}, 10^{−10}, 10^{−12}$ and $10^{−14}$. How does the accuracy scales with $\\delta$?"
   ]
  },
  {
   "cell_type": "code",
   "execution_count": 17,
   "metadata": {},
   "outputs": [
    {
     "name": "stdout",
     "output_type": "stream",
     "text": [
      "Derivative at x = 1 with sigma = 0.01 is 1.010000000000001\n"
     ]
    }
   ],
   "source": [
    "def func(x):\n",
    "    return x * (x - 1)\n",
    "\n",
    "\n",
    "def derivative(x,sigma):\n",
    "    return (func(x + sigma) - func(x)) / sigma\n",
    "\n",
    "\n",
    "\n",
    "sigma = 10 ** -2\n",
    "x = 1\n",
    "print(\"Derivative at x = {} with sigma = {} is {}\".format(x ,sigma , derivative(x , sigma)))"
   ]
  },
  {
   "cell_type": "markdown",
   "metadata": {},
   "source": [
    "f(x) = x^2 - x   ==> df(x)/dx = 2x -1 ==> @x=1 df/dx = 1\n",
    "\n",
    "The calculated result is different from the real one. This is because of subtracting two nearly equal values f(x+sigma) and f(x)."
   ]
  },
  {
   "cell_type": "code",
   "execution_count": 36,
   "metadata": {},
   "outputs": [
    {
     "name": "stdout",
     "output_type": "stream",
     "text": [
      "Sigma\tDerivative\t\tError\n",
      "0.01\t1.010000000000001\t-0.010000000000000897\n",
      "0.0001\t1.0000999999998899\t-9.999999988985486e-05\n",
      "1e-06\t1.0000009999177333\t-9.99917733279787e-07\n",
      "1e-08\t1.0000000039225287\t-3.922528746258536e-09\n",
      "1e-10\t1.000000082840371\t-8.284037100736441e-08\n",
      "1e-12\t1.0000889005833413\t-8.890058334132256e-05\n",
      "1e-14\t0.9992007221626509\t0.0007992778373491216\n"
     ]
    }
   ],
   "source": [
    "sigma = [10**-p for p in range(2,15) if p % 2 ==0]\n",
    "der = [derivative(x , s) for s in sigma]\n",
    "err = [(1 - d) for d in der]\n",
    "\n",
    "print( \"Sigma\\tDerivative\\t\\tError\")\n",
    "for s , d , e in zip(sigma, der , err): print(s,d,e,sep = \"\\t\")\n"
   ]
  },
  {
   "cell_type": "markdown",
   "metadata": {},
   "source": [
    "It is obvious that error decreased by decreasing the sigma to 1e-8 and after that increased again by decreasing the sigma.\n",
    "This means that, based on the precision of the machine, it should be an optimum sigma for the numerical calculation of the given derivative."
   ]
  },
  {
   "cell_type": "markdown",
   "metadata": {},
   "source": [
    "7\\. Consider the integral of the semicircle of radius 1:\n",
    "$$\n",
    "I=\\int_{-1}^{1} \\sqrt(1-x^2) {\\rm d}x\n",
    "$$\n",
    "which is known to be $I=\\frac{\\pi}{2}=1.57079632679...$.\n",
    "\n",
    "Alternatively we can use the Riemann definition of the integral:\n",
    "$$\n",
    "I=\\lim_{N\\to\\infty} \\sum_{k=1}^{N} h y_k \n",
    "$$\n",
    "\n",
    "with $h=2/N$ the width of each of the $N$ slices the domain is divided into and where\n",
    "$y_k$ is the value of the function at the $k-$th slice.\n",
    "\n",
    "(a) Write a program to compute the integral with $N=100$. How does the result compare to the true value?\n",
    "\n",
    "(b) How much can $N$ be increased if the computation needs to be run in less than a second? What is the gain in running it for 1 minute? \n"
   ]
  },
  {
   "cell_type": "code",
   "execution_count": 10,
   "metadata": {},
   "outputs": [
    {
     "name": "stdout",
     "output_type": "stream",
     "text": [
      "The integral =  1.5691342555492505\n",
      "The true value for integral is  1.5707963267948966\n",
      "The error is  -0.0016620712456461018\n",
      "157 µs ± 5.82 µs per loop (mean ± std. dev. of 7 runs, 1 loop each)\n"
     ]
    }
   ],
   "source": [
    "from math import sqrt , pi\n",
    "\n",
    "def func(x):\n",
    "    return sqrt(1 - x**2)\n",
    "\n",
    "def integral(d , n):\n",
    "    h = (d[1] - d[0]) / n            #domain = [-1,1] ==> h = 2/n\n",
    "    I = 0\n",
    "    for k in range(n):\n",
    "        I = I + h * func(d[0] + k * h)       #k-th slice = domain[0] + k * h\n",
    "    return I\n",
    "\n",
    "\n",
    "domain = [-1 , 1]\n",
    "n = 100\n",
    "result = integral(domain , n)\n",
    "print(\"The integral = \" , result)\n",
    "print(\"The true value for integral is \" , pi / 2)\n",
    "print(\"The error is \" , result - pi / 2)\n",
    "\n",
    "%timeit -n 1 integral(domain , n)\n",
    "        \n",
    "  "
   ]
  },
  {
   "cell_type": "markdown",
   "metadata": {},
   "source": [
    "It takes about 100 microseconds to run. So starting from 1000000 for finding the value of n for running in less than a second."
   ]
  },
  {
   "cell_type": "code",
   "execution_count": 3,
   "metadata": {},
   "outputs": [
    {
     "name": "stdout",
     "output_type": "stream",
     "text": [
      "for n = 1240000 the time is 0.9282989999999955 \n",
      "The result is 1.5707963255902802 and the error is -1.2046164066248366e-09\n"
     ]
    }
   ],
   "source": [
    "import timeit\n",
    "\n",
    "\n",
    "t = timeit.Timer(lambda: integral(domain , n)) \n",
    "\n",
    "n = 1000000\n",
    "while (t.timeit(1) <= 1):\n",
    "    n = n + 10000\n",
    "\n",
    "print (\"for n = {} the time is {} \".format(n , t.timeit(1)))\n",
    "result = integral(domain , n)\n",
    "print (\"The result is {} and the error is {}\".format(result , result - pi / 2))\n"
   ]
  },
  {
   "cell_type": "markdown",
   "metadata": {},
   "source": [
    "For 1 minutes running n = 100000000"
   ]
  },
  {
   "cell_type": "code",
   "execution_count": 11,
   "metadata": {
    "scrolled": true
   },
   "outputs": [
    {
     "name": "stdout",
     "output_type": "stream",
     "text": [
      "for n = 100000000 the time is 77.05583620000016 \n",
      "The result is 1.570796326793284 and the error is -1.6124879209655774e-12\n"
     ]
    }
   ],
   "source": [
    "n = 100000000\n",
    "print (\"for n = {} the time is {} \".format(n , t.timeit(1)))\n",
    "result = integral(domain , n)\n",
    "print (\"The result is {} and the error is {}\".format(result , result - pi / 2))\n"
   ]
  },
  {
   "cell_type": "markdown",
   "metadata": {},
   "source": [
    "Although the execution time has increased almost 70 times, the error rate has decreased by about one thousandth."
   ]
  }
 ],
 "metadata": {
  "kernelspec": {
   "display_name": "Python 3",
   "language": "python",
   "name": "python3"
  },
  "language_info": {
   "codemirror_mode": {
    "name": "ipython",
    "version": 3
   },
   "file_extension": ".py",
   "mimetype": "text/x-python",
   "name": "python",
   "nbconvert_exporter": "python",
   "pygments_lexer": "ipython3",
   "version": "3.8.8"
  }
 },
 "nbformat": 4,
 "nbformat_minor": 2
}
