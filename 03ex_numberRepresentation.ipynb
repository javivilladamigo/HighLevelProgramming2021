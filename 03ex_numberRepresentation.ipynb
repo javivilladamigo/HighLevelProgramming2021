{
 "cells": [
  {
   "cell_type": "markdown",
   "metadata": {},
   "source": [
    "1\\. Write a function that converts numbers among the bin, dec, and hex representations (bin<->dec<->hex)"
   ]
  },
  {
   "cell_type": "code",
   "execution_count": 51,
   "metadata": {
    "scrolled": true
   },
   "outputs": [
    {
     "name": "stdout",
     "output_type": "stream",
     "text": [
      "dec = 4 -> bin =  0b100\n",
      "dec = 15 -> hex =  0xf\n",
      "bin = 0b10 -> dec =  2\n",
      "bin = 0b11 -> hex =  0x3\n",
      "hex = 0x4 -> bin =  0b100\n",
      "hex = 0xf -> dec =  15\n"
     ]
    }
   ],
   "source": [
    "def converter(name, value):\n",
    "    if(name == \"decbin\"):\n",
    "        return bin(value)\n",
    "    if(name == \"dechex\"):\n",
    "        return hex(value)\n",
    "    if(name == \"bindec\"): \n",
    "        return int(str(value), 2)\n",
    "    if(name == \"binhex\"):\n",
    "        return converter(\"dechex\", converter(\"bindec\", value))\n",
    "    if(name == \"hexbin\"): \n",
    "        return converter(\"decbin\", converter(\"hexdec\", value))\n",
    "    if(name == \"hexdec\"):\n",
    "        return int(str(value), 16)\n",
    "\n",
    "print(\"dec = 4 -> bin = \", converter(\"decbin\", 4))\n",
    "print(\"dec = 15 -> hex = \", converter(\"dechex\", 15))\n",
    "print(\"bin = 0b10 -> dec = \", converter(\"bindec\", 10))\n",
    "print(\"bin = 0b11 -> hex = \", converter(\"binhex\", 11))\n",
    "print(\"hex = 0x4 -> bin = \", converter(\"hexbin\", \"0x4\"))\n",
    "print(\"hex = 0xf -> dec = \", converter(\"hexdec\", \"0xf\"))"
   ]
  },
  {
   "cell_type": "markdown",
   "metadata": {},
   "source": [
    "2\\. Write a function that converts a 32 bit word into a single precision floating point (i.e. interprets the various bits as sign, mantissa and exponent) and check its validity."
   ]
  },
  {
   "cell_type": "code",
   "execution_count": 232,
   "metadata": {},
   "outputs": [
    {
     "name": "stdout",
     "output_type": "stream",
     "text": [
      "word: 10110000100110010000010000000000\n",
      "sign: 1\n",
      "exponent: -30\n",
      "mantissa: 00110010000010000000000\n",
      "float: -1.1133352018077858e-09\n",
      "\n",
      "word: 00010011011000000000000000000000\n",
      "sign: 0\n",
      "exponent: -89\n",
      "mantissa: 11000000000000000000000\n",
      "float: 2.8272774843121063e-27\n"
     ]
    }
   ],
   "source": [
    "def to_float(word):\n",
    "    word = str(word)\n",
    "    if(len(word) != 32):\n",
    "        print(\"length is more than 32 bits\")\n",
    "        return False\n",
    "    \n",
    "    word_sign = word[0]\n",
    "    word_exponent = word[1:9]\n",
    "    word_mantissa = word[9:]\n",
    "    \n",
    "    word_sign = int(word_sign,2)\n",
    "    word_exponent = int(word_exponent,2) - 127 \n",
    "    \n",
    "    dmant = 1\n",
    "    for i in range(0,len(word_mantissa)):\n",
    "        dmant += 2**(-(i+1))*int(word_mantissa[i],2) \n",
    "    \n",
    "    print(\"sign:\", word_sign)\n",
    "    print(\"exponent:\", word_exponent)\n",
    "    print(\"mantissa:\", word_mantissa)\n",
    "    \n",
    "    return (-1)**word_sign * (dmant*2**word_exponent)\n",
    "\n",
    "print(\"word: 10110000100110010000010000000000\")\n",
    "print(\"float: \" + str(to_float(\"10110000100110010000010000000000\")))\n",
    "\n",
    "print()\n",
    "\n",
    "print(\"word: 00010011011000000000000000000000\")\n",
    "print(\"float: \" + str(to_float(\"00010011011000000000000000000000\")))\n"
   ]
  },
  {
   "cell_type": "markdown",
   "metadata": {},
   "source": [
    "3\\. Write a program to determine the underflow and overflow limits (within a factor of 2) for python on your computer. \n",
    "\n",
    "**Tip**: define two variables initialized to 1 and halve/double them for a sufficient amount of times to exceed the under/over-flow limits  "
   ]
  },
  {
   "cell_type": "code",
   "execution_count": 92,
   "metadata": {},
   "outputs": [
    {
     "name": "stdout",
     "output_type": "stream",
     "text": [
      "Overflow limit: 8.98846567431158e+307\n",
      "Underflow limit: 5e-324\n"
     ]
    }
   ],
   "source": [
    "import math\n",
    "x = 1.0\n",
    "while True:\n",
    "    result = x * 2\n",
    "    if math.isinf(result):\n",
    "        break\n",
    "    x = result\n",
    "print(\"Overflow limit:\",x)\n",
    "\n",
    "x = 1.0\n",
    "while True:\n",
    "    result = x / 2\n",
    "    if result.hex() == zero.hex():\n",
    "        break\n",
    "    x = result\n",
    "print(\"Underflow limit:\",x)"
   ]
  },
  {
   "cell_type": "markdown",
   "metadata": {},
   "source": [
    "4\\. Write a program to determine the machine precision\n",
    "\n",
    "**Tip**: define a new variable by adding an increasingly smaller value (in the same way as the previous problem) and check when the addition starts to have no effect on the number"
   ]
  },
  {
   "cell_type": "code",
   "execution_count": 101,
   "metadata": {},
   "outputs": [
    {
     "name": "stdout",
     "output_type": "stream",
     "text": [
      "Max 16 numbers after decimal point\n"
     ]
    }
   ],
   "source": [
    "i = 1\n",
    "result = 1.0\n",
    "while True:\n",
    "    backup = result\n",
    "    result = result + pow(10,-i)\n",
    "    if(backup == result):\n",
    "        break\n",
    "    i += 1\n",
    "print(\"Max\", i, \"numbers after decimal point\")"
   ]
  },
  {
   "cell_type": "markdown",
   "metadata": {},
   "source": [
    "5\\. Write a function that takes in input three parameters $a$, $b$ and $c$ and prints out the two solutions to the quadratic equation $ax^2+bx+c=0$ using the standard formula:\n",
    "$$\n",
    "x=\\frac{-b\\pm\\sqrt{b^2-4ac}}{2a}\n",
    "$$\n",
    "\n",
    "(a) use the program to compute the solution for $a=0.001$, $b=1000$ and $c=0.001$\n",
    "\n",
    "(b) re-express the standard solution formula by multiplying the numerator and the denominator by $-b\\mp\\sqrt{b^2-4ac}$ and again find the solution for $a=0.001$, $b=1000$ and $c=0.001$. How does it compare with what has been previously obtained, and why?\n",
    "\n",
    "(c) write a function that computes the roots of a quadratic equation accurately in all cases"
   ]
  },
  {
   "cell_type": "code",
   "execution_count": 138,
   "metadata": {},
   "outputs": [
    {
     "name": "stdout",
     "output_type": "stream",
     "text": [
      "Quadratic of a=0.001, b=1000, c=0.001 :\n",
      "(-9.999894245993346e-07, -999999.999999)\n",
      "Quadratic (multiplying the numerator and the denominator) of a=0.001, b=1000, c=0.001 :\n",
      "(-9.999894245993346e-07, -999999.9999989999)\n",
      "In the second result we can observe that x_2 is more preciser\n",
      "This is because of the computer operators\n",
      "Quadratic (precise) of a=1, b=10, c=3 :\n",
      "(-0.30958424017657027, -9.69041575982343)\n",
      "Quadratic (precise) of a=10, b=1, c=2 :\n",
      "The roots are not real\n",
      "Quadratic (precise) of a=1, b=2, c=1 :\n",
      "-1.0\n"
     ]
    }
   ],
   "source": [
    "# a\n",
    "def quadratic(a, b, c):\n",
    "    delta = pow(b,2)-4*a*c\n",
    "    x_1 = (-b + math.sqrt(delta))/(2*a)\n",
    "    x_2 = (-b - math.sqrt(delta))/(2*a)\n",
    "    return (x_1, x_2)\n",
    "\n",
    "print(\"Quadratic of a=0.001, b=1000, c=0.001 :\")\n",
    "print(quadratic(0.001, 1000, 0.001))\n",
    "\n",
    "# b\n",
    "def quadratic2(a, b, c):\n",
    "    delta = pow(b,2)-4*a*c\n",
    "    x_1 = ((-b + math.sqrt(delta))/(2*a))*(-b - math.sqrt(delta))/(-b - math.sqrt(delta))\n",
    "    x_2 = ((-b - math.sqrt(delta))/(2*a))*(-b + math.sqrt(delta))/(-b + math.sqrt(delta))\n",
    "    return (x_1, x_2) \n",
    "\n",
    "print(\"Quadratic (multiplying the numerator and the denominator) of a=0.001, b=1000, c=0.001 :\")\n",
    "print(quadratic2(0.001, 1000, 0.001))\n",
    "\n",
    "print(\"In the second result we can observe that x_2 is more preciser\")\n",
    "print(\"This is because of the computer operators\")\n",
    "\n",
    "# c\n",
    "def quadratic_precise(a, b, c):\n",
    "    delta = pow(b,2)-4*a*c\n",
    "    if delta<0:\n",
    "        return \"The roots are not real\"\n",
    "    x_1 = (-b + math.sqrt(delta))/(2*a)\n",
    "    x_2 = (-b - math.sqrt(delta))/(2*a)\n",
    "    if delta == 0:\n",
    "        return x_1\n",
    "    return (x_1, x_2)\n",
    "\n",
    "print(\"Quadratic (precise) of a=1, b=10, c=3 :\")\n",
    "print(quadratic_precise(1, 10, 3))\n",
    "print(\"Quadratic (precise) of a=10, b=1, c=2 :\")\n",
    "print(quadratic_precise(10, 1, 2))\n",
    "print(\"Quadratic (precise) of a=1, b=2, c=1 :\")\n",
    "print(quadratic_precise(1, 2, 1))"
   ]
  },
  {
   "cell_type": "markdown",
   "metadata": {},
   "source": [
    "6\\. Write a program that implements the function $f(x)=x(x−1)$\n",
    "\n",
    "(a) Calculate the derivative of the function at the point $x = 1$ using the derivative definition:\n",
    "\n",
    "$$\n",
    "\\frac{{\\rm d}f}{{\\rm d}x} = \\lim_{\\delta\\to0} \\frac{f(x+\\delta)-f(x)}{\\delta}\n",
    "$$\n",
    "\n",
    "with $\\delta = 10^{−2}$. Calculate the true value of the same derivative analytically and compare it with the answer your program gives. The two will not agree perfectly. Why?\n",
    "\n",
    "(b) Repeat the calculation for $\\delta = 10^{−4}, 10^{−6}, 10^{−8}, 10^{−10}, 10^{−12}$ and $10^{−14}$. How does the accuracy scales with $\\delta$?"
   ]
  },
  {
   "cell_type": "code",
   "execution_count": 144,
   "metadata": {},
   "outputs": [
    {
     "name": "stdout",
     "output_type": "stream",
     "text": [
      "Analytically the result of f(x(x-1))' in the point x=1 is 1\n",
      "Derivative with delta = 10^-2 1.010000000000001\n",
      "They are different because delta tends to zero in the analytical formula\n",
      "instead we are using just a small value for that\n",
      "\n",
      "Derivative with delta = 10^-4 1.0000999999998899\n",
      "Derivative with delta = 10^-6 1.0000009999177333\n",
      "Derivative with delta = 10^-8 1.0000000039225287\n",
      "Derivative with delta = 10^-10 1.000000082840371\n",
      "Derivative with delta = 10^-12 1.0000889005833413\n",
      "Derivative with delta = 10^-14 0.9992007221626509\n"
     ]
    }
   ],
   "source": [
    "# a\n",
    "\n",
    "def func(x):\n",
    "    return x*(x-1)\n",
    "\n",
    "def derivative(d, p):\n",
    "    return (func(p+d)-func(p))/d\n",
    "\n",
    "print(\"Analytically the result of f(x(x-1))' in the point x=1 is 1\")\n",
    "print(\"Derivative with delta = 10^-2\", derivative(pow(10, -2), 1))\n",
    "print(\"They are different because delta tends to zero in the analytical formula\")\n",
    "print(\"instead we are using just a small value for that\")\n",
    "\n",
    "print()\n",
    "\n",
    "\n",
    "# b\n",
    "\n",
    "print(\"Derivative with delta = 10^-4\", derivative(pow(10, -4), 1))\n",
    "print(\"Derivative with delta = 10^-6\", derivative(pow(10, -6), 1))\n",
    "print(\"Derivative with delta = 10^-8\", derivative(pow(10, -8), 1))\n",
    "print(\"Derivative with delta = 10^-10\", derivative(pow(10, -10), 1))\n",
    "print(\"Derivative with delta = 10^-12\", derivative(pow(10, -12), 1))\n",
    "print(\"Derivative with delta = 10^-14\", derivative(pow(10, -14), 1))"
   ]
  },
  {
   "cell_type": "markdown",
   "metadata": {},
   "source": [
    "7\\. Consider the integral of the semicircle of radius 1:\n",
    "$$\n",
    "I=\\int_{-1}^{1} \\sqrt(1-x^2) {\\rm d}x\n",
    "$$\n",
    "which is known to be $I=\\frac{\\pi}{2}=1.57079632679...$.\n",
    "\n",
    "Alternatively we can use the Riemann definition of the integral:\n",
    "$$\n",
    "I=\\lim_{N\\to\\infty} \\sum_{k=1}^{N} h y_k \n",
    "$$\n",
    "\n",
    "with $h=2/N$ the width of each of the $N$ slices the domain is divided into and where\n",
    "$y_k$ is the value of the function at the $k-$th slice.\n",
    "\n",
    "(a) Write a program to compute the integral with $N=100$. How does the result compare to the true value?\n",
    "\n",
    "(b) How much can $N$ be increased if the computation needs to be run in less than a second? What is the gain in running it for 1 minute? \n"
   ]
  },
  {
   "cell_type": "code",
   "execution_count": 192,
   "metadata": {},
   "outputs": [
    {
     "name": "stdout",
     "output_type": "stream",
     "text": [
      "Result of Reimann integral with N=100:  1.5691342555492493\n",
      "We can observe that the result for N=100 is quite different from the analytical result. This is because N tends to infinity in the analytical formula\n",
      "In fact, with an higher N I have a more accurate result.\n",
      "10000000 Is the highest N with the computation time less than a second, time (incrementing by multiplying by 10): 3.0259647369384766\n",
      "In a minute it will be absolutely more accurate\n"
     ]
    }
   ],
   "source": [
    "import time\n",
    "# a\n",
    "\n",
    "def riemann(N):\n",
    "    y = lambda k: math.sqrt(1-pow(k,2))\n",
    "    result = 0;\n",
    "    k = -1\n",
    "\n",
    "    for i in range(1,N+1):\n",
    "        result += y(k) \n",
    "        k += 2/N\n",
    "        \n",
    "    h = 2/N\n",
    "    \n",
    "    result = result * h\n",
    "    \n",
    "    return result\n",
    "\n",
    "print(\"Result of Reimann integral with N=100: \", riemann(100))\n",
    "print(\"We can observe that the result for N=100 is quite different from the analytical result. This is because N tends to infinity in the analytical formula\")\n",
    "print(\"In fact, with an higher N I have a more accurate result.\")\n",
    "\n",
    "# b\n",
    "N = 10000\n",
    "while True:\n",
    "    start = time.time()\n",
    "    riemann(N)\n",
    "    end = time.time()\n",
    "    if(end-start > 1):\n",
    "        break\n",
    "    N *= 10\n",
    "print(N, \"Is the highest N with the computation time less than a second, time (incrementing by multiplying by 10):\", end-start)\n",
    "print(\"In a minute it will be absolutely more accurate\")"
   ]
  },
  {
   "cell_type": "code",
   "execution_count": null,
   "metadata": {},
   "outputs": [],
   "source": []
  }
 ],
 "metadata": {
  "kernelspec": {
   "display_name": "Python 3 (ipykernel)",
   "language": "python",
   "name": "python3"
  },
  "language_info": {
   "codemirror_mode": {
    "name": "ipython",
    "version": 3
   },
   "file_extension": ".py",
   "mimetype": "text/x-python",
   "name": "python",
   "nbconvert_exporter": "python",
   "pygments_lexer": "ipython3",
   "version": "3.10.0"
  }
 },
 "nbformat": 4,
 "nbformat_minor": 2
}
