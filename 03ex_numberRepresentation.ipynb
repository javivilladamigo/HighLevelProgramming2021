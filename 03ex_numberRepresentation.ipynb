{
 "cells": [
  {
   "cell_type": "markdown",
   "metadata": {},
   "source": [
    "1\\. Write a function that converts numbers among the bin, dec, and hex representations (bin<->dec<->hex)"
   ]
  },
  {
   "cell_type": "code",
   "execution_count": 3,
   "metadata": {},
   "outputs": [
    {
     "name": "stdout",
     "output_type": "stream",
     "text": [
      "The decimal value of 80 is:\n",
      "0b1010000 in binary.\n",
      "0o120 in octal.\n",
      "0x50 in hexadecimal.\n"
     ]
    }
   ],
   "source": [
    "dec = 80\n",
    "\n",
    "print(\"The decimal value of\", dec, \"is:\")\n",
    "print(bin(dec), \"in binary.\")\n",
    "print(oct(dec), \"in octal.\")\n",
    "print(hex(dec), \"in hexadecimal.\")"
   ]
  },
  {
   "cell_type": "markdown",
   "metadata": {},
   "source": [
    "2\\. Write a function that converts a 32 bit word into a single precision floating point (i.e. interprets the various bits as sign, mantissa and exponent) and check its validity."
   ]
  },
  {
   "cell_type": "code",
   "execution_count": 1,
   "metadata": {},
   "outputs": [
    {
     "name": "stdout",
     "output_type": "stream",
     "text": [
      "2.25\n"
     ]
    }
   ],
   "source": [
    "def convert_to_float(M):\n",
    "    sign = 1\n",
    "    mantissa = 0\n",
    "    exponent = 0\n",
    "    \n",
    "    if M[0] == '0':\n",
    "        sign = 1\n",
    "    elif M[0] == '1':\n",
    "        sign =- 1\n",
    "    else:\n",
    "        print(\"It is not valid.\")\n",
    "    for i in range(9):\n",
    "        if i == 0:\n",
    "            exponent += 0\n",
    "        elif M[i] == '1':\n",
    "            exponent += 2**(8-i)\n",
    "\n",
    "    for j in range(23):\n",
    "        if M[j+9] == '1':\n",
    "            mantissa += 2**(-j-1)\n",
    "    mantissa += 1\n",
    "    sign = sign*mantissa*2**(exponent-127)\n",
    "    print(sign)\n",
    "\n",
    "\n",
    "convert_to_float('010000000001000000000000000000000')\n",
    "\n"
   ]
  },
  {
   "cell_type": "markdown",
   "metadata": {},
   "source": [
    "3\\. Write a program to determine the underflow and overflow limits (within a factor of 2) for python on your computer. \n",
    "\n",
    "**Tip**: define two variables initialized to 1 and halve/double them for a sufficient amount of times to exceed the under/over-flow limits  "
   ]
  },
  {
   "cell_type": "code",
   "execution_count": 57,
   "metadata": {},
   "outputs": [
    {
     "name": "stdout",
     "output_type": "stream",
     "text": [
      "Under limit =  0.03125  over limit  =  32\n"
     ]
    }
   ],
   "source": [
    "def limits(N):\n",
    "    under = 1\n",
    "    over = 1\n",
    "    for i in range(N):\n",
    "        under = under /2\n",
    "        over = over * 2\n",
    "    print('Under limit = ', under, ' over limit  = ', over)\n",
    "        \n",
    "limits(5)"
   ]
  },
  {
   "cell_type": "raw",
   "metadata": {},
   "source": [
    "# 4\\. Write a program to determine the machine precision\n",
    "\n",
    "**Tip**: define a new variable by adding an increasingly smaller value (in the same way as the previous problem) and check when the addition starts to have no effect on the number"
   ]
  },
  {
   "cell_type": "code",
   "execution_count": 42,
   "metadata": {},
   "outputs": [
    {
     "name": "stdout",
     "output_type": "stream",
     "text": [
      "eps = 0.5 , one + eps =  1.5\n",
      "eps = 0.25 , one + eps =  1.25\n",
      "eps = 0.125 , one + eps =  1.125\n",
      "eps = 0.0625 , one + eps =  1.0625\n",
      "eps = 0.03125 , one + eps =  1.03125\n",
      "eps = 0.015625 , one + eps =  1.015625\n",
      "eps = 0.0078125 , one + eps =  1.0078125\n",
      "eps = 0.00390625 , one + eps =  1.00390625\n",
      "eps = 0.001953125 , one + eps =  1.001953125\n",
      "eps = 0.0009765625 , one + eps =  1.0009765625\n",
      "eps = 0.00048828125 , one + eps =  1.00048828125\n",
      "eps = 0.000244140625 , one + eps =  1.000244140625\n",
      "eps = 0.0001220703125 , one + eps =  1.0001220703125\n",
      "eps = 6.103515625e-05 , one + eps =  1.00006103515625\n",
      "eps = 3.0517578125e-05 , one + eps =  1.000030517578125\n",
      "eps = 1.52587890625e-05 , one + eps =  1.0000152587890625\n",
      "eps = 7.62939453125e-06 , one + eps =  1.0000076293945312\n",
      "eps = 3.814697265625e-06 , one + eps =  1.0000038146972656\n",
      "eps = 1.9073486328125e-06 , one + eps =  1.0000019073486328\n",
      "eps = 9.5367431640625e-07 , one + eps =  1.0000009536743164\n",
      "eps = 4.76837158203125e-07 , one + eps =  1.0000004768371582\n",
      "eps = 2.384185791015625e-07 , one + eps =  1.000000238418579\n",
      "eps = 1.1920928955078125e-07 , one + eps =  1.0000001192092896\n",
      "eps = 5.960464477539063e-08 , one + eps =  1.0000000596046448\n",
      "eps = 2.9802322387695312e-08 , one + eps =  1.0000000298023224\n",
      "eps = 1.4901161193847656e-08 , one + eps =  1.0000000149011612\n",
      "eps = 7.450580596923828e-09 , one + eps =  1.0000000074505806\n",
      "eps = 3.725290298461914e-09 , one + eps =  1.0000000037252903\n",
      "eps = 1.862645149230957e-09 , one + eps =  1.0000000018626451\n",
      "eps = 9.313225746154785e-10 , one + eps =  1.0000000009313226\n",
      "eps = 4.656612873077393e-10 , one + eps =  1.0000000004656613\n",
      "eps = 2.3283064365386963e-10 , one + eps =  1.0000000002328306\n",
      "eps = 1.1641532182693481e-10 , one + eps =  1.0000000001164153\n",
      "eps = 5.820766091346741e-11 , one + eps =  1.0000000000582077\n",
      "eps = 2.9103830456733704e-11 , one + eps =  1.0000000000291038\n",
      "eps = 1.4551915228366852e-11 , one + eps =  1.000000000014552\n",
      "eps = 7.275957614183426e-12 , one + eps =  1.000000000007276\n",
      "eps = 3.637978807091713e-12 , one + eps =  1.000000000003638\n",
      "eps = 1.8189894035458565e-12 , one + eps =  1.000000000001819\n",
      "eps = 9.094947017729282e-13 , one + eps =  1.0000000000009095\n",
      "eps = 4.547473508864641e-13 , one + eps =  1.0000000000004547\n",
      "eps = 2.2737367544323206e-13 , one + eps =  1.0000000000002274\n",
      "eps = 1.1368683772161603e-13 , one + eps =  1.0000000000001137\n",
      "eps = 5.684341886080802e-14 , one + eps =  1.0000000000000568\n",
      "eps = 2.842170943040401e-14 , one + eps =  1.0000000000000284\n",
      "eps = 1.4210854715202004e-14 , one + eps =  1.0000000000000142\n",
      "eps = 7.105427357601002e-15 , one + eps =  1.000000000000007\n",
      "eps = 3.552713678800501e-15 , one + eps =  1.0000000000000036\n",
      "eps = 1.7763568394002505e-15 , one + eps =  1.0000000000000018\n",
      "eps = 8.881784197001252e-16 , one + eps =  1.0000000000000009\n",
      "eps = 4.440892098500626e-16 , one + eps =  1.0000000000000004\n",
      "eps = 2.220446049250313e-16 , one + eps =  1.0000000000000002\n",
      "eps = 1.1102230246251565e-16 , one + eps =  1.0\n"
     ]
    }
   ],
   "source": [
    "N = 53\n",
    "eps = 1.0\n",
    "for i in range (N):\n",
    "    eps = eps /2\n",
    "    one_Plus_eps = 1.0 + eps\n",
    "    print ('eps =' , eps , ', one + eps = ', one_Plus_eps )"
   ]
  },
  {
   "cell_type": "markdown",
   "metadata": {},
   "source": [
    "the addition starts to have no effect at the 53rd value"
   ]
  },
  {
   "cell_type": "markdown",
   "metadata": {},
   "source": []
  },
  {
   "cell_type": "code",
   "execution_count": 20,
   "metadata": {},
   "outputs": [],
   "source": [
    "# function that takes three parameters a,b and c and prints solution to the quadratic equation\n",
    "\n",
    "import math \n",
    "  \n",
    "def quadratic_eqtn( a, b, c): \n",
    "  \n",
    "    discriminant = b * b - 4 * a * c \n",
    "    sqrt_val = math.sqrt(abs(discriminant)) \n",
    "      \n",
    "    \n",
    "    if discriminant > 0: \n",
    "        print(\" real and different roots \")  \n",
    "        print((-b + sqrt_val)/(2 * a)) \n",
    "        print((-b - sqrt_val)/(2 * a)) \n",
    "      \n",
    "    elif discriminant == 0: \n",
    "        print(\" real and same roots\") \n",
    "        print(-b / (2 * a)) \n",
    "      \n",
    "    \n",
    "    else:\n",
    "        print(\"Complex Roots\") \n",
    "        print(- b / (2 * a), \" + i\", sqrt_val) \n",
    "        print(- b / (2 * a), \" - i\", sqrt_val) "
   ]
  },
  {
   "cell_type": "code",
   "execution_count": 30,
   "metadata": {},
   "outputs": [
    {
     "name": "stdout",
     "output_type": "stream",
     "text": [
      " real and different roots \n",
      "-9.999894245993346e-07\n",
      "-999999.999999\n"
     ]
    }
   ],
   "source": [
    "import math \n",
    "  \n",
    "def quadratic_eqtn( a, b, c): \n",
    "  \n",
    "    discriminant = b * b - 4 * a * c \n",
    "    sqrt_val = math.sqrt(abs(discriminant)) \n",
    "      \n",
    "    \n",
    "    if discriminant > 0: \n",
    "        print(\" real and different roots \")  \n",
    "        print((-b + sqrt_val)/(2 * a)) \n",
    "        print((-b - sqrt_val)/(2 * a)) \n",
    "      \n",
    "    elif discriminant == 0: \n",
    "        print(\" real and same roots\") \n",
    "        print(-b / (2 * a)) \n",
    "      \n",
    "    \n",
    "    else:\n",
    "        print(\"Complex Roots\") \n",
    "        print(- b / (2 * a), \" + i\", sqrt_val) \n",
    "        print(- b / (2 * a), \" - i\", sqrt_val) \n",
    "        \n",
    "a = 0.001\n",
    "b = 1000\n",
    "c = 0.001\n",
    "  \n",
    "# If a is 0, then incorrect equation\n",
    "if a == 0: \n",
    "        print(\"Input correct quadratic equation\") \n",
    "  \n",
    "else:\n",
    "    quadratic_eqtn(a, b, c)"
   ]
  },
  {
   "cell_type": "markdown",
   "metadata": {},
   "source": [
    "6\\. Write a program that implements the function $f(x)=x(x−1)$\n",
    "\n",
    "(a) Calculate the derivative of the function at the point $x = 1$ using the derivative definition:\n",
    "\n",
    "$$\n",
    "\\frac{{\\rm d}f}{{\\rm d}x} = \\lim_{\\delta\\to0} \\frac{f(x+\\delta)-f(x)}{\\delta}\n",
    "$$\n",
    "\n",
    "with $\\delta = 10^{−2}$. Calculate the true value of the same derivative analytically and compare it with the answer your program gives. The two will not agree perfectly. Why?\n",
    "\n",
    "(b) Repeat the calculation for $\\delta = 10^{−4}, 10^{−6}, 10^{−8}, 10^{−10}, 10^{−12}$ and $10^{−14}$. How does the accuracy scales with $\\delta$?"
   ]
  },
  {
   "cell_type": "code",
   "execution_count": 3,
   "metadata": {},
   "outputs": [
    {
     "name": "stdout",
     "output_type": "stream",
     "text": [
      "1.010000000000001\n",
      "1.0000999999998899\n",
      "1.0000009999177333\n",
      "1.0000000039225287\n",
      "1.000000082840371\n",
      "1.0000889005833413\n",
      "0.9992007221626509\n"
     ]
    }
   ],
   "source": [
    "\n",
    "def f(x):\n",
    "    return x*(x-1)\n",
    "\n",
    "x = 1\n",
    "df = (f(x+0.01)-f(x))/0.01\n",
    "print(df)\n",
    "delta = 10**(-4)\n",
    "while delta >= 10**(-14):\n",
    "    df = (f(x+delta)-f(x))/delta\n",
    "    print(df)\n",
    "    delta = delta/100"
   ]
  },
  {
   "cell_type": "markdown",
   "metadata": {},
   "source": [
    "7\\. Consider the integral of the semicircle of radius 1:\n",
    "$$\n",
    "I=\\int_{-1}^{1} \\sqrt(1-x^2) {\\rm d}x\n",
    "$$\n",
    "which is known to be $I=\\frac{\\pi}{2}=1.57079632679...$.\n",
    "\n",
    "Alternatively we can use the Riemann definition of the integral:\n",
    "$$\n",
    "I=\\lim_{N\\to\\infty} \\sum_{k=1}^{N} h y_k \n",
    "$$\n",
    "\n",
    "with $h=2/N$ the width of each of the $N$ slices the domain is divided into and where\n",
    "$y_k$ is the value of the function at the $k-$th slice.\n",
    "\n",
    "(a) Write a program to compute the integral with $N=100$. How does the result compare to the true value?\n",
    "\n",
    "(b) How much can $N$ be increased if the computation needs to be run in less than a second? What is the gain in running it for 1 minute? \n"
   ]
  },
  {
   "cell_type": "code",
   "execution_count": 18,
   "metadata": {},
   "outputs": [
    {
     "name": "stdout",
     "output_type": "stream",
     "text": [
      "integral of function with Riemann definition is: 1.5802085158895236\n",
      "The comparison with the true value is:  0.009412189094627044\n"
     ]
    }
   ],
   "source": [
    "import math\n",
    "\n",
    "int = 0\n",
    "for N in range(0,100):\n",
    "    int=int+(2/100*(math.sqrt(1-(N * 1/100) **2)))\n",
    "\n",
    "print(\"integral of function with Riemann definition is:\" ,int)\n",
    "print(\"The comparison with the true value is: \" ,int-math.pi/2)"
   ]
  },
  {
   "cell_type": "code",
   "execution_count": null,
   "metadata": {},
   "outputs": [],
   "source": []
  }
 ],
 "metadata": {
  "kernelspec": {
   "display_name": "Python 3",
   "language": "python",
   "name": "python3"
  },
  "language_info": {
   "codemirror_mode": {
    "name": "ipython",
    "version": 3
   },
   "file_extension": ".py",
   "mimetype": "text/x-python",
   "name": "python",
   "nbconvert_exporter": "python",
   "pygments_lexer": "ipython3",
   "version": "3.8.8"
  }
 },
 "nbformat": 4,
 "nbformat_minor": 2
}
