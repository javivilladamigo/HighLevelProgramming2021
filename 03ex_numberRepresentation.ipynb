{
 "cells": [
  {
   "cell_type": "markdown",
   "metadata": {},
   "source": [
    "1\\. Write a function that converts numbers among the bin, dec, and hex representations (bin<->dec<->hex)"
   ]
  },
  {
   "cell_type": "code",
   "execution_count": 11,
   "metadata": {},
   "outputs": [
    {
     "name": "stdout",
     "output_type": "stream",
     "text": [
      "n_2 = 1100 \n",
      "n_10 = 12 \n",
      "n_16 = 0xc\n",
      "---\n",
      "n_2 = 0b11111011 \n",
      "n_10 = 251 \n",
      "n_16 = 0xfb\n",
      "---\n",
      "n_2 = 0b1111 \n",
      "n_10 = 15 \n",
      "n_16 = 0xf\n"
     ]
    }
   ],
   "source": [
    "# input number and its base\n",
    "def change_rep(n, base):\n",
    "    if base == 2:\n",
    "        n_bin = n\n",
    "        n_dec = int(n, 2)\n",
    "        n_hex = hex(n_dec)\n",
    "    elif base == 10:\n",
    "        n_bin = bin(n)\n",
    "        n_dec = n\n",
    "        n_hex = hex(n)\n",
    "    elif base == 16:\n",
    "        n_dec = int(n, 16)\n",
    "        n_bin = bin(n_dec)\n",
    "        n_hex = hex(n_dec)\n",
    "    else:\n",
    "        print(\"Aborting: invalid base.\")\n",
    "        return None\n",
    "    print(\"n_2 =\", n_bin, \"\\nn_10 =\", n_dec, \"\\nn_16 =\", n_hex)\n",
    "    \n",
    "# example\n",
    "n = \"1100\"\n",
    "change_rep(n, 2)\n",
    "print(\"---\")\n",
    "n = \"fb\"\n",
    "change_rep(n, 16)\n",
    "print(\"---\")\n",
    "n = 15\n",
    "change_rep(n, 10)"
   ]
  },
  {
   "cell_type": "markdown",
   "metadata": {},
   "source": [
    "2\\. Write a function that converts a 32 bit word into a single precision floating point (i.e. interprets the various bits as sign, mantissa and exponent) and check its validity."
   ]
  },
  {
   "cell_type": "code",
   "execution_count": 13,
   "metadata": {},
   "outputs": [
    {
     "data": {
      "text/plain": [
       "-5.5"
      ]
     },
     "execution_count": 13,
     "metadata": {},
     "output_type": "execute_result"
    }
   ],
   "source": [
    "def bfloat(n):\n",
    "    if len(n) != 32:\n",
    "        print(\"Aborting: not a 32 bit string\")\n",
    "        return None\n",
    "    \n",
    "    sign = (-1)**int(n[0], 2)\n",
    "    exponent = int(n[1:9], 2)\n",
    "    m = n[9:]\n",
    "    f = 0\n",
    "    for i in range(0, len(m)):\n",
    "        f += int(m[i]) * 2**(-i-1)\n",
    "    mantissa = 1 + f\n",
    "    res = sign * 2**(exponent-127) * mantissa\n",
    "    \n",
    "    return res\n",
    "     \n",
    "# example  \n",
    "n = \"11000000101100000000000000000000\"\n",
    "bfloat(n)"
   ]
  },
  {
   "cell_type": "markdown",
   "metadata": {},
   "source": [
    "3\\. Write a program to determine the underflow and overflow limits (within a factor of 2) for python on your computer. \n",
    "\n",
    "**Tip**: define two variables initialized to 1 and halve/double them for a sufficient amount of times to exceed the under/over-flow limits  "
   ]
  },
  {
   "cell_type": "code",
   "execution_count": 18,
   "metadata": {},
   "outputs": [
    {
     "name": "stdout",
     "output_type": "stream",
     "text": [
      "Underflow = 5e-324\n"
     ]
    },
    {
     "ename": "KeyboardInterrupt",
     "evalue": "",
     "output_type": "error",
     "traceback": [
      "\u001b[0;31m---------------------------------------------------------------------------\u001b[0m",
      "\u001b[0;31mKeyboardInterrupt\u001b[0m                         Traceback (most recent call last)",
      "\u001b[0;32m<ipython-input-18-8cbbe09fedd7>\u001b[0m in \u001b[0;36m<module>\u001b[0;34m\u001b[0m\n\u001b[1;32m     17\u001b[0m     \u001b[0md\u001b[0m \u001b[0;34m=\u001b[0m \u001b[0mb\u001b[0m \u001b[0;34m*\u001b[0m \u001b[0;36m2\u001b[0m\u001b[0;34m\u001b[0m\u001b[0;34m\u001b[0m\u001b[0m\n\u001b[1;32m     18\u001b[0m     \u001b[0;32mif\u001b[0m \u001b[0md\u001b[0m \u001b[0;34m!=\u001b[0m \u001b[0mb\u001b[0m\u001b[0;34m:\u001b[0m\u001b[0;34m\u001b[0m\u001b[0;34m\u001b[0m\u001b[0m\n\u001b[0;32m---> 19\u001b[0;31m         \u001b[0mb\u001b[0m \u001b[0;34m*=\u001b[0m \u001b[0;36m2\u001b[0m\u001b[0;34m\u001b[0m\u001b[0;34m\u001b[0m\u001b[0m\n\u001b[0m\u001b[1;32m     20\u001b[0m     \u001b[0;32melse\u001b[0m\u001b[0;34m:\u001b[0m\u001b[0;34m\u001b[0m\u001b[0;34m\u001b[0m\u001b[0m\n\u001b[1;32m     21\u001b[0m         \u001b[0mnotFound\u001b[0m \u001b[0;34m=\u001b[0m \u001b[0;32mFalse\u001b[0m\u001b[0;34m\u001b[0m\u001b[0;34m\u001b[0m\u001b[0m\n",
      "\u001b[0;31mKeyboardInterrupt\u001b[0m: "
     ]
    }
   ],
   "source": [
    "a = 1\n",
    "b = 1\n",
    "notFound = True\n",
    "\n",
    "# determine underflow\n",
    "while notFound:\n",
    "    c = a / 2\n",
    "    if c > 0:\n",
    "        a /= 2\n",
    "    else:\n",
    "        notFound = False\n",
    "        print(\"Underflow =\", a)\n",
    "\n",
    "# determine overflow\n",
    "notFound = True\n",
    "while notFound:\n",
    "    d = b * 2\n",
    "    if d != b:\n",
    "        b *= 2\n",
    "    else:\n",
    "        notFound = False\n",
    "        print(\"Overflow =\", b)\n",
    "        \n",
    "'''\n",
    "TO DO: overflow\n",
    "'''\n"
   ]
  },
  {
   "cell_type": "code",
   "execution_count": 19,
   "metadata": {},
   "outputs": [
    {
     "name": "stdout",
     "output_type": "stream",
     "text": [
      "sys.float_info(max=1.7976931348623157e+308, max_exp=1024, max_10_exp=308, min=2.2250738585072014e-308, min_exp=-1021, min_10_exp=-307, dig=15, mant_dig=53, epsilon=2.220446049250313e-16, radix=2, rounds=1)\n"
     ]
    }
   ],
   "source": [
    "# check information about float in my system\n",
    "import sys\n",
    "print(sys.float_info)"
   ]
  },
  {
   "cell_type": "markdown",
   "metadata": {},
   "source": [
    "4\\. Write a program to determine the machine precision\n",
    "\n",
    "**Tip**: define a new variable by adding an increasingly smaller value (in the same way as the previous problem) and check when the addition starts to have no effect on the number"
   ]
  },
  {
   "cell_type": "code",
   "execution_count": 1,
   "metadata": {},
   "outputs": [
    {
     "name": "stdout",
     "output_type": "stream",
     "text": [
      "Minimum power reached = -16\n"
     ]
    }
   ],
   "source": [
    "notFound = True\n",
    "before, after, i = 0, 0, 0\n",
    "\n",
    "while notFound:\n",
    "    after += 10**(-i)\n",
    "    if before < after:\n",
    "        before = after\n",
    "        i += 1\n",
    "    else:\n",
    "        notFound = False\n",
    "        minPower = i\n",
    "\n",
    "print(\"Minimum power reached =\", -minPower)"
   ]
  },
  {
   "cell_type": "markdown",
   "metadata": {},
   "source": [
    "5\\. Write a function that takes in input three parameters $a$, $b$ and $c$ and prints out the two solutions to the quadratic equation $ax^2+bx+c=0$ using the standard formula:\n",
    "$$\n",
    "x=\\frac{-b\\pm\\sqrt{b^2-4ac}}{2a}\n",
    "$$\n",
    "\n",
    "(a) use the program to compute the solution for $a=0.001$, $b=1000$ and $c=0.001$\n",
    "\n",
    "(b) re-express the standard solution formula by multiplying the numerator and the denominator by $-b\\mp\\sqrt{b^2-4ac}$ and again find the solution for $a=0.001$, $b=1000$ and $c=0.001$. How does it compare with what has been previously obtained, and why?\n",
    "\n",
    "(c) write a function that computes the roots of a quadratic equation accurately in all cases"
   ]
  },
  {
   "cell_type": "code",
   "execution_count": 23,
   "metadata": {},
   "outputs": [],
   "source": [
    "from math import sqrt"
   ]
  },
  {
   "cell_type": "code",
   "execution_count": 25,
   "metadata": {},
   "outputs": [
    {
     "data": {
      "text/plain": [
       "(-9.999894245993346e-07, -999999.999999)"
      ]
     },
     "execution_count": 25,
     "metadata": {},
     "output_type": "execute_result"
    }
   ],
   "source": [
    "# solution (a)\n",
    "def findSol_1(a, b, c):\n",
    "    val = sqrt( b**2 - 4*a*c )\n",
    "    return( (- b + val) / (2 * a), (- b - val) / (2 * a) )\n",
    "\n",
    "# example\n",
    "findSol_1(0.001, 1000, 0.001)"
   ]
  },
  {
   "cell_type": "code",
   "execution_count": 28,
   "metadata": {},
   "outputs": [
    {
     "data": {
      "text/plain": [
       "'\\n    TO DO: COMMENT ON THE OUTPUT (roundoff error)\\n'"
      ]
     },
     "execution_count": 28,
     "metadata": {},
     "output_type": "execute_result"
    }
   ],
   "source": [
    "# solution (b)\n",
    "def findSol_2(a, b, c):\n",
    "    val = sqrt( b**2 - 4*a*c )\n",
    "    return( (2 * c) / (- b + val), (2 * c) / (- b - val) )\n",
    "\n",
    "# example\n",
    "findSol_2(0.001, 1000, 0.001)\n",
    "\n",
    "'''\n",
    "    TO DO: COMMENT ON THE OUTPUT (roundoff error)\n",
    "'''"
   ]
  },
  {
   "cell_type": "code",
   "execution_count": 29,
   "metadata": {},
   "outputs": [
    {
     "data": {
      "text/plain": [
       "\"\\n    TO DO: usare la prima formula per una soluzione e l'altra formula per l'altra\\n\""
      ]
     },
     "execution_count": 29,
     "metadata": {},
     "output_type": "execute_result"
    }
   ],
   "source": [
    "# solution (c)\n",
    "'''\n",
    "    TO DO: usare la prima formula per una soluzione e l'altra formula per l'altra\n",
    "'''"
   ]
  },
  {
   "cell_type": "markdown",
   "metadata": {},
   "source": [
    "6\\. Write a program that implements the function $f(x)=x(x−1)$\n",
    "\n",
    "(a) Calculate the derivative of the function at the point $x = 1$ using the derivative definition:\n",
    "\n",
    "$$\n",
    "\\frac{{\\rm d}f}{{\\rm d}x} = \\lim_{\\delta\\to0} \\frac{f(x+\\delta)-f(x)}{\\delta}\n",
    "$$\n",
    "\n",
    "with $\\delta = 10^{−2}$. Calculate the true value of the same derivative analytically and compare it with the answer your program gives. The two will not agree perfectly. Why?\n",
    "\n",
    "(b) Repeat the calculation for $\\delta = 10^{−4}, 10^{−6}, 10^{−8}, 10^{−10}, 10^{−12}$ and $10^{−14}$. How does the accuracy scales with $\\delta$?"
   ]
  },
  {
   "cell_type": "code",
   "execution_count": 33,
   "metadata": {},
   "outputs": [
    {
     "name": "stdout",
     "output_type": "stream",
     "text": [
      "True value = 1\n",
      "Using the definition = 1.0099999999999998\n"
     ]
    },
    {
     "data": {
      "text/plain": [
       "'\\n    TO DO: COMMENT (sovrastima perche e grande delta)\\n'"
      ]
     },
     "execution_count": 33,
     "metadata": {},
     "output_type": "execute_result"
    }
   ],
   "source": [
    "# solution (a)\n",
    "def f(x):\n",
    "    return x**2 - x\n",
    "\n",
    "def f_p(x):\n",
    "    return 2*x - 1\n",
    "\n",
    "def df(x, d):\n",
    "    return (f(x+d) - f(x)) / d\n",
    "\n",
    "print(\"True value =\", f_p(1))\n",
    "print(\"Using the definition =\", df(1, 10**(-2)))\n",
    "\n",
    "'''\n",
    "    TO DO: COMMENT (sovrastima perche e grande delta)\n",
    "'''"
   ]
  },
  {
   "cell_type": "code",
   "execution_count": 36,
   "metadata": {},
   "outputs": [
    {
     "name": "stdout",
     "output_type": "stream",
     "text": [
      "Using d = 0.0001 the derivative is 1.0000999999992821\n",
      "Using d = 1e-06 the derivative is 1.000001000006634\n",
      "Using d = 1e-08 the derivative is 0.999999993922529\n",
      "Using d = 1e-10 the derivative is 1.000000082740371\n",
      "Using d = 1e-12 the derivative is 1.000088900582341\n",
      "Using d = 1e-14 the derivative is 0.9992007221626409\n"
     ]
    },
    {
     "data": {
      "text/plain": [
       "'\\n    TO DO: COMMENT\\n'"
      ]
     },
     "execution_count": 36,
     "metadata": {},
     "output_type": "execute_result"
    }
   ],
   "source": [
    "# solution (b)\n",
    "dl = [10**(-c) for c in [4, 6, 8, 10, 12, 14]]\n",
    "\n",
    "for val in dl:\n",
    "    print(\"Using d =\", val, \"the derivative is\", df(1, val))\n",
    "\n",
    "'''\n",
    "    TO DO: COMMENT\n",
    "'''"
   ]
  },
  {
   "cell_type": "markdown",
   "metadata": {},
   "source": [
    "7\\. Consider the integral of the semicircle of radius 1:\n",
    "$$\n",
    "I=\\int_{-1}^{1} \\sqrt(1-x^2) {\\rm d}x\n",
    "$$\n",
    "which is known to be $I=\\frac{\\pi}{2}=1.57079632679...$.\n",
    "\n",
    "Alternatively we can use the Riemann definition of the integral:\n",
    "$$\n",
    "I=\\lim_{N\\to\\infty} \\sum_{k=1}^{N} h y_k \n",
    "$$\n",
    "\n",
    "with $h=2/N$ the width of each of the $N$ slices the domain is divided into and where\n",
    "$y_k$ is the value of the function at the $k-$th slice.\n",
    "\n",
    "(a) Write a program to compute the integral with $N=100$. How does the result compare to the true value?\n",
    "\n",
    "(b) How much can $N$ be increased if the computation needs to be run in less than a second? What is the gain in running it for 1 minute? \n"
   ]
  },
  {
   "cell_type": "code",
   "execution_count": 53,
   "metadata": {},
   "outputs": [
    {
     "data": {
      "text/plain": [
       "1.5802085158895236"
      ]
     },
     "execution_count": 53,
     "metadata": {},
     "output_type": "execute_result"
    }
   ],
   "source": [
    "# solution (a)\n",
    "def g(x):\n",
    "    return sqrt(1 - x**2)\n",
    "\n",
    "# even function, calculate integral in [0, 1] \n",
    "# and finally multiply by 2\n",
    "def int_g(N):\n",
    "    h = 1 / N\n",
    "    int = 0\n",
    "    for k in range(0, N):\n",
    "        int += h * g(h*k)\n",
    "    return 2*int\n",
    "        \n",
    "int_g(100)\n",
    "\n",
    "'''\n",
    "    TO DO: sistema tutto e finisci.\n",
    "'''"
   ]
  }
 ],
 "metadata": {
  "kernelspec": {
   "display_name": "Python 3",
   "language": "python",
   "name": "python3"
  },
  "language_info": {
   "codemirror_mode": {
    "name": "ipython",
    "version": 3
   },
   "file_extension": ".py",
   "mimetype": "text/x-python",
   "name": "python",
   "nbconvert_exporter": "python",
   "pygments_lexer": "ipython3",
   "version": "3.8.8"
  }
 },
 "nbformat": 4,
 "nbformat_minor": 2
}
