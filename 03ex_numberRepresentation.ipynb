{
 "cells": [
  {
   "cell_type": "markdown",
   "metadata": {},
   "source": [
    "1\\. Write a function that converts numbers among the bin, dec, and hex representations (bin<->dec<->hex)"
   ]
  },
  {
   "cell_type": "code",
   "execution_count": 1,
   "metadata": {},
   "outputs": [
    {
     "name": "stdout",
     "output_type": "stream",
     "text": [
      "10 --> 0b1010\n",
      "0b1010 --> 10\n",
      "\n",
      "36 --> 0x24\n",
      "0x24 --> 36\n",
      "\n",
      "0x24 --> 0b100100\n",
      "0b100100 --> 0x24\n"
     ]
    }
   ],
   "source": [
    "def convert(num, to_base=10):\n",
    "    \"\"\"Converts a number to the specified base (2, 10, 16).\"\"\"\n",
    "    num = str(num)\n",
    "    if num[:2] == '0b':\n",
    "        # if bin convert to int\n",
    "        x = int(num, 2)\n",
    "    elif num[:2] == '0x':\n",
    "        # if hex convert to int\n",
    "        x = int(num, 16)\n",
    "    else:\n",
    "        x = int(num)\n",
    "        \n",
    "    # now x is the int representation of num\n",
    "    # regardless of the input base\n",
    "    \n",
    "    if to_base == 2:\n",
    "        return bin(x)\n",
    "    elif to_base == 16:\n",
    "        return hex(x)\n",
    "    elif to_base == 10:\n",
    "        return x\n",
    "    else:\n",
    "        print(f'Conversion to base {to_base} not supported')\n",
    "\n",
    "# test dec -> bin and bin -> dec conversion\n",
    "a = 10\n",
    "a_bin = convert(a, 2)\n",
    "print(f'{a} --> {a_bin}')\n",
    "print(f'{a_bin} --> {convert(a_bin)}\\n')\n",
    "\n",
    "# test dec -> hex and hex -> dec conversion\n",
    "b = 36\n",
    "b_hex = convert(b, 16)\n",
    "print(f'{b} --> {b_hex}')\n",
    "print(f'{b_hex} --> {convert(b_hex)}\\n')\n",
    "\n",
    "# test hex -> bin and bin -> hex conversion\n",
    "b_bin = convert(b_hex, 2)\n",
    "print(f'{b_hex} --> {b_bin}')\n",
    "print(f'{b_bin} --> {convert(b_bin, 16)}')"
   ]
  },
  {
   "cell_type": "markdown",
   "metadata": {},
   "source": [
    "2\\. Write a function that converts a 32 bit word into a single precision floating point (i.e. interprets the various bits as sign, mantissa and exponent) and check its validity."
   ]
  },
  {
   "cell_type": "code",
   "execution_count": 2,
   "metadata": {},
   "outputs": [
    {
     "name": "stdout",
     "output_type": "stream",
     "text": [
      "1.316553672920962e-36\n",
      "1.316553672920962e-36\n",
      "\n",
      "-5.5\n",
      "-5.5\n"
     ]
    }
   ],
   "source": [
    "def decode_float32_str(num, bias=127):\n",
    "    \"\"\"Decode the floating point number num, stored as a bitstring, according to the float32 standard.\"\"\"\n",
    "    # firstly 'extract' the componenets (sign, exp, mantissa)\n",
    "    sign = num[0]\n",
    "    exp  = num[1:9]\n",
    "    mant = num[9:]\n",
    "    # compute the sign\n",
    "    sign = -1 if sign == '1' else 1\n",
    "    # compute the exponent\n",
    "    exp  = sum([2**(7-i) for i, b in enumerate(exp) if b == '1'])\n",
    "    # compute the fractional part\n",
    "    frac = sum([2**(-i-1) for i, b in enumerate(mant) if b == '1'])\n",
    "    return sign * (1+frac) * 2**(exp-bias) # use the definition\n",
    "\n",
    "# alternative way\n",
    "def decode_float32(num, bias=127):\n",
    "    \"\"\"Decode the floating point number num, stored as an int32, according to the float32 standard.\"\"\"\n",
    "    # firstly 'extract' the componenets (sign, exp, mantissa)\n",
    "    sign = (num & 0x80000000) >> 31\n",
    "    exp  = (num & 0x7F800000) >> 23\n",
    "    mant = num & 0x7FFFFF\n",
    "    # compute the fractional part\n",
    "    frac = sum([((mant>>23-i)&0x1)*(2**-i)  for i in range(1, 23)])    \n",
    "    return ((-1) ** sign) * (1+frac) * 2**(exp-bias) # use the definition\n",
    "\n",
    "a = '00000011111000000000000000000000' # should return +1.316554 x 10^-36 (taken from the lecture)\n",
    "print(decode_float32_str(a))\n",
    "print(decode_float32(int(a, 2)))\n",
    "print()\n",
    "\n",
    "b = '11000000101100000000000000000000' # should return -5.5 (taken from the lecture)\n",
    "print(decode_float32_str(b))\n",
    "print(decode_float32(int(b, 2)))"
   ]
  },
  {
   "cell_type": "markdown",
   "metadata": {},
   "source": [
    "3\\. Write a program to determine the underflow and overflow limits (within a factor of 2) for python on your computer. \n",
    "\n",
    "**Tip**: define two variables initialized to 1 and halve/double them for a sufficient amount of times to exceed the under/over-flow limits  "
   ]
  },
  {
   "cell_type": "code",
   "execution_count": 3,
   "metadata": {
    "scrolled": true
   },
   "outputs": [
    {
     "name": "stdout",
     "output_type": "stream",
     "text": [
      "1024 doubling to reach overflow -> 8.98846567431158e+307 overflow limit (within a factor of 2)\n",
      "1075 division to reach underflow -> 5e-324 underflow limit (within a factor of 2)\n"
     ]
    }
   ],
   "source": [
    "# find the overflow limit (whitin a factor of two)\n",
    "num = 1.0     # int doesn't overflow\n",
    "count_mul = 0 # count the successful doubling of num\n",
    "while num != num * 2: # equivalent to num != float('inf')\n",
    "    num *= 2\n",
    "    count_mul += 1\n",
    "print(f'{count_mul} doubling to reach overflow -> {float(2**(count_mul-1))} overflow limit (within a factor of 2)')\n",
    "\n",
    "# find the underflow limit (whitin a factor of two)\n",
    "num = 1.0\n",
    "count_div = 0 # count the successful division of num\n",
    "while num != num / 2: # equivalent to num != 0\n",
    "    num /= 2\n",
    "    count_div += 1\n",
    "print(f'{count_div} division to reach underflow -> {float(2**-(count_div-1))} underflow limit (within a factor of 2)')"
   ]
  },
  {
   "cell_type": "markdown",
   "metadata": {},
   "source": [
    "4\\. Write a program to determine the machine precision\n",
    "\n",
    "**Tip**: define a new variable by adding an increasingly smaller value (in the same way as the previous problem) and check when the addition starts to have no effect on the number"
   ]
  },
  {
   "cell_type": "code",
   "execution_count": 4,
   "metadata": {},
   "outputs": [
    {
     "name": "stdout",
     "output_type": "stream",
     "text": [
      "True\n",
      "False\n",
      "The precision found is 2.220446049250313e-16\n"
     ]
    }
   ],
   "source": [
    "precision = 1.0\n",
    "while 1 + precision != 1:\n",
    "    # keep dividing the precision until it does not affect the sum\n",
    "    precision /= 2\n",
    "\n",
    "print(1 + precision == 1)\n",
    "precision *= 2\n",
    "print(1 + precision == 1)\n",
    "print(f'The precision found is {precision}')"
   ]
  },
  {
   "cell_type": "markdown",
   "metadata": {},
   "source": [
    "5\\. Write a function that takes in input three parameters $a$, $b$ and $c$ and prints out the two solutions to the quadratic equation $ax^2+bx+c=0$ using the standard formula:\n",
    "$$\n",
    "x=\\frac{-b\\pm\\sqrt{b^2-4ac}}{2a}\n",
    "$$\n",
    "\n",
    "(a) use the program to compute the solution for $a=0.001$, $b=1000$ and $c=0.001$\n",
    "\n",
    "(b) re-express the standard solution formula by multiplying the numerator and the denominator by $-b\\mp\\sqrt{b^2-4ac}$ and again find the solution for $a=0.001$, $b=1000$ and $c=0.001$. How does it compare with what has been previously obtained, and why?\n",
    "\n",
    "(c) write a function that computes the roots of a quadratic equation accurately in all cases"
   ]
  },
  {
   "cell_type": "code",
   "execution_count": 5,
   "metadata": {},
   "outputs": [
    {
     "name": "stdout",
     "output_type": "stream",
     "text": [
      "equation: 0.001x^2 + 1000.0x + 0.001 = 0\n",
      "(x1, x2) = (-9.999894245993346e-07, -999999.999999)\n",
      "(x1, x2) = (-1.000000000001e-06, -1000010.5755125057)\n",
      "(x1, x2) = (-1.000000000001e-06, -999999.999999)\n"
     ]
    }
   ],
   "source": [
    "import math\n",
    "\n",
    "# unstable if b^2 >> 4ac\n",
    "def solve_second_degree_eq(a, b, c):\n",
    "    d = b**2 - 4*a*c\n",
    "    x1 = .5 * (-b + math.sqrt(d)) / a # sqrt(d) is close to b (if b^2 >> 4ac) -> cancellation\n",
    "    x2 = .5 * (-b - math.sqrt(d)) / a # no problems\n",
    "    return x1, x2\n",
    "\n",
    "# unstable if b^2 >> 4ac\n",
    "def solve_second_degree_eq2(a, b, c):\n",
    "    d = b**2 - 4*a*c\n",
    "    x1 = 2*c / (-b - math.sqrt(d)) # no problems\n",
    "    x2 = 2*c / (-b + math.sqrt(d)) # sqrt(d) is close to b (if b^2 >> 4ac) -> cancellation\n",
    "    return x1, x2\n",
    "\n",
    "# should be more stable \n",
    "# avoids the cancellation that may happen in the other 2 functions by combining\n",
    "def solve_second_degree_eq_stable(a, b, c):\n",
    "    d = b**2 - 4*a*c\n",
    "    x1 = 2*c / (-b - math.sqrt(d))\n",
    "    x2 = .5 * (-b - math.sqrt(d)) / a\n",
    "    return x1, x2\n",
    "\n",
    "a = 1e-3\n",
    "b = 1e3\n",
    "c = 1e-3\n",
    "print(f'equation: {a}x^2 + {b}x + {c} = 0')\n",
    "print(f'(x1, x2) = {solve_second_degree_eq(a, b, c)}')  # problem with the first root (cancellation at the numerator)\n",
    "print(f'(x1, x2) = {solve_second_degree_eq2(a, b, c)}') # problem with the second root (cancellation at the denominator)\n",
    "print(f'(x1, x2) = {solve_second_degree_eq_stable(a, b, c)}') # more accurate roots"
   ]
  },
  {
   "cell_type": "markdown",
   "metadata": {},
   "source": [
    "6\\. Write a program that implements the function $f(x)=x(x−1)$\n",
    "\n",
    "(a) Calculate the derivative of the function at the point $x = 1$ using the derivative definition:\n",
    "\n",
    "$$\n",
    "\\frac{{\\rm d}f}{{\\rm d}x} = \\lim_{\\delta\\to0} \\frac{f(x+\\delta)-f(x)}{\\delta}\n",
    "$$\n",
    "\n",
    "with $\\delta = 10^{−2}$. Calculate the true value of the same derivative analytically and compare it with the answer your program gives. The two will not agree perfectly. Why?\n",
    "\n",
    "(b) Repeat the calculation for $\\delta = 10^{−4}, 10^{−6}, 10^{−8}, 10^{−10}, 10^{−12}$ and $10^{−14}$. How does the accuracy scales with $\\delta$?"
   ]
  },
  {
   "cell_type": "code",
   "execution_count": 6,
   "metadata": {},
   "outputs": [
    {
     "name": "stdout",
     "output_type": "stream",
     "text": [
      "numerical computation : f'(1)=1.010000000000001 w/ delta=0.01\n",
      "analytical computation: f'(1)=1\n",
      "\n",
      "delta=1e-04: f'(1)=1.0000999999998899,\t error=9.999999988985486e-05\n",
      "delta=1e-06: f'(1)=1.0000009999177333,\t error=9.99917733279787e-07\n",
      "delta=1e-08: f'(1)=1.0000000039225287,\t error=3.922528746258536e-09\n",
      "delta=1e-10: f'(1)=1.000000082840371,\t error=8.284037100736441e-08\n",
      "delta=1e-12: f'(1)=1.0000889005833413,\t error=8.890058334132256e-05\n",
      "delta=1e-14: f'(1)=0.9992007221626509,\t error=0.0007992778373491216\n"
     ]
    }
   ],
   "source": [
    "# function to derivate\n",
    "f = lambda x: x * (x - 1)\n",
    "\n",
    "# analytical derivative of f in x0\n",
    "f_prime = lambda x: 2*x - 1 \n",
    "\n",
    "def derivate_f(f, x0, delta):\n",
    "    \"\"\"Computes the derivative of a function f in x0 according\n",
    "    to the definition using the increment delta.\n",
    "    \"\"\"\n",
    "    return (f(x0+delta) - f(x0)) / delta\n",
    "\n",
    "# (a) The results do not agree because of the limited precision of the numerical computation\n",
    "x0 = 1\n",
    "delta = 1e-2\n",
    "print(f'numerical computation : f\\'({x0})={derivate_f(f, x0, delta)} w/ delta={delta}')\n",
    "print(f'analytical computation: f\\'({x0})={f_prime(x0)}\\n')\n",
    "\n",
    "# (b) The accuracy does not improve by increasing delta: the smallest error is\n",
    "# obtained for delta = 10^-8 and the largest error for delta = 10^-14\n",
    "for delta in [10**-i for i in range(4, 15, 2)]:\n",
    "    df = derivate_f(f, x0, delta)\n",
    "    error = abs(df - f_prime(x0))\n",
    "    print(f'delta={delta:.0e}: f\\'({x0})={df},\\t error={error}')"
   ]
  },
  {
   "cell_type": "markdown",
   "metadata": {},
   "source": [
    "7\\. Consider the integral of the semicircle of radius 1:\n",
    "$$\n",
    "I=\\int_{-1}^{1} \\sqrt(1-x^2) {\\rm d}x\n",
    "$$\n",
    "which is known to be $I=\\frac{\\pi}{2}=1.57079632679...$.\n",
    "\n",
    "Alternatively we can use the Riemann definition of the integral:\n",
    "$$\n",
    "I=\\lim_{N\\to\\infty} \\sum_{k=1}^{N} h y_k \n",
    "$$\n",
    "\n",
    "with $h=2/N$ the width of each of the $N$ slices the domain is divided into and where\n",
    "$y_k$ is the value of the function at the $k-$th slice.\n",
    "\n",
    "(a) Write a program to compute the integral with $N=100$. How does the result compare to the true value?\n",
    "\n",
    "(b) How much can $N$ be increased if the computation needs to be run in less than a second? What is the gain in running it for 1 minute? \n"
   ]
  },
  {
   "cell_type": "code",
   "execution_count": 7,
   "metadata": {
    "scrolled": true
   },
   "outputs": [
    {
     "name": "stdout",
     "output_type": "stream",
     "text": [
      "N=100: I=1.5712827762297958, error=4.86e-04\n",
      "\n",
      "N=100: 0.00000s\n",
      "N=1000: 0.00000s\n",
      "N=10000: 0.00500s\n",
      "N=100000: 0.03403s\n",
      "N=1000000: 0.38579s\n",
      "N=10000000: 3.76693s\n",
      "N=100000000: 37.96444s\n",
      "\n",
      "N=1000000: I=1.5707963272820449, error=4.87e-10\n",
      "N=100000000: I=1.5707963267955443, error=6.48e-13\n",
      "\n"
     ]
    }
   ],
   "source": [
    "import math\n",
    "import time\n",
    "\n",
    "def interval(lower, upper, length):\n",
    "    \"\"\"Creates a discrete interval from lower to upper of length samples.\n",
    "    E.g., if lower=-1, upper=1, length = 4, it returns [-0.75, -0.25, 0.25, 0.75]. \n",
    "    \"\"\"\n",
    "    delta = (upper - lower) / length\n",
    "    return [lower + delta*(i + .5) for i in range(length)]\n",
    "\n",
    "def compute_integral(f, a, b, N):\n",
    "    \"\"\"Computes numerically, according to the Riemann definition, the integral\n",
    "    of the function f in the interval (a,b) using N samples.\n",
    "    \"\"\"\n",
    "    h = (b - a) / N\n",
    "    return sum([h * f(x) for x in interval(a, b, N)])\n",
    "\n",
    "# function of the semi circumference\n",
    "semi_circ = lambda x: math.sqrt(1 - x**2)\n",
    "\n",
    "# (a) computation of the integral using the Riemann definition w/ 100 samples\n",
    "N = 100\n",
    "I = compute_integral(semi_circ, -1, 1, N)\n",
    "print(f'N={N}: I={I}, error={I-math.pi/2:.2e}\\n') # the result is fairly accurate\n",
    "\n",
    "# (b) find the max value of N to execute in less tha 1s and 60s\n",
    "exe_time = 0\n",
    "N_max = 1000000000 # after this value the running time exceeds 1 minute\n",
    "while exe_time < 60 and N < N_max:\n",
    "    start = time.time()\n",
    "    compute_integral(semi_circ, -1, 1, N)\n",
    "    exe_time = time.time() - start\n",
    "    print(f'N={N}: {exe_time:.5f}s')\n",
    "    N *= 10\n",
    "    \n",
    "N1 = 1000000   # less than 1s\n",
    "N2 = 100000000 # less than 60s\n",
    "I1 = compute_integral(semi_circ, -1, 1, N1)\n",
    "I2 = compute_integral(semi_circ, -1, 1, N2)\n",
    "e1 = abs(I1 - math.pi/2)\n",
    "e2 = abs(I2 - math.pi/2)\n",
    "print()\n",
    "print(f'N={N1}: I={I1}, error={e1:.2e}')\n",
    "print(f'N={N2}: I={I2}, error={e2:.2e}\\n')\n",
    "# Running for up to 60 sec improves the result by 3 orders of magnitude: from 10^-10 to 10^-13"
   ]
  },
  {
   "cell_type": "code",
   "execution_count": null,
   "metadata": {},
   "outputs": [],
   "source": []
  }
 ],
 "metadata": {
  "kernelspec": {
   "display_name": "Python 3 (ipykernel)",
   "language": "python",
   "name": "python3"
  },
  "language_info": {
   "codemirror_mode": {
    "name": "ipython",
    "version": 3
   },
   "file_extension": ".py",
   "mimetype": "text/x-python",
   "name": "python",
   "nbconvert_exporter": "python",
   "pygments_lexer": "ipython3",
   "version": "3.8.12"
  }
 },
 "nbformat": 4,
 "nbformat_minor": 2
}
