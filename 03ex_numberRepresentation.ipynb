{
 "cells": [
  {
   "cell_type": "markdown",
   "metadata": {},
   "source": [
    "1\\. Write a function that converts numbers among the bin, dec, and hex representations (bin<->dec<->hex)"
   ]
  },
  {
   "cell_type": "code",
   "execution_count": 1,
   "metadata": {},
   "outputs": [
    {
     "name": "stdout",
     "output_type": "stream",
     "text": [
      "the number in base 10 is : 20\n",
      "base 10->2: \t 20 -> 0b10100\n",
      "base 10->16: \t 20 -> 0x14\n",
      "base 10->16: \t 20 -> 0x14\n",
      "base 2->10:  \t 0b10100 -> 20\n",
      "base 16->10: \t 0x14 ->  20\n",
      "base 2->16: \t 0b10100 -> 0x14\n",
      "base 16->2: \t 0x14 -> 0b10100\n"
     ]
    }
   ],
   "source": [
    "def bin_to_dec(n):\n",
    "    return int(n, 2)\n",
    "\n",
    "def dec_to_bin(n):\n",
    "    return bin(n)\n",
    "\n",
    "def hex_to_bin(n):\n",
    "    return bin(int(n,16))\n",
    "\n",
    "def bin_to_hex(n):\n",
    "    return hex(int(n,2))\n",
    "\n",
    "def dec_to_hex(n):\n",
    "    return hex(n)\n",
    "\n",
    "def hex_to_dec(n):\n",
    "    return int(n, 16)\n",
    "\n",
    "n = 20\n",
    "\n",
    "bin_n = bin(n)\n",
    "hex_n = hex(n)\n",
    "\n",
    "print(\"the number in base 10 is :\",n)\n",
    "print(\"base 10->2:\",\"\\t\",n,\"->\",dec_to_bin(n))\n",
    "print(\"base 10->16:\",\"\\t\",n,\"->\",dec_to_hex(n))\n",
    "print(\"base 10->16:\",\"\\t\",n,\"->\",dec_to_hex(n))\n",
    "print(\"base 2->10: \",\"\\t\",bin_n,\"->\",bin_to_dec(bin_n))\n",
    "print(\"base 16->10:\",\"\\t\",hex_n,\"-> \",hex_to_dec(hex_n))\n",
    "print(\"base 2->16:\",\"\\t\",bin_n,\"->\",bin_to_hex(bin_n))\n",
    "print(\"base 16->2:\",\"\\t\",hex_n,\"->\",hex_to_bin(hex_n))\n",
    "\n"
   ]
  },
  {
   "cell_type": "markdown",
   "metadata": {},
   "source": [
    "2\\. Write a function that converts a 32 bit word into a single precision floating point (i.e. interprets the various bits as sign, mantissa and exponent) and check its validity."
   ]
  },
  {
   "cell_type": "code",
   "execution_count": 4,
   "metadata": {},
   "outputs": [
    {
     "name": "stdout",
     "output_type": "stream",
     "text": [
      "-2.350988701644575e-38\n"
     ]
    }
   ],
   "source": [
    "def convert(word):\n",
    "    #sign\n",
    "    sign = int(word[31])\n",
    "    \n",
    "    #exponent\n",
    "    exp = word[23:31]\n",
    "    exp = reversed(exp)\n",
    "    exp = \"\".join([str(item) for item in exp])\n",
    "    exp_dec = int(exp,2)\n",
    "    \n",
    "    #mantissa\n",
    "    mant = word[0:23]\n",
    "    mant = list(mant)\n",
    "    mant.reverse()\n",
    "    mant_dec = 0\n",
    "    for i in range(len(mant)):\n",
    "        temp = int(mant[i])\n",
    "        if temp == 1:\n",
    "            mant_dec += pow(2,-(i+1))\n",
    "    n = (mant_dec+1)*pow(2,exp_dec-127)\n",
    "    \n",
    "    \n",
    "    result = 0\n",
    "    if sign == 0:\n",
    "        result = n\n",
    "    else:\n",
    "        result = -n\n",
    "        \n",
    "    return result\n",
    "\n",
    "word = \"00000000000000000000000010000001\"\n",
    "print(convert(word))\n"
   ]
  },
  {
   "cell_type": "markdown",
   "metadata": {},
   "source": [
    "3\\. Write a program to determine the underflow and overflow limits (within a factor of 2) for python on your computer. \n",
    "\n",
    "**Tip**: define two variables initialized to 1 and halve/double them for a sufficient amount of times to exceed the under/over-flow limits  "
   ]
  },
  {
   "cell_type": "code",
   "execution_count": 5,
   "metadata": {},
   "outputs": [
    {
     "name": "stdout",
     "output_type": "stream",
     "text": [
      "underflow in iteration 1075 \t\t 0.00000e+00\n",
      "overflow in iteration 1024 \t\t inf\n"
     ]
    }
   ],
   "source": [
    "import math\n",
    "\n",
    "low = 1.0\n",
    "height = 1.0\n",
    "zero = 0.0\n",
    "inf = math.inf\n",
    "iter = 0\n",
    "\n",
    "#the last number is 4.94066e-324\n",
    "while(low.hex() != zero.hex()):\n",
    "    low = low/2\n",
    "    iter += 1\n",
    "print(\"underflow in iteration\",iter,\"\\t\\t\",\"%2.5e\"%low,)\n",
    "\n",
    "#the last number is 8.98847e+307\n",
    "iter = 0\n",
    "while(height.hex() != inf.hex()):\n",
    "    height = height*2\n",
    "    iter += 1\n",
    "print(\"overflow in iteration\",iter,\"\\t\\t\",\"%2.5e\"%height)\n"
   ]
  },
  {
   "cell_type": "markdown",
   "metadata": {},
   "source": [
    "4\\. Write a program to determine the machine precision\n",
    "\n",
    "**Tip**: define a new variable by adding an increasingly smaller value (in the same way as the previous problem) and check when the addition starts to have no effect on the number"
   ]
  },
  {
   "cell_type": "code",
   "execution_count": 6,
   "metadata": {},
   "outputs": [
    {
     "name": "stdout",
     "output_type": "stream",
     "text": [
      "sum has no more effect. Iteration 48\n",
      "the machine precision is 1.7763568394002505e-15\n"
     ]
    }
   ],
   "source": [
    "N = 1500\n",
    "i = 0\n",
    "number = 60.0\n",
    "small = 1\n",
    "flag = True\n",
    "\n",
    "while (i in range(N) and flag == True):\n",
    "        sum = number + small\n",
    "        small = small/2 #smaller value\n",
    "        \n",
    "        if(sum.hex() == number.hex()): #precision found\n",
    "            flag = False\n",
    "            print(\"sum has no more effect. Iteration\",i)\n",
    "            \n",
    "        #print(sum,\"\\t,\\t\",small)\n",
    "        i += 1\n",
    "\n",
    "print(\"the machine precision is\", small)"
   ]
  },
  {
   "cell_type": "markdown",
   "metadata": {},
   "source": [
    "5\\. Write a function that takes in input three parameters $a$, $b$ and $c$ and prints out the two solutions to the quadratic equation $ax^2+bx+c=0$ using the standard formula:\n",
    "$$\n",
    "x=\\frac{-b\\pm\\sqrt{b^2-4ac}}{2a}\n",
    "$$\n",
    "\n",
    "(a) use the program to compute the solution for $a=0.001$, $b=1000$ and $c=0.001$\n",
    "\n",
    "(b) re-express the standard solution formula by multiplying the numerator and the denominator by $-b\\mp\\sqrt{b^2-4ac}$ and again find the solution for $a=0.001$, $b=1000$ and $c=0.001$. How does it compare with what has been previously obtained, and why?\n",
    "\n",
    "(c) write a function that computes the roots of a quadratic equation accurately in all cases"
   ]
  },
  {
   "cell_type": "code",
   "execution_count": 7,
   "metadata": {},
   "outputs": [
    {
     "name": "stdout",
     "output_type": "stream",
     "text": [
      "quadratic_eq_1 = (-9.999894245993346e-07, -999999.999999)\n",
      "quadratic_eq_2 = (-9.999894245993346e-07, -999999.9999990001) \n",
      "\n",
      "The results of quadratic_eq_1 and of quadratic_eq_2 are different. The reason is that float have limited precision.\n",
      "\n",
      "quadratic_eq_corr = (-9.999894245993346e-07, -999999.999999)\n"
     ]
    }
   ],
   "source": [
    "import math\n",
    "\n",
    "def quadratic_eq_1(a, b, c):\n",
    "    x1 = (-b+math.sqrt(b**2-4*a*c))/(2*a)\n",
    "    x2 = (-b-math.sqrt(b**2-4*a*c))/(2*a)\n",
    "    return (x1,x2)\n",
    "\n",
    "def quadratic_eq_2(a, b, c):\n",
    "    mul_x1 = -b-math.sqrt(b**2-4*a*c)\n",
    "    mul_x2 = -b+math.sqrt(b**2-4*a*c)\n",
    "\n",
    "    x1 = ((-b+math.sqrt(b**2-4*a*c))*mul_x1)/((2*a)*mul_x1)\n",
    "    x2 = ((-b-math.sqrt(b**2-4*a*c))*mul_x2)/((2*a)*mul_x2)\n",
    "    return (x1,x2)\n",
    "\n",
    "def quadratic_eq_corr(a, b, c):\n",
    "    delta = b**2-4*a*c\n",
    "    if delta > 0: \n",
    "        #Real and different roots\n",
    "        x1 = (-b+math.sqrt(delta))/(2*a)\n",
    "        x2 = (-b-math.sqrt(delta))/(2*a)\n",
    "        return(x1, x2)\n",
    "      \n",
    "    elif delta == 0: \n",
    "        #Real and same roots\n",
    "        x1 = x2 = -b/(2*a)\n",
    "        return(x1, x2)\n",
    "      \n",
    "        #discriminant < 0\n",
    "    else:\n",
    "        print(\"\\nComplex Roots\") \n",
    "        x1 = -b/(2*a), \" + i\", sqrt_val\n",
    "        x2 = -b/(2*a), \" - i\", sqrt_val\n",
    "        return(x1, x2)\n",
    "\n",
    "    \n",
    "a = 0.001\n",
    "b = 1000\n",
    "c = 0.001\n",
    "\n",
    "r1 = quadratic_eq_1(a,b,c)\n",
    "r2 = quadratic_eq_2(a,b,c)\n",
    "r3 = quadratic_eq_corr(a,b,c)\n",
    "print(\"quadratic_eq_1 =\",r1)\n",
    "print(\"quadratic_eq_2 =\",r2,\"\\n\")\n",
    "print(\"The results of quadratic_eq_1 and of quadratic_eq_2 are different. The reason is that float have limited precision.\\n\")\n",
    "\n",
    "print(\"quadratic_eq_corr =\",r3)\n",
    "\n"
   ]
  },
  {
   "cell_type": "markdown",
   "metadata": {},
   "source": [
    "6\\. Write a program that implements the function $f(x)=x(x−1)$\n",
    "\n",
    "(a) Calculate the derivative of the function at the point $x = 1$ using the derivative definition:\n",
    "\n",
    "$$\n",
    "\\frac{{\\rm d}f}{{\\rm d}x} = \\lim_{\\delta\\to0} \\frac{f(x+\\delta)-f(x)}{\\delta}\n",
    "$$\n",
    "\n",
    "with $\\delta = 10^{−2}$. Calculate the true value of the same derivative analytically and compare it with the answer your program gives. The two will not agree perfectly. Why?\n",
    "\n",
    "(b) Repeat the calculation for $\\delta = 10^{−4}, 10^{−6}, 10^{−8}, 10^{−10}, 10^{−12}$ and $10^{−14}$. How does the accuracy scales with $\\delta$?"
   ]
  },
  {
   "cell_type": "code",
   "execution_count": 8,
   "metadata": {},
   "outputs": [
    {
     "name": "stdout",
     "output_type": "stream",
     "text": [
      "delta=  0.01 \t 1.010000000000001\n",
      "delta=  0.0001 \t 1.0000999999998899\n",
      "delta=  1e-06 \t 1.0000009999177333\n",
      "delta=  1e-08 \t 1.0000000039225287\n",
      "delta=  1e-10 \t 1.000000082840371\n",
      "delta=  1e-12 \t 1.0000889005833413\n",
      "delta=  1e-14 \t 0.9992007221626509\n",
      "\n",
      "\n",
      "Accuracy increases as delta decreases. However a very small delta leads to an error in the calculation of the derivative\n"
     ]
    }
   ],
   "source": [
    "def function(x):\n",
    "    return x*(x-1)\n",
    "\n",
    "def incremental_ratio(delta):\n",
    "    return (function(x+delta)-function(x))/delta\n",
    "    \n",
    "x = 1\n",
    "\n",
    "for i in range(-2,-16,-2):\n",
    "    delta = pow(10,i)\n",
    "    print(\"delta= \",delta,\"\\t\",incremental_ratio(delta))\n",
    "\n",
    "\n",
    "print(\"\\n\")\n",
    "print(\"Accuracy increases as delta decreases. However a very small delta leads to an error in the calculation of the derivative\")"
   ]
  },
  {
   "cell_type": "markdown",
   "metadata": {},
   "source": [
    "7\\. Consider the integral of the semicircle of radius 1:\n",
    "$$\n",
    "I=\\int_{-1}^{1} \\sqrt(1-x^2) {\\rm d}x\n",
    "$$\n",
    "which is known to be $I=\\frac{\\pi}{2}=1.57079632679...$.\n",
    "\n",
    "Alternatively we can use the Riemann definition of the integral:\n",
    "$$\n",
    "I=\\lim_{N\\to\\infty} \\sum_{k=1}^{N} h y_k \n",
    "$$\n",
    "\n",
    "with $h=2/N$ the width of each of the $N$ slices the domain is divided into and where\n",
    "$y_k$ is the value of the function at the $k-$th slice.\n",
    "\n",
    "(a) Write a program to compute the integral with $N=100$. How does the result compare to the true value?\n",
    "\n",
    "(b) How much can $N$ be increased if the computation needs to be run in less than a second? What is the gain in running it for 1 minute? \n"
   ]
  },
  {
   "cell_type": "code",
   "execution_count": 1,
   "metadata": {},
   "outputs": [
    {
     "name": "stdout",
     "output_type": "stream",
     "text": [
      "For N=100, I = 1.5691342555492505\n",
      "Runtime is 0.0016570091247558594\n",
      "For N= 1499 I = 1.5707677007686625\n",
      "The gain in running 1s is: 0.0016334452194119997\n",
      "Runtime is 58.73915386199951\n",
      "For N= 115539999 I = 1.5707963267939176\n",
      "The gain in running 60s is: 0.001662071244667107\n"
     ]
    }
   ],
   "source": [
    "import math\n",
    "import time\n",
    "\n",
    "#a)\n",
    "\n",
    "N1=100\n",
    "h = 2/N1\n",
    "I = 0\n",
    "\n",
    "for k in range(1, N1+1):\n",
    "    y = math.sqrt(1-(h*k-1)**2)\n",
    "    I = I + abs(y*h)\n",
    "print(\"For N=100, I =\",I)\n",
    "\n",
    "\n",
    "#b)\n",
    "#1 sec\n",
    "k = 0\n",
    "N2 = 1500\n",
    "h2 = 2/N2\n",
    "I2 = 0\n",
    "\n",
    "start = time.time()\n",
    "\n",
    "for k in range(1, N2):\n",
    "    yk = math.sqrt(1-(h2*k-1)**2)\n",
    "    I2 = I2+abs(h2*yk)\n",
    "end = time.time()\n",
    "\n",
    "\n",
    "print(\"Runtime is\",end - start)\n",
    "print(\"For N=\", k, \"I =\", I2)\n",
    "print(\"The gain in running 1s is:\", I2-I)\n",
    "\n",
    "#60 sec\n",
    "k = 0\n",
    "N3 = 115540000\n",
    "h3 = 2/N3\n",
    "I3 = 0\n",
    "\n",
    "start = time.time()\n",
    "\n",
    "for k in range(1, N3):\n",
    "    yk = math.sqrt(1-(h3*k-1)**2)\n",
    "    I3 = I3+abs(h3*yk)\n",
    "end = time.time()\n",
    "\n",
    "#60 sec\n",
    "print(\"Runtime is\",end - start)\n",
    "print(\"For N=\", k, \"I =\", I3)\n",
    "print(\"The gain in running 60s is:\", I3-I)\n"
   ]
  },
  {
   "cell_type": "code",
   "execution_count": null,
   "metadata": {},
   "outputs": [],
   "source": []
  }
 ],
 "metadata": {
  "kernelspec": {
   "display_name": "Python 3",
   "language": "python",
   "name": "python3"
  },
  "language_info": {
   "codemirror_mode": {
    "name": "ipython",
    "version": 3
   },
   "file_extension": ".py",
   "mimetype": "text/x-python",
   "name": "python",
   "nbconvert_exporter": "python",
   "pygments_lexer": "ipython3",
   "version": "3.8.8"
  }
 },
 "nbformat": 4,
 "nbformat_minor": 2
}
