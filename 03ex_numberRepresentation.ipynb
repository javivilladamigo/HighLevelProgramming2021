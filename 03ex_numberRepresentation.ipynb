{
 "cells": [
  {
   "cell_type": "markdown",
   "metadata": {},
   "source": [
    "1\\. Write a function that converts numbers among the bin, dec, and hex representations (bin<->dec<->hex)"
   ]
  },
  {
   "cell_type": "code",
   "execution_count": 5,
   "metadata": {},
   "outputs": [
    {
     "name": "stdout",
     "output_type": "stream",
     "text": [
      "{'decimal': 27, 'hex': '0x1b'}\n",
      "{'binary': '0b11011', 'hex': '0x1b'}\n",
      "{'binary': '0b11011', 'decimal': 27}\n"
     ]
    }
   ],
   "source": [
    "def number_converter(number, base_type):\n",
    "    if base_type == 'binary':\n",
    "        return {\n",
    "            'decimal': int(number, 2),\n",
    "            'hex': hex(int(number, 2))\n",
    "        }\n",
    "    if base_type == 'decimal':\n",
    "        return {\n",
    "            'binary': bin(number),\n",
    "            'hex': hex(number)\n",
    "        }\n",
    "    #if hex\n",
    "    else:\n",
    "        return {\n",
    "            'binary': bin(int(number, 16)),\n",
    "            'decimal': int(number, 16)\n",
    "        }\n",
    "    \n",
    "a = bin(27)\n",
    "b = 27\n",
    "c = hex(27)\n",
    "print(number_converter(a, 'binary'))\n",
    "print(number_converter(b, 'decimal'))\n",
    "print(number_converter(c, 'hex'))"
   ]
  },
  {
   "cell_type": "markdown",
   "metadata": {},
   "source": [
    "2\\. Write a function that converts a 32 bit word into a single precision floating point (i.e. interprets the various bits as sign, mantissa and exponent) and check its validity."
   ]
  },
  {
   "cell_type": "code",
   "execution_count": 8,
   "metadata": {},
   "outputs": [
    {
     "name": "stdout",
     "output_type": "stream",
     "text": [
      "1.2775\n"
     ]
    }
   ],
   "source": [
    "x = '00111111101000111000010100011110' #32 bit representation of 1.2775 (random number)\n",
    "\n",
    "def bin_to_float_converter(number):\n",
    "    sign = int(number[0], 2)\n",
    "    exp = int(number[-31:-23], 2)-127\n",
    "    mantissa = 1\n",
    "    for x, y in zip(number[9:32], range(1, len(number[9:32]))):\n",
    "        mantissa += int(x) * 2 ** (-y)\n",
    "    \n",
    "    return (-1) ** sign * ( 2 ** exp * mantissa)\n",
    "\n",
    "print('{:.4f}'.format(bin_to_float_converter(x)))"
   ]
  },
  {
   "cell_type": "markdown",
   "metadata": {},
   "source": [
    "3\\. Write a program to determine the underflow and overflow limits (within a factor of 2) for python on your computer. \n",
    "\n",
    "**Tip**: define two variables initialized to 1 and halve/double them for a sufficient amount of times to exceed the under/over-flow limits  "
   ]
  },
  {
   "cell_type": "code",
   "execution_count": 9,
   "metadata": {},
   "outputs": [
    {
     "name": "stdout",
     "output_type": "stream",
     "text": [
      "overflow limit: 8.98846567431158e+307\n",
      "underflow limit: 5e-324\n"
     ]
    }
   ],
   "source": [
    "def calculate_overflow():\n",
    "    number = 1\n",
    "    previous_number = 0\n",
    "    while number != float('inf'):\n",
    "        previous_number = number\n",
    "        number = number * 2.0\n",
    "    print('overflow limit: ' + str(previous_number))\n",
    "\n",
    "def calculate_underflow():\n",
    "    number = 1\n",
    "    previous_number = 0\n",
    "    while number != 0:\n",
    "        previous_number = number\n",
    "        number = number / 2.0\n",
    "    print('underflow limit: '+ str(previous_number))\n",
    "\n",
    "calculate_overflow()\n",
    "calculate_underflow()"
   ]
  },
  {
   "cell_type": "markdown",
   "metadata": {},
   "source": [
    "4\\. Write a program to determine the machine precision\n",
    "\n",
    "**Tip**: define a new variable by adding an increasingly smaller value (in the same way as the previous problem) and check when the addition starts to have no effect on the number"
   ]
  },
  {
   "cell_type": "code",
   "execution_count": 10,
   "metadata": {},
   "outputs": [
    {
     "name": "stdout",
     "output_type": "stream",
     "text": [
      "81\n",
      "108.0\n",
      "121.5\n",
      "128.25\n",
      "131.625\n",
      "133.3125\n",
      "134.15625\n",
      "134.578125\n",
      "134.7890625\n",
      "134.89453125\n",
      "134.947265625\n",
      "134.9736328125\n",
      "134.98681640625\n",
      "134.993408203125\n",
      "134.9967041015625\n",
      "134.99835205078125\n",
      "134.99917602539062\n",
      "134.9995880126953\n",
      "134.99979400634766\n",
      "134.99989700317383\n",
      "134.9999485015869\n",
      "134.99997425079346\n",
      "134.99998712539673\n",
      "134.99999356269836\n",
      "134.99999678134918\n",
      "134.9999983906746\n",
      "134.9999991953373\n",
      "134.99999959766865\n",
      "134.99999979883432\n",
      "134.99999989941716\n",
      "134.99999994970858\n",
      "134.9999999748543\n",
      "134.99999998742715\n",
      "134.99999999371357\n",
      "134.9999999968568\n",
      "134.9999999984284\n",
      "134.9999999992142\n",
      "134.9999999996071\n",
      "134.99999999980355\n",
      "134.99999999990177\n",
      "134.9999999999509\n",
      "134.99999999997544\n",
      "134.99999999998772\n",
      "134.99999999999386\n",
      "134.99999999999693\n",
      "134.99999999999847\n",
      "134.99999999999923\n",
      "134.9999999999996\n",
      "134.9999999999998\n",
      "134.9999999999999\n",
      "134.99999999999994\n",
      "134.99999999999997\n",
      "134.99999999999997\n"
     ]
    }
   ],
   "source": [
    "def machine_precision(starting_number, increment):\n",
    "    number = starting_number\n",
    "    previous_number = 0\n",
    "    while number != previous_number:\n",
    "        previous_number = number\n",
    "        number += increment\n",
    "        increment = increment / 2\n",
    "        print(number)\n",
    "\n",
    "x = 27\n",
    "machine_precision(x, x * 2)"
   ]
  },
  {
   "cell_type": "markdown",
   "metadata": {},
   "source": [
    "5\\. Write a function that takes in input three parameters $a$, $b$ and $c$ and prints out the two solutions to the quadratic equation $ax^2+bx+c=0$ using the standard formula:\n",
    "$$\n",
    "x=\\frac{-b\\pm\\sqrt{b^2-4ac}}{2a}\n",
    "$$\n",
    "\n",
    "(a) use the program to compute the solution for $a=0.001$, $b=1000$ and $c=0.001$\n",
    "\n",
    "(b) re-express the standard solution formula by multiplying the numerator and the denominator by $-b\\mp\\sqrt{b^2-4ac}$ and again find the solution for $a=0.001$, $b=1000$ and $c=0.001$. How does it compare with what has been previously obtained, and why?\n",
    "\n",
    "(c) write a function that computes the roots of a quadratic equation accurately in all cases"
   ]
  },
  {
   "cell_type": "code",
   "execution_count": 15,
   "metadata": {},
   "outputs": [
    {
     "name": "stdout",
     "output_type": "stream",
     "text": [
      "(-9.999894245993346e-07, -999999.999999)\n",
      "(-1000010.5755125057, -1.000000000001e-06)\n"
     ]
    }
   ],
   "source": [
    "from math import sqrt\n",
    "\n",
    "def quadratic_equation_one(a, b, c):\n",
    "    delta = b ** 2 - 4 * a * c\n",
    "    x1 = .5 * (-b + sqrt(delta)) / a\n",
    "    x2 = .5 * (-b - sqrt(delta)) / a\n",
    "    return (x1, x2)\n",
    "\n",
    "def quadratic_equation_two(a, b, c):\n",
    "    delta = b ** 2 - 4 * a * c\n",
    "    x1 = 2 * c / (-b + sqrt(delta))\n",
    "    x2 = 2 * c / (-b - sqrt(delta))\n",
    "    return (x1, x2)\n",
    "\n",
    "a = 0.001\n",
    "b = 1000\n",
    "c = 0.001\n",
    "\n",
    "print(quadratic_equation_one(a, b, c))\n",
    "print(quadratic_equation_two(a, b, c))\n",
    "#the reason of the difference in the two outputs is due to the fact that there is a problem of cancellation in the first\n",
    "#formula in both cases"
   ]
  },
  {
   "cell_type": "markdown",
   "metadata": {},
   "source": [
    "6\\. Write a program that implements the function $f(x)=x(x−1)$\n",
    "\n",
    "(a) Calculate the derivative of the function at the point $x = 1$ using the derivative definition:\n",
    "\n",
    "$$\n",
    "\\frac{{\\rm d}f}{{\\rm d}x} = \\lim_{\\delta\\to0} \\frac{f(x+\\delta)-f(x)}{\\delta}\n",
    "$$\n",
    "\n",
    "with $\\delta = 10^{−2}$. Calculate the true value of the same derivative analytically and compare it with the answer your program gives. The two will not agree perfectly. Why?\n",
    "\n",
    "(b) Repeat the calculation for $\\delta = 10^{−4}, 10^{−6}, 10^{−8}, 10^{−10}, 10^{−12}$ and $10^{−14}$. How does the accuracy scales with $\\delta$?"
   ]
  },
  {
   "cell_type": "code",
   "execution_count": 2,
   "metadata": {},
   "outputs": [
    {
     "name": "stdout",
     "output_type": "stream",
     "text": [
      " f(1) = 1.0099999999999998, delta = 0.01\n",
      " f(1) = 1.0000999999992821, delta = 0.0001\n",
      " f(1) = 1.000001000006634, delta = 1e-06\n",
      " f(1) = 0.999999993922529, delta = 1e-08\n",
      " f(1) = 1.000000082740371, delta = 1e-10\n",
      " f(1) = 1.000088900582341, delta = 1e-12\n",
      " f(1) = 0.9992007221626409, delta = 1e-14\n"
     ]
    }
   ],
   "source": [
    "def derivative(f, x, d):\n",
    "    return (f(x + d) - f(x)) / d\n",
    "\n",
    "for i in range(2, 16, 2):\n",
    "    d = 10 ** (-i)\n",
    "    derivate = derivative(lambda x: x**2 - x, 1, d)\n",
    "    print(' f(1) = {}, delta = {}'.format(derivate, d))"
   ]
  },
  {
   "cell_type": "markdown",
   "metadata": {},
   "source": [
    "7\\. Consider the integral of the semicircle of radius 1:\n",
    "$$\n",
    "I=\\int_{-1}^{1} \\sqrt(1-x^2) {\\rm d}x\n",
    "$$\n",
    "which is known to be $I=\\frac{\\pi}{2}=1.57079632679...$.\n",
    "\n",
    "Alternatively we can use the Riemann definition of the integral:\n",
    "$$\n",
    "I=\\lim_{N\\to\\infty} \\sum_{k=1}^{N} h y_k \n",
    "$$\n",
    "\n",
    "with $h=2/N$ the width of each of the $N$ slices the domain is divided into and where\n",
    "$y_k$ is the value of the function at the $k-$th slice.\n",
    "\n",
    "(a) Write a program to compute the integral with $N=100$. How does the result compare to the true value?\n",
    "\n",
    "(b) How much can $N$ be increased if the computation needs to be run in less than a second? What is the gain in running it for 1 minute? \n"
   ]
  },
  {
   "cell_type": "code",
   "execution_count": 1,
   "metadata": {},
   "outputs": [
    {
     "name": "stdout",
     "output_type": "stream",
     "text": [
      "Riemann: 1.5691342555492505\n",
      "Max N for 60 seconds: 79900\n",
      "Integral value: 1.5707962531580333\n"
     ]
    }
   ],
   "source": [
    "import time\n",
    "import numpy as np\n",
    "import math\n",
    "\n",
    "def f(x):\n",
    "    return np.sqrt(1 - x ** 2)\n",
    "\n",
    "def riemann_integral(N, inf, sup):\n",
    "    integral = 0\n",
    "    for y in range(1, N+1):\n",
    "        h = (sup - inf) / N\n",
    "        integral = integral + f(inf + h * y) * h\n",
    "    return integral\n",
    "\n",
    "print('Riemann: {}'.format(riemann_integral(100, -1, 1)))\n",
    "\n",
    "N = 100\n",
    "starting_time = time.time()\n",
    "result = riemann_integral(N, -1, 1)\n",
    "curr_time = time.time() - starting_time\n",
    "while curr_time < 60:\n",
    "    N = N + 100\n",
    "    result = riemann_integral(N, -1, 1)\n",
    "    curr_time = time.time() - starting_time\n",
    "print('Max N for 60 seconds: {}'.format(N))\n",
    "print('Integral value: {}'.format(result)) # we can see there's a slight difference between the two but it is not negligible"
   ]
  },
  {
   "cell_type": "code",
   "execution_count": null,
   "metadata": {},
   "outputs": [],
   "source": []
  }
 ],
 "metadata": {
  "kernelspec": {
   "display_name": "Python 3",
   "language": "python",
   "name": "python3"
  },
  "language_info": {
   "codemirror_mode": {
    "name": "ipython",
    "version": 3
   },
   "file_extension": ".py",
   "mimetype": "text/x-python",
   "name": "python",
   "nbconvert_exporter": "python",
   "pygments_lexer": "ipython3",
   "version": "3.7.5"
  }
 },
 "nbformat": 4,
 "nbformat_minor": 2
}
