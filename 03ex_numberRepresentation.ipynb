{
 "cells": [
  {
   "cell_type": "markdown",
   "metadata": {},
   "source": [
    "1\\. Write a function that converts numbers among the bin, dec, and hex representations (bin<->dec<->hex)"
   ]
  },
  {
   "cell_type": "code",
   "execution_count": 1,
   "metadata": {},
   "outputs": [],
   "source": [
    "def conversion(num, orig, dest):\n",
    "    \n",
    "    #from dec to bin\n",
    "    if orig == 'deca' and dest == 'binary':\n",
    "        out = bin(num)\n",
    "        \n",
    "    #from dec to hex\n",
    "    elif orig == 'deca' and dest == 'hexa':\n",
    "        out = hex(num)        \n",
    "        \n",
    "    #from bin to dec\n",
    "    elif orig == 'binary' and dest == 'deca':\n",
    "        out = int(num, 2)\n",
    "    \n",
    "    #from bin to hex\n",
    "    elif orig == 'binary' and dest == 'hexa':\n",
    "        num = int(num, 2)\n",
    "        out = hex(num)\n",
    "       \n",
    "    #from hex to bin\n",
    "    elif orig == 'hexa' and dest == 'binary':\n",
    "        num = int(num, 16)\n",
    "        out = bin(num)\n",
    "       \n",
    "    #from hex to dec\n",
    "    elif orig == 'hexa' and dest == 'deca':\n",
    "        out = int(num, 16)\n",
    "        \n",
    "    return out"
   ]
  },
  {
   "cell_type": "code",
   "execution_count": 2,
   "metadata": {},
   "outputs": [
    {
     "name": "stdout",
     "output_type": "stream",
     "text": [
      "The hexa number is 0xa and its conversion to binary is 0b1010\n",
      "The deca number is 10 and its conversion to binary is 0b1010\n",
      "The binary number is 0b1010 and its conversion to deca is 10\n"
     ]
    }
   ],
   "source": [
    "origin = 'hexa'\n",
    "destination = 'binary'\n",
    "value = '0xa'\n",
    "converted = conversion(value, origin, destination)\n",
    "print(f'The {origin} number is {value} and its conversion to {destination} is {converted}')\n",
    "\n",
    "origin = 'deca'\n",
    "destination = 'binary'\n",
    "value = 10\n",
    "converted = conversion(value, origin, destination)\n",
    "print(f'The {origin} number is {value} and its conversion to {destination} is {converted}')\n",
    "\n",
    "origin = 'binary'\n",
    "destination = 'deca'\n",
    "value = '0b1010'\n",
    "converted = conversion(value, origin, destination)\n",
    "print(f'The {origin} number is {value} and its conversion to {destination} is {converted}')"
   ]
  },
  {
   "cell_type": "markdown",
   "metadata": {},
   "source": [
    "2\\. Write a function that converts a 32 bit word into a single precision floating point (i.e. interprets the various bits as sign, mantissa and exponent) and check its validity."
   ]
  },
  {
   "cell_type": "code",
   "execution_count": 3,
   "metadata": {},
   "outputs": [],
   "source": [
    "# from the 32 bit to the correspondent number\n",
    "def conversion_32(word):\n",
    "    \n",
    "    \n",
    "    #sign\n",
    "    if word[0] == '0':\n",
    "        sign = 1\n",
    "    else:\n",
    "        sign = -1\n",
    "    \n",
    "    #exponent\n",
    "    exp = word[1:9]\n",
    "    exp = '0b'+exp\n",
    "    exp = int(exp, 2)\n",
    "    deca_exp = int(exp) - 127\n",
    "    \n",
    "    #mantissa\n",
    "    mantissa = 0\n",
    "    for index, val in enumerate(word[9:len(word)]):\n",
    "        mantissa = mantissa + int(val)*(2**(-(index+1)))\n",
    "        \n",
    "    #final values\n",
    "    output = ((-1)**sign) * (1+round(mantissa,5)) * (2**deca_exp)\n",
    "    \n",
    "    #check\n",
    "    if sign == 1 and exp == 255 and mantissa == 0:\n",
    "        return float(\"inf\")\n",
    "    \n",
    "    elif sign == -1 and exp == 255 and mantissa == 0:\n",
    "        return float(\"-inf\")\n",
    "    \n",
    "    elif exp == 255 and mantissa > 0:\n",
    "        return float(\"Nan\")\n",
    "\n",
    "    else:\n",
    "        return output\n",
    "        "
   ]
  },
  {
   "cell_type": "code",
   "execution_count": 4,
   "metadata": {},
   "outputs": [
    {
     "name": "stdout",
     "output_type": "stream",
     "text": [
      "Conversion for 11000000101100000000000000000001 in single floating point is -5.5\n",
      "Conversion for 01111111100000000000000000000000 in single floating point is inf\n",
      "Conversion for 11111111100000000000000000000000 in single floating point is -inf\n",
      "Conversion for 11111111100000000000000000000001 in single floating point is nan\n"
     ]
    }
   ],
   "source": [
    "word = '11000000101100000000000000000001'\n",
    "conv = conversion_32(word)\n",
    "print(f'Conversion for {word} in single floating point is {conv}')\n",
    "\n",
    "word = '01111111100000000000000000000000'\n",
    "conv = conversion_32(word)\n",
    "print(f'Conversion for {word} in single floating point is {conv}')\n",
    "\n",
    "word = '11111111100000000000000000000000'\n",
    "conv = conversion_32(word)\n",
    "print(f'Conversion for {word} in single floating point is {conv}')\n",
    "\n",
    "word = '11111111100000000000000000000001'\n",
    "conv = conversion_32(word)\n",
    "print(f'Conversion for {word} in single floating point is {conv}')\n"
   ]
  },
  {
   "cell_type": "markdown",
   "metadata": {},
   "source": [
    "3\\. Write a program to determine the underflow and overflow limits (within a factor of 2) for python on your computer. \n",
    "\n",
    "**Tip**: define two variables initialized to 1 and halve/double them for a sufficient amount of times to exceed the under/over-flow limits  "
   ]
  },
  {
   "cell_type": "code",
   "execution_count": 5,
   "metadata": {},
   "outputs": [],
   "source": [
    "def limits():\n",
    "    underflow = 1.0\n",
    "    overflow = 1.0\n",
    "    \n",
    "    for i in range(10000):\n",
    "       \n",
    "        while underflow != 0:\n",
    "            old_underflow = underflow\n",
    "            underflow = underflow/2            \n",
    "            \n",
    "        while overflow < float('inf'):\n",
    "            old_overflow = overflow\n",
    "            overflow = overflow*2\n",
    "    \n",
    "    return old_underflow, old_overflow\n",
    "        "
   ]
  },
  {
   "cell_type": "code",
   "execution_count": 6,
   "metadata": {},
   "outputs": [
    {
     "name": "stdout",
     "output_type": "stream",
     "text": [
      "The underflow limit is 5e-324, while the overflow one is 8.98846567431158e+307\n",
      "If I divided again the underflow limit the result is 0.0, while multplying the overflow it is inf\n"
     ]
    }
   ],
   "source": [
    "under, over = limits()\n",
    "\n",
    "print(f'The underflow limit is {under}, while the overflow one is {over}')\n",
    "print(f'If I divided again the underflow limit the result is {under/2}, while multplying the overflow it is {over*2}')"
   ]
  },
  {
   "cell_type": "markdown",
   "metadata": {},
   "source": [
    "4\\. Write a program to determine the machine precision\n",
    "\n",
    "**Tip**: define a new variable by adding an increasingly smaller value (in the same way as the previous problem) and check when the addition starts to have no effect on the number"
   ]
  },
  {
   "cell_type": "code",
   "execution_count": 7,
   "metadata": {},
   "outputs": [],
   "source": [
    "def precision():\n",
    "    \n",
    "    val = 1.0\n",
    "    old_val = 0.0\n",
    "    additive = 0.1\n",
    "    count = 1\n",
    "    \n",
    "    for i in range(200):       \n",
    "        while old_val < val:\n",
    "            old_val = val\n",
    "            val = val + additive/(10**count)\n",
    "            count = count+1\n",
    "\n",
    "    return old_val, count"
   ]
  },
  {
   "cell_type": "code",
   "execution_count": 8,
   "metadata": {},
   "outputs": [
    {
     "name": "stdout",
     "output_type": "stream",
     "text": [
      "The machine precision is 1e-15\n",
      "If I add 1e-16 to 1.011111111111111, the obtained result is the same: 1.011111111111111\n",
      "Instead if I add 1e-15 to 1.011111111111111, the obtained result changes: 1.0111111111111122\n"
     ]
    }
   ],
   "source": [
    "val, count = precision()\n",
    "print(f'The machine precision is {1/(10**(count-1))}')\n",
    "print(f'If I add {1/(10**(count))} to {val}, the obtained result is the same: {val+1/(10**(count))}')\n",
    "print(f'Instead if I add {1/(10**(count-1))} to {val}, the obtained result changes: {val+1/(10**(count-1))}')"
   ]
  },
  {
   "cell_type": "markdown",
   "metadata": {},
   "source": [
    "5\\. Write a function that takes in input three parameters $a$, $b$ and $c$ and prints out the two solutions to the quadratic equation $ax^2+bx+c=0$ using the standard formula:\n",
    "$$\n",
    "x=\\frac{-b\\pm\\sqrt{b^2-4ac}}{2a}\n",
    "$$\n",
    "\n",
    "(a) use the program to compute the solution for $a=0.001$, $b=1000$ and $c=0.001$\n",
    "\n",
    "(b) re-express the standard solution formula by multiplying the numerator and the denominator by $-b\\mp\\sqrt{b^2-4ac}$ and again find the solution for $a=0.001$, $b=1000$ and $c=0.001$. How does it compare with what has been previously obtained, and why?\n",
    "\n",
    "(c) write a function that computes the roots of a quadratic equation accurately in all cases"
   ]
  },
  {
   "cell_type": "code",
   "execution_count": 9,
   "metadata": {},
   "outputs": [
    {
     "name": "stdout",
     "output_type": "stream",
     "text": [
      "The two solutions of the quadratic form are: -9.999894245993346e-07 and -999999.999999\n"
     ]
    }
   ],
   "source": [
    "import math\n",
    "def quadratic(a,b,c):\n",
    "    root = math.sqrt(math.pow(b,2) - 4*a*c)\n",
    "    x_pos = (-b+root)/(2*a)\n",
    "    x_neg = (-b-root)/(2*a)\n",
    "\n",
    "    return x_pos, x_neg\n",
    "\n",
    "a,b,c = 0.001, 1000, 0.001\n",
    "x_pos, x_neg = quadratic(a,b,c)\n",
    "print(f'The two solutions of the quadratic form are: {x_pos} and {x_neg}')"
   ]
  },
  {
   "cell_type": "code",
   "execution_count": 10,
   "metadata": {},
   "outputs": [
    {
     "name": "stdout",
     "output_type": "stream",
     "text": [
      "The two solutions of the quadratic form are: -9.999894245993346e-07 and -999999.9999990001\n"
     ]
    }
   ],
   "source": [
    "def quadratic_b(a,b,c):\n",
    "    root = math.sqrt(math.pow(b,2) - 4*a*c)\n",
    "    x_pos = ((-b+root)*(-b-root)) / ((2*a)*(-b-root))\n",
    "    x_neg = ((-b-root)*(-b+root)) / ((2*a)*(-b+root))\n",
    "    \n",
    "    return x_pos, x_neg\n",
    "\n",
    "a,b,c = 0.001, 1000, 0.001\n",
    "x_pos_b, x_neg_b = quadratic_b(a,b,c)\n",
    "print(f'The two solutions of the quadratic form are: {x_pos_b} and {x_neg_b}')"
   ]
  },
  {
   "cell_type": "code",
   "execution_count": 18,
   "metadata": {},
   "outputs": [
    {
     "name": "stdout",
     "output_type": "stream",
     "text": [
      "The two result differs in the negative root\n",
      "In a) the numerator is -1999.999999998 and the denominator is 0.002\n",
      "Both of them have less than 15 significative digits\n",
      "In b) the numerator is 3.999957698393339e-06 while the denominator is -3.999957698397338e-12\n",
      "Both pf them have 15 significative digits, which is the maximum number of significative digits\n",
      "Operating with such number at the precision limits could lead to some calculation problems\n"
     ]
    }
   ],
   "source": [
    "a,b,c = 0.001, 1000, 0.001\n",
    "root = math.sqrt(math.pow(b,2) - 4*a*c)\n",
    "\n",
    "print(f'The two result differs in the negative root')\n",
    "print(f'In a) the numerator is {-b-root} and the denominator is {2*a}')\n",
    "print('Both of them have less than 15 significative digits')\n",
    "print(f'In b) the numerator is {(-b-root)*(-b+root)} while the denominator is {(2*a)*(-b+root)}')\n",
    "print('Both pf them have 15 significative digits, which is the maximum number of significative digits')\n",
    "print('Operating with such number at the precision limits could lead to some calculation problems')\n"
   ]
  },
  {
   "cell_type": "code",
   "execution_count": 12,
   "metadata": {},
   "outputs": [
    {
     "name": "stdout",
     "output_type": "stream",
     "text": [
      "The two solutions of the quadratic form as in case a) are: -9.999894245993346e-07 and -999999.999999\n",
      "The two solutions of the quadratic form as in case b) are: -9.999894245993346e-07 and -999999.999999\n"
     ]
    }
   ],
   "source": [
    "def quadratic_accurate(a,b,c, re_exp):\n",
    "    root = math.sqrt(math.pow(b,2) - 4*a*c)\n",
    "    x_pos = (-b+root)/(2*a)\n",
    "    x_neg = (-b-root)/(2*a)\n",
    "    \n",
    "    if re_exp == True:\n",
    "        pos_term = (-b-root)/(-b-root)\n",
    "        neg_term = (-b+root)/(-b+root)\n",
    "        x_pos = x_pos * pos_term\n",
    "        x_neg = x_neg * neg_term\n",
    "    \n",
    "    return x_pos, x_neg\n",
    "\n",
    "a,b,c = 0.001, 1000, 0.001\n",
    "x_pos_b, x_neg_b = quadratic_accurate(a,b,c, True)\n",
    "print(f'The two solutions of the quadratic form as in case a) are: {x_pos_b} and {x_neg_b}')\n",
    "\n",
    "a,b,c = 0.001, 1000, 0.001\n",
    "x_pos_b, x_neg_b = quadratic_accurate(a,b,c, False)\n",
    "print(f'The two solutions of the quadratic form as in case b) are: {x_pos_b} and {x_neg_b}')\n",
    "    "
   ]
  },
  {
   "cell_type": "markdown",
   "metadata": {},
   "source": [
    "6\\. Write a program that implements the function $f(x)=x(x−1)$\n",
    "\n",
    "(a) Calculate the derivative of the function at the point $x = 1$ using the derivative definition:\n",
    "\n",
    "$$\n",
    "\\frac{{\\rm d}f}{{\\rm d}x} = \\lim_{\\delta\\to0} \\frac{f(x+\\delta)-f(x)}{\\delta}\n",
    "$$\n",
    "\n",
    "with $\\delta = 10^{−2}$. Calculate the true value of the same derivative analytically and compare it with the answer your program gives. The two will not agree perfectly. Why?\n",
    "\n",
    "(b) Repeat the calculation for $\\delta = 10^{−4}, 10^{−6}, 10^{−8}, 10^{−10}, 10^{−12}$ and $10^{−14}$. How does the accuracy scales with $\\delta$?"
   ]
  },
  {
   "cell_type": "code",
   "execution_count": 20,
   "metadata": {},
   "outputs": [
    {
     "name": "stdout",
     "output_type": "stream",
     "text": [
      "The derivative of the function for delta equal to 0.01 is 1.010000000000001\n",
      "The error with the analytical result f'(1) = 1 is -0.010000000000000897\n",
      "The problem stays in the number of significative digits in the numerator\n"
     ]
    }
   ],
   "source": [
    "def f(x):\n",
    "    return x*(x-1)\n",
    "\n",
    "\n",
    "val = 1\n",
    "delta = 0.01\n",
    "\n",
    "der = (f(val+delta) - f(val))/ delta\n",
    "\n",
    "print(f'The derivative of the function for delta equal to {delta} is {der}')\n",
    "print(f\"The error with the analytical result f'(1) = 1 is {1-der}\")\n",
    "print(f'The problem stays in the number of significative digits in the numerator')"
   ]
  },
  {
   "cell_type": "code",
   "execution_count": 21,
   "metadata": {},
   "outputs": [
    {
     "name": "stdout",
     "output_type": "stream",
     "text": [
      "The derivative of the function for delta equal to 0.0001 is 1.0000999999998899\n",
      "The error with the analytical result f'(1) = 1 is -9.999999988985486e-05\n",
      "The derivative of the function for delta equal to 1e-06 is 1.0000009999177333\n",
      "The error with the analytical result f'(1) = 1 is -9.99917733279787e-07\n",
      "The derivative of the function for delta equal to 1e-08 is 1.0000000039225287\n",
      "The error with the analytical result f'(1) = 1 is -3.922528746258536e-09\n",
      "The derivative of the function for delta equal to 1e-10 is 1.000000082840371\n",
      "The error with the analytical result f'(1) = 1 is -8.284037100736441e-08\n",
      "The derivative of the function for delta equal to 1e-12 is 1.0000889005833413\n",
      "The error with the analytical result f'(1) = 1 is -8.890058334132256e-05\n",
      "The derivative of the function for delta equal to 1e-14 is 0.9992007221626509\n",
      "The error with the analytical result f'(1) = 1 is 0.0007992778373491216\n",
      "As delta increase the error decrease up to 1e-8, while then it increase again\n",
      "For this reason the algorithm is unstable\n"
     ]
    }
   ],
   "source": [
    "val = 1\n",
    "for i in range(4,15,2):\n",
    "    delta = 10**(-i)\n",
    "    der = (f(val+delta) - f(val))/ delta\n",
    "    print(f'The derivative of the function for delta equal to {delta} is {der}')\n",
    "    print(f\"The error with the analytical result f'(1) = 1 is {1-der}\")\n",
    "    \n",
    "print('As delta increase the error decrease up to 1e-8, while then it increase again')\n",
    "print('For this reason the algorithm is unstable')"
   ]
  },
  {
   "cell_type": "markdown",
   "metadata": {},
   "source": [
    "7\\. Consider the integral of the semicircle of radius 1:\n",
    "$$\n",
    "I=\\int_{-1}^{1} \\sqrt(1-x^2) {\\rm d}x\n",
    "$$\n",
    "which is known to be $I=\\frac{\\pi}{2}=1.57079632679...$.\n",
    "\n",
    "Alternatively we can use the Riemann definition of the integral:\n",
    "$$\n",
    "I=\\lim_{N\\to\\infty} \\sum_{k=1}^{N} h y_k \n",
    "$$\n",
    "\n",
    "with $h=2/N$ the width of each of the $N$ slices the domain is divided into and where\n",
    "$y_k$ is the value of the function at the $k-$th slice.\n",
    "\n",
    "(a) Write a program to compute the integral with $N=100$. How does the result compare to the true value?\n",
    "\n",
    "(b) How much can $N$ be increased if the computation needs to be run in less than a second? What is the gain in running it for 1 minute? \n"
   ]
  },
  {
   "cell_type": "code",
   "execution_count": 15,
   "metadata": {},
   "outputs": [
    {
     "name": "stdout",
     "output_type": "stream",
     "text": [
      "The integral with N equal to 100 is 1.5712827762297954\n",
      "The difference with the true value is 0.00048644943489883907\n"
     ]
    }
   ],
   "source": [
    "def f(x):\n",
    "    return math.sqrt(1-x*x)\n",
    "\n",
    "def integral(func,N,a,b):\n",
    "    \n",
    "    val = 0\n",
    "    \n",
    "    for i in range(1, N+1):\n",
    "        val = val + f(b+((i-(1/2))*((a-b)/N)))\n",
    "    \n",
    "    return ((a-b)/N)*val\n",
    "\n",
    "N = 100\n",
    "out = integral(f,N,1,-1)\n",
    "print(f'The integral with N equal to {N} is {out}')\n",
    "print(f'The difference with the true value is {out - math.pi/2}')"
   ]
  },
  {
   "cell_type": "code",
   "execution_count": 16,
   "metadata": {},
   "outputs": [
    {
     "name": "stdout",
     "output_type": "stream",
     "text": [
      "The integral with N equal to 1330000 is 1.5707963271124443 and takes 1.0012852 s to run\n",
      "The difference with the true value is 3.1754776586012667e-10\n"
     ]
    }
   ],
   "source": [
    "import time\n",
    "tic = time.perf_counter()\n",
    "out = integral(f,1330000,1,-1)\n",
    "toc = time.perf_counter()\n",
    "print(f'The integral with N equal to 1330000 is {out} and takes {toc-tic} s to run')\n",
    "print(f'The difference with the true value is {out - math.pi/2}')"
   ]
  },
  {
   "cell_type": "code",
   "execution_count": 17,
   "metadata": {},
   "outputs": [
    {
     "name": "stdout",
     "output_type": "stream",
     "text": [
      "The integral with N equal to 100000000 is 1.5707963267946878 and takes 58.6411332 s to run\n",
      "The difference with the true value is -2.0872192862952943e-13\n"
     ]
    }
   ],
   "source": [
    "tic = time.perf_counter()\n",
    "out = integral(f,100000000,1,-1)\n",
    "toc = time.perf_counter()\n",
    "print(f'The integral with N equal to 100000000 is {out} and takes {toc-tic} s to run')\n",
    "print(f'The difference with the true value is {out - math.pi/2}')"
   ]
  },
  {
   "cell_type": "code",
   "execution_count": null,
   "metadata": {},
   "outputs": [],
   "source": []
  }
 ],
 "metadata": {
  "kernelspec": {
   "display_name": "Python 3",
   "language": "python",
   "name": "python3"
  },
  "language_info": {
   "codemirror_mode": {
    "name": "ipython",
    "version": 3
   },
   "file_extension": ".py",
   "mimetype": "text/x-python",
   "name": "python",
   "nbconvert_exporter": "python",
   "pygments_lexer": "ipython3",
   "version": "3.7.3"
  }
 },
 "nbformat": 4,
 "nbformat_minor": 2
}
