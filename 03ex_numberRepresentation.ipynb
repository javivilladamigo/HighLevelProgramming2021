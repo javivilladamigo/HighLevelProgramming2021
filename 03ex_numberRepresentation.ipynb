{
 "cells": [
  {
   "cell_type": "markdown",
   "metadata": {},
   "source": [
    "1\\. Write a function that converts numbers among the bin, dec, and hex representations (bin<->dec<->hex)"
   ]
  },
  {
   "cell_type": "code",
   "execution_count": 4,
   "metadata": {},
   "outputs": [
    {
     "name": "stdout",
     "output_type": "stream",
     "text": [
      "The decimal value of 87 is:\n",
      "0b1010111 in binary.\n",
      "0o127 in octal.\n",
      "0x57 in hexadecimal.\n"
     ]
    }
   ],
   "source": [
    "dec = 87\n",
    "\n",
    "print(\"The decimal value of\", dec, \"is:\")\n",
    "\n",
    "print(bin(dec), \"in binary.\")\n",
    "\n",
    "print(oct(dec), \"in octal.\")\n",
    "\n",
    "print(hex(dec), \"in hexadecimal.\")"
   ]
  },
  {
   "cell_type": "markdown",
   "metadata": {},
   "source": [
    "2\\. Write a function that converts a 32 bit word into a single precision floating point (i.e. interprets the various bits as sign, mantissa and exponent) and check its validity."
   ]
  },
  {
   "cell_type": "code",
   "execution_count": 8,
   "metadata": {},
   "outputs": [
    {
     "name": "stdout",
     "output_type": "stream",
     "text": [
      "Binary equivalent of 17.5:\n",
      "100000000110001100000000000000000000000000000000000000000000000\n",
      "\n",
      "Decimal equivalent of 100000000110001100000000000000000000000000000000000000000000000\n",
      "17.5\n"
     ]
    }
   ],
   "source": [
    "import struct\n",
    "\n",
    "getBin = lambda x: x > 0 and str(bin(x))[2:] or \"-\" + str(bin(x))[3:]\n",
    "\n",
    "def floatToBinary64(value):\n",
    "    val = struct.unpack('Q', struct.pack('d', value))[0]\n",
    "    return getBin(val)\n",
    "\n",
    "def binaryToFloat(value):\n",
    "    hx = hex(int(value, 2))   \n",
    "    return struct.unpack(\"d\", struct.pack(\"q\", int(hx, 16)))[0]\n",
    "\n",
    "# floats are represented by IEEE 754 floating-point format which are \n",
    "# 64 bits long (not 32 bits)\n",
    "\n",
    "# float to binary\n",
    "binstr = floatToBinary64(17.5)\n",
    "print('Binary equivalent of 17.5:')\n",
    "print(binstr + '\\n')\n",
    "\n",
    "# binary to float\n",
    "fl = binaryToFloat(binstr)\n",
    "print('Decimal equivalent of ' + binstr)\n",
    "print(fl)"
   ]
  },
  {
   "cell_type": "code",
   "execution_count": null,
   "metadata": {},
   "outputs": [],
   "source": []
  },
  {
   "cell_type": "markdown",
   "metadata": {},
   "source": [
    "4\\. Write a program to determine the machine precision\n",
    "\n",
    "**Tip**: define a new variable by adding an increasingly smaller value (in the same way as the previous problem) and check when the addition starts to have no effect on the number"
   ]
  },
  {
   "cell_type": "code",
   "execution_count": 14,
   "metadata": {},
   "outputs": [
    {
     "name": "stdout",
     "output_type": "stream",
     "text": [
      "2   0.5\n",
      "3   1.25\n",
      "4   2.125\n",
      "5   3.0625\n",
      "6   4.03125\n",
      "7   5.015625\n",
      "8   6.0078125\n",
      "9   7.00390625\n",
      "10   8.001953125\n",
      "11   9.0009765625\n"
     ]
    }
   ],
   "source": [
    "A=10\n",
    "\n",
    "Range=10\n",
    "\n",
    "Number=1\n",
    "\n",
    "m=1\n",
    "\n",
    "Factor=2\n",
    "\n",
    "d=1\n",
    "\n",
    "for Number in range(Range):\n",
    "    \n",
    "    m=m/Factor\n",
    "    \n",
    "    Number=Number+m\n",
    "    \n",
    "    d+=1\n",
    "    \n",
    "    print(d, \" \" , Number)"
   ]
  },
  {
   "cell_type": "markdown",
   "metadata": {},
   "source": [
    "5\\. Write a function that takes in input three parameters $a$, $b$ and $c$ and prints out the two solutions to the quadratic equation $ax^2+bx+c=0$ using the standard formula:\n",
    "$$\n",
    "x=\\frac{-b\\pm\\sqrt{b^2-4ac}}{2a}\n",
    "$$\n",
    "\n",
    "(a) use the program to compute the solution for $a=0.001$, $b=1000$ and $c=0.001$\n",
    "\n",
    "(b) re-express the standard solution formula by multiplying the numerator and the denominator by $-b\\mp\\sqrt{b^2-4ac}$ and again find the solution for $a=0.001$, $b=1000$ and $c=0.001$. How does it compare with what has been previously obtained, and why?\n",
    "\n",
    "(c) write a function that computes the roots of a quadratic equation accurately in all cases"
   ]
  },
  {
   "cell_type": "code",
   "execution_count": null,
   "metadata": {},
   "outputs": [],
   "source": []
  },
  {
   "cell_type": "markdown",
   "metadata": {},
   "source": [
    "6\\. Write a program that implements the function $f(x)=x(x−1)$\n",
    "\n",
    "(a) Calculate the derivative of the function at the point $x = 1$ using the derivative definition:\n",
    "\n",
    "$$\n",
    "\\frac{{\\rm d}f}{{\\rm d}x} = \\lim_{\\delta\\to0} \\frac{f(x+\\delta)-f(x)}{\\delta}\n",
    "$$\n",
    "\n",
    "with $\\delta = 10^{−2}$. Calculate the true value of the same derivative analytically and compare it with the answer your program gives. The two will not agree perfectly. Why?\n",
    "\n",
    "(b) Repeat the calculation for $\\delta = 10^{−4}, 10^{−6}, 10^{−8}, 10^{−10}, 10^{−12}$ and $10^{−14}$. How does the accuracy scales with $\\delta$?"
   ]
  },
  {
   "cell_type": "code",
   "execution_count": null,
   "metadata": {},
   "outputs": [],
   "source": []
  },
  {
   "cell_type": "markdown",
   "metadata": {},
   "source": [
    "7\\. Consider the integral of the semicircle of radius 1:\n",
    "$$\n",
    "I=\\int_{-1}^{1} \\sqrt(1-x^2) {\\rm d}x\n",
    "$$\n",
    "which is known to be $I=\\frac{\\pi}{2}=1.57079632679...$.\n",
    "\n",
    "Alternatively we can use the Riemann definition of the integral:\n",
    "$$\n",
    "I=\\lim_{N\\to\\infty} \\sum_{k=1}^{N} h y_k \n",
    "$$\n",
    "\n",
    "with $h=2/N$ the width of each of the $N$ slices the domain is divided into and where\n",
    "$y_k$ is the value of the function at the $k-$th slice.\n",
    "\n",
    "(a) Write a program to compute the integral with $N=100$. How does the result compare to the true value?\n",
    "\n",
    "(b) How much can $N$ be increased if the computation needs to be run in less than a second? What is the gain in running it for 1 minute? \n"
   ]
  },
  {
   "cell_type": "code",
   "execution_count": null,
   "metadata": {},
   "outputs": [],
   "source": []
  }
 ],
 "metadata": {
  "kernelspec": {
   "display_name": "Python 3",
   "language": "python",
   "name": "python3"
  },
  "language_info": {
   "codemirror_mode": {
    "name": "ipython",
    "version": 3
   },
   "file_extension": ".py",
   "mimetype": "text/x-python",
   "name": "python",
   "nbconvert_exporter": "python",
   "pygments_lexer": "ipython3",
   "version": "3.8.8"
  }
 },
 "nbformat": 4,
 "nbformat_minor": 2
}
