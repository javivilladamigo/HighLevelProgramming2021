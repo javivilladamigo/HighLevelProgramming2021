{
 "cells": [
  {
   "cell_type": "markdown",
   "metadata": {},
   "source": [
    "1\\. Write a function that converts numbers among the bin, dec, and hex representations (bin<->dec<->hex)"
   ]
  },
  {
   "cell_type": "code",
   "execution_count": 7,
   "metadata": {},
   "outputs": [
    {
     "name": "stdout",
     "output_type": "stream",
     "text": [
      "23\n",
      "0x17\n",
      "0b10111\n",
      "0x17\n",
      "23\n",
      "0b10111\n"
     ]
    }
   ],
   "source": [
    "def bin2dec(number):\n",
    "    return int(number)\n",
    "def bin2hex(number):\n",
    "    return dec2hex(bin2dec(number))\n",
    "def dec2bin(number):\n",
    "    return bin(number)\n",
    "def dec2hex(number):\n",
    "    return hex(number)\n",
    "def hex2dec(number):\n",
    "    return int(number)\n",
    "def hex2bin(number):\n",
    "    return dec2bin(hex2dec(number))\n",
    "\n",
    "print(bin2dec(0b10111))\n",
    "print(bin2hex(0b10111))\n",
    "print(dec2bin(23))\n",
    "print(dec2hex(23))\n",
    "print(hex2dec(0x17))\n",
    "print(hex2bin(0x17))"
   ]
  },
  {
   "cell_type": "markdown",
   "metadata": {},
   "source": [
    "2\\. Write a function that converts a 32 bit word into a single precision floating point (i.e. interprets the various bits as sign, mantissa and exponent) and check its validity."
   ]
  },
  {
   "cell_type": "code",
   "execution_count": 42,
   "metadata": {},
   "outputs": [
    {
     "data": {
      "text/plain": [
       "-431120.1875"
      ]
     },
     "execution_count": 42,
     "metadata": {},
     "output_type": "execute_result"
    }
   ],
   "source": [
    "def float_converter(word):\n",
    "    #Length check\n",
    "    if(word<2147483648 or word>=4294967296):\n",
    "        return None\n",
    "    #sign \n",
    "    s=word>>31\n",
    "    \n",
    "    #mantissa\n",
    "    f=1\n",
    "    for i in range(0,23):\n",
    "        f=f+((word>>i)&1)*(2**(-1*(23-i)))\n",
    "\n",
    "    #exponent\n",
    "    e=(word>>23)&255\n",
    "\n",
    "    #Nan check\n",
    "    if(e==255 and f>0):\n",
    "        return None\n",
    "    \n",
    "    number=((-1)**s)*f*(2**(e-127))\n",
    "    return number\n",
    "\n",
    "float_converter(0b11001000110100101000001000000110)"
   ]
  },
  {
   "cell_type": "markdown",
   "metadata": {},
   "source": [
    "3\\. Write a program to determine the underflow and overflow limits (within a factor of 2) for python on your computer. \n",
    "\n",
    "**Tip**: define two variables initialized to 1 and halve/double them for a sufficient amount of times to exceed the under/over-flow limits  "
   ]
  },
  {
   "cell_type": "code",
   "execution_count": 35,
   "metadata": {},
   "outputs": [
    {
     "ename": "KeyboardInterrupt",
     "evalue": "",
     "output_type": "error",
     "traceback": [
      "\u001b[0;31m---------------------------------------------------------------------------\u001b[0m",
      "\u001b[0;31mKeyboardInterrupt\u001b[0m                         Traceback (most recent call last)",
      "\u001b[0;32m<ipython-input-35-ded8750e97c7>\u001b[0m in \u001b[0;36m<module>\u001b[0;34m\u001b[0m\n\u001b[1;32m      1\u001b[0m \u001b[0moverflow\u001b[0m\u001b[0;34m=\u001b[0m\u001b[0;36m1\u001b[0m\u001b[0;34m\u001b[0m\u001b[0;34m\u001b[0m\u001b[0m\n\u001b[1;32m      2\u001b[0m \u001b[0;32mwhile\u001b[0m \u001b[0;32mTrue\u001b[0m\u001b[0;34m:\u001b[0m\u001b[0;34m\u001b[0m\u001b[0;34m\u001b[0m\u001b[0m\n\u001b[0;32m----> 3\u001b[0;31m     \u001b[0moverflow\u001b[0m\u001b[0;34m=\u001b[0m\u001b[0moverflow\u001b[0m\u001b[0;34m*\u001b[0m\u001b[0;36m2\u001b[0m\u001b[0;34m\u001b[0m\u001b[0;34m\u001b[0m\u001b[0m\n\u001b[0m\u001b[1;32m      4\u001b[0m \u001b[0;34m\u001b[0m\u001b[0m\n\u001b[1;32m      5\u001b[0m \u001b[0munderflow\u001b[0m\u001b[0;34m=\u001b[0m\u001b[0;36m1\u001b[0m\u001b[0;34m\u001b[0m\u001b[0;34m\u001b[0m\u001b[0m\n",
      "\u001b[0;31mKeyboardInterrupt\u001b[0m: "
     ]
    }
   ],
   "source": [
    "overflow=1\n",
    "while True:\n",
    "    overflow=overflow*2\n",
    "\n",
    "underflow=1\n",
    "while True:\n",
    "      underflow=underflow/2"
   ]
  },
  {
   "cell_type": "markdown",
   "metadata": {},
   "source": [
    "4\\. Write a program to determine the machine precision\n",
    "\n",
    "**Tip**: define a new variable by adding an increasingly smaller value (in the same way as the previous problem) and check when the addition starts to have no effect on the number"
   ]
  },
  {
   "cell_type": "code",
   "execution_count": 51,
   "metadata": {},
   "outputs": [
    {
     "name": "stdout",
     "output_type": "stream",
     "text": [
      "1.0000000000000001e-16\n"
     ]
    }
   ],
   "source": [
    "value=1\n",
    "amount=0.1\n",
    "test=value+amount\n",
    "\n",
    "while test!=value:\n",
    "    value=test\n",
    "    amount=amount/10\n",
    "    test=value+amount\n",
    "\n",
    "print(amount)"
   ]
  },
  {
   "cell_type": "markdown",
   "metadata": {},
   "source": [
    "5\\. Write a function that takes in input three parameters $a$, $b$ and $c$ and prints out the two solutions to the quadratic equation $ax^2+bx+c=0$ using the standard formula:\n",
    "$$\n",
    "x=\\frac{-b\\pm\\sqrt{b^2-4ac}}{2a}\n",
    "$$\n",
    "\n",
    "(a) use the program to compute the solution for $a=0.001$, $b=1000$ and $c=0.001$\n",
    "\n",
    "(b) re-express the standard solution formula by multiplying the numerator and the denominator by $-b\\mp\\sqrt{b^2-4ac}$ and again find the solution for $a=0.001$, $b=1000$ and $c=0.001$. How does it compare with what has been previously obtained, and why?\n",
    "\n",
    "(c) write a function that computes the roots of a quadratic equation accurately in all cases"
   ]
  },
  {
   "cell_type": "code",
   "execution_count": 39,
   "metadata": {},
   "outputs": [
    {
     "name": "stdout",
     "output_type": "stream",
     "text": [
      "(-9.999894245993346e-07, -999999.999999)\n",
      "(-9.999894245993346e-07, -999999.9999990001)\n",
      "(-1.000000000001e-06, -1000010.5755125057)\n"
     ]
    }
   ],
   "source": [
    "from math import sqrt\n",
    "\n",
    "f=lambda a,b,c:((-1*b+sqrt(b**2-4*a*c))/(2*a),(-1*b-sqrt(b**2-4*a*c))/(2*a))\n",
    "f2=lambda a,b,c:(((-1*b+sqrt(b**2-4*a*c))*(-1*b-sqrt(b**2-4*a*c)))/(2*a*(-1*b-sqrt(b**2-4*a*c))),((-1*b-sqrt(b**2-4*a*c))*(-1*b+sqrt(b**2-4*a*c)))/(2*a*(-1*b+sqrt(b**2-4*a*c))))\n",
    "\n",
    "print(f(0.001,1000,0.001))\n",
    "print(f2(0.001,1000,0.001))\n",
    "# (b) Comparing the two results, we can notice a pretty small difference in the second output. This is due to the fact we are operating with float \n",
    "\n",
    "f3=lambda a,b,c:((2*c)/(-1*b-sqrt(b**2-4*a*c)),(2*c)/(-1*b+sqrt(b**2-4*a*c)))\n",
    "print(f3(0.001,1000,0.001))\n",
    "# (c) i tried to use algebra for reducing formula number 2, extracting f3 result"
   ]
  },
  {
   "cell_type": "markdown",
   "metadata": {},
   "source": [
    "6\\. Write a program that implements the function $f(x)=x(x−1)$\n",
    "\n",
    "(a) Calculate the derivative of the function at the point $x = 1$ using the derivative definition:\n",
    "\n",
    "$$\n",
    "\\frac{{\\rm d}f}{{\\rm d}x} = \\lim_{\\delta\\to0} \\frac{f(x+\\delta)-f(x)}{\\delta}\n",
    "$$\n",
    "\n",
    "with $\\delta = 10^{−2}$. Calculate the true value of the same derivative analytically and compare it with the answer your program gives. The two will not agree perfectly. Why?\n",
    "\n",
    "(b) Repeat the calculation for $\\delta = 10^{−4}, 10^{−6}, 10^{−8}, 10^{−10}, 10^{−12}$ and $10^{−14}$. How does the accuracy scales with $\\delta$?"
   ]
  },
  {
   "cell_type": "code",
   "execution_count": 9,
   "metadata": {},
   "outputs": [
    {
     "name": "stdout",
     "output_type": "stream",
     "text": [
      "Expected:  1\n",
      "Delta:  0.01\n",
      "Computated:  1.010000000000001\n",
      "Delta:  0.0001\n",
      "Computated:  1.0000999999998899\n",
      "Delta:  1e-06\n",
      "Computated:  1.0000009999177333\n",
      "Delta:  1e-08\n",
      "Computated:  1.0000000039225287\n",
      "Delta:  1e-10\n",
      "Computated:  1.000000082840371\n",
      "Delta:  1e-12\n",
      "Computated:  1.0000889005833413\n",
      "Delta:  1e-14\n",
      "Computated:  0.9992007221626509\n"
     ]
    }
   ],
   "source": [
    "f=lambda x:x*(x-1)\n",
    "delta=(10**(-2),10**(-4),10**(-6),10**(-8),10**(-10),10**(-12),10**(-14))\n",
    "x=1\n",
    "\n",
    "der=(f(x+delta[0])-f(x))/delta[0]\n",
    "der_expected=1\n",
    "\n",
    "print(\"Expected: \",der_expected)\n",
    "print(\"Delta: \",delta[0])\n",
    "print(\"Computated: \",der)\n",
    "# (a) Results aren't perfectly coincident. It's because ideally delta tends to 0, in this case it isn't still a very small number.\n",
    "\n",
    "for i in range(1,len(delta)):\n",
    "    der=(f(x+delta[i])-f(x))/delta[i]\n",
    "    print(\"Delta: \",delta[i])\n",
    "    print(\"Computated: \",der)\n",
    "# (b) We can observe that accuracy increases with a smaller delta."
   ]
  },
  {
   "cell_type": "markdown",
   "metadata": {},
   "source": [
    "# 7\\. Consider the integral of the semicircle of radius 1:\n",
    "$$\n",
    "I=\\int_{-1}^{1} \\sqrt(1-x^2) {\\rm d}x\n",
    "$$\n",
    "which is known to be $I=\\frac{\\pi}{2}=1.57079632679...$.\n",
    "\n",
    "Alternatively we can use the Riemann definition of the integral:\n",
    "$$\n",
    "I=\\lim_{N\\to\\infty} \\sum_{k=1}^{N} h y_k \n",
    "$$\n",
    "\n",
    "with $h=2/N$ the width of each of the $N$ slices the domain is divided into and where\n",
    "$y_k$ is the value of the function at the $k-$th slice.\n",
    "\n",
    "(a) Write a program to compute the integral with $N=100$. How does the result compare to the true value?\n",
    "\n",
    "(b) How much can $N$ be increased if the computation needs to be run in less than a second? What is the gain in running it for 1 minute? \n"
   ]
  },
  {
   "cell_type": "code",
   "execution_count": 29,
   "metadata": {
    "scrolled": false
   },
   "outputs": [
    {
     "name": "stdout",
     "output_type": "stream",
     "text": [
      "1.5691342555492493\n",
      "N value:  1000  Integral value:  1.5707437385010703 Execution time:  0.0009706020355224609\n",
      "N value:  5000  Integral value:  1.5707916230937338 Execution time:  0.0036516189575195312\n",
      "N value:  10000  Integral value:  1.5707946638267405 Execution time:  0.006121635437011719\n",
      "N value:  50000  Integral value:  1.5707961780433022 Execution time:  0.02153944969177246\n",
      "N value:  1000000  Integral value:  1.5707963251616452 Execution time:  0.33350062370300293\n",
      "N value:  5000000  Integral value:  1.5707963266091647 Execution time:  1.6995115280151367\n",
      "N value:  10000000  Integral value:  1.5707963267012999 Execution time:  3.3006134033203125\n"
     ]
    }
   ],
   "source": [
    "from math import sqrt\n",
    "import time\n",
    "\n",
    "N=100\n",
    "h=2/N\n",
    "f=lambda x:sqrt(1-x**2)\n",
    "I=0\n",
    "\n",
    "k=-1\n",
    "while k<=1:\n",
    "    I=I+f(k)*h\n",
    "    k+=h\n",
    "\n",
    "print(I)\n",
    "\n",
    "# (a) result is similar to the expected value, because N isn't big enough\n",
    "\n",
    "N=[1000,5000,10000,50000,1000000,5000000,10000000]\n",
    "h=[2/i for i in N]\n",
    "for j,i in zip(N,h):\n",
    "    k=-1\n",
    "    I=0\n",
    "    start=time.time()\n",
    "    while k<=1:\n",
    "        I=I+f(k)*i\n",
    "        k+=i\n",
    "    end=time.time()\n",
    "    t=end-start\n",
    "    print(\"N value: \",j,\" Integral value: \",I,\"Execution time: \",t)\n",
    "\n",
    "# (b) in order to run the algorithm in less than a second, N should be in the interval between 1000000 and 5000000\n",
    "# If we run the algorithm for 1 minute, we will obtain a better approximation in the result"
   ]
  },
  {
   "cell_type": "code",
   "execution_count": null,
   "metadata": {},
   "outputs": [],
   "source": []
  }
 ],
 "metadata": {
  "anaconda-cloud": {},
  "kernelspec": {
   "display_name": "Python 3 (ipykernel)",
   "language": "python",
   "name": "python3"
  },
  "language_info": {
   "codemirror_mode": {
    "name": "ipython",
    "version": 3
   },
   "file_extension": ".py",
   "mimetype": "text/x-python",
   "name": "python",
   "nbconvert_exporter": "python",
   "pygments_lexer": "ipython3",
   "version": "3.8.8"
  }
 },
 "nbformat": 4,
 "nbformat_minor": 2
}
