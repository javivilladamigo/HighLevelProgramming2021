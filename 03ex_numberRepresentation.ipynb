{
 "cells": [
  {
   "cell_type": "markdown",
   "metadata": {},
   "source": [
    "1\\. Write a function that converts numbers among the bin, dec, and hex representations (bin<->dec<->hex)"
   ]
  },
  {
   "cell_type": "code",
   "execution_count": 3,
   "metadata": {},
   "outputs": [
    {
     "name": "stdout",
     "output_type": "stream",
     "text": [
      "Binary representation:  0b1001101\n",
      "Decimal representation:  77\n",
      "Hexadecimal representation:  0x4d\n"
     ]
    }
   ],
   "source": [
    "def converter(x):\n",
    "    print('Binary representation: ', bin(x))\n",
    "    print('Decimal representation: ', x)\n",
    "    print('Hexadecimal representation: ', hex(x))\n",
    "    \n",
    "converter(77)"
   ]
  },
  {
   "cell_type": "markdown",
   "metadata": {},
   "source": [
    "2\\. Write a function that converts a 32 bit word into a single precision floating point (i.e. interprets the various bits as sign, mantissa and exponent) and check its validity."
   ]
  },
  {
   "cell_type": "code",
   "execution_count": 107,
   "metadata": {},
   "outputs": [
    {
     "name": "stdout",
     "output_type": "stream",
     "text": [
      "sign:  0\n",
      "exponent:  00000000\n",
      "mantissa:  00000000000000010011010\n"
     ]
    }
   ],
   "source": [
    "word = 154\n",
    "\n",
    "def converter(word):\n",
    "    inter = '{:032b}'.format(word)\n",
    "    if len(inter) <= 32:\n",
    "        sign = inter[:1]\n",
    "        exponent = inter[1:9]\n",
    "        mantissa = inter[9:32]\n",
    "        print('sign: ', sign)\n",
    "        print('exponent: ', exponent)\n",
    "        print('mantissa: ', mantissa)\n",
    "        \n",
    "    else:\n",
    "        print('The inserted value has to be a 32 bit word.\\n')\n",
    "           \n",
    "converter(word)\n"
   ]
  },
  {
   "cell_type": "markdown",
   "metadata": {},
   "source": [
    "3\\. Write a program to determine the underflow and overflow limits (within a factor of 2) for python on your computer. \n",
    "\n",
    "**Tip**: define two variables initialized to 1 and halve/double them for a sufficient amount of times to exceed the under/over-flow limits  "
   ]
  },
  {
   "cell_type": "code",
   "execution_count": 71,
   "metadata": {},
   "outputs": [
    {
     "name": "stdout",
     "output_type": "stream",
     "text": [
      "0 underflow:\t 2.000000e+00    overflow:\t 5.000000e-01\n",
      "1 underflow:\t 4.000000e+00    overflow:\t 2.500000e-01\n",
      "2 underflow:\t 8.000000e+00    overflow:\t 1.250000e-01\n",
      "3 underflow:\t 1.600000e+01    overflow:\t 6.250000e-02\n",
      "4 underflow:\t 3.200000e+01    overflow:\t 3.125000e-02\n",
      "5 underflow:\t 6.400000e+01    overflow:\t 1.562500e-02\n",
      "6 underflow:\t 1.280000e+02    overflow:\t 7.812500e-03\n",
      "7 underflow:\t 2.560000e+02    overflow:\t 3.906250e-03\n",
      "8 underflow:\t 5.120000e+02    overflow:\t 1.953125e-03\n",
      "9 underflow:\t 1.024000e+03    overflow:\t 9.765625e-04\n",
      "10 underflow:\t 2.048000e+03    overflow:\t 4.882812e-04\n",
      "11 underflow:\t 4.096000e+03    overflow:\t 2.441406e-04\n",
      "12 underflow:\t 8.192000e+03    overflow:\t 1.220703e-04\n",
      "13 underflow:\t 1.638400e+04    overflow:\t 6.103516e-05\n",
      "14 underflow:\t 3.276800e+04    overflow:\t 3.051758e-05\n",
      "15 underflow:\t 6.553600e+04    overflow:\t 1.525879e-05\n",
      "16 underflow:\t 1.310720e+05    overflow:\t 7.629395e-06\n",
      "17 underflow:\t 2.621440e+05    overflow:\t 3.814697e-06\n",
      "18 underflow:\t 5.242880e+05    overflow:\t 1.907349e-06\n",
      "19 underflow:\t 1.048576e+06    overflow:\t 9.536743e-07\n",
      "20 underflow:\t 2.097152e+06    overflow:\t 4.768372e-07\n",
      "21 underflow:\t 4.194304e+06    overflow:\t 2.384186e-07\n",
      "22 underflow:\t 8.388608e+06    overflow:\t 1.192093e-07\n",
      "23 underflow:\t 1.677722e+07    overflow:\t 5.960464e-08\n",
      "24 underflow:\t 3.355443e+07    overflow:\t 2.980232e-08\n",
      "25 underflow:\t 6.710886e+07    overflow:\t 1.490116e-08\n",
      "26 underflow:\t 1.342177e+08    overflow:\t 7.450581e-09\n",
      "27 underflow:\t 2.684355e+08    overflow:\t 3.725290e-09\n",
      "28 underflow:\t 5.368709e+08    overflow:\t 1.862645e-09\n",
      "29 underflow:\t 1.073742e+09    overflow:\t 9.313226e-10\n",
      "30 underflow:\t 2.147484e+09    overflow:\t 4.656613e-10\n",
      "31 underflow:\t 4.294967e+09    overflow:\t 2.328306e-10\n",
      "32 underflow:\t 8.589935e+09    overflow:\t 1.164153e-10\n",
      "33 underflow:\t 1.717987e+10    overflow:\t 5.820766e-11\n",
      "34 underflow:\t 3.435974e+10    overflow:\t 2.910383e-11\n",
      "35 underflow:\t 6.871948e+10    overflow:\t 1.455192e-11\n",
      "36 underflow:\t 1.374390e+11    overflow:\t 7.275958e-12\n",
      "37 underflow:\t 2.748779e+11    overflow:\t 3.637979e-12\n",
      "38 underflow:\t 5.497558e+11    overflow:\t 1.818989e-12\n",
      "39 underflow:\t 1.099512e+12    overflow:\t 9.094947e-13\n",
      "40 underflow:\t 2.199023e+12    overflow:\t 4.547474e-13\n",
      "41 underflow:\t 4.398047e+12    overflow:\t 2.273737e-13\n",
      "42 underflow:\t 8.796093e+12    overflow:\t 1.136868e-13\n",
      "43 underflow:\t 1.759219e+13    overflow:\t 5.684342e-14\n",
      "44 underflow:\t 3.518437e+13    overflow:\t 2.842171e-14\n",
      "45 underflow:\t 7.036874e+13    overflow:\t 1.421085e-14\n",
      "46 underflow:\t 1.407375e+14    overflow:\t 7.105427e-15\n",
      "47 underflow:\t 2.814750e+14    overflow:\t 3.552714e-15\n",
      "48 underflow:\t 5.629500e+14    overflow:\t 1.776357e-15\n",
      "49 underflow:\t 1.125900e+15    overflow:\t 8.881784e-16\n",
      "50 underflow:\t 2.251800e+15    overflow:\t 4.440892e-16\n",
      "51 underflow:\t 4.503600e+15    overflow:\t 2.220446e-16\n",
      "52 underflow:\t 9.007199e+15    overflow:\t 1.110223e-16\n",
      "53 underflow:\t 1.801440e+16    overflow:\t 5.551115e-17\n",
      "54 underflow:\t 3.602880e+16    overflow:\t 2.775558e-17\n",
      "55 underflow:\t 7.205759e+16    overflow:\t 1.387779e-17\n",
      "56 underflow:\t 1.441152e+17    overflow:\t 6.938894e-18\n",
      "57 underflow:\t 2.882304e+17    overflow:\t 3.469447e-18\n",
      "58 underflow:\t 5.764608e+17    overflow:\t 1.734723e-18\n",
      "59 underflow:\t 1.152922e+18    overflow:\t 8.673617e-19\n",
      "60 underflow:\t 2.305843e+18    overflow:\t 4.336809e-19\n",
      "61 underflow:\t 4.611686e+18    overflow:\t 2.168404e-19\n",
      "62 underflow:\t 9.223372e+18    overflow:\t 1.084202e-19\n",
      "63 underflow:\t 1.844674e+19    overflow:\t 5.421011e-20\n",
      "64 underflow:\t 3.689349e+19    overflow:\t 2.710505e-20\n",
      "65 underflow:\t 7.378698e+19    overflow:\t 1.355253e-20\n",
      "66 underflow:\t 1.475740e+20    overflow:\t 6.776264e-21\n",
      "67 underflow:\t 2.951479e+20    overflow:\t 3.388132e-21\n",
      "68 underflow:\t 5.902958e+20    overflow:\t 1.694066e-21\n",
      "69 underflow:\t 1.180592e+21    overflow:\t 8.470329e-22\n",
      "70 underflow:\t 2.361183e+21    overflow:\t 4.235165e-22\n",
      "71 underflow:\t 4.722366e+21    overflow:\t 2.117582e-22\n",
      "72 underflow:\t 9.444733e+21    overflow:\t 1.058791e-22\n",
      "73 underflow:\t 1.888947e+22    overflow:\t 5.293956e-23\n",
      "74 underflow:\t 3.777893e+22    overflow:\t 2.646978e-23\n",
      "75 underflow:\t 7.555786e+22    overflow:\t 1.323489e-23\n",
      "76 underflow:\t 1.511157e+23    overflow:\t 6.617445e-24\n",
      "77 underflow:\t 3.022315e+23    overflow:\t 3.308722e-24\n",
      "78 underflow:\t 6.044629e+23    overflow:\t 1.654361e-24\n",
      "79 underflow:\t 1.208926e+24    overflow:\t 8.271806e-25\n",
      "80 underflow:\t 2.417852e+24    overflow:\t 4.135903e-25\n",
      "81 underflow:\t 4.835703e+24    overflow:\t 2.067952e-25\n",
      "82 underflow:\t 9.671407e+24    overflow:\t 1.033976e-25\n",
      "83 underflow:\t 1.934281e+25    overflow:\t 5.169879e-26\n",
      "84 underflow:\t 3.868563e+25    overflow:\t 2.584939e-26\n",
      "85 underflow:\t 7.737125e+25    overflow:\t 1.292470e-26\n",
      "86 underflow:\t 1.547425e+26    overflow:\t 6.462349e-27\n",
      "87 underflow:\t 3.094850e+26    overflow:\t 3.231174e-27\n",
      "88 underflow:\t 6.189700e+26    overflow:\t 1.615587e-27\n",
      "89 underflow:\t 1.237940e+27    overflow:\t 8.077936e-28\n",
      "90 underflow:\t 2.475880e+27    overflow:\t 4.038968e-28\n",
      "91 underflow:\t 4.951760e+27    overflow:\t 2.019484e-28\n",
      "92 underflow:\t 9.903520e+27    overflow:\t 1.009742e-28\n",
      "93 underflow:\t 1.980704e+28    overflow:\t 5.048710e-29\n",
      "94 underflow:\t 3.961408e+28    overflow:\t 2.524355e-29\n",
      "95 underflow:\t 7.922816e+28    overflow:\t 1.262177e-29\n",
      "96 underflow:\t 1.584563e+29    overflow:\t 6.310887e-30\n",
      "97 underflow:\t 3.169127e+29    overflow:\t 3.155444e-30\n",
      "98 underflow:\t 6.338253e+29    overflow:\t 1.577722e-30\n",
      "99 underflow:\t 1.267651e+30    overflow:\t 7.888609e-31\n"
     ]
    }
   ],
   "source": [
    "N = 100\n",
    "underflow = 1\n",
    "overflow = 1\n",
    "factor = 2\n",
    "\n",
    "for n in range (N):\n",
    "  underflow = underflow * factor\n",
    "  overflow = overflow / factor\n",
    "    \n",
    "  print(n, 'underflow:\\t %2e'%underflow, '   overflow:\\t %2e'%overflow)"
   ]
  },
  {
   "cell_type": "markdown",
   "metadata": {},
   "source": [
    "4\\. Write a program to determine the machine precision\n",
    "\n",
    "**Tip**: define a new variable by adding an increasingly smaller value (in the same way as the previous problem) and check when the addition starts to have no effect on the number"
   ]
  },
  {
   "cell_type": "code",
   "execution_count": 97,
   "metadata": {},
   "outputs": [
    {
     "name": "stdout",
     "output_type": "stream",
     "text": [
      "108\n"
     ]
    }
   ],
   "source": [
    "n = 1\n",
    "for i in range(1000):\n",
    "    val = n / 1000\n",
    "    if val != n:\n",
    "        n = val\n",
    "        continue\n",
    "    break\n",
    "print(i)\n",
    "        \n"
   ]
  },
  {
   "cell_type": "markdown",
   "metadata": {},
   "source": [
    "5\\. Write a function that takes in input three parameters $a$, $b$ and $c$ and prints out the two solutions to the quadratic equation $ax^2+bx+c=0$ using the standard formula:\n",
    "$$\n",
    "x=\\frac{-b\\pm\\sqrt{b^2-4ac}}{2a}\n",
    "$$\n",
    "\n",
    "(a) use the program to compute the solution for $a=0.001$, $b=1000$ and $c=0.001$\n",
    "\n",
    "(b) re-express the standard solution formula by multiplying the numerator and the denominator by $-b\\mp\\sqrt{b^2-4ac}$ and again find the solution for $a=0.001$, $b=1000$ and $c=0.001$. How does it compare with what has been previously obtained, and why?\n",
    "\n",
    "(c) write a function that computes the roots of a quadratic equation accurately in all cases"
   ]
  },
  {
   "cell_type": "code",
   "execution_count": 92,
   "metadata": {},
   "outputs": [
    {
     "name": "stdout",
     "output_type": "stream",
     "text": [
      "(-9.999894245993346e-07, -999999.999999)\n",
      "(-3.999957698389339, -3.999915397238034e-12)\n",
      "(-9.999894245993346e-07, -999999.999999)\n"
     ]
    }
   ],
   "source": [
    "# a\n",
    "\n",
    "import math\n",
    "\n",
    "def quadratic(a, b, c):\n",
    "\n",
    "    x1 = (-b + math.sqrt(b * b - 4 * a * c)) / (2 * a)\n",
    "    x2 = (-b - math.sqrt(b * b - 4 * a * c)) / (2 * a)\n",
    "\n",
    "    return x1, x2\n",
    "\n",
    "print(quadratic(0.001, 1000, 0.001))\n",
    "\n",
    "#b\n",
    "def quadratic_b(a, b, c):\n",
    "    \n",
    "    x1 = (-b + math.sqrt(b * b - 4 * a * c)) * (-b - math.sqrt(b * b - 4 * a * c)) / (2 * a) * (-b - math.sqrt(b * b - 4 * a * c))\n",
    "    x2 = (-b - math.sqrt(b * b - 4 * a * c)) * (-b + math.sqrt(b * b - 4 * a * c)) / (2 * a) * (-b + math.sqrt(b * b - 4 * a * c))\n",
    "    \n",
    "    return x1, x2\n",
    "    \n",
    "print(quadratic_b(0.001, 1000, 0.001))\n",
    "\n",
    "#c\n",
    "def quadratic_root(a, b, c):\n",
    "    \n",
    "    x1 = math.fsum([-b, math.sqrt(b * b - 4 * a * c)]) / (2 * a)\n",
    "    x2 = math.fsum([-b, -math.sqrt(b * b - 4 * a * c)]) / (2 * a)\n",
    "    \n",
    "    return x1, x2\n",
    "\n",
    "print(quadratic_root(0.001, 1000, 0.001))"
   ]
  },
  {
   "cell_type": "markdown",
   "metadata": {},
   "source": [
    "6\\. Write a program that implements the function $f(x)=x(x−1)$\n",
    "\n",
    "(a) Calculate the derivative of the function at the point $x = 1$ using the derivative definition:\n",
    "\n",
    "$$\n",
    "\\frac{{\\rm d}f}{{\\rm d}x} = \\lim_{\\delta\\to0} \\frac{f(x+\\delta)-f(x)}{\\delta}\n",
    "$$\n",
    "\n",
    "with $\\delta = 10^{−2}$. Calculate the true value of the same derivative analytically and compare it with the answer your program gives. The two will not agree perfectly. Why?\n",
    "\n",
    "(b) Repeat the calculation for $\\delta = 10^{−4}, 10^{−6}, 10^{−8}, 10^{−10}, 10^{−12}$ and $10^{−14}$. How does the accuracy scales with $\\delta$?"
   ]
  },
  {
   "cell_type": "code",
   "execution_count": 5,
   "metadata": {},
   "outputs": [
    {
     "name": "stdout",
     "output_type": "stream",
     "text": [
      "df/dx =  1.010000000000001\n",
      "Value of the derivative for delta = 10^-4 =  1.0000999999998899\n",
      "Value of the derivative for delta = 10^-6 =  1.0000009999177333\n",
      "Value of the derivative for delta = 10^-8 =  1.0000000039225287\n",
      "Value of the derivative for delta = 10^-10 =  1.000000082840371\n",
      "Value of the derivative for delta = 10^-12 =  1.0000889005833413\n",
      "Value of the derivative for delta = 10^-14 =  0.9992007221626509\n"
     ]
    }
   ],
   "source": [
    "#a\n",
    "f = lambda x : x*(x-1)\n",
    "\n",
    "d = (f(1 + 10**-2) - f (1)) / 10**-2\n",
    "print('df/dx = ', d)\n",
    "\n",
    "#b\n",
    "for b in  [4,6,8,10,12,14]:\n",
    "    print('Value of the derivative for delta = 10^-{} = '.format(b), (f(1 + 10**-b) - f(1)) / 10**-b)\n"
   ]
  },
  {
   "cell_type": "markdown",
   "metadata": {},
   "source": [
    "7\\. Consider the integral of the semicircle of radius 1:\n",
    "$$\n",
    "I=\\int_{-1}^{1} \\sqrt(1-x^2) {\\rm d}x\n",
    "$$\n",
    "which is known to be $I=\\frac{\\pi}{2}=1.57079632679...$.\n",
    "\n",
    "Alternatively we can use the Riemann definition of the integral:\n",
    "$$\n",
    "I=\\lim_{N\\to\\infty} \\sum_{k=1}^{N} h y_k \n",
    "$$\n",
    "\n",
    "with $h=2/N$ the width of each of the $N$ slices the domain is divided into and where\n",
    "$y_k$ is the value of the function at the $k-$th slice.\n",
    "\n",
    "(a) Write a program to compute the integral with $N=100$. How does the result compare to the true value?\n",
    "\n",
    "(b) How much can $N$ be increased if the computation needs to be run in less than a second? What is the gain in running it for 1 minute? \n"
   ]
  },
  {
   "cell_type": "code",
   "execution_count": 41,
   "metadata": {},
   "outputs": [
    {
     "name": "stdout",
     "output_type": "stream",
     "text": [
      "79.01042579447612\n"
     ]
    }
   ],
   "source": [
    "#a\n",
    "import math \n",
    "\n",
    "i = 0\n",
    "for k in range(0,100):\n",
    "    i += math.sqrt(1-(k/100)**2)\n",
    "\n",
    "print(i)"
   ]
  }
 ],
 "metadata": {
  "kernelspec": {
   "display_name": "Python 3 (ipykernel)",
   "language": "python",
   "name": "python3"
  },
  "language_info": {
   "codemirror_mode": {
    "name": "ipython",
    "version": 3
   },
   "file_extension": ".py",
   "mimetype": "text/x-python",
   "name": "python",
   "nbconvert_exporter": "python",
   "pygments_lexer": "ipython3",
   "version": "3.9.1"
  }
 },
 "nbformat": 4,
 "nbformat_minor": 4
}
