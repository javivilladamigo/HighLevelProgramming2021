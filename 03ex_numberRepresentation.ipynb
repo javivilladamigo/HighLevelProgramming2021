{
 "cells": [
  {
   "cell_type": "markdown",
   "metadata": {},
   "source": [
    "1\\. Write a function that converts numbers among the bin, dec, and hex representations (bin<->dec<->hex)"
   ]
  },
  {
   "cell_type": "code",
   "execution_count": 59,
   "metadata": {},
   "outputs": [
    {
     "name": "stdout",
     "output_type": "stream",
     "text": [
      "Initial number is:\n",
      "In decimal: 18\tIn binary: 0b10010\tIn hexadecimal: 0x12\n",
      "18 12 10010 12\n"
     ]
    }
   ],
   "source": [
    "def converter(x, base_i, base_f):\n",
    "    '''\n",
    "\n",
    "    Converts x from base_i to base_f\n",
    "    Parameters:\n",
    "        x: string if base_i is hex or bin, int if base_i is dec\n",
    "        base_i: 'dec', 'hex' or 'bin' initial base\n",
    "        base_f: 'dec', 'hex' or 'bin' final base\n",
    "        \n",
    "    '''\n",
    "\n",
    "    if base_i != 'dec' and base_i != 'bin' and base_i != 'hex':\n",
    "        raise ValueError (\"Invalid initial base\")\n",
    "    if base_f != 'dec' and base_f != 'bin' and base_f != 'hex':\n",
    "        raise ValueError (\"Invalid final base\")\n",
    "        \n",
    "    # from binary to decimal \n",
    "    if base_i == 'bin':\n",
    "        n_bin = list(x.strip(\" \")) # convert to list, i.e bin(10) = 0b1010 -> ['0', 'b', '1', '0', '1', '0']\n",
    "        n_bin = [int(n_bin[i]) for i in range(2, len(n_bin))] # indices 0/1 are \"0b\" -> range starts from 2\n",
    "        n_bin.reverse() # 1010 -> 0 1 0 1\n",
    "        n_dec = 0\n",
    "        i = 0\n",
    "        for a in n_bin: # decimal number = 0 * 2**0 + 1 * 2**1 + 0 * 2**2 + 1 * 2**3 = 10 !\n",
    "            n_dec += (2**i) * int(a)\n",
    "            i += 1 \n",
    "\n",
    "    # from hexadecimal to decimal (same procedure as before)\n",
    "    elif base_i == 'hex':\n",
    "        n_hex = list(x.strip(\" \"))\n",
    "        n_hex = [int(n_hex[i]) for i in range(2, len(n_hex))]\n",
    "        n_hex.reverse()\n",
    "        n_dec = 0\n",
    "        i = 0\n",
    "        for a in n_hex:\n",
    "            n_dec += (16**i) * int(a)\n",
    "            i+=1 \n",
    "\n",
    "    # base of initial number is already 10\n",
    "    else: \n",
    "        n_dec = x\n",
    "    \n",
    "    if base_f == 'dec':\n",
    "        return n_dec\n",
    "\n",
    "\n",
    "    # from decimal to bin \n",
    "    if base_f == 'bin':  # i.e. I have number 15: 15 / 2 = 7 resto 1, 7 / 2 = 3 resto 1, 3/2 = 1 resto 1, 1/0 = 0 resto 1 \n",
    "        r = []\n",
    "        q = int(n_dec / 2) # [7,3,1,0]\n",
    "        r.append(n_dec % 2) # We store resto in a list [1,1,1,1]\n",
    "        while q != 0:\n",
    "            n_dec = q\n",
    "            q = int(n_dec / 2)\n",
    "            r.append(n_dec % 2)\n",
    "        r.reverse()\n",
    "        r = ''.join([str(i) for i in r])\n",
    "    \n",
    "\n",
    "    elif base_f == 'hex':\n",
    "        r = []\n",
    "        q = int(n_dec / 16)     # 30 / 16 = 1 rest 14 , 14 / 16 = 0 rest 1 \n",
    "        r.append(n_dec % 16)      \n",
    "        while q != 0:\n",
    "            n_dec = q       \n",
    "            q = int(n_dec / 16)       # 1 0\n",
    "            r.append(n_dec % 16)            # 14 1 \n",
    "        # Now we have to change numbers from 10 to 16 to a,b,c, etc...\n",
    "            for i in range(len(r)):\n",
    "                if r[i] == 10: r[i] = 'a'\n",
    "                if r[i] == 11: r[i] = 'b'\n",
    "                if r[i] == 12: r[i] = 'c'\n",
    "                if r[i] == 13: r[i] = 'd'\n",
    "                if r[i] == 14: r[i] = 'e'\n",
    "                if r[i] == 15: r[i] = 'f'\n",
    "\n",
    "        r.reverse()  \n",
    "        r = ''.join([str(i) for i in r])  \n",
    "        \n",
    "    return r\n",
    "\n",
    "c = 18\n",
    "c_bin = bin(c)\n",
    "c_hex = hex(c)\n",
    "\n",
    "print('Initial number is:')\n",
    "print('In decimal: ' + str(c) + '\\tIn binary: ' + str(c_bin) + '\\tIn hexadecimal: ' +str(c_hex))\n",
    "\n",
    "\n",
    "converter(30,\"dec\",\"hex\")\n",
    "converter(30,\"dec\",\"bin\")\n",
    "\n",
    "print(converter(\"0b10010\",\"bin\",\"dec\"),converter(\"0b10010\",\"bin\",\"hex\"),converter(18,\"dec\",\"bin\"),converter(18,\"dec\",\"hex\"))"
   ]
  },
  {
   "cell_type": "markdown",
   "metadata": {},
   "source": [
    "2\\. Write a function that converts a 32 bit word into a single precision floating point (i.e. interprets the various bits as sign, mantissa and exponent) and check its validity."
   ]
  },
  {
   "cell_type": "code",
   "execution_count": 134,
   "metadata": {},
   "outputs": [
    {
     "data": {
      "text/plain": [
       "6.845956852965301e-30"
      ]
     },
     "execution_count": 134,
     "metadata": {},
     "output_type": "execute_result"
    }
   ],
   "source": [
    "def singlep(x):\n",
    "    '''\n",
    "\n",
    "    Parameters:\n",
    "        x: 32 bit word in a string\n",
    "        \n",
    "    '''\n",
    "    if not isinstance(x,str):\n",
    "        raise ValueError ('Input value is not a string')\n",
    "    \n",
    "    l = list(x.strip(\" \"))\n",
    "    \n",
    "    if len(l) != 32:\n",
    "        raise ValueError ('Number of bins is not 32')\n",
    "         \n",
    "\n",
    "    sign = ' '\n",
    "\n",
    "    if l[0] == '0': \n",
    "        sign += '+'\n",
    "    if l[0] == '1': \n",
    "        sign += '-' \n",
    "\n",
    "\n",
    "    exp = [int(l[i]) for i in range(1, 9)]\n",
    "    r = ''.join([str(i) for i in exp])\n",
    "    exp_dec = converter(r,\"bin\",\"dec\")\n",
    "\n",
    "    man = [int(l[i]) for i in range(9, len(l))]\n",
    "     \n",
    "    s = 0\n",
    "    for j in range(1,len(man)):\n",
    "        s += (man[j-1]) * 2 **(-j)\n",
    "\n",
    "    n = pow((1 + s), exp_dec - 127)\n",
    "\n",
    "    return n\n",
    "\n",
    "singlep(\"00000011111000000000000000000000\")\n"
   ]
  },
  {
   "cell_type": "markdown",
   "metadata": {},
   "source": [
    "3\\. Write a program to determine the underflow and overflow limits (within a factor of 2) for python on your computer. \n",
    "\n",
    "**Tip**: define two variables initialized to 1 and halve/double them for a sufficient amount of times to exceed the under/over-flow limits  "
   ]
  },
  {
   "cell_type": "code",
   "execution_count": null,
   "metadata": {},
   "outputs": [],
   "source": []
  },
  {
   "cell_type": "markdown",
   "metadata": {},
   "source": [
    "4\\. Write a program to determine the machine precision\n",
    "\n",
    "**Tip**: define a new variable by adding an increasingly smaller value (in the same way as the previous problem) and check when the addition starts to have no effect on the number"
   ]
  },
  {
   "cell_type": "code",
   "execution_count": null,
   "metadata": {},
   "outputs": [],
   "source": []
  },
  {
   "cell_type": "markdown",
   "metadata": {},
   "source": [
    "5\\. Write a function that takes in input three parameters $a$, $b$ and $c$ and prints out the two solutions to the quadratic equation $ax^2+bx+c=0$ using the standard formula:\n",
    "$$\n",
    "x=\\frac{-b\\pm\\sqrt{b^2-4ac}}{2a}\n",
    "$$\n",
    "\n",
    "(a) use the program to compute the solution for $a=0.001$, $b=1000$ and $c=0.001$\n",
    "\n",
    "(b) re-express the standard solution formula by multiplying the numerator and the denominator by $-b\\mp\\sqrt{b^2-4ac}$ and again find the solution for $a=0.001$, $b=1000$ and $c=0.001$. How does it compare with what has been previously obtained, and why?\n",
    "\n",
    "(c) write a function that computes the roots of a quadratic equation accurately in all cases"
   ]
  },
  {
   "cell_type": "code",
   "execution_count": null,
   "metadata": {},
   "outputs": [],
   "source": []
  },
  {
   "cell_type": "markdown",
   "metadata": {},
   "source": [
    "6\\. Write a program that implements the function $f(x)=x(x−1)$\n",
    "\n",
    "(a) Calculate the derivative of the function at the point $x = 1$ using the derivative definition:\n",
    "\n",
    "$$\n",
    "\\frac{{\\rm d}f}{{\\rm d}x} = \\lim_{\\delta\\to0} \\frac{f(x+\\delta)-f(x)}{\\delta}\n",
    "$$\n",
    "\n",
    "with $\\delta = 10^{−2}$. Calculate the true value of the same derivative analytically and compare it with the answer your program gives. The two will not agree perfectly. Why?\n",
    "\n",
    "(b) Repeat the calculation for $\\delta = 10^{−4}, 10^{−6}, 10^{−8}, 10^{−10}, 10^{−12}$ and $10^{−14}$. How does the accuracy scales with $\\delta$?"
   ]
  },
  {
   "cell_type": "code",
   "execution_count": null,
   "metadata": {},
   "outputs": [],
   "source": []
  },
  {
   "cell_type": "markdown",
   "metadata": {},
   "source": [
    "7\\. Consider the integral of the semicircle of radius 1:\n",
    "$$\n",
    "I=\\int_{-1}^{1} \\sqrt(1-x^2) {\\rm d}x\n",
    "$$\n",
    "which is known to be $I=\\frac{\\pi}{2}=1.57079632679...$.\n",
    "\n",
    "Alternatively we can use the Riemann definition of the integral:\n",
    "$$\n",
    "I=\\lim_{N\\to\\infty} \\sum_{k=1}^{N} h y_k \n",
    "$$\n",
    "\n",
    "with $h=2/N$ the width of each of the $N$ slices the domain is divided into and where\n",
    "$y_k$ is the value of the function at the $k-$th slice.\n",
    "\n",
    "(a) Write a program to compute the integral with $N=100$. How does the result compare to the true value?\n",
    "\n",
    "(b) How much can $N$ be increased if the computation needs to be run in less than a second? What is the gain in running it for 1 minute? \n"
   ]
  },
  {
   "cell_type": "code",
   "execution_count": null,
   "metadata": {},
   "outputs": [],
   "source": []
  }
 ],
 "metadata": {
  "interpreter": {
   "hash": "397704579725e15f5c7cb49fe5f0341eb7531c82d19f2c29d197e8b64ab5776b"
  },
  "kernelspec": {
   "display_name": "Python 3.9.0 64-bit",
   "name": "python3"
  },
  "language_info": {
   "codemirror_mode": {
    "name": "ipython",
    "version": 3
   },
   "file_extension": ".py",
   "mimetype": "text/x-python",
   "name": "python",
   "nbconvert_exporter": "python",
   "pygments_lexer": "ipython3",
   "version": "3.9.0"
  }
 },
 "nbformat": 4,
 "nbformat_minor": 2
}
