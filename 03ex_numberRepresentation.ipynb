{
 "cells": [
  {
   "cell_type": "markdown",
   "metadata": {},
   "source": [
    "1\\. Write a function that converts numbers among the bin, dec, and hex representations (bin<->dec<->hex)"
   ]
  },
  {
   "cell_type": "code",
   "execution_count": 17,
   "metadata": {},
   "outputs": [
    {
     "name": "stdout",
     "output_type": "stream",
     "text": [
      "a is hex, converting to int and bin\n",
      "100 0b1100100\n",
      "<class 'int'> <class 'str'>\n"
     ]
    }
   ],
   "source": [
    "def converter(a):\n",
    "    \n",
    "    string = str(a)\n",
    "    \n",
    "    if string[1]==\"x\":\n",
    "        print(\"a is hex, converting to int and bin\")\n",
    "        return int(a, 16), bin(int(a, 16))\n",
    "    elif string[1]==\"b\":\n",
    "        print(\"a is bin, converting to int and hex\")\n",
    "        return int(a, 2), hex(int(a, 2))\n",
    "    else:\n",
    "        try:\n",
    "            print(\"a is int, converting to bin and hex\")\n",
    "            return bin(a), hex(a)\n",
    "        except:\n",
    "            print(\"a is not either an int, bin or hex number\")\n",
    "    return\n",
    "\n",
    "    \n",
    "a = 100                #Example\n",
    "a_hex = hex(a)\n",
    "b, c = converter(a_hex)\n",
    "print(b,c)\n",
    "print(type(b), type(c))"
   ]
  },
  {
   "cell_type": "markdown",
   "metadata": {},
   "source": [
    "2\\. Write a function that converts a 32 bit word into a single precision floating point (i.e. interprets the various bits as sign, mantissa and exponent) and check its validity."
   ]
  },
  {
   "cell_type": "code",
   "execution_count": 78,
   "metadata": {},
   "outputs": [
    {
     "name": "stdout",
     "output_type": "stream",
     "text": [
      "Computing over a: 01000001110100000000000000000000 which correspond to 26 in floating point representation with 32 bits\n",
      "\n",
      "f:  [0.5, 0.0, 0.125, 0.0, 0.0, 0.0, 0.0, 0.0, 0.0, 0.0, 0.0, 0.0, 0.0, 0.0, 0.0, 0.0, 0.0, 0.0, 0.0, 0.0, 0.0, 0.0, 0.0]\n",
      "mantissa:  1.625\n",
      "esponenete:  4\n",
      "segno:  1\n",
      "\n",
      " Risultato:  26.0\n"
     ]
    }
   ],
   "source": [
    "a = \"01000001110100000000000000000000\"    #0.32\n",
    "\n",
    "def tofloat(w):\n",
    "\n",
    "    e = int(w[1:9], 2)\n",
    "    rang = [i for i in range(1,24)]\n",
    "    f = list(map(lambda x: x[0]*2**(-x[1]), list(zip([int(x) for x in w[9:32]], rang))))\n",
    "    print(\"f: \",f)\n",
    "    n = (-1)**int(w[0]) * 2**(e-127) * (sum(f)+1)\n",
    "    print(\"mantissa: \",sum(f)+1)\n",
    "    print(\"esponenete: \",e-127)\n",
    "    print(\"segno: \", (-1)**int(w[0]))\n",
    "    return n\n",
    "\n",
    "print(\"Computing over a:\", a, \"which correspond to 26 in floating point representation with 32 bits\\n\")\n",
    "print(\"\\n Risultato: \",tofloat(a))"
   ]
  },
  {
   "cell_type": "markdown",
   "metadata": {},
   "source": [
    "3\\. Write a program to determine the underflow and overflow limits (within a factor of 2) for python on your computer. \n",
    "\n",
    "**Tip**: define two variables initialized to 1 and halve/double them for a sufficient amount of times to exceed the under/over-flow limits  "
   ]
  },
  {
   "cell_type": "code",
   "execution_count": 10,
   "metadata": {},
   "outputs": [
    {
     "name": "stdout",
     "output_type": "stream",
     "text": [
      "Underflow limit found:  5e-324 Iterazione numero:  1074\n",
      "Overflow limit found:  8.98846567431158e+307 Iterazione numero:  1023\n"
     ]
    }
   ],
   "source": [
    "import math\n",
    "\n",
    "Min=1\n",
    "for i in range(1500):\n",
    "    Tmp = Min/2\n",
    "    if Tmp==0:\n",
    "        print(\"Underflow limit found: \", Min, \"Iterazione numero: \", i)\n",
    "        break\n",
    "    else:\n",
    "        Min = Tmp\n",
    "        \n",
    "Max=1.0\n",
    "for i in range(10000):\n",
    "    Tmp = Max*2\n",
    "    if Tmp == math.inf:\n",
    "        print(\"Overflow limit found: \", Max, \"Iterazione numero: \", i)\n",
    "        break\n",
    "    else:\n",
    "        Max = Tmp"
   ]
  },
  {
   "cell_type": "markdown",
   "metadata": {},
   "source": [
    "4\\. Write a program to determine the machine precision\n",
    "\n",
    "**Tip**: define a new variable by adding an increasingly smaller value (in the same way as the previous problem) and check when the addition starts to have no effect on the number"
   ]
  },
  {
   "cell_type": "code",
   "execution_count": 26,
   "metadata": {},
   "outputs": [
    {
     "name": "stdout",
     "output_type": "stream",
     "text": [
      "Numero di cifre decimali di precisione=  324\n"
     ]
    }
   ],
   "source": [
    "a = 1\n",
    "for i in range(10000):\n",
    "    tmp = a/10\n",
    "    if tmp != a:\n",
    "        a = tmp\n",
    "    else:\n",
    "        print(\"Numero di cifre decimali di precisione= \", i)\n",
    "        break"
   ]
  },
  {
   "cell_type": "markdown",
   "metadata": {},
   "source": [
    "5\\. Write a function that takes in input three parameters $a$, $b$ and $c$ and prints out the two solutions to the quadratic equation $ax^2+bx+c=0$ using the standard formula:\n",
    "$$\n",
    "x=\\frac{-b\\pm\\sqrt{b^2-4ac}}{2a}\n",
    "$$\n",
    "\n",
    "(a) use the program to compute the solution for $a=0.001$, $b=1000$ and $c=0.001$\n",
    "\n",
    "(b) re-express the standard solution formula by multiplying the numerator and the denominator by $-b\\mp\\sqrt{b^2-4ac}$ and again find the solution for $a=0.001$, $b=1000$ and $c=0.001$. How does it compare with what has been previously obtained, and why?\n",
    "\n",
    "(c) write a function that computes the roots of a quadratic equation accurately in all cases"
   ]
  },
  {
   "cell_type": "code",
   "execution_count": 8,
   "metadata": {},
   "outputs": [
    {
     "name": "stdout",
     "output_type": "stream",
     "text": [
      "a =0.001\n",
      "b =1000\n",
      "c =0.001\n",
      "\n",
      "Results with math.sqrt:\n",
      "\n",
      "a)\n",
      "x1 =  -9.999894245993346e-07\n",
      "x2 =  -999999.999999\n",
      "\n",
      "b)\n",
      "x1 =  -9.999894245993346e-07\n",
      "x2 =  -999999.999999\n",
      "\n",
      "\n",
      "Results with **.5:\n",
      "\n",
      "a)\n",
      "x1 =  499749.9374677299\n",
      "x2 =  (3.0631474238503034e-11+500249.93753023096j)\n",
      "\n",
      "b)\n",
      "x1 =  499749.9374677299\n",
      "x2 =  (3.0631474238503034e-11+500249.93753023096j)\n",
      "\n",
      "c)\n",
      "Results with math.sqrt() and math.fsum():\n",
      "\n",
      "x1 =  -9.999894245993346e-07\n",
      "x2 =  -999999.999999\n"
     ]
    }
   ],
   "source": [
    "import math\n",
    "a = float(input(\"a =\"))\n",
    "b = float(input(\"b =\"))\n",
    "c = float(input(\"c =\"))\n",
    "\n",
    "#a with math.sqrt\n",
    "print(\"\\nResults with math.sqrt:\")\n",
    "print(\"\\na)\\nx1 = \", (-b+math.sqrt(b**2-4*a*c))/(2*a))\n",
    "print(\"x2 = \", (-b-math.sqrt(b**2-4*a*c))/(2*a))\n",
    "\n",
    "#b with math.sqrt\n",
    "print(\"\\nb)\\nx1 = \", ((-b+math.sqrt(b**2-4*a*c))/(2*a))*(-b+math.sqrt(b**2-4*a*c))/(-b+math.sqrt(b**2-4*a*c)))\n",
    "print(\"x2 = \", ((-b-math.sqrt(b**2-4*a*c))/(2*a))*(-b-math.sqrt(b**2-4*a*c))/(-b-math.sqrt(b**2-4*a*c)))\n",
    "\n",
    "#a with **.5\n",
    "print(\"\\n\\nResults with **.5:\")\n",
    "print(\"\\na)\\nx1 = \", (((-b+(b**2-4*a*c))**.5)/(2*a)))\n",
    "print(\"x2 = \", (((-b-(b**2-4*a*c))**.5)/(2*a)))\n",
    "#b with **.5\n",
    "print(\"\\nb)\\nx1 = \", (((-b+(b**2-4*a*c))**.5)/(2*a))*(((-b+(b**2-4*a*c))**.5))/((-b+(b**2-4*a*c))**.5))\n",
    "print(\"x2 = \", (((-b-(b**2-4*a*c))**.5)/(2*a))*((-b-(b**2-4*a*c))**.5)/((-b-(b**2-4*a*c))**.5))\n",
    "\n",
    "#I couldn't find the difference of point b\n",
    "\n",
    "#c\n",
    "print(\"\\nc)\\nResults with math.sqrt() and math.fsum():\")\n",
    "print(\"\\nx1 = \", (math.fsum([-b, math.sqrt(b**2-4*a*c)])/(2*a)))\n",
    "print(\"x2 = \", (math.fsum([-b, -math.sqrt(b**2-4*a*c)])/(2*a)))\n"
   ]
  },
  {
   "cell_type": "markdown",
   "metadata": {},
   "source": [
    "### 6\\. Write a program that implements the function $f(x)=x(x−1)$\n",
    "\n",
    "(a) Calculate the derivative of the function at the point $x = 1$ using the derivative definition:\n",
    "\n",
    "$$\n",
    "\\frac{{\\rm d}f}{{\\rm d}x} = \\lim_{\\delta\\to0} \\frac{f(x+\\delta)-f(x)}{\\delta}\n",
    "$$\n",
    "\n",
    "with $\\delta = 10^{−2}$. Calculate the true value of the same derivative analytically and compare it with the answer your program gives. The two will not agree perfectly. Why?\n",
    "\n",
    "(b) Repeat the calculation for $\\delta = 10^{−4}, 10^{−6}, 10^{−8}, 10^{−10}, 10^{−12}$ and $10^{−14}$. How does the accuracy scales with $\\delta$?"
   ]
  },
  {
   "cell_type": "code",
   "execution_count": 4,
   "metadata": {},
   "outputs": [
    {
     "name": "stdout",
     "output_type": "stream",
     "text": [
      "a) df/dx =  1.010000000000001   The algorithm doesn't have enough numerical stability \n",
      "\n",
      "Value of the derivative for delta = 10^-4 =  1.0000999999998899\n",
      "Value of the derivative for delta = 10^-6 =  1.0000009999177333\n",
      "Value of the derivative for delta = 10^-8 =  1.0000000039225287\n",
      "Value of the derivative for delta = 10^-10 =  1.000000082840371\n",
      "Value of the derivative for delta = 10^-12 =  1.0000889005833413\n",
      "Value of the derivative for delta = 10^-14 =  0.9992007221626509\n",
      "Value of the derivative for delta = 10^-16 =  0.0\n"
     ]
    }
   ],
   "source": [
    "f = lambda x : x*(x-1)\n",
    "\n",
    "d = (f(1+10**-2)-f(1))/10**-2\n",
    "\n",
    "print(\"a) df/dx = \", d, \"  The algorithm doesn't have enough numerical stability \\n\")\n",
    "\n",
    "for b in  [4,6,8,10,12,14,16]:\n",
    "    print(\"Value of the derivative for delta = 10^-{} = \".format(b), (f(1+10**-b)-f(1))/10**-b)\n",
    "    \n",
    "#b) I would say that there is no precise correlation between delta and the result. The closest value is reached with 10^-8."
   ]
  },
  {
   "cell_type": "markdown",
   "metadata": {},
   "source": [
    "7\\. Consider the integral of the semicircle of radius 1:\n",
    "$$\n",
    "I=\\int_{-1}^{1} \\sqrt(1-x^2) {\\rm d}x\n",
    "$$\n",
    "which is known to be $I=\\frac{\\pi}{2}=1.57079632679...$.\n",
    "\n",
    "Alternatively we can use the Riemann definition of the integral:\n",
    "$$\n",
    "I=\\lim_{N\\to\\infty} \\sum_{k=1}^{N} h y_k \n",
    "$$\n",
    "\n",
    "with $h=2/N$ the width of each of the $N$ slices the domain is divided into and where\n",
    "$y_k$ is the value of the function at the $k-$th slice.\n",
    "\n",
    "(a) Write a program to compute the integral with $N=100$. How does the result compare to the true value?\n",
    "\n",
    "(b) How much can $N$ be increased if the computation needs to be run in less than a second? What is the gain in running it for 1 minute? \n"
   ]
  },
  {
   "cell_type": "code",
   "execution_count": 3,
   "metadata": {},
   "outputs": [
    {
     "name": "stdout",
     "output_type": "stream",
     "text": [
      "For N=100 we get a wrong result:  79.01042579447612\n",
      "\n",
      "For N=400000 we get a good result:  1.57080032209098\n",
      "Computation time:  0.78125\n",
      "\n",
      "For N=1000000 we get a good result:  1.570796360124936\n",
      "Computation time:  88.15625\n",
      "% improvement =  0.0002522259505810531\n"
     ]
    }
   ],
   "source": [
    "import time\n",
    "import math\n",
    "\n",
    "print (\"For N=100 we get a wrong result: \", sum([math.sqrt(1-(k/100)**2) for k in range(0,100)]))  \n",
    "\n",
    "#For a second\n",
    "N = 250000\n",
    "start = time.process_time()\n",
    "a = sum([(2/N)*math.sqrt(1-(k/N)**2) for k in range(0,N)])\n",
    "t = time.process_time() - start\n",
    "print(\"\\nFor N=400000 we get a good result: \", a)\n",
    "print(\"Computation time: \",t)\n",
    "\n",
    "#For a minute\n",
    "N = 30000000\n",
    "start = time.process_time()\n",
    "b = sum([(2/N)*math.sqrt(1-(k/N)**2) for k in range(0,N)])\n",
    "t = time.process_time() - start\n",
    "print(\"\\nFor N=1000000 we get a good result: \", b)\n",
    "print(\"Computation time: \",t)\n",
    "\n",
    "print(\"% improvement = \", (1-(b/a))*100)"
   ]
  }
 ],
 "metadata": {
  "kernelspec": {
   "display_name": "Python 3 (ipykernel)",
   "language": "python",
   "name": "python3"
  },
  "language_info": {
   "codemirror_mode": {
    "name": "ipython",
    "version": 3
   },
   "file_extension": ".py",
   "mimetype": "text/x-python",
   "name": "python",
   "nbconvert_exporter": "python",
   "pygments_lexer": "ipython3",
   "version": "3.8.12"
  }
 },
 "nbformat": 4,
 "nbformat_minor": 2
}
