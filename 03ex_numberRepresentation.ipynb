{
 "cells": [
  {
   "cell_type": "markdown",
   "metadata": {},
   "source": [
    "1\\. Write a function that converts numbers among the bin, dec, and hex representations (bin<->dec<->hex)"
   ]
  },
  {
   "cell_type": "code",
   "execution_count": 121,
   "metadata": {},
   "outputs": [
    {
     "name": "stdout",
     "output_type": "stream",
     "text": [
      "Using Python functions: initial number is 9999 in decimal, 0b10011100001111 in binary, 0x270f in hexadecimal\n",
      "\n",
      "Using user function:\n",
      "Converting 9999 from decimal to binary -> 10011100001111\n",
      "Converting 0b10011100001111 from binary to decimal -> 9999\n",
      "Converting 9999 from decimal to hexadecimal -> 270f\n",
      "Converting 0x270f from hexadecimal to decimal -> 9999\n",
      "Converting 0x270f from hexadecimal to binary -> 10011100001111\n",
      "Converting 0b10011100001111 from binary to hexadecimal -> 270f\n"
     ]
    }
   ],
   "source": [
    "def converter(x, base_i, base_f):\n",
    "    '''\n",
    "\n",
    "    Converts x from initial base_i to final base_f\n",
    "    Parameters:\n",
    "        x: string if base_i is hex or bin, integer if base_i is dec\n",
    "        bin numbers should be in the form 0b.. whereas hex numbers 0x..\n",
    "\n",
    "        base_i: 'dec', 'hex' or 'bin' initial base\n",
    "        base_f: 'dec', 'hex' or 'bin' final base\n",
    "        \n",
    "    '''\n",
    "\n",
    "    if base_i != 'dec' and base_i != 'bin' and base_i != 'hex':\n",
    "        raise ValueError (\"Invalid initial base\")\n",
    "    if base_f != 'dec' and base_f != 'bin' and base_f != 'hex':\n",
    "        raise ValueError (\"Invalid final base\")\n",
    "        \n",
    "    # from binary to decimal \n",
    "    if base_i == 'bin':\n",
    "        n_bin = list(x.strip(\" \")) # convert to list, i.e bin(10) = 0b1010 -> ['0', 'b', '1', '0', '1', '0']\n",
    "        n_bin = [int(n_bin[i]) for i in range(2, len(n_bin))] # indices 0/1 are \"0b\" -> range starts from 2\n",
    "        n_bin.reverse() \n",
    "        n_dec = 0\n",
    "        i = 0\n",
    "        for a in n_bin: \n",
    "            n_dec += (2**i) * int(a)\n",
    "            i += 1 \n",
    "\n",
    "    # from hexadecimal to decimal (same procedure as before)\n",
    "    elif base_i == 'hex':\n",
    "        n_hex = list(x.strip(''))\n",
    "\n",
    "        for i in range(len(n_hex)):\n",
    "                if n_hex[i] == 'a': n_hex[i] = 10\n",
    "                if n_hex[i] == 'b': n_hex[i] = 11\n",
    "                if n_hex[i] == 'c': n_hex[i] = 12\n",
    "                if n_hex[i] == 'd': n_hex[i] = 13\n",
    "                if n_hex[i] == 'e': n_hex[i] = 14\n",
    "                if n_hex[i] == 'f': n_hex[i] = 15\n",
    "\n",
    "        n_hex = [int(n_hex[i]) for i in range(2, len(n_hex))]\n",
    "        n_hex.reverse()\n",
    "        n_dec = 0\n",
    "        i = 0\n",
    "        for a in n_hex:\n",
    "            n_dec += (16**i) * int(a)\n",
    "            i += 1 \n",
    "\n",
    "    # base of initial number is already 10\n",
    "    else: \n",
    "        n_dec = x\n",
    "    \n",
    "    if base_f == 'dec':\n",
    "        return n_dec\n",
    "\n",
    "\n",
    "    # from decimal to bin \n",
    "    if base_f == 'bin':  \n",
    "        r = []\n",
    "        q = int(n_dec / 2) # [7,3,1,0]\n",
    "        r.append(n_dec % 2) # We store resto in a list [1,1,1,1]\n",
    "        while q != 0:\n",
    "            n_dec = q\n",
    "            q = int(n_dec / 2)\n",
    "            r.append(n_dec % 2)\n",
    "        r.reverse()\n",
    "        r = ''.join([str(i) for i in r])\n",
    "    \n",
    "\n",
    "    elif base_f == 'hex':\n",
    "        r = []\n",
    "        q = int(n_dec / 16)     \n",
    "        r.append(n_dec % 16)      \n",
    "        while q != 0:\n",
    "            n_dec = q       \n",
    "            q = int(n_dec / 16)       \n",
    "            r.append(n_dec % 16)            \n",
    "        # Now we have to change numbers from 10 to 16 to a,b,c, etc...\n",
    "            for i in range(len(r)):\n",
    "                if r[i] == 10: r[i] = 'a'\n",
    "                if r[i] == 11: r[i] = 'b'\n",
    "                if r[i] == 12: r[i] = 'c'\n",
    "                if r[i] == 13: r[i] = 'd'\n",
    "                if r[i] == 14: r[i] = 'e'\n",
    "                if r[i] == 15: r[i] = 'f'\n",
    "\n",
    "        r.reverse()  \n",
    "        r = ''.join([str(i) for i in r])  \n",
    "        \n",
    "    return r\n",
    "\n",
    "c = 9999\n",
    "c_bin = bin(c)\n",
    "c_hex = hex(c)\n",
    "\n",
    "\n",
    "print('Using Python functions: initial number is {} in decimal, {} in binary, {} in hexadecimal\\n'.format(c,c_bin,c_hex))\n",
    "print('Using user function:')\n",
    "print('Converting {} from decimal to binary -> {}'.format(c,converter(c,'dec','bin')))\n",
    "print('Converting {} from binary to decimal -> {}'.format(c_bin,converter(c_bin,'bin','dec')))\n",
    "print('Converting {} from decimal to hexadecimal -> {}'.format(c,converter(c,'dec','hex')))\n",
    "print('Converting {} from hexadecimal to decimal -> {}'.format(c_hex,converter(c_hex,'hex','dec')))\n",
    "print('Converting {} from hexadecimal to binary -> {}'.format(c_hex,converter(c_hex,'hex','bin')))\n",
    "print('Converting {} from binary to hexadecimal -> {}'.format(c_bin,converter(c_bin,'bin','hex')))"
   ]
  },
  {
   "cell_type": "markdown",
   "metadata": {},
   "source": [
    "2\\. Write a function that converts a 32 bit word into a single precision floating point (i.e. interprets the various bits as sign, mantissa and exponent) and check its validity."
   ]
  },
  {
   "cell_type": "code",
   "execution_count": 150,
   "metadata": {},
   "outputs": [
    {
     "name": "stdout",
     "output_type": "stream",
     "text": [
      "First word is 00000011111000000000000000000000 ->  +1.316553672920962e-36\n",
      "Second word is 10000001101001001100000000000000 ->  -6.051959196811621e-38\n"
     ]
    }
   ],
   "source": [
    "\n",
    "\n",
    "def bin_to_float(x):\n",
    "    '''\n",
    "\n",
    "    Parameters:\n",
    "        x: 32 bit word in a string\n",
    "        \n",
    "    '''\n",
    "    if not isinstance(x,str):\n",
    "        raise ValueError ('Input value is not a string')\n",
    "    \n",
    "    l = list(x.strip(\" \"))\n",
    "    \n",
    "    if len(l) != 32:\n",
    "        raise ValueError ('Number of bins is not 32')\n",
    "         \n",
    "\n",
    "    sign = ' '\n",
    "\n",
    "    if l[0] == '0': \n",
    "        sign += '+'\n",
    "    if l[0] == '1': \n",
    "        sign += '-' \n",
    "\n",
    "\n",
    "    exp = [int(l[i]) for i in range(1, 9)]\n",
    "    r = ''.join([str(i) for i in exp])\n",
    "    exp_dec = converter(r,\"bin\",\"dec\")\n",
    "\n",
    "    man = [int(l[i]) for i in range(9, len(l))]\n",
    "     \n",
    "    s = 0\n",
    "    for j in range(1,len(man)):\n",
    "        s += (man[j-1]) * 2 **(-j)\n",
    "\n",
    "    n = ( 1 +s )* pow(2, exp_dec - 127)\n",
    "\n",
    "    return(sign + str(n))\n",
    "\n",
    "word1 = \"00000011111000000000000000000000\"\n",
    "word2 = \"10000001101001001100000000000000\"\n",
    "\n",
    "x = bin_to_float(word1)\n",
    "y = bin_to_float(word2)\n",
    "\n",
    "print('First word is {} -> {}'.format(word1,x))\n",
    "print('Second word is {} -> {}'.format(word2,y))\n"
   ]
  },
  {
   "cell_type": "code",
   "execution_count": 149,
   "metadata": {},
   "outputs": [
    {
     "name": "stdout",
     "output_type": "stream",
     "text": [
      "00000011111000000000000000000000\n",
      "10000001101001001100000000000000\n"
     ]
    }
   ],
   "source": [
    "def float_to_bin(num):\n",
    "    bits, = struct.unpack('!I', struct.pack('!f', num))\n",
    "    return \"{:032b}\".format(bits)\n",
    "\n",
    "print(float_to_bin(+1.316553672920962e-36))\n",
    "print(float_to_bin(-6.051959196811621e-38))"
   ]
  },
  {
   "cell_type": "markdown",
   "metadata": {},
   "source": [
    "3\\. Write a program to determine the underflow and overflow limits (within a factor of 2) for python on your computer. \n",
    "\n",
    "**Tip**: define two variables initialized to 1 and halve/double them for a sufficient amount of times to exceed the under/over-flow limits  "
   ]
  },
  {
   "cell_type": "code",
   "execution_count": 151,
   "metadata": {},
   "outputs": [
    {
     "data": {
      "text/plain": [
       "sys.float_info(max=1.7976931348623157e+308, max_exp=1024, max_10_exp=308, min=2.2250738585072014e-308, min_exp=-1021, min_10_exp=-307, dig=15, mant_dig=53, epsilon=2.220446049250313e-16, radix=2, rounds=1)"
      ]
     },
     "execution_count": 151,
     "metadata": {},
     "output_type": "execute_result"
    }
   ],
   "source": [
    "import sys\n",
    "sys.float_info"
   ]
  },
  {
   "cell_type": "code",
   "execution_count": 40,
   "metadata": {},
   "outputs": [
    {
     "name": "stdout",
     "output_type": "stream",
     "text": [
      "Overflow limit reached after 1024 iterations and it is equal to: 8.98846567431158e+307\n",
      "Underflow limit reached after 1075 iterations and it is equal to: 5e-324\n"
     ]
    }
   ],
   "source": [
    "under = 1. \n",
    "over = 1. \n",
    "N = 2000\n",
    "i = 0\n",
    "\n",
    "while i < N:\n",
    "    o = over\n",
    "    over = over * 2\n",
    "    i += 1 \n",
    "    if over == float('inf'):\n",
    "        pos_o = i\n",
    "        break   \n",
    "    #print(i,over)\n",
    "\n",
    "j = 0\n",
    "while j < N:\n",
    "    u = under\n",
    "    under = under / 2\n",
    "    j += 1\n",
    "    if under == 0. :\n",
    "        pos_u = j\n",
    "        break   \n",
    "    #print(j,under)\n",
    "\n",
    "\n",
    "print('Overflow limit reached after ' + str(pos_o) + ' iterations and it is equal to: '+ str(o))\n",
    "print('Underflow limit reached after ' + str(pos_u) + ' iterations and it is equal to: '+ str(u))\n"
   ]
  },
  {
   "cell_type": "markdown",
   "metadata": {},
   "source": [
    "4\\. Write a program to determine the machine precision\n",
    "\n",
    "**Tip**: define a new variable by adding an increasingly smaller value (in the same way as the previous problem) and check when the addition starts to have no effect on the number"
   ]
  },
  {
   "cell_type": "code",
   "execution_count": 165,
   "metadata": {},
   "outputs": [
    {
     "data": {
      "text/plain": [
       "1.0"
      ]
     },
     "execution_count": 165,
     "metadata": {},
     "output_type": "execute_result"
    }
   ],
   "source": [
    "# Addding an increasingly small number to 7\n",
    "for e in [14, 15, 16]: \n",
    "    print (7+1.0*10**-e)"
   ]
  },
  {
   "cell_type": "markdown",
   "metadata": {},
   "source": [
    "5\\. Write a function that takes in input three parameters $a$, $b$ and $c$ and prints out the two solutions to the quadratic equation $ax^2+bx+c=0$ using the standard formula:\n",
    "$$\n",
    "x=\\frac{-b\\pm\\sqrt{b^2-4ac}}{2a}\n",
    "$$\n",
    "\n",
    "(a) use the program to compute the solution for $a=0.001$, $b=1000$ and $c=0.001$\n",
    "\n",
    "(b) re-express the standard solution formula by multiplying the numerator and the denominator by $-b\\mp\\sqrt{b^2-4ac}$ and again find the solution for $a=0.001$, $b=1000$ and $c=0.001$. How does it compare with what has been previously obtained, and why?\n",
    "\n",
    "(c) write a function that computes the roots of a quadratic equation accurately in all cases"
   ]
  },
  {
   "cell_type": "code",
   "execution_count": null,
   "metadata": {},
   "outputs": [],
   "source": []
  },
  {
   "cell_type": "markdown",
   "metadata": {},
   "source": [
    "6\\. Write a program that implements the function $f(x)=x(x−1)$\n",
    "\n",
    "(a) Calculate the derivative of the function at the point $x = 1$ using the derivative definition:\n",
    "\n",
    "$$\n",
    "\\frac{{\\rm d}f}{{\\rm d}x} = \\lim_{\\delta\\to0} \\frac{f(x+\\delta)-f(x)}{\\delta}\n",
    "$$\n",
    "\n",
    "with $\\delta = 10^{−2}$. Calculate the true value of the same derivative analytically and compare it with the answer your program gives. The two will not agree perfectly. Why?\n",
    "\n",
    "(b) Repeat the calculation for $\\delta = 10^{−4}, 10^{−6}, 10^{−8}, 10^{−10}, 10^{−12}$ and $10^{−14}$. How does the accuracy scales with $\\delta$?"
   ]
  },
  {
   "cell_type": "code",
   "execution_count": null,
   "metadata": {},
   "outputs": [],
   "source": []
  },
  {
   "cell_type": "markdown",
   "metadata": {},
   "source": [
    "7\\. Consider the integral of the semicircle of radius 1:\n",
    "$$\n",
    "I=\\int_{-1}^{1} \\sqrt(1-x^2) {\\rm d}x\n",
    "$$\n",
    "which is known to be $I=\\frac{\\pi}{2}=1.57079632679...$.\n",
    "\n",
    "Alternatively we can use the Riemann definition of the integral:\n",
    "$$\n",
    "I=\\lim_{N\\to\\infty} \\sum_{k=1}^{N} h y_k \n",
    "$$\n",
    "\n",
    "with $h=2/N$ the width of each of the $N$ slices the domain is divided into and where\n",
    "$y_k$ is the value of the function at the $k-$th slice.\n",
    "\n",
    "(a) Write a program to compute the integral with $N=100$. How does the result compare to the true value?\n",
    "\n",
    "(b) How much can $N$ be increased if the computation needs to be run in less than a second? What is the gain in running it for 1 minute? \n"
   ]
  },
  {
   "cell_type": "code",
   "execution_count": null,
   "metadata": {},
   "outputs": [],
   "source": []
  }
 ],
 "metadata": {
  "interpreter": {
   "hash": "397704579725e15f5c7cb49fe5f0341eb7531c82d19f2c29d197e8b64ab5776b"
  },
  "kernelspec": {
   "display_name": "Python 3.9.0 64-bit",
   "name": "python3"
  },
  "language_info": {
   "codemirror_mode": {
    "name": "ipython",
    "version": 3
   },
   "file_extension": ".py",
   "mimetype": "text/x-python",
   "name": "python",
   "nbconvert_exporter": "python",
   "pygments_lexer": "ipython3",
   "version": "3.9.0"
  }
 },
 "nbformat": 4,
 "nbformat_minor": 2
}
