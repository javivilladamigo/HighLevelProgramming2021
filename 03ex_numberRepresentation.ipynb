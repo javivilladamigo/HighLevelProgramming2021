{
 "cells": [
  {
   "cell_type": "markdown",
   "metadata": {},
   "source": [
    "1\\. Write a function that converts numbers among the bin, dec, and hex representations (bin<->dec<->hex)"
   ]
  },
  {
   "cell_type": "code",
   "execution_count": 7,
   "metadata": {},
   "outputs": [
    {
     "name": "stdout",
     "output_type": "stream",
     "text": [
      "The number in input is 41;\n",
      "Its bin representation is 0b101001, while its hex representation is 0x29\n",
      "\n",
      "The number in input is 0b101001;\n",
      "Its decimal representation is 41, while its hex representation is 0x29\n",
      "\n",
      "The number in input is 0x29;\n",
      "Its decimal representation is 41, while its bin representation is 0b101001\n"
     ]
    }
   ],
   "source": [
    "def conversion(inp, format='dec'):\n",
    "  \"\"\"\n",
    "  Converts a number in the format 'format', which can be\n",
    "  'dec', 'bin' or 'hex' into the other possible two formats\n",
    "  \"\"\"\n",
    "  if format == 'bin':\n",
    "    out_d = int(bin(inp), 2)\n",
    "    out_x = hex(out_d)\n",
    "    print(\"The number in input is %s;\" % bin(inp))\n",
    "    print(\"Its decimal representation is %d, while its hex representation is %s\" % (out_d, out_x))\n",
    "    return out_d, out_x\n",
    "  elif format == 'hex':\n",
    "    out_d = int(hex(inp), 16)\n",
    "    out_b = bin(out_d)\n",
    "    print(\"The number in input is %s;\" % hex(inp))\n",
    "    print(\"Its decimal representation is %d, while its bin representation is %s\" % (out_d, out_b))\n",
    "    return out_d, out_b\n",
    "  elif format == 'dec':\n",
    "    out_b = bin(inp)\n",
    "    out_x = hex(inp)\n",
    "    print(\"The number in input is %d;\" % inp)\n",
    "    print(\"Its bin representation is %s, while its hex representation is %s\" % (out_b, out_x))\n",
    "    return out_b, out_x\n",
    "  else:\n",
    "    out_1 = None\n",
    "    out_2 = None\n",
    "    print(\"Format %s is not supported\" % format)\n",
    "    return out_1, out_2\n",
    "  \n",
    "d_to_b, d_to_x = conversion(41)\n",
    "print(\"\")\n",
    "b_to_d, b_to_x = conversion(0b00101001,'bin')\n",
    "print(\"\")\n",
    "h_to_d, h_to_b = conversion(0x29, 'hex')\n"
   ]
  },
  {
   "cell_type": "markdown",
   "metadata": {},
   "source": [
    "2\\. Write a function that converts a 32 bit word into a single precision floating point (i.e. interprets the various bits as sign, mantissa and exponent) and check its validity."
   ]
  },
  {
   "cell_type": "code",
   "execution_count": 8,
   "metadata": {},
   "outputs": [
    {
     "name": "stdout",
     "output_type": "stream",
     "text": [
      "The float conversion of the input word resulted in: 1.3165536729209620e-36\n"
     ]
    }
   ],
   "source": [
    "def to_float(string):\n",
    "  \"\"\"\n",
    "  Converts a string composed by zeros and ones into\n",
    "  a float value according to IEEE 754 standard\n",
    "  \"\"\"\n",
    "  bias = 127 # standard bias\n",
    "  sign = int(string[0], 2) # sign extrapolation\n",
    "  e = int(string[1:9], 2) # exponent extrapolation\n",
    "  mantissa = 1\n",
    "  for i in range(1,24):\n",
    "    mantissa += int(string[i+8], 2)*2**(-i)\n",
    "  result = (-1)**(sign)*mantissa*2**(e-bias)\n",
    "  return result\n",
    "\n",
    "word = '00000011111000000000000000000000' # \"binary\" string 32 bits long\n",
    "float_word = to_float(word) # according to the lecture, should return 1.316554e-36\n",
    "print(\"The float conversion of the input word resulted in: %.16e\" % float_word)"
   ]
  },
  {
   "cell_type": "markdown",
   "metadata": {},
   "source": [
    "3\\. Write a program to determine the underflow and overflow limits (within a factor of 2) for python on your computer. \n",
    "\n",
    "**Tip**: define two variables initialized to 1 and halve/double them for a sufficient amount of times to exceed the under/over-flow limits  "
   ]
  },
  {
   "cell_type": "code",
   "execution_count": 9,
   "metadata": {},
   "outputs": [
    {
     "name": "stdout",
     "output_type": "stream",
     "text": [
      "Overflow occurred after 1024 doublings! Max limit of the system (up to a factor of 2) is: 8.9884656743115795e+307\n",
      "Underflow occurred after 1075 halvings! Min limit of the system (up to a factor of 2) is: 4.9406564584124654e-324\n"
     ]
    }
   ],
   "source": [
    "under = over = temp = 1.0\n",
    "counter_over = 0 # count number of subsequent doublings \n",
    "counter_under = 0 # count number of subsequent halvings\n",
    "\n",
    "while over != float('inf'): # double the \"over\" value till it will equal 'inf'\n",
    "  temp = over\n",
    "  over *= 2\n",
    "  counter_over += 1\n",
    "print(\"Overflow occurred after %d doublings! Max limit of the system (up to a factor of 2) is: %.16e\" % (counter_over, temp))\n",
    "\n",
    "while under != 0: # halve the \"under\" value till  it will equal zero\n",
    "  temp = under\n",
    "  under /= 2\n",
    "  counter_under += 1\n",
    "print(\"Underflow occurred after %d halvings! Min limit of the system (up to a factor of 2) is: %.16e\" % (counter_under, temp))"
   ]
  },
  {
   "cell_type": "markdown",
   "metadata": {},
   "source": [
    "4\\. Write a program to determine the machine precision\n",
    "\n",
    "**Tip**: define a new variable by adding an increasingly smaller value (in the same way as the previous problem) and check when the addition starts to have no effect on the number"
   ]
  },
  {
   "cell_type": "code",
   "execution_count": 10,
   "metadata": {},
   "outputs": [
    {
     "name": "stdout",
     "output_type": "stream",
     "text": [
      "The machine (double) precision of this system corresponds to 1.110223024625157e-16, using 53 bits for the mantissa\n"
     ]
    }
   ],
   "source": [
    "result = temp = a = 2\n",
    "bits = 0\n",
    "while True: # continue until you sum a quantity that makes the updated value not\n",
    "            # pass an equal check wrt the previous value\n",
    "  a /= 2\n",
    "  temp += a\n",
    "  if result != temp:\n",
    "    result = temp\n",
    "    bits += 1\n",
    "  else:\n",
    "    print(\"The machine (double) precision of this system corresponds to %.15e, using %d bits for the mantissa\" % (a, bits))\n",
    "    break\n"
   ]
  },
  {
   "cell_type": "markdown",
   "metadata": {},
   "source": [
    "5\\. Write a function that takes in input three parameters $a$, $b$ and $c$ and prints out the two solutions to the quadratic equation $ax^2+bx+c=0$ using the standard formula:\n",
    "$$\n",
    "x=\\frac{-b\\pm\\sqrt{b^2-4ac}}{2a}\n",
    "$$\n",
    "\n",
    "(a) use the program to compute the solution for $a=0.001$, $b=1000$ and $c=0.001$\n",
    "\n",
    "(b) re-express the standard solution formula by multiplying the numerator and the denominator by $-b\\mp\\sqrt{b^2-4ac}$ and again find the solution for $a=0.001$, $b=1000$ and $c=0.001$. How does it compare with what has been previously obtained, and why?\n",
    "\n",
    "(c) write a function that computes the roots of a quadratic equation accurately in all cases"
   ]
  },
  {
   "cell_type": "code",
   "execution_count": 22,
   "metadata": {},
   "outputs": [
    {
     "name": "stdout",
     "output_type": "stream",
     "text": [
      "The results of (a) are -> x1 = -9.999999999990e+05, x2 = -9.999894245993e-07\n",
      "The results of (b) are -> x1 = -1.000010575513e+06, x2 = -1.000000000001e-06\n",
      "The results of (c) are -> x1 = -9.999999999990e+05, x2 = -1.000000000001e-06\n"
     ]
    }
   ],
   "source": [
    "#(a)\n",
    "def quad_roots(a, b, c):\n",
    "  sqr_delta = (b**2 - 4*a*c)**0.5\n",
    "  p_root = (-b + sqr_delta)/(2*a) # sqr_delta is circa b, we encounter a cancelation \n",
    "  n_root = (-b - sqr_delta)/(2*a) # this is okay\n",
    "  return n_root, p_root\n",
    "\n",
    "a = c = 0.001\n",
    "b = 1000\n",
    "x1, x2 = quad_roots(a, b, c)\n",
    "print(\"The results of (a) are -> x1 = %.12e, x2 = %.12e\" % (x1, x2))\n",
    "# we can guess that the problem is due to the orders of magnitude of difference between b^2 and 4ac\n",
    "\n",
    "#(b)\n",
    "def alt_quad_roots(a, b, c):\n",
    "  sqr_delta = (b**2 - 4*a*c)**0.5\n",
    "  p_num = -b + sqr_delta\n",
    "  n_num = -b - sqr_delta\n",
    "\n",
    "  p_root = 2*c/n_num # this is okay\n",
    "  n_root = 2*c/p_num  # again, sqr_delta is too close to b and we encounter a cancelation\n",
    "  return n_root, p_root\n",
    "\n",
    "x1, x2 = alt_quad_roots(a, b, c)\n",
    "print(\"The results of (b) are -> x1 = %.12e, x2 = %.12e\" % (x1, x2))\n",
    "\n",
    "#(c)\n",
    "# we combine the results from the previous points to provide a stable method\n",
    "def better_quad_roots(a, b, c):\n",
    "  sqr_delta = (b**2 - 4*a*c)**0.5\n",
    "  n_num = -b - sqr_delta\n",
    "\n",
    "  p_root = 2*c/n_num # this is okay\n",
    "  n_root = (-b - sqr_delta)/(2*a) # this is okay\n",
    "  return n_root, p_root\n",
    "\n",
    "x1, x2 = better_quad_roots(a, b, c)\n",
    "print(\"The results of (c) are -> x1 = %.12e, x2 = %.12e\" % (x1, x2))"
   ]
  },
  {
   "cell_type": "markdown",
   "metadata": {},
   "source": [
    "6\\. Write a program that implements the function $f(x)=x(x−1)$\n",
    "\n",
    "(a) Calculate the derivative of the function at the point $x = 1$ using the derivative definition:\n",
    "\n",
    "$$\n",
    "\\frac{{\\rm d}f}{{\\rm d}x} = \\lim_{\\delta\\to0} \\frac{f(x+\\delta)-f(x)}{\\delta}\n",
    "$$\n",
    "\n",
    "with $\\delta = 10^{−2}$. Calculate the true value of the same derivative analytically and compare it with the answer your program gives. The two will not agree perfectly. Why?\n",
    "\n",
    "(b) Repeat the calculation for $\\delta = 10^{−4}, 10^{−6}, 10^{−8}, 10^{−10}, 10^{−12}$ and $10^{−14}$. How does the accuracy scales with $\\delta$?"
   ]
  },
  {
   "cell_type": "code",
   "execution_count": 37,
   "metadata": {},
   "outputs": [
    {
     "name": "stdout",
     "output_type": "stream",
     "text": [
      "The derivative of f(x) with x = 1.000000 and delta = 1.00000000000000002082e-02 is: 1.010000\n"
     ]
    }
   ],
   "source": [
    "#(a)\n",
    "def my_fun(x):\n",
    "  return x*(x-1)\n",
    "\n",
    "def derivative(x, delta):\n",
    "  \"\"\"\n",
    "  Computes the derivative of f in x\n",
    "  \"\"\"\n",
    "  return (my_fun(x+delta) - my_fun(x))/delta\n",
    "\n",
    "x = 1 \n",
    "delta = 10**(-2)\n",
    "print(\"The derivative of f(x) with x = %f and delta = %.20e is: %f\" % (x, delta, derivative(x, delta)))\n",
    "# ...but analitically the result is different: check the markdown cell below"
   ]
  },
  {
   "cell_type": "markdown",
   "metadata": {},
   "source": [
    "In this case we can see that the result is slightly different from the sharp value of 1 expected analitically. This happens because of the limited precision of the machine, and by printing out the value of $\\delta$ with a not negligible number of significant figures we can detect that it is not perfectly equal to $10^{−2}$. Increasing the absolute value of the negative exponent for $\\delta$, we get the best result (i.e. the one that approaches better the analitical value) for $\\delta = 10^{−8}$, and increasing it further will lead to worse outcomes."
   ]
  },
  {
   "cell_type": "code",
   "execution_count": 38,
   "metadata": {},
   "outputs": [
    {
     "name": "stdout",
     "output_type": "stream",
     "text": [
      "The derivative of f(x) with x = 1.000000 and delta = 1.00000000000000004792e-04 is: 1.0000999999998899e+00\n",
      "The derivative of f(x) with x = 1.000000 and delta = 9.99999999999999954748e-07 is: 1.0000009999177333e+00\n",
      "The derivative of f(x) with x = 1.000000 and delta = 1.00000000000000002092e-08 is: 1.0000000039225287e+00\n",
      "The derivative of f(x) with x = 1.000000 and delta = 1.00000000000000003643e-10 is: 1.0000000828403710e+00\n",
      "The derivative of f(x) with x = 1.000000 and delta = 9.99999999999999979887e-13 is: 1.0000889005833413e+00\n",
      "The derivative of f(x) with x = 1.000000 and delta = 9.99999999999999998819e-15 is: 9.9920072216265088e-01\n"
     ]
    }
   ],
   "source": [
    "#(b)\n",
    "delta_list = [10**(-2*k) for k in range(2,8)]\n",
    "\n",
    "for delta in delta_list:\n",
    "  print(\"The derivative of f(x) with x = %f and delta = %.20e is: %.16e\" % (x, delta, derivative(x, delta)))"
   ]
  },
  {
   "cell_type": "markdown",
   "metadata": {},
   "source": [
    "7\\. Consider the integral of the semicircle of radius 1:\n",
    "$$\n",
    "I=\\int_{-1}^{1} \\sqrt(1-x^2) {\\rm d}x\n",
    "$$\n",
    "which is known to be $I=\\frac{\\pi}{2}=1.57079632679...$.\n",
    "\n",
    "Alternatively we can use the Riemann definition of the integral:\n",
    "$$\n",
    "I=\\lim_{N\\to\\infty} \\sum_{k=1}^{N} h y_k \n",
    "$$\n",
    "\n",
    "with $h=2/N$ the width of each of the $N$ slices the domain is divided into and where\n",
    "$y_k$ is the value of the function at the $k-$th slice.\n",
    "\n",
    "(a) Write a program to compute the integral with $N=100$. How does the result compare to the true value?\n",
    "\n",
    "(b) How much can $N$ be increased if the computation needs to be run in less than a second? What is the gain in running it for 1 minute? \n"
   ]
  },
  {
   "cell_type": "code",
   "execution_count": 43,
   "metadata": {},
   "outputs": [
    {
     "name": "stdout",
     "output_type": "stream",
     "text": [
      "Integral of semicircle with radius 1, Riemann approximation with N = 100: 1.569134\n"
     ]
    }
   ],
   "source": [
    "#(a)\n",
    "semicircle = lambda x: (1-x**2)**0.5\n",
    "\n",
    "def integral(func, N, lower_ext=-1, upper_ext=1):\n",
    "  \"\"\"\n",
    "  Compute the integral (Riemann definition) of function func\n",
    "  in interval (lower_ext, upper_ext) with N slices\n",
    "  \"\"\"\n",
    "  h = (upper_ext - lower_ext)/N\n",
    "  I = 0\n",
    "  for k in range (1, N):\n",
    "    I += func(lower_ext + h*k)*h\n",
    "  return I\n",
    "\n",
    "N = 100\n",
    "I = integral(semicircle, N)\n",
    "\n",
    "print(\"Integral of semicircle with radius 1, Riemann approximation with N = %d: %f\" % (N, I))\n",
    "# we can see that the result is not that bad but neither acceptable if we want some precision;\n",
    "# N has to be increased to achieve that"
   ]
  },
  {
   "cell_type": "code",
   "execution_count": 70,
   "metadata": {},
   "outputs": [
    {
     "name": "stdout",
     "output_type": "stream",
     "text": [
      "With N=2380000 -> I=1.57079633, error=4.529e-10 and runtime=0.94389 seconds\n",
      "With N=225000000 -> I=1.57079633, error=1.238e-12  and runtime=59.49574 seconds\n"
     ]
    }
   ],
   "source": [
    "#(b)\n",
    "import time\n",
    "import math\n",
    "\n",
    "N = 23*10**5 # by iterative searching, make a guess that is close to make the runtime sligthly less than 1s\n",
    "runtime = 0\n",
    "max_time = 1 # seconds\n",
    "while runtime < max_time:\n",
    "  best_N = N\n",
    "  best_time = runtime\n",
    "  start = time.time()\n",
    "  I_1 = integral(semicircle, N)\n",
    "  runtime = time.time() - start\n",
    "  N += 10**3\n",
    "\n",
    "error_1 = abs(I_1 - math.pi/2)\n",
    "print(\"With N=%d -> I=%.8f, error=%.3e and runtime=%.5f seconds\" % (best_N, I_1, error_1, best_time))\n",
    "\n",
    "N = 10**8 # by iterative searching, make a guess that is close to make the runtime sligthly less than 60s\n",
    "max_time = 60 # seconds\n",
    "while runtime < max_time:\n",
    "  best_N = N\n",
    "  best_time = runtime\n",
    "  start = time.time()\n",
    "  I_60 = integral(semicircle, N)\n",
    "  runtime = time.time() - start\n",
    "  N = int(N*1.5)\n",
    "\n",
    "error_60 = abs(I_60 - math.pi/2)\n",
    "print(\"With N=%d -> I=%.8f, error=%.3e  and runtime=%.5f seconds\" % (best_N, I_60, error_60, best_time))\n",
    "\n",
    "# the gain is of circa 2 orders of magnitude if we run the program for slighly less than 60s\n"
   ]
  }
 ],
 "metadata": {
  "kernelspec": {
   "display_name": "Python 3",
   "language": "python",
   "name": "python3"
  },
  "language_info": {
   "codemirror_mode": {
    "name": "ipython",
    "version": 3
   },
   "file_extension": ".py",
   "mimetype": "text/x-python",
   "name": "python",
   "nbconvert_exporter": "python",
   "pygments_lexer": "ipython3",
   "version": "3.9.5"
  }
 },
 "nbformat": 4,
 "nbformat_minor": 2
}
