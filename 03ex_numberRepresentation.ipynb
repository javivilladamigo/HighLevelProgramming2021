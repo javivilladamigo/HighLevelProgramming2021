{
 "cells": [
  {
   "cell_type": "markdown",
   "metadata": {},
   "source": [
    "1\\. Write a function that converts numbers among the bin, dec, and hex representations (bin<->dec<->hex)"
   ]
  },
  {
   "cell_type": "code",
   "execution_count": 8,
   "metadata": {},
   "outputs": [
    {
     "name": "stdout",
     "output_type": "stream",
     "text": [
      "0x22\n",
      "0b100010\n",
      "0b10010\n"
     ]
    }
   ],
   "source": [
    "# 1 Solution\n",
    "\n",
    "def changeType(x, newType):\n",
    "    if newType == 'hex': return hex(x)\n",
    "    elif newType == 'bin': return bin(x)\n",
    "    else: return x\n",
    "\n",
    "def converter(x, newType):\n",
    "    if isinstance(x, int): return changeType(x, newType)\n",
    "    if x.startswith('0x'): #if hexa\n",
    "        return changeType(int(x, 16), newType)\n",
    "    elif x.startswith('0b'): #if binary\n",
    "        return changeType(int(x, 2), newType)\n",
    "\n",
    "print(converter(34, 'hex'))\n",
    "print(converter(34, 'bin'))\n",
    "print(converter('0x12', 'bin'))\n"
   ]
  },
  {
   "cell_type": "markdown",
   "metadata": {},
   "source": [
    "2\\. Write a function that converts a 32 bit word into a single precision floating point (i.e. interprets the various bits as sign, mantissa and exponent) and check its validity."
   ]
  },
  {
   "cell_type": "code",
   "execution_count": 12,
   "metadata": {},
   "outputs": [
    {
     "name": "stdout",
     "output_type": "stream",
     "text": [
      "0b110010000\n",
      "9\n",
      "011001000\n"
     ]
    }
   ],
   "source": [
    "# 2 Solution\n",
    "\n",
    "def toFloating(num):\n",
    "    bNum = bin(num)\n",
    "    print(bNum)\n",
    "    length = len(bNum) - 2\n",
    "    print(length)\n",
    "    sign = bNum[2]\n",
    "    result = '0';\n",
    "    if num < 0: result = '1' # check sign\n",
    "    if length <= 8: result += bNum[2:] # if less than 8 bits then no need to cast\n",
    "    else: result += bin(num & (255 << (length - 8)))[2:10] # cast it to 8 bits only\n",
    "    return result\n",
    "    \n",
    "\n",
    "print(toFloating(400))"
   ]
  },
  {
   "cell_type": "markdown",
   "metadata": {},
   "source": [
    "3\\. Write a program to determine the underflow and overflow limits (within a factor of 2) for python on your computer. \n",
    "\n",
    "**Tip**: define two variables initialized to 1 and halve/double them for a sufficient amount of times to exceed the under/over-flow limits  "
   ]
  },
  {
   "cell_type": "code",
   "execution_count": 6,
   "metadata": {},
   "outputs": [
    {
     "name": "stdout",
     "output_type": "stream",
     "text": [
      "underflow limit 5e-324\n",
      "overflow limit 8.98846567431158e+307\n"
     ]
    }
   ],
   "source": [
    "# 3 Solution\n",
    "\n",
    "import math\n",
    "prev_temp = 1\n",
    "# do ... while ... would be the perfect choice but python doesn't have it\n",
    "temp = 1\n",
    "while temp != 0:\n",
    "    temp = prev_temp/2\n",
    "    if temp == 0:\n",
    "        break\n",
    "    prev_temp = temp\n",
    "\n",
    "print('underflow limit', prev_temp)\n",
    "\n",
    "prev_temp = 1.\n",
    "while not math.isinf(temp):\n",
    "    temp = prev_temp*2\n",
    "    if math.isinf(temp):\n",
    "        break\n",
    "    prev_temp = temp\n",
    "\n",
    "print('overflow limit', prev_temp)\n"
   ]
  },
  {
   "cell_type": "markdown",
   "metadata": {},
   "source": [
    "4\\. Write a program to determine the machine precision\n",
    "\n",
    "**Tip**: define a new variable by adding an increasingly smaller value (in the same way as the previous problem) and check when the addition starts to have no effect on the number"
   ]
  },
  {
   "cell_type": "code",
   "execution_count": 4,
   "metadata": {},
   "outputs": [
    {
     "name": "stdout",
     "output_type": "stream",
     "text": [
      "1.1102230246251565e-16\n"
     ]
    }
   ],
   "source": [
    "# 4 Solution \n",
    "\n",
    "a = 1\n",
    "while(1+a != 1):\n",
    "    a /= 2\n",
    "print(a)"
   ]
  },
  {
   "cell_type": "markdown",
   "metadata": {},
   "source": [
    "5\\. Write a function that takes in input three parameters $a$, $b$ and $c$ and prints out the two solutions to the quadratic equation $ax^2+bx+c=0$ using the standard formula:\n",
    "$$\n",
    "x=\\frac{-b\\pm\\sqrt{b^2-4ac}}{2a}\n",
    "$$\n",
    "\n",
    "(a) use the program to compute the solution for $a=0.001$, $b=1000$ and $c=0.001$\n",
    "\n",
    "(b) re-express the standard solution formula by multiplying the numerator and the denominator by $-b\\mp\\sqrt{b^2-4ac}$ and again find the solution for $a=0.001$, $b=1000$ and $c=0.001$. How does it compare with what has been previously obtained, and why?\n",
    "\n",
    "(c) write a function that computes the roots of a quadratic equation accurately in all cases"
   ]
  },
  {
   "cell_type": "code",
   "execution_count": 14,
   "metadata": {},
   "outputs": [
    {
     "name": "stdout",
     "output_type": "stream",
     "text": [
      "(-9.999894245993346e-07, -999999.999999)\n",
      "(-1.000000000001e-06, -1000010.5755125057)\n",
      "(-1.000000000001e-06, -999999.999999)\n",
      "[-1.e+06 -1.e-06]\n"
     ]
    }
   ],
   "source": [
    "# 5 Solution\n",
    "\n",
    "import math\n",
    "import numpy as np\n",
    "def K(a, b, c):\n",
    "    X1 = (-b+math.sqrt(b**2-4*a*c))/(2*a)\n",
    "    X2 = (-b-math.sqrt(b**2-4*a*c))/(2*a)\n",
    "    return X1, X2\n",
    "\n",
    "def L(a, b, c):\n",
    "    Y1 = -2*c/(b+math.sqrt(b**2-4*a*c))\n",
    "    Y2 = -2*c/(b-math.sqrt(b**2-4*a*c))\n",
    "    return Y1, Y2\n",
    "\n",
    "def accurate_roots(a, b, c):\n",
    "    return L(a, b, c)[0], K(a, b, c)[1]\n",
    "\n",
    "a = 0.001\n",
    "b = 1000\n",
    "c = a\n",
    "\n",
    "print(K(a, b, c))\n",
    "print(L(a, b, c))\n",
    "print(accurate_roots(a, b, c))\n",
    "print(np.roots([a,b,c]))"
   ]
  },
  {
   "cell_type": "markdown",
   "metadata": {},
   "source": [
    "6\\. Write a program that implements the function $f(x)=x(x−1)$\n",
    "\n",
    "(a) Calculate the derivative of the function at the point $x = 1$ using the derivative definition:\n",
    "\n",
    "$$\n",
    "\\frac{{\\rm d}f}{{\\rm d}x} = \\lim_{\\delta\\to0} \\frac{f(x+\\delta)-f(x)}{\\delta}\n",
    "$$\n",
    "\n",
    "with $\\delta = 10^{−2}$. Calculate the true value of the same derivative analytically and compare it with the answer your program gives. The two will not agree perfectly. Why?\n",
    "\n",
    "(b) Repeat the calculation for $\\delta = 10^{−4}, 10^{−6}, 10^{−8}, 10^{−10}, 10^{−12}$ and $10^{−14}$. How does the accuracy scales with $\\delta$?"
   ]
  },
  {
   "cell_type": "code",
   "execution_count": 20,
   "metadata": {},
   "outputs": [
    {
     "name": "stdout",
     "output_type": "stream",
     "text": [
      "delta= 4, ans=1.000099999999890, abs(diff)=9.999999988985486e-05\n",
      "delta= 6, ans=1.000000999917733, abs(diff)=9.99917733279787e-07\n",
      "delta= 8, ans=1.000000003922529, abs(diff)=3.922528746258536e-09\n",
      "delta=10, ans=1.000000082840371, abs(diff)=8.284037100736441e-08\n",
      "delta=12, ans=1.000088900583341, abs(diff)=8.890058334132256e-05\n",
      "delta=14, ans=0.999200722162651, abs(diff)=0.0007992778373491216\n"
     ]
    }
   ],
   "source": [
    "# 6 Solution\n",
    "\n",
    "def f(x): \n",
    "    return x*(x-1)\n",
    "def derivative(point, delta):\n",
    "    return (f(point+delta) - f(point)) / delta\n",
    "\n",
    "for d in range(4,16,2):\n",
    "    res = derivative(1.0, 10**(-d))\n",
    "    print(\"delta={:2}, ans={:.15f}, abs(diff)={}\".format(d, res, abs(res-1)))"
   ]
  },
  {
   "cell_type": "markdown",
   "metadata": {},
   "source": [
    "7\\. Consider the integral of the semicircle of radius 1:\n",
    "$$\n",
    "I=\\int_{-1}^{1} \\sqrt(1-x^2) {\\rm d}x\n",
    "$$\n",
    "which is known to be $I=\\frac{\\pi}{2}=1.57079632679...$.\n",
    "\n",
    "Alternatively we can use the Riemann definition of the integral:\n",
    "$$\n",
    "I=\\lim_{N\\to\\infty} \\sum_{k=1}^{N} h y_k \n",
    "$$\n",
    "\n",
    "with $h=2/N$ the width of each of the $N$ slices the domain is divided into and where\n",
    "$y_k$ is the value of the function at the $k-$th slice.\n",
    "\n",
    "(a) Write a program to compute the integral with $N=100$. How does the result compare to the true value?\n",
    "\n",
    "(b) How much can $N$ be increased if the computation needs to be run in less than a second? What is the gain in running it for 1 minute? \n"
   ]
  },
  {
   "cell_type": "code",
   "execution_count": 26,
   "metadata": {},
   "outputs": [
    {
     "name": "stdout",
     "output_type": "stream",
     "text": [
      "1.5707963267948966\n",
      "1.5707881848448806\n",
      "8.141950015971844e-06\n"
     ]
    }
   ],
   "source": [
    "# 7 Solution\n",
    "\n",
    "from math import sqrt\n",
    "from time import time\n",
    "\n",
    "trueI = math.pi/2\n",
    "print(trueI)\n",
    "\n",
    "def I(N):\n",
    "    s = 0\n",
    "    h = 2/N\n",
    "    k = -1\n",
    "    for r in range(1,N):\n",
    "        yk = sqrt(abs(1-k**2))\n",
    "        k = k + h\n",
    "        s += h*yk\n",
    "    return s\n",
    "\n",
    "def IinAsec(sec):\n",
    "    before = time()\n",
    "    after = before\n",
    "    N = 100\n",
    "    s = 0\n",
    "    h = 2/N\n",
    "    k = -1\n",
    "    while after - before < sec:\n",
    "        yk = sqrt(abs(1-k**2))\n",
    "        k = k + h\n",
    "        s += h*yk\n",
    "        after = time()\n",
    "        N = N + 1\n",
    "        print(after-before)\n",
    "    return s, N\n",
    "I = I(7850)\n",
    "print(I)\n",
    "print(trueI-I)\n",
    "\n",
    "\n"
   ]
  },
  {
   "cell_type": "code",
   "execution_count": 46,
   "metadata": {},
   "outputs": [
    {
     "name": "stdout",
     "output_type": "stream",
     "text": [
      "77.6 µs ± 3.91 µs per loop (mean ± std. dev. of 7 runs, 10000 loops each)\n"
     ]
    },
    {
     "ename": "NameError",
     "evalue": "name 'y' is not defined",
     "output_type": "error",
     "traceback": [
      "\u001b[1;31m---------------------------------------------------------------------------\u001b[0m",
      "\u001b[1;31mNameError\u001b[0m                                 Traceback (most recent call last)",
      "\u001b[1;32m<ipython-input-46-6fd537e5d5b7>\u001b[0m in \u001b[0;36m<module>\u001b[1;34m\u001b[0m\n\u001b[0;32m     14\u001b[0m \u001b[1;33m\u001b[0m\u001b[0m\n\u001b[0;32m     15\u001b[0m \u001b[0mget_ipython\u001b[0m\u001b[1;33m(\u001b[0m\u001b[1;33m)\u001b[0m\u001b[1;33m.\u001b[0m\u001b[0mrun_line_magic\u001b[0m\u001b[1;33m(\u001b[0m\u001b[1;34m'timeit'\u001b[0m\u001b[1;33m,\u001b[0m \u001b[1;34m'y = I(N)'\u001b[0m\u001b[1;33m)\u001b[0m\u001b[1;33m\u001b[0m\u001b[1;33m\u001b[0m\u001b[0m\n\u001b[1;32m---> 16\u001b[1;33m \u001b[0mprint\u001b[0m\u001b[1;33m(\u001b[0m\u001b[1;34m\"error: \"\u001b[0m\u001b[1;33m,\u001b[0m \u001b[0mabs\u001b[0m\u001b[1;33m(\u001b[0m\u001b[1;36m1.57079632679\u001b[0m \u001b[1;33m-\u001b[0m \u001b[0my\u001b[0m\u001b[1;33m)\u001b[0m\u001b[1;33m)\u001b[0m\u001b[1;33m\u001b[0m\u001b[1;33m\u001b[0m\u001b[0m\n\u001b[0m",
      "\u001b[1;31mNameError\u001b[0m: name 'y' is not defined"
     ]
    }
   ],
   "source": [
    "# 7 Another Solution\n",
    "\n",
    "N = 100\n",
    "\n",
    "def f(x):\n",
    "    return sqrt(1-x**2)\n",
    "\n",
    "def I(N):\n",
    "    k = -1\n",
    "    y = 0\n",
    "    h = 2/N\n",
    "    while(k <= 1):\n",
    "            y += h*f(k)\n",
    "            k += h\n",
    "    return y\n",
    "    \n",
    "%timeit y = I(N)\n",
    "print(\"error: \", abs(1.57079632679 - y))"
   ]
  }
 ],
 "metadata": {
  "kernelspec": {
   "display_name": "Python 3",
   "language": "python",
   "name": "python3"
  },
  "language_info": {
   "codemirror_mode": {
    "name": "ipython",
    "version": 3
   },
   "file_extension": ".py",
   "mimetype": "text/x-python",
   "name": "python",
   "nbconvert_exporter": "python",
   "pygments_lexer": "ipython3",
   "version": "3.8.8"
  }
 },
 "nbformat": 4,
 "nbformat_minor": 2
}
