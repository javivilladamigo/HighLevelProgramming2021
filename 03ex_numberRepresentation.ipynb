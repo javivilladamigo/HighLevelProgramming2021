{
 "cells": [
  {
   "cell_type": "markdown",
   "metadata": {},
   "source": [
    "1\\. Write a function that converts numbers among the bin, dec, and hex representations (bin<->dec<->hex)"
   ]
  },
  {
   "cell_type": "code",
   "execution_count": 5,
   "metadata": {},
   "outputs": [],
   "source": [
    "def representation(number):\n",
    "    dec, binary, hexadec = False, False, False\n",
    "\n",
    "    # check which kind of number it is\n",
    "    if any([(i == \"x\") for i in number]):\n",
    "        hexadec = True\n",
    "    elif any([(i == \"b\") for i in number]):\n",
    "        binary = True\n",
    "    elif (hexadec == False and binary == False):\n",
    "        dec = True\n",
    "\n",
    "    if dec == True:\n",
    "        decimal_representation = int(number)\n",
    "        binary_representation = bin(decimal_representation)\n",
    "        hexadecimal_representation = hex(decimal_representation)\n",
    "    if binary == True:\n",
    "        binary_representation = number\n",
    "        decimal_representation = int(number, 2)\n",
    "        hexadecimal_representation = hex(decimal_representation)\n",
    "    if hexadec == True:\n",
    "        hexadecimal_representation = number.replace(\"#\", \"\")\n",
    "        decimal_representation = int(hexadecimal_representation, 16)\n",
    "        binary_representation = bin(decimal_representation)\n",
    "  \n",
    "\n",
    "    return (decimal_representation, binary_representation, hexadecimal_representation)"
   ]
  },
  {
   "cell_type": "code",
   "execution_count": 6,
   "metadata": {},
   "outputs": [
    {
     "name": "stdout",
     "output_type": "stream",
     "text": [
      "\n",
      "\n",
      "Decimal representation:  23\n",
      "Binary representation:  0b10111\n",
      "Hexadecimal representation:  0x17\n"
     ]
    }
   ],
   "source": [
    "number = str(input(\"Input number in decimal, binary, or hexadecimal format (for instance: '23', '0b10111' or '0x17'): \"))\n",
    "dec, binary, hexadec = representation(number)\n",
    "\n",
    "print(\"\\n\")\n",
    "print(\"Decimal representation: \", dec)\n",
    "print(\"Binary representation: \", binary)\n",
    "print(\"Hexadecimal representation: \", hexadec)"
   ]
  },
  {
   "cell_type": "markdown",
   "metadata": {},
   "source": [
    "2\\. Write a function that converts a 32 bit word into a single precision floating point (i.e. interprets the various bits as sign, mantissa and exponent) and check its validity."
   ]
  },
  {
   "cell_type": "code",
   "execution_count": 7,
   "metadata": {},
   "outputs": [],
   "source": [
    "def floating_number(word):\n",
    "    if len(word) != 32:\n",
    "        raise ValueError(\"Not 32-bit word\")\n",
    "    if (i.equals(\"0\") or i.equals(\"1\") for i in word):\n",
    "\n",
    "        bias = 127\n",
    "        sign = (-1)**int(word[0])\n",
    "        exponent = word[1:9]\n",
    "        mantissa = word[9:]\n",
    "\n",
    "\n",
    "        f = 0\n",
    "        for i in range(23):\n",
    "            f += int(mantissa[i])*2**(-i-1)\n",
    "\n",
    "        floating_number = sign*(1+f)*2**(int(exponent, 2)-bias)\n",
    "    else:\n",
    "        raise ValueError(\"Not binary\")\n",
    "\n",
    "    return floating_number"
   ]
  },
  {
   "cell_type": "code",
   "execution_count": 9,
   "metadata": {},
   "outputs": [
    {
     "name": "stdout",
     "output_type": "stream",
     "text": [
      "\n",
      "The 32-bit word is: -5.5\n"
     ]
    }
   ],
   "source": [
    "# EXAMPLES FROM http://www.dspguide.com/graphics/F_4_2.gif\n",
    "#example1 = \"00000011111000000000000000000000\" 1.316554e-36\n",
    "#example2  = \"11000000101100000000000000000000\" -5.5\n",
    "\n",
    "word = input(\"Input a word: \")\n",
    "print(\"\\nThe 32-bit word is:\", floating_number(word))"
   ]
  },
  {
   "cell_type": "markdown",
   "metadata": {},
   "source": [
    "3\\. Write a program to determine the underflow and overflow limits (within a factor of 2) for python on your computer. \n",
    "\n",
    "**Tip**: define two variables initialized to 1 and halve/double them for a sufficient amount of times to exceed the under/over-flow limits  "
   ]
  },
  {
   "cell_type": "code",
   "execution_count": 10,
   "metadata": {},
   "outputs": [
    {
     "name": "stdout",
     "output_type": "stream",
     "text": [
      "Over- and underflows (within a factor of 2) are:  8.98846567431158e+307 5e-324\n"
     ]
    }
   ],
   "source": [
    "from math import isinf\n",
    "\n",
    "def limits():\n",
    "    up = 1.\n",
    "    down = 1.\n",
    "    while(isinf(up*2) == False):\n",
    "        up *= 2\n",
    "    while(down/2 != 0.):\n",
    "        down /= 2\n",
    "    return up, down\n",
    "\n",
    "print(\"Over- and underflows (within a factor of 2) are: \", *limits())"
   ]
  },
  {
   "cell_type": "markdown",
   "metadata": {},
   "source": [
    "4\\. Write a program to determine the machine precision\n",
    "\n",
    "**Tip**: define a new variable by adding an increasingly smaller value (in the same way as the previous problem) and check when the addition starts to have no effect on the number"
   ]
  },
  {
   "cell_type": "code",
   "execution_count": 11,
   "metadata": {},
   "outputs": [
    {
     "name": "stdout",
     "output_type": "stream",
     "text": [
      "\n",
      "Starting with a variable a =  0.0\n",
      "\n",
      "After 54 reductions of epsilon by half, we found that epsilon has no effect on a.\n",
      "\n",
      "The current value of epsilon is EPS  = 5.55e-17 and of a = 2.000000\n"
     ]
    }
   ],
   "source": [
    "a = 0.\n",
    "epsilon = 1.\n",
    "\n",
    "print(\"\\nStarting with a variable a = \", a)\n",
    "k = 0\n",
    "while(a+epsilon != a):\n",
    "    a += epsilon\n",
    "    epsilon /= 2\n",
    "    k += 1\n",
    "\n",
    "print(\"\\nAfter %i reductions of epsilon by half, we found that epsilon has no effect on a.\" % k)\n",
    "print(\"\\nThe current value of epsilon is EPS  = %.2e and of a = %f\" % (epsilon, a))"
   ]
  },
  {
   "cell_type": "markdown",
   "metadata": {},
   "source": [
    "5\\. Write a function that takes in input three parameters $a$, $b$ and $c$ and prints out the two solutions to the quadratic equation $ax^2+bx+c=0$ using the standard formula:\n",
    "$$\n",
    "x=\\frac{-b\\pm\\sqrt{b^2-4ac}}{2a}\n",
    "$$\n",
    "\n",
    "(a) use the program to compute the solution for $a=0.001$, $b=1000$ and $c=0.001$\n",
    "\n",
    "(b) re-express the standard solution formula by multiplying the numerator and the denominator by $-b\\mp\\sqrt{b^2-4ac}$ and again find the solution for $a=0.001$, $b=1000$ and $c=0.001$. How does it compare with what has been previously obtained, and why?\n",
    "\n",
    "(c) write a function that computes the roots of a quadratic equation accurately in all cases"
   ]
  },
  {
   "cell_type": "code",
   "execution_count": 12,
   "metadata": {},
   "outputs": [
    {
     "name": "stdout",
     "output_type": "stream",
     "text": [
      "The standard equation gives solutions: -9.999894e-07 and -1.000000e+06\n"
     ]
    }
   ],
   "source": [
    "import numpy as np\n",
    "\n",
    "def quadratic(a, b, c):\n",
    "    pos_solution = (-b + np.sqrt(b*b-4*a*c))/(2*a)\n",
    "    neg_solution = (-b - np.sqrt(b*b-4*a*c))/(2*a)\n",
    "    return pos_solution, neg_solution\n",
    "\n",
    "sol1, sol2 = quadratic(0.001, 1000, 0.001)\n",
    "print(\"The standard equation gives solutions: %e and %e\" % (sol1, sol2))"
   ]
  },
  {
   "cell_type": "code",
   "execution_count": 13,
   "metadata": {},
   "outputs": [
    {
     "name": "stdout",
     "output_type": "stream",
     "text": [
      "The re-expressed equation gives solutions: -1.000000e-06 and -1.000011e+06\n"
     ]
    }
   ],
   "source": [
    "def quadratic_v2(a, b, c):\n",
    "    pos_solution = 2*c/(-b-np.sqrt(b*b-4*a*c))\n",
    "    neg_solution = 2*c/(-b+np.sqrt(b*b-4*a*c))\n",
    "    return pos_solution, neg_solution\n",
    "\n",
    "sol1_v2, sol2_v2 = quadratic_v2(0.001, 1000, 0.001)\n",
    "print(\"The re-expressed equation gives solutions: %e and %e\" % (sol1_v2, sol2_v2))"
   ]
  },
  {
   "cell_type": "markdown",
   "metadata": {},
   "source": [
    "While the first expression yields the correct solution -1e6, the closest to zero solution is wrong by 0.001% approximately.\n",
    "\n",
    "This is due to the fact that the numerator of the equation is approximately zero (given the fact that we are substracting two numbers very close by in value):\n",
    "\n",
    "$\n",
    "-b + \\sqrt{b^{2}-4ac} = -1000 + \\sqrt{1000^{2}-4\\cdot 10 ^{-6}}\\approx 0\n",
    "$\n",
    "\n",
    "and so the first solution (the one with the $+$ sign) is not \"completely\" accurate.\n",
    "\n",
    "\n",
    "\n",
    "The second expression, however, yields solutions as:\n",
    "$\n",
    "x_{\\pm} = \\frac{2c}{-b\\mp \\sqrt{b^{2}-4ac}}\n",
    "$\n",
    "\n",
    "and so the problem arising from the numerator before for the positive solution is arising now from the negative solution (remember the signs plus and minus switched from the first expression to the second). Therefore, now the second solution is off for about 0.001%.\n",
    "\n",
    "To solve these problems where $b^{2}\\gg 4ac$, a combined approach is needed, the negative solution is extracted from the usual formula and the positive solution is extracted from the re-expressed one."
   ]
  },
  {
   "cell_type": "code",
   "execution_count": 14,
   "metadata": {},
   "outputs": [
    {
     "name": "stdout",
     "output_type": "stream",
     "text": [
      "The accurate solutions are: -1.000000e-06 and -1.000000e+06\n"
     ]
    }
   ],
   "source": [
    "def quadratic_accurate(a, b, c):\n",
    "    pos_solution = 2*c/(-b-np.sqrt(b*b-4*a*c))\n",
    "    neg_solution = (-b - np.sqrt(b*b-4*a*c))/(2*a)\n",
    "    return pos_solution, neg_solution\n",
    "\n",
    "sol1, sol2 = quadratic_accurate(0.001, 1000, 0.001)\n",
    "print(\"The accurate solutions are: %e and %e\" % (sol1, sol2))\n",
    "    \n",
    "    "
   ]
  },
  {
   "cell_type": "markdown",
   "metadata": {},
   "source": [
    "6\\. Write a program that implements the function $f(x)=x(x−1)$\n",
    "\n",
    "(a) Calculate the derivative of the function at the point $x = 1$ using the derivative definition:\n",
    "\n",
    "$$\n",
    "\\frac{{\\rm d}f}{{\\rm d}x} = \\lim_{\\delta\\to0} \\frac{f(x+\\delta)-f(x)}{\\delta}\n",
    "$$\n",
    "\n",
    "with $\\delta = 10^{−2}$. Calculate the true value of the same derivative analytically and compare it with the answer your program gives. The two will not agree perfectly. Why?\n",
    "\n",
    "(b) Repeat the calculation for $\\delta = 10^{−4}, 10^{−6}, 10^{−8}, 10^{−10}, 10^{−12}$ and $10^{−14}$. How does the accuracy scales with $\\delta$?"
   ]
  },
  {
   "cell_type": "code",
   "execution_count": 15,
   "metadata": {},
   "outputs": [
    {
     "name": "stdout",
     "output_type": "stream",
     "text": [
      "\n",
      "The derivative using the definition is 1.010000\n",
      "\n",
      "The true value is 1.000000\n",
      "\n",
      "Both values differ in 1.0 per cent\n"
     ]
    }
   ],
   "source": [
    "delta = 1e-2\n",
    "x = 1\n",
    "\n",
    "def f(x):\n",
    "    return x*(x-1)\n",
    "\n",
    "def derivative(f, x, delta):\n",
    "    return (f(x+delta)-f(x))/delta\n",
    "\n",
    "def true_deriv(x):\n",
    "    return 2*x-1\n",
    "\n",
    "\n",
    "print(\"\\nThe derivative using the definition is %f\" % derivative(f, x, delta))\n",
    "print(\"\\nThe true value is %f\" % true_deriv(x))\n",
    "per = abs((true_deriv(x)-derivative(f, x, delta))/true_deriv(x))*100\n",
    "print(\"\\nBoth values differ in %.1f per cent\" % per)"
   ]
  },
  {
   "cell_type": "markdown",
   "metadata": {},
   "source": [
    "The two values will not agree perfectly for the same reason we have commented in the previous exercise. In this case $f(1) = 0$ and $f(1+\\delta)\\approx 0$ so we have a numerator that is very close to zero, divided by a number that is also very close to zero (and therefore the unprecission in the numerator gets amplified)."
   ]
  },
  {
   "cell_type": "code",
   "execution_count": 16,
   "metadata": {},
   "outputs": [
    {
     "name": "stdout",
     "output_type": "stream",
     "text": [
      "\n",
      "The derivative for delta = 1e-04, is: 1.000100\n",
      "Both values differ in 0.01000 per cent\n",
      "\n",
      "The derivative for delta = 1e-06, is: 1.000001\n",
      "Both values differ in 0.00010 per cent\n",
      "\n",
      "The derivative for delta = 1e-08, is: 1.000000\n",
      "Both values differ in 0.00000 per cent\n",
      "\n",
      "The derivative for delta = 1e-10, is: 1.000000\n",
      "Both values differ in 0.00001 per cent\n",
      "\n",
      "The derivative for delta = 1e-12, is: 1.000089\n",
      "Both values differ in 0.00889 per cent\n",
      "\n",
      "The derivative for delta = 1e-14, is: 0.999201\n",
      "Both values differ in 0.07993 per cent\n"
     ]
    }
   ],
   "source": [
    "for i in range(2, 8):\n",
    "    delta = 10**(-2*i)\n",
    "    print(\"\\nThe derivative for delta = %1.0e, is: %f\" % (delta,derivative(f, x, delta)))\n",
    "    \n",
    "    per = abs((true_deriv(x)-derivative(f, x, delta))/true_deriv(x))*100\n",
    "    print(\"Both values differ in %.5f per cent\" % per)"
   ]
  },
  {
   "cell_type": "markdown",
   "metadata": {},
   "source": [
    "There seems to be a maximum precission at around $\\delta = 10^{-8}$ to get lower afterwards. In fact, if the value of $\\delta$ keeps dropping, the calculation will not be precise enough to compute the numerator and the result will yield a derivative equal to 0."
   ]
  },
  {
   "cell_type": "markdown",
   "metadata": {},
   "source": [
    "7\\. Consider the integral of the semicircle of radius 1:\n",
    "$$\n",
    "I=\\int_{-1}^{1} \\sqrt(1-x^2) {\\rm d}x\n",
    "$$\n",
    "which is known to be $I=\\frac{\\pi}{2}=1.57079632679...$.\n",
    "\n",
    "Alternatively we can use the Riemann definition of the integral:\n",
    "$$\n",
    "I=\\lim_{N\\to\\infty} \\sum_{k=1}^{N} h y_k \n",
    "$$\n",
    "\n",
    "with $h=2/N$ the width of each of the $N$ slices the domain is divided into and where\n",
    "$y_k$ is the value of the function at the $k-$th slice.\n",
    "\n",
    "(a) Write a program to compute the integral with $N=100$. How does the result compare to the true value?\n",
    "\n",
    "(b) How much can $N$ be increased if the computation needs to be run in less than a second? What is the gain in running it for 1 minute? \n"
   ]
  },
  {
   "cell_type": "code",
   "execution_count": 17,
   "metadata": {},
   "outputs": [
    {
     "name": "stdout",
     "output_type": "stream",
     "text": [
      "\n",
      "The result is I = 1.56913425555\n",
      "It differs from the true value by 0.11 per cent.\n"
     ]
    }
   ],
   "source": [
    "import numpy as np\n",
    "\n",
    "def f(x):\n",
    "    return np.sqrt(1-x**2)\n",
    "\n",
    "N = 100\n",
    "h = 2./N\n",
    "I = 0\n",
    "for i in range(N+1):\n",
    "    y_k = f(-1+i*h)\n",
    "    I += h*y_k\n",
    "\n",
    "print(\"\\nThe result is I = %.11f\" % I)\n",
    "per = abs(I-np.pi/2)*2/np.pi*100\n",
    "print(\"It differs from the true value by %.2f per cent.\" % per)"
   ]
  },
  {
   "cell_type": "markdown",
   "metadata": {},
   "source": [
    "#### Attempt 1\n",
    "The following code is an authomatic algorithm to compute a certain number of iterations (within a given precission) in which to calculate the integral. However, in jupyter notebook it seeems to not work properly (while at my own terminal does fine). I attached it here for completeness, although I used a simpler method to solve section b) of the exercise."
   ]
  },
  {
   "cell_type": "code",
   "execution_count": 21,
   "metadata": {},
   "outputs": [
    {
     "name": "stdout",
     "output_type": "stream",
     "text": [
      "\n",
      "Time of execution:  0.9109361171722412\n",
      "The result is I = 1.57079632417\n",
      "It differs from the true value by 0.00 per cent.\n"
     ]
    }
   ],
   "source": [
    "import time\n",
    "# calculate the value N for which the calculation takes a little less than 1 sec\n",
    "start_time = time.time()\n",
    "N = 100\n",
    "while(time.time()-start_time < 1.):\n",
    "    h = 2./N\n",
    "    I = 0\n",
    "\n",
    "    for i in range(N+1):\n",
    "        y_k = f(-1+i*h)\n",
    "        I += h*y_k\n",
    "\n",
    "    if ((time.time()-start_time)<0.9):\n",
    "        N *= 2\n",
    "        start_time = time.time()\n",
    "    else:\n",
    "        N = int(N*(9/10))\n",
    "\n",
    "# calculate and confirm it takes less than 1 sec\n",
    "start_time = time.time()\n",
    "h = 2./N\n",
    "I = 0\n",
    "for i in range(N+1):\n",
    "    y_k = f(-1+i*h)\n",
    "    I += h*y_k\n",
    "\n",
    "print(\"\\nTime of execution: \", time.time()-start_time)\n",
    "print(\"The result is I = %.11f\" % I)\n",
    "per = abs(I-np.pi/2)*2/np.pi*100\n",
    "print(\"It differs from the true value by %.2f per cent.\" % per)\n"
   ]
  },
  {
   "cell_type": "code",
   "execution_count": 22,
   "metadata": {},
   "outputs": [
    {
     "name": "stdout",
     "output_type": "stream",
     "text": [
      "\n",
      "The result is I = 1.57079632423\n",
      "It differs from the true value by 0.0000001630 per cent.\n",
      "\n",
      "Time of execution:  0.9740498065948486\n"
     ]
    }
   ],
   "source": [
    "start_time = time.time()\n",
    "N = 750000\n",
    "h = 2./N\n",
    "I = 0\n",
    "for i in range(N+1):\n",
    "    y_k = f(-1+i*h)\n",
    "    I += h*y_k\n",
    "\n",
    "print(\"\\nThe result is I = %.11f\" % I)\n",
    "per = abs(I-np.pi/2)*2/np.pi*100\n",
    "print(\"It differs from the true value by %.10f per cent.\" % per)\n",
    "print(\"\\nTime of execution: \", time.time()-start_time)\n"
   ]
  },
  {
   "cell_type": "code",
   "execution_count": 23,
   "metadata": {},
   "outputs": [
    {
     "name": "stdout",
     "output_type": "stream",
     "text": [
      "\n",
      "The result is I = 1.57079632679\n",
      "It differs from the true value by 0.0000000003 per cent.\n",
      "\n",
      "Time of execution:  59.05505585670471\n"
     ]
    }
   ],
   "source": [
    "import time\n",
    "start_time = time.time()\n",
    "N = 50000000\n",
    "h = 2./N\n",
    "I = 0\n",
    "for i in range(N+1):\n",
    "    y_k = f(-1+i*h)\n",
    "    I += h*y_k\n",
    "\n",
    "print(\"\\nThe result is I = %.11f\" % I)\n",
    "per = abs(I-np.pi/2)*2/np.pi*100\n",
    "print(\"It differs from the true value by %.10f per cent.\" % per)\n",
    "print(\"\\nTime of execution: \", time.time()-start_time)"
   ]
  },
  {
   "cell_type": "markdown",
   "metadata": {},
   "source": [
    "As we can see, the difference in percentage of both calculations are negligible (around $10^{-7}$%), which does not compensate the 60 times slower algorithm."
   ]
  }
 ],
 "metadata": {
  "interpreter": {
   "hash": "aee8b7b246df8f9039afb4144a1f6fd8d2ca17a180786b69acc140d282b71a49"
  },
  "kernelspec": {
   "display_name": "Python 3.8.5 64-bit",
   "name": "python3"
  },
  "language_info": {
   "codemirror_mode": {
    "name": "ipython",
    "version": 3
   },
   "file_extension": ".py",
   "mimetype": "text/x-python",
   "name": "python",
   "nbconvert_exporter": "python",
   "pygments_lexer": "ipython3",
   "version": "3.8.5"
  }
 },
 "nbformat": 4,
 "nbformat_minor": 2
}
