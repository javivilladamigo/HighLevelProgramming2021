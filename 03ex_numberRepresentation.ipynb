{
 "cells": [
  {
   "cell_type": "code",
   "execution_count": 2,
   "metadata": {},
   "outputs": [],
   "source": [
    "### --- Libraries --- ###\n",
    "import numpy as np\n",
    "import matplotlib.pyplot as plt\n",
    "import struct \n",
    "from scipy.optimize import curve_fit"
   ]
  },
  {
   "cell_type": "markdown",
   "metadata": {},
   "source": [
    "1\\. Write a function that converts numbers among the bin, dec, and hex representations (bin<->dec<->hex)"
   ]
  },
  {
   "cell_type": "code",
   "execution_count": 3,
   "metadata": {},
   "outputs": [
    {
     "name": "stdout",
     "output_type": "stream",
     "text": [
      "Using Python functions: initial number is 9999 in decimal, 0b10011100001111 in binary, 0x270f in hexadecimal\n",
      "\n",
      "Using user function:\n",
      "Converting 9999 from decimal to binary -> 10011100001111\n",
      "Converting 0b10011100001111 from binary to decimal -> 9999\n",
      "Converting 9999 from decimal to hexadecimal -> 270f\n",
      "Converting 0x270f from hexadecimal to decimal -> 9999\n",
      "Converting 0x270f from hexadecimal to binary -> 10011100001111\n",
      "Converting 0b10011100001111 from binary to hexadecimal -> 270f\n"
     ]
    }
   ],
   "source": [
    "def converter(x, base_i, base_f):\n",
    "    '''\n",
    "\n",
    "    Converts x from initial base_i to final base_f\n",
    "    Parameters:\n",
    "        x: string if base_i is hex or bin, integer if base_i is dec\n",
    "        binary numbers should be in the form 0b.. whereas hex numbers 0x..\n",
    "\n",
    "        base_i: 'dec', 'hex' or 'bin' initial base\n",
    "        base_f: 'dec', 'hex' or 'bin' final base\n",
    "        \n",
    "    '''\n",
    "\n",
    "    if base_i != 'dec' and base_i != 'bin' and base_i != 'hex':\n",
    "        raise ValueError (\"Invalid initial base\")\n",
    "    if base_f != 'dec' and base_f != 'bin' and base_f != 'hex':\n",
    "        raise ValueError (\"Invalid final base\")\n",
    "        \n",
    "    # from binary to decimal \n",
    "    if base_i == 'bin':\n",
    "        n_bin = list(x.strip(\" \")) # convert to list, i.e bin(10) = 0b1010 -> ['0', 'b', '1', '0', '1', '0']\n",
    "        n_bin = [int(n_bin[i]) for i in range(2, len(n_bin))] # indices 0/1 are \"0b\" -> range starts from 2\n",
    "        n_bin.reverse() \n",
    "        n_dec = 0\n",
    "        i = 0\n",
    "        for a in n_bin: \n",
    "            n_dec += (2**i) * int(a)\n",
    "            i += 1 \n",
    "\n",
    "    # from hexadecimal to decimal (same procedure as before)\n",
    "    elif base_i == 'hex':\n",
    "        n_hex = list(x.strip(''))\n",
    "\n",
    "        for i in range(len(n_hex)):\n",
    "                if n_hex[i] == 'a': n_hex[i] = 10\n",
    "                if n_hex[i] == 'b': n_hex[i] = 11\n",
    "                if n_hex[i] == 'c': n_hex[i] = 12\n",
    "                if n_hex[i] == 'd': n_hex[i] = 13\n",
    "                if n_hex[i] == 'e': n_hex[i] = 14\n",
    "                if n_hex[i] == 'f': n_hex[i] = 15\n",
    "\n",
    "        n_hex = [int(n_hex[i]) for i in range(2, len(n_hex))]\n",
    "        n_hex.reverse()\n",
    "        n_dec = 0\n",
    "        i = 0\n",
    "        for a in n_hex:\n",
    "            n_dec += (16**i) * int(a)\n",
    "            i += 1 \n",
    "\n",
    "    # base of initial number is already 10\n",
    "    else: \n",
    "        n_dec = x\n",
    "    \n",
    "    if base_f == 'dec':\n",
    "        return n_dec\n",
    "\n",
    "\n",
    "    # from decimal to bin \n",
    "    if base_f == 'bin':  \n",
    "        r = []\n",
    "        q = int(n_dec / 2) \n",
    "        r.append(n_dec % 2) \n",
    "        while q != 0:\n",
    "            n_dec = q\n",
    "            q = int(n_dec / 2)\n",
    "            r.append(n_dec % 2)\n",
    "        r.reverse()\n",
    "        r = ''.join([str(i) for i in r])\n",
    "    \n",
    "\n",
    "    elif base_f == 'hex':\n",
    "        r = []\n",
    "        q = int(n_dec / 16)     \n",
    "        r.append(n_dec % 16)      \n",
    "        while q != 0:\n",
    "            n_dec = q       \n",
    "            q = int(n_dec / 16)       \n",
    "            r.append(n_dec % 16)            \n",
    "        # Now we have to change numbers from 10 to 16 to a,b,c, etc...\n",
    "            for i in range(len(r)):\n",
    "                if r[i] == 10: r[i] = 'a'\n",
    "                if r[i] == 11: r[i] = 'b'\n",
    "                if r[i] == 12: r[i] = 'c'\n",
    "                if r[i] == 13: r[i] = 'd'\n",
    "                if r[i] == 14: r[i] = 'e'\n",
    "                if r[i] == 15: r[i] = 'f'\n",
    "\n",
    "        r.reverse()  \n",
    "        r = ''.join([str(i) for i in r])  \n",
    "        \n",
    "    return r\n",
    "\n",
    "c = 9999\n",
    "c_bin = bin(c)\n",
    "c_hex = hex(c)\n",
    "\n",
    "\n",
    "print('Using Python functions: initial number is {} in decimal, {} in binary, {} in hexadecimal\\n'.format(c,c_bin,c_hex))\n",
    "print('Using user function:')\n",
    "print('Converting {} from decimal to binary -> {}'.format(c,converter(c,'dec','bin')))\n",
    "print('Converting {} from binary to decimal -> {}'.format(c_bin,converter(c_bin,'bin','dec')))\n",
    "print('Converting {} from decimal to hexadecimal -> {}'.format(c,converter(c,'dec','hex')))\n",
    "print('Converting {} from hexadecimal to decimal -> {}'.format(c_hex,converter(c_hex,'hex','dec')))\n",
    "print('Converting {} from hexadecimal to binary -> {}'.format(c_hex,converter(c_hex,'hex','bin')))\n",
    "print('Converting {} from binary to hexadecimal -> {}'.format(c_bin,converter(c_bin,'bin','hex')))"
   ]
  },
  {
   "cell_type": "markdown",
   "metadata": {},
   "source": [
    "2\\. Write a function that converts a 32 bit word into a single precision floating point (i.e. interprets the various bits as sign, mantissa and exponent) and check its validity."
   ]
  },
  {
   "cell_type": "code",
   "execution_count": 12,
   "metadata": {},
   "outputs": [
    {
     "name": "stdout",
     "output_type": "stream",
     "text": [
      "First word is 00000011111000000000000000000000 -> 1.316553672920962e-36\n",
      "Second word is 10000001101001001100000000000000 -> -6.051959196811621e-38\n"
     ]
    }
   ],
   "source": [
    "def bin_to_float(x): #\n",
    "    '''\n",
    "        Parameter x: 32 bit word in a string \n",
    "    '''\n",
    "\n",
    "    if not isinstance(x,str):\n",
    "        raise ValueError ('Input value is not a string')\n",
    "\n",
    "    if len(x) != 32:\n",
    "        raise ValueError ('Number of bins is not 32')\n",
    "\n",
    "\n",
    "    sign = (-1)**int(x[0],2)\n",
    "    exp = int(x[1:9], 2)\n",
    "    man = x[9:]\n",
    "\n",
    "    s = 0\n",
    "    for j in range(1,len(man)):\n",
    "        s += int(man[j-1]) * 2 **(-j)\n",
    "\n",
    "    n = sign * (1+s)* pow(2, exp - 127)\n",
    "\n",
    "    return(n)\n",
    "\n",
    "word1 = \"00000011111000000000000000000000\"\n",
    "word2 = \"10000001101001001100000000000000\"\n",
    "\n",
    "x = bin_to_float(word1)\n",
    "y = bin_to_float(word2)\n",
    "\n",
    "print('First word is {} -> {}'.format(word1,x))\n",
    "print('Second word is {} -> {}'.format(word2,y))\n"
   ]
  },
  {
   "cell_type": "code",
   "execution_count": 13,
   "metadata": {},
   "outputs": [
    {
     "name": "stdout",
     "output_type": "stream",
     "text": [
      "00000011111000000000000000000000 True\n",
      "10000001101001001100000000000000 True\n"
     ]
    }
   ],
   "source": [
    "# Check if results are consistent using predefined function\n",
    "\n",
    "def float_to_bin(num):\n",
    "    bits, = struct.unpack('!I', struct.pack('!f', num))\n",
    "    return \"{:032b}\".format(bits)\n",
    "\n",
    "print(float_to_bin(+1.316553672920962e-36), float_to_bin(+1.316553672920962e-36) == word1)\n",
    "print(float_to_bin(-6.051959196811621e-38), float_to_bin(-6.051959196811621e-38) == word2)"
   ]
  },
  {
   "cell_type": "markdown",
   "metadata": {},
   "source": [
    "3\\. Write a program to determine the underflow and overflow limits (within a factor of 2) for python on your computer. \n",
    "\n",
    "**Tip**: define two variables initialized to 1 and halve/double them for a sufficient amount of times to exceed the under/over-flow limits  "
   ]
  },
  {
   "cell_type": "code",
   "execution_count": 22,
   "metadata": {},
   "outputs": [
    {
     "name": "stdout",
     "output_type": "stream",
     "text": [
      "Overflow limit reached after 1024 iterations and it is equal to: 8.98846567431158e+307\n",
      "Underflow limit reached after 1075 iterations and it is equal to: 5e-324\n"
     ]
    }
   ],
   "source": [
    "under = 1. \n",
    "over = 1. \n",
    "N = 2000\n",
    "i = 0\n",
    "\n",
    "while i < N:\n",
    "    o = over\n",
    "    over = over * 2\n",
    "    i += 1 \n",
    "    if over == float('inf'):\n",
    "        pos_o = i\n",
    "        break   \n",
    "    #print(i,over)\n",
    "\n",
    "j = 0\n",
    "while j < N:\n",
    "    u = under\n",
    "    under = under / 2\n",
    "    j += 1\n",
    "    if under == 0. :\n",
    "        pos_u = j\n",
    "        break   \n",
    "    #print(j,under)\n",
    "\n",
    "\n",
    "print('Overflow limit reached after ' + str(pos_o) + ' iterations and it is equal to: '+ str(o))\n",
    "print('Underflow limit reached after ' + str(pos_u) + ' iterations and it is equal to: '+ str(u))\n"
   ]
  },
  {
   "cell_type": "markdown",
   "metadata": {},
   "source": [
    "4\\. Write a program to determine the machine precision\n",
    "\n",
    "**Tip**: define a new variable by adding an increasingly smaller value (in the same way as the previous problem) and check when the addition starts to have no effect on the number"
   ]
  },
  {
   "cell_type": "code",
   "execution_count": 16,
   "metadata": {},
   "outputs": [
    {
     "name": "stdout",
     "output_type": "stream",
     "text": [
      "The precision of the number is not enough to see the small difference after 16 iterations, i.e. adding 1e-16 to 1.0\n",
      "The machine precision is of:  1e-16\n"
     ]
    }
   ],
   "source": [
    "# Addding an increasingly small number to 1\n",
    "prev_value = 0 \n",
    "value = 1.0\n",
    "for i in range(0,20):\n",
    "    prev_value = value\n",
    "    value = 1.0 + 10**(-i)\n",
    "    if prev_value == value:\n",
    "        pos = i-1\n",
    "        break\n",
    "    \n",
    "print('The precision of the number is not enough to see the small difference after {} iterations, i.e. adding 1e-{} to 1.0'.format(pos,pos))\n",
    "print('The machine precision is of: ', 10**(-pos))"
   ]
  },
  {
   "cell_type": "markdown",
   "metadata": {},
   "source": [
    "5\\. Write a function that takes in input three parameters $a$, $b$ and $c$ and prints out the two solutions to the quadratic equation $ax^2+bx+c=0$ using the standard formula:\n",
    "$$\n",
    "x=\\frac{-b\\pm\\sqrt{b^2-4ac}}{2a}\n",
    "$$\n",
    "\n",
    "(a) use the program to compute the solution for $a=0.001$, $b=1000$ and $c=0.001$\n",
    "\n",
    "(b) re-express the standard solution formula by multiplying the numerator and the denominator by $-b\\mp\\sqrt{b^2-4ac}$ and again find the solution for $a=0.001$, $b=1000$ and $c=0.001$. How does it compare with what has been previously obtained, and why?\n",
    "\n",
    "(c) write a function that computes the roots of a quadratic equation accurately in all cases"
   ]
  },
  {
   "cell_type": "code",
   "execution_count": 17,
   "metadata": {},
   "outputs": [
    {
     "name": "stdout",
     "output_type": "stream",
     "text": [
      "Standard formula: (-9.999894245993346e-07, -999999.999999)\n",
      "Alternative formula: (-1.000000000001e-06, -1000010.5755125057)\n",
      "Stable formula: (-1.000000000001e-06, -999999.999999)\n"
     ]
    }
   ],
   "source": [
    "# a)\n",
    "def standard_sol(a,b,c):\n",
    "\n",
    "    if (b**2-4*a*c) < 0:\n",
    "        raise ValueError ('The equation does not have real solutions')\n",
    "\n",
    "    x1= (-b + np.sqrt(b**2-4*a*c)) / (2*a)\n",
    "    x2= (-b - np.sqrt(b**2-4*a*c)) / (2*a)\n",
    "\n",
    "    return x1, x2\n",
    "\n",
    "# b)\n",
    "def sol_2(a,b,c):  \n",
    "\n",
    "    if (b**2-4*a*c) < 0:\n",
    "        raise ValueError ('The equation does not have real solutions')\n",
    "\n",
    "    x1 = (2*c) / (-b - np.sqrt(b**2-4*a*c))\n",
    "    x2 = (2*c) / (-b + np.sqrt(b**2-4*a*c))\n",
    "\n",
    "    return x1, x2\n",
    "    \n",
    "# c)\n",
    "def stable_sol(a,b,c):\n",
    "\n",
    "    if (b**2-4*a*c) < 0:\n",
    "        raise ValueError ('The equation does not have real solutions')\n",
    "    \n",
    "    x1 = (2*c) / (-b - np.sqrt(b**2-4*a*c))\n",
    "    x2 = (-b - np.sqrt(b**2-4*a*c)) / (2*a)\n",
    "    \n",
    "    return x1, x2\n",
    "\n",
    "\n",
    "print('Standard formula:', standard_sol(0.001,1000,0.001))\n",
    "print('Alternative formula:', sol_2(0.001,1000,0.001))\n",
    "print('Stable formula:', stable_sol(0.001,1000,0.001))\n"
   ]
  },
  {
   "cell_type": "markdown",
   "metadata": {},
   "source": [
    "*b) We assume $x_1,x_2$ to be the solutions with signs + and - respectively. Using the second formula $x_1$ is computed exactly, instead the result for $x_2$ is  worst than the one obtained with the first function. This is due to the fact that, using $x_1 =\\frac{-b+\\sqrt{b^2-4ac}}{2a}$ and $x_2 =\\frac{2c}{-b+\\sqrt{b^2-4ac}}$, we are getting roundoff errors ( in the second formula in the numerator we are subtracting two nearly equal numbers, i.e. b >> a,c ). Thus, the best solution is using the first formula for $x_2$ and the second for $x_1$.*\n"
   ]
  },
  {
   "cell_type": "markdown",
   "metadata": {},
   "source": [
    "6\\. Write a program that implements the function $f(x)=x(x−1)$\n",
    "\n",
    "(a) Calculate the derivative of the function at the point $x = 1$ using the derivative definition:\n",
    "\n",
    "$$\n",
    "\\frac{{\\rm d}f}{{\\rm d}x} = \\lim_{\\delta\\to0} \\frac{f(x+\\delta)-f(x)}{\\delta}\n",
    "$$\n",
    "\n",
    "with $\\delta = 10^{−2}$. Calculate the true value of the same derivative analytically and compare it with the answer your program gives. The two will not agree perfectly. Why?\n",
    "\n",
    "(b) Repeat the calculation for $\\delta = 10^{−4}, 10^{−6}, 10^{−8}, 10^{−10}, 10^{−12}$ and $10^{−14}$. How does the accuracy scales with $\\delta$?"
   ]
  },
  {
   "cell_type": "code",
   "execution_count": 38,
   "metadata": {},
   "outputs": [
    {
     "name": "stdout",
     "output_type": "stream",
     "text": [
      "Derivative @ x = 1  calculated with program:  1.010000000000001\n",
      "Derivative @ x = 1 calculated analytically:  1.0\n"
     ]
    }
   ],
   "source": [
    "# a)\n",
    "def f(x):\n",
    "    return x * (x-1)\n",
    "\n",
    "\n",
    "def der(f, x0, delta):\n",
    "    return ( f(x0 + delta) - f(x0) ) / delta\n",
    "\n",
    "\n",
    "def real_der(x0):\n",
    "    return 2 * x0 - 1\n",
    "\n",
    "\n",
    "print('Derivative @ x = 1  calculated with program: ',der(f, 1.0, 1e-02))\n",
    "print('Derivative @ x = 1 calculated analytically: ',real_der(1.0))\n"
   ]
  },
  {
   "cell_type": "markdown",
   "metadata": {},
   "source": [
    "*a) The definition of the derivative is accurate for values of $\\delta$ approaching to zero. In this case $\\delta$ is fairly big, and this results in the discrepance with the analytical solution.*"
   ]
  },
  {
   "cell_type": "code",
   "execution_count": 40,
   "metadata": {},
   "outputs": [
    {
     "name": "stdout",
     "output_type": "stream",
     "text": [
      "Delta | Calculated value of x | Accuracy [%]\n",
      "0.1 | 1.100000000000001 | 10.000000000000098\n",
      "0.01 | 1.010000000000001 | 1.0000000000000897\n",
      "0.001 | 1.0009999999998895 | 0.09999999998895337\n",
      "0.0001 | 1.0000999999998899 | 0.009999999988985486\n",
      "1e-05 | 1.0000100000065513 | 0.0010000006551269536\n",
      "1e-06 | 1.0000009999177333 | 9.99917733279787e-05\n",
      "1e-07 | 1.0000001005838672 | 1.005838672352155e-05\n",
      "1e-08 | 1.0000000039225287 | 3.9225287462585356e-07\n",
      "1e-09 | 1.000000083740371 | 8.374037108183074e-06\n",
      "1e-10 | 1.000000082840371 | 8.284037100736441e-06\n",
      "1e-11 | 1.000000082750371 | 8.275037099991778e-06\n",
      "1e-12 | 1.0000889005833413 | 0.008890058334132256\n",
      "1e-13 | 0.9992007221627407 | 0.07992778372593046\n",
      "1e-14 | 0.9992007221626509 | 0.07992778373491216\n",
      "1e-15 | 1.1102230246251577 | 11.022302462515764\n"
     ]
    },
    {
     "data": {
      "image/png": "[encoded data removed]",
      "text/plain": [
       "<Figure size 1152x432 with 2 Axes>"
      ]
     },
     "metadata": {
      "needs_background": "light"
     },
     "output_type": "display_data"
    }
   ],
   "source": [
    "# b)\n",
    "deltas = [ 10**(-i) for i in range(1,16) ]\n",
    "x_th = real_der(1) \n",
    "x_exp = [ der(f, 1, n) for n in deltas ]\n",
    "acc = [ np.abs(x_th - a) for a in x_exp ]\n",
    "acc_log = [ np.log(1/i) for i in acc ]\n",
    "\n",
    "print('Delta', '| Calculated value of x', '| Accuracy [%]')\n",
    "for i in range(len(deltas)):\n",
    "    print(deltas[i],'|',x_exp[i],'|', acc[i]*100)\n",
    "\n",
    "# Plot settings\n",
    "fig,((ax,ax2)) = plt.subplots(1,2,figsize=(16,6))\n",
    "\n",
    "ax.plot(deltas,acc_log, marker = 'o',markersize=6,markerfacecolor = '#009AFF',markeredgecolor = '#009AFF', color = 'black', linewidth=1,ls = 'dashed', label = ' log(1/$\\epsilon$)')\n",
    "ax.set_ylabel('log(1/$\\epsilon$)', fontsize = 20, loc = 'top')\n",
    "\n",
    "ax2.plot(deltas,acc, marker = 'o',markersize=6,markerfacecolor = '#FF1F85',markeredgecolor = '#FF1F85', color = 'black', linewidth=1,ls = 'dashed', label = ' $\\epsilon = | x_{th} - x_{formula} |$')\n",
    "ax2.set_ylabel('$\\epsilon$ [a.u.]', fontsize = 20, loc = 'top')\n",
    "ax2.set_xscale('log')\n",
    "ax2.set_yscale('log')\n",
    "\n",
    "for ax in fig.get_axes():\n",
    "    ax.set_xlabel('$\\delta$', fontsize = 20, loc = 'center')\n",
    "    ax.tick_params(axis = 'both', which = 'major', direction = 'in', length = 10,labelsize = 13)\n",
    "    ax.grid( linestyle = '--', linewidth = 0.5)\n",
    "    ax.legend(loc = 'best', prop = {'size': 16}, ncol = 1)\n",
    "\n",
    "fig.tight_layout()\n",
    "plt.subplots_adjust(left=None, bottom=None, right=None, top=None, wspace=0.15)\n",
    "plt.show()\n",
    "\n"
   ]
  },
  {
   "cell_type": "markdown",
   "metadata": {},
   "source": [
    "*b) The two derivatives do not agree perfectly due to the discretization of $\\delta$. We can observe an increasing accuracy as $\\delta$ becomes smaller, yet just up to 1e-08. Indeed, for smaller values of $\\delta$ the function $\\frac{f(x+\\delta)-f(x)}{\\delta}$ becomes poorly conditioned,so we have big effects in the output for small input perturbation.*\n"
   ]
  },
  {
   "cell_type": "markdown",
   "metadata": {},
   "source": [
    "7\\. Consider the integral of the semicircle of radius 1:\n",
    "$$\n",
    "I=\\int_{-1}^{1} \\sqrt{(1-x^2)} {\\rm d}x\n",
    "$$\n",
    "which is known to be $I=\\frac{\\pi}{2}=1.57079632679...$.\n",
    "\n",
    "Alternatively we can use the Riemann definition of the integral:\n",
    "$$\n",
    "I=\\lim_{N\\to\\infty} \\sum_{k=1}^{N} h y_k \n",
    "$$\n",
    "\n",
    "with $h=2/N$ the width of each of the $N$ slices the domain is divided into and where\n",
    "$y_k$ is the value of the function at the $k-$th slice.\n",
    "\n",
    "(a) Write a program to compute the integral with $N=100$. How does the result compare to the true value?\n",
    "\n",
    "(b) How much can $N$ be increased if the computation needs to be run in less than a second? What is the gain in running it for 1 minute? \n"
   ]
  },
  {
   "cell_type": "code",
   "execution_count": 26,
   "metadata": {},
   "outputs": [
    {
     "name": "stdout",
     "output_type": "stream",
     "text": [
      "Riemann integral:  1.5691342555492493 \n",
      "Accuracy:  0.10581074180626304 %\n"
     ]
    }
   ],
   "source": [
    "def f(x):\n",
    "    return np.sqrt(abs(1-x**2))\n",
    "\n",
    "def Riemann_int(N, h, x_i):\n",
    "    '''\n",
    "        Parameters: \n",
    "        N = Number of points in the grid\n",
    "        h = grid spacing\n",
    "        x_i = intergration starting point \n",
    "\n",
    "    '''\n",
    "    somma = 0\n",
    "    x = x_i\n",
    "    for k in range(1, N+1):\n",
    "        somma += h * f(x)\n",
    "        x += h\n",
    "    return somma\n",
    " \n",
    "N = 100\n",
    "h = 2/N\n",
    "x_0 = -1\n",
    "\n",
    "result = Riemann_int(N, h, x_0)\n",
    "print('Riemann integral: ', result, '\\nAccuracy: ', abs(result - np.pi/2)/(np.pi/2)*100, '%')\n",
    "\n",
    "\n"
   ]
  },
  {
   "cell_type": "code",
   "execution_count": 9,
   "metadata": {},
   "outputs": [
    {
     "name": "stdout",
     "output_type": "stream",
     "text": [
      "110 µs ± 1.06 µs per loop (mean ± std. dev. of 7 runs, 10000 loops each)\n",
      "217 µs ± 4.02 µs per loop (mean ± std. dev. of 7 runs, 1000 loops each)\n",
      "10.7 ms ± 126 µs per loop (mean ± std. dev. of 7 runs, 100 loops each)\n",
      "1.09 s ± 5.65 ms per loop (mean ± std. dev. of 7 runs, 1 loop each)\n",
      "2.15 s ± 6.5 ms per loop (mean ± std. dev. of 7 runs, 1 loop each)\n"
     ]
    }
   ],
   "source": [
    "# Using the built-in function %time to calculate the execution time of a function\n",
    "\n",
    "%timeit Riemann_int(N, h, x_0)\n",
    "%timeit Riemann_int(2*N, h, x_0)\n",
    "%timeit Riemann_int(N**2, h, x_0)\n",
    "%timeit Riemann_int(N**3, h, x_0)\n",
    "%timeit Riemann_int(2*N**3, h, x_0)\n"
   ]
  },
  {
   "cell_type": "code",
   "execution_count": 41,
   "metadata": {},
   "outputs": [
    {
     "data": {
      "image/png": "[encoded data removed]",
      "text/plain": [
       "<Figure size 576x432 with 1 Axes>"
      ]
     },
     "metadata": {
      "needs_background": "light"
     },
     "output_type": "display_data"
    }
   ],
   "source": [
    "# Assuming that N is approximately linear in function of time we perform a linear \n",
    "# fit to predict the value of N that corresponds to an execution time of 60 s\n",
    "\n",
    "def linfit(x, a, b):\n",
    "    '''\n",
    "        Function that performs linear fit\n",
    "    '''\n",
    "    return a + b * np.array(x)\n",
    "\n",
    "fig = plt.figure(figsize=(8,6))\n",
    "ax = fig.add_subplot()\n",
    "\n",
    "x = [N, 2*N , N**2 , N**3, 2*N**3]\n",
    "y = [110.*1e-06, 217.*1e-06, 10.7*1e-03, 1.09, 2.15]\n",
    "erry = [1.06*1e-06, 4.02*1e-06,126*1e-06, 5.65*1e-03,  6.5*1e-03]\n",
    "\n",
    "par, cov = curve_fit(f = linfit, xdata = x, ydata = y, sigma = erry)\n",
    "\n",
    "ax.plot(x,y, marker = 'o',markersize=5,markerfacecolor = 'black',markeredgecolor = 'black',lw = 0, label = 'Data')\n",
    "ax.plot(x, linfit(x, *par), color = 'red', linewidth = 1.5, linestyle='dashed', label = 'Linear fit')\n",
    "ax.set_xlabel('N', fontsize = 16, loc = 'right', labelpad = 20)\n",
    "ax.set_ylabel('t [s]', fontsize = 16, loc = 'top')\n",
    "ax.legend(loc = 'best', prop = {'size': 14}, ncol = 1)\n",
    "ax.tick_params(axis = 'both', which = 'major', direction = 'in', length = 10,labelsize = 13)\n",
    "\n",
    "fig.tight_layout()\n",
    "plt.show()"
   ]
  },
  {
   "cell_type": "code",
   "execution_count": 42,
   "metadata": {},
   "outputs": [
    {
     "name": "stdout",
     "output_type": "stream",
     "text": [
      "maximum N for computational time under 1 s: 927409.2886918102\n",
      "maximum N for computational time under 60 s: 55644672.98388385\n"
     ]
    }
   ],
   "source": [
    "# Get fit parameters\n",
    "b = par[1]\n",
    "a = par[0]\n",
    "\n",
    "x1 = (1 - a)/ b\n",
    "x60 = (60 - a)/ b\n",
    "\n",
    "print('maximum N for computational time under 1 s:',x1)\n",
    "print('maximum N for computational time under 60 s:',x60)"
   ]
  }
 ],
 "metadata": {
  "interpreter": {
   "hash": "082e9a3bcad0a290d0001e938aa60b99250c6c2ef33a923c00b70f9826caf4b7"
  },
  "kernelspec": {
   "display_name": "Python 3.8.7 64-bit ('3.8')",
   "name": "python3"
  },
  "language_info": {
   "codemirror_mode": {
    "name": "ipython",
    "version": 3
   },
   "file_extension": ".py",
   "mimetype": "text/x-python",
   "name": "python",
   "nbconvert_exporter": "python",
   "pygments_lexer": "ipython3",
   "version": "3.8.7"
  }
 },
 "nbformat": 4,
 "nbformat_minor": 2
}
