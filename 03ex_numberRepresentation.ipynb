{
 "cells": [
  {
   "cell_type": "markdown",
   "metadata": {},
   "source": [
    "### 1\\. Conversion bin - hex - dec\n",
    "Write a function that converts numbers among the bin, dec, and hex representations (bin<->dec<->hex)"
   ]
  },
  {
   "cell_type": "code",
   "execution_count": 10,
   "metadata": {},
   "outputs": [
    {
     "name": "stdout",
     "output_type": "stream",
     "text": [
      "[110, '0b1101110', '0x6e']\n",
      "[6, '0b110', '0x6']\n",
      "[272, '0b100010000', '0x110']\n"
     ]
    }
   ],
   "source": [
    "def convert(x):\n",
    "    return [x, bin(x), hex(x)] #print automatically cast in base 10\n",
    "\n",
    "# 0b for bin, 0x for hex, nothing for decimals in order to remove the ambiguity\n",
    "print(convert(110)) #decimal input\n",
    "print(convert(0b110)) #binary input\n",
    "print(convert(0x110)) #hexadecimal input"
   ]
  },
  {
   "cell_type": "markdown",
   "metadata": {},
   "source": [
    "### 2\\. 32 bit to float\n",
    "Write a function that converts a 32 bit word into a single precision floating point (i.e. interprets the various bits as sign, mantissa and exponent) and check its validity."
   ]
  },
  {
   "cell_type": "code",
   "execution_count": 11,
   "metadata": {},
   "outputs": [
    {
     "name": "stdout",
     "output_type": "stream",
     "text": [
      "using struct:  7.25\n",
      "parsing the string directly: 7.25\n"
     ]
    }
   ],
   "source": [
    "x = \"01000000111010000000000000000000\"\n",
    "\n",
    "# using pack struct\n",
    "import struct\n",
    "print(\"using struct: \", struct.unpack('!f',struct.pack('!I', int(x, 2)))[0])\n",
    "\n",
    "# parsing manually from binary\n",
    "def bin_2_float(f): \n",
    "    mantissa=1\n",
    "    #Mantissa's formula\n",
    "    for m,n in zip(f[9:32], range(1,len(f[9:32]))):\n",
    "        mantissa+=int(m)*2**(-n) \n",
    "    sign = int(f[0],2)\n",
    "    exp=int(f[-31:-23],2)-127\n",
    "    \n",
    "    return (-1)**sign * 2**exp * mantissa\n",
    "\n",
    "\n",
    "print(\"parsing the string directly:\", bin_2_float(x)) "
   ]
  },
  {
   "cell_type": "markdown",
   "metadata": {},
   "source": [
    "### 3\\. Underflow/overflow determination\n",
    "\n",
    "Write a program to determine the underflow and overflow limits (within a factor of 2) for python on your computer. \n",
    "\n",
    "**Tip**: define two variables initialized to 1 and halve/double them for a sufficient amount of times to exceed the under/over-flow limits  "
   ]
  },
  {
   "cell_type": "code",
   "execution_count": 74,
   "metadata": {},
   "outputs": [
    {
     "name": "stdout",
     "output_type": "stream",
     "text": [
      "The overflow estimation within a factor 2 is 8.98846567431158e+307\n",
      "The underflow estimation WITH DENORMAL NUMBERS is 5e-324\n",
      "The 'correct' underflow estimation within a factor 2 is 1.1125369292536007e-308\n",
      "\n",
      " sys.float_info(max=1.7976931348623157e+308, max_exp=1024, max_10_exp=308, min=2.2250738585072014e-308, min_exp=-1021, min_10_exp=-307, dig=15, mant_dig=53, epsilon=2.220446049250313e-16, radix=2, rounds=1)\n"
     ]
    }
   ],
   "source": [
    "x,y,z=1e0,1e0,1e0\n",
    "\n",
    "#Python set the overflow to inf and underflow to 0\n",
    "while x*2!=float(\"inf\"): x*=2\n",
    "print(\"The overflow estimation within a factor 2 is\",x)\n",
    "\n",
    "# Found out that the so-called \"Denormal numbers\" extended the underfow to e-324\n",
    "while y/2!=0: y/=2\n",
    "print(\"The underflow estimation WITH DENORMAL NUMBERS is\",y)\n",
    "\n",
    "# The correct underflow estimation can be done considering the inverse\n",
    "while 2/z!=float(\"inf\"): z/=2\n",
    "print(\"The 'correct' underflow estimation within a factor 2 is\",z)\n",
    "\n",
    "# Checking the range automatically\n",
    "import sys\n",
    "print(\"\\n\",sys.float_info)"
   ]
  },
  {
   "cell_type": "markdown",
   "metadata": {},
   "source": [
    "### 4\\. Machine precision\n",
    "Write a program to determine the machine precision\n",
    "\n",
    "**Tip**: define a new variable by adding an increasingly smaller value (in the same way as the previous problem) and check when the addition starts to have no effect on the number"
   ]
  },
  {
   "cell_type": "code",
   "execution_count": 5,
   "metadata": {},
   "outputs": [
    {
     "name": "stdout",
     "output_type": "stream",
     "text": [
      "The machine precision within a factor 2 is 5.551115123125783e-17\n"
     ]
    }
   ],
   "source": [
    "e,x=1,1\n",
    "while (x+e/2)!=x:\n",
    "    e/=2\n",
    "    x+=e\n",
    "\n",
    "print(\"The machine precision within a factor 2 is\",e/x)\n",
    "#The absolute precision depends on the observed value x, in the way that the relative precision is more or less constant"
   ]
  },
  {
   "cell_type": "markdown",
   "metadata": {},
   "source": [
    "### 5\\. Second order equations\n",
    "Write a function that takes in input three parameters $a$, $b$ and $c$ and prints out the two solutions to the quadratic equation $ax^2+bx+c=0$ using the standard formula:\n",
    "$$\n",
    "x=\\frac{-b\\pm\\sqrt{b^2-4ac}}{2a}\n",
    "$$\n",
    "\n",
    "(a) use the program to compute the solution for $a=0.001$, $b=1000$ and $c=0.001$\n",
    "\n",
    "(b) re-express the standard solution formula by multiplying the numerator and the denominator by $-b\\mp\\sqrt{b^2-4ac}$ and again find the solution for $a=0.001$, $b=1000$ and $c=0.001$. How does it compare with what has been previously obtained, and why?\n",
    "\n",
    "(c) write a function that computes the roots of a quadratic equation accurately in all cases"
   ]
  },
  {
   "cell_type": "markdown",
   "metadata": {},
   "source": [
    "Let's define:\n",
    "\n",
    "$$x1 =\\frac{-b + \\sqrt{b^{2}-4 a c}}{2 a}$$,\n",
    "\n",
    "$$x2 =\\frac{-b - \\sqrt{b^{2}-4 a c}}{2 a}$$\n",
    "\n",
    "and for the second method\n",
    "\n",
    "$$y1 =\\frac{2 c}{-b - \\sqrt{b^{2}-4 a c}}$$,\n",
    "\n",
    "$$y2 =\\frac{2 c}{-b + \\sqrt{b^{2}-4 a c}}$$"
   ]
  },
  {
   "cell_type": "code",
   "execution_count": 48,
   "metadata": {},
   "outputs": [
    {
     "name": "stdout",
     "output_type": "stream",
     "text": [
      "First method: -9.999894245993346e-07, -999999.999999\n",
      "Second method: -1.000000000001e-06, -1000010.5755125057\n",
      "\n",
      "The differences of correspondent solutions in the two algorithm are: 0.00000000001, 10.57551350573\n"
     ]
    }
   ],
   "source": [
    "# Unstable algorithm\n",
    "from math import sqrt\n",
    "\n",
    "def root_unstable(a,b,c):\n",
    "    d2=b**2-4*a*c \n",
    "    # method a\n",
    "    x1=(-b+sqrt(d2))/(2*a)\n",
    "    x2=(-b-sqrt(d2))/(2*a)\n",
    "    # method b \n",
    "    y1=2*c/(-b-sqrt(d2))\n",
    "    y2=2*c/(-b+sqrt(d2))\n",
    "    return [x1,x2,y1,y2]\n",
    "\n",
    "sol = root_unstable(0.001,1000,0.001)\n",
    "print(\"First method: {0}, {1}\\nSecond method: {2}, {3}\".format(*sol))\n",
    "print(\"\\nThe differences of correspondent solutions in the two algorithm are: %.11f, %.11f\" % (sol[0]-sol[2], sol[1]-sol[3]))"
   ]
  },
  {
   "cell_type": "markdown",
   "metadata": {},
   "source": [
    "This algorithm is unstable because it amplifies the approximation error introduced by the finite precision on the $sqrt$ operation. \n",
    "\n",
    "In particular, let's focus on the following terms for the given values of $a,b,c$\n",
    "\n",
    "$$d^{(+)} :=-b+\\sqrt{b^2-4ac}\\simeq -\\mathcal{O}(10^3)+\\mathcal{O}(10^3) \\rightarrow 0$ when $b>>ac$$,\n",
    "\n",
    "$$d^{(-)} :=-b-\\sqrt{b^2-4ac}\\simeq -\\mathcal{O}(10^3)-\\mathcal{O}(10^3)$$\n",
    "\n",
    "Therefore, the first term is more affected by the round-off error introduced by the $sqrt$ since $\\sqrt{b^2-4ac}\\simeq b$. On the other hand, the second term is just fine, of $\\mathcal{O}(10^3)$.\n",
    "\n",
    "Since $d^{(+)}$ is only used to compute ```x1``` and ```y2```, a simple solution in order to stabilise the algorithm is to \"merge\" the two algorithm and consider only the solution that use just the $d^{(-)}$, so ```x2``` and ```y1```"
   ]
  },
  {
   "cell_type": "code",
   "execution_count": 46,
   "metadata": {},
   "outputs": [
    {
     "name": "stdout",
     "output_type": "stream",
     "text": [
      "Solution with the stable algorithm: -999999.999999\t-1.000000000001e-06\n"
     ]
    }
   ],
   "source": [
    "def root_stable(a,b,c):\n",
    "    d2=b**2-4*a*c \n",
    "    # from method a\n",
    "    x2=(-b-sqrt(d2))/(2*a)\n",
    "    # from method b \n",
    "    y1=2*c/(-b-sqrt(d2))\n",
    "    return [x2,y1]\n",
    "\n",
    "print( \"Solution with the stable algorithm: {0}\\t{1}\".format(*root_stable(0.001,1000,0.001)) ) "
   ]
  },
  {
   "cell_type": "markdown",
   "metadata": {},
   "source": [
    "### 6\\. Errors on Derivatives\n",
    "\n",
    "Write a program that implements the function $f(x)=x(x−1)$\n",
    "\n",
    "(a) Calculate the derivative of the function at the point $x = 1$ using the derivative definition:\n",
    "\n",
    "$$\n",
    "\\frac{{\\rm d}f}{{\\rm d}x} = \\lim_{\\delta\\to0} \\frac{f(x+\\delta)-f(x)}{\\delta}\n",
    "$$\n",
    "\n",
    "with $\\delta = 10^{−2}$. Calculate the true value of the same derivative analytically and compare it with the answer your program gives. The two will not agree perfectly. Why?\n",
    "\n",
    "(b) Repeat the calculation for $\\delta = 10^{−4}, 10^{−6}, 10^{−8}, 10^{−10}, 10^{−12}$ and $10^{−14}$. How does the accuracy scales with $\\delta$?"
   ]
  },
  {
   "cell_type": "code",
   "execution_count": 47,
   "metadata": {},
   "outputs": [
    {
     "name": "stdout",
     "output_type": "stream",
     "text": [
      "f'(1)=1.0100000000\tdelta: 1e-02 \taccuracy: 1.00e-02\n",
      "f'(1)=1.0001000000\tdelta: 1e-04 \taccuracy: 1.00e-04\n",
      "f'(1)=1.0000010000\tdelta: 1e-06 \taccuracy: 1.00e-06\n",
      "f'(1)=0.9999999939\tdelta: 1e-08 \taccuracy: -6.08e-09\n",
      "f'(1)=1.0000000827\tdelta: 1e-10 \taccuracy: 8.27e-08\n",
      "f'(1)=1.0000889006\tdelta: 1e-12 \taccuracy: 8.89e-05\n",
      "f'(1)=0.9992007222\tdelta: 1e-14 \taccuracy: -7.99e-04\n"
     ]
    }
   ],
   "source": [
    "def derivative(f, x, d): return (f(x+d)-f(x))/d\n",
    "\n",
    "for i in range(2,16,2):\n",
    "    d=10**(-i)\n",
    "    deriv=derivative(lambda x:x**2-x,1,d)\n",
    "    print(\"f'(1)=%.10f\\tdelta: %1.e \\taccuracy: %1.2e\" % (deriv,d, deriv-1))"
   ]
  },
  {
   "cell_type": "markdown",
   "metadata": {},
   "source": [
    "\n",
    "Analitically\n",
    "$$\n",
    "f'(x)=2\\ x - 1 \\rightarrow f'(1)=1\n",
    "$$\n",
    "\n",
    "For a finite $\\delta$, the discretization error on the incremental ratio is of $\\mathcal{O}(\\delta^2)$. Indeed, from the Taylor expansion, \n",
    "    \n",
    "$$\n",
    "f(x+\\delta)=f(x)+f'(x) \\ \\delta + \\mathcal{O}(\\delta^2) \\ \\rightarrow f'(x) = \\frac{f(x+\\delta)-f(x)}{\\delta} + \\mathcal{O}(\\delta^2)\n",
    "$$    \n",
    "    \n",
    "\n",
    "   "
   ]
  },
  {
   "cell_type": "code",
   "execution_count": 50,
   "metadata": {},
   "outputs": [
    {
     "data": {
      "text/plain": [
       "Text(0.5, 0, '$log_{10}(\\\\delta)$')"
      ]
     },
     "execution_count": 50,
     "metadata": {},
     "output_type": "execute_result"
    },
    {
     "data": {
      "image/png": "[encoded data removed]",
      "text/plain": [
       "<Figure size 432x288 with 1 Axes>"
      ]
     },
     "metadata": {
      "needs_background": "light"
     },
     "output_type": "display_data"
    }
   ],
   "source": [
    "#Accuracy's order of magnitude as function of delta's order of magnitude\n",
    "from math import log10, floor\n",
    "import matplotlib.pyplot as plt\n",
    "\n",
    "def find_exp(number):\n",
    "    base10 = log10(abs(number))\n",
    "    return floor(log10(abs(number)))\n",
    "\n",
    "#y cointain the exponent of differences from f' and 1\n",
    "y=[find_exp(derivative(lambda x:x**2-x,1,10**(-i))-1) for i in range(2,16,2)]\n",
    "plt.plot(range(2,16,2), y)\n",
    "plt.ylabel('$log_{10}(df/dx-1)$')\n",
    "plt.xlabel('$log_{10}(\\delta)$')"
   ]
  },
  {
   "cell_type": "markdown",
   "metadata": {},
   "source": [
    "\n",
    "When $\\delta$ becomes smaller and smaller the discretization error decreases. But on the other hand the round-off error is increased because we overcome the machine precision. This behaviour presents a minimum at which the evaluation reaches the best precision, around $\\delta\\simeq\\mathcal{O}(10^{-8})$  \n"
   ]
  },
  {
   "cell_type": "markdown",
   "metadata": {},
   "source": [
    "### 7\\. Integral of the semicircle\n",
    "Consider the integral of the semicircle of radius 1:\n",
    "$$\n",
    "I=\\int_{-1}^{1} \\sqrt(1-x^2) {\\rm d}x\n",
    "$$\n",
    "which is known to be $I=\\frac{\\pi}{2}=1.57079632679...$.\n",
    "\n",
    "Alternatively we can use the Riemann definition of the integral:\n",
    "$$\n",
    "I=\\lim_{N\\to\\infty} \\sum_{k=1}^{N} h y_k \n",
    "$$\n",
    "\n",
    "with $h=2/N$ the width of each of the $N$ slices the domain is divided into and where\n",
    "$y_k$ is the value of the function at the $k-$th slice.\n",
    "\n",
    "(a) Write a program to compute the integral with $N=100$. How does the result compare to the true value?\n",
    "\n",
    "(b) How much can $N$ be increased if the computation needs to be run in less than a second? What is the gain in running it for 1 minute? \n"
   ]
  },
  {
   "cell_type": "code",
   "execution_count": 51,
   "metadata": {},
   "outputs": [
    {
     "name": "stdout",
     "output_type": "stream",
     "text": [
      "The integral evaluated numerically with N=100 returns: 1.55342, while the true value is: 1.57080\n",
      "The difference is: -0.01738\n",
      "--- 2.00e+05 --- 0.13961 seconds\n",
      "--- 4.00e+05 --- 0.20497 seconds\n",
      "--- 8.00e+05 --- 0.46160 seconds\n",
      "--- 1.60e+06 --- 0.85121 seconds\n",
      "--- 3.20e+06 --- 1.62154 seconds\n",
      "The highest N (within a factor 2) that keeps the execution time below 1 sec is 1.60e+06 [exe time 1.62153 sec]\n",
      "The difference with N=1.60e+06 is -9.82569e-07\n"
     ]
    }
   ],
   "source": [
    "import numpy as np\n",
    "import math as m\n",
    "import time\n",
    "\n",
    "def halfpi(N):\n",
    "    I=0\n",
    "    for k in np.linspace(-1,1,N):\n",
    "        I+=2/N*m.sqrt(1-k**2)\n",
    "    return I\n",
    "\n",
    "print(\"The integral evaluated numerically with N=100 returns: %1.5f, while the true value is: %1.5f\\nThe difference is: %0.5f\" % (halfpi(100),m.pi/2,halfpi(100)-m.pi/2))\n",
    "\n",
    "exe_time=0\n",
    "i=100000 #Starting from 1e5, since we expect an high value of i\n",
    "while exe_time<=1:\n",
    "    start_time = time.time()\n",
    "    halfpi(i)\n",
    "    exe_time = time.time() - start_time\n",
    "    i*=2\n",
    "    print(\"--- %.2e --- %.5f seconds\" % (i,(time.time() - start_time)))\n",
    "    \n",
    "print(\"The highest N (within a factor 2) that keeps the execution time below 1 sec is %.2e [exe time %.5f sec]\\nThe difference with N=%.2e is %.5e\" % (i/2,exe_time,i/2, halfpi(int(i/2))-m.pi/2) )\n"
   ]
  }
 ],
 "metadata": {
  "kernelspec": {
   "display_name": "Python 3 (ipykernel)",
   "language": "python",
   "name": "python3"
  },
  "language_info": {
   "codemirror_mode": {
    "name": "ipython",
    "version": 3
   },
   "file_extension": ".py",
   "mimetype": "text/x-python",
   "name": "python",
   "nbconvert_exporter": "python",
   "pygments_lexer": "ipython3",
   "version": "3.10.0"
  }
 },
 "nbformat": 4,
 "nbformat_minor": 2
}
