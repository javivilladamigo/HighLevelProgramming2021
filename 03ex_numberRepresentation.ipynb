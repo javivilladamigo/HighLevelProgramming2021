{
 "cells": [
  {
   "cell_type": "markdown",
   "metadata": {},
   "source": [
    "1\\. Write a function that converts numbers among the bin, dec, and hex representations (bin<->dec<->hex)"
   ]
  },
  {
   "cell_type": "code",
   "execution_count": 1,
   "metadata": {},
   "outputs": [
    {
     "name": "stdout",
     "output_type": "stream",
     "text": [
      "154\n"
     ]
    }
   ],
   "source": [
    "def convert(_from, to, number):\n",
    "    if _from == \"bin\":\n",
    "        num = int(str(number), 2)\n",
    "    elif _from == \"hex\":\n",
    "        num = int(str(number), 16)\n",
    "    else:\n",
    "        num = number\n",
    "    \n",
    "    if to == \"bin\":\n",
    "        print (bin(num))\n",
    "    elif to == \"hex\":\n",
    "        print (hex(num))\n",
    "    else:\n",
    "        print(num)\n",
    "\n",
    "convert(\"hex\", \"dec\", \"0x9A\")"
   ]
  },
  {
   "cell_type": "markdown",
   "metadata": {},
   "source": [
    "2\\. Write a function that converts a 32 bit word into a single precision floating point (i.e. interprets the various bits as sign, mantissa and exponent) and check its validity."
   ]
  },
  {
   "cell_type": "code",
   "execution_count": 15,
   "metadata": {},
   "outputs": [
    {
     "name": "stdout",
     "output_type": "stream",
     "text": [
      "Sign: 0, Exponent: 10010000, Mantissa: 00100000000000000000000\n",
      "Sign: 1, Exponent: 144, Mantissa: 1.125\n",
      "Float number: 147456.0\n"
     ]
    }
   ],
   "source": [
    "def singlePrecision(num):\n",
    "    signBit = num[0]\n",
    "    exponentBits = num[1:9]\n",
    "    mantissaBits = num[9:]\n",
    "    \n",
    "    if signBit == '0':\n",
    "        sign = 1\n",
    "    else:\n",
    "        sign = -1\n",
    "    \n",
    "    exponent = int(exponentBits, 2)\n",
    "    \n",
    "    mantissa = 1\n",
    "    power = -1\n",
    "    \n",
    "    for b in mantissaBits:\n",
    "        mantissa += int(b) * 2**(power)\n",
    "        power -= 1\n",
    "    \n",
    "    singlePrec = sign * mantissa * 2**(exponent - 127)\n",
    "    \n",
    "    print(f'Sign: {signBit}, Exponent: {exponentBits}, Mantissa: {mantissaBits}')\n",
    "    print(f'Sign: {sign}, Exponent: {exponent}, Mantissa: {mantissa}')\n",
    "    print(f'Float number: {singlePrec}')\n",
    "\n",
    "singlePrecision('01001000000100000000000000000000')"
   ]
  },
  {
   "cell_type": "markdown",
   "metadata": {},
   "source": [
    "3\\. Write a program to determine the underflow and overflow limits (within a factor of 2) for python on your computer. \n",
    "\n",
    "**Tip**: define two variables initialized to 1 and halve/double them for a sufficient amount of times to exceed the under/over-flow limits  "
   ]
  },
  {
   "cell_type": "code",
   "execution_count": 9,
   "metadata": {},
   "outputs": [
    {
     "name": "stdout",
     "output_type": "stream",
     "text": [
      "Overflow:\n",
      "1024\n",
      "inf\n",
      "8.98846567431158e+307\n",
      "-----------------\n",
      "Underflow:\n",
      "1075\n",
      "0.0\n",
      "5e-324\n",
      "-----------------\n"
     ]
    }
   ],
   "source": [
    "underflow = 1.0\n",
    "overflow = 1.0\n",
    "\n",
    "counter_overflow = 0;\n",
    "counter_underflow = 0;\n",
    "temp = 0\n",
    "# we should multiply overflow with power of 2 until we reach the maximum\n",
    "while(overflow != float('inf')):\n",
    "    temp = overflow\n",
    "    overflow = overflow * 2\n",
    "    counter_overflow += 1\n",
    "    \n",
    "print(\"Overflow:\")\n",
    "print(counter_overflow)\n",
    "print(overflow)\n",
    "print(temp)\n",
    "print(\"-----------------\")\n",
    "\n",
    "while(underflow != 0):\n",
    "    temp = underflow\n",
    "    underflow = underflow / 2\n",
    "    counter_underflow += 1\n",
    "    \n",
    "print(\"Underflow:\")\n",
    "print(counter_underflow)\n",
    "print(underflow)\n",
    "print(temp)\n",
    "print(\"-----------------\")"
   ]
  },
  {
   "cell_type": "markdown",
   "metadata": {},
   "source": [
    "4\\. Write a program to determine the machine precision\n",
    "\n",
    "**Tip**: define a new variable by adding an increasingly smaller value (in the same way as the previous problem) and check when the addition starts to have no effect on the number"
   ]
  },
  {
   "cell_type": "code",
   "execution_count": 12,
   "metadata": {},
   "outputs": [
    {
     "name": "stdout",
     "output_type": "stream",
     "text": [
      "Total Sums: 52\n",
      "Final var: 12.0\n",
      "The amount that have not effect on the result of adding: 4.440892098500626e-16\n",
      "Minimum amount that can be added to an amount:  8.881784197001252e-16\n"
     ]
    }
   ],
   "source": [
    "var = 10\n",
    "temp = 0\n",
    "adding = 2.0\n",
    "counter = 0\n",
    "while var != temp:\n",
    "    counter += 1\n",
    "    temp = var\n",
    "    adding /= 2\n",
    "    var += adding\n",
    "    \n",
    "print(\"Total Sums:\", counter)\n",
    "print(\"Final var:\", var)\n",
    "print(\"The amount that have not effect on the result of adding:\", adding)\n",
    "print(\"Minimum amount that can be added to an amount: \", adding*2)"
   ]
  },
  {
   "cell_type": "markdown",
   "metadata": {},
   "source": [
    "5\\. Write a function that takes in input three parameters $a$, $b$ and $c$ and prints out the two solutions to the quadratic equation $ax^2+bx+c=0$ using the standard formula:\n",
    "$$\n",
    "x=\\frac{-b\\pm\\sqrt{b^2-4ac}}{2a}\n",
    "$$\n",
    "\n",
    "(a) use the program to compute the solution for $a=0.001$, $b=1000$ and $c=0.001$\n",
    "\n",
    "(b) re-express the standard solution formula by multiplying the numerator and the denominator by $-b\\mp\\sqrt{b^2-4ac}$ and again find the solution for $a=0.001$, $b=1000$ and $c=0.001$. How does it compare with what has been previously obtained, and why?\n",
    "\n",
    "(c) write a function that computes the roots of a quadratic equation accurately in all cases"
   ]
  },
  {
   "cell_type": "code",
   "execution_count": 5,
   "metadata": {},
   "outputs": [
    {
     "name": "stdout",
     "output_type": "stream",
     "text": [
      "A:  (-9.999894245993346e-07, -999999.999999)\n",
      "B:  (-1000010.5755125057, -1.000000000001e-06)\n",
      "C:  (-999999.999999, -1.000000000001e-06)\n"
     ]
    }
   ],
   "source": [
    "# A\n",
    "def quadratic1(a, b, c):\n",
    "    sqrtRes = (b**2 - 4*a*c)**0.5\n",
    "    res1 = (-b + sqrtRes)/(2*a)\n",
    "    res2 = (-b - sqrtRes)/(2*a)\n",
    "    return res1, res2\n",
    "\n",
    "\n",
    "x1, x2 = quadratic1(0.001, 1000, 0.001)\n",
    "print(\"A: \", (x1, x2))\n",
    "# when b is very larger in comparison to a,c this problem can happen -> problem with negative root\n",
    "\n",
    "# B\n",
    "def quadratic2(a, b, c):\n",
    "    sqrtRes = (b**2 - 4*a*c)**0.5\n",
    "    enom1 = -b + sqrtRes\n",
    "    enom2 = -b - sqrtRes\n",
    "\n",
    "    # this is Citardauq formula, it is the result of multiplication\n",
    "    res1 = 2*c/enom1\n",
    "    res2 = 2*c/enom2\n",
    "    return res1, res2\n",
    "\n",
    "x1, x2 = quadratic2(0.001, 1000, 0.001)\n",
    "print(\"B: \", (x1, x2))\n",
    "# Same as case A but now there is a problem with positive root\n",
    "\n",
    "# C\n",
    "def finalQuadratic(a, b, c):\n",
    "    sqrtRes = (b**2 - 4*a*c)**0.5\n",
    "    enom = -b - sqrtRes\n",
    "\n",
    "    res1 = 2*c/enom\n",
    "    res2 = (-b - sqrtRes)/(2*a)\n",
    "    return res1, res2\n",
    "\n",
    "x1, x2 = finalQuadratic(0.001, 1000, 0.001)\n",
    "print(\"C: \", (x1, x2))\n",
    "# we got positive root by method used in case A and negative root by method used in case B\n",
    "# and the problem is solved"
   ]
  },
  {
   "cell_type": "markdown",
   "metadata": {},
   "source": [
    "6\\. Write a program that implements the function $f(x)=x(x−1)$\n",
    "\n",
    "(a) Calculate the derivative of the function at the point $x = 1$ using the derivative definition:\n",
    "\n",
    "$$\n",
    "\\frac{{\\rm d}f}{{\\rm d}x} = \\lim_{\\delta\\to0} \\frac{f(x+\\delta)-f(x)}{\\delta}\n",
    "$$\n",
    "\n",
    "with $\\delta = 10^{−2}$. Calculate the true value of the same derivative analytically and compare it with the answer your program gives. The two will not agree perfectly. Why?\n",
    "\n",
    "(b) Repeat the calculation for $\\delta = 10^{−4}, 10^{−6}, 10^{−8}, 10^{−10}, 10^{−12}$ and $10^{−14}$. How does the accuracy scales with $\\delta$?"
   ]
  },
  {
   "cell_type": "code",
   "execution_count": 12,
   "metadata": {},
   "outputs": [
    {
     "name": "stdout",
     "output_type": "stream",
     "text": [
      "The derivative of f(x) with x = 1.000000 and delta = 1.00000000000000002082e-02 is: 1.010000\n"
     ]
    }
   ],
   "source": [
    "# A\n",
    "def principalFunc(x):\n",
    "    return x*(x-1)\n",
    "\n",
    "def derivative(x, delta):\n",
    "    return (principalFunc(x+delta) - principalFunc(x))/delta\n",
    "\n",
    "x = 1 \n",
    "delta = 10**(-2)\n",
    "print(x, delta, derivative(x, delta))"
   ]
  },
  {
   "cell_type": "code",
   "execution_count": 16,
   "metadata": {},
   "outputs": [
    {
     "name": "stdout",
     "output_type": "stream",
     "text": [
      "for delta=10**-2 result is:1.010000000000001\n",
      "for delta=10**-4 result is:1.0000999999998899\n",
      "for delta=10**-6 result is:1.0000009999177333\n",
      "for delta=10**-8 result is:1.0000000039225287\n",
      "for delta=10**-10 result is:1.000000082840371\n",
      "for delta=10**-12 result is:1.0000889005833413\n",
      "for delta=10**-14 result is:0.9992007221626509\n"
     ]
    }
   ],
   "source": [
    "for i in range(2,16,2):\n",
    "    print(\"for delta=10**-\"+ str(i) + \" result is:\"+ str(derivative(1, (10**(-i)))))"
   ]
  },
  {
   "cell_type": "markdown",
   "metadata": {},
   "source": [
    "Question 7: we expect dervative=1 but it's not, it happen because of low precision of machine, by decreasing delta from (10\\*\\*-2) to (10\\*\\*-4), (10\\*\\*-6) result get better and for delta=10\\*\\*-8 it has the best result. but increasing it to next deltas like(10\\*\\*-10, 10\\*\\*-12,...) it return worse results."
   ]
  },
  {
   "cell_type": "markdown",
   "metadata": {},
   "source": [
    "7\\. Consider the integral of the semicircle of radius 1:\n",
    "$$\n",
    "I=\\int_{-1}^{1} \\sqrt(1-x^2) {\\rm d}x\n",
    "$$\n",
    "which is known to be $I=\\frac{\\pi}{2}=1.57079632679...$.\n",
    "\n",
    "Alternatively we can use the Riemann definition of the integral:\n",
    "$$\n",
    "I=\\lim_{N\\to\\infty} \\sum_{k=1}^{N} h y_k \n",
    "$$\n",
    "\n",
    "with $h=2/N$ the width of each of the $N$ slices the domain is divided into and where\n",
    "$y_k$ is the value of the function at the $k-$th slice.\n",
    "\n",
    "(a) Write a program to compute the integral with $N=100$. How does the result compare to the true value?\n",
    "\n",
    "(b) How much can $N$ be increased if the computation needs to be run in less than a second? What is the gain in running it for 1 minute? \n"
   ]
  },
  {
   "cell_type": "code",
   "execution_count": 27,
   "metadata": {},
   "outputs": [
    {
     "name": "stdout",
     "output_type": "stream",
     "text": [
      "for N=100 result: 1.5602085158895234 , true pi is: 1.5707963267948966\n",
      "total time is: 0.00025296300009358674\n",
      "-------------------------------------------\n",
      "for approx. 1s result: 1.570796081685572 , true pi is: 1.5707963267948966\n",
      "time: 0.9845194279987481 s\n",
      "N: 4081000\n",
      "-------------------------------------------\n",
      "for approx. 60s result: 1.5707963227113002 , true pi is: 1.5707963267948966\n",
      "time: 58.06860151100045 s\n",
      "-------------------------------------------\n"
     ]
    }
   ],
   "source": [
    "import time\n",
    "import math\n",
    "from math import sqrt\n",
    "\n",
    "piTrue=math.pi/2\n",
    "def riemann(N):\n",
    "    h=2/N\n",
    "    sum1=0\n",
    "    for i in range(1,N+1):\n",
    "        sum1+=h*math.sqrt(1-(i/N)**2)\n",
    "    return sum1\n",
    "\n",
    "start= time.perf_counter()\n",
    "print(\"for N=100 result:\", riemann(100),\", true pi is:\",piTrue)\n",
    "finish=time.perf_counter()\n",
    "total = finish-start\n",
    "print(\"total time is:\", total)\n",
    "print(\"-------------------------------------------\")\n",
    "\n",
    "# 1s\n",
    "N=1000\n",
    "start= 0\n",
    "finish= 0\n",
    "total = 0\n",
    "result = 0\n",
    "#while total < 1:\n",
    "#    N = N + 10000\n",
    " #   start = time.perf_counter()\n",
    "  #  result = riemann(N)\n",
    "   # finish = time.perf_counter()\n",
    "    #total = finish-start\n",
    "N = 4081000 \n",
    "start= time.perf_counter()\n",
    "result = riemann(N)\n",
    "finish=time.perf_counter()\n",
    "total = finish-start\n",
    "print(\"for approx. 1s result:\", result,\", true pi is:\",piTrue)    \n",
    "print(\"time:\",total,\"s\")\n",
    "print(\"N:\",N)\n",
    "print(\"-------------------------------------------\")\n",
    "\n",
    "#for 60 sec\n",
    "N=N*60\n",
    "start= time.perf_counter()\n",
    "result = riemann(N)\n",
    "finish=time.perf_counter()\n",
    "total = finish-start\n",
    "print(\"for approx. 60s result:\", result,\", true pi is:\",piTrue)    \n",
    "print(\"time:\",total,\"s\")\n",
    "print(\"-------------------------------------------\")\n",
    "\n",
    "print(\"We can see that for 60s case the result is very near to true pi\")"
   ]
  },
  {
   "cell_type": "code",
   "execution_count": null,
   "metadata": {},
   "outputs": [],
   "source": []
  }
 ],
 "metadata": {
  "kernelspec": {
   "display_name": "Python 3",
   "language": "python",
   "name": "python3"
  },
  "language_info": {
   "codemirror_mode": {
    "name": "ipython",
    "version": 3
   },
   "file_extension": ".py",
   "mimetype": "text/x-python",
   "name": "python",
   "nbconvert_exporter": "python",
   "pygments_lexer": "ipython3",
   "version": "3.8.5"
  }
 },
 "nbformat": 4,
 "nbformat_minor": 2
}
