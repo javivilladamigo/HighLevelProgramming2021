{
 "cells": [
  {
   "cell_type": "markdown",
   "metadata": {},
   "source": [
    "1\\. Write a function that converts numbers among the bin, dec, and hex representations (bin<->dec<->hex)"
   ]
  },
  {
   "cell_type": "code",
   "execution_count": 24,
   "metadata": {},
   "outputs": [
    {
     "data": {
      "text/plain": [
       "{'dec': 10, 'hex': '0xa', 'bin': '0b1010'}"
      ]
     },
     "execution_count": 24,
     "metadata": {},
     "output_type": "execute_result"
    }
   ],
   "source": [
    "\n",
    "def convert(n):\n",
    "    conversions={}\n",
    "    \n",
    "    decn=n\n",
    "    conversions['dec']=decn\n",
    "    hexn=hex(n)\n",
    "    conversions['hex']=hexn\n",
    "    binn=bin(n)\n",
    "    conversions['bin']=binn\n",
    "    \n",
    "    return conversions\n",
    "    \n",
    "convert(0b00001010)\n",
    "convert(10)\n",
    "convert(0xa)"
   ]
  },
  {
   "cell_type": "markdown",
   "metadata": {},
   "source": [
    "2\\. Write a function that converts a 32 bit word into a single precision floating point (i.e. interprets the various bits as sign, mantissa and exponent) and check its validity."
   ]
  },
  {
   "cell_type": "code",
   "execution_count": 25,
   "metadata": {},
   "outputs": [
    {
     "name": "stdout",
     "output_type": "stream",
     "text": [
      "exponent bin:  10000001\n",
      "mantissa bin:  01100000000000000000000\n",
      "exponent :  129\n",
      "mantissa :  1.375\n"
     ]
    },
    {
     "data": {
      "text/plain": [
       "-5.5"
      ]
     },
     "execution_count": 25,
     "metadata": {},
     "output_type": "execute_result"
    }
   ],
   "source": [
    "def stringToFloat(word):\n",
    "    \n",
    "    if(len(word) != 32):\n",
    "        print(\"incorrect lenght\")\n",
    "        return\n",
    "    \n",
    "    sign=int(word[0])\n",
    "    exponentBin=word[1:9]\n",
    "    print(\"exponent bin: \", exponentBin)\n",
    "    mantissaBin=word[9:]\n",
    "    print(\"mantissa bin: \", mantissaBin)\n",
    "    exponent=int(exponentBin, 2)\n",
    "    print(\"exponent : \", exponent)\n",
    "    \n",
    "    mantissa=1\n",
    "    for i in range(len(mantissaBin)):\n",
    "        mantissa += 2**(-(i+1))*int(mantissaBin[i],2)\n",
    "    print(\"mantissa : \", mantissa)\n",
    "    \n",
    "    n=(-1)**sign * 2**(exponent-127) * mantissa\n",
    "    return n\n",
    "\n",
    "binary_string=\"11000000101100000000000000000000\"\n",
    "len(binary_string)\n",
    "stringToFloat(binary_string)    "
   ]
  },
  {
   "cell_type": "markdown",
   "metadata": {},
   "source": [
    "3\\. Write a program to determine the underflow and overflow limits (within a factor of 2) for python on your computer. \n",
    "\n",
    "**Tip**: define two variables initialized to 1 and halve/double them for a sufficient amount of times to exceed the under/over-flow limits  "
   ]
  },
  {
   "cell_type": "code",
   "execution_count": 33,
   "metadata": {},
   "outputs": [
    {
     "name": "stdout",
     "output_type": "stream",
     "text": [
      "overflow limit:  8.98846567431158e+307\n",
      "underflow limit:  5e-324\n"
     ]
    }
   ],
   "source": [
    "overflow_limit=1.0\n",
    "underflow_limit=1.0\n",
    "\n",
    "while True:\n",
    "    n = overflow_limit*2\n",
    "    if n >= float(\"inf\"):\n",
    "        break\n",
    "    overflow_limit = n\n",
    "\n",
    "print(\"overflow limit: \", overflow_limit)\n",
    "\n",
    "while True:\n",
    "    n = underflow_limit/2\n",
    "    if n <= 0:\n",
    "        break\n",
    "    underflow_limit = n\n",
    "\n",
    "print(\"underflow limit: \", underflow_limit)\n"
   ]
  },
  {
   "cell_type": "markdown",
   "metadata": {},
   "source": [
    "4\\. Write a program to determine the machine precision\n",
    "\n",
    "**Tip**: define a new variable by adding an increasingly smaller value (in the same way as the previous problem) and check when the addition starts to have no effect on the number"
   ]
  },
  {
   "cell_type": "code",
   "execution_count": 39,
   "metadata": {},
   "outputs": [
    {
     "name": "stdout",
     "output_type": "stream",
     "text": [
      "1e-16\n"
     ]
    }
   ],
   "source": [
    "min_e = 1\n",
    "while True:\n",
    "    min_val=10**(-min_e)\n",
    "    if((1.0 + min_val) == 1.0):\n",
    "        break\n",
    "    min_e += 1\n",
    "    \n",
    "print(1*10**-e)"
   ]
  },
  {
   "cell_type": "markdown",
   "metadata": {},
   "source": [
    "5\\. Write a function that takes in input three parameters $a$, $b$ and $c$ and prints out the two solutions to the quadratic equation $ax^2+bx+c=0$ using the standard formula:\n",
    "$$\n",
    "x=\\frac{-b\\pm\\sqrt{b^2-4ac}}{2a}\n",
    "$$\n",
    "\n",
    "(a) use the program to compute the solution for $a=0.001$, $b=1000$ and $c=0.001$\n",
    "\n",
    "(b) re-express the standard solution formula by multiplying the numerator and the denominator by $-b\\mp\\sqrt{b^2-4ac}$ and again find the solution for $a=0.001$, $b=1000$ and $c=0.001$. How does it compare with what has been previously obtained, and why?\n",
    "\n",
    "(c) write a function that computes the roots of a quadratic equation accurately in all cases"
   ]
  },
  {
   "cell_type": "code",
   "execution_count": 53,
   "metadata": {},
   "outputs": [
    {
     "name": "stdout",
     "output_type": "stream",
     "text": [
      "quadratic equation (a): (-9.999894245993346e-07, -999999.999999)\n",
      "quadratic equation (b): (-9.999894245993348e-07, -999999.9999990001)\n"
     ]
    }
   ],
   "source": [
    "\n",
    "def quadratic_a(a, b, c):\n",
    "    x1=((-b) + (b**2 - 4*a*c)**(1/2)) / (2*a)\n",
    "    x2=((-b) - (b**2 - 4*a*c)**(1/2)) / (2*a)\n",
    "    return x1, x2\n",
    "\n",
    "# (a)\n",
    "results_a=quadratic_a(0.001, 1000, 0.001)\n",
    "print(\"quadratic equation (a):\", results_a)\n",
    "\n",
    "def quadratic_b(a, b, c):\n",
    "    n1=(-b) + (b**2 - 4*a*c)**(1/2)\n",
    "    n2=(-b) - (b**2 - 4*a*c)**(1/2)\n",
    "    \n",
    "    x1=(((-b) + (b**2 - 4*a*c)**(1/2))*n1*n2) / ((2*a)*n1*n2)\n",
    "    x2=(((-b) - (b**2 - 4*a*c)**(1/2))*n1*n2) / ((2*a)*n1*n2)\n",
    "    \n",
    "    return x1, x2\n",
    "\n",
    "# (b)\n",
    "results_b=quadratic_b(0.001, 1000, 0.001)\n",
    "print(\"quadratic equation (b):\", results_b)\n",
    "\n",
    "# "
   ]
  },
  {
   "cell_type": "markdown",
   "metadata": {},
   "source": [
    "6\\. Write a program that implements the function $f(x)=x(x−1)$\n",
    "\n",
    "(a) Calculate the derivative of the function at the point $x = 1$ using the derivative definition:\n",
    "\n",
    "$$\n",
    "\\frac{{\\rm d}f}{{\\rm d}x} = \\lim_{\\delta\\to0} \\frac{f(x+\\delta)-f(x)}{\\delta}\n",
    "$$\n",
    "\n",
    "with $\\delta = 10^{−2}$. Calculate the true value of the same derivative analytically and compare it with the answer your program gives. The two will not agree perfectly. Why?\n",
    "\n",
    "(b) Repeat the calculation for $\\delta = 10^{−4}, 10^{−6}, 10^{−8}, 10^{−10}, 10^{−12}$ and $10^{−14}$. How does the accuracy scales with $\\delta$?"
   ]
  },
  {
   "cell_type": "code",
   "execution_count": null,
   "metadata": {},
   "outputs": [],
   "source": []
  },
  {
   "cell_type": "markdown",
   "metadata": {},
   "source": [
    "7\\. Consider the integral of the semicircle of radius 1:\n",
    "$$\n",
    "I=\\int_{-1}^{1} \\sqrt(1-x^2) {\\rm d}x\n",
    "$$\n",
    "which is known to be $I=\\frac{\\pi}{2}=1.57079632679...$.\n",
    "\n",
    "Alternatively we can use the Riemann definition of the integral:\n",
    "$$\n",
    "I=\\lim_{N\\to\\infty} \\sum_{k=1}^{N} h y_k \n",
    "$$\n",
    "\n",
    "with $h=2/N$ the width of each of the $N$ slices the domain is divided into and where\n",
    "$y_k$ is the value of the function at the $k-$th slice.\n",
    "\n",
    "(a) Write a program to compute the integral with $N=100$. How does the result compare to the true value?\n",
    "\n",
    "(b) How much can $N$ be increased if the computation needs to be run in less than a second? What is the gain in running it for 1 minute? \n"
   ]
  },
  {
   "cell_type": "code",
   "execution_count": null,
   "metadata": {},
   "outputs": [],
   "source": []
  }
 ],
 "metadata": {
  "kernelspec": {
   "display_name": "Python 3",
   "language": "python",
   "name": "python3"
  },
  "language_info": {
   "codemirror_mode": {
    "name": "ipython",
    "version": 3
   },
   "file_extension": ".py",
   "mimetype": "text/x-python",
   "name": "python",
   "nbconvert_exporter": "python",
   "pygments_lexer": "ipython3",
   "version": "3.7.10"
  }
 },
 "nbformat": 4,
 "nbformat_minor": 2
}
