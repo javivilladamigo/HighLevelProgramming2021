{
 "cells": [
  {
   "cell_type": "markdown",
   "metadata": {},
   "source": [
    "1\\. Write a function that converts numbers among the bin, dec, and hex representations (bin<->dec<->hex)"
   ]
  },
  {
   "cell_type": "code",
   "execution_count": 20,
   "metadata": {},
   "outputs": [
    {
     "name": "stdout",
     "output_type": "stream",
     "text": [
      "Number in binary, decimal, hexadecimal representation:\n"
     ]
    },
    {
     "data": {
      "text/plain": [
       "('100110', 38, '0x26')"
      ]
     },
     "execution_count": 20,
     "metadata": {},
     "output_type": "execute_result"
    }
   ],
   "source": [
    "# ex 1\n",
    "\n",
    "x = '100110'\n",
    "base = 2\n",
    "\n",
    "def converter(x, base):\n",
    "    \"\"\"Function to convert numbers in different representations\"\"\"\n",
    "    if base==10:\n",
    "        return(bin(x), x, hex(x))\n",
    "    elif base==2:\n",
    "        return(x, int(x, 2), hex(int(x, 2)))\n",
    "    elif base==16:\n",
    "        return(bin(int(x, 16)), int(x, 16), x)\n",
    "    else:\n",
    "        return(\"Not a base between {2, 10, 16}\")\n",
    "\n",
    "print(\"Number in binary, decimal, hexadecimal representation:\")\n",
    "converter(x, base)"
   ]
  },
  {
   "cell_type": "markdown",
   "metadata": {},
   "source": [
    "2\\. Write a function that converts a 32 bit word into a single precision floating point (i.e. interprets the various bits as sign, mantissa and exponent) and check its validity."
   ]
  },
  {
   "cell_type": "code",
   "execution_count": 21,
   "metadata": {},
   "outputs": [
    {
     "name": "stdout",
     "output_type": "stream",
     "text": [
      "The float number is: -5.5\n"
     ]
    }
   ],
   "source": [
    "# ex 2\n",
    "\n",
    "from math import exp\n",
    "\n",
    "string = '110000001011000000000000000000000'\n",
    "\n",
    "def myfloat(string):\n",
    "    \"\"\"Function to convert a 32-bit string into a float\"\"\"\n",
    "    sign = pow(-1, int(string[0]))\n",
    "    exponent = int(string[1:9], 2) - 127\n",
    "    mantissa = 0\n",
    "    for index, i in enumerate(string[9:32], 1):\n",
    "        mantissa += (int(i) * pow(2, (-1)*index))\n",
    "    return(sign * pow(2, exponent) * (mantissa + 1))\n",
    "\n",
    "print(\"The float number is:\", myfloat(string))"
   ]
  },
  {
   "cell_type": "markdown",
   "metadata": {},
   "source": [
    "3\\. Write a program to determine the underflow and overflow limits (within a factor of 2) for python on your computer. \n",
    "\n",
    "**Tip**: define two variables initialized to 1 and halve/double them for a sufficient amount of times to exceed the under/over-flow limits  "
   ]
  },
  {
   "cell_type": "code",
   "execution_count": 22,
   "metadata": {},
   "outputs": [
    {
     "name": "stdout",
     "output_type": "stream",
     "text": [
      "The underflow limit is: 5e-324\n",
      "The overflow limit is: 8.98846567431158e+307\n"
     ]
    }
   ],
   "source": [
    "# ex 3\n",
    "\n",
    "from math import inf\n",
    "\n",
    "i=1\n",
    "j=1.\n",
    "\n",
    "while True:\n",
    "    k = i/2\n",
    "    if k>0:\n",
    "        i /= 2\n",
    "        continue\n",
    "    else:\n",
    "        print(\"The underflow limit is:\", i)\n",
    "        break\n",
    "\n",
    "while True:\n",
    "    k = j*2\n",
    "    if k!=float(inf):\n",
    "        j*=2\n",
    "        continue\n",
    "    else:\n",
    "        print(\"The overflow limit is:\", j)\n",
    "        break"
   ]
  },
  {
   "cell_type": "markdown",
   "metadata": {},
   "source": [
    "4\\. Write a program to determine the machine precision\n",
    "\n",
    "**Tip**: define a new variable by adding an increasingly smaller value (in the same way as the previous problem) and check when the addition starts to have no effect on the number"
   ]
  },
  {
   "cell_type": "code",
   "execution_count": 23,
   "metadata": {},
   "outputs": [
    {
     "name": "stdout",
     "output_type": "stream",
     "text": [
      "The machine precision is: 1e-16\n"
     ]
    }
   ],
   "source": [
    "# ex 4\n",
    "\n",
    "i=1\n",
    "number = 1\n",
    "\n",
    "while True:\n",
    "    if (number + pow(10, -i) > number):\n",
    "        i += 1\n",
    "        continue\n",
    "    else:\n",
    "        print(\"The machine precision is:\", pow(10,-i))\n",
    "        break"
   ]
  },
  {
   "cell_type": "code",
   "execution_count": 24,
   "metadata": {},
   "outputs": [
    {
     "name": "stdout",
     "output_type": "stream",
     "text": [
      "The correct machine precision is: 2.220446049250313e-16\n"
     ]
    }
   ],
   "source": [
    "# ex 4 using numpy\n",
    "\n",
    "import numpy as np\n",
    "print(\"The correct machine precision is:\", np.finfo(float).eps)"
   ]
  },
  {
   "cell_type": "markdown",
   "metadata": {},
   "source": [
    "5\\. Write a function that takes in input three parameters $a$, $b$ and $c$ and prints out the two solutions to the quadratic equation $ax^2+bx+c=0$ using the standard formula:\n",
    "$$\n",
    "x=\\frac{-b\\pm\\sqrt{b^2-4ac}}{2a}\n",
    "$$\n",
    "\n",
    "(a) use the program to compute the solution for $a=0.001$, $b=1000$ and $c=0.001$\n",
    "\n",
    "(b) re-express the standard solution formula by multiplying the numerator and the denominator by $-b\\mp\\sqrt{b^2-4ac}$ and again find the solution for $a=0.001$, $b=1000$ and $c=0.001$. How does it compare with what has been previously obtained, and why?\n",
    "\n",
    "(c) write a function that computes the roots of a quadratic equation accurately in all cases"
   ]
  },
  {
   "cell_type": "code",
   "execution_count": 25,
   "metadata": {},
   "outputs": [
    {
     "name": "stdout",
     "output_type": "stream",
     "text": [
      "The solutions of the quadratic equation are: (-9.999894245993346e-07, -999999.999999)\n"
     ]
    }
   ],
   "source": [
    "# ex 5a\n",
    "\n",
    "from math import sqrt\n",
    "\n",
    "def quadratic_1(a, b, c):\n",
    "    \"\"\"Function applying quadratic formula\"\"\"\n",
    "    x1 = ( -b + sqrt( b**2 - 4*a*c ) ) / (2*a)\n",
    "    x2 = ( -b - sqrt( b**2 - 4*a*c ) ) / (2*a)\n",
    "    return (x1, x2)\n",
    "\n",
    "print(\"The solutions of the quadratic equation are:\", quadratic_1(0.001, 1000, 0.001))"
   ]
  },
  {
   "cell_type": "code",
   "execution_count": 26,
   "metadata": {},
   "outputs": [
    {
     "name": "stdout",
     "output_type": "stream",
     "text": [
      "The solutions of the quadratic equation are: (-1000010.5755125057, -1.000000000001e-06)\n",
      "\n",
      "Since sqrt(b^2-4ac) is approximately b for the parameters chosen, there are roundoff errors in calculating -b+sqrt(b^2-4ac).\n",
      "This means that we should use the expression of exercise 5a to calculate x1 and the expression of exercise 5b to calculate x2 (both exploiting -b-sqrt(b^2-4ac))\n",
      "In the general case (b<0 or b>0) what matters is the sign of b. So we shoul use -b-sign(b)*sqrt(b^2-4ac)\n"
     ]
    }
   ],
   "source": [
    "# ex 5b\n",
    "\n",
    "def quadratic_2(a, b, c):\n",
    "    \"\"\"Function applying quadratic formula multiplied by -b+-sqrt(b^2-4ac) at numerator and denominator\"\"\"\n",
    "    x1 = 2*c / (-b + sqrt( b**2 - 4*a*c ))\n",
    "    x2 = 2*c / (-b - sqrt( b**2 - 4*a*c ))\n",
    "    return (x1, x2)\n",
    "\n",
    "print(\"The solutions of the quadratic equation are:\", quadratic_2(0.001, 1000, 0.001))\n",
    "print(\"\\nSince sqrt(b^2-4ac) is approximately b for the parameters chosen, there are roundoff errors in calculating -b+sqrt(b^2-4ac).\")\n",
    "print(\"This means that we should use the expression of exercise 5a to calculate x1 and the expression of exercise 5b to calculate x2 (both exploiting -b-sqrt(b^2-4ac))\")\n",
    "print(\"In the general case (b<0 or b>0) what matters is the sign of b. So we shoul use -b-sign(b)*sqrt(b^2-4ac)\")"
   ]
  },
  {
   "cell_type": "code",
   "execution_count": 27,
   "metadata": {},
   "outputs": [
    {
     "name": "stdout",
     "output_type": "stream",
     "text": [
      "The solutions of the quadratic equation are: (-999999.999999, -1.000000000001e-06)\n"
     ]
    }
   ],
   "source": [
    "# ex 5c\n",
    "\n",
    "from numpy import sign\n",
    "\n",
    "def quadratic_stable(a, b, c):\n",
    "    \"\"\"Stable function for quadratic solution\"\"\"\n",
    "    x1 = ( -b - sign(b)*sqrt(b**2 - 4*a*c ) ) / (2*a)\n",
    "    x2 = c / (a*x1)\n",
    "    return (x1, x2)\n",
    "\n",
    "print(\"The solutions of the quadratic equation are:\", quadratic_stable(0.001, 1000, 0.001))"
   ]
  },
  {
   "cell_type": "markdown",
   "metadata": {},
   "source": [
    "6\\. Write a program that implements the function $f(x)=x(x−1)$\n",
    "\n",
    "(a) Calculate the derivative of the function at the point $x = 1$ using the derivative definition:\n",
    "\n",
    "$$\n",
    "\\frac{{\\rm d}f}{{\\rm d}x} = \\lim_{\\delta\\to0} \\frac{f(x+\\delta)-f(x)}{\\delta}\n",
    "$$\n",
    "\n",
    "with $\\delta = 10^{−2}$. Calculate the true value of the same derivative analytically and compare it with the answer your program gives. The two will not agree perfectly. Why?\n",
    "\n",
    "(b) Repeat the calculation for $\\delta = 10^{−4}, 10^{−6}, 10^{−8}, 10^{−10}, 10^{−12}$ and $10^{−14}$. How does the accuracy scales with $\\delta$?"
   ]
  },
  {
   "cell_type": "code",
   "execution_count": 28,
   "metadata": {},
   "outputs": [
    {
     "name": "stdout",
     "output_type": "stream",
     "text": [
      "The derivative calculated with the definition is: 1.010000000000001\n",
      "The derivative calculated analitically is: 1\n",
      "The two values do not agree perfectly because we subtract f(x) with f(x+delta) and, since f is stable, at small delta corresponds a small variation in the value of f. This means that f(x) and f(x+delta) are similar and that's the cause of the discrepancy.\n"
     ]
    }
   ],
   "source": [
    "# ex 6a\n",
    "\n",
    "def f(x):\n",
    "    \"\"\"Function f\"\"\"\n",
    "    return(x*(x - 1))\n",
    "def derf(x):\n",
    "    \"\"\"Analytical derivative of f\"\"\"\n",
    "    return(2*x - 1)\n",
    "\n",
    "x = 1\n",
    "delta = 10**(-2)\n",
    "df = (f(1 + delta) - f(1))/delta\n",
    "\n",
    "print(\"The derivative calculated with the definition is:\", df)\n",
    "print(\"The derivative calculated analitically is:\", derf(1))\n",
    "print(\"The two values do not agree perfectly because we subtract f(x) with f(x+delta) and, since f is stable, at small delta corresponds a small variation in the value of f. This means that f(x) and f(x+delta) are similar and that's the cause of the discrepancy.\")"
   ]
  },
  {
   "cell_type": "code",
   "execution_count": 29,
   "metadata": {},
   "outputs": [
    {
     "name": "stdout",
     "output_type": "stream",
     "text": [
      "Delta   Derivative of f in 1\n",
      "10^-4   1.0000999999998899\n",
      "10^-6   1.0000009999177333\n",
      "10^-8   1.0000000039225287\n",
      "10^-10  1.000000082840371\n",
      "10^-12  1.0000889005833413\n",
      "10^-14  0.9992007221626509\n",
      "The approximated value tends to the actual one until delta=10^-8, after this limit the difference starts to grow\n"
     ]
    }
   ],
   "source": [
    "# ex 6b\n",
    "\n",
    "print('{:<7} {:<15}'.format(\"Delta\", \"Derivative of f in 1\"))\n",
    "for i in [-4, -6, -8, -10, -12, -14]:\n",
    "    delta = 10**i\n",
    "    df = (f(1 + delta) - f(1))/delta\n",
    "    print('{:<7} {:<15}'.format(\"10^%d\"%i, df))\n",
    "print(\"The approximated value tends to the actual one until delta=10^-8, after this limit the difference starts to grow\")"
   ]
  },
  {
   "cell_type": "markdown",
   "metadata": {},
   "source": [
    "7\\. Consider the integral of the semicircle of radius 1:\n",
    "$$\n",
    "I=\\int_{-1}^{1} \\sqrt(1-x^2) {\\rm d}x\n",
    "$$\n",
    "which is known to be $I=\\frac{\\pi}{2}=1.57079632679...$.\n",
    "\n",
    "Alternatively we can use the Riemann definition of the integral:\n",
    "$$\n",
    "I=\\lim_{N\\to\\infty} \\sum_{k=1}^{N} h y_k \n",
    "$$\n",
    "\n",
    "with $h=2/N$ the width of each of the $N$ slices the domain is divided into and where\n",
    "$y_k$ is the value of the function at the $k-$th slice.\n",
    "\n",
    "(a) Write a program to compute the integral with $N=100$. How does the result compare to the true value?\n",
    "\n",
    "(b) How much can $N$ be increased if the computation needs to be run in less than a second? What is the gain in running it for 1 minute? \n"
   ]
  },
  {
   "cell_type": "code",
   "execution_count": 30,
   "metadata": {},
   "outputs": [
    {
     "name": "stdout",
     "output_type": "stream",
     "text": [
      "The aprroximated value of the integral is: 1.5691342555492505\n",
      "The value is lower then the actual one, with difference: 0.0016620712456461018\n"
     ]
    }
   ],
   "source": [
    "# ex 7a\n",
    "\n",
    "from math import pi\n",
    "\n",
    "def f(x):\n",
    "    \"\"\"Function to be integrated\"\"\"\n",
    "    return sqrt(1-x*x)\n",
    "\n",
    "def myint(N, x0=-1, x1=1):\n",
    "    \"\"\"Function to calculate the integral of f in the range [x0,x1] with N divisions\"\"\"\n",
    "    I=0\n",
    "    for i in range(N):\n",
    "        h=(x1-x0)/N\n",
    "        I+=f(x0+h*i)*h\n",
    "    return(I)\n",
    "\n",
    "print(\"The aprroximated value of the integral is:\", myint(100))\n",
    "print(\"The value is lower then the actual one, with difference:\", (pi/2 - myint(100)))"
   ]
  },
  {
   "cell_type": "code",
   "execution_count": 31,
   "metadata": {},
   "outputs": [
    {
     "name": "stdout",
     "output_type": "stream",
     "text": [
      "Running time for the function with N=3.9e8: 59.98247194290161 s\n",
      "The value of the integral is: 1.5707963267930758\n",
      "The difference from the actual value is: 1.8207657603852567e-12\n"
     ]
    }
   ],
   "source": [
    "# ex 7b\n",
    "\n",
    "import time\n",
    "\n",
    "N=390000000\n",
    "start=time.time()\n",
    "integral=myint(N)\n",
    "t=(time.time()-start)\n",
    "print(\"Running time for the function with N=3.9e8: {0} s\".format(t))\n",
    "print(\"The value of the integral is:\", integral)\n",
    "print(\"The difference from the actual value is:\", (pi/2 - integral))\n"
   ]
  }
 ],
 "metadata": {
  "interpreter": {
   "hash": "b0fa6594d8f4cbf19f97940f81e996739fb7646882a419484c72d19e05852a7e"
  },
  "kernelspec": {
   "display_name": "Python 3.9.7 64-bit",
   "name": "python3"
  },
  "language_info": {
   "codemirror_mode": {
    "name": "ipython",
    "version": 3
   },
   "file_extension": ".py",
   "mimetype": "text/x-python",
   "name": "python",
   "nbconvert_exporter": "python",
   "pygments_lexer": "ipython3",
   "version": "3.9.7"
  }
 },
 "nbformat": 4,
 "nbformat_minor": 2
}
