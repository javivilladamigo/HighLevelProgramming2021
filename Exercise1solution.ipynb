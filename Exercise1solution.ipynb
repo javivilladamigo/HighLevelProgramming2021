{
 "cells": [
  {
   "cell_type": "code",
   "execution_count": 14,
   "metadata": {
    "scrolled": false
   },
   "outputs": [
    {
     "ename": "IndentationError",
     "evalue": "expected an indented block (<ipython-input-14-3676e2dd7676>, line 4)",
     "output_type": "error",
     "traceback": [
      "\u001b[1;36m  File \u001b[1;32m\"<ipython-input-14-3676e2dd7676>\"\u001b[1;36m, line \u001b[1;32m4\u001b[0m\n\u001b[1;33m    print (\" Hello\" )\u001b[0m\n\u001b[1;37m    ^\u001b[0m\n\u001b[1;31mIndentationError\u001b[0m\u001b[1;31m:\u001b[0m expected an indented block\n"
     ]
    }
   ],
   "source": []
  },
  {
   "cell_type": "code",
   "execution_count": null,
   "metadata": {},
   "outputs": [],
   "source": [
    "for i in range(1,101):\n",
    "    a = i\n",
    "    if i%15==0:\n",
    "        a = \"HelloWorld\"\n",
    "        print (a)\n",
    "        continue\n",
    "    if i%5==0:\n",
    "        a = \"World\"\n",
    "        print (a)\n",
    "        continue\n",
    "    if i%3==0:\n",
    "        a = \"Hello\"\n",
    "        print (a)\n",
    "        continue\n",
    "    else : \n",
    "        print(a)\n"
   ]
  },
  {
   "cell_type": "code",
   "execution_count": null,
   "metadata": {},
   "outputs": [],
   "source": [
    "tup = ()\n",
    "for i in range(1,101):\n",
    "    if i%15==0:\n",
    "        tup += (\"HelloWorld\")\n",
    "        continue\n",
    "    if i%5==0:\n",
    "        tup += (\"World\")\n",
    "        continue\n",
    "    if i%3==0:\n",
    "        tup += (\"Hello\")\n",
    "        continue\n",
    "    else : \n",
    "        tup += (i,)"
   ]
  },
  {
   "cell_type": "code",
   "execution_count": 53,
   "metadata": {},
   "outputs": [
    {
     "name": "stdout",
     "output_type": "stream",
     "text": [
      "a= 3 b= 12\n"
     ]
    }
   ],
   "source": [
    "\n",
    "a=12\n",
    "b=3\n",
    "a=a+b\n",
    "b=a-b\n",
    "a=a-b\n",
    "\n",
    "print (\"a=\",a, \"b=\",b)\n"
   ]
  },
  {
   "cell_type": "code",
   "execution_count": 47,
   "metadata": {},
   "outputs": [
    {
     "name": "stdout",
     "output_type": "stream",
     "text": [
      "13.0\n"
     ]
    }
   ],
   "source": [
    "import math\n",
    "u=(5,0)\n",
    "v=(0,12)\n",
    "def myfunc(u,v):\n",
    "    distance = math.sqrt( ((u[0]-v[0])**2)+((u[1]-v[1])**2) );\n",
    "    return distance\n",
    "\n",
    "dist = myfunc(u,v)\n",
    "print(dist)\n"
   ]
  },
  {
   "cell_type": "code",
   "execution_count": 6,
   "metadata": {},
   "outputs": [
    {
     "name": "stdout",
     "output_type": "stream",
     "text": [
      "{'w': 4, 'r': 19, 'i': 12, 't': 19, 'e': 20, 'a': 7, 'p': 8, 'o': 15, 'g': 1, 'm': 8, 'h': 11, 'n': 10, 's': 7, 'u': 7, 'b': 5, 'f': 10, '1': 2, '0': 2, '.': 3, 'l': 12, 'd': 5, 'v': 2, 'c': 1}\n"
     ]
    }
   ],
   "source": [
    "s = \"Write a program that prints the numbers from 1 to 100. \\\n",
    "But for multiples of three print Hello instead of the number and for the multiples of five print World. \\\n",
    "For numbers which are multiples of both three and five print HelloWorld.\"\n",
    "\n",
    "s=s.lower()\n",
    "s=s.replace(' ','')\n",
    "\n",
    "my_dict = {}\n",
    "\n",
    "for letter in s:\n",
    "    if letter in my_dict:\n",
    "        value = my_dict[letter] + 1\n",
    "        my_dict[letter] = value\n",
    "    else:\n",
    "        my_dict[letter] = 1\n",
    "\n",
    "print(my_dict)\n"
   ]
  },
  {
   "cell_type": "code",
   "execution_count": 10,
   "metadata": {},
   "outputs": [
    {
     "name": "stdout",
     "output_type": "stream",
     "text": [
      "{'36': 3, '45': 3, '58': 1, '3': 2, '74': 1, '96': 1, '64': 1, '31': 2, '10': 1, '24': 1, '19': 1, '33': 1, '86': 1, '99': 1, '18': 1, '63': 2, '70': 3, '85': 3, '47': 1, '56': 2, '42': 2, '84': 4, '88': 1, '55': 1, '20': 3, '54': 1, '8': 1, '51': 3, '79': 1, '81': 1, '57': 1, '37': 1, '91': 3, '1': 1, '66': 2, '9': 1, '89': 2, '50': 2, '95': 1, '90': 1, '98': 1, '39': 1, '16': 1, '82': 1, '92': 1, '41': 1, '30': 1, '34': 2, '94': 1, '5': 1, '72': 1, '87': 1, '75': 1, '53': 1}\n"
     ]
    }
   ],
   "source": [
    "l = [36, 45, 58, 3, 74, 96, 64, 45, 31, 10, 24, 19, 33, 86, 99, 18, 63, 70, 85,\n",
    " 85, 63, 47, 56, 42, 70, 84, 88, 55, 20, 54, 8, 56, 51, 79, 81, 57, 37, 91,\n",
    " 1, 84, 84, 36, 66, 9, 89, 50, 42, 91, 50, 95, 90, 98, 39, 16, 82, 31, 92, 41,\n",
    " 45, 30, 66, 70, 34, 85, 94, 5, 3, 36, 72, 91, 84, 34, 87, 75, 53, 51, 20, 89, 51, 20]\n",
    "\n",
    "my_dict = {}\n",
    "\n",
    "for number in l:\n",
    "    if str(number) in my_dict:\n",
    "        value = my_dict[str(number)] + 1\n",
    "        my_dict[str(number)] = value\n",
    "    else:\n",
    "        my_dict[str(number)] = 1\n",
    "\n",
    "print(my_dict)"
   ]
  },
  {
   "cell_type": "code",
   "execution_count": 11,
   "metadata": {},
   "outputs": [
    {
     "name": "stdout",
     "output_type": "stream",
     "text": [
      "64\n"
     ]
    }
   ],
   "source": [
    "def square(number):\n",
    "    return number*number\n",
    "\n",
    "def cube(number):\n",
    "    return number*number*number\n",
    "\n",
    "def sixth(number):\n",
    "    return square(cube(number))"
   ]
  },
  {
   "cell_type": "code",
   "execution_count": 15,
   "metadata": {},
   "outputs": [
    {
     "name": "stdout",
     "output_type": "stream",
     "text": [
      "[0, 1, 8, 27, 64, 125, 216, 343, 512, 729, 1000]\n"
     ]
    }
   ],
   "source": [
    "x = list(range(11))\n",
    "cubes = []\n",
    "\n",
    "for each in x:\n",
    "    temp = cube(each)\n",
    "    cubes.append(temp)\n",
    "print(cubes)"
   ]
  },
  {
   "cell_type": "code",
   "execution_count": 17,
   "metadata": {},
   "outputs": [
    {
     "name": "stdout",
     "output_type": "stream",
     "text": [
      "[0, 1, 8, 27, 64, 125, 216, 343, 512, 729, 1000]\n"
     ]
    }
   ],
   "source": [
    "x = list(range(11))\n",
    "cubes = []\n",
    "\n",
    "k = [cube(each) for each in x]\n",
    "print(k)"
   ]
  },
  {
   "cell_type": "code",
   "execution_count": null,
   "metadata": {},
   "outputs": [],
   "source": [
    "integers = list(range(1,101))\n",
    "solutions = []\n",
    "\n",
    "for a in integers:\n",
    "    for b in integers:\n",
    "        for c in integers:\n",
    "            if square(a) + square(b) == square(c):\n",
    "                solutions.append( (a,b,c) )\n",
    "print(solutions)"
   ]
  },
  {
   "cell_type": "code",
   "execution_count": 23,
   "metadata": {},
   "outputs": [],
   "source": [
    "def normalizer( my_tuple ):\n",
    "    result = []\n",
    "    summary = 0\n",
    "    for element in my_tuple:\n",
    "        summary += element\n",
    "\n",
    "    for element in my_tuple:\n",
    "        result.append(element/summary)\n",
    "        \n",
    "    return result"
   ]
  },
  {
   "cell_type": "code",
   "execution_count": 28,
   "metadata": {},
   "outputs": [
    {
     "data": {
      "text/plain": [
       "[0.2, 0.3, 0.5]"
      ]
     },
     "execution_count": 28,
     "metadata": {},
     "output_type": "execute_result"
    }
   ],
   "source": [
    "normalizer((2,3,5))"
   ]
  }
 ],
 "metadata": {
  "interpreter": {
   "hash": "7ce2764bea5ad2b1b2fd79cbd0bfb39d271e34d3e0ff7f3fd3f0fe145addf315"
  },
  "kernelspec": {
   "display_name": "Python 3.7.2 64-bit (system)",
   "name": "python3"
  },
  "language_info": {
   "codemirror_mode": {
    "name": "ipython",
    "version": 3
   },
   "file_extension": ".py",
   "mimetype": "text/x-python",
   "name": "python",
   "nbconvert_exporter": "python",
   "pygments_lexer": "ipython3",
   "version": "3.7.2"
  }
 },
 "nbformat": 4,
 "nbformat_minor": 4
}
