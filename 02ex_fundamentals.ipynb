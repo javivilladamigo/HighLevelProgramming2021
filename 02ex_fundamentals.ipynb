{
 "cells": [
  {
   "cell_type": "markdown",
   "metadata": {},
   "source": [
    "1. Write the following expressions using the list comprehension"
   ]
  },
  {
   "cell_type": "code",
   "execution_count": 1,
   "metadata": {},
   "outputs": [
    {
     "name": "stdout",
     "output_type": "stream",
     "text": [
      "[(0, 0), (0, 1), (0, 2), (0, 3), (1, 0), (1, 1), (1, 2), (1, 3), (2, 0), (2, 1), (2, 2), (2, 3)]\n",
      "[1, 9, 25, 49, 81]\n"
     ]
    }
   ],
   "source": [
    "# 1\n",
    "ans = []\n",
    "for i in range(3):\n",
    "    for j in range(4):\n",
    "        ans.append((i, j))\n",
    "print(ans)\n",
    "\n",
    "# 2\n",
    "ans = map(lambda x: x * x, filter(lambda x: x % 2 == 1, range(10)))\n",
    "print(list(ans))"
   ]
  },
  {
   "cell_type": "code",
   "execution_count": 13,
   "metadata": {},
   "outputs": [
    {
     "name": "stdout",
     "output_type": "stream",
     "text": [
      "[(0, 0), (0, 1), (0, 2), (0, 3), (1, 0), (1, 1), (1, 2), (1, 3), (2, 0), (2, 1), (2, 2), (2, 3)]\n",
      "[1, 9, 25, 49, 81]\n"
     ]
    }
   ],
   "source": [
    "#1\n",
    "ans = [(i,j) for i in range(3) for j in range(4)]\n",
    "print(ans)\n",
    "\n",
    "#2\n",
    "ans  = [x * x for x in range(10) if x % 2 == 1]\n",
    "print(ans)"
   ]
  },
  {
   "cell_type": "markdown",
   "metadata": {},
   "source": [
    "2\\. Convert the function $f$ into a function that doesn't use global variables and that does not modify the original list"
   ]
  },
  {
   "cell_type": "code",
   "execution_count": 14,
   "metadata": {},
   "outputs": [
    {
     "name": "stdout",
     "output_type": "stream",
     "text": [
      "[1, 2, 3, 0, 1, 2, 3, 4]\n",
      "[1, 2, 3, 0, 1, 2, 3, 4]\n"
     ]
    }
   ],
   "source": [
    "x = 5\n",
    "def f(alist):\n",
    "    for i in range(x):\n",
    "         alist.append(i)\n",
    "    return alist\n",
    "\n",
    "alist = [1,2,3]\n",
    "ans = f(alist)\n",
    "print(ans)\n",
    "print(alist) # alist has been changed!"
   ]
  },
  {
   "cell_type": "code",
   "execution_count": 16,
   "metadata": {},
   "outputs": [
    {
     "name": "stdout",
     "output_type": "stream",
     "text": [
      "1\n",
      "[1, 2, 3, 0, 1, 2, 3, 4]\n",
      "[1, 2, 3]\n"
     ]
    }
   ],
   "source": [
    "x = 1\n",
    "def f(alist = None):\n",
    "  if alist is None:\n",
    "    alist = []\n",
    "  x = 5\n",
    "  l = [elem for elem in alist]\n",
    "  for i in range (x):\n",
    "    l.append(i)\n",
    "  return l\n",
    "\n",
    "alist = [1,2,3]\n",
    "ans = f(alist)\n",
    "print(x)\n",
    "print(ans)\n",
    "print(alist)"
   ]
  },
  {
   "cell_type": "markdown",
   "metadata": {},
   "source": [
    "3\\. Write a `decorator` hello that makes every wrapped function print “Hello!”, i.e. something like:\n",
    "\n",
    "```python\n",
    "@hello\n",
    "def square(x):\n",
    "    return x*x\n",
    "```\n",
    "\n"
   ]
  },
  {
   "cell_type": "code",
   "execution_count": 28,
   "metadata": {},
   "outputs": [
    {
     "name": "stdout",
     "output_type": "stream",
     "text": [
      "Hello!\n",
      "9\n"
     ]
    }
   ],
   "source": [
    "def hello(f):\n",
    "  def wrapper(*args, **kwargs):\n",
    "    print(\"Hello!\")\n",
    "    print(f(*args, **kwargs))\n",
    "  return wrapper\n",
    "\n",
    "@hello\n",
    "def square(x):\n",
    "  return x * x\n",
    "\n",
    "square(3)"
   ]
  },
  {
   "cell_type": "markdown",
   "metadata": {},
   "source": [
    "4\\. Write the factorial function in two different ways, so that it a) does and b) does not use recursion."
   ]
  },
  {
   "cell_type": "code",
   "execution_count": 15,
   "metadata": {},
   "outputs": [
    {
     "name": "stdout",
     "output_type": "stream",
     "text": [
      "120\n",
      "120\n"
     ]
    }
   ],
   "source": [
    "def rec_factorial(n):\n",
    "  fac_base = 1\n",
    "  if n < 0:\n",
    "    return \"The factorial of negative numbers is not defined\"\n",
    "  elif (n == 0) or (n == 1):\n",
    "    return fac_base\n",
    "  else:\n",
    "    return rec_factorial(n-1) * n\n",
    "\n",
    "print(rec_factorial(5))\n",
    "\n",
    "def iter_factorial(n):\n",
    "  fac = 1\n",
    "  for i in range(1, n+1):\n",
    "    fac = i * fac\n",
    "  return fac\n",
    "\n",
    "print(iter_factorial(5))"
   ]
  },
  {
   "cell_type": "markdown",
   "metadata": {},
   "source": [
    "5\\. Use HOFs (zip in particular) to compute the weight of a circle, a disk and a sphere, assuming different radii and different densities:\n",
    "\n",
    "```python\n",
    "densities = {\"Al\" : [0.5, 1, 2], \"Fe\" : [3, 4, 5], \"Pb\" : [15, 20, 30]}\n",
    "radii = [1, 2, 3]\n",
    "```\n",
    "\n",
    "where the entries of the dictionary's values are the linear, superficial and volumetric densities of the materials respectively.\n",
    "\n",
    "Subsequently, define a list using a comprehension with three lambda functions that compute the circumference, the area and the volume for a given radius.\n"
   ]
  },
  {
   "cell_type": "code",
   "execution_count": 34,
   "metadata": {},
   "outputs": [
    {
     "name": "stdout",
     "output_type": "stream",
     "text": [
      "The weight of an Al circle is 3.141593\n",
      "The weight of a Fe circle is 18.849556\n",
      "The weight of a Pb circle is 94.247780\n",
      "The weight of an Al disk is 12.566371\n",
      "The weight of a Fe disk is 50.265482\n",
      "The weight of a Pb disk is 251.327412\n",
      "The weight of an Al sphere is 226.194671\n",
      "The weight of a Fe sphere is 565.486678\n",
      "The weight of a Pb sphere is 3392.920066\n",
      "[6.283185307179586, 12.566370614359172, 113.09733552923254]\n"
     ]
    }
   ],
   "source": [
    "from math import pi\n",
    "\n",
    "densities = {\"Al\" : [0.5, 1, 2], \"Fe\" : [3, 4, 5], \"Pb\" : [15, 20, 30]}\n",
    "radii = [1, 2, 3]\n",
    "\n",
    "index = 0\n",
    "\n",
    "for al, fe, pb, r in zip(densities[\"Al\"], densities[\"Fe\"], densities[\"Pb\"], radii):\n",
    "  if index == 0:\n",
    "    al_circle_weight = 2 * pi * r * al\n",
    "    fe_circle_weight = 2 * pi * r * fe\n",
    "    pb_circle_weight = 2 * pi * r * pb\n",
    "    print(\"The weight of an Al circle is %f\" % al_circle_weight)\n",
    "    print(\"The weight of a Fe circle is %f\" % fe_circle_weight)\n",
    "    print(\"The weight of a Pb circle is %f\" % pb_circle_weight)\n",
    "  elif index == 1:\n",
    "    al_disk_weight = pi * (r**2) * al\n",
    "    fe_disk_weight = pi * (r**2) * fe\n",
    "    pb_disk_weight = pi * (r**2) * pb\n",
    "    print(\"The weight of an Al disk is %f\" % al_disk_weight)\n",
    "    print(\"The weight of a Fe disk is %f\" % fe_disk_weight)\n",
    "    print(\"The weight of a Pb disk is %f\" % pb_disk_weight)\n",
    "  else:\n",
    "    al_sphere_weight = (4/3) * pi * (r**3) * al\n",
    "    fe_sphere_weight = (4/3) * pi * (r**3) * fe\n",
    "    pb_sphere_weight = (4/3) * pi * (r**3) * pb\n",
    "    print(\"The weight of an Al sphere is %f\" % al_sphere_weight)\n",
    "    print(\"The weight of a Fe sphere is %f\" % fe_sphere_weight)\n",
    "    print(\"The weight of a Pb sphere is %f\" % pb_sphere_weight)\n",
    "  index += 1\n",
    "\n",
    "funcs = [lambda r: 2*pi*r, lambda r: pi*r**2, lambda r: 4/3*pi*r**3]\n",
    "print ([fun(r) for fun, r in zip(funcs, radii)])"
   ]
  },
  {
   "cell_type": "markdown",
   "metadata": {},
   "source": [
    "6\\. Edit the class defintion to add an instance attribute of `is_hungry = True` to the Dog class. Then add a method called `eat()` which changes the value of `is_hungry` to `False` when called. Figure out the best way to instantiate the dog objects and to feed the dogs, e.g. call the `eat()` method for all instances. Finally, print “My dogs are hungry.” or “My dogs are not hungry.” if all of them have `is_hungry = True` or `False`, respectively. The final output should look like this:\n",
    "\n",
    "`I have 3 dogs. \n",
    "Tom is 6. \n",
    "Fletcher is 7. \n",
    "Larry is 9. \n",
    "And they're all mammals, of course. \n",
    "My dogs are not hungry.\n",
    "`\n",
    "\n",
    "```python\n",
    "# Parent class\n",
    "class Dog:\n",
    "\n",
    "    # Class attribute\n",
    "    species = 'mammal'\n",
    "\n",
    "    # Initializer / Instance attributes\n",
    "    def __init__(self, name, age):\n",
    "        self.name = name\n",
    "        self.age = age\n",
    "\n",
    "    # instance method\n",
    "    def description(self):\n",
    "        return \"{} is {} years old\".format(self.name, self.age)\n",
    "\n",
    "    # instance method\n",
    "    def speak(self, sound):\n",
    "        return \"{} says {}\".format(self.name, sound)\n",
    "\n",
    "# Child class (inherits from Dog class)\n",
    "class RussellTerrier(Dog):\n",
    "    def run(self, speed):\n",
    "        return \"{} runs {}\".format(self.name, speed)\n",
    "\n",
    "# Child class (inherits from Dog class)\n",
    "class Bulldog(Dog):\n",
    "    def run(self, speed):\n",
    "        return \"{} runs {}\".format(self.name, speed)\n",
    "```"
   ]
  },
  {
   "cell_type": "code",
   "execution_count": 2,
   "metadata": {},
   "outputs": [],
   "source": [
    "# Parent class\n",
    "class Dog:\n",
    "\n",
    "    # Class attribute\n",
    "    species = 'mammal'\n",
    "    is_hungry = True\n",
    "\n",
    "    # Initializer / Instance attributes\n",
    "    def __init__(self, name, age):\n",
    "        self.name = name\n",
    "        self.age = age\n",
    "    # instance method\n",
    "    def eat(self):\n",
    "      self.is_hungry = False\n",
    "      \n",
    "    # instance method\n",
    "    def description(self):\n",
    "        return \"{} is {} years old\".format(self.name, self.age)\n",
    "\n",
    "    # instance method\n",
    "    def speak(self, sound):\n",
    "        return \"{} says {}\".format(self.name, sound)\n",
    "\n",
    "# Child class (inherits from Dog class)\n",
    "class RussellTerrier(Dog):\n",
    "    def run(self, speed):\n",
    "        return \"{} runs {}\".format(self.name, speed)\n",
    "\n",
    "# Child class (inherits from Dog class)\n",
    "class Bulldog(Dog):\n",
    "    def run(self, speed):\n",
    "        return \"{} runs {}\".format(self.name, speed)"
   ]
  },
  {
   "cell_type": "code",
   "execution_count": 3,
   "metadata": {},
   "outputs": [
    {
     "name": "stdout",
     "output_type": "stream",
     "text": [
      "I have 3 dogs. Tom is 6. Fletcher is 7. Larry is 9. And they're all mammals of course. My dogs are hungry.\n",
      "I have 3 dogs. Tom is 6. Fletcher is 7. Larry is 9. And they're all mammals of course. My dogs are not hungry.\n"
     ]
    }
   ],
   "source": [
    "def are_they_hungry(dogs_list):\n",
    "  dog_number = len(dogs_list)\n",
    "  dog_iter = iter(dogs_list)\n",
    "  num_hungry = 0\n",
    "  num_mammals = 0\n",
    "  string = \"I have %d dogs. \" % dog_number\n",
    "  for dog in dog_iter:\n",
    "    string += \"%s is %d. \" % (dog.name, dog.age)\n",
    "    if dog.is_hungry == True:\n",
    "      num_hungry += 1\n",
    "    if dog.species == 'mammal':\n",
    "      num_mammals += 1\n",
    "            \n",
    "  if num_mammals == dog_number:\n",
    "    string += \"And they're all mammals of course. \"\n",
    "    \n",
    "  if num_hungry == dog_number:\n",
    "    string += \"My dogs are hungry.\"\n",
    "  elif num_hungry == 0:\n",
    "    string += \"My dogs are not hungry.\"\n",
    "  else:\n",
    "    string += \"Some of my dogs are hungry, some are not.\"\n",
    "  return string\n",
    "\n",
    "Tom = Dog(\"Tom\", 6)\n",
    "Fletcher = RussellTerrier(\"Fletcher\", 7)\n",
    "Larry = Bulldog(\"Larry\", 9)\n",
    "dogs = [Tom, Fletcher, Larry]\n",
    "\n",
    "print(are_they_hungry(dogs))\n",
    "\n",
    "Tom.eat()\n",
    "Fletcher.eat()\n",
    "Larry.eat()\n",
    "\n",
    "print(are_they_hungry(dogs))\n"
   ]
  }
 ],
 "metadata": {
  "kernelspec": {
   "display_name": "Python 3",
   "language": "python",
   "name": "python3"
  },
  "language_info": {
   "codemirror_mode": {
    "name": "ipython",
    "version": 3
   },
   "file_extension": ".py",
   "mimetype": "text/x-python",
   "name": "python",
   "nbconvert_exporter": "python",
   "pygments_lexer": "ipython3",
   "version": "3.9.5"
  }
 },
 "nbformat": 4,
 "nbformat_minor": 2
}
