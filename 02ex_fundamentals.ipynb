{
 "cells": [
  {
   "cell_type": "markdown",
   "metadata": {},
   "source": [
    "1. Write the following expressions using the list comprehension"
   ]
  },
  {
   "cell_type": "code",
   "execution_count": 1,
   "metadata": {},
   "outputs": [
    {
     "name": "stdout",
     "output_type": "stream",
     "text": [
      "[(0, 0), (0, 1), (0, 2), (0, 3), (1, 0), (1, 1), (1, 2), (1, 3), (2, 0), (2, 1), (2, 2), (2, 3)]\n",
      "[1, 9, 25, 49, 81]\n"
     ]
    }
   ],
   "source": [
    "# 1\n",
    "ans = []\n",
    "for i in range(3):\n",
    "    for j in range(4):\n",
    "        ans.append((i, j))\n",
    "print(ans)\n",
    "\n",
    "# 2\n",
    "ans = map(lambda x: x * x, filter(lambda x: x % 2 == 1, range(10)))\n",
    "print(list(ans))"
   ]
  },
  {
   "cell_type": "code",
   "execution_count": 5,
   "metadata": {},
   "outputs": [
    {
     "name": "stdout",
     "output_type": "stream",
     "text": [
      "[(0, 0), (0, 1), (0, 2), (0, 3), (1, 0), (1, 1), (1, 2), (1, 3), (2, 0), (2, 1), (2, 2), (2, 3)]\n",
      "[1, 9, 25, 49, 81]\n"
     ]
    }
   ],
   "source": [
    "#using the list comprehension\n",
    "# 1\n",
    "ans=[(a,b) for a in range(3) for b in range(4)]\n",
    "print(ans)\n",
    "\n",
    "#2\n",
    "ans= [x**2 for x in range(10) if x % 2 == 1]\n",
    "print(ans)"
   ]
  },
  {
   "cell_type": "markdown",
   "metadata": {},
   "source": [
    "2\\. Convert the function $f$ into a function that doesn't use global variables and that does not modify the original list"
   ]
  },
  {
   "cell_type": "code",
   "execution_count": 6,
   "metadata": {},
   "outputs": [
    {
     "name": "stdout",
     "output_type": "stream",
     "text": [
      "[1, 2, 3, 0, 1, 2, 3, 4]\n",
      "[1, 2, 3, 0, 1, 2, 3, 4]\n"
     ]
    }
   ],
   "source": [
    "x = 5\n",
    "def f(alist):\n",
    "    for i in range(x):\n",
    "         alist.append(i)\n",
    "    return alist\n",
    "\n",
    "alist = [1,2,3]\n",
    "ans = f(alist)\n",
    "print(ans)\n",
    "print(alist) # alist has been changed!"
   ]
  },
  {
   "cell_type": "code",
   "execution_count": 16,
   "metadata": {},
   "outputs": [
    {
     "name": "stdout",
     "output_type": "stream",
     "text": [
      "[1, 2, 3, 0, 1, 2, 3, 4]\n",
      "[1, 2, 3]\n"
     ]
    }
   ],
   "source": [
    "#exercise 2\n",
    "x = 5\n",
    "def f(y):\n",
    "    y= alist + [i for i in range(x)]\n",
    "    return y\n",
    "\n",
    "alist = [1,2,3]\n",
    "ans = f(alist)\n",
    "print(ans)\n",
    "print(alist) "
   ]
  },
  {
   "cell_type": "markdown",
   "metadata": {},
   "source": [
    "3\\. Write a `decorator` hello that makes every wrapped function print “Hello!”, i.e. something like:\n",
    "\n",
    "```python\n",
    "@hello\n",
    "def square(x):\n",
    "    return x*x\n",
    "```\n",
    "\n"
   ]
  },
  {
   "cell_type": "code",
   "execution_count": 5,
   "metadata": {},
   "outputs": [
    {
     "name": "stdout",
     "output_type": "stream",
     "text": [
      "Set the value of x (float): 2\n",
      "Hello!\n",
      "4.0\n",
      "Hello!\n"
     ]
    },
    {
     "data": {
      "text/plain": [
       "4.0"
      ]
     },
     "execution_count": 5,
     "metadata": {},
     "output_type": "execute_result"
    }
   ],
   "source": [
    "#exercise 3\n",
    "\n",
    "def hello(func):\n",
    "    def wrapper(*x):\n",
    "        print(\"Hello!\")\n",
    "        result=func(*x)\n",
    "        print(\"Hello!\")\n",
    "        return result\n",
    "    return wrapper\n",
    "\n",
    "@hello\n",
    "def square(a):\n",
    "    print(a*a)\n",
    "    return a*a\n",
    "\n",
    "x = float(input('Set the value of x (float): ')) \n",
    "square(x)"
   ]
  },
  {
   "cell_type": "markdown",
   "metadata": {},
   "source": [
    "4\\. Write the factorial function in two different ways, so that it a) does and b) does not use recursion."
   ]
  },
  {
   "cell_type": "code",
   "execution_count": 21,
   "metadata": {},
   "outputs": [
    {
     "name": "stdout",
     "output_type": "stream",
     "text": [
      "Set the value of x (float): 6\n",
      "720\n"
     ]
    }
   ],
   "source": [
    "#exercise 4\n",
    "#A\n",
    "\n",
    "def fac1(n):\n",
    "    tot = 1\n",
    "    if x==0:\n",
    "        return tot\n",
    "    elif x<0:\n",
    "        return None \n",
    "    else:\n",
    "        for i in range(1,n+1):\n",
    "            tot *= i\n",
    "        return tot\n",
    "\n",
    "x = int(input('Set the value of x (float): '))     \n",
    "print(fac1(x))"
   ]
  },
  {
   "cell_type": "code",
   "execution_count": 30,
   "metadata": {},
   "outputs": [
    {
     "name": "stdout",
     "output_type": "stream",
     "text": [
      "Set the value of x (float): 6\n",
      "720\n"
     ]
    }
   ],
   "source": [
    "#exercise 4\n",
    "#B\n",
    "\n",
    "def fac2(n):\n",
    "    a,b=1,1\n",
    "    for i in range(1, n+1):\n",
    "        a, b = a+1, b*a\n",
    "    return b\n",
    "\n",
    "\n",
    "x = int(input('Set the value of x (float): '))     \n",
    "print(fac2(x))"
   ]
  },
  {
   "cell_type": "markdown",
   "metadata": {},
   "source": [
    "5\\. Use HOFs (zip in particular) to compute the weight of a circle, a disk and a sphere, assuming different radii and different densities:\n",
    "\n",
    "```python\n",
    "densities = {\"Al\" : [0.5, 1, 2], \"Fe\" : [3, 4, 5], \"Pb\" : [15, 20, 30]}\n",
    "radii = [1, 2, 3]\n",
    "```\n",
    "\n",
    "where the entries of the dictionary's values are the linear, superficial and volumetric densities of the materials respectively.\n",
    "\n",
    "Subsequently, define a list using a comprehension with three lambda functions that compute the circumference, the area and the volume for a given radius.\n"
   ]
  },
  {
   "cell_type": "code",
   "execution_count": 58,
   "metadata": {},
   "outputs": [
    {
     "name": "stdout",
     "output_type": "stream",
     "text": [
      "A circle (radius=1) of Al weights 3.141592653589793\n",
      "A disk (radius=1) of Al weights 3.141592653589793\n",
      "A sphere (radius=1) of Al weights 8.377580409572781\n",
      "\n",
      "\n",
      "A circle (radius=2) of Al weights 6.283185307179586\n",
      "A disk (radius=2) of Al weights 12.566370614359172\n",
      "A sphere (radius=2) of Al weights 67.02064327658225\n",
      "\n",
      "\n",
      "A circle (radius=3) of Al weights 9.42477796076938\n",
      "A disk (radius=3) of Al weights 28.274333882308138\n",
      "A sphere (radius=3) of Al weights 226.1946710584651\n",
      "\n",
      "\n",
      "A circle (radius=1) of Fe weights 18.84955592153876\n",
      "A disk (radius=1) of Fe weights 12.566370614359172\n",
      "A sphere (radius=1) of Fe weights 20.943951023931955\n",
      "\n",
      "\n",
      "A circle (radius=2) of Fe weights 37.69911184307752\n",
      "A disk (radius=2) of Fe weights 50.26548245743669\n",
      "A sphere (radius=2) of Fe weights 167.55160819145564\n",
      "\n",
      "\n",
      "A circle (radius=3) of Fe weights 56.548667764616276\n",
      "A disk (radius=3) of Fe weights 113.09733552923255\n",
      "A sphere (radius=3) of Fe weights 565.4866776461628\n",
      "\n",
      "\n",
      "A circle (radius=1) of Pb weights 94.24777960769379\n",
      "A disk (radius=1) of Pb weights 62.83185307179586\n",
      "A sphere (radius=1) of Pb weights 125.66370614359171\n",
      "\n",
      "\n",
      "A circle (radius=2) of Pb weights 188.49555921538757\n",
      "A disk (radius=2) of Pb weights 251.32741228718345\n",
      "A sphere (radius=2) of Pb weights 1005.3096491487337\n",
      "\n",
      "\n",
      "A circle (radius=3) of Pb weights 282.7433388230814\n",
      "A disk (radius=3) of Pb weights 565.4866776461628\n",
      "A sphere (radius=3) of Pb weights 3392.9200658769764\n",
      "\n",
      "\n"
     ]
    }
   ],
   "source": [
    "#exercise 5\n",
    "\n",
    "from math import pi\n",
    "\n",
    "densities = {\"Al\" : [0.5, 1, 2], \"Fe\" : [3, 4, 5], \"Pb\" : [15, 20, 30]}\n",
    "radii = [1, 2, 3]\n",
    "\n",
    "functions=[lambda x,y : 2*pi*x*y, lambda x,y : pi*y*x**2, lambda x,y : 4*pi*y*x**3/3]\n",
    "shapes=['circle', 'disk', 'sphere']\n",
    "\n",
    "for element in densities: \n",
    "    for r in radii:\n",
    "#        print('Considering radius =', r, ':')\n",
    "        for f,density,shape in zip(functions, densities[element],shapes):\n",
    "            print('A', shape, '(radius='+ str(r)+') of', element, 'weights', f(r, density)) \n",
    "        print('\\n')"
   ]
  },
  {
   "cell_type": "markdown",
   "metadata": {},
   "source": [
    "6\\. Edit the class defintion to add an instance attribute of `is_hungry = True` to the Dog class. Then add a method called `eat()` which changes the value of `is_hungry` to `False` when called. Figure out the best way to instantiate the dog objects and to feed the dogs, e.g. call the `eat()` method for all instances. Finally, print “My dogs are hungry.” or “My dogs are not hungry.” if all of them have `is_hungry = True` or `False`, respectively. The final output should look like this:\n",
    "\n",
    "`I have 3 dogs. \n",
    "Tom is 6. \n",
    "Fletcher is 7. \n",
    "Larry is 9. \n",
    "And they're all mammals, of course. \n",
    "My dogs are not hungry.\n",
    "`\n",
    "\n",
    "```python\n",
    "# Parent class\n",
    "class Dog:\n",
    "\n",
    "    # Class attribute\n",
    "    species = 'mammal'\n",
    "\n",
    "    # Initializer / Instance attributes\n",
    "    def __init__(self, name, age):\n",
    "        self.name = name\n",
    "        self.age = age\n",
    "\n",
    "    # instance method\n",
    "    def description(self):\n",
    "        return \"{} is {} years old\".format(self.name, self.age)\n",
    "\n",
    "    # instance method\n",
    "    def speak(self, sound):\n",
    "        return \"{} says {}\".format(self.name, sound)\n",
    "\n",
    "# Child class (inherits from Dog class)\n",
    "class RussellTerrier(Dog):\n",
    "    def run(self, speed):\n",
    "        return \"{} runs {}\".format(self.name, speed)\n",
    "\n",
    "# Child class (inherits from Dog class)\n",
    "class Bulldog(Dog):\n",
    "    def run(self, speed):\n",
    "        return \"{} runs {}\".format(self.name, speed)\n",
    "```"
   ]
  },
  {
   "cell_type": "code",
   "execution_count": 29,
   "metadata": {},
   "outputs": [
    {
     "name": "stdout",
     "output_type": "stream",
     "text": [
      "I have 3 dogs.\n",
      "Tom is 6 years old.\n",
      "Fletcher is 7 years old.\n",
      "Larry is 9 years old.\n",
      "They're all mammal of course.\n",
      "My dogs are not hungry.\n"
     ]
    }
   ],
   "source": [
    "#exercise 6\n",
    "\n",
    "# Parent class\n",
    "class Dog:\n",
    "\n",
    "    # Class attribute\n",
    "    species = 'mammal'\n",
    "\n",
    "    # Initializer / Instance attributes\n",
    "    def __init__(self, name, age, is_hungry):\n",
    "        self.name = name\n",
    "        self.age = age\n",
    "        self.is_hungry = is_hungry\n",
    "        \n",
    "    # instance method\n",
    "    def description(self):\n",
    "        return \"{} is {} years old.\".format(self.name, self.age)\n",
    "\n",
    "    # instance method\n",
    "    def speak(self, sound):\n",
    "        return \"{} says {}.\".format(self.name, sound)\n",
    "    \n",
    "    # instance method\n",
    "    def eat(self, is_hungry):\n",
    "        is_hungry=False\n",
    "        return \n",
    "\n",
    "# Child class (inherits from Dog class)\n",
    "class RussellTerrier(Dog):\n",
    "    def run(self, speed):\n",
    "        return \"{} runs {}.\".format(self.name, speed)\n",
    "\n",
    "# Child class (inherits from Dog class)\n",
    "class Bulldog(Dog):\n",
    "    def run(self, speed):\n",
    "        return \"{} runs {}.\".format(self.name, speed)\n",
    "\n",
    "    \n",
    "    \n",
    "dog1 = Dog(\"Tom\", 6, True)\n",
    "dog2 = Dog(\"Fletcher\", 7, False)\n",
    "dog3 = Dog(\"Larry\", 9, True)\n",
    "dogs=[dog1,dog2,dog3]\n",
    "\n",
    "def feeding(dogs):\n",
    "    for i in dogs:\n",
    "        if i.is_hungry==True:\n",
    "            i.is_hungry=False\n",
    "    return 'My dogs are not hungry.'\n",
    "    \n",
    "print('I have', len(dogs), 'dogs.')\n",
    "for i in dogs:\n",
    "    print(i.description())\n",
    "print(\"They're all\", dog1.species, \"of course.\")\n",
    "print(feeding(dogs))\n",
    "\n",
    "#feeding(dogs)\n",
    "#print(dog1.is_hungry) #After applying the function I'll get False"
   ]
  }
 ],
 "metadata": {
  "kernelspec": {
   "display_name": "Python 3 (ipykernel)",
   "language": "python",
   "name": "python3"
  },
  "language_info": {
   "codemirror_mode": {
    "name": "ipython",
    "version": 3
   },
   "file_extension": ".py",
   "mimetype": "text/x-python",
   "name": "python",
   "nbconvert_exporter": "python",
   "pygments_lexer": "ipython3",
   "version": "3.8.10"
  }
 },
 "nbformat": 4,
 "nbformat_minor": 2
}
