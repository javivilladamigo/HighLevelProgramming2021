{
 "cells": [
  {
   "cell_type": "markdown",
   "metadata": {},
   "source": [
    "1. Write the following expressions using the list comprehension"
   ]
  },
  {
   "cell_type": "code",
   "execution_count": 1,
   "metadata": {},
   "outputs": [
    {
     "name": "stdout",
     "output_type": "stream",
     "text": [
      "[(0, 0), (0, 1), (0, 2), (0, 3), (1, 0), (1, 1), (1, 2), (1, 3), (2, 0), (2, 1), (2, 2), (2, 3)]\n",
      "[1, 9, 25, 49, 81]\n"
     ]
    }
   ],
   "source": [
    "# 1\n",
    "ans = []\n",
    "for i in range(3):\n",
    "    for j in range(4):\n",
    "        ans.append((i, j))\n",
    "print(ans)\n",
    "\n",
    "# 2\n",
    "ans = map(lambda x: x * x, filter(lambda x: x % 2 == 1, range(10)))\n",
    "print(list(ans))"
   ]
  },
  {
   "cell_type": "code",
   "execution_count": 2,
   "metadata": {},
   "outputs": [
    {
     "name": "stdout",
     "output_type": "stream",
     "text": [
      "[(0, 0), (0, 1), (0, 2), (0, 3), (1, 0), (1, 1), (1, 2), (1, 3), (2, 0), (2, 1), (2, 2), (2, 3)]\n",
      "[1, 9, 25, 49, 81]\n"
     ]
    }
   ],
   "source": [
    "#1\n",
    "ans = []\n",
    "ans = [(i,j) for i in range(3) for j in range(4)]\n",
    "print(ans)\n",
    "\n",
    "#2\n",
    "ans =[x**2 for x in range(10) if x % 2 == 1]\n",
    "print(ans)"
   ]
  },
  {
   "cell_type": "markdown",
   "metadata": {},
   "source": [
    "2\\. Convert the function $f$ into a function that doesn't use global variables and that does not modify the original list"
   ]
  },
  {
   "cell_type": "code",
   "execution_count": 3,
   "metadata": {},
   "outputs": [
    {
     "name": "stdout",
     "output_type": "stream",
     "text": [
      "[1, 2, 3, 0, 1, 2, 3, 4]\n",
      "[1, 2, 3, 0, 1, 2, 3, 4]\n"
     ]
    }
   ],
   "source": [
    "x = 5\n",
    "def f(alist):\n",
    "    for i in range(x):\n",
    "         alist.append(i)\n",
    "    return alist\n",
    "\n",
    "alist = [1,2,3]\n",
    "ans = f(alist)\n",
    "print(ans)\n",
    "print(alist) # alist has been changed!"
   ]
  },
  {
   "cell_type": "code",
   "execution_count": 4,
   "metadata": {},
   "outputs": [
    {
     "name": "stdout",
     "output_type": "stream",
     "text": [
      "[1, 2, 3, 0, 1, 2, 3, 4]\n",
      "[1, 2, 3]\n"
     ]
    }
   ],
   "source": [
    "x = 5\n",
    "def f(alist):\n",
    "    blist=alist[:]\n",
    "    for i in range(x):\n",
    "         blist.append(i)\n",
    "    return blist\n",
    "\n",
    "alist = [1,2,3]\n",
    "ans = f(alist)\n",
    "print(ans)\n",
    "print(alist) "
   ]
  },
  {
   "cell_type": "markdown",
   "metadata": {},
   "source": [
    "3\\. Write a `decorator` hello that makes every wrapped function print “Hello!”, i.e. something like:\n",
    "\n",
    "```python\n",
    "@hello\n",
    "def square(x):\n",
    "    return x*x\n",
    "```\n",
    "\n"
   ]
  },
  {
   "cell_type": "code",
   "execution_count": 5,
   "metadata": {},
   "outputs": [
    {
     "name": "stdout",
     "output_type": "stream",
     "text": [
      "Hello!\n",
      "9\n"
     ]
    }
   ],
   "source": [
    "def hello(func):\n",
    "    def wrapper(x):\n",
    "        print(\"Hello!\")\n",
    "        return func(x)\n",
    "    return wrapper\n",
    "\n",
    "def square(x):\n",
    "    return x*x\n",
    "\n",
    "square = hello(square)\n",
    "print(square(3))"
   ]
  },
  {
   "cell_type": "markdown",
   "metadata": {},
   "source": [
    "4\\. Write the factorial function in two different ways, so that it a) does and b) does not use recursion."
   ]
  },
  {
   "cell_type": "code",
   "execution_count": 14,
   "metadata": {},
   "outputs": [
    {
     "name": "stdout",
     "output_type": "stream",
     "text": [
      "362880\n",
      "362880\n"
     ]
    }
   ],
   "source": [
    "n=9\n",
    "\n",
    "#a\n",
    "def factorial(n):\n",
    "    fact=1\n",
    "    for i in range (1, n+1):\n",
    "        fact=fact*i\n",
    "    return fact\n",
    "    \n",
    "print(factorial(n))\n",
    "\n",
    "#\n",
    "def factorial_recursion(n):\n",
    "    # base case\n",
    "    if n==1:\n",
    "        return 1\n",
    "    elif n==0:\n",
    "        return 0\n",
    "    # recursive case\n",
    "    else:\n",
    "        return n*factorial_recursion(n-1)\n",
    "    \n",
    "print(factorial_recursion(n))"
   ]
  },
  {
   "cell_type": "markdown",
   "metadata": {},
   "source": [
    "5\\. Use HOFs (zip in particular) to compute the weight of a circle, a disk and a sphere, assuming different radii and different densities:\n",
    "\n",
    "```python\n",
    "densities = {\"Al\" : [0.5, 1, 2], \"Fe\" : [3, 4, 5], \"Pb\" : [15, 20, 30]}\n",
    "radii = [1, 2, 3]\n",
    "```\n",
    "\n",
    "where the entries of the dictionary's values are the linear, superficial and volumetric densities of the materials respectively.\n",
    "\n",
    "Subsequently, define a list using a comprehension with three lambda functions that compute the circumference, the area and the volume for a given radius.\n"
   ]
  },
  {
   "cell_type": "code",
   "execution_count": 33,
   "metadata": {},
   "outputs": [
    {
     "name": "stdout",
     "output_type": "stream",
     "text": [
      "el = Al, r = 1, d = 0.5, w = 3.141592653589793\n",
      "el = Al, r = 1, d = 1, w = 3.141592653589793\n",
      "el = Al, r = 1, d = 2, w = 8.377580409572781\n",
      "el = Al, r = 2, d = 0.5, w = 6.283185307179586\n",
      "el = Al, r = 2, d = 1, w = 12.566370614359172\n",
      "el = Al, r = 2, d = 2, w = 67.02064327658225\n",
      "el = Al, r = 3, d = 0.5, w = 9.42477796076938\n",
      "el = Al, r = 3, d = 1, w = 28.274333882308138\n",
      "el = Al, r = 3, d = 2, w = 226.1946710584651\n",
      "el = Fe, r = 1, d = 3, w = 18.84955592153876\n",
      "el = Fe, r = 1, d = 4, w = 12.566370614359172\n",
      "el = Fe, r = 1, d = 5, w = 20.94395102393195\n",
      "el = Fe, r = 2, d = 3, w = 37.69911184307752\n",
      "el = Fe, r = 2, d = 4, w = 50.26548245743669\n",
      "el = Fe, r = 2, d = 5, w = 167.5516081914556\n",
      "el = Fe, r = 3, d = 3, w = 56.548667764616276\n",
      "el = Fe, r = 3, d = 4, w = 113.09733552923255\n",
      "el = Fe, r = 3, d = 5, w = 565.4866776461628\n",
      "el = Pb, r = 1, d = 15, w = 94.24777960769379\n",
      "el = Pb, r = 1, d = 20, w = 62.83185307179586\n",
      "el = Pb, r = 1, d = 30, w = 125.66370614359171\n",
      "el = Pb, r = 2, d = 15, w = 188.49555921538757\n",
      "el = Pb, r = 2, d = 20, w = 251.32741228718345\n",
      "el = Pb, r = 2, d = 30, w = 1005.3096491487337\n",
      "el = Pb, r = 3, d = 15, w = 282.7433388230814\n",
      "el = Pb, r = 3, d = 20, w = 565.4866776461628\n",
      "el = Pb, r = 3, d = 30, w = 3392.9200658769764\n",
      "\n",
      "radius: 2 circumference, area, volume : [12.566370614359172, 12.566370614359172, 33.510321638291124]\n"
     ]
    }
   ],
   "source": [
    "from math import pi \n",
    "\n",
    "densities = {\"Al\" : [0.5, 1, 2], \"Fe\" : [3, 4, 5], \"Pb\" : [15, 20, 30]}\n",
    "radii = [1, 2, 3]\n",
    "\n",
    "w_circle = lambda r, d: 2*pi*r*d\n",
    "w_disk = lambda r, d: pi*r*r*d\n",
    "w_sphere =lambda r, d : 4/3*pi*r*r*r*d\n",
    "\n",
    "w_f=[w_circle, w_disk, w_sphere]\n",
    "\n",
    "for element in densities:\n",
    "    for r in radii:\n",
    "        for d, f_w in zip(densities[element], w_f):\n",
    "            print(\"el = {}, r = {}, d = {}, w = {}\".format(element, r, d, f_w(r, d)))\n",
    "\n",
    "            \n",
    "\n",
    "circonference = lambda r : 2*pi*r\n",
    "area = lambda r : pi*r*r\n",
    "volume =lambda r : 4/3*pi*r*r*r\n",
    "\n",
    "functions=[circonference, area, volume]\n",
    "radius = 2\n",
    "list_cav = [f(radius) for f in functions]\n",
    "\n",
    "print(\"\\nradius: {} circumference, area, volume : {}\".format(radius, list_cav))"
   ]
  },
  {
   "cell_type": "markdown",
   "metadata": {},
   "source": [
    "6\\. Edit the class defintion to add an instance attribute of `is_hungry = True` to the Dog class. Then add a method called `eat()` which changes the value of `is_hungry` to `False` when called. Figure out the best way to instantiate the dog objects and to feed the dogs, e.g. call the `eat()` method for all instances. Finally, print “My dogs are hungry.” or “My dogs are not hungry.” if all of them have `is_hungry = True` or `False`, respectively. The final output should look like this:\n",
    "\n",
    "`I have 3 dogs. \n",
    "Tom is 6. \n",
    "Fletcher is 7. \n",
    "Larry is 9. \n",
    "And they're all mammals, of course. \n",
    "My dogs are not hungry.\n",
    "`\n",
    "\n",
    "```python\n",
    "# Parent class\n",
    "class Dog:\n",
    "\n",
    "    # Class attribute\n",
    "    species = 'mammal'\n",
    "\n",
    "    # Initializer / Instance attributes\n",
    "    def __init__(self, name, age):\n",
    "        self.name = name\n",
    "        self.age = age\n",
    "\n",
    "    # instance method\n",
    "    def description(self):\n",
    "        return \"{} is {} years old\".format(self.name, self.age)\n",
    "\n",
    "    # instance method\n",
    "    def speak(self, sound):\n",
    "        return \"{} says {}\".format(self.name, sound)\n",
    "\n",
    "# Child class (inherits from Dog class)\n",
    "class RussellTerrier(Dog):\n",
    "    def run(self, speed):\n",
    "        return \"{} runs {}\".format(self.name, speed)\n",
    "\n",
    "# Child class (inherits from Dog class)\n",
    "class Bulldog(Dog):\n",
    "    def run(self, speed):\n",
    "        return \"{} runs {}\".format(self.name, speed)\n",
    "```"
   ]
  },
  {
   "cell_type": "code",
   "execution_count": 35,
   "metadata": {},
   "outputs": [],
   "source": [
    "# Parent class\n",
    "class Dog:\n",
    "\n",
    "    # Class attribute\n",
    "    species = 'mammal'\n",
    "    is_hungry = True\n",
    "\n",
    "    # Initializer / Instance attributes\n",
    "    def __init__(self, name, age):\n",
    "        self.name = name\n",
    "        self.age = age\n",
    "\n",
    "    # instance method\n",
    "    def description(self):\n",
    "        return \"{} is {} years old\".format(self.name, self.age)\n",
    "\n",
    "    # instance method\n",
    "    def speak(self, sound):\n",
    "        return \"{} says {}\".format(self.name, sound)\n",
    "    \n",
    "    def eat(self):\n",
    "        self.is_hungry=False\n",
    "\n",
    "# Child class (inherits from Dog class)\n",
    "class RussellTerrier(Dog):\n",
    "    def run(self, speed):\n",
    "        return \"{} runs {}\".format(self.name, speed)\n",
    "\n",
    "# Child class (inherits from Dog class)\n",
    "class Bulldog(Dog):\n",
    "    def run(self, speed):\n",
    "        return \"{} runs {}\".format(self.name, speed)\n",
    "    \n",
    "    "
   ]
  },
  {
   "cell_type": "code",
   "execution_count": 38,
   "metadata": {},
   "outputs": [
    {
     "name": "stdout",
     "output_type": "stream",
     "text": [
      "I have 3 dogs\n",
      "argo is 7\n",
      "thor is 15\n",
      "bobi is 4\n",
      "And they're all mammals, of course.\n",
      "My dogs are not hungry.\n"
     ]
    }
   ],
   "source": [
    "\n",
    "dogs=[RussellTerrier(\"argo\", 7), Bulldog(\"thor\", 15), RussellTerrier(\"bobi\", 4)]\n",
    "print(\"I have {} dogs\".format(len(dogs)))\n",
    "mammals=[]\n",
    "hungry=[]\n",
    "\n",
    "for dog in dogs:\n",
    "    dog.eat()\n",
    "    print(\"{} is {}\".format(dog.name, dog.age))\n",
    "    \n",
    "    if dog.species==\"mammal\":\n",
    "        mammals.append(dog)\n",
    "    \n",
    "    if dog.is_hungry:\n",
    "        hungry.append(dog)\n",
    "\n",
    "if len(mammals)==len(dogs):\n",
    "    print(\"And they're all mammals, of course.\")\n",
    "    \n",
    "if len(hungry)==len(dogs):\n",
    "    print(\"My dogs are hungry.\")\n",
    "elif len(hungry)==0:\n",
    "    print(\"My dogs are not hungry.\")"
   ]
  },
  {
   "cell_type": "code",
   "execution_count": null,
   "metadata": {},
   "outputs": [],
   "source": []
  },
  {
   "cell_type": "code",
   "execution_count": null,
   "metadata": {},
   "outputs": [],
   "source": []
  }
 ],
 "metadata": {
  "kernelspec": {
   "display_name": "Python 3",
   "language": "python",
   "name": "python3"
  },
  "language_info": {
   "codemirror_mode": {
    "name": "ipython",
    "version": 3
   },
   "file_extension": ".py",
   "mimetype": "text/x-python",
   "name": "python",
   "nbconvert_exporter": "python",
   "pygments_lexer": "ipython3",
   "version": "3.7.10"
  }
 },
 "nbformat": 4,
 "nbformat_minor": 2
}
