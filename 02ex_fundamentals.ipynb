{
 "cells": [
  {
   "cell_type": "markdown",
   "metadata": {},
   "source": [
    "1. Write the following expressions using the list comprehension"
   ]
  },
  {
   "cell_type": "code",
   "execution_count": 1,
   "metadata": {},
   "outputs": [
    {
     "name": "stdout",
     "output_type": "stream",
     "text": [
      "[(0, 0), (0, 1), (0, 2), (0, 3), (1, 0), (1, 1), (1, 2), (1, 3), (2, 0), (2, 1), (2, 2), (2, 3)]\n",
      "[1, 9, 25, 49, 81]\n"
     ]
    }
   ],
   "source": [
    "# 1\n",
    "ans = []\n",
    "for i in range(3):\n",
    "    for j in range(4):\n",
    "        ans.append((i, j))\n",
    "print(ans)\n",
    "\n",
    "# 2\n",
    "ans = map(lambda x: x * x, filter(lambda x: x % 2 == 1, range(10)))\n",
    "print(list(ans))"
   ]
  },
  {
   "cell_type": "code",
   "execution_count": 15,
   "metadata": {},
   "outputs": [
    {
     "name": "stdout",
     "output_type": "stream",
     "text": [
      "[(0, 0), (0, 1), (0, 2), (0, 3), (1, 0), (1, 1), (1, 2), (1, 3), (2, 0), (2, 1), (2, 2), (2, 3)]\n",
      "[1, 9, 25, 49, 81]\n"
     ]
    }
   ],
   "source": [
    "# 1\n",
    "ans = [(x,y) for x in range(3) for y in range(4)]\n",
    "print(ans)\n",
    "\n",
    "# 2\n",
    "ans2 = [x**2 for x in range(10) if x % 2 == 1 ]\n",
    "print(ans2)"
   ]
  },
  {
   "cell_type": "markdown",
   "metadata": {},
   "source": [
    "2\\. Convert the function $f$ into a function that doesn't use global variables and that does not modify the original list"
   ]
  },
  {
   "cell_type": "code",
   "execution_count": 29,
   "metadata": {},
   "outputs": [
    {
     "name": "stdout",
     "output_type": "stream",
     "text": [
      "[1, 2, 3, 0, 1, 2, 3, 4]\n",
      "[1, 2, 3, 0, 1, 2, 3, 4]\n"
     ]
    }
   ],
   "source": [
    "x = 5\n",
    "def f(alist):\n",
    "    for i in range(x):\n",
    "         alist.append(i)\n",
    "    return alist\n",
    "\n",
    "alist = [1,2,3]\n",
    "ans = f(alist)\n",
    "print(ans)\n",
    "print(alist) # alist has been changed!"
   ]
  },
  {
   "cell_type": "code",
   "execution_count": 137,
   "metadata": {},
   "outputs": [
    {
     "name": "stdout",
     "output_type": "stream",
     "text": [
      "[1, 2, 3, 0, 1, 2, 3, 4]\n",
      "[1, 2, 3]\n"
     ]
    }
   ],
   "source": [
    "x = 5\n",
    "def f(alist,n):\n",
    "    newlist = alist.copy()\n",
    "    for i in range(n):\n",
    "         newlist.append(i)\n",
    "    return newlist\n",
    "\n",
    "\n",
    "anotherlist = [1,2,3]\n",
    "ans = f(anotherlist,x)\n",
    "print(ans)\n",
    "print(anotherlist) # anotherlist has NOT been changed!"
   ]
  },
  {
   "cell_type": "markdown",
   "metadata": {},
   "source": [
    "3\\. Write a `decorator` hello that makes every wrapped function print “Hello!”, i.e. something like:\n",
    "\n",
    "```python\n",
    "@hello\n",
    "def square(x):\n",
    "    return x*x\n",
    "```\n",
    "\n"
   ]
  },
  {
   "cell_type": "code",
   "execution_count": 13,
   "metadata": {},
   "outputs": [
    {
     "name": "stdout",
     "output_type": "stream",
     "text": [
      "Hello!\n",
      "100\n",
      "Hello!\n",
      "64\n"
     ]
    }
   ],
   "source": [
    "def hello(func):\n",
    "    def wrapper(*args, **kwargs):\n",
    "        print(\"Hello!\")\n",
    "        return func(*args, **kwargs)\n",
    "    return wrapper\n",
    "\n",
    "@hello\n",
    "def square(x):\n",
    "    return x**2\n",
    "\n",
    "def sixth(x):\n",
    "    return (square(x))**3\n",
    "\n",
    "print(square(10))\n",
    "print(sixth(2))\n"
   ]
  },
  {
   "cell_type": "markdown",
   "metadata": {},
   "source": [
    "4\\. Write the factorial function in two different ways, so that it a) does and b) does not use recursion."
   ]
  },
  {
   "cell_type": "code",
   "execution_count": 81,
   "metadata": {},
   "outputs": [
    {
     "name": "stdout",
     "output_type": "stream",
     "text": [
      "[1, 1, 2, 6, 24, 120, 720, 5040, 40320, 362880]\n",
      "[1, 1, 2, 6, 24, 120, 720, 5040, 40320, 362880]\n"
     ]
    }
   ],
   "source": [
    "def fact1(n):\n",
    "    \"\"\"Factorial with recursion.\"\"\"\n",
    "    if isinstance(n,int) and n >= 0:\n",
    "        if n == 0 or n == 1:\n",
    "            return 1\n",
    "        else:\n",
    "            return ( n * fact1(n-1) )\n",
    "    else:\n",
    "        print(\"Factorials are defined for positive integers numbers\")\n",
    "   \n",
    "print([fact1(i) for i in range(10)])\n",
    "\n",
    "def fact2(n):\n",
    "    \"\"\"Factorial without recursion.\"\"\"\n",
    "    if isinstance(n,int) and n >= 0:\n",
    "        a = 1\n",
    "        for i in range(1, n+1):\n",
    "            a = a * i \n",
    "        return a \n",
    "    else:\n",
    "        print(\"Factorials are defined for positive integers numbers\")\n",
    "   \n",
    "print([fact2(i) for i in range(10)])\n"
   ]
  },
  {
   "cell_type": "markdown",
   "metadata": {},
   "source": [
    "5\\. Use HOFs (zip in particular) to compute the weight of a circle, a disk and a sphere, assuming different radii and different densities:\n",
    "\n",
    "```python\n",
    "densities = {\"Al\" : [0.5, 1, 2], \"Fe\" : [3, 4, 5], \"Pb\" : [15, 20, 30]}\n",
    "radii = [1, 2, 3]\n",
    "```\n",
    "\n",
    "where the entries of the dictionary's values are the linear, superficial and volumetric densities of the materials respectively.\n",
    "\n",
    "Subsequently, define a list using a comprehension with three lambda functions that compute the circumference, the area and the volume for a given radius.\n"
   ]
  },
  {
   "cell_type": "code",
   "execution_count": 30,
   "metadata": {},
   "outputs": [
    {
     "name": "stdout",
     "output_type": "stream",
     "text": [
      "Weight of a  circle  with radius = 1 : \n",
      "Aluminum: 3.141592653589793 \n",
      "Iron: 18.84955592153876 \n",
      "Lead: 94.24777960769379\n",
      "Weight of a  circle  with radius = 2 : \n",
      "Aluminum: 6.283185307179586 \n",
      "Iron: 37.69911184307752 \n",
      "Lead: 188.49555921538757\n",
      "Weight of a  circle  with radius = 3 : \n",
      "Aluminum: 9.42477796076938 \n",
      "Iron: 56.548667764616276 \n",
      "Lead: 282.7433388230814\n",
      "Weight of a  disk  with radius = 1 : \n",
      "Aluminum: 3.141592653589793 \n",
      "Iron: 12.566370614359172 \n",
      "Lead: 62.83185307179586\n",
      "Weight of a  disk  with radius = 2 : \n",
      "Aluminum: 12.566370614359172 \n",
      "Iron: 50.26548245743669 \n",
      "Lead: 251.32741228718345\n",
      "Weight of a  disk  with radius = 3 : \n",
      "Aluminum: 28.274333882308138 \n",
      "Iron: 113.09733552923255 \n",
      "Lead: 565.4866776461628\n",
      "Weight of a  sphere  with radius = 1 : \n",
      "Aluminum: 8.377580409572781 \n",
      "Iron: 20.94395102393195 \n",
      "Lead: 125.66370614359171\n",
      "Weight of a  sphere  with radius = 2 : \n",
      "Aluminum: 67.02064327658225 \n",
      "Iron: 167.5516081914556 \n",
      "Lead: 1005.3096491487337\n",
      "Weight of a  sphere  with radius = 3 : \n",
      "Aluminum: 226.1946710584651 \n",
      "Iron: 565.4866776461628 \n",
      "Lead: 3392.9200658769764\n"
     ]
    }
   ],
   "source": [
    "from math import pi\n",
    "\n",
    "densities = {\"Al\":[0.5, 1, 2], \"Fe\":[3, 4, 5], \"Pb\": [15, 20, 30]}\n",
    "radii = [1,2,3]\n",
    "\n",
    "lambda_fun = [lambda x: 2*pi*x, lambda x: pi*x*x, lambda x: 4/3*pi*x*x*x]\n",
    "\n",
    "shapes = (\"circle\", \"disk\", \"sphere\")\n",
    "\n",
    "for a,f,p,i in zip(densities[\"Al\"],densities[\"Fe\"],densities[\"Pb\"],range(3)):\n",
    "    j=0\n",
    "    for r in map(lambda_fun[i], radii):\n",
    "        print(\"Weight of a \",shapes[i], \" with radius =\",radii[j],\": \\nAluminum:\", a * r,\"\\nIron:\", f * r,\"\\nLead:\",p * r)\n",
    "        j += 1\n",
    "        \n",
    "\n",
    "    "
   ]
  },
  {
   "cell_type": "markdown",
   "metadata": {},
   "source": [
    "6\\. Edit the class defintion to add an instance attribute of `is_hungry = True` to the Dog class. Then add a method called `eat()` which changes the value of `is_hungry` to `False` when called. Figure out the best way to instantiate the dog objects and to feed the dogs, e.g. call the `eat()` method for all instances. Finally, print “My dogs are hungry.” or “My dogs are not hungry.” if all of them have `is_hungry = True` or `False`, respectively. The final output should look like this:\n",
    "\n",
    "`I have 3 dogs. \n",
    "Tom is 6. \n",
    "Fletcher is 7. \n",
    "Larry is 9. \n",
    "And they're all mammals, of course. \n",
    "My dogs are not hungry.\n",
    "`\n",
    "\n",
    "```python\n",
    "# Parent class\n",
    "class Dog:\n",
    "\n",
    "    # Class attribute\n",
    "    species = 'mammal'\n",
    "\n",
    "    # Initializer / Instance attributes\n",
    "    def __init__(self, name, age):\n",
    "        self.name = name\n",
    "        self.age = age\n",
    "\n",
    "    # instance method\n",
    "    def description(self):\n",
    "        return \"{} is {} years old\".format(self.name, self.age)\n",
    "\n",
    "    # instance method\n",
    "    def speak(self, sound):\n",
    "        return \"{} says {}\".format(self.name, sound)\n",
    "\n",
    "# Child class (inherits from Dog class)\n",
    "class RussellTerrier(Dog):\n",
    "    def run(self, speed):\n",
    "        return \"{} runs {}\".format(self.name, speed)\n",
    "\n",
    "# Child class (inherits from Dog class)\n",
    "class Bulldog(Dog):\n",
    "    def run(self, speed):\n",
    "        return \"{} runs {}\".format(self.name, speed)\n",
    "```"
   ]
  },
  {
   "cell_type": "code",
   "execution_count": 31,
   "metadata": {},
   "outputs": [
    {
     "name": "stdout",
     "output_type": "stream",
     "text": [
      "I have 3 dogs.\n",
      "Tom is 6 years old\n",
      "Fletcher is 7 years old\n",
      "Larry is 9 years old\n",
      "And they're all mammals, of course.\n",
      "Before feeding them...\n",
      "My dogs are hungry.\n",
      "\n",
      "We feed the dogs... \n",
      "My dogs are not hungry.\n",
      "\n",
      "Larry is hungry.\n",
      "Some dogs are hungry, others are not.\n",
      "\n"
     ]
    }
   ],
   "source": [
    "# Parent class\n",
    "class Dog:\n",
    "\n",
    "    # Class attribute\n",
    "    species = 'mammal'\n",
    "    # Number of istances\n",
    "    number = 0\n",
    "    # Instances\n",
    "    registry = []\n",
    "\n",
    "    # Initializer / Instance attributes\n",
    "    def __init__(self, name, age):\n",
    "        self.registry.append(self)\n",
    "        self.name = name\n",
    "        self.age = age\n",
    "        self.is_hungry = True\n",
    "        Dog.number += 1\n",
    "\n",
    "    # instance method\n",
    "    def description(self):\n",
    "        return \"{} is {} years old\".format(self.name, self.age)\n",
    "\n",
    "    # instance method\n",
    "    def speak(self, sound):\n",
    "        return \"{} says {}\".format(self.name, sound)\n",
    "    \n",
    "    # instance method\n",
    "    def eat(self):\n",
    "        self.is_hungry = False\n",
    "        \n",
    "# Child class (inherits from Dog class)\n",
    "class RussellTerrier(Dog):\n",
    "    def run(self, speed):\n",
    "        return \"{} runs {}\".format(self.name, speed)\n",
    "\n",
    "# Child class (inherits from Dog class)\n",
    "class Bulldog(Dog):\n",
    "    def run(self, speed):\n",
    "        return \"{} runs {}\".format(self.name, speed)\n",
    "\n",
    "    \n",
    "def are_hungry():\n",
    "    def check_if_hungry():\n",
    "        hungrydogs = []\n",
    "        for dog in Dog.registry:\n",
    "            hungrydogs.append(dog.is_hungry)\n",
    "        if all(hungrydogs):\n",
    "            return True\n",
    "        elif all(not x for x in hungrydogs):\n",
    "            return False\n",
    "        else:\n",
    "            return None\n",
    "    hungry = check_if_hungry()\n",
    "    if hungry is None:\n",
    "        return 'Some dogs are hungry, others are not.\\n'\n",
    "    elif hungry:\n",
    "        return 'My dogs are hungry.\\n'\n",
    "    else:\n",
    "        return 'My dogs are not hungry.\\n' \n",
    "     \n",
    "    \n",
    "def feed():\n",
    "    for dog in Dog.registry:\n",
    "        dog.eat()    \n",
    "    print('We feed the dogs... ') \n",
    "\n",
    "def is_he_hungry(dog):\n",
    "    if dog.is_hungry:\n",
    "        return dog.name + ' is hungry.' \n",
    "    else:\n",
    "        return dog.name + ' is not hungry.' \n",
    "\n",
    "\n",
    "# My dogs\n",
    "Tom = Dog('Tom', 6)\n",
    "Fletcher = Dog('Fletcher', 7)\n",
    "Larry = Dog('Larry', 9)\n",
    "\n",
    "print('I have', Dog.number, 'dogs.')\n",
    "\n",
    "for dog in Dog.registry:\n",
    "    print(dog.description())\n",
    "    \n",
    "print(\"And they're all \" + Dog.species + 's, of course.')\n",
    "print('Before feeding them...')\n",
    "print(are_hungry())\n",
    "\n",
    "# Let's feed the dogs\n",
    "feed()\n",
    "print(are_hungry())\n",
    "\n",
    "Larry.is_hungry = True\n",
    "print(ishehungry(Larry))\n",
    "print(are_hungry())\n",
    "\n",
    "\n",
    "\n"
   ]
  },
  {
   "cell_type": "code",
   "execution_count": null,
   "metadata": {},
   "outputs": [],
   "source": []
  }
 ],
 "metadata": {
  "interpreter": {
   "hash": "9456b1e04bb17d199afadefc31a6e4b66a8cbf99c98de71d3cf7688aa286c1b3"
  },
  "kernelspec": {
   "display_name": "Python 3.9.4 64-bit ('root_env': conda)",
   "name": "python3"
  },
  "language_info": {
   "codemirror_mode": {
    "name": "ipython",
    "version": 3
   },
   "file_extension": ".py",
   "mimetype": "text/x-python",
   "name": "python",
   "nbconvert_exporter": "python",
   "pygments_lexer": "ipython3",
   "version": "3.9.4"
  }
 },
 "nbformat": 4,
 "nbformat_minor": 2
}
