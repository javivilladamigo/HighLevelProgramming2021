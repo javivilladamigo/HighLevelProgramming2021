{
 "cells": [
  {
   "cell_type": "markdown",
   "metadata": {},
   "source": [
    "1. Write the following expressions using the list comprehension"
   ]
  },
  {
   "cell_type": "code",
   "execution_count": 1,
   "metadata": {},
   "outputs": [
    {
     "name": "stdout",
     "output_type": "stream",
     "text": [
      "[(0, 0), (0, 1), (0, 2), (0, 3), (1, 0), (1, 1), (1, 2), (1, 3), (2, 0), (2, 1), (2, 2), (2, 3)]\n",
      "[1, 9, 25, 49, 81]\n"
     ]
    }
   ],
   "source": [
    "# 1\n",
    "ans = []\n",
    "for i in range(3):\n",
    "    for j in range(4):\n",
    "        ans.append((i, j))\n",
    "print(ans)\n",
    "\n",
    "# 2\n",
    "ans = map(lambda x: x * x, filter(lambda x: x % 2 == 1, range(10)))\n",
    "print(list(ans))"
   ]
  },
  {
   "cell_type": "code",
   "execution_count": 15,
   "metadata": {},
   "outputs": [
    {
     "name": "stdout",
     "output_type": "stream",
     "text": [
      "[(0, 0), (0, 1), (0, 2), (0, 3), (1, 0), (1, 1), (1, 2), (1, 3), (2, 0), (2, 1), (2, 2), (2, 3)]\n",
      "[1, 9, 25, 49, 81]\n"
     ]
    }
   ],
   "source": [
    "# 1\n",
    "ans = [(x,y) for x in range(3) for y in range(4)]\n",
    "print(ans)\n",
    "\n",
    "# 2\n",
    "ans2 = [x**2 for x in range(10) if x % 2 == 1 ]\n",
    "print(ans2)"
   ]
  },
  {
   "cell_type": "markdown",
   "metadata": {},
   "source": [
    "2\\. Convert the function $f$ into a function that doesn't use global variables and that does not modify the original list"
   ]
  },
  {
   "cell_type": "code",
   "execution_count": 29,
   "metadata": {},
   "outputs": [
    {
     "name": "stdout",
     "output_type": "stream",
     "text": [
      "[1, 2, 3, 0, 1, 2, 3, 4]\n",
      "[1, 2, 3, 0, 1, 2, 3, 4]\n"
     ]
    }
   ],
   "source": [
    "x = 5\n",
    "def f(alist):\n",
    "    for i in range(x):\n",
    "         alist.append(i)\n",
    "    return alist\n",
    "\n",
    "alist = [1,2,3]\n",
    "ans = f(alist)\n",
    "print(ans)\n",
    "print(alist) # alist has been changed!"
   ]
  },
  {
   "cell_type": "code",
   "execution_count": 137,
   "metadata": {},
   "outputs": [
    {
     "name": "stdout",
     "output_type": "stream",
     "text": [
      "[1, 2, 3, 0, 1, 2, 3, 4]\n",
      "[1, 2, 3]\n"
     ]
    }
   ],
   "source": [
    "x = 5\n",
    "def f(alist,n):\n",
    "    newlist = alist.copy()\n",
    "    for i in range(n):\n",
    "         newlist.append(i)\n",
    "    return newlist\n",
    "\n",
    "\n",
    "anotherlist = [1,2,3]\n",
    "ans = f(anotherlist,x)\n",
    "print(ans)\n",
    "print(anotherlist) # anotherlist has NOT been changed!"
   ]
  },
  {
   "cell_type": "markdown",
   "metadata": {},
   "source": [
    "3\\. Write a `decorator` hello that makes every wrapped function print “Hello!”, i.e. something like:\n",
    "\n",
    "```python\n",
    "@hello\n",
    "def square(x):\n",
    "    return x*x\n",
    "```\n",
    "\n"
   ]
  },
  {
   "cell_type": "code",
   "execution_count": 135,
   "metadata": {},
   "outputs": [
    {
     "name": "stdout",
     "output_type": "stream",
     "text": [
      "Hello!\n"
     ]
    },
    {
     "data": {
      "text/plain": [
       "100"
      ]
     },
     "execution_count": 135,
     "metadata": {},
     "output_type": "execute_result"
    }
   ],
   "source": [
    "def hello(func):\n",
    "    def wrapper(*args, **kwargs):\n",
    "        print(\"Hello!\")\n",
    "        return func(*args, **kwargs)\n",
    "    return wrapper\n",
    "\n",
    "@hello\n",
    "def square(x):\n",
    "    return x*x\n",
    "\n",
    "square(10)"
   ]
  },
  {
   "cell_type": "markdown",
   "metadata": {},
   "source": [
    "4\\. Write the factorial function in two different ways, so that it a) does and b) does not use recursion."
   ]
  },
  {
   "cell_type": "code",
   "execution_count": 81,
   "metadata": {},
   "outputs": [
    {
     "name": "stdout",
     "output_type": "stream",
     "text": [
      "[1, 1, 2, 6, 24, 120, 720, 5040, 40320, 362880]\n",
      "[1, 1, 2, 6, 24, 120, 720, 5040, 40320, 362880]\n"
     ]
    }
   ],
   "source": [
    "def fact1(n):\n",
    "    \"\"\"Factorial with recursion.\"\"\"\n",
    "    if isinstance(n,int) and n >= 0:\n",
    "        if n == 0 or n == 1:\n",
    "            return 1\n",
    "        else:\n",
    "            return ( n * fact1(n-1) )\n",
    "    else:\n",
    "        print(\"Factorials are defined for positive integers numbers\")\n",
    "   \n",
    "print([fact1(i) for i in range(10)])\n",
    "\n",
    "def fact2(n):\n",
    "    \"\"\"Factorial without recursion.\"\"\"\n",
    "    if isinstance(n,int) and n >= 0:\n",
    "        a = 1\n",
    "        for i in range(1, n+1):\n",
    "            a = a * i \n",
    "        return a \n",
    "    else:\n",
    "        print(\"Factorials are defined for positive integers numbers\")\n",
    "   \n",
    "print([fact2(i) for i in range(10)])\n"
   ]
  },
  {
   "cell_type": "markdown",
   "metadata": {},
   "source": [
    "5\\. Use HOFs (zip in particular) to compute the weight of a circle, a disk and a sphere, assuming different radii and different densities:\n",
    "\n",
    "```python\n",
    "densities = {\"Al\" : [0.5, 1, 2], \"Fe\" : [3, 4, 5], \"Pb\" : [15, 20, 30]}\n",
    "radii = [1, 2, 3]\n",
    "```\n",
    "\n",
    "where the entries of the dictionary's values are the linear, superficial and volumetric densities of the materials respectively.\n",
    "\n",
    "Subsequently, define a list using a comprehension with three lambda functions that compute the circumference, the area and the volume for a given radius.\n"
   ]
  },
  {
   "cell_type": "code",
   "execution_count": 159,
   "metadata": {},
   "outputs": [
    {
     "name": "stdout",
     "output_type": "stream",
     "text": [
      "3.141592653589793 18.84955592153876 94.24777960769379\n",
      "1.5707963267948966 9.42477796076938 47.12388980384689\n",
      "2.0943951023931953 12.566370614359172 62.831853071795855\n",
      "12.566370614359172 75.39822368615503 376.99111843077515\n",
      "12.566370614359172 75.39822368615503 376.99111843077515\n",
      "33.510321638291124 201.06192982974676 1005.3096491487337\n",
      "28.274333882308138 169.64600329384882 848.2300164692441\n",
      "42.411500823462205 254.46900494077323 1272.345024703866\n",
      "169.64600329384882 1017.8760197630929 5089.380098815464\n",
      "6.283185307179586 25.132741228718345 125.66370614359172\n",
      "3.141592653589793 12.566370614359172 62.83185307179586\n",
      "4.1887902047863905 16.755160819145562 83.7758040957278\n",
      "25.132741228718345 100.53096491487338 502.6548245743669\n",
      "25.132741228718345 100.53096491487338 502.6548245743669\n",
      "67.02064327658225 268.082573106329 1340.412865531645\n",
      "56.548667764616276 226.1946710584651 1130.9733552923256\n",
      "84.82300164692441 339.29200658769764 1696.4600329384882\n",
      "339.29200658769764 1357.1680263507906 6785.840131753953\n",
      "12.566370614359172 31.41592653589793 188.49555921538757\n",
      "6.283185307179586 15.707963267948966 94.24777960769379\n",
      "8.377580409572781 20.94395102393195 125.66370614359171\n",
      "50.26548245743669 125.66370614359172 753.9822368615503\n",
      "50.26548245743669 125.66370614359172 753.9822368615503\n",
      "134.0412865531645 335.1032163829112 2010.6192982974674\n",
      "113.09733552923255 282.7433388230814 1696.4600329384882\n",
      "169.64600329384882 424.11500823462205 2544.690049407732\n",
      "678.5840131753953 1696.4600329384882 10178.760197630929\n"
     ]
    }
   ],
   "source": [
    "from math import pi\n",
    "\n",
    "densities = {\"Al\":[0.5, 1, 2], \"Fe\":[3, 4, 5], \"Pb\": [15, 20, 30]}\n",
    "radii = [1,2,3]\n",
    "\n",
    "lambda_fun = [lambda x: 2*pi*x, lambda x: pi*x*x, lambda x: 4/3*pi*x*x*x]\n",
    "\n",
    "shapes = (\"Circle\", \"Disk\", \"Sphere\")\n",
    "\n",
    "for x,y,z in zip(densities[\"Al\"],densities[\"Fe\"],densities[\"Pb\"]):\n",
    "    for r in radii:\n",
    "        for l in lambda_fun:\n",
    "            a = l(r) * r * x\n",
    "            b = l(r) * r * y\n",
    "            c = l(r) * r * z\n",
    "            print(a,b,c)\n"
   ]
  },
  {
   "cell_type": "markdown",
   "metadata": {},
   "source": [
    "6\\. Edit the class defintion to add an instance attribute of `is_hungry = True` to the Dog class. Then add a method called `eat()` which changes the value of `is_hungry` to `False` when called. Figure out the best way to instantiate the dog objects and to feed the dogs, e.g. call the `eat()` method for all instances. Finally, print “My dogs are hungry.” or “My dogs are not hungry.” if all of them have `is_hungry = True` or `False`, respectively. The final output should look like this:\n",
    "\n",
    "`I have 3 dogs. \n",
    "Tom is 6. \n",
    "Fletcher is 7. \n",
    "Larry is 9. \n",
    "And they're all mammals, of course. \n",
    "My dogs are not hungry.\n",
    "`\n",
    "\n",
    "```python\n",
    "# Parent class\n",
    "class Dog:\n",
    "\n",
    "    # Class attribute\n",
    "    species = 'mammal'\n",
    "\n",
    "    # Initializer / Instance attributes\n",
    "    def __init__(self, name, age):\n",
    "        self.name = name\n",
    "        self.age = age\n",
    "\n",
    "    # instance method\n",
    "    def description(self):\n",
    "        return \"{} is {} years old\".format(self.name, self.age)\n",
    "\n",
    "    # instance method\n",
    "    def speak(self, sound):\n",
    "        return \"{} says {}\".format(self.name, sound)\n",
    "\n",
    "# Child class (inherits from Dog class)\n",
    "class RussellTerrier(Dog):\n",
    "    def run(self, speed):\n",
    "        return \"{} runs {}\".format(self.name, speed)\n",
    "\n",
    "# Child class (inherits from Dog class)\n",
    "class Bulldog(Dog):\n",
    "    def run(self, speed):\n",
    "        return \"{} runs {}\".format(self.name, speed)\n",
    "```"
   ]
  },
  {
   "cell_type": "code",
   "execution_count": 131,
   "metadata": {},
   "outputs": [
    {
     "data": {
      "text/plain": [
       "'My dogs are not hungry'"
      ]
     },
     "execution_count": 131,
     "metadata": {},
     "output_type": "execute_result"
    }
   ],
   "source": [
    "class Dog:\n",
    "\n",
    "    # Class attribute\n",
    "    species = 'mammal'\n",
    "    is_hungry = True\n",
    "    registry = []\n",
    "    # Initializer / Instance attributes\n",
    "    def __init__(self, name, age):\n",
    "        self.name = name\n",
    "        self.age = age\n",
    "        self.registry.append(self)\n",
    "\n",
    "    # instance method\n",
    "    def description(self):\n",
    "        return \"{} is {} years old\".format(self.name, self.age)\n",
    "    \n",
    "    def eat(self):\n",
    "        self.is_hungry = False\n",
    "\n",
    "\n",
    "\n",
    "Tom = Dog(\"Tom\", 6)\n",
    "Fletcher = Dog(\"Fletcher\",7)\n",
    "Larry = Dog(\"Larry\",7)\n",
    "\n",
    "my_dogs = [Tom, Fletcher, Larry]\n",
    "\n",
    "for dog in my_dogs:\n",
    "    dog.eat()\n",
    "\n",
    "for dog in my_dogs:\n",
    "    if dog.is_hungry == False:\n",
    "        check = False\n",
    "        s = \"My dogs are not hungry\"\n",
    "    else:\n",
    "        check = True\n",
    "        s = \"My dogs not hungry\"\n",
    "\n",
    "\n"
   ]
  }
 ],
 "metadata": {
  "interpreter": {
   "hash": "aee8b7b246df8f9039afb4144a1f6fd8d2ca17a180786b69acc140d282b71a49"
  },
  "kernelspec": {
   "display_name": "Python 3.8.7 64-bit",
   "name": "python3"
  },
  "language_info": {
   "codemirror_mode": {
    "name": "ipython",
    "version": 3
   },
   "file_extension": ".py",
   "mimetype": "text/x-python",
   "name": "python",
   "nbconvert_exporter": "python",
   "pygments_lexer": "ipython3",
   "version": "3.8.7"
  }
 },
 "nbformat": 4,
 "nbformat_minor": 2
}
