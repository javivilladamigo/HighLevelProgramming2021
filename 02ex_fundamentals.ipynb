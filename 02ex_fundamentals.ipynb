{
 "cells": [
  {
   "cell_type": "markdown",
   "metadata": {},
   "source": [
    "1. Write the following expressions using the list comprehension"
   ]
  },
  {
   "cell_type": "code",
   "execution_count": 1,
   "metadata": {},
   "outputs": [
    {
     "name": "stdout",
     "output_type": "stream",
     "text": [
      "[(0, 0), (0, 1), (0, 2), (0, 3), (1, 0), (1, 1), (1, 2), (1, 3), (2, 0), (2, 1), (2, 2), (2, 3)]\n",
      "[1, 9, 25, 49, 81]\n"
     ]
    }
   ],
   "source": [
    "# 1\n",
    "ans = []\n",
    "for i in range(3):\n",
    "    for j in range(4):\n",
    "        ans.append((i, j))\n",
    "print(ans)\n",
    "\n",
    "# 2\n",
    "ans = map(lambda x: x * x, filter(lambda x: x % 2 == 1, range(10)))\n",
    "print(list(ans))"
   ]
  },
  {
   "cell_type": "code",
   "execution_count": 2,
   "metadata": {},
   "outputs": [
    {
     "name": "stdout",
     "output_type": "stream",
     "text": [
      "[(0, 0), (0, 1), (0, 2), (0, 3), (1, 0), (1, 1), (1, 2), (1, 3), (2, 0), (2, 1), (2, 2), (2, 3)]\n",
      "[1, 9, 25, 49, 81]\n"
     ]
    }
   ],
   "source": [
    "#1\n",
    "ans = [(i,j) for i in range(3) for j in range(4)] # double for loops are used to convert\n",
    "print(ans)\n",
    "#2\n",
    "ans = [x*x for x in range(10) if x%2 == 1]   # filter is like if, and map is like the first expression of list comp.\n",
    "print(ans)"
   ]
  },
  {
   "cell_type": "markdown",
   "metadata": {},
   "source": [
    "2\\. Convert the function $f$ into a function that doesn't use global variables and that does not modify the original list"
   ]
  },
  {
   "cell_type": "code",
   "execution_count": 3,
   "metadata": {},
   "outputs": [
    {
     "name": "stdout",
     "output_type": "stream",
     "text": [
      "[1, 2, 3, 0, 1, 2, 3, 4]\n",
      "[1, 2, 3, 0, 1, 2, 3, 4]\n"
     ]
    }
   ],
   "source": [
    "x = 5\n",
    "def f(alist):\n",
    "    for i in range(x):\n",
    "         alist.append(i)\n",
    "    return alist\n",
    "\n",
    "alist = [1,2,3]\n",
    "ans = f(alist)\n",
    "print(ans)\n",
    "print(alist) # alist has been changed!"
   ]
  },
  {
   "cell_type": "code",
   "execution_count": 9,
   "metadata": {},
   "outputs": [
    {
     "name": "stdout",
     "output_type": "stream",
     "text": [
      "[1, 2, 3, 0, 1, 2, 3, 4]\n",
      "[1, 2, 3]\n"
     ]
    }
   ],
   "source": [
    "x = 5\n",
    "\n",
    "def f_nomodify(alist):\n",
    "    blist = alist.copy() # copying the list into another one\n",
    "    for i in range(x):\n",
    "        blist.append(i) # doing operations on the copy list\n",
    "    return blist\n",
    "\n",
    "alist = [1,2,3]\n",
    "ans = f_nomodify(alist)\n",
    "print(ans)\n",
    "print(alist) # alist has NOT been changed!"
   ]
  },
  {
   "cell_type": "markdown",
   "metadata": {},
   "source": [
    "3\\. Write a `decorator` hello that makes every wrapped function print “Hello!”, i.e. something like:\n",
    "\n",
    "```python\n",
    "@hello\n",
    "def square(x):\n",
    "    return x*x\n",
    "```\n",
    "\n"
   ]
  },
  {
   "cell_type": "code",
   "execution_count": 41,
   "metadata": {},
   "outputs": [
    {
     "name": "stdout",
     "output_type": "stream",
     "text": [
      "Hello!\n",
      "Square of 5 is: 25\n",
      "Hello!\n"
     ]
    }
   ],
   "source": [
    "def say_hello(func):\n",
    "    def wrapper(*args, **kwargs):  #to make wrapper able to take arguments I used *args, **kwargs arguments\n",
    "        print(\"Hello!\")\n",
    "        func(*args, **kwargs)\n",
    "        print(\"Hello!\")\n",
    "    return wrapper\n",
    "\n",
    "@say_hello\n",
    "def square(x):\n",
    "    print(\"Square of\",x,\"is:\",x*x)\n",
    "    return x*x\n",
    "\n",
    "square(5)"
   ]
  },
  {
   "cell_type": "markdown",
   "metadata": {},
   "source": [
    "4\\. Write the factorial function in two different ways, so that it a) does and b) does not use recursion."
   ]
  },
  {
   "cell_type": "code",
   "execution_count": 33,
   "metadata": {},
   "outputs": [
    {
     "name": "stdout",
     "output_type": "stream",
     "text": [
      "Factorial of 7 is (with recursive method): 5040\n",
      "factorial of 7 (without recursive method) is: 5040\n"
     ]
    }
   ],
   "source": [
    "#PART A, with recursive function\n",
    "\n",
    "def recursive_factorial(x):\n",
    "    if x<0:\n",
    "        print(\"Negative numbers don't have factorial!\")\n",
    "    elif x == 0 or x == 1:\n",
    "        return 1\n",
    "    else:\n",
    "        return x*recursive_factorial(x-1)\n",
    "\n",
    "print(\"Factorial of 7 is (with recursive method):\",recursive_factorial(7))\n",
    "\n",
    "#PART B, without using recursive function\n",
    "\n",
    "def nonrecursive_factorial(x):\n",
    "    start = 1\n",
    "    if x<0:\n",
    "        print(\"Negative numbers don't have factorial\")\n",
    "    else:\n",
    "        for i in range(1,x+1):\n",
    "            start = start*i\n",
    "        print(\"factorial of\",x,\"(without recursive method) is:\", start)\n",
    "\n",
    "nonrecursive_factorial(7)\n",
    "\n",
    "#Here, I feel obliged to say that recursive functions put so much stress on the system complexity.\n",
    "# So, if possible, it is a better practice to use non recursive functions."
   ]
  },
  {
   "cell_type": "markdown",
   "metadata": {},
   "source": [
    "5\\. Use HOFs (zip in particular) to compute the weight of a circle, a disk and a sphere, assuming different radii and different densities:\n",
    "\n",
    "```python\n",
    "densities = {\"Al\" : [0.5, 1, 2], \"Fe\" : [3, 4, 5], \"Pb\" : [15, 20, 30]}\n",
    "radii = [1, 2, 3]\n",
    "```\n",
    "\n",
    "where the entries of the dictionary's values are the linear, superficial and volumetric densities of the materials respectively.\n",
    "\n",
    "Subsequently, define a list using a comprehension with three lambda functions that compute the circumference, the area and the volume for a given radius.\n"
   ]
  },
  {
   "cell_type": "code",
   "execution_count": 35,
   "metadata": {},
   "outputs": [
    {
     "name": "stdout",
     "output_type": "stream",
     "text": [
      "\n",
      "******** PART A ********\n",
      "\n",
      "Weight of Al with shape of Circle with radius = 1 is: 3.141592653589793\n",
      "Weight of Al with shape of Circle with radius = 2 is: 6.283185307179586\n",
      "Weight of Al with shape of Circle with radius = 3 is: 9.42477796076938\n",
      "Weight of Fe with shape of Circle with radius = 1 is: 18.84955592153876\n",
      "Weight of Fe with shape of Circle with radius = 2 is: 37.69911184307752\n",
      "Weight of Fe with shape of Circle with radius = 3 is: 56.548667764616276\n",
      "Weight of Pb with shape of Circle with radius = 1 is: 94.24777960769379\n",
      "Weight of Pb with shape of Circle with radius = 2 is: 188.49555921538757\n",
      "Weight of Pb with shape of Circle with radius = 3 is: 282.7433388230814\n",
      "Weight of Al with shape of Disk with radius = 1 is: 3.141592653589793\n",
      "Weight of Al with shape of Disk with radius = 2 is: 12.566370614359172\n",
      "Weight of Al with shape of Disk with radius = 3 is: 28.274333882308138\n",
      "Weight of Fe with shape of Disk with radius = 1 is: 12.566370614359172\n",
      "Weight of Fe with shape of Disk with radius = 2 is: 50.26548245743669\n",
      "Weight of Fe with shape of Disk with radius = 3 is: 113.09733552923255\n",
      "Weight of Pb with shape of Disk with radius = 1 is: 62.83185307179586\n",
      "Weight of Pb with shape of Disk with radius = 2 is: 251.32741228718345\n",
      "Weight of Pb with shape of Disk with radius = 3 is: 565.4866776461628\n",
      "Weight of Al with shape of Sphere with radius = 1 is: 8.377580409572781\n",
      "Weight of Al with shape of Sphere with radius = 2 is: 67.02064327658225\n",
      "Weight of Al with shape of Sphere with radius = 3 is: 226.19467105846508\n",
      "Weight of Fe with shape of Sphere with radius = 1 is: 20.94395102393195\n",
      "Weight of Fe with shape of Sphere with radius = 2 is: 167.5516081914556\n",
      "Weight of Fe with shape of Sphere with radius = 3 is: 565.4866776461627\n",
      "Weight of Pb with shape of Sphere with radius = 1 is: 125.66370614359171\n",
      "Weight of Pb with shape of Sphere with radius = 2 is: 1005.3096491487337\n",
      "Weight of Pb with shape of Sphere with radius = 3 is: 3392.920065876976\n",
      "\n",
      "******** PART B ********\n",
      "\n",
      "Given radius is: 5 \n",
      "\n",
      "Circumference: 31.41592653589793\n",
      "Area: 78.53981633974483\n",
      "Volume: 523.5987755982989\n"
     ]
    }
   ],
   "source": [
    "from math import pi\n",
    "\n",
    "densities = {\"Al\" : [0.5, 1, 2], \"Fe\" : [3, 4, 5], \"Pb\" : [15, 20, 30]}\n",
    "radii = [1, 2, 3]\n",
    "\n",
    "#PART A, with zip\n",
    "print(\"\\n******** PART A ********\\n\")\n",
    "\n",
    "circ_formula= lambda r: 2 * pi * r\n",
    "area_formula= lambda r: pi * r**2\n",
    "volume_formula=lambda r: 4/3 * pi * (r**3)\n",
    "\n",
    "func_list = [circ_formula,area_formula,volume_formula]\n",
    "density_list = list(zip(densities[\"Al\"],densities[\"Fe\"],densities[\"Pb\"]))\n",
    "materials = [\"Al\", \"Fe\", \"Pb\"]\n",
    "shapes = [\"Circle\", \"Disk\", \"Sphere\"]\n",
    "for j in range(3):\n",
    "    for k in range(3):\n",
    "        for l,m in zip(map(func_list[j],radii),range(3)):\n",
    "            print(\"Weight of\", materials[k] ,\"with shape of\", shapes[j], \"with radius =\", radii[m],\"is:\",density_list[j][k]*l)\n",
    "\n",
    "# PART B   \n",
    "print(\"\\n******** PART B ********\\n\")\n",
    "given_radius = 5\n",
    "\n",
    "answer_list = [operation(given_radius) for operation in func_list]\n",
    "\n",
    "print(\"Given radius is:\", given_radius,\"\\n\")\n",
    "for i in range(3):\n",
    "    if i == 0:\n",
    "        print(\"Circumference:\", answer_list[i])\n",
    "    elif i == 1:\n",
    "        print(\"Area:\", answer_list[i])\n",
    "    else:\n",
    "        print(\"Volume:\", answer_list[i])"
   ]
  },
  {
   "cell_type": "markdown",
   "metadata": {},
   "source": [
    "6\\. Edit the class defintion to add an instance attribute of `is_hungry = True` to the Dog class. Then add a method called `eat()` which changes the value of `is_hungry` to `False` when called. Figure out the best way to instantiate the dog objects and to feed the dogs, e.g. call the `eat()` method for all instances. Finally, print “My dogs are hungry.” or “My dogs are not hungry.” if all of them have `is_hungry = True` or `False`, respectively. The final output should look like this:\n",
    "\n",
    "`I have 3 dogs. \n",
    "Tom is 6. \n",
    "Fletcher is 7. \n",
    "Larry is 9. \n",
    "And they're all mammals, of course. \n",
    "My dogs are not hungry.\n",
    "`\n",
    "\n",
    "```python\n",
    "# Parent class\n",
    "class Dog:\n",
    "\n",
    "    # Class attribute\n",
    "    species = 'mammal'\n",
    "\n",
    "    # Initializer / Instance attributes\n",
    "    def __init__(self, name, age):\n",
    "        self.name = name\n",
    "        self.age = age\n",
    "\n",
    "    # instance method\n",
    "    def description(self):\n",
    "        return \"{} is {} years old\".format(self.name, self.age)\n",
    "\n",
    "    # instance method\n",
    "    def speak(self, sound):\n",
    "        return \"{} says {}\".format(self.name, sound)\n",
    "\n",
    "# Child class (inherits from Dog class)\n",
    "class RussellTerrier(Dog):\n",
    "    def run(self, speed):\n",
    "        return \"{} runs {}\".format(self.name, speed)\n",
    "\n",
    "# Child class (inherits from Dog class)\n",
    "class Bulldog(Dog):\n",
    "    def run(self, speed):\n",
    "        return \"{} runs {}\".format(self.name, speed)\n",
    "```"
   ]
  },
  {
   "cell_type": "code",
   "execution_count": 60,
   "metadata": {},
   "outputs": [
    {
     "name": "stdout",
     "output_type": "stream",
     "text": [
      "I have 3 dogs\n",
      "Tom is 6\n",
      "Fletcher is 7\n",
      "Larry is 9\n",
      "And they're all mammals, of course.\n",
      "My dogs are not hungry.\n"
     ]
    }
   ],
   "source": [
    "GLOBAL_DOG_LIST = []\n",
    "\n",
    "# Parent class\n",
    "class Dog:\n",
    "\n",
    "    # Class attribute\n",
    "    species = 'mammal'\n",
    "    \n",
    "    # Initializer / Instance attributes\n",
    "    def __init__(self, name, age, in_hungry):\n",
    "        self.name = name\n",
    "        self.age = age\n",
    "        self.is_hungry = in_hungry\n",
    "        GLOBAL_DOG_LIST.append(self)\n",
    "        # every dog instance of the class is added to the GLOBAL_DOG_LIST\n",
    "        # so that we can apply eat function to all members at once\n",
    "\n",
    "    # instance method\n",
    "    def description(self):\n",
    "        return \"{} is {} years old\".format(self.name, self.age)\n",
    "\n",
    "    # instance method\n",
    "    def speak(self, sound):\n",
    "        return \"{} says {}\".format(self.name, sound)\n",
    "\n",
    "    # eat method\n",
    "    def eat(self):\n",
    "        self.is_hungry = False\n",
    "        \n",
    "# Child class (inherits from Dog class)\n",
    "class RussellTerrier(Dog):\n",
    "    def run(self, speed):\n",
    "        return \"{} runs {}\".format(self.name, speed)\n",
    "\n",
    "# Child class (inherits from Dog class)\n",
    "class Bulldog(Dog):\n",
    "    def run(self, speed):\n",
    "        return \"{} runs {}\".format(self.name, speed)\n",
    "    \n",
    "\n",
    "dog1 = RussellTerrier(\"Tom\", 6, False)\n",
    "dog2 = Bulldog(\"Fletcher\", 7, True)\n",
    "dog3 = Bulldog(\"Larry\", 9, True)\n",
    "\n",
    "\n",
    "print(\"I have {} dogs\".format(len(GLOBAL_DOG_LIST)))\n",
    "\n",
    "for obj in GLOBAL_DOG_LIST:\n",
    "    print(\"{} is {}\".format(obj.name, obj.age))\n",
    "    \n",
    "print(\"And they're all mammals, of course.\")\n",
    "\n",
    "def checkHungry(): # This function checks if is_hungry same for all instances\n",
    "    isTrue = all(i.is_hungry == True for i in GLOBAL_DOG_LIST)\n",
    "    isFalse = all(i.is_hungry == False for i in GLOBAL_DOG_LIST)\n",
    "    if isTrue: print(\"My dogs are hungry.\")\n",
    "    elif isFalse: print(\"My dogs are not hungry.\")\n",
    "\n",
    "\n",
    "for obj in GLOBAL_DOG_LIST:\n",
    "    obj.eat()\n",
    "    # obj.eat() changes the hunger status of all instances.\n",
    "    # If we don't put it, then \"My dogs are not hungry\" or \"My dogs are not hungry.\"\n",
    "    # will not be printed.\n",
    "\n",
    "checkHungry()"
   ]
  },
  {
   "cell_type": "code",
   "execution_count": null,
   "metadata": {},
   "outputs": [],
   "source": []
  }
 ],
 "metadata": {
  "kernelspec": {
   "display_name": "Python 3",
   "language": "python",
   "name": "python3"
  },
  "language_info": {
   "codemirror_mode": {
    "name": "ipython",
    "version": 3
   },
   "file_extension": ".py",
   "mimetype": "text/x-python",
   "name": "python",
   "nbconvert_exporter": "python",
   "pygments_lexer": "ipython3",
   "version": "3.8.5"
  }
 },
 "nbformat": 4,
 "nbformat_minor": 2
}
