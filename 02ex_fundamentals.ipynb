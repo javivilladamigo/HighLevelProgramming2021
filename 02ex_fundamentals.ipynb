{
 "cells": [
  {
   "cell_type": "markdown",
   "metadata": {},
   "source": [
    "1. Write the following expressions using the list comprehension"
   ]
  },
  {
   "cell_type": "code",
   "execution_count": 1,
   "metadata": {},
   "outputs": [
    {
     "name": "stdout",
     "output_type": "stream",
     "text": [
      "[(0, 0), (0, 1), (0, 2), (0, 3), (1, 0), (1, 1), (1, 2), (1, 3), (2, 0), (2, 1), (2, 2), (2, 3)]\n",
      "[1, 9, 25, 49, 81]\n"
     ]
    }
   ],
   "source": [
    "# 1\n",
    "ans = []\n",
    "for i in range(3):\n",
    "    for j in range(4):\n",
    "        ans.append((i, j))\n",
    "print(ans)\n",
    "\n",
    "# 2\n",
    "ans = map(lambda x: x * x, filter(lambda x: x % 2 == 1, range(10)))\n",
    "print(list(ans))"
   ]
  },
  {
   "cell_type": "code",
   "execution_count": 4,
   "metadata": {},
   "outputs": [
    {
     "name": "stdout",
     "output_type": "stream",
     "text": [
      "[(0, 0), (0, 1), (0, 2), (0, 3), (1, 0), (1, 1), (1, 2), (1, 3), (2, 0), (2, 1), (2, 2), (2, 3)]\n",
      "[1, 9, 25, 49, 81]\n"
     ]
    }
   ],
   "source": [
    "#1\n",
    "ans = [(i,j) for i in range(3) for j in range(4)]\n",
    "print(ans)\n",
    "\n",
    "#2\n",
    "ans = [x**2 for x in range(10) if x%2==1]\n",
    "print(ans)"
   ]
  },
  {
   "cell_type": "markdown",
   "metadata": {},
   "source": [
    "2\\. Convert the function $f$ into a function that doesn't use global variables and that does not modify the original list"
   ]
  },
  {
   "cell_type": "code",
   "execution_count": 1,
   "metadata": {},
   "outputs": [
    {
     "name": "stdout",
     "output_type": "stream",
     "text": [
      "[1, 2, 3, 0, 1, 2, 3, 4]\n",
      "[1, 2, 3, 0, 1, 2, 3, 4]\n"
     ]
    }
   ],
   "source": [
    "x = 5\n",
    "def f(alist):\n",
    "    for i in range(x):\n",
    "         alist.append(i)\n",
    "    return alist\n",
    "\n",
    "alist = [1,2,3]\n",
    "ans = f(alist)\n",
    "print(ans)\n",
    "print(alist) # alist has been changed!"
   ]
  },
  {
   "cell_type": "code",
   "execution_count": 2,
   "metadata": {},
   "outputs": [
    {
     "name": "stdout",
     "output_type": "stream",
     "text": [
      "[1, 2, 3, 0, 1, 2, 3, 4]\n",
      "[1, 2, 3]\n"
     ]
    }
   ],
   "source": [
    "x = 5\n",
    "def f(alist):\n",
    "    tmp = alist.copy()\n",
    "    for i in range(x):\n",
    "         tmp.append(i)\n",
    "    return tmp\n",
    "\n",
    "alist = [1,2,3]\n",
    "ans = f(alist)\n",
    "print(ans)\n",
    "print(alist) "
   ]
  },
  {
   "cell_type": "markdown",
   "metadata": {},
   "source": [
    "3\\. Write a `decorator` hello that makes every wrapped function print “Hello!”, i.e. something like:\n",
    "\n",
    "```python\n",
    "@hello\n",
    "def square(x):\n",
    "    return x*x\n",
    "```\n",
    "\n"
   ]
  },
  {
   "cell_type": "code",
   "execution_count": 9,
   "metadata": {},
   "outputs": [
    {
     "name": "stdout",
     "output_type": "stream",
     "text": [
      "Something is happening before the function is called.\n",
      "Hello!\n",
      "Something is happening after the function is called.\n"
     ]
    }
   ],
   "source": [
    "def hello(func):\n",
    "    def wrapper():\n",
    "        print(\"Something is happening before the function is called.\")\n",
    "        func()\n",
    "        print(\"Something is happening after the function is called.\")\n",
    "    return wrapper\n",
    "\n",
    "@hello\n",
    "def say_hello():\n",
    "    print(\"Hello!\")\n",
    "    \n",
    "say_hello()"
   ]
  },
  {
   "cell_type": "markdown",
   "metadata": {},
   "source": [
    "4\\. Write the factorial function in two different ways, so that it a) does and b) does not use recursion."
   ]
  },
  {
   "cell_type": "code",
   "execution_count": 11,
   "metadata": {},
   "outputs": [
    {
     "name": "stdout",
     "output_type": "stream",
     "text": [
      "Recursive fact:  24\n",
      "Non-recursive fact:  24\n"
     ]
    }
   ],
   "source": [
    "def recursive_fact(x):\n",
    "    if x == 1: \n",
    "        return 1\n",
    "    else:\n",
    "        return x * recursive_fact(x-1)\n",
    "print (\"Recursive fact: \", recursive_fact(4))\n",
    "\n",
    "def fact(x):\n",
    "    z = 1\n",
    "    for y in range (1,x+1):\n",
    "        z = z * y\n",
    "    return z\n",
    "print (\"Non-recursive fact: \", fact(4))"
   ]
  },
  {
   "cell_type": "markdown",
   "metadata": {},
   "source": [
    "5\\. Use HOFs (zip in particular) to compute the weight of a circle, a disk and a sphere, assuming different radii and different densities:\n",
    "\n",
    "```python\n",
    "densities = {\"Al\" : [0.5, 1, 2], \"Fe\" : [3, 4, 5], \"Pb\" : [15, 20, 30]}\n",
    "radii = [1, 2, 3]\n",
    "```\n",
    "\n",
    "where the entries of the dictionary's values are the linear, superficial and volumetric densities of the materials respectively.\n",
    "\n",
    "Subsequently, define a list using a comprehension with three lambda functions that compute the circumference, the area and the volume for a given radius.\n"
   ]
  },
  {
   "cell_type": "code",
   "execution_count": 67,
   "metadata": {},
   "outputs": [
    {
     "name": "stdout",
     "output_type": "stream",
     "text": [
      "Weights for radius  1 : \n",
      "\n",
      "Circle:  [3.14, 18.84, 94.2]\n",
      "Disk:  [3.14, 12.56, 62.800000000000004]\n",
      "Sphere:  [8.373333333333333, 20.933333333333334, 125.60000000000001] \n",
      "\n",
      "\n",
      "Weights for radius  2 : \n",
      "\n",
      "Circle:  [6.28, 37.68, 188.4]\n",
      "Disk:  [12.56, 50.24, 251.20000000000002]\n",
      "Sphere:  [66.98666666666666, 167.46666666666667, 1004.8000000000001] \n",
      "\n",
      "\n",
      "Weights for radius  3 : \n",
      "\n",
      "Circle:  [9.42, 56.519999999999996, 282.6]\n",
      "Disk:  [28.26, 113.04, 565.2]\n",
      "Sphere:  [226.07999999999998, 565.2, 3391.2000000000003] \n",
      "\n",
      "\n"
     ]
    }
   ],
   "source": [
    "densities = {\"Al\" : [0.5, 1, 2], \"Fe\" : [3, 4, 5], \"Pb\" : [15, 20, 30]}\n",
    "radii = [1, 2, 3]\n",
    "\n",
    "values = list(densities.values())\n",
    "Circle, Disk, Sphere = list(zip(*values))\n",
    "\n",
    "for radius in radii:\n",
    "    print(\"Weights for radius \", radius,\": \\n\")\n",
    "    print(\"Circle: \", [x*2*3.14*radius for x in list(Circle)])\n",
    "    print(\"Disk: \", [x*3.14*radius**2 for x in list(Disk)])\n",
    "    print(\"Sphere: \", [x*4/3*3.14*radius**3 for x in list(Sphere)], \"\\n\\n\")\n",
    "    \n",
    "functions = [lambda r: 2*3.14*r, lambda r: 2*3.14*r**2, lambda r: 4/3*3.14*r**3]"
   ]
  },
  {
   "cell_type": "markdown",
   "metadata": {},
   "source": [
    "6\\. Edit the class defintion to add an instance attribute of `is_hungry = True` to the Dog class. Then add a method called `eat()` which changes the value of `is_hungry` to `False` when called. Figure out the best way to instantiate the dog objects and to feed the dogs, e.g. call the `eat()` method for all instances. Finally, print “My dogs are hungry.” or “My dogs are not hungry.” if all of them have `is_hungry = True` or `False`, respectively. The final output should look like this:\n",
    "\n",
    "`I have 3 dogs. \n",
    "Tom is 6. \n",
    "Fletcher is 7. \n",
    "Larry is 9. \n",
    "And they're all mammals, of course. \n",
    "My dogs are not hungry.\n",
    "`\n",
    "\n",
    "```python\n",
    "# Parent class\n",
    "class Dog:\n",
    "\n",
    "    # Class attribute\n",
    "    species = 'mammal'\n",
    "\n",
    "    # Initializer / Instance attributes\n",
    "    def __init__(self, name, age):\n",
    "        self.name = name\n",
    "        self.age = age\n",
    "\n",
    "    # instance method\n",
    "    def description(self):\n",
    "        return \"{} is {} years old\".format(self.name, self.age)\n",
    "\n",
    "    # instance method\n",
    "    def speak(self, sound):\n",
    "        return \"{} says {}\".format(self.name, sound)\n",
    "\n",
    "# Child class (inherits from Dog class)\n",
    "class RussellTerrier(Dog):\n",
    "    def run(self, speed):\n",
    "        return \"{} runs {}\".format(self.name, speed)\n",
    "\n",
    "# Child class (inherits from Dog class)\n",
    "class Bulldog(Dog):\n",
    "    def run(self, speed):\n",
    "        return \"{} runs {}\".format(self.name, speed)\n",
    "```"
   ]
  },
  {
   "cell_type": "code",
   "execution_count": 9,
   "metadata": {
    "scrolled": true
   },
   "outputs": [
    {
     "name": "stdout",
     "output_type": "stream",
     "text": [
      "Fuffi is 1 years old and he is hungry.\n",
      "Oliver is 3 years old and he is hungry. \n",
      "\n",
      "My dogs are hungry!!!\n",
      "\n",
      "Fuffi is hungry? True\n",
      "Oliver is hungry? True\n",
      "\n",
      "Fuffi is eating.\n",
      "\n",
      "Fuffi is hungry? False\n",
      "Oliver is hungry? True\n",
      "Some of them are hungry, others are not!\n"
     ]
    }
   ],
   "source": [
    "# Parent class\n",
    "class Dog:\n",
    "\n",
    "    # Class attribute\n",
    "    species = 'mammal'\n",
    "    child = []\n",
    "    \n",
    "    # Initializer / Instance attributes\n",
    "    def __init__(self, name, age):\n",
    "        self.name = name\n",
    "        self.age = age\n",
    "        self.is_hungry = True           #instance attribute\n",
    "        Dog.child.append(self)\n",
    "\n",
    "    # instance method\n",
    "    def description(self):\n",
    "        return \"{} is {} years old and he is{hungry} hungry.\".format(self.name, self.age, hungry=\"\" if self.is_hungry==True else \" not\") \n",
    "\n",
    "    # instance method\n",
    "    def speak(self, sound):\n",
    "        return \"{} says {}\".format(self.name, sound)\n",
    "    \n",
    "    def eat(self):\n",
    "        self.is_hungry = False        #a dog can eat\n",
    "        print(\"\\n{} is eating.\".format(self.name))\n",
    "        \n",
    "    def dog_hungry(self):\n",
    "        return self.is_hungry         #we can ask if a dog is hungry\n",
    "        \n",
    "    @classmethod\n",
    "    def dogs_eat(cls):\n",
    "        for v in cls.child:           #and feed all the dogs\n",
    "            v.eat()\n",
    "        print(\"\\nI cani hanno mangiato.\\n\")\n",
    "        \n",
    "    @classmethod\n",
    "    def are_hungry(cls):             #tell if they're all hungry or not\n",
    "        true, false = [0,0]\n",
    "        for v in cls.child:\n",
    "            if v.is_hungry==True:\n",
    "                true+=1\n",
    "            else:\n",
    "                false+=1\n",
    "        if true==0: \n",
    "            print(\"My dogs are not hungry!!!\")\n",
    "        elif false==0:\n",
    "            print(\"My dogs are hungry!!!\")\n",
    "        else:\n",
    "            print(\"Some of them are hungry, others are not!\")\n",
    "            \n",
    "# Child class (inherits from Dog class)\n",
    "class RussellTerrier(Dog):\n",
    "    def run(self, speed):\n",
    "        return \"{} runs {}\".format(self.name, speed)\n",
    "\n",
    "# Child class (inherits from Dog class)\n",
    "class Bulldog(Dog):\n",
    "    def run(self, speed):\n",
    "        return \"{} runs {}\".format(self.name, speed)\n",
    "    \n",
    "primo = Bulldog(\"Fuffi\", 1)\n",
    "secondo = Dog(\"Oliver\", 3)\n",
    "\n",
    "print(primo.description())\n",
    "print(secondo.description(), \"\\n\")\n",
    "\n",
    "Dog.are_hungry()\n",
    "\n",
    "print(\"\\n{} is hungry?\".format(primo.name) , primo.dog_hungry())\n",
    "print(\"{} is hungry?\".format(secondo.name) , secondo.dog_hungry())\n",
    "\n",
    "primo.eat()\n",
    "print(\"\\n{} is hungry?\".format(primo.name) , primo.dog_hungry())\n",
    "print(\"{} is hungry?\".format(secondo.name) , secondo.dog_hungry())\n",
    "\n",
    "Dog.are_hungry()"
   ]
  }
 ],
 "metadata": {
  "kernelspec": {
   "display_name": "Python 3 (ipykernel)",
   "language": "python",
   "name": "python3"
  },
  "language_info": {
   "codemirror_mode": {
    "name": "ipython",
    "version": 3
   },
   "file_extension": ".py",
   "mimetype": "text/x-python",
   "name": "python",
   "nbconvert_exporter": "python",
   "pygments_lexer": "ipython3",
   "version": "3.8.12"
  }
 },
 "nbformat": 4,
 "nbformat_minor": 2
}
