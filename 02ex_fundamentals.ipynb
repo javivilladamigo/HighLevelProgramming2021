{
 "cells": [
  {
   "cell_type": "markdown",
   "metadata": {},
   "source": [
    "1. Write the following expressions using the list comprehension"
   ]
  },
  {
   "cell_type": "code",
   "execution_count": null,
   "metadata": {},
   "outputs": [],
   "source": [
    "# 1\n",
    "ans = []\n",
    "for i in range(3):\n",
    "    for j in range(4):\n",
    "        ans.append((i, j))\n",
    "print(ans)\n",
    "\n",
    "# 2\n",
    "ans = map(lambda x: x * x, filter(lambda x: x % 2 == 1, range(10)))\n",
    "print(list(ans))"
   ]
  },
  {
   "cell_type": "code",
   "execution_count": 2,
   "metadata": {},
   "outputs": [
    {
     "name": "stdout",
     "output_type": "stream",
     "text": [
      "[(0, 0), (0, 1), (0, 2), (0, 3), (1, 0), (1, 1), (1, 2), (1, 3), (2, 0), (2, 1), (2, 2), (2, 3)]\n",
      "[1, 9, 25, 49, 81]\n"
     ]
    }
   ],
   "source": [
    "ans=[(i,j) for i in range(3) for j in range (4)]\n",
    "print(ans)\n",
    "\n",
    "ans=[x**2 for x in range(10) if(x%2==1)]\n",
    "print(ans)"
   ]
  },
  {
   "cell_type": "markdown",
   "metadata": {},
   "source": [
    "2\\. Convert the function $f$ into a function that doesn't use global variables and that does not modify the original list"
   ]
  },
  {
   "cell_type": "code",
   "execution_count": null,
   "metadata": {},
   "outputs": [],
   "source": [
    "x = 5\n",
    "def f(alist):\n",
    "    for i in range(x):\n",
    "         alist.append(i)\n",
    "    return alist\n",
    "\n",
    "alist = [1,2,3]\n",
    "ans = f(alist)\n",
    "print(ans)\n",
    "print(alist) # alist has been changed!"
   ]
  },
  {
   "cell_type": "code",
   "execution_count": 3,
   "metadata": {},
   "outputs": [
    {
     "name": "stdout",
     "output_type": "stream",
     "text": [
      "[[1, 2, 3], 0, 1, 2, 3, 4]\n",
      "[1, 2, 3]\n"
     ]
    }
   ],
   "source": [
    "def f(alist):\n",
    "    x=5\n",
    "    elist=[alist]\n",
    "    for i in range(x):\n",
    "        elist.append(i)\n",
    "    return elist\n",
    "\n",
    "alist = [1,2,3]\n",
    "ans = f(alist)\n",
    "print(ans)\n",
    "print(alist)"
   ]
  },
  {
   "cell_type": "markdown",
   "metadata": {},
   "source": [
    "3\\. Write a `decorator` hello that makes every wrapped function print “Hello!”, i.e. something like:\n",
    "\n",
    "```python\n",
    "@hello\n",
    "def square(x):\n",
    "    return x*x\n",
    "```\n",
    "\n"
   ]
  },
  {
   "cell_type": "code",
   "execution_count": 4,
   "metadata": {},
   "outputs": [
    {
     "name": "stdout",
     "output_type": "stream",
     "text": [
      "Hello!\n",
      "25\n"
     ]
    }
   ],
   "source": [
    "def hello(func):\n",
    "    def wrapper(x):\n",
    "        print(\"Hello!\")\n",
    "        return func(x)\n",
    "    return wrapper\n",
    "\n",
    "@hello\n",
    "def square(x):\n",
    "    return x*x\n",
    "\n",
    "\n",
    "print(square(5))"
   ]
  },
  {
   "cell_type": "markdown",
   "metadata": {},
   "source": [
    "4\\. Write the factorial function in two different ways, so that it a) does and b) does not use recursion."
   ]
  },
  {
   "cell_type": "code",
   "execution_count": 5,
   "metadata": {},
   "outputs": [
    {
     "name": "stdout",
     "output_type": "stream",
     "text": [
      "6\n",
      "6\n"
     ]
    }
   ],
   "source": [
    "def cyclic_factorial(n):\n",
    "    f=1\n",
    "    for i in range(1,n+1):\n",
    "        f=f*i\n",
    "    return f\n",
    "\n",
    "def recursive_factorial(n):\n",
    "    if(n>0):\n",
    "        return n*recursive_factorial(n-1)\n",
    "    else:\n",
    "        return 1\n",
    "\n",
    "print(cyclic_factorial(3))\n",
    "print(recursive_factorial(3))"
   ]
  },
  {
   "cell_type": "markdown",
   "metadata": {},
   "source": [
    "5\\. Use HOFs (zip in particular) to compute the weight of a circle, a disk and a sphere, assuming different radii and different densities:\n",
    "\n",
    "```python\n",
    "densities = {\"Al\" : [0.5, 1, 2], \"Fe\" : [3, 4, 5], \"Pb\" : [15, 20, 30]}\n",
    "radii = [1, 2, 3]\n",
    "```\n",
    "\n",
    "where the entries of the dictionary's values are the linear, superficial and volumetric densities of the materials respectively.\n",
    "\n",
    "Subsequently, define a list using a comprehension with three lambda functions that compute the circumference, the area and the volume for a given radius.\n"
   ]
  },
  {
   "cell_type": "code",
   "execution_count": 6,
   "metadata": {},
   "outputs": [
    {
     "name": "stdout",
     "output_type": "stream",
     "text": [
      "Radius:  1  Element:  Al\n",
      "Density:  0.5  Result:  3.141592653589793\n",
      "Density:  1  Result:  3.141592653589793\n",
      "Density:  2  Result:  33.510321638291124\n",
      "Radius:  1  Element:  Fe\n",
      "Density:  3  Result:  18.84955592153876\n",
      "Density:  4  Result:  50.26548245743669\n",
      "Density:  5  Result:  523.5987755982989\n",
      "Radius:  1  Element:  Pb\n",
      "Density:  15  Result:  94.24777960769379\n",
      "Density:  20  Result:  1256.6370614359173\n",
      "Density:  30  Result:  113097.33552923254\n",
      "Radius:  2  Element:  Al\n",
      "Density:  0.5  Result:  3.141592653589793\n",
      "Density:  1  Result:  3.141592653589793\n",
      "Density:  2  Result:  33.510321638291124\n",
      "Radius:  2  Element:  Fe\n",
      "Density:  3  Result:  18.84955592153876\n",
      "Density:  4  Result:  50.26548245743669\n",
      "Density:  5  Result:  523.5987755982989\n",
      "Radius:  2  Element:  Pb\n",
      "Density:  15  Result:  94.24777960769379\n",
      "Density:  20  Result:  1256.6370614359173\n",
      "Density:  30  Result:  113097.33552923254\n",
      "Radius:  3  Element:  Al\n",
      "Density:  0.5  Result:  3.141592653589793\n",
      "Density:  1  Result:  3.141592653589793\n",
      "Density:  2  Result:  33.510321638291124\n",
      "Radius:  3  Element:  Fe\n",
      "Density:  3  Result:  18.84955592153876\n",
      "Density:  4  Result:  50.26548245743669\n",
      "Density:  5  Result:  523.5987755982989\n",
      "Radius:  3  Element:  Pb\n",
      "Density:  15  Result:  94.24777960769379\n",
      "Density:  20  Result:  1256.6370614359173\n",
      "Density:  30  Result:  113097.33552923254\n",
      "[(6.283185307179586, 3.141592653589793, 4.1887902047863905), (12.566370614359172, 12.566370614359172, 33.510321638291124), (18.84955592153876, 28.274333882308138, 113.09733552923255)]\n"
     ]
    }
   ],
   "source": [
    "from __future__ import division\n",
    "from math import pi\n",
    "densities = {\"Al\" : [0.5, 1, 2], \"Fe\" : [3, 4, 5], \"Pb\" : [15, 20, 30]}\n",
    "radii = [1, 2, 3]\n",
    "functions = (lambda r: 2*pi*r, lambda r: pi*r*r, lambda r: 4/3*pi*r*r*r)\n",
    "\n",
    "for r in radii:\n",
    "    for e in densities:\n",
    "        print(\"Radius: \",r,\" Element: \",e)\n",
    "        for f,d in zip(functions,densities[e]):\n",
    "            print(\"Density: \",d,\" Result: \",f(d))\n",
    "\n",
    "result=[(functions[0](i),functions[1](i),functions[2](i)) for i in radii]\n",
    "print(result)"
   ]
  },
  {
   "cell_type": "markdown",
   "metadata": {},
   "source": [
    "6\\. Edit the class defintion to add an instance attribute of `is_hungry = True` to the Dog class. Then add a method called `eat()` which changes the value of `is_hungry` to `False` when called. Figure out the best way to instantiate the dog objects and to feed the dogs, e.g. call the `eat()` method for all instances. Finally, print “My dogs are hungry.” or “My dogs are not hungry.” if all of them have `is_hungry = True` or `False`, respectively. The final output should look like this:\n",
    "\n",
    "`I have 3 dogs. \n",
    "Tom is 6. \n",
    "Fletcher is 7. \n",
    "Larry is 9. \n",
    "And they're all mammals, of course. \n",
    "My dogs are not hungry.\n",
    "`\n",
    "\n",
    "```python\n",
    "# Parent class\n",
    "class Dog:\n",
    "\n",
    "    # Class attribute\n",
    "    species = 'mammal'\n",
    "\n",
    "    # Initializer / Instance attributes\n",
    "    def __init__(self, name, age):\n",
    "        self.name = name\n",
    "        self.age = age\n",
    "\n",
    "    # instance method\n",
    "    def description(self):\n",
    "        return \"{} is {} years old\".format(self.name, self.age)\n",
    "\n",
    "    # instance method\n",
    "    def speak(self, sound):\n",
    "        return \"{} says {}\".format(self.name, sound)\n",
    "\n",
    "# Child class (inherits from Dog class)\n",
    "class RussellTerrier(Dog):\n",
    "    def run(self, speed):\n",
    "        return \"{} runs {}\".format(self.name, speed)\n",
    "\n",
    "# Child class (inherits from Dog class)\n",
    "class Bulldog(Dog):\n",
    "    def run(self, speed):\n",
    "        return \"{} runs {}\".format(self.name, speed)\n",
    "```"
   ]
  },
  {
   "cell_type": "code",
   "execution_count": 7,
   "metadata": {},
   "outputs": [
    {
     "name": "stdout",
     "output_type": "stream",
     "text": [
      "I have 3 dogs\n",
      "Tom is 6 years old\n",
      "Fletcher is 7 years old\n",
      "Larry is 9 years old\n",
      "And they're all mammals, of course.\n",
      "My dogs are not hungry\n"
     ]
    }
   ],
   "source": [
    "# Parent class\n",
    "class Dog:\n",
    "\n",
    "    # Class attribute\n",
    "    species = 'mammal'\n",
    "\n",
    "    # Initializer / Instance attributes\n",
    "    def __init__(self, name, age):\n",
    "        self.name = name\n",
    "        self.age = age\n",
    "        self.is_hungry = True\n",
    "\n",
    "    # instance method\n",
    "    def description(self):\n",
    "        return \"{} is {} years old\".format(self.name, self.age)\n",
    "\n",
    "    # instance method\n",
    "    def speak(self, sound):\n",
    "        return \"{} says {}\".format(self.name, sound)\n",
    "    \n",
    "    def eat(self):\n",
    "        self.is_hungry=False\n",
    "\n",
    "# Child class (inherits from Dog class)\n",
    "class RussellTerrier(Dog):\n",
    "    def run(self, speed):\n",
    "        return \"{} runs {}\".format(self.name, speed)\n",
    "\n",
    "# Child class (inherits from Dog class)\n",
    "class Bulldog(Dog):\n",
    "    def run(self, speed):\n",
    "        return \"{} runs {}\".format(self.name, speed)\n",
    "\n",
    "    \n",
    "dogs=[RussellTerrier(\"Tom\",6),Bulldog(\"Fletcher\",7),Dog(\"Larry\",9)]\n",
    "print(\"I have \"+str(len(dogs))+\" dogs\")\n",
    "for d in dogs:\n",
    "    print(d.description())\n",
    "    d.eat()\n",
    "\n",
    "print(\"And they're all mammals, of course.\")\n",
    "hungries=True\n",
    "not_hungries=True\n",
    "for d in dogs:\n",
    "    if(d.is_hungry==False):\n",
    "        hungries=False\n",
    "    else:\n",
    "        not_hungries=False\n",
    "\n",
    "if(hungries):\n",
    "    print(\"My dogs are hungry.\")\n",
    "\n",
    "if(not_hungries):\n",
    "    print(\"My dogs are not hungry\")"
   ]
  }
 ],
 "metadata": {
  "kernelspec": {
   "display_name": "Python 3 (ipykernel)",
   "language": "python",
   "name": "python3"
  },
  "language_info": {
   "codemirror_mode": {
    "name": "ipython",
    "version": 3
   },
   "file_extension": ".py",
   "mimetype": "text/x-python",
   "name": "python",
   "nbconvert_exporter": "python",
   "pygments_lexer": "ipython3",
   "version": "3.8.8"
  }
 },
 "nbformat": 4,
 "nbformat_minor": 2
}
