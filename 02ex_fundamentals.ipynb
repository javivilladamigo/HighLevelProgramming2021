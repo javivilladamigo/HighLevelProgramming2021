{
  "nbformat": 4,
  "nbformat_minor": 0,
  "metadata": {
    "kernelspec": {
      "display_name": "Python 3",
      "language": "python",
      "name": "python3"
    },
    "language_info": {
      "codemirror_mode": {
        "name": "ipython",
        "version": 3
      },
      "file_extension": ".py",
      "mimetype": "text/x-python",
      "name": "python",
      "nbconvert_exporter": "python",
      "pygments_lexer": "ipython3",
      "version": "3.8.8"
    },
    "colab": {
      "name": "02ex_fundamentals.ipynb",
      "provenance": []
    }
  },
  "cells": [
    {
      "cell_type": "markdown",
      "metadata": {
        "id": "zQQsisqbUUTx"
      },
      "source": [
        "1. Write the following expressions using the list comprehension"
      ]
    },
    {
      "cell_type": "code",
      "metadata": {
        "id": "45OJj9aPUUT0",
        "outputId": "8ee24602-eaeb-4d5a-9d3a-f9cfbc25dd31"
      },
      "source": [
        "# 1\n",
        "ans = []\n",
        "for i in range(3):\n",
        "    for j in range(4):\n",
        "        ans.append((i, j))\n",
        "print(ans)\n",
        "\n",
        "# 2\n",
        "ans = map(lambda x: x * x, filter(lambda x: x % 2 == 1, range(10)))\n",
        "print(list(ans))"
      ],
      "execution_count": null,
      "outputs": [
        {
          "name": "stdout",
          "output_type": "stream",
          "text": [
            "[(0, 0), (0, 1), (0, 2), (0, 3), (1, 0), (1, 1), (1, 2), (1, 3), (2, 0), (2, 1), (2, 2), (2, 3)]\n",
            "[1, 9, 25, 49, 81]\n"
          ]
        }
      ]
    },
    {
      "cell_type": "code",
      "metadata": {
        "id": "m2e6uWiCUUT1",
        "outputId": "0ec6b93c-1aa5-482f-fba0-2a6230deaa3b"
      },
      "source": [
        "ans = [(i, j) for i in range(3) for j in range(4)]\n",
        "print(ans)\n",
        "\n",
        "ans = [x*x for x in range(10) if x % 2 == 1]\n",
        "print(list(ans))"
      ],
      "execution_count": null,
      "outputs": [
        {
          "name": "stdout",
          "output_type": "stream",
          "text": [
            "[(0, 0), (0, 1), (0, 2), (0, 3), (1, 0), (1, 1), (1, 2), (1, 3), (2, 0), (2, 1), (2, 2), (2, 3)]\n",
            "[1, 9, 25, 49, 81]\n"
          ]
        }
      ]
    },
    {
      "cell_type": "markdown",
      "metadata": {
        "id": "peOJEiq9UUT3"
      },
      "source": [
        "2\\. Convert the function $f$ into a function that doesn't use global variables and that does not modify the original list"
      ]
    },
    {
      "cell_type": "code",
      "metadata": {
        "id": "u0SM8oyRUUT3",
        "outputId": "d61db831-942d-484f-a422-046dde93cfa7"
      },
      "source": [
        "x = 5\n",
        "def f(alist):\n",
        "    for i in range(x):\n",
        "         alist.append(i)\n",
        "    return alist\n",
        "\n",
        "alist = [1,2,3]\n",
        "ans = f(alist)\n",
        "print(ans)\n",
        "print(alist) # alist has been changed!"
      ],
      "execution_count": null,
      "outputs": [
        {
          "name": "stdout",
          "output_type": "stream",
          "text": [
            "[1, 2, 3, 0, 1, 2, 3, 4]\n",
            "[1, 2, 3, 0, 1, 2, 3, 4]\n"
          ]
        }
      ]
    },
    {
      "cell_type": "code",
      "metadata": {
        "id": "x6MDHyjKUUT4",
        "outputId": "3826c7dc-376e-4cb6-853c-44bcaffe0f4c"
      },
      "source": [
        "def f_mod(alist, x):\n",
        "    new_list = list(alist)\n",
        "    for i in range(x):\n",
        "        new_list.append(i)\n",
        "    return new_list\n",
        "\n",
        "x = 5\n",
        "alist = [1,2,3]\n",
        "ans = f_mod(alist, x)\n",
        "print(ans)\n",
        "print(alist)"
      ],
      "execution_count": null,
      "outputs": [
        {
          "name": "stdout",
          "output_type": "stream",
          "text": [
            "[1, 2, 3, 0, 1, 2, 3, 4]\n",
            "[1, 2, 3]\n"
          ]
        }
      ]
    },
    {
      "cell_type": "markdown",
      "metadata": {
        "id": "pdzvxN_kUUT5"
      },
      "source": [
        "3\\. Write a `decorator` hello that makes every wrapped function print “Hello!”, i.e. something like:\n",
        "\n",
        "```python\n",
        "@hello\n",
        "def square(x):\n",
        "    return x*x\n",
        "```\n",
        "\n"
      ]
    },
    {
      "cell_type": "code",
      "metadata": {
        "id": "A6maA3PIUUT5",
        "outputId": "efab8b30-376b-4f7c-ac4a-7a1aec18d8e3"
      },
      "source": [
        "def hello(func):\n",
        "    def wrapper(*args):\n",
        "        print('Hello!')\n",
        "    return wrapper\n",
        "\n",
        "@hello\n",
        "def square(x):\n",
        "    return x*x\n",
        "\n",
        "square(4)"
      ],
      "execution_count": null,
      "outputs": [
        {
          "name": "stdout",
          "output_type": "stream",
          "text": [
            "Hello!\n"
          ]
        }
      ]
    },
    {
      "cell_type": "markdown",
      "metadata": {
        "id": "AjRicmTZUUT6"
      },
      "source": [
        "4\\. Write the factorial function in two different ways, so that it a) does and b) does not use recursion."
      ]
    },
    {
      "cell_type": "code",
      "metadata": {
        "id": "KbJeYvHIUUT6",
        "outputId": "ae4f28b8-2bdc-47ca-b990-61df60a7803b"
      },
      "source": [
        "def factorial(n):\n",
        "    if n < 1:   \n",
        "        return 1\n",
        "    else:\n",
        "        returnNumber = n * factorial(n - 1)  # recursive call\n",
        "        print(str(n) + '! = ' + str(returnNumber))\n",
        "        return returnNumber\n",
        "        \n",
        "factorial(5)"
      ],
      "execution_count": null,
      "outputs": [
        {
          "name": "stdout",
          "output_type": "stream",
          "text": [
            "1! = 1\n",
            "2! = 2\n",
            "3! = 6\n",
            "4! = 24\n",
            "5! = 120\n"
          ]
        },
        {
          "data": {
            "text/plain": [
              "120"
            ]
          },
          "execution_count": 10,
          "metadata": {},
          "output_type": "execute_result"
        }
      ]
    },
    {
      "cell_type": "code",
      "metadata": {
        "id": "hrccccmbUUT7",
        "outputId": "b07e06e1-1a29-41f3-8fef-0dec6df2927f"
      },
      "source": [
        "def fact_wo_recursive(n):\n",
        "    fact=1\n",
        "    for i in range(1,n+1):\n",
        "        fact=fact*i\n",
        "        print(str(i) + '! = ' + str(fact))\n",
        "\n",
        "fact_wo_recursive(5)"
      ],
      "execution_count": null,
      "outputs": [
        {
          "name": "stdout",
          "output_type": "stream",
          "text": [
            "1! = 1\n",
            "2! = 2\n",
            "3! = 6\n",
            "4! = 24\n",
            "5! = 120\n"
          ]
        }
      ]
    },
    {
      "cell_type": "markdown",
      "metadata": {
        "id": "6tDRh6F6UUT8"
      },
      "source": [
        "5\\. Use HOFs (zip in particular) to compute the weight of a circle, a disk and a sphere, assuming different radii and different densities:\n",
        "\n",
        "```python\n",
        "densities = {\"Al\" : [0.5, 1, 2], \"Fe\" : [3, 4, 5], \"Pb\" : [15, 20, 30]}\n",
        "radii = [1, 2, 3]\n",
        "```\n",
        "\n",
        "where the entries of the dictionary's values are the linear, superficial and volumetric densities of the materials respectively.\n",
        "\n",
        "Subsequently, define a list using a comprehension with three lambda functions that compute the circumference, the area and the volume for a given radius.\n"
      ]
    },
    {
      "cell_type": "code",
      "metadata": {
        "id": "MCvQenIVUUT8",
        "outputId": "4158614c-0f85-48d5-8d3d-cbe7eb87d181"
      },
      "source": [
        "pi=3.14\n",
        "circle= lambda r: 2* pi * r\n",
        "disk= lambda r: pi * r * r\n",
        "sphere= lambda r: 4/3 *  pi * r * r * r\n",
        "\n",
        "\n",
        "functions=[circle,disk,sphere]\n",
        "densities = {\"Al\" : [0.5, 1, 2], \"Fe\" : [3, 4, 5], \"Pb\" : [15, 20, 30]}\n",
        "radii = [1, 2, 3]\n",
        "\n",
        "for x,y in zip(densities,radii):\n",
        "    for d,f in zip(densities[x],functions):\n",
        "        print(\"Radius:\" , y, \"Density\", d , \"Weight\" ,f(y)*d )"
      ],
      "execution_count": null,
      "outputs": [
        {
          "name": "stdout",
          "output_type": "stream",
          "text": [
            "Radius: 1 Density 0.5 Weight 3.14\n",
            "Radius: 1 Density 1 Weight 3.14\n",
            "Radius: 1 Density 2 Weight 8.373333333333333\n",
            "Radius: 2 Density 3 Weight 37.68\n",
            "Radius: 2 Density 4 Weight 50.24\n",
            "Radius: 2 Density 5 Weight 167.46666666666667\n",
            "Radius: 3 Density 15 Weight 282.6\n",
            "Radius: 3 Density 20 Weight 565.1999999999999\n",
            "Radius: 3 Density 30 Weight 3391.1999999999994\n"
          ]
        }
      ]
    },
    {
      "cell_type": "markdown",
      "metadata": {
        "id": "Gfvb2BNaUUT9"
      },
      "source": [
        "6\\. Edit the class defintion to add an instance attribute of `is_hungry = True` to the Dog class. Then add a method called `eat()` which changes the value of `is_hungry` to `False` when called. Figure out the best way to instantiate the dog objects and to feed the dogs, e.g. call the `eat()` method for all instances. Finally, print “My dogs are hungry.” or “My dogs are not hungry.” if all of them have `is_hungry = True` or `False`, respectively. The final output should look like this:\n",
        "\n",
        "`I have 3 dogs. \n",
        "Tom is 6. \n",
        "Fletcher is 7. \n",
        "Larry is 9. \n",
        "And they're all mammals, of course. \n",
        "My dogs are not hungry.\n",
        "`\n",
        "\n",
        "```python\n",
        "# Parent class\n",
        "class Dog:\n",
        "\n",
        "    # Class attribute\n",
        "    species = 'mammal'\n",
        "\n",
        "    # Initializer / Instance attributes\n",
        "    def __init__(self, name, age):\n",
        "        self.name = name\n",
        "        self.age = age\n",
        "\n",
        "    # instance method\n",
        "    def description(self):\n",
        "        return \"{} is {} years old\".format(self.name, self.age)\n",
        "\n",
        "    # instance method\n",
        "    def speak(self, sound):\n",
        "        return \"{} says {}\".format(self.name, sound)\n",
        "\n",
        "# Child class (inherits from Dog class)\n",
        "class RussellTerrier(Dog):\n",
        "    def run(self, speed):\n",
        "        return \"{} runs {}\".format(self.name, speed)\n",
        "\n",
        "# Child class (inherits from Dog class)\n",
        "class Bulldog(Dog):\n",
        "    def run(self, speed):\n",
        "        return \"{} runs {}\".format(self.name, speed)\n",
        "```"
      ]
    },
    {
      "cell_type": "code",
      "metadata": {
        "id": "XWypQp0dUUT-"
      },
      "source": [
        "class Dog:\n",
        "\n",
        "    # Class attribute\n",
        "    is_hungry = True\n",
        "    species = 'mammal'\n",
        "\n",
        "    # Initializer / Instance attributes\n",
        "    def __init__(self, name, age):\n",
        "        self.name = name\n",
        "        self.age = age\n",
        "\n",
        "    # instance method\n",
        "    def description(self):\n",
        "        return \"{} is {} years old\".format(self.name, self.age)\n",
        "\n",
        "    # instance method\n",
        "    def speak(self, sound):\n",
        "        return \"{} says {}\".format(self.name, sound)\n",
        "    \n",
        "    def eat(self):\n",
        "        self.is_hungry = False\n",
        "\n",
        "# Child class (inherits from Dog class)\n",
        "class RussellTerrier(Dog):\n",
        "    def run(self, speed):\n",
        "        return \"{} runs {}\".format(self.name, speed)\n",
        "\n",
        "# Child class (inherits from Dog class)\n",
        "class Bulldog(Dog):\n",
        "    def run(self, speed):\n",
        "        return \"{} runs {}\".format(self.name, speed)"
      ],
      "execution_count": null,
      "outputs": []
    },
    {
      "cell_type": "code",
      "metadata": {
        "id": "H-UnPZI1UUT-",
        "outputId": "055e89e5-a3f8-493f-ec3a-396cac9efbf5"
      },
      "source": [
        "dogs = []\n",
        "dogs.append(Dog(\"Tom\", 6))\n",
        "dogs.append(RussellTerrier(\"Fletcher\", 7))\n",
        "dogs.append(Bulldog(\"Larry\", 9))\n",
        "\n",
        "print(f\"I have {len(dogs)} dogs.\")\n",
        "\n",
        "for dog in dogs:\n",
        "    print(dog.description())\n",
        "    \n",
        "print(f\"And they are all {Dog.species}, of course.\")\n",
        "    \n",
        "# feed the dogs\n",
        "for dog in dogs:\n",
        "    dog.eat()\n",
        "\n",
        "count_hungry = 0\n",
        "for dog in dogs:\n",
        "    if dog.is_hungry:\n",
        "        print(f\"{dog.name} is hungry.\")\n",
        "        count_hungry += 1\n",
        "        \n",
        "if count_hungry == 0:\n",
        "    print(\"My dogs are not hungry.\")"
      ],
      "execution_count": null,
      "outputs": [
        {
          "name": "stdout",
          "output_type": "stream",
          "text": [
            "I have 3 dogs.\n",
            "Tom is 6 years old\n",
            "Fletcher is 7 years old\n",
            "Larry is 9 years old\n",
            "And they are all mammal, of course.\n",
            "My dogs are not hungry.\n"
          ]
        }
      ]
    }
  ]
}