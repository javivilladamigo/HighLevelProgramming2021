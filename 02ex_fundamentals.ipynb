{
  "nbformat": 4,
  "nbformat_minor": 0,
  "metadata": {
    "kernelspec": {
      "display_name": "Python 3",
      "language": "python",
      "name": "python3"
    },
    "language_info": {
      "codemirror_mode": {
        "name": "ipython",
        "version": 3
      },
      "file_extension": ".py",
      "mimetype": "text/x-python",
      "name": "python",
      "nbconvert_exporter": "python",
      "pygments_lexer": "ipython3",
      "version": "3.8.5"
    },
    "colab": {
      "name": "02ex_fundamentals.ipynb",
      "provenance": [],
      "collapsed_sections": []
    }
  },
  "cells": [
    {
      "cell_type": "markdown",
      "metadata": {
        "id": "HGd1USHK8VRW"
      },
      "source": [
        "1. Write the following expressions using the list comprehension"
      ]
    },
    {
      "cell_type": "code",
      "metadata": {
        "id": "ZeCmPE6R8VRb",
        "colab": {
          "base_uri": "https://localhost:8080/"
        },
        "outputId": "f9229cbc-bb49-414b-9a71-00126d5f6c58"
      },
      "source": [
        "# 1\n",
        "ans = []\n",
        "for i in range(3):\n",
        "    for j in range(4):\n",
        "        ans.append((i, j))\n",
        "print(ans)\n",
        "\n",
        "# 2\n",
        "ans = map(lambda x: x * x, filter(lambda x: x % 2 == 1, range(10)))\n",
        "print(list(ans))"
      ],
      "execution_count": null,
      "outputs": [
        {
          "output_type": "stream",
          "name": "stdout",
          "text": [
            "[(0, 0), (0, 1), (0, 2), (0, 3), (1, 0), (1, 1), (1, 2), (1, 3), (2, 0), (2, 1), (2, 2), (2, 3)]\n",
            "[1, 9, 25, 49, 81]\n"
          ]
        }
      ]
    },
    {
      "cell_type": "code",
      "metadata": {
        "id": "YwU9-4aJ8VRf",
        "colab": {
          "base_uri": "https://localhost:8080/"
        },
        "outputId": "2aafde97-ba6f-4035-b2be-012ddd5198e5"
      },
      "source": [
        "#1\n",
        "ans=[(i,j) for i in range(3) for j in range (4)]\n",
        "print(ans)\n",
        "\n",
        "#2\n",
        "ans =[x*x for x in range(10) if x%2==1]\n",
        "print(ans)"
      ],
      "execution_count": null,
      "outputs": [
        {
          "output_type": "stream",
          "name": "stdout",
          "text": [
            "[(0, 0), (0, 1), (0, 2), (0, 3), (1, 0), (1, 1), (1, 2), (1, 3), (2, 0), (2, 1), (2, 2), (2, 3)]\n",
            "[1, 9, 25, 49, 81]\n"
          ]
        }
      ]
    },
    {
      "cell_type": "markdown",
      "metadata": {
        "id": "2dalS24W8VRg"
      },
      "source": [
        "2\\. Convert the function $f$ into a function that doesn't use global variables and that does not modify the original list"
      ]
    },
    {
      "cell_type": "code",
      "metadata": {
        "id": "1Y3xxTck8VRh",
        "colab": {
          "base_uri": "https://localhost:8080/"
        },
        "outputId": "c1cf2226-8b69-43af-cb5a-3454d52c1c40"
      },
      "source": [
        "x = 5\n",
        "def f(alist):\n",
        "    for i in range(x):\n",
        "         alist.append(i)\n",
        "    return alist\n",
        "\n",
        "alist = [1,2,3]\n",
        "ans = f(alist)\n",
        "print(ans)\n",
        "print(alist) # alist has been changed!"
      ],
      "execution_count": 4,
      "outputs": [
        {
          "output_type": "stream",
          "name": "stdout",
          "text": [
            "[1, 2, 3, 0, 1, 2, 3, 4]\n",
            "[1, 2, 3, 0, 1, 2, 3, 4]\n"
          ]
        }
      ]
    },
    {
      "cell_type": "code",
      "metadata": {
        "id": "7dphveZj8VRh",
        "colab": {
          "base_uri": "https://localhost:8080/"
        },
        "outputId": "89849d21-6777-43fd-a5d8-ea4ab161b883"
      },
      "source": [
        "def f (alist,x):\n",
        "  blist=alist.copy()\n",
        "  for i in range(x):\n",
        "    blist.append(i)\n",
        "  return blist\n",
        "\n",
        "\n",
        "x=5\n",
        "alist = [1,2,3]\n",
        "ans = f(alist,x)\n",
        "print(ans)\n",
        "print(alist) #alist has NOT been changed!"
      ],
      "execution_count": 3,
      "outputs": [
        {
          "output_type": "stream",
          "name": "stdout",
          "text": [
            "[1, 2, 3, 0, 1, 2, 3, 4]\n",
            "[1, 2, 3]\n"
          ]
        }
      ]
    },
    {
      "cell_type": "markdown",
      "metadata": {
        "id": "AxyLDhZe8VRh"
      },
      "source": [
        "3\\. Write a `decorator` hello that makes every wrapped function print “Hello!”, i.e. something like:\n",
        "\n",
        "```python\n",
        "@hello\n",
        "def square(x):\n",
        "    return x*x\n",
        "```\n",
        "\n"
      ]
    },
    {
      "cell_type": "code",
      "metadata": {
        "id": "Ws_iyn9-8VRi",
        "colab": {
          "base_uri": "https://localhost:8080/"
        },
        "outputId": "c8a8e4ce-ad94-4ca8-f652-e5f5f0d6ae06"
      },
      "source": [
        "def Hello(func):\n",
        "    def wrapper(*args):\n",
        "        print('Hello!')\n",
        "        return func(*args)\n",
        "    return wrapper\n",
        "@Hello\n",
        "def square(x):\n",
        "    return x*x\n",
        "\n",
        "square(2)"
      ],
      "execution_count": 35,
      "outputs": [
        {
          "output_type": "stream",
          "name": "stdout",
          "text": [
            "Hello!\n"
          ]
        },
        {
          "output_type": "execute_result",
          "data": {
            "text/plain": [
              "4"
            ]
          },
          "metadata": {},
          "execution_count": 35
        }
      ]
    },
    {
      "cell_type": "markdown",
      "metadata": {
        "id": "5Zx3DvNJ8VRi"
      },
      "source": [
        "4\\. Write the factorial function in two different ways, so that it a) does and b) does not use recursion."
      ]
    },
    {
      "cell_type": "code",
      "metadata": {
        "id": "yqcV1uW_8VRj",
        "colab": {
          "base_uri": "https://localhost:8080/"
        },
        "outputId": "85e6a1da-6806-4ea9-8bd1-e6b0c8817b7a"
      },
      "source": [
        "#recursive\n",
        "\n",
        "def fact(x):\n",
        "  if (x <= 1):\n",
        "    return 1\n",
        "  else:\n",
        "    return (x * fact(x-1))\n",
        "\n",
        "fact(3)"
      ],
      "execution_count": 42,
      "outputs": [
        {
          "output_type": "execute_result",
          "data": {
            "text/plain": [
              "6"
            ]
          },
          "metadata": {},
          "execution_count": 42
        }
      ]
    },
    {
      "cell_type": "code",
      "metadata": {
        "colab": {
          "base_uri": "https://localhost:8080/"
        },
        "id": "aBDdhZpRYxug",
        "outputId": "ef8cadc5-bbae-4cd2-a238-a9612f07fe0d"
      },
      "source": [
        "#not recurive\n",
        "def fact(x):\n",
        "  res=1\n",
        "  for i in range(1,x+1):\n",
        "    res = res * i\n",
        "  return res\n",
        "fact(1)"
      ],
      "execution_count": 68,
      "outputs": [
        {
          "output_type": "execute_result",
          "data": {
            "text/plain": [
              "1"
            ]
          },
          "metadata": {},
          "execution_count": 68
        }
      ]
    },
    {
      "cell_type": "markdown",
      "metadata": {
        "id": "-oUMfoeo8VRj"
      },
      "source": [
        "5\\. Use HOFs (zip in particular) to compute the weight of a circle, a disk and a sphere, assuming different radii and different densities:\n",
        "\n",
        "```python\n",
        "densities = {\"Al\" : [0.5, 1, 2], \"Fe\" : [3, 4, 5], \"Pb\" : [15, 20, 30]}\n",
        "radii = [1, 2, 3]\n",
        "```\n",
        "\n",
        "where the entries of the dictionary's values are the linear, superficial and volumetric densities of the materials respectively.\n",
        "\n",
        "Subsequently, define a list using a comprehension with three lambda functions that compute the circumference, the area and the volume for a given radius.\n"
      ]
    },
    {
      "cell_type": "code",
      "metadata": {
        "id": "yNqtV3IY8VRj",
        "colab": {
          "base_uri": "https://localhost:8080/"
        },
        "outputId": "1db5cd9e-be01-4043-901f-f7b098c248ec"
      },
      "source": [
        "from math import pi\n",
        "densities = {\"Al\" : [0.5, 1, 2], \"Fe\" : [3, 4, 5], \"Pb\" : [15, 20, 30]}\n",
        "radi = [1, 2, 3]\n",
        "\n",
        "w = {}\n",
        "for i,j in zip(radi,densities.keys()):\n",
        "        w[j]=[2*pi*i*densities[j][0],pi*(i**2)*densities[j][1],(4/3)*pi*(i**3)*densities[j][2]]\n",
        "print(w)\n",
        "print(100*\"-\")\n",
        "circumference = lambda x: 2*pi*x\n",
        "area= lambda x: pi*(x**2)\n",
        "volume = lambda x: (4/3)*pi*(x**3)\n",
        "\n",
        "list=[(circumference(x), area (x), volume(x)) for x in radi]\n",
        "print(list)"
      ],
      "execution_count": 50,
      "outputs": [
        {
          "output_type": "stream",
          "name": "stdout",
          "text": [
            "{'Al': [3.141592653589793, 3.141592653589793, 8.377580409572781], 'Fe': [37.69911184307752, 50.26548245743669, 167.5516081914556], 'Pb': [282.7433388230814, 565.4866776461628, 3392.920065876976]}\n",
            "----------------------------------------------------------------------------------------------------\n",
            "[(6.283185307179586, 3.141592653589793, 4.1887902047863905), (12.566370614359172, 12.566370614359172, 33.510321638291124), (18.84955592153876, 28.274333882308138, 113.09733552923254)]\n"
          ]
        }
      ]
    },
    {
      "cell_type": "markdown",
      "metadata": {
        "id": "zSMqeV9J8VRk"
      },
      "source": [
        "6\\. Edit the class defintion to add an instance attribute of `is_hungry = True` to the Dog class. Then add a method called `eat()` which changes the value of `is_hungry` to `False` when called. Figure out the best way to instantiate the dog objects and to feed the dogs, e.g. call the `eat()` method for all instances. Finally, print “My dogs are hungry.” or “My dogs are not hungry.” if all of them have `is_hungry = True` or `False`, respectively. The final output should look like this:\n",
        "\n",
        "`I have 3 dogs. \n",
        "Tom is 6. \n",
        "Fletcher is 7. \n",
        "Larry is 9. \n",
        "And they're all mammals, of course. \n",
        "My dogs are not hungry.\n",
        "`\n",
        "\n",
        "```python\n",
        "# Parent class\n",
        "class Dog:\n",
        "\n",
        "    # Class attribute\n",
        "    species = 'mammal'\n",
        "\n",
        "    # Initializer / Instance attributes\n",
        "    def __init__(self, name, age):\n",
        "        self.name = name\n",
        "        self.age = age\n",
        "\n",
        "    # instance method\n",
        "    def description(self):\n",
        "        return \"{} is {} years old\".format(self.name, self.age)\n",
        "\n",
        "    # instance method\n",
        "    def speak(self, sound):\n",
        "        return \"{} says {}\".format(self.name, sound)\n",
        "\n",
        "# Child class (inherits from Dog class)\n",
        "class RussellTerrier(Dog):\n",
        "    def run(self, speed):\n",
        "        return \"{} runs {}\".format(self.name, speed)\n",
        "\n",
        "# Child class (inherits from Dog class)\n",
        "class Bulldog(Dog):\n",
        "    def run(self, speed):\n",
        "        return \"{} runs {}\".format(self.name, speed)\n",
        "```"
      ]
    },
    {
      "cell_type": "code",
      "metadata": {
        "id": "tjT5MSKG8VRl"
      },
      "source": [
        "# Parent class\n",
        "class Dog:\n",
        "\n",
        "    # Class attribute\n",
        "    species = 'mammal'\n",
        "    is_hungry = True\n",
        "\n",
        "\n",
        "    # Initializer / Instance attributes\n",
        "    def __init__(self, name, age):\n",
        "        self.name = name\n",
        "        self.age = age\n",
        "\n",
        "    # instance method\n",
        "    def description(self):\n",
        "        return \"{} is {} years old\".format(self.name, self.age)\n",
        "\n",
        "    # instance method\n",
        "    def speak(self, sound):\n",
        "        return \"{} says {}\".format(self.name, sound)\n",
        "        \n",
        "    # instance method\n",
        "    def eat(self):\n",
        "        self.is_hungry = False\n",
        "\n",
        "# Child class (inherits from Dog class)\n",
        "class RussellTerrier(Dog):\n",
        "    def run(self, speed):\n",
        "        return \"{} runs {}\".format(self.name, speed)\n",
        "\n",
        "# Child class (inherits from Dog class)\n",
        "class Bulldog(Dog):\n",
        "    def run(self, speed):\n",
        "        return \"{} runs {}\".format(self.name, speed)\n"
      ],
      "execution_count": 52,
      "outputs": []
    },
    {
      "cell_type": "code",
      "metadata": {
        "id": "n65t6ia-UbhO"
      },
      "source": [
        "dogs=[Dog(\"Tom\",6),Dog(\"Fletcher\",7),Dog(\"Larry\",9)]\n",
        "for d in dogs:\n",
        "  d.eat()"
      ],
      "execution_count": 65,
      "outputs": []
    },
    {
      "cell_type": "code",
      "metadata": {
        "id": "eEI-QakYVpwM"
      },
      "source": [
        "hungry=False\n",
        "for d in dogs:\n",
        "  if d.is_hungry== True:\n",
        "    hungry=True\n",
        "    break\n"
      ],
      "execution_count": 66,
      "outputs": []
    },
    {
      "cell_type": "code",
      "metadata": {
        "colab": {
          "base_uri": "https://localhost:8080/"
        },
        "id": "kHATjnMAXNd-",
        "outputId": "6a20e3d7-8f3d-4fcb-cf31-9e6359cc7209"
      },
      "source": [
        "print('i have ', len(dogs), \" dogs\")\n",
        "for d in dogs:\n",
        "  print(d.description())\n",
        "print (\"And they're all\", dogs[0].species ,\", of course.\")\n",
        "if hungry==False:\n",
        "    print(\"My dogs are not hungry.\")\n",
        "else:\n",
        "    print(\"My dogs are hungry.\")"
      ],
      "execution_count": 67,
      "outputs": [
        {
          "output_type": "stream",
          "name": "stdout",
          "text": [
            "i have  3  dogs\n",
            "Tom is 6 years old\n",
            "Fletcher is 7 years old\n",
            "Larry is 9 years old\n",
            "And they're all mammal , of course.\n",
            "My dogs are not hungry.\n"
          ]
        }
      ]
    },
    {
      "cell_type": "code",
      "metadata": {
        "id": "YT6x22M6XQyL"
      },
      "source": [
        ""
      ],
      "execution_count": null,
      "outputs": []
    }
  ]
}