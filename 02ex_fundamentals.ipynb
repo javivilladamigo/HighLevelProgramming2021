{
 "cells": [
  {
   "cell_type": "markdown",
   "metadata": {},
   "source": [
    "1. Write the following expressions using the list comprehension"
   ]
  },
  {
   "cell_type": "code",
   "execution_count": 38,
   "metadata": {},
   "outputs": [
    {
     "name": "stdout",
     "output_type": "stream",
     "text": [
      "[(0, 0), (0, 1), (0, 2), (0, 3), (1, 0), (1, 1), (1, 2), (1, 3), (2, 0), (2, 1), (2, 2), (2, 3)]\n",
      "[1, 9, 25, 49, 81]\n"
     ]
    }
   ],
   "source": [
    "# 1\n",
    "ans = []\n",
    "for i in range(3):\n",
    "    for j in range(4):\n",
    "        ans.append((i, j))\n",
    "print(ans)\n",
    "\n",
    "# 2\n",
    "ans = map(lambda x: x * x, filter(lambda x: x % 2 == 1, range(10)))\n",
    "print(list(ans))"
   ]
  },
  {
   "cell_type": "code",
   "execution_count": 46,
   "metadata": {},
   "outputs": [
    {
     "name": "stdout",
     "output_type": "stream",
     "text": [
      "[(0, 0), (1, 0), (2, 0), (0, 1), (1, 1), (2, 1), (0, 2), (1, 2), (2, 2), (0, 3), (1, 3), (2, 3)]\n",
      "[1, 9, 25, 49, 81]\n"
     ]
    }
   ],
   "source": [
    "# 1\n",
    "ans = [(i,j) for j in range(4) for i in range(3)]\n",
    "print(ans)\n",
    "\n",
    "# 2\n",
    "ans = [(i*i) for i in range(10) if(i%2 == 1)]\n",
    "print(list(ans))\n"
   ]
  },
  {
   "cell_type": "markdown",
   "metadata": {},
   "source": [
    "2\\. Convert the function $f$ into a function that doesn't use global variables and that does not modify the original list"
   ]
  },
  {
   "cell_type": "code",
   "execution_count": 49,
   "metadata": {},
   "outputs": [
    {
     "name": "stdout",
     "output_type": "stream",
     "text": [
      "[1, 2, 3, 0, 1, 2, 3, 4]\n",
      "[1, 2, 3, 0, 1, 2, 3, 4]\n"
     ]
    }
   ],
   "source": [
    "x = 5\n",
    "def f(alist):\n",
    "    for i in range(x):\n",
    "         alist.append(i)\n",
    "    return alist\n",
    "\n",
    "alist = [1,2,3]\n",
    "ans = f(alist)\n",
    "print(ans)\n",
    "print(alist) # alist has been changed!"
   ]
  },
  {
   "cell_type": "code",
   "execution_count": 54,
   "metadata": {},
   "outputs": [
    {
     "name": "stdout",
     "output_type": "stream",
     "text": [
      "[1, 2, 3, 0, 1, 2, 3, 4]\n",
      "[1, 2, 3]\n"
     ]
    }
   ],
   "source": [
    "def f(alist):\n",
    "    x = 5\n",
    "    return alist + list(range(x))\n",
    "\n",
    "alist = [1,2,3]\n",
    "ans = f(alist)\n",
    "print(ans)\n",
    "print(alist) # alist has been changed!"
   ]
  },
  {
   "cell_type": "markdown",
   "metadata": {},
   "source": [
    "3\\. Write a `decorator` hello that makes every wrapped function print “Hello!”, i.e. something like:\n",
    "\n",
    "```python\n",
    "@hello\n",
    "def square(x):\n",
    "    return x*x\n",
    "```\n",
    "\n"
   ]
  },
  {
   "cell_type": "code",
   "execution_count": 25,
   "metadata": {},
   "outputs": [
    {
     "name": "stdout",
     "output_type": "stream",
     "text": [
      "16\n",
      "Hello!\n"
     ]
    }
   ],
   "source": [
    "def hello(func):\n",
    "    def wrapper(x):\n",
    "        print(func(x))\n",
    "        print(\"Hello!\")\n",
    "    return wrapper\n",
    "\n",
    "@hello\n",
    "def square(x):\n",
    "    return x*x\n",
    "square(4)\n"
   ]
  },
  {
   "cell_type": "markdown",
   "metadata": {},
   "source": [
    "4\\. Write the factorial function in two different ways, so that it a) does and b) does not use recursion."
   ]
  },
  {
   "cell_type": "code",
   "execution_count": 66,
   "metadata": {},
   "outputs": [
    {
     "data": {
      "text/plain": [
       "24"
      ]
     },
     "execution_count": 66,
     "metadata": {},
     "output_type": "execute_result"
    }
   ],
   "source": [
    "# 4.a\n",
    "def factorial(n):\n",
    "    result = n\n",
    "    while(n>1):\n",
    "        result *= n-1\n",
    "        n -= 1\n",
    "    return result\n",
    "\n",
    "factorial(4)"
   ]
  },
  {
   "cell_type": "code",
   "execution_count": 1,
   "metadata": {},
   "outputs": [
    {
     "data": {
      "text/plain": [
       "24"
      ]
     },
     "execution_count": 1,
     "metadata": {},
     "output_type": "execute_result"
    }
   ],
   "source": [
    "# 4.b\n",
    "def factorial(n):\n",
    "    x = 1\n",
    "    if(n==0):\n",
    "        return 1\n",
    "    else:\n",
    "        return n * factorial(n-1)\n",
    "    \n",
    "factorial(4)"
   ]
  },
  {
   "cell_type": "markdown",
   "metadata": {},
   "source": [
    "5\\. Use HOFs (zip in particular) to compute the weight of a circle, a disk and a sphere, assuming different radii and different densities:\n",
    "\n",
    "```python\n",
    "densities = {\"Al\" : [0.5, 1, 2], \"Fe\" : [3, 4, 5], \"Pb\" : [15, 20, 30]}\n",
    "radii = [1, 2, 3]\n",
    "```\n",
    "\n",
    "where the entries of the dictionary's values are the linear, superficial and volumetric densities of the materials respectively.\n",
    "\n",
    "Subsequently, define a list using a comprehension with three lambda functions that compute the circumference, the area and the volume for a given radius.\n"
   ]
  },
  {
   "cell_type": "code",
   "execution_count": 4,
   "metadata": {},
   "outputs": [
    {
     "name": "stdout",
     "output_type": "stream",
     "text": [
      "element:  Al  density:  0.5  radii:  1 weight:  3.141592653589793\n",
      "element:  Al  density:  1  radii:  1 weight:  3.141592653589793\n",
      "element:  Al  density:  2  radii:  1 weight:  33.510321638291124\n",
      "element:  Al  density:  0.5  radii:  2 weight:  3.141592653589793\n",
      "element:  Al  density:  1  radii:  2 weight:  3.141592653589793\n",
      "element:  Al  density:  2  radii:  2 weight:  33.510321638291124\n",
      "element:  Al  density:  0.5  radii:  3 weight:  3.141592653589793\n",
      "element:  Al  density:  1  radii:  3 weight:  3.141592653589793\n",
      "element:  Al  density:  2  radii:  3 weight:  33.510321638291124\n",
      "element:  Fe  density:  3  radii:  1 weight:  18.84955592153876\n",
      "element:  Fe  density:  4  radii:  1 weight:  50.26548245743669\n",
      "element:  Fe  density:  5  radii:  1 weight:  523.5987755982989\n",
      "element:  Fe  density:  3  radii:  2 weight:  18.84955592153876\n",
      "element:  Fe  density:  4  radii:  2 weight:  50.26548245743669\n",
      "element:  Fe  density:  5  radii:  2 weight:  523.5987755982989\n",
      "element:  Fe  density:  3  radii:  3 weight:  18.84955592153876\n",
      "element:  Fe  density:  4  radii:  3 weight:  50.26548245743669\n",
      "element:  Fe  density:  5  radii:  3 weight:  523.5987755982989\n",
      "element:  Pb  density:  15  radii:  1 weight:  94.24777960769379\n",
      "element:  Pb  density:  20  radii:  1 weight:  1256.6370614359173\n",
      "element:  Pb  density:  30  radii:  1 weight:  113097.33552923254\n",
      "element:  Pb  density:  15  radii:  2 weight:  94.24777960769379\n",
      "element:  Pb  density:  20  radii:  2 weight:  1256.6370614359173\n",
      "element:  Pb  density:  30  radii:  2 weight:  113097.33552923254\n",
      "element:  Pb  density:  15  radii:  3 weight:  94.24777960769379\n",
      "element:  Pb  density:  20  radii:  3 weight:  1256.6370614359173\n",
      "element:  Pb  density:  30  radii:  3 weight:  113097.33552923254\n"
     ]
    }
   ],
   "source": [
    "import math\n",
    "densities = {\"Al\" : [0.5, 1, 2], \"Fe\" : [3, 4, 5], \"Pb\" : [15, 20, 30]}\n",
    "radii = [1, 2, 3]\n",
    "\n",
    "functions = [lambda r: 2*math.pi*r, lambda r: math.pi*pow(r,2), lambda r: 4/3*math.pi*pow(r,3)]\n",
    "\n",
    "for e in densities:\n",
    "    for r in radii:\n",
    "        for d,f in zip(densities[e], functions):\n",
    "            print(\"element: \", e, \" density: \", d, \" radii: \", r, \"weight: \", f(d))"
   ]
  },
  {
   "cell_type": "code",
   "execution_count": 141,
   "metadata": {},
   "outputs": [
    {
     "data": {
      "text/plain": [
       "[(6.283185307179586, 3.141592653589793, 4.1887902047863905),\n",
       " (12.566370614359172, 12.566370614359172, 33.510321638291124),\n",
       " (18.84955592153876, 28.274333882308138, 113.09733552923254)]"
      ]
     },
     "execution_count": 141,
     "metadata": {},
     "output_type": "execute_result"
    }
   ],
   "source": [
    "c = lambda r: 2*math.pi*r\n",
    "a = lambda r: math.pi*pow(r,2)\n",
    "v = lambda r: 4/3*math.pi*pow(r,3)\n",
    "\n",
    "[(c(r), a(r), v(r)) for r in radii]"
   ]
  },
  {
   "cell_type": "markdown",
   "metadata": {},
   "source": [
    "6\\. Edit the class defintion to add an instance attribute of `is_hungry = True` to the Dog class. Then add a method called `eat()` which changes the value of `is_hungry` to `False` when called. Figure out the best way to instantiate the dog objects and to feed the dogs, e.g. call the `eat()` method for all instances. Finally, print “My dogs are hungry.” or “My dogs are not hungry.” if all of them have `is_hungry = True` or `False`, respectively. The final output should look like this:\n",
    "\n",
    "`I have 3 dogs. \n",
    "Tom is 6. \n",
    "Fletcher is 7. \n",
    "Larry is 9. \n",
    "And they're all mammals, of course. \n",
    "My dogs are not hungry.\n",
    "`\n",
    "\n",
    "```python\n",
    "# Parent class\n",
    "class Dog:\n",
    "\n",
    "    # Class attribute\n",
    "    species = 'mammal'\n",
    "\n",
    "    # Initializer / Instance attributes\n",
    "    def __init__(self, name, age):\n",
    "        self.name = name\n",
    "        self.age = age\n",
    "\n",
    "    # instance method\n",
    "    def description(self):\n",
    "        return \"{} is {} years old\".format(self.name, self.age)\n",
    "\n",
    "    # instance method\n",
    "    def speak(self, sound):\n",
    "        return \"{} says {}\".format(self.name, sound)\n",
    "\n",
    "# Child class (inherits from Dog class)\n",
    "class RussellTerrier(Dog):\n",
    "    def run(self, speed):\n",
    "        return \"{} runs {}\".format(self.name, speed)\n",
    "\n",
    "# Child class (inherits from Dog class)\n",
    "class Bulldog(Dog):\n",
    "    def run(self, speed):\n",
    "        return \"{} runs {}\".format(self.name, speed)\n",
    "```"
   ]
  },
  {
   "cell_type": "code",
   "execution_count": 154,
   "metadata": {},
   "outputs": [],
   "source": [
    "# Parent class\n",
    "class Dog:\n",
    "\n",
    "    # Class attribute\n",
    "    species = 'mammal'\n",
    "\n",
    "    # Initializer / Instance attributes\n",
    "    def __init__(self, name, age):\n",
    "        self.name = name\n",
    "        self.age = age\n",
    "        self.is_hungry = True\n",
    "\n",
    "    # instance method\n",
    "    def description(self):\n",
    "        return \"{} is {} years old\".format(self.name, self.age)\n",
    "\n",
    "    # instance method\n",
    "    def speak(self, sound):\n",
    "        return \"{} says {}\".format(self.name, sound)\n",
    "    \n",
    "    def eat(self):\n",
    "        self.is_hungry = False\n",
    "\n",
    "# Child class (inherits from Dog class)\n",
    "class RussellTerrier(Dog):\n",
    "    def run(self, speed):\n",
    "        return \"{} runs {}\".format(self.name, speed)\n",
    "\n",
    "# Child class (inherits from Dog class)\n",
    "class Bulldog(Dog):\n",
    "    def run(self, speed):\n",
    "        return \"{} runs {}\".format(self.name, speed)"
   ]
  },
  {
   "cell_type": "code",
   "execution_count": 157,
   "metadata": {},
   "outputs": [
    {
     "name": "stdout",
     "output_type": "stream",
     "text": [
      "I have 3 dogs.\n",
      "Tom is  6\n",
      "Fletcher is  7\n",
      "Larry is  9\n",
      "And they're all mammals, of course.\n",
      "My dogs are not hungry.\n"
     ]
    }
   ],
   "source": [
    "tom = Dog(\"Tom\",6)\n",
    "fletcher = Dog(\"Fletcher\", 7)\n",
    "larry = Dog(\"Larry\", 9)\n",
    "\n",
    "mydogs = [tom, fletcher, larry]\n",
    "\n",
    "print(\"I have \" + str(len(mydogs)) + \" dogs.\")\n",
    "print(\"Tom is \", tom.age)\n",
    "print(\"Fletcher is \", fletcher.age)\n",
    "print(\"Larry is \", larry.age)\n",
    "if(tom.species == larry.species == fletcher.species):\n",
    "    print(\"And they're all mammals, of course.\")\n",
    "\n",
    "    \n",
    "for dog in mydogs:\n",
    "    if(dog.is_hungry):\n",
    "        dog.eat()\n",
    "    \n",
    "if(tom.is_hungry == fletcher.is_hungry == larry.is_hungry == True):\n",
    "    print(\"My dogs are hungry.\")\n",
    "    \n",
    "if(tom.is_hungry == fletcher.is_hungry == larry.is_hungry == False):\n",
    "    print(\"My dogs are not hungry.\")"
   ]
  },
  {
   "cell_type": "code",
   "execution_count": null,
   "metadata": {},
   "outputs": [],
   "source": []
  }
 ],
 "metadata": {
  "kernelspec": {
   "display_name": "Python 3 (ipykernel)",
   "language": "python",
   "name": "python3"
  },
  "language_info": {
   "codemirror_mode": {
    "name": "ipython",
    "version": 3
   },
   "file_extension": ".py",
   "mimetype": "text/x-python",
   "name": "python",
   "nbconvert_exporter": "python",
   "pygments_lexer": "ipython3",
   "version": "3.10.0"
  }
 },
 "nbformat": 4,
 "nbformat_minor": 2
}
