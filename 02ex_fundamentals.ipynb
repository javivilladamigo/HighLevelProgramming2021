{
 "cells": [
  {
   "cell_type": "markdown",
   "metadata": {},
   "source": [
    "1. Write the following expressions using the list comprehension"
   ]
  },
  {
   "cell_type": "code",
   "execution_count": 2,
   "metadata": {},
   "outputs": [
    {
     "name": "stdout",
     "output_type": "stream",
     "text": [
      "[(0, 0), (0, 1), (0, 2), (0, 3), (1, 0), (1, 1), (1, 2), (1, 3), (2, 0), (2, 1), (2, 2), (2, 3)]\n",
      "[1, 9, 25, 49, 81]\n"
     ]
    }
   ],
   "source": [
    "# 1\n",
    "ans = []\n",
    "for i in range(3):\n",
    "    for j in range(4):\n",
    "        ans.append((i, j))\n",
    "print(ans)\n",
    "\n",
    "# 2\n",
    "ans = map(lambda x: x*x, filter(lambda x: x%2==1, range(10)))\n",
    "print(list(ans))"
   ]
  },
  {
   "cell_type": "code",
   "execution_count": 3,
   "metadata": {},
   "outputs": [
    {
     "name": "stdout",
     "output_type": "stream",
     "text": [
      "[(0, 0), (0, 1), (0, 2), (0, 3), (1, 0), (1, 1), (1, 2), (1, 3), (2, 0), (2, 1), (2, 2), (2, 3)]\n",
      "[1, 9, 25, 49, 81]\n"
     ]
    }
   ],
   "source": [
    "# ex 1\n",
    "\n",
    "# 1\n",
    "ans = [(i, j) for i in range(3) for j in range(4)]\n",
    "print(ans)\n",
    "\n",
    "# 2\n",
    "ans = [i**2 for i in range(10) if i % 2==1]\n",
    "print(ans)"
   ]
  },
  {
   "cell_type": "markdown",
   "metadata": {},
   "source": [
    "2\\. Convert the function $f$ into a function that doesn't use global variables and that does not modify the original list"
   ]
  },
  {
   "cell_type": "code",
   "execution_count": 4,
   "metadata": {},
   "outputs": [
    {
     "name": "stdout",
     "output_type": "stream",
     "text": [
      "Original list: [1, 2, 3]\n",
      "Result of function: [1, 2, 3, 0, 1, 2, 3, 4]\n",
      "The original list has not been modified: [1, 2, 3]\n"
     ]
    }
   ],
   "source": [
    "# ex 2\n",
    "\n",
    "x = 5\n",
    "def f(alist, y):\n",
    "    templist=alist.copy()\n",
    "    for i in range(y):\n",
    "         templist.append(i)\n",
    "    return templist\n",
    "\n",
    "alist = [1,2,3]\n",
    "ans = f(alist, x)\n",
    "print(\"Original list:\", alist)\n",
    "print(\"Return of function:\", ans)\n",
    "print(\"The original list has not been modified:\", alist)"
   ]
  },
  {
   "cell_type": "markdown",
   "metadata": {},
   "source": [
    "3\\. Write a `decorator` hello that makes every wrapped function print “Hello!”, i.e. something like:\n",
    "\n",
    "```python\n",
    "@hello\n",
    "def square(x):\n",
    "    return x*x\n",
    "```\n",
    "\n"
   ]
  },
  {
   "cell_type": "code",
   "execution_count": 5,
   "metadata": {},
   "outputs": [],
   "source": [
    "# ex 3\n",
    "\n",
    "def hello(func):\n",
    "    def wrapper(x):\n",
    "        print(\"Hello!\")\n",
    "        print(func(x))\n",
    "        print(\"Hello!\")\n",
    "    return wrapper\n",
    "\n",
    "@hello\n",
    "def square(x):\n",
    "    return x*x"
   ]
  },
  {
   "cell_type": "code",
   "execution_count": 6,
   "metadata": {},
   "outputs": [
    {
     "name": "stdout",
     "output_type": "stream",
     "text": [
      "Hello!\n",
      "4\n",
      "Hello!\n"
     ]
    }
   ],
   "source": [
    "x = 2\n",
    "square(x)"
   ]
  },
  {
   "cell_type": "markdown",
   "metadata": {},
   "source": [
    "4\\. Write the factorial function in two different ways, so that it a) does and b) does not use recursion."
   ]
  },
  {
   "cell_type": "code",
   "execution_count": 7,
   "metadata": {},
   "outputs": [
    {
     "name": "stdout",
     "output_type": "stream",
     "text": [
      "[1, 1, 2, 6, 24, 120, 720, 5040, 40320, 362880]\n"
     ]
    }
   ],
   "source": [
    "# ex 4\n",
    "\n",
    "def fact(n):\n",
    "    \"\"\"Factorial function with recursion\"\"\"\n",
    "    if n==0 or n==1:\n",
    "        return 1\n",
    "    else: \n",
    "        return n * fact(n-1)\n",
    "\n",
    "print([fact(i) for i in range(0,10)])"
   ]
  },
  {
   "cell_type": "code",
   "execution_count": 8,
   "metadata": {},
   "outputs": [
    {
     "name": "stdout",
     "output_type": "stream",
     "text": [
      "[1, 1, 2, 6, 24, 120, 720, 5040, 40320, 362880]\n"
     ]
    }
   ],
   "source": [
    "# ex 4\n",
    "\n",
    "def fact(n):\n",
    "    \"\"\"Factorial function without recursion\"\"\"\n",
    "    x, y = 1, 1\n",
    "    for i in range(1, n+1):\n",
    "        x, y = y, y*i\n",
    "    return(y)\n",
    "\n",
    "print([fact(i) for i in range(0, 10)])"
   ]
  },
  {
   "cell_type": "markdown",
   "metadata": {},
   "source": [
    "5\\. Use HOFs (zip in particular) to compute the weight of a circle, a disk and a sphere, assuming different radii and different densities:\n",
    "\n",
    "```python\n",
    "densities = {\"Al\" : [0.5, 1, 2], \"Fe\" : [3, 4, 5], \"Pb\" : [15, 20, 30]}\n",
    "radii = [1, 2, 3]\n",
    "```\n",
    "\n",
    "where the entries of the dictionary's values are the linear, superficial and volumetric densities of the materials respectively.\n",
    "\n",
    "Subsequently, define a list using a comprehension with three lambda functions that compute the circumference, the area and the volume for a given radius.\n"
   ]
  },
  {
   "cell_type": "code",
   "execution_count": 9,
   "metadata": {},
   "outputs": [
    {
     "name": "stdout",
     "output_type": "stream",
     "text": [
      "Shape:     Material:  Radius:    Weight:   \n",
      "Circle     Al         1          3.141592653589793\n",
      "Disk       Al         1          3.141592653589793\n",
      "Sphere     Al         1          8.377580409572781\n",
      "Circle     Al         2          6.283185307179586\n",
      "Disk       Al         2          12.566370614359172\n",
      "Sphere     Al         2          67.02064327658225\n",
      "Circle     Al         3          9.42477796076938\n",
      "Disk       Al         3          28.274333882308138\n",
      "Sphere     Al         3          226.19467105846508\n",
      "Circle     Fe         1          18.84955592153876\n",
      "Disk       Fe         1          12.566370614359172\n",
      "Sphere     Fe         1          20.94395102393195\n",
      "Circle     Fe         2          37.69911184307752\n",
      "Disk       Fe         2          50.26548245743669\n",
      "Sphere     Fe         2          167.5516081914556\n",
      "Circle     Fe         3          56.548667764616276\n",
      "Disk       Fe         3          113.09733552923255\n",
      "Sphere     Fe         3          565.4866776461627\n",
      "Circle     Pb         1          94.24777960769379\n",
      "Disk       Pb         1          62.83185307179586\n",
      "Sphere     Pb         1          125.66370614359171\n",
      "Circle     Pb         2          188.49555921538757\n",
      "Disk       Pb         2          251.32741228718345\n",
      "Sphere     Pb         2          1005.3096491487337\n",
      "Circle     Pb         3          282.7433388230814\n",
      "Disk       Pb         3          565.4866776461628\n",
      "Sphere     Pb         3          3392.920065876976\n"
     ]
    }
   ],
   "source": [
    "# ex 5\n",
    "\n",
    "from math import pi\n",
    "\n",
    "densities = {\"Al\" : [0.5, 1, 2], \"Fe\" : [3, 4, 5], \"Pb\" : [15, 20, 30]}\n",
    "radii = [1, 2, 3]\n",
    "\n",
    "def volumes(r):\n",
    "    \"\"\"Function returning a list of volumes given a radius\"\"\"\n",
    "    return [2*pi*r, pi*r**2, 4/3*pi*r**3]\n",
    "\n",
    "print('{:<10} {:<10} {:<10} {:<10}'.format(\"Shape:\", \"Material:\", \"Radius:\", \"Weight:\"))\n",
    "\n",
    "for i in densities:\n",
    "    for j in radii:\n",
    "        for k,l,m in zip([\"Circle\",\"Disk\",\"Sphere\"], volumes(j), densities[i]):\n",
    "            print('{:<10} {:<10} {:<10} {:<10}'.format(k,i,j,l*m))\n"
   ]
  },
  {
   "cell_type": "markdown",
   "metadata": {},
   "source": [
    "6\\. Edit the class defintion to add an instance attribute of `is_hungry = True` to the Dog class. Then add a method called `eat()` which changes the value of `is_hungry` to `False` when called. Figure out the best way to instantiate the dog objects and to feed the dogs, e.g. call the `eat()` method for all instances. Finally, print “My dogs are hungry.” or “My dogs are not hungry.” if all of them have `is_hungry = True` or `False`, respectively. The final output should look like this:\n",
    "\n",
    "`I have 3 dogs. \n",
    "Tom is 6. \n",
    "Fletcher is 7. \n",
    "Larry is 9. \n",
    "And they're all mammals, of course. \n",
    "My dogs are not hungry.\n",
    "`\n",
    "\n",
    "```python\n",
    "# Parent class\n",
    "class Dog:\n",
    "\n",
    "    # Class attribute\n",
    "    species = 'mammal'\n",
    "\n",
    "    # Initializer / Instance attributes\n",
    "    def __init__(self, name, age):\n",
    "        self.name = name\n",
    "        self.age = age\n",
    "\n",
    "    # instance method\n",
    "    def description(self):\n",
    "        return \"{} is {} years old\".format(self.name, self.age)\n",
    "\n",
    "    # instance method\n",
    "    def speak(self, sound):\n",
    "        return \"{} says {}\".format(self.name, sound)\n",
    "\n",
    "# Child class (inherits from Dog class)\n",
    "class RussellTerrier(Dog):\n",
    "    def run(self, speed):\n",
    "        return \"{} runs {}\".format(self.name, speed)\n",
    "\n",
    "# Child class (inherits from Dog class)\n",
    "class Bulldog(Dog):\n",
    "    def run(self, speed):\n",
    "        return \"{} runs {}\".format(self.name, speed)\n",
    "```"
   ]
  },
  {
   "cell_type": "code",
   "execution_count": 10,
   "metadata": {},
   "outputs": [
    {
     "name": "stdout",
     "output_type": "stream",
     "text": [
      "I have 3 dogs. \n",
      "Tom is 6 years old, Fletcher is 7 years old, Larry is 9 years old. \n",
      "And they're all mammals, of course. \n",
      "My dogs are not hungry.\n"
     ]
    }
   ],
   "source": [
    "# ex 6\n",
    "\n",
    "# Parent class\n",
    "class Dog:\n",
    "\n",
    "    # Class attribute\n",
    "    species = 'mammal'\n",
    "    \n",
    "    # Initializer / Instance attributes\n",
    "    def __init__(self, name, age):\n",
    "        self.name = name\n",
    "        self.age = age\n",
    "        self.is_hungry = True\n",
    "\n",
    "    # instance method\n",
    "    def description(self):\n",
    "        return \"{} is {} years old\".format(self.name, self.age)\n",
    "    def eat(self):\n",
    "        self.is_hungry = False\n",
    "\n",
    "def eat_all(pets):\n",
    "    \"\"\"Function to make all dogs eat\"\"\"\n",
    "    for i in pets:\n",
    "        i.eat()\n",
    "\n",
    "def eat_check(pets):\n",
    "    \"\"\"Function to check if dogs are hungry\"\"\"\n",
    "    for i in pets:\n",
    "        pets_hungry = [i.is_hungry]\n",
    "    if all(pets_hungry)==True:\n",
    "        return(\"My dogs are hungry.\")\n",
    "    if any(pets_hungry)==False:\n",
    "        return(\"My dogs are not hungry.\")\n",
    "\n",
    "pets=[Dog(\"Tom\", 6), Dog(\"Fletcher\", 7), Dog(\"Larry\", 9)]\n",
    "\n",
    "eat_all(pets)\n",
    "\n",
    "print(\"I have {0} dogs. \".format(len(pets)))\n",
    "for index, i in enumerate(pets):\n",
    "        print(i.description(), end='')\n",
    "        if index<len(pets)-1:\n",
    "            print(\", \", end='')\n",
    "        else:\n",
    "            print(\". \")\n",
    "print(\"And they're all {0}s, of course. \".format(pets[0].species))\n",
    "print(eat_check(pets))"
   ]
  }
 ],
 "metadata": {
  "interpreter": {
   "hash": "31f2aee4e71d21fbe5cf8b01ff0e069b9275f58929596ceb00d14d90e3e16cd6"
  },
  "kernelspec": {
   "display_name": "Python 3.8.9 64-bit",
   "name": "python3"
  },
  "language_info": {
   "codemirror_mode": {
    "name": "ipython",
    "version": 3
   },
   "file_extension": ".py",
   "mimetype": "text/x-python",
   "name": "python",
   "nbconvert_exporter": "python",
   "pygments_lexer": "ipython3",
   "version": "3.8.9"
  }
 },
 "nbformat": 4,
 "nbformat_minor": 2
}
