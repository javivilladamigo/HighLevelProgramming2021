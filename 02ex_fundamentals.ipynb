{
  "nbformat": 4,
  "nbformat_minor": 0,
  "metadata": {
    "kernelspec": {
      "display_name": "Python 3",
      "language": "python",
      "name": "python3"
    },
    "language_info": {
      "codemirror_mode": {
        "name": "ipython",
        "version": 3
      },
      "file_extension": ".py",
      "mimetype": "text/x-python",
      "name": "python",
      "nbconvert_exporter": "python",
      "pygments_lexer": "ipython3",
      "version": "3.8.5"
    },
    "colab": {
      "name": "02ex_fundamentals.ipynb",
      "provenance": [],
      "collapsed_sections": [],
      "include_colab_link": true
    }
  },
  "cells": [
    {
      "cell_type": "markdown",
      "metadata": {
        "id": "view-in-github",
        "colab_type": "text"
      },
      "source": [
        "<a href=\"https://colab.research.google.com/github/tuncermerve/HighLevelProgramming2021/blob/TuncerMerve/02ex_fundamentals.ipynb\" target=\"_parent\"><img src=\"https://colab.research.google.com/assets/colab-badge.svg\" alt=\"Open In Colab\"/></a>"
      ]
    },
    {
      "cell_type": "markdown",
      "metadata": {
        "id": "TwaFQLYB2DGt"
      },
      "source": [
        "1. Write the following expressions using the list comprehension"
      ]
    },
    {
      "cell_type": "code",
      "metadata": {
        "colab": {
          "base_uri": "https://localhost:8080/"
        },
        "id": "wJ8Hjtxq2DGv",
        "outputId": "176bf250-e51b-4183-be9d-9c179892aa30"
      },
      "source": [
        "# 1\n",
        "ans = []\n",
        "for i in range(3):\n",
        "    for j in range(4):\n",
        "        ans.append((i, j))\n",
        "print(ans)\n",
        "\n",
        "# 2\n",
        "ans = map(lambda x: x * x, filter(lambda x: x % 2 == 1, range(10)))\n",
        "print(list(ans))"
      ],
      "execution_count": null,
      "outputs": [
        {
          "output_type": "stream",
          "name": "stdout",
          "text": [
            "[(0, 0), (0, 1), (0, 2), (0, 3), (1, 0), (1, 1), (1, 2), (1, 3), (2, 0), (2, 1), (2, 2), (2, 3)]\n",
            "[1, 9, 25, 49, 81]\n"
          ]
        }
      ]
    },
    {
      "cell_type": "code",
      "metadata": {
        "colab": {
          "base_uri": "https://localhost:8080/"
        },
        "id": "-J1ggpNN2DGw",
        "outputId": "d03019cc-782f-438f-f367-a6144cf46fb4"
      },
      "source": [
        "ans = [(i, j) for i in range(3) for j in range(4)]\n",
        "print(ans)\n",
        "\n",
        "ans = [x*x for x in range(10) if x % 2 == 1]\n",
        "print(list(ans))"
      ],
      "execution_count": null,
      "outputs": [
        {
          "output_type": "stream",
          "name": "stdout",
          "text": [
            "[(0, 0), (0, 1), (0, 2), (0, 3), (1, 0), (1, 1), (1, 2), (1, 3), (2, 0), (2, 1), (2, 2), (2, 3)]\n",
            "[1, 9, 25, 49, 81]\n"
          ]
        }
      ]
    },
    {
      "cell_type": "markdown",
      "metadata": {
        "id": "pze9TqoF2DGw"
      },
      "source": [
        "2\\. Convert the function $f$ into a function that doesn't use global variables and that does not modify the original list"
      ]
    },
    {
      "cell_type": "code",
      "metadata": {
        "colab": {
          "base_uri": "https://localhost:8080/"
        },
        "id": "-2kU-0kz2DGx",
        "outputId": "e4d82dab-e945-4c25-e79a-21d5d33f0f6d"
      },
      "source": [
        "x = 5\n",
        "def f(alist):\n",
        "    for i in range(x):\n",
        "         alist.append(i)\n",
        "    return alist\n",
        "\n",
        "alist = [1,2,3]\n",
        "ans = f(alist)\n",
        "print(ans)\n",
        "print(alist) # alist has been changed!"
      ],
      "execution_count": null,
      "outputs": [
        {
          "output_type": "stream",
          "name": "stdout",
          "text": [
            "[1, 2, 3, 0, 1, 2, 3, 4]\n",
            "[1, 2, 3, 0, 1, 2, 3, 4]\n"
          ]
        }
      ]
    },
    {
      "cell_type": "code",
      "metadata": {
        "colab": {
          "base_uri": "https://localhost:8080/"
        },
        "id": "MzrX62kv2DGx",
        "outputId": "c8a24a92-02a6-4873-c9ee-561add7c0008"
      },
      "source": [
        "x = 10\n",
        "\n",
        "def f(alist):\n",
        "    x=5      #uses local variable instead of global variable\n",
        "    new_lst=alist.copy()\n",
        "    for i in range(x):\n",
        "         new_lst.append(i)\n",
        "    return new_lst\n",
        "\n",
        "alist = [1,2,3]\n",
        "ans = f(alist)\n",
        "print(ans)\n",
        "print(alist)"
      ],
      "execution_count": null,
      "outputs": [
        {
          "output_type": "stream",
          "name": "stdout",
          "text": [
            "[1, 2, 3, 0, 1, 2, 3, 4]\n",
            "[1, 2, 3]\n"
          ]
        }
      ]
    },
    {
      "cell_type": "markdown",
      "metadata": {
        "id": "Rnksk-G82DGy"
      },
      "source": [
        "3\\. Write a `decorator` hello that makes every wrapped function print “Hello!”, i.e. something like:\n",
        "\n",
        "```python\n",
        "@hello\n",
        "def square(x):\n",
        "    return x*x\n",
        "```\n",
        "\n"
      ]
    },
    {
      "cell_type": "code",
      "metadata": {
        "colab": {
          "base_uri": "https://localhost:8080/"
        },
        "id": "EijkDL7C2DGy",
        "outputId": "e151df0f-5a8c-4f07-8a84-288c6b9e25bd"
      },
      "source": [
        "def hello(func):\n",
        "    def wrapper(*args):\n",
        "        print('Hello!')\n",
        "    return wrapper\n",
        "\n",
        "@hello\n",
        "def square(x):\n",
        "    return x*x\n",
        "\n",
        "square(4)"
      ],
      "execution_count": null,
      "outputs": [
        {
          "output_type": "stream",
          "name": "stdout",
          "text": [
            "Hello!\n"
          ]
        }
      ]
    },
    {
      "cell_type": "markdown",
      "metadata": {
        "id": "42CkU5uw2DGz"
      },
      "source": [
        "4\\. Write the factorial function in two different ways, so that it a) does and b) does not use recursion."
      ]
    },
    {
      "cell_type": "code",
      "metadata": {
        "colab": {
          "base_uri": "https://localhost:8080/"
        },
        "id": "DJaTIrJy2DGz",
        "outputId": "6e682864-4236-47ba-9f4d-0977f1b6ad15"
      },
      "source": [
        "def factorial_func(n):\n",
        "    if n < 1:   \n",
        "        return 1\n",
        "    else:\n",
        "        number = n * factorial_func(n - 1)  # recursive call\n",
        "        print(str(n) + '! = ' + str(number))\n",
        "        return number\n",
        "        \n",
        "factorial_func(5)"
      ],
      "execution_count": null,
      "outputs": [
        {
          "output_type": "stream",
          "name": "stdout",
          "text": [
            "1! = 1\n",
            "2! = 2\n",
            "3! = 6\n",
            "4! = 24\n",
            "5! = 120\n"
          ]
        },
        {
          "output_type": "execute_result",
          "data": {
            "text/plain": [
              "120"
            ]
          },
          "metadata": {},
          "execution_count": 8
        }
      ]
    },
    {
      "cell_type": "code",
      "metadata": {
        "colab": {
          "base_uri": "https://localhost:8080/"
        },
        "id": "TboeSUmN292w",
        "outputId": "c20363fb-d4bb-4979-df6c-ebff1d5f81a6"
      },
      "source": [
        "def factorial_recursive(n):\n",
        "    factorial=1\n",
        "    for i in range(1,n+1):\n",
        "        factorial=factorial*i\n",
        "        print(str(i) + '! = ' + str(factorial))\n",
        "\n",
        "factorial_recursive(5)"
      ],
      "execution_count": null,
      "outputs": [
        {
          "output_type": "stream",
          "name": "stdout",
          "text": [
            "1! = 1\n",
            "2! = 2\n",
            "3! = 6\n",
            "4! = 24\n",
            "5! = 120\n"
          ]
        }
      ]
    },
    {
      "cell_type": "markdown",
      "metadata": {
        "id": "vwihxwUH2DGz"
      },
      "source": [
        "5\\. Use HOFs (zip in particular) to compute the weight of a circle, a disk and a sphere, assuming different radii and different densities:\n",
        "\n",
        "```python\n",
        "densities = {\"Al\" : [0.5, 1, 2], \"Fe\" : [3, 4, 5], \"Pb\" : [15, 20, 30]}\n",
        "radii = [1, 2, 3]\n",
        "```\n",
        "\n",
        "where the entries of the dictionary's values are the linear, superficial and volumetric densities of the materials respectively.\n",
        "\n",
        "Subsequently, define a list using a comprehension with three lambda functions that compute the circumference, the area and the volume for a given radius.\n"
      ]
    },
    {
      "cell_type": "code",
      "metadata": {
        "colab": {
          "base_uri": "https://localhost:8080/"
        },
        "id": "FeZapyZA2DG0",
        "outputId": "6421dec7-a627-42c9-9560-d1b8bf7ec0ff"
      },
      "source": [
        "pi=3.14\n",
        "circle= lambda r: 2* pi * r\n",
        "disk= lambda r: pi * r * r\n",
        "sphere= lambda r: 4/3 *  pi * r * r * r\n",
        "\n",
        "\n",
        "functions=[circle,disk,sphere]\n",
        "densities = {\"Al\" : [0.5, 1, 2], \"Fe\" : [3, 4, 5], \"Pb\" : [15, 20, 30]}\n",
        "radii = [1, 2, 3]\n",
        "\n",
        "for x,y in zip(densities,radii):\n",
        "    for d,f in zip(densities[x],functions):\n",
        "        print(\"Radius:\" , y, \"Density\", d , \"Weight\" ,f(y)*d )"
      ],
      "execution_count": null,
      "outputs": [
        {
          "output_type": "stream",
          "name": "stdout",
          "text": [
            "Radius: 1 Density 0.5 Weight 3.14\n",
            "Radius: 1 Density 1 Weight 3.14\n",
            "Radius: 1 Density 2 Weight 8.373333333333333\n",
            "Radius: 2 Density 3 Weight 37.68\n",
            "Radius: 2 Density 4 Weight 50.24\n",
            "Radius: 2 Density 5 Weight 167.46666666666667\n",
            "Radius: 3 Density 15 Weight 282.6\n",
            "Radius: 3 Density 20 Weight 565.1999999999999\n",
            "Radius: 3 Density 30 Weight 3391.1999999999994\n"
          ]
        }
      ]
    },
    {
      "cell_type": "markdown",
      "metadata": {
        "id": "Bt8Xz3-Z2DG0"
      },
      "source": [
        "6\\. Edit the class defintion to add an instance attribute of `is_hungry = True` to the Dog class. Then add a method called `eat()` which changes the value of `is_hungry` to `False` when called. Figure out the best way to instantiate the dog objects and to feed the dogs, e.g. call the `eat()` method for all instances. Finally, print “My dogs are hungry.” or “My dogs are not hungry.” if all of them have `is_hungry = True` or `False`, respectively. The final output should look like this:\n",
        "\n",
        "`I have 3 dogs. \n",
        "Tom is 6. \n",
        "Fletcher is 7. \n",
        "Larry is 9. \n",
        "And they're all mammals, of course. \n",
        "My dogs are not hungry.\n",
        "`\n",
        "\n",
        "```python\n",
        "# Parent class\n",
        "class Dog:\n",
        "\n",
        "    # Class attribute\n",
        "    species = 'mammal'\n",
        "\n",
        "    # Initializer / Instance attributes\n",
        "    def __init__(self, name, age):\n",
        "        self.name = name\n",
        "        self.age = age\n",
        "\n",
        "    # instance method\n",
        "    def description(self):\n",
        "        return \"{} is {} years old\".format(self.name, self.age)\n",
        "\n",
        "    # instance method\n",
        "    def speak(self, sound):\n",
        "        return \"{} says {}\".format(self.name, sound)\n",
        "\n",
        "# Child class (inherits from Dog class)\n",
        "class RussellTerrier(Dog):\n",
        "    def run(self, speed):\n",
        "        return \"{} runs {}\".format(self.name, speed)\n",
        "\n",
        "# Child class (inherits from Dog class)\n",
        "class Bulldog(Dog):\n",
        "    def run(self, speed):\n",
        "        return \"{} runs {}\".format(self.name, speed)\n",
        "```"
      ]
    },
    {
      "cell_type": "code",
      "metadata": {
        "id": "UoXcz-Pf2DG1"
      },
      "source": [
        "# Parent class\n",
        "class Dog:\n",
        "\n",
        "    # Class attribute\n",
        "    species = 'mammal'\n",
        "    \n",
        "    # Initializer / Instance attributes\n",
        "    def __init__(self, name, age):\n",
        "        self.name = name\n",
        "        self.age = age\n",
        "        self.is_hungry = True\n",
        "        \n",
        "    def eat(self):\n",
        "        self.is_hungry = False\n",
        "\n",
        "    # instance method\n",
        "    def description(self):\n",
        "        return \"{} is {} years old\".format(self.name, self.age)\n",
        "\n",
        "    # instance method\n",
        "    def speak(self, sound):\n",
        "        return \"{} says {}\".format(self.name, sound)\n",
        "\n",
        "# Child class (inherits from Dog class)\n",
        "class RussellTerrier(Dog):\n",
        "    def run(self, speed):\n",
        "        return \"{} runs {}\".format(self.name, speed)\n",
        "\n",
        "# Child class (inherits from Dog class)\n",
        "class Bulldog(Dog):\n",
        "    def run(self, speed):\n",
        "        return \"{} runs {}\".format(self.name, speed)"
      ],
      "execution_count": null,
      "outputs": []
    },
    {
      "cell_type": "code",
      "metadata": {
        "colab": {
          "base_uri": "https://localhost:8080/"
        },
        "id": "wCvUKXkLpnoJ",
        "outputId": "8704f430-0382-4ff5-b0e6-e32f0cfb54ca"
      },
      "source": [
        "dogs = []\n",
        "dogs.append(Dog('Tom', 6))\n",
        "dogs.append(RussellTerrier('Fletcher', 7))\n",
        "dogs.append(Bulldog('Larry', 9))\n",
        "\n",
        "print(f'I have {len(dogs)} dogs.')\n",
        "\n",
        "for dog in dogs:\n",
        "    print(dog.description())\n",
        "    \n",
        "print(f'And they\\'re all {Dog.species}, of course.')\n",
        "    \n",
        "# feed the dogs\n",
        "[dog.eat() for dog in dogs]\n",
        "\n",
        "count_hungry = 0\n",
        "for dog in dogs:\n",
        "    if dog.is_hungry:\n",
        "        print(f'{dog.name} is hungry.')\n",
        "        count_hungry += 1\n",
        "        \n",
        "if count_hungry == 0:\n",
        "    print('My dogs are not hungry.')"
      ],
      "execution_count": null,
      "outputs": [
        {
          "output_type": "stream",
          "name": "stdout",
          "text": [
            "I have 3 dogs.\n",
            "Tom is 6 years old\n",
            "Fletcher is 7 years old\n",
            "Larry is 9 years old\n",
            "And they're all mammal, of course.\n",
            "My dogs are not hungry.\n"
          ]
        }
      ]
    },
    {
      "cell_type": "code",
      "metadata": {
        "id": "QR_lc_QGprrV"
      },
      "source": [
        ""
      ],
      "execution_count": null,
      "outputs": []
    }
  ]
}