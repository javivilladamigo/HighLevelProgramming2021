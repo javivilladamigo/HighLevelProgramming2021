{
 "cells": [
  {
   "cell_type": "markdown",
   "metadata": {},
   "source": [
    "1. Write the following expressions using the list comprehension"
   ]
  },
  {
   "cell_type": "code",
   "execution_count": 1,
   "metadata": {},
   "outputs": [
    {
     "name": "stdout",
     "output_type": "stream",
     "text": [
      "[(0, 0), (0, 1), (0, 2), (0, 3), (1, 0), (1, 1), (1, 2), (1, 3), (2, 0), (2, 1), (2, 2), (2, 3)]\n",
      "[1, 9, 25, 49, 81]\n"
     ]
    }
   ],
   "source": [
    "# 1\n",
    "ans = []\n",
    "for i in range(3):\n",
    "    for j in range(4):\n",
    "        ans.append((i, j))\n",
    "print(ans)\n",
    "\n",
    "# 2\n",
    "ans = map(lambda x: x * x, filter(lambda x: x % 2 == 1, range(10)))\n",
    "print(list(ans))"
   ]
  },
  {
   "cell_type": "code",
   "execution_count": 2,
   "metadata": {},
   "outputs": [
    {
     "name": "stdout",
     "output_type": "stream",
     "text": [
      "[(0, 0), (0, 1), (0, 2), (0, 3), (1, 0), (1, 1), (1, 2), (1, 3), (2, 0), (2, 1), (2, 2), (2, 3)]\n",
      "[1, 9, 25, 49, 81]\n"
     ]
    }
   ],
   "source": [
    "#1\n",
    "ans=[(x,y) for x in range(3) for y in range(4)]\n",
    "print(ans)\n",
    "\n",
    "#2 quadrati dispari dei primi 10 numeri\n",
    "ans= [x*x for x in range(0,10) if x%2==1]\n",
    "print(ans)"
   ]
  },
  {
   "cell_type": "markdown",
   "metadata": {},
   "source": [
    "2\\. Convert the function $f$ into a function that doesn't use global variables and that does not modify the original list"
   ]
  },
  {
   "cell_type": "code",
   "execution_count": 3,
   "metadata": {},
   "outputs": [
    {
     "name": "stdout",
     "output_type": "stream",
     "text": [
      "[1, 2, 3, 0, 1, 2, 3, 4]\n",
      "[1, 2, 3, 0, 1, 2, 3, 4]\n"
     ]
    }
   ],
   "source": [
    "x = 5\n",
    "def f(alist):\n",
    "    for i in range(x):\n",
    "         alist.append(i)\n",
    "    return alist\n",
    "\n",
    "alist = [1,2,3]\n",
    "ans = f(alist)\n",
    "print(ans)\n",
    "print(alist) # alist has been changed!"
   ]
  },
  {
   "cell_type": "code",
   "execution_count": 4,
   "metadata": {},
   "outputs": [
    {
     "name": "stdout",
     "output_type": "stream",
     "text": [
      "[1, 2, 3, 0, 1, 2, 3, 4]\n",
      "[1, 2, 3]\n"
     ]
    }
   ],
   "source": [
    "x = 5\n",
    "def f(alist):\n",
    "    newlist=[]\n",
    "    for i in range(len(alist)):          #copying all the values\n",
    "        newlist.append(alist[i])\n",
    "    for i in range(x):                   #appending the new ones\n",
    "        newlist.append(i)\n",
    "    return newlist\n",
    "\n",
    "alist = [1,2,3]\n",
    "ans = f(alist)\n",
    "print(ans)\n",
    "print(alist)   #alist has not changed\n",
    "\n"
   ]
  },
  {
   "cell_type": "markdown",
   "metadata": {},
   "source": [
    "3\\. Write a `decorator` hello that makes every wrapped function print “Hello!”, i.e. something like:\n",
    "\n",
    "```python\n",
    "@hello\n",
    "def square(x):\n",
    "    return x*x\n",
    "```\n",
    "\n"
   ]
  },
  {
   "cell_type": "code",
   "execution_count": 5,
   "metadata": {},
   "outputs": [
    {
     "name": "stdout",
     "output_type": "stream",
     "text": [
      "Hello. I'm going to square  2\n",
      "4\n"
     ]
    }
   ],
   "source": [
    "def hello(func):\n",
    "    def inner_func(x):\n",
    "        print(\"Hello. I'm going to square \",x)\n",
    "        return func(x)\n",
    "    return inner_func\n",
    "\n",
    "@hello\n",
    "def square(x):\n",
    "    return x*x\n",
    "\n",
    "\n",
    "y=2\n",
    "y=square(y)\n",
    "print(y)"
   ]
  },
  {
   "cell_type": "markdown",
   "metadata": {},
   "source": [
    "4\\. Write the factorial function in two different ways, so that it a) does and b) does not use recursion."
   ]
  },
  {
   "cell_type": "code",
   "execution_count": 6,
   "metadata": {},
   "outputs": [
    {
     "name": "stdout",
     "output_type": "stream",
     "text": [
      "[(0, 1), (1, 1), (2, 2), (3, 6), (4, 24), (5, 120), (6, 720), (7, 5040), (8, 40320), (9, 362880)]\n",
      "[(0, 1), (1, 1), (2, 2), (3, 6), (4, 24), (5, 120), (6, 720), (7, 5040), (8, 40320), (9, 362880)]\n"
     ]
    }
   ],
   "source": [
    "#a using recursion\n",
    "def factorial(n):\n",
    "    # base case\n",
    "    if n==0:\n",
    "        return 1\n",
    "    # recursive case\n",
    "    else:\n",
    "        return n*factorial(n-1)\n",
    "\n",
    "    \n",
    "print([(i,factorial(i)) for i in range(10)])\n",
    "\n",
    "\n",
    "#b without recursion\n",
    "def fact_norecursion(n):\n",
    "    result=1\n",
    "    for i in range(1,n):\n",
    "        result=result*(i+1)\n",
    "    return result\n",
    "\n",
    "\n",
    "print([(i,fact_norecursion(i)) for i in range(10)])"
   ]
  },
  {
   "cell_type": "markdown",
   "metadata": {},
   "source": [
    "5\\. Use HOFs (zip in particular) to compute the weight of a circle, a disk and a sphere, assuming different radii and different densities:\n",
    "\n",
    "```python\n",
    "densities = {\"Al\" : [0.5, 1, 2], \"Fe\" : [3, 4, 5], \"Pb\" : [15, 20, 30]}\n",
    "radii = [1, 2, 3]\n",
    "```\n",
    "\n",
    "where the entries of the dictionary's values are the linear, superficial and volumetric densities of the materials respectively.\n",
    "\n",
    "Subsequently, define a list using a comprehension with three lambda functions that compute the circumference, the area and the volume for a given radius.\n"
   ]
  },
  {
   "cell_type": "code",
   "execution_count": 10,
   "metadata": {
    "scrolled": true
   },
   "outputs": [
    {
     "name": "stdout",
     "output_type": "stream",
     "text": [
      "Weight of rings of radius 1  \n",
      " Al: 3.141592653589793 \t\tFe:\t 18.84955592153876 \tPb:\t 94.24777960769379\n",
      "Weight of disks of radius 2  \n",
      " Al: 12.566370614359172 \t\tFe:\t 50.26548245743669 \tPb:\t 251.32741228718345\n",
      "Weight of spheres of radius 3  \n",
      " Al: 226.19467105846508 \t\tFe:\t 565.4866776461627 \tPb:\t 3392.920065876976 \n",
      "\n",
      "The following is a list with 3 elements (one for each radius): each of the elements is a list with circumference, area and volume of a ring, disk, sphere respectively for that particular radius. For instance the first element is a list with circumference, area and volume for the radius=1\n",
      "\n",
      "[[6.283185307179586, 3.141592653589793, 4.1887902047863905], [12.566370614359172, 12.566370614359172, 33.510321638291124], [18.84955592153876, 28.274333882308138, 113.09733552923254]]\n"
     ]
    }
   ],
   "source": [
    "densities = {\"Al\" : [0.5, 1, 2], \"Fe\" : [3, 4, 5], \"Pb\" : [15, 20, 30]}\n",
    "radii = [1, 2, 3]\n",
    "from math import pi    \n",
    "\n",
    "for (radius, al, fe, pb) in zip (radii, densities[\"Al\"],densities[\"Fe\"],densities[\"Pb\"]):\n",
    "        if(radius==1):\n",
    "            print(\"Weight of rings of radius\", radius,\" \\n Al:\", 2*pi*al*radius,\"\\t\\tFe:\\t\",2*pi*fe*radius, \"\\tPb:\\t\", 2*pi*pb*radius)\n",
    "        if(radius==2):\n",
    "            print(\"Weight of disks of radius\", radius,\" \\n Al:\", pi*al*radius**2,\"\\t\\tFe:\\t\",pi*fe*radius**2, \"\\tPb:\\t\", pi*pb*radius**2)\n",
    "        if (radius==3):\n",
    "            print(\"Weight of spheres of radius\", radius,\" \\n Al:\", 4/3*pi*al*radius**3,\"\\t\\tFe:\\t\",4/3*pi*fe*radius**3, \"\\tPb:\\t\", 4/3*pi*pb*radius**3,\"\\n\")\n",
    "\n",
    "print(\"The following is a list with 3 elements (one for each radius): each of the elements is a list with circumference, area and volume of a ring, disk, sphere respectively for that particular radius. For instance the first element is a list with circumference, area and volume for the radius=1\\n\")        \n",
    "lista=[[circ,sup,vol] for [circ,sup,vol] in zip(map(lambda r: 2*pi*r, radii),map(lambda r: pi*r*r, radii),map(lambda r: 4/3*pi*r**3, radii))]\n",
    "print(lista)"
   ]
  },
  {
   "cell_type": "markdown",
   "metadata": {},
   "source": [
    "6\\. Edit the class defintion to add an instance attribute of `is_hungry = True` to the Dog class. Then add a method called `eat()` which changes the value of `is_hungry` to `False` when called. Figure out the best way to instantiate the dog objects and to feed the dogs, e.g. call the `eat()` method for all instances. Finally, print “My dogs are hungry.” or “My dogs are not hungry.” if all of them have `is_hungry = True` or `False`, respectively. The final output should look like this:\n",
    "\n",
    "`I have 3 dogs. \n",
    "Tom is 6. \n",
    "Fletcher is 7. \n",
    "Larry is 9. \n",
    "And they're all mammals, of course. \n",
    "My dogs are not hungry.\n",
    "`\n",
    "\n",
    "```python\n",
    "# Parent class\n",
    "class Dog:\n",
    "\n",
    "    # Class attribute\n",
    "    species = 'mammal'\n",
    "\n",
    "    # Initializer / Instance attributes\n",
    "    def __init__(self, name, age):\n",
    "        self.name = name\n",
    "        self.age = age\n",
    "\n",
    "    # instance method\n",
    "    def description(self):\n",
    "        return \"{} is {} years old\".format(self.name, self.age)\n",
    "\n",
    "    # instance method\n",
    "    def speak(self, sound):\n",
    "        return \"{} says {}\".format(self.name, sound)\n",
    "\n",
    "# Child class (inherits from Dog class)\n",
    "class RussellTerrier(Dog):\n",
    "    def run(self, speed):\n",
    "        return \"{} runs {}\".format(self.name, speed)\n",
    "\n",
    "# Child class (inherits from Dog class)\n",
    "class Bulldog(Dog):\n",
    "    def run(self, speed):\n",
    "        return \"{} runs {}\".format(self.name, speed)\n",
    "```"
   ]
  },
  {
   "cell_type": "code",
   "execution_count": 11,
   "metadata": {},
   "outputs": [
    {
     "name": "stdout",
     "output_type": "stream",
     "text": [
      "Tom is 10 years old\n",
      "Fletcher is 2 years old\n",
      "Larry is 7 years old\n",
      "Pigio is 4 years old\n",
      "Ciccio is 5 years old\n",
      "Paolo is 12 years old\n",
      "Pietro is 4 years old\n",
      "Annibale is 6 years old\n",
      "And they're all mammals, of course.\n",
      "\n",
      "My dogs are hungry\n",
      "\n",
      "Tom is fed\n",
      "Fletcher is fed\n",
      "Larry is fed\n",
      "Pigio is fed\n",
      "Ciccio is fed\n",
      "Paolo is fed\n",
      "Pietro is fed\n",
      "Annibale is fed\n",
      "\n",
      "My dogs are not hungry\n",
      "\n"
     ]
    }
   ],
   "source": [
    "\n",
    "class Dog:\n",
    "\n",
    "    # Class attribute\n",
    "    species = 'mammal'\n",
    "    is_hungry = True                                     #added instance attribute\n",
    "\n",
    "\n",
    "    # Initializer / Instance attributes\n",
    "    def __init__(self, name=None, age=None):\n",
    "        self.name = name\n",
    "        self.age = age\n",
    "        \n",
    "\n",
    "    # instance method\n",
    "    def description(self):\n",
    "        return \"{} is {} years old\".format(self.name, self.age)\n",
    "\n",
    "    # instance method\n",
    "    def speak(self, sound):\n",
    "        return \"{} says {}\".format(self.name, sound)\n",
    "    \n",
    "    def eat(self):\n",
    "        self.is_hungry=False\n",
    "        print(self.name,\"is fed\")\n",
    "        \n",
    "\n",
    "# Child class (inherits from Dog class)\n",
    "class RussellTerrier(Dog):\n",
    "    def run(self, speed):\n",
    "        return \"{} runs {}\".format(self.name, speed)\n",
    "\n",
    "# Child class (inherits from Dog class)\n",
    "class Bulldog(Dog):\n",
    "    def run(self, speed):\n",
    "        return \"{} runs {}\".format(self.name, speed)\n",
    "    \n",
    "\n",
    "###########################           INIZIO CODICE ####################\n",
    "\n",
    "\n",
    "list_of_names=[\"Tom\",\"Fletcher\",\"Larry\",\"Pigio\",\"Ciccio\",\"Paolo\",\"Pietro\",\"Annibale\"]\n",
    "list_of_ages=[10,2,7,4,5,12,4,6]\n",
    "objs = [Dog() for i in range(len(list_of_names))]         # instantiate the dog objects \n",
    "\n",
    "dogs_hungry=0  #number of hungry dogs\n",
    "flag=True #booleano: true if every dogs is mammal, false otherwise( should be always true)\n",
    "for i in range(len(objs)):\n",
    "    objs[i].name=list_of_names[i]           #set the name and age\n",
    "    objs[i].age=list_of_ages[i]\n",
    "    print(objs[i].description())\n",
    "    if objs[i].is_hungry==True:          #check if the dogs are hungry\n",
    "        dogs_hungry=dogs_hungry+1\n",
    "    if objs[i].species!='mammal':\n",
    "            flag=False\n",
    "if flag==True:\n",
    "    print(\"And they're all mammals, of course.\")\n",
    "else:\n",
    "    print(\"They are not all mammals\")   #impossibile\n",
    "          \n",
    "if dogs_hungry==0:                                 #zero dogs hungry case\n",
    "    print(\"\\nMy dogs are not hungry\\n\")\n",
    "elif dogs_hungry==len(list_of_names):                #all the dogs are hungry\n",
    "    print(\"\\nMy dogs are hungry\\n\")\n",
    "\n",
    "    \n",
    "dogs_hungry=0                                  #I set the counter of hungry dogs to zero to check if the eat method works\n",
    "for i in range(len(objs)):    \n",
    "    objs[i].eat()                 #Here i'm feeding all the dogs\n",
    "    if objs[i].is_hungry==True:          #check  again if the dogs are hungry\n",
    "        dogs_hungry=dogs_hungry+1\n",
    "\n",
    "\n",
    "if dogs_hungry==0:\n",
    "    print(\"\\nMy dogs are not hungry\\n\")\n",
    "elif dogs_hungry==len(list_of_names):\n",
    "    print(\"\\nMy dogs are hungry\\n\")\n",
    "    "
   ]
  }
 ],
 "metadata": {
  "kernelspec": {
   "display_name": "Python 3 (ipykernel)",
   "language": "python",
   "name": "python3"
  },
  "language_info": {
   "codemirror_mode": {
    "name": "ipython",
    "version": 3
   },
   "file_extension": ".py",
   "mimetype": "text/x-python",
   "name": "python",
   "nbconvert_exporter": "python",
   "pygments_lexer": "ipython3",
   "version": "3.9.4"
  }
 },
 "nbformat": 4,
 "nbformat_minor": 2
}
