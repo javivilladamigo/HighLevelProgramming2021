{
 "cells": [
  {
   "cell_type": "markdown",
   "metadata": {},
   "source": [
    "1. Write the following expressions using the list comprehension"
   ]
  },
  {
   "cell_type": "code",
   "execution_count": 1,
   "metadata": {},
   "outputs": [
    {
     "name": "stdout",
     "output_type": "stream",
     "text": [
      "[(0, 0), (0, 1), (0, 2), (0, 3), (1, 0), (1, 1), (1, 2), (1, 3), (2, 0), (2, 1), (2, 2), (2, 3)]\n",
      "[1, 9, 25, 49, 81]\n"
     ]
    }
   ],
   "source": [
    "# 1\n",
    "ans = []\n",
    "for i in range(3):\n",
    "    for j in range(4):\n",
    "        ans.append((i, j))\n",
    "print(ans)\n",
    "\n",
    "# 2\n",
    "ans = map(lambda x: x * x, filter(lambda x: x % 2 == 1, range(10)))\n",
    "print(list(ans))"
   ]
  },
  {
   "cell_type": "code",
   "execution_count": 2,
   "metadata": {},
   "outputs": [
    {
     "name": "stdout",
     "output_type": "stream",
     "text": [
      "[(0, 0), (0, 1), (0, 2), (0, 3), (1, 0), (1, 1), (1, 2), (1, 3), (2, 0), (2, 1), (2, 2), (2, 3)]\n",
      "[1, 9, 25, 49, 81]\n"
     ]
    }
   ],
   "source": [
    "# 1\n",
    "ans = [(i, j) for i in range(3) for j in range(4)]\n",
    "print(ans)\n",
    "\n",
    "# 2\n",
    "ans = [i**2 for i in range(10) if i %2==1]\n",
    "print(ans)"
   ]
  },
  {
   "cell_type": "markdown",
   "metadata": {},
   "source": [
    "2\\. Convert the function $f$ into a function that doesn't use global variables and that does not modify the original list"
   ]
  },
  {
   "cell_type": "code",
   "execution_count": 3,
   "metadata": {},
   "outputs": [
    {
     "name": "stdout",
     "output_type": "stream",
     "text": [
      "[1, 2, 3, 0, 1, 2, 3, 4]\n",
      "[1, 2, 3, 0, 1, 2, 3, 4]\n"
     ]
    }
   ],
   "source": [
    "x = 5\n",
    "def f(alist):\n",
    "    for i in range(x):\n",
    "         alist.append(i)\n",
    "    return alist\n",
    "\n",
    "alist = [1,2,3]\n",
    "ans = f(alist)\n",
    "print(ans)\n",
    "print(alist) # alist has been changed!"
   ]
  },
  {
   "cell_type": "code",
   "execution_count": 4,
   "metadata": {},
   "outputs": [
    {
     "name": "stdout",
     "output_type": "stream",
     "text": [
      "[1, 2, 3, 0, 1, 2, 3, 4]\n",
      "[1, 2, 3]\n"
     ]
    }
   ],
   "source": [
    "def f(list):\n",
    "    x = 5\n",
    "    output = []\n",
    "    for i in range(x+len(list)):\n",
    "        if (i<len(list)):\n",
    "            output.append(list[i])\n",
    "        else:\n",
    "            output.append(i-len(list))\n",
    "    return output\n",
    "\n",
    "example = [1,2,3]\n",
    "print(f(example))\n",
    "print(example)"
   ]
  },
  {
   "cell_type": "markdown",
   "metadata": {},
   "source": [
    "3\\. Write a `decorator` hello that makes every wrapped function print “Hello!”, i.e. something like:\n",
    "\n",
    "```python\n",
    "@hello\n",
    "def square(x):\n",
    "    return x*x\n",
    "```\n",
    "\n"
   ]
  },
  {
   "cell_type": "code",
   "execution_count": 5,
   "metadata": {},
   "outputs": [],
   "source": [
    "def hello(f):\n",
    "    def text(*args):\n",
    "        print(\"Hello!\")\n",
    "        result = f(*args) # decorators with arguments require them to be specified\n",
    "        print(\"Hello!\")\n",
    "        return result\n",
    "    return text\n",
    "\n",
    "@hello\n",
    "def square(x):\n",
    "    print(x*x)\n",
    "    return (x*x)"
   ]
  },
  {
   "cell_type": "code",
   "execution_count": 6,
   "metadata": {},
   "outputs": [
    {
     "name": "stdout",
     "output_type": "stream",
     "text": [
      "Hello!\n",
      "4\n",
      "Hello!\n",
      "4\n"
     ]
    }
   ],
   "source": [
    "print(square(2))"
   ]
  },
  {
   "cell_type": "markdown",
   "metadata": {},
   "source": [
    "4\\. Write the factorial function in two different ways, so that it a) does and b) does not use recursion."
   ]
  },
  {
   "cell_type": "code",
   "execution_count": 7,
   "metadata": {},
   "outputs": [],
   "source": [
    "# a) with the use of recursion\n",
    "def factorial_with_recursion(x):\n",
    "    if x<=0:\n",
    "        print(\"Negative argument -> out of scope!\")\n",
    "    else:\n",
    "        product = 1\n",
    "        for i in range(1,x+1):\n",
    "            product *= i\n",
    "        return product"
   ]
  },
  {
   "cell_type": "code",
   "execution_count": 8,
   "metadata": {},
   "outputs": [
    {
     "name": "stdout",
     "output_type": "stream",
     "text": [
      "The factorial of 5 = 120 \n"
     ]
    }
   ],
   "source": [
    "x = 5\n",
    "print(\"The factorial of %i = %i \" % (x, factorial_with_recursion(x)))"
   ]
  },
  {
   "cell_type": "code",
   "execution_count": 9,
   "metadata": {},
   "outputs": [],
   "source": [
    "# a) without the use of recursion\n",
    "from functools import reduce\n",
    "import numpy as np\n",
    "\n",
    "def my_mult(x, y):\n",
    "    return x*y\n",
    "\n",
    "def factorial_wo_recursion(x):\n",
    "    array = np.arange(1, x+1)\n",
    "    return array"
   ]
  },
  {
   "cell_type": "code",
   "execution_count": 12,
   "metadata": {},
   "outputs": [
    {
     "name": "stdout",
     "output_type": "stream",
     "text": [
      "The factorial of 5 = 120 \n"
     ]
    }
   ],
   "source": [
    "x = 5 \n",
    "print(\"The factorial of %i = %i \" % (x, reduce(my_mult, factorial_wo_recursion(x))))"
   ]
  },
  {
   "cell_type": "markdown",
   "metadata": {},
   "source": [
    "5\\. Use HOFs (zip in particular) to compute the weight of a circle, a disk and a sphere, assuming different radii and different densities:\n",
    "\n",
    "```python\n",
    "densities = {\"Al\" : [0.5, 1, 2], \"Fe\" : [3, 4, 5], \"Pb\" : [15, 20, 30]}\n",
    "radii = [1, 2, 3]\n",
    "```\n",
    "\n",
    "where the entries of the dictionary's values are the linear, superficial and volumetric densities of the materials respectively.\n",
    "\n",
    "Subsequently, define a list using a comprehension with three lambda functions that compute the circumference, the area and the volume for a given radius.\n"
   ]
  },
  {
   "cell_type": "code",
   "execution_count": 11,
   "metadata": {},
   "outputs": [
    {
     "name": "stdout",
     "output_type": "stream",
     "text": [
      "\n",
      "\n",
      "Weight of circle of radius 1 and material Al: 3.14\n",
      "Weight of circle of radius 1 and material Fe: 18.85\n",
      "Weight of circle of radius 1 and material Pb: 94.25\n",
      "Weight of circle of radius 2 and material Al: 6.28\n",
      "Weight of circle of radius 2 and material Fe: 37.70\n",
      "Weight of circle of radius 2 and material Pb: 188.50\n",
      "Weight of circle of radius 3 and material Al: 9.42\n",
      "Weight of circle of radius 3 and material Fe: 56.55\n",
      "Weight of circle of radius 3 and material Pb: 282.74\n",
      "\n",
      "\n",
      "Weight of disk of radius 1 and material Al: 3.14\n",
      "Weight of disk of radius 1 and material Fe: 12.57\n",
      "Weight of disk of radius 1 and material Pb: 62.83\n",
      "Weight of disk of radius 2 and material Al: 12.57\n",
      "Weight of disk of radius 2 and material Fe: 50.27\n",
      "Weight of disk of radius 2 and material Pb: 251.33\n",
      "Weight of disk of radius 3 and material Al: 28.27\n",
      "Weight of disk of radius 3 and material Fe: 113.10\n",
      "Weight of disk of radius 3 and material Pb: 565.49\n",
      "\n",
      "\n",
      "Weight of sphere of radius 1 and material Al: 8.38\n",
      "Weight of sphere of radius 1 and material Fe: 20.94\n",
      "Weight of sphere of radius 1 and material Pb: 125.66\n",
      "Weight of sphere of radius 2 and material Al: 67.02\n",
      "Weight of sphere of radius 2 and material Fe: 167.55\n",
      "Weight of sphere of radius 2 and material Pb: 1005.31\n",
      "Weight of sphere of radius 3 and material Al: 226.19\n",
      "Weight of sphere of radius 3 and material Fe: 565.49\n",
      "Weight of sphere of radius 3 and material Pb: 3392.92\n"
     ]
    }
   ],
   "source": [
    "import numpy as np\n",
    "densities = {\"Al\" : [0.5, 1, 2], \"Fe\" : [3, 4, 5], \"Pb\" : [15, 20, 30]}\n",
    "radii = [1, 2, 3]\n",
    "\n",
    "weights = {\"Circle\" : [], \"Disk\" : [], \"Sphere\" : []}\n",
    "\n",
    "\n",
    "material = []\n",
    "for i in densities:\n",
    "\tmaterial.append(i)\n",
    "\n",
    "linear_dens = []\n",
    "sup_dens = []\n",
    "vol_dens = []\n",
    "\n",
    "for i in material:\n",
    "\tlinear_dens.append(densities[i][0])\n",
    "\tsup_dens.append(densities[i][1])\n",
    "\tvol_dens.append(densities[i][2])\n",
    "\n",
    "for r in radii:\n",
    "\tfor i,j,k in zip(linear_dens, sup_dens, vol_dens):\n",
    "\t\t#print(\"Radius %i and densities: %f, %f %f\" % (r, i, j, k))\n",
    "\t\tweights['Circle'].append(2*np.pi*r*i)\n",
    "\t\tweights['Disk'].append(np.pi*r**2*j)\n",
    "\t\tweights['Sphere'].append(4./3.*np.pi*r**3*k)\n",
    "\n",
    "print(\"\\n\")\n",
    "k = 0\n",
    "for i in range(len(radii)):\n",
    "\tfor j in range(len(material)):\n",
    "\t\tprint(\"Weight of circle of radius %i and material %s: %.2f\" % (radii[i], material[j], weights['Circle'][k]))\n",
    "\t\tk += 1\n",
    "\n",
    "print(\"\\n\")\n",
    "k = 0\n",
    "for i in range(len(radii)):\n",
    "\tfor j in range(len(material)):\n",
    "\t\tprint(\"Weight of disk of radius %i and material %s: %.2f\" % (radii[i], material[j], weights['Disk'][k]))\n",
    "\t\tk += 1\n",
    "\n",
    "print(\"\\n\")\n",
    "k = 0\n",
    "for i in range(len(radii)):\n",
    "\tfor j in range(len(material)):\n",
    "\t\tprint(\"Weight of sphere of radius %i and material %s: %.2f\" % (radii[i], material[j], weights['Sphere'][k]))\n",
    "\t\tk += 1"
   ]
  },
  {
   "cell_type": "code",
   "execution_count": 12,
   "metadata": {},
   "outputs": [
    {
     "name": "stdout",
     "output_type": "stream",
     "text": [
      "Circ, area, and volume for r = 1: 6.28, 3.14, 4.19\n",
      "Circ, area, and volume for r = 2: 12.57, 12.57, 33.51\n",
      "Circ, area, and volume for r = 3: 18.85, 28.27, 113.10\n"
     ]
    }
   ],
   "source": [
    "a = [((lambda r: 2*np.pi*r)(r), (lambda r: np.pi*r*r)(r), (lambda r: 4./3.*np.pi*r*r*r)(r)) for r in radii]\n",
    "\n",
    "for l in range(len(radii)):\n",
    "    print(\"Circ, area, and volume for r = %i: %.2f, %.2f, %.2f\" % (radii[l], *a[l]))"
   ]
  },
  {
   "cell_type": "markdown",
   "metadata": {},
   "source": [
    "6\\. Edit the class defintion to add an instance attribute of `is_hungry = True` to the Dog class. Then add a method called `eat()` which changes the value of `is_hungry` to `False` when called. Figure out the best way to instantiate the dog objects and to feed the dogs, e.g. call the `eat()` method for all instances. Finally, print “My dogs are hungry.” or “My dogs are not hungry.” if all of them have `is_hungry = True` or `False`, respectively. The final output should look like this:\n",
    "\n",
    "`I have 3 dogs. \n",
    "Tom is 6. \n",
    "Fletcher is 7. \n",
    "Larry is 9. \n",
    "And they're all mammals, of course. \n",
    "My dogs are not hungry.\n",
    "`\n",
    "\n",
    "```python\n",
    "# Parent class\n",
    "class Dog:\n",
    "\n",
    "    # Class attribute\n",
    "    species = 'mammal'\n",
    "\n",
    "    # Initializer / Instance attributes\n",
    "    def __init__(self, name, age):\n",
    "        self.name = name\n",
    "        self.age = age\n",
    "\n",
    "    # instance method\n",
    "    def description(self):\n",
    "        return \"{} is {} years old\".format(self.name, self.age)\n",
    "\n",
    "    # instance method\n",
    "    def speak(self, sound):\n",
    "        return \"{} says {}\".format(self.name, sound)\n",
    "\n",
    "# Child class (inherits from Dog class)\n",
    "class RussellTerrier(Dog):\n",
    "    def run(self, speed):\n",
    "        return \"{} runs {}\".format(self.name, speed)\n",
    "\n",
    "# Child class (inherits from Dog class)\n",
    "class Bulldog(Dog):\n",
    "    def run(self, speed):\n",
    "        return \"{} runs {}\".format(self.name, speed)\n",
    "```"
   ]
  },
  {
   "cell_type": "code",
   "execution_count": 13,
   "metadata": {},
   "outputs": [],
   "source": [
    "class Dog:\n",
    "\n",
    "    # Class attribute\n",
    "    species = 'mammal'\n",
    "    is_hungry = True\n",
    "\n",
    "    # Initializer / Instance attributes\n",
    "    def __init__(self, name, age):\n",
    "        self.name = name\n",
    "        self.age = age\n",
    "\n",
    "    # instance method\n",
    "    def description(self):\n",
    "        return \"{} is {} years old\".format(self.name, self.age)\n",
    "\n",
    "    # instance method\n",
    "    def speak(self, sound):\n",
    "        return \"{} says {}\".format(self.name, sound)\n",
    "    \n",
    "    def eat(self):\n",
    "        self.is_hungry = False\n",
    "        return\n",
    "\n",
    "# Child class (inherits from Dog class)\n",
    "class RussellTerrier(Dog):\n",
    "    def run(self, speed):\n",
    "        return \"{} runs {}\".format(self.name, speed)\n",
    "\n",
    "# Child class (inherits from Dog class)\n",
    "class Bulldog(Dog):\n",
    "    def run(self, speed):\n",
    "        return \"{} runs {}\".format(self.name, speed)"
   ]
  },
  {
   "cell_type": "code",
   "execution_count": 14,
   "metadata": {},
   "outputs": [
    {
     "name": "stdout",
     "output_type": "stream",
     "text": [
      "I have 3 dogs\n",
      "Tom is 6.\n",
      "Fletcher is 7.\n",
      "Larry is 9.\n",
      "And they're all mammals, of course.\n",
      "My dogs are not hungry.\n"
     ]
    }
   ],
   "source": [
    "tom = RussellTerrier(\"Tom\", 6)\n",
    "fletcher = RussellTerrier(\"Fletcher\", 7)\n",
    "larry = Bulldog(\"Larry\", 9)\n",
    "\n",
    "dog_list = [tom, fletcher, larry]\n",
    "# feed the dogs\n",
    "for dog in dog_list:\n",
    "    if dog.is_hungry == True:\n",
    "        dog.eat()\n",
    "\n",
    "\n",
    "\n",
    "print(\"I have\", len(dog_list), \"dogs\")\n",
    "for dog in dog_list:\n",
    "    print(\"%s is %i.\" % (dog.name, dog.age))\n",
    "print(\"And they're all\", dog.species + \"s,\",\"of course.\")\n",
    "\n",
    "if tom.is_hungry == True and fletcher.is_hungry == True and larry.is_hungry == True:\n",
    "    print(\"My dogs are hungry.\")\n",
    "elif tom.is_hungry == False and fletcher.is_hungry == False and larry.is_hungry == False:\n",
    "    print(\"My dogs are not hungry.\")"
   ]
  }
 ],
 "metadata": {
  "interpreter": {
   "hash": "082e9a3bcad0a290d0001e938aa60b99250c6c2ef33a923c00b70f9826caf4b7"
  },
  "kernelspec": {
   "display_name": "Python 3.8.5 64-bit",
   "name": "python3"
  },
  "language_info": {
   "codemirror_mode": {
    "name": "ipython",
    "version": 3
   },
   "file_extension": ".py",
   "mimetype": "text/x-python",
   "name": "python",
   "nbconvert_exporter": "python",
   "pygments_lexer": "ipython3",
   "version": "3.8.5"
  }
 },
 "nbformat": 4,
 "nbformat_minor": 2
}
