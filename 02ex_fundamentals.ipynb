{
 "cells": [
  {
   "cell_type": "markdown",
   "metadata": {},
   "source": [
    "1. Write the following expressions using the list comprehension"
   ]
  },
  {
   "cell_type": "code",
   "execution_count": 1,
   "metadata": {},
   "outputs": [
    {
     "name": "stdout",
     "output_type": "stream",
     "text": [
      "[(0, 0), (0, 1), (0, 2), (0, 3), (1, 0), (1, 1), (1, 2), (1, 3), (2, 0), (2, 1), (2, 2), (2, 3)]\n",
      "[1, 9, 25, 49, 81]\n"
     ]
    }
   ],
   "source": [
    "# 1\n",
    "ans = []\n",
    "for i in range(3):\n",
    "    for j in range(4):\n",
    "        ans.append((i, j))\n",
    "print(ans)\n",
    "\n",
    "# 2\n",
    "ans = map(lambda x: x * x, filter(lambda x: x % 2 == 1, range(10)))\n",
    "print(list(ans))"
   ]
  },
  {
   "cell_type": "code",
   "execution_count": 2,
   "metadata": {},
   "outputs": [
    {
     "name": "stdout",
     "output_type": "stream",
     "text": [
      "The expression 1 using list comprehension is: \n",
      "[(0, 0), (0, 1), (0, 2), (0, 3), (1, 0), (1, 1), (1, 2), (1, 3), (2, 0), (2, 1), (2, 2), (2, 3)]\n",
      "The expression 2 using list comprehension is: \n",
      "[1, 9, 25, 49, 81]\n"
     ]
    }
   ],
   "source": [
    "# 1 \n",
    "# simply iterating over the two range, inserting the two element in a tuple \n",
    "\n",
    "ans = [(x,y) for x in range(3) for y in range(4)]\n",
    "print('The expression 1 using list comprehension is: \\n%s' % ans)\n",
    "\n",
    "# 2 \n",
    "# the code returns the squares of the odd numbers between 0 and 10. Instead of \n",
    "# using a lambda function to check if the number is odd, a filter to apply the lambda\n",
    "# to all the elemente selecting only the odd ones, another lambda to compute the square \n",
    "# and map to apply the second lambda to all the elements, list comprehension allows to\n",
    "# compute the square only if the if statement is verified \n",
    "\n",
    "ans = [x**2 for x in range(10) if x % 2 == 1 ]\n",
    "print('The expression 2 using list comprehension is: \\n%s' % ans)"
   ]
  },
  {
   "cell_type": "markdown",
   "metadata": {},
   "source": [
    "2\\. Convert the function $f$ into a function that doesn't use global variables and that does not modify the original list"
   ]
  },
  {
   "cell_type": "code",
   "execution_count": 3,
   "metadata": {},
   "outputs": [
    {
     "name": "stdout",
     "output_type": "stream",
     "text": [
      "[1, 2, 3, 0, 1, 2, 3, 4]\n",
      "[1, 2, 3, 0, 1, 2, 3, 4]\n"
     ]
    }
   ],
   "source": [
    "x = 5\n",
    "def f(alist):\n",
    "    for i in range(x):\n",
    "         alist.append(i)\n",
    "    return alist\n",
    "\n",
    "alist = [1,2,3]\n",
    "ans = f(alist)\n",
    "print(ans)\n",
    "print(alist) # alist has been changed!"
   ]
  },
  {
   "cell_type": "code",
   "execution_count": 4,
   "metadata": {},
   "outputs": [
    {
     "name": "stdout",
     "output_type": "stream",
     "text": [
      "The original list is: \n",
      "[1, 2, 3]\n",
      "The new list is: \n",
      "[0, 1, 2, 3, 4]\n",
      "The original list keeps its initial values: \n",
      "[1, 2, 3]\n"
     ]
    }
   ],
   "source": [
    "# in the previous case, the new elements are appended to an existing object alist.\n",
    "# Now original_list is assigned to a new object. The copy of this list\n",
    "# points to the new list in the fuction, but the original_list outside is the same   \n",
    "\n",
    "x = 5\n",
    "def f_new(original_list):\n",
    "    original_list = [num for num in range(x)]\n",
    "    return original_list\n",
    "\n",
    "original_list = [1,2,3]\n",
    "new_list = f_new(original_list)\n",
    "print('The original list is: \\n%s' % original_list)\n",
    "print('The new list is: \\n%s' % new_list)\n",
    "print('The original list keeps its initial values: \\n%s' % original_list)\n"
   ]
  },
  {
   "cell_type": "markdown",
   "metadata": {},
   "source": [
    "3\\. Write a `decorator` hello that makes every wrapped function print “Hello!”, i.e. something like:\n",
    "\n",
    "```python\n",
    "@hello\n",
    "def square(x):\n",
    "    return x*x\n",
    "```\n",
    "\n"
   ]
  },
  {
   "cell_type": "code",
   "execution_count": 5,
   "metadata": {},
   "outputs": [
    {
     "name": "stdout",
     "output_type": "stream",
     "text": [
      "Hello\n",
      "25\n"
     ]
    }
   ],
   "source": [
    "def hello(func):\n",
    "    def wrapper(x):\n",
    "        print('Hello')\n",
    "        return func(x)\n",
    "    return wrapper\n",
    "\n",
    "@hello\n",
    "def square(x):\n",
    "    return x*x\n",
    "\n",
    "value = 5\n",
    "print(square(value))"
   ]
  },
  {
   "cell_type": "markdown",
   "metadata": {},
   "source": [
    "4\\. Write the factorial function in two different ways, so that it a) does and b) does not use recursion."
   ]
  },
  {
   "cell_type": "code",
   "execution_count": 6,
   "metadata": {},
   "outputs": [
    {
     "name": "stdout",
     "output_type": "stream",
     "text": [
      "The factorial value of 5 computed using recursion is 120\n"
     ]
    }
   ],
   "source": [
    "# factorial functin with recursion\n",
    "# it keep the passed value and multiply it for a recursion list until x = 1 for which the result is 1\n",
    "\n",
    "def factorial_rec(x):\n",
    "    if x == 0 or x == 1:\n",
    "        return 1\n",
    "    else:\n",
    "        res = x*factorial_rec(x-1)      \n",
    "    return res\n",
    "    \n",
    "num = 5\n",
    "res_fact = factorial_rec(num)\n",
    "print('The factorial value of %d computed using recursion is %d' %(num, res_fact))"
   ]
  },
  {
   "cell_type": "code",
   "execution_count": 7,
   "metadata": {},
   "outputs": [
    {
     "name": "stdout",
     "output_type": "stream",
     "text": [
      "The factorial value of 4 computed without recursion is 24\n"
     ]
    }
   ],
   "source": [
    "# factorial functin without recursion\n",
    "# using a for loop multipy all the values from 2 to the passed value \n",
    "# by overwriting the current multiplication result\n",
    "\n",
    "def factorial_iter(x):\n",
    "    if x == 0 or x == 1:\n",
    "        return 1\n",
    "    else:\n",
    "        res = 1\n",
    "        for i in range(res+1,x+1):          \n",
    "            res = res*i\n",
    "    return res\n",
    "            \n",
    "num = 4\n",
    "res_iter = factorial_iter(num)\n",
    "print('The factorial value of %d computed without recursion is %d' %(num, res_iter))\n"
   ]
  },
  {
   "cell_type": "markdown",
   "metadata": {},
   "source": [
    "5\\. Use HOFs (zip in particular) to compute the weight of a circle, a disk and a sphere, assuming different radii and different densities:\n",
    "\n",
    "```python\n",
    "densities = {\"Al\" : [0.5, 1, 2], \"Fe\" : [3, 4, 5], \"Pb\" : [15, 20, 30]}\n",
    "radii = [1, 2, 3]\n",
    "```\n",
    "\n",
    "where the entries of the dictionary's values are the linear, superficial and volumetric densities of the materials respectively.\n",
    "\n",
    "Subsequently, define a list using a comprehension with three lambda functions that compute the circumference, the area and the volume for a given radius.\n"
   ]
  },
  {
   "cell_type": "code",
   "execution_count": 8,
   "metadata": {},
   "outputs": [
    {
     "name": "stdout",
     "output_type": "stream",
     "text": [
      "The considered material is Al\n",
      "A Circle with radius 1 has weight 3.142\n",
      "A Disk with radius 2 has weight 12.566\n",
      "A Sphere with radius 3 has weight 226.195\n",
      "The considered material is Fe\n",
      "A Circle with radius 1 has weight 18.850\n",
      "A Disk with radius 2 has weight 50.265\n",
      "A Sphere with radius 3 has weight 565.487\n",
      "The considered material is Pb\n",
      "A Circle with radius 1 has weight 94.248\n",
      "A Disk with radius 2 has weight 251.327\n",
      "A Sphere with radius 3 has weight 3392.920\n"
     ]
    }
   ],
   "source": [
    "from math import pi\n",
    "\n",
    "# for a given element, weight are find zipping the density, the radius and its power, \n",
    "# and the multiplicative factor. The used formulas are\n",
    "# d_circle = (2*pi*r)*density\n",
    "# d_disk = (pi*r^2)*density\n",
    "# d_sphere = (4/3*pi*r^3)*density\n",
    "# for circle radius 1 is used, for disk radius 2 and for sphere radius 3\n",
    "\n",
    "densities = {\"Al\" : [0.5, 1, 2], \"Fe\" : [3, 4, 5], \"Pb\" : [15, 20, 30]}  #densities values \n",
    "radius = [1, 2, 3]  #radius of the three objects\n",
    "geom = ['Circle', 'Disk', 'Sphere']  #name of the object\n",
    "fac = [2*pi,pi,4/3*pi]  #multiplicative factor of the formulas\n",
    "pow_fac = [1,2,3]     #power of r\n",
    "\n",
    "for key, val in densities.items():  # select an element with the corresponding densities at each iteration\n",
    "    print('The considered material is %s' % key)  \n",
    "    for den, r, name, mul_f, pow_f in zip(val, radius, geom, fac, pow_fac):  #compute the values and display the information\n",
    "        print('A %s with radius %d has weight %1.3f' % (name, r, den*(r**pow_f*mul_f)))"
   ]
  },
  {
   "cell_type": "code",
   "execution_count": 9,
   "metadata": {},
   "outputs": [
    {
     "name": "stdout",
     "output_type": "stream",
     "text": [
      "Circumference, area and volume for r = 1 are (6.283185307179586, 3.141592653589793, 4.1887902047863905)\n",
      "Circumference, area and volume for r = 2 are (12.566370614359172, 12.566370614359172, 33.510321638291124)\n",
      "Circumference, area and volume for r = 3 are (18.84955592153876, 28.274333882308138, 113.09733552923254)\n"
     ]
    }
   ],
   "source": [
    "# circumference, area and volume computed for all three radii \n",
    "circ = lambda r: 2*pi*r\n",
    "area = lambda r: pi*r**2\n",
    "vol  = lambda r: (4/3)*pi*r**3\n",
    "\n",
    "\n",
    "res = [(circ(r), area(r), vol(r)) for r in radius]\n",
    "\n",
    "for i in range(len(radius)):\n",
    "    print('Circumference, area and volume for r = %d are %s' % (radius[i], str(res[i])))\n",
    "\n"
   ]
  },
  {
   "cell_type": "markdown",
   "metadata": {},
   "source": [
    "6\\. Edit the class defintion to add an instance attribute of `is_hungry = True` to the Dog class. Then add a method called `eat()` which changes the value of `is_hungry` to `False` when called. Figure out the best way to instantiate the dog objects and to feed the dogs, e.g. call the `eat()` method for all instances. Finally, print “My dogs are hungry.” or “My dogs are not hungry.” if all of them have `is_hungry = True` or `False`, respectively. The final output should look like this:\n",
    "\n",
    "`I have 3 dogs. \n",
    "Tom is 6. \n",
    "Fletcher is 7. \n",
    "Larry is 9. \n",
    "And they're all mammals, of course. \n",
    "My dogs are not hungry.\n",
    "`\n",
    "\n",
    "```python\n",
    "# Parent class\n",
    "class Dog:\n",
    "\n",
    "    # Class attribute\n",
    "    species = 'mammal'\n",
    "\n",
    "    # Initializer / Instance attributes\n",
    "    def __init__(self, name, age):\n",
    "        self.name = name\n",
    "        self.age = age\n",
    "\n",
    "    # instance method\n",
    "    def description(self):\n",
    "        return \"{} is {} years old\".format(self.name, self.age)\n",
    "\n",
    "    # instance method\n",
    "    def speak(self, sound):\n",
    "        return \"{} says {}\".format(self.name, sound)\n",
    "\n",
    "# Child class (inherits from Dog class)\n",
    "class RussellTerrier(Dog):\n",
    "    def run(self, speed):\n",
    "        return \"{} runs {}\".format(self.name, speed)\n",
    "\n",
    "# Child class (inherits from Dog class)\n",
    "class Bulldog(Dog):\n",
    "    def run(self, speed):\n",
    "        return \"{} runs {}\".format(self.name, speed)\n",
    "```"
   ]
  },
  {
   "cell_type": "code",
   "execution_count": 10,
   "metadata": {},
   "outputs": [],
   "source": [
    "#self.is_hungry set the attribute is_hungry to True\n",
    "#then eat chage it to False\n",
    "class Dog:\n",
    "\n",
    "    species = 'mammal'\n",
    "\n",
    "    def __init__(self, name, age, is_hungry = True):\n",
    "        self.name = name\n",
    "        self.age = age\n",
    "        self.is_hungry = is_hungry\n",
    "\n",
    "    def description(self):\n",
    "        return \"{} is {} years old\".format(self.name, self.age)\n",
    "\n",
    "    def speak(self, sound):\n",
    "        return \"{} says {}\".format(self.name, sound)\n",
    "    \n",
    "    def eat(self):\n",
    "        self.is_hungry = False\n",
    "        \n",
    "class RussellTerrier(Dog):\n",
    "    def run(self, speed):\n",
    "        return \"{} runs {}\".format(self.name, speed)\n",
    "\n",
    "class Bulldog(Dog):\n",
    "    def run(self, speed):\n",
    "        return \"{} runs {}\".format(self.name, speed)"
   ]
  },
  {
   "cell_type": "code",
   "execution_count": 11,
   "metadata": {},
   "outputs": [
    {
     "name": "stdout",
     "output_type": "stream",
     "text": [
      "I have 3 dogs.\n",
      "Tom is 6.\n",
      "Fletcher is 7.\n",
      "Larry is 9.\n",
      "And they're all mammals, of course.\n",
      "My dogs are not hungry.\n"
     ]
    }
   ],
   "source": [
    "my_dogs = [Dog('Tom',6), RussellTerrier('Fletcher',7), Bulldog('Larry',9)]\n",
    "print('I have %d dogs.' % len(my_dogs))\n",
    "\n",
    "for dog in my_dogs:\n",
    "    print('%s is %d.' % (dog.name, dog.age))\n",
    "\n",
    "if my_dogs[0].species == 'mammal' and my_dogs[1].species == 'mammal' and my_dogs[2].species == 'mammal':\n",
    "    print(\"And they're all mammals, of course.\")\n",
    "    \n",
    "for dog in my_dogs:\n",
    "    dog.eat()\n",
    "if my_dogs[0].is_hungry == False and my_dogs[1].is_hungry == False and my_dogs[2].is_hungry == False:\n",
    "    print('My dogs are not hungry.')\n",
    "else:\n",
    "    print('My dogs are hungry.')    "
   ]
  }
 ],
 "metadata": {
  "kernelspec": {
   "display_name": "Python 3",
   "language": "python",
   "name": "python3"
  },
  "language_info": {
   "codemirror_mode": {
    "name": "ipython",
    "version": 3
   },
   "file_extension": ".py",
   "mimetype": "text/x-python",
   "name": "python",
   "nbconvert_exporter": "python",
   "pygments_lexer": "ipython3",
   "version": "3.7.3"
  }
 },
 "nbformat": 4,
 "nbformat_minor": 2
}
