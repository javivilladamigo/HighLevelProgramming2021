{
 "cells": [
  {
   "cell_type": "markdown",
   "metadata": {},
   "source": [
    "1. Write the following expressions using the list comprehension"
   ]
  },
  {
   "cell_type": "code",
   "execution_count": null,
   "metadata": {},
   "outputs": [],
   "source": [
    "# 1\n",
    "ans = []\n",
    "for i in range(3):\n",
    "    for j in range(4):\n",
    "        ans.append((i, j))\n",
    "print(ans)\n",
    "\n",
    "# 2\n",
    "ans = map(lambda x: x * x, filter(lambda x: x % 2 == 1, range(10)))\n",
    "print(list(ans))"
   ]
  },
  {
   "cell_type": "code",
   "execution_count": 3,
   "metadata": {},
   "outputs": [
    {
     "name": "stdout",
     "output_type": "stream",
     "text": [
      "[(0, 0), (0, 1), (0, 2), (0, 3), (1, 0), (1, 1), (1, 2), (1, 3), (2, 0), (2, 1), (2, 2), (2, 3)]\n"
     ]
    }
   ],
   "source": [
    "#Solution\n",
    "\n",
    "print ([(i,j) for i in range(3) for j in range (4)])\n"
   ]
  },
  {
   "cell_type": "code",
   "execution_count": 2,
   "metadata": {},
   "outputs": [
    {
     "name": "stdout",
     "output_type": "stream",
     "text": [
      "[0, 4, 16]\n"
     ]
    }
   ],
   "source": [
    "#Solution\n",
    "\n",
    "print ([x*x for x in range(5) if x%2 == 0])"
   ]
  },
  {
   "cell_type": "markdown",
   "metadata": {},
   "source": [
    "2\\. Convert the function $f$ into a function that doesn't use global variables and that does not modify the original list"
   ]
  },
  {
   "cell_type": "code",
   "execution_count": null,
   "metadata": {},
   "outputs": [],
   "source": [
    "x = 5\n",
    "def f(alist):\n",
    "    for i in range(x):\n",
    "         alist.append(i)\n",
    "    return alist\n",
    "\n",
    "alist = [1,2,3]\n",
    "ans = f(alist)\n",
    "print(ans)\n",
    "print(alist) # alist has been changed!"
   ]
  },
  {
   "cell_type": "code",
   "execution_count": 4,
   "metadata": {},
   "outputs": [
    {
     "name": "stdout",
     "output_type": "stream",
     "text": [
      "[1, 2, 3, 0, 1, 2, 3, 4]\n",
      "[1, 2, 3]\n"
     ]
    }
   ],
   "source": [
    "#Solution\n",
    "\n",
    "def f(alist):\n",
    "    x = 5\n",
    "    newalist = alist.copy()\n",
    "    for i in range(x):\n",
    "        newalist.append(i)\n",
    "    return newalist\n",
    "\n",
    "alist = [1,2,3]\n",
    "ans = f(alist)\n",
    "print (ans)\n",
    "print (alist)"
   ]
  },
  {
   "cell_type": "markdown",
   "metadata": {},
   "source": [
    "3\\. Write a `decorator` hello that makes every wrapped function print “Hello!”, i.e. something like:\n",
    "\n",
    "```python\n",
    "@hello\n",
    "def square(x):\n",
    "    return x*x\n",
    "```\n",
    "\n"
   ]
  },
  {
   "cell_type": "code",
   "execution_count": 20,
   "metadata": {},
   "outputs": [
    {
     "name": "stdout",
     "output_type": "stream",
     "text": [
      "@Hello! 9\n"
     ]
    }
   ],
   "source": [
    "#Solution\n",
    "\n",
    "def my_decorate(func):\n",
    "   def wrapper(x):\n",
    "       print(\"@Hello!\",func(x))\n",
    "   return wrapper\n",
    "\n",
    "@my_decorate\n",
    "def square(x):\n",
    "   return x*x\n",
    "\n",
    "square(3)"
   ]
  },
  {
   "cell_type": "markdown",
   "metadata": {},
   "source": [
    "4\\. Write the factorial function in two different ways, so that it a) does and b) does not use recursion."
   ]
  },
  {
   "cell_type": "code",
   "execution_count": 21,
   "metadata": {},
   "outputs": [
    {
     "data": {
      "text/plain": [
       "120"
      ]
     },
     "execution_count": 21,
     "metadata": {},
     "output_type": "execute_result"
    }
   ],
   "source": [
    "#Solution with recursion\n",
    "\n",
    "def factorial(n):\n",
    "   if n<1:\n",
    "       return 1\n",
    "   else:\n",
    "       result = n * factorial( n - 1 )\n",
    "       return result\n",
    "factorial(5)"
   ]
  },
  {
   "cell_type": "code",
   "execution_count": 15,
   "metadata": {},
   "outputs": [
    {
     "data": {
      "text/plain": [
       "6"
      ]
     },
     "execution_count": 15,
     "metadata": {},
     "output_type": "execute_result"
    }
   ],
   "source": [
    "#Solution without recursion\n",
    "\n",
    "def factorial(n):\n",
    "    num = 1\n",
    "    while n >= 1:\n",
    "        num = num * n\n",
    "        n = n - 1\n",
    "    return num\n",
    "factorial(3)"
   ]
  },
  {
   "cell_type": "markdown",
   "metadata": {},
   "source": [
    "5\\. Use HOFs (zip in particular) to compute the weight of a circle, a disk and a sphere, assuming different radii and different densities:\n",
    "\n",
    "```python\n",
    "densities = {\"Al\" : [0.5, 1, 2], \"Fe\" : [3, 4, 5], \"Pb\" : [15, 20, 30]}\n",
    "radii = [1, 2, 3]\n",
    "```\n",
    "\n",
    "where the entries of the dictionary's values are the linear, superficial and volumetric densities of the materials respectively.\n",
    "\n",
    "Subsequently, define a list using a comprehension with three lambda functions that compute the circumference, the area and the volume for a given radius.\n"
   ]
  },
  {
   "cell_type": "code",
   "execution_count": 17,
   "metadata": {},
   "outputs": [
    {
     "name": "stdout",
     "output_type": "stream",
     "text": [
      "('Al', [0.5, 1, 2])\n",
      "8.377580409572781\n",
      "3.141592653589793\n",
      "3.141592653589793\n",
      "('Fe', [3, 4, 5])\n",
      "20.94395102393195\n",
      "12.566370614359172\n",
      "18.84955592153876\n",
      "('Pb', [15, 20, 30])\n",
      "125.66370614359171\n",
      "62.83185307179586\n",
      "94.24777960769379\n",
      "('Al', [0.5, 1, 2])\n",
      "67.02064327658225\n",
      "12.566370614359172\n",
      "6.283185307179586\n",
      "('Fe', [3, 4, 5])\n",
      "167.5516081914556\n",
      "50.26548245743669\n",
      "37.69911184307752\n",
      "('Pb', [15, 20, 30])\n",
      "1005.3096491487337\n",
      "251.32741228718345\n",
      "188.49555921538757\n",
      "('Al', [0.5, 1, 2])\n",
      "226.19467105846508\n",
      "28.274333882308138\n",
      "9.42477796076938\n",
      "('Fe', [3, 4, 5])\n",
      "565.4866776461627\n",
      "113.09733552923255\n",
      "56.548667764616276\n",
      "('Pb', [15, 20, 30])\n",
      "3392.920065876976\n",
      "565.4866776461628\n",
      "282.7433388230814\n"
     ]
    }
   ],
   "source": [
    "#Solution\n",
    "\n",
    "import math\n",
    "densities = {\"Al\":[0.5,1,2],\"Fe\":[3,4,5],\"Pb\": [15,20,30]}\n",
    "radii = [1,2,3]\n",
    "\n",
    "def weight(density, volume):\n",
    "    return density*volume\n",
    "\n",
    "def volume_sphere(r):\n",
    "    return 4/3*math.pi*r**(3)\n",
    "\n",
    "def area_disk(r):\n",
    "    return math.pi*r**(2)\n",
    "\n",
    "def circ_circle(r):\n",
    "    return math.pi*2*r\n",
    "\n",
    "#if using zip I should repeat the lists\n",
    "#for radius, density in zip(radii,densities.items()):\n",
    "for radius in radii:    \n",
    "    for density in densities.items():\n",
    "        print(density)\n",
    "        print( weight(density[1][2], volume_sphere(radius)) )\n",
    "        print( weight(density[1][1], area_disk(radius) ) )\n",
    "        print( weight(density[1][0], circ_circle(radius)) )"
   ]
  },
  {
   "cell_type": "markdown",
   "metadata": {},
   "source": [
    "6\\. Edit the class defintion to add an instance attribute of `is_hungry = True` to the Dog class. Then add a method called `eat()` which changes the value of `is_hungry` to `False` when called. Figure out the best way to instantiate the dog objects and to feed the dogs, e.g. call the `eat()` method for all instances. Finally, print “My dogs are hungry.” or “My dogs are not hungry.” if all of them have `is_hungry = True` or `False`, respectively. The final output should look like this:\n",
    "\n",
    "`I have 3 dogs. \n",
    "Tom is 6. \n",
    "Fletcher is 7. \n",
    "Larry is 9. \n",
    "And they're all mammals, of course. \n",
    "My dogs are not hungry.\n",
    "`\n",
    "\n",
    "```python\n",
    "# Parent class\n",
    "class Dog:\n",
    "\n",
    "    # Class attribute\n",
    "    species = 'mammal'\n",
    "\n",
    "    # Initializer / Instance attributes\n",
    "    def __init__(self, name, age):\n",
    "        self.name = name\n",
    "        self.age = age\n",
    "\n",
    "    # instance method\n",
    "    def description(self):\n",
    "        return \"{} is {} years old\".format(self.name, self.age)\n",
    "\n",
    "    # instance method\n",
    "    def speak(self, sound):\n",
    "        return \"{} says {}\".format(self.name, sound)\n",
    "\n",
    "# Child class (inherits from Dog class)\n",
    "class RussellTerrier(Dog):\n",
    "    def run(self, speed):\n",
    "        return \"{} runs {}\".format(self.name, speed)\n",
    "\n",
    "# Child class (inherits from Dog class)\n",
    "class Bulldog(Dog):\n",
    "    def run(self, speed):\n",
    "        return \"{} runs {}\".format(self.name, speed)\n",
    "```"
   ]
  },
  {
   "cell_type": "code",
   "execution_count": 18,
   "metadata": {},
   "outputs": [
    {
     "name": "stdout",
     "output_type": "stream",
     "text": [
      "I have 3 dogs\n",
      "Tom is 6 years old\n",
      "Flatcher is 7 years old\n",
      "Larry is 9 years old\n",
      "And they're all mammals, of course. \n",
      "My dogs are hungry\n"
     ]
    }
   ],
   "source": [
    "# Parent class\n",
    "class Dog:\n",
    "\n",
    "    # Class attribute\n",
    "    species = 'mammal'\n",
    "    is_hungry = True\n",
    "\n",
    "    # Initializer / Instance attributes\n",
    "    def __init__(self, name, age):\n",
    "        self.name = name\n",
    "        self.age = age\n",
    "\n",
    "    # instance method\n",
    "    def description(self):\n",
    "        return \"{} is {} years old\".format(self.name, self.age)\n",
    "\n",
    "    # instance method\n",
    "    def speak(self, sound):\n",
    "        return \"{} says {}\".format(self.name, sound)\n",
    "    \n",
    "    def eat(self):\n",
    "        self.is_hungry = False\n",
    "        \n",
    "    def isMammal(self):\n",
    "        return self.species == \"mammal\"\n",
    "    \n",
    "    def isHungry(self):\n",
    "        return self.is_hungry == True\n",
    "\n",
    "# Child class (inherits from Dog class)\n",
    "\n",
    "class RussellTerrier(Dog):\n",
    "    def run(self, speed):\n",
    "        return \"{} runs {}\".format(self.name, speed)\n",
    "    # Child class (inherits from Dog class)\n",
    "    \n",
    "class Bulldog(Dog):\n",
    "    def run(self, speed):\n",
    "        return \"{} runs {}\".format(self.name, speed)\n",
    "\n",
    "#Figure out the best way to feed each dog and then output “My dogs are hungry.” \n",
    "#if all are hungry or “My dogs are not hungry.” i\n",
    "    \n",
    "dogs = [Dog(\"Tom\", 6), Dog(\"Flatcher\", 7), Dog(\"Larry\", 9)]\n",
    "\n",
    "print(\"I have {} dogs\".format(len(dogs)))\n",
    "areAllMammals = True\n",
    "areAllHungry = True\n",
    "\n",
    "#best way o feed dogs\n",
    "#for x in dogs:\n",
    "#    x.eat()\n",
    "\n",
    "for x in dogs:\n",
    "    print(x.description())\n",
    "    areAllMammals = x.isMammal() and areAllMammals\n",
    "    areAllHungry = x.isHungry() and areAllHungry\n",
    "    \n",
    "if areAllMammals:\n",
    "    print(\"And they're all mammals, of course. \")\n",
    "if areAllHungry:\n",
    "    print(\"My dogs are hungry\")\n",
    "else:\n",
    "    print(\"My dogs are not hungry\")"
   ]
  },
  {
   "cell_type": "code",
   "execution_count": null,
   "metadata": {},
   "outputs": [],
   "source": []
  }
 ],
 "metadata": {
  "kernelspec": {
   "display_name": "Python 3",
   "language": "python",
   "name": "python3"
  },
  "language_info": {
   "codemirror_mode": {
    "name": "ipython",
    "version": 3
   },
   "file_extension": ".py",
   "mimetype": "text/x-python",
   "name": "python",
   "nbconvert_exporter": "python",
   "pygments_lexer": "ipython3",
   "version": "3.8.8"
  }
 },
 "nbformat": 4,
 "nbformat_minor": 2
}
