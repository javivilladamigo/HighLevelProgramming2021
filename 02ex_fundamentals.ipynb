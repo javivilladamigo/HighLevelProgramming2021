{
 "cells": [
  {
   "cell_type": "markdown",
   "metadata": {},
   "source": [
    "1. Write the following expressions using the list comprehension"
   ]
  },
  {
   "cell_type": "code",
   "execution_count": 1,
   "metadata": {},
   "outputs": [
    {
     "name": "stdout",
     "output_type": "stream",
     "text": [
      "[(0, 0), (0, 1), (0, 2), (0, 3), (1, 0), (1, 1), (1, 2), (1, 3), (2, 0), (2, 1), (2, 2), (2, 3)]\n",
      "[1, 9, 25, 49, 81]\n"
     ]
    }
   ],
   "source": [
    "# 1\n",
    "ans = []\n",
    "for i in range(3):\n",
    "    for j in range(4):\n",
    "        ans.append((i, j))\n",
    "print(ans)\n",
    "\n",
    "# 2\n",
    "ans = map(lambda x: x * x, filter(lambda x: x % 2 == 1, range(10)))\n",
    "print(list(ans))"
   ]
  },
  {
   "cell_type": "code",
   "execution_count": 2,
   "metadata": {},
   "outputs": [
    {
     "name": "stdout",
     "output_type": "stream",
     "text": [
      "[(0, 0), (0, 1), (0, 2), (0, 3), (1, 0), (1, 1), (1, 2), (1, 3), (2, 0), (2, 1), (2, 2), (2, 3)]\n",
      "[1, 9, 25, 49, 81]\n"
     ]
    }
   ],
   "source": [
    "# 1\n",
    "ans = [(i, j) for i in range(3) for j in range(4)]\n",
    "print(ans)\n",
    "\n",
    "# 2\n",
    "ans = [x**2 for x in range(10) if x % 2 == 1]\n",
    "print(ans)"
   ]
  },
  {
   "cell_type": "markdown",
   "metadata": {},
   "source": [
    "2\\. Convert the function $f$ into a function that doesn't use global variables and that does not modify the original list"
   ]
  },
  {
   "cell_type": "code",
   "execution_count": 3,
   "metadata": {},
   "outputs": [
    {
     "name": "stdout",
     "output_type": "stream",
     "text": [
      "[1, 2, 3, 0, 1, 2, 3, 4]\n",
      "[1, 2, 3, 0, 1, 2, 3, 4]\n"
     ]
    }
   ],
   "source": [
    "x = 5\n",
    "def f(alist):\n",
    "    for i in range(x):\n",
    "         alist.append(i)\n",
    "    return alist\n",
    "\n",
    "alist = [1,2,3]\n",
    "ans = f(alist)\n",
    "print(ans)\n",
    "print(alist) # alist has been changed!"
   ]
  },
  {
   "cell_type": "code",
   "execution_count": 4,
   "metadata": {},
   "outputs": [
    {
     "name": "stdout",
     "output_type": "stream",
     "text": [
      "Before the function: [1, 2, 3]\n",
      "Using the function: [1, 2, 3, 0, 1, 2, 3, 4]\n",
      "After the function: [1, 2, 3]\n"
     ]
    }
   ],
   "source": [
    "# data\n",
    "x = 5\n",
    "\n",
    "# lists are mutable, to write the function\n",
    "# without changing the input I have to create\n",
    "# a new object inside that copies the input list\n",
    "def no_modify(l, x):\n",
    "    new_l= []\n",
    "    for i in l:\n",
    "        new_l.append(i)\n",
    "    for i in range(x):\n",
    "        new_l.append(i)\n",
    "    return new_l\n",
    "\n",
    "alist = [1, 2, 3]\n",
    "print(\"Before the function: \" + str(alist))\n",
    "print(\"Using the function: \" + str(no_modify(alist, x)))\n",
    "print(\"After the function: \" + str(alist))"
   ]
  },
  {
   "cell_type": "markdown",
   "metadata": {},
   "source": [
    "3\\. Write a `decorator` hello that makes every wrapped function print “Hello!”, i.e. something like:\n",
    "\n",
    "```python\n",
    "@hello\n",
    "def square(x):\n",
    "    return x*x\n",
    "```\n",
    "\n"
   ]
  },
  {
   "cell_type": "code",
   "execution_count": 5,
   "metadata": {},
   "outputs": [
    {
     "name": "stdout",
     "output_type": "stream",
     "text": [
      "Hello!\n",
      "25\n",
      "Hello!\n"
     ]
    },
    {
     "data": {
      "text/plain": [
       "25"
      ]
     },
     "execution_count": 5,
     "metadata": {},
     "output_type": "execute_result"
    }
   ],
   "source": [
    "# the function has arguments\n",
    "def hello(f):\n",
    "    def wrap(*arg):\n",
    "        print(\"Hello!\")\n",
    "        res = f(*arg)\n",
    "        print(\"Hello!\")\n",
    "        return res\n",
    "    return wrap\n",
    "\n",
    "# with decorator\n",
    "@hello\n",
    "def square(x):\n",
    "    print(x**2)\n",
    "    return x**2\n",
    "\n",
    "square(5)\n"
   ]
  },
  {
   "cell_type": "markdown",
   "metadata": {},
   "source": [
    "4\\. Write the factorial function in two different ways, so that it a) does and b) does not use recursion."
   ]
  },
  {
   "cell_type": "code",
   "execution_count": 6,
   "metadata": {},
   "outputs": [
    {
     "name": "stdout",
     "output_type": "stream",
     "text": [
      "Enter an integer number: 5\n",
      "Without recursion: 120\n",
      "With recursion: 120\n"
     ]
    }
   ],
   "source": [
    "# without recursion\n",
    "def factorial_nr(n):\n",
    "    res = 1\n",
    "    if n < 0:\n",
    "        print(\"Aborting: negative number.\")\n",
    "        return None\n",
    "    else:\n",
    "        if n == 0:\n",
    "            return 1\n",
    "        elif n == 1:\n",
    "            return 1\n",
    "        else:\n",
    "            for i in range(1, n+1):\n",
    "                res *= i\n",
    "    return res\n",
    "\n",
    "\n",
    "# with recursion\n",
    "def factorial_r(n):\n",
    "    if n < 0:\n",
    "        print(\"Aborting: negative number.\")\n",
    "        return None\n",
    "    else:\n",
    "        if n == 0:\n",
    "            return 1\n",
    "        elif n == 1:\n",
    "            return 1\n",
    "        else:\n",
    "            return n*factorial_r(n-1)\n",
    "        \n",
    "# usage\n",
    "n = int(input(\"Enter an integer number: \"))\n",
    "print(\"Without recursion: \" + str(factorial_nr(n)))\n",
    "print(\"With recursion: \" + str(factorial_r(n)))"
   ]
  },
  {
   "cell_type": "markdown",
   "metadata": {},
   "source": [
    "5\\. Use HOFs (zip in particular) to compute the weight of a circle, a disk and a sphere, assuming different radii and different densities:\n",
    "\n",
    "```python\n",
    "densities = {\"Al\" : [0.5, 1, 2], \"Fe\" : [3, 4, 5], \"Pb\" : [15, 20, 30]}\n",
    "radii = [1, 2, 3]\n",
    "```\n",
    "\n",
    "where the entries of the dictionary's values are the linear, superficial and volumetric densities of the materials respectively.\n",
    "\n",
    "Subsequently, define a list using a comprehension with three lambda functions that compute the circumference, the area and the volume for a given radius.\n"
   ]
  },
  {
   "cell_type": "code",
   "execution_count": 34,
   "metadata": {},
   "outputs": [
    {
     "name": "stdout",
     "output_type": "stream",
     "text": [
      "Weights of a circle of radius 1:\n",
      "Al =  3.141592653589793\n",
      "Fe =  18.84955592153876\n",
      "Pb =  94.24777960769379\n",
      "Weights of a circle of radius 2:\n",
      "Al =  6.283185307179586\n",
      "Fe =  37.69911184307752\n",
      "Pb =  188.49555921538757\n",
      "Weights of a circle of radius 3:\n",
      "Al =  9.42477796076938\n",
      "Fe =  56.548667764616276\n",
      "Pb =  282.7433388230814\n",
      "Weights of a disk of radius 1:\n",
      "Al =  3.141592653589793\n",
      "Fe =  12.566370614359172\n",
      "Pb =  62.83185307179586\n",
      "Weights of a disk of radius 2:\n",
      "Al =  12.566370614359172\n",
      "Fe =  50.26548245743669\n",
      "Pb =  251.32741228718345\n",
      "Weights of a disk of radius 3:\n",
      "Al =  28.274333882308138\n",
      "Fe =  113.09733552923255\n",
      "Pb =  565.4866776461628\n",
      "Weights of a sphere of radius 1:\n",
      "Al =  8.377580409572781\n",
      "Fe =  20.94395102393195\n",
      "Pb =  125.66370614359171\n",
      "Weights of a sphere of radius 2:\n",
      "Al =  67.02064327658225\n",
      "Fe =  167.5516081914556\n",
      "Pb =  1005.3096491487337\n",
      "Weights of a sphere of radius 3:\n",
      "Al =  226.19467105846508\n",
      "Fe =  565.4866776461627\n",
      "Pb =  3392.920065876976\n"
     ]
    }
   ],
   "source": [
    "import math as m\n",
    "\n",
    "densities = {\"Al\" : [0.5, 1, 2], \"Fe\" : [3, 4, 5], \"Pb\" : [15, 20, 30]}\n",
    "radii = [1, 2, 3]\n",
    "shapes = [\"circle\", \"disk\", \"sphere\"]\n",
    "\n",
    "# compute volumes of [circle, disk, sphere] for each radius\n",
    "volumes = [[2 * m.pi * r, m.pi * r**2, (4 / 3) * m.pi * r**3] for r in radii]\n",
    "\n",
    "# unzip the densities values and compute weight\n",
    "# for n amount of shapes and r amount of radii\n",
    "for x, y, z, n in zip(densities[\"Al\"], densities[\"Fe\"], densities[\"Pb\"], range(len(shapes))):\n",
    "    for r in range(len(radii)):\n",
    "        print(\"Weights of a \" + shapes[n] + \" of radius \" + str(radii[r]) + \":\")\n",
    "        print(\"Al = \", x * volumes[r][n])\n",
    "        print(\"Fe = \", y * volumes[r][n])\n",
    "        print(\"Pb = \", z * volumes[r][n])"
   ]
  },
  {
   "cell_type": "code",
   "execution_count": 35,
   "metadata": {},
   "outputs": [
    {
     "name": "stdout",
     "output_type": "stream",
     "text": [
      "Weights of a circle of radius 1:\n",
      "Al =  3.141592653589793\n",
      "Fe =  18.84955592153876\n",
      "Pb =  94.24777960769379\n",
      "Weights of a circle of radius 2:\n",
      "Al =  6.283185307179586\n",
      "Fe =  37.69911184307752\n",
      "Pb =  188.49555921538757\n",
      "Weights of a circle of radius 3:\n",
      "Al =  9.42477796076938\n",
      "Fe =  56.548667764616276\n",
      "Pb =  282.7433388230814\n",
      "Weights of a disk of radius 1:\n",
      "Al =  3.141592653589793\n",
      "Fe =  12.566370614359172\n",
      "Pb =  62.83185307179586\n",
      "Weights of a disk of radius 2:\n",
      "Al =  12.566370614359172\n",
      "Fe =  50.26548245743669\n",
      "Pb =  251.32741228718345\n",
      "Weights of a disk of radius 3:\n",
      "Al =  28.274333882308138\n",
      "Fe =  113.09733552923255\n",
      "Pb =  565.4866776461628\n",
      "Weights of a sphere of radius 1:\n",
      "Al =  8.377580409572781\n",
      "Fe =  20.94395102393195\n",
      "Pb =  125.66370614359171\n",
      "Weights of a sphere of radius 2:\n",
      "Al =  67.02064327658225\n",
      "Fe =  167.5516081914556\n",
      "Pb =  1005.3096491487337\n",
      "Weights of a sphere of radius 3:\n",
      "Al =  226.19467105846508\n",
      "Fe =  565.4866776461627\n",
      "Pb =  3392.920065876976\n"
     ]
    }
   ],
   "source": [
    "# using lambda functions\n",
    "functions = [lambda r: 2 * m.pi * r, lambda r: m.pi * r**2, lambda r: (4 / 3) * m.pi * r**3]\n",
    "\n",
    "for x, y, z, j in zip(densities[\"Al\"], densities[\"Fe\"], densities[\"Pb\"], range(len(shapes))):\n",
    "    for volume, i in zip(map(functions[j], radii), range(len(radii))):\n",
    "        print(\"Weights of a \" + shapes[j] + \" of radius \" + str(radii[i]) + \":\")\n",
    "        print(\"Al = \", x * volume)\n",
    "        print(\"Fe = \", y * volume)\n",
    "        print(\"Pb = \", z * volume)"
   ]
  },
  {
   "cell_type": "markdown",
   "metadata": {},
   "source": [
    "6\\. Edit the class defintion to add an instance attribute of `is_hungry = True` to the Dog class. Then add a method called `eat()` which changes the value of `is_hungry` to `False` when called. Figure out the best way to instantiate the dog objects and to feed the dogs, e.g. call the `eat()` method for all instances. Finally, print “My dogs are hungry.” or “My dogs are not hungry.” if all of them have `is_hungry = True` or `False`, respectively. The final output should look like this:\n",
    "\n",
    "`I have 3 dogs. \n",
    "Tom is 6. \n",
    "Fletcher is 7. \n",
    "Larry is 9. \n",
    "And they're all mammals, of course. \n",
    "My dogs are not hungry.\n",
    "`\n",
    "\n",
    "```python\n",
    "# Parent class\n",
    "class Dog:\n",
    "\n",
    "    # Class attribute\n",
    "    species = 'mammal'\n",
    "\n",
    "    # Initializer / Instance attributes\n",
    "    def __init__(self, name, age):\n",
    "        self.name = name\n",
    "        self.age = age\n",
    "\n",
    "    # instance method\n",
    "    def description(self):\n",
    "        return \"{} is {} years old\".format(self.name, self.age)\n",
    "\n",
    "    # instance method\n",
    "    def speak(self, sound):\n",
    "        return \"{} says {}\".format(self.name, sound)\n",
    "\n",
    "# Child class (inherits from Dog class)\n",
    "class RussellTerrier(Dog):\n",
    "    def run(self, speed):\n",
    "        return \"{} runs {}\".format(self.name, speed)\n",
    "\n",
    "# Child class (inherits from Dog class)\n",
    "class Bulldog(Dog):\n",
    "    def run(self, speed):\n",
    "        \n",
    "        return \"{} runs {}\".format(self.name, speed)\n",
    "```"
   ]
  },
  {
   "cell_type": "code",
   "execution_count": 9,
   "metadata": {},
   "outputs": [],
   "source": [
    "# Parent class\n",
    "class Dog:\n",
    "\n",
    "    # Class attributes\n",
    "    species = 'mammal'\n",
    "    # database list to keep track of the dog history\n",
    "    database = []\n",
    "\n",
    "    # Initializer / Instance attributes\n",
    "    def __init__(self, name, age):\n",
    "        self.name = name\n",
    "        self.age = age\n",
    "        self.is_hungry = True\n",
    "        # whenever a dog is added, the database is updated\n",
    "        self.database.append(self)\n",
    "\n",
    "    # instance method\n",
    "    def description(self):\n",
    "        return \"{} is {}.\".format(self.name, self.age)\n",
    "\n",
    "    # instance method\n",
    "    def speak(self, sound):\n",
    "        return \"{} says {}\".format(self.name, sound)\n",
    "    \n",
    "    # instance method\n",
    "    def getHunger(self):\n",
    "        return self.is_hungry\n",
    "    \n",
    "    # instance method\n",
    "    def eat(self):\n",
    "        self.is_hungry = False\n",
    "    \n",
    "    # instance method\n",
    "    def clear(self):\n",
    "        self.database.clear()\n",
    "\n",
    "# Child class (inherits from Dog class)\n",
    "class RussellTerrier(Dog):\n",
    "    def run(self, speed):\n",
    "        return \"{} runs {}\".format(self.name, speed)\n",
    "\n",
    "# Child class (inherits from Dog class)\n",
    "class Bulldog(Dog):\n",
    "    def run(self, speed):\n",
    "        return \"{} runs {}\".format(self.name, speed)\n",
    "    \n",
    "# get how many dogs have been tracked\n",
    "def howMany():\n",
    "    return len(Dog.database)\n",
    "\n",
    "# clear database after usage\n",
    "def clearDatabase():\n",
    "    Dog.clear(Dog)\n",
    "\n",
    "# feed the dogs\n",
    "def feed():\n",
    "    for d in Dog.database:\n",
    "        d.eat()\n",
    "        \n",
    "# check if dogs are hungry and feed them\n",
    "def checkHunger():\n",
    "    hungerDatabase = []\n",
    "    for d in Dog.database:\n",
    "        hungerDatabase.append(d.getHunger())\n",
    "        \n",
    "    if all(hungerDatabase) == True:\n",
    "        feed()\n",
    "        return \"My dogs are hungry.\"\n",
    "    else:\n",
    "        # feed in case some dogs are hungry and some not\n",
    "        feed()\n",
    "        return \"My dogs are not hungry.\""
   ]
  },
  {
   "cell_type": "code",
   "execution_count": 12,
   "metadata": {},
   "outputs": [
    {
     "name": "stdout",
     "output_type": "stream",
     "text": [
      "I have 3 dogs.\n",
      "Tom is 6.\n",
      "Fletcher is 7.\n",
      "Larry is 9.\n",
      "And they're all mammals, of course.\n",
      "Checking if the dogs are hungry for the first time...\n",
      "My dogs are hungry.\n",
      "Checking again...\n",
      "My dogs are not hungry.\n"
     ]
    }
   ],
   "source": [
    "# dogs\n",
    "dogs = [Dog(\"Tom\", 6), Dog(\"Fletcher\", 7), Bulldog(\"Larry\", 9)]\n",
    "\n",
    "# example usage\n",
    "print(\"I have \" + str(howMany()) + \" dogs.\")\n",
    "for d in dogs:\n",
    "    print(d.description())\n",
    "print(\"And they're all \" + Dog.species + \"s, of course.\")\n",
    "print(\"Checking if the dogs are hungry for the first time...\")\n",
    "print(checkHunger())\n",
    "print(\"Checking again...\")\n",
    "print(checkHunger())\n",
    "\n",
    "# clear database after usage\n",
    "clearDatabase()"
   ]
  }
 ],
 "metadata": {
  "kernelspec": {
   "display_name": "Python 3",
   "language": "python",
   "name": "python3"
  },
  "language_info": {
   "codemirror_mode": {
    "name": "ipython",
    "version": 3
   },
   "file_extension": ".py",
   "mimetype": "text/x-python",
   "name": "python",
   "nbconvert_exporter": "python",
   "pygments_lexer": "ipython3",
   "version": "3.8.8"
  }
 },
 "nbformat": 4,
 "nbformat_minor": 2
}
