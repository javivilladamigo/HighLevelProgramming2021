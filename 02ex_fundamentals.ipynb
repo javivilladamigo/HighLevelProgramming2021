{
 "cells": [
  {
   "cell_type": "markdown",
   "metadata": {},
   "source": [
    "### 1.  List comprehensions\n",
    "Write the following expressions using the list comprehension"
   ]
  },
  {
   "cell_type": "code",
   "execution_count": 2,
   "metadata": {},
   "outputs": [
    {
     "name": "stdout",
     "output_type": "stream",
     "text": [
      "[(0, 0), (0, 1), (0, 2), (0, 3), (1, 0), (1, 1), (1, 2), (1, 3), (2, 0), (2, 1), (2, 2), (2, 3)]\n",
      "[1, 9, 25, 49, 81]\n"
     ]
    }
   ],
   "source": [
    "# 1\n",
    "ans = []\n",
    "for i in range(3):\n",
    "    for j in range(4):\n",
    "        ans.append((i, j))\n",
    "print(ans)\n",
    "\n",
    "# 2\n",
    "ans = map(lambda x: x * x, filter(lambda x: x % 2 == 1, range(10)))\n",
    "print(list(ans))"
   ]
  },
  {
   "cell_type": "code",
   "execution_count": 1,
   "metadata": {},
   "outputs": [
    {
     "name": "stdout",
     "output_type": "stream",
     "text": [
      "[(0, 0), (0, 1), (0, 2), (0, 3), (1, 0), (1, 1), (1, 2), (1, 3), (2, 0), (2, 1), (2, 2), (2, 3)]\n",
      "[1, 9, 25, 49, 81]\n"
     ]
    }
   ],
   "source": [
    "# 1\n",
    "l=[(i,j) for i in range(3) for j in range(4)]\n",
    "print(l)\n",
    "\n",
    "# 2 \n",
    "l=[x**2 for x in range(10) if x % 2 == 1]\n",
    "print(l)"
   ]
  },
  {
   "cell_type": "markdown",
   "metadata": {},
   "source": [
    "### 2\\. \"Copy on modify\" lists\n",
    "Convert the function $f$ into a function that doesn't use global variables and that does not modify the original list"
   ]
  },
  {
   "cell_type": "code",
   "execution_count": 4,
   "metadata": {},
   "outputs": [
    {
     "name": "stdout",
     "output_type": "stream",
     "text": [
      "[1, 2, 3, 0, 1, 2, 3, 4]\n",
      "[1, 2, 3, 0, 1, 2, 3, 4]\n"
     ]
    }
   ],
   "source": [
    "x = 5\n",
    "def f(alist):\n",
    "    for i in range(x):\n",
    "         alist.append(i)\n",
    "    return alist\n",
    "\n",
    "alist = [1,2,3]\n",
    "ans = f(alist)\n",
    "print(ans)\n",
    "print(alist) # alist has been changed!"
   ]
  },
  {
   "cell_type": "code",
   "execution_count": 6,
   "metadata": {},
   "outputs": [
    {
     "name": "stdout",
     "output_type": "stream",
     "text": [
      "[1, 2, 3, 0, 1, 2, 3, 4]\n",
      "[1, 2, 3]\n"
     ]
    }
   ],
   "source": [
    "#copy() create a copy of the input list. In this way one can avoid to redefine the list\n",
    "x = 5\n",
    "def f(alist):\n",
    "    t=alist.copy() \n",
    "    t+=[i for i in range(x)]\n",
    "    return t\n",
    "\n",
    "alist = [1,2,3]\n",
    "ans = f(alist)\n",
    "print(ans)\n",
    "print(alist) # alist has been changed!   "
   ]
  },
  {
   "cell_type": "markdown",
   "metadata": {},
   "source": [
    "### 3\\. Decorators\n",
    "Write a `decorator` hello that makes every wrapped function print “Hello!”, i.e. something like:\n",
    "\n",
    "```python\n",
    "@hello\n",
    "def square(x):\n",
    "    return x*x\n",
    "```\n",
    "\n"
   ]
  },
  {
   "cell_type": "code",
   "execution_count": 8,
   "metadata": {},
   "outputs": [
    {
     "name": "stdout",
     "output_type": "stream",
     "text": [
      "Hello! 100\n",
      "Hello! 100\n"
     ]
    }
   ],
   "source": [
    "def hello(f):\n",
    "    def wrapper(x):\n",
    "        print(\"Hello!\", f(x))\n",
    "    return wrapper\n",
    "\n",
    "@hello\n",
    "def square(x):\n",
    "    return x**2\n",
    "    \n",
    "square(10)\n",
    "\n",
    "\n",
    "#Without the decorator, one must define the function\n",
    "def hello(f):\n",
    "    def wrapper(x):\n",
    "        print(\"Hello!\", f(x))\n",
    "    return wrapper\n",
    "\n",
    "def square(x):\n",
    "    return x**2\n",
    "\n",
    "t=hello(square)\n",
    "t(10)"
   ]
  },
  {
   "cell_type": "markdown",
   "metadata": {},
   "source": [
    "### 4\\. Factorial \n",
    "Write the factorial function in two different ways, so that it a) does and b) does not use recursion."
   ]
  },
  {
   "cell_type": "code",
   "execution_count": 11,
   "metadata": {},
   "outputs": [
    {
     "name": "stdout",
     "output_type": "stream",
     "text": [
      "24\n",
      "776 ns ± 23.5 ns per loop (mean ± std. dev. of 7 runs, 1000000 loops each)\n"
     ]
    }
   ],
   "source": [
    "#With Recursion\n",
    "def fact(x):\n",
    "    if x==0 or x==1:\n",
    "        return 1\n",
    "    else:\n",
    "        return x*fact(x-1)\n",
    "\n",
    "print(fact(4))\n",
    "%timeit fact(4)"
   ]
  },
  {
   "cell_type": "code",
   "execution_count": 12,
   "metadata": {},
   "outputs": [
    {
     "name": "stdout",
     "output_type": "stream",
     "text": [
      "24\n",
      "576 ns ± 16.6 ns per loop (mean ± std. dev. of 7 runs, 1000000 loops each)\n"
     ]
    }
   ],
   "source": [
    "#Without Recursion\n",
    "def fact(x):\n",
    "    fact=1\n",
    "    for i in range(1,x+1): #If x=0, then the for is iterated 0 times\n",
    "        fact*=i\n",
    "    return fact\n",
    "\n",
    "print(fact(4))\n",
    "%timeit fact(4)"
   ]
  },
  {
   "cell_type": "markdown",
   "metadata": {},
   "source": [
    "### 5\\.  Zip and lambdas\n",
    "Use HOFs (zip in particular) to compute the weight of a circle, a disk and a sphere, assuming different radii and different densities:\n",
    "\n",
    "```python\n",
    "densities = {\"Al\" : [0.5, 1, 2], \"Fe\" : [3, 4, 5], \"Pb\" : [15, 20, 30]}\n",
    "radii = [1, 2, 3]\n",
    "```\n",
    "\n",
    "where the entries of the dictionary's values are the linear, superficial and volumetric densities of the materials respectively.\n",
    "\n",
    "Subsequently, define a list using a comprehension with three lambda functions that compute the circumference, the area and the volume for a given radius.\n"
   ]
  },
  {
   "cell_type": "code",
   "execution_count": 22,
   "metadata": {},
   "outputs": [],
   "source": [
    "# The request is to evaluate for the different materials:\n",
    "# circle of radius 1 [with linear density 0.5,3,5], \n",
    "# disk of radius 2 [with superficial density 1,4,20]\n",
    "# sphere of radius 3 [with volumetric density 2,5,30]"
   ]
  },
  {
   "cell_type": "code",
   "execution_count": 23,
   "metadata": {},
   "outputs": [
    {
     "name": "stdout",
     "output_type": "stream",
     "text": [
      "Atom: Al\n",
      "Density:  0.5, type: circle, volume:   6.28, weight:    3.14\n",
      "Density:  1.0, type:   disk, volume:  12.57, weight:   12.57\n",
      "Density:  2.0, type: sphere, volume: 113.10, weight:  226.19\n",
      "Atom: Fe\n",
      "Density:  3.0, type: circle, volume:   6.28, weight:   18.85\n",
      "Density:  4.0, type:   disk, volume:  12.57, weight:   50.27\n",
      "Density:  5.0, type: sphere, volume: 113.10, weight:  565.49\n",
      "Atom: Pb\n",
      "Density: 15.0, type: circle, volume:   6.28, weight:   94.25\n",
      "Density: 20.0, type:   disk, volume:  12.57, weight:  251.33\n",
      "Density: 30.0, type: sphere, volume: 113.10, weight: 3392.92\n",
      "The three volumes are:  ['62.83', '314.16', '4188.79']\n"
     ]
    }
   ],
   "source": [
    "densities = {\"Al\" : [0.5, 1, 2], \"Fe\" : [3, 4, 5], \"Pb\" : [15, 20, 30]}\n",
    "radii = [1, 2, 3]\n",
    "\n",
    "from math import pi\n",
    "formulas=[lambda x: 2*pi*x, lambda x: pi*x*x, lambda x: 4/3*pi*x**3]\n",
    "dim=[\"circle\",\"disk\",\"sphere\"]\n",
    "\n",
    "for atom in densities:\n",
    "    print(\"Atom:\",atom)\n",
    "    for rho,r,vol,d in zip(densities[atom], radii,formulas,dim):\n",
    "        print(\"Density: %4.1f, type: %6s, volume: %6.2f, weight: %7.2f\" % (rho,d,vol(r),rho*vol(r)) )\n",
    "        \n",
    "#Evaluating circle, disk and sphere for a given x \n",
    "x=10\n",
    "v=[f(x) for f in formulas]\n",
    "\n",
    "print(\"The three volumes are: \",[f'{i:.2f}' for i in v] )"
   ]
  },
  {
   "cell_type": "markdown",
   "metadata": {},
   "source": [
    "### 6\\. Classes\n",
    "Edit the class defintion to add an instance attribute of `is_hungry = True` to the Dog class. Then add a method called `eat()` which changes the value of `is_hungry` to `False` when called. Figure out the best way to instantiate the dog objects and to feed the dogs, e.g. call the `eat()` method for all instances. Finally, print “My dogs are hungry.” or “My dogs are not hungry.” if all of them have `is_hungry = True` or `False`, respectively. The final output should look like this:\n",
    "\n",
    "`I have 3 dogs. \n",
    "Tom is 6. \n",
    "Fletcher is 7. \n",
    "Larry is 9. \n",
    "And they're all mammals, of course. \n",
    "My dogs are not hungry.\n",
    "`\n",
    "\n",
    "```python\n",
    "# Parent class\n",
    "class Dog:\n",
    "\n",
    "    # Class attribute\n",
    "    species = 'mammal'\n",
    "\n",
    "    # Initializer / Instance attributes\n",
    "    def __init__(self, name, age):\n",
    "        self.name = name\n",
    "        self.age = age\n",
    "\n",
    "    # instance method\n",
    "    def description(self):\n",
    "        return \"{} is {} years old\".format(self.name, self.age)\n",
    "\n",
    "    # instance method\n",
    "    def speak(self, sound):\n",
    "        return \"{} says {}\".format(self.name, sound)\n",
    "\n",
    "# Child class (inherits from Dog class)\n",
    "class RussellTerrier(Dog):\n",
    "    def run(self, speed):\n",
    "        return \"{} runs {}\".format(self.name, speed)\n",
    "\n",
    "# Child class (inherits from Dog class)\n",
    "class Bulldog(Dog):\n",
    "    def run(self, speed):\n",
    "        return \"{} runs {}\".format(self.name, speed)\n",
    "```"
   ]
  },
  {
   "cell_type": "code",
   "execution_count": 14,
   "metadata": {},
   "outputs": [
    {
     "name": "stdout",
     "output_type": "stream",
     "text": [
      "I have 3 dogs.\n",
      "Tom is 6 years old.\n",
      "Fletcher is 7 years old.\n",
      "Larry is 9 years old.\n",
      "And they're all mammal, of course.\n",
      "My dogs are not hungry.\n"
     ]
    }
   ],
   "source": [
    "class Dog:\n",
    "\n",
    "    # Attributes\n",
    "    species = 'mammal'\n",
    "    is_hungry = True\n",
    "    \n",
    "    \n",
    "    # Constructor\n",
    "    def __init__(self, name, age):\n",
    "        self.name = name\n",
    "        self.age = age\n",
    "\n",
    "    def description(self):\n",
    "        return \"{} is {} years old.\".format(self.name, self.age)\n",
    "\n",
    "    def speak(self, sound):\n",
    "        return \"{} says {}\".format(self.name, sound)\n",
    "    \n",
    "    def eat(self):\n",
    "        self.is_hungry=False\n",
    "   \n",
    "#Creating dogs\n",
    "names=[\"Tom\", \"Fletcher\", \"Larry\"]\n",
    "ages=[6,7,9]\n",
    "mydogs = [Dog(n,a) for n,a in zip(names,ages)]\n",
    "\n",
    "\"\"\"\n",
    "#Alternatively, creating dogs with a dictionary\n",
    "dogs={\"Tom\":6,\"Fletcher\":7,\"Larry\":9}\n",
    "mydogs = [(i, dogs[i]) for i in dogs] \n",
    "\"\"\"\n",
    "\n",
    "#Presentation\n",
    "n_dogs = len(mydogs)\n",
    "print(\"I have %i dogs.\" % n_dogs)\n",
    "for i in range(n_dogs):\n",
    "    print(mydogs[i].description())\n",
    "    mydogs[i].eat()\n",
    "\n",
    "# Just for completeness, check if all mydogs are of the same species\n",
    "if all(mydogs[i].species == mydogs[0].species for i in range(n_dogs)):\n",
    "    print(\"And they're all {}, of course.\".format(mydogs[0].species) )\n",
    "    \n",
    "#Hungry?    \n",
    "if all(mydogs[i].is_hungry == True for i in range(n_dogs)):\n",
    "    print(\"My dogs are hungry.\")\n",
    "elif all(mydogs[i].is_hungry == False for i in range(n_dogs)):\n",
    "    print(\"My dogs are not hungry.\")\n",
    "else:\n",
    "    print(\"Some of my dogs are hungry.\")"
   ]
  }
 ],
 "metadata": {
  "kernelspec": {
   "display_name": "Python 3 (ipykernel)",
   "language": "python",
   "name": "python3"
  },
  "language_info": {
   "codemirror_mode": {
    "name": "ipython",
    "version": 3
   },
   "file_extension": ".py",
   "mimetype": "text/x-python",
   "name": "python",
   "nbconvert_exporter": "python",
   "pygments_lexer": "ipython3",
   "version": "3.10.0"
  }
 },
 "nbformat": 4,
 "nbformat_minor": 2
}
