{
 "cells": [
  {
   "cell_type": "markdown",
   "metadata": {},
   "source": [
    "1. Write the following expressions using the list comprehension"
   ]
  },
  {
   "cell_type": "code",
   "execution_count": 1,
   "metadata": {},
   "outputs": [
    {
     "name": "stdout",
     "output_type": "stream",
     "text": [
      "[(0, 0), (0, 1), (0, 2), (0, 3), (1, 0), (1, 1), (1, 2), (1, 3), (2, 0), (2, 1), (2, 2), (2, 3)]\n",
      "[1, 9, 25, 49, 81]\n"
     ]
    }
   ],
   "source": [
    "# 1\n",
    "ans = []\n",
    "for i in range(3):\n",
    "    for j in range(4):\n",
    "        ans.append((i, j))\n",
    "print(ans)\n",
    "\n",
    "# 2\n",
    "ans = map(lambda x: x * x, filter(lambda x: x % 2 == 1, range(10)))\n",
    "print(list(ans))"
   ]
  },
  {
   "cell_type": "code",
   "execution_count": 2,
   "metadata": {},
   "outputs": [
    {
     "name": "stdout",
     "output_type": "stream",
     "text": [
      "[(0, 0), (0, 1), (0, 2), (0, 3), (1, 0), (1, 1), (1, 2), (1, 3), (2, 0), (2, 1), (2, 2), (2, 3)]\n",
      "[1, 9, 25, 49, 81]\n"
     ]
    }
   ],
   "source": [
    "print([(i,j) for i in range(3) for j in range(4)])\n",
    "print([x*x for x in range(10) if x % 2 == 1])"
   ]
  },
  {
   "cell_type": "markdown",
   "metadata": {},
   "source": [
    "2\\. Convert the function $f$ into a function that doesn't use global variables and that does not modify the original list"
   ]
  },
  {
   "cell_type": "code",
   "execution_count": 3,
   "metadata": {},
   "outputs": [
    {
     "name": "stdout",
     "output_type": "stream",
     "text": [
      "[1, 2, 3, 0, 1, 2, 3, 4]\n",
      "[1, 2, 3, 0, 1, 2, 3, 4]\n"
     ]
    }
   ],
   "source": [
    "x = 5\n",
    "def f(alist):\n",
    "    for i in range(x):\n",
    "         alist.append(i)\n",
    "    return alist\n",
    "\n",
    "alist = [1,2,3]\n",
    "ans = f(alist)\n",
    "print(ans)\n",
    "print(alist) # alist has been changed!"
   ]
  },
  {
   "cell_type": "code",
   "execution_count": 5,
   "metadata": {},
   "outputs": [
    {
     "name": "stdout",
     "output_type": "stream",
     "text": [
      "[1, 2, 3, 0, 1, 2, 3, 4]\n",
      "[1, 2, 3]\n"
     ]
    }
   ],
   "source": [
    "x = 5\n",
    "def f(alist):\n",
    "    r=[]\n",
    "    for e in alist:\n",
    "        r.append(e)\n",
    "    for i in range(x):\n",
    "         r.append(i)\n",
    "    return r\n",
    "\n",
    "alist = [1,2,3]\n",
    "ans = f(alist)\n",
    "print(ans)\n",
    "print(alist) # alist has NOT been changed!"
   ]
  },
  {
   "cell_type": "markdown",
   "metadata": {},
   "source": [
    "3\\. Write a `decorator` hello that makes every wrapped function print “Hello!”, i.e. something like:\n",
    "\n",
    "```python\n",
    "@hello\n",
    "def square(x):\n",
    "    return x*x\n",
    "```\n",
    "\n"
   ]
  },
  {
   "cell_type": "code",
   "execution_count": 19,
   "metadata": {},
   "outputs": [
    {
     "name": "stdout",
     "output_type": "stream",
     "text": [
      "Hello\n",
      "4\n"
     ]
    }
   ],
   "source": [
    "def polite_decorator(func):\n",
    "    def wrapper(*args, **kwargs): #\"*args, **kwargs\" to make sure that any number of input arguments can be accepted.\n",
    "        print(\"Hello\")\n",
    "        result = func(*args, **kwargs) #to make sure the wrapper function returns the return value of the inner function.\n",
    "        return result\n",
    "    return wrapper \n",
    "\n",
    "@polite_decorator\n",
    "def square(x):\n",
    "    return x*x\n",
    "\n",
    "print(square(2))"
   ]
  },
  {
   "cell_type": "markdown",
   "metadata": {},
   "source": [
    "4\\. Write the factorial function in two different ways, so that it a) does and b) does not use recursion."
   ]
  },
  {
   "cell_type": "code",
   "execution_count": 16,
   "metadata": {},
   "outputs": [
    {
     "name": "stdout",
     "output_type": "stream",
     "text": [
      "120 120\n"
     ]
    }
   ],
   "source": [
    "def facto_recu(n):\n",
    "    if n<1:\n",
    "        print (\"error n should be >0\")\n",
    "        return -1\n",
    "    elif n==1:\n",
    "        return 1\n",
    "    else:\n",
    "        return n*facto_recu(n-1)\n",
    "    \n",
    "def facto_no_recu(n):\n",
    "    if n<1:\n",
    "        print (\"error n should be >0\")\n",
    "        return -1\n",
    "    else:\n",
    "        r=1\n",
    "        for i in range(1,n+1):\n",
    "            r*=i\n",
    "    return (r)\n",
    "\n",
    "print(facto_recu(5),facto_no_recu(5))\n",
    "            "
   ]
  },
  {
   "cell_type": "markdown",
   "metadata": {},
   "source": [
    "5\\. Use HOFs (zip in particular) to compute the weight of a circle, a disk and a sphere, assuming different radii and different densities:\n",
    "\n",
    "```python\n",
    "densities = {\"Al\" : [0.5, 1, 2], \"Fe\" : [3, 4, 5], \"Pb\" : [15, 20, 30]}\n",
    "radii = [1, 2, 3]\n",
    "```\n",
    "\n",
    "where the entries of the dictionary's values are the linear, superficial and volumetric densities of the materials respectively.\n",
    "\n",
    "Subsequently, define a list using a comprehension with three lambda functions that compute the circumference, the area and the volume for a given radius.\n"
   ]
  },
  {
   "cell_type": "code",
   "execution_count": 17,
   "metadata": {},
   "outputs": [
    {
     "name": "stdout",
     "output_type": "stream",
     "text": [
      "for a radii of: 1\n",
      "circle\n",
      "in Al:  3.141592653589793\n",
      "circle\n",
      "in Fe:  18.84955592153876\n",
      "circle\n",
      "in Pb:  94.24777960769379\n",
      "disk\n",
      "in Al:  3.141592653589793\n",
      "disk\n",
      "in Fe:  12.566370614359172\n",
      "disk\n",
      "in Pb:  62.83185307179586\n",
      "sphere\n",
      "in Al:  4.1887902047863905\n",
      "sphere\n",
      "in Fe:  4.1887902047863905\n",
      "sphere\n",
      "in Pb:  4.1887902047863905\n",
      "for a radii of: 2\n",
      "circle\n",
      "in Al:  6.283185307179586\n",
      "circle\n",
      "in Fe:  37.69911184307752\n",
      "circle\n",
      "in Pb:  188.49555921538757\n",
      "disk\n",
      "in Al:  12.566370614359172\n",
      "disk\n",
      "in Fe:  50.26548245743669\n",
      "disk\n",
      "in Pb:  251.32741228718345\n",
      "sphere\n",
      "in Al:  33.510321638291124\n",
      "sphere\n",
      "in Fe:  33.510321638291124\n",
      "sphere\n",
      "in Pb:  33.510321638291124\n",
      "for a radii of: 3\n",
      "circle\n",
      "in Al:  9.42477796076938\n",
      "circle\n",
      "in Fe:  56.548667764616276\n",
      "circle\n",
      "in Pb:  282.7433388230814\n",
      "disk\n",
      "in Al:  28.274333882308138\n",
      "disk\n",
      "in Fe:  113.09733552923255\n",
      "disk\n",
      "in Pb:  565.4866776461628\n",
      "sphere\n",
      "in Al:  113.09733552923255\n",
      "sphere\n",
      "in Fe:  113.09733552923255\n",
      "sphere\n",
      "in Pb:  113.09733552923255\n"
     ]
    }
   ],
   "source": [
    "from math import pi\n",
    "\n",
    "densities = {\"Al\" : [0.5, 1, 2], \"Fe\" : [3, 4, 5], \"Pb\" : [15, 20, 30]}\n",
    "radii = [1,2,3]\n",
    "\n",
    "def peri(r,d):\n",
    "    print (\"circle\")\n",
    "    return 2*pi*r*d\n",
    "\n",
    "def aire(r,d):\n",
    "    print (\"disk\")\n",
    "    return pi*r*r*d\n",
    "\n",
    "def vol(r,d):\n",
    "    print (\"sphere\")\n",
    "    return (4*pi*r**3)/3\n",
    "\n",
    "calculatore=[peri,aire,vol]\n",
    "\n",
    "for r in radii:\n",
    "    print (\"for a radii of:\",r)\n",
    "    for f, al, fe, pb in zip(calculatore, densities[\"Al\"], densities[\"Fe\"],densities[\"Pb\"]):\n",
    "        print(\"in Al: \",f(r,al))\n",
    "        print(\"in Fe: \",f(r,fe))\n",
    "        print(\"in Pb: \",f(r,pb))"
   ]
  },
  {
   "cell_type": "markdown",
   "metadata": {},
   "source": [
    "6\\. Edit the class defintion to add an instance attribute of `is_hungry = True` to the Dog class. Then add a method called `eat()` which changes the value of `is_hungry` to `False` when called. Figure out the best way to instantiate the dog objects and to feed the dogs, e.g. call the `eat()` method for all instances. Finally, print “My dogs are hungry.” or “My dogs are not hungry.” if all of them have `is_hungry = True` or `False`, respectively. The final output should look like this:\n",
    "\n",
    "`I have 3 dogs. \n",
    "Tom is 6. \n",
    "Fletcher is 7. \n",
    "Larry is 9. \n",
    "And they're all mammals, of course. \n",
    "My dogs are not hungry.\n",
    "`\n",
    "\n",
    "```python\n",
    "# Parent class\n",
    "class Dog:\n",
    "\n",
    "    # Class attribute\n",
    "    species = 'mammal'\n",
    "\n",
    "    # Initializer / Instance attributes\n",
    "    def __init__(self, name, age):\n",
    "        self.name = name\n",
    "        self.age = age\n",
    "\n",
    "    # instance method\n",
    "    def description(self):\n",
    "        return \"{} is {} years old\".format(self.name, self.age)\n",
    "\n",
    "    # instance method\n",
    "    def speak(self, sound):\n",
    "        return \"{} says {}\".format(self.name, sound)\n",
    "\n",
    "# Child class (inherits from Dog class)\n",
    "class RussellTerrier(Dog):\n",
    "    def run(self, speed):\n",
    "        return \"{} runs {}\".format(self.name, speed)\n",
    "\n",
    "# Child class (inherits from Dog class)\n",
    "class Bulldog(Dog):\n",
    "    def run(self, speed):\n",
    "        return \"{} runs {}\".format(self.name, speed)\n",
    "```"
   ]
  },
  {
   "cell_type": "code",
   "execution_count": 18,
   "metadata": {},
   "outputs": [
    {
     "name": "stdout",
     "output_type": "stream",
     "text": [
      "I have 3 dogs\n",
      "Tom is 2\n",
      "Tom is hungry, let's feed him\n",
      "Fletcher is 9\n",
      "Fletcher is hungry, let's feed him\n",
      "Larry is 4\n",
      "Larry is hungry, let's feed him\n",
      "They're all mammals, of course.\n",
      "And now none of them is hungry.\n"
     ]
    }
   ],
   "source": [
    "# Parent class\n",
    "class Dog:\n",
    "\n",
    "    # Class attribute\n",
    "    species = 'mammal'\n",
    "    is_hungry = True\n",
    "\n",
    "    # Initializer / Instance attributes\n",
    "    def __init__(self, name, age):\n",
    "        self.name = name\n",
    "        self.age = age\n",
    "\n",
    "    # instance method\n",
    "    def description(self):\n",
    "        return \"{} is {} years old\".format(self.name, self.age)\n",
    "\n",
    "    # instance method\n",
    "    def speak(self, sound):\n",
    "        return \"{} says {}\".format(self.name, sound)\n",
    "    \n",
    "    # instance method\n",
    "    def eat(self):\n",
    "        self.is_hungry =False\n",
    "\n",
    "# Child class (inherits from Dog class)\n",
    "class RussellTerrier(Dog):\n",
    "    def run(self, speed):\n",
    "        return \"{} runs {}\".format(self.name, speed)\n",
    "\n",
    "# Child class (inherits from Dog class)\n",
    "class Bulldog(Dog):\n",
    "    def run(self, speed):\n",
    "        return \"{} runs {}\".format(self.name, speed)\n",
    "    \n",
    "dogs=[]\n",
    "dogs.append(RussellTerrier(\"Tom\", 2))\n",
    "dogs.append(RussellTerrier(\"Fletcher\", 9))\n",
    "dogs.append(Bulldog(\"Larry\", 4))\n",
    "\n",
    "print (\"I have\", len(dogs), \"dogs\")\n",
    "are_hungry=False\n",
    "for dog in dogs:\n",
    "    are_hungry=are_hungry or dog.is_hungry\n",
    "    print(dog.name, \"is\", dog.age)\n",
    "    if dog.is_hungry:\n",
    "        print (dog.name, \"is hungry, let's feed him\")\n",
    "\n",
    "print (\"They're all mammals, of course.\\nAnd now none of them is hungry.\")"
   ]
  },
  {
   "cell_type": "code",
   "execution_count": null,
   "metadata": {},
   "outputs": [],
   "source": []
  }
 ],
 "metadata": {
  "kernelspec": {
   "display_name": "Python 3",
   "language": "python",
   "name": "python3"
  },
  "language_info": {
   "codemirror_mode": {
    "name": "ipython",
    "version": 3
   },
   "file_extension": ".py",
   "mimetype": "text/x-python",
   "name": "python",
   "nbconvert_exporter": "python",
   "pygments_lexer": "ipython3",
   "version": "3.8.5"
  }
 },
 "nbformat": 4,
 "nbformat_minor": 2
}
