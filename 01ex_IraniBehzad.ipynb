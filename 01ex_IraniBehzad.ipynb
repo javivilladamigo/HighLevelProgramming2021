{
  "nbformat": 4,
  "nbformat_minor": 0,
  "metadata": {
    "kernelspec": {
      "display_name": "Python 3",
      "language": "python",
      "name": "python3"
    },
    "language_info": {
      "codemirror_mode": {
        "name": "ipython",
        "version": 3
      },
      "file_extension": ".py",
      "mimetype": "text/x-python",
      "name": "python",
      "nbconvert_exporter": "python",
      "pygments_lexer": "ipython3",
      "version": "3.8.5"
    },
    "colab": {
      "name": "01ex_IraniBehzad.ipynb",
      "provenance": [],
      "collapsed_sections": []
    }
  },
  "cells": [
    {
      "cell_type": "markdown",
      "metadata": {
        "id": "HkdR5rSp9Oay"
      },
      "source": [
        "1. The HelloWorld replacement\n",
        "\n",
        "a) Write a program that prints the numbers from 1 to 100. But for multiples of three print \"Hello\" instead of the number and for the multiples of five print \"World\". For numbers which are multiples of both three and five print \"HelloWorld\".\n",
        "\n",
        "b) Put the result in a tuple and substitute \"Hello\" with \"Python\" and \"World\" with \"Works\"."
      ]
    },
    {
      "cell_type": "code",
      "metadata": {
        "colab": {
          "base_uri": "https://localhost:8080/"
        },
        "id": "LvwMg5X89Zik",
        "outputId": "0b57f2c1-640a-406f-9554-204149b39d97"
      },
      "source": [
        "print(\"Solution 1-a\")\n",
        "for i in range(1, 101):\n",
        "  if i % 3 == 0:\n",
        "    if i % 5 == 0:\n",
        "      print(\"HelloWorld\")\n",
        "    else:\n",
        "      print(\"Hello\")\n",
        "  if i % 5 == 0:\n",
        "    print(\"World\")\n",
        "  else:\n",
        "    print(i)"
      ],
      "execution_count": null,
      "outputs": [
        {
          "output_type": "stream",
          "name": "stdout",
          "text": [
            "Solution 1-a\n",
            "1\n",
            "2\n",
            "Hello\n",
            "3\n",
            "4\n",
            "World\n",
            "Hello\n",
            "6\n",
            "7\n",
            "8\n",
            "Hello\n",
            "9\n",
            "World\n",
            "11\n",
            "Hello\n",
            "12\n",
            "13\n",
            "14\n",
            "HelloWorld\n",
            "World\n",
            "16\n",
            "17\n",
            "Hello\n",
            "18\n",
            "19\n",
            "World\n",
            "Hello\n",
            "21\n",
            "22\n",
            "23\n",
            "Hello\n",
            "24\n",
            "World\n",
            "26\n",
            "Hello\n",
            "27\n",
            "28\n",
            "29\n",
            "HelloWorld\n",
            "World\n",
            "31\n",
            "32\n",
            "Hello\n",
            "33\n",
            "34\n",
            "World\n",
            "Hello\n",
            "36\n",
            "37\n",
            "38\n",
            "Hello\n",
            "39\n",
            "World\n",
            "41\n",
            "Hello\n",
            "42\n",
            "43\n",
            "44\n",
            "HelloWorld\n",
            "World\n",
            "46\n",
            "47\n",
            "Hello\n",
            "48\n",
            "49\n",
            "World\n",
            "Hello\n",
            "51\n",
            "52\n",
            "53\n",
            "Hello\n",
            "54\n",
            "World\n",
            "56\n",
            "Hello\n",
            "57\n",
            "58\n",
            "59\n",
            "HelloWorld\n",
            "World\n",
            "61\n",
            "62\n",
            "Hello\n",
            "63\n",
            "64\n",
            "World\n",
            "Hello\n",
            "66\n",
            "67\n",
            "68\n",
            "Hello\n",
            "69\n",
            "World\n",
            "71\n",
            "Hello\n",
            "72\n",
            "73\n",
            "74\n",
            "HelloWorld\n",
            "World\n",
            "76\n",
            "77\n",
            "Hello\n",
            "78\n",
            "79\n",
            "World\n",
            "Hello\n",
            "81\n",
            "82\n",
            "83\n",
            "Hello\n",
            "84\n",
            "World\n",
            "86\n",
            "Hello\n",
            "87\n",
            "88\n",
            "89\n",
            "HelloWorld\n",
            "World\n",
            "91\n",
            "92\n",
            "Hello\n",
            "93\n",
            "94\n",
            "World\n",
            "Hello\n",
            "96\n",
            "97\n",
            "98\n",
            "Hello\n",
            "99\n",
            "World\n"
          ]
        }
      ]
    },
    {
      "cell_type": "code",
      "metadata": {
        "colab": {
          "base_uri": "https://localhost:8080/"
        },
        "id": "IYhSOTdCBluw",
        "outputId": "f4acc376-7f41-4534-bfaf-4452993c3711"
      },
      "source": [
        "def switch2tuple(x):\n",
        "  return tuple(x)\n",
        "\n",
        "def switch2list(x):\n",
        "  return list(x)\n",
        "\n",
        "# first create empty tuple\n",
        "t = tuple()\n",
        "# we can not add new member to tuple so we have to swich it to list\n",
        "t = switch2list(t)\n",
        "\n",
        "for i in range(1, 101):\n",
        "  if i % 3 == 0:\n",
        "    if i % 5 == 0:\n",
        "      t.append(\"HelloWorld\")\n",
        "    else:\n",
        "      t.append(\"Hello\")\n",
        "  elif i % 5 == 0:\n",
        "    t.append(\"World\")\n",
        "  else:\n",
        "    t.append(i)\n",
        "\n",
        "t = swich2tuple(t)\n",
        "print(t)\n",
        "\n",
        "print(\"now we need to modify our tuple which is not possible\\nso we need to switch it back to list\\n\")\n",
        "\n",
        "t = switch2list(t)\n",
        "\n",
        "for i in range(len(t)):\n",
        "  if t[i] == \"Hello\":\n",
        "    t[i] = \"Python\"\n",
        "  if t[i] == \"World\":\n",
        "    t[i] = \"Works\"  \n",
        "\n",
        "t = swich2tuple(t)\n",
        "print(\"final tuple:\\n\")\n",
        "print(t)\n",
        "\n"
      ],
      "execution_count": null,
      "outputs": [
        {
          "output_type": "stream",
          "name": "stdout",
          "text": [
            "(1, 2, 'Hello', 4, 'World', 'Hello', 7, 8, 'Hello', 'World', 11, 'Hello', 13, 14, 'HelloWorld', 16, 17, 'Hello', 19, 'World', 'Hello', 22, 23, 'Hello', 'World', 26, 'Hello', 28, 29, 'HelloWorld', 31, 32, 'Hello', 34, 'World', 'Hello', 37, 38, 'Hello', 'World', 41, 'Hello', 43, 44, 'HelloWorld', 46, 47, 'Hello', 49, 'World', 'Hello', 52, 53, 'Hello', 'World', 56, 'Hello', 58, 59, 'HelloWorld', 61, 62, 'Hello', 64, 'World', 'Hello', 67, 68, 'Hello', 'World', 71, 'Hello', 73, 74, 'HelloWorld', 76, 77, 'Hello', 79, 'World', 'Hello', 82, 83, 'Hello', 'World', 86, 'Hello', 88, 89, 'HelloWorld', 91, 92, 'Hello', 94, 'World', 'Hello', 97, 98, 'Hello', 'World')\n",
            "now we need to modify our tuple which is not possible\n",
            "so we need to switch it back to list\n",
            "\n",
            "final tuple:\n",
            "\n",
            "(1, 2, 'Python', 4, 'Works', 'Python', 7, 8, 'Python', 'Works', 11, 'Python', 13, 14, 'HelloWorld', 16, 17, 'Python', 19, 'Works', 'Python', 22, 23, 'Python', 'Works', 26, 'Python', 28, 29, 'HelloWorld', 31, 32, 'Python', 34, 'Works', 'Python', 37, 38, 'Python', 'Works', 41, 'Python', 43, 44, 'HelloWorld', 46, 47, 'Python', 49, 'Works', 'Python', 52, 53, 'Python', 'Works', 56, 'Python', 58, 59, 'HelloWorld', 61, 62, 'Python', 64, 'Works', 'Python', 67, 68, 'Python', 'Works', 71, 'Python', 73, 74, 'HelloWorld', 76, 77, 'Python', 79, 'Works', 'Python', 82, 83, 'Python', 'Works', 86, 'Python', 88, 89, 'HelloWorld', 91, 92, 'Python', 94, 'Works', 'Python', 97, 98, 'Python', 'Works')\n"
          ]
        }
      ]
    },
    {
      "cell_type": "markdown",
      "metadata": {
        "id": "NC3xFdeU9Oa9"
      },
      "source": [
        "2\\. The swap function\n",
        "\n",
        "Write a function that swap the values of two input variables x and y (whatever the type). Try to do that also without a temporary variable"
      ]
    },
    {
      "cell_type": "code",
      "metadata": {
        "colab": {
          "base_uri": "https://localhost:8080/"
        },
        "id": "TbxG2ZD4BhlQ",
        "outputId": "4b585602-f706-455b-96cb-4d858b82260d"
      },
      "source": [
        "def swap(a, b):\n",
        "  a, b = b, a\n",
        "  return a, b\n",
        "\n",
        "x, y = 3, 4\n",
        "print(\"Before swaping:\")\n",
        "print(\"x = {} and y = {}\".format(x, y))\n",
        "\n",
        "x, y = swap(x, y)\n",
        "print(\"\\nAfter swaping:\")\n",
        "print(\"x = {} and y = {}\".format(x, y))\n",
        "\n"
      ],
      "execution_count": null,
      "outputs": [
        {
          "output_type": "stream",
          "name": "stdout",
          "text": [
            "Before swaping:\n",
            "x = 3 and y = 4\n",
            "\n",
            "After swaping:\n",
            "x = 4 and y = 3\n"
          ]
        }
      ]
    },
    {
      "cell_type": "markdown",
      "metadata": {
        "id": "QXqt4h389Oa-"
      },
      "source": [
        "3\\. Computing the distance\n",
        "\n",
        "Write a function that calculates and returns the euclidean distance between two points *u* and *v*, where *u* and *v* are both 2-tuples *(x,y)*. For example, if *u=(3,0)* and *v=(0,4)*, the function should return 5"
      ]
    },
    {
      "cell_type": "code",
      "metadata": {
        "colab": {
          "base_uri": "https://localhost:8080/"
        },
        "id": "wcIMeNrROyvk",
        "outputId": "6c4891d0-3b1c-48d0-ca4c-bddc48fe77a9"
      },
      "source": [
        "from math import sqrt\n",
        "\n",
        "def distance(a, b):\n",
        "  dx = (b[0] - a[0])**2\n",
        "  dy = (b[1] - a[1])**2\n",
        "  return sqrt(dx + dy)\n",
        "\n",
        "u = (3, 0)\n",
        "v = (0, 4)\n",
        "d = distance(u, v)\n",
        "print(f\"eucliden distance between {u} and {v} is :\\n\")\n",
        "print(d)\n"
      ],
      "execution_count": null,
      "outputs": [
        {
          "output_type": "stream",
          "name": "stdout",
          "text": [
            "eucliden distance between (3, 0) and (0, 4) is :\n",
            "\n",
            "5.0\n"
          ]
        }
      ]
    },
    {
      "cell_type": "markdown",
      "metadata": {
        "id": "DQquXOuR9ObA"
      },
      "source": [
        "4\\. Counting letters\n",
        "\n",
        "Write a program to calculate the number of times each character occurs in a given string *s*. Ignore differences in capitalization"
      ]
    },
    {
      "cell_type": "code",
      "metadata": {
        "id": "GekThAbM9ObB"
      },
      "source": [
        "s = \"Write a program that prints the numbers from 1 to 100. \\\n",
        "But for multiples of three print Hello instead of the number and for the multiples of five print World. \\\n",
        "For numbers which are multiples of both three and five print HelloWorld.\""
      ],
      "execution_count": null,
      "outputs": []
    },
    {
      "cell_type": "code",
      "metadata": {
        "colab": {
          "base_uri": "https://localhost:8080/"
        },
        "id": "X71a56S8RtK7",
        "outputId": "d77dbeab-1f29-4d92-868f-a10316961c2b"
      },
      "source": [
        "s = s.lower() # for ignoring diffences in capitalization\n",
        "\n",
        "l = list()\n",
        "dic = {}\n",
        "\n",
        "for i in s:\n",
        "  l.append(i)\n",
        "\n",
        "l.sort()  # for sorting our list of caracter\n",
        "\n",
        "\n",
        "for i in l:\n",
        "  if i in dic.keys():\n",
        "    dic[i] += 1\n",
        "  else:\n",
        "    dic[i] = 1\n",
        "\n",
        "for k, v in dic.items():\n",
        "  print(f\"Number of '{k}' is {v}\")"
      ],
      "execution_count": null,
      "outputs": [
        {
          "output_type": "stream",
          "name": "stdout",
          "text": [
            "Number of ' ' is 41\n",
            "Number of '.' is 3\n",
            "Number of '0' is 2\n",
            "Number of '1' is 2\n",
            "Number of 'a' is 7\n",
            "Number of 'b' is 5\n",
            "Number of 'c' is 1\n",
            "Number of 'd' is 5\n",
            "Number of 'e' is 20\n",
            "Number of 'f' is 10\n",
            "Number of 'g' is 1\n",
            "Number of 'h' is 11\n",
            "Number of 'i' is 12\n",
            "Number of 'l' is 12\n",
            "Number of 'm' is 8\n",
            "Number of 'n' is 10\n",
            "Number of 'o' is 15\n",
            "Number of 'p' is 8\n",
            "Number of 'r' is 19\n",
            "Number of 's' is 7\n",
            "Number of 't' is 19\n",
            "Number of 'u' is 7\n",
            "Number of 'v' is 2\n",
            "Number of 'w' is 4\n"
          ]
        }
      ]
    },
    {
      "cell_type": "markdown",
      "metadata": {
        "id": "S_xh7GiP9ObE"
      },
      "source": [
        "5\\. Isolating the unique\n",
        "\n",
        "Write a function that determines and count the unique numbers in the list:"
      ]
    },
    {
      "cell_type": "code",
      "metadata": {
        "id": "-NB5ggHo9ObG"
      },
      "source": [
        "l = [36, 45, 58, 3, 74, 96, 64, 45, 31, 10, 24, 19, 33, 86, 99, 18, 63, 70, 85,\n",
        " 85, 63, 47, 56, 42, 70, 84, 88, 55, 20, 54, 8, 56, 51, 79, 81, 57, 37, 91,\n",
        " 1, 84, 84, 36, 66, 9, 89, 50, 42, 91, 50, 95, 90, 98, 39, 16, 82, 31, 92, 41,\n",
        " 45, 30, 66, 70, 34, 85, 94, 5, 3, 36, 72, 91, 84, 34, 87, 75, 53, 51, 20, 89, 51, 20]"
      ],
      "execution_count": 1,
      "outputs": []
    },
    {
      "cell_type": "code",
      "metadata": {
        "colab": {
          "base_uri": "https://localhost:8080/"
        },
        "id": "K8_DeoLhcEyS",
        "outputId": "50b726a0-a9d1-4e31-fa9a-1e156d199aaf"
      },
      "source": [
        "def count_unique_number(a):\n",
        "  a.sort()\n",
        "  l = []\n",
        "  for i in a:\n",
        "    if a.count(i) == 1:\n",
        "      l.append(i)\n",
        "  return l\n",
        "\n",
        "unique_list = count_unique_number(l)\n",
        "print(\"Number of unique number in list is :\")\n",
        "print(len(unique_list))\n",
        "print()\n",
        "print(\"List of uniqu number\")\n",
        "print(unique_list)"
      ],
      "execution_count": 2,
      "outputs": [
        {
          "output_type": "stream",
          "name": "stdout",
          "text": [
            "Number of unique number in list is :\n",
            "37\n",
            "\n",
            "List of uniqu number\n",
            "[1, 5, 8, 9, 10, 16, 18, 19, 24, 30, 33, 37, 39, 41, 47, 53, 54, 55, 57, 58, 64, 72, 74, 75, 79, 81, 82, 86, 87, 88, 90, 92, 94, 95, 96, 98, 99]\n"
          ]
        }
      ]
    },
    {
      "cell_type": "markdown",
      "metadata": {
        "id": "UoiCzQYC9ObH"
      },
      "source": [
        "Do the same without using user-defined functions, but exploiting only the Python data structures."
      ]
    },
    {
      "cell_type": "code",
      "metadata": {
        "colab": {
          "base_uri": "https://localhost:8080/"
        },
        "id": "rmfzEmUEeIrS",
        "outputId": "144c8864-53cb-4372-fafa-f432bf836d6d"
      },
      "source": [
        "t = []\n",
        "l.sort()\n",
        "for i in l:\n",
        "  if l.count(i) == 1:\n",
        "    t.append(i)\n",
        "\n",
        "print(\"Number of unique number in list is :\")\n",
        "print(len(t))\n",
        "print()\n",
        "print(\"List of uniqu number\")\n",
        "print(t) "
      ],
      "execution_count": 3,
      "outputs": [
        {
          "output_type": "stream",
          "name": "stdout",
          "text": [
            "Number of unique number in list is :\n",
            "37\n",
            "\n",
            "List of uniqu number\n",
            "[1, 5, 8, 9, 10, 16, 18, 19, 24, 30, 33, 37, 39, 41, 47, 53, 54, 55, 57, 58, 64, 72, 74, 75, 79, 81, 82, 86, 87, 88, 90, 92, 94, 95, 96, 98, 99]\n"
          ]
        }
      ]
    },
    {
      "cell_type": "markdown",
      "metadata": {
        "id": "V9V-Qgxc9ObJ"
      },
      "source": [
        "6\\. Combination of functions\n",
        "\n",
        "Write two functions - one that returns the square of a number, and one that returns the cube. Now write a third function that returns the number raised to the 6th power using the two previous functions."
      ]
    },
    {
      "cell_type": "code",
      "metadata": {
        "colab": {
          "base_uri": "https://localhost:8080/"
        },
        "id": "JH6gUl3ojSzo",
        "outputId": "f2060d1d-44b2-4d58-ab98-1f4fddcad6a1"
      },
      "source": [
        "def square(a):\n",
        "  return a**2\n",
        "   \n",
        "def cube(b):\n",
        "  return b**3\n",
        "\n",
        "def sixth_power(c):\n",
        "  return cube(square(c))\n",
        "\n",
        "x = 2\n",
        "print(f\"6th power of {x} is :\")\n",
        "print(sixth_power(x))"
      ],
      "execution_count": 4,
      "outputs": [
        {
          "output_type": "stream",
          "name": "stdout",
          "text": [
            "6th power of 2 is :\n",
            "64\n"
          ]
        }
      ]
    },
    {
      "cell_type": "markdown",
      "metadata": {
        "id": "6eonLLjL9ObL"
      },
      "source": [
        "7\\. Cubes\n",
        "\n",
        "Create a list of the cubes of x for x in *[0, 10]* using:\n",
        "\n",
        "a) a for loop\n",
        "\n",
        "b) a list comprehension"
      ]
    },
    {
      "cell_type": "code",
      "metadata": {
        "colab": {
          "base_uri": "https://localhost:8080/"
        },
        "id": "zQPJXPdClbmh",
        "outputId": "294309b2-a4e4-4b98-8343-89cc5f979da4"
      },
      "source": [
        "print(\"part a:\")\n",
        "cubelist = []\n",
        "for i in range(11):\n",
        "  cubelist.append(cube(i))\n",
        "\n",
        "print(cubelist)\n",
        "\n",
        "print(\"\\nPart b:\")\n",
        "\n",
        "x = [cube(i) for i in range(11)]\n",
        "x\n",
        "\n"
      ],
      "execution_count": null,
      "outputs": [
        {
          "output_type": "stream",
          "name": "stdout",
          "text": [
            "part a:\n",
            "[0, 1, 8, 27, 64, 125, 216, 343, 512, 729, 1000]\n",
            "\n",
            "Part b:\n"
          ]
        },
        {
          "output_type": "execute_result",
          "data": {
            "text/plain": [
              "[0, 1, 8, 27, 64, 125, 216, 343, 512, 729, 1000]"
            ]
          },
          "metadata": {},
          "execution_count": 137
        }
      ]
    },
    {
      "cell_type": "markdown",
      "metadata": {
        "id": "Xle-yWZg9ObN"
      },
      "source": [
        "8\\. Nested list comprehension\n",
        "\n",
        "A Pythagorean triple is an integer solution to the Pythagorean theorem $a^2+b^2=c^2$. The first Pythagorean triple is (3,4,5). Find and put in a tuple all unique Pythagorean triples for the positive integers a, b and c less than 100."
      ]
    },
    {
      "cell_type": "code",
      "metadata": {
        "colab": {
          "base_uri": "https://localhost:8080/"
        },
        "id": "BuneWfkdpTuK",
        "outputId": "d706a9b5-4098-423f-cdcf-54073fdea356"
      },
      "source": [
        "x = [(x, y, z) for x in range(1, 100) for y in range(1, 100) if y>x for z in range(1, 100) if z>y if z**2 == y**2 + x**2]\n",
        "x"
      ],
      "execution_count": null,
      "outputs": [
        {
          "output_type": "execute_result",
          "data": {
            "text/plain": [
              "[(3, 4, 5),\n",
              " (5, 12, 13),\n",
              " (6, 8, 10),\n",
              " (7, 24, 25),\n",
              " (8, 15, 17),\n",
              " (9, 12, 15),\n",
              " (9, 40, 41),\n",
              " (10, 24, 26),\n",
              " (11, 60, 61),\n",
              " (12, 16, 20),\n",
              " (12, 35, 37),\n",
              " (13, 84, 85),\n",
              " (14, 48, 50),\n",
              " (15, 20, 25),\n",
              " (15, 36, 39),\n",
              " (16, 30, 34),\n",
              " (16, 63, 65),\n",
              " (18, 24, 30),\n",
              " (18, 80, 82),\n",
              " (20, 21, 29),\n",
              " (20, 48, 52),\n",
              " (21, 28, 35),\n",
              " (21, 72, 75),\n",
              " (24, 32, 40),\n",
              " (24, 45, 51),\n",
              " (24, 70, 74),\n",
              " (25, 60, 65),\n",
              " (27, 36, 45),\n",
              " (28, 45, 53),\n",
              " (30, 40, 50),\n",
              " (30, 72, 78),\n",
              " (32, 60, 68),\n",
              " (33, 44, 55),\n",
              " (33, 56, 65),\n",
              " (35, 84, 91),\n",
              " (36, 48, 60),\n",
              " (36, 77, 85),\n",
              " (39, 52, 65),\n",
              " (39, 80, 89),\n",
              " (40, 42, 58),\n",
              " (40, 75, 85),\n",
              " (42, 56, 70),\n",
              " (45, 60, 75),\n",
              " (48, 55, 73),\n",
              " (48, 64, 80),\n",
              " (51, 68, 85),\n",
              " (54, 72, 90),\n",
              " (57, 76, 95),\n",
              " (60, 63, 87),\n",
              " (65, 72, 97)]"
            ]
          },
          "metadata": {},
          "execution_count": 150
        }
      ]
    },
    {
      "cell_type": "markdown",
      "metadata": {
        "id": "h0_XQIJe9ObO"
      },
      "source": [
        "9\\. Normalization\n",
        "\n",
        "Write a function that takes a tuple of numbers and returns it with the entries normalized to one"
      ]
    },
    {
      "cell_type": "code",
      "metadata": {
        "colab": {
          "base_uri": "https://localhost:8080/"
        },
        "id": "py_HETPa9ObP",
        "outputId": "8a4769bd-29ec-43ee-e8a6-542a43e46951"
      },
      "source": [
        "def normalize(a):\n",
        "  l = []\n",
        "  for i in a:\n",
        "    temp = (i - min(a)) / (max(a) - min(a))\n",
        "    l.append(temp)\n",
        "  return l\n",
        "\n",
        "t = (2, 3, 6, 9)\n",
        "print(tuple(normalize(t)))"
      ],
      "execution_count": null,
      "outputs": [
        {
          "output_type": "stream",
          "name": "stdout",
          "text": [
            "(0.0, 0.14285714285714285, 0.5714285714285714, 1.0)\n"
          ]
        }
      ]
    }
  ]
}