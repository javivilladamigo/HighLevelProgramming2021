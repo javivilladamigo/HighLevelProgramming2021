{
 "cells": [
  {
   "cell_type": "markdown",
   "metadata": {},
   "source": [
    "1. Write the following expressions using the list comprehension"
   ]
  },
  {
   "cell_type": "code",
   "execution_count": 1,
   "metadata": {},
   "outputs": [
    {
     "name": "stdout",
     "output_type": "stream",
     "text": [
      "[(0, 0), (0, 1), (0, 2), (0, 3), (1, 0), (1, 1), (1, 2), (1, 3), (2, 0), (2, 1), (2, 2), (2, 3)]\n",
      "[1, 9, 25, 49, 81]\n"
     ]
    }
   ],
   "source": [
    "# 1\n",
    "ans = []\n",
    "for i in range(3):\n",
    "    for j in range(4):\n",
    "        ans.append((i, j))\n",
    "print(ans)\n",
    "\n",
    "# 2\n",
    "ans = map(lambda x: x * x, filter(lambda x: x % 2 == 1, range(10)))\n",
    "print(list(ans))"
   ]
  },
  {
   "cell_type": "code",
   "execution_count": 16,
   "metadata": {},
   "outputs": [
    {
     "name": "stdout",
     "output_type": "stream",
     "text": [
      "[(0, 0), (0, 1), (0, 2), (0, 3), (1, 0), (1, 1), (1, 2), (1, 3), (2, 0), (2, 1), (2, 2), (2, 3)]\n"
     ]
    }
   ],
   "source": [
    "#Q1-1\n",
    "ans = [(i,j) for i in range(3) for j in range(4)]\n",
    "print(ans)"
   ]
  },
  {
   "cell_type": "code",
   "execution_count": 21,
   "metadata": {},
   "outputs": [
    {
     "name": "stdout",
     "output_type": "stream",
     "text": [
      "[1, 9, 25, 49, 81]\n"
     ]
    }
   ],
   "source": [
    "#Q1-2\n",
    "ans = [x*x for x in range(10) if x%2==1]\n",
    "print(ans)"
   ]
  },
  {
   "cell_type": "markdown",
   "metadata": {},
   "source": [
    "2\\. Convert the function $f$ into a function that doesn't use global variables and that does not modify the original list"
   ]
  },
  {
   "cell_type": "code",
   "execution_count": 26,
   "metadata": {},
   "outputs": [
    {
     "name": "stdout",
     "output_type": "stream",
     "text": [
      "[1, 2, 3, 0, 1, 2, 3, 4]\n",
      "[1, 2, 3, 0, 1, 2, 3, 4]\n"
     ]
    }
   ],
   "source": [
    "x = 5\n",
    "def f(alist):\n",
    "    for i in range(x):\n",
    "         alist.append(i)\n",
    "    return alist\n",
    "\n",
    "alist = [1,2,3]\n",
    "ans = f(alist)\n",
    "print(ans)\n",
    "print(alist) # alist has been changed!"
   ]
  },
  {
   "cell_type": "code",
   "execution_count": 194,
   "metadata": {},
   "outputs": [
    {
     "name": "stdout",
     "output_type": "stream",
     "text": [
      "[1, 2, 3, 0, 1, 2, 3, 4]\n",
      "[1, 2, 3]\n",
      "1\n"
     ]
    }
   ],
   "source": [
    "#Q2\n",
    "def f(alist):\n",
    "    x=5 # inside the function, it is a local variable.\n",
    "    blist = alist.copy() # Assigned new list without changing alist\n",
    "    for i in range(x):\n",
    "        blist.append(i)\n",
    "        #print(alist) # to see whether alist is changed or not\n",
    "    return blist\n",
    "\n",
    "alist = [1,2,3]\n",
    "ans = f(alist)\n",
    "print(ans)\n",
    "print(alist) # alist has not been changed!"
   ]
  },
  {
   "cell_type": "code",
   "execution_count": 117,
   "metadata": {},
   "outputs": [
    {
     "name": "stdout",
     "output_type": "stream",
     "text": [
      "Hello!\n",
      "This is my function.\n",
      "Hello!\n"
     ]
    }
   ],
   "source": [
    "#3\\. Write a `decorator` hello that makes every wrapped function print “Hello!”, i.e. something like:\n",
    "\n",
    "def hello(func):\n",
    "    def wrapper():\n",
    "        print(\"Hello!\")\n",
    "        func()\n",
    "        print(\"Hello!\")\n",
    "    return wrapper    \n",
    "\n",
    "@hello\n",
    "def myFunc():\n",
    "    print(\"This is my function.\")\n",
    "\n",
    "myFunc()"
   ]
  },
  {
   "cell_type": "markdown",
   "metadata": {},
   "source": [
    "4\\. Write the factorial function in two different ways, so that it a) does and b) does not use recursion."
   ]
  },
  {
   "cell_type": "code",
   "execution_count": 92,
   "metadata": {},
   "outputs": [
    {
     "name": "stdout",
     "output_type": "stream",
     "text": [
      "[720, 120, 24, 6, 2, 1]\n"
     ]
    }
   ],
   "source": [
    "# Q4-a) Use recursive!\n",
    "\n",
    "\n",
    "def recFun(x):\n",
    "    \n",
    "    if x==1 or x==0:\n",
    "        return 1\n",
    "    else:\n",
    "        return x*recFun(x-1)\n",
    "    \n",
    "a=6\n",
    "print([recFun(i) for i in range(a,0,-1)])\n",
    "    \n",
    "     "
   ]
  },
  {
   "cell_type": "code",
   "execution_count": 93,
   "metadata": {},
   "outputs": [
    {
     "name": "stdout",
     "output_type": "stream",
     "text": [
      "720\n"
     ]
    }
   ],
   "source": [
    "# Q4-b) Does not use recursive!\n",
    "def nonrec_fun(x):\n",
    "    myFac = 1\n",
    "    i=1\n",
    "    while i <= x:\n",
    "        myFac *= i\n",
    "        i=i+1\n",
    "    return myFac \n",
    "a=6\n",
    "print(nonrec_fun(a))  "
   ]
  },
  {
   "cell_type": "markdown",
   "metadata": {},
   "source": [
    "5\\. Use HOFs (zip in particular) to compute the weight of a circle, a disk and a sphere, assuming different radii and different densities:\n",
    "\n",
    "```python\n",
    "densities = {\"Al\" : [0.5, 1, 2], \"Fe\" : [3, 4, 5], \"Pb\" : [15, 20, 30]}\n",
    "radii = [1, 2, 3]\n",
    "```\n",
    "\n",
    "where the entries of the dictionary's values are the linear, superficial and volumetric densities of the materials respectively.\n",
    "\n",
    "Subsequently, define a list using a comprehension with three lambda functions that compute the circumference, the area and the volume for a given radius.\n"
   ]
  },
  {
   "cell_type": "code",
   "execution_count": 219,
   "metadata": {},
   "outputs": [
    {
     "name": "stdout",
     "output_type": "stream",
     "text": [
      "For radius=1 and density     0.50 weight is     3.14 \n",
      "For radius=1 and density     1.00 weight is     3.14 \n",
      "For radius=1 and density     2.00 weight is     8.38 \n",
      "For radius=2 and density     3.00 weight is    37.70 \n",
      "For radius=2 and density     4.00 weight is    50.27 \n",
      "For radius=2 and density     5.00 weight is   167.55 \n",
      "For radius=3 and density    15.00 weight is   282.74 \n",
      "For radius=3 and density    20.00 weight is   565.49 \n",
      "For radius=3 and density    30.00 weight is  3392.92 \n"
     ]
    }
   ],
   "source": [
    "from math import pi\n",
    "#print(pi)\n",
    "\n",
    "densities = {\"Al\" : [0.5, 1, 2], \"Fe\" : [3, 4, 5], \"Pb\" : [15, 20, 30]}\n",
    "radii = [1, 2, 3]\n",
    "\n",
    "myZipped = zip(radii,densities) # A dictionary and a list are zipped.\n",
    "for r,p in myZipped: # For a list element, there is a dictionary key.\n",
    "    myDensities = densities[p] # Get the dictionary values by inserting key and create a list.\n",
    "    #print(myDensities)\n",
    "    cavList = [(lambda i: 2*pi*r)(r), (lambda i: pi*r*r)(r), (lambda i: (4/3)*pi*r*r*r)(r)] \n",
    "    # cav: circ,area,vol\n",
    "    # Three lambda function in comprehension to create a list including the computations of circ, area and volume.\n",
    "    # In order to be able to get the values correctly, in paranthesis, r values have been written.\n",
    "    # print(cavList)\n",
    "    # print(type(cavList))\n",
    "    # print(type(cavList[0]))\n",
    "    # WeightList = [myDensities[0]*cavList[0],myDensities[1]*cavList[1],myDensities[2]*cavList[2]]\n",
    "    WeightList = zip(myDensities,cavList)\n",
    "    for d,cav in WeightList:\n",
    "        # print(d*cav)\n",
    "        print(\"For radius=%d and density %8.2f weight is %8.2f \" %(r,d,d*cav))\n",
    "    \n"
   ]
  },
  {
   "cell_type": "markdown",
   "metadata": {},
   "source": [
    "6\\. Edit the class defintion to add an instance attribute of `is_hungry = True` to the Dog class. Then add a method called `eat()` which changes the value of `is_hungry` to `False` when called. Figure out the best way to instantiate the dog objects and to feed the dogs, e.g. call the `eat()` method for all instances. Finally, print “My dogs are hungry.” or “My dogs are not hungry.” if all of them have `is_hungry = True` or `False`, respectively. The final output should look like this:\n",
    "\n",
    "`I have 3 dogs. \n",
    "Tom is 6. \n",
    "Fletcher is 7. \n",
    "Larry is 9. \n",
    "And they're all mammals, of course. \n",
    "My dogs are not hungry.\n",
    "`\n",
    "\n",
    "```python\n",
    "# Parent class\n",
    "\n",
    "class Dog:\n",
    "\n",
    "    # Class attribute\n",
    "    species = 'mammal'\n",
    "\n",
    "    # Initializer / Instance attributes\n",
    "    def __init__(self, name, age):\n",
    "        self.name = name\n",
    "        self.age = age\n",
    "\n",
    "    # instance method\n",
    "    def description(self):\n",
    "        return \"{} is {} years old\".format(self.name, self.age)\n",
    "\n",
    "    # instance method\n",
    "    def speak(self, sound):\n",
    "        return \"{} says {}\".format(self.name, sound)\n",
    "\n",
    "# Child class (inherits from Dog class)\n",
    "class RussellTerrier(Dog):\n",
    "    def run(self, speed):\n",
    "        return \"{} runs {}\".format(self.name, speed)\n",
    "\n",
    "# Child class (inherits from Dog class)\n",
    "class Bulldog(Dog):\n",
    "    def run(self, speed):\n",
    "        return \"{} runs {}\".format(self.name, speed)\n"
   ]
  },
  {
   "cell_type": "code",
   "execution_count": 41,
   "metadata": {},
   "outputs": [
    {
     "name": "stdout",
     "output_type": "stream",
     "text": [
      "I have 3 dogs:\n",
      "Tom is 6\n",
      "Fletcher is 7\n",
      "Larry is 9\n",
      "And they are all mammals of course\n",
      "My dogs are hungry.\n",
      "I have 3 dogs:\n",
      "Tom is 6\n",
      "Fletcher is 7\n",
      "Larry is 9\n",
      "And they are all mammals of course\n",
      "My dogs are not hungry.\n"
     ]
    }
   ],
   "source": [
    "# Parent class\n",
    "class Dog:\n",
    "\n",
    "    # Class attribute\n",
    "    _registry = [] # In order to make the class iterable over the object instances.\n",
    "    _counter = 0\n",
    "    name = None\n",
    "    age = None\n",
    "    species = 'mammal'\n",
    "    # Initializer / Instance attributes\n",
    "    def __init__(self, name, age):\n",
    "        self._registry.append(self) # In order to make the class iterable over the object instances.\n",
    "        self.name = name\n",
    "        self.age = age\n",
    "        self.is_hungry = True\n",
    "        Dog._counter += 1\n",
    "    # instance method\n",
    "    def description(self):\n",
    "        return \"{} is {} years old\".format(self.name, self.age)\n",
    "    def eat(self):\n",
    "        self.is_hungry = False\n",
    "        \n",
    "        return self.is_hungry\n",
    "    def years_old(self):\n",
    "        return \"{} is {}\".format(self.name, self.age)\n",
    "    # instance method\n",
    "    def speak(self, sound):\n",
    "        return \"{} says {}\".format(self.name, sound)\n",
    "\n",
    "# Child class (inherits from Dog class)\n",
    "class RussellTerrier(Dog):\n",
    "    \n",
    "    def run(self, speed):\n",
    "        return \"{} runs {}\".format(self.name, speed)\n",
    "\n",
    "# Child class (inherits from Dog class)\n",
    "class Bulldog(Dog):\n",
    "    \n",
    "    def run(self, speed):\n",
    "        return \"{} runs {}\".format(self.name, speed)\n",
    "\n",
    "Inst1 = Dog(\"Tom\",6)\n",
    "Inst2 = Dog(\"Fletcher\",7)\n",
    "Inst3 = Dog(\"Larry\",9)\n",
    "\n",
    "def myPrint():\n",
    "    H=False\n",
    "    print(\"I have %d dogs:\" %Dog._counter)\n",
    "    for p in Dog._registry:\n",
    "\n",
    "        print(\"%s is %d\"%(p.name,p.age))\n",
    "\n",
    "    if Dog.species == \"mammal\":    \n",
    "        print(\"And they are all mammals of course\")\n",
    "\n",
    "    for j in Dog._registry:\n",
    "        if j.is_hungry==True:\n",
    "            H=True\n",
    "    if H==True:\n",
    "        print(\"My dogs are hungry.\")\n",
    "    else:\n",
    "        print(\"My dogs are not hungry.\")\n",
    "    \n",
    "myPrint()\n",
    "\n",
    "for p in Dog._registry:\n",
    "    p.eat()\n",
    "        \n",
    "myPrint()    \n",
    "    \n",
    "    \n",
    "    \n",
    "\n",
    "\n",
    "\n",
    "# Kaç kere inherit edildiğine dair bir şey bulmalıyım\n",
    "# Toplu şekilde instantiate ve method kullanma. \n",
    "\n"
   ]
  },
  {
   "cell_type": "code",
   "execution_count": null,
   "metadata": {},
   "outputs": [],
   "source": []
  }
 ],
 "metadata": {
  "kernelspec": {
   "display_name": "Python 3",
   "language": "python",
   "name": "python3"
  },
  "language_info": {
   "codemirror_mode": {
    "name": "ipython",
    "version": 3
   },
   "file_extension": ".py",
   "mimetype": "text/x-python",
   "name": "python",
   "nbconvert_exporter": "python",
   "pygments_lexer": "ipython3",
   "version": "3.8.8"
  }
 },
 "nbformat": 4,
 "nbformat_minor": 2
}
