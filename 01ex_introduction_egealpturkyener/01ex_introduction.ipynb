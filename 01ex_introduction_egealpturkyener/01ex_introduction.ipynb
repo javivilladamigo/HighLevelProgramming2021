{
 "cells": [
  {
   "cell_type": "markdown",
   "metadata": {},
   "source": [
    "1. The HelloWorld replacement\n",
    "\n",
    "a) Write a program that prints the numbers from 1 to 100. But for multiples of three print \"Hello\" instead of the number and for the multiples of five print \"World\". For numbers which are multiples of both three and five print \"HelloWorld\".\n",
    "\n",
    "b) Put the result in a tuple and substitute \"Hello\" with \"Python\" and \"World\" with \"Works\"."
   ]
  },
  {
   "cell_type": "code",
   "execution_count": 35,
   "metadata": {},
   "outputs": [
    {
     "name": "stdout",
     "output_type": "stream",
     "text": [
      "[1, 2, 'Hello', 4, 'World', 'Hello', 7, 8, 'Hello', 'World', 11, 'Hello', 13, 14, 'HelloWorld', 16, 17, 'Hello', 19, 'World', 'Hello', 22, 23, 'Hello', 'World', 26, 'Hello', 28, 29, 'HelloWorld', 31, 32, 'Hello', 34, 'World', 'Hello', 37, 38, 'Hello', 'World', 41, 'Hello', 43, 44, 'HelloWorld', 46, 47, 'Hello', 49, 'World', 'Hello', 52, 53, 'Hello', 'World', 56, 'Hello', 58, 59, 'HelloWorld', 61, 62, 'Hello', 64, 'World', 'Hello', 67, 68, 'Hello', 'World', 71, 'Hello', 73, 74, 'HelloWorld', 76, 77, 'Hello', 79, 'World', 'Hello', 82, 83, 'Hello', 'World', 86, 'Hello', 88, 89, 'HelloWorld', 91, 92, 'Hello', 94, 'World', 'Hello', 97, 98, 'Hello']\n",
      "(1, 2, 'Python', 4, 'Works', 'Python', 7, 8, 'Python', 'Works', 11, 'Python', 13, 14, 'PythonWorks', 16, 17, 'Python', 19, 'Works', 'Python', 22, 23, 'Python', 'Works', 26, 'Python', 28, 29, 'PythonWorks', 31, 32, 'Python', 34, 'Works', 'Python', 37, 38, 'Python', 'Works', 41, 'Python', 43, 44, 'PythonWorks', 46, 47, 'Python', 49, 'Works', 'Python', 52, 53, 'Python', 'Works', 56, 'Python', 58, 59, 'PythonWorks', 61, 62, 'Python', 64, 'Works', 'Python', 67, 68, 'Python', 'Works', 71, 'Python', 73, 74, 'PythonWorks', 76, 77, 'Python', 79, 'Works', 'Python', 82, 83, 'Python', 'Works', 86, 'Python', 88, 89, 'PythonWorks', 91, 92, 'Python', 94, 'Works', 'Python', 97, 98, 'Python')\n",
      "<class 'tuple'>\n"
     ]
    }
   ],
   "source": [
    "list1=[]\n",
    "for i in range(1,100):\n",
    "    if i%15 == 0: #if divided by 15 \n",
    "        i = \"HelloWorld\"  \n",
    "    elif i%5 == 0:  #if divided by 5\n",
    "        i = \"World\"\n",
    "    elif i%3==0: #if divided by 3\n",
    "            i=\"Hello\"\n",
    "    list1.append(i)     \n",
    "    \n",
    "print(list1)\n",
    "\n",
    "#b) Put the result in a tuple and substitute \"Hello\" with \"Python\" and \"World\" with \"Works\".\n",
    "list_2_tuple= tuple(list1)\n",
    "\n",
    "for x in range(1,99):\n",
    "    if list1[x] == \"Hello\":\n",
    "        list1[x] =\"Python\"\n",
    "    elif list1[x] == \"World\":\n",
    "         list1[x] =\"Works\"\n",
    "    elif list1[x] == \"HelloWorld\":\n",
    "         list1[x] =\"PythonWorks\"        \n",
    "\n",
    "list_2_tuple2= tuple(list1)\n",
    "    \n",
    "    \n",
    "print(list_2_tuple2)\n",
    "print(type(list_2_tuple2))\n"
   ]
  },
  {
   "cell_type": "markdown",
   "metadata": {},
   "source": [
    "2\\. The swap function\n",
    "\n",
    "Write a function that swap the values of two input variables x and y (whatever the type). Try to do that also without a temporary variable"
   ]
  },
  {
   "cell_type": "code",
   "execution_count": 36,
   "metadata": {},
   "outputs": [
    {
     "name": "stdout",
     "output_type": "stream",
     "text": [
      "x is  -10\n",
      "y is  5.5\n"
     ]
    }
   ],
   "source": [
    "def swap_func(x,y): #swap function\n",
    "    temp_var = x #swap variable\n",
    "    x = y\n",
    "    y = temp_var\n",
    "    print(\"x is \", x)\n",
    "    print(\"y is \", y)\n",
    "    \n",
    "swap_func(5.5,-10)"
   ]
  },
  {
   "cell_type": "markdown",
   "metadata": {},
   "source": [
    "3\\. Computing the distance\n",
    "\n",
    "Write a function that calculates and returns the euclidean distance between two points *u* and *v*, where *u* and *v* are both 2-tuples *(x,y)*. For example, if *u=(3,0)* and *v=(0,4)*, the function should return 5"
   ]
  },
  {
   "cell_type": "code",
   "execution_count": 37,
   "metadata": {},
   "outputs": [
    {
     "name": "stdout",
     "output_type": "stream",
     "text": [
      "<class 'tuple'>\n",
      "<class 'tuple'>\n"
     ]
    },
    {
     "data": {
      "text/plain": [
       "5.0"
      ]
     },
     "execution_count": 37,
     "metadata": {},
     "output_type": "execute_result"
    }
   ],
   "source": [
    "import math\n",
    "def comp_distance(u,v):\n",
    "    eql = u[0] ** 2 + v[1] ** 2 #compute the equation\n",
    "    res = math.sqrt(eql) #square root of the equation\n",
    "    return(res) #return to result\n",
    "#define variables\n",
    "u = (3,0)\n",
    "print(type(u))\n",
    "v = (0,4)\n",
    "print(type(v))\n",
    "\n",
    "comp_distance(u,v) #call the function"
   ]
  },
  {
   "cell_type": "markdown",
   "metadata": {},
   "source": [
    "4\\. Counting letters\n",
    "\n",
    "Write a program to calculate the number of times each character occurs in a given string *s*. Ignore differences in capitalization"
   ]
  },
  {
   "cell_type": "code",
   "execution_count": 38,
   "metadata": {},
   "outputs": [
    {
     "name": "stdout",
     "output_type": "stream",
     "text": [
      "{'w': 4, 'r': 19, 'i': 12, 't': 19, 'e': 20, ' ': 41, 'a': 7, 'p': 8, 'o': 15, 'g': 1, 'm': 8, 'h': 11, 'n': 10, 's': 7, 'u': 7, 'b': 5, 'f': 10, '1': 2, '0': 2, '.': 3, 'l': 12, 'd': 5, 'v': 2, 'c': 1}\n"
     ]
    }
   ],
   "source": [
    "s = \"Write a program that prints the numbers from 1 to 100. \\\n",
    "But for multiples of three print Hello instead of the number and for the multiples of five print World. \\\n",
    "For numbers which are multiples of both three and five print HelloWorld.\"\n",
    "\n",
    "s = s.lower()\n",
    "freq_char = {}\n",
    "  \n",
    "for i in s:\n",
    "    if i in freq_char:\n",
    "        freq_char[i] += 1 #increase the character when you see it.\n",
    "    else:\n",
    "        freq_char[i] = 1 #else it is only equals to 1\n",
    "  \n",
    "# printing result \n",
    "print (str(freq_char))"
   ]
  },
  {
   "cell_type": "markdown",
   "metadata": {},
   "source": [
    "5\\. Isolating the unique\n",
    "\n",
    "Write a function that determines and count the unique numbers in the list:"
   ]
  },
  {
   "cell_type": "code",
   "execution_count": 39,
   "metadata": {},
   "outputs": [
    {
     "name": "stdout",
     "output_type": "stream",
     "text": [
      "No of unique items are: 54\n"
     ]
    }
   ],
   "source": [
    "l = [36, 45, 58, 3, 74, 96, 64, 45, 31, 10, 24, 19, 33, 86, 99, 18, 63, 70, 85,\n",
    " 85, 63, 47, 56, 42, 70, 84, 88, 55, 20, 54, 8, 56, 51, 79, 81, 57, 37, 91,\n",
    " 1, 84, 84, 36, 66, 9, 89, 50, 42, 91, 50, 95, 90, 98, 39, 16, 82, 31, 92, 41,\n",
    " 45, 30, 66, 70, 34, 85, 94, 5, 3, 36, 72, 91, 84, 34, 87, 75, 53, 51, 20, 89, 51, 20]\n",
    "\n",
    "def uniq_num(list):\n",
    "    l1 = []\n",
    "    count = 0\n",
    "    for item in list:\n",
    "        if item not in l1:\n",
    "            count += 1\n",
    "            l1.append(item)\n",
    "    # printing the output\n",
    "    print(\"No of unique items are:\", count)\n",
    "  \n",
    "uniq_num(l)\n",
    "\n"
   ]
  },
  {
   "cell_type": "markdown",
   "metadata": {},
   "source": [
    "Do the same without using user-defined functions, but exploiting only the Python data structures."
   ]
  },
  {
   "cell_type": "code",
   "execution_count": 40,
   "metadata": {},
   "outputs": [
    {
     "name": "stdout",
     "output_type": "stream",
     "text": [
      "No of unique items are: 54\n"
     ]
    }
   ],
   "source": [
    "l_2 = [36, 45, 58, 3, 74, 96, 64, 45, 31, 10, 24, 19, 33, 86, 99, 18, 63, 70, 85,\n",
    "     85, 63, 47, 56, 42, 70, 84, 88, 55, 20, 54, 8, 56, 51, 79, 81, 57, 37, 91,\n",
    "     1, 84, 84, 36, 66, 9, 89, 50, 42, 91, 50, 95, 90, 98, 39, 16, 82, 31, 92, 41,\n",
    "     45, 30, 66, 70, 34, 85, 94, 5, 3, 36, 72, 91, 84, 34, 87, 75, 53, 51, 20, 89, 51, 20]  \n",
    "count2 = 0\n",
    "l2 = []\n",
    "for item2 in l_2:\n",
    "    if item2 not in l2:\n",
    "        count2 += 1\n",
    "        l2.append(item2)\n",
    "# printing the output\n",
    "print(\"No of unique items are:\", count2)"
   ]
  },
  {
   "cell_type": "markdown",
   "metadata": {},
   "source": [
    "6\\. Combination of functions\n",
    "\n",
    "Write two functions - one that returns the square of a number, and one that returns the cube. Now write a third function that returns the number raised to the 6th power using the two previous functions."
   ]
  },
  {
   "cell_type": "code",
   "execution_count": 41,
   "metadata": {},
   "outputs": [
    {
     "name": "stdout",
     "output_type": "stream",
     "text": [
      "Square of 3 : 9\n",
      "Cube of 3 : 27\n",
      "Sixth power of 3 : 729\n"
     ]
    }
   ],
   "source": [
    "def sq_num(x): #square function\n",
    "    x = x ** 2\n",
    "    return x\n",
    "\n",
    "def cub_num(y): #cube function\n",
    "    y = y ** 3\n",
    "    return y\n",
    "\n",
    "def sixth_pow(z): #sixth power function\n",
    "    return sq_num(z) * cub_num(z) * z\n",
    "x=3\n",
    "print(\"Square of\",x,\":\",sq_num(x))\n",
    "print(\"Cube of\",x,\":\",cub_num(x))\n",
    "print(\"Sixth power of\",x,\":\",sixth_pow(x))\n",
    "\n"
   ]
  },
  {
   "cell_type": "markdown",
   "metadata": {},
   "source": [
    "7\\. Cubes\n",
    "\n",
    "Create a list of the cubes of x for x in *[0, 10]* using:\n",
    "\n",
    "a) a for loop\n",
    "\n",
    "b) a list comprehension"
   ]
  },
  {
   "cell_type": "code",
   "execution_count": 42,
   "metadata": {},
   "outputs": [
    {
     "name": "stdout",
     "output_type": "stream",
     "text": [
      "For Loop:\n",
      "[0, 1, 8, 27, 64, 125, 216, 343, 512, 729, 1000]\n",
      "List Compherension:\n",
      "[0, 1, 8, 27, 64, 125, 216, 343, 512, 729, 1000]\n"
     ]
    }
   ],
   "source": [
    "list_cube=[ ]\n",
    "#a) a for loop\n",
    "print(\"For Loop:\")\n",
    "for i in range(0,11):\n",
    "    i = i ** 3\n",
    "    list_cube.append(i)\n",
    "print(list_cube)\n",
    "\n",
    "#b) a list comprehension\n",
    "print(\"List Compherension:\")\n",
    "cube_num = [i * i * i for i in range(11)]\n",
    "print(cube_num)\n"
   ]
  },
  {
   "cell_type": "markdown",
   "metadata": {},
   "source": [
    "8\\. Nested list comprehension\n",
    "\n",
    "A Pythagorean triple is an integer solution to the Pythagorean theorem $a^2+b^2=c^2$. The first Pythagorean triple is (3,4,5). Find and put in a tuple all unique Pythagorean triples for the positive integers a, b and c less than 100."
   ]
  },
  {
   "cell_type": "code",
   "execution_count": 43,
   "metadata": {},
   "outputs": [
    {
     "name": "stdout",
     "output_type": "stream",
     "text": [
      "<class 'tuple'>\n",
      "(3, 4, 5, 8, 6, 10, 5, 12, 13, 15, 8, 17, 12, 16, 20, 7, 24, 25, 24, 10, 26, 21, 20, 29, 16, 30, 34, 9, 40, 41, 35, 12, 37, 32, 24, 40, 27, 36, 45, 20, 48, 52, 11, 60, 61, 48, 14, 50, 45, 28, 53, 40, 42, 58, 33, 56, 65, 24, 70, 74, 13, 84, 85, 63, 16, 65, 60, 32, 68, 55, 48, 73, 48, 64, 80, 39, 80, 89, 28, 96, 100)\n"
     ]
    }
   ],
   "source": [
    "def pythagoreanTriplets(limits) :\n",
    "    c, m = 0, 2\n",
    "    list1=[ ]\n",
    "    while c < limits :\n",
    "        for n in range(1, m) :\n",
    "            a = m * m - n * n\n",
    "            b = 2 * m * n\n",
    "            c = m * m + n * n\n",
    " \n",
    "            if c > limits :\n",
    "                break\n",
    "            \n",
    "            list1.append(a)\n",
    "            list1.append(b)\n",
    "            list1.append(c)\n",
    "        m = m + 1\n",
    "        \n",
    "    to_tup = tuple(list1)\n",
    "    print(type(to_tup))\n",
    "    print(to_tup)\n",
    "\n",
    "\n",
    "limit = 100\n",
    "pythagoreanTriplets(limit)\n"
   ]
  },
  {
   "cell_type": "markdown",
   "metadata": {},
   "source": [
    "9\\. Normalization\n",
    "\n",
    "Write a function that takes a tuple of numbers and returns it with the entries normalized to one"
   ]
  },
  {
   "cell_type": "code",
   "execution_count": 44,
   "metadata": {},
   "outputs": [
    {
     "name": "stdout",
     "output_type": "stream",
     "text": [
      "<class 'tuple'>\n"
     ]
    },
    {
     "data": {
      "text/plain": [
       "[0.125, 0.25, 0.125, 0.5]"
      ]
     },
     "execution_count": 44,
     "metadata": {},
     "output_type": "execute_result"
    }
   ],
   "source": [
    "def normalization(raw):\n",
    "    norm = [float(i)/sum(raw) for i in raw]\n",
    "    return norm\n",
    "\n",
    "\n",
    "its_tuple = (5,10,5,20)\n",
    "print(type(its_tuple))\n",
    "normalization(its_tuple)"
   ]
  },
  {
   "cell_type": "code",
   "execution_count": null,
   "metadata": {},
   "outputs": [],
   "source": []
  }
 ],
 "metadata": {
  "kernelspec": {
   "display_name": "Python 3",
   "language": "python",
   "name": "python3"
  },
  "language_info": {
   "codemirror_mode": {
    "name": "ipython",
    "version": 3
   },
   "file_extension": ".py",
   "mimetype": "text/x-python",
   "name": "python",
   "nbconvert_exporter": "python",
   "pygments_lexer": "ipython3",
   "version": "3.8.5"
  }
 },
 "nbformat": 4,
 "nbformat_minor": 2
}
