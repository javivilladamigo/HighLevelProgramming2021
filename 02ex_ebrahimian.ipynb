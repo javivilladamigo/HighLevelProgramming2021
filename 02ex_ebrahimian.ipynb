{
  "nbformat": 4,
  "nbformat_minor": 0,
  "metadata": {
    "kernelspec": {
      "display_name": "Python 3",
      "language": "python",
      "name": "python3"
    },
    "language_info": {
      "codemirror_mode": {
        "name": "ipython",
        "version": 3
      },
      "file_extension": ".py",
      "mimetype": "text/x-python",
      "name": "python",
      "nbconvert_exporter": "python",
      "pygments_lexer": "ipython3",
      "version": "3.8.5"
    },
    "colab": {
      "name": "Copy of 02ex_fundamentals.ipynb",
      "provenance": [],
      "collapsed_sections": [],
      "toc_visible": true
    }
  },
  "cells": [
    {
      "cell_type": "markdown",
      "metadata": {
        "id": "ePgm_2Z1iAGY"
      },
      "source": [
        "1. Write the following expressions using the list comprehension"
      ]
    },
    {
      "cell_type": "code",
      "metadata": {
        "id": "_OFnKV_UiAGb",
        "colab": {
          "base_uri": "https://localhost:8080/"
        },
        "outputId": "35f62644-9002-4def-8582-768b5d695d86"
      },
      "source": [
        "# 1\n",
        "ans = []\n",
        "for i in range(3):\n",
        "    for j in range(4):\n",
        "        ans.append((i, j))\n",
        "print(ans)\n",
        "\n",
        "# 2\n",
        "ans = map(lambda x: x * x, filter(lambda x: x % 2 == 1, range(10)))\n",
        "print(list(ans))"
      ],
      "execution_count": 36,
      "outputs": [
        {
          "output_type": "stream",
          "name": "stdout",
          "text": [
            "[(0, 0), (0, 1), (0, 2), (0, 3), (1, 0), (1, 1), (1, 2), (1, 3), (2, 0), (2, 1), (2, 2), (2, 3)]\n",
            "[1, 9, 25, 49, 81]\n"
          ]
        }
      ]
    },
    {
      "cell_type": "code",
      "metadata": {
        "id": "7d5LHhtbiAGc",
        "colab": {
          "base_uri": "https://localhost:8080/"
        },
        "outputId": "25416c12-dd98-41b4-a733-63f39d319639"
      },
      "source": [
        "#using nested loop\n",
        "ans =  [(i,j) for j in range (4) for i in range (3)]\n",
        "print(ans)"
      ],
      "execution_count": 37,
      "outputs": [
        {
          "output_type": "stream",
          "name": "stdout",
          "text": [
            "[(0, 0), (1, 0), (2, 0), (0, 1), (1, 1), (2, 1), (0, 2), (1, 2), (2, 2), (0, 3), (1, 3), (2, 3)]\n"
          ]
        }
      ]
    },
    {
      "cell_type": "code",
      "metadata": {
        "colab": {
          "base_uri": "https://localhost:8080/"
        },
        "id": "23UkXTRBTlpp",
        "outputId": "6960524b-34af-4e8e-a0fe-8740d75ae5c3"
      },
      "source": [
        "#map\n",
        "ans = list(map(lambda x: x * x, filter(lambda x: x % 2 == 1, range(10))))\n",
        "print(ans)"
      ],
      "execution_count": 38,
      "outputs": [
        {
          "output_type": "stream",
          "name": "stdout",
          "text": [
            "[1, 9, 25, 49, 81]\n"
          ]
        }
      ]
    },
    {
      "cell_type": "markdown",
      "metadata": {
        "id": "KqK7ZuobiAGd"
      },
      "source": [
        "2\\. Convert the function $f$ into a function that doesn't use global variables and that does not modify the original list"
      ]
    },
    {
      "cell_type": "code",
      "metadata": {
        "id": "K4xdl9ZgiAGd",
        "colab": {
          "base_uri": "https://localhost:8080/"
        },
        "outputId": "4df7e321-1cac-4792-b253-31ae978cabcb"
      },
      "source": [
        "x = 5\n",
        "def f(alist):\n",
        "    for i in range(x):\n",
        "         alist.append(i)\n",
        "    return alist\n",
        "\n",
        "alist = [1,2,3]\n",
        "ans = f(alist)\n",
        "print(ans)\n",
        "print(alist) # alist has been changed!"
      ],
      "execution_count": 39,
      "outputs": [
        {
          "output_type": "stream",
          "name": "stdout",
          "text": [
            "[1, 2, 3, 0, 1, 2, 3, 4]\n",
            "[1, 2, 3, 0, 1, 2, 3, 4]\n"
          ]
        }
      ]
    },
    {
      "cell_type": "code",
      "metadata": {
        "colab": {
          "base_uri": "https://localhost:8080/"
        },
        "id": "QHqxvmTmUibl",
        "outputId": "89f2053b-932c-437e-fd79-d7318b8fd231"
      },
      "source": [
        "def f(alist, b):\n",
        "    a = alist.copy()\n",
        "    for i in range(b):\n",
        "         a.append(i)\n",
        "    return a\n",
        "\n",
        "alist = [1,2,3]\n",
        "ans = f(alist, 5)\n",
        "print(ans)\n",
        "print(alist) #changed"
      ],
      "execution_count": 40,
      "outputs": [
        {
          "output_type": "stream",
          "name": "stdout",
          "text": [
            "[1, 2, 3, 0, 1, 2, 3, 4]\n",
            "[1, 2, 3]\n"
          ]
        }
      ]
    },
    {
      "cell_type": "markdown",
      "metadata": {
        "id": "BakA9gpriAGe"
      },
      "source": [
        "3\\. Write a `decorator` hello that makes every wrapped function print “Hello!”, i.e. something like:\n",
        "\n",
        "```python\n",
        "@hello\n",
        "def square(x):\n",
        "    return x*x\n",
        "```\n",
        "\n"
      ]
    },
    {
      "cell_type": "code",
      "metadata": {
        "id": "KBmEdNRYiAGe",
        "colab": {
          "base_uri": "https://localhost:8080/"
        },
        "outputId": "e68a3816-9d1f-47e5-ef73-01a4f3d92d4a"
      },
      "source": [
        "def hello(func):\n",
        "    def wrapper(x):\n",
        "        print(\"Hello\")\n",
        "        func(x)\n",
        "    return wrapper\n",
        "\n",
        "@hello\n",
        "def square(x):\n",
        "  print(x*x)\n",
        "square(4)"
      ],
      "execution_count": 41,
      "outputs": [
        {
          "output_type": "stream",
          "name": "stdout",
          "text": [
            "Hello\n",
            "16\n"
          ]
        }
      ]
    },
    {
      "cell_type": "markdown",
      "metadata": {
        "id": "BgnbHgAEiAGf"
      },
      "source": [
        "4\\. Write the factorial function in two different ways, so that it a) does and b) does not use recursion."
      ]
    },
    {
      "cell_type": "code",
      "metadata": {
        "id": "Fm0f2GXLiAGf",
        "colab": {
          "base_uri": "https://localhost:8080/"
        },
        "outputId": "fda6419e-29f2-48be-dfda-0975516f95f8"
      },
      "source": [
        "#Fisrt_approach\n",
        "def factorial_1(m):\n",
        "    fact = 1\n",
        "    for num in range(2, m + 1):\n",
        "        fact *= num\n",
        "    return fact\n",
        "\n",
        "print(\"No Recursice:\", factorial_1(4))\n",
        "\n",
        "#Second_approach\n",
        "def factorial_2(m):\n",
        "    if m < 2:\n",
        "        return 1\n",
        "    else:\n",
        "        return m * factorial_1(m-1)\n",
        "print(\"Recursice:\", factorial_1(4))"
      ],
      "execution_count": 42,
      "outputs": [
        {
          "output_type": "stream",
          "name": "stdout",
          "text": [
            "No Recursice: 24\n",
            "Recursice: 24\n"
          ]
        }
      ]
    },
    {
      "cell_type": "markdown",
      "metadata": {
        "id": "3DazX6Q9iAGf"
      },
      "source": [
        "5\\. Use HOFs (zip in particular) to compute the weight of a circle, a disk and a sphere, assuming different radii and different densities:\n",
        "\n",
        "```python\n",
        "densities = {\"Al\" : [0.5, 1, 2], \"Fe\" : [3, 4, 5], \"Pb\" : [15, 20, 30]}\n",
        "radii = [1, 2, 3]\n",
        "```\n",
        "\n",
        "where the entries of the dictionary's values are the linear, superficial and volumetric densities of the materials respectively.\n",
        "\n",
        "Subsequently, define a list using a comprehension with three lambda functions that compute the circumference, the area and the volume for a given radius.\n"
      ]
    },
    {
      "cell_type": "code",
      "metadata": {
        "id": "iAQDSQeciAGg",
        "colab": {
          "base_uri": "https://localhost:8080/"
        },
        "outputId": "902409d3-9f35-4783-c394-f329fbbae05c"
      },
      "source": [
        "class Shape:\n",
        "  radii=[1,2,3]\n",
        "  def __init__(self,density):\n",
        "    self.ld = density[0]\n",
        "    self.sd = density[1]\n",
        "    self.vd = density[2]\n",
        "\n",
        "  def wieght_c(self):\n",
        "    w=[]\n",
        "    for r in radii:\n",
        "      w.append(2*3.14*r*self.ld)\n",
        "    return w\n",
        "  def wieght_s(self):\n",
        "    w=[]\n",
        "    for r in radii:\n",
        "      w.append(3.14*(r**2)*self.sd)\n",
        "    return w\n",
        "  def wieght_v(self):\n",
        "    w=[]\n",
        "    for r in radii:\n",
        "      w.append((4/3)*3.14*(r**3)*self.vd)\n",
        "    return w\n",
        "  \n",
        "\n",
        "\n",
        "densities = {\"Al\" : [0.5, 1, 2], \"Fe\" : [3, 4, 5], \"Pb\" : [15, 20, 30]}\n",
        "radii = [1, 2, 3]\n",
        "\n",
        "al = Shape(densities[\"Al\"])\n",
        "fe = Shape(densities[\"Fe\"])\n",
        "pb = Shape(densities[\"Pb\"])\n",
        "\n",
        "al.wieght_s()"
      ],
      "execution_count": 43,
      "outputs": [
        {
          "output_type": "execute_result",
          "data": {
            "text/plain": [
              "[3.14, 12.56, 28.26]"
            ]
          },
          "metadata": {},
          "execution_count": 43
        }
      ]
    },
    {
      "cell_type": "markdown",
      "metadata": {
        "id": "1kiA_G4LiAGg"
      },
      "source": [
        "6\\. Edit the class defintion to add an instance attribute of `is_hungry = True` to the Dog class. Then add a method called `eat()` which changes the value of `is_hungry` to `False` when called. Figure out the best way to instantiate the dog objects and to feed the dogs, e.g. call the `eat()` method for all instances. Finally, print “My dogs are hungry.” or “My dogs are not hungry.” if all of them have `is_hungry = True` or `False`, respectively. The final output should look like this:\n",
        "\n",
        "`I have 3 dogs. \n",
        "Tom is 6. \n",
        "Fletcher is 7. \n",
        "Larry is 9. \n",
        "And they're all mammals, of course. \n",
        "My dogs are not hungry.\n",
        "`\n",
        "\n",
        "```python\n",
        "# Parent class\n",
        "class Dog:\n",
        "\n",
        "    # Class attribute\n",
        "    species = 'mammal'\n",
        "\n",
        "    # Initializer / Instance attributes\n",
        "    def __init__(self, name, age):\n",
        "        self.name = name\n",
        "        self.age = age\n",
        "\n",
        "    # instance method\n",
        "    def description(self):\n",
        "        return \"{} is {} years old\".format(self.name, self.age)\n",
        "\n",
        "    # instance method\n",
        "    def speak(self, sound):\n",
        "        return \"{} says {}\".format(self.name, sound)\n",
        "\n",
        "# Child class (inherits from Dog class)\n",
        "class RussellTerrier(Dog):\n",
        "    def run(self, speed):\n",
        "        return \"{} runs {}\".format(self.name, speed)\n",
        "\n",
        "# Child class (inherits from Dog class)\n",
        "class Bulldog(Dog):\n",
        "    def run(self, speed):\n",
        "        return \"{} runs {}\".format(self.name, speed)\n",
        "```"
      ]
    },
    {
      "cell_type": "code",
      "metadata": {
        "id": "-iRajjFhFsvz"
      },
      "source": [
        "# Parent class\n",
        "class Dog:\n",
        "\n",
        "    # Class attribute\n",
        "    species = 'mammal'\n",
        "    # is_hungry = True\n",
        "\n",
        "    # Initialization / Instance attributes\n",
        "    def __init__(self, name, age):\n",
        "        self.name = name\n",
        "        self.age = age\n",
        "        self.is_hungry = True\n",
        "        \n",
        "    # instance method\n",
        "    def description(self):\n",
        "        return \"{} is {} years old\".format(self.name, self.age)\n",
        "\n",
        "    # instance method\n",
        "    def speak(self, sound):\n",
        "        return \"{} says {}\".format(self.name, sound)\n",
        "    \n",
        "    def eat(self):\n",
        "        return \"self.is_hungry = False\"\n",
        "    \n",
        "    def hungry(self):\n",
        "        if self.is_hungry == True:\n",
        "            return \"My dogs are hungry\"\n",
        "        else:\n",
        "            return \"My dogs are not hungry\"\n",
        "\n",
        "# Child class (inheriting from Dog class)\n",
        "class RussellTerrier(Dog):\n",
        "    def run(self, speed):\n",
        "        return \"{} runs {}\".format(self.name, speed)\n",
        "\n",
        "# Child class (inheriting from Dog class)\n",
        "class Bulldog(Dog):\n",
        "    def run(self, speed):\n",
        "        return \"{} runs {}\".format(self.name, speed)"
      ],
      "execution_count": 44,
      "outputs": []
    },
    {
      "cell_type": "code",
      "metadata": {
        "id": "j95Ehv_2iAGh",
        "colab": {
          "base_uri": "https://localhost:8080/"
        },
        "outputId": "b6abbbc0-76f4-4b19-bf24-d866b99b6696"
      },
      "source": [
        "dog1 = RussellTerrier(\"Tom\", 6)\n",
        "dog2 = RussellTerrier(\"Fletche\", 7)\n",
        "dog3 = Bulldog(\"Larry\", 9)\n",
        "\n",
        "my_dogs = [dog1, dog2, dog3]\n",
        "\n",
        "for dog in my_dogs:\n",
        "    dog.eat()\n",
        "\n",
        "print(f\"I have {len(my_dogs)} dogs. {dog1.description()}. {dog2.description()}. {dog3.description()}. {dog1.hungry()}.\")"
      ],
      "execution_count": 45,
      "outputs": [
        {
          "output_type": "stream",
          "name": "stdout",
          "text": [
            "I have 3 dogs. Tom is 6 years old. Fletche is 7 years old. Larry is 9 years old. My dogs are hungry.\n"
          ]
        }
      ]
    }
  ]
}