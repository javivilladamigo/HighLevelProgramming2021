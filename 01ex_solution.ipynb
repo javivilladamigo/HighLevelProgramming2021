{
 "cells": [
  {
   "cell_type": "markdown",
   "metadata": {},
   "source": [
    "1. The HelloWorld replacement\n",
    "\n",
    "a) Write a program that prints the numbers from 1 to 100. But for multiples of three print \"Hello\" instead of the number and for the multiples of five print \"World\". For numbers which are multiples of both three and five print \"HelloWorld\".\n",
    "\n",
    "b) Put the result in a tuple and substitute \"Hello\" with \"Python\" and \"World\" with \"Works\"."
   ]
  },
  {
   "cell_type": "code",
   "execution_count": 23,
   "metadata": {},
   "outputs": [
    {
     "name": "stdout",
     "output_type": "stream",
     "text": [
      "1\n",
      "2\n",
      "Hello\n",
      "4\n",
      "World\n",
      "Hello\n",
      "7\n",
      "8\n",
      "Hello\n",
      "World\n",
      "11\n",
      "Hello\n",
      "13\n",
      "14\n",
      "HelloWorld\n",
      "16\n",
      "17\n",
      "Hello\n",
      "19\n",
      "World\n",
      "Hello\n",
      "22\n",
      "23\n",
      "Hello\n",
      "World\n",
      "26\n",
      "Hello\n",
      "28\n",
      "29\n",
      "HelloWorld\n",
      "31\n",
      "32\n",
      "Hello\n",
      "34\n",
      "World\n",
      "Hello\n",
      "37\n",
      "38\n",
      "Hello\n",
      "World\n",
      "41\n",
      "Hello\n",
      "43\n",
      "44\n",
      "HelloWorld\n",
      "46\n",
      "47\n",
      "Hello\n",
      "49\n",
      "World\n",
      "Hello\n",
      "52\n",
      "53\n",
      "Hello\n",
      "World\n",
      "56\n",
      "Hello\n",
      "58\n",
      "59\n",
      "HelloWorld\n",
      "61\n",
      "62\n",
      "Hello\n",
      "64\n",
      "World\n",
      "Hello\n",
      "67\n",
      "68\n",
      "Hello\n",
      "World\n",
      "71\n",
      "Hello\n",
      "73\n",
      "74\n",
      "HelloWorld\n",
      "76\n",
      "77\n",
      "Hello\n",
      "79\n",
      "World\n",
      "Hello\n",
      "82\n",
      "83\n",
      "Hello\n",
      "World\n",
      "86\n",
      "Hello\n",
      "88\n",
      "89\n",
      "HelloWorld\n",
      "91\n",
      "92\n",
      "Hello\n",
      "94\n",
      "World\n",
      "Hello\n",
      "97\n",
      "98\n",
      "Hello\n",
      "World\n"
     ]
    }
   ],
   "source": [
    "# a) \n",
    "\n",
    "for i in range(1,101):\n",
    "    if i % 3 == 0 and i % 5 != 0:\n",
    "        print('Hello')\n",
    "    elif i % 3 != 0 and i % 5 == 0:\n",
    "        print('World')\n",
    "    elif i % 3 == 0 and i % 5 == 0:\n",
    "        print('HelloWorld')\n",
    "    else :\n",
    "        print(i)"
   ]
  },
  {
   "cell_type": "code",
   "execution_count": 10,
   "metadata": {},
   "outputs": [
    {
     "name": "stdout",
     "output_type": "stream",
     "text": [
      "(1, 2, 'Hello', 4, 'World', 'Hello', 7, 8, 'Hello', 'World', 11, 'Hello', 13, 14, 'HelloWorld', 16, 17, 'Hello', 19, 'World', 'Hello', 22, 23, 'Hello', 'World', 26, 'Hello', 28, 29, 'HelloWorld', 31, 32, 'Hello', 34, 'World', 'Hello', 37, 38, 'Hello', 'World', 41, 'Hello', 43, 44, 'HelloWorld', 46, 47, 'Hello', 49, 'World', 'Hello', 52, 53, 'Hello', 'World', 56, 'Hello', 58, 59, 'HelloWorld', 61, 62, 'Hello', 64, 'World', 'Hello', 67, 68, 'Hello', 'World', 71, 'Hello', 73, 74, 'HelloWorld', 76, 77, 'Hello', 79, 'World', 'Hello', 82, 83, 'Hello', 'World', 86, 'Hello', 88, 89, 'HelloWorld', 91, 92, 'Hello', 94, 'World', 'Hello', 97, 98, 'Hello', 'World') \n",
      "\n",
      "The Final result for the second part of the Question is Below!\n",
      "\n",
      "(1, 2, 'Python', 4, 'Works', 'Python', 7, 8, 'Python', 'Works', 11, 'Python', 13, 14, 'PythonWorks', 16, 17, 'Python', 19, 'Works', 'Python', 22, 23, 'Python', 'Works', 26, 'Python', 28, 29, 'PythonWorks', 31, 32, 'Python', 34, 'Works', 'Python', 37, 38, 'Python', 'Works', 41, 'Python', 43, 44, 'PythonWorks', 46, 47, 'Python', 49, 'Works', 'Python', 52, 53, 'Python', 'Works', 56, 'Python', 58, 59, 'PythonWorks', 61, 62, 'Python', 64, 'Works', 'Python', 67, 68, 'Python', 'Works', 71, 'Python', 73, 74, 'PythonWorks', 76, 77, 'Python', 79, 'Works', 'Python', 82, 83, 'Python', 'Works', 86, 'Python', 88, 89, 'PythonWorks', 91, 92, 'Python', 94, 'Works', 'Python', 97, 98, 'Python', 'Works')\n"
     ]
    }
   ],
   "source": [
    "# b)\n",
    "# list is defined\n",
    "b_list = list()\n",
    "\n",
    "# Solution of first part for using here again while appending the list\n",
    "\n",
    "for i in range(1,101):\n",
    "    if i % 3 == 0 and i % 5 != 0:\n",
    "        b_list.append('Hello')\n",
    "    elif i % 3 != 0 and i % 5 == 0:\n",
    "        b_list.append('World')\n",
    "    elif i % 3 == 0 and i % 5 == 0:\n",
    "        b_list.append('HelloWorld')\n",
    "    else :\n",
    "        b_list.append(i)\n",
    "        \n",
    "# converting the list to the tuple\n",
    "\n",
    "b_tuple=tuple(i for i in b_list)\n",
    "b_tuple=print(b_tuple, '\\n')\n",
    "\n",
    "# replacing the words in the list \n",
    "# since Tuples are immutable I used list again\n",
    "\n",
    "c_list = b_list\n",
    "for i in range(len(b_list)):\n",
    "    if b_list[i] == 'Hello':\n",
    "        c_list[i] = 'Python'\n",
    "    elif b_list[i] == 'World':\n",
    "        c_list[i] = 'Works'\n",
    "    elif b_list[i] == 'HelloWorld':\n",
    "        c_list[i] = 'PythonWorks'\n",
    "    else:\n",
    "        c_list[i] = b_list[i] \n",
    "\n",
    "# converting C_list to tuple with new Words\n",
    "\n",
    "print('The Final result for the second part of the Question is Below!\\n')\n",
    "\n",
    "c_tuple=tuple(i for i in c_list)\n",
    "c_tuple=print(c_tuple)"
   ]
  },
  {
   "cell_type": "markdown",
   "metadata": {},
   "source": [
    "2\\. The swap function\n",
    "\n",
    "Write a function that swap the values of two input variables x and y (whatever the type). Try to do that also without a temporary variable"
   ]
  },
  {
   "cell_type": "code",
   "execution_count": 25,
   "metadata": {},
   "outputs": [
    {
     "name": "stdin",
     "output_type": "stream",
     "text": [
      "enter x :  Sun\n",
      "enter y :  Moon\n"
     ]
    },
    {
     "name": "stdout",
     "output_type": "stream",
     "text": [
      "x =  Moon\n",
      "y =  Sun\n"
     ]
    }
   ],
   "source": [
    "# with temp\n",
    "\n",
    "x=input('enter x : ')\n",
    "y=input('enter y : ')\n",
    "\n",
    "temp=x\n",
    "x=y\n",
    "y=temp\n",
    "\n",
    "print('x = ', x)\n",
    "print('y = ', y)"
   ]
  },
  {
   "cell_type": "code",
   "execution_count": 24,
   "metadata": {},
   "outputs": [
    {
     "name": "stdin",
     "output_type": "stream",
     "text": [
      "enter x : 1 \n",
      "enter y : Earth\n"
     ]
    },
    {
     "name": "stdout",
     "output_type": "stream",
     "text": [
      "x =  Earth\n",
      "y =  1 \n"
     ]
    }
   ],
   "source": [
    "# without temp\n",
    "\n",
    "x=input('enter x :')\n",
    "y=input('enter y :')\n",
    "\n",
    "x,y=y,x\n",
    "\n",
    "print('x = ', x)\n",
    "print('y = ', y)"
   ]
  },
  {
   "cell_type": "markdown",
   "metadata": {},
   "source": [
    "3\\. Computing the distance\n",
    "\n",
    "Write a function that calculates and returns the euclidean distance between two points *u* and *v*, where *u* and *v* are both 2-tuples *(x,y)*. For example, if *u=(3,0)* and *v=(0,4)*, the function should return 5"
   ]
  },
  {
   "cell_type": "code",
   "execution_count": 22,
   "metadata": {},
   "outputs": [
    {
     "name": "stdin",
     "output_type": "stream",
     "text": [
      "Enter the first coordinate of u : 4\n",
      "Enter the second coordinate of u : 0\n",
      "Enter the first coordinate of v : 0\n",
      "Enter the second coordinate of v : 3\n"
     ]
    },
    {
     "name": "stdout",
     "output_type": "stream",
     "text": [
      "The Euclidean Distance between (4, 0) and (0, 3) is = 5.0\n"
     ]
    }
   ],
   "source": [
    "# getting  the points coordinates from the user\n",
    "\n",
    "u1=int(input('Enter the first coordinate of u :'))\n",
    "u2=int(input('Enter the second coordinate of u :'))\n",
    "\n",
    "u=(u1,u2)\n",
    "\n",
    "v1=int(input('Enter the first coordinate of v :'))\n",
    "v2=int(input('Enter the second coordinate of v :'))\n",
    "\n",
    "v=(v1,v2)\n",
    "\n",
    "# the formula for calculating the euclidean distance between 2 points\n",
    "\n",
    "Euclidean_Distance=((v2-u2)**2+(v1-u1)**2)**(1/2)\n",
    "\n",
    "print('The Euclidean Distance between', u,'and', v, 'is =',Euclidean_Distance)"
   ]
  },
  {
   "cell_type": "markdown",
   "metadata": {},
   "source": [
    "4\\. Counting letters\n",
    "\n",
    "Write a program to calculate the number of times each character occurs in a given string *s*. Ignore differences in capitalization"
   ]
  },
  {
   "cell_type": "code",
   "execution_count": 23,
   "metadata": {},
   "outputs": [
    {
     "name": "stdout",
     "output_type": "stream",
     "text": [
      "{'w': 4, 'r': 19, 'i': 12, 't': 19, 'e': 20, ' ': 41, 'a': 7, 'p': 8, 'o': 15, 'g': 1, 'm': 8, 'h': 11, 'n': 10, 's': 7, 'u': 7, 'b': 5, 'f': 10, '1': 2, '0': 2, '.': 3, 'l': 12, 'd': 5, 'v': 2, 'c': 1}\n"
     ]
    }
   ],
   "source": [
    "s = \"Write a program that prints the numbers from 1 to 100. \\\n",
    "But for multiples of three print Hello instead of the number and for the multiples of five print World. \\\n",
    "For numbers which are multiples of both three and five print HelloWorld.\"\n",
    "\n",
    "new_string=s.lower()\n",
    "\n",
    "# a dictionary is defined to show how many times a letter has appeared in the text\n",
    "my_dictionary = {}\n",
    "\n",
    "for letter in new_string:\n",
    "    if letter in my_dictionary:\n",
    "        # if the letter is in the dictionary and appears again, just adds 1 to the count number\n",
    "        my_dictionary[letter] += 1\n",
    "    else:\n",
    "        # if the letter is not in the dictionary, we add it to dictionary and count it 1\n",
    "        my_dictionary[letter] = 1\n",
    "        \n",
    "    \n",
    "print(my_dictionary)"
   ]
  },
  {
   "cell_type": "markdown",
   "metadata": {},
   "source": [
    "5\\. Isolating the unique\n",
    "\n",
    "Write a function that determines and count the unique numbers in the list:"
   ]
  },
  {
   "cell_type": "code",
   "execution_count": 29,
   "metadata": {},
   "outputs": [
    {
     "name": "stdout",
     "output_type": "stream",
     "text": [
      "There are 54 unique number in the list.\n",
      "[36, 45, 58, 3, 74, 96, 64, 31, 10, 24, 19, 33, 86, 99, 18, 63, 70, 85, 47, 56, 42, 84, 88, 55, 20, 54, 8, 51, 79, 81, 57, 37, 91, 1, 66, 9, 89, 50, 95, 90, 98, 39, 16, 82, 92, 41, 30, 34, 94, 5, 72, 87, 75, 53]\n"
     ]
    }
   ],
   "source": [
    "l = [36, 45, 58, 3, 74, 96, 64, 45, 31, 10, 24, 19, 33, 86, 99, 18, 63, 70, 85,\n",
    " 85, 63, 47, 56, 42, 70, 84, 88, 55, 20, 54, 8, 56, 51, 79, 81, 57, 37, 91,\n",
    " 1, 84, 84, 36, 66, 9, 89, 50, 42, 91, 50, 95, 90, 98, 39, 16, 82, 31, 92, 41,\n",
    " 45, 30, 66, 70, 34, 85, 94, 5, 3, 36, 72, 91, 84, 34, 87, 75, 53, 51, 20, 89, 51, 20]\n",
    "\n",
    "\n",
    "def unique_number(x):\n",
    "    unique_number_list=[]\n",
    "    count=0\n",
    "    for num in x:\n",
    "        if num not in unique_number_list:\n",
    "            unique_number_list.append(num)\n",
    "            count +=1\n",
    "        else:\n",
    "            continue\n",
    "    print('There are',count, 'unique number in the list.')\n",
    "    print(unique_number_list)\n",
    "\n",
    "unique_number(l)"
   ]
  },
  {
   "cell_type": "markdown",
   "metadata": {},
   "source": [
    "Do the same without using user-defined functions, but exploiting only the Python data structures."
   ]
  },
  {
   "cell_type": "code",
   "execution_count": 30,
   "metadata": {},
   "outputs": [
    {
     "name": "stdout",
     "output_type": "stream",
     "text": [
      "There are 54 unique number in the list.\n",
      "[36, 45, 58, 3, 74, 96, 64, 31, 10, 24, 19, 33, 86, 99, 18, 63, 70, 85, 47, 56, 42, 84, 88, 55, 20, 54, 8, 51, 79, 81, 57, 37, 91, 1, 66, 9, 89, 50, 95, 90, 98, 39, 16, 82, 92, 41, 30, 34, 94, 5, 72, 87, 75, 53]\n"
     ]
    }
   ],
   "source": [
    "l = [36, 45, 58, 3, 74, 96, 64, 45, 31, 10, 24, 19, 33, 86, 99, 18, 63, 70, 85,\n",
    " 85, 63, 47, 56, 42, 70, 84, 88, 55, 20, 54, 8, 56, 51, 79, 81, 57, 37, 91,\n",
    " 1, 84, 84, 36, 66, 9, 89, 50, 42, 91, 50, 95, 90, 98, 39, 16, 82, 31, 92, 41,\n",
    " 45, 30, 66, 70, 34, 85, 94, 5, 3, 36, 72, 91, 84, 34, 87, 75, 53, 51, 20, 89, 51, 20]\n",
    "\n",
    "\n",
    "unique_number_list=[]\n",
    "count=0\n",
    "for num in l:\n",
    "    if num not in unique_number_list:\n",
    "        unique_number_list.append(num)\n",
    "        count +=1\n",
    "    else:\n",
    "        continue\n",
    "print('There are',count, 'unique number in the list.')\n",
    "print(unique_number_list)\n"
   ]
  },
  {
   "cell_type": "markdown",
   "metadata": {},
   "source": [
    "6\\. Combination of functions\n",
    "\n",
    "Write two functions - one that returns the square of a number, and one that returns the cube. Now write a third function that returns the number raised to the 6th power using the two previous functions."
   ]
  },
  {
   "cell_type": "code",
   "execution_count": 15,
   "metadata": {},
   "outputs": [
    {
     "name": "stdin",
     "output_type": "stream",
     "text": [
      "Enter the number: 3\n"
     ]
    },
    {
     "name": "stdout",
     "output_type": "stream",
     "text": [
      "Square of 3 is: 9\n",
      "Cube of 3 is: 27\n",
      "Sixth power of 3 is: 729\n"
     ]
    }
   ],
   "source": [
    "Entry=int(input('Enter the number:'))\n",
    "\n",
    "def square(Entry):\n",
    "    square=Entry**2\n",
    "    return square\n",
    "\n",
    "def cube(Entry):\n",
    "    cube=Entry**3\n",
    "    return cube\n",
    "\n",
    "def sixth(Entry):\n",
    "    sixth=cube(square(Entry))\n",
    "    return sixth\n",
    "\n",
    "print('Square of', Entry,'is:', square(Entry))\n",
    "print('Cube of', Entry,'is:', cube(Entry))\n",
    "print('Sixth power of', Entry,'is:', sixth(Entry))"
   ]
  },
  {
   "cell_type": "markdown",
   "metadata": {},
   "source": [
    "7\\. Cubes\n",
    "\n",
    "Create a list of the cubes of x for x in *[0, 10]* using:\n",
    "\n",
    "a) a for loop\n",
    "\n",
    "b) a list comprehension"
   ]
  },
  {
   "cell_type": "code",
   "execution_count": 19,
   "metadata": {},
   "outputs": [
    {
     "name": "stdout",
     "output_type": "stream",
     "text": [
      "part a = [0, 1, 8, 27, 64, 125, 216, 343, 512, 729, 1000]\n",
      "part b = [0, 1, 8, 27, 64, 125, 216, 343, 512, 729, 1000]\n"
     ]
    }
   ],
   "source": [
    "#a\n",
    "\n",
    "a_list=[]\n",
    "\n",
    "# 10 is included in [0,10] so we use range(11) \n",
    "\n",
    "for i in range(11):\n",
    "    a_list.append(pow(i,3))\n",
    "    \n",
    "print('part a =',a_list)\n",
    "\n",
    "#b\n",
    "\n",
    "a_list=[pow(i,3) for i in range(11)]\n",
    "\n",
    "print('part b =', a_list)"
   ]
  },
  {
   "cell_type": "markdown",
   "metadata": {},
   "source": [
    "8\\. Nested list comprehension\n",
    "\n",
    "A Pythagorean triple is an integer solution to the Pythagorean theorem $a^2+b^2=c^2$. The first Pythagorean triple is (3,4,5). Find and put in a tuple all unique Pythagorean triples for the positive integers a, b and c less than 100."
   ]
  },
  {
   "cell_type": "code",
   "execution_count": 27,
   "metadata": {},
   "outputs": [
    {
     "name": "stdin",
     "output_type": "stream",
     "text": [
      "Enter upper limit: 100\n"
     ]
    },
    {
     "name": "stdout",
     "output_type": "stream",
     "text": [
      "((3, 4, 5), (6, 8, 10), (5, 12, 13), (9, 12, 15), (8, 15, 17), (12, 16, 20), (15, 20, 25), (7, 24, 25), (10, 24, 26), (20, 21, 29), (18, 24, 30), (16, 30, 34), (21, 28, 35), (12, 35, 37), (15, 36, 39), (24, 32, 40), (9, 40, 41), (27, 36, 45), (30, 40, 50), (14, 48, 50), (24, 45, 51), (20, 48, 52), (28, 45, 53), (33, 44, 55), (40, 42, 58), (36, 48, 60), (11, 60, 61), (39, 52, 65), (33, 56, 65), (25, 60, 65), (16, 63, 65), (32, 60, 68), (42, 56, 70), (48, 55, 73), (24, 70, 74), (45, 60, 75), (21, 72, 75), (30, 72, 78), (48, 64, 80), (18, 80, 82), (51, 68, 85), (40, 75, 85), (36, 77, 85), (13, 84, 85), (60, 63, 87), (39, 80, 89), (54, 72, 90), (35, 84, 91), (57, 76, 95), (65, 72, 97))\n"
     ]
    }
   ],
   "source": [
    "limit=int(input(\"Enter upper limit:\"))\n",
    "\n",
    "def Pythagorean_Triple(limit):\n",
    "    PT_list = []\n",
    "    for c in range(limit): \n",
    "        for b in range(1, c):\n",
    "            for a in range(1,b):\n",
    "                if c*c==b*b+a*a:\n",
    "                    PT_list.append((a,b,c))\n",
    "                else:\n",
    "                    continue\n",
    "    return tuple(PT_list)\n",
    "\n",
    "print(Pythagorean_Triple(limit))\n"
   ]
  },
  {
   "cell_type": "markdown",
   "metadata": {},
   "source": [
    "9\\. Normalization\n",
    "\n",
    "Write a function that takes a tuple of numbers and returns it with the entries normalized to one"
   ]
  },
  {
   "cell_type": "code",
   "execution_count": 36,
   "metadata": {},
   "outputs": [
    {
     "name": "stdout",
     "output_type": "stream",
     "text": [
      "(0.0, 0.5, 1.0, 0.25, 0.75)\n"
     ]
    }
   ],
   "source": [
    "# used * to unpack the single argument into multiple arguments\n",
    "\n",
    "def normalization(*entry_tuple):\n",
    "    # tuple to list\n",
    "    entry_List = list(entry_tuple)\n",
    "    # applying nomalization formula to every elements of the list \n",
    "    # then rounding the result with 3 digits after the dot\n",
    "    norm = [round((i-min(entry_List))/(max(entry_List)-min(entry_List)),3) for i in entry_List ]\n",
    "    return tuple(norm)\n",
    "\n",
    "print(normalization(10,30,50,20,40))"
   ]
  },
  {
   "cell_type": "code",
   "execution_count": null,
   "metadata": {},
   "outputs": [],
   "source": []
  }
 ],
 "metadata": {
  "kernelspec": {
   "display_name": "Python 3",
   "language": "python",
   "name": "python3"
  },
  "language_info": {
   "codemirror_mode": {
    "name": "ipython",
    "version": 3
   },
   "file_extension": ".py",
   "mimetype": "text/x-python",
   "name": "python",
   "nbconvert_exporter": "python",
   "pygments_lexer": "ipython3",
   "version": "3.8.8"
  }
 },
 "nbformat": 4,
 "nbformat_minor": 4
}
