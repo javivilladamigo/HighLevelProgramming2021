{
 "cells": [
  {
   "cell_type": "markdown",
   "metadata": {},
   "source": [
    "1. The HelloWorld replacement\n",
    "\n",
    "a) Write a program that prints the numbers from 1 to 100. But for multiples of three print \"Hello\" instead of the number and for the multiples of five print \"World\". For numbers which are multiples of both three and five print \"HelloWorld\".\n",
    "\n",
    "b) Put the result in a tuple and substitute \"Hello\" with \"Python\" and \"World\" with \"Works\"."
   ]
  },
  {
   "cell_type": "code",
   "execution_count": 111,
   "metadata": {},
   "outputs": [
    {
     "name": "stdout",
     "output_type": "stream",
     "text": [
      "1\n",
      "2\n",
      "Hello\n",
      "4\n",
      "World\n",
      "Hello\n",
      "7\n",
      "8\n",
      "Hello\n",
      "World\n",
      "11\n",
      "Hello\n",
      "13\n",
      "14\n",
      "HelloWorld\n",
      "16\n",
      "17\n",
      "Hello\n",
      "19\n",
      "World\n",
      "Hello\n",
      "22\n",
      "23\n",
      "Hello\n",
      "World\n",
      "26\n",
      "Hello\n",
      "28\n",
      "29\n",
      "HelloWorld\n",
      "31\n",
      "32\n",
      "Hello\n",
      "34\n",
      "World\n",
      "Hello\n",
      "37\n",
      "38\n",
      "Hello\n",
      "World\n",
      "41\n",
      "Hello\n",
      "43\n",
      "44\n",
      "HelloWorld\n",
      "46\n",
      "47\n",
      "Hello\n",
      "49\n",
      "World\n",
      "Hello\n",
      "52\n",
      "53\n",
      "Hello\n",
      "World\n",
      "56\n",
      "Hello\n",
      "58\n",
      "59\n",
      "HelloWorld\n",
      "61\n",
      "62\n",
      "Hello\n",
      "64\n",
      "World\n",
      "Hello\n",
      "67\n",
      "68\n",
      "Hello\n",
      "World\n",
      "71\n",
      "Hello\n",
      "73\n",
      "74\n",
      "HelloWorld\n",
      "76\n",
      "77\n",
      "Hello\n",
      "79\n",
      "World\n",
      "Hello\n",
      "82\n",
      "83\n",
      "Hello\n",
      "World\n",
      "86\n",
      "Hello\n",
      "88\n",
      "89\n",
      "HelloWorld\n",
      "91\n",
      "92\n",
      "Hello\n",
      "94\n",
      "World\n",
      "Hello\n",
      "97\n",
      "98\n",
      "Hello\n",
      "World\n",
      "(1, 2, 'Python', 4, 'Works', 'Python', 7, 8, 'Python', 'Works', 11, 'Python', 13, 14, 'PythonWorks', 16, 17, 'Python', 19, 'Works', 'Python', 22, 23, 'Python', 'Works', 26, 'Python', 28, 29, 'PythonWorks', 31, 32, 'Python', 34, 'Works', 'Python', 37, 38, 'Python', 'Works', 41, 'Python', 43, 44, 'PythonWorks', 46, 47, 'Python', 49, 'Works', 'Python', 52, 53, 'Python', 'Works', 56, 'Python', 58, 59, 'PythonWorks', 61, 62, 'Python', 64, 'Works', 'Python', 67, 68, 'Python', 'Works', 71, 'Python', 73, 74, 'PythonWorks', 76, 77, 'Python', 79, 'Works', 'Python', 82, 83, 'Python', 'Works', 86, 'Python', 88, 89, 'PythonWorks', 91, 92, 'Python', 94, 'Works', 'Python', 97, 98, 'Python', 'Works')\n"
     ]
    }
   ],
   "source": [
    "temp = []\n",
    "\n",
    "for i in range(1, 101):\n",
    "  if i%5==0 and i%3==0:\n",
    "    to_print = \"HelloWorld\"\n",
    "  elif i%3==0:\n",
    "    to_print = \"Hello\"\n",
    "  elif i%5==0:\n",
    "    to_print = \"World\"\n",
    "  else:\n",
    "    to_print = to_save = i\n",
    "  \n",
    "  print(to_print)\n",
    "  temp.append(to_print)\n",
    "\n",
    "result = tuple([\"PythonWorks\" if word == \"HelloWorld\" else \"Python\" if word == \"Hello\" else \"Works\" if word == \"World\" else word for word in temp])\n",
    "print(result)\n",
    "\n",
    "\n",
    "\n"
   ]
  },
  {
   "cell_type": "markdown",
   "metadata": {},
   "source": [
    "2\\. The swap function\n",
    "\n",
    "Write a function that swap the values of two input variables x and y (whatever the type). Try to do that also without a temporary variable"
   ]
  },
  {
   "cell_type": "code",
   "execution_count": 78,
   "metadata": {},
   "outputs": [
    {
     "name": "stdout",
     "output_type": "stream",
     "text": [
      "Before swapping: x=5, y=1\n",
      "After swapping: x=1, y=5\n"
     ]
    }
   ],
   "source": [
    "def swap(x, y):\n",
    "  return y, x\n",
    "x, y = 5, 1\n",
    "print(\"Before swapping: \" + \"x=%d, \" % x + \"y=%d\" % y)\n",
    "x, y = swap(x,y)\n",
    "print(\"After swapping: \" + \"x=%d, \" % x + \"y=%d\" % y)"
   ]
  },
  {
   "cell_type": "markdown",
   "metadata": {},
   "source": [
    "3\\. Computing the distance\n",
    "\n",
    "Write a function that calculates and returns the euclidean distance between two points *u* and *v*, where *u* and *v* are both 2-tuples *(x,y)*. For example, if *u=(3,0)* and *v=(0,4)*, the function should return 5"
   ]
  },
  {
   "cell_type": "code",
   "execution_count": 79,
   "metadata": {},
   "outputs": [
    {
     "name": "stdout",
     "output_type": "stream",
     "text": [
      "Euclidean distance between (3, 0) and (0, 4) is 5.00\n"
     ]
    }
   ],
   "source": [
    "def euc_dist(u, v):\n",
    "  x_dist = u[0]-v[0]\n",
    "  y_dist = u[1]-v[1]\n",
    "  dist = pow (pow(x_dist, 2) + pow(y_dist, 2), 0.5)\n",
    "  return dist\n",
    "\n",
    "u = (3, 0)\n",
    "v = (0, 4)\n",
    "dist = euc_dist(u, v)\n",
    "print(\"Euclidean distance between %s \" %(u,) + \"and %s \" %(v,) + \"is %.2f\" %dist)\n"
   ]
  },
  {
   "cell_type": "markdown",
   "metadata": {},
   "source": [
    "4\\. Counting letters\n",
    "\n",
    "Write a program to calculate the number of times each character occurs in a given string *s*. Ignore differences in capitalization"
   ]
  },
  {
   "cell_type": "code",
   "execution_count": 80,
   "metadata": {},
   "outputs": [
    {
     "name": "stdout",
     "output_type": "stream",
     "text": [
      "w occurs 4 times\n",
      "r occurs 19 times\n",
      "i occurs 12 times\n",
      "t occurs 19 times\n",
      "e occurs 20 times\n",
      "  occurs 41 times\n",
      "a occurs 7 times\n",
      "  occurs 41 times\n",
      "p occurs 8 times\n",
      "r occurs 19 times\n",
      "o occurs 15 times\n",
      "g occurs 1 times\n",
      "r occurs 19 times\n",
      "a occurs 7 times\n",
      "m occurs 8 times\n",
      "  occurs 41 times\n",
      "t occurs 19 times\n",
      "h occurs 11 times\n",
      "a occurs 7 times\n",
      "t occurs 19 times\n",
      "  occurs 41 times\n",
      "p occurs 8 times\n",
      "r occurs 19 times\n",
      "i occurs 12 times\n",
      "n occurs 10 times\n",
      "t occurs 19 times\n",
      "s occurs 7 times\n",
      "  occurs 41 times\n",
      "t occurs 19 times\n",
      "h occurs 11 times\n",
      "e occurs 20 times\n",
      "  occurs 41 times\n",
      "n occurs 10 times\n",
      "u occurs 7 times\n",
      "m occurs 8 times\n",
      "b occurs 5 times\n",
      "e occurs 20 times\n",
      "r occurs 19 times\n",
      "s occurs 7 times\n",
      "  occurs 41 times\n",
      "f occurs 10 times\n",
      "r occurs 19 times\n",
      "o occurs 15 times\n",
      "m occurs 8 times\n",
      "  occurs 41 times\n",
      "1 occurs 2 times\n",
      "  occurs 41 times\n",
      "t occurs 19 times\n",
      "o occurs 15 times\n",
      "  occurs 41 times\n",
      "1 occurs 2 times\n",
      "0 occurs 2 times\n",
      "0 occurs 2 times\n",
      ". occurs 3 times\n",
      "  occurs 41 times\n",
      "b occurs 5 times\n",
      "u occurs 7 times\n",
      "t occurs 19 times\n",
      "  occurs 41 times\n",
      "f occurs 10 times\n",
      "o occurs 15 times\n",
      "r occurs 19 times\n",
      "  occurs 41 times\n",
      "m occurs 8 times\n",
      "u occurs 7 times\n",
      "l occurs 12 times\n",
      "t occurs 19 times\n",
      "i occurs 12 times\n",
      "p occurs 8 times\n",
      "l occurs 12 times\n",
      "e occurs 20 times\n",
      "s occurs 7 times\n",
      "  occurs 41 times\n",
      "o occurs 15 times\n",
      "f occurs 10 times\n",
      "  occurs 41 times\n",
      "t occurs 19 times\n",
      "h occurs 11 times\n",
      "r occurs 19 times\n",
      "e occurs 20 times\n",
      "e occurs 20 times\n",
      "  occurs 41 times\n",
      "p occurs 8 times\n",
      "r occurs 19 times\n",
      "i occurs 12 times\n",
      "n occurs 10 times\n",
      "t occurs 19 times\n",
      "  occurs 41 times\n",
      "h occurs 11 times\n",
      "e occurs 20 times\n",
      "l occurs 12 times\n",
      "l occurs 12 times\n",
      "o occurs 15 times\n",
      "  occurs 41 times\n",
      "i occurs 12 times\n",
      "n occurs 10 times\n",
      "s occurs 7 times\n",
      "t occurs 19 times\n",
      "e occurs 20 times\n",
      "a occurs 7 times\n",
      "d occurs 5 times\n",
      "  occurs 41 times\n",
      "o occurs 15 times\n",
      "f occurs 10 times\n",
      "  occurs 41 times\n",
      "t occurs 19 times\n",
      "h occurs 11 times\n",
      "e occurs 20 times\n",
      "  occurs 41 times\n",
      "n occurs 10 times\n",
      "u occurs 7 times\n",
      "m occurs 8 times\n",
      "b occurs 5 times\n",
      "e occurs 20 times\n",
      "r occurs 19 times\n",
      "  occurs 41 times\n",
      "a occurs 7 times\n",
      "n occurs 10 times\n",
      "d occurs 5 times\n",
      "  occurs 41 times\n",
      "f occurs 10 times\n",
      "o occurs 15 times\n",
      "r occurs 19 times\n",
      "  occurs 41 times\n",
      "t occurs 19 times\n",
      "h occurs 11 times\n",
      "e occurs 20 times\n",
      "  occurs 41 times\n",
      "m occurs 8 times\n",
      "u occurs 7 times\n",
      "l occurs 12 times\n",
      "t occurs 19 times\n",
      "i occurs 12 times\n",
      "p occurs 8 times\n",
      "l occurs 12 times\n",
      "e occurs 20 times\n",
      "s occurs 7 times\n",
      "  occurs 41 times\n",
      "o occurs 15 times\n",
      "f occurs 10 times\n",
      "  occurs 41 times\n",
      "f occurs 10 times\n",
      "i occurs 12 times\n",
      "v occurs 2 times\n",
      "e occurs 20 times\n",
      "  occurs 41 times\n",
      "p occurs 8 times\n",
      "r occurs 19 times\n",
      "i occurs 12 times\n",
      "n occurs 10 times\n",
      "t occurs 19 times\n",
      "  occurs 41 times\n",
      "w occurs 4 times\n",
      "o occurs 15 times\n",
      "r occurs 19 times\n",
      "l occurs 12 times\n",
      "d occurs 5 times\n",
      ". occurs 3 times\n",
      "  occurs 41 times\n",
      "f occurs 10 times\n",
      "o occurs 15 times\n",
      "r occurs 19 times\n",
      "  occurs 41 times\n",
      "n occurs 10 times\n",
      "u occurs 7 times\n",
      "m occurs 8 times\n",
      "b occurs 5 times\n",
      "e occurs 20 times\n",
      "r occurs 19 times\n",
      "s occurs 7 times\n",
      "  occurs 41 times\n",
      "w occurs 4 times\n",
      "h occurs 11 times\n",
      "i occurs 12 times\n",
      "c occurs 1 times\n",
      "h occurs 11 times\n",
      "  occurs 41 times\n",
      "a occurs 7 times\n",
      "r occurs 19 times\n",
      "e occurs 20 times\n",
      "  occurs 41 times\n",
      "m occurs 8 times\n",
      "u occurs 7 times\n",
      "l occurs 12 times\n",
      "t occurs 19 times\n",
      "i occurs 12 times\n",
      "p occurs 8 times\n",
      "l occurs 12 times\n",
      "e occurs 20 times\n",
      "s occurs 7 times\n",
      "  occurs 41 times\n",
      "o occurs 15 times\n",
      "f occurs 10 times\n",
      "  occurs 41 times\n",
      "b occurs 5 times\n",
      "o occurs 15 times\n",
      "t occurs 19 times\n",
      "h occurs 11 times\n",
      "  occurs 41 times\n",
      "t occurs 19 times\n",
      "h occurs 11 times\n",
      "r occurs 19 times\n",
      "e occurs 20 times\n",
      "e occurs 20 times\n",
      "  occurs 41 times\n",
      "a occurs 7 times\n",
      "n occurs 10 times\n",
      "d occurs 5 times\n",
      "  occurs 41 times\n",
      "f occurs 10 times\n",
      "i occurs 12 times\n",
      "v occurs 2 times\n",
      "e occurs 20 times\n",
      "  occurs 41 times\n",
      "p occurs 8 times\n",
      "r occurs 19 times\n",
      "i occurs 12 times\n",
      "n occurs 10 times\n",
      "t occurs 19 times\n",
      "  occurs 41 times\n",
      "h occurs 11 times\n",
      "e occurs 20 times\n",
      "l occurs 12 times\n",
      "l occurs 12 times\n",
      "o occurs 15 times\n",
      "w occurs 4 times\n",
      "o occurs 15 times\n",
      "r occurs 19 times\n",
      "l occurs 12 times\n",
      "d occurs 5 times\n",
      ". occurs 3 times\n"
     ]
    }
   ],
   "source": [
    "s = \"Write a program that prints the numbers from 1 to 100. \\\n",
    "But for multiples of three print Hello instead of the number and for the multiples of five print World. \\\n",
    "For numbers which are multiples of both three and five print HelloWorld.\"\n",
    "\n",
    "s = s.lower()\n",
    "characters = [c for c in s]\n",
    "for i in range(len(characters)):\n",
    "  print(\"%c occurs \" %characters[i] + \"%i times\" %s.count(characters[i]))"
   ]
  },
  {
   "cell_type": "markdown",
   "metadata": {},
   "source": [
    "5\\. Isolating the unique\n",
    "\n",
    "Write a function that determines and count the unique numbers in the list:"
   ]
  },
  {
   "cell_type": "code",
   "execution_count": 82,
   "metadata": {},
   "outputs": [
    {
     "name": "stdout",
     "output_type": "stream",
     "text": [
      "There are 54 unique elements in the list, that is: [1, 3, 5, 8, 9, 10, 16, 18, 19, 20, 24, 30, 31, 33, 34, 36, 37, 39, 41, 42, 45, 47, 50, 51, 53, 54, 55, 56, 57, 58, 63, 64, 66, 70, 72, 74, 75, 79, 81, 82, 84, 85, 86, 87, 88, 89, 90, 91, 92, 94, 95, 96, 98, 99]\n"
     ]
    }
   ],
   "source": [
    "l = [36, 45, 58, 3, 74, 96, 64, 45, 31, 10, 24, 19, 33, 86, 99, 18, 63, 70, 85,\n",
    " 85, 63, 47, 56, 42, 70, 84, 88, 55, 20, 54, 8, 56, 51, 79, 81, 57, 37, 91,\n",
    " 1, 84, 84, 36, 66, 9, 89, 50, 42, 91, 50, 95, 90, 98, 39, 16, 82, 31, 92, 41,\n",
    " 45, 30, 66, 70, 34, 85, 94, 5, 3, 36, 72, 91, 84, 34, 87, 75, 53, 51, 20, 89, 51, 20]\n",
    "\n",
    "def unique_values(input_list):\n",
    "  unique_count = 0\n",
    "  unique_vals = []\n",
    "  for elem in input_list:\n",
    "    if elem not in unique_vals:\n",
    "      unique_vals.append(elem)\n",
    "      unique_count += 1\n",
    "  unique_vals.sort()\n",
    "  return unique_count, unique_vals\n",
    "\n",
    "unique_num, unique_elems = unique_values(l)\n",
    "print(\"There are %i\" %unique_num + \" unique elements in the list, that is: %s\" %unique_elems)\n",
    "\n",
    "  "
   ]
  },
  {
   "cell_type": "markdown",
   "metadata": {},
   "source": [
    "Do the same without using user-defined functions, but exploiting only the Python data structures."
   ]
  },
  {
   "cell_type": "code",
   "execution_count": 83,
   "metadata": {},
   "outputs": [
    {
     "name": "stdout",
     "output_type": "stream",
     "text": [
      "There are 54 unique elements in the list, that is: {1, 3, 5, 8, 9, 10, 16, 18, 19, 20, 24, 30, 31, 33, 34, 36, 37, 39, 41, 42, 45, 47, 50, 51, 53, 54, 55, 56, 57, 58, 63, 64, 66, 70, 72, 74, 75, 79, 81, 82, 84, 85, 86, 87, 88, 89, 90, 91, 92, 94, 95, 96, 98, 99}\n"
     ]
    }
   ],
   "source": [
    "unique_elems = set(l)\n",
    "unique_num = len(unique_elems)\n",
    "print(\"There are %i\" %unique_num + \" unique elements in the list, that is: %s\" %unique_elems)\n"
   ]
  },
  {
   "cell_type": "markdown",
   "metadata": {},
   "source": [
    "6\\. Combination of functions\n",
    "\n",
    "Write two functions - one that returns the square of a number, and one that returns the cube. Now write a third function that returns the number raised to the 6th power using the two previous functions."
   ]
  },
  {
   "cell_type": "code",
   "execution_count": 85,
   "metadata": {},
   "outputs": [],
   "source": [
    "def square(n):\n",
    "  return n**2\n",
    "\n",
    "def cube(n):\n",
    "  return n**3\n",
    "\n",
    "def sixth_pow(n):\n",
    "  return square(cube(n))"
   ]
  },
  {
   "cell_type": "markdown",
   "metadata": {},
   "source": [
    "7\\. Cubes\n",
    "\n",
    "Create a list of the cubes of x for x in *[0, 10]* using:\n",
    "\n",
    "a) a for loop\n",
    "\n",
    "b) a list comprehension"
   ]
  },
  {
   "cell_type": "code",
   "execution_count": 86,
   "metadata": {},
   "outputs": [
    {
     "name": "stdout",
     "output_type": "stream",
     "text": [
      "[0, 1, 8, 27, 64, 125, 216, 343, 512, 729, 1000] [0, 1, 8, 27, 64, 125, 216, 343, 512, 729, 1000]\n"
     ]
    }
   ],
   "source": [
    "values = range(11)\n",
    "cubes_a = []\n",
    "for x in values:\n",
    "  cubes_a.append(x**3)\n",
    "\n",
    "cubes_b = [x**3 for x in values]\n",
    "\n",
    "print(cubes_a, cubes_b)"
   ]
  },
  {
   "cell_type": "markdown",
   "metadata": {},
   "source": [
    "8\\. Nested list comprehension\n",
    "\n",
    "A Pythagorean triple is an integer solution to the Pythagorean theorem $a^2+b^2=c^2$. The first Pythagorean triple is (3,4,5). Find and put in a tuple all unique Pythagorean triples for the positive integers a, b and c less than 100."
   ]
  },
  {
   "cell_type": "code",
   "execution_count": 87,
   "metadata": {},
   "outputs": [
    {
     "name": "stdout",
     "output_type": "stream",
     "text": [
      "((3, 4, 5), (5, 12, 13), (6, 8, 10), (7, 24, 25), (8, 15, 17), (9, 12, 15), (9, 40, 41), (10, 24, 26), (11, 60, 61), (12, 16, 20), (12, 35, 37), (13, 84, 85), (14, 48, 50), (15, 20, 25), (15, 36, 39), (16, 30, 34), (16, 63, 65), (18, 24, 30), (18, 80, 82), (20, 21, 29), (20, 48, 52), (21, 28, 35), (21, 72, 75), (24, 32, 40), (24, 45, 51), (24, 70, 74), (25, 60, 65), (27, 36, 45), (28, 45, 53), (30, 40, 50), (30, 72, 78), (32, 60, 68), (33, 44, 55), (33, 56, 65), (35, 84, 91), (36, 48, 60), (36, 77, 85), (39, 52, 65), (39, 80, 89), (40, 42, 58), (40, 75, 85), (42, 56, 70), (45, 60, 75), (48, 55, 73), (48, 64, 80), (51, 68, 85), (54, 72, 90), (57, 76, 95), (60, 63, 87), (65, 72, 97))\n"
     ]
    }
   ],
   "source": [
    "pythagorean_triples = tuple([(a, b, c) for a in range(1, 100) for b in range(a, 100) for c in range (b, 100) if pow(pow(a, 2) + pow(b, 2), 0.5) == c])\n",
    "print(pythagorean_triples)"
   ]
  },
  {
   "cell_type": "markdown",
   "metadata": {},
   "source": [
    "9\\. Normalization\n",
    "\n",
    "Write a function that takes a tuple of numbers and returns it with the entries normalized to one"
   ]
  },
  {
   "cell_type": "code",
   "execution_count": 107,
   "metadata": {},
   "outputs": [
    {
     "name": "stdout",
     "output_type": "stream",
     "text": [
      "(0.0890870806374748, 0.44543540318737396, 0.8908708063747479)\n"
     ]
    }
   ],
   "source": [
    "def norm_tuple(tup):\n",
    "  x_sum_sq = pow(sum([x**2 for x in tup]), 0.5)\n",
    "  norm_tup = tuple([x/x_sum_sq for x in tup])\n",
    "  return norm_tup\n",
    "\n",
    "tup = (1, 5, 10)\n",
    "norm_tup = norm_tuple(tup)\n",
    "print(norm_tup)"
   ]
  }
 ],
 "metadata": {
  "kernelspec": {
   "display_name": "Python 3",
   "language": "python",
   "name": "python3"
  },
  "language_info": {
   "codemirror_mode": {
    "name": "ipython",
    "version": 3
   },
   "file_extension": ".py",
   "mimetype": "text/x-python",
   "name": "python",
   "nbconvert_exporter": "python",
   "pygments_lexer": "ipython3",
   "version": "3.9.5"
  }
 },
 "nbformat": 4,
 "nbformat_minor": 2
}
