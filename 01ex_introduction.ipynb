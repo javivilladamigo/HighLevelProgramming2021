{
 "cells": [
  {
   "cell_type": "markdown",
   "metadata": {},
   "source": [
    "1. The HelloWorld replacement\n",
    "\n",
    "a) Write a program that prints the numbers from 1 to 100. But for multiples of three print \"Hello\" instead of the number and for the multiples of five print \"World\". For numbers which are multiples of both three and five print \"HelloWorld\".\n",
    "\n",
    "b) Put the result in a tuple and substitute \"Hello\" with \"Python\" and \"World\" with \"Works\"."
   ]
  },
  {
   "cell_type": "code",
   "execution_count": 1,
   "metadata": {
    "scrolled": true
   },
   "outputs": [
    {
     "name": "stdout",
     "output_type": "stream",
     "text": [
      "1\n",
      "2\n",
      "Hello\n",
      "4\n",
      "World\n",
      "Hello\n",
      "7\n",
      "8\n",
      "Hello\n",
      "World\n",
      "11\n",
      "Hello\n",
      "13\n",
      "14\n",
      "HelloWorld\n",
      "16\n",
      "17\n",
      "Hello\n",
      "19\n",
      "World\n",
      "Hello\n",
      "22\n",
      "23\n",
      "Hello\n",
      "World\n",
      "26\n",
      "Hello\n",
      "28\n",
      "29\n",
      "HelloWorld\n",
      "31\n",
      "32\n",
      "Hello\n",
      "34\n",
      "World\n",
      "Hello\n",
      "37\n",
      "38\n",
      "Hello\n",
      "World\n",
      "41\n",
      "Hello\n",
      "43\n",
      "44\n",
      "HelloWorld\n",
      "46\n",
      "47\n",
      "Hello\n",
      "49\n",
      "World\n",
      "Hello\n",
      "52\n",
      "53\n",
      "Hello\n",
      "World\n",
      "56\n",
      "Hello\n",
      "58\n",
      "59\n",
      "HelloWorld\n",
      "61\n",
      "62\n",
      "Hello\n",
      "64\n",
      "World\n",
      "Hello\n",
      "67\n",
      "68\n",
      "Hello\n",
      "World\n",
      "71\n",
      "Hello\n",
      "73\n",
      "74\n",
      "HelloWorld\n",
      "76\n",
      "77\n",
      "Hello\n",
      "79\n",
      "World\n",
      "Hello\n",
      "82\n",
      "83\n",
      "Hello\n",
      "World\n",
      "86\n",
      "Hello\n",
      "88\n",
      "89\n",
      "HelloWorld\n",
      "91\n",
      "92\n",
      "Hello\n",
      "94\n",
      "World\n",
      "Hello\n",
      "97\n",
      "98\n",
      "Hello\n",
      "World\n",
      "(1, 2, 'Python', 4, 'Works', 'Python', 7, 8, 'Python', 'Works', 11, 'Python', 13, 14, 'PythonWorks', 16, 17, 'Python', 19, 'Works', 'Python', 22, 23, 'Python', 'Works', 26, 'Python', 28, 29, 'PythonWorks', 31, 32, 'Python', 34, 'Works', 'Python', 37, 38, 'Python', 'Works', 41, 'Python', 43, 44, 'PythonWorks', 46, 47, 'Python', 49, 'Works', 'Python', 52, 53, 'Python', 'Works', 56, 'Python', 58, 59, 'PythonWorks', 61, 62, 'Python', 64, 'Works', 'Python', 67, 68, 'Python', 'Works', 71, 'Python', 73, 74, 'PythonWorks', 76, 77, 'Python', 79, 'Works', 'Python', 82, 83, 'Python', 'Works', 86, 'Python', 88, 89, 'PythonWorks', 91, 92, 'Python', 94, 'Works', 'Python', 97, 98, 'Python', 'Works')\n"
     ]
    }
   ],
   "source": [
    "# a)\n",
    "bound = 101\n",
    "\n",
    "multiple_three = \"Hello\"\n",
    "multiple_five = \"World\"\n",
    "\n",
    "for i in range(1,bound):\n",
    "    if(i%3 == 0 and i%5 == 0):\n",
    "        print(multiple_three + multiple_five)\n",
    "    elif(i%3 == 0):\n",
    "        print(multiple_three) \n",
    "    elif(i%5 == 0): \n",
    "        print(multiple_five) \n",
    "    else: \n",
    "        print (i)\n",
    "    \n",
    "# b)\n",
    "string_three = \"Python\"\n",
    "string_five = \"Works\"\n",
    "tupla = (1,)\n",
    "\n",
    "for i in range(2,bound):\n",
    "    tupla_temp = (i,)\n",
    "    if(i%3 == 0 and i%5 == 0):\n",
    "        tupla += (string_three + string_five,)\n",
    "    elif(i%3 == 0):\n",
    "        tupla += (string_three,)\n",
    "    elif(i%5 == 0): \n",
    "        tupla += (string_five,)\n",
    "    else:\n",
    "        tupla += tupla_temp\n",
    "        \n",
    "print (tupla)\n",
    "    "
   ]
  },
  {
   "cell_type": "markdown",
   "metadata": {},
   "source": [
    "2.The swap function\n",
    "\n",
    "Write a function that swap the values of two input variables x and y (whatever the type). Try to do that also without a temporary variable \n"
   ]
  },
  {
   "cell_type": "code",
   "execution_count": 2,
   "metadata": {},
   "outputs": [
    {
     "name": "stdout",
     "output_type": "stream",
     "text": [
      "('element', 2)\n",
      "('element', 2)\n"
     ]
    }
   ],
   "source": [
    "def swap_function_1(x,y): #swap_function with temporary variable\n",
    "    temp = x\n",
    "    x = y\n",
    "    y = temp\n",
    "    return (x,y)\n",
    "\n",
    "def swap_function_2(x,y): #swap_function without temporary variable\n",
    "    return (y,x)\n",
    "\n",
    "x = 2\n",
    "y = \"element\" \n",
    "\n",
    "print(swap_function_1(x,y))\n",
    "print(swap_function_2(x,y))\n"
   ]
  },
  {
   "cell_type": "markdown",
   "metadata": {},
   "source": [
    "3\\. Computing the distance\n",
    "\n",
    "Write a function that calculates and returns the euclidean distance between two points *u* and *v*, where *u* and *v* are both 2-tuples *(x,y)*. For example, if *u=(3,0)* and *v=(0,4)*, the function should return 5"
   ]
  },
  {
   "cell_type": "code",
   "execution_count": 3,
   "metadata": {},
   "outputs": [
    {
     "name": "stdout",
     "output_type": "stream",
     "text": [
      "5.0\n"
     ]
    }
   ],
   "source": [
    "import math\n",
    "\n",
    "def distance_function(u,v):\n",
    "    x1 = u[0]\n",
    "    y1 = u[1]\n",
    "    x2 = v[0]\n",
    "    y2 = v[1]\n",
    "    return (math.sqrt(((x2-x1)**2) + ((y2-y1)**2)))\n",
    "\n",
    "n1 = (3,0)\n",
    "n2 = (0,4)\n",
    "print(distance_function(n1,n2))"
   ]
  },
  {
   "cell_type": "markdown",
   "metadata": {},
   "source": [
    "4\\. Counting letters\n",
    "\n",
    "Write a program to calculate the number of times each character occurs in a given string *s*. Ignore differences in capitalization"
   ]
  },
  {
   "cell_type": "code",
   "execution_count": 4,
   "metadata": {
    "scrolled": true
   },
   "outputs": [
    {
     "name": "stdout",
     "output_type": "stream",
     "text": [
      "the character  w  occurs  4  times\n",
      "the character  r  occurs  19  times\n",
      "the character  i  occurs  12  times\n",
      "the character  t  occurs  19  times\n",
      "the character  e  occurs  20  times\n",
      "the character     occurs  41  times\n",
      "the character  a  occurs  7  times\n",
      "the character  p  occurs  8  times\n",
      "the character  o  occurs  15  times\n",
      "the character  g  occurs  1  times\n",
      "the character  m  occurs  8  times\n",
      "the character  h  occurs  11  times\n",
      "the character  n  occurs  10  times\n",
      "the character  s  occurs  7  times\n",
      "the character  u  occurs  7  times\n",
      "the character  b  occurs  5  times\n",
      "the character  f  occurs  10  times\n",
      "the character  1  occurs  2  times\n",
      "the character  0  occurs  2  times\n",
      "the character  .  occurs  3  times\n",
      "the character  l  occurs  12  times\n",
      "the character  d  occurs  5  times\n",
      "the character  v  occurs  2  times\n",
      "the character  c  occurs  1  times\n"
     ]
    }
   ],
   "source": [
    "s = \"Write a program that prints the numbers from 1 to 100. \\\n",
    "But for multiples of three print Hello instead of the number and for the multiples of five print World. \\\n",
    "For numbers which are multiples of both three and five print HelloWorld.\"\n",
    "\n",
    "def count_c(char):     #given a char, counts how many times it occurs\n",
    "    count = 0\n",
    "    for i in range(len(s)):\n",
    "        if char == s[i].lower(): count += 1\n",
    "    return count\n",
    "\n",
    "dictionary = {}     #key is the character, value is the number of times each character occurs\n",
    "\n",
    "for i in range(len(s)):     #parse the string\n",
    "    char = s[i].lower()     #ignore case\n",
    "    if (char not in dictionary):     #add new key-value\n",
    "        dictionary[char] = count_c(char)\n",
    "\n",
    "for k, v in dictionary.items():\n",
    "    print (\"the character \",k,\" occurs \",v,\" times\")\n"
   ]
  },
  {
   "cell_type": "markdown",
   "metadata": {},
   "source": [
    "5\\. Isolating the unique\n",
    "\n",
    "Write a function that determines and count the unique numbers in the list:"
   ]
  },
  {
   "cell_type": "code",
   "execution_count": 5,
   "metadata": {},
   "outputs": [
    {
     "name": "stdout",
     "output_type": "stream",
     "text": [
      "Unique list\n",
      " [58, 74, 96, 64, 10, 24, 19, 33, 86, 99, 18, 47, 88, 55, 54, 8, 79, 81, 57, 37, 1, 9, 95, 90, 98, 39, 16, 82, 92, 41, 30, 94, 5, 72, 87, 75, 53]\n",
      "Dimension list:  37\n"
     ]
    }
   ],
   "source": [
    "l = [36, 45, 58, 3, 74, 96, 64, 45, 31, 10, 24, 19, 33, 86, 99, 18, 63, 70, 85,\n",
    " 85, 63, 47, 56, 42, 70, 84, 88, 55, 20, 54, 8, 56, 51, 79, 81, 57, 37, 91,\n",
    " 1, 84, 84, 36, 66, 9, 89, 50, 42, 91, 50, 95, 90, 98, 39, 16, 82, 31, 92, 41,\n",
    " 45, 30, 66, 70, 34, 85, 94, 5, 3, 36, 72, 91, 84, 34, 87, 75, 53, 51, 20, 89, 51, 20]\n",
    "\n",
    "def unique_n(l):\n",
    "    list = []\n",
    "    count = 0\n",
    "    \n",
    "    for element in l:\n",
    "        for i in range(len(l)):\n",
    "            if (element == l[i]):count = count + 1\n",
    "        if count==1:\n",
    "            list.append(element)\n",
    "        count = 0         \n",
    "    return list\n",
    "\n",
    "unique_list = unique_n(l)\n",
    "print(\"Unique list\\n\",unique_list)\n",
    "print(\"Dimension list: \",len(unique_list))"
   ]
  },
  {
   "cell_type": "markdown",
   "metadata": {},
   "source": [
    "Do the same without using user-defined functions, but exploiting only the Python data structures."
   ]
  },
  {
   "cell_type": "code",
   "execution_count": 6,
   "metadata": {},
   "outputs": [
    {
     "name": "stdout",
     "output_type": "stream",
     "text": [
      "[58, 74, 96, 64, 10, 24, 19, 33, 86, 99, 18, 47, 88, 55, 54, 8, 79, 81, 57, 37, 1, 9, 95, 90, 98, 39, 16, 82, 92, 41, 30, 94, 5, 72, 87, 75, 53]\n"
     ]
    }
   ],
   "source": [
    "list = []\n",
    "count = 0\n",
    "    \n",
    "for element in l:\n",
    "    for i in range(len(l)):\n",
    "        if (element == l[i]):count = count + 1\n",
    "    if count==1:\n",
    "        list.append(element)\n",
    "    count = 0         \n",
    "\n",
    "print(list)"
   ]
  },
  {
   "cell_type": "markdown",
   "metadata": {},
   "source": [
    "6\\. Combination of functions\n",
    "\n",
    "Write two functions - one that returns the square of a number, and one that returns the cube. Now write a third function that returns the number raised to the 6th power using the two previous functions."
   ]
  },
  {
   "cell_type": "code",
   "execution_count": 7,
   "metadata": {},
   "outputs": [
    {
     "name": "stdout",
     "output_type": "stream",
     "text": [
      "x = 5\n",
      "square = 25\n",
      "cube = 125\n",
      "x to the sixth = 3125\n"
     ]
    }
   ],
   "source": [
    "def square(x):\n",
    "    return x*x\n",
    "\n",
    "def cube(x):\n",
    "    return x*x*x\n",
    "\n",
    "x = 5\n",
    "print(\"x =\",x)\n",
    "print(\"square =\",square(x))\n",
    "print(\"cube =\",cube(x))\n",
    "print(\"x to the sixth =\",square(x)*cube(x))"
   ]
  },
  {
   "cell_type": "markdown",
   "metadata": {},
   "source": [
    "7\\. Cubes\n",
    "\n",
    "Create a list of the cubes of x for x in *[0, 10]* using:\n",
    "\n",
    "a) a for loop\n",
    "\n",
    "b) a list comprehension"
   ]
  },
  {
   "cell_type": "code",
   "execution_count": 8,
   "metadata": {},
   "outputs": [
    {
     "name": "stdout",
     "output_type": "stream",
     "text": [
      "[0, 1, 8, 27, 64, 125, 216, 343, 512, 729, 1000]\n",
      "[0, 1, 8, 27, 64, 125, 216, 343, 512, 729, 1000]\n"
     ]
    }
   ],
   "source": [
    "n = 10\n",
    "\n",
    "#a)\n",
    "list_1 = []\n",
    "\n",
    "for i in range(0,n+1):\n",
    "    list_1.append(i*i*i)\n",
    "print(list_1)\n",
    "\n",
    "#b)\n",
    "list_2 = [x*x*x for x in range(n+1)]\n",
    "print(list_2)\n"
   ]
  },
  {
   "cell_type": "markdown",
   "metadata": {},
   "source": [
    "8\\. Nested list comprehension\n",
    "\n",
    "A Pythagorean triple is an integer solution to the Pythagorean theorem $a^2+b^2=c^2$. The first Pythagorean triple is (3,4,5). Find and put in a tuple all unique Pythagorean triples for the positive integers a, b and c less than 100."
   ]
  },
  {
   "cell_type": "code",
   "execution_count": 9,
   "metadata": {},
   "outputs": [
    {
     "name": "stdout",
     "output_type": "stream",
     "text": [
      "[(3, 4, 5), (5, 12, 13), (6, 8, 10), (7, 24, 25), (8, 15, 17), (9, 12, 15), (9, 40, 41), (10, 24, 26), (11, 60, 61), (12, 16, 20), (12, 35, 37), (13, 84, 85), (14, 48, 50), (15, 20, 25), (15, 36, 39), (16, 30, 34), (16, 63, 65), (18, 24, 30), (18, 80, 82), (20, 21, 29), (20, 48, 52), (21, 28, 35), (21, 72, 75), (24, 32, 40), (24, 45, 51), (24, 70, 74), (25, 60, 65), (27, 36, 45), (28, 45, 53), (30, 40, 50), (30, 72, 78), (32, 60, 68), (33, 44, 55), (33, 56, 65), (35, 84, 91), (36, 48, 60), (36, 77, 85), (39, 52, 65), (39, 80, 89), (40, 42, 58), (40, 75, 85), (42, 56, 70), (45, 60, 75), (48, 55, 73), (48, 64, 80), (51, 68, 85), (54, 72, 90), (57, 76, 95), (60, 63, 87), (65, 72, 97)]\n"
     ]
    }
   ],
   "source": [
    "import math\n",
    "n = 100\n",
    "list = []\n",
    "\n",
    "for a in range(1,n+1):\n",
    "    for b in range(a,n+1):\n",
    "            c = math.sqrt(a**2 + b**2)\n",
    "            c_int = int(c)\n",
    "            if(c - c_int == 0 and c < n):\n",
    "                list.append((a,b,c_int))\n",
    "\n",
    "print(list)"
   ]
  },
  {
   "cell_type": "markdown",
   "metadata": {},
   "source": [
    "9\\. Normalization\n",
    "\n",
    "Write a function that takes a tuple of numbers and returns it with the entries normalized to one"
   ]
  },
  {
   "cell_type": "code",
   "execution_count": 10,
   "metadata": {},
   "outputs": [
    {
     "name": "stdout",
     "output_type": "stream",
     "text": [
      "Normalized tupla:  (0.4, 1.0, 0.0, 0.3)\n"
     ]
    }
   ],
   "source": [
    "def normalize(v):\n",
    "    \n",
    "    #find v_max\n",
    "    v_max = v[0]\n",
    "    for i in range(len(v)):\n",
    "        if v[i] > v_max: v_max = v[i]\n",
    "    \n",
    "    #find v_min\n",
    "    v_min = v[0]\n",
    "    for i in range(len(v)):\n",
    "        if v[i] < v_min: v_min = v[i]\n",
    "     \n",
    "    n = (v[0]-v_min) / (v_max-v_min)            \n",
    "    tupla = (n,)\n",
    "    for i in range(1,len(v)):\n",
    "        value = v[i]\n",
    "        n = (value-v_min) / (v_max-v_min)\n",
    "        tupla_temp = (n,)\n",
    "        tupla = (tupla+tupla_temp)\n",
    "    return tupla\n",
    "\n",
    "s = (4,10,0,3)\n",
    "\n",
    "print(\"Normalized tupla: \", normalize(s))"
   ]
  }
 ],
 "metadata": {
  "kernelspec": {
   "display_name": "Python 3",
   "language": "python",
   "name": "python3"
  },
  "language_info": {
   "codemirror_mode": {
    "name": "ipython",
    "version": 3
   },
   "file_extension": ".py",
   "mimetype": "text/x-python",
   "name": "python",
   "nbconvert_exporter": "python",
   "pygments_lexer": "ipython3",
   "version": "3.8.8"
  }
 },
 "nbformat": 4,
 "nbformat_minor": 2
}
