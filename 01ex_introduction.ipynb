{
 "cells": [
  {
   "cell_type": "markdown",
   "metadata": {},
   "source": [
    "1. The HelloWorld replacement\n",
    "\n",
    "a) Write a program that prints the numbers from 1 to 100. But for multiples of three print \"Hello\" instead of the number and for the multiples of five print \"World\". For numbers which are multiples of both three and five print \"HelloWorld\".\n",
    "\n",
    "b) Put the result in a tuple and substitute \"Hello\" with \"Python\" and \"World\" with \"Works\"."
   ]
  },
  {
   "cell_type": "code",
   "execution_count": 185,
   "metadata": {},
   "outputs": [
    {
     "name": "stdout",
     "output_type": "stream",
     "text": [
      "1\n",
      "2\n",
      "Hello\n",
      "4\n",
      "World\n",
      "Hello\n",
      "7\n",
      "8\n",
      "Hello\n",
      "World\n",
      "11\n",
      "Hello\n",
      "13\n",
      "14\n",
      "HelloWorld\n",
      "16\n",
      "17\n",
      "Hello\n",
      "19\n",
      "World\n",
      "Hello\n",
      "22\n",
      "23\n",
      "Hello\n",
      "World\n",
      "26\n",
      "Hello\n",
      "28\n",
      "29\n",
      "HelloWorld\n",
      "31\n",
      "32\n",
      "Hello\n",
      "34\n",
      "World\n",
      "Hello\n",
      "37\n",
      "38\n",
      "Hello\n",
      "World\n",
      "41\n",
      "Hello\n",
      "43\n",
      "44\n",
      "HelloWorld\n",
      "46\n",
      "47\n",
      "Hello\n",
      "49\n",
      "World\n",
      "Hello\n",
      "52\n",
      "53\n",
      "Hello\n",
      "World\n",
      "56\n",
      "Hello\n",
      "58\n",
      "59\n",
      "HelloWorld\n",
      "61\n",
      "62\n",
      "Hello\n",
      "64\n",
      "World\n",
      "Hello\n",
      "67\n",
      "68\n",
      "Hello\n",
      "World\n",
      "71\n",
      "Hello\n",
      "73\n",
      "74\n",
      "HelloWorld\n",
      "76\n",
      "77\n",
      "Hello\n",
      "79\n",
      "World\n",
      "Hello\n",
      "82\n",
      "83\n",
      "Hello\n",
      "World\n",
      "86\n",
      "Hello\n",
      "88\n",
      "89\n",
      "HelloWorld\n",
      "91\n",
      "92\n",
      "Hello\n",
      "94\n",
      "World\n",
      "Hello\n",
      "97\n",
      "98\n",
      "Hello\n",
      "************************************\n",
      "(1, 2, 'Python', 4, 'Works', 'Python', 7, 8, 'Python', 'Works', 11, 'Python', 13, 14, 'PythonWorks', 16, 17, 'Python', 19, 'Works', 'Python', 22, 23, 'Python', 'Works', 26, 'Python', 28, 29, 'PythonWorks', 31, 32, 'Python', 34, 'Works', 'Python', 37, 38, 'Python', 'Works', 41, 'Python', 43, 44, 'PythonWorks', 46, 47, 'Python', 49, 'Works', 'Python', 52, 53, 'Python', 'Works', 56, 'Python', 58, 59, 'PythonWorks', 61, 62, 'Python', 64, 'Works', 'Python', 67, 68, 'Python', 'Works', 71, 'Python', 73, 74, 'PythonWorks', 76, 77, 'Python', 79, 'Works', 'Python', 82, 83, 'Python', 'Works', 86, 'Python', 88, 89, 'PythonWorks', 91, 92, 'Python', 94, 'Works', 'Python', 97, 98, 'Python')\n"
     ]
    }
   ],
   "source": [
    "import numpy as np\n",
    "#Part a\n",
    "firstList = []    #Created an empty list\n",
    "\n",
    "for i in range(1,100):\n",
    "    if i%3==0 and i%5!=0:     #Only multiples of three\n",
    "        print('Hello')\n",
    "        firstList.append('Hello')\n",
    "    elif i%5==0 and i%3!=0:   #Only multiples of five\n",
    "        print('World')\n",
    "        firstList.append('World')\n",
    "    elif i%5==0 and i%3==0:   #Only multiples of fifteen\n",
    "        print('HelloWorld')\n",
    "        firstList.append('HelloWorld') \n",
    "    else:\n",
    "        print(i)              #Other numbers\n",
    "        firstList.append(i)\n",
    "\n",
    "print(\"************************************\")\n",
    "#Part b | List comprehension is used here. It traverses the list in a for loop and replaces the words with the new ones.\n",
    "new_list = [x.replace(\"Hello\",\"Python\") if x == \"Hello\" else x.replace(\"World\",\"Works\") if x == \"World\" else x.replace(\"HelloWorld\",\"PythonWorks\") if x == \"HelloWorld\" else x for x in firstList]\n",
    "final_tuple = tuple(new_list)     # Converted the list into tuple since tuple is not changable.\n",
    "print(final_tuple)"
   ]
  },
  {
   "cell_type": "markdown",
   "metadata": {},
   "source": [
    "2\\. The swap function\n",
    "\n",
    "Write a function that swap the values of two input variables x and y (whatever the type). Try to do that also without a temporary variable"
   ]
  },
  {
   "cell_type": "code",
   "execution_count": 36,
   "metadata": {},
   "outputs": [
    {
     "name": "stdout",
     "output_type": "stream",
     "text": [
      "x: 3.05\n",
      "y: john\n"
     ]
    }
   ],
   "source": [
    "def swapFunc(x,y):\n",
    "    x, y = y, x    # Swap operation without a temporary variable\n",
    "    print('x:',x)\n",
    "    print('y:',y)\n",
    "\n",
    "swapFunc('john',3.05)"
   ]
  },
  {
   "cell_type": "markdown",
   "metadata": {},
   "source": [
    "3\\. Computing the distance\n",
    "\n",
    "Write a function that calculates and returns the euclidean distance between two points *u* and *v*, where *u* and *v* are both 2-tuples *(x,y)*. For example, if *u=(3,0)* and *v=(0,4)*, the function should return 5"
   ]
  },
  {
   "cell_type": "code",
   "execution_count": 47,
   "metadata": {},
   "outputs": [
    {
     "name": "stdout",
     "output_type": "stream",
     "text": [
      "10.0\n"
     ]
    }
   ],
   "source": [
    "import numpy as np\n",
    "\n",
    "# Random points in tuples in the cartesian plane\n",
    "u = (6,0)\n",
    "v = (0,8)\n",
    "\n",
    "\n",
    "def distanceFinder(u,v):\n",
    "    arr1 = np.asarray(u)   # converted the inputs u and v into arrays\n",
    "    arr2 = np.asarray(v)\n",
    "    dist = np.linalg.norm(arr1 - arr2)  # utilized the euclidiean calcualtion method of numpy\n",
    "    print(dist)\n",
    "    \n",
    "distanceFinder(u,v)"
   ]
  },
  {
   "cell_type": "markdown",
   "metadata": {},
   "source": [
    "4\\. Counting letters\n",
    "\n",
    "Write a program to calculate the number of times each character occurs in a given string *s*. Ignore differences in capitalization"
   ]
  },
  {
   "cell_type": "code",
   "execution_count": 186,
   "metadata": {},
   "outputs": [
    {
     "name": "stdout",
     "output_type": "stream",
     "text": [
      "a : 7\n",
      "b : 5\n",
      "c : 1\n",
      "d : 5\n",
      "e : 20\n",
      "f : 10\n",
      "g : 1\n",
      "h : 11\n",
      "i : 12\n",
      "j : 0\n",
      "k : 0\n",
      "l : 12\n",
      "m : 8\n",
      "n : 10\n",
      "o : 15\n",
      "p : 8\n",
      "q : 0\n",
      "r : 19\n",
      "s : 7\n",
      "t : 19\n",
      "u : 7\n",
      "v : 2\n",
      "w : 4\n",
      "x : 0\n",
      "y : 0\n",
      "z : 0\n",
      "space: 41\n"
     ]
    }
   ],
   "source": [
    "from collections import Counter\n",
    "\n",
    "s = \"Write a program that prints the numbers from 1 to 100. \\\n",
    "But for multiples of three print Hello instead of the number and for the multiples of five print World. \\\n",
    "For numbers which are multiples of both three and five print HelloWorld.\"\n",
    "\n",
    "def countChar(str):\n",
    "    count = Counter(str.lower())    #converted every character into lowercase ones to count each one of them\n",
    "    for i in range(97, 123):        # ascii alphabet numbers from a to z.\n",
    "        print(chr(i) , \":\", count[chr(i)])  # used count method of the imported library\n",
    "    print(\"space:\", count[\" \"])    #number of spaces as well\n",
    "\n",
    "countChar(s)"
   ]
  },
  {
   "cell_type": "markdown",
   "metadata": {},
   "source": [
    "5\\. Isolating the unique\n",
    "\n",
    "Write a function that determines and count the unique numbers in the list:"
   ]
  },
  {
   "cell_type": "code",
   "execution_count": 112,
   "metadata": {},
   "outputs": [
    {
     "name": "stdout",
     "output_type": "stream",
     "text": [
      "Unique numbers in the given list are:  [58, 74, 96, 64, 10, 24, 19, 33, 86, 99, 18, 47, 88, 55, 54, 8, 79, 81, 57, 37, 1, 9, 95, 90, 98, 39, 16, 82, 92, 41, 30, 94, 5, 72, 87, 75, 53]\n"
     ]
    }
   ],
   "source": [
    "from collections import Counter\n",
    "\n",
    "l = [36, 45, 58, 3, 74, 96, 64, 45, 31, 10, 24, 19, 33, 86, 99, 18, 63, 70, 85,\n",
    " 85, 63, 47, 56, 42, 70, 84, 88, 55, 20, 54, 8, 56, 51, 79, 81, 57, 37, 91,\n",
    " 1, 84, 84, 36, 66, 9, 89, 50, 42, 91, 50, 95, 90, 98, 39, 16, 82, 31, 92, 41,\n",
    " 45, 30, 66, 70, 34, 85, 94, 5, 3, 36, 72, 91, 84, 34, 87, 75, 53, 51, 20, 89, 51, 20]\n",
    "\n",
    "# In this example, I imported collections library to count the occurances of any number\n",
    "def countUnique(lst):\n",
    "    unique_list = [] # created an empty list\n",
    "    count = Counter(lst)\n",
    "    for x in lst:\n",
    "        if count[x] == 1: unique_list.append(x)   # if the occurance is 1, then append the element in to the list\n",
    "    print(\"Unique numbers in the given list are: \", unique_list) # print the final list\n",
    "    \n",
    "countUnique(l)"
   ]
  },
  {
   "cell_type": "markdown",
   "metadata": {},
   "source": [
    "Do the same without using user-defined functions, but exploiting only the Python data structures."
   ]
  },
  {
   "cell_type": "code",
   "execution_count": 110,
   "metadata": {},
   "outputs": [
    {
     "name": "stdout",
     "output_type": "stream",
     "text": [
      "Unique numbers in the given list are:  [58, 74, 96, 64, 10, 24, 19, 33, 86, 99, 18, 47, 88, 55, 54, 8, 79, 81, 57, 37, 1, 9, 95, 90, 98, 39, 16, 82, 92, 41, 30, 94, 5, 72, 87, 75, 53]\n"
     ]
    }
   ],
   "source": [
    "l = [36, 45, 58, 3, 74, 96, 64, 45, 31, 10, 24, 19, 33, 86, 99, 18, 63, 70, 85,\n",
    " 85, 63, 47, 56, 42, 70, 84, 88, 55, 20, 54, 8, 56, 51, 79, 81, 57, 37, 91,\n",
    " 1, 84, 84, 36, 66, 9, 89, 50, 42, 91, 50, 95, 90, 98, 39, 16, 82, 31, 92, 41,\n",
    " 45, 30, 66, 70, 34, 85, 94, 5, 3, 36, 72, 91, 84, 34, 87, 75, 53, 51, 20, 89, 51, 20]\n",
    "\n",
    "# In this example, I only used Python data structures to count the occurances of any number\n",
    "\n",
    "def countUnique(lst):  # 2 for loops to traverse the list and compare elements\n",
    "    unique_list = []\n",
    "    for x in lst:\n",
    "        count = 0\n",
    "        for ele in lst:\n",
    "            if (ele == x):\n",
    "                count = count + 1  # count the number of occurances\n",
    "        if count == 1: unique_list.append(x)  # if appears only once, append to the list\n",
    "    print(\"Unique numbers in the given list are: \", unique_list)\n",
    "    \n",
    "countUnique(l)"
   ]
  },
  {
   "cell_type": "markdown",
   "metadata": {},
   "source": [
    "6\\. Combination of functions\n",
    "\n",
    "Write two functions - one that returns the square of a number, and one that returns the cube. Now write a third function that returns the number raised to the 6th power using the two previous functions."
   ]
  },
  {
   "cell_type": "code",
   "execution_count": 123,
   "metadata": {},
   "outputs": [
    {
     "name": "stdout",
     "output_type": "stream",
     "text": [
      "Square of the number is:  4\n",
      "Cube of the number is:  8\n",
      "6th power of the number is:  64\n"
     ]
    }
   ],
   "source": [
    "def squareFunc(x):\n",
    "    return x**2\n",
    "\n",
    "def cubeFunc(x):\n",
    "    return x**3\n",
    "\n",
    "def sixthPower(x):\n",
    "    return squareFunc(cubeFunc(x))  # cubeFunc is given to squareFunc as an input\n",
    " \n",
    "print(\"Square of the number is: \",squareFunc(2))\n",
    "print(\"Cube of the number is: \",cubeFunc(2))\n",
    "print(\"6th power of the number is: \",sixthPower(2))"
   ]
  },
  {
   "cell_type": "markdown",
   "metadata": {},
   "source": [
    "7\\. Cubes\n",
    "\n",
    "Create a list of the cubes of x for x in *[0, 10]* using:\n",
    "\n",
    "a) a for loop\n",
    "\n",
    "b) a list comprehension"
   ]
  },
  {
   "cell_type": "code",
   "execution_count": 187,
   "metadata": {},
   "outputs": [
    {
     "name": "stdout",
     "output_type": "stream",
     "text": [
      "[0, 1, 8, 27, 64, 125, 216, 343, 512, 729]\n",
      "[0, 1, 8, 27, 64, 125, 216, 343, 512, 729]\n"
     ]
    }
   ],
   "source": [
    "#PART A\n",
    "\n",
    "lst = []    # empty list\n",
    "for x in range(10):\n",
    "    lst.append(x**3)  # append the cube of x\n",
    "print(lst)\n",
    "\n",
    "#PART B\n",
    "\n",
    "lst2 = [x**3 for x in range(10)]  # same thing, but with a list comprehension\n",
    "\n",
    "print(lst2)"
   ]
  },
  {
   "cell_type": "markdown",
   "metadata": {},
   "source": [
    "8\\. Nested list comprehension\n",
    "\n",
    "A Pythagorean triple is an integer solution to the Pythagorean theorem $a^2+b^2=c^2$. The first Pythagorean triple is (3,4,5). Find and put in a tuple all unique Pythagorean triples for the positive integers a, b and c less than 100."
   ]
  },
  {
   "cell_type": "code",
   "execution_count": 151,
   "metadata": {},
   "outputs": [
    {
     "name": "stdout",
     "output_type": "stream",
     "text": [
      "3 4 5\n",
      "6 8 10\n",
      "5 12 13\n",
      "9 12 15\n",
      "8 15 17\n",
      "12 16 20\n",
      "15 20 25\n",
      "20 21 29\n",
      "7 24 25\n",
      "10 24 26\n",
      "18 24 30\n",
      "21 28 35\n",
      "16 30 34\n",
      "24 32 40\n",
      "12 35 37\n",
      "15 36 39\n",
      "27 36 45\n",
      "9 40 41\n",
      "30 40 50\n",
      "40 42 58\n",
      "33 44 55\n",
      "24 45 51\n",
      "28 45 53\n",
      "14 48 50\n",
      "20 48 52\n",
      "36 48 60\n",
      "39 52 65\n",
      "48 55 73\n",
      "33 56 65\n",
      "42 56 70\n",
      "11 60 61\n",
      "25 60 65\n",
      "32 60 68\n",
      "45 60 75\n",
      "16 63 65\n",
      "60 63 87\n",
      "48 64 80\n",
      "51 68 85\n",
      "24 70 74\n",
      "21 72 75\n",
      "30 72 78\n",
      "54 72 90\n",
      "65 72 97\n",
      "40 75 85\n",
      "57 76 95\n",
      "36 77 85\n",
      "18 80 82\n",
      "39 80 89\n",
      "13 84 85\n",
      "35 84 91\n",
      "[(3, 4, 5), (6, 8, 10), (5, 12, 13), (9, 12, 15), (8, 15, 17), (12, 16, 20), (15, 20, 25), (20, 21, 29), (7, 24, 25), (10, 24, 26), (18, 24, 30), (21, 28, 35), (16, 30, 34), (24, 32, 40), (12, 35, 37), (15, 36, 39), (27, 36, 45), (9, 40, 41), (30, 40, 50), (40, 42, 58), (33, 44, 55), (24, 45, 51), (28, 45, 53), (14, 48, 50), (20, 48, 52), (36, 48, 60), (39, 52, 65), (48, 55, 73), (33, 56, 65), (42, 56, 70), (11, 60, 61), (25, 60, 65), (32, 60, 68), (45, 60, 75), (16, 63, 65), (60, 63, 87), (48, 64, 80), (51, 68, 85), (24, 70, 74), (21, 72, 75), (30, 72, 78), (54, 72, 90), (65, 72, 97), (40, 75, 85), (57, 76, 95), (36, 77, 85), (18, 80, 82), (39, 80, 89), (13, 84, 85), (35, 84, 91)]\n"
     ]
    }
   ],
   "source": [
    "import math\n",
    "\n",
    "def PythagoreanTriple(x):\n",
    "    lst = []\n",
    "    for b in range(x):\n",
    "        for a in range(1, b):\n",
    "            c = math.sqrt( a*a + b*b)  # squares of all a,b combinations\n",
    "            if c == int(c) and c < 100:  # if c is not a float then we have the answer \n",
    "                print(a,b,int(c))\n",
    "                tempTuple = (a,b,int(c)) # stored the numbers in a tuple\n",
    "                lst.append(tempTuple)  # a list of tuples\n",
    "    tuple(lst)   # converted the list into a tuple\n",
    "    print(lst)\n",
    "            \n",
    "PythagoreanTriple(100)"
   ]
  },
  {
   "cell_type": "markdown",
   "metadata": {},
   "source": [
    "9\\. Normalization\n",
    "\n",
    "Write a function that takes a tuple of numbers and returns it with the entries normalized to one"
   ]
  },
  {
   "cell_type": "code",
   "execution_count": 160,
   "metadata": {},
   "outputs": [
    {
     "name": "stdout",
     "output_type": "stream",
     "text": [
      "(1.0, 0.028419997890517877, 0.015067729443850104)\n"
     ]
    }
   ],
   "source": [
    "def Normalize(tpl):\n",
    "    tmpList = list(tpl) #convert tuple to list\n",
    "    tmpList = [i/max(tmpList) for i in tmpList] # list comprehension to normalize by dividing all elements into the max element\n",
    "    return tuple(tmpList) # converting back to tuple\n",
    "\n",
    "print(Normalize((265.468,7.5446,4)))"
   ]
  }
 ],
 "metadata": {
  "kernelspec": {
   "display_name": "Python 3",
   "language": "python",
   "name": "python3"
  },
  "language_info": {
   "codemirror_mode": {
    "name": "ipython",
    "version": 3
   },
   "file_extension": ".py",
   "mimetype": "text/x-python",
   "name": "python",
   "nbconvert_exporter": "python",
   "pygments_lexer": "ipython3",
   "version": "3.8.5"
  }
 },
 "nbformat": 4,
 "nbformat_minor": 2
}
