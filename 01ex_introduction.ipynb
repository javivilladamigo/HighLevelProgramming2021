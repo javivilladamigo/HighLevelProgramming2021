{
 "cells": [
  {
   "cell_type": "markdown",
   "metadata": {},
   "source": [
    "1. The HelloWorld replacement\n",
    "\n",
    "a) Write a program that prints the numbers from 1 to 100. But for multiples of three print \"Hello\" instead of the number and for the multiples of five print \"World\". For numbers which are multiples of both three and five print \"HelloWorld\".\n",
    "\n",
    "b) Put the result in a tuple and substitute \"Hello\" with \"Python\" and \"World\" with \"Works\"."
   ]
  },
  {
   "cell_type": "code",
   "execution_count": 10,
   "metadata": {},
   "outputs": [
    {
     "name": "stdout",
     "output_type": "stream",
     "text": [
      "1\n",
      "2\n",
      "Hello\n",
      "4\n",
      "World\n",
      "Hello\n",
      "7\n",
      "8\n",
      "Hello\n",
      "World\n",
      "11\n",
      "Hello\n",
      "13\n",
      "14\n",
      "HelloWorld\n",
      "16\n",
      "17\n",
      "Hello\n",
      "19\n",
      "World\n",
      "Hello\n",
      "22\n",
      "23\n",
      "Hello\n",
      "World\n",
      "26\n",
      "Hello\n",
      "28\n",
      "29\n",
      "HelloWorld\n",
      "31\n",
      "32\n",
      "Hello\n",
      "34\n",
      "World\n",
      "Hello\n",
      "37\n",
      "38\n",
      "Hello\n",
      "World\n",
      "41\n",
      "Hello\n",
      "43\n",
      "44\n",
      "HelloWorld\n",
      "46\n",
      "47\n",
      "Hello\n",
      "49\n",
      "World\n",
      "Hello\n",
      "52\n",
      "53\n",
      "Hello\n",
      "World\n",
      "56\n",
      "Hello\n",
      "58\n",
      "59\n",
      "HelloWorld\n",
      "61\n",
      "62\n",
      "Hello\n",
      "64\n",
      "World\n",
      "Hello\n",
      "67\n",
      "68\n",
      "Hello\n",
      "World\n",
      "71\n",
      "Hello\n",
      "73\n",
      "74\n",
      "HelloWorld\n",
      "76\n",
      "77\n",
      "Hello\n",
      "79\n",
      "World\n",
      "Hello\n",
      "82\n",
      "83\n",
      "Hello\n",
      "World\n",
      "86\n",
      "Hello\n",
      "88\n",
      "89\n",
      "HelloWorld\n",
      "91\n",
      "92\n",
      "Hello\n",
      "94\n",
      "World\n",
      "Hello\n",
      "97\n",
      "98\n",
      "Hello\n",
      "World\n",
      "1\n",
      "2\n",
      "Python\n",
      "4\n",
      "Works\n",
      "Python\n",
      "7\n",
      "8\n",
      "Python\n",
      "Works\n",
      "11\n",
      "Python\n",
      "13\n",
      "14\n",
      "PythonWorks\n",
      "16\n",
      "17\n",
      "Python\n",
      "19\n",
      "Works\n",
      "Python\n",
      "22\n",
      "23\n",
      "Python\n",
      "Works\n",
      "26\n",
      "Python\n",
      "28\n",
      "29\n",
      "PythonWorks\n",
      "31\n",
      "32\n",
      "Python\n",
      "34\n",
      "Works\n",
      "Python\n",
      "37\n",
      "38\n",
      "Python\n",
      "Works\n",
      "41\n",
      "Python\n",
      "43\n",
      "44\n",
      "PythonWorks\n",
      "46\n",
      "47\n",
      "Python\n",
      "49\n",
      "Works\n",
      "Python\n",
      "52\n",
      "53\n",
      "Python\n",
      "Works\n",
      "56\n",
      "Python\n",
      "58\n",
      "59\n",
      "PythonWorks\n",
      "61\n",
      "62\n",
      "Python\n",
      "64\n",
      "Works\n",
      "Python\n",
      "67\n",
      "68\n",
      "Python\n",
      "Works\n",
      "71\n",
      "Python\n",
      "73\n",
      "74\n",
      "PythonWorks\n",
      "76\n",
      "77\n",
      "Python\n",
      "79\n",
      "Works\n",
      "Python\n",
      "82\n",
      "83\n",
      "Python\n",
      "Works\n",
      "86\n",
      "Python\n",
      "88\n",
      "89\n",
      "PythonWorks\n",
      "91\n",
      "92\n",
      "Python\n",
      "94\n",
      "Works\n",
      "Python\n",
      "97\n",
      "98\n",
      "Python\n",
      "Works\n",
      "<class 'list'>\n",
      "<class 'tuple'>\n"
     ]
    }
   ],
   "source": [
    "l = []\n",
    "\n",
    "for i in range(1,101):\n",
    "    if i%15==0:\n",
    "        l.append(\"HelloWorld\")\n",
    "    elif i%5==0:\n",
    "        l.append(\"World\")\n",
    "    elif i%3==0:\n",
    "        l.append(\"Hello\")\n",
    "    else:\n",
    "        l.append(i)\n",
    "    print(l[i-1])\n",
    "        \n",
    "        \n",
    "l2=tuple(l)\n",
    "        \n",
    "for x in l2:\n",
    "    x = str(x)\n",
    "    if \"HelloWorld\" in x:\n",
    "        x = \"PythonWorks\"\n",
    "    elif \"World\" in x:\n",
    "        x = \"Works\"\n",
    "    elif \"Hello\" in x:\n",
    "        x = \"Python\"\n",
    "    \n",
    "    print(x)\n",
    "    \n",
    "\n",
    "print(type(l))\n",
    "print(type(l2))"
   ]
  },
  {
   "cell_type": "markdown",
   "metadata": {},
   "source": [
    "2\\. The swap function\n",
    "\n",
    "Write a function that swap the values of two input variables x and y (whatever the type). Try to do that also without a temporary variable"
   ]
  },
  {
   "cell_type": "code",
   "execution_count": 16,
   "metadata": {},
   "outputs": [
    {
     "name": "stdout",
     "output_type": "stream",
     "text": [
      "x= primo\n",
      "y= secondo\n",
      "Swapping..\n",
      "x= secondo\n",
      "y= primo\n"
     ]
    }
   ],
   "source": [
    "def swap(x,y):\n",
    "    x,y=y,x\n",
    "    return x,y\n",
    "\n",
    "def swaptemp(x,y):\n",
    "    z = x\n",
    "    x = y\n",
    "    y = z\n",
    "\n",
    "x = \"primo\"\n",
    "y = \"secondo\"\n",
    "\n",
    "print(\"x=\",x)\n",
    "print(\"y=\",y)\n",
    "\n",
    "print(\"Swapping..\")\n",
    "(x,y)=swap(x,y)\n",
    "print(\"x=\",x)\n",
    "print(\"y=\",y)"
   ]
  },
  {
   "cell_type": "markdown",
   "metadata": {},
   "source": [
    "3\\. Computing the distance\n",
    "\n",
    "Write a function that calculates and returns the euclidean distance between two points *u* and *v*, where *u* and *v* are both 2-tuples *(x,y)*. For example, if *u=(3,0)* and *v=(0,4)*, the function should return 5"
   ]
  },
  {
   "cell_type": "code",
   "execution_count": 19,
   "metadata": {},
   "outputs": [
    {
     "name": "stdout",
     "output_type": "stream",
     "text": [
      "5.0\n"
     ]
    }
   ],
   "source": [
    "def euclideanDistance(x, y):\n",
    "    return pow( pow(x[0]+y[0],2) + pow(x[1]+y[1],2) , 0.5)\n",
    "\n",
    "u = [3, 0]\n",
    "v = [0, 4]\n",
    "\n",
    "print(euclideanDistance(u,v))"
   ]
  },
  {
   "cell_type": "markdown",
   "metadata": {},
   "source": [
    "4\\. Counting letters\n",
    "\n",
    "Write a program to calculate the number of times each character occurs in a given string *s*. Ignore differences in capitalization"
   ]
  },
  {
   "cell_type": "code",
   "execution_count": 21,
   "metadata": {},
   "outputs": [
    {
     "name": "stdout",
     "output_type": "stream",
     "text": [
      "There are 4 characters w\n",
      "There are 19 characters r\n",
      "There are 12 characters i\n",
      "There are 19 characters t\n",
      "There are 20 characters e\n",
      "There are 41 characters  \n",
      "There are 7 characters a\n",
      "There are 8 characters p\n",
      "There are 15 characters o\n",
      "There are 1 characters g\n",
      "There are 8 characters m\n",
      "There are 11 characters h\n",
      "There are 10 characters n\n",
      "There are 7 characters s\n",
      "There are 7 characters u\n",
      "There are 5 characters b\n",
      "There are 10 characters f\n",
      "There are 2 characters 1\n",
      "There are 2 characters 0\n",
      "There are 3 characters .\n",
      "There are 12 characters l\n",
      "There are 5 characters d\n",
      "There are 2 characters v\n",
      "There are 1 characters c\n"
     ]
    }
   ],
   "source": [
    "s = \"Write a program that prints the numbers from 1 to 100. \\\n",
    "But for multiples of three print Hello instead of the number and for the multiples of five print World. \\\n",
    "For numbers which are multiples of both three and five print HelloWorld.\"\n",
    "\n",
    "d = {}\n",
    "\n",
    "for c in s.lower():\n",
    "    if c not in d:\n",
    "        d.update({c : 1})\n",
    "    else:\n",
    "        d[c] += 1\n",
    "\n",
    "for x in d:\n",
    "    print(\"There are\",d[x],\"characters\",x)"
   ]
  },
  {
   "cell_type": "markdown",
   "metadata": {},
   "source": [
    "5\\. Isolating the unique\n",
    "\n",
    "Write a function that determines and count the unique numbers in the list:"
   ]
  },
  {
   "cell_type": "code",
   "execution_count": 22,
   "metadata": {},
   "outputs": [
    {
     "name": "stdout",
     "output_type": "stream",
     "text": [
      "58 is a unique number\n",
      "74 is a unique number\n",
      "96 is a unique number\n",
      "64 is a unique number\n",
      "10 is a unique number\n",
      "24 is a unique number\n",
      "19 is a unique number\n",
      "33 is a unique number\n",
      "86 is a unique number\n",
      "99 is a unique number\n",
      "18 is a unique number\n",
      "47 is a unique number\n",
      "88 is a unique number\n",
      "55 is a unique number\n",
      "54 is a unique number\n",
      "8 is a unique number\n",
      "79 is a unique number\n",
      "81 is a unique number\n",
      "57 is a unique number\n",
      "37 is a unique number\n",
      "1 is a unique number\n",
      "9 is a unique number\n",
      "95 is a unique number\n",
      "90 is a unique number\n",
      "98 is a unique number\n",
      "39 is a unique number\n",
      "16 is a unique number\n",
      "82 is a unique number\n",
      "92 is a unique number\n",
      "41 is a unique number\n",
      "30 is a unique number\n",
      "94 is a unique number\n",
      "5 is a unique number\n",
      "72 is a unique number\n",
      "87 is a unique number\n",
      "75 is a unique number\n",
      "53 is a unique number\n",
      "There are 37 unique numbers\n"
     ]
    }
   ],
   "source": [
    "l = [36, 45, 58, 3, 74, 96, 64, 45, 31, 10, 24, 19, 33, 86, 99, 18, 63, 70, 85,\n",
    " 85, 63, 47, 56, 42, 70, 84, 88, 55, 20, 54, 8, 56, 51, 79, 81, 57, 37, 91,\n",
    " 1, 84, 84, 36, 66, 9, 89, 50, 42, 91, 50, 95, 90, 98, 39, 16, 82, 31, 92, 41,\n",
    " 45, 30, 66, 70, 34, 85, 94, 5, 3, 36, 72, 91, 84, 34, 87, 75, 53, 51, 20, 89, 51, 20]\n",
    "\n",
    "def unique(list):\n",
    "    a=[]\n",
    "    cont=0\n",
    "    for i in list:\n",
    "        if i not in a:\n",
    "            a.append(i)\n",
    "    for i in a:\n",
    "        if list.count(i)==1:\n",
    "            print(i,\"is a unique number\")\n",
    "            cont+=1\n",
    "    print (\"There are\",cont,\"unique numbers\")\n",
    "unique(l)"
   ]
  },
  {
   "cell_type": "markdown",
   "metadata": {},
   "source": [
    "Do the same without using user-defined functions, but exploiting only the Python data structures."
   ]
  },
  {
   "cell_type": "code",
   "execution_count": 23,
   "metadata": {},
   "outputs": [
    {
     "name": "stdout",
     "output_type": "stream",
     "text": [
      "58 is a unique number\n",
      "74 is a unique number\n",
      "96 is a unique number\n",
      "64 is a unique number\n",
      "10 is a unique number\n",
      "24 is a unique number\n",
      "19 is a unique number\n",
      "33 is a unique number\n",
      "86 is a unique number\n",
      "99 is a unique number\n",
      "18 is a unique number\n",
      "47 is a unique number\n",
      "88 is a unique number\n",
      "55 is a unique number\n",
      "54 is a unique number\n",
      "8 is a unique number\n",
      "79 is a unique number\n",
      "81 is a unique number\n",
      "57 is a unique number\n",
      "37 is a unique number\n",
      "1 is a unique number\n",
      "9 is a unique number\n",
      "95 is a unique number\n",
      "90 is a unique number\n",
      "98 is a unique number\n",
      "39 is a unique number\n",
      "16 is a unique number\n",
      "82 is a unique number\n",
      "92 is a unique number\n",
      "41 is a unique number\n",
      "30 is a unique number\n",
      "94 is a unique number\n",
      "5 is a unique number\n",
      "72 is a unique number\n",
      "87 is a unique number\n",
      "75 is a unique number\n",
      "53 is a unique number\n",
      "There are 37 unique numbers\n"
     ]
    }
   ],
   "source": [
    "#without user-defined functions\n",
    "\n",
    "l = [36, 45, 58, 3, 74, 96, 64, 45, 31, 10, 24, 19, 33, 86, 99, 18, 63, 70, 85,\n",
    " 85, 63, 47, 56, 42, 70, 84, 88, 55, 20, 54, 8, 56, 51, 79, 81, 57, 37, 91,\n",
    " 1, 84, 84, 36, 66, 9, 89, 50, 42, 91, 50, 95, 90, 98, 39, 16, 82, 31, 92, 41,\n",
    " 45, 30, 66, 70, 34, 85, 94, 5, 3, 36, 72, 91, 84, 34, 87, 75, 53, 51, 20, 89, 51, 20]\n",
    "\n",
    "a=[]\n",
    "cont=0\n",
    "for i in l:\n",
    "    if i not in a:\n",
    "        a.append(i)\n",
    "for i in a:\n",
    "    if l.count(i)==1:\n",
    "        print(i,\"is a unique number\")\n",
    "        cont+=1\n",
    "print (\"There are\",cont,\"unique numbers\")"
   ]
  },
  {
   "cell_type": "markdown",
   "metadata": {},
   "source": [
    "6\\. Combination of functions\n",
    "\n",
    "Write two functions - one that returns the square of a number, and one that returns the cube. Now write a third function that returns the number raised to the 6th power using the two previous functions."
   ]
  },
  {
   "cell_type": "code",
   "execution_count": 24,
   "metadata": {},
   "outputs": [
    {
     "data": {
      "text/plain": [
       "64"
      ]
     },
     "execution_count": 24,
     "metadata": {},
     "output_type": "execute_result"
    }
   ],
   "source": [
    "def pow2(a):\n",
    "    return a**2\n",
    "def pow3 (b):\n",
    "    return b**3\n",
    "def pow6 (c):\n",
    "    return pow2(pow3(c))\n",
    "pow6(2)"
   ]
  },
  {
   "cell_type": "markdown",
   "metadata": {},
   "source": [
    "7\\. Cubes\n",
    "\n",
    "Create a list of the cubes of x for x in *[0, 10]* using:\n",
    "\n",
    "a) a for loop\n",
    "\n",
    "b) a list comprehension"
   ]
  },
  {
   "cell_type": "code",
   "execution_count": 26,
   "metadata": {},
   "outputs": [
    {
     "name": "stdout",
     "output_type": "stream",
     "text": [
      "[0, 1, 8, 27, 64, 125, 216, 343, 512, 729, 1000]\n",
      "[0, 1, 8, 27, 64, 125, 216, 343, 512, 729, 1000]\n"
     ]
    }
   ],
   "source": [
    "#with a for loop\n",
    "l=[]\n",
    "for i in range(0,11):\n",
    "    l.append(i**3)\n",
    "print(l)\n",
    "\n",
    "#with a list comprehension\n",
    "l2 = [x**3 for x in range(0,11)]\n",
    "print (l2)"
   ]
  },
  {
   "cell_type": "markdown",
   "metadata": {},
   "source": [
    "8\\. Nested list comprehension\n",
    "\n",
    "A Pythagorean triple is an integer solution to the Pythagorean theorem $a^2+b^2=c^2$. The first Pythagorean triple is (3,4,5). Find and put in a tuple all unique Pythagorean triples for the positive integers a, b and c less than 100."
   ]
  },
  {
   "cell_type": "code",
   "execution_count": 27,
   "metadata": {},
   "outputs": [
    {
     "name": "stdout",
     "output_type": "stream",
     "text": [
      "[[3, 4, 5], [4, 3, 5], [5, 12, 13], [6, 8, 10], [7, 24, 25], [8, 6, 10], [8, 15, 17], [9, 12, 15], [9, 40, 41], [10, 24, 26], [11, 60, 61], [12, 5, 13], [12, 9, 15], [12, 16, 20], [12, 35, 37], [13, 84, 85], [14, 48, 50], [15, 8, 17], [15, 20, 25], [15, 36, 39], [16, 12, 20], [16, 30, 34], [16, 63, 65], [18, 24, 30], [18, 80, 82], [20, 15, 25], [20, 21, 29], [20, 48, 52], [21, 20, 29], [21, 28, 35], [21, 72, 75], [24, 7, 25], [24, 10, 26], [24, 18, 30], [24, 32, 40], [24, 45, 51], [24, 70, 74], [25, 60, 65], [27, 36, 45], [28, 21, 35], [28, 45, 53], [28, 96, 100], [30, 16, 34], [30, 40, 50], [30, 72, 78], [32, 24, 40], [32, 60, 68], [33, 44, 55], [33, 56, 65], [35, 12, 37], [35, 84, 91], [36, 15, 39], [36, 27, 45], [36, 48, 60], [36, 77, 85], [39, 52, 65], [39, 80, 89], [40, 9, 41], [40, 30, 50], [40, 42, 58], [40, 75, 85], [42, 40, 58], [42, 56, 70], [44, 33, 55], [45, 24, 51], [45, 28, 53], [45, 60, 75], [48, 14, 50], [48, 20, 52], [48, 36, 60], [48, 55, 73], [48, 64, 80], [51, 68, 85], [52, 39, 65], [54, 72, 90], [55, 48, 73], [56, 33, 65], [56, 42, 70], [57, 76, 95], [60, 11, 61], [60, 25, 65], [60, 32, 68], [60, 45, 75], [60, 63, 87], [60, 80, 100], [63, 16, 65], [63, 60, 87], [64, 48, 80], [65, 72, 97], [68, 51, 85], [70, 24, 74], [72, 21, 75], [72, 30, 78], [72, 54, 90], [72, 65, 97], [75, 40, 85], [76, 57, 95], [77, 36, 85], [80, 18, 82], [80, 39, 89], [80, 60, 100], [84, 13, 85], [84, 35, 91], [96, 28, 100]]\n"
     ]
    }
   ],
   "source": [
    "print([[a,b,c] for a in range(1,101) for b in range(1,101) for c in range(1,101) if a**2+b**2==c**2])"
   ]
  },
  {
   "cell_type": "markdown",
   "metadata": {},
   "source": [
    "9\\. Normalization\n",
    "\n",
    "Write a function that takes a tuple of numbers and returns it with the entries normalized to one"
   ]
  },
  {
   "cell_type": "code",
   "execution_count": 30,
   "metadata": {},
   "outputs": [
    {
     "name": "stdout",
     "output_type": "stream",
     "text": [
      "[0.3333333333333333, 0.6666666666666666, 0.6666666666666666]\n"
     ]
    }
   ],
   "source": [
    "import math\n",
    "def norm(l):\n",
    "    tot=0\n",
    "    for i in range(len(l)):\n",
    "        tot+=l[i]**2\n",
    "    for i in range(len(l)):\n",
    "        l[i]=l[i]/math.sqrt(tot)\n",
    "    print(l)\n",
    "    \n",
    "test = [1, 2, 2]\n",
    "\n",
    "norm(test)"
   ]
  },
  {
   "cell_type": "code",
   "execution_count": null,
   "metadata": {},
   "outputs": [],
   "source": []
  }
 ],
 "metadata": {
  "kernelspec": {
   "display_name": "Python 3 (ipykernel)",
   "language": "python",
   "name": "python3"
  },
  "language_info": {
   "codemirror_mode": {
    "name": "ipython",
    "version": 3
   },
   "file_extension": ".py",
   "mimetype": "text/x-python",
   "name": "python",
   "nbconvert_exporter": "python",
   "pygments_lexer": "ipython3",
   "version": "3.9.7"
  }
 },
 "nbformat": 4,
 "nbformat_minor": 2
}
