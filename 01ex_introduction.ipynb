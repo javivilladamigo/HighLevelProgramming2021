{
 "cells": [
  {
   "cell_type": "markdown",
   "metadata": {},
   "source": [
    "1. The HelloWorld replacement\n",
    "\n",
    "a) Write a program that prints the numbers from 1 to 100. But for multiples of three print \"Hello\" instead of the number and for the multiples of five print \"World\". For numbers which are multiples of both three and five print \"HelloWorld\".\n",
    "\n",
    "b) Put the result in a tuple and substitute \"Hello\" with \"Python\" and \"World\" with \"Works\"."
   ]
  },
  {
   "cell_type": "code",
   "execution_count": 122,
   "metadata": {},
   "outputs": [
    {
     "name": "stdout",
     "output_type": "stream",
     "text": [
      "1\n",
      "2\n",
      "3 Hello\n",
      "4\n",
      "5 world\n",
      "6 Hello\n",
      "7\n",
      "8\n",
      "9 Hello\n",
      "10 world\n",
      "11\n",
      "12 Hello\n",
      "13\n",
      "14\n",
      "15 HelloWorld\n",
      "16\n",
      "17\n",
      "18 Hello\n",
      "19\n",
      "20 world\n",
      "21 Hello\n",
      "22\n",
      "23\n",
      "24 Hello\n",
      "25 world\n",
      "26\n",
      "27 Hello\n",
      "28\n",
      "29\n",
      "30 HelloWorld\n",
      "31\n",
      "32\n",
      "33 Hello\n",
      "34\n",
      "35 world\n",
      "36 Hello\n",
      "37\n",
      "38\n",
      "39 Hello\n",
      "40 world\n",
      "41\n",
      "42 Hello\n",
      "43\n",
      "44\n",
      "45 HelloWorld\n",
      "46\n",
      "47\n",
      "48 Hello\n",
      "49\n",
      "50 world\n",
      "51 Hello\n",
      "52\n",
      "53\n",
      "54 Hello\n",
      "55 world\n",
      "56\n",
      "57 Hello\n",
      "58\n",
      "59\n",
      "60 HelloWorld\n",
      "61\n",
      "62\n",
      "63 Hello\n",
      "64\n",
      "65 world\n",
      "66 Hello\n",
      "67\n",
      "68\n",
      "69 Hello\n",
      "70 world\n",
      "71\n",
      "72 Hello\n",
      "73\n",
      "74\n",
      "75 HelloWorld\n",
      "76\n",
      "77\n",
      "78 Hello\n",
      "79\n",
      "80 world\n",
      "81 Hello\n",
      "82\n",
      "83\n",
      "84 Hello\n",
      "85 world\n",
      "86\n",
      "87 Hello\n",
      "88\n",
      "89\n",
      "90 HelloWorld\n",
      "91\n",
      "92\n",
      "93 Hello\n",
      "94\n",
      "95 world\n",
      "96 Hello\n",
      "97\n",
      "98\n",
      "99 Hello\n",
      "100 world\n"
     ]
    }
   ],
   "source": [
    "# 1a)\n",
    "for i in range(1,101):\n",
    "    if i % 3 == 0 and i % 5 == 0:\n",
    "        print(i,\"HelloWorld\")\n",
    "    elif i % 5 == 0:\n",
    "        print(i,\"world\")\n",
    "    elif i % 3 == 0 and i % 5 != 0:\n",
    "        print(i,\"Hello\")\n",
    "    else:\n",
    "         print(i)\n"
   ]
  },
  {
   "cell_type": "code",
   "execution_count": 123,
   "metadata": {},
   "outputs": [
    {
     "name": "stdout",
     "output_type": "stream",
     "text": [
      "(0, 1, 2, 'Python', 4, 'works', 'Python', 7, 8, 'Python', 'works', 11, 'Python', 13, 14, 'Hello World', 16, 17, 'Python', 19, 'works', 'Python', 22, 23, 'Python', 'works', 26, 'Python', 28, 29, 'Hello World', 31, 32, 'Python', 34, 'works', 'Python', 37, 38, 'Python', 'works', 41, 'Python', 43, 44, 'Hello World', 46, 47, 'Python', 49, 'works', 'Python', 52, 53, 'Python', 'works', 56, 'Python', 58, 59, 'Hello World', 61, 62, 'Python', 64, 'works', 'Python', 67, 68, 'Python', 'works', 71, 'Python', 73, 74, 'Hello World', 76, 77, 'Python', 79, 'works', 'Python', 82, 83, 'Python', 'works', 86, 'Python', 88, 89, 'Hello World', 91, 92, 'Python', 94, 'works', 'Python', 97, 98, 'Python', 'works')\n"
     ]
    }
   ],
   "source": [
    "# 1b)\n",
    "a_list = [n for n in range(0,101)]\n",
    "for i in range(1,101):\n",
    "    if i % 3 == 0 and i % 5 == 0:\n",
    "        a_list[i] = \"Hello World\"\n",
    "    elif i % 5 == 0:\n",
    "        a_list[i] = \"world\"\n",
    "    elif i % 3 == 0 and i % 5 != 0:\n",
    "        a_list[i] = \"Hello\"\n",
    "    else:\n",
    "        a_list[i] = i\n",
    "\n",
    "for n, i in enumerate(a_list):\n",
    "    if i == \"Hello\":\n",
    "        a_list[n] = \"Python\"\n",
    "    elif i == \"world\":\n",
    "        a_list[n] = \"works\"\n",
    "\n",
    "a_tuple = tuple(a_list)\n",
    "\n",
    "print(a_tuple)"
   ]
  },
  {
   "cell_type": "markdown",
   "metadata": {},
   "source": [
    "2\\. The swap function\n",
    "\n",
    "Write a function that swap the values of two input variables x and y (whatever the type). Try to do that also without a temporary variable"
   ]
  },
  {
   "cell_type": "code",
   "execution_count": 129,
   "metadata": {},
   "outputs": [
    {
     "name": "stdout",
     "output_type": "stream",
     "text": [
      "Initial particle x is Neutrino\n",
      "Initial particle y is Boson\n",
      "Swapped particle x is Boson\n",
      "Swapped particle y is Neutrino\n",
      "\n",
      "Initial list is [0, 1, 2, 3, 4]\n",
      "Initial list is [5, 6, 7, 8, 9]\n",
      "Swapped list is [5, 6, 7, 8, 9]\n",
      "Swapped list is [0, 1, 2, 3, 4]\n"
     ]
    }
   ],
   "source": [
    "# Version 1 with temporary variable\n",
    "def swap_v1(a,b):\n",
    "    temp = a \n",
    "    a = b \n",
    "    b = temp\n",
    "    return(a,b)\n",
    "\n",
    "x = \"Neutrino\"\n",
    "y = \"Boson\"\n",
    "\n",
    "print('Initial particle x is {0}'.format(x))\n",
    "print('Initial particle y is {0}'.format(y))\n",
    "\n",
    "x,y = swap_v1(x,y)\n",
    "\n",
    "print('Swapped particle x is {0}'.format(x))\n",
    "print('Swapped particle y is {0}\\n'.format(y))\n",
    "\n",
    "# Version 2 without temporary variable\n",
    "def swap_v2(a,b):\n",
    "    a,b = b,a\n",
    "    return(a,b)\n",
    "\n",
    "w = [n for n in range(0,5)]\n",
    "z = [n for n in range(5,10)]\n",
    "\n",
    "print('Initial list is {0}'.format(w))\n",
    "print('Initial list is {0}'.format(z))\n",
    "\n",
    "w,z = swap_v2(w,z)\n",
    "\n",
    "print('Swapped list is {0}'.format(w))\n",
    "print('Swapped list is {0}'.format(z))\n",
    "\n"
   ]
  },
  {
   "cell_type": "markdown",
   "metadata": {},
   "source": [
    "3\\. Computing the distance\n",
    "\n",
    "Write a function that calculates and returns the euclidean distance between two points *u* and *v*, where *u* and *v* are both 2-tuples *(x,y)*. For example, if *u=(3,0)* and *v=(0,4)*, the function should return 5"
   ]
  },
  {
   "cell_type": "code",
   "execution_count": 130,
   "metadata": {},
   "outputs": [
    {
     "data": {
      "text/plain": [
       "5.0"
      ]
     },
     "execution_count": 130,
     "metadata": {},
     "output_type": "execute_result"
    }
   ],
   "source": [
    "def dist(a,b):\n",
    "    if isinstance(a, tuple) and isinstance(b, tuple):\n",
    "        sum = (a[0] - b[0])**2 + (a[1] - b[1])**2\n",
    "        d = sum**0.5\n",
    "        return d\n",
    "    else:\n",
    "        print(\"Input variable is not a tuple\\n\")\n",
    "    \n",
    "u = (3,0)\n",
    "v = (0,4)\n",
    "\n",
    "dist(u,v)\n",
    "\n"
   ]
  },
  {
   "cell_type": "markdown",
   "metadata": {},
   "source": [
    "4\\. Counting letters\n",
    "\n",
    "Write a program to calculate the number of times each character occurs in a given string *s*. Ignore differences in capitalization"
   ]
  },
  {
   "cell_type": "code",
   "execution_count": 132,
   "metadata": {},
   "outputs": [
    {
     "name": "stdout",
     "output_type": "stream",
     "text": [
      "Count of all characters in string is :\n",
      " {'w': 4, 'r': 19, 'i': 12, 't': 19, 'e': 20, ' ': 41, 'a': 7, 'p': 8, 'o': 15, 'g': 1, 'm': 8, 'h': 11, 'n': 10, 's': 7, 'u': 7, 'b': 5, 'f': 10, '1': 2, '0': 2, '.': 3, 'l': 12, 'd': 5, 'v': 2, 'c': 1}\n"
     ]
    }
   ],
   "source": [
    "s = \"Write a program that prints the numbers from 1 to 100. \\\n",
    "But for multiples of three print Hello instead of the number and for the multiples of five print World. \\\n",
    "For numbers which are multiples of both three and five print HelloWorld.\"\n",
    "\n",
    "counts = {}\n",
    "s = s.lower()\n",
    "for i in s:\n",
    "    if i in counts:\n",
    "        counts[i] += 1\n",
    "    else:\n",
    "        counts[i] = 1\n",
    "  \n",
    "print (\"Count of all characters in string is :\\n \" +  str(counts))\n"
   ]
  },
  {
   "cell_type": "markdown",
   "metadata": {},
   "source": [
    "5\\. Isolating the unique\n",
    "\n",
    "Write a function that determines and count the unique numbers in the list:"
   ]
  },
  {
   "cell_type": "code",
   "execution_count": 156,
   "metadata": {},
   "outputs": [
    {
     "name": "stdout",
     "output_type": "stream",
     "text": [
      "Number of unique items in the list are: 54\n"
     ]
    }
   ],
   "source": [
    "def get_unique(list):\n",
    "    unique = []\n",
    "\n",
    "    for number in list:\n",
    "        if number in unique:\n",
    "            continue\n",
    "        else:\n",
    "            unique.append(number)\n",
    "    return len(unique)\n",
    "\n",
    "l = [36, 45, 58, 3, 74, 96, 64, 45, 31, 10, 24, 19, 33, 86, 99, 18, 63, 70, 85,\n",
    "85, 63, 47, 56, 42, 70, 84, 88, 55, 20, 54, 8, 56, 51, 79, 81, 57, 37, 91,\n",
    "1, 84, 84, 36, 66, 9, 89, 50, 42, 91, 50, 95, 90, 98, 39, 16, 82, 31, 92, 41,\n",
    "45, 30, 66, 70, 34, 85, 94, 5, 3, 36, 72, 91, 84, 34, 87, 75, 53, 51, 20, 89, 51, 20]\n",
    "\n",
    "print(\"Number of unique items in the list are:\", get_unique(l))"
   ]
  },
  {
   "cell_type": "markdown",
   "metadata": {},
   "source": [
    "Do the same without using user-defined functions, but exploiting only the Python data structures."
   ]
  },
  {
   "cell_type": "code",
   "execution_count": 133,
   "metadata": {},
   "outputs": [
    {
     "name": "stdout",
     "output_type": "stream",
     "text": [
      "Number of unique items in the list are: 54\n"
     ]
    }
   ],
   "source": [
    "l = [36, 45, 58, 3, 74, 96, 64, 45, 31, 10, 24, 19, 33, 86, 99, 18, 63, 70, 85,\n",
    "85, 63, 47, 56, 42, 70, 84, 88, 55, 20, 54, 8, 56, 51, 79, 81, 57, 37, 91,\n",
    "1, 84, 84, 36, 66, 9, 89, 50, 42, 91, 50, 95, 90, 98, 39, 16, 82, 31, 92, 41,\n",
    "45, 30, 66, 70, 34, 85, 94, 5, 3, 36, 72, 91, 84, 34, 87, 75, 53, 51, 20, 89, 51, 20]\n",
    "\n",
    "# convert list to set\n",
    "new_set = set(l)\n",
    "print(\"Number of unique items in the list are:\", len(new_set))\n"
   ]
  },
  {
   "cell_type": "markdown",
   "metadata": {},
   "source": [
    "6\\. Combination of functions\n",
    "\n",
    "Write two functions - one that returns the square of a number, and one that returns the cube. Now write a third function that returns the number raised to the 6th power using the two previous functions."
   ]
  },
  {
   "cell_type": "code",
   "execution_count": 160,
   "metadata": {},
   "outputs": [
    {
     "name": "stdout",
     "output_type": "stream",
     "text": [
      "2^6 = 32\n"
     ]
    }
   ],
   "source": [
    "def square(x):\n",
    "    return x**2\n",
    "\n",
    "def cube(x):\n",
    "    return x**3\n",
    "\n",
    "def sixth(x):\n",
    "    y = cube(x) * square(x)\n",
    "    return(y)\n",
    "\n",
    "a = 2\n",
    "\n",
    "print(\"{0}^6 = {1}\".format(a,sixth(a)))\n",
    "#print(str(a) + \"^6 = \" + str(sixth(a)))"
   ]
  },
  {
   "cell_type": "markdown",
   "metadata": {},
   "source": [
    "7\\. Cubes\n",
    "\n",
    "Create a list of the cubes of x for x in *[0, 10]* using:\n",
    "\n",
    "a) a for loop\n",
    "\n",
    "b) a list comprehension"
   ]
  },
  {
   "cell_type": "code",
   "execution_count": 171,
   "metadata": {},
   "outputs": [
    {
     "name": "stdout",
     "output_type": "stream",
     "text": [
      "[0, 1, 8, 27, 64, 125, 216, 343, 512, 729, 1000]\n"
     ]
    }
   ],
   "source": [
    "# 7a)\n",
    "\n",
    "def cube(n):\n",
    "    return n**3\n",
    "\n",
    "x = []\n",
    "\n",
    "for i in range(0,11):\n",
    "    x.append(cube(i))\n",
    "\n",
    "print(x)\n"
   ]
  },
  {
   "cell_type": "code",
   "execution_count": 174,
   "metadata": {},
   "outputs": [
    {
     "name": "stdout",
     "output_type": "stream",
     "text": [
      "[0, 1, 8, 27, 64, 125, 216, 343, 512, 729, 1000]\n"
     ]
    }
   ],
   "source": [
    "# 7b)\n",
    "\n",
    "x = [n**3 for n in range(0,11)]\n",
    "\n",
    "print(x)"
   ]
  },
  {
   "cell_type": "markdown",
   "metadata": {},
   "source": [
    "8\\. Nested list comprehension\n",
    "\n",
    "A Pythagorean triple is an integer solution to the Pythagorean theorem $a^2+b^2=c^2$. The first Pythagorean triple is (3,4,5). Find and put in a tuple all unique Pythagorean triples for the positive integers a, b and c less than 100."
   ]
  },
  {
   "cell_type": "code",
   "execution_count": 267,
   "metadata": {},
   "outputs": [
    {
     "name": "stdout",
     "output_type": "stream",
     "text": [
      "((3, 4, 5), (6, 8, 10), (5, 12, 13), (9, 12, 15), (8, 15, 17), (12, 16, 20), (15, 20, 25), (7, 24, 25), (10, 24, 26), (20, 21, 29), (18, 24, 30), (16, 30, 34), (21, 28, 35), (12, 35, 37), (15, 36, 39), (24, 32, 40), (9, 40, 41), (27, 36, 45), (30, 40, 50), (14, 48, 50), (24, 45, 51), (20, 48, 52), (28, 45, 53), (33, 44, 55), (40, 42, 58), (36, 48, 60), (11, 60, 61), (39, 52, 65), (33, 56, 65), (25, 60, 65), (16, 63, 65), (32, 60, 68), (42, 56, 70), (48, 55, 73), (24, 70, 74), (45, 60, 75), (21, 72, 75), (30, 72, 78), (48, 64, 80), (18, 80, 82), (51, 68, 85), (40, 75, 85), (36, 77, 85), (13, 84, 85), (60, 63, 87), (39, 80, 89), (54, 72, 90), (35, 84, 91), (57, 76, 95), (65, 72, 97), (60, 80, 100), (28, 96, 100))\n"
     ]
    }
   ],
   "source": [
    "triplet = [(a, b, c) for c in range(2, 101) for b in range(2, c) for a in range(2, b) if a**2 + b**2 == c**2]\n",
    "triplet = tuple(triplet)\n",
    "print(triplet)\n"
   ]
  },
  {
   "cell_type": "markdown",
   "metadata": {},
   "source": [
    "9\\. Normalization\n",
    "\n",
    "Write a function that takes a tuple of numbers and returns it with the entries normalized to one"
   ]
  },
  {
   "cell_type": "code",
   "execution_count": 1,
   "metadata": {},
   "outputs": [
    {
     "name": "stdout",
     "output_type": "stream",
     "text": [
      "Vector: (1, 3, 4, 2, 4, 9)\n",
      "\n",
      "Normalized vector: (0.1111111111111111, 0.3333333333333333, 0.4444444444444444, 0.2222222222222222, 0.4444444444444444, 1.0)\n",
      "\n"
     ]
    }
   ],
   "source": [
    "def norm(a):\n",
    "    if isinstance(a, tuple):\n",
    "        maximum = max(a)\n",
    "        norm_a = [x/maximum for x in a]\n",
    "        return(norm_a)\n",
    "    else:\n",
    "        print(\"Input variable is not a tuple\\n\")\n",
    "    \n",
    "\n",
    "y = (1,3,4,2,4,9)\n",
    "norm_y = norm(y)\n",
    "\n",
    "tuple_y = tuple(norm_y)\n",
    "\n",
    "print('Vector: {0}\\n'.format(y))\n",
    "print('Normalized vector: {0}\\n'.format(tuple_y))\n"
   ]
  }
 ],
 "metadata": {
  "interpreter": {
   "hash": "aee8b7b246df8f9039afb4144a1f6fd8d2ca17a180786b69acc140d282b71a49"
  },
  "kernelspec": {
   "display_name": "Python 3.8.7 64-bit",
   "name": "python3"
  },
  "language_info": {
   "codemirror_mode": {
    "name": "ipython",
    "version": 3
   },
   "file_extension": ".py",
   "mimetype": "text/x-python",
   "name": "python",
   "nbconvert_exporter": "python",
   "pygments_lexer": "ipython3",
   "version": "3.8.7"
  }
 },
 "nbformat": 4,
 "nbformat_minor": 2
}
