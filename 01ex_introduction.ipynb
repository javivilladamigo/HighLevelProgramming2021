{
 "cells": [
  {
   "cell_type": "markdown",
   "metadata": {},
   "source": [
    "1. The HelloWorld replacement\n",
    "\n",
    "a) Write a program that prints the numbers from 1 to 100. But for multiples of three print \"Hello\" instead of the number and for the multiples of five print \"World\". For numbers which are multiples of both three and five print \"HelloWorld\".\n",
    "\n",
    "b) Put the result in a tuple and substitute \"Hello\" with \"Python\" and \"World\" with \"Works\"."
   ]
  },
  {
   "cell_type": "code",
   "execution_count": 28,
   "metadata": {},
   "outputs": [
    {
     "name": "stdout",
     "output_type": "stream",
     "text": [
      "1\n",
      "2\n",
      "Hello\n",
      "4\n",
      "World\n",
      "Hello\n",
      "7\n",
      "8\n",
      "Hello\n",
      "World\n",
      "11\n",
      "Hello\n",
      "13\n",
      "14\n",
      "HelloWorld\n",
      "16\n",
      "17\n",
      "Hello\n",
      "19\n",
      "World\n",
      "Hello\n",
      "22\n",
      "23\n",
      "Hello\n",
      "World\n",
      "26\n",
      "Hello\n",
      "28\n",
      "29\n",
      "HelloWorld\n",
      "31\n",
      "32\n",
      "Hello\n",
      "34\n",
      "World\n",
      "Hello\n",
      "37\n",
      "38\n",
      "Hello\n",
      "World\n",
      "41\n",
      "Hello\n",
      "43\n",
      "44\n",
      "HelloWorld\n",
      "46\n",
      "47\n",
      "Hello\n",
      "49\n",
      "World\n",
      "Hello\n",
      "52\n",
      "53\n",
      "Hello\n",
      "World\n",
      "56\n",
      "Hello\n",
      "58\n",
      "59\n",
      "HelloWorld\n",
      "61\n",
      "62\n",
      "Hello\n",
      "64\n",
      "World\n",
      "Hello\n",
      "67\n",
      "68\n",
      "Hello\n",
      "World\n",
      "71\n",
      "Hello\n",
      "73\n",
      "74\n",
      "HelloWorld\n",
      "76\n",
      "77\n",
      "Hello\n",
      "79\n",
      "World\n",
      "Hello\n",
      "82\n",
      "83\n",
      "Hello\n",
      "World\n",
      "86\n",
      "Hello\n",
      "88\n",
      "89\n",
      "HelloWorld\n",
      "91\n",
      "92\n",
      "Hello\n",
      "94\n",
      "World\n",
      "Hello\n",
      "97\n",
      "98\n",
      "Hello\n",
      "World\n"
     ]
    }
   ],
   "source": [
    "# ex 1.a\n",
    "\n",
    "for i in range(1,101): \n",
    "    if i%3==0 and i%5==0: \n",
    "        print(\"HelloWorld\")\n",
    "    elif i%3==0: \n",
    "        print(\"Hello\")\n",
    "    elif i%5==0: \n",
    "        print(\"World\")\n",
    "    else: \n",
    "        print(i)"
   ]
  },
  {
   "cell_type": "code",
   "execution_count": 29,
   "metadata": {},
   "outputs": [
    {
     "name": "stdout",
     "output_type": "stream",
     "text": [
      "Original tuple:\n",
      "(1, 2, 'Hello', 4, 'World', 'Hello', 7, 8, 'Hello', 'World', 11, 'Hello', 13, 14, 'HelloWorld', 16, 17, 'Hello', 19, 'World', 'Hello', 22, 23, 'Hello', 'World', 26, 'Hello', 28, 29, 'HelloWorld', 31, 32, 'Hello', 34, 'World', 'Hello', 37, 38, 'Hello', 'World', 41, 'Hello', 43, 44, 'HelloWorld', 46, 47, 'Hello', 49, 'World', 'Hello', 52, 53, 'Hello', 'World', 56, 'Hello', 58, 59, 'HelloWorld', 61, 62, 'Hello', 64, 'World', 'Hello', 67, 68, 'Hello', 'World', 71, 'Hello', 73, 74, 'HelloWorld', 76, 77, 'Hello', 79, 'World', 'Hello', 82, 83, 'Hello', 'World', 86, 'Hello', 88, 89, 'HelloWorld', 91, 92, 'Hello', 94, 'World', 'Hello', 97, 98, 'Hello', 'World')\n",
      "Modified tuple:\n",
      "(1, 2, 'Python', 4, 'Works', 'Python', 7, 8, 'Python', 'Works', 11, 'Python', 13, 14, 'HelloWorld', 16, 17, 'Python', 19, 'Works', 'Python', 22, 23, 'Python', 'Works', 26, 'Python', 28, 29, 'HelloWorld', 31, 32, 'Python', 34, 'Works', 'Python', 37, 38, 'Python', 'Works', 41, 'Python', 43, 44, 'HelloWorld', 46, 47, 'Python', 49, 'Works', 'Python', 52, 53, 'Python', 'Works', 56, 'Python', 58, 59, 'HelloWorld', 61, 62, 'Python', 64, 'Works', 'Python', 67, 68, 'Python', 'Works', 71, 'Python', 73, 74, 'HelloWorld', 76, 77, 'Python', 79, 'Works', 'Python', 82, 83, 'Python', 'Works', 86, 'Python', 88, 89, 'HelloWorld', 91, 92, 'Python', 94, 'Works', 'Python', 97, 98, 'Python', 'Works')\n"
     ]
    }
   ],
   "source": [
    "# ex 1.b\n",
    "\n",
    "mylist = tuple([\"HelloWorld\" if i%15==0 else \"Hello\" if i%3==0 else \"World\" if i%5==0 else i for i in range(1,101)])\n",
    "print(\"Original tuple:\\n\" + str(mylist))\n",
    "list(mylist)\n",
    "mylist = tuple([\"Python\" if i==\"Hello\" else \"Works\" if i==\"World\" else i for i in mylist])\n",
    "print(\"Modified tuple:\\n\" + str(mylist))"
   ]
  },
  {
   "cell_type": "markdown",
   "metadata": {},
   "source": [
    "2\\. The swap function\n",
    "\n",
    "Write a function that swap the values of two input variables x and y (whatever the type). Try to do that also without a temporary variable"
   ]
  },
  {
   "cell_type": "code",
   "execution_count": 30,
   "metadata": {},
   "outputs": [
    {
     "name": "stdout",
     "output_type": "stream",
     "text": [
      "Original values: x=2, y=3\n",
      "Swapped values: x=3, y=2\n",
      "\n",
      "Original values: w=5, z=4\n",
      "Swapped values: w=4, z=5\n"
     ]
    }
   ],
   "source": [
    "# ex 2\n",
    "\n",
    "x, y = 2, 3\n",
    "def myswap() :\n",
    "    \"\"\"Swap function with local variables\"\"\"\n",
    "    global x, y\n",
    "    temp = x\n",
    "    x = y\n",
    "    y = temp\n",
    "print(\"Original values: x=\" + str(x) + \", y=\" + str(y))\n",
    "myswap()\n",
    "print(\"Swapped values: x=\" + str(x) + \", y=\" + str(y))\n",
    "\n",
    "\n",
    "w, z = 4, 5\n",
    "def myswap2():\n",
    "    \"\"\"Swap function without local variables\"\"\"\n",
    "    global w, z\n",
    "    w, z = z, w\n",
    "myswap2()\n",
    "print(\"\\nOriginal values: w=\" + str(w) + \", z=\" + str(z))\n",
    "myswap2()\n",
    "print(\"Swapped values: w=\" + str(w) + \", z=\" + str(z))"
   ]
  },
  {
   "cell_type": "markdown",
   "metadata": {},
   "source": [
    "3\\. Computing the distance\n",
    "\n",
    "Write a function that calculates and returns the euclidean distance between two points *u* and *v*, where *u* and *v* are both 2-tuples *(x,y)*. For example, if *u=(3,0)* and *v=(0,4)*, the function should return 5"
   ]
  },
  {
   "cell_type": "code",
   "execution_count": 31,
   "metadata": {},
   "outputs": [
    {
     "name": "stdout",
     "output_type": "stream",
     "text": [
      "The distance between u and v is: 5.0\n"
     ]
    }
   ],
   "source": [
    "# ex 3\n",
    "\n",
    "from math import sqrt \n",
    "\n",
    "u, v = (3,0), (0,4)\n",
    "\n",
    "def distance(u, v):\n",
    "    \"\"\"Function to calculate the distance between two points u and v\"\"\"\n",
    "    d = sqrt((u[1] - v[1])**2 + (u[0] - v[0])**2)\n",
    "    return d\n",
    "    \n",
    "print(\"The distance between u and v is:\", distance(u, v))"
   ]
  },
  {
   "cell_type": "markdown",
   "metadata": {},
   "source": [
    "4\\. Counting letters\n",
    "\n",
    "Write a program to calculate the number of times each character occurs in a given string *s*. Ignore differences in capitalization"
   ]
  },
  {
   "cell_type": "code",
   "execution_count": 32,
   "metadata": {},
   "outputs": [
    {
     "name": "stdout",
     "output_type": "stream",
     "text": [
      "t -> 19\n",
      "e -> 20\n",
      "1 -> 2\n",
      "r -> 19\n",
      "h -> 11\n",
      "c -> 1\n",
      "g -> 1\n",
      "f -> 10\n",
      "w -> 4\n",
      "o -> 15\n",
      "u -> 7\n",
      "a -> 7\n",
      "0 -> 2\n",
      "v -> 2\n",
      "i -> 12\n",
      ". -> 3\n",
      "n -> 10\n",
      "m -> 8\n",
      "s -> 7\n",
      "d -> 5\n",
      "l -> 12\n",
      "  -> 41\n",
      "b -> 5\n",
      "p -> 8\n"
     ]
    }
   ],
   "source": [
    "# ex 4\n",
    "\n",
    "s = \"Write a program that prints the numbers from 1 to 100. \\\n",
    "But for multiples of three print Hello instead of the number and for the multiples of five print World. \\\n",
    "For numbers which are multiples of both three and five print HelloWorld.\"\n",
    "\n",
    "for i in set(s.lower()): \n",
    "    print(i, \"->\", s.lower().count(i))"
   ]
  },
  {
   "cell_type": "markdown",
   "metadata": {},
   "source": [
    "5\\. Isolating the unique\n",
    "\n",
    "Write a function that determines and count the unique numbers in the list:"
   ]
  },
  {
   "cell_type": "code",
   "execution_count": 33,
   "metadata": {},
   "outputs": [
    {
     "name": "stdout",
     "output_type": "stream",
     "text": [
      "The unique numbers are:  37\n",
      "The list of unique numbers is:  [1, 5, 8, 9, 10, 16, 18, 19, 24, 30, 33, 37, 39, 41, 47, 53, 54, 55, 57, 58, 64, 72, 74, 75, 79, 81, 82, 86, 87, 88, 90, 92, 94, 95, 96, 98, 99]\n"
     ]
    }
   ],
   "source": [
    "# ex 5.a\n",
    "\n",
    "l = [36, 45, 58, 3, 74, 96, 64, 45, 31, 10, 24, 19, 33, 86, 99, 18, 63, 70, 85,\n",
    " 85, 63, 47, 56, 42, 70, 84, 88, 55, 20, 54, 8, 56, 51, 79, 81, 57, 37, 91,\n",
    " 1, 84, 84, 36, 66, 9, 89, 50, 42, 91, 50, 95, 90, 98, 39, 16, 82, 31, 92, 41,\n",
    " 45, 30, 66, 70, 34, 85, 94, 5, 3, 36, 72, 91, 84, 34, 87, 75, 53, 51, 20, 89, 51, 20]\n",
    "\n",
    "def myunique(l):\n",
    "    \"\"\"Function returning the number and the list of unique numbers\"\"\"\n",
    "    unique=[]\n",
    "    for i in set(l):\n",
    "        counter = 0\n",
    "        for j in l: \n",
    "            if j==i: \n",
    "                counter+=1\n",
    "        if(counter==1): \n",
    "            unique.append(i)\n",
    "    print(\"The unique numbers are: \", len(unique))\n",
    "    print(\"The list of unique numbers is: \", unique)\n",
    "\n",
    "myunique(l)"
   ]
  },
  {
   "cell_type": "markdown",
   "metadata": {},
   "source": [
    "Do the same without using user-defined functions, but exploiting only the Python data structures."
   ]
  },
  {
   "cell_type": "code",
   "execution_count": 34,
   "metadata": {},
   "outputs": [
    {
     "name": "stdout",
     "output_type": "stream",
     "text": [
      "The unique numbers are: 37\n",
      "The list of unique numbers is: [1, 5, 8, 9, 10, 16, 18, 19, 24, 30, 33, 37, 39, 41, 47, 53, 54, 55, 57, 58, 64, 72, 74, 75, 79, 81, 82, 86, 87, 88, 90, 92, 94, 95, 96, 98, 99]\n"
     ]
    }
   ],
   "source": [
    "# ex 5.b\n",
    "\n",
    "l = [36, 45, 58, 3, 74, 96, 64, 45, 31, 10, 24, 19, 33, 86, 99, 18, 63, 70, 85,\n",
    " 85, 63, 47, 56, 42, 70, 84, 88, 55, 20, 54, 8, 56, 51, 79, 81, 57, 37, 91,\n",
    " 1, 84, 84, 36, 66, 9, 89, 50, 42, 91, 50, 95, 90, 98, 39, 16, 82, 31, 92, 41,\n",
    " 45, 30, 66, 70, 34, 85, 94, 5, 3, 36, 72, 91, 84, 34, 87, 75, 53, 51, 20, 89, 51, 20]\n",
    "\n",
    "def myunique(l):\n",
    "    \"\"\"Function returning the number and the list of unique numbers using Python data structures\"\"\"\n",
    "    unique = [i for i in l if l.count(i)==1]\n",
    "    unique.sort()\n",
    "    print(\"The unique numbers are:\", len(unique))\n",
    "    print(\"The list of unique numbers is:\", unique)\n",
    "\n",
    "myunique(l)"
   ]
  },
  {
   "cell_type": "markdown",
   "metadata": {},
   "source": [
    "6\\. Combination of functions\n",
    "\n",
    "Write two functions - one that returns the square of a number, and one that returns the cube. Now write a third function that returns the number raised to the 6th power using the two previous functions."
   ]
  },
  {
   "cell_type": "code",
   "execution_count": 35,
   "metadata": {},
   "outputs": [
    {
     "name": "stdout",
     "output_type": "stream",
     "text": [
      "Number: 2 \n",
      "Square: 4 \n",
      "Cube: 8 \n",
      "Sixth power: 64\n"
     ]
    }
   ],
   "source": [
    "# ex 6\n",
    "\n",
    "x = 2\n",
    "\n",
    "def square(x):\n",
    "    \"\"\"Function returning the square of the input\"\"\"\n",
    "    return x**2\n",
    "def cube(x):\n",
    "    \"\"\"Function returning the cube of the input\"\"\"\n",
    "    return x**3\n",
    "def sixth(x):\n",
    "    \"\"\"Function returning the sixth power of the input\"\"\"\n",
    "    return square(cube(x))\n",
    "\n",
    "print(\"Number: {0} \\nSquare: {1} \\nCube: {2} \\nSixth power: {3}\".format(x, square(x), cube(x), sixth(x)))"
   ]
  },
  {
   "cell_type": "markdown",
   "metadata": {},
   "source": [
    "7\\. Cubes\n",
    "\n",
    "Create a list of the cubes of x for x in *[0, 10]* using:\n",
    "\n",
    "a) a for loop\n",
    "\n",
    "b) a list comprehension"
   ]
  },
  {
   "cell_type": "code",
   "execution_count": 36,
   "metadata": {},
   "outputs": [
    {
     "name": "stdout",
     "output_type": "stream",
     "text": [
      "Cubes of x for x in [0,10]: [0, 1, 8, 27, 64, 125, 216, 343, 512, 729, 1000]\n"
     ]
    }
   ],
   "source": [
    "# ex 7.a\n",
    "\n",
    "# using the function 'cube' decleared in the previous block of code\n",
    "mycubes = []\n",
    "for i in range (11):\n",
    "    mycubes.append(cube(i))\n",
    "print(\"Cubes of x for x in [0,10]:\", mycubes)"
   ]
  },
  {
   "cell_type": "code",
   "execution_count": 37,
   "metadata": {},
   "outputs": [
    {
     "name": "stdout",
     "output_type": "stream",
     "text": [
      "Cubes of x for x in [0,10]: [0, 1, 8, 27, 64, 125, 216, 343, 512, 729, 1000]\n"
     ]
    }
   ],
   "source": [
    "# ex 7.b\n",
    "\n",
    "# using the function 'cube' decleared in the previous block of code\n",
    "my_cubes = [cube(i) for i in range(11)] \n",
    "print(\"Cubes of x for x in [0,10]:\", my_cubes)"
   ]
  },
  {
   "cell_type": "markdown",
   "metadata": {},
   "source": [
    "8\\. Nested list comprehension\n",
    "\n",
    "A Pythagorean triple is an integer solution to the Pythagorean theorem $a^2+b^2=c^2$. The first Pythagorean triple is (3,4,5). Find and put in a tuple all unique Pythagorean triples for the positive integers a, b and c less than 100."
   ]
  },
  {
   "cell_type": "code",
   "execution_count": 38,
   "metadata": {},
   "outputs": [
    {
     "name": "stdout",
     "output_type": "stream",
     "text": [
      "((3, 4, 5), (5, 12, 13), (6, 8, 10), (7, 24, 25), (8, 15, 17), (9, 12, 15), (9, 40, 41), (10, 24, 26), (11, 60, 61), (12, 16, 20), (12, 35, 37), (13, 84, 85), (14, 48, 50), (15, 20, 25), (15, 36, 39), (16, 30, 34), (16, 63, 65), (18, 24, 30), (18, 80, 82), (20, 21, 29), (20, 48, 52), (21, 28, 35), (21, 72, 75), (24, 32, 40), (24, 45, 51), (24, 70, 74), (25, 60, 65), (27, 36, 45), (28, 45, 53), (28, 96, 100), (30, 40, 50), (30, 72, 78), (32, 60, 68), (33, 44, 55), (33, 56, 65), (35, 84, 91), (36, 48, 60), (36, 77, 85), (39, 52, 65), (39, 80, 89), (40, 42, 58), (40, 75, 85), (42, 56, 70), (45, 60, 75), (48, 55, 73), (48, 64, 80), (51, 68, 85), (54, 72, 90), (57, 76, 95), (60, 63, 87), (60, 80, 100), (65, 72, 97))\n"
     ]
    }
   ],
   "source": [
    "# ex 8\n",
    "\n",
    "# permutated triples are considered equivalent, e.g. {(3,4,5), (4,3,5)} -> {(3,4,5)}\n",
    "pytha = tuple([(a, b, c) for a in range(101) for b in range (a+1, 101) for c in range (b+1, 101) if a**2 + b**2 == c**2])\n",
    "print(pytha)"
   ]
  },
  {
   "cell_type": "markdown",
   "metadata": {},
   "source": [
    "9\\. Normalization\n",
    "\n",
    "Write a function that takes a tuple of numbers and returns it with the entries normalized to one"
   ]
  },
  {
   "cell_type": "code",
   "execution_count": 39,
   "metadata": {},
   "outputs": [
    {
     "name": "stdout",
     "output_type": "stream",
     "text": [
      "Original vector: (1, 2, 3, 4, 5, 6, 7, 8, 9, 10)\n",
      "Normalized vector: (0.050964719143762556, 0.10192943828752511, 0.15289415743128767, 0.20385887657505022, 0.2548235957188128, 0.30578831486257535, 0.3567530340063379, 0.40771775315010045, 0.458682472293863, 0.5096471914376256)\n"
     ]
    }
   ],
   "source": [
    "# ex 9\n",
    "\n",
    "vector = (1,2,3,4,5,6,7,8,9,10)\n",
    "\n",
    "def norm(vector):\n",
    "    k = sum(map(lambda x: x*x, vector))\n",
    "    nvector = tuple([i/sqrt(k) for i in vector])\n",
    "    return(nvector)\n",
    "\n",
    "print(\"Original vector:\", vector)\n",
    "print(\"Normalized vector:\", norm(vector))"
   ]
  }
 ],
 "metadata": {
  "interpreter": {
   "hash": "31f2aee4e71d21fbe5cf8b01ff0e069b9275f58929596ceb00d14d90e3e16cd6"
  },
  "kernelspec": {
   "display_name": "Python 3.8.9 64-bit",
   "name": "python3"
  },
  "language_info": {
   "codemirror_mode": {
    "name": "ipython",
    "version": 3
   },
   "file_extension": ".py",
   "mimetype": "text/x-python",
   "name": "python",
   "nbconvert_exporter": "python",
   "pygments_lexer": "ipython3",
   "version": "3.8.9"
  }
 },
 "nbformat": 4,
 "nbformat_minor": 2
}
