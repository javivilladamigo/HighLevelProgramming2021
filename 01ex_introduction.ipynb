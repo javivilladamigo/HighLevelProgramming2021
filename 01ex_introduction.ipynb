{
 "cells": [
  {
   "cell_type": "markdown",
   "metadata": {},
   "source": [
    "1. The HelloWorld replacement\n",
    "\n",
    "a) Write a program that prints the numbers from 1 to 100. But for multiples of three print \"Hello\" instead of the number and for the multiples of five print \"World\". For numbers which are multiples of both three and five print \"HelloWorld\".\n",
    "\n",
    "b) Put the result in a tuple and substitute \"Hello\" with \"Python\" and \"World\" with \"Works\"."
   ]
  },
  {
   "cell_type": "code",
   "execution_count": 1,
   "metadata": {
    "scrolled": false
   },
   "outputs": [
    {
     "name": "stdout",
     "output_type": "stream",
     "text": [
      "1\n",
      "2\n",
      "Hello\n",
      "4\n",
      "World\n",
      "Hello\n",
      "7\n",
      "8\n",
      "Hello\n",
      "World\n",
      "11\n",
      "Hello\n",
      "13\n",
      "14\n",
      "HelloWorld\n",
      "16\n",
      "17\n",
      "Hello\n",
      "19\n",
      "World\n",
      "Hello\n",
      "22\n",
      "23\n",
      "Hello\n",
      "World\n",
      "26\n",
      "Hello\n",
      "28\n",
      "29\n",
      "HelloWorld\n",
      "31\n",
      "32\n",
      "Hello\n",
      "34\n",
      "World\n",
      "Hello\n",
      "37\n",
      "38\n",
      "Hello\n",
      "World\n",
      "41\n",
      "Hello\n",
      "43\n",
      "44\n",
      "HelloWorld\n",
      "46\n",
      "47\n",
      "Hello\n",
      "49\n",
      "World\n",
      "Hello\n",
      "52\n",
      "53\n",
      "Hello\n",
      "World\n",
      "56\n",
      "Hello\n",
      "58\n",
      "59\n",
      "HelloWorld\n",
      "61\n",
      "62\n",
      "Hello\n",
      "64\n",
      "World\n",
      "Hello\n",
      "67\n",
      "68\n",
      "Hello\n",
      "World\n",
      "71\n",
      "Hello\n",
      "73\n",
      "74\n",
      "HelloWorld\n",
      "76\n",
      "77\n",
      "Hello\n",
      "79\n",
      "World\n",
      "Hello\n",
      "82\n",
      "83\n",
      "Hello\n",
      "World\n",
      "86\n",
      "Hello\n",
      "88\n",
      "89\n",
      "HelloWorld\n",
      "91\n",
      "92\n",
      "Hello\n",
      "94\n",
      "World\n",
      "Hello\n",
      "97\n",
      "98\n",
      "Hello\n",
      "World\n",
      "(1, 2, 'Python', 4, 'Works', 'Python', 7, 8, 'Python', 'Works', 11, 'Python', 13, 14, 'PythonWorks', 16, 17, 'Python', 19, 'Works', 'Python', 22, 23, 'Python', 'Works', 26, 'Python', 28, 29, 'PythonWorks', 31, 32, 'Python', 34, 'Works', 'Python', 37, 38, 'Python', 'Works', 41, 'Python', 43, 44, 'PythonWorks', 46, 47, 'Python', 49, 'Works', 'Python', 52, 53, 'Python', 'Works', 56, 'Python', 58, 59, 'PythonWorks', 61, 62, 'Python', 64, 'Works', 'Python', 67, 68, 'Python', 'Works', 71, 'Python', 73, 74, 'PythonWorks', 76, 77, 'Python', 79, 'Works', 'Python', 82, 83, 'Python', 'Works', 86, 'Python', 88, 89, 'PythonWorks', 91, 92, 'Python', 94, 'Works', 'Python', 97, 98, 'Python', 'Works')\n"
     ]
    }
   ],
   "source": [
    "Elemlist=[]                                    #empty list\n",
    "for i in range(1,101):                         #printing conditions\n",
    "    if i%3==0 and i%5==0:\n",
    "        print(\"HelloWorld\")\n",
    "        Elemlist.append(\"HelloWorld\")\n",
    "    elif i%3==0:\n",
    "        print(\"Hello\") \n",
    "        Elemlist.append(\"Hello\")\n",
    "    elif i%5==0:\n",
    "        print(\"World\")\n",
    "        Elemlist.append(\"World\")\n",
    "    else:\n",
    "        print (i)\n",
    "        Elemlist.append(i)\n",
    "\n",
    "for index in range(len(Elemlist)):             #substitution of words\n",
    "    if Elemlist[index]==\"HelloWorld\":\n",
    "        Elemlist[index]=\"PythonWorks\"\n",
    "    elif Elemlist[index]==\"Hello\":\n",
    "        Elemlist[index]=\"Python\"\n",
    "    elif Elemlist[index]==\"World\":\n",
    "        Elemlist[index]=\"Works\"\n",
    "\n",
    "\n",
    "Elemtuple=tuple(Elemlist)                   #put result in tuple\n",
    "print(Elemtuple)\n",
    "     "
   ]
  },
  {
   "cell_type": "markdown",
   "metadata": {},
   "source": [
    "2\\. The swap function\n",
    "\n",
    "Write a function that swap the values of two input variables x and y (whatever the type). Try to do that also without a temporary variable"
   ]
  },
  {
   "cell_type": "code",
   "execution_count": 2,
   "metadata": {},
   "outputs": [
    {
     "name": "stdout",
     "output_type": "stream",
     "text": [
      "with a temporary variable\n",
      "set the value of x: 1\n",
      "set the value of y: 2\n",
      "I'm swapping the values of x and y\n",
      "x is  2\n",
      "y is  1\n",
      "\n",
      "without a temporary variable and local scope\n",
      "set the value of x3\n",
      "set the value of y4\n",
      "x is  4\n",
      "y is  3\n",
      "\n",
      "Using GLOBAL SCOPE and without a temporary variable\n",
      "set the value of x: 5\n",
      "set the value of y: 6\n",
      "before swapping\n",
      "(x,y)= 5 6\n",
      "after swapping\n",
      "(x,y)= 6 5\n"
     ]
    }
   ],
   "source": [
    "print(\"with a temporary variable\")\n",
    "def swap(x,y):\n",
    "    print(\"I'm swapping the values of x and y\")\n",
    "    z=x\n",
    "    x=y\n",
    "    y=z\n",
    "    print(\"x is \", x)\n",
    "    print(\"y is \",y)\n",
    "\n",
    "x = input(\"set the value of x: \")\n",
    "y = input(\"set the value of y: \")\n",
    "swap(x,y)\n",
    "\n",
    "print(\"\\nwithout a temporary variable and local scope\")\n",
    "\n",
    "def swap2(x,y):\n",
    "    x, y = y, x\n",
    "    print(\"x is \", x)\n",
    "    print(\"y is \",y)\n",
    "\n",
    "x = input(\"set the value of x\")\n",
    "y = input(\"set the value of y\")\n",
    "swap2(x,y)\n",
    "\n",
    "print(\"\\nUsing GLOBAL SCOPE and without a temporary variable\")\n",
    "x = input(\"set the value of x: \")\n",
    "y = input(\"set the value of y: \")\n",
    "def swap_global():\n",
    "    global x,y\n",
    "    x,y=y,x\n",
    "\n",
    "print(\"before swapping\")\n",
    "print(\"(x,y)=\",x,y)\n",
    "swap_global()\n",
    "print(\"after swapping\")\n",
    "print(\"(x,y)=\",x,y)\n",
    "\n"
   ]
  },
  {
   "cell_type": "markdown",
   "metadata": {},
   "source": [
    "3\\. Computing the distance\n",
    "\n",
    "Write a function that calculates and returns the euclidean distance between two points *u* and *v*, where *u* and *v* are both 2-tuples *(x,y)*. For example, if *u=(3,0)* and *v=(0,4)*, the function should return 5"
   ]
  },
  {
   "cell_type": "code",
   "execution_count": 3,
   "metadata": {},
   "outputs": [
    {
     "data": {
      "text/plain": [
       "5.0"
      ]
     },
     "execution_count": 3,
     "metadata": {},
     "output_type": "execute_result"
    }
   ],
   "source": [
    "u=(3,0)\n",
    "v=(0,4)\n",
    "def distance(u,v):\n",
    "    return(((u[0]-v[0])**2+(u[1]-v[1])**2)**(1/2))\n",
    "\n",
    "distance(u,v)"
   ]
  },
  {
   "cell_type": "markdown",
   "metadata": {},
   "source": [
    "4\\. Counting letters\n",
    "\n",
    "Write a program to calculate the number of times each character occurs in a given string *s*. Ignore differences in capitalization"
   ]
  },
  {
   "cell_type": "code",
   "execution_count": 4,
   "metadata": {
    "scrolled": true
   },
   "outputs": [
    {
     "name": "stdout",
     "output_type": "stream",
     "text": [
      "w  occurs  4  times\n",
      "r  occurs  19  times\n",
      "i  occurs  12  times\n",
      "t  occurs  19  times\n",
      "e  occurs  20  times\n",
      "   occurs  41  times\n",
      "a  occurs  7  times\n",
      "p  occurs  8  times\n",
      "o  occurs  15  times\n",
      "g  occurs  1  times\n",
      "m  occurs  8  times\n",
      "h  occurs  11  times\n",
      "n  occurs  10  times\n",
      "s  occurs  7  times\n",
      "u  occurs  7  times\n",
      "b  occurs  5  times\n",
      "f  occurs  10  times\n",
      "1  occurs  2  times\n",
      "0  occurs  2  times\n",
      ".  occurs  3  times\n",
      "l  occurs  12  times\n",
      "d  occurs  5  times\n",
      "v  occurs  2  times\n",
      "c  occurs  1  times\n"
     ]
    }
   ],
   "source": [
    "s = \"Write a program that prints the numbers from 1 to 100. \\\n",
    "But for multiples of three print Hello instead of the number and for the multiples of five print World. \\\n",
    "For numbers which are multiples of both three and five print HelloWorld.\"\n",
    "elem_list=[]\n",
    "for index in range(0,len(s)):\n",
    "    if elem_list.count(s.lower()[index])==0:    #if the element is not in the list yet I'll add it\n",
    "        elem_list.append(s[index].lower())      #in the list they are all lower case and unique\n",
    "\n",
    "for index in range(0,len(elem_list)):\n",
    "    print(elem_list[index], \" occurs \", s.lower().count(elem_list[index]),\" times\")\n",
    "    "
   ]
  },
  {
   "cell_type": "markdown",
   "metadata": {},
   "source": [
    "5\\. Isolating the unique\n",
    "\n",
    "Write a function that determines and count the unique numbers in the list:"
   ]
  },
  {
   "cell_type": "code",
   "execution_count": 5,
   "metadata": {},
   "outputs": [
    {
     "name": "stdout",
     "output_type": "stream",
     "text": [
      "\n",
      "Here I didn't understand if I had to  determine the numbers that occur only once or to determine all the numbers without repetitions. I did both\n",
      "\n",
      "The number of unique numbers (the ones that appear only once) in the list is  37\n",
      "The list is the following:  [58, 74, 96, 64, 10, 24, 19, 33, 86, 99, 18, 47, 88, 55, 54, 8, 79, 81, 57, 37, 1, 9, 95, 90, 98, 39, 16, 82, 92, 41, 30, 94, 5, 72, 87, 75, 53]\n",
      "\n",
      "\n",
      "The number of different elements (without repetition) in the list is  54\n",
      "The list is the following:  [36, 45, 58, 3, 74, 96, 64, 31, 10, 24, 19, 33, 86, 99, 18, 63, 70, 85, 47, 56, 42, 84, 88, 55, 20, 54, 8, 51, 79, 81, 57, 37, 91, 1, 66, 9, 89, 50, 95, 90, 98, 39, 16, 82, 92, 41, 30, 34, 94, 5, 72, 87, 75, 53]\n"
     ]
    }
   ],
   "source": [
    "l = [36, 45, 58, 3, 74, 96, 64, 45, 31, 10, 24, 19, 33, 86, 99, 18, 63, 70, 85, \n",
    " 85, 63, 47, 56, 42, 70, 84, 88, 55, 20, 54, 8, 56, 51, 79, 81, 57, 37, 91,\n",
    " 1, 84, 84, 36, 66, 9, 89, 50, 42, 91, 50, 95, 90, 98, 39, 16, 82, 31, 92, 41,\n",
    " 45, 30, 66, 70, 34, 85, 94, 5, 3, 36, 72, 91, 84, 34, 87, 75, 53, 51, 20, 89, 51, 20]\n",
    "\n",
    "print(\"\\nHere I didn't understand if I had to  determine the numbers that occur only once or to determine all the numbers without repetitions. I did both\\n\")\n",
    "#function that counts only the numbers that appear once\n",
    "def counting_unique(l):\n",
    "    un_num=[]                         #list with numbers that appear only once\n",
    "    for i in range(len(l)):\n",
    "        if l.count(l[i])==1:\n",
    "            un_num.append(l[i])\n",
    "    print(\"The number of unique numbers (the ones that appear only once) in the list is \", len(un_num))\n",
    "    print(\"The list is the following: \",un_num)\n",
    "\n",
    "#function that counts once all the numbers appearing in the list without repetition\n",
    "def func2(l):\n",
    "    list2=[]\n",
    "    for i in range(len(l)):\n",
    "        if list2.count(l[i])==0:              #if the list doesn't have the element yet, add it\n",
    "            list2.append(l[i])\n",
    "            #print(l[i])\n",
    "    print(\"The number of different elements (without repetition) in the list is \",len(list2))\n",
    "    print(\"The list is the following: \",list2)\n",
    "\n",
    "counting_unique(l)\n",
    "print(\"\\n\")\n",
    "func2(l)"
   ]
  },
  {
   "cell_type": "markdown",
   "metadata": {},
   "source": [
    "Do the same without using user-defined functions, but exploiting only the Python data structures."
   ]
  },
  {
   "cell_type": "code",
   "execution_count": 6,
   "metadata": {},
   "outputs": [
    {
     "name": "stdout",
     "output_type": "stream",
     "text": [
      "I'm creating a dictionary with number and occurences:\n",
      "{36: 3, 45: 3, 58: 1, 3: 2, 74: 1, 96: 1, 64: 1, 31: 2, 10: 1, 24: 1, 19: 1, 33: 1, 86: 1, 99: 1, 18: 1, 63: 2, 70: 3, 85: 3, 47: 1, 56: 2, 42: 2, 84: 4, 88: 1, 55: 1, 20: 3, 54: 1, 8: 1, 51: 3, 79: 1, 81: 1, 57: 1, 37: 1, 91: 3, 1: 1, 66: 2, 9: 1, 89: 2, 50: 2, 95: 1, 90: 1, 98: 1, 39: 1, 16: 1, 82: 1, 92: 1, 41: 1, 30: 1, 34: 2, 94: 1, 5: 1, 72: 1, 87: 1, 75: 1, 53: 1}\n",
      "The numbers that appear only once are the following\n",
      "[58, 74, 96, 64, 10, 24, 19, 33, 86, 99, 18, 47, 88, 55, 54, 8, 79, 81, 57, 37, 1, 9, 95, 90, 98, 39, 16, 82, 92, 41, 30, 94, 5, 72, 87, 75, 53]\n",
      "The number of elements that appear only once is  37\n",
      "\n",
      " \n",
      "The number of different elements (without repetition) in the list is  54\n",
      "The list is the following:  {1, 3, 5, 8, 9, 10, 16, 18, 19, 20, 24, 30, 31, 33, 34, 36, 37, 39, 41, 42, 45, 47, 50, 51, 53, 54, 55, 56, 57, 58, 63, 64, 66, 70, 72, 74, 75, 79, 81, 82, 84, 85, 86, 87, 88, 89, 90, 91, 92, 94, 95, 96, 98, 99}\n"
     ]
    }
   ],
   "source": [
    "#exploiting the Python data structures\n",
    "l = [36, 45, 58, 3, 74, 96, 64, 45, 31, 10, 24, 19, 33, 86, 99, 18, 63, 70, 85, \n",
    " 85, 63, 47, 56, 42, 70, 84, 88, 55, 20, 54, 8, 56, 51, 79, 81, 57, 37, 91,\n",
    " 1, 84, 84, 36, 66, 9, 89, 50, 42, 91, 50, 95, 90, 98, 39, 16, 82, 31, 92, 41,\n",
    " 45, 30, 66, 70, 34, 85, 94, 5, 3, 36, 72, 91, 84, 34, 87, 75, 53, 51, 20, 89, 51, 20]\n",
    "\n",
    "from collections import Counter\n",
    "dict_counts = dict(Counter(l))             #dictionary with number and occurences\n",
    "onlyonce=[]                                #list with the numbers that occur only once\n",
    "\n",
    "print(\"I'm creating a dictionary with number and occurences:\")\n",
    "print (dict_counts)\n",
    "print(\"The numbers that appear only once are the following\")\n",
    "for key, value in dict_counts.items():\n",
    "    if value == 1:\n",
    "        onlyonce.append(key)\n",
    "print(onlyonce)\n",
    "print(\"The number of elements that appear only once is \",len(onlyonce))\n",
    "\n",
    "\n",
    "\n",
    "\n",
    "#print(length_counts)\n",
    "\n",
    "l_set = set(l)\n",
    "print(\"\\n \\nThe number of different elements (without repetition) in the list is \",len(l_set))\n",
    "print(\"The list is the following: \",l_set)"
   ]
  },
  {
   "cell_type": "markdown",
   "metadata": {},
   "source": [
    "6\\. Combination of functions\n",
    "\n",
    "Write two functions - one that returns the square of a number, and one that returns the cube. Now write a third function that returns the number raised to the 6th power using the two previous functions."
   ]
  },
  {
   "cell_type": "code",
   "execution_count": 7,
   "metadata": {},
   "outputs": [
    {
     "data": {
      "text/plain": [
       "729"
      ]
     },
     "execution_count": 7,
     "metadata": {},
     "output_type": "execute_result"
    }
   ],
   "source": [
    "def square(x):\n",
    "    return x*x\n",
    "def cube(x):\n",
    "    return x*x*x\n",
    "def sixth(x):\n",
    "    return cube(square(x))\n",
    "\n",
    "\n",
    "x=1\n",
    "y=2\n",
    "sixth(3)\n"
   ]
  },
  {
   "cell_type": "markdown",
   "metadata": {},
   "source": [
    "7\\. Cubes\n",
    "\n",
    "Create a list of the cubes of x for x in *[0, 10]* using:\n",
    "\n",
    "a) a for loop\n",
    "\n",
    "b) a list comprehension"
   ]
  },
  {
   "cell_type": "code",
   "execution_count": 8,
   "metadata": {},
   "outputs": [
    {
     "name": "stdout",
     "output_type": "stream",
     "text": [
      "[0, 1, 8, 27, 64, 125, 216, 343, 512, 729, 1000]\n",
      "[0, 1, 8, 27, 64, 125, 216, 343, 512, 729, 1000]\n"
     ]
    }
   ],
   "source": [
    "def cube(x):\n",
    "    return x*x*x\n",
    "# using a for loop\n",
    "cubelist=[]\n",
    "for i in range(11):\n",
    "    cubelist.append(cube(i))\n",
    "print(cubelist)\n",
    "\n",
    "\n",
    "#using list comprehension\n",
    "list2 = [cube(x) for x in range(11)]\n",
    "print (list2)"
   ]
  },
  {
   "cell_type": "markdown",
   "metadata": {},
   "source": [
    "8\\. Nested list comprehension\n",
    "\n",
    "A Pythagorean triple is an integer solution to the Pythagorean theorem $a^2+b^2=c^2$. The first Pythagorean triple is (3,4,5). Find and put in a tuple all unique Pythagorean triples for the positive integers a, b and c less than 100."
   ]
  },
  {
   "cell_type": "code",
   "execution_count": 9,
   "metadata": {},
   "outputs": [
    {
     "name": "stdout",
     "output_type": "stream",
     "text": [
      "((3, 4, 5), (5, 12, 13), (6, 8, 10), (7, 24, 25), (8, 15, 17), (9, 12, 15), (9, 40, 41), (10, 24, 26), (11, 60, 61), (12, 16, 20), (12, 35, 37), (13, 84, 85), (14, 48, 50), (15, 20, 25), (15, 36, 39), (16, 30, 34), (16, 63, 65), (18, 24, 30), (18, 80, 82), (20, 21, 29), (20, 48, 52), (21, 28, 35), (21, 72, 75), (24, 32, 40), (24, 45, 51), (24, 70, 74), (25, 60, 65), (27, 36, 45), (28, 45, 53), (30, 40, 50), (30, 72, 78), (32, 60, 68), (33, 44, 55), (33, 56, 65), (35, 84, 91), (36, 48, 60), (36, 77, 85), (39, 52, 65), (39, 80, 89), (40, 42, 58), (40, 75, 85), (42, 56, 70), (45, 60, 75), (48, 55, 73), (48, 64, 80), (51, 68, 85), (54, 72, 90), (57, 76, 95), (60, 63, 87), (65, 72, 97))\n"
     ]
    }
   ],
   "source": [
    "list2=[(x,y,int((x*x+y*y)**(1/2))) for x in range(1, 100) for y in range(x, 100) if ((x*x+y*y)**(1/2)%1==0 and (x*x+y*y)**(1/2)<100)]\n",
    "tuple2=tuple(list2)\n",
    "print(tuple2)\n",
    "\n"
   ]
  },
  {
   "cell_type": "markdown",
   "metadata": {},
   "source": [
    "9\\. Normalization\n",
    "\n",
    "Write a function that takes a tuple of numbers and returns it with the entries normalized to one"
   ]
  },
  {
   "cell_type": "code",
   "execution_count": 10,
   "metadata": {},
   "outputs": [
    {
     "name": "stdout",
     "output_type": "stream",
     "text": [
      "(0.2, 0.7, 0.3, 0.4, 0.5, 1.0)\n"
     ]
    }
   ],
   "source": [
    "#it normalizes a tuple setting to one the highest value and the others as consequence\n",
    "def normalize(tuple1):\n",
    "    list1=list(tuple1)             #convert the tuple of input into a list\n",
    "    maxval=max(list1)              #find the maximum value\n",
    "    for x in range(len(list1)):\n",
    "        list1[x]=(list1[x]/maxval)        #divide each value of the list by the maxvalue\n",
    "    return tuple(list1)           #transform back into a tuple\n",
    "\n",
    "#test if the function works\n",
    "tuple1=(2,7,3,4,5,10)\n",
    "print(normalize(tuple1))"
   ]
  }
 ],
 "metadata": {
  "kernelspec": {
   "display_name": "Python 3 (ipykernel)",
   "language": "python",
   "name": "python3"
  },
  "language_info": {
   "codemirror_mode": {
    "name": "ipython",
    "version": 3
   },
   "file_extension": ".py",
   "mimetype": "text/x-python",
   "name": "python",
   "nbconvert_exporter": "python",
   "pygments_lexer": "ipython3",
   "version": "3.9.4"
  }
 },
 "nbformat": 4,
 "nbformat_minor": 2
}
