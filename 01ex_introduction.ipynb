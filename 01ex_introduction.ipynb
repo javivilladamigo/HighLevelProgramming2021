{
 "cells": [
  {
   "cell_type": "markdown",
   "metadata": {},
   "source": [
    "1. The HelloWorld replacement\n",
    "\n",
    "a) Write a program that prints the numbers from 1 to 100. But for multiples of three print \"Hello\" instead of the number and for the multiples of five print \"World\". For numbers which are multiples of both three and five print \"HelloWorld\".\n",
    "\n",
    "b) Put the result in a tuple and substitute \"Hello\" with \"Python\" and \"World\" with \"Works\"."
   ]
  },
  {
   "cell_type": "code",
   "execution_count": 63,
   "metadata": {},
   "outputs": [
    {
     "name": "stdout",
     "output_type": "stream",
     "text": [
      "1\n",
      "2\n",
      "('Hello', 'Python')\n",
      "4\n",
      "('World', 'Works')\n",
      "('Hello', 'Python')\n",
      "7\n",
      "8\n",
      "('Hello', 'Python')\n",
      "('World', 'Works')\n",
      "11\n",
      "('Hello', 'Python')\n",
      "13\n",
      "14\n",
      "HelloWorld\n",
      "16\n",
      "17\n",
      "('Hello', 'Python')\n",
      "19\n",
      "('World', 'Works')\n",
      "('Hello', 'Python')\n",
      "22\n",
      "23\n",
      "('Hello', 'Python')\n",
      "('World', 'Works')\n",
      "26\n",
      "('Hello', 'Python')\n",
      "28\n",
      "29\n",
      "HelloWorld\n",
      "31\n",
      "32\n",
      "('Hello', 'Python')\n",
      "34\n",
      "('World', 'Works')\n",
      "('Hello', 'Python')\n",
      "37\n",
      "38\n",
      "('Hello', 'Python')\n",
      "('World', 'Works')\n",
      "41\n",
      "('Hello', 'Python')\n",
      "43\n",
      "44\n",
      "HelloWorld\n",
      "46\n",
      "47\n",
      "('Hello', 'Python')\n",
      "49\n",
      "('World', 'Works')\n",
      "('Hello', 'Python')\n",
      "52\n",
      "53\n",
      "('Hello', 'Python')\n",
      "('World', 'Works')\n",
      "56\n",
      "('Hello', 'Python')\n",
      "58\n",
      "59\n",
      "HelloWorld\n",
      "61\n",
      "62\n",
      "('Hello', 'Python')\n",
      "64\n",
      "('World', 'Works')\n",
      "('Hello', 'Python')\n",
      "67\n",
      "68\n",
      "('Hello', 'Python')\n",
      "('World', 'Works')\n",
      "71\n",
      "('Hello', 'Python')\n",
      "73\n",
      "74\n",
      "HelloWorld\n",
      "76\n",
      "77\n",
      "('Hello', 'Python')\n",
      "79\n",
      "('World', 'Works')\n",
      "('Hello', 'Python')\n",
      "82\n",
      "83\n",
      "('Hello', 'Python')\n",
      "('World', 'Works')\n",
      "86\n",
      "('Hello', 'Python')\n",
      "88\n",
      "89\n",
      "HelloWorld\n",
      "91\n",
      "92\n",
      "('Hello', 'Python')\n",
      "94\n",
      "('World', 'Works')\n",
      "('Hello', 'Python')\n",
      "97\n",
      "98\n",
      "('Hello', 'Python')\n",
      "('World', 'Works')\n"
     ]
    }
   ],
   "source": [
    "for i in range(1,101):\n",
    "    if ((i%5)==0 and (i%3)==0):\n",
    "        a=\"HelloWorld\"\n",
    "    elif (i%5 == 0):\n",
    "        a = (\"World\" , \"Works\")\n",
    "    elif (i%3 ==0):\n",
    "        a = (\"Hello\",\"Python\")\n",
    "    else:\n",
    "        a=i\n",
    "    print(a)\n",
    "        \n"
   ]
  },
  {
   "cell_type": "markdown",
   "metadata": {},
   "source": [
    "2\\. The swap function\n",
    "\n",
    "Write a function that swap the values of two input variables x and y (whatever the type). Try to do that also without a temporary variable"
   ]
  },
  {
   "cell_type": "markdown",
   "metadata": {},
   "source": [
    "3\\. Computing the distance\n",
    "\n",
    "Write a function that calculates and returns the euclidean distance between two points *u* and *v*, where *u* and *v* are both 2-tuples *(x,y)*. For example, if *u=(3,0)* and *v=(0,4)*, the function should return 5"
   ]
  },
  {
   "cell_type": "markdown",
   "metadata": {},
   "source": [
    "4\\. Counting letters\n",
    "\n",
    "Write a program to calculate the number of times each character occurs in a given string *s*. Ignore differences in capitalization"
   ]
  },
  {
   "cell_type": "code",
   "execution_count": 66,
   "metadata": {},
   "outputs": [
    {
     "name": "stdout",
     "output_type": "stream",
     "text": [
      "o  ,  15\n",
      "n  ,  10\n",
      "s  ,  7\n",
      "r  ,  19\n",
      "h  ,  11\n",
      "0  ,  2\n",
      "m  ,  8\n",
      "w  ,  4\n",
      "u  ,  7\n",
      "g  ,  1\n",
      "i  ,  12\n",
      "f  ,  10\n",
      "v  ,  2\n",
      "e  ,  20\n",
      "c  ,  1\n",
      "b  ,  5\n",
      "l  ,  12\n",
      ".  ,  3\n",
      "t  ,  19\n",
      "   ,  41\n",
      "1  ,  2\n",
      "a  ,  7\n",
      "d  ,  5\n",
      "p  ,  8\n"
     ]
    }
   ],
   "source": [
    "s = \"Write a program that prints the numbers from 1 to 100. \\\n",
    "But for multiples of three print Hello instead of the number and for the multiples of five print World. \\\n",
    "For numbers which are multiples of both three and five print HelloWorld.\"\n",
    "s = s.lower()\n",
    "Allcharacters = [x for x in s]\n",
    "characters = set(Allcharacters)\n",
    "for x in characters:\n",
    "    j=0;\n",
    "    for y in Allcharacters:\n",
    "        if x == y:\n",
    "            j+=1;\n",
    "    print(x,\" , \",j)"
   ]
  },
  {
   "cell_type": "markdown",
   "metadata": {},
   "source": [
    "5\\. Isolating the unique\n",
    "\n",
    "Write a function that determines and count the unique numbers in the list:"
   ]
  },
  {
   "cell_type": "code",
   "execution_count": 68,
   "metadata": {},
   "outputs": [
    {
     "name": "stdout",
     "output_type": "stream",
     "text": [
      "1\n",
      "5\n",
      "8\n",
      "9\n",
      "10\n",
      "16\n",
      "18\n",
      "19\n",
      "24\n",
      "30\n",
      "33\n",
      "37\n",
      "39\n",
      "41\n",
      "47\n",
      "53\n",
      "54\n",
      "55\n",
      "57\n",
      "58\n",
      "64\n",
      "72\n",
      "74\n",
      "75\n",
      "79\n",
      "81\n",
      "82\n",
      "86\n",
      "87\n",
      "88\n",
      "90\n",
      "92\n",
      "94\n",
      "95\n",
      "96\n",
      "98\n",
      "99\n"
     ]
    }
   ],
   "source": [
    "l = [36, 45, 58, 3, 74, 96, 64, 45, 31, 10, 24, 19, 33, 86, 99, 18, 63, 70, 85,\n",
    " 85, 63, 47, 56, 42, 70, 84, 88, 55, 20, 54, 8, 56, 51, 79, 81, 57, 37, 91,\n",
    " 1, 84, 84, 36, 66, 9, 89, 50, 42, 91, 50, 95, 90, 98, 39, 16, 82, 31, 92, 41,\n",
    " 45, 30, 66, 70, 34, 85, 94, 5, 3, 36, 72, 91, 84, 34, 87, 75, 53, 51, 20, 89, 51, 20]\n",
    "unique = set(l)\n",
    "for x in unique:\n",
    "    j=0;\n",
    "    for y in l:\n",
    "        if x==y:\n",
    "            j+=1;\n",
    "    if j==1:\n",
    "        print(x)"
   ]
  },
  {
   "cell_type": "markdown",
   "metadata": {},
   "source": [
    "Do the same without using user-defined functions, but exploiting only the Python data structures."
   ]
  },
  {
   "cell_type": "code",
   "execution_count": 70,
   "metadata": {},
   "outputs": [
    {
     "name": "stdout",
     "output_type": "stream",
     "text": [
      "58\n",
      "74\n",
      "96\n",
      "64\n",
      "10\n",
      "24\n",
      "19\n",
      "33\n",
      "86\n",
      "99\n",
      "18\n",
      "47\n",
      "88\n",
      "55\n",
      "54\n",
      "8\n",
      "79\n",
      "81\n",
      "57\n",
      "37\n",
      "1\n",
      "9\n",
      "95\n",
      "90\n",
      "98\n",
      "39\n",
      "16\n",
      "82\n",
      "92\n",
      "41\n",
      "30\n",
      "94\n",
      "5\n",
      "72\n",
      "87\n",
      "75\n",
      "53\n"
     ]
    }
   ],
   "source": [
    "for x in l:\n",
    "    if l.count(x)==1:\n",
    "        print(x)"
   ]
  },
  {
   "cell_type": "markdown",
   "metadata": {},
   "source": [
    "6\\. Combination of functions\n",
    "\n",
    "Write two functions - one that returns the square of a number, and one that returns the cube. Now write a third function that returns the number raised to the 6th power using the two previous functions."
   ]
  },
  {
   "cell_type": "code",
   "execution_count": 71,
   "metadata": {},
   "outputs": [
    {
     "name": "stdout",
     "output_type": "stream",
     "text": [
      "64\n"
     ]
    }
   ],
   "source": [
    "def square(a): return a**2\n",
    "def cube(a): return a**3\n",
    "def sixthPow(a): return cube(square(a))\n",
    "\n",
    "print(sixthPow(2))"
   ]
  },
  {
   "cell_type": "markdown",
   "metadata": {},
   "source": [
    "7\\. Cubes\n",
    "\n",
    "Create a list of the cubes of x for x in *[0, 10]* using:\n",
    "\n",
    "a) a for loop\n",
    "\n",
    "b) a list comprehension"
   ]
  },
  {
   "cell_type": "code",
   "execution_count": 72,
   "metadata": {},
   "outputs": [
    {
     "name": "stdout",
     "output_type": "stream",
     "text": [
      "[0, 1, 8, 27, 64, 125, 216, 343, 512, 729, 1000]\n",
      "[0, 1, 8, 27, 64, 125, 216, 343, 512, 729, 1000]\n"
     ]
    }
   ],
   "source": [
    "l=[]\n",
    "for i in range (0,11):\n",
    "    l.append(i**3)\n",
    "print(l)\n",
    "\n",
    "list = [i**3 for i in range(0,11)]\n",
    "print(list)"
   ]
  },
  {
   "cell_type": "markdown",
   "metadata": {},
   "source": [
    "8\\. Nested list comprehension\n",
    "\n",
    "A Pythagorean triple is an integer solution to the Pythagorean theorem $a^2+b^2=c^2$. The first Pythagorean triple is (3,4,5). Find and put in a tuple all unique Pythagorean triples for the positive integers a, b and c less than 100."
   ]
  },
  {
   "cell_type": "code",
   "execution_count": 73,
   "metadata": {},
   "outputs": [
    {
     "name": "stdout",
     "output_type": "stream",
     "text": [
      "[(3, 4, 5), (9, 12, 13), (19, 24, 25), (33, 40, 41), (51, 60, 61), (73, 84, 85), (8, 6, 10), (15, 8, 17), (24, 10, 26), (35, 12, 37), (48, 14, 50), (63, 16, 65), (80, 18, 82)]\n"
     ]
    }
   ],
   "source": [
    "l= [(2*i**2+1, 2*i**2+2*i, 2*i**2+2*i+1) for i in range (1,7)]\n",
    "k= [(i**2-1, 2*i, i**2+1) for i in range (3,10)]\n",
    "print(l + k)"
   ]
  },
  {
   "cell_type": "markdown",
   "metadata": {},
   "source": [
    "9\\. Normalization\n",
    "\n",
    "Write a function that takes a tuple of numbers and returns it with the entries normalized to one"
   ]
  },
  {
   "cell_type": "code",
   "execution_count": 74,
   "metadata": {},
   "outputs": [
    {
     "name": "stdout",
     "output_type": "stream",
     "text": [
      "0.2857142857142857\n"
     ]
    }
   ],
   "source": [
    "x=(5,9)\n",
    "print ( (max(x)-min(x))/(max(x)+min(x)))"
   ]
  }
 ],
 "metadata": {
  "kernelspec": {
   "display_name": "Python 3",
   "language": "python",
   "name": "python3"
  },
  "language_info": {
   "codemirror_mode": {
    "name": "ipython",
    "version": 3
   },
   "file_extension": ".py",
   "mimetype": "text/x-python",
   "name": "python",
   "nbconvert_exporter": "python",
   "pygments_lexer": "ipython3",
   "version": "3.8.8"
  }
 },
 "nbformat": 4,
 "nbformat_minor": 2
}
