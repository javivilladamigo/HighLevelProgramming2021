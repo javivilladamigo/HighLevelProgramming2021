{
 "cells": [
  {
   "cell_type": "markdown",
   "metadata": {},
   "source": [
    "1. The HelloWorld replacement\n",
    "\n",
    "a) Write a program that prints the numbers from 1 to 100. But for multiples of three print \"Hello\" instead of the number and for the multiples of five print \"World\". For numbers which are multiples of both three and five print \"HelloWorld\".\n",
    "\n",
    "b) Put the result in a tuple and substitute \"Hello\" with \"Python\" and \"World\" with \"Works\"."
   ]
  },
  {
   "cell_type": "code",
   "execution_count": 4,
   "metadata": {},
   "outputs": [
    {
     "name": "stdout",
     "output_type": "stream",
     "text": [
      "1\n",
      "2\n",
      "Hello\n",
      "4\n",
      "World\n",
      "Hello\n",
      "7\n",
      "8\n",
      "Hello\n",
      "World\n",
      "11\n",
      "Hello\n",
      "13\n",
      "14\n",
      "HelloWorld\n",
      "16\n",
      "17\n",
      "Hello\n",
      "19\n",
      "World\n",
      "Hello\n",
      "22\n",
      "23\n",
      "Hello\n",
      "World\n",
      "26\n",
      "Hello\n",
      "28\n",
      "29\n",
      "HelloWorld\n",
      "31\n",
      "32\n",
      "Hello\n",
      "34\n",
      "World\n",
      "Hello\n",
      "37\n",
      "38\n",
      "Hello\n",
      "World\n",
      "41\n",
      "Hello\n",
      "43\n",
      "44\n",
      "HelloWorld\n",
      "46\n",
      "47\n",
      "Hello\n",
      "49\n",
      "World\n",
      "Hello\n",
      "52\n",
      "53\n",
      "Hello\n",
      "World\n",
      "56\n",
      "Hello\n",
      "58\n",
      "59\n",
      "HelloWorld\n",
      "61\n",
      "62\n",
      "Hello\n",
      "64\n",
      "World\n",
      "Hello\n",
      "67\n",
      "68\n",
      "Hello\n",
      "World\n",
      "71\n",
      "Hello\n",
      "73\n",
      "74\n",
      "HelloWorld\n",
      "76\n",
      "77\n",
      "Hello\n",
      "79\n",
      "World\n",
      "Hello\n",
      "82\n",
      "83\n",
      "Hello\n",
      "World\n",
      "86\n",
      "Hello\n",
      "88\n",
      "89\n",
      "HelloWorld\n",
      "91\n",
      "92\n",
      "Hello\n",
      "94\n",
      "World\n",
      "Hello\n",
      "97\n",
      "98\n",
      "Hello\n",
      "----- List result -----\n",
      "[1, 2, 'Hello', 4, 'World', 'Hello', 7, 8, 'Hello', 'World', 11, 'Hello', 13, 14, 'HelloWorld', 16, 17, 'Hello', 19, 'World', 'Hello', 22, 23, 'Hello', 'World', 26, 'Hello', 28, 29, 'HelloWorld', 31, 32, 'Hello', 34, 'World', 'Hello', 37, 38, 'Hello', 'World', 41, 'Hello', 43, 44, 'HelloWorld', 46, 47, 'Hello', 49, 'World', 'Hello', 52, 53, 'Hello', 'World', 56, 'Hello', 58, 59, 'HelloWorld', 61, 62, 'Hello', 64, 'World', 'Hello', 67, 68, 'Hello', 'World', 71, 'Hello', 73, 74, 'HelloWorld', 76, 77, 'Hello', 79, 'World', 'Hello', 82, 83, 'Hello', 'World', 86, 'Hello', 88, 89, 'HelloWorld', 91, 92, 'Hello', 94, 'World', 'Hello', 97, 98, 'Hello']\n",
      "----- Tuple result -----\n",
      "(1, 2, 'Python', 4, 'Works', 'Python', 7, 8, 'Python', 'Works', 11, 'Python', 13, 14, 'HelloWorld', 16, 17, 'Python', 19, 'Works', 'Python', 22, 23, 'Python', 'Works', 26, 'Python', 28, 29, 'HelloWorld', 31, 32, 'Python', 34, 'Works', 'Python', 37, 38, 'Python', 'Works', 41, 'Python', 43, 44, 'HelloWorld', 46, 47, 'Python', 49, 'Works', 'Python', 52, 53, 'Python', 'Works', 56, 'Python', 58, 59, 'HelloWorld', 61, 62, 'Python', 64, 'Works', 'Python', 67, 68, 'Python', 'Works', 71, 'Python', 73, 74, 'HelloWorld', 76, 77, 'Python', 79, 'Works', 'Python', 82, 83, 'Python', 'Works', 86, 'Python', 88, 89, 'HelloWorld', 91, 92, 'Python', 94, 'Works', 'Python', 97, 98, 'Python')\n"
     ]
    }
   ],
   "source": [
    "### A\n",
    "case_one = 'Hello'\n",
    "case_two = 'World'\n",
    "case_three = 'HelloWorld'\n",
    "\n",
    "result = []\n",
    "\n",
    "for i in range(1, 100):\n",
    "    if (i % 3 == 0) and (i % 5 == 0):\n",
    "        print(case_three)\n",
    "        result.append(case_three)\n",
    "    elif (i % 3 == 0):\n",
    "        print(case_one)\n",
    "        result.append(case_one)\n",
    "    elif (i % 5 == 0):\n",
    "        print(case_two)\n",
    "        result.append(case_two)\n",
    "    else:\n",
    "        print(i)\n",
    "        result.append(i)\n",
    "\n",
    "print('----- List result -----')\n",
    "print(result)\n",
    "### B\n",
    "def change_values_inplace(_list):\n",
    "    for i, item in enumerate(_list):\n",
    "        if item == 'Hello':\n",
    "            _list[i] = 'Python'\n",
    "        elif item == 'World':\n",
    "            _list[i] = 'Works'\n",
    "    return _list\n",
    "    \n",
    "tuple_result = tuple(result) #this is immutable!\n",
    "tuple_result = tuple(change_values_inplace(result))\n",
    "\n",
    "print('----- Tuple result -----')\n",
    "print(tuple_result)"
   ]
  },
  {
   "cell_type": "markdown",
   "metadata": {},
   "source": [
    "2\\. The swap function\n",
    "\n",
    "Write a function that swap the values of two input variables x and y (whatever the type). Try to do that also without a temporary variable"
   ]
  },
  {
   "cell_type": "code",
   "execution_count": 8,
   "metadata": {},
   "outputs": [
    {
     "name": "stdout",
     "output_type": "stream",
     "text": [
      "x: 1, y: 2\n",
      "swapped x: 2, swapped y: 1\n"
     ]
    }
   ],
   "source": [
    "def swapper(a, b):\n",
    "    a, b = b, a\n",
    "    return a, b\n",
    "\n",
    "x, y = 1, 2\n",
    "print('x: {0}, y: {1}'.format( x, y))\n",
    "\n",
    "x, y = swapper(x, y)\n",
    "print('swapped x: {0}, swapped y: {1}'.format( x, y))"
   ]
  },
  {
   "cell_type": "markdown",
   "metadata": {},
   "source": [
    "3\\. Computing the distance\n",
    "\n",
    "Write a function that calculates and returns the euclidean distance between two points *u* and *v*, where *u* and *v* are both 2-tuples *(x,y)*. For example, if *u=(3,0)* and *v=(0,4)*, the function should return 5"
   ]
  },
  {
   "cell_type": "code",
   "execution_count": 10,
   "metadata": {},
   "outputs": [
    {
     "name": "stdout",
     "output_type": "stream",
     "text": [
      "5.0\n"
     ]
    }
   ],
   "source": [
    "import math\n",
    "\n",
    "def calculate_eucl_distance(x, y):\n",
    "    return math.sqrt(sum([(a - b) ** 2 for a, b in zip(x, y)]))\n",
    "\n",
    "u = (3, 0)\n",
    "v = (0, 4)\n",
    "\n",
    "print(calculate_eucl_distance(u, v))"
   ]
  },
  {
   "cell_type": "markdown",
   "metadata": {},
   "source": [
    "4\\. Counting letters\n",
    "\n",
    "Write a program to calculate the number of times each character occurs in a given string *s*. Ignore differences in capitalization"
   ]
  },
  {
   "cell_type": "code",
   "execution_count": 2,
   "metadata": {},
   "outputs": [
    {
     "name": "stdout",
     "output_type": "stream",
     "text": [
      "{'w': 4, 'r': 19, 'i': 12, 't': 19, 'e': 20, ' ': 41, 'a': 7, 'p': 8, 'o': 15, 'g': 1, 'm': 8, 'h': 11, 'n': 10, 's': 7, 'u': 7, 'b': 5, 'f': 10, '1': 2, '0': 2, '.': 3, 'l': 12, 'd': 5, 'v': 2, 'c': 1}\n"
     ]
    }
   ],
   "source": [
    "s = \"Write a program that prints the numbers from 1 to 100. \\\n",
    "But for multiples of three print Hello instead of the number and for the multiples of five print World. \\\n",
    "For numbers which are multiples of both three and five print HelloWorld.\"\n",
    "\n",
    "def calculate_occurrences(text):\n",
    "    result = {}\n",
    "    for i in text.lower():\n",
    "        if i in result:\n",
    "            result[i] += 1\n",
    "        else:\n",
    "            result[i] = 1\n",
    "    \n",
    "    return result\n",
    "\n",
    "print(calculate_occurrences(s))"
   ]
  },
  {
   "cell_type": "markdown",
   "metadata": {},
   "source": [
    "5\\. Isolating the unique\n",
    "\n",
    "Write a function that determines and count the unique numbers in the list:"
   ]
  },
  {
   "cell_type": "code",
   "execution_count": 8,
   "metadata": {},
   "outputs": [
    {
     "name": "stdout",
     "output_type": "stream",
     "text": [
      "Unique numbers:  {1, 3, 5, 8, 9, 10, 16, 18, 19, 20, 24, 30, 31, 33, 34, 36, 37, 39, 41, 42, 45, 47, 50, 51, 53, 54, 55, 56, 57, 58, 63, 64, 66, 70, 72, 74, 75, 79, 81, 82, 84, 85, 86, 87, 88, 89, 90, 91, 92, 94, 95, 96, 98, 99}\n",
      "Number of elements in original list:  80\n",
      "Number of unique elements:  54\n"
     ]
    }
   ],
   "source": [
    "l = [36, 45, 58, 3, 74, 96, 64, 45, 31, 10, 24, 19, 33, 86, 99, 18, 63, 70, 85,\n",
    " 85, 63, 47, 56, 42, 70, 84, 88, 55, 20, 54, 8, 56, 51, 79, 81, 57, 37, 91,\n",
    " 1, 84, 84, 36, 66, 9, 89, 50, 42, 91, 50, 95, 90, 98, 39, 16, 82, 31, 92, 41,\n",
    " 45, 30, 66, 70, 34, 85, 94, 5, 3, 36, 72, 91, 84, 34, 87, 75, 53, 51, 20, 89, 51, 20]\n",
    "\n",
    "def calculate_uniques(_list):\n",
    "    uniques = set(_list)\n",
    "    print('Unique numbers: ', uniques)\n",
    "    print('Number of elements in original list: ', len(_list))\n",
    "    print('Number of unique elements: ', len(uniques))\n",
    "    \n",
    "calculate_uniques(l)"
   ]
  },
  {
   "cell_type": "markdown",
   "metadata": {},
   "source": [
    "Do the same without using user-defined functions, but exploiting only the Python data structures."
   ]
  },
  {
   "cell_type": "code",
   "execution_count": 9,
   "metadata": {},
   "outputs": [
    {
     "name": "stdout",
     "output_type": "stream",
     "text": [
      "Unique numbers:  {1, 3, 5, 8, 9, 10, 16, 18, 19, 20, 24, 30, 31, 33, 34, 36, 37, 39, 41, 42, 45, 47, 50, 51, 53, 54, 55, 56, 57, 58, 63, 64, 66, 70, 72, 74, 75, 79, 81, 82, 84, 85, 86, 87, 88, 89, 90, 91, 92, 94, 95, 96, 98, 99}\n",
      "Number of unique elements:  54\n"
     ]
    }
   ],
   "source": [
    "# oops, already did that above\n",
    "\n",
    "print('Unique numbers: ', set(l))\n",
    "print('Number of unique elements: ', len(set(l)))"
   ]
  },
  {
   "cell_type": "markdown",
   "metadata": {},
   "source": [
    "6\\. Combination of functions\n",
    "\n",
    "Write two functions - one that returns the square of a number, and one that returns the cube. Now write a third function that returns the number raised to the 6th power using the two previous functions."
   ]
  },
  {
   "cell_type": "code",
   "execution_count": 10,
   "metadata": {},
   "outputs": [
    {
     "name": "stdout",
     "output_type": "stream",
     "text": [
      "64\n"
     ]
    }
   ],
   "source": [
    "def get_square(x):\n",
    "    return x ** 2\n",
    "\n",
    "def get_cube(x):\n",
    "    return x ** 3\n",
    "\n",
    "def get_sixth_power(x):\n",
    "    return get_cube(get_square(x))\n",
    "\n",
    "print(get_sixth_power(2))"
   ]
  },
  {
   "cell_type": "markdown",
   "metadata": {},
   "source": [
    "7\\. Cubes\n",
    "\n",
    "Create a list of the cubes of x for x in *[0, 10]* using:\n",
    "\n",
    "a) a for loop\n",
    "\n",
    "b) a list comprehension"
   ]
  },
  {
   "cell_type": "code",
   "execution_count": 11,
   "metadata": {},
   "outputs": [
    {
     "name": "stdout",
     "output_type": "stream",
     "text": [
      "List after for loop  [0, 1, 8, 27, 64, 125, 216, 343, 512, 729]\n",
      "List after list comprehension  [0, 1, 8, 27, 64, 125, 216, 343, 512, 729]\n"
     ]
    }
   ],
   "source": [
    "list_one = []\n",
    "for i in range(0, 10):\n",
    "    list_one.append(get_cube(i))\n",
    "    \n",
    "print('List after for loop ', list_one)\n",
    "\n",
    "list_two = [get_cube(x) for x in range(0,10)]\n",
    "print('List after list comprehension ', list_two)"
   ]
  },
  {
   "cell_type": "markdown",
   "metadata": {},
   "source": [
    "8\\. Nested list comprehension\n",
    "\n",
    "A Pythagorean triple is an integer solution to the Pythagorean theorem $a^2+b^2=c^2$. The first Pythagorean triple is (3,4,5). Find and put in a tuple all unique Pythagorean triples for the positive integers a, b and c less than 100."
   ]
  },
  {
   "cell_type": "code",
   "execution_count": 14,
   "metadata": {},
   "outputs": [
    {
     "name": "stdout",
     "output_type": "stream",
     "text": [
      "[(3, 4, 5), (5, 12, 13), (6, 8, 10), (7, 24, 25), (8, 15, 17), (9, 12, 15), (9, 40, 41), (10, 24, 26), (11, 60, 61), (12, 16, 20), (12, 35, 37), (13, 84, 85), (14, 48, 50), (15, 20, 25), (15, 36, 39), (16, 30, 34), (16, 63, 65), (18, 24, 30), (18, 80, 82), (20, 21, 29), (20, 48, 52), (21, 28, 35), (21, 72, 75), (24, 32, 40), (24, 45, 51), (24, 70, 74), (25, 60, 65), (27, 36, 45), (28, 45, 53), (30, 40, 50), (30, 72, 78), (32, 60, 68), (33, 44, 55), (33, 56, 65), (35, 84, 91), (36, 48, 60), (36, 77, 85), (39, 52, 65), (39, 80, 89), (40, 42, 58), (40, 75, 85), (42, 56, 70), (45, 60, 75), (48, 55, 73), (48, 64, 80), (51, 68, 85), (54, 72, 90), (57, 76, 95), (60, 63, 87), (65, 72, 97)]\n"
     ]
    }
   ],
   "source": [
    "pythagorean_triples = [(a,b,c) for a in range(1, 100) for b in range(a, 100) for c in range(b, 100) if (get_square(a) + get_square(b)) == get_square(c)]\n",
    "print(pythagorean_triples)"
   ]
  },
  {
   "cell_type": "markdown",
   "metadata": {},
   "source": [
    "9\\. Normalization\n",
    "\n",
    "Write a function that takes a tuple of numbers and returns it with the entries normalized to one"
   ]
  },
  {
   "cell_type": "code",
   "execution_count": 20,
   "metadata": {},
   "outputs": [
    {
     "name": "stdout",
     "output_type": "stream",
     "text": [
      "(0.6, 0.8, 1.0)\n",
      "(0.38461538461538464, 0.9230769230769231, 1.0)\n",
      "(0.6, 0.8, 1.0)\n",
      "(0.28, 0.96, 1.0)\n",
      "(0.47058823529411764, 0.8823529411764706, 1.0)\n",
      "(0.6, 0.8, 1.0)\n",
      "(0.21951219512195122, 0.975609756097561, 1.0)\n",
      "(0.38461538461538464, 0.9230769230769231, 1.0)\n",
      "(0.18032786885245902, 0.9836065573770492, 1.0)\n",
      "(0.6, 0.8, 1.0)\n",
      "(0.32432432432432434, 0.9459459459459459, 1.0)\n",
      "(0.15294117647058825, 0.9882352941176471, 1.0)\n",
      "(0.28, 0.96, 1.0)\n",
      "(0.6, 0.8, 1.0)\n",
      "(0.38461538461538464, 0.9230769230769231, 1.0)\n",
      "(0.47058823529411764, 0.8823529411764706, 1.0)\n",
      "(0.24615384615384617, 0.9692307692307692, 1.0)\n",
      "(0.6, 0.8, 1.0)\n",
      "(0.21951219512195122, 0.975609756097561, 1.0)\n",
      "(0.6896551724137931, 0.7241379310344828, 1.0)\n",
      "(0.38461538461538464, 0.9230769230769231, 1.0)\n",
      "(0.6, 0.8, 1.0)\n",
      "(0.28, 0.96, 1.0)\n",
      "(0.6, 0.8, 1.0)\n",
      "(0.47058823529411764, 0.8823529411764706, 1.0)\n",
      "(0.32432432432432434, 0.9459459459459459, 1.0)\n",
      "(0.38461538461538464, 0.9230769230769231, 1.0)\n",
      "(0.6, 0.8, 1.0)\n",
      "(0.5283018867924528, 0.8490566037735849, 1.0)\n",
      "(0.6, 0.8, 1.0)\n",
      "(0.38461538461538464, 0.9230769230769231, 1.0)\n",
      "(0.47058823529411764, 0.8823529411764706, 1.0)\n",
      "(0.6, 0.8, 1.0)\n",
      "(0.5076923076923077, 0.8615384615384616, 1.0)\n",
      "(0.38461538461538464, 0.9230769230769231, 1.0)\n",
      "(0.6, 0.8, 1.0)\n",
      "(0.4235294117647059, 0.9058823529411765, 1.0)\n",
      "(0.6, 0.8, 1.0)\n",
      "(0.43820224719101125, 0.898876404494382, 1.0)\n",
      "(0.6896551724137931, 0.7241379310344828, 1.0)\n",
      "(0.47058823529411764, 0.8823529411764706, 1.0)\n",
      "(0.6, 0.8, 1.0)\n",
      "(0.6, 0.8, 1.0)\n",
      "(0.6575342465753424, 0.7534246575342466, 1.0)\n",
      "(0.6, 0.8, 1.0)\n",
      "(0.6, 0.8, 1.0)\n",
      "(0.6, 0.8, 1.0)\n",
      "(0.6, 0.8, 1.0)\n",
      "(0.6896551724137931, 0.7241379310344828, 1.0)\n",
      "(0.6701030927835051, 0.7422680412371134, 1.0)\n"
     ]
    }
   ],
   "source": [
    "def normalize_tuple(_tuple):\n",
    "    return tuple([i/max(_tuple) for i in _tuple])\n",
    "\n",
    "#example with tuples of previous exercise\n",
    "for i in pythagorean_triples:\n",
    "    print(normalize_tuple(i))"
   ]
  },
  {
   "cell_type": "code",
   "execution_count": null,
   "metadata": {},
   "outputs": [],
   "source": []
  }
 ],
 "metadata": {
  "kernelspec": {
   "display_name": "Python 3",
   "language": "python",
   "name": "python3"
  },
  "language_info": {
   "codemirror_mode": {
    "name": "ipython",
    "version": 3
   },
   "file_extension": ".py",
   "mimetype": "text/x-python",
   "name": "python",
   "nbconvert_exporter": "python",
   "pygments_lexer": "ipython3",
   "version": "3.7.5"
  }
 },
 "nbformat": 4,
 "nbformat_minor": 2
}
