{
 "cells": [
  {
   "cell_type": "markdown",
   "metadata": {},
   "source": [
    "1. The HelloWorld replacement\n",
    "\n",
    "a) Write a program that prints the numbers from 1 to 100. But for multiples of three print \"Hello\" instead of the number and for the multiples of five print \"World\". For numbers which are multiples of both three and five print \"HelloWorld\".\n",
    "\n",
    "\n",
    "\n",
    "b) Put the result in a tuple and substitute \"Hello\" with \"Python\" and \"World\" with \"Works\"."
   ]
  },
  {
   "cell_type": "code",
   "execution_count": 75,
   "metadata": {
    "scrolled": true
   },
   "outputs": [
    {
     "name": "stdout",
     "output_type": "stream",
     "text": [
      "1\n",
      "2\n",
      "Hello\n",
      "4\n",
      "World\n",
      "Hello\n",
      "7\n",
      "8\n",
      "Hello\n",
      "World\n",
      "11\n",
      "Hello\n",
      "13\n",
      "14\n",
      "HelloWorld\n",
      "16\n",
      "17\n",
      "Hello\n",
      "19\n",
      "World\n",
      "Hello\n",
      "22\n",
      "23\n",
      "Hello\n",
      "World\n",
      "26\n",
      "Hello\n",
      "28\n",
      "29\n",
      "HelloWorld\n",
      "31\n",
      "32\n",
      "Hello\n",
      "34\n",
      "World\n",
      "Hello\n",
      "37\n",
      "38\n",
      "Hello\n",
      "World\n",
      "41\n",
      "Hello\n",
      "43\n",
      "44\n",
      "HelloWorld\n",
      "46\n",
      "47\n",
      "Hello\n",
      "49\n",
      "World\n",
      "Hello\n",
      "52\n",
      "53\n",
      "Hello\n",
      "World\n",
      "56\n",
      "Hello\n",
      "58\n",
      "59\n",
      "HelloWorld\n",
      "61\n",
      "62\n",
      "Hello\n",
      "64\n",
      "World\n",
      "Hello\n",
      "67\n",
      "68\n",
      "Hello\n",
      "World\n",
      "71\n",
      "Hello\n",
      "73\n",
      "74\n",
      "HelloWorld\n",
      "76\n",
      "77\n",
      "Hello\n",
      "79\n",
      "World\n",
      "Hello\n",
      "82\n",
      "83\n",
      "Hello\n",
      "World\n",
      "86\n",
      "Hello\n",
      "88\n",
      "89\n",
      "HelloWorld\n",
      "91\n",
      "92\n",
      "Hello\n",
      "94\n",
      "World\n",
      "Hello\n",
      "97\n",
      "98\n",
      "Hello\n",
      "World\n"
     ]
    }
   ],
   "source": [
    "# 1.a\n",
    "def helloWorld():\n",
    "    i=0\n",
    "    while(i<100):\n",
    "        i+=1\n",
    "        result = \"\"\n",
    "        \n",
    "        if(i%3 == 0 or i%5 == 0):\n",
    "            if(i%3 == 0):\n",
    "                result += \"Hello\"\n",
    "            if(i%5 == 0):\n",
    "                result += \"World\"\n",
    "        else:\n",
    "            result += str(i)\n",
    "\n",
    "        print(result)\n",
    "    \n",
    "helloWorld()"
   ]
  },
  {
   "cell_type": "code",
   "execution_count": 84,
   "metadata": {},
   "outputs": [
    {
     "data": {
      "text/plain": [
       "('1',\n",
       " '2',\n",
       " 'Python',\n",
       " '4',\n",
       " 'Works',\n",
       " 'Python',\n",
       " '7',\n",
       " '8',\n",
       " 'Python',\n",
       " 'Works',\n",
       " '11',\n",
       " 'Python',\n",
       " '13',\n",
       " '14',\n",
       " 'PythonWorks',\n",
       " '16',\n",
       " '17',\n",
       " 'Python',\n",
       " '19',\n",
       " 'Works',\n",
       " 'Python',\n",
       " '22',\n",
       " '23',\n",
       " 'Python',\n",
       " 'Works',\n",
       " '26',\n",
       " 'Python',\n",
       " '28',\n",
       " '29',\n",
       " 'PythonWorks',\n",
       " '31',\n",
       " '32',\n",
       " 'Python',\n",
       " '34',\n",
       " 'Works',\n",
       " 'Python',\n",
       " '37',\n",
       " '38',\n",
       " 'Python',\n",
       " 'Works',\n",
       " '41',\n",
       " 'Python',\n",
       " '43',\n",
       " '44',\n",
       " 'PythonWorks',\n",
       " '46',\n",
       " '47',\n",
       " 'Python',\n",
       " '49',\n",
       " 'Works',\n",
       " 'Python',\n",
       " '52',\n",
       " '53',\n",
       " 'Python',\n",
       " 'Works',\n",
       " '56',\n",
       " 'Python',\n",
       " '58',\n",
       " '59',\n",
       " 'PythonWorks',\n",
       " '61',\n",
       " '62',\n",
       " 'Python',\n",
       " '64',\n",
       " 'Works',\n",
       " 'Python',\n",
       " '67',\n",
       " '68',\n",
       " 'Python',\n",
       " 'Works',\n",
       " '71',\n",
       " 'Python',\n",
       " '73',\n",
       " '74',\n",
       " 'PythonWorks',\n",
       " '76',\n",
       " '77',\n",
       " 'Python',\n",
       " '79',\n",
       " 'Works',\n",
       " 'Python',\n",
       " '82',\n",
       " '83',\n",
       " 'Python',\n",
       " 'Works',\n",
       " '86',\n",
       " 'Python',\n",
       " '88',\n",
       " '89',\n",
       " 'PythonWorks',\n",
       " '91',\n",
       " '92',\n",
       " 'Python',\n",
       " '94',\n",
       " 'Works',\n",
       " 'Python',\n",
       " '97',\n",
       " '98',\n",
       " 'Python',\n",
       " 'Works')"
      ]
     },
     "execution_count": 84,
     "metadata": {},
     "output_type": "execute_result"
    }
   ],
   "source": [
    "# 1.b\n",
    "def helloWorld():\n",
    "    i=0\n",
    "    t = ()\n",
    "    while(i<100):\n",
    "        i+=1\n",
    "        result = \"\"\n",
    "        \n",
    "        if(i%3 == 0 or i%5 == 0):\n",
    "            if(i%3 == 0):\n",
    "                result += \"Hello\"\n",
    "            if(i%5 == 0):\n",
    "                result += \"World\"\n",
    "        else:\n",
    "            result += str(i)\n",
    "        tmp = (*t, result)\n",
    "        t = tmp\n",
    "    return t\n",
    "\n",
    "\n",
    "def helloWorldReplace(t):\n",
    "    v = []\n",
    "    t2 = ()\n",
    "    for i in t:\n",
    "        v.append(i)\n",
    "    \n",
    "    k = 0\n",
    "    for i in v:\n",
    "        if(i == \"Hello\"):\n",
    "            v[k] = \"Python\"\n",
    "        if(i == \"World\"):\n",
    "            v[k] = \"Works\"\n",
    "        if(i == \"HelloWorld\"):\n",
    "            v[k] = \"PythonWorks\"\n",
    "        k+=1\n",
    "        \n",
    "    for i in v:\n",
    "        tmp = (*t2, i)\n",
    "        t2 = tmp\n",
    "    return t2\n",
    "        \n",
    "    \n",
    "t = helloWorld()\n",
    "helloWorldReplace(t)"
   ]
  },
  {
   "cell_type": "markdown",
   "metadata": {},
   "source": [
    "2\\. The swap function\n",
    "\n",
    "Write a function that swap the values of two input variables x and y (whatever the type). Try to do that also without a temporary variable"
   ]
  },
  {
   "cell_type": "code",
   "execution_count": 121,
   "metadata": {},
   "outputs": [
    {
     "data": {
      "text/plain": [
       "('1', 'hello')"
      ]
     },
     "execution_count": 121,
     "metadata": {},
     "output_type": "execute_result"
    }
   ],
   "source": [
    "# 2 (With a temporary variable)\n",
    "def swap(x, y):\n",
    "    x = str(x)\n",
    "    y = str(y)\n",
    "    tmp = x\n",
    "    x = y\n",
    "    y = tmp\n",
    "    return (x, y)\n",
    "    \n",
    "x = \"hello\"\n",
    "y = 1\n",
    " \n",
    "swap(x, y)"
   ]
  },
  {
   "cell_type": "code",
   "execution_count": 120,
   "metadata": {},
   "outputs": [
    {
     "data": {
      "text/plain": [
       "('1', 'hello')"
      ]
     },
     "execution_count": 120,
     "metadata": {},
     "output_type": "execute_result"
    }
   ],
   "source": [
    "# 2 (Without a temporary variable)\n",
    "def swap(x, y):\n",
    "    x = str(x)\n",
    "    y = str(y)\n",
    "    x += str(y)\n",
    "    y = x[0:len(x) - len(y)]\n",
    "    x = x[len(y):len(x)]\n",
    "    \n",
    "    return (x, y)\n",
    "    \n",
    "x = \"hello\"\n",
    "y = 1\n",
    " \n",
    "swap(x, y)"
   ]
  },
  {
   "cell_type": "markdown",
   "metadata": {},
   "source": [
    "3\\. Computing the distance\n",
    "\n",
    "Write a function that calculates and returns the euclidean distance between two points *u* and *v*, where *u* and *v* are both 2-tuples *(x,y)*. For example, if *u=(3,0)* and *v=(0,4)*, the function should return 5"
   ]
  },
  {
   "cell_type": "code",
   "execution_count": 90,
   "metadata": {},
   "outputs": [
    {
     "data": {
      "text/plain": [
       "5.0"
      ]
     },
     "execution_count": 90,
     "metadata": {},
     "output_type": "execute_result"
    }
   ],
   "source": [
    "# 3\n",
    "def euclidean_distance(u, v):\n",
    "    d = pow(pow(u[1]-u[0],2) + pow(v[1]-v[0],2),0.5)\n",
    "    return d\n",
    "\n",
    "u = (3,0)\n",
    "v = (0,4)\n",
    "euclidean_distance(u,v)"
   ]
  },
  {
   "cell_type": "markdown",
   "metadata": {},
   "source": [
    "4\\. Counting letters\n",
    "\n",
    "Write a program to calculate the number of times each character occurs in a given string *s*. Ignore differences in capitalization"
   ]
  },
  {
   "cell_type": "code",
   "execution_count": 106,
   "metadata": {},
   "outputs": [
    {
     "name": "stdout",
     "output_type": "stream",
     "text": [
      "t 1\n",
      "o 1\n",
      "d 2\n",
      "a 3\n",
      "y 3\n",
      "  4\n",
      "i 1\n",
      "s 2\n",
      "u 1\n",
      "n 2\n"
     ]
    }
   ],
   "source": [
    "# 4\n",
    "def counting_letters(s):\n",
    "    letters = []\n",
    "    counters = []\n",
    "    for i in s:\n",
    "        i = str.lower(i)\n",
    "        if i not in letters:\n",
    "            letters.append(i)\n",
    "            counters.append(1)\n",
    "        else:\n",
    "            index = letters.index(i)\n",
    "            counters[index] += 1\n",
    "    return letters, counters\n",
    "            \n",
    "letters, counters = counting_letters(\"Today is a sunny day\")\n",
    "\n",
    "for i in range(len(letters)):\n",
    "    print(letters[i] + \" \" + str(counters[i]))"
   ]
  },
  {
   "cell_type": "markdown",
   "metadata": {},
   "source": [
    "5\\. Isolating the unique\n",
    "\n",
    "Write a function that determines and count the unique numbers in the list:"
   ]
  },
  {
   "cell_type": "code",
   "execution_count": 113,
   "metadata": {},
   "outputs": [
    {
     "name": "stdout",
     "output_type": "stream",
     "text": [
      "[36, 45, 58, 3, 74, 96, 64, 31, 10, 24, 19, 33, 86, 99, 18, 63, 70, 85, 47, 56, 42, 84, 88, 55, 20, 54, 8, 51, 79, 81, 57, 37, 91, 1, 66, 9, 89, 50, 95, 90, 98, 39, 16, 82, 92, 41, 30, 34, 94, 5, 72, 87, 75, 53]\n",
      "Number of unique numbers: 54\n"
     ]
    }
   ],
   "source": [
    "# 5 (Using user-defined functions)\n",
    "l = [36, 45, 58, 3, 74, 96, 64, 45, 31, 10, 24, 19, 33, 86, 99, 18, 63, 70, 85,\n",
    " 85, 63, 47, 56, 42, 70, 84, 88, 55, 20, 54, 8, 56, 51, 79, 81, 57, 37, 91,\n",
    " 1, 84, 84, 36, 66, 9, 89, 50, 42, 91, 50, 95, 90, 98, 39, 16, 82, 31, 92, 41,\n",
    " 45, 30, 66, 70, 34, 85, 94, 5, 3, 36, 72, 91, 84, 34, 87, 75, 53, 51, 20, 89, 51, 20]\n",
    "\n",
    "def countUniqueNumbers(l):\n",
    "    unique_numbers = []\n",
    "    for i in l:\n",
    "        if i not in unique_numbers:\n",
    "            unique_numbers.append(i)\n",
    "\n",
    "    print(unique_numbers)\n",
    "\n",
    "countUniqueNumbers(l)\n",
    "print(\"Number of unique numbers: \" + str(len(unique_numbers)))"
   ]
  },
  {
   "cell_type": "markdown",
   "metadata": {},
   "source": [
    "Do the same without using user-defined functions, but exploiting only the Python data structures."
   ]
  },
  {
   "cell_type": "code",
   "execution_count": 110,
   "metadata": {},
   "outputs": [
    {
     "name": "stdout",
     "output_type": "stream",
     "text": [
      "Number of unique numbers: 54\n"
     ]
    }
   ],
   "source": [
    "# 5 (Using Python data structures)\n",
    "l = [36, 45, 58, 3, 74, 96, 64, 45, 31, 10, 24, 19, 33, 86, 99, 18, 63, 70, 85,\n",
    " 85, 63, 47, 56, 42, 70, 84, 88, 55, 20, 54, 8, 56, 51, 79, 81, 57, 37, 91,\n",
    " 1, 84, 84, 36, 66, 9, 89, 50, 42, 91, 50, 95, 90, 98, 39, 16, 82, 31, 92, 41,\n",
    " 45, 30, 66, 70, 34, 85, 94, 5, 3, 36, 72, 91, 84, 34, 87, 75, 53, 51, 20, 89, 51, 20]\n",
    "\n",
    "unique_numbers = set(l)\n",
    "print(\"Number of unique numbers: \" + str(len(unique_numbers)))"
   ]
  },
  {
   "cell_type": "markdown",
   "metadata": {},
   "source": [
    "6\\. Combination of functions\n",
    "\n",
    "Write two functions - one that returns the square of a number, and one that returns the cube. Now write a third function that returns the number raised to the 6th power using the two previous functions."
   ]
  },
  {
   "cell_type": "code",
   "execution_count": 122,
   "metadata": {},
   "outputs": [
    {
     "data": {
      "text/plain": [
       "64"
      ]
     },
     "execution_count": 122,
     "metadata": {},
     "output_type": "execute_result"
    }
   ],
   "source": [
    "# 6\n",
    "def to_square(x):\n",
    "    return x * x\n",
    "\n",
    "def to_cube(x):\n",
    "    return x * x * x\n",
    "\n",
    "def to_6(x):\n",
    "    return to_square(x) * to_cube(x) * x\n",
    "\n",
    "to_6(2)"
   ]
  },
  {
   "cell_type": "markdown",
   "metadata": {},
   "source": [
    "7\\. Cubes\n",
    "\n",
    "Create a list of the cubes of x for x in *[0, 10]* using:\n",
    "\n",
    "a) a for loop\n",
    "\n",
    "b) a list comprehension"
   ]
  },
  {
   "cell_type": "code",
   "execution_count": 124,
   "metadata": {},
   "outputs": [
    {
     "name": "stdout",
     "output_type": "stream",
     "text": [
      "[0, 1, 8, 27, 64, 125, 216, 343, 512, 729]\n"
     ]
    }
   ],
   "source": [
    "# 7.a\n",
    "v = range(10)\n",
    "cubes = []\n",
    "for i in v:\n",
    "    cubes.append(pow(i,3))\n",
    "print(cubes)"
   ]
  },
  {
   "cell_type": "code",
   "execution_count": 118,
   "metadata": {},
   "outputs": [
    {
     "name": "stdout",
     "output_type": "stream",
     "text": [
      "[0, 1, 8, 27, 64, 125, 216, 343, 512, 729]\n"
     ]
    }
   ],
   "source": [
    "# 7.b\n",
    "cubes = [pow(i, 3) for i in range(10)]\n",
    "print(cubes)"
   ]
  },
  {
   "cell_type": "markdown",
   "metadata": {},
   "source": [
    "8\\. Nested list comprehension\n",
    "\n",
    "A Pythagorean triple is an integer solution to the Pythagorean theorem $a^2+b^2=c^2$. The first Pythagorean triple is (3,4,5). Find and put in a tuple all unique Pythagorean triples for the positive integers a, b and c less than 100."
   ]
  },
  {
   "cell_type": "code",
   "execution_count": 63,
   "metadata": {},
   "outputs": [
    {
     "data": {
      "text/plain": [
       "[(3, 4, 5.0),\n",
       " (8, 6, 10.0),\n",
       " (5, 12, 13.0),\n",
       " (15, 8, 17.0),\n",
       " (7, 24, 25.0),\n",
       " (24, 10, 26.0),\n",
       " (21, 20, 29.0),\n",
       " (16, 30, 34.0),\n",
       " (9, 40, 41.0),\n",
       " (35, 12, 37.0),\n",
       " (11, 60, 61.0),\n",
       " (48, 14, 50.0),\n",
       " (45, 28, 53.0),\n",
       " (40, 42, 58.0),\n",
       " (33, 56, 65.0),\n",
       " (24, 70, 74.0),\n",
       " (13, 84, 85.0),\n",
       " (63, 16, 65.0),\n",
       " (55, 48, 73.0),\n",
       " (39, 80, 89.0),\n",
       " (80, 18, 82.0),\n",
       " (77, 36, 85.0),\n",
       " (65, 72, 97.0)]"
      ]
     },
     "execution_count": 63,
     "metadata": {},
     "output_type": "execute_result"
    }
   ],
   "source": [
    "# 8\n",
    "'''\n",
    "    This script generates all the Pythagorean triples from 1 to 100, also \n",
    "    the non primitive.\n",
    "'''\n",
    "            \n",
    "def gcd(a, b):\n",
    " \n",
    "    if (a == 0 or b == 0): return 0\n",
    "     \n",
    "    if (a == b): return a\n",
    "     \n",
    "    if (a > b):\n",
    "        return gcd(a - b, b)\n",
    "             \n",
    "    return gcd(a, b - a)\n",
    "\n",
    "def generate_triple():\n",
    "    m = 0\n",
    "    n = 0\n",
    "    coprimes = []\n",
    "    pythagorean_triple = []\n",
    "\n",
    "    for m in range(1,100):\n",
    "        for n in range(1,100):\n",
    "            if(2*m*n < 100 and gcd(m,n)==1):\n",
    "                x = (m,n)\n",
    "                coprimes.append(x)\n",
    "\n",
    "\n",
    "    for coprime in coprimes:\n",
    "        a = pow(coprime[0],2) - pow(coprime[1],2)\n",
    "        b = 2*coprime[0]*coprime[1]\n",
    "        c = pow(pow(a,2) + pow(b,2), 1/2)\n",
    "        if(a>0 and b>0 and c<100):\n",
    "            triple = (a, b, c)\n",
    "            pythagorean_triple.append(triple)\n",
    "\n",
    "    return pythagorean_triple\n",
    "        \n",
    "generate_triple()\n",
    "\n",
    "    "
   ]
  },
  {
   "cell_type": "markdown",
   "metadata": {},
   "source": [
    "9\\. Normalization\n",
    "\n",
    "Write a function that takes a tuple of numbers and returns it with the entries normalized to one"
   ]
  },
  {
   "cell_type": "code",
   "execution_count": 48,
   "metadata": {},
   "outputs": [
    {
     "data": {
      "text/plain": [
       "(0.0, 0.3333333333333333, 0.6666666666666666, 1.0)"
      ]
     },
     "execution_count": 48,
     "metadata": {},
     "output_type": "execute_result"
    }
   ],
   "source": [
    "# 9\n",
    "def normalization(numbers):\n",
    "    norm_numbers = []\n",
    "    max_number = max(numbers)\n",
    "    min_number = min(numbers)\n",
    "    for number in numbers:\n",
    "        x = (number-min_number)/(max_number-min_number)\n",
    "        norm_numbers.append(x)\n",
    "        \n",
    "    return tuple(i for i in norm_numbers)\n",
    "        \n",
    "x = (1, 2, 3, 4)\n",
    "normalization(x)\n",
    "        "
   ]
  }
 ],
 "metadata": {
  "kernelspec": {
   "display_name": "Python 3 (ipykernel)",
   "language": "python",
   "name": "python3"
  },
  "language_info": {
   "codemirror_mode": {
    "name": "ipython",
    "version": 3
   },
   "file_extension": ".py",
   "mimetype": "text/x-python",
   "name": "python",
   "nbconvert_exporter": "python",
   "pygments_lexer": "ipython3",
   "version": "3.10.0"
  }
 },
 "nbformat": 4,
 "nbformat_minor": 2
}
