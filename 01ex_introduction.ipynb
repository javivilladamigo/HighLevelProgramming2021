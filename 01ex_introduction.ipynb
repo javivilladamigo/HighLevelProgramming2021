{
  "nbformat": 4,
  "nbformat_minor": 0,
  "metadata": {
    "kernelspec": {
      "display_name": "Python 3",
      "language": "python",
      "name": "python3"
    },
    "language_info": {
      "codemirror_mode": {
        "name": "ipython",
        "version": 3
      },
      "file_extension": ".py",
      "mimetype": "text/x-python",
      "name": "python",
      "nbconvert_exporter": "python",
      "pygments_lexer": "ipython3",
      "version": "3.8.8"
    },
    "colab": {
      "name": "01ex_introduction.ipynb",
      "provenance": []
    }
  },
  "cells": [
    {
      "cell_type": "code",
      "metadata": {
        "id": "iRZEYZO2Ulyi"
      },
      "source": [
        "'''\n",
        "Sevval AZ\n",
        "2041453\n",
        "'''"
      ],
      "execution_count": null,
      "outputs": []
    },
    {
      "cell_type": "markdown",
      "metadata": {
        "id": "z1dVsipCUlyj"
      },
      "source": [
        "1. The HelloWorld replacement\n",
        "\n",
        "a) Write a program that prints the numbers from 1 to 100. But for multiples of three print \"Hello\" instead of the number and for the multiples of five print \"World\". For numbers which are multiples of both three and five print \"HelloWorld\".\n",
        "\n"
      ]
    },
    {
      "cell_type": "code",
      "metadata": {
        "id": "-e3pdLKbUlyl",
        "outputId": "6906fb73-8b8d-4981-bedc-62658090185e"
      },
      "source": [
        "def helloWorlReplacement():\n",
        "    list=[]\n",
        "    for i in range(1,101):\n",
        "        if(i%3==0) & (i%5==0):     #or (i%15)\n",
        "            r=\"HelloWorld\"\n",
        "        elif (i%3 ==0):\n",
        "            r=\"Hello\" \n",
        "        elif (i%5==0):\n",
        "            r=\"World\" \n",
        "        else:\n",
        "            r=i\n",
        "        list.append(r)       \n",
        "    return list\n",
        "            \n",
        "helloWorld_list=helloWorlReplacement()\n",
        "print(helloWorld_list) "
      ],
      "execution_count": null,
      "outputs": [
        {
          "name": "stdout",
          "output_type": "stream",
          "text": [
            "[1, 2, 'Hello', 4, 'World', 'Hello', 7, 8, 'Hello', 'World', 11, 'Hello', 13, 14, 'HelloWorld', 16, 17, 'Hello', 19, 'World', 'Hello', 22, 23, 'Hello', 'World', 26, 'Hello', 28, 29, 'HelloWorld', 31, 32, 'Hello', 34, 'World', 'Hello', 37, 38, 'Hello', 'World', 41, 'Hello', 43, 44, 'HelloWorld', 46, 47, 'Hello', 49, 'World', 'Hello', 52, 53, 'Hello', 'World', 56, 'Hello', 58, 59, 'HelloWorld', 61, 62, 'Hello', 64, 'World', 'Hello', 67, 68, 'Hello', 'World', 71, 'Hello', 73, 74, 'HelloWorld', 76, 77, 'Hello', 79, 'World', 'Hello', 82, 83, 'Hello', 'World', 86, 'Hello', 88, 89, 'HelloWorld', 91, 92, 'Hello', 94, 'World', 'Hello', 97, 98, 'Hello', 'World']\n"
          ]
        }
      ]
    },
    {
      "cell_type": "markdown",
      "metadata": {
        "id": "FMR9i64WUlyl"
      },
      "source": [
        "b) Put the result in a tuple and substitute \"Hello\" with \"Python\" and \"World\" with \"Works\"."
      ]
    },
    {
      "cell_type": "code",
      "metadata": {
        "id": "S4V1fi07Ulym",
        "outputId": "b4fc9782-e106-4460-c99a-f69d2a860415"
      },
      "source": [
        "#helloWorld_tuple=tuple(helloWorld_list)\n",
        "#tuples are immutable. If we want to update tuples, we can make update with the list.\n",
        "for i in range(len(helloWorld_list)):\n",
        "    if helloWorld_list[i]== \"Hello\":\n",
        "        helloWorld_list[i] =\"Python\"\n",
        "    elif helloWorld_list[i]== \"World\":\n",
        "        helloWorld_list[i] =\"Works\"\n",
        "\n",
        "helloWorld_tuple=tuple(helloWorld_list)\n",
        "print(helloWorld_tuple)"
      ],
      "execution_count": null,
      "outputs": [
        {
          "name": "stdout",
          "output_type": "stream",
          "text": [
            "(1, 2, 'Python', 4, 'Works', 'Python', 7, 8, 'Python', 'Works', 11, 'Python', 13, 14, 'HelloWorld', 16, 17, 'Python', 19, 'Works', 'Python', 22, 23, 'Python', 'Works', 26, 'Python', 28, 29, 'HelloWorld', 31, 32, 'Python', 34, 'Works', 'Python', 37, 38, 'Python', 'Works', 41, 'Python', 43, 44, 'HelloWorld', 46, 47, 'Python', 49, 'Works', 'Python', 52, 53, 'Python', 'Works', 56, 'Python', 58, 59, 'HelloWorld', 61, 62, 'Python', 64, 'Works', 'Python', 67, 68, 'Python', 'Works', 71, 'Python', 73, 74, 'HelloWorld', 76, 77, 'Python', 79, 'Works', 'Python', 82, 83, 'Python', 'Works', 86, 'Python', 88, 89, 'HelloWorld', 91, 92, 'Python', 94, 'Works', 'Python', 97, 98, 'Python', 'Works')\n"
          ]
        }
      ]
    },
    {
      "cell_type": "markdown",
      "metadata": {
        "id": "ilssUx-4Ulym"
      },
      "source": [
        "2\\. The swap function\n",
        "\n",
        "Write a function that swap the values of two input variables x and y (whatever the type). Try to do that also without a temporary variable"
      ]
    },
    {
      "cell_type": "code",
      "metadata": {
        "id": "i0rNW8d0Ulyn",
        "outputId": "5e057fab-2f62-4b6e-9d88-3358e51b9eb7"
      },
      "source": [
        "def swap_function(x,y):\n",
        "    x, y = y, x\n",
        "    print(\"x =\", x)\n",
        "    print(\"y =\", y)\n",
        "    \n",
        "swap_function(10,20)"
      ],
      "execution_count": null,
      "outputs": [
        {
          "name": "stdout",
          "output_type": "stream",
          "text": [
            "x = 20\n",
            "y = 10\n"
          ]
        }
      ]
    },
    {
      "cell_type": "markdown",
      "metadata": {
        "id": "CpmahthpUlyn"
      },
      "source": [
        "3\\. Computing the distance\n",
        "\n",
        "Write a function that calculates and returns the euclidean distance between two points *u* and *v*, where *u* and *v* are both 2-tuples *(x,y)*. For example, if *u=(3,0)* and *v=(0,4)*, the function should return 5"
      ]
    },
    {
      "cell_type": "code",
      "metadata": {
        "id": "kDsAHDdnUlyn",
        "outputId": "03639e52-db58-4c9b-f584-acd11a3729d9"
      },
      "source": [
        "import numpy as np\n",
        "\n",
        "def euclidean_function(u,v): \n",
        "    dist = np.sqrt((u[0]-v[0])**2 +(u[1]-v[1])**2 )\n",
        "    return dist\n",
        "\n",
        "euclidean_function((3,0),(0,4))"
      ],
      "execution_count": null,
      "outputs": [
        {
          "data": {
            "text/plain": [
              "5.0"
            ]
          },
          "execution_count": 4,
          "metadata": {},
          "output_type": "execute_result"
        }
      ]
    },
    {
      "cell_type": "markdown",
      "metadata": {
        "id": "FTVKDZ2zUlyo"
      },
      "source": [
        "4\\. Counting letters\n",
        "\n",
        "Write a program to calculate the number of times each character occurs in a given string *s*. Ignore differences in capitalization"
      ]
    },
    {
      "cell_type": "code",
      "metadata": {
        "id": "lQ8o-ObjUlyo"
      },
      "source": [
        "s = \"Write a program that prints the numbers from 1 to 100. \\\n",
        "But for multiples of three print Hello instead of the number and for the multiples of five print World. \\\n",
        "For numbers which are multiples of both three and five print HelloWorld.\""
      ],
      "execution_count": null,
      "outputs": []
    },
    {
      "cell_type": "code",
      "metadata": {
        "id": "6hn-gnskUlyo",
        "outputId": "85a35a86-56c0-49a0-8d7d-c9e06eef19ad"
      },
      "source": [
        "def count_numbers(s):\n",
        "    s=s.lower()\n",
        "    ch_dict = {}    #create a dictionary\n",
        "    for st in s:\n",
        "      if st in ch_dict:\n",
        "        ch_dict[st] += 1     #If the ch is in the dictionary, increase its number\n",
        "      else:\n",
        "        ch_dict[st] = 1      #the ch is not in the dictionary, add\n",
        "        \n",
        "    return ch_dict\n",
        "\n",
        "count_numbers(s)\n",
        "\n",
        "\n",
        "#this is for test\n",
        "#from collections import Counter  \n",
        "#res = Counter(s)\n",
        "#res'''\n"
      ],
      "execution_count": null,
      "outputs": [
        {
          "data": {
            "text/plain": [
              "{'w': 4,\n",
              " 'r': 19,\n",
              " 'i': 12,\n",
              " 't': 19,\n",
              " 'e': 20,\n",
              " ' ': 41,\n",
              " 'a': 7,\n",
              " 'p': 8,\n",
              " 'o': 15,\n",
              " 'g': 1,\n",
              " 'm': 8,\n",
              " 'h': 11,\n",
              " 'n': 10,\n",
              " 's': 7,\n",
              " 'u': 7,\n",
              " 'b': 5,\n",
              " 'f': 10,\n",
              " '1': 2,\n",
              " '0': 2,\n",
              " '.': 3,\n",
              " 'l': 12,\n",
              " 'd': 5,\n",
              " 'v': 2,\n",
              " 'c': 1}"
            ]
          },
          "execution_count": 6,
          "metadata": {},
          "output_type": "execute_result"
        }
      ]
    },
    {
      "cell_type": "markdown",
      "metadata": {
        "id": "-FCHe0kqUlyp"
      },
      "source": [
        "5\\. Isolating the unique\n",
        "\n",
        "Write a function that determines and count the unique numbers in the list:"
      ]
    },
    {
      "cell_type": "code",
      "metadata": {
        "id": "Ff7P5tM8Ulyp"
      },
      "source": [
        "l = [36, 45, 58, 3, 74, 96, 64, 45, 31, 10, 24, 19, 33, 86, 99, 18, 63, 70, 85,\n",
        " 85, 63, 47, 56, 42, 70, 84, 88, 55, 20, 54, 8, 56, 51, 79, 81, 57, 37, 91,\n",
        " 1, 84, 84, 36, 66, 9, 89, 50, 42, 91, 50, 95, 90, 98, 39, 16, 82, 31, 92, 41,\n",
        " 45, 30, 66, 70, 34, 85, 94, 5, 3, 36, 72, 91, 84, 34, 87, 75, 53, 51, 20, 89, 51, 20]"
      ],
      "execution_count": null,
      "outputs": []
    },
    {
      "cell_type": "code",
      "metadata": {
        "id": "aHWTRY6qUlyp",
        "outputId": "704fcf60-8569-46cf-d7fa-4e67e62406cc"
      },
      "source": [
        "def number_of_count(l):\n",
        "    for x in set(l):     #set for each unique character\n",
        "        print ([x,l.count(x)])\n",
        "\n",
        "number_of_count(l)"
      ],
      "execution_count": null,
      "outputs": [
        {
          "name": "stdout",
          "output_type": "stream",
          "text": [
            "[1, 1]\n",
            "[3, 2]\n",
            "[5, 1]\n",
            "[8, 1]\n",
            "[9, 1]\n",
            "[10, 1]\n",
            "[16, 1]\n",
            "[18, 1]\n",
            "[19, 1]\n",
            "[20, 3]\n",
            "[24, 1]\n",
            "[30, 1]\n",
            "[31, 2]\n",
            "[33, 1]\n",
            "[34, 2]\n",
            "[36, 3]\n",
            "[37, 1]\n",
            "[39, 1]\n",
            "[41, 1]\n",
            "[42, 2]\n",
            "[45, 3]\n",
            "[47, 1]\n",
            "[50, 2]\n",
            "[51, 3]\n",
            "[53, 1]\n",
            "[54, 1]\n",
            "[55, 1]\n",
            "[56, 2]\n",
            "[57, 1]\n",
            "[58, 1]\n",
            "[63, 2]\n",
            "[64, 1]\n",
            "[66, 2]\n",
            "[70, 3]\n",
            "[72, 1]\n",
            "[74, 1]\n",
            "[75, 1]\n",
            "[79, 1]\n",
            "[81, 1]\n",
            "[82, 1]\n",
            "[84, 4]\n",
            "[85, 3]\n",
            "[86, 1]\n",
            "[87, 1]\n",
            "[88, 1]\n",
            "[89, 2]\n",
            "[90, 1]\n",
            "[91, 3]\n",
            "[92, 1]\n",
            "[94, 1]\n",
            "[95, 1]\n",
            "[96, 1]\n",
            "[98, 1]\n",
            "[99, 1]\n"
          ]
        }
      ]
    },
    {
      "cell_type": "markdown",
      "metadata": {
        "id": "6WPfmYgRUlyp"
      },
      "source": [
        "Do the same without using user-defined functions, but exploiting only the Python data structures."
      ]
    },
    {
      "cell_type": "code",
      "metadata": {
        "id": "s1YRdT_1Ulyq",
        "outputId": "f1ca5fc0-1328-4f57-8950-88f406860ef5"
      },
      "source": [
        "from collections import Counter  \n",
        "res = Counter(l)\n",
        "res"
      ],
      "execution_count": null,
      "outputs": [
        {
          "data": {
            "text/plain": [
              "Counter({36: 3,\n",
              "         45: 3,\n",
              "         58: 1,\n",
              "         3: 2,\n",
              "         74: 1,\n",
              "         96: 1,\n",
              "         64: 1,\n",
              "         31: 2,\n",
              "         10: 1,\n",
              "         24: 1,\n",
              "         19: 1,\n",
              "         33: 1,\n",
              "         86: 1,\n",
              "         99: 1,\n",
              "         18: 1,\n",
              "         63: 2,\n",
              "         70: 3,\n",
              "         85: 3,\n",
              "         47: 1,\n",
              "         56: 2,\n",
              "         42: 2,\n",
              "         84: 4,\n",
              "         88: 1,\n",
              "         55: 1,\n",
              "         20: 3,\n",
              "         54: 1,\n",
              "         8: 1,\n",
              "         51: 3,\n",
              "         79: 1,\n",
              "         81: 1,\n",
              "         57: 1,\n",
              "         37: 1,\n",
              "         91: 3,\n",
              "         1: 1,\n",
              "         66: 2,\n",
              "         9: 1,\n",
              "         89: 2,\n",
              "         50: 2,\n",
              "         95: 1,\n",
              "         90: 1,\n",
              "         98: 1,\n",
              "         39: 1,\n",
              "         16: 1,\n",
              "         82: 1,\n",
              "         92: 1,\n",
              "         41: 1,\n",
              "         30: 1,\n",
              "         34: 2,\n",
              "         94: 1,\n",
              "         5: 1,\n",
              "         72: 1,\n",
              "         87: 1,\n",
              "         75: 1,\n",
              "         53: 1})"
            ]
          },
          "execution_count": 9,
          "metadata": {},
          "output_type": "execute_result"
        }
      ]
    },
    {
      "cell_type": "markdown",
      "metadata": {
        "id": "ARijWrCdUlyq"
      },
      "source": [
        "6\\. Combination of functions\n",
        "\n",
        "Write two functions - one that returns the square of a number, and one that returns the cube. Now write a third function that returns the number raised to the 6th power using the two previous functions."
      ]
    },
    {
      "cell_type": "code",
      "metadata": {
        "id": "RzEyFo1VUlyq",
        "outputId": "a9ec9467-56cc-48d2-8a54-10d3176d3f61"
      },
      "source": [
        "def square(num):\n",
        "    return  (num*num)\n",
        "\n",
        "def cube(num):\n",
        "    return  (num*num*num) \n",
        " \n",
        "def raised_func(num):\n",
        "  return (square(num)*cube(num)*num)\n",
        "\n",
        "raised_func(2)"
      ],
      "execution_count": null,
      "outputs": [
        {
          "data": {
            "text/plain": [
              "64"
            ]
          },
          "execution_count": 10,
          "metadata": {},
          "output_type": "execute_result"
        }
      ]
    },
    {
      "cell_type": "markdown",
      "metadata": {
        "id": "APjjPoBgUlyq"
      },
      "source": [
        "7\\. Cubes\n",
        "\n",
        "Create a list of the cubes of x for x in *[0, 10]* using:\n",
        "\n",
        "a) a for loop\n",
        "\n",
        "b) a list comprehension"
      ]
    },
    {
      "cell_type": "code",
      "metadata": {
        "id": "Pne74mdrUlyr",
        "outputId": "2db33944-5633-480d-e97d-a52691e9b438"
      },
      "source": [
        "l=[]\n",
        "for i in range(1,11):\n",
        "    l.append(i**3)\n",
        "\n",
        "print(l)\n",
        "\n",
        "k=[i**3 for i in range(1,11)]\n",
        "\n",
        "print(k)"
      ],
      "execution_count": null,
      "outputs": [
        {
          "name": "stdout",
          "output_type": "stream",
          "text": [
            "[1, 8, 27, 64, 125, 216, 343, 512, 729, 1000]\n",
            "[1, 8, 27, 64, 125, 216, 343, 512, 729, 1000]\n"
          ]
        }
      ]
    },
    {
      "cell_type": "markdown",
      "metadata": {
        "id": "vX1l3baJUlyr"
      },
      "source": [
        "8\\. Nested list comprehension\n",
        "\n",
        "A Pythagorean triple is an integer solution to the Pythagorean theorem $a^2+b^2=c^2$. The first Pythagorean triple is (3,4,5). Find and put in a tuple all unique Pythagorean triples for the positive integers a, b and c less than 100."
      ]
    },
    {
      "cell_type": "code",
      "metadata": {
        "id": "tBqwx87PUlyr",
        "outputId": "99d02f2f-8885-454a-9e10-ea569c0343f1"
      },
      "source": [
        "from math import gcd\n",
        "\n",
        "def genTriples(k):\n",
        "    n,m = 1,2\n",
        "    while m*m+1<k:                  \n",
        "        if n>=m: n,m = m%2,m+1      # n reached m, advance m, reset n\n",
        "        z = m*m+n*n                  \n",
        "        if z >= k: n=m;continue     \n",
        "        if gcd(n,m) == 1:           \n",
        "            yield m*m-n*n,2*m*n,z   \n",
        "        n += 2  \n",
        "        \n",
        "        \n",
        "for x,y,z in genTriples(100): \n",
        "    print(x,y,z)"
      ],
      "execution_count": null,
      "outputs": [
        {
          "name": "stdout",
          "output_type": "stream",
          "text": [
            "3 4 5\n",
            "5 12 13\n",
            "15 8 17\n",
            "7 24 25\n",
            "21 20 29\n",
            "9 40 41\n",
            "35 12 37\n",
            "11 60 61\n",
            "45 28 53\n",
            "33 56 65\n",
            "13 84 85\n",
            "63 16 65\n",
            "55 48 73\n",
            "39 80 89\n",
            "77 36 85\n",
            "65 72 97\n"
          ]
        }
      ]
    },
    {
      "cell_type": "markdown",
      "metadata": {
        "id": "xEsXuaVVUlyr"
      },
      "source": [
        "9\\. Normalization\n",
        "\n",
        "Write a function that takes a tuple of numbers and returns it with the entries normalized to one"
      ]
    },
    {
      "cell_type": "code",
      "metadata": {
        "id": "MzJ_oj-6Ulys",
        "outputId": "f1ad6fb3-7ee5-4023-a991-1fe252f22d69"
      },
      "source": [
        "import numpy as np\n",
        "import random\n",
        "\n",
        "def normalize_list(list):\n",
        "    max_value = max(list)\n",
        "    min_value = min(list)\n",
        "    for i in range(0, len(list)):\n",
        "        list[i] = (list[i] - min_value) / (max_value - min_value)\n",
        "    return list\n",
        "    \n",
        "\n",
        "\n",
        "randomlist = random.sample(range(10, 30), 5)    #Generate 5 random numbers between 10 and 30\n",
        "print(\"Data = \", randomlist)\n",
        "\n",
        "n_randomlist=normalize_list(randomlist)\n",
        "print(\"Normalized Data = \", n_randomlist)\n"
      ],
      "execution_count": null,
      "outputs": [
        {
          "name": "stdout",
          "output_type": "stream",
          "text": [
            "Data =  [28, 10, 29, 15, 26]\n",
            "Normalized Data =  [0.9473684210526315, 0.0, 1.0, 0.2631578947368421, 0.8421052631578947]\n"
          ]
        }
      ]
    },
    {
      "cell_type": "code",
      "metadata": {
        "id": "R-n-j9OIUlys"
      },
      "source": [
        ""
      ],
      "execution_count": null,
      "outputs": []
    }
  ]
}