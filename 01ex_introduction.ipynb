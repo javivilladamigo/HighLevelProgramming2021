{
 "cells": [
  {
   "cell_type": "markdown",
   "metadata": {},
   "source": [
    "1. The HelloWorld replacement\n",
    "\n",
    "a) Write a program that prints the numbers from 1 to 100. But for multiples of three print \"Hello\" instead of the number and for the multiples of five print \"World\". For numbers which are multiples of both three and five print \"HelloWorld\".\n",
    "\n",
    "b) Put the result in a tuple and substitute \"Hello\" with \"Python\" and \"World\" with \"Works\"."
   ]
  },
  {
   "cell_type": "code",
   "execution_count": 35,
   "metadata": {},
   "outputs": [
    {
     "name": "stdout",
     "output_type": "stream",
     "text": [
      "1\n",
      "2\n",
      "Hello\n",
      "4\n",
      "World\n",
      "Hello\n",
      "7\n",
      "8\n",
      "Hello\n",
      "World\n",
      "11\n",
      "Hello\n",
      "13\n",
      "14\n",
      "HelloWorld\n",
      "16\n",
      "17\n",
      "Hello\n",
      "19\n",
      "World\n",
      "Hello\n",
      "22\n",
      "23\n",
      "Hello\n",
      "World\n",
      "26\n",
      "Hello\n",
      "28\n",
      "29\n",
      "HelloWorld\n",
      "31\n",
      "32\n",
      "Hello\n",
      "34\n",
      "World\n",
      "Hello\n",
      "37\n",
      "38\n",
      "Hello\n",
      "World\n",
      "41\n",
      "Hello\n",
      "43\n",
      "44\n",
      "HelloWorld\n",
      "46\n",
      "47\n",
      "Hello\n",
      "49\n",
      "World\n",
      "Hello\n",
      "52\n",
      "53\n",
      "Hello\n",
      "World\n",
      "56\n",
      "Hello\n",
      "58\n",
      "59\n",
      "HelloWorld\n",
      "61\n",
      "62\n",
      "Hello\n",
      "64\n",
      "World\n",
      "Hello\n",
      "67\n",
      "68\n",
      "Hello\n",
      "World\n",
      "71\n",
      "Hello\n",
      "73\n",
      "74\n",
      "HelloWorld\n",
      "76\n",
      "77\n",
      "Hello\n",
      "79\n",
      "World\n",
      "Hello\n",
      "82\n",
      "83\n",
      "Hello\n",
      "World\n",
      "86\n",
      "Hello\n",
      "88\n",
      "89\n",
      "HelloWorld\n",
      "91\n",
      "92\n",
      "Hello\n",
      "94\n",
      "World\n",
      "Hello\n",
      "97\n",
      "98\n",
      "Hello\n",
      "World\n"
     ]
    }
   ],
   "source": [
    "'''\n",
    "    Solution (a).\n",
    "'''\n",
    "for i in range(1, 101):\n",
    "    if (i % 3) == 0 and (i % 5) == 0:\n",
    "        print(\"HelloWorld\")\n",
    "    elif (i % 3) == 0:\n",
    "        print(\"Hello\")\n",
    "    elif (i % 5) == 0:\n",
    "        print(\"World\")\n",
    "    else:\n",
    "        print(i)"
   ]
  },
  {
   "cell_type": "code",
   "execution_count": 36,
   "metadata": {},
   "outputs": [
    {
     "name": "stdout",
     "output_type": "stream",
     "text": [
      "(1, 2, 'Python', 4, 'Works', 'Python', 7, 8, 'Python', 'Works', 11, 'Python', 13, 14, 'HelloWorld', 16, 17, 'Python', 19, 'Works', 'Python', 22, 23, 'Python', 'Works', 26, 'Python', 28, 29, 'HelloWorld', 31, 32, 'Python', 34, 'Works', 'Python', 37, 38, 'Python', 'Works', 41, 'Python', 43, 44, 'HelloWorld', 46, 47, 'Python', 49, 'Works', 'Python', 52, 53, 'Python', 'Works', 56, 'Python', 58, 59, 'HelloWorld', 61, 62, 'Python', 64, 'Works', 'Python', 67, 68, 'Python', 'Works', 71, 'Python', 73, 74, 'HelloWorld', 76, 77, 'Python', 79, 'Works', 'Python', 82, 83, 'Python', 'Works', 86, 'Python', 88, 89, 'HelloWorld', 91, 92, 'Python', 94, 'Works', 'Python', 97, 98, 'Python', 'Works')\n"
     ]
    }
   ],
   "source": [
    "'''\n",
    "    Solution (b).\n",
    "    Tuples are immutable objects and thus\n",
    "    I use a list and then convert it to a tuple.\n",
    "'''\n",
    "\n",
    "l = []\n",
    "\n",
    "# put result in a list\n",
    "for i in range(1, 101):\n",
    "    if (i % 3) == 0 and (i % 5) == 0:\n",
    "        l.append(\"HelloWorld\")\n",
    "    elif (i % 3) == 0:\n",
    "        l.append(\"Hello\")\n",
    "    elif (i % 5) == 0:\n",
    "        l.append(\"World\")\n",
    "    else:\n",
    "        l.append(i)\n",
    "        \n",
    "# substitute\n",
    "for i in range(0, 100):\n",
    "    if l[i] == \"Hello\":\n",
    "        l[i] = \"Python\"\n",
    "    elif l[i] == \"World\":\n",
    "        l[i] = \"Works\"\n",
    "        \n",
    "# convert and print\n",
    "t = tuple(l)\n",
    "print(t)"
   ]
  },
  {
   "cell_type": "markdown",
   "metadata": {},
   "source": [
    "2\\. The swap function\n",
    "\n",
    "Write a function that swap the values of two input variables x and y (whatever the type). Try to do that also without a temporary variable"
   ]
  },
  {
   "cell_type": "code",
   "execution_count": 37,
   "metadata": {},
   "outputs": [
    {
     "name": "stdout",
     "output_type": "stream",
     "text": [
      "Value of the first variable: Gauss\n",
      "Value of the second variable: Dirac\n",
      "Before the swap: ('Gauss', 'Dirac')\n",
      "After the swap: ('Dirac', 'Gauss')\n"
     ]
    },
    {
     "data": {
      "text/plain": [
       "('Dirac', 'Gauss')"
      ]
     },
     "execution_count": 37,
     "metadata": {},
     "output_type": "execute_result"
    }
   ],
   "source": [
    "'''\n",
    "    Using a temporary variable.\n",
    "'''\n",
    "def swap(x, y):\n",
    "    print(\"Before the swap:\", (x, y))\n",
    "    temp = x \n",
    "    x = y\n",
    "    y = temp\n",
    "    print(\"After the swap:\", (x, y))\n",
    "    return(x, y)\n",
    "\n",
    "# example\n",
    "x = input(\"Value of the first variable: \")\n",
    "y = input(\"Value of the second variable: \")\n",
    "swap(x, y)"
   ]
  },
  {
   "cell_type": "code",
   "execution_count": 38,
   "metadata": {},
   "outputs": [
    {
     "name": "stdout",
     "output_type": "stream",
     "text": [
      "Value of the first integer variable: Pontecorvo\n",
      "Value of the second integer variable: Maxwell\n",
      "Before the swap:  ('Pontecorvo', 'Maxwell')\n",
      "After the swap: ('Maxwell', 'Pontecorvo')\n"
     ]
    },
    {
     "data": {
      "text/plain": [
       "('Maxwell', 'Pontecorvo')"
      ]
     },
     "execution_count": 38,
     "metadata": {},
     "output_type": "execute_result"
    }
   ],
   "source": [
    "'''\n",
    "    Without using a temporary variable.\n",
    "'''\n",
    "def swap_nt(t, z):\n",
    "    print(\"Before the swap: \", (t, z))\n",
    "    t, z = z, t\n",
    "    print(\"After the swap:\", (t, z))\n",
    "    return(t, z)\n",
    "\n",
    "# example\n",
    "t = input(\"Value of the first integer variable: \")\n",
    "z = input(\"Value of the second integer variable: \")\n",
    "swap_nt(t, z)"
   ]
  },
  {
   "cell_type": "markdown",
   "metadata": {},
   "source": [
    "3\\. Computing the distance\n",
    "\n",
    "Write a function that calculates and returns the euclidean distance between two points *u* and *v*, where *u* and *v* are both 2-tuples *(x,y)*. For example, if *u=(3,0)* and *v=(0,4)*, the function should return 5"
   ]
  },
  {
   "cell_type": "code",
   "execution_count": 39,
   "metadata": {},
   "outputs": [],
   "source": [
    "# retrieve sqrt function\n",
    "from math import sqrt"
   ]
  },
  {
   "cell_type": "code",
   "execution_count": 40,
   "metadata": {},
   "outputs": [
    {
     "name": "stdout",
     "output_type": "stream",
     "text": [
      "Input values separated by a comma for each point, e.g.: 0, 4\n",
      "x, y coordinates of the first point: 3, 0\n",
      "x, y coordinates of the second point: 0, 4\n"
     ]
    },
    {
     "data": {
      "text/plain": [
       "5.0"
      ]
     },
     "execution_count": 40,
     "metadata": {},
     "output_type": "execute_result"
    }
   ],
   "source": [
    "'''\n",
    "    Distance function. Accepts lists or tuples\n",
    "    as parameters. Exploits the sqrt function or \n",
    "    else x**0.5 can be used.\n",
    "'''\n",
    "def dist(u, v):\n",
    "    d = sqrt( (u[0] - v[0])**2 + (u[1] - v[1])**2 )\n",
    "    return d\n",
    "\n",
    "# example\n",
    "print(\"Input values separated by a comma for each point, e.g.: 0, 4\")\n",
    "u = tuple(int(i) for i in input(\"x, y coordinates of the first point: \").split(\",\"))\n",
    "v = tuple(int(i) for i in input(\"x, y coordinates of the second point: \").split(\",\"))\n",
    "dist(u, v)"
   ]
  },
  {
   "cell_type": "markdown",
   "metadata": {},
   "source": [
    "4\\. Counting letters\n",
    "\n",
    "Write a program to calculate the number of times each character occurs in a given string *s*. Ignore differences in capitalization"
   ]
  },
  {
   "cell_type": "code",
   "execution_count": 41,
   "metadata": {},
   "outputs": [
    {
     "name": "stdout",
     "output_type": "stream",
     "text": [
      "w occurs 4 times.\n",
      "r occurs 19 times.\n",
      "i occurs 12 times.\n",
      "t occurs 19 times.\n",
      "e occurs 20 times.\n",
      "  occurs 41 times.\n",
      "a occurs 7 times.\n",
      "p occurs 8 times.\n",
      "o occurs 15 times.\n",
      "g occurs 1 times.\n",
      "m occurs 8 times.\n",
      "h occurs 11 times.\n",
      "n occurs 10 times.\n",
      "s occurs 7 times.\n",
      "u occurs 7 times.\n",
      "b occurs 5 times.\n",
      "f occurs 10 times.\n",
      "1 occurs 2 times.\n",
      "0 occurs 2 times.\n",
      ". occurs 3 times.\n",
      "l occurs 12 times.\n",
      "d occurs 5 times.\n",
      "v occurs 2 times.\n",
      "c occurs 1 times.\n"
     ]
    }
   ],
   "source": [
    "'''\n",
    "    Function that counts the number of times a\n",
    "    character c occurs in a string s, ignoring\n",
    "    capitalization. Note that the built-in function\n",
    "    has the same output, e.g.:\n",
    "    print(\"Built-in:\", s.lower().count(\"a\"))\n",
    "'''\n",
    "def count_char(c, s):\n",
    "    s = s.lower()    \n",
    "    counter = 0\n",
    "    for i in range(len(s)):\n",
    "        if s[i] == c:\n",
    "            counter += 1\n",
    "    return counter\n",
    "\n",
    "# example\n",
    "s = \"Write a program that prints the numbers from 1 to 100. \\\n",
    "But for multiples of three print Hello instead of the number and for the multiples of five print World. \\\n",
    "For numbers which are multiples of both three and five print HelloWorld.\"\n",
    "\n",
    "letters = []\n",
    "for c in s.lower():\n",
    "    if c not in letters:\n",
    "        print(c + \" occurs \" + str(count_char(c, s)) + \" times.\")\n",
    "        letters.append(c)"
   ]
  },
  {
   "cell_type": "code",
   "execution_count": 42,
   "metadata": {},
   "outputs": [
    {
     "name": "stdout",
     "output_type": "stream",
     "text": [
      "{'w': 4, 'r': 19, 'i': 12, 't': 19, 'e': 20, ' ': 41, 'a': 7, 'p': 8, 'o': 15, 'g': 1, 'm': 8, 'h': 11, 'n': 10, 's': 7, 'u': 7, 'b': 5, 'f': 10, '1': 2, '0': 2, '.': 3, 'l': 12, 'd': 5, 'v': 2, 'c': 1}\n"
     ]
    }
   ],
   "source": [
    "'''\n",
    "    The same can be done using a dictionary.\n",
    "    Create a key and increase it by a unit everytime\n",
    "    the corresponding character is found, ignoring\n",
    "    capitalization.\n",
    "'''\n",
    "d = {}\n",
    "\n",
    "for i in s.lower():\n",
    "    if i in d:\n",
    "        d[i] += 1\n",
    "    else:\n",
    "        d[i] = 1\n",
    "        \n",
    "print(d)"
   ]
  },
  {
   "cell_type": "markdown",
   "metadata": {},
   "source": [
    "5\\. Isolating the unique\n",
    "\n",
    "Write a function that determines and count the unique numbers in the list:"
   ]
  },
  {
   "cell_type": "code",
   "execution_count": 43,
   "metadata": {},
   "outputs": [
    {
     "name": "stdout",
     "output_type": "stream",
     "text": [
      "[36, 45, 58, 3, 74, 96, 64, 31, 10, 24, 19, 33, 86, 99, 18, 63, 70, 85, 47, 56, 42, 84, 88, 55, 20, 54, 8, 51, 79, 81, 57, 37, 91, 1, 66, 9, 89, 50, 95, 90, 98, 39, 16, 82, 92, 41, 30, 34, 94, 5, 72, 87, 75, 53]\n",
      "The entered list has 54 unique elements and 80 in total.\n"
     ]
    }
   ],
   "source": [
    "'''\n",
    "    I assume that \"unique members\" refers to the numbers \n",
    "    which exist in the list ignoring repetitions, e.g. \n",
    "    if the list has the number 1 multiple times, I count\n",
    "    it as only one entry.\n",
    "'''\n",
    "def count_unique(l):\n",
    "    un_numbers = []\n",
    "    for i in l:\n",
    "        if i not in un_numbers:\n",
    "            un_numbers.append(i)\n",
    "    print(un_numbers)\n",
    "    return len(un_numbers)\n",
    "\n",
    "# example\n",
    "l = [36, 45, 58, 3, 74, 96, 64, 45, 31, 10, 24, 19, 33, 86, 99, 18, 63, 70, 85,\n",
    " 85, 63, 47, 56, 42, 70, 84, 88, 55, 20, 54, 8, 56, 51, 79, 81, 57, 37, 91,\n",
    " 1, 84, 84, 36, 66, 9, 89, 50, 42, 91, 50, 95, 90, 98, 39, 16, 82, 31, 92, 41,\n",
    " 45, 30, 66, 70, 34, 85, 94, 5, 3, 36, 72, 91, 84, 34, 87, 75, 53, 51, 20, 89, 51, 20]\n",
    "\n",
    "print(\"The entered list has\", count_unique(l), \"unique elements and\",\n",
    "      len(l), \"in total.\")"
   ]
  },
  {
   "cell_type": "markdown",
   "metadata": {},
   "source": [
    "Do the same without using user-defined functions, but exploiting only the Python data structures."
   ]
  },
  {
   "cell_type": "code",
   "execution_count": 44,
   "metadata": {},
   "outputs": [
    {
     "name": "stdout",
     "output_type": "stream",
     "text": [
      "{1, 3, 5, 8, 9, 10, 16, 18, 19, 20, 24, 30, 31, 33, 34, 36, 37, 39, 41, 42, 45, 47, 50, 51, 53, 54, 55, 56, 57, 58, 63, 64, 66, 70, 72, 74, 75, 79, 81, 82, 84, 85, 86, 87, 88, 89, 90, 91, 92, 94, 95, 96, 98, 99}\n",
      "The entered list has 54 unique elements and 80 elements in total.\n"
     ]
    }
   ],
   "source": [
    "'''\n",
    "    Sets do not support duplicates and therefore\n",
    "    allow to determine unique elements automatically.\n",
    "    In this way, entries are also ordered.\n",
    "'''\n",
    "s = set(l)\n",
    "\n",
    "# example\n",
    "print(s)\n",
    "print(\"The entered list has\", len(s),\n",
    "      \"unique elements and\", len(l), \"elements in total.\")"
   ]
  },
  {
   "cell_type": "markdown",
   "metadata": {},
   "source": [
    "6\\. Combination of functions\n",
    "\n",
    "Write two functions - one that returns the square of a number, and one that returns the cube. Now write a third function that returns the number raised to the 6th power using the two previous functions."
   ]
  },
  {
   "cell_type": "code",
   "execution_count": 45,
   "metadata": {},
   "outputs": [
    {
     "name": "stdout",
     "output_type": "stream",
     "text": [
      "Enter a number: 2.0\n",
      "Square: 4.0 \n",
      "Cube: 8.0 \n",
      "Sixth power: 64.0\n"
     ]
    }
   ],
   "source": [
    "# base functions\n",
    "def square(x):\n",
    "    return x**2\n",
    "\n",
    "def cube(x):\n",
    "    return x**3\n",
    "\n",
    "# composition of the base functions\n",
    "def sixth(x):\n",
    "    return cube(square(x))\n",
    "\n",
    "# example\n",
    "x = float(input(\"Enter a number: \"))\n",
    "print(\"Square:\", square(x), \"\\nCube:\", cube(x), \"\\nSixth power:\", sixth(x))"
   ]
  },
  {
   "cell_type": "markdown",
   "metadata": {},
   "source": [
    "7\\. Cubes\n",
    "\n",
    "Create a list of the cubes of x for x in *[0, 10]* using:\n",
    "\n",
    "a) a for loop\n",
    "\n",
    "b) a list comprehension"
   ]
  },
  {
   "cell_type": "code",
   "execution_count": 46,
   "metadata": {},
   "outputs": [
    {
     "name": "stdout",
     "output_type": "stream",
     "text": [
      "[0, 1, 8, 27, 64, 125, 216, 343, 512, 729, 1000]\n",
      "[0, 1, 8, 27, 64, 125, 216, 343, 512, 729, 1000]\n"
     ]
    }
   ],
   "source": [
    "'''\n",
    "    Solution (a).\n",
    "    Using a loop.\n",
    "'''\n",
    "l = []\n",
    "for x in range(0, 11):\n",
    "    l.append(cube(x))\n",
    "\n",
    "print(l)\n",
    "\n",
    "'''\n",
    "    Solution (b).\n",
    "    Using list comprehension.\n",
    "'''\n",
    "l = [x**3 for x in range(0, 11)]\n",
    "\n",
    "print(l)"
   ]
  },
  {
   "cell_type": "markdown",
   "metadata": {},
   "source": [
    "8\\. Nested list comprehension\n",
    "\n",
    "A Pythagorean triple is an integer solution to the Pythagorean theorem $a^2+b^2=c^2$. The first Pythagorean triple is (3,4,5). Find and put in a tuple all unique Pythagorean triples for the positive integers a, b and c less than 100."
   ]
  },
  {
   "cell_type": "code",
   "execution_count": 47,
   "metadata": {},
   "outputs": [
    {
     "name": "stdout",
     "output_type": "stream",
     "text": [
      "There are 50 unique triples for a, b, c integers less than 100.\n",
      "---\n",
      "((3, 4, 5), (6, 8, 10), (5, 12, 13), (9, 12, 15), (8, 15, 17), (12, 16, 20), (15, 20, 25), (7, 24, 25), (10, 24, 26), (20, 21, 29), (18, 24, 30), (16, 30, 34), (21, 28, 35), (12, 35, 37), (15, 36, 39), (24, 32, 40), (9, 40, 41), (27, 36, 45), (30, 40, 50), (14, 48, 50), (24, 45, 51), (20, 48, 52), (28, 45, 53), (33, 44, 55), (40, 42, 58), (36, 48, 60), (11, 60, 61), (39, 52, 65), (33, 56, 65), (25, 60, 65), (16, 63, 65), (32, 60, 68), (42, 56, 70), (48, 55, 73), (24, 70, 74), (45, 60, 75), (21, 72, 75), (30, 72, 78), (48, 64, 80), (18, 80, 82), (51, 68, 85), (40, 75, 85), (36, 77, 85), (13, 84, 85), (60, 63, 87), (39, 80, 89), (54, 72, 90), (35, 84, 91), (57, 76, 95), (65, 72, 97))\n",
      "---\n",
      "((3, 4, 5), (6, 8, 10), (5, 12, 13), (9, 12, 15), (8, 15, 17), (12, 16, 20), (15, 20, 25), (7, 24, 25), (10, 24, 26), (20, 21, 29), (18, 24, 30), (16, 30, 34), (21, 28, 35), (12, 35, 37), (15, 36, 39), (24, 32, 40), (9, 40, 41), (27, 36, 45), (30, 40, 50), (14, 48, 50), (24, 45, 51), (20, 48, 52), (28, 45, 53), (33, 44, 55), (40, 42, 58), (36, 48, 60), (11, 60, 61), (39, 52, 65), (33, 56, 65), (25, 60, 65), (16, 63, 65), (32, 60, 68), (42, 56, 70), (48, 55, 73), (24, 70, 74), (45, 60, 75), (21, 72, 75), (30, 72, 78), (48, 64, 80), (18, 80, 82), (51, 68, 85), (40, 75, 85), (36, 77, 85), (13, 84, 85), (60, 63, 87), (39, 80, 89), (54, 72, 90), (35, 84, 91), (57, 76, 95), (65, 72, 97))\n"
     ]
    }
   ],
   "source": [
    "'''\n",
    "    Using a loop. We want only the unique Pythagorean\n",
    "    triples, namely different triples linked by a permutation \n",
    "    are equivalent, e.g.: (3, 4, 5) and (4, 3, 5) are counted\n",
    "    as 1 in (3, 4, 5).\n",
    "'''\n",
    "l = []\n",
    "\n",
    "for c in range(1, 100):\n",
    "    for b in range(1, c):\n",
    "        for a in range(1, b):\n",
    "            if (a**2 + b**2) == c**2:\n",
    "                l.append((a,b,c))\n",
    "\n",
    "t = tuple(l)\n",
    "                \n",
    "'''\n",
    "    Using list comprehension.\n",
    "'''\n",
    "triples = tuple((a, b, c) for c in range(1, 100) for b in range(1, c) for a in range(1, b) if a**2 + b**2 == c**2)\n",
    "\n",
    "# result\n",
    "print(\"There are\", len(t), \"unique triples for a, b, c integers less than 100.\")\n",
    "print(\"---\")\n",
    "print(t)\n",
    "print(\"---\")\n",
    "print(triples)"
   ]
  },
  {
   "cell_type": "markdown",
   "metadata": {},
   "source": [
    "9\\. Normalization\n",
    "\n",
    "Write a function that takes a tuple of numbers and returns it with the entries normalized to one"
   ]
  },
  {
   "cell_type": "code",
   "execution_count": 48,
   "metadata": {},
   "outputs": [
    {
     "name": "stdout",
     "output_type": "stream",
     "text": [
      "Input values separated by a comma, e.g.: 0, 4, 6\n",
      "Enter some values: 2, 3, 5, 7, 8, 10, 2, 4\n",
      "Before normalization: (2, 3, 5, 7, 8, 10, 2, 4)\n",
      "After normalization: (0.2, 0.3, 0.5, 0.7, 0.8, 1.0, 0.2, 0.4)\n"
     ]
    }
   ],
   "source": [
    "'''\n",
    "    The function divides all entries by the maximum \n",
    "    number in the list, so that the bigger entry\n",
    "    is 1 and other entries are less than 1.\n",
    "'''\n",
    "def normalize(x):\n",
    "    l = []\n",
    "    for i in x:\n",
    "        l.append(i/max(x))\n",
    "    return tuple(l)\n",
    "\n",
    "# example\n",
    "print(\"Input values separated by a comma, e.g.: 0, 4, 6\")\n",
    "x = tuple(int(i) for i in input(\"Enter some values: \").split(\",\"))\n",
    "\n",
    "print(\"Before normalization: \" + str(x))\n",
    "print(\"After normalization: \" + str(normalize(x)))"
   ]
  }
 ],
 "metadata": {
  "kernelspec": {
   "display_name": "Python 3",
   "language": "python",
   "name": "python3"
  },
  "language_info": {
   "codemirror_mode": {
    "name": "ipython",
    "version": 3
   },
   "file_extension": ".py",
   "mimetype": "text/x-python",
   "name": "python",
   "nbconvert_exporter": "python",
   "pygments_lexer": "ipython3",
   "version": "3.8.8"
  }
 },
 "nbformat": 4,
 "nbformat_minor": 2
}
