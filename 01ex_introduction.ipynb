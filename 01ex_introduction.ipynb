{
 "cells": [
  {
   "cell_type": "markdown",
   "metadata": {},
   "source": [
    "1. The HelloWorld replacement\n",
    "\n",
    "a) Write a program that prints the numbers from 1 to 100. But for multiples of three print \"Hello\" instead of the number and for the multiples of five print \"World\". For numbers which are multiples of both three and five print \"HelloWorld\".\n",
    "\n",
    "b) Put the result in a tuple and substitute \"Hello\" with \"Python\" and \"World\" with \"Works\"."
   ]
  },
  {
   "cell_type": "code",
   "execution_count": 1,
   "metadata": {},
   "outputs": [
    {
     "name": "stdout",
     "output_type": "stream",
     "text": [
      "1, 2, Hello, 4, World, Hello, 7, 8, Hello, World, 11, Hello, 13, 14, HelloWorld, 16, 17, Hello, 19, World, Hello, 22, 23, Hello, World, 26, Hello, 28, 29, HelloWorld, 31, 32, Hello, 34, World, Hello, 37, 38, Hello, World, 41, Hello, 43, 44, HelloWorld, 46, 47, Hello, 49, World, Hello, 52, 53, Hello, World, 56, Hello, 58, 59, HelloWorld, 61, 62, Hello, 64, World, Hello, 67, 68, Hello, World, 71, Hello, 73, 74, HelloWorld, 76, 77, Hello, 79, World, Hello, 82, 83, Hello, World, 86, Hello, 88, 89, HelloWorld, 91, 92, Hello, 94, World, Hello, 97, 98, Hello, World, \n",
      "\n",
      "('1', '2', 'Hello', '4', 'World', 'Hello', '7', '8', 'Hello', 'World', '11', 'Hello', '13', '14', 'HelloWorld', '16', '17', 'Hello', '19', 'World', 'Hello', '22', '23', 'Hello', 'World', '26', 'Hello', '28', '29', 'HelloWorld', '31', '32', 'Hello', '34', 'World', 'Hello', '37', '38', 'Hello', 'World', '41', 'Hello', '43', '44', 'HelloWorld', '46', '47', 'Hello', '49', 'World', 'Hello', '52', '53', 'Hello', 'World', '56', 'Hello', '58', '59', 'HelloWorld', '61', '62', 'Hello', '64', 'World', 'Hello', '67', '68', 'Hello', 'World', '71', 'Hello', '73', '74', 'HelloWorld', '76', '77', 'Hello', '79', 'World', 'Hello', '82', '83', 'Hello', 'World', '86', 'Hello', '88', '89', 'HelloWorld', '91', '92', 'Hello', '94', 'World', 'Hello', '97', '98', 'Hello', 'World', '')\n",
      "1, 2, Python, 4, Works, Python, 7, 8, Python, Works, 11, Python, 13, 14, PythonWorks, 16, 17, Python, 19, Works, Python, 22, 23, Python, Works, 26, Python, 28, 29, PythonWorks, 31, 32, Python, 34, Works, Python, 37, 38, Python, Works, 41, Python, 43, 44, PythonWorks, 46, 47, Python, 49, Works, Python, 52, 53, Python, Works, 56, Python, 58, 59, PythonWorks, 61, 62, Python, 64, Works, Python, 67, 68, Python, Works, 71, Python, 73, 74, PythonWorks, 76, 77, Python, 79, Works, Python, 82, 83, Python, Works, 86, Python, 88, 89, PythonWorks, 91, 92, Python, 94, Works, Python, 97, 98, Python, Works, \n"
     ]
    }
   ],
   "source": [
    "# a.\n",
    "\n",
    "lim = 100\n",
    "out_str = '' # the string to print out\n",
    "\n",
    "for i in range (1, lim + 1):\n",
    "    if not (i % 3 == 0) and not (i % 5 == 0):\n",
    "        out_str += str(i)\n",
    "    if i % 3 == 0: out_str += 'Hello'\n",
    "    if i % 5 == 0: out_str += 'World'\n",
    "    out_str += ', '\n",
    "    \n",
    "print(out_str)\n",
    "print()\n",
    "\n",
    "# b.\n",
    "\n",
    "# convert the output string into a tuple of strings\n",
    "out_tuple = tuple(out_str.split(', '))\n",
    "print(out_tuple)\n",
    "\n",
    "out = []\n",
    "for s in out_tuple:\n",
    "    s = s.replace('Hello', 'Python')\n",
    "    s = s.replace('World', 'Works')\n",
    "    out.append(s)\n",
    "\n",
    "# output the new string\n",
    "print(', '.join(out))"
   ]
  },
  {
   "cell_type": "markdown",
   "metadata": {},
   "source": [
    "2\\. The swap function\n",
    "\n",
    "Write a function that swap the values of two input variables x and y (whatever the type). Try to do that also without a temporary variable"
   ]
  },
  {
   "cell_type": "code",
   "execution_count": 2,
   "metadata": {},
   "outputs": [
    {
     "name": "stdout",
     "output_type": "stream",
     "text": [
      "(10, 5)\n",
      "(10, 5)\n"
     ]
    }
   ],
   "source": [
    "def swap(x, y):\n",
    "    tmp = x\n",
    "    x = y\n",
    "    y = tmp\n",
    "    return x, y\n",
    "\n",
    "def swap2(x, y):\n",
    "    return y, x\n",
    "\n",
    "x = 5\n",
    "y = 10\n",
    "print(swap(x, y))\n",
    "print(swap2(x, y))"
   ]
  },
  {
   "cell_type": "markdown",
   "metadata": {},
   "source": [
    "3\\. Computing the distance\n",
    "\n",
    "Write a function that calculates and returns the euclidean distance between two points *u* and *v*, where *u* and *v* are both 2-tuples *(x,y)*. For example, if *u=(3,0)* and *v=(0,4)*, the function should return 5"
   ]
  },
  {
   "cell_type": "code",
   "execution_count": 3,
   "metadata": {},
   "outputs": [
    {
     "name": "stdout",
     "output_type": "stream",
     "text": [
      "5.0\n"
     ]
    }
   ],
   "source": [
    "# computes the Euclidean distance between two n-dimensional points\n",
    "def distance(u: tuple, v: tuple):\n",
    "    dist = 0\n",
    "    for i in range(len(u)):\n",
    "        dist += (u[i] - v[i])**2\n",
    "    return dist**.5\n",
    "\n",
    "u = (3, 0)\n",
    "v = (0, 4)\n",
    "print(distance(u, v))"
   ]
  },
  {
   "cell_type": "markdown",
   "metadata": {},
   "source": [
    "4\\. Counting letters\n",
    "\n",
    "Write a program to calculate the number of times each character occurs in a given string *s*. Ignore differences in capitalization"
   ]
  },
  {
   "cell_type": "code",
   "execution_count": 4,
   "metadata": {},
   "outputs": [],
   "source": [
    "s = \"Write a program that prints the numbers from 1 to 100. \\\n",
    "But for multiples of three print Hello instead of the number and for the multiples of five print World. \\\n",
    "For numbers which are multiples of both three and five print HelloWorld.\""
   ]
  },
  {
   "cell_type": "code",
   "execution_count": 5,
   "metadata": {},
   "outputs": [
    {
     "name": "stdout",
     "output_type": "stream",
     "text": [
      "w : 4\n",
      "r : 19\n",
      "i : 12\n",
      "t : 19\n",
      "e : 20\n",
      "  : 41\n",
      "a : 7\n",
      "p : 8\n",
      "o : 15\n",
      "g : 1\n",
      "m : 8\n",
      "h : 11\n",
      "n : 10\n",
      "s : 7\n",
      "u : 7\n",
      "b : 5\n",
      "f : 10\n",
      "1 : 2\n",
      "0 : 2\n",
      ". : 3\n",
      "l : 12\n",
      "d : 5\n",
      "v : 2\n",
      "c : 1\n"
     ]
    }
   ],
   "source": [
    "letters_freq = {} # dictionary w/ key = letter and value = # occurences\n",
    "\n",
    "for c in s.lower():\n",
    "    letters_freq.setdefault(c, 0)\n",
    "    letters_freq[c] += 1\n",
    "\n",
    "for char, count in letters_freq.items():\n",
    "    print(char, ':', count)"
   ]
  },
  {
   "cell_type": "markdown",
   "metadata": {},
   "source": [
    "5\\. Isolating the unique\n",
    "\n",
    "Write a function that determines and count the unique numbers in the list:"
   ]
  },
  {
   "cell_type": "code",
   "execution_count": 6,
   "metadata": {},
   "outputs": [],
   "source": [
    "l = [36, 45, 58, 3, 74, 96, 64, 45, 31, 10, 24, 19, 33, 86, 99, 18, 63, 70, 85,\n",
    " 85, 63, 47, 56, 42, 70, 84, 88, 55, 20, 54, 8, 56, 51, 79, 81, 57, 37, 91,\n",
    " 1, 84, 84, 36, 66, 9, 89, 50, 42, 91, 50, 95, 90, 98, 39, 16, 82, 31, 92, 41,\n",
    " 45, 30, 66, 70, 34, 85, 94, 5, 3, 36, 72, 91, 84, 34, 87, 75, 53, 51, 20, 89, 51, 20]"
   ]
  },
  {
   "cell_type": "code",
   "execution_count": 7,
   "metadata": {},
   "outputs": [
    {
     "name": "stdout",
     "output_type": "stream",
     "text": [
      "There are 54 unique numbers: [1, 3, 5, 8, 9, 10, 16, 18, 19, 20, 24, 30, 31, 33, 34, 36, 37, 39, 41, 42, 45, 47, 50, 51, 53, 54, 55, 56, 57, 58, 63, 64, 66, 70, 72, 74, 75, 79, 81, 82, 84, 85, 86, 87, 88, 89, 90, 91, 92, 94, 95, 96, 98, 99]\n"
     ]
    }
   ],
   "source": [
    "def unique(l: list):\n",
    "    \n",
    "    l.sort()\n",
    "    unique = []\n",
    "    \n",
    "    i = 0\n",
    "    while i < len(l):\n",
    "        unique.append(l[i])\n",
    "        j = i + 1\n",
    "        while j < len(l) and l[j] == l[i]:\n",
    "            j += 1\n",
    "        i = j\n",
    "    \n",
    "    return unique, len(unique)\n",
    "\n",
    "unique, count = unique(l)\n",
    "print(f'There are {count} unique numbers: {unique}')"
   ]
  },
  {
   "cell_type": "markdown",
   "metadata": {},
   "source": [
    "Do the same without using user-defined functions, but exploiting only the Python data structures."
   ]
  },
  {
   "cell_type": "code",
   "execution_count": 8,
   "metadata": {},
   "outputs": [
    {
     "name": "stdout",
     "output_type": "stream",
     "text": [
      "There are 54 unique numbers: [1, 3, 5, 8, 9, 10, 16, 18, 19, 20, 24, 30, 31, 33, 34, 36, 37, 39, 41, 42, 45, 47, 50, 51, 53, 54, 55, 56, 57, 58, 63, 64, 66, 70, 72, 74, 75, 79, 81, 82, 84, 85, 86, 87, 88, 89, 90, 91, 92, 94, 95, 96, 98, 99]\n"
     ]
    }
   ],
   "source": [
    "unique = list(set(l))\n",
    "print(f'There are {len(unique)} unique numbers: {unique}')"
   ]
  },
  {
   "cell_type": "markdown",
   "metadata": {},
   "source": [
    "6\\. Combination of functions\n",
    "\n",
    "Write two functions - one that returns the square of a number, and one that returns the cube. Now write a third function that returns the number raised to the 6th power using the two previous functions."
   ]
  },
  {
   "cell_type": "code",
   "execution_count": 9,
   "metadata": {},
   "outputs": [
    {
     "name": "stdout",
     "output_type": "stream",
     "text": [
      "64\n"
     ]
    }
   ],
   "source": [
    "def square(a):\n",
    "    return a**2\n",
    "\n",
    "def cube(a):\n",
    "    return a**3\n",
    "\n",
    "def sixth_power(a):\n",
    "    return cube(square(a))\n",
    "\n",
    "x = 2\n",
    "print(sixth_power(2))"
   ]
  },
  {
   "cell_type": "markdown",
   "metadata": {},
   "source": [
    "7\\. Cubes\n",
    "\n",
    "Create a list of the cubes of x for x in *[0, 10]* using:\n",
    "\n",
    "a) a for loop\n",
    "\n",
    "b) a list comprehension"
   ]
  },
  {
   "cell_type": "code",
   "execution_count": 10,
   "metadata": {},
   "outputs": [
    {
     "name": "stdout",
     "output_type": "stream",
     "text": [
      "[0, 1, 8, 27, 64, 125, 216, 343, 512, 729, 1000]\n",
      "[0, 1, 8, 27, 64, 125, 216, 343, 512, 729, 1000]\n"
     ]
    }
   ],
   "source": [
    "# a. for loop\n",
    "cubes = []\n",
    "for n in range(11):\n",
    "    cubes.append(cube(n))\n",
    "print(cubes)\n",
    "\n",
    "# b. list comprehension\n",
    "cubes = [cube(n) for n in range(11)]\n",
    "print(cubes)"
   ]
  },
  {
   "cell_type": "markdown",
   "metadata": {},
   "source": [
    "8\\. Nested list comprehension\n",
    "\n",
    "A Pythagorean triple is an integer solution to the Pythagorean theorem $a^2+b^2=c^2$. The first Pythagorean triple is (3,4,5). Find and put in a tuple all unique Pythagorean triples for the positive integers a, b and c less than 100."
   ]
  },
  {
   "cell_type": "code",
   "execution_count": 11,
   "metadata": {},
   "outputs": [
    {
     "name": "stdout",
     "output_type": "stream",
     "text": [
      "[(3, 4, 5), (5, 12, 13), (6, 8, 10), (7, 24, 25), (8, 15, 17), (9, 12, 15), (9, 40, 41), (10, 24, 26), (11, 60, 61), (12, 16, 20), (12, 35, 37), (13, 84, 85), (14, 48, 50), (15, 20, 25), (15, 36, 39), (16, 30, 34), (16, 63, 65), (18, 24, 30), (18, 80, 82), (20, 21, 29), (20, 48, 52), (21, 28, 35), (21, 72, 75), (24, 32, 40), (24, 45, 51), (24, 70, 74), (25, 60, 65), (27, 36, 45), (28, 45, 53), (28, 96, 100), (30, 40, 50), (30, 72, 78), (32, 60, 68), (33, 44, 55), (33, 56, 65), (35, 84, 91), (36, 48, 60), (36, 77, 85), (39, 52, 65), (39, 80, 89), (40, 42, 58), (40, 75, 85), (42, 56, 70), (45, 60, 75), (48, 55, 73), (48, 64, 80), (51, 68, 85), (54, 72, 90), (57, 76, 95), (60, 63, 87), (60, 80, 100), (65, 72, 97)]\n"
     ]
    }
   ],
   "source": [
    "lim = 100\n",
    "\n",
    "# for loop\n",
    "#pytha_triples = []\n",
    "#for a in range(1,lim+1):\n",
    "#    for b in range(b,lim+1):\n",
    "#        for c in range(1,lim+1):\n",
    "#            if a**2 + b**2 == c**2:\n",
    "#                pytha_triples.append((a,b,c))\n",
    "#print(pytha_triples)\n",
    "\n",
    "# nested list comprehension\n",
    "pytha_triples = [(a,b,c) for a in range(1,lim+1) for b in range(a,lim+1) for c in range(1,lim+1) if a**2 + b**2 == c**2]\n",
    "print(pytha_triples)\n"
   ]
  },
  {
   "cell_type": "markdown",
   "metadata": {},
   "source": [
    "9\\. Normalization\n",
    "\n",
    "Write a function that takes a tuple of numbers and returns it with the entries normalized to one"
   ]
  },
  {
   "cell_type": "code",
   "execution_count": 12,
   "metadata": {},
   "outputs": [
    {
     "name": "stdout",
     "output_type": "stream",
     "text": [
      "(0.25, 0.5, 0.5, 1.0)\n",
      "(0.2, 0.4, 0.4, 0.8)\n"
     ]
    }
   ],
   "source": [
    "numbers = (1, 2, 2, 4)\n",
    "\n",
    "def normalize_max(numbers: tuple):\n",
    "    return tuple([n / max(numbers) for n in numbers])\n",
    "\n",
    "def normalize_norm(numbers: tuple):\n",
    "    norm = sum([n**2 for n in numbers])**.5\n",
    "    return tuple([n / norm for n in numbers])\n",
    "\n",
    "print(normalize_max(numbers))\n",
    "print(normalize_norm(numbers))"
   ]
  },
  {
   "cell_type": "code",
   "execution_count": null,
   "metadata": {},
   "outputs": [],
   "source": []
  }
 ],
 "metadata": {
  "kernelspec": {
   "display_name": "Python 3",
   "language": "python",
   "name": "python3"
  },
  "language_info": {
   "codemirror_mode": {
    "name": "ipython",
    "version": 3
   },
   "file_extension": ".py",
   "mimetype": "text/x-python",
   "name": "python",
   "nbconvert_exporter": "python",
   "pygments_lexer": "ipython3",
   "version": "3.8.8"
  }
 },
 "nbformat": 4,
 "nbformat_minor": 2
}
