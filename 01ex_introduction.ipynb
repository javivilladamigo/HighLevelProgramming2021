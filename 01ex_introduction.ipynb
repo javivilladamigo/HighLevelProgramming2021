{
 "cells": [
  {
   "cell_type": "markdown",
   "metadata": {},
   "source": [
    "1. The HelloWorld replacement\n",
    "\n",
    "a) Write a program that prints the numbers from 1 to 100. But for multiples of three print \"Hello\" instead of the number and for the multiples of five print \"World\". For numbers which are multiples of both three and five print \"HelloWorld\".\n",
    "\n",
    "b) Put the result in a tuple and substitute \"Hello\" with \"Python\" and \"World\" with \"Works\"."
   ]
  },
  {
   "cell_type": "code",
   "execution_count": 27,
   "metadata": {},
   "outputs": [
    {
     "name": "stdout",
     "output_type": "stream",
     "text": [
      "Hello\n",
      "World\n",
      "Hello\n",
      "Hello\n",
      "World\n",
      "Hello\n",
      "Hello\n",
      "World\n",
      "HelloWorld\n",
      "Hello\n",
      "World\n",
      "Hello\n",
      "Hello\n",
      "World\n",
      "Hello\n",
      "Hello\n",
      "World\n",
      "HelloWorld\n",
      "Hello\n",
      "World\n",
      "Hello\n",
      "Hello\n",
      "World\n",
      "Hello\n",
      "Hello\n",
      "World\n",
      "HelloWorld\n",
      "Hello\n",
      "World\n",
      "Hello\n",
      "Hello\n",
      "World\n",
      "Hello\n",
      "Hello\n",
      "World\n",
      "HelloWorld\n",
      "Hello\n",
      "World\n",
      "Hello\n",
      "Hello\n",
      "World\n",
      "Hello\n",
      "Hello\n",
      "World\n",
      "HelloWorld\n",
      "Hello\n",
      "World\n",
      "Hello\n",
      "Hello\n",
      "World\n",
      "Hello\n",
      "Hello\n",
      "World\n",
      "HelloWorld\n",
      "Hello\n",
      "World\n",
      "Hello\n",
      "Hello\n",
      "World\n",
      "PythonWorks\n"
     ]
    }
   ],
   "source": [
    "for i in range(1,100+1):\n",
    "    if i%3 == 0:\n",
    "        result3 = \"Hello\"\n",
    "        print(result3)\n",
    "    if i%5 == 0:\n",
    "        result5 = \"World\"\n",
    "        print(result5)\n",
    "    if (i%3 == 0) and (i%5 == 0):\n",
    "        print(result3+result5)\n",
    "\n",
    "result3 = \"Python\"\n",
    "result5 = \"Works\"\n",
    "a = tuple((result3, result5))\n",
    "print(a[0]+a[1])"
   ]
  },
  {
   "cell_type": "markdown",
   "metadata": {},
   "source": [
    "2\\. The swap function\n",
    "\n",
    "Write a function that swap the values of two input variables x and y (whatever the type). Try to do that also without a temporary variable"
   ]
  },
  {
   "cell_type": "code",
   "execution_count": 28,
   "metadata": {},
   "outputs": [
    {
     "name": "stdout",
     "output_type": "stream",
     "text": [
      "Initial values: 3, 2\n",
      "After swapping: 2, 3\n",
      "\n",
      "\n",
      "Initial values: 3, 2\n",
      "After swapping w/o temp. variable: 2, 3\n"
     ]
    }
   ],
   "source": [
    "def swapfunction(x, y):\n",
    "\ttemp = x\n",
    "\tx = y\n",
    "\ty = temp\n",
    "\treturn x, y\n",
    "\n",
    "x=3; y=2\n",
    "\n",
    "print(\"Initial values: %.0f, %.0f\" % (x,y))\n",
    "print(\"After swapping: %.0f, %.0f\" % swapfunction(x,y))\n",
    "print(\"\\n\")\n",
    "\n",
    "def swapwithouttemp(x,y):\n",
    "\treturn (y,x)\n",
    "\n",
    "print(\"Initial values: %.0f, %.0f\" % (x,y))\n",
    "print(\"After swapping w/o temp. variable: %.0f, %.0f\" % swapwithouttemp(x,y))"
   ]
  },
  {
   "cell_type": "markdown",
   "metadata": {},
   "source": [
    "3\\. Computing the distance\n",
    "\n",
    "Write a function that calculates and returns the euclidean distance between two points *u* and *v*, where *u* and *v* are both 2-tuples *(x,y)*. For example, if *u=(3,0)* and *v=(0,4)*, the function should return 5"
   ]
  },
  {
   "cell_type": "code",
   "execution_count": 29,
   "metadata": {},
   "outputs": [
    {
     "name": "stdout",
     "output_type": "stream",
     "text": [
      "Distance between (3, 0) and (0, 4) = 5.0\n"
     ]
    }
   ],
   "source": [
    "import numpy as np\n",
    "u = (3,0)\n",
    "v = (0,4)\n",
    "\n",
    "def euclideandistance(x, y):\n",
    "\td = np.sqrt((y[1]-x[1])**2+(y[0]-x[0])**2)\n",
    "\treturn d\n",
    "\n",
    "print(\"Distance between (%.0f, %.0f) and (%.0f, %.0f) = %.1f\" % (u[0], u[1],v[0], v[1], euclideandistance(u,v)))"
   ]
  },
  {
   "cell_type": "markdown",
   "metadata": {},
   "source": [
    "4\\. Counting letters\n",
    "\n",
    "Write a program to calculate the number of times each character occurs in a given string *s*. Ignore differences in capitalization"
   ]
  },
  {
   "cell_type": "code",
   "execution_count": 30,
   "metadata": {},
   "outputs": [],
   "source": [
    "s = \"Write a program that prints the numbers from 1 to 100. \\\n",
    "But for multiples of three print Hello instead of the number and for the multiples of five print World. \\\n",
    "For numbers which are multiples of both three and five print HelloWorld.\""
   ]
  },
  {
   "cell_type": "code",
   "execution_count": 54,
   "metadata": {},
   "outputs": [
    {
     "name": "stdout",
     "output_type": "stream",
     "text": [
      "The letter B appears 5 times.\n"
     ]
    }
   ],
   "source": [
    "letter_to_search = \"b\" \n",
    "counter = 0\n",
    "for i in s:\n",
    "\tif i==letter_to_search.upper() or i==letter_to_search.lower(): # dont distinguish between caps \n",
    "\t\tcounter += 1\n",
    "\n",
    "print(\"The letter %s appears %i times.\" % (letter_to_search, counter))"
   ]
  },
  {
   "cell_type": "markdown",
   "metadata": {},
   "source": [
    "5\\. Isolating the unique\n",
    "\n",
    "Write a function that determines and count the unique numbers in the list:"
   ]
  },
  {
   "cell_type": "code",
   "execution_count": 41,
   "metadata": {},
   "outputs": [],
   "source": [
    "l = [36, 45, 58, 3, 74, 96, 64, 45, 31, 10, 24, 19, 33, 86, 99, 18, 63, 70, 85,\n",
    " 85, 63, 47, 56, 42, 70, 84, 88, 55, 20, 54, 8, 56, 51, 79, 81, 57, 37, 91,\n",
    " 1, 84, 84, 36, 66, 9, 89, 50, 42, 91, 50, 95, 90, 98, 39, 16, 82, 31, 92, 41,\n",
    " 45, 30, 66, 70, 34, 85, 94, 5, 3, 36, 72, 91, 84, 34, 87, 75, 53, 51, 20, 89, 51, 20]"
   ]
  },
  {
   "cell_type": "code",
   "execution_count": 42,
   "metadata": {},
   "outputs": [
    {
     "name": "stdout",
     "output_type": "stream",
     "text": [
      "There are 37 unique number(s) and it(they) is(are):\n",
      "[1, 5, 8, 9, 10, 16, 18, 19, 24, 30, 33, 37, 39, 41, 47, 53, 54, 55, 57, 58, 64, 72, 74, 75, 79, 81, 82, 86, 87, 88, 90, 92, 94, 95, 96, 98, 99]\n"
     ]
    }
   ],
   "source": [
    "counter = np.zeros(max(l)+1) # we create a counter of the same dimension of l (worst case all numbers are different)\n",
    "\n",
    "for j in range(len(l)):\n",
    "\ta = l[j]\n",
    "\tcounter[l[j]] += 1\n",
    "\n",
    "# now we isolate the unique\n",
    "unique = []\n",
    "counter_unique = 0\n",
    "for j in range(len(counter)):\n",
    "\tif counter[j] == 1:\n",
    "\t\tcounter_unique += 1\n",
    "\t\tunique.append(j)\n",
    "print(\"There are %i unique number(s) and it(they) is(are):\" % counter_unique)\n",
    "print(unique)"
   ]
  },
  {
   "cell_type": "markdown",
   "metadata": {},
   "source": [
    "Do the same without using user-defined functions, but exploiting only the Python data structures."
   ]
  },
  {
   "cell_type": "code",
   "execution_count": null,
   "metadata": {},
   "outputs": [],
   "source": []
  },
  {
   "cell_type": "markdown",
   "metadata": {},
   "source": [
    "6\\. Combination of functions\n",
    "\n",
    "Write two functions - one that returns the square of a number, and one that returns the cube. Now write a third function that returns the number raised to the 6th power using the two previous functions."
   ]
  },
  {
   "cell_type": "code",
   "execution_count": 52,
   "metadata": {},
   "outputs": [
    {
     "name": "stdout",
     "output_type": "stream",
     "text": [
      "64\n"
     ]
    }
   ],
   "source": [
    "def square(x):\n",
    "    return x*x\n",
    "def cube(x):\n",
    "    return x*x*x\n",
    "def sixth(x):\n",
    "    return (x*square(x)*cube(x))\n",
    "\n",
    "print(sixth(2))"
   ]
  },
  {
   "cell_type": "markdown",
   "metadata": {},
   "source": [
    "7\\. Cubes\n",
    "\n",
    "Create a list of the cubes of x for x in *[0, 10]* using:\n",
    "\n",
    "a) a for loop\n",
    "\n",
    "b) a list comprehension"
   ]
  },
  {
   "cell_type": "code",
   "execution_count": 51,
   "metadata": {},
   "outputs": [
    {
     "name": "stdout",
     "output_type": "stream",
     "text": [
      "[0, 1, 8, 27, 64, 125, 216, 343, 512, 729, 1000]\n",
      "[0, 1, 8, 27, 64, 125, 216, 343, 512, 729, 1000]\n"
     ]
    }
   ],
   "source": [
    "# with for loop\n",
    "cubes = []\n",
    "for i in range(11):\n",
    "    cubes.append(i**3)\n",
    "print(cubes)\n",
    "\n",
    "# with list comprehension\n",
    "cubes = [i**3 for i in range(11)] \n",
    "print(cubes)"
   ]
  },
  {
   "cell_type": "markdown",
   "metadata": {},
   "source": [
    "8\\. Nested list comprehension\n",
    "\n",
    "A Pythagorean triple is an integer solution to the Pythagorean theorem $a^2+b^2=c^2$. The first Pythagorean triple is (3,4,5). Find and put in a tuple all unique Pythagorean triples for the positive integers a, b and c less than 100."
   ]
  },
  {
   "cell_type": "markdown",
   "metadata": {},
   "source": [
    "9\\. Normalization\n",
    "\n",
    "Write a function that takes a tuple of numbers and returns it with the entries normalized to one"
   ]
  },
  {
   "cell_type": "code",
   "execution_count": null,
   "metadata": {},
   "outputs": [],
   "source": []
  }
 ],
 "metadata": {
  "interpreter": {
   "hash": "aee8b7b246df8f9039afb4144a1f6fd8d2ca17a180786b69acc140d282b71a49"
  },
  "kernelspec": {
   "display_name": "Python 3.8.5 64-bit",
   "name": "python3"
  },
  "language_info": {
   "codemirror_mode": {
    "name": "ipython",
    "version": 3
   },
   "file_extension": ".py",
   "mimetype": "text/x-python",
   "name": "python",
   "nbconvert_exporter": "python",
   "pygments_lexer": "ipython3",
   "version": "3.8.5"
  }
 },
 "nbformat": 4,
 "nbformat_minor": 2
}
