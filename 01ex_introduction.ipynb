{
  "nbformat": 4,
  "nbformat_minor": 0,
  "metadata": {
    "kernelspec": {
      "display_name": "Python 3",
      "language": "python",
      "name": "python3"
    },
    "language_info": {
      "codemirror_mode": {
        "name": "ipython",
        "version": 3
      },
      "file_extension": ".py",
      "mimetype": "text/x-python",
      "name": "python",
      "nbconvert_exporter": "python",
      "pygments_lexer": "ipython3",
      "version": "3.8.5"
    },
    "colab": {
      "name": "01ex_introduction.ipynb",
      "provenance": []
    }
  },
  "cells": [
    {
      "cell_type": "markdown",
      "metadata": {
        "id": "YnBQ2fZIIBdc"
      },
      "source": [
        "1. The HelloWorld replacement\n",
        "\n",
        "a) Write a program that prints the numbers from 1 to 100. But for multiples of three print \"Hello\" instead of the number and for the multiples of five print \"World\". For numbers which are multiples of both three and five print \"HelloWorld\".\n",
        "\n",
        "b) Put the result in a tuple and substitute \"Hello\" with \"Python\" and \"World\" with \"Works\"."
      ]
    },
    {
      "cell_type": "code",
      "metadata": {
        "colab": {
          "base_uri": "https://localhost:8080/"
        },
        "id": "_fkaP4E7IDW8",
        "outputId": "f70e8b62-2d94-487b-aede-53987d0358eb"
      },
      "source": [
        "HelloWorld=()\n",
        "for i in range (1,101):\n",
        "  if (i%3==0):\n",
        "    HelloWorld+=(\"Python\",)\n",
        "    print(\"Hello\")\n",
        "  elif (i%5==0):\n",
        "    HelloWorld+=(\"Works\",)\n",
        "    print(\"World\")\n",
        "  elif ((i%3==0) & (i%5==0) ):\n",
        "    HelloWorld+=(\"HelloWorld\")\n",
        "    print(\"HelloWorld\")\n",
        "  else:\n",
        "    HelloWorld+=(str(i),)\n",
        "    print(str(i))\n",
        "\n",
        "print(HelloWorld)\n",
        "\n",
        "\n"
      ],
      "execution_count": 93,
      "outputs": [
        {
          "output_type": "stream",
          "name": "stdout",
          "text": [
            "1\n",
            "2\n",
            "Hello\n",
            "4\n",
            "World\n",
            "Hello\n",
            "7\n",
            "8\n",
            "Hello\n",
            "World\n",
            "11\n",
            "Hello\n",
            "13\n",
            "14\n",
            "Hello\n",
            "16\n",
            "17\n",
            "Hello\n",
            "19\n",
            "World\n",
            "Hello\n",
            "22\n",
            "23\n",
            "Hello\n",
            "World\n",
            "26\n",
            "Hello\n",
            "28\n",
            "29\n",
            "Hello\n",
            "31\n",
            "32\n",
            "Hello\n",
            "34\n",
            "World\n",
            "Hello\n",
            "37\n",
            "38\n",
            "Hello\n",
            "World\n",
            "41\n",
            "Hello\n",
            "43\n",
            "44\n",
            "Hello\n",
            "46\n",
            "47\n",
            "Hello\n",
            "49\n",
            "World\n",
            "Hello\n",
            "52\n",
            "53\n",
            "Hello\n",
            "World\n",
            "56\n",
            "Hello\n",
            "58\n",
            "59\n",
            "Hello\n",
            "61\n",
            "62\n",
            "Hello\n",
            "64\n",
            "World\n",
            "Hello\n",
            "67\n",
            "68\n",
            "Hello\n",
            "World\n",
            "71\n",
            "Hello\n",
            "73\n",
            "74\n",
            "Hello\n",
            "76\n",
            "77\n",
            "Hello\n",
            "79\n",
            "World\n",
            "Hello\n",
            "82\n",
            "83\n",
            "Hello\n",
            "World\n",
            "86\n",
            "Hello\n",
            "88\n",
            "89\n",
            "Hello\n",
            "91\n",
            "92\n",
            "Hello\n",
            "94\n",
            "World\n",
            "Hello\n",
            "97\n",
            "98\n",
            "Hello\n",
            "World\n",
            "('1', '2', 'Python', '4', 'Works', 'Python', '7', '8', 'Python', 'Works', '11', 'Python', '13', '14', 'Python', '16', '17', 'Python', '19', 'Works', 'Python', '22', '23', 'Python', 'Works', '26', 'Python', '28', '29', 'Python', '31', '32', 'Python', '34', 'Works', 'Python', '37', '38', 'Python', 'Works', '41', 'Python', '43', '44', 'Python', '46', '47', 'Python', '49', 'Works', 'Python', '52', '53', 'Python', 'Works', '56', 'Python', '58', '59', 'Python', '61', '62', 'Python', '64', 'Works', 'Python', '67', '68', 'Python', 'Works', '71', 'Python', '73', '74', 'Python', '76', '77', 'Python', '79', 'Works', 'Python', '82', '83', 'Python', 'Works', '86', 'Python', '88', '89', 'Python', '91', '92', 'Python', '94', 'Works', 'Python', '97', '98', 'Python', 'Works')\n"
          ]
        }
      ]
    },
    {
      "cell_type": "markdown",
      "metadata": {
        "id": "bfRx5cHVIBd5"
      },
      "source": [
        "2\\. The swap function\n",
        "\n",
        "Write a function that swap the values of two input variables x and y (whatever the type). Try to do that also without a temporary variable"
      ]
    },
    {
      "cell_type": "code",
      "metadata": {
        "colab": {
          "base_uri": "https://localhost:8080/"
        },
        "id": "dAD-RtLeLpG0",
        "outputId": "7aee7091-5123-4517-bc50-647be3e6c982"
      },
      "source": [
        "def swab (x,y):\n",
        "  return(y,x)\n",
        "\n",
        "x=3\n",
        "y=4\n",
        "x,y=swab(x,y)\n",
        "print(x,y)\n",
        "\n"
      ],
      "execution_count": 94,
      "outputs": [
        {
          "output_type": "stream",
          "name": "stdout",
          "text": [
            "4 3\n"
          ]
        }
      ]
    },
    {
      "cell_type": "markdown",
      "metadata": {
        "id": "Gs4yQZUdIBd6"
      },
      "source": [
        "3\\. Computing the distance\n",
        "\n",
        "Write a function that calculates and returns the euclidean distance between two points *u* and *v*, where *u* and *v* are both 2-tuples *(x,y)*. For example, if *u=(3,0)* and *v=(0,4)*, the function should return 5"
      ]
    },
    {
      "cell_type": "code",
      "metadata": {
        "colab": {
          "base_uri": "https://localhost:8080/"
        },
        "id": "yoFLam7UMOmj",
        "outputId": "4383544d-899b-473e-ae88-cbbd3085d410"
      },
      "source": [
        "def dist(u,v):\n",
        "  return ((v[0]-u[0])**2 + (v[1]-u[1])**2)**0.5\n",
        "\n",
        "u=(3,0)\n",
        "v=(0,4)\n",
        "print(dist(u,v))"
      ],
      "execution_count": 95,
      "outputs": [
        {
          "output_type": "stream",
          "name": "stdout",
          "text": [
            "5.0\n"
          ]
        }
      ]
    },
    {
      "cell_type": "markdown",
      "metadata": {
        "id": "RRIjvmciIBd-"
      },
      "source": [
        "4\\. Counting letters\n",
        "\n",
        "Write a program to calculate the number of times each character occurs in a given string *s*. Ignore differences in capitalization"
      ]
    },
    {
      "cell_type": "code",
      "metadata": {
        "colab": {
          "base_uri": "https://localhost:8080/"
        },
        "id": "_Fdysjm7IBeA",
        "outputId": "4d90e02a-7351-451c-fe0c-7d551b6645e7"
      },
      "source": [
        "import string\n",
        "\n",
        "s = \"Write a program that prints the numbers from 1 to 100. \\\n",
        "But for multiples of three print Hello instead of the number and for the multiples of five print World. \\\n",
        "For numbers which are multiples of both three and five print HelloWorld.\"\n",
        "\n",
        "x=set(s.capitalize() )\n",
        "letters=list(string.ascii_lowercase)\n",
        "\n",
        "for i in x:\n",
        "  if (i in letters):\n",
        "    print(\"number of occurance if \",i,\" in s is: \", s.count(i))"
      ],
      "execution_count": 96,
      "outputs": [
        {
          "output_type": "stream",
          "name": "stdout",
          "text": [
            "number of occurance if  m  in s is:  8\n",
            "number of occurance if  u  in s is:  7\n",
            "number of occurance if  w  in s is:  1\n",
            "number of occurance if  l  in s is:  12\n",
            "number of occurance if  p  in s is:  8\n",
            "number of occurance if  n  in s is:  10\n",
            "number of occurance if  s  in s is:  7\n",
            "number of occurance if  a  in s is:  7\n",
            "number of occurance if  f  in s is:  9\n",
            "number of occurance if  e  in s is:  20\n",
            "number of occurance if  d  in s is:  5\n",
            "number of occurance if  g  in s is:  1\n",
            "number of occurance if  r  in s is:  19\n",
            "number of occurance if  t  in s is:  19\n",
            "number of occurance if  i  in s is:  12\n",
            "number of occurance if  v  in s is:  2\n",
            "number of occurance if  c  in s is:  1\n",
            "number of occurance if  h  in s is:  9\n",
            "number of occurance if  o  in s is:  15\n",
            "number of occurance if  b  in s is:  4\n"
          ]
        }
      ]
    },
    {
      "cell_type": "markdown",
      "metadata": {
        "id": "TYX-rpjnIBeC"
      },
      "source": [
        "5\\. Isolating the unique\n",
        "\n",
        "Write a function that determines and count the unique numbers in the list:"
      ]
    },
    {
      "cell_type": "code",
      "metadata": {
        "id": "xZg09Dx1IBeH",
        "colab": {
          "base_uri": "https://localhost:8080/"
        },
        "outputId": "9ef4e339-26e0-46d9-94a0-a96024867ccd"
      },
      "source": [
        "l = [36, 45, 58, 3, 74, 96, 64, 45, 31, 10, 24, 19, 33, 86, 99, 18, 63, 70, 85,\n",
        " 85, 63, 47, 56, 42, 70, 84, 88, 55, 20, 54, 8, 56, 51, 79, 81, 57, 37, 91,\n",
        " 1, 84, 84, 36, 66, 9, 89, 50, 42, 91, 50, 95, 90, 98, 39, 16, 82, 31, 92, 41,\n",
        " 45, 30, 66, 70, 34, 85, 94, 5, 3, 36, 72, 91, 84, 34, 87, 75, 53, 51, 20, 89, 51, 20]\n",
        "\n",
        "def unique(l):\n",
        "  s=set(l)\n",
        "  uni=[]\n",
        "  for i in s:\n",
        "    if(l.count(i)==1):\n",
        "      uni.append(i)\n",
        "  return(uni)\n",
        "\n",
        "uni=unique(l)\n",
        "print(uni)\n"
      ],
      "execution_count": 97,
      "outputs": [
        {
          "output_type": "stream",
          "name": "stdout",
          "text": [
            "[1, 5, 8, 9, 10, 16, 18, 19, 24, 30, 33, 37, 39, 41, 47, 53, 54, 55, 57, 58, 64, 72, 74, 75, 79, 81, 82, 86, 87, 88, 90, 92, 94, 95, 96, 98, 99]\n"
          ]
        }
      ]
    },
    {
      "cell_type": "markdown",
      "metadata": {
        "id": "mk67dDf0IBeK"
      },
      "source": [
        "Do the same without using user-defined functions, but exploiting only the Python data structures."
      ]
    },
    {
      "cell_type": "code",
      "metadata": {
        "colab": {
          "base_uri": "https://localhost:8080/"
        },
        "id": "puYfgTq3rSbi",
        "outputId": "5edcc747-e252-4006-da2c-57d1c1fe2f7d"
      },
      "source": [
        "from collections import Counter\n",
        "\n",
        "l = [36, 45, 58, 3, 74, 96, 64, 45, 31, 10, 24, 19, 33, 86, 99, 18, 63, 70, 85,\n",
        " 85, 63, 47, 56, 42, 70, 84, 88, 55, 20, 54, 8, 56, 51, 79, 81, 57, 37, 91,\n",
        " 1, 84, 84, 36, 66, 9, 89, 50, 42, 91, 50, 95, 90, 98, 39, 16, 82, 31, 92, 41,\n",
        " 45, 30, 66, 70, 34, 85, 94, 5, 3, 36, 72, 91, 84, 34, 87, 75, 53, 51, 20, 89, 51, 20]\n",
        "\n",
        "for i in l:\n",
        "    if l.count(i)==1:\n",
        "        print(i)"
      ],
      "execution_count": 98,
      "outputs": [
        {
          "output_type": "stream",
          "name": "stdout",
          "text": [
            "58\n",
            "74\n",
            "96\n",
            "64\n",
            "10\n",
            "24\n",
            "19\n",
            "33\n",
            "86\n",
            "99\n",
            "18\n",
            "47\n",
            "88\n",
            "55\n",
            "54\n",
            "8\n",
            "79\n",
            "81\n",
            "57\n",
            "37\n",
            "1\n",
            "9\n",
            "95\n",
            "90\n",
            "98\n",
            "39\n",
            "16\n",
            "82\n",
            "92\n",
            "41\n",
            "30\n",
            "94\n",
            "5\n",
            "72\n",
            "87\n",
            "75\n",
            "53\n"
          ]
        }
      ]
    },
    {
      "cell_type": "markdown",
      "metadata": {
        "id": "c4ymTbc5IBeN"
      },
      "source": [
        "6\\. Combination of functions\n",
        "\n",
        "Write two functions - one that returns the square of a number, and one that returns the cube. Now write a third function that returns the number raised to the 6th power using the two previous functions."
      ]
    },
    {
      "cell_type": "code",
      "metadata": {
        "id": "uwYsnnwwwadb"
      },
      "source": [
        "def square(x):\n",
        "  return(x**2)\n",
        "def cube(x):\n",
        "  return(x**3)\n",
        "def sixth(x):\n",
        "  return (cube(square(x)))"
      ],
      "execution_count": 99,
      "outputs": []
    },
    {
      "cell_type": "markdown",
      "metadata": {
        "id": "ZpjH6XqSIBeT"
      },
      "source": [
        "7\\. Cubes\n",
        "\n",
        "Create a list of the cubes of x for x in *[0, 10]* using:\n",
        "\n",
        "a) a for loop\n",
        "\n",
        "b) a list comprehension"
      ]
    },
    {
      "cell_type": "code",
      "metadata": {
        "colab": {
          "base_uri": "https://localhost:8080/"
        },
        "id": "kawexY3EycfW",
        "outputId": "f4c13e41-10f6-4962-d8a4-0c0a36a59fb6"
      },
      "source": [
        "cubes_loop=[]\n",
        "for i in range(0,11):\n",
        "  cubes_loop.append(i**3)\n",
        "print(cubes_loop)\n"
      ],
      "execution_count": 100,
      "outputs": [
        {
          "output_type": "stream",
          "name": "stdout",
          "text": [
            "[0, 1, 8, 27, 64, 125, 216, 343, 512, 729, 1000]\n"
          ]
        }
      ]
    },
    {
      "cell_type": "code",
      "metadata": {
        "colab": {
          "base_uri": "https://localhost:8080/"
        },
        "id": "cZm0kp3qzCbG",
        "outputId": "c1828be5-5db0-4e09-fa24-bd4820884e3b"
      },
      "source": [
        "cubes_list_comprehension=[i**3 for i in range(0,11)]\n",
        "print(cubes_list_comprehension)"
      ],
      "execution_count": 101,
      "outputs": [
        {
          "output_type": "stream",
          "name": "stdout",
          "text": [
            "[0, 1, 8, 27, 64, 125, 216, 343, 512, 729, 1000]\n"
          ]
        }
      ]
    },
    {
      "cell_type": "markdown",
      "metadata": {
        "id": "dHwp4oa-IBeb"
      },
      "source": [
        "8\\. Nested list comprehension\n",
        "\n",
        "A Pythagorean triple is an integer solution to the Pythagorean theorem $a^2+b^2=c^2$. The first Pythagorean triple is (3,4,5). Find and put in a tuple all unique Pythagorean triples for the positive integers a, b and c less than 100."
      ]
    },
    {
      "cell_type": "code",
      "metadata": {
        "colab": {
          "base_uri": "https://localhost:8080/"
        },
        "id": "qu4FvAQO0-FS",
        "outputId": "3a44475c-326b-4068-c98e-6bc52a29e1a5"
      },
      "source": [
        "import math as m\n",
        "py=()\n",
        "for x in range (1, 100):\n",
        "        for y in range (x+1, 100):\n",
        "            for z in range(1, 100):\n",
        "                if x*x + y*y == z*z:\n",
        "                    py+=((x, y, z),)\n",
        "py"
      ],
      "execution_count": 102,
      "outputs": [
        {
          "output_type": "execute_result",
          "data": {
            "text/plain": [
              "((3, 4, 5),\n",
              " (5, 12, 13),\n",
              " (6, 8, 10),\n",
              " (7, 24, 25),\n",
              " (8, 15, 17),\n",
              " (9, 12, 15),\n",
              " (9, 40, 41),\n",
              " (10, 24, 26),\n",
              " (11, 60, 61),\n",
              " (12, 16, 20),\n",
              " (12, 35, 37),\n",
              " (13, 84, 85),\n",
              " (14, 48, 50),\n",
              " (15, 20, 25),\n",
              " (15, 36, 39),\n",
              " (16, 30, 34),\n",
              " (16, 63, 65),\n",
              " (18, 24, 30),\n",
              " (18, 80, 82),\n",
              " (20, 21, 29),\n",
              " (20, 48, 52),\n",
              " (21, 28, 35),\n",
              " (21, 72, 75),\n",
              " (24, 32, 40),\n",
              " (24, 45, 51),\n",
              " (24, 70, 74),\n",
              " (25, 60, 65),\n",
              " (27, 36, 45),\n",
              " (28, 45, 53),\n",
              " (30, 40, 50),\n",
              " (30, 72, 78),\n",
              " (32, 60, 68),\n",
              " (33, 44, 55),\n",
              " (33, 56, 65),\n",
              " (35, 84, 91),\n",
              " (36, 48, 60),\n",
              " (36, 77, 85),\n",
              " (39, 52, 65),\n",
              " (39, 80, 89),\n",
              " (40, 42, 58),\n",
              " (40, 75, 85),\n",
              " (42, 56, 70),\n",
              " (45, 60, 75),\n",
              " (48, 55, 73),\n",
              " (48, 64, 80),\n",
              " (51, 68, 85),\n",
              " (54, 72, 90),\n",
              " (57, 76, 95),\n",
              " (60, 63, 87),\n",
              " (65, 72, 97))"
            ]
          },
          "metadata": {},
          "execution_count": 102
        }
      ]
    },
    {
      "cell_type": "markdown",
      "metadata": {
        "id": "0F2OpVCAIBec"
      },
      "source": [
        "9\\. Normalization\n",
        "\n",
        "Write a function that takes a tuple of numbers and returns it with the entries normalized to one"
      ]
    },
    {
      "cell_type": "code",
      "metadata": {
        "id": "HlGfrz9AIBed",
        "colab": {
          "base_uri": "https://localhost:8080/"
        },
        "outputId": "42abc34e-9ae9-48db-d329-e3a5b65d45b8"
      },
      "source": [
        "def norm(list):\n",
        "  return([float(i)/sum(list) for i in list])\n",
        "  \n",
        "print(norm([0.07, 0.14, 0.07]))"
      ],
      "execution_count": 103,
      "outputs": [
        {
          "output_type": "stream",
          "name": "stdout",
          "text": [
            "[0.25, 0.5, 0.25]\n"
          ]
        }
      ]
    },
    {
      "cell_type": "code",
      "metadata": {
        "id": "Za1TxA5d85JB"
      },
      "source": [
        ""
      ],
      "execution_count": 103,
      "outputs": []
    }
  ]
}