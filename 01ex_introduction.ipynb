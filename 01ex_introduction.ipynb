{
 "cells": [
  {
   "cell_type": "markdown",
   "metadata": {},
   "source": [
    "1. The HelloWorld replacement\n",
    "\n",
    "a) Write a program that prints the numbers from 1 to 100. But for multiples of three print \"Hello\" instead of the number and for the multiples of five print \"World\". For numbers which are multiples of both three and five print \"HelloWorld\".\n",
    "\n",
    "b) Put the result in a tuple and substitute \"Hello\" with \"Python\" and \"World\" with \"Works\"."
   ]
  },
  {
   "cell_type": "code",
   "execution_count": 3,
   "metadata": {},
   "outputs": [
    {
     "name": "stdout",
     "output_type": "stream",
     "text": [
      "1\n",
      "2\n",
      "3\n",
      "Hello\n",
      "4\n",
      "5\n",
      "World\n",
      "6\n",
      "Hello\n",
      "7\n",
      "8\n",
      "9\n",
      "Hello\n",
      "10\n",
      "World\n",
      "11\n",
      "12\n",
      "Hello\n",
      "13\n",
      "14\n",
      "15\n",
      "HelloWorld\n",
      "16\n",
      "17\n",
      "18\n",
      "Hello\n",
      "19\n",
      "20\n",
      "World\n",
      "21\n",
      "Hello\n",
      "22\n",
      "23\n",
      "24\n",
      "Hello\n",
      "25\n",
      "World\n",
      "26\n",
      "27\n",
      "Hello\n",
      "28\n",
      "29\n",
      "30\n",
      "HelloWorld\n",
      "31\n",
      "32\n",
      "33\n",
      "Hello\n",
      "34\n",
      "35\n",
      "World\n",
      "36\n",
      "Hello\n",
      "37\n",
      "38\n",
      "39\n",
      "Hello\n",
      "40\n",
      "World\n",
      "41\n",
      "42\n",
      "Hello\n",
      "43\n",
      "44\n",
      "45\n",
      "HelloWorld\n",
      "46\n",
      "47\n",
      "48\n",
      "Hello\n",
      "49\n",
      "50\n",
      "World\n",
      "51\n",
      "Hello\n",
      "52\n",
      "53\n",
      "54\n",
      "Hello\n",
      "55\n",
      "World\n",
      "56\n",
      "57\n",
      "Hello\n",
      "58\n",
      "59\n",
      "60\n",
      "HelloWorld\n",
      "61\n",
      "62\n",
      "63\n",
      "Hello\n",
      "64\n",
      "65\n",
      "World\n",
      "66\n",
      "Hello\n",
      "67\n",
      "68\n",
      "69\n",
      "Hello\n",
      "70\n",
      "World\n",
      "71\n",
      "72\n",
      "Hello\n",
      "73\n",
      "74\n",
      "75\n",
      "HelloWorld\n",
      "76\n",
      "77\n",
      "78\n",
      "Hello\n",
      "79\n",
      "80\n",
      "World\n",
      "81\n",
      "Hello\n",
      "82\n",
      "83\n",
      "84\n",
      "Hello\n",
      "85\n",
      "World\n",
      "86\n",
      "87\n",
      "Hello\n",
      "88\n",
      "89\n",
      "90\n",
      "HelloWorld\n",
      "91\n",
      "92\n",
      "93\n",
      "Hello\n",
      "94\n",
      "95\n",
      "World\n",
      "96\n",
      "Hello\n",
      "97\n",
      "98\n",
      "99\n",
      "Hello\n",
      "100\n",
      "World\n",
      "PythonWorks\n"
     ]
    }
   ],
   "source": [
    "for i in range(1,100+1):\n",
    "    print(i)\n",
    "    if i%3 == 0 and i%5 != 0:\n",
    "        result3 = \"Hello\"\n",
    "        print(result3)\n",
    "    if i%5 == 0 and i%3 != 0:\n",
    "        result5 = \"World\"\n",
    "        print(result5)\n",
    "    if (i%3 == 0) and (i%5 == 0):\n",
    "        print(result3+result5)\n",
    "\n",
    "result3 = \"Python\"\n",
    "result5 = \"Works\"\n",
    "a = (result3, result5)\n",
    "print(a[0]+a[1])"
   ]
  },
  {
   "cell_type": "markdown",
   "metadata": {},
   "source": [
    "2\\. The swap function\n",
    "\n",
    "Write a function that swap the values of two input variables x and y (whatever the type). Try to do that also without a temporary variable"
   ]
  },
  {
   "cell_type": "code",
   "execution_count": 113,
   "metadata": {},
   "outputs": [
    {
     "name": "stdout",
     "output_type": "stream",
     "text": [
      "Initial values: 3, 2\n",
      "After swapping: 2, 3\n",
      "\n",
      "\n",
      "Initial values: 3, 2\n",
      "After swapping w/o temp. variable: 2, 3\n"
     ]
    }
   ],
   "source": [
    "def swapfunction(x, y):\n",
    "\ttemp = x\n",
    "\tx = y\n",
    "\ty = temp\n",
    "\treturn x, y\n",
    "\n",
    "x=3; y=2\n",
    "\n",
    "print(\"Initial values: %.0f, %.0f\" % (x,y))\n",
    "print(\"After swapping: %.0f, %.0f\" % swapfunction(x,y))\n",
    "print(\"\\n\")\n",
    "\n",
    "def swapwithouttemp(x,y):\n",
    "\treturn (y,x)\n",
    "\n",
    "print(\"Initial values: %.0f, %.0f\" % (x,y))\n",
    "print(\"After swapping w/o temp. variable: %.0f, %.0f\" % swapwithouttemp(x,y))"
   ]
  },
  {
   "cell_type": "markdown",
   "metadata": {},
   "source": [
    "3\\. Computing the distance\n",
    "\n",
    "Write a function that calculates and returns the euclidean distance between two points *u* and *v*, where *u* and *v* are both 2-tuples *(x,y)*. For example, if *u=(3,0)* and *v=(0,4)*, the function should return 5"
   ]
  },
  {
   "cell_type": "code",
   "execution_count": 114,
   "metadata": {},
   "outputs": [
    {
     "name": "stdout",
     "output_type": "stream",
     "text": [
      "Distance between (3, 0) and (0, 4) = 5.0\n"
     ]
    }
   ],
   "source": [
    "import numpy as np\n",
    "u = (3,0)\n",
    "v = (0,4)\n",
    "\n",
    "def euclideandistance(x, y):\n",
    "\td = np.sqrt((y[1]-x[1])**2+(y[0]-x[0])**2)\n",
    "\treturn d\n",
    "\n",
    "print(\"Distance between (%.0f, %.0f) and (%.0f, %.0f) = %.1f\" % (u[0], u[1],v[0], v[1], euclideandistance(u,v)))"
   ]
  },
  {
   "cell_type": "markdown",
   "metadata": {},
   "source": [
    "4\\. Counting letters\n",
    "\n",
    "Write a program to calculate the number of times each character occurs in a given string *s*. Ignore differences in capitalization"
   ]
  },
  {
   "cell_type": "code",
   "execution_count": 115,
   "metadata": {},
   "outputs": [],
   "source": [
    "s = \"Write a program that prints the numbers from 1 to 100. \\\n",
    "But for multiples of three print Hello instead of the number and for the multiples of five print World. \\\n",
    "For numbers which are multiples of both three and five print HelloWorld.\""
   ]
  },
  {
   "cell_type": "code",
   "execution_count": 116,
   "metadata": {},
   "outputs": [
    {
     "name": "stdout",
     "output_type": "stream",
     "text": [
      "The letter b appears 5 times.\n"
     ]
    }
   ],
   "source": [
    "letter_to_search = \"b\" \n",
    "counter = 0\n",
    "for i in s:\n",
    "\tif i==letter_to_search.upper() or i==letter_to_search.lower(): # dont distinguish between caps \n",
    "\t\tcounter += 1\n",
    "\n",
    "print(\"The letter %s appears %i times.\" % (letter_to_search, counter))"
   ]
  },
  {
   "cell_type": "markdown",
   "metadata": {},
   "source": [
    "5\\. Isolating the unique\n",
    "\n",
    "Write a function that determines and count the unique numbers in the list:"
   ]
  },
  {
   "cell_type": "code",
   "execution_count": 5,
   "metadata": {},
   "outputs": [],
   "source": [
    "l = [36, 45, 58, 3, 74, 96, 64, 45, 31, 10, 24, 19, 33, 86, 99, 18, 63, 70, 85,\n",
    " 85, 63, 47, 56, 42, 70, 84, 88, 55, 20, 54, 8, 56, 51, 79, 81, 57, 37, 91,\n",
    " 1, 84, 84, 36, 66, 9, 89, 50, 42, 91, 50, 95, 90, 98, 39, 16, 82, 31, 92, 41,\n",
    " 45, 30, 66, 70, 34, 85, 94, 5, 3, 36, 72, 91, 84, 34, 87, 75, 53, 51, 20, 89, 51, 20]"
   ]
  },
  {
   "cell_type": "code",
   "execution_count": 6,
   "metadata": {},
   "outputs": [
    {
     "name": "stdout",
     "output_type": "stream",
     "text": [
      "There are 37 unique number(s) and it(they) is(are):\n",
      "[58, 74, 96, 64, 10, 24, 19, 33, 86, 99, 18, 47, 88, 55, 54, 8, 79, 81, 57, 37, 1, 9, 95, 90, 98, 39, 16, 82, 92, 41, 30, 94, 5, 72, 87, 75, 53]\n"
     ]
    }
   ],
   "source": [
    "def counter(l):\n",
    "\tunique = []\n",
    "\tseen = []\n",
    "\tfor i in l:\n",
    "\t\tif i not in unique and i not in seen:\n",
    "\t\t\tunique.append(i)\n",
    "\t\t\tseen.append(i)\n",
    "\t\telif i in unique:\n",
    "\t\t\tunique.remove(i)\n",
    "\treturn unique\n",
    "\t\n",
    "print(\"There are %i unique number(s) and it(they) is(are):\" % len(counter(l)))\n",
    "print(counter(l))"
   ]
  },
  {
   "cell_type": "markdown",
   "metadata": {},
   "source": [
    "Do the same without using user-defined functions, but exploiting only the Python data structures."
   ]
  },
  {
   "cell_type": "code",
   "execution_count": 18,
   "metadata": {},
   "outputs": [
    {
     "name": "stdout",
     "output_type": "stream",
     "text": [
      "There are 37 unique number(s) and it(they) is(are):\n",
      "[58, 74, 96, 64, 10, 24, 19, 33, 86, 99, 18, 47, 88, 55, 54, 8, 79, 81, 57, 37, 1, 9, 95, 90, 98, 39, 16, 82, 92, 41, 30, 94, 5, 72, 87, 75, 53]\n"
     ]
    }
   ],
   "source": [
    "dic = {'notRepeated' : [], 'repeated' : []}\n",
    "for i in l:\n",
    "    if i not in dic['notRepeated'] and i not in dic['repeated']:\n",
    "        dic['notRepeated'].append(i)\n",
    "    elif i in dic['notRepeated']:\n",
    "        dic['notRepeated'].remove(i)\n",
    "        dic['repeated'].append(i)\n",
    "\n",
    "print(\"There are %i unique number(s) and it(they) is(are):\" % len(dic['notRepeated']))\n",
    "print(dic['notRepeated'])"
   ]
  },
  {
   "cell_type": "markdown",
   "metadata": {},
   "source": [
    "6\\. Combination of functions\n",
    "\n",
    "Write two functions - one that returns the square of a number, and one that returns the cube. Now write a third function that returns the number raised to the 6th power using the two previous functions."
   ]
  },
  {
   "cell_type": "code",
   "execution_count": 52,
   "metadata": {},
   "outputs": [
    {
     "name": "stdout",
     "output_type": "stream",
     "text": [
      "64\n"
     ]
    }
   ],
   "source": [
    "def square(x):\n",
    "    return x*x\n",
    "def cube(x):\n",
    "    return x*x*x\n",
    "def sixth(x):\n",
    "    return (x*square(x)*cube(x))\n",
    "\n",
    "print(sixth(2))"
   ]
  },
  {
   "cell_type": "markdown",
   "metadata": {},
   "source": [
    "7\\. Cubes\n",
    "\n",
    "Create a list of the cubes of x for x in *[0, 10]* using:\n",
    "\n",
    "a) a for loop\n",
    "\n",
    "b) a list comprehension"
   ]
  },
  {
   "cell_type": "code",
   "execution_count": 51,
   "metadata": {},
   "outputs": [
    {
     "name": "stdout",
     "output_type": "stream",
     "text": [
      "[0, 1, 8, 27, 64, 125, 216, 343, 512, 729, 1000]\n",
      "[0, 1, 8, 27, 64, 125, 216, 343, 512, 729, 1000]\n"
     ]
    }
   ],
   "source": [
    "# with for loop\n",
    "cubes = []\n",
    "for i in range(11):\n",
    "    cubes.append(i**3)\n",
    "print(cubes)\n",
    "\n",
    "# with list comprehension\n",
    "cubes = [i**3 for i in range(11)] \n",
    "print(cubes)"
   ]
  },
  {
   "cell_type": "markdown",
   "metadata": {},
   "source": [
    "8\\. Nested list comprehension\n",
    "\n",
    "A Pythagorean triple is an integer solution to the Pythagorean theorem $a^2+b^2=c^2$. The first Pythagorean triple is (3,4,5). Find and put in a tuple all unique Pythagorean triples for the positive integers a, b and c less than 100."
   ]
  },
  {
   "cell_type": "code",
   "execution_count": 98,
   "metadata": {},
   "outputs": [
    {
     "name": "stdout",
     "output_type": "stream",
     "text": [
      "((3, 4, 5), (6, 8, 10), (5, 12, 13), (9, 12, 15), (8, 15, 17), (12, 16, 20), (7, 24, 25), (10, 24, 26), (20, 21, 29), (18, 24, 30), (16, 30, 34), (21, 28, 35), (12, 35, 37), (15, 36, 39), (24, 32, 40), (9, 40, 41), (27, 36, 45), (14, 48, 50), (24, 45, 51), (20, 48, 52), (28, 45, 53), (33, 44, 55), (40, 42, 58), (36, 48, 60), (11, 60, 61), (16, 63, 65), (32, 60, 68), (42, 56, 70), (48, 55, 73), (24, 70, 74), (21, 72, 75), (30, 72, 78), (48, 64, 80), (18, 80, 82), (13, 84, 85), (60, 63, 87), (39, 80, 89), (54, 72, 90), (35, 84, 91), (57, 76, 95), (65, 72, 97))\n"
     ]
    }
   ],
   "source": [
    "a = [(i, j, k) for k in range(1, 100) for i in range(1, 100) for j in range(1, 100) if i**2+j**2 == k**2]\n",
    "l = []\n",
    "third = []\n",
    "\n",
    "# eliminate repeated elements\n",
    "for el in a:\n",
    "    if el[2] not in third:\n",
    "        third.append(el[2])\n",
    "        l.append(el)\n",
    "l = tuple(l)\n",
    "print(l)\n"
   ]
  },
  {
   "cell_type": "markdown",
   "metadata": {},
   "source": [
    "9\\. Normalization\n",
    "\n",
    "Write a function that takes a tuple of numbers and returns it with the entries normalized to one"
   ]
  },
  {
   "cell_type": "code",
   "execution_count": 19,
   "metadata": {},
   "outputs": [
    {
     "name": "stdout",
     "output_type": "stream",
     "text": [
      "[0.14285714285714285, 0.2857142857142857, 0.14285714285714285, 0.42857142857142855]\n"
     ]
    }
   ],
   "source": [
    "a = (1, 2, 1, 3)\n",
    "\n",
    "a = [a[i]/sum(a) for i in range(len(a))]\n",
    "print(a)"
   ]
  }
 ],
 "metadata": {
  "interpreter": {
   "hash": "aee8b7b246df8f9039afb4144a1f6fd8d2ca17a180786b69acc140d282b71a49"
  },
  "kernelspec": {
   "display_name": "Python 3.8.5 64-bit",
   "name": "python3"
  },
  "language_info": {
   "codemirror_mode": {
    "name": "ipython",
    "version": 3
   },
   "file_extension": ".py",
   "mimetype": "text/x-python",
   "name": "python",
   "nbconvert_exporter": "python",
   "pygments_lexer": "ipython3",
   "version": "3.8.5"
  }
 },
 "nbformat": 4,
 "nbformat_minor": 2
}
