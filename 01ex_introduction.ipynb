{
 "cells": [
  {
   "cell_type": "markdown",
   "metadata": {},
   "source": [
    "1. The HelloWorld replacement\n",
    "\n",
    "a) Write a program that prints the numbers from 1 to 100. But for multiples of three print \"Hello\" instead of the number and for the multiples of five print \"World\". For numbers which are multiples of both three and five print \"HelloWorld\".\n",
    "\n",
    "b) Put the result in a tuple and substitute \"Hello\" with \"Python\" and \"World\" with \"Works\"."
   ]
  },
  {
   "cell_type": "code",
   "execution_count": 1,
   "metadata": {},
   "outputs": [
    {
     "name": "stdout",
     "output_type": "stream",
     "text": [
      "1\n",
      "2\n",
      "Hello\n",
      "4\n",
      "World\n",
      "Hello\n",
      "7\n",
      "8\n",
      "Hello\n",
      "World\n",
      "11\n",
      "Hello\n",
      "13\n",
      "14\n",
      "HelloWorld\n",
      "16\n",
      "17\n",
      "Hello\n",
      "19\n",
      "World\n",
      "Hello\n",
      "22\n",
      "23\n",
      "Hello\n",
      "World\n",
      "26\n",
      "Hello\n",
      "28\n",
      "29\n",
      "HelloWorld\n",
      "31\n",
      "32\n",
      "Hello\n",
      "34\n",
      "World\n",
      "Hello\n",
      "37\n",
      "38\n",
      "Hello\n",
      "World\n",
      "41\n",
      "Hello\n",
      "43\n",
      "44\n",
      "HelloWorld\n",
      "46\n",
      "47\n",
      "Hello\n",
      "49\n",
      "World\n",
      "Hello\n",
      "52\n",
      "53\n",
      "Hello\n",
      "World\n",
      "56\n",
      "Hello\n",
      "58\n",
      "59\n",
      "HelloWorld\n",
      "61\n",
      "62\n",
      "Hello\n",
      "64\n",
      "World\n",
      "Hello\n",
      "67\n",
      "68\n",
      "Hello\n",
      "World\n",
      "71\n",
      "Hello\n",
      "73\n",
      "74\n",
      "HelloWorld\n",
      "76\n",
      "77\n",
      "Hello\n",
      "79\n",
      "World\n",
      "Hello\n",
      "82\n",
      "83\n",
      "Hello\n",
      "World\n",
      "86\n",
      "Hello\n",
      "88\n",
      "89\n",
      "HelloWorld\n",
      "91\n",
      "92\n",
      "Hello\n",
      "94\n",
      "World\n",
      "Hello\n",
      "97\n",
      "98\n",
      "Hello\n",
      "World\n"
     ]
    }
   ],
   "source": [
    "# % is the modulo operator, if a number is a multiple of 3 or 5\n",
    "# the rest of the division by 3 or 5 must be 0. For multiple of 3 and\n",
    "# 5 the rest of both division must be 0\n",
    "\n",
    "for i in range(1,100+1):\n",
    "    if i%3 == 0 and i%5 == 0:  \n",
    "        print('HelloWorld')\n",
    "    elif i%3 == 0:\n",
    "        print('Hello')\n",
    "    elif i%5 == 0:\n",
    "        print('World')\n",
    "    else:\n",
    "        print(i)"
   ]
  },
  {
   "cell_type": "code",
   "execution_count": 2,
   "metadata": {},
   "outputs": [
    {
     "name": "stdout",
     "output_type": "stream",
     "text": [
      "The final tuple is: \n",
      "('1', '2', 'Python', '4', 'Works', 'Python', '7', '8', 'Python', 'Works', '11', 'Python', '13', '14', 'PythonWorks', '16', '17', 'Python', '19', 'Works', 'Python', '22', '23', 'Python', 'Works', '26', 'Python', '28', '29', 'PythonWorks', '31', '32', 'Python', '34', 'Works', 'Python', '37', '38', 'Python', 'Works', '41', 'Python', '43', '44', 'PythonWorks', '46', '47', 'Python', '49', 'Works', 'Python', '52', '53', 'Python', 'Works', '56', 'Python', '58', '59', 'PythonWorks', '61', '62', 'Python', '64', 'Works', 'Python', '67', '68', 'Python', 'Works', '71', 'Python', '73', '74', 'PythonWorks', '76', '77', 'Python', '79', 'Works', 'Python', '82', '83', 'Python', 'Works', '86', 'Python', '88', '89', 'PythonWorks', '91', '92', 'Python', '94', 'Works', 'Python', '97', '98', 'Python', 'Works')\n"
     ]
    }
   ],
   "source": [
    "# tuple are immutable. First we save all the values in a list and we make the substitutions\n",
    "# then we convert the list into a tuple\n",
    "\n",
    "number_list = []\n",
    "for i in range(1,100+1):\n",
    "    if i%3 == 0 and i%5 == 0:  \n",
    "        number_list.append('HelloWorld')\n",
    "    elif i%3 == 0:\n",
    "        number_list.append('Hello')\n",
    "    elif i%5 == 0:\n",
    "        number_list.append('World')\n",
    "    else:\n",
    "        number_list.append(str(i))\n",
    "\n",
    "for i in range(len(number_list)):\n",
    "    if number_list[i] == 'Hello':\n",
    "        number_list[i] = 'Python'\n",
    "    if number_list[i] == 'World':\n",
    "        number_list[i] = 'Works'\n",
    "    if number_list[i] == 'HelloWorld':\n",
    "        number_list[i] = 'PythonWorks'\n",
    "number_tuple = tuple(number_list)\n",
    "\n",
    "print('The final tuple is: \\n%s' % (number_tuple,)) "
   ]
  },
  {
   "cell_type": "markdown",
   "metadata": {},
   "source": [
    "2\\. The swap function\n",
    "\n",
    "Write a function that swap the values of two input variables x and y (whatever the type). Try to do that also without a temporary variable"
   ]
  },
  {
   "cell_type": "code",
   "execution_count": 3,
   "metadata": {},
   "outputs": [
    {
     "name": "stdout",
     "output_type": "stream",
     "text": [
      "Original first value: 10.0, original second value: 0.7\n",
      "Swapped first value: 0.7, swapped second value: 10.0\n"
     ]
    }
   ],
   "source": [
    "def swap(var1, var2):\n",
    "    temp = var1\n",
    "    var1 = var2\n",
    "    var2 = temp\n",
    "    return var1, var2\n",
    "\n",
    "var1, var2 = 10, 0.7\n",
    "print('Original first value: %.1f, original second value: %.1f' % (var1, var2))\n",
    "\n",
    "var1, var2 = swap(var1,var2)\n",
    "print('Swapped first value: %.1f, swapped second value: %.1f' % (var1, var2))"
   ]
  },
  {
   "cell_type": "code",
   "execution_count": 4,
   "metadata": {},
   "outputs": [
    {
     "name": "stdout",
     "output_type": "stream",
     "text": [
      "Original first value: a, original second value: h\n",
      "Swapped first value: h, swapped second value: a\n"
     ]
    }
   ],
   "source": [
    "def swap_without_temp(var1, var2):\n",
    "    return var2, var1\n",
    "\n",
    "var1, var2 = 'a', 'h'\n",
    "print('Original first value: %s, original second value: %s' % (var1, var2))\n",
    "\n",
    "var1, var2 = swap_without_temp(var1,var2)\n",
    "print('Swapped first value: %s, swapped second value: %s' % (var1, var2))"
   ]
  },
  {
   "cell_type": "markdown",
   "metadata": {},
   "source": [
    "3\\. Computing the distance\n",
    "\n",
    "Write a function that calculates and returns the euclidean distance between two points *u* and *v*, where *u* and *v* are both 2-tuples *(x,y)*. For example, if *u=(3,0)* and *v=(0,4)*, the function should return 5"
   ]
  },
  {
   "cell_type": "code",
   "execution_count": 5,
   "metadata": {},
   "outputs": [
    {
     "name": "stdout",
     "output_type": "stream",
     "text": [
      "The euclidean distance is 5.00 \n"
     ]
    }
   ],
   "source": [
    "def euclidean_dist(point1, point2):\n",
    "    x = point1[0] - point2[0]\n",
    "    y = point1[1] - point2[1]\n",
    "    out_sum = x**2 + y**2\n",
    "    return out_sum**(1/2)\n",
    "\n",
    "u, v = (3,0), (0,4)\n",
    "output = euclidean_dist(u,v)\n",
    "\n",
    "print('The euclidean distance is %.2f ' % (output))"
   ]
  },
  {
   "cell_type": "markdown",
   "metadata": {},
   "source": [
    "4\\. Counting letters\n",
    "\n",
    "Write a program to calculate the number of times each character occurs in a given string *s*. Ignore differences in capitalization"
   ]
  },
  {
   "cell_type": "code",
   "execution_count": 6,
   "metadata": {},
   "outputs": [
    {
     "name": "stdout",
     "output_type": "stream",
     "text": [
      "Character: w, occurrence: 4\n",
      "Character: r, occurrence: 19\n",
      "Character: i, occurrence: 12\n",
      "Character: t, occurrence: 19\n",
      "Character: e, occurrence: 20\n",
      "Character: a, occurrence: 7\n",
      "Character: p, occurrence: 8\n",
      "Character: o, occurrence: 15\n",
      "Character: g, occurrence: 1\n",
      "Character: m, occurrence: 8\n",
      "Character: h, occurrence: 11\n",
      "Character: n, occurrence: 10\n",
      "Character: s, occurrence: 7\n",
      "Character: u, occurrence: 7\n",
      "Character: b, occurrence: 5\n",
      "Character: f, occurrence: 10\n",
      "Character: 1, occurrence: 2\n",
      "Character: 0, occurrence: 2\n",
      "Character: ., occurrence: 3\n",
      "Character: l, occurrence: 12\n",
      "Character: d, occurrence: 5\n",
      "Character: v, occurrence: 2\n",
      "Character: c, occurrence: 1\n"
     ]
    }
   ],
   "source": [
    "# lower function avoids Python to differentiate between the lowercase and uppercase of same letter\n",
    "# while replace change the space with no space\n",
    "# in the first for we find all the character which appear at leas once in the sentence\n",
    "# in the seond for, for each unique character, we count how many times it appears\n",
    "\n",
    "s = \"Write a program that prints the numbers from 1 to 100. \\\n",
    "But for multiples of three print Hello instead of the number and for the multiples of five print World. \\\n",
    "For numbers which are multiples of both three and five print HelloWorld.\"\n",
    "\n",
    "s = s.lower()  #lowering all the string\n",
    "s = s.replace(' ','') #remove the white space\n",
    "s = [x for x in s]\n",
    "character = []     #list to store all the unique element \n",
    "occurrence = []    #list to insert the count of each element\n",
    "\n",
    "for char in s:\n",
    "    if char not in character:\n",
    "        character.append(char)\n",
    "        \n",
    "for char in character:\n",
    "    count = 0\n",
    "    for j in range(len(s)):\n",
    "        temp = s[j]\n",
    "        if char == temp:\n",
    "            count = count+1\n",
    "    occurrence.append(count)\n",
    "    \n",
    "for i in range(len(character)):\n",
    "    print('Character: %s, occurrence: %d' % (character[i],occurrence[i]))\n",
    "\n",
    "    "
   ]
  },
  {
   "cell_type": "markdown",
   "metadata": {},
   "source": [
    "5\\. Isolating the unique\n",
    "\n",
    "Write a function that determines and count the unique numbers in the list:"
   ]
  },
  {
   "cell_type": "code",
   "execution_count": 7,
   "metadata": {},
   "outputs": [
    {
     "name": "stdout",
     "output_type": "stream",
     "text": [
      "In the list there are 54 unique number and they are: \n",
      "[36, 45, 58, 3, 74, 96, 64, 31, 10, 24, 19, 33, 86, 99, 18, 63, 70, 85, 47, 56, 42, 84, 88, 55, 20, 54, 8, 51, 79, 81, 57, 37, 91, 1, 66, 9, 89, 50, 95, 90, 98, 39, 16, 82, 92, 41, 30, 34, 94, 5, 72, 87, 75, 53]\n"
     ]
    }
   ],
   "source": [
    "l = [36, 45, 58, 3, 74, 96, 64, 45, 31, 10, 24, 19, 33, 86, 99, 18, 63, 70, 85,\n",
    " 85, 63, 47, 56, 42, 70, 84, 88, 55, 20, 54, 8, 56, 51, 79, 81, 57, 37, 91,\n",
    " 1, 84, 84, 36, 66, 9, 89, 50, 42, 91, 50, 95, 90, 98, 39, 16, 82, 31, 92, 41,\n",
    " 45, 30, 66, 70, 34, 85, 94, 5, 3, 36, 72, 91, 84, 34, 87, 75, 53, 51, 20, 89, 51, 20]\n",
    "\n",
    "\n",
    "def unique(list_num):\n",
    "    number = []  #list to store all the unique number\n",
    "    for i in range(len(list_num)):\n",
    "        temp = list_num[i]\n",
    "        if temp not in number:\n",
    "            number.append(temp)\n",
    "    return number\n",
    "\n",
    "numbers = unique(l)\n",
    "print('In the list there are %d unique number and they are: \\n%s' % (len(numbers), numbers,))"
   ]
  },
  {
   "cell_type": "markdown",
   "metadata": {},
   "source": [
    "Do the same without using user-defined functions, but exploiting only the Python data structures."
   ]
  },
  {
   "cell_type": "code",
   "execution_count": 8,
   "metadata": {},
   "outputs": [
    {
     "name": "stdout",
     "output_type": "stream",
     "text": [
      "In the list there are 54 unique number and they are: \n",
      "{1, 3, 5, 8, 9, 10, 16, 18, 19, 20, 24, 30, 31, 33, 34, 36, 37, 39, 41, 42, 45, 47, 50, 51, 53, 54, 55, 56, 57, 58, 63, 64, 66, 70, 72, 74, 75, 79, 81, 82, 84, 85, 86, 87, 88, 89, 90, 91, 92, 94, 95, 96, 98, 99}\n"
     ]
    }
   ],
   "source": [
    "# sets do not support duplicates so all repeated number are not added to the same set\n",
    "\n",
    "l_set = set(l)\n",
    "print('In the list there are %d unique number and they are: \\n%s' % (len(l_set), l_set,))"
   ]
  },
  {
   "cell_type": "markdown",
   "metadata": {},
   "source": [
    "6\\. Combination of functions\n",
    "\n",
    "Write two functions - one that returns the square of a number, and one that returns the cube. Now write a third function that returns the number raised to the 6th power using the two previous functions."
   ]
  },
  {
   "cell_type": "code",
   "execution_count": 9,
   "metadata": {},
   "outputs": [
    {
     "name": "stdout",
     "output_type": "stream",
     "text": [
      "The 6th power of 4 is 4096\n"
     ]
    }
   ],
   "source": [
    "def square(num):\n",
    "    return num**2\n",
    "def cube(num):\n",
    "    return num**3\n",
    "\n",
    "def combination(num):\n",
    "    return cube(square(num))\n",
    "\n",
    "value = 4\n",
    "output = combination(value)\n",
    "print('The 6th power of %d is %d' % (value, output))"
   ]
  },
  {
   "cell_type": "markdown",
   "metadata": {},
   "source": [
    "7\\. Cubes\n",
    "\n",
    "Create a list of the cubes of x for x in *[0, 10]* using:\n",
    "\n",
    "a) a for loop\n",
    "\n",
    "b) a list comprehension"
   ]
  },
  {
   "cell_type": "code",
   "execution_count": 10,
   "metadata": {},
   "outputs": [
    {
     "name": "stdout",
     "output_type": "stream",
     "text": [
      "The cubes of the values in the interval [0,10] are \n",
      "[0, 1, 8, 27, 64, 125, 216, 343, 512, 729, 1000]\n"
     ]
    }
   ],
   "source": [
    "loop_list = []   \n",
    "for i in range(10+1):  \n",
    "    loop_list.append(i**3) \n",
    "print('The cubes of the values in the interval [0,10] are \\n%s' % (loop_list))"
   ]
  },
  {
   "cell_type": "code",
   "execution_count": 11,
   "metadata": {},
   "outputs": [
    {
     "name": "stdout",
     "output_type": "stream",
     "text": [
      "The cubes of the values in the interval [0,10] are \n",
      "[0, 1, 8, 27, 64, 125, 216, 343, 512, 729, 1000]\n"
     ]
    }
   ],
   "source": [
    "comp_list = [i**3 for i in range(10+1)]\n",
    "print('The cubes of the values in the interval [0,10] are \\n%s' % (comp_list))"
   ]
  },
  {
   "cell_type": "markdown",
   "metadata": {},
   "source": [
    "8\\. Nested list comprehension\n",
    "\n",
    "A Pythagorean triple is an integer solution to the Pythagorean theorem $a^2+b^2=c^2$. The first Pythagorean triple is (3,4,5). Find and put in a tuple all unique Pythagorean triples for the positive integers a, b and c less than 100."
   ]
  },
  {
   "cell_type": "code",
   "execution_count": 12,
   "metadata": {},
   "outputs": [
    {
     "name": "stdout",
     "output_type": "stream",
     "text": [
      "The Pythagorean triples are \n",
      "((3, 4, 5), (4, 3, 5), (5, 12, 13), (6, 8, 10), (7, 24, 25), (8, 6, 10), (8, 15, 17), (9, 12, 15), (9, 40, 41), (10, 24, 26), (11, 60, 61), (12, 5, 13), (12, 9, 15), (12, 16, 20), (12, 35, 37), (13, 84, 85), (14, 48, 50), (15, 8, 17), (15, 20, 25), (15, 36, 39), (16, 12, 20), (16, 30, 34), (16, 63, 65), (18, 24, 30), (18, 80, 82), (20, 15, 25), (20, 21, 29), (20, 48, 52), (21, 20, 29), (21, 28, 35), (21, 72, 75), (24, 7, 25), (24, 10, 26), (24, 18, 30), (24, 32, 40), (24, 45, 51), (24, 70, 74), (25, 60, 65), (27, 36, 45), (28, 21, 35), (28, 45, 53), (30, 16, 34), (30, 40, 50), (30, 72, 78), (32, 24, 40), (32, 60, 68), (33, 44, 55), (33, 56, 65), (35, 12, 37), (35, 84, 91), (36, 15, 39), (36, 27, 45), (36, 48, 60), (36, 77, 85), (39, 52, 65), (39, 80, 89), (40, 9, 41), (40, 30, 50), (40, 42, 58), (40, 75, 85), (42, 40, 58), (42, 56, 70), (44, 33, 55), (45, 24, 51), (45, 28, 53), (45, 60, 75), (48, 14, 50), (48, 20, 52), (48, 36, 60), (48, 55, 73), (48, 64, 80), (51, 68, 85), (52, 39, 65), (54, 72, 90), (55, 48, 73), (56, 33, 65), (56, 42, 70), (57, 76, 95), (60, 11, 61), (60, 25, 65), (60, 32, 68), (60, 45, 75), (60, 63, 87), (63, 16, 65), (63, 60, 87), (64, 48, 80), (65, 72, 97), (68, 51, 85), (70, 24, 74), (72, 21, 75), (72, 30, 78), (72, 54, 90), (72, 65, 97), (75, 40, 85), (76, 57, 95), (77, 36, 85), (80, 18, 82), (80, 39, 89), (84, 13, 85), (84, 35, 91))\n"
     ]
    }
   ],
   "source": [
    "triplet = tuple([(a,b,c) for a in range(1,100) for b in range(1,100) for c in range(1,100) if a**2 + b**2 == c**2])\n",
    "\n",
    "print('The Pythagorean triples are \\n%s' % (triplet,))"
   ]
  },
  {
   "cell_type": "markdown",
   "metadata": {},
   "source": [
    "9\\. Normalization\n",
    "\n",
    "Write a function that takes a tuple of numbers and returns it with the entries normalized to one"
   ]
  },
  {
   "cell_type": "code",
   "execution_count": 13,
   "metadata": {},
   "outputs": [
    {
     "name": "stdout",
     "output_type": "stream",
     "text": [
      "The tuple (1, 5, 2, 8) normalized to one is (0.0625, 0.3125, 0.125, 0.5)\n",
      "Sanity check: the normalized element sums to 1.00\n"
     ]
    }
   ],
   "source": [
    "tuple_vec = (1,5,2,8)\n",
    "\n",
    "def scaled_sum1(vec):\n",
    "    norm_vec = [x/sum(vec) for x in vec] # each element in the tuple is divided by the sum of all the element\n",
    "    return tuple(norm_vec)\n",
    "\n",
    "norm_tuple_vec = scaled_sum1(tuple_vec)\n",
    "print('The tuple %s normalized to one is %s' %(tuple_vec, norm_tuple_vec ))\n",
    "print('Sanity check: the normalized element sums to %.2f' % sum(norm_tuple_vec))"
   ]
  }
 ],
 "metadata": {
  "kernelspec": {
   "display_name": "Python 3",
   "language": "python",
   "name": "python3"
  },
  "language_info": {
   "codemirror_mode": {
    "name": "ipython",
    "version": 3
   },
   "file_extension": ".py",
   "mimetype": "text/x-python",
   "name": "python",
   "nbconvert_exporter": "python",
   "pygments_lexer": "ipython3",
   "version": "3.7.3"
  }
 },
 "nbformat": 4,
 "nbformat_minor": 2
}
