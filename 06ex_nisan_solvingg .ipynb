{
  "nbformat": 4,
  "nbformat_minor": 0,
  "metadata": {
    "colab": {
      "name": "06ex_nisan_solving.ipynb",
      "provenance": [],
      "collapsed_sections": []
    },
    "kernelspec": {
      "display_name": "Python 3",
      "language": "python",
      "name": "python3"
    },
    "language_info": {
      "codemirror_mode": {
        "name": "ipython",
        "version": 3
      },
      "file_extension": ".py",
      "mimetype": "text/x-python",
      "name": "python",
      "nbconvert_exporter": "python",
      "pygments_lexer": "ipython3",
      "version": "3.8.8"
    }
  },
  "cells": [
    {
      "cell_type": "code",
      "metadata": {
        "id": "d1JYKghJWWQw"
      },
      "source": [
        "import pandas as pd\n",
        "import numpy as np\n",
        "import json\n",
        "import matplotlib.pyplot as plt\n",
        "import csv"
      ],
      "execution_count": 1,
      "outputs": []
    },
    {
      "cell_type": "markdown",
      "metadata": {
        "id": "gc1oj1JmWWQy"
      },
      "source": [
        "1\\. Perform the following operations on plain `txt` files:\n",
        "\n",
        "+ create a list of integrer numbers and then save it to a text file named \"data_int.txt\". Run the `cat` command to print the content of the file.\n",
        "+ create a matrix of 5x5 floats and then save it to a text file named \"data_float.txt\". Use the `cat` command to print the content of the file.\n",
        "+ load the txt file of the previous point and convert it to a csv file by hand."
      ]
    },
    {
      "cell_type": "code",
      "metadata": {
        "colab": {
          "base_uri": "https://localhost:8080/"
        },
        "id": "chN_0puNWWQz",
        "outputId": "d7206a1f-3384-4fc8-aa05-05d9027be6a2"
      },
      "source": [
        "N = 100\n",
        "numbers_list = list(range(N))\n",
        "\n",
        "txt_file = open('data_int.txt', 'a')\n",
        "\n",
        "with open('data_int.txt', 'a') as f:\n",
        "    f.write(str(numbers_list))\n",
        "\n",
        "print('content of data:')\n",
        "!cat data_int.txt"
      ],
      "execution_count": 5,
      "outputs": [
        {
          "output_type": "stream",
          "name": "stdout",
          "text": [
            "content of data:\n",
            "[0, 1, 2, 3, 4, 5, 6, 7, 8, 9, 10, 11, 12, 13, 14, 15, 16, 17, 18, 19, 20, 21, 22, 23, 24, 25, 26, 27, 28, 29, 30, 31, 32, 33, 34, 35, 36, 37, 38, 39, 40, 41, 42, 43, 44, 45, 46, 47, 48, 49, 50, 51, 52, 53, 54, 55, 56, 57, 58, 59, 60, 61, 62, 63, 64, 65, 66, 67, 68, 69, 70, 71, 72, 73, 74, 75, 76, 77, 78, 79, 80, 81, 82, 83, 84, 85, 86, 87, 88, 89, 90, 91, 92, 93, 94, 95, 96, 97, 98, 99][0, 1, 2, 3, 4, 5, 6, 7, 8, 9, 10, 11, 12, 13, 14, 15, 16, 17, 18, 19, 20, 21, 22, 23, 24, 25, 26, 27, 28, 29, 30, 31, 32, 33, 34, 35, 36, 37, 38, 39, 40, 41, 42, 43, 44, 45, 46, 47, 48, 49, 50, 51, 52, 53, 54, 55, 56, 57, 58, 59, 60, 61, 62, 63, 64, 65, 66, 67, 68, 69, 70, 71, 72, 73, 74, 75, 76, 77, 78, 79, 80, 81, 82, 83, 84, 85, 86, 87, 88, 89, 90, 91, 92, 93, 94, 95, 96, 97, 98, 99][0, 1, 2, 3, 4, 5, 6, 7, 8, 9, 10, 11, 12, 13, 14, 15, 16, 17, 18, 19, 20, 21, 22, 23, 24, 25, 26, 27, 28, 29, 30, 31, 32, 33, 34, 35, 36, 37, 38, 39, 40, 41, 42, 43, 44, 45, 46, 47, 48, 49, 50, 51, 52, 53, 54, 55, 56, 57, 58, 59, 60, 61, 62, 63, 64, 65, 66, 67, 68, 69, 70, 71, 72, 73, 74, 75, 76, 77, 78, 79, 80, 81, 82, 83, 84, 85, 86, 87, 88, 89, 90, 91, 92, 93, 94, 95, 96, 97, 98, 99]"
          ]
        }
      ]
    },
    {
      "cell_type": "code",
      "metadata": {
        "colab": {
          "base_uri": "https://localhost:8080/"
        },
        "id": "rKKrun3iXznP",
        "outputId": "4a91e638-7419-485b-94de-f263509990e0"
      },
      "source": [
        "\n",
        "n_m = np.array([np.random.randint(1,50) for i in range(25)]).reshape(5,5)\n",
        "\n",
        "F_N = 'data_float.txt'\n",
        "print(\" matrix of 5x5 floats: \\n\")\n",
        "np.savetxt(F_N, n_m, fmt='%d')\n",
        "!cat data_float.txt"
      ],
      "execution_count": 9,
      "outputs": [
        {
          "output_type": "stream",
          "name": "stdout",
          "text": [
            " matrix of 5x5 floats: \n",
            "\n",
            "40 27 25 10 49\n",
            "21 41 44 26 37\n",
            "20 30 49 43 5\n",
            "8 13 46 34 9\n",
            "26 34 29 49 36\n"
          ]
        }
      ]
    },
    {
      "cell_type": "code",
      "metadata": {
        "id": "Y-_c74B4ZmeY"
      },
      "source": [
        "filename_csv = 'data_float.csv'\n",
        "m = np.loadtxt(F_N)\n",
        "with open(filename_csv, 'w') as f1:\n",
        "    for row in m:\n",
        "        for elem in row:\n",
        "            f1.write('%s,' % elem)\n",
        "        f1.write('\\n')\n",
        "f1.close()"
      ],
      "execution_count": 13,
      "outputs": []
    },
    {
      "cell_type": "markdown",
      "metadata": {
        "id": "YnSrg44eWWQ0"
      },
      "source": [
        "2\\. Load the file *user_data.json*, which can be found at:\n",
        "\n",
        "- https://www.dropbox.com/s/sz5klcdpckc39hd/user_data.json\n",
        "\n",
        "and filter the data by the \"CreditCardType\" when it equals to \"American Express\". Than save the data to a new CSV file."
      ]
    },
    {
      "cell_type": "code",
      "metadata": {
        "colab": {
          "base_uri": "https://localhost:8080/"
        },
        "id": "2U-fvmpmXtT8",
        "outputId": "84671e63-45c8-40c3-ffb1-14819fe44556"
      },
      "source": [
        "!wget https://www.dropbox.com/s/sz5klcdpckc39hd/user_data.json"
      ],
      "execution_count": 15,
      "outputs": [
        {
          "output_type": "stream",
          "name": "stdout",
          "text": [
            "--2021-12-03 14:07:26--  https://www.dropbox.com/s/sz5klcdpckc39hd/user_data.json\n",
            "Resolving www.dropbox.com (www.dropbox.com)... 162.125.5.18, 2620:100:601d:18::a27d:512\n",
            "Connecting to www.dropbox.com (www.dropbox.com)|162.125.5.18|:443... connected.\n",
            "HTTP request sent, awaiting response... 301 Moved Permanently\n",
            "Location: /s/raw/sz5klcdpckc39hd/user_data.json [following]\n",
            "--2021-12-03 14:07:26--  https://www.dropbox.com/s/raw/sz5klcdpckc39hd/user_data.json\n",
            "Reusing existing connection to www.dropbox.com:443.\n",
            "HTTP request sent, awaiting response... 302 Found\n",
            "Location: https://ucf66371bb2ea873ef3ae58b0214.dl.dropboxusercontent.com/cd/0/inline/BbIGWjV9MD_lZlHvVxVYeh13YiigYqZ9P6IYJlkD5rmZOda_Iulv5MoSB-tVOswXHOoh_GDlKknHM31KLRGJKgQt-p3vkgzO-SJTooEGduSd8O7DJkQT-pqPKVF7nCK-X8WeHQI7IBPseYWVqfGHyfiA/file# [following]\n",
            "--2021-12-03 14:07:27--  https://ucf66371bb2ea873ef3ae58b0214.dl.dropboxusercontent.com/cd/0/inline/BbIGWjV9MD_lZlHvVxVYeh13YiigYqZ9P6IYJlkD5rmZOda_Iulv5MoSB-tVOswXHOoh_GDlKknHM31KLRGJKgQt-p3vkgzO-SJTooEGduSd8O7DJkQT-pqPKVF7nCK-X8WeHQI7IBPseYWVqfGHyfiA/file\n",
            "Resolving ucf66371bb2ea873ef3ae58b0214.dl.dropboxusercontent.com (ucf66371bb2ea873ef3ae58b0214.dl.dropboxusercontent.com)... 162.125.5.15, 2620:100:601d:15::a27d:50f\n",
            "Connecting to ucf66371bb2ea873ef3ae58b0214.dl.dropboxusercontent.com (ucf66371bb2ea873ef3ae58b0214.dl.dropboxusercontent.com)|162.125.5.15|:443... connected.\n",
            "HTTP request sent, awaiting response... 200 OK\n",
            "Length: 40417 (39K) [text/plain]\n",
            "Saving to: ‘user_data.json’\n",
            "\n",
            "user_data.json      100%[===================>]  39.47K  --.-KB/s    in 0.02s   \n",
            "\n",
            "2021-12-03 14:07:27 (1.78 MB/s) - ‘user_data.json’ saved [40417/40417]\n",
            "\n"
          ]
        }
      ]
    },
    {
      "cell_type": "code",
      "metadata": {
        "id": "QB7vUS-XX5Y7"
      },
      "source": [
        "data = json.load(open('user_data.json'))\n",
        "filter_data = [x for x in data if x['CreditCardType'] == 'American Express']\n",
        "with open('data_j.json', 'w') as f:\n",
        "    f.write(json.dumps(filter_data, ensure_ascii=False, indent=4))"
      ],
      "execution_count": 16,
      "outputs": []
    },
    {
      "cell_type": "code",
      "metadata": {
        "colab": {
          "base_uri": "https://localhost:8080/"
        },
        "id": "VJp77LoOX88d",
        "outputId": "0a339e2b-ddef-4183-d941-0760e97123f9"
      },
      "source": [
        "df = pd.read_json ('data_j.json')\n",
        "df.to_csv ('data_j.csv')\n",
        "\n",
        "print('user_data.json data with \"CreditCardType\" = \"American Express\" are\\n')\n",
        "!cat data_j.csv\n",
        "\n"
      ],
      "execution_count": 18,
      "outputs": [
        {
          "output_type": "stream",
          "name": "stdout",
          "text": [
            "user_data.json data with \"CreditCardType\" = \"American Express\" are\n",
            "\n",
            ",ID,JobTitle,EmailAddress,FirstNameLastName,CreditCard,CreditCardType\n",
            "0,2,Investment  Advisor,Clint_Thorpe5003@bulaffy.com,Clint Thorpe,7083-8766-0251-2345,American Express\n",
            "1,12,Retail Trainee,Phillip_Carpenter9505@famism.biz,Phillip Carpenter,3657-0088-0820-5247,American Express\n",
            "2,28,Project Manager,Russel_Graves1378@extex.org,Russel Graves,6718-4818-8011-6024,American Express\n",
            "3,39,Stockbroker,Leanne_Newton1268@typill.biz,Leanne Newton,5438-0816-4166-4847,American Express\n",
            "4,57,Budget Analyst,Tony_Giles1960@iatim.tech,Tony Giles,8130-3425-7573-7745,American Express\n",
            "5,62,CNC Operator,Owen_Allcott5125@bauros.biz,Owen Allcott,4156-0107-7210-2630,American Express\n",
            "6,68,Project Manager,Liam_Lynn3280@kideod.biz,Liam Lynn,7152-3247-6053-2233,American Express\n",
            "7,74,Dentist,Regina_Woodcock5820@yahoo.com,Regina Woodcock,0208-1753-3870-8002,American Express\n",
            "8,81,HR Specialist,Carter_Wallace9614@atink.com,Carter Wallace,4256-7201-6717-4322,American Express\n",
            "9,92,Staffing Consultant,Maia_Stark2797@jiman.org,Maia Stark,3851-1403-1734-6321,American Express\n",
            "10,97,Stockbroker,Ciara_Lomax982@bauros.biz,Ciara Lomax,3702-3440-2472-5424,American Express\n",
            "11,116,Staffing Consultant,Isabel_Ellwood1475@fuliss.net,Isabel Ellwood,3738-0882-0066-6683,American Express\n",
            "12,148,CNC Operator,Abdul_Townend2202@infotech44.tech,Abdul Townend,4224-1226-3557-3448,American Express\n",
            "13,150,Fabricator,Caleb_Poulton1735@atink.com,Caleb Poulton,8203-6875-5225-0341,American Express\n",
            "14,151,Restaurant Manager,Ronald_Lewis6777@deavo.com,Ronald Lewis,7212-0155-5014-8471,American Express\n",
            "15,154,Bellman,Faith_Seymour3829@twace.org,Faith Seymour,4170-5186-6887-6558,American Express\n",
            "16,169,Assistant Buyer,Anthony_Hancock9083@qater.org,Anthony Hancock,0832-3357-6010-6550,American Express\n",
            "17,176,Healthcare Specialist,Isabella_Willson5478@nanoff.biz,Isabella Willson,5177-4868-4623-0384,American Express\n",
            "18,182,Pharmacist,Stephanie_Darcy3298@bauros.biz,Stephanie Darcy,0264-4020-5106-5576,American Express\n",
            "19,199,Investment  Advisor,Ryan_Kennedy5565@corti.com,Ryan Kennedy,3166-6287-6242-7207,American Express\n"
          ]
        }
      ]
    },
    {
      "cell_type": "markdown",
      "metadata": {
        "id": "yQJqDItyWWQ1"
      },
      "source": [
        "3\\. Load the file from this url:\n",
        "\n",
        "- https://www.dropbox.com/s/kgshemfgk22iy79/mushrooms_categorized.csv\n",
        "\n",
        "with Pandas. \n",
        "\n",
        "+ explore and print the DataFrame\n",
        "+ calculate, using `groupby()`, the average value of each feature, separately for each class\n",
        "+ save the file in a JSON format."
      ]
    },
    {
      "cell_type": "code",
      "metadata": {
        "colab": {
          "base_uri": "https://localhost:8080/"
        },
        "id": "BZ3AwFZ7WWQ1",
        "outputId": "b45b87cf-7d19-4320-a346-51854d8b0b5d"
      },
      "source": [
        "!wget https://www.dropbox.com/s/kgshemfgk22iy79/mushrooms_categorized.csv"
      ],
      "execution_count": 19,
      "outputs": [
        {
          "output_type": "stream",
          "name": "stdout",
          "text": [
            "--2021-12-03 14:08:29--  https://www.dropbox.com/s/kgshemfgk22iy79/mushrooms_categorized.csv\n",
            "Resolving www.dropbox.com (www.dropbox.com)... 162.125.5.18, 2620:100:601d:18::a27d:512\n",
            "Connecting to www.dropbox.com (www.dropbox.com)|162.125.5.18|:443... connected.\n",
            "HTTP request sent, awaiting response... 301 Moved Permanently\n",
            "Location: /s/raw/kgshemfgk22iy79/mushrooms_categorized.csv [following]\n",
            "--2021-12-03 14:08:29--  https://www.dropbox.com/s/raw/kgshemfgk22iy79/mushrooms_categorized.csv\n",
            "Reusing existing connection to www.dropbox.com:443.\n",
            "HTTP request sent, awaiting response... 302 Found\n",
            "Location: https://ucff1d5b6912e05dae10b1819f9c.dl.dropboxusercontent.com/cd/0/inline/BbKc9JM2xl9sBc59uUPEmAkX43tmI2hyOEEc8px3uXsgT6jtnX1YupiU4PsT_4gcElozPlbAAxZQnHQ9GQRCjPZQu8AsI7RcFf_PyrKkinh6wn48muvMABFsDWyIr9826TCrKRDu_yz_JMKkma1GJcx1/file# [following]\n",
            "--2021-12-03 14:08:29--  https://ucff1d5b6912e05dae10b1819f9c.dl.dropboxusercontent.com/cd/0/inline/BbKc9JM2xl9sBc59uUPEmAkX43tmI2hyOEEc8px3uXsgT6jtnX1YupiU4PsT_4gcElozPlbAAxZQnHQ9GQRCjPZQu8AsI7RcFf_PyrKkinh6wn48muvMABFsDWyIr9826TCrKRDu_yz_JMKkma1GJcx1/file\n",
            "Resolving ucff1d5b6912e05dae10b1819f9c.dl.dropboxusercontent.com (ucff1d5b6912e05dae10b1819f9c.dl.dropboxusercontent.com)... 162.125.2.15, 2620:100:601d:15::a27d:50f\n",
            "Connecting to ucff1d5b6912e05dae10b1819f9c.dl.dropboxusercontent.com (ucff1d5b6912e05dae10b1819f9c.dl.dropboxusercontent.com)|162.125.2.15|:443... connected.\n",
            "HTTP request sent, awaiting response... 200 OK\n",
            "Length: 375292 (366K) [text/plain]\n",
            "Saving to: ‘mushrooms_categorized.csv’\n",
            "\n",
            "mushrooms_categoriz 100%[===================>] 366.50K  1.42MB/s    in 0.3s    \n",
            "\n",
            "2021-12-03 14:08:30 (1.42 MB/s) - ‘mushrooms_categorized.csv’ saved [375292/375292]\n",
            "\n"
          ]
        }
      ]
    },
    {
      "cell_type": "code",
      "metadata": {
        "colab": {
          "base_uri": "https://localhost:8080/",
          "height": 495
        },
        "id": "eFEeMgekXHPk",
        "outputId": "07df1dbd-6e32-4bd8-eec7-535032d99ac1"
      },
      "source": [
        "file_name = 'mushrooms_categorized.csv'\n",
        "data = pd.read_csv(file_name)\n",
        "data"
      ],
      "execution_count": 22,
      "outputs": [
        {
          "output_type": "execute_result",
          "data": {
            "text/html": [
              "<div>\n",
              "<style scoped>\n",
              "    .dataframe tbody tr th:only-of-type {\n",
              "        vertical-align: middle;\n",
              "    }\n",
              "\n",
              "    .dataframe tbody tr th {\n",
              "        vertical-align: top;\n",
              "    }\n",
              "\n",
              "    .dataframe thead th {\n",
              "        text-align: right;\n",
              "    }\n",
              "</style>\n",
              "<table border=\"1\" class=\"dataframe\">\n",
              "  <thead>\n",
              "    <tr style=\"text-align: right;\">\n",
              "      <th></th>\n",
              "      <th>class</th>\n",
              "      <th>cap-shape</th>\n",
              "      <th>cap-surface</th>\n",
              "      <th>cap-color</th>\n",
              "      <th>bruises</th>\n",
              "      <th>odor</th>\n",
              "      <th>gill-attachment</th>\n",
              "      <th>gill-spacing</th>\n",
              "      <th>gill-size</th>\n",
              "      <th>gill-color</th>\n",
              "      <th>stalk-shape</th>\n",
              "      <th>stalk-root</th>\n",
              "      <th>stalk-surface-above-ring</th>\n",
              "      <th>stalk-surface-below-ring</th>\n",
              "      <th>stalk-color-above-ring</th>\n",
              "      <th>stalk-color-below-ring</th>\n",
              "      <th>veil-type</th>\n",
              "      <th>veil-color</th>\n",
              "      <th>ring-number</th>\n",
              "      <th>ring-type</th>\n",
              "      <th>spore-print-color</th>\n",
              "      <th>population</th>\n",
              "      <th>habitat</th>\n",
              "    </tr>\n",
              "  </thead>\n",
              "  <tbody>\n",
              "    <tr>\n",
              "      <th>0</th>\n",
              "      <td>1</td>\n",
              "      <td>5</td>\n",
              "      <td>2</td>\n",
              "      <td>4</td>\n",
              "      <td>1</td>\n",
              "      <td>6</td>\n",
              "      <td>1</td>\n",
              "      <td>0</td>\n",
              "      <td>1</td>\n",
              "      <td>4</td>\n",
              "      <td>0</td>\n",
              "      <td>3</td>\n",
              "      <td>2</td>\n",
              "      <td>2</td>\n",
              "      <td>7</td>\n",
              "      <td>7</td>\n",
              "      <td>0</td>\n",
              "      <td>2</td>\n",
              "      <td>1</td>\n",
              "      <td>4</td>\n",
              "      <td>2</td>\n",
              "      <td>3</td>\n",
              "      <td>5</td>\n",
              "    </tr>\n",
              "    <tr>\n",
              "      <th>1</th>\n",
              "      <td>0</td>\n",
              "      <td>5</td>\n",
              "      <td>2</td>\n",
              "      <td>9</td>\n",
              "      <td>1</td>\n",
              "      <td>0</td>\n",
              "      <td>1</td>\n",
              "      <td>0</td>\n",
              "      <td>0</td>\n",
              "      <td>4</td>\n",
              "      <td>0</td>\n",
              "      <td>2</td>\n",
              "      <td>2</td>\n",
              "      <td>2</td>\n",
              "      <td>7</td>\n",
              "      <td>7</td>\n",
              "      <td>0</td>\n",
              "      <td>2</td>\n",
              "      <td>1</td>\n",
              "      <td>4</td>\n",
              "      <td>3</td>\n",
              "      <td>2</td>\n",
              "      <td>1</td>\n",
              "    </tr>\n",
              "    <tr>\n",
              "      <th>2</th>\n",
              "      <td>0</td>\n",
              "      <td>0</td>\n",
              "      <td>2</td>\n",
              "      <td>8</td>\n",
              "      <td>1</td>\n",
              "      <td>3</td>\n",
              "      <td>1</td>\n",
              "      <td>0</td>\n",
              "      <td>0</td>\n",
              "      <td>5</td>\n",
              "      <td>0</td>\n",
              "      <td>2</td>\n",
              "      <td>2</td>\n",
              "      <td>2</td>\n",
              "      <td>7</td>\n",
              "      <td>7</td>\n",
              "      <td>0</td>\n",
              "      <td>2</td>\n",
              "      <td>1</td>\n",
              "      <td>4</td>\n",
              "      <td>3</td>\n",
              "      <td>2</td>\n",
              "      <td>3</td>\n",
              "    </tr>\n",
              "    <tr>\n",
              "      <th>3</th>\n",
              "      <td>1</td>\n",
              "      <td>5</td>\n",
              "      <td>3</td>\n",
              "      <td>8</td>\n",
              "      <td>1</td>\n",
              "      <td>6</td>\n",
              "      <td>1</td>\n",
              "      <td>0</td>\n",
              "      <td>1</td>\n",
              "      <td>5</td>\n",
              "      <td>0</td>\n",
              "      <td>3</td>\n",
              "      <td>2</td>\n",
              "      <td>2</td>\n",
              "      <td>7</td>\n",
              "      <td>7</td>\n",
              "      <td>0</td>\n",
              "      <td>2</td>\n",
              "      <td>1</td>\n",
              "      <td>4</td>\n",
              "      <td>2</td>\n",
              "      <td>3</td>\n",
              "      <td>5</td>\n",
              "    </tr>\n",
              "    <tr>\n",
              "      <th>4</th>\n",
              "      <td>0</td>\n",
              "      <td>5</td>\n",
              "      <td>2</td>\n",
              "      <td>3</td>\n",
              "      <td>0</td>\n",
              "      <td>5</td>\n",
              "      <td>1</td>\n",
              "      <td>1</td>\n",
              "      <td>0</td>\n",
              "      <td>4</td>\n",
              "      <td>1</td>\n",
              "      <td>3</td>\n",
              "      <td>2</td>\n",
              "      <td>2</td>\n",
              "      <td>7</td>\n",
              "      <td>7</td>\n",
              "      <td>0</td>\n",
              "      <td>2</td>\n",
              "      <td>1</td>\n",
              "      <td>0</td>\n",
              "      <td>3</td>\n",
              "      <td>0</td>\n",
              "      <td>1</td>\n",
              "    </tr>\n",
              "    <tr>\n",
              "      <th>...</th>\n",
              "      <td>...</td>\n",
              "      <td>...</td>\n",
              "      <td>...</td>\n",
              "      <td>...</td>\n",
              "      <td>...</td>\n",
              "      <td>...</td>\n",
              "      <td>...</td>\n",
              "      <td>...</td>\n",
              "      <td>...</td>\n",
              "      <td>...</td>\n",
              "      <td>...</td>\n",
              "      <td>...</td>\n",
              "      <td>...</td>\n",
              "      <td>...</td>\n",
              "      <td>...</td>\n",
              "      <td>...</td>\n",
              "      <td>...</td>\n",
              "      <td>...</td>\n",
              "      <td>...</td>\n",
              "      <td>...</td>\n",
              "      <td>...</td>\n",
              "      <td>...</td>\n",
              "      <td>...</td>\n",
              "    </tr>\n",
              "    <tr>\n",
              "      <th>8119</th>\n",
              "      <td>0</td>\n",
              "      <td>3</td>\n",
              "      <td>2</td>\n",
              "      <td>4</td>\n",
              "      <td>0</td>\n",
              "      <td>5</td>\n",
              "      <td>0</td>\n",
              "      <td>0</td>\n",
              "      <td>0</td>\n",
              "      <td>11</td>\n",
              "      <td>0</td>\n",
              "      <td>0</td>\n",
              "      <td>2</td>\n",
              "      <td>2</td>\n",
              "      <td>5</td>\n",
              "      <td>5</td>\n",
              "      <td>0</td>\n",
              "      <td>1</td>\n",
              "      <td>1</td>\n",
              "      <td>4</td>\n",
              "      <td>0</td>\n",
              "      <td>1</td>\n",
              "      <td>2</td>\n",
              "    </tr>\n",
              "    <tr>\n",
              "      <th>8120</th>\n",
              "      <td>0</td>\n",
              "      <td>5</td>\n",
              "      <td>2</td>\n",
              "      <td>4</td>\n",
              "      <td>0</td>\n",
              "      <td>5</td>\n",
              "      <td>0</td>\n",
              "      <td>0</td>\n",
              "      <td>0</td>\n",
              "      <td>11</td>\n",
              "      <td>0</td>\n",
              "      <td>0</td>\n",
              "      <td>2</td>\n",
              "      <td>2</td>\n",
              "      <td>5</td>\n",
              "      <td>5</td>\n",
              "      <td>0</td>\n",
              "      <td>0</td>\n",
              "      <td>1</td>\n",
              "      <td>4</td>\n",
              "      <td>0</td>\n",
              "      <td>4</td>\n",
              "      <td>2</td>\n",
              "    </tr>\n",
              "    <tr>\n",
              "      <th>8121</th>\n",
              "      <td>0</td>\n",
              "      <td>2</td>\n",
              "      <td>2</td>\n",
              "      <td>4</td>\n",
              "      <td>0</td>\n",
              "      <td>5</td>\n",
              "      <td>0</td>\n",
              "      <td>0</td>\n",
              "      <td>0</td>\n",
              "      <td>5</td>\n",
              "      <td>0</td>\n",
              "      <td>0</td>\n",
              "      <td>2</td>\n",
              "      <td>2</td>\n",
              "      <td>5</td>\n",
              "      <td>5</td>\n",
              "      <td>0</td>\n",
              "      <td>1</td>\n",
              "      <td>1</td>\n",
              "      <td>4</td>\n",
              "      <td>0</td>\n",
              "      <td>1</td>\n",
              "      <td>2</td>\n",
              "    </tr>\n",
              "    <tr>\n",
              "      <th>8122</th>\n",
              "      <td>1</td>\n",
              "      <td>3</td>\n",
              "      <td>3</td>\n",
              "      <td>4</td>\n",
              "      <td>0</td>\n",
              "      <td>8</td>\n",
              "      <td>1</td>\n",
              "      <td>0</td>\n",
              "      <td>1</td>\n",
              "      <td>0</td>\n",
              "      <td>1</td>\n",
              "      <td>0</td>\n",
              "      <td>2</td>\n",
              "      <td>1</td>\n",
              "      <td>7</td>\n",
              "      <td>7</td>\n",
              "      <td>0</td>\n",
              "      <td>2</td>\n",
              "      <td>1</td>\n",
              "      <td>0</td>\n",
              "      <td>7</td>\n",
              "      <td>4</td>\n",
              "      <td>2</td>\n",
              "    </tr>\n",
              "    <tr>\n",
              "      <th>8123</th>\n",
              "      <td>0</td>\n",
              "      <td>5</td>\n",
              "      <td>2</td>\n",
              "      <td>4</td>\n",
              "      <td>0</td>\n",
              "      <td>5</td>\n",
              "      <td>0</td>\n",
              "      <td>0</td>\n",
              "      <td>0</td>\n",
              "      <td>11</td>\n",
              "      <td>0</td>\n",
              "      <td>0</td>\n",
              "      <td>2</td>\n",
              "      <td>2</td>\n",
              "      <td>5</td>\n",
              "      <td>5</td>\n",
              "      <td>0</td>\n",
              "      <td>1</td>\n",
              "      <td>1</td>\n",
              "      <td>4</td>\n",
              "      <td>4</td>\n",
              "      <td>1</td>\n",
              "      <td>2</td>\n",
              "    </tr>\n",
              "  </tbody>\n",
              "</table>\n",
              "<p>8124 rows × 23 columns</p>\n",
              "</div>"
            ],
            "text/plain": [
              "      class  cap-shape  cap-surface  ...  spore-print-color  population  habitat\n",
              "0         1          5            2  ...                  2           3        5\n",
              "1         0          5            2  ...                  3           2        1\n",
              "2         0          0            2  ...                  3           2        3\n",
              "3         1          5            3  ...                  2           3        5\n",
              "4         0          5            2  ...                  3           0        1\n",
              "...     ...        ...          ...  ...                ...         ...      ...\n",
              "8119      0          3            2  ...                  0           1        2\n",
              "8120      0          5            2  ...                  0           4        2\n",
              "8121      0          2            2  ...                  0           1        2\n",
              "8122      1          3            3  ...                  7           4        2\n",
              "8123      0          5            2  ...                  4           1        2\n",
              "\n",
              "[8124 rows x 23 columns]"
            ]
          },
          "metadata": {},
          "execution_count": 22
        }
      ]
    },
    {
      "cell_type": "code",
      "metadata": {
        "colab": {
          "base_uri": "https://localhost:8080/",
          "height": 215
        },
        "id": "avZgMFBUXLGa",
        "outputId": "647c2e1c-abbb-4e58-ea21-05be09ac604e"
      },
      "source": [
        "value = data.groupby('class').mean()\n",
        "value"
      ],
      "execution_count": 23,
      "outputs": [
        {
          "output_type": "execute_result",
          "data": {
            "text/html": [
              "<div>\n",
              "<style scoped>\n",
              "    .dataframe tbody tr th:only-of-type {\n",
              "        vertical-align: middle;\n",
              "    }\n",
              "\n",
              "    .dataframe tbody tr th {\n",
              "        vertical-align: top;\n",
              "    }\n",
              "\n",
              "    .dataframe thead th {\n",
              "        text-align: right;\n",
              "    }\n",
              "</style>\n",
              "<table border=\"1\" class=\"dataframe\">\n",
              "  <thead>\n",
              "    <tr style=\"text-align: right;\">\n",
              "      <th></th>\n",
              "      <th>cap-shape</th>\n",
              "      <th>cap-surface</th>\n",
              "      <th>cap-color</th>\n",
              "      <th>bruises</th>\n",
              "      <th>odor</th>\n",
              "      <th>gill-attachment</th>\n",
              "      <th>gill-spacing</th>\n",
              "      <th>gill-size</th>\n",
              "      <th>gill-color</th>\n",
              "      <th>stalk-shape</th>\n",
              "      <th>stalk-root</th>\n",
              "      <th>stalk-surface-above-ring</th>\n",
              "      <th>stalk-surface-below-ring</th>\n",
              "      <th>stalk-color-above-ring</th>\n",
              "      <th>stalk-color-below-ring</th>\n",
              "      <th>veil-type</th>\n",
              "      <th>veil-color</th>\n",
              "      <th>ring-number</th>\n",
              "      <th>ring-type</th>\n",
              "      <th>spore-print-color</th>\n",
              "      <th>population</th>\n",
              "      <th>habitat</th>\n",
              "    </tr>\n",
              "    <tr>\n",
              "      <th>class</th>\n",
              "      <th></th>\n",
              "      <th></th>\n",
              "      <th></th>\n",
              "      <th></th>\n",
              "      <th></th>\n",
              "      <th></th>\n",
              "      <th></th>\n",
              "      <th></th>\n",
              "      <th></th>\n",
              "      <th></th>\n",
              "      <th></th>\n",
              "      <th></th>\n",
              "      <th></th>\n",
              "      <th></th>\n",
              "      <th></th>\n",
              "      <th></th>\n",
              "      <th></th>\n",
              "      <th></th>\n",
              "      <th></th>\n",
              "      <th></th>\n",
              "      <th></th>\n",
              "      <th></th>\n",
              "    </tr>\n",
              "  </thead>\n",
              "  <tbody>\n",
              "    <tr>\n",
              "      <th>0</th>\n",
              "      <td>3.266160</td>\n",
              "      <td>1.615970</td>\n",
              "      <td>4.581749</td>\n",
              "      <td>0.653992</td>\n",
              "      <td>4.334601</td>\n",
              "      <td>0.954373</td>\n",
              "      <td>0.285171</td>\n",
              "      <td>0.068441</td>\n",
              "      <td>6.622624</td>\n",
              "      <td>0.615970</td>\n",
              "      <td>1.498099</td>\n",
              "      <td>1.775665</td>\n",
              "      <td>1.798479</td>\n",
              "      <td>6.098859</td>\n",
              "      <td>6.064639</td>\n",
              "      <td>0.0</td>\n",
              "      <td>1.931559</td>\n",
              "      <td>1.125475</td>\n",
              "      <td>3.007605</td>\n",
              "      <td>3.201521</td>\n",
              "      <td>3.283270</td>\n",
              "      <td>1.148289</td>\n",
              "    </tr>\n",
              "    <tr>\n",
              "      <th>1</th>\n",
              "      <td>3.436159</td>\n",
              "      <td>2.055158</td>\n",
              "      <td>4.421859</td>\n",
              "      <td>0.159346</td>\n",
              "      <td>3.940756</td>\n",
              "      <td>0.995403</td>\n",
              "      <td>0.028601</td>\n",
              "      <td>0.567926</td>\n",
              "      <td>2.863636</td>\n",
              "      <td>0.514811</td>\n",
              "      <td>0.692543</td>\n",
              "      <td>1.359551</td>\n",
              "      <td>1.394280</td>\n",
              "      <td>5.512768</td>\n",
              "      <td>5.504597</td>\n",
              "      <td>0.0</td>\n",
              "      <td>2.002043</td>\n",
              "      <td>1.009193</td>\n",
              "      <td>1.522983</td>\n",
              "      <td>4.021450</td>\n",
              "      <td>4.031665</td>\n",
              "      <td>1.895812</td>\n",
              "    </tr>\n",
              "  </tbody>\n",
              "</table>\n",
              "</div>"
            ],
            "text/plain": [
              "       cap-shape  cap-surface  ...  population   habitat\n",
              "class                          ...                      \n",
              "0       3.266160     1.615970  ...    3.283270  1.148289\n",
              "1       3.436159     2.055158  ...    4.031665  1.895812\n",
              "\n",
              "[2 rows x 22 columns]"
            ]
          },
          "metadata": {},
          "execution_count": 23
        }
      ]
    },
    {
      "cell_type": "code",
      "metadata": {
        "colab": {
          "base_uri": "https://localhost:8080/"
        },
        "id": "t73yhfzoYZox",
        "outputId": "d2f91195-ef3f-4d0a-cf64-4030ff8a1185"
      },
      "source": [
        "value.to_json('mushrooms_mean.json', orient = 'index', indent = 4)\n",
        "\n",
        "print('AVERAGE VALUES \\n')\n",
        "!cat mushrooms_mean.json "
      ],
      "execution_count": 25,
      "outputs": [
        {
          "output_type": "stream",
          "name": "stdout",
          "text": [
            "AVERAGE VALUES \n",
            "\n",
            "{\n",
            "    \"0\":{\n",
            "        \"cap-shape\":3.2661596958,\n",
            "        \"cap-surface\":1.6159695817,\n",
            "        \"cap-color\":4.5817490494,\n",
            "        \"bruises\":0.6539923954,\n",
            "        \"odor\":4.3346007605,\n",
            "        \"gill-attachment\":0.9543726236,\n",
            "        \"gill-spacing\":0.2851711027,\n",
            "        \"gill-size\":0.0684410646,\n",
            "        \"gill-color\":6.6226235741,\n",
            "        \"stalk-shape\":0.6159695817,\n",
            "        \"stalk-root\":1.4980988593,\n",
            "        \"stalk-surface-above-ring\":1.7756653992,\n",
            "        \"stalk-surface-below-ring\":1.7984790875,\n",
            "        \"stalk-color-above-ring\":6.0988593156,\n",
            "        \"stalk-color-below-ring\":6.0646387833,\n",
            "        \"veil-type\":0.0,\n",
            "        \"veil-color\":1.9315589354,\n",
            "        \"ring-number\":1.1254752852,\n",
            "        \"ring-type\":3.0076045627,\n",
            "        \"spore-print-color\":3.2015209125,\n",
            "        \"population\":3.283269962,\n",
            "        \"habitat\":1.1482889734\n",
            "    },\n",
            "    \"1\":{\n",
            "        \"cap-shape\":3.4361593463,\n",
            "        \"cap-surface\":2.0551583248,\n",
            "        \"cap-color\":4.4218590398,\n",
            "        \"bruises\":0.1593462717,\n",
            "        \"odor\":3.9407558733,\n",
            "        \"gill-attachment\":0.9954034729,\n",
            "        \"gill-spacing\":0.0286006129,\n",
            "        \"gill-size\":0.5679264556,\n",
            "        \"gill-color\":2.8636363636,\n",
            "        \"stalk-shape\":0.5148110317,\n",
            "        \"stalk-root\":0.6925434116,\n",
            "        \"stalk-surface-above-ring\":1.3595505618,\n",
            "        \"stalk-surface-below-ring\":1.3942798774,\n",
            "        \"stalk-color-above-ring\":5.5127681307,\n",
            "        \"stalk-color-below-ring\":5.5045965271,\n",
            "        \"veil-type\":0.0,\n",
            "        \"veil-color\":2.0020429009,\n",
            "        \"ring-number\":1.0091930541,\n",
            "        \"ring-type\":1.5229826353,\n",
            "        \"spore-print-color\":4.0214504597,\n",
            "        \"population\":4.0316649642,\n",
            "        \"habitat\":1.8958120531\n",
            "    }\n",
            "}"
          ]
        }
      ]
    },
    {
      "cell_type": "markdown",
      "metadata": {
        "id": "wiP0qFQnWWQ1"
      },
      "source": [
        "4\\. Get the binary file named *credit_card.dat* from this address:\n",
        "\n",
        "- https://www.dropbox.com/s/8m0syw2tkul3dap/credit_card.dat\n",
        "\n",
        "and convert the data into the real credit card number, knowing that:\n",
        "- each line corresponds to a credit card number, which consists of 16 characters (which are numbers in the 0-9 range) divided in 4 blocks, with a whitespace between each block\n",
        "- each character is written using a 6 bit binary representation (including the whitespace)\n",
        "- the final 4 bits of each line are a padding used to determine the end of the line, and can be ignored\n",
        "\n",
        "*Hint*: convert the binary numbers to the decimal representation first, and then use the `chr()` function to convert the latter to a char"
      ]
    },
    {
      "cell_type": "code",
      "metadata": {
        "colab": {
          "base_uri": "https://localhost:8080/"
        },
        "id": "hhfQgV3RYYJU",
        "outputId": "c025a9af-8e17-4972-8e60-8078664be801"
      },
      "source": [
        "!wget https://www.dropbox.com/s/8m0syw2tkul3dap/credit_card.dat"
      ],
      "execution_count": 26,
      "outputs": [
        {
          "output_type": "stream",
          "name": "stdout",
          "text": [
            "--2021-12-03 14:10:07--  https://www.dropbox.com/s/8m0syw2tkul3dap/credit_card.dat\n",
            "Resolving www.dropbox.com (www.dropbox.com)... 162.125.5.18, 2620:100:601d:18::a27d:512\n",
            "Connecting to www.dropbox.com (www.dropbox.com)|162.125.5.18|:443... connected.\n",
            "HTTP request sent, awaiting response... 301 Moved Permanently\n",
            "Location: /s/raw/8m0syw2tkul3dap/credit_card.dat [following]\n",
            "--2021-12-03 14:10:08--  https://www.dropbox.com/s/raw/8m0syw2tkul3dap/credit_card.dat\n",
            "Reusing existing connection to www.dropbox.com:443.\n",
            "HTTP request sent, awaiting response... 302 Found\n",
            "Location: https://ucf7c6d3f73ef0d11a14dc3a6334.dl.dropboxusercontent.com/cd/0/inline/BbJllltWUODyeoybeeMVNyUNwugRhRjaZgZ77InFhK9YFYiV1YgoctCguFXgDAEKZCn3vChol_FaSrIuMnNVWqPZmYg6HxOlEr1kAnGFMhKjUxrNpvKXRpvyjdD0Q-DSeDP3U3LZwlhNCBWxz5ws3vqc/file# [following]\n",
            "--2021-12-03 14:10:08--  https://ucf7c6d3f73ef0d11a14dc3a6334.dl.dropboxusercontent.com/cd/0/inline/BbJllltWUODyeoybeeMVNyUNwugRhRjaZgZ77InFhK9YFYiV1YgoctCguFXgDAEKZCn3vChol_FaSrIuMnNVWqPZmYg6HxOlEr1kAnGFMhKjUxrNpvKXRpvyjdD0Q-DSeDP3U3LZwlhNCBWxz5ws3vqc/file\n",
            "Resolving ucf7c6d3f73ef0d11a14dc3a6334.dl.dropboxusercontent.com (ucf7c6d3f73ef0d11a14dc3a6334.dl.dropboxusercontent.com)... 162.125.5.15, 2620:100:601d:15::a27d:50f\n",
            "Connecting to ucf7c6d3f73ef0d11a14dc3a6334.dl.dropboxusercontent.com (ucf7c6d3f73ef0d11a14dc3a6334.dl.dropboxusercontent.com)|162.125.5.15|:443... connected.\n",
            "HTTP request sent, awaiting response... 302 Found\n",
            "Location: /cd/0/inline2/BbKSQxcZCcntFgxNlqKxIC-BGeusLvsAKbZZ42Jcl66eZi8M8xSvUyWnTqZFxcuNCIk0Eljd8cS-cvTR9CvgvOvPvR2nmJp1UvXYHYWvdCZesNDRLAUNwncJOaj9RpDnPl8-m7XInYFwesjytNLkdcXfs7bAh3Rq0W3YPPIlIUkxhs2FTHyHcNOxZqwcwPNVfrMIzDADeqTMs-H5lbsvAb0WS4ZT6TkahIsDiHJBmzbo-RC46flzYok79r53G930Sg4ZAyn35cENx5f32J_UCLo4r-crI3lCkdTsUgrqzgWtqkS4_0_Yj490OCm7Dy_4cgaKrAYqs6GnssiTlTM8NfZnLML3HIuECzna1xVjeRqRgR7auQK4IRn735PV-glk2sM/file [following]\n",
            "--2021-12-03 14:10:08--  https://ucf7c6d3f73ef0d11a14dc3a6334.dl.dropboxusercontent.com/cd/0/inline2/BbKSQxcZCcntFgxNlqKxIC-BGeusLvsAKbZZ42Jcl66eZi8M8xSvUyWnTqZFxcuNCIk0Eljd8cS-cvTR9CvgvOvPvR2nmJp1UvXYHYWvdCZesNDRLAUNwncJOaj9RpDnPl8-m7XInYFwesjytNLkdcXfs7bAh3Rq0W3YPPIlIUkxhs2FTHyHcNOxZqwcwPNVfrMIzDADeqTMs-H5lbsvAb0WS4ZT6TkahIsDiHJBmzbo-RC46flzYok79r53G930Sg4ZAyn35cENx5f32J_UCLo4r-crI3lCkdTsUgrqzgWtqkS4_0_Yj490OCm7Dy_4cgaKrAYqs6GnssiTlTM8NfZnLML3HIuECzna1xVjeRqRgR7auQK4IRn735PV-glk2sM/file\n",
            "Reusing existing connection to ucf7c6d3f73ef0d11a14dc3a6334.dl.dropboxusercontent.com:443.\n",
            "HTTP request sent, awaiting response... 200 OK\n",
            "Length: 5955 (5.8K) [application/x-ns-proxy-autoconfig]\n",
            "Saving to: ‘credit_card.dat’\n",
            "\n",
            "credit_card.dat     100%[===================>]   5.82K  --.-KB/s    in 0s      \n",
            "\n",
            "2021-12-03 14:10:08 (521 MB/s) - ‘credit_card.dat’ saved [5955/5955]\n",
            "\n"
          ]
        }
      ]
    },
    {
      "cell_type": "code",
      "metadata": {
        "colab": {
          "base_uri": "https://localhost:8080/"
        },
        "id": "YFwI8zmSXJ_H",
        "outputId": "077b073d-a07f-4aae-c668-651feb04ee2e"
      },
      "source": [
        "with open('credit_card.dat','rb+') as f:\n",
        "    f_c = f.read().splitlines() \n",
        "\n",
        "final_val = []\n",
        "for elem in f_c:\n",
        "    if len(elem) == 19*6+4:\n",
        "        temp = []\n",
        "        for i in range(19):\n",
        "            temp.append(chr(int(elem[i*6:i*6+6] ,2)))\n",
        "        final_val.append(''.join(temp))  \n",
        "\n",
        "print('CREDITS \\n')  \n",
        "print(np.array(final_val))"
      ],
      "execution_count": 31,
      "outputs": [
        {
          "output_type": "stream",
          "name": "stdout",
          "text": [
            "CREDITS \n",
            "\n",
            "['7648 5673 3775 2271' '3257 8247 3354 2266' '2722 0001 4011 6652'\n",
            " '0661 3063 3742 3150' '0432 1608 1462 4742' '5827 2027 8785 7303'\n",
            " '5774 8528 2087 1117' '8140 1210 6352 2845' '5764 1133 7301 7100'\n",
            " '6456 1737 4126 6726' '1228 8631 7382 0000' '7051 0160 5374 3166'\n",
            " '0618 3587 1630 6376' '1545 5454 7444 5636' '6735 3116 3202 6834'\n",
            " '7287 5011 1547 8413' '7033 2607 3328 4200' '2568 5244 1874 5024'\n",
            " '1684 2253 7570 7118' '0672 2576 0575 6631' '6332 8353 8787 1340'\n",
            " '1813 3361 1175 4211' '2477 6450 8840 2368' '5512 3505 2563 1326'\n",
            " '3083 7882 0621 0025' '4521 5148 8045 0334' '7563 3654 8713 5787'\n",
            " '8324 2664 0476 5561' '0565 2504 7168 3510' '5107 5507 1767 0738'\n",
            " '2462 1821 2448 1443' '2788 0638 6861 6554' '5851 5873 5474 0547'\n",
            " '0670 1004 4013 2655' '5874 5506 3048 0806' '2805 5401 8462 1260'\n",
            " '5083 8406 6310 1862' '1076 1445 3013 2266' '8440 4804 4844 5277'\n",
            " '4758 6141 0686 1387' '7586 0675 0315 2568' '2544 1258 7432 5165'\n",
            " '3474 5023 4434 5626' '1410 0270 0434 5086' '7315 4446 1104 4215'\n",
            " '0224 7742 8300 0266' '0170 2700 3145 0640' '2006 2437 8054 1600'\n",
            " '8142 4055 1776 0026' '3026 7380 1241 1084']\n"
          ]
        }
      ]
    },
    {
      "cell_type": "markdown",
      "metadata": {
        "id": "O4FdaGe-WWQ2"
      },
      "source": [
        "5\\. **Optional**: load the remote file:\n",
        "\n",
        "- https://www.dropbox.com/s/aamg1apjhclecka/regression_generated.csv\n",
        "\n",
        "with Pandas and create a scatter plot with all possible combinations of the following features:\n",
        "    \n",
        "  + features_1\n",
        "  + features_2\n",
        "  + features_3"
      ]
    },
    {
      "cell_type": "code",
      "metadata": {
        "colab": {
          "base_uri": "https://localhost:8080/"
        },
        "id": "PM1HJV76WWQ2",
        "outputId": "1b53df29-f016-4913-a05c-7706a59bf116"
      },
      "source": [
        "!wget https://www.dropbox.com/s/aamg1apjhclecka/regression_generated.csv"
      ],
      "execution_count": 32,
      "outputs": [
        {
          "output_type": "stream",
          "name": "stdout",
          "text": [
            "--2021-12-03 14:11:44--  https://www.dropbox.com/s/aamg1apjhclecka/regression_generated.csv\n",
            "Resolving www.dropbox.com (www.dropbox.com)... 162.125.5.18, 2620:100:601d:18::a27d:512\n",
            "Connecting to www.dropbox.com (www.dropbox.com)|162.125.5.18|:443... connected.\n",
            "HTTP request sent, awaiting response... 301 Moved Permanently\n",
            "Location: /s/raw/aamg1apjhclecka/regression_generated.csv [following]\n",
            "--2021-12-03 14:11:44--  https://www.dropbox.com/s/raw/aamg1apjhclecka/regression_generated.csv\n",
            "Reusing existing connection to www.dropbox.com:443.\n",
            "HTTP request sent, awaiting response... 302 Found\n",
            "Location: https://ucb05ad68bc2201df6ed1213bb06.dl.dropboxusercontent.com/cd/0/inline/BbJ_Tirncb8sUbsw97cVGFUuJP7rStVlecsWMChwmGDccTkENsrGsCfQQEeUJxB7cN6eJ-vIdsXNQYi40tcxUJrfo01dfxgXH3oeKqmUWauVTSXiyEGKnDOrTcXfD7EHkpoU1PNW3tLv2LuxqFAR2H5-/file# [following]\n",
            "--2021-12-03 14:11:44--  https://ucb05ad68bc2201df6ed1213bb06.dl.dropboxusercontent.com/cd/0/inline/BbJ_Tirncb8sUbsw97cVGFUuJP7rStVlecsWMChwmGDccTkENsrGsCfQQEeUJxB7cN6eJ-vIdsXNQYi40tcxUJrfo01dfxgXH3oeKqmUWauVTSXiyEGKnDOrTcXfD7EHkpoU1PNW3tLv2LuxqFAR2H5-/file\n",
            "Resolving ucb05ad68bc2201df6ed1213bb06.dl.dropboxusercontent.com (ucb05ad68bc2201df6ed1213bb06.dl.dropboxusercontent.com)... 162.125.5.15, 2620:100:601d:15::a27d:50f\n",
            "Connecting to ucb05ad68bc2201df6ed1213bb06.dl.dropboxusercontent.com (ucb05ad68bc2201df6ed1213bb06.dl.dropboxusercontent.com)|162.125.5.15|:443... connected.\n",
            "HTTP request sent, awaiting response... 200 OK\n",
            "Length: 823374 (804K) [text/plain]\n",
            "Saving to: ‘regression_generated.csv’\n",
            "\n",
            "regression_generate 100%[===================>] 804.08K  --.-KB/s    in 0.1s    \n",
            "\n",
            "2021-12-03 14:11:45 (8.04 MB/s) - ‘regression_generated.csv’ saved [823374/823374]\n",
            "\n"
          ]
        }
      ]
    },
    {
      "cell_type": "code",
      "metadata": {
        "colab": {
          "base_uri": "https://localhost:8080/",
          "height": 808
        },
        "id": "E3M2Vh1ra5VA",
        "outputId": "492ce652-f4c2-4de8-d706-ab98c2f59cc2"
      },
      "source": [
        "data = pd.read_csv(\"regression_generated.csv\")\n",
        "plt.figure(facecolor='grey') \n",
        "plt.rcParams.update({'axes.facecolor':'pink'})\n",
        "plt.scatter(data.features_1, data.features_2)\n",
        "plt.title('Features_1 and Features_2')\n",
        "plt.show()\n",
        "plt.figure(facecolor='white') \n",
        "plt.scatter(data.features_1, data.features_3)\n",
        "plt.title('Features_1 and Features_3')\n",
        "plt.show()\n",
        "plt.figure(facecolor='yellow') \n",
        "plt.scatter(data.features_2, data.features_3)\n",
        "plt.title('Features_2 and Features_3')\n",
        "plt.show()"
      ],
      "execution_count": 34,
      "outputs": [
        {
          "output_type": "display_data",
          "data": {
            "image/png": "[encoded data removed]",
            "text/plain": [
              "<Figure size 432x288 with 1 Axes>"
            ]
          },
          "metadata": {}
        },
        {
          "output_type": "display_data",
          "data": {
            "image/png": "[encoded data removed]",
            "text/plain": [
              "<Figure size 432x288 with 1 Axes>"
            ]
          },
          "metadata": {}
        },
        {
          "output_type": "display_data",
          "data": {
            "image/png": "[encoded data removed]",
            "text/plain": [
              "<Figure size 432x288 with 1 Axes>"
            ]
          },
          "metadata": {}
        }
      ]
    },
    {
      "cell_type": "code",
      "metadata": {
        "id": "tHS-p_ala6E5"
      },
      "source": [
        ""
      ],
      "execution_count": null,
      "outputs": []
    }
  ]
}