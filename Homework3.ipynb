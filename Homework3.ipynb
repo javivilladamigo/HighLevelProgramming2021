{
 "cells": [
  {
   "cell_type": "code",
   "execution_count": 1,
   "id": "771b98b3",
   "metadata": {},
   "outputs": [
    {
     "name": "stdout",
     "output_type": "stream",
     "text": [
      "Lütfen bir sayı giriniz: 17\n",
      "Sayının orijinal hali 17 \n",
      "Sayının binary hali 10001\n",
      "Sayının hexadecimal hali 11\n"
     ]
    }
   ],
   "source": [
    "def transformNumber(num):\n",
    "    binary = bin(num).replace(\"0b\", \"\")\n",
    "    hexadeci = hex(num).replace(\"0x\",\"\")\n",
    "    \n",
    "    print(\"Sayının orijinal hali \" +  str(num) + \" \\n\" + \"Sayının binary hali \" + str(binary) + \"\\n\" + \"Sayının hexadecimal hali \" + str(hexadeci))\n",
    "\n",
    "num = int(input(\"Lütfen bir sayı giriniz: \"))\n",
    "transformNumber(num)"
   ]
  },
  {
   "cell_type": "code",
   "execution_count": 59,
   "id": "c94cfba7",
   "metadata": {},
   "outputs": [
    {
     "name": "stdout",
     "output_type": "stream",
     "text": [
      "IEEE 754 representation of -2.250000 is :\n",
      "1|10000000|00100000000000000000000\n"
     ]
    }
   ],
   "source": [
    "\n",
    "def binaryOfFraction(fraction):\n",
    "\tbinary = str()\n",
    "\twhile (fraction):\n",
    "\t\tfraction *= 2\n",
    "\t\tif (fraction >= 1):\n",
    "\t\t\tint_part = 1\n",
    "\t\t\tfraction -= 1\n",
    "\t\telse:\n",
    "\t\t\tint_part = 0\n",
    "\t\tbinary += str(int_part)\n",
    "\treturn binary\n",
    "def floatingPoint(real_no):\n",
    "\tsign_bit = 0\n",
    "\tif(real_no < 0):\n",
    "\t\tsign_bit = 1\n",
    "\treal_no = abs(real_no)\n",
    "\tint_str = bin(int(real_no))[2 : ]\n",
    "\tfraction_str = binaryOfFraction(real_no - int(real_no))\n",
    "\tind = int_str.index('1')\n",
    "\texp_str = bin((len(int_str) - ind - 1) + 127)[2 : ]\n",
    "\tmant_str = int_str[ind + 1 : ] + fraction_str\n",
    "\tmant_str = mant_str + ('0' * (23 - len(mant_str)))\n",
    "\treturn sign_bit, exp_str, mant_str\n",
    "if __name__ == \"__main__\":\n",
    "\tsign_bit, exp_str, mant_str = floatingPoint(-2.250000)\n",
    "\tieee_32 = str(sign_bit) + '|' + exp_str + '|' + mant_str\n",
    "\tprint(\"IEEE 754 representation of -2.250000 is :\")\n",
    "\tprint(ieee_32)\n"
   ]
  },
  {
   "cell_type": "code",
   "execution_count": 103,
   "id": "27364a55",
   "metadata": {},
   "outputs": [],
   "source": [
    "def binaryOfFraction(fraction):\n",
    "    binary = str()\n",
    "    while (fraction):\n",
    "        fraction *= 2\n",
    "        if (fraction >= 1):\n",
    "            int_part = 1\n",
    "            fraction -= 1\n",
    "        else:\n",
    "            int_part = 0\n",
    "            binary += str(int_part)\n",
    "            return binary\n",
    "def floatingPoint(real_no):\n",
    "    sign_bit = 0\n",
    "    if(real_no < 0):\n",
    "        sign_bit = 1\n",
    "        real_no = abs(real_no)\n",
    "        int_str = bin(int(real_no))[2 : ]\n",
    "        fraction_str = binaryOfFraction(real_no - int(real_no))\n",
    "        ind = int_str.index('1')\n",
    "        exp_str = bin((len(int_str) - ind - 1) + 127)[2 : ]\n",
    "        mant_str = int_str[ind + 1 : ] + fraction_str\n",
    "        mant_str = mant_str + ('0' * (23 - len(mant_str)))\n",
    "        return sign_bit, exp_str, mant_str\n",
    "        if __name__ == \"__main__\":\n",
    "            sign_bit, exp_str, mant_str = floatingPoint(-2.250000)\n",
    "            ieee_32 = str(sign_bit) + '|' + exp_str + '|' + mant_str\n",
    "            print(\"IEEE 754 representation of -2.250000 is :\")\n",
    "            print(ieee_32)"
   ]
  },
  {
   "cell_type": "code",
   "execution_count": 83,
   "id": "47d9beea",
   "metadata": {},
   "outputs": [
    {
     "name": "stdout",
     "output_type": "stream",
     "text": [
      "The solution are (-999999.999999+0j) and (-9.999894245993346e-07+0j)\n"
     ]
    }
   ],
   "source": [
    "import cmath\n",
    "a = 0.001\n",
    "b = 1000\n",
    "c = 0.001\n",
    "\n",
    "d = (b**2) - (4*a*c)\n",
    "\n",
    "sol1 = (-b-cmath.sqrt(d))/(2*a)\n",
    "sol2 = (-b+cmath.sqrt(d))/(2*a)\n",
    "\n",
    "print('The solution are {0} and {1}'.format(sol1,sol2))"
   ]
  },
  {
   "cell_type": "code",
   "execution_count": null,
   "id": "31cd9e13",
   "metadata": {},
   "outputs": [],
   "source": []
  }
 ],
 "metadata": {
  "kernelspec": {
   "display_name": "Python 3",
   "language": "python",
   "name": "python3"
  },
  "language_info": {
   "codemirror_mode": {
    "name": "ipython",
    "version": 3
   },
   "file_extension": ".py",
   "mimetype": "text/x-python",
   "name": "python",
   "nbconvert_exporter": "python",
   "pygments_lexer": "ipython3",
   "version": "3.8.8"
  }
 },
 "nbformat": 4,
 "nbformat_minor": 5
}
