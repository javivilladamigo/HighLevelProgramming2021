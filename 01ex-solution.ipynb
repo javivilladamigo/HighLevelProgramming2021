{
 "cells": [
  {
   "cell_type": "markdown",
   "metadata": {},
   "source": [
    "1. The HelloWorld replacement\n",
    "\n",
    "a) Write a program that prints the numbers from 1 to 100. But for multiples of three print \"Hello\" instead of the number and for the multiples of five print \"World\". For numbers which are multiples of both three and five print \"HelloWorld\".\n",
    "\n",
    "b) Put the result in a tuple and substitute \"Hello\" with \"Python\" and \"World\" with \"Works\"."
   ]
  },
  {
   "cell_type": "code",
   "execution_count": 1,
   "metadata": {},
   "outputs": [
    {
     "name": "stdout",
     "output_type": "stream",
     "text": [
      "1\n",
      "2\n",
      "Hello\n",
      "4\n",
      "world\n",
      "Hello\n",
      "7\n",
      "8\n",
      "Hello\n",
      "world\n",
      "11\n",
      "Hello\n",
      "13\n",
      "14\n",
      "HelloWorld\n",
      "16\n",
      "17\n",
      "Hello\n",
      "19\n",
      "world\n",
      "Hello\n",
      "22\n",
      "23\n",
      "Hello\n",
      "world\n",
      "26\n",
      "Hello\n",
      "28\n",
      "29\n",
      "HelloWorld\n",
      "31\n",
      "32\n",
      "Hello\n",
      "34\n",
      "world\n",
      "Hello\n",
      "37\n",
      "38\n",
      "Hello\n",
      "world\n",
      "41\n",
      "Hello\n",
      "43\n",
      "44\n",
      "HelloWorld\n",
      "46\n",
      "47\n",
      "Hello\n",
      "49\n",
      "world\n",
      "Hello\n",
      "52\n",
      "53\n",
      "Hello\n",
      "world\n",
      "56\n",
      "Hello\n",
      "58\n",
      "59\n",
      "HelloWorld\n",
      "61\n",
      "62\n",
      "Hello\n",
      "64\n",
      "world\n",
      "Hello\n",
      "67\n",
      "68\n",
      "Hello\n",
      "world\n",
      "71\n",
      "Hello\n",
      "73\n",
      "74\n",
      "HelloWorld\n",
      "76\n",
      "77\n",
      "Hello\n",
      "79\n",
      "world\n",
      "Hello\n",
      "82\n",
      "83\n",
      "Hello\n",
      "world\n",
      "86\n",
      "Hello\n",
      "88\n",
      "89\n",
      "HelloWorld\n",
      "91\n",
      "92\n",
      "Hello\n",
      "94\n",
      "world\n",
      "Hello\n",
      "97\n",
      "98\n",
      "Hello\n"
     ]
    }
   ],
   "source": [
    "for i in list(range(1,100)):\n",
    "    if i % 3 == 0 and i % 5 == 0:\n",
    "        print (\"HelloWorld\")\n",
    "    elif i % 3 == 0:\n",
    "        print(\"Hello\")\n",
    "    elif i % 5 == 0:\n",
    "        print(\"world\")\n",
    "    else:\n",
    "        print(i)"
   ]
  },
  {
   "cell_type": "markdown",
   "metadata": {},
   "source": [
    "2\\. The swap function\n",
    "\n",
    "Write a function that swap the values of two input variables x and y (whatever the type). Try to do that also without a temporary variable"
   ]
  },
  {
   "cell_type": "code",
   "execution_count": 4,
   "metadata": {},
   "outputs": [
    {
     "data": {
      "text/plain": [
       "(2, 4)"
      ]
     },
     "execution_count": 4,
     "metadata": {},
     "output_type": "execute_result"
    }
   ],
   "source": [
    "def swap_temp(x, y):\n",
    "    temp = x\n",
    "    x = y\n",
    "    y = temp\n",
    "    return (x, y)\n",
    "\n",
    "swap_func(4,2)"
   ]
  },
  {
   "cell_type": "code",
   "execution_count": 5,
   "metadata": {},
   "outputs": [
    {
     "data": {
      "text/plain": [
       "(2, 3)"
      ]
     },
     "execution_count": 5,
     "metadata": {},
     "output_type": "execute_result"
    }
   ],
   "source": [
    "def swap_func(x, y):\n",
    "    return (y ,x)\n",
    "\n",
    "swap_temp(3,2)"
   ]
  },
  {
   "cell_type": "markdown",
   "metadata": {},
   "source": [
    "3\\. Computing the distance\n",
    "\n",
    "Write a function that calculates and returns the euclidean distance between two points *u* and *v*, where *u* and *v* are both 2-tuples *(x,y)*. For example, if *u=(3,0)* and *v=(0,4)*, the function should return 5"
   ]
  },
  {
   "cell_type": "code",
   "execution_count": 8,
   "metadata": {},
   "outputs": [
    {
     "name": "stdout",
     "output_type": "stream",
     "text": [
      "5.0\n"
     ]
    }
   ],
   "source": [
    "def eucliden_dis (p1, p2):\n",
    "    d = (p1[0]-p2[0])**2+(p1[1]-p2[1])**2\n",
    "    return d**(1/2)\n",
    "  \n",
    "distance = eucliden_dis((3,0), (0, 4))\n",
    "print (distance)"
   ]
  },
  {
   "cell_type": "markdown",
   "metadata": {},
   "source": [
    "4\\. Counting letters\n",
    "\n",
    "Write a program to calculate the number of times each character occurs in a given string *s*. Ignore differences in capitalization"
   ]
  },
  {
   "cell_type": "code",
   "execution_count": 9,
   "metadata": {},
   "outputs": [
    {
     "name": "stdout",
     "output_type": "stream",
     "text": [
      "{'W': 3}\n",
      "{'r': 19}\n",
      "{'i': 12}\n",
      "{'t': 19}\n",
      "{'e': 20}\n",
      "{' ': 41}\n",
      "{'a': 7}\n",
      "{' ': 41}\n",
      "{'p': 8}\n",
      "{'r': 19}\n",
      "{'o': 15}\n",
      "{'g': 1}\n",
      "{'r': 19}\n",
      "{'a': 7}\n",
      "{'m': 8}\n",
      "{' ': 41}\n",
      "{'t': 19}\n",
      "{'h': 9}\n",
      "{'a': 7}\n",
      "{'t': 19}\n",
      "{' ': 41}\n",
      "{'p': 8}\n",
      "{'r': 19}\n",
      "{'i': 12}\n",
      "{'n': 10}\n",
      "{'t': 19}\n",
      "{'s': 7}\n",
      "{' ': 41}\n",
      "{'t': 19}\n",
      "{'h': 9}\n",
      "{'e': 20}\n",
      "{' ': 41}\n",
      "{'n': 10}\n",
      "{'u': 7}\n",
      "{'m': 8}\n",
      "{'b': 4}\n",
      "{'e': 20}\n",
      "{'r': 19}\n",
      "{'s': 7}\n",
      "{' ': 41}\n",
      "{'f': 9}\n",
      "{'r': 19}\n",
      "{'o': 15}\n",
      "{'m': 8}\n",
      "{' ': 41}\n",
      "{'1': 2}\n",
      "{' ': 41}\n",
      "{'t': 19}\n",
      "{'o': 15}\n",
      "{' ': 41}\n",
      "{'1': 2}\n",
      "{'0': 2}\n",
      "{'0': 2}\n",
      "{'.': 3}\n",
      "{' ': 41}\n",
      "{'B': 1}\n",
      "{'u': 7}\n",
      "{'t': 19}\n",
      "{' ': 41}\n",
      "{'f': 9}\n",
      "{'o': 15}\n",
      "{'r': 19}\n",
      "{' ': 41}\n",
      "{'m': 8}\n",
      "{'u': 7}\n",
      "{'l': 12}\n",
      "{'t': 19}\n",
      "{'i': 12}\n",
      "{'p': 8}\n",
      "{'l': 12}\n",
      "{'e': 20}\n",
      "{'s': 7}\n",
      "{' ': 41}\n",
      "{'o': 15}\n",
      "{'f': 9}\n",
      "{' ': 41}\n",
      "{'t': 19}\n",
      "{'h': 9}\n",
      "{'r': 19}\n",
      "{'e': 20}\n",
      "{'e': 20}\n",
      "{' ': 41}\n",
      "{'p': 8}\n",
      "{'r': 19}\n",
      "{'i': 12}\n",
      "{'n': 10}\n",
      "{'t': 19}\n",
      "{' ': 41}\n",
      "{'H': 2}\n",
      "{'e': 20}\n",
      "{'l': 12}\n",
      "{'l': 12}\n",
      "{'o': 15}\n",
      "{' ': 41}\n",
      "{'i': 12}\n",
      "{'n': 10}\n",
      "{'s': 7}\n",
      "{'t': 19}\n",
      "{'e': 20}\n",
      "{'a': 7}\n",
      "{'d': 5}\n",
      "{' ': 41}\n",
      "{'o': 15}\n",
      "{'f': 9}\n",
      "{' ': 41}\n",
      "{'t': 19}\n",
      "{'h': 9}\n",
      "{'e': 20}\n",
      "{' ': 41}\n",
      "{'n': 10}\n",
      "{'u': 7}\n",
      "{'m': 8}\n",
      "{'b': 4}\n",
      "{'e': 20}\n",
      "{'r': 19}\n",
      "{' ': 41}\n",
      "{'a': 7}\n",
      "{'n': 10}\n",
      "{'d': 5}\n",
      "{' ': 41}\n",
      "{'f': 9}\n",
      "{'o': 15}\n",
      "{'r': 19}\n",
      "{' ': 41}\n",
      "{'t': 19}\n",
      "{'h': 9}\n",
      "{'e': 20}\n",
      "{' ': 41}\n",
      "{'m': 8}\n",
      "{'u': 7}\n",
      "{'l': 12}\n",
      "{'t': 19}\n",
      "{'i': 12}\n",
      "{'p': 8}\n",
      "{'l': 12}\n",
      "{'e': 20}\n",
      "{'s': 7}\n",
      "{' ': 41}\n",
      "{'o': 15}\n",
      "{'f': 9}\n",
      "{' ': 41}\n",
      "{'f': 9}\n",
      "{'i': 12}\n",
      "{'v': 2}\n",
      "{'e': 20}\n",
      "{' ': 41}\n",
      "{'p': 8}\n",
      "{'r': 19}\n",
      "{'i': 12}\n",
      "{'n': 10}\n",
      "{'t': 19}\n",
      "{' ': 41}\n",
      "{'W': 3}\n",
      "{'o': 15}\n",
      "{'r': 19}\n",
      "{'l': 12}\n",
      "{'d': 5}\n",
      "{'.': 3}\n",
      "{' ': 41}\n",
      "{'F': 1}\n",
      "{'o': 15}\n",
      "{'r': 19}\n",
      "{' ': 41}\n",
      "{'n': 10}\n",
      "{'u': 7}\n",
      "{'m': 8}\n",
      "{'b': 4}\n",
      "{'e': 20}\n",
      "{'r': 19}\n",
      "{'s': 7}\n",
      "{' ': 41}\n",
      "{'w': 1}\n",
      "{'h': 9}\n",
      "{'i': 12}\n",
      "{'c': 1}\n",
      "{'h': 9}\n",
      "{' ': 41}\n",
      "{'a': 7}\n",
      "{'r': 19}\n",
      "{'e': 20}\n",
      "{' ': 41}\n",
      "{'m': 8}\n",
      "{'u': 7}\n",
      "{'l': 12}\n",
      "{'t': 19}\n",
      "{'i': 12}\n",
      "{'p': 8}\n",
      "{'l': 12}\n",
      "{'e': 20}\n",
      "{'s': 7}\n",
      "{' ': 41}\n",
      "{'o': 15}\n",
      "{'f': 9}\n",
      "{' ': 41}\n",
      "{'b': 4}\n",
      "{'o': 15}\n",
      "{'t': 19}\n",
      "{'h': 9}\n",
      "{' ': 41}\n",
      "{'t': 19}\n",
      "{'h': 9}\n",
      "{'r': 19}\n",
      "{'e': 20}\n",
      "{'e': 20}\n",
      "{' ': 41}\n",
      "{'a': 7}\n",
      "{'n': 10}\n",
      "{'d': 5}\n",
      "{' ': 41}\n",
      "{'f': 9}\n",
      "{'i': 12}\n",
      "{'v': 2}\n",
      "{'e': 20}\n",
      "{' ': 41}\n",
      "{'p': 8}\n",
      "{'r': 19}\n",
      "{'i': 12}\n",
      "{'n': 10}\n",
      "{'t': 19}\n",
      "{' ': 41}\n",
      "{'H': 2}\n",
      "{'e': 20}\n",
      "{'l': 12}\n",
      "{'l': 12}\n",
      "{'o': 15}\n",
      "{'W': 3}\n",
      "{'o': 15}\n",
      "{'r': 19}\n",
      "{'l': 12}\n",
      "{'d': 5}\n",
      "{'.': 3}\n"
     ]
    }
   ],
   "source": [
    "s = \"Write a program that prints the numbers from 1 to 100. \\\n",
    "But for multiples of three print Hello instead of the number and for the multiples of five print World. \\\n",
    "For numbers which are multiples of both three and five print HelloWorld.\"\n",
    "for i in s:\n",
    "    counter={}\n",
    "    counter[i]=s.count(i)\n",
    "    print (counter)"
   ]
  },
  {
   "cell_type": "markdown",
   "metadata": {},
   "source": [
    "5\\. Isolating the unique\n",
    "\n",
    "Write a function that determines and count the unique numbers in the list:"
   ]
  },
  {
   "cell_type": "code",
   "execution_count": 10,
   "metadata": {},
   "outputs": [
    {
     "name": "stdout",
     "output_type": "stream",
     "text": [
      "[1, 3, 5, 8, 9, 10, 16, 18, 19, 20, 24, 30, 31, 33, 34, 36, 37, 39, 41, 42, 45, 47, 50, 51, 53, 54, 55, 56, 57, 58, 63, 64, 66, 70, 72, 74, 75, 79, 81, 82, 84, 85, 86, 87, 88, 89, 90, 91, 92, 94, 95, 96, 98, 99]\n"
     ]
    }
   ],
   "source": [
    "l = [36, 45, 58, 3, 74, 96, 64, 45, 31, 10, 24, 19, 33, 86, 99, 18, 63, 70, 85,\n",
    " 85, 63, 47, 56, 42, 70, 84, 88, 55, 20, 54, 8, 56, 51, 79, 81, 57, 37, 91,\n",
    " 1, 84, 84, 36, 66, 9, 89, 50, 42, 91, 50, 95, 90, 98, 39, 16, 82, 31, 92, 41,\n",
    " 45, 30, 66, 70, 34, 85, 94, 5, 3, 36, 72, 91, 84, 34, 87, 75, 53, 51, 20, 89, 51, 20]\n",
    "\n",
    "counter = []\n",
    "for i in l:\n",
    "    if i not in counter:\n",
    "        counter.append(i)\n",
    "    else:\n",
    "        pass\n",
    "counter.sort()    \n",
    "print(counter)    "
   ]
  },
  {
   "cell_type": "markdown",
   "metadata": {},
   "source": [
    "Do the same without using user-defined functions, but exploiting only the Python data structures."
   ]
  },
  {
   "cell_type": "code",
   "execution_count": 11,
   "metadata": {},
   "outputs": [
    {
     "name": "stdout",
     "output_type": "stream",
     "text": [
      "{1, 3, 5, 8, 9, 10, 16, 18, 19, 20, 24, 30, 31, 33, 34, 36, 37, 39, 41, 42, 45, 47, 50, 51, 53, 54, 55, 56, 57, 58, 63, 64, 66, 70, 72, 74, 75, 79, 81, 82, 84, 85, 86, 87, 88, 89, 90, 91, 92, 94, 95, 96, 98, 99}\n"
     ]
    }
   ],
   "source": [
    "l = [36, 45, 58, 3, 74, 96, 64, 45, 31, 10, 24, 19, 33, 86, 99, 18, 63, 70, 85,\n",
    " 85, 63, 47, 56, 42, 70, 84, 88, 55, 20, 54, 8, 56, 51, 79, 81, 57, 37, 91,\n",
    " 1, 84, 84, 36, 66, 9, 89, 50, 42, 91, 50, 95, 90, 98, 39, 16, 82, 31, 92, 41,\n",
    " 45, 30, 66, 70, 34, 85, 94, 5, 3, 36, 72, 91, 84, 34, 87, 75, 53, 51, 20, 89, 51, 20]\n",
    "\n",
    "print(set(l))"
   ]
  },
  {
   "cell_type": "markdown",
   "metadata": {},
   "source": [
    "6\\. Combination of functions\n",
    "\n",
    "Write two functions - one that returns the square of a number, and one that returns the cube. Now write a third function that returns the number raised to the 6th power using the two previous functions."
   ]
  },
  {
   "cell_type": "code",
   "execution_count": 12,
   "metadata": {},
   "outputs": [
    {
     "data": {
      "text/plain": [
       "64"
      ]
     },
     "execution_count": 12,
     "metadata": {},
     "output_type": "execute_result"
    }
   ],
   "source": [
    "def sqr_func(a):\n",
    "    return a**2\n",
    "\n",
    "def cube_func(a):\n",
    "    return a**3\n",
    "\n",
    "def pw_6th(a):\n",
    "    return (sqr_func(a)*cube_func(a))*a\n",
    "\n",
    "pw_6th(2)"
   ]
  },
  {
   "cell_type": "markdown",
   "metadata": {},
   "source": [
    "7\\. Cubes\n",
    "\n",
    "Create a list of the cubes of x for x in *[0, 10]* using:\n",
    "\n",
    "a) a for loop\n",
    "\n",
    "b) a list comprehension"
   ]
  },
  {
   "cell_type": "code",
   "execution_count": 13,
   "metadata": {},
   "outputs": [
    {
     "name": "stdout",
     "output_type": "stream",
     "text": [
      "The cubes of the numbers between 0 to 10 is: [0, 1, 8, 27, 64, 125, 216, 343, 512, 729, 1000]\n"
     ]
    }
   ],
   "source": [
    "cube = []\n",
    "for x in range (0, 11):\n",
    "    cube.append(x*x*x)\n",
    "print (f\"The cubes of the numbers between 0 to 10 is: {cube}\")"
   ]
  },
  {
   "cell_type": "code",
   "execution_count": 14,
   "metadata": {},
   "outputs": [
    {
     "name": "stdout",
     "output_type": "stream",
     "text": [
      "The cubes of the numbers between 0 to 10 is: [0, 1, 8, 27, 64, 125, 216, 343, 512, 729, 1000]\n"
     ]
    }
   ],
   "source": [
    "cube = [x*x*x for x in range(11)]\n",
    "print(f\"The cubes of the numbers between 0 to 10 is: {cube}\")"
   ]
  },
  {
   "cell_type": "markdown",
   "metadata": {},
   "source": [
    "8\\. Nested list comprehension\n",
    "\n",
    "A Pythagorean triple is an integer solution to the Pythagorean theorem $a^2+b^2=c^2$. The first Pythagorean triple is (3,4,5). Find and put in a tuple all unique Pythagorean triples for the positive integers a, b and c less than 100."
   ]
  },
  {
   "cell_type": "code",
   "execution_count": 15,
   "metadata": {},
   "outputs": [
    {
     "name": "stdout",
     "output_type": "stream",
     "text": [
      "((3, 4, 5), (6, 8, 10), (5, 12, 13), (9, 12, 15), (8, 15, 17), (12, 16, 20), (15, 20, 25), (20, 21, 29), (7, 24, 25), (10, 24, 26), (18, 24, 30), (21, 28, 35), (16, 30, 34), (24, 32, 40), (12, 35, 37), (15, 36, 39), (27, 36, 45), (9, 40, 41), (30, 40, 50), (40, 42, 58), (33, 44, 55), (24, 45, 51), (28, 45, 53), (14, 48, 50), (20, 48, 52), (36, 48, 60), (39, 52, 65), (48, 55, 73), (33, 56, 65), (42, 56, 70), (11, 60, 61), (25, 60, 65), (32, 60, 68), (45, 60, 75), (16, 63, 65), (60, 63, 87), (48, 64, 80), (51, 68, 85), (24, 70, 74), (21, 72, 75), (30, 72, 78), (54, 72, 90), (65, 72, 97), (40, 75, 85), (57, 76, 95), (36, 77, 85), (18, 80, 82), (39, 80, 89), (13, 84, 85), (35, 84, 91))\n"
     ]
    }
   ],
   "source": [
    "def pythagorean_triple(n):\n",
    "    my_triple = []\n",
    "    for b in range(n):\n",
    "        for a in range(1, b):\n",
    "            c = (a*a+b*b)**(1/2)\n",
    "            if c % 1 == 0 and c < 100:\n",
    "                my_triple.append((a, b, int(c)))\n",
    "    my_triple = tuple(my_triple)\n",
    "    print(my_triple)\n",
    "\n",
    "\n",
    "pythagorean_triple(120)"
   ]
  },
  {
   "cell_type": "markdown",
   "metadata": {},
   "source": [
    "9\\. Normalization\n",
    "\n",
    "Write a function that takes a tuple of numbers and returns it with the entries normalized to one"
   ]
  },
  {
   "cell_type": "code",
   "execution_count": 16,
   "metadata": {},
   "outputs": [
    {
     "name": "stdout",
     "output_type": "stream",
     "text": [
      "(0.0, 0.3333333333333333, 0.6666666666666666, 1.0)\n"
     ]
    }
   ],
   "source": [
    "def normalized_func(num):\n",
    "    normalized_numbers = []\n",
    "    max_number = max(num)\n",
    "    min_number = min(num)\n",
    "    for number in num:\n",
    "        x = (number - min_number) / (max_number - min_number)\n",
    "        normalized_numbers.append(x)\n",
    "    return tuple(i for i in normalized_numbers)\n",
    "\n",
    "\n",
    "x = (10, 20, 30, 40)\n",
    "print(normalized_func(x))"
   ]
  }
 ],
 "metadata": {
  "kernelspec": {
   "display_name": "Python 3 (ipykernel)",
   "language": "python",
   "name": "python3"
  },
  "language_info": {
   "codemirror_mode": {
    "name": "ipython",
    "version": 3
   },
   "file_extension": ".py",
   "mimetype": "text/x-python",
   "name": "python",
   "nbconvert_exporter": "python",
   "pygments_lexer": "ipython3",
   "version": "3.9.2"
  }
 },
 "nbformat": 4,
 "nbformat_minor": 2
}
