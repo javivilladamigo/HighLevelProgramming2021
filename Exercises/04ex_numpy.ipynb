{
 "cells": [
  {
   "cell_type": "code",
   "execution_count": 2,
   "metadata": {},
   "outputs": [],
   "source": [
    "#### --- Libraries --- ####\n",
    "import numpy as np\n",
    "import matplotlib.pyplot as plt"
   ]
  },
  {
   "cell_type": "markdown",
   "metadata": {},
   "source": [
    "1\\. Find the total mean, and the mean for each row and column of the following matrix:\n",
    "\n",
    "```python\n",
    "m = np.arange(12).reshape((3,4))\n",
    "```"
   ]
  },
  {
   "cell_type": "code",
   "execution_count": 3,
   "metadata": {},
   "outputs": [
    {
     "name": "stdout",
     "output_type": "stream",
     "text": [
      "Matrix:\n",
      " [[ 0  1  2  3]\n",
      " [ 4  5  6  7]\n",
      " [ 8  9 10 11]]\n",
      "\n",
      "Total mean is  5.5\n",
      "Mean along the rows is  [1.5 5.5 9.5]\n",
      "Mean along the columns is  [4. 5. 6. 7.]\n"
     ]
    }
   ],
   "source": [
    "m = np.arange(12).reshape((3,4))\n",
    "# Compute total mean using numpy mean function\n",
    "mean = np.mean(m)\n",
    "mean_col = m.mean(axis = 0)\n",
    "mean_rows = m.mean(axis = 1)\n",
    "\n",
    "print(\"Matrix:\\n\",m)\n",
    "print(\"\\nTotal mean is \",mean)\n",
    "print(\"Mean along the rows is \",mean_rows)\n",
    "print(\"Mean along the columns is \",mean_col)"
   ]
  },
  {
   "cell_type": "markdown",
   "metadata": {},
   "source": [
    "2\\. Find the outer product of the following vectors:\n",
    "\n",
    "```python\n",
    "u = np.array([1, 3, 5, 7])\n",
    "v = np.array([2, 4, 6, 8])\n",
    "```\n",
    "\n",
    "Use different methods to do this:\n",
    "\n",
    "   1. Using the function `outer` in numpy\n",
    "   2. Using a nested `for` loop or a list comprehension\n",
    "   3. Using numpy broadcasting operations"
   ]
  },
  {
   "cell_type": "code",
   "execution_count": 6,
   "metadata": {},
   "outputs": [
    {
     "name": "stdout",
     "output_type": "stream",
     "text": [
      "First method:\n",
      " [[ 2  4  6  8]\n",
      " [ 6 12 18 24]\n",
      " [10 20 30 40]\n",
      " [14 28 42 56]]\n",
      "Second method:\n",
      " [[ 2  4  6  8]\n",
      " [ 6 12 18 24]\n",
      " [10 20 30 40]\n",
      " [14 28 42 56]]\n",
      "Third method:\n",
      " [[ 2.  4.  6.  8.]\n",
      " [ 6. 12. 18. 24.]\n",
      " [10. 20. 30. 40.]\n",
      " [14. 28. 42. 56.]]\n",
      "Fourth method:\n",
      " [[ 2  4  6  8]\n",
      " [ 6 12 18 24]\n",
      " [10 20 30 40]\n",
      " [14 28 42 56]]\n"
     ]
    }
   ],
   "source": [
    "u = np.array([1, 3, 5, 7])\n",
    "v = np.array([2, 4, 6, 8])\n",
    "\n",
    "# using np.outer \n",
    "o1 = np.outer(u,v)\n",
    "print('First method:\\n',o1)\n",
    "\n",
    "# using list comprehension\n",
    "a = [i * j for i in u for j in v]\n",
    "o2_1 = np.array(a).reshape(4,4)\n",
    "print('Second method:\\n',o2_1)\n",
    "\n",
    "# using for loop\n",
    "o2 = np.zeros((4,4))\n",
    "for i in np.arange(0,4):\n",
    "    for j in np.arange(0,4):\n",
    "        o2[i,j] = u[i]*v[j]\n",
    "print('Third method:\\n',o2)\n",
    "\n",
    "# using broadcasting operation\n",
    "o3 = u[:, np.newaxis] * v[np.newaxis,:]\n",
    "print('Fourth method:\\n',o3)"
   ]
  },
  {
   "cell_type": "markdown",
   "metadata": {},
   "source": [
    "3\\. Create a 10 by 6 matrix of increasing float numbers, starting from zero and increasing in each step by 0.1, so the output matrix looks like the following:\n",
    "\n",
    "```python\n",
    "m = [[0. 0.1, 0.2 0.3 ... 0.9]\n",
    "     [1.0 1.1 1.2 1.3 ... 1.9]\n",
    "     ...\n",
    "     [5.0 5.1 5.2 5.3 ... 5.9]]\n",
    "```\n",
    "After creating the matrix, set all entries with a decimal part $< 0.4$ to zero."
   ]
  },
  {
   "cell_type": "code",
   "execution_count": 7,
   "metadata": {},
   "outputs": [
    {
     "name": "stdout",
     "output_type": "stream",
     "text": [
      "The matrix is:\n",
      " [[0.  0.1 0.2 0.3 0.4 0.5 0.6 0.7 0.8 0.9]\n",
      " [1.  1.1 1.2 1.3 1.4 1.5 1.6 1.7 1.8 1.9]\n",
      " [2.  2.1 2.2 2.3 2.4 2.5 2.6 2.7 2.8 2.9]\n",
      " [3.  3.1 3.2 3.3 3.4 3.5 3.6 3.7 3.8 3.9]\n",
      " [4.  4.1 4.2 4.3 4.4 4.5 4.6 4.7 4.8 4.9]\n",
      " [5.  5.1 5.2 5.3 5.4 5.5 5.6 5.7 5.8 5.9]]\n",
      "Modified matrix is:\n",
      " [[0.  0.  0.  0.  0.4 0.5 0.6 0.7 0.8 0.9]\n",
      " [0.  0.  0.  0.  1.4 1.5 1.6 1.7 1.8 1.9]\n",
      " [0.  0.  0.  0.  2.4 2.5 2.6 2.7 2.8 2.9]\n",
      " [0.  0.  0.  0.  3.4 3.5 3.6 3.7 3.8 3.9]\n",
      " [0.  0.  0.  0.  4.4 4.5 4.6 4.7 4.8 4.9]\n",
      " [0.  0.  0.  0.  5.4 5.5 5.6 5.7 5.8 5.9]]\n"
     ]
    }
   ],
   "source": [
    "m = np.zeros((6,10))\n",
    "\n",
    "for i in np.arange(0,6):\n",
    "    for j in np.arange(0,10):\n",
    "        m[i,j] = i + 0.1*j\n",
    "\n",
    "\n",
    "print(\"The matrix is:\\n\",m)\n",
    "\n",
    "for i in np.arange(0,6):\n",
    "    for j in np.arange(0,10):\n",
    "        if (m[i,j] - i) < 0.39:\n",
    "            m[i,j] = 0 \n",
    "        \n",
    "print(\"Modified matrix is:\\n\",m)\n",
    "\n"
   ]
  },
  {
   "cell_type": "markdown",
   "metadata": {},
   "source": [
    "4\\. Use `np.linspace` to create an array of 100 numbers between 0 and 2π (inclusive).\n",
    "\n",
    "  * Extract every 10th element using the slice notation\n",
    "  * Reverse the array using the slice notation\n",
    "  * Extract elements where the absolute difference between the sin and cos functions evaluated for that element is $< 0.1$\n",
    "  * **Optional**: make a plot showing the sin and cos functions and indicate where they are close"
   ]
  },
  {
   "cell_type": "code",
   "execution_count": 11,
   "metadata": {},
   "outputs": [
    {
     "data": {
      "image/png": "[encoded data removed]",
      "text/plain": [
       "<Figure size 576x432 with 1 Axes>"
      ]
     },
     "metadata": {
      "needs_background": "light"
     },
     "output_type": "display_data"
    }
   ],
   "source": [
    "a = np.linspace(0,2*np.pi,100)\n",
    "\n",
    "# Extract every 10 th element\n",
    "b = a[0:100:10]\n",
    "# Reverse array\n",
    "c = a[::-1]\n",
    "# Create a mask to evaluate the wanted value\n",
    "mask = ( np.abs(np.sin(a)-np.cos(a)) < 0.1 )\n",
    "filtered_a = a[mask]\n",
    "\n",
    "fig = plt.figure(figsize=(8,6))\n",
    "ax = fig.add_subplot()\n",
    "\n",
    "y = np.sin(filtered_a)\n",
    "y2 = np.cos(filtered_a)\n",
    "ax.plot(a[mask],y, marker = 'o',markersize=5,markerfacecolor = 'red',markeredgecolor = 'red',lw = 0)\n",
    "ax.plot(a,np.sin(a),ls = 'dashed',lw =1, color = 'red', label = '$sin(\\phi)$')\n",
    "\n",
    "ax.plot(a[mask],y2, marker = 'o',markersize=5,markerfacecolor = 'blue',markeredgecolor = 'blue',lw = 0)\n",
    "ax.plot(a,np.cos(a), ls= 'dashed',lw =1, color = 'blue',label = '$cos(\\phi)$')\n",
    "\n",
    "ax.set_xlabel('$\\phi$ [rad]', fontsize = 16, loc = 'right', labelpad = 10)\n",
    "ax.legend(loc = 'best', prop = {'size': 14}, ncol = 1)\n",
    "ax.tick_params(axis = 'both', which = 'major', direction = 'in', length = 10,labelsize = 13)\n",
    "\n",
    "fig.tight_layout()\n",
    "plt.show()\n",
    "\n"
   ]
  },
  {
   "cell_type": "markdown",
   "metadata": {},
   "source": [
    "5\\. Create a matrix that shows the 10 by 10 multiplication table.\n",
    "\n",
    " * Find the trace of the matrix\n",
    " * Extract the anti-diagonal matrix (this should be ```array([10, 18, 24, 28, 30, 30, 28, 24, 18, 10])```)\n",
    " * Extract the diagonal offset by 1 upwards (this should be ```array([ 2,  6, 12, 20, 30, 42, 56, 72, 90])```)"
   ]
  },
  {
   "cell_type": "code",
   "execution_count": 16,
   "metadata": {},
   "outputs": [
    {
     "name": "stdout",
     "output_type": "stream",
     "text": [
      "The 10x10 multiplication table is the following:\n",
      " [[  1.   2.   3.   4.   5.   6.   7.   8.   9.  10.]\n",
      " [  2.   4.   6.   8.  10.  12.  14.  16.  18.  20.]\n",
      " [  3.   6.   9.  12.  15.  18.  21.  24.  27.  30.]\n",
      " [  4.   8.  12.  16.  20.  24.  28.  32.  36.  40.]\n",
      " [  5.  10.  15.  20.  25.  30.  35.  40.  45.  50.]\n",
      " [  6.  12.  18.  24.  30.  36.  42.  48.  54.  60.]\n",
      " [  7.  14.  21.  28.  35.  42.  49.  56.  63.  70.]\n",
      " [  8.  16.  24.  32.  40.  48.  56.  64.  72.  80.]\n",
      " [  9.  18.  27.  36.  45.  54.  63.  72.  81.  90.]\n",
      " [ 10.  20.  30.  40.  50.  60.  70.  80.  90. 100.]]\n",
      "Its trace is: 385.0\n",
      "The antidiagonal entries are: [10. 18. 24. 28. 30. 30. 28. 24. 18. 10.]\n",
      "The upper diagonal entries are: [ 2.  6. 12. 20. 30. 42. 56. 72. 90.]\n"
     ]
    }
   ],
   "source": [
    "# set the 10x10 matrix\n",
    "matrix = np.zeros((10,10))\n",
    "\n",
    "for i in np.arange(1,11):\n",
    "    for j in np.arange(1,11):\n",
    "        matrix[i-1,j-1] = i*j\n",
    "\n",
    "# compute trace\n",
    "trace = sum(np.diag(matrix))\n",
    "\n",
    "# extract anti-diagonal entries\n",
    "antidiag = np.fliplr(matrix).diagonal()\n",
    "\n",
    "# extract diagonal offset by 1 upwards\n",
    "diag_off = np.diagonal(matrix, offset = 1)\n",
    "\n",
    "print('The 10x10 multiplication table is the following:\\n',matrix)\n",
    "print('Its trace is:',trace)\n",
    "print('The antidiagonal entries are:',antidiag)\n",
    "print('The upper diagonal entries are:',diag_off)"
   ]
  },
  {
   "cell_type": "markdown",
   "metadata": {},
   "source": [
    "\n",
    "6\\. Use broadcasting to create a grid of distances.\n",
    "\n",
    "Route 66 crosses the following cities in the US: Chicago, Springfield, Saint-Louis, Tulsa, Oklahoma City, Amarillo, Santa Fe, Albuquerque, Flagstaff, Los Angeles\n",
    "The corresponding positions in miles are: 0, 198, 303, 736, 871, 1175, 1475, 1544, 1913, 2448\n",
    "\n",
    "  * Build a 2D grid of distances among each city along Route 66\n",
    "  * Convert the distances in km"
   ]
  },
  {
   "cell_type": "code",
   "execution_count": 92,
   "metadata": {},
   "outputs": [
    {
     "name": "stdout",
     "output_type": "stream",
     "text": [
      "Distance from Chicago to other cities is:\n",
      "\n",
      "318.64932 km\n",
      "487.63002 km\n",
      "1184.47424 km\n",
      "1401.73514 km\n",
      "1890.9745 km\n",
      "2373.7765 km\n",
      "2484.82096 km\n",
      "3078.6674199999998 km\n",
      "3939.66432 km\n"
     ]
    }
   ],
   "source": [
    "cities = ['Chicago', 'Springfield','Saint-Louis','Tulsa','Oklahoma city', 'Amarillo', 'Santa Fe', 'Albuquerque', 'Flagstaff', 'Los Angeles']\n",
    "miles = [ 0, 198, 303, 736, 871, 1175, 1475, 1544, 1913, 2448 ]\n",
    "\n",
    "#distances = {'Chicago' : 0, 'Springfield' : 198, 'Saint-Louis' : 303, 'Tulsa' : 736, 'Oklahoma city': 871, 'Amarillo':1175, 'Santa Fe': 1475, 'Albuquerque':1544, 'Flagstaff': 1913, 'Los Angeles' : 2448  } \n",
    "\n",
    "distances = np.zeros((10,10))\n",
    "\n",
    "for i in np.arange(0,10):\n",
    "    for j in np.arange(0,10):\n",
    "        distances[i][j] = (np.abs(miles[i] - miles [j])) \n",
    "\n",
    "distances = distances * 1.60934\n",
    "\n",
    "print('Distance from Chicago to other cities is:\\n')\n",
    "for i in np.arange(1,10):\n",
    "    print(distances[0][i],'km')"
   ]
  },
  {
   "cell_type": "markdown",
   "metadata": {},
   "source": [
    "7\\. Prime numbers sieve: compute the prime numbers in the 0-N (start with N=99) range with a sieve (mask).\n",
    "  * Check the performances (timeit); how does it scale with N?\n",
    "  * Implement the optimization suggested in the [sieve of Eratosthenes](https://en.wikipedia.org/wiki/Sieve_of_Eratosthenes)"
   ]
  },
  {
   "cell_type": "code",
   "execution_count": 84,
   "metadata": {},
   "outputs": [
    {
     "name": "stdout",
     "output_type": "stream",
     "text": [
      "Computation time with N =99:\n",
      "4.72 µs ± 50.5 ns per loop (mean ± std. dev. of 7 runs, 100000 loops each)\n",
      "Computation time with N =100:\n",
      "4.73 µs ± 50.8 ns per loop (mean ± std. dev. of 7 runs, 100000 loops each)\n",
      "Computation time with N =200:\n",
      "7.68 µs ± 92.6 ns per loop (mean ± std. dev. of 7 runs, 100000 loops each)\n",
      "Computation time with N =300:\n",
      "10.6 µs ± 97.6 ns per loop (mean ± std. dev. of 7 runs, 100000 loops each)\n",
      "Computation time with N =400:\n",
      "14.3 µs ± 372 ns per loop (mean ± std. dev. of 7 runs, 100000 loops each)\n",
      "Computation time with N =500:\n",
      "17.4 µs ± 323 ns per loop (mean ± std. dev. of 7 runs, 100000 loops each)\n"
     ]
    }
   ],
   "source": [
    "n = np.arange(0,100)\n",
    "\n",
    "# define a flag variable\n",
    "flag = False\n",
    "\n",
    "def is_prime(x):\n",
    "    flag = False\n",
    "    if x < 2:\n",
    "        return False\n",
    "    else:\n",
    "        for num in np.arange(2, x):\n",
    "            if x % num == 0:\n",
    "                flag = True\n",
    "                break\n",
    "        if flag == True:\n",
    "            return False\n",
    "        return True\n",
    "\n",
    "mask = [is_prime(i) for i in n]\n",
    "print('Computation time with N =99:')\n",
    "%timeit prime_n = n[mask]\n",
    "\n",
    "\n",
    "N = [100,200,300,400,500]\n",
    "\n",
    "for i in range(0,len(N)):\n",
    "    n_2 = np.arange(0,N[i])\n",
    "    mask2 = [is_prime(x) for x in n_2]\n",
    "    print('Computation time with N ={}:'.format(N[i]))\n",
    "    %timeit prime_n2 = n_2[mask2]\n",
    "\n",
    "\n"
   ]
  },
  {
   "cell_type": "code",
   "execution_count": 86,
   "metadata": {},
   "outputs": [
    {
     "data": {
      "text/plain": [
       "<matplotlib.collections.PathCollection at 0x7fa2caf576d0>"
      ]
     },
     "execution_count": 86,
     "metadata": {},
     "output_type": "execute_result"
    },
    {
     "data": {
      "image/png": "[encoded data removed]",
      "text/plain": [
       "<Figure size 432x288 with 1 Axes>"
      ]
     },
     "metadata": {
      "needs_background": "light"
     },
     "output_type": "display_data"
    }
   ],
   "source": [
    "y = [4.73, 7.68, 10.6, 14.3, 17.4 ]\n",
    "plt.scatter(N,y)"
   ]
  },
  {
   "cell_type": "code",
   "execution_count": null,
   "metadata": {},
   "outputs": [],
   "source": []
  }
 ],
 "metadata": {
  "kernelspec": {
   "display_name": "Python 3",
   "language": "python",
   "name": "python3"
  },
  "language_info": {
   "codemirror_mode": {
    "name": "ipython",
    "version": 3
   },
   "file_extension": ".py",
   "mimetype": "text/x-python",
   "name": "python",
   "nbconvert_exporter": "python",
   "pygments_lexer": "ipython3",
   "version": "3.8.7"
  }
 },
 "nbformat": 4,
 "nbformat_minor": 2
}
