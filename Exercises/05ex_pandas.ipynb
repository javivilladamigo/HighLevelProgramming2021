{
 "cells": [
  {
   "cell_type": "code",
   "execution_count": 1,
   "metadata": {},
   "outputs": [],
   "source": [
    "### --- Libraries --- ###\n",
    "import numpy as np\n",
    "import matplotlib.pyplot as plt\n",
    "import pandas as pd \n",
    "import datetime as dt"
   ]
  },
  {
   "cell_type": "markdown",
   "metadata": {},
   "source": [
    "This exercise consists in analyzing a dataset containg timing information from a series of Time-to-Digital-Converters (TDC) implemented in a pair of FPGAs. Each measurement (i.e. each row of the input file) consists of a flag that specifies the type of message ('HEAD', which in this case is always 1), two addresses of the TDC providing the signal ('FPGA' and 'TDC_CHANNEL'), and the timing information ('ORBIT_CNT', 'BX_COUNTER', and 'TDC_MEAS'). Each TDC count corresponds to 25/30 ns, whereas a unit of BX_COUNTER corresponds to 25 ns, and the ORBIT_CNT is increased every 'x' BX_COUNTER. This allows to store the time in a similar way to hours, minutes and seconds."
   ]
  },
  {
   "cell_type": "markdown",
   "metadata": {},
   "source": [
    "1\\. Create a Pandas DataFrame reading N rows of the `data/data_000637.txt` dataset. Choose N to be smaller than or equal to the maximum number of rows and larger that 10k (check the documentation)."
   ]
  },
  {
   "cell_type": "code",
   "execution_count": 4,
   "metadata": {},
   "outputs": [
    {
     "name": "stdout",
     "output_type": "stream",
     "text": [
      "Number of rows N is: 205677\n"
     ]
    },
    {
     "data": {
      "text/html": [
       "<div>\n",
       "<style scoped>\n",
       "    .dataframe tbody tr th:only-of-type {\n",
       "        vertical-align: middle;\n",
       "    }\n",
       "\n",
       "    .dataframe tbody tr th {\n",
       "        vertical-align: top;\n",
       "    }\n",
       "\n",
       "    .dataframe thead th {\n",
       "        text-align: right;\n",
       "    }\n",
       "</style>\n",
       "<table border=\"1\" class=\"dataframe\">\n",
       "  <thead>\n",
       "    <tr style=\"text-align: right;\">\n",
       "      <th></th>\n",
       "      <th>HEAD</th>\n",
       "      <th>FPGA</th>\n",
       "      <th>TDC_CHANNEL</th>\n",
       "      <th>ORBIT_CNT</th>\n",
       "      <th>BX_COUNTER</th>\n",
       "      <th>TDC_MEAS</th>\n",
       "    </tr>\n",
       "  </thead>\n",
       "  <tbody>\n",
       "    <tr>\n",
       "      <th>0</th>\n",
       "      <td>1</td>\n",
       "      <td>0</td>\n",
       "      <td>123</td>\n",
       "      <td>3869200167</td>\n",
       "      <td>2374</td>\n",
       "      <td>26</td>\n",
       "    </tr>\n",
       "    <tr>\n",
       "      <th>1</th>\n",
       "      <td>1</td>\n",
       "      <td>0</td>\n",
       "      <td>124</td>\n",
       "      <td>3869200167</td>\n",
       "      <td>2374</td>\n",
       "      <td>27</td>\n",
       "    </tr>\n",
       "    <tr>\n",
       "      <th>2</th>\n",
       "      <td>1</td>\n",
       "      <td>0</td>\n",
       "      <td>63</td>\n",
       "      <td>3869200167</td>\n",
       "      <td>2553</td>\n",
       "      <td>28</td>\n",
       "    </tr>\n",
       "    <tr>\n",
       "      <th>3</th>\n",
       "      <td>1</td>\n",
       "      <td>0</td>\n",
       "      <td>64</td>\n",
       "      <td>3869200167</td>\n",
       "      <td>2558</td>\n",
       "      <td>19</td>\n",
       "    </tr>\n",
       "    <tr>\n",
       "      <th>4</th>\n",
       "      <td>1</td>\n",
       "      <td>0</td>\n",
       "      <td>64</td>\n",
       "      <td>3869200167</td>\n",
       "      <td>2760</td>\n",
       "      <td>25</td>\n",
       "    </tr>\n",
       "    <tr>\n",
       "      <th>...</th>\n",
       "      <td>...</td>\n",
       "      <td>...</td>\n",
       "      <td>...</td>\n",
       "      <td>...</td>\n",
       "      <td>...</td>\n",
       "      <td>...</td>\n",
       "    </tr>\n",
       "    <tr>\n",
       "      <th>205672</th>\n",
       "      <td>1</td>\n",
       "      <td>0</td>\n",
       "      <td>62</td>\n",
       "      <td>3869202214</td>\n",
       "      <td>356</td>\n",
       "      <td>6</td>\n",
       "    </tr>\n",
       "    <tr>\n",
       "      <th>205673</th>\n",
       "      <td>1</td>\n",
       "      <td>0</td>\n",
       "      <td>63</td>\n",
       "      <td>3869202214</td>\n",
       "      <td>361</td>\n",
       "      <td>9</td>\n",
       "    </tr>\n",
       "    <tr>\n",
       "      <th>205674</th>\n",
       "      <td>1</td>\n",
       "      <td>0</td>\n",
       "      <td>35</td>\n",
       "      <td>3869202214</td>\n",
       "      <td>393</td>\n",
       "      <td>26</td>\n",
       "    </tr>\n",
       "    <tr>\n",
       "      <th>205675</th>\n",
       "      <td>1</td>\n",
       "      <td>0</td>\n",
       "      <td>62</td>\n",
       "      <td>3869202214</td>\n",
       "      <td>395</td>\n",
       "      <td>25</td>\n",
       "    </tr>\n",
       "    <tr>\n",
       "      <th>205676</th>\n",
       "      <td>1</td>\n",
       "      <td>0</td>\n",
       "      <td>139</td>\n",
       "      <td>3869202214</td>\n",
       "      <td>397</td>\n",
       "      <td>0</td>\n",
       "    </tr>\n",
       "  </tbody>\n",
       "</table>\n",
       "<p>205677 rows × 6 columns</p>\n",
       "</div>"
      ],
      "text/plain": [
       "        HEAD  FPGA  TDC_CHANNEL   ORBIT_CNT  BX_COUNTER  TDC_MEAS\n",
       "0          1     0          123  3869200167        2374        26\n",
       "1          1     0          124  3869200167        2374        27\n",
       "2          1     0           63  3869200167        2553        28\n",
       "3          1     0           64  3869200167        2558        19\n",
       "4          1     0           64  3869200167        2760        25\n",
       "...      ...   ...          ...         ...         ...       ...\n",
       "205672     1     0           62  3869202214         356         6\n",
       "205673     1     0           63  3869202214         361         9\n",
       "205674     1     0           35  3869202214         393        26\n",
       "205675     1     0           62  3869202214         395        25\n",
       "205676     1     0          139  3869202214         397         0\n",
       "\n",
       "[205677 rows x 6 columns]"
      ]
     },
     "execution_count": 4,
     "metadata": {},
     "output_type": "execute_result"
    }
   ],
   "source": [
    "file_name = './data/data_000637.txt'\n",
    "# save complete dataset\n",
    "all_data = pd.read_csv(file_name)\n",
    "# generate random number between 10k and maximum number of rows\n",
    "N = np.random.randint(1e04,len(all_data))\n",
    "print('Number of rows N is:',N)\n",
    "# save dataset with N rows\n",
    "data = pd.read_csv(file_name, nrows = N)\n",
    "data"
   ]
  },
  {
   "cell_type": "markdown",
   "metadata": {},
   "source": [
    "2\\. Estimate the number of BX in a ORBIT (the value 'x')."
   ]
  },
  {
   "cell_type": "code",
   "execution_count": 13,
   "metadata": {},
   "outputs": [
    {
     "name": "stdout",
     "output_type": "stream",
     "text": [
      "Maximum is 3563\n",
      "      HEAD  FPGA  TDC_CHANNEL   ORBIT_CNT  BX_COUNTER  TDC_MEAS       TIME_ns\n",
      "2893     1     0           45  3869200195        3563        29  3.447457e+14\n",
      "4073     1     0          122  3869200207        3563        22  3.447457e+14\n",
      "4461     1     0          124  3869200211        3563         6  3.447457e+14\n",
      "4745     1     1           27  3869200214        3563         3  3.447457e+14\n",
      "4747     1     1           28  3869200214        3563        10  3.447457e+14\n",
      "\n",
      "If the values of TDC_MEAS corresponding to the max values of BX_COUNTER are not zero, the value of BX_COUNTER for which ORBIT_CNT is increased by one unit (x) is equal to m+1\n",
      "\n",
      " --> x = 3564\n"
     ]
    }
   ],
   "source": [
    "# find maxmimum value in column BX_COUNTER\n",
    "m = data['BX_COUNTER'].max()\n",
    "print(\"Maximum is\",m)\n",
    "# print the first 5 rows that correspond to the maximum value of BX_COUNTER\n",
    "print(data[data['BX_COUNTER'] == m].head())\n",
    "print(\"\\nIf the values of TDC_MEAS corresponding to the max values of BX_COUNTER are not zero, the value of BX_COUNTER for which ORBIT_CNT is increased by one unit (x) is equal to m+1\")\n",
    "x = m + 1\n",
    "print(\"\\n --> x =\", x)"
   ]
  },
  {
   "cell_type": "markdown",
   "metadata": {},
   "source": [
    "3\\. Find out the duration of the data taking in hours, minutes and seconds. You can either make an estimate based on the fraction of the measurements (rows) you read, or perform this check precisely by reading the whole dataset."
   ]
  },
  {
   "cell_type": "code",
   "execution_count": 14,
   "metadata": {},
   "outputs": [
    {
     "name": "stdout",
     "output_type": "stream",
     "text": [
      "The data taking lasted 0.9804162533125 seconds\n"
     ]
    }
   ],
   "source": [
    "def conversion(data):\n",
    "    '''\n",
    "        Convert data from a.u. to nanoseconds \n",
    "    '''\n",
    "    t = data['TDC_MEAS']*25/30 + 25*data['BX_COUNTER'] + 3564*25*data['ORBIT_CNT'] \n",
    "    return t\n",
    "\n",
    "# we use the complete dataset to estimate the duration of data taking \n",
    "time = conversion(all_data)\n",
    "tot_time = time.max() - time.min()\n",
    "\n",
    "print('The data taking lasted', tot_time*1e-9, 'seconds')\n"
   ]
  },
  {
   "cell_type": "markdown",
   "metadata": {},
   "source": [
    "4\\. Create a new column with the absolute time in ns (as a combination of the other three columns with timing information) since the beginning of the data acquisition."
   ]
  },
  {
   "cell_type": "code",
   "execution_count": 17,
   "metadata": {},
   "outputs": [
    {
     "data": {
      "text/html": [
       "<div>\n",
       "<style scoped>\n",
       "    .dataframe tbody tr th:only-of-type {\n",
       "        vertical-align: middle;\n",
       "    }\n",
       "\n",
       "    .dataframe tbody tr th {\n",
       "        vertical-align: top;\n",
       "    }\n",
       "\n",
       "    .dataframe thead th {\n",
       "        text-align: right;\n",
       "    }\n",
       "</style>\n",
       "<table border=\"1\" class=\"dataframe\">\n",
       "  <thead>\n",
       "    <tr style=\"text-align: right;\">\n",
       "      <th></th>\n",
       "      <th>HEAD</th>\n",
       "      <th>FPGA</th>\n",
       "      <th>TDC_CHANNEL</th>\n",
       "      <th>ORBIT_CNT</th>\n",
       "      <th>BX_COUNTER</th>\n",
       "      <th>TDC_MEAS</th>\n",
       "      <th>TIME_ns</th>\n",
       "    </tr>\n",
       "  </thead>\n",
       "  <tbody>\n",
       "    <tr>\n",
       "      <th>0</th>\n",
       "      <td>1</td>\n",
       "      <td>0</td>\n",
       "      <td>123</td>\n",
       "      <td>3869200167</td>\n",
       "      <td>2374</td>\n",
       "      <td>26</td>\n",
       "      <td>3.447457e+14</td>\n",
       "    </tr>\n",
       "    <tr>\n",
       "      <th>1</th>\n",
       "      <td>1</td>\n",
       "      <td>0</td>\n",
       "      <td>124</td>\n",
       "      <td>3869200167</td>\n",
       "      <td>2374</td>\n",
       "      <td>27</td>\n",
       "      <td>3.447457e+14</td>\n",
       "    </tr>\n",
       "    <tr>\n",
       "      <th>2</th>\n",
       "      <td>1</td>\n",
       "      <td>0</td>\n",
       "      <td>63</td>\n",
       "      <td>3869200167</td>\n",
       "      <td>2553</td>\n",
       "      <td>28</td>\n",
       "      <td>3.447457e+14</td>\n",
       "    </tr>\n",
       "    <tr>\n",
       "      <th>3</th>\n",
       "      <td>1</td>\n",
       "      <td>0</td>\n",
       "      <td>64</td>\n",
       "      <td>3869200167</td>\n",
       "      <td>2558</td>\n",
       "      <td>19</td>\n",
       "      <td>3.447457e+14</td>\n",
       "    </tr>\n",
       "    <tr>\n",
       "      <th>4</th>\n",
       "      <td>1</td>\n",
       "      <td>0</td>\n",
       "      <td>64</td>\n",
       "      <td>3869200167</td>\n",
       "      <td>2760</td>\n",
       "      <td>25</td>\n",
       "      <td>3.447457e+14</td>\n",
       "    </tr>\n",
       "    <tr>\n",
       "      <th>...</th>\n",
       "      <td>...</td>\n",
       "      <td>...</td>\n",
       "      <td>...</td>\n",
       "      <td>...</td>\n",
       "      <td>...</td>\n",
       "      <td>...</td>\n",
       "      <td>...</td>\n",
       "    </tr>\n",
       "    <tr>\n",
       "      <th>205672</th>\n",
       "      <td>1</td>\n",
       "      <td>0</td>\n",
       "      <td>62</td>\n",
       "      <td>3869202214</td>\n",
       "      <td>356</td>\n",
       "      <td>6</td>\n",
       "      <td>3.447459e+14</td>\n",
       "    </tr>\n",
       "    <tr>\n",
       "      <th>205673</th>\n",
       "      <td>1</td>\n",
       "      <td>0</td>\n",
       "      <td>63</td>\n",
       "      <td>3869202214</td>\n",
       "      <td>361</td>\n",
       "      <td>9</td>\n",
       "      <td>3.447459e+14</td>\n",
       "    </tr>\n",
       "    <tr>\n",
       "      <th>205674</th>\n",
       "      <td>1</td>\n",
       "      <td>0</td>\n",
       "      <td>35</td>\n",
       "      <td>3869202214</td>\n",
       "      <td>393</td>\n",
       "      <td>26</td>\n",
       "      <td>3.447459e+14</td>\n",
       "    </tr>\n",
       "    <tr>\n",
       "      <th>205675</th>\n",
       "      <td>1</td>\n",
       "      <td>0</td>\n",
       "      <td>62</td>\n",
       "      <td>3869202214</td>\n",
       "      <td>395</td>\n",
       "      <td>25</td>\n",
       "      <td>3.447459e+14</td>\n",
       "    </tr>\n",
       "    <tr>\n",
       "      <th>205676</th>\n",
       "      <td>1</td>\n",
       "      <td>0</td>\n",
       "      <td>139</td>\n",
       "      <td>3869202214</td>\n",
       "      <td>397</td>\n",
       "      <td>0</td>\n",
       "      <td>3.447459e+14</td>\n",
       "    </tr>\n",
       "  </tbody>\n",
       "</table>\n",
       "<p>205677 rows × 7 columns</p>\n",
       "</div>"
      ],
      "text/plain": [
       "        HEAD  FPGA  TDC_CHANNEL   ORBIT_CNT  BX_COUNTER  TDC_MEAS  \\\n",
       "0          1     0          123  3869200167        2374        26   \n",
       "1          1     0          124  3869200167        2374        27   \n",
       "2          1     0           63  3869200167        2553        28   \n",
       "3          1     0           64  3869200167        2558        19   \n",
       "4          1     0           64  3869200167        2760        25   \n",
       "...      ...   ...          ...         ...         ...       ...   \n",
       "205672     1     0           62  3869202214         356         6   \n",
       "205673     1     0           63  3869202214         361         9   \n",
       "205674     1     0           35  3869202214         393        26   \n",
       "205675     1     0           62  3869202214         395        25   \n",
       "205676     1     0          139  3869202214         397         0   \n",
       "\n",
       "             TIME_ns  \n",
       "0       3.447457e+14  \n",
       "1       3.447457e+14  \n",
       "2       3.447457e+14  \n",
       "3       3.447457e+14  \n",
       "4       3.447457e+14  \n",
       "...              ...  \n",
       "205672  3.447459e+14  \n",
       "205673  3.447459e+14  \n",
       "205674  3.447459e+14  \n",
       "205675  3.447459e+14  \n",
       "205676  3.447459e+14  \n",
       "\n",
       "[205677 rows x 7 columns]"
      ]
     },
     "execution_count": 17,
     "metadata": {},
     "output_type": "execute_result"
    }
   ],
   "source": [
    "data['TIME_ns'] = data['TDC_MEAS']*25/30 + 25*data['BX_COUNTER'] + 3564*25*data['ORBIT_CNT']\n",
    "data"
   ]
  },
  {
   "cell_type": "markdown",
   "metadata": {},
   "source": [
    "5\\. Use the `.groupby()` method to find out the noisy channels, i.e. the TDC channels with most counts (print to screen the top 3 and the corresponding counts)"
   ]
  },
  {
   "cell_type": "code",
   "execution_count": 9,
   "metadata": {},
   "outputs": [
    {
     "name": "stdout",
     "output_type": "stream",
     "text": [
      "1st method:\n",
      " TDC_CHANNEL\n",
      "139    17098\n",
      "64     10198\n",
      "63      9974\n",
      "Name: TDC_CHANNEL, dtype: int64\n",
      "\n",
      "2nd method:\n",
      "               HEAD   FPGA  ORBIT_CNT  BX_COUNTER  TDC_MEAS  TIME_ns\n",
      "TDC_CHANNEL                                                        \n",
      "139          17098  17098      17098       17098     17098    17098\n",
      "64           10198  10198      10198       10198     10198    10198\n",
      "63            9974   9974       9974        9974      9974     9974\n"
     ]
    }
   ],
   "source": [
    "noise = data.groupby('TDC_CHANNEL').TDC_CHANNEL.count().nlargest(3)\n",
    "\n",
    "noise2 = data.groupby('TDC_CHANNEL').count().sort_values('HEAD', ascending=False)\n",
    "\n",
    "\n",
    "print('1st method:\\n',noise)\n",
    "print('\\n2nd method:\\n',noise2.head(3))"
   ]
  },
  {
   "cell_type": "markdown",
   "metadata": {},
   "source": [
    "6\\. Count the number of non-empty orbits (i.e. the number of orbits with at least one hit). Count also the number of unique orbits with at least one measurement from TDC_CHANNEL=139."
   ]
  },
  {
   "cell_type": "code",
   "execution_count": 18,
   "metadata": {},
   "outputs": [
    {
     "name": "stdout",
     "output_type": "stream",
     "text": [
      "non-empty orbits:  2045\n",
      "unique orbits with at least one TDC_channel = 139:  2042\n"
     ]
    }
   ],
   "source": [
    "# hit = entry in the data frame \n",
    "ORBITgroup = data.groupby(\"ORBIT_CNT\")\n",
    "print(\"non-empty orbits: \", len(ORBITgroup))\n",
    "\n",
    "group139 = data[data[\"TDC_CHANNEL\"]==139].groupby(\"ORBIT_CNT\")\n",
    "print(\"unique orbits with at least one TDC_channel = 139: \", len(group139))\n",
    "\n"
   ]
  },
  {
   "cell_type": "markdown",
   "metadata": {},
   "source": [
    "7\\. **Optional:** Make two occupancy plots (one for each FPGA), i.e. plot the number of counts per TDC channel"
   ]
  },
  {
   "cell_type": "code",
   "execution_count": 12,
   "metadata": {},
   "outputs": [
    {
     "data": {
      "image/png": "[encoded data removed]",
      "text/plain": [
       "<Figure size 1152x432 with 2 Axes>"
      ]
     },
     "metadata": {
      "needs_background": "light"
     },
     "output_type": "display_data"
    }
   ],
   "source": [
    "# FPGA and TDC channel identify the sensor that has recorded the signal\n",
    "\n",
    "data0 = data[data.FPGA != 1]\n",
    "data1 = data[data.FPGA != 0]\n",
    "\n",
    "n0 = data0.loc[:,'TDC_CHANNEL'].max()\n",
    "n1 = data1.loc[:,'TDC_CHANNEL'].max()\n",
    "\n",
    "# Plot counts for each channel\n",
    "fig,((ax0,ax1)) = plt.subplots(1,2,figsize=(16,6))\n",
    "ax0.hist(data0.loc[:,'TDC_CHANNEL'], bins = n0//2, alpha=0.5, color='purple',edgecolor='purple')\n",
    "ax1.hist(data1.loc[:,'TDC_CHANNEL'], bins = n1//2, alpha=0.5, color='grey',edgecolor='grey')\n",
    "ax0.set_ylabel('Counts',fontsize = 15, loc = 'top')\n",
    "ax0.set_xlabel('# channels of FPGA 0', fontsize = 15, loc = 'right')\n",
    "ax1.set_xlabel('# channels of FPGA 1',fontsize = 15, loc = 'right')\n",
    "\n",
    "for ax in fig.get_axes():\n",
    "    ax.tick_params(axis = 'both', which = 'major', direction = 'in', length = 10,labelsize = 13)\n",
    "    \n",
    "plt.show()"
   ]
  }
 ],
 "metadata": {
  "kernelspec": {
   "display_name": "Python 3",
   "language": "python",
   "name": "python3"
  },
  "language_info": {
   "codemirror_mode": {
    "name": "ipython",
    "version": 3
   },
   "file_extension": ".py",
   "mimetype": "text/x-python",
   "name": "python",
   "nbconvert_exporter": "python",
   "pygments_lexer": "ipython3",
   "version": "3.8.8"
  }
 },
 "nbformat": 4,
 "nbformat_minor": 2
}
