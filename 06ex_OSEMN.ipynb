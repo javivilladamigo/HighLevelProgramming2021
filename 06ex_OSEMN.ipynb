{
 "cells": [
  {
   "cell_type": "code",
   "execution_count": 13,
   "metadata": {},
   "outputs": [],
   "source": [
    "import pandas as pd\n",
    "import numpy as np"
   ]
  },
  {
   "cell_type": "markdown",
   "metadata": {},
   "source": [
    "1\\. Perform the following operations on plain `txt` files:\n",
    "\n",
    "+ create a list of integrer numbers and then save it to a text file named \"data_int.txt\". Run the `cat` command to print the content of the file.\n",
    "+ create a matrix of 5x5 floats and then save it to a text file named \"data_float.txt\". Use the `cat` command to print the content of the file.\n",
    "+ load the txt file of the previous point and convert it to a csv file by hand."
   ]
  },
  {
   "cell_type": "code",
   "execution_count": 18,
   "metadata": {},
   "outputs": [
    {
     "name": "stdout",
     "output_type": "stream",
     "text": [
      "[0, 1, 2, 3, 4, 5, 6, 7, 8, 9, 10, 11, 12, 13, 14, 15, 16, 17, 18, 19, 20, 21, 22, 23, 24, 25, 26, 27, 28, 29, 30, 31, 32, 33, 34, 35, 36, 37, 38, 39, 40, 41, 42, 43, 44, 45, 46, 47, 48, 49, 50, 51, 52, 53, 54, 55, 56, 57, 58, 59, 60, 61, 62, 63, 64, 65, 66, 67, 68, 69, 70, 71, 72, 73, 74, 75, 76, 77, 78, 79, 80, 81, 82, 83, 84, 85, 86, 87, 88, 89, 90, 91, 92, 93, 94, 95, 96, 97, 98, 99]\n",
      "[0, 1, 2, 3, 4, 5, 6, 7, 8, 9, 10, 11, 12, 13, 14, 15, 16, 17, 18, 19, 20, 21, 22, 23, 24, 25, 26, 27, 28, 29, 30, 31, 32, 33, 34, 35, 36, 37, 38, 39, 40, 41, 42, 43, 44, 45, 46, 47, 48, 49, 50, 51, 52, 53, 54, 55, 56, 57, 58, 59, 60, 61, 62, 63, 64, 65, 66, 67, 68, 69, 70, 71, 72, 73, 74, 75, 76, 77, 78, 79, 80, 81, 82, 83, 84, 85, 86, 87, 88, 89, 90, 91, 92, 93, 94, 95, 96, 97, 98, 99]\n"
     ]
    },
    {
     "name": "stderr",
     "output_type": "stream",
     "text": [
      "\n",
      "data_int.txt\n",
      "\n",
      "\n",
      "The system cannot find the file specified.\n",
      "Error occurred while processing: #.\n",
      "The system cannot find the file specified.\n",
      "Error occurred while processing: type.\n",
      "The system cannot find the file specified.\n",
      "Error occurred while processing: is.\n",
      "The system cannot find the file specified.\n",
      "Error occurred while processing: equivalent.\n",
      "The system cannot find the file specified.\n",
      "Error occurred while processing: of.\n",
      "The system cannot find the file specified.\n",
      "Error occurred while processing: cat.\n",
      "The system cannot find the file specified.\n",
      "Error occurred while processing: in.\n",
      "The system cannot find the file specified.\n",
      "Error occurred while processing: windows.\n"
     ]
    },
    {
     "name": "stdout",
     "output_type": "stream",
     "text": [
      "[[ 0  1  2  3  4]\n",
      " [ 5  6  7  8  9]\n",
      " [10 11 12 13 14]\n",
      " [15 16 17 18 19]\n",
      " [20 21 22 23 24]]\n",
      "[[ 0  1  2  3  4]\n",
      "\n",
      "[ 5  6  7  8  9]\n",
      "\n",
      "[10 11 12 13 14]\n",
      "\n",
      "[15 16 17 18 19]\n",
      "\n",
      "[20 21 22 23 24]]\n",
      "\n"
     ]
    }
   ],
   "source": [
    "import csv\n",
    "\n",
    "n = [x for x in range(100)]\n",
    "print(n)\n",
    "\n",
    "txt_f = open('data_int.txt', 'w')\n",
    "\n",
    "with open('data_int.txt', 'w') as f:\n",
    "    f.write(str(n))\n",
    "\n",
    "#!cat data_int.txt\n",
    "!type data_int.txt # type is equivalent of cat in windows\n",
    "\n",
    "matrix = np.array(range(25)).reshape(5,5)\n",
    "\n",
    "txt_f = open('data_float.txt', 'w')\n",
    "\n",
    "with open('data_float.txt', 'w') as f:\n",
    "    f.write(str(matrix))\n",
    "\n",
    "#!cat data_float.txt\n",
    "!type data_float.txt\n",
    "\n",
    "with open('data_float.txt', 'r') as txt_f:\n",
    "    f_line = (line.strip() for line in txt_f)\n",
    "    lines = (line.split(\",\") for line in f_line if line)\n",
    "    with open('data_float.csv', 'w') as csv_f:\n",
    "        writer = csv.writer(csv_f)\n",
    "        writer.writerows(lines)\n",
    "\n",
    "#!cat data_float.csv\n",
    "!type data_float.csv"
   ]
  },
  {
   "cell_type": "markdown",
   "metadata": {},
   "source": [
    "2\\. Load the file *user_data.json*, which can be found at:\n",
    "\n",
    "- https://www.dropbox.com/s/sz5klcdpckc39hd/user_data.json\n",
    "\n",
    "and filter the data by the \"CreditCardType\" when it equals to \"American Express\". Than save the data to a new CSV file."
   ]
  },
  {
   "cell_type": "code",
   "execution_count": 21,
   "metadata": {},
   "outputs": [
    {
     "name": "stdout",
     "output_type": "stream",
     "text": [
      ",CreditCard,CreditCardType,EmailAddress,FirstNameLastName,ID,JobTitle\n",
      "0,7083-8766-0251-2345,American Express,Clint_Thorpe5003@bulaffy.com,Clint Thorpe,2,Investment  Advisor\n",
      "1,3657-0088-0820-5247,American Express,Phillip_Carpenter9505@famism.biz,Phillip Carpenter,12,Retail Trainee\n",
      "2,6718-4818-8011-6024,American Express,Russel_Graves1378@extex.org,Russel Graves,28,Project Manager\n",
      "3,5438-0816-4166-4847,American Express,Leanne_Newton1268@typill.biz,Leanne Newton,39,Stockbroker\n",
      "4,8130-3425-7573-7745,American Express,Tony_Giles1960@iatim.tech,Tony Giles,57,Budget Analyst\n",
      "5,4156-0107-7210-2630,American Express,Owen_Allcott5125@bauros.biz,Owen Allcott,62,CNC Operator\n",
      "6,7152-3247-6053-2233,American Express,Liam_Lynn3280@kideod.biz,Liam Lynn,68,Project Manager\n",
      "7,0208-1753-3870-8002,American Express,Regina_Woodcock5820@yahoo.com,Regina Woodcock,74,Dentist\n",
      "8,4256-7201-6717-4322,American Express,Carter_Wallace9614@atink.com,Carter Wallace,81,HR Specialist\n",
      "9,3851-1403-1734-6321,American Express,Maia_Stark2797@jiman.org,Maia Stark,92,Staffing Consultant\n",
      "10,3702-3440-2472-5424,American Express,Ciara_Lomax982@bauros.biz,Ciara Lomax,97,Stockbroker\n",
      "11,3738-0882-0066-6683,American Express,Isabel_Ellwood1475@fuliss.net,Isabel Ellwood,116,Staffing Consultant\n",
      "12,4224-1226-3557-3448,American Express,Abdul_Townend2202@infotech44.tech,Abdul Townend,148,CNC Operator\n",
      "13,8203-6875-5225-0341,American Express,Caleb_Poulton1735@atink.com,Caleb Poulton,150,Fabricator\n",
      "14,7212-0155-5014-8471,American Express,Ronald_Lewis6777@deavo.com,Ronald Lewis,151,Restaurant Manager\n",
      "15,4170-5186-6887-6558,American Express,Faith_Seymour3829@twace.org,Faith Seymour,154,Bellman\n",
      "16,0832-3357-6010-6550,American Express,Anthony_Hancock9083@qater.org,Anthony Hancock,169,Assistant Buyer\n",
      "17,5177-4868-4623-0384,American Express,Isabella_Willson5478@nanoff.biz,Isabella Willson,176,Healthcare Specialist\n",
      "18,0264-4020-5106-5576,American Express,Stephanie_Darcy3298@bauros.biz,Stephanie Darcy,182,Pharmacist\n",
      "19,3166-6287-6242-7207,American Express,Ryan_Kennedy5565@corti.com,Ryan Kennedy,199,Investment  Advisor\n"
     ]
    }
   ],
   "source": [
    "import json\n",
    "\n",
    "data = json.load(open('user_data.json'))\n",
    "filtered_data = [x for x in data if x['CreditCardType'] == 'American Express']\n",
    "    \n",
    "df=pd.DataFrame(filtered_data) \n",
    "df.to_csv('AmericanExpress.csv')\n",
    "df\n",
    "\n",
    "!type AmericanExpress.csv"
   ]
  },
  {
   "cell_type": "markdown",
   "metadata": {},
   "source": [
    "3\\. Load the file from this url:\n",
    "\n",
    "- https://www.dropbox.com/s/kgshemfgk22iy79/mushrooms_categorized.csv\n",
    "\n",
    "with Pandas. \n",
    "\n",
    "+ explore and print the DataFrame\n",
    "+ calculate, using `groupby()`, the average value of each feature, separately for each class\n",
    "+ save the file in a JSON format."
   ]
  },
  {
   "cell_type": "code",
   "execution_count": 23,
   "metadata": {},
   "outputs": [
    {
     "name": "stdout",
     "output_type": "stream",
     "text": [
      "{\"0\":{\"cap-shape\":3.2661596958,\"cap-surface\":1.6159695817,\"cap-color\":4.5817490494,\"bruises\":0.6539923954,\"odor\":4.3346007605,\"gill-attachment\":0.9543726236,\"gill-spacing\":0.2851711027,\"gill-size\":0.0684410646,\"gill-color\":6.6226235741,\"stalk-shape\":0.6159695817,\"stalk-root\":1.4980988593,\"stalk-surface-above-ring\":1.7756653992,\"stalk-surface-below-ring\":1.7984790875,\"stalk-color-above-ring\":6.0988593156,\"stalk-color-below-ring\":6.0646387833,\"veil-type\":0.0,\"veil-color\":1.9315589354,\"ring-number\":1.1254752852,\"ring-type\":3.0076045627,\"spore-print-color\":3.2015209125,\"population\":3.283269962,\"habitat\":1.1482889734},\"1\":{\"cap-shape\":3.4361593463,\"cap-surface\":2.0551583248,\"cap-color\":4.4218590398,\"bruises\":0.1593462717,\"odor\":3.9407558733,\"gill-attachment\":0.9954034729,\"gill-spacing\":0.0286006129,\"gill-size\":0.5679264556,\"gill-color\":2.8636363636,\"stalk-shape\":0.5148110317,\"stalk-root\":0.6925434116,\"stalk-surface-above-ring\":1.3595505618,\"stalk-surface-below-ring\":1.3942798774,\"stalk-color-above-ring\":5.5127681307,\"stalk-color-below-ring\":5.5045965271,\"veil-type\":0.0,\"veil-color\":2.0020429009,\"ring-number\":1.0091930541,\"ring-type\":1.5229826353,\"spore-print-color\":4.0214504597,\"population\":4.0316649642,\"habitat\":1.8958120531}}\n"
     ]
    }
   ],
   "source": [
    "file_name = 'mushrooms_categorized.csv'\n",
    "data = pd.read_csv(file_name)\n",
    "data.head()\n",
    "\n",
    "avg_values = data.groupby('class').mean()\n",
    "avg_values\n",
    "\n",
    "avg_values.to_json('mushrooms_solved.json', orient = 'index')\n",
    "\n",
    "!type mushrooms_solved.json "
   ]
  },
  {
   "cell_type": "markdown",
   "metadata": {},
   "source": [
    "4\\. Get the binary file named *credit_card.dat* from this address:\n",
    "\n",
    "- https://www.dropbox.com/s/8m0syw2tkul3dap/credit_card.dat\n",
    "\n",
    "and convert the data into the real credit card number, knowing that:\n",
    "- each line corresponds to a credit card number, which consists of 16 characters (which are numbers in the 0-9 range) divided in 4 blocks, with a whitespace between each block\n",
    "- each character is written using a 6 bit binary representation (including the whitespace)\n",
    "- the final 4 bits of each line are a padding used to determine the end of the line, and can be ignored\n",
    "\n",
    "*Hint*: convert the binary numbers to the decimal representation first, and then use the `chr()` function to convert the latter to a char"
   ]
  },
  {
   "cell_type": "code",
   "execution_count": 25,
   "metadata": {},
   "outputs": [
    {
     "name": "stdout",
     "output_type": "stream",
     "text": [
      "7648 5673 3775 2271\n",
      "3257 8247 3354 2266\n",
      "2722 0001 4011 6652\n",
      "0661 3063 3742 3150\n",
      "0432 1608 1462 4742\n",
      "5827 2027 8785 7303\n",
      "5774 8528 2087 1117\n",
      "8140 1210 6352 2845\n",
      "5764 1133 7301 7100\n",
      "6456 1737 4126 6726\n",
      "1228 8631 7382 0000\n",
      "7051 0160 5374 3166\n",
      "0618 3587 1630 6376\n",
      "1545 5454 7444 5636\n",
      "6735 3116 3202 6834\n",
      "7287 5011 1547 8413\n",
      "7033 2607 3328 4200\n",
      "2568 5244 1874 5024\n",
      "1684 2253 7570 7118\n",
      "0672 2576 0575 6631\n",
      "6332 8353 8787 1340\n",
      "1813 3361 1175 4211\n",
      "2477 6450 8840 2368\n",
      "5512 3505 2563 1326\n",
      "3083 7882 0621 0025\n",
      "4521 5148 8045 0334\n",
      "7563 3654 8713 5787\n",
      "8324 2664 0476 5561\n",
      "0565 2504 7168 3510\n",
      "5107 5507 1767 0738\n",
      "2462 1821 2448 1443\n",
      "2788 0638 6861 6554\n",
      "5851 5873 5474 0547\n",
      "0670 1004 4013 2655\n",
      "5874 5506 3048 0806\n",
      "2805 5401 8462 1260\n",
      "5083 8406 6310 1862\n",
      "1076 1445 3013 2266\n",
      "8440 4804 4844 5277\n",
      "4758 6141 0686 1387\n",
      "7586 0675 0315 2568\n",
      "2544 1258 7432 5165\n",
      "3474 5023 4434 5626\n",
      "1410 0270 0434 5086\n",
      "7315 4446 1104 4215\n",
      "0224 7742 8300 0266\n",
      "0170 2700 3145 0640\n",
      "2006 2437 8054 1600\n",
      "8142 4055 1776 0026\n",
      "3026 7380 1241 1084\n"
     ]
    }
   ],
   "source": [
    "def binary_to_str(block):\n",
    "    num1 = chr(int(block[0:6], 2))\n",
    "    num2 = chr(int(block[6:12], 2))\n",
    "    num3 = chr(int(block[12:18], 2))\n",
    "    num4 = chr(int(block[18:24], 2))\n",
    "    return num1 + num2 + num3 + num4\n",
    "    \n",
    "\n",
    "with open('credit_card.dat', 'r') as f:\n",
    "    data = f.read()\n",
    "    \n",
    "    lines = data.split('\\n')[:-2]\n",
    "    for line in lines:\n",
    "        block1 = line[0:24]\n",
    "        block2 = line[30:54]\n",
    "        block3 = line[60:84]\n",
    "        block4 = line[90:114]\n",
    "        \n",
    "        card_number = binary_to_str(block1) + ' ' + binary_to_str(block2) + ' ' + binary_to_str(block3) + ' ' + binary_to_str(block4)\n",
    "        print(card_number)"
   ]
  },
  {
   "cell_type": "markdown",
   "metadata": {},
   "source": [
    "5\\. **Optional**: load the remote file:\n",
    "\n",
    "- https://www.dropbox.com/s/aamg1apjhclecka/regression_generated.csv\n",
    "\n",
    "with Pandas and create a scatter plot with all possible combinations of the following features:\n",
    "    \n",
    "  + features_1\n",
    "  + features_2\n",
    "  + features_3"
   ]
  },
  {
   "cell_type": "code",
   "execution_count": null,
   "metadata": {},
   "outputs": [],
   "source": []
  }
 ],
 "metadata": {
  "kernelspec": {
   "display_name": "Python 3",
   "language": "python",
   "name": "python3"
  },
  "language_info": {
   "codemirror_mode": {
    "name": "ipython",
    "version": 3
   },
   "file_extension": ".py",
   "mimetype": "text/x-python",
   "name": "python",
   "nbconvert_exporter": "python",
   "pygments_lexer": "ipython3",
   "version": "3.7.5"
  }
 },
 "nbformat": 4,
 "nbformat_minor": 2
}
