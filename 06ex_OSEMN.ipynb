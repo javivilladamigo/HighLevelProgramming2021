{
 "cells": [
  {
   "cell_type": "code",
   "execution_count": 76,
   "metadata": {},
   "outputs": [],
   "source": [
    "import pandas as pd\n",
    "import numpy as np"
   ]
  },
  {
   "cell_type": "markdown",
   "metadata": {},
   "source": [
    "1\\. Perform the following operations on plain `txt` files:\n",
    "\n",
    "+ create a list of integrer numbers and then save it to a text file named \"data_int.txt\". Run the `cat` command to print the content of the file.\n",
    "+ create a matrix of 5x5 floats and then save it to a text file named \"data_float.txt\". Use the `cat` command to print the content of the file.\n",
    "+ load the txt file of the previous point and convert it to a csv file by hand."
   ]
  },
  {
   "cell_type": "code",
   "execution_count": 77,
   "metadata": {},
   "outputs": [
    {
     "name": "stdout",
     "output_type": "stream",
     "text": [
      "[ 1  2  3  4  5  6  7  8  9 10]\n"
     ]
    }
   ],
   "source": [
    "l = np.arange(1, 11)\n",
    "\n",
    "out_file = \"data/data_int.txt\"\n",
    "with open(out_file, 'w') as outfile:\n",
    "    outfile.write(str(l) + '\\n')\n",
    "\n",
    "!cat data/data_int.txt"
   ]
  },
  {
   "cell_type": "code",
   "execution_count": 78,
   "metadata": {},
   "outputs": [
    {
     "name": "stdout",
     "output_type": "stream",
     "text": [
      "1.0, 2.0, 3.0, 4.0, 5.0\n",
      "6.0, 7.0, 8.0, 9.0, 10.0\n",
      "11.0, 12.0, 13.0, 14.0, 15.0\n",
      "16.0, 17.0, 18.0, 19.0, 20.0\n",
      "21.0, 22.0, 23.0, 24.0, 25.0\n"
     ]
    }
   ],
   "source": [
    "m = np.linspace(1, 25, 25, 'float')\n",
    "m = m.reshape(5, 5)\n",
    "\n",
    "\n",
    "out_file = \"data/data_float.txt\"\n",
    "with open(out_file, 'w') as outfile:\n",
    "    for i in range(len(m[:, 0])):\n",
    "        for j in range(len(m[0, :])):\n",
    "            outfile.write(str(m[i, j]))\n",
    "            if j < len(m[0, :])-1:\n",
    "                outfile.write(\", \")\n",
    "        outfile.write(\"\\n\")\n",
    "\n",
    "!cat data/data_float.txt"
   ]
  },
  {
   "cell_type": "code",
   "execution_count": 80,
   "metadata": {},
   "outputs": [],
   "source": [
    "import csv\n",
    "\n",
    "with open(\"data/output.csv\", \"w\") as f:\n",
    "    writer = csv.writer(f)\n",
    "    with open(\"data/data_float.txt\", \"r\") as data_file:\n",
    "        for line in csv.reader(data_file, delimiter = ','):\n",
    "            writer.writerow(line)"
   ]
  },
  {
   "cell_type": "markdown",
   "metadata": {},
   "source": [
    "2\\. Load the file *user_data.json*, which can be found at:\n",
    "\n",
    "- https://www.dropbox.com/s/sz5klcdpckc39hd/user_data.json\n",
    "\n",
    "and filter the data by the \"CreditCardType\" when it equals to \"American Express\". Than save the data to a new CSV file."
   ]
  },
  {
   "cell_type": "code",
   "execution_count": 82,
   "metadata": {},
   "outputs": [
    {
     "name": "stdout",
     "output_type": "stream",
     "text": [
      "--2021-11-22 13:33:00--  https://www.dropbox.com/s/sz5klcdpckc39hd/user_data.json\n",
      "Resolvendo www.dropbox.com (www.dropbox.com)... 162.125.69.18\n",
      "Conectando con www.dropbox.com (www.dropbox.com)|162.125.69.18|:443... conectado.\n",
      "Petición HTTP enviada, agardando unha resposta... 301 Moved Permanently\n",
      "Localización: /s/raw/sz5klcdpckc39hd/user_data.json [seguíndoo]\n",
      "--2021-11-22 13:33:01--  https://www.dropbox.com/s/raw/sz5klcdpckc39hd/user_data.json\n",
      "Reutilizando a conexión existente con www.dropbox.com:443.\n",
      "Petición HTTP enviada, agardando unha resposta... 302 Found\n",
      "Localización: https://uc9929ae1168e6672188241cd731.dl.dropboxusercontent.com/cd/0/inline/Baf3fiORMFarxhD6aE807E77qGHYFLvL9o5loFh40wcx0ySNX5GqiBflqfvVw1nwNxviZe-VjARD1jUF_3KOUOXLo3JkCeb6Iu2idFpeAtXt3cmJxC2mnFBMpCaYMrQdiLzvcwqWdN3uz7p09Bq3egvA/file# [seguíndoo]\n",
      "--2021-11-22 13:33:01--  https://uc9929ae1168e6672188241cd731.dl.dropboxusercontent.com/cd/0/inline/Baf3fiORMFarxhD6aE807E77qGHYFLvL9o5loFh40wcx0ySNX5GqiBflqfvVw1nwNxviZe-VjARD1jUF_3KOUOXLo3JkCeb6Iu2idFpeAtXt3cmJxC2mnFBMpCaYMrQdiLzvcwqWdN3uz7p09Bq3egvA/file\n",
      "Resolvendo uc9929ae1168e6672188241cd731.dl.dropboxusercontent.com (uc9929ae1168e6672188241cd731.dl.dropboxusercontent.com)... 162.125.69.15\n",
      "Conectando con uc9929ae1168e6672188241cd731.dl.dropboxusercontent.com (uc9929ae1168e6672188241cd731.dl.dropboxusercontent.com)|162.125.69.15|:443... conectado.\n",
      "Petición HTTP enviada, agardando unha resposta... 200 OK\n",
      "Lonxitude: 40417 (39K) [text/plain]\n",
      "Gardando en: «data/user_data.json»\n",
      "\n",
      "user_data.json      100%[===================>]  39,47K  --.-KB/s    in 0s      \n",
      "\n",
      "2021-11-22 13:33:01 (167 MB/s) - gardouse «data/user_data.json» [40417/40417]\n",
      "\n"
     ]
    }
   ],
   "source": [
    "!wget https://www.dropbox.com/s/sz5klcdpckc39hd/user_data.json -P data/"
   ]
  },
  {
   "cell_type": "code",
   "execution_count": 146,
   "metadata": {},
   "outputs": [
    {
     "data": {
      "text/plain": [
       "{'ID': '2',\n",
       " 'JobTitle': 'Investment  Advisor',\n",
       " 'EmailAddress': 'Clint_Thorpe5003@bulaffy.com',\n",
       " 'FirstNameLastName': 'Clint Thorpe',\n",
       " 'CreditCard': '7083-8766-0251-2345',\n",
       " 'CreditCardType': 'American Express'}"
      ]
     },
     "execution_count": 146,
     "metadata": {},
     "output_type": "execute_result"
    }
   ],
   "source": [
    "import json\n",
    "data = json.load(open(\"data/user_data.json\"))\n",
    "\n",
    "data_filtered = []\n",
    "for i in range(len(data)):\n",
    "    if data[i][\"CreditCardType\"] == \"American Express\":\n",
    "        data_filtered.append(data[i])\n",
    "\n",
    "headers = [\"ID\", \"JobTitle\", \"EmailAddress\", \"FirstNameLastName\", \"CreditCard\", \"CreditCardType\"]\n",
    "with open(\"data/user_data_filtered.csv\", \"w\") as f:\n",
    "    writer = csv.writer(f)\n",
    "    writer.writerow(headers)\n",
    "    \n",
    "    for i in range(len(data_filtered)):\n",
    "        writer.writerow(data_filtered[i])\n",
    "data_filtered[0]"
   ]
  },
  {
   "cell_type": "markdown",
   "metadata": {},
   "source": [
    "3\\. Load the file from this url:\n",
    "\n",
    "- https://www.dropbox.com/s/kgshemfgk22iy79/mushrooms_categorized.csv\n",
    "\n",
    "with Pandas. \n",
    "\n",
    "+ explore and print the DataFrame\n",
    "+ calculate, using `groupby()`, the average value of each feature, separately for each class\n",
    "+ save the file in a JSON format."
   ]
  },
  {
   "cell_type": "code",
   "execution_count": null,
   "metadata": {},
   "outputs": [],
   "source": []
  },
  {
   "cell_type": "markdown",
   "metadata": {},
   "source": [
    "4\\. Get the binary file named *credit_card.dat* from this address:\n",
    "\n",
    "- https://www.dropbox.com/s/8m0syw2tkul3dap/credit_card.dat\n",
    "\n",
    "and convert the data into the real credit card number, knowing that:\n",
    "- each line corresponds to a credit card number, which consists of 16 characters (which are numbers in the 0-9 range) divided in 4 blocks, with a whitespace between each block\n",
    "- each character is written using a 6 bit binary representation (including the whitespace)\n",
    "- the final 4 bits of each line are a padding used to determine the end of the line, and can be ignored\n",
    "\n",
    "*Hint*: convert the binary numbers to the decimal representation first, and then use the `chr()` function to convert the latter to a char"
   ]
  },
  {
   "cell_type": "code",
   "execution_count": null,
   "metadata": {},
   "outputs": [],
   "source": []
  },
  {
   "cell_type": "markdown",
   "metadata": {},
   "source": [
    "5\\. **Optional**: load the remote file:\n",
    "\n",
    "- https://www.dropbox.com/s/aamg1apjhclecka/regression_generated.csv\n",
    "\n",
    "with Pandas and create a scatter plot with all possible combinations of the following features:\n",
    "    \n",
    "  + features_1\n",
    "  + features_2\n",
    "  + features_3"
   ]
  },
  {
   "cell_type": "code",
   "execution_count": null,
   "metadata": {},
   "outputs": [],
   "source": []
  }
 ],
 "metadata": {
  "kernelspec": {
   "display_name": "Python 3",
   "language": "python",
   "name": "python3"
  },
  "language_info": {
   "codemirror_mode": {
    "name": "ipython",
    "version": 3
   },
   "file_extension": ".py",
   "mimetype": "text/x-python",
   "name": "python",
   "nbconvert_exporter": "python",
   "pygments_lexer": "ipython3",
   "version": "3.8.5"
  }
 },
 "nbformat": 4,
 "nbformat_minor": 2
}
