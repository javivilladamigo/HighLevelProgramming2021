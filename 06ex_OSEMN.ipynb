{
 "cells": [
  {
   "cell_type": "code",
   "execution_count": 86,
   "metadata": {},
   "outputs": [],
   "source": [
    "import pandas as pd\n",
    "import numpy as np"
   ]
  },
  {
   "cell_type": "markdown",
   "metadata": {},
   "source": [
    "1\\. Perform the following operations on plain `txt` files:\n",
    "\n",
    "+ create a list of integrer numbers and then save it to a text file named \"data_int.txt\". Run the `cat` command to print the content of the file.\n",
    "+ create a matrix of 5x5 floats and then save it to a text file named \"data_float.txt\". Use the `cat` command to print the content of the file.\n",
    "+ load the txt file of the previous point and convert it to a csv file by hand."
   ]
  },
  {
   "cell_type": "code",
   "execution_count": 90,
   "metadata": {},
   "outputs": [
    {
     "name": "stdout",
     "output_type": "stream",
     "text": [
      "12345678910111213141516171819201.000 2.000 3.000 4.000 5.000\n",
      "6.000 7.000 8.000 9.000 10.000\n",
      "11.000 12.000 13.000 14.000 15.000\n",
      "16.000 17.000 18.000 19.000 20.000\n",
      "21.000 22.000 23.000 24.000 25.000\n",
      "\n",
      "\n",
      "\n"
     ]
    }
   ],
   "source": [
    "import csv\n",
    "import time\n",
    "\n",
    "myInt_File = open(\"data/data_int.txt\", \"w+\")\n",
    "\n",
    "myInt = list(range(1,21))\n",
    "\n",
    "for row in myInt:\n",
    "    myInt_File.writelines(str(row))\n",
    "myInt_File.close()\n",
    "\n",
    "!cat data/data_int.txt\n",
    "\n",
    "myFloat_File = open(\"data/data_float.txt\",\"w\")\n",
    "\n",
    "myMatrix = np.arange(1,26,1.0).reshape(5,5)\n",
    "#print(myMatrix)\n",
    "#print(np.shape(myMatrix))\n",
    "\n",
    "np.savetxt(myFloat_File, myMatrix,fmt='%.3f',newline=\"\\n\")\n",
    "\n",
    "\n",
    "#myInputArray = np.loadtxt(\"data/data_float.txt\",dtype=float).reshape(5,5)\n",
    "#print(myInputArray)\n",
    "\n",
    "myFloat_File.close()\n",
    "# If the close() method is used after !cat command, nothing is shown. So, first use close() and then !cat\n",
    "!cat data/data_float.txt\n",
    "\n",
    "myList = []\n",
    "myFile = open(\"data/data_float.txt\",\"r\")\n",
    "count = 0 \n",
    "while True:\n",
    "    count += 1\n",
    "    # Get next line from file\n",
    "    line = myFile.readline()\n",
    "    myList.append(line.split(\"              \")) #maximum split is defined because of the different size of spaces. \n",
    "    # if line is empty\n",
    "    # end of file is reached\n",
    "    if not line:\n",
    "        break\n",
    "    #print(\"Line{}: {}\".format(count, line.strip()))\n",
    "myFile = open(\"data/data_float.txt\",\"w\")\n",
    "\n",
    "for myLine in myList:\n",
    "    myChangedStr = myLine[0].replace(\" \",\",\")\n",
    "    myFile.writelines(myChangedStr) \n",
    "    \n",
    "myFile.close()\n",
    "\n"
   ]
  },
  {
   "cell_type": "markdown",
   "metadata": {},
   "source": [
    "2\\. Load the file *user_data.json*, which can be found at:\n",
    "\n",
    "- https://www.dropbox.com/s/sz5klcdpckc39hd/user_data.json\n",
    "\n",
    "and filter the data by the \"CreditCardType\" when it equals to \"American Express\". Than save the data to a new CSV file."
   ]
  },
  {
   "cell_type": "code",
   "execution_count": 91,
   "metadata": {},
   "outputs": [],
   "source": [
    "import json  \n",
    "\n",
    "with open('data/user_data.json', 'r') as f:\n",
    "    data = json.load(f)\n",
    "\n",
    "    \n",
    "    \n",
    "items_to_keep = [item for item in data if item['CreditCardType'] == 'American Express']\n",
    "\n",
    "with open('data/user_data.json', 'w') as f:\n",
    "    json.dump(items_to_keep, f)\n",
    "\n",
    "\n",
    "df = pd.read_json (r'data/user_data.json')\n",
    "df.to_csv (r'data/user_data.csv', index = None)\n",
    "    \n",
    "\n",
    "\n"
   ]
  },
  {
   "cell_type": "markdown",
   "metadata": {},
   "source": [
    "\n",
    "First, I have tried to delete the object inside for loop but index was currently changing.\n",
    "Finally, indexes are kept in a list and objects inside the data has been deleted in one shot.\n",
    "\n"
   ]
  },
  {
   "cell_type": "markdown",
   "metadata": {},
   "source": [
    "3\\. Load the file from this url:\n",
    "\n",
    "- https://www.dropbox.com/s/kgshemfgk22iy79/mushrooms_categorized.csv\n",
    "\n",
    "with Pandas. \n",
    "\n",
    "+ explore and print the DataFrame\n",
    "+ calculate, using `groupby()`, the average value of each feature, separately for each class\n",
    "+ save the file in a JSON format."
   ]
  },
  {
   "cell_type": "code",
   "execution_count": 92,
   "metadata": {},
   "outputs": [
    {
     "name": "stdout",
     "output_type": "stream",
     "text": [
      "      class  cap-shape  cap-surface  cap-color  bruises  odor  \\\n",
      "0         1          5            2          4        1     6   \n",
      "1         0          5            2          9        1     0   \n",
      "2         0          0            2          8        1     3   \n",
      "3         1          5            3          8        1     6   \n",
      "4         0          5            2          3        0     5   \n",
      "...     ...        ...          ...        ...      ...   ...   \n",
      "8119      0          3            2          4        0     5   \n",
      "8120      0          5            2          4        0     5   \n",
      "8121      0          2            2          4        0     5   \n",
      "8122      1          3            3          4        0     8   \n",
      "8123      0          5            2          4        0     5   \n",
      "\n",
      "      gill-attachment  gill-spacing  gill-size  gill-color  ...  \\\n",
      "0                   1             0          1           4  ...   \n",
      "1                   1             0          0           4  ...   \n",
      "2                   1             0          0           5  ...   \n",
      "3                   1             0          1           5  ...   \n",
      "4                   1             1          0           4  ...   \n",
      "...               ...           ...        ...         ...  ...   \n",
      "8119                0             0          0          11  ...   \n",
      "8120                0             0          0          11  ...   \n",
      "8121                0             0          0           5  ...   \n",
      "8122                1             0          1           0  ...   \n",
      "8123                0             0          0          11  ...   \n",
      "\n",
      "      stalk-surface-below-ring  stalk-color-above-ring  \\\n",
      "0                            2                       7   \n",
      "1                            2                       7   \n",
      "2                            2                       7   \n",
      "3                            2                       7   \n",
      "4                            2                       7   \n",
      "...                        ...                     ...   \n",
      "8119                         2                       5   \n",
      "8120                         2                       5   \n",
      "8121                         2                       5   \n",
      "8122                         1                       7   \n",
      "8123                         2                       5   \n",
      "\n",
      "      stalk-color-below-ring  veil-type  veil-color  ring-number  ring-type  \\\n",
      "0                          7          0           2            1          4   \n",
      "1                          7          0           2            1          4   \n",
      "2                          7          0           2            1          4   \n",
      "3                          7          0           2            1          4   \n",
      "4                          7          0           2            1          0   \n",
      "...                      ...        ...         ...          ...        ...   \n",
      "8119                       5          0           1            1          4   \n",
      "8120                       5          0           0            1          4   \n",
      "8121                       5          0           1            1          4   \n",
      "8122                       7          0           2            1          0   \n",
      "8123                       5          0           1            1          4   \n",
      "\n",
      "      spore-print-color  population  habitat  \n",
      "0                     2           3        5  \n",
      "1                     3           2        1  \n",
      "2                     3           2        3  \n",
      "3                     2           3        5  \n",
      "4                     3           0        1  \n",
      "...                 ...         ...      ...  \n",
      "8119                  0           1        2  \n",
      "8120                  0           4        2  \n",
      "8121                  0           1        2  \n",
      "8122                  7           4        2  \n",
      "8123                  4           1        2  \n",
      "\n",
      "[8124 rows x 23 columns]\n",
      "       cap-shape  cap-surface  cap-color   bruises      odor  gill-attachment  \\\n",
      "class                                                                           \n",
      "0       3.266160     1.615970   4.581749  0.653992  4.334601         0.954373   \n",
      "1       3.436159     2.055158   4.421859  0.159346  3.940756         0.995403   \n",
      "\n",
      "       gill-spacing  gill-size  gill-color  stalk-shape  ...  \\\n",
      "class                                                    ...   \n",
      "0          0.285171   0.068441    6.622624     0.615970  ...   \n",
      "1          0.028601   0.567926    2.863636     0.514811  ...   \n",
      "\n",
      "       stalk-surface-below-ring  stalk-color-above-ring  \\\n",
      "class                                                     \n",
      "0                      1.798479                6.098859   \n",
      "1                      1.394280                5.512768   \n",
      "\n",
      "       stalk-color-below-ring  veil-type  veil-color  ring-number  ring-type  \\\n",
      "class                                                                          \n",
      "0                    6.064639        0.0    1.931559     1.125475   3.007605   \n",
      "1                    5.504597        0.0    2.002043     1.009193   1.522983   \n",
      "\n",
      "       spore-print-color  population   habitat  \n",
      "class                                           \n",
      "0               3.201521    3.283270  1.148289  \n",
      "1               4.021450    4.031665  1.895812  \n",
      "\n",
      "[2 rows x 22 columns]\n"
     ]
    }
   ],
   "source": [
    "import pandas as pd\n",
    "\n",
    "file_name= \"data/mushrooms_categorized.csv\"\n",
    "data = pd.read_csv(file_name)\n",
    "\n",
    "print(data)\n",
    "#!cat data/mushrooms_categorized.csv\n",
    "#print(data.columns[0])\n",
    "\n",
    "groupedData = data.groupby('class').mean()\n",
    "print(groupedData)\n",
    "#print(data)\n",
    "\n",
    "json_data = {}\n",
    "with open(file_name, encoding='utf-8') as csvf:\n",
    "        csvReader = csv.DictReader(csvf)\n",
    "        count=0\n",
    "        for rows in csvReader:\n",
    "             \n",
    "            key = str(count)\n",
    "            json_data[key] = rows\n",
    "            count+=1\n",
    "with open(\"data/mushrooms_categorized.json\", 'w', encoding='utf-8') as jsonf:\n",
    "    jsonf.write(json.dumps(json_data, indent=4))\n",
    "    \n",
    "    "
   ]
  },
  {
   "cell_type": "markdown",
   "metadata": {},
   "source": [
    "4\\. Get the binary file named *credit_card.dat* from this address:\n",
    "\n",
    "- https://www.dropbox.com/s/8m0syw2tkul3dap/credit_card.dat\n",
    "\n",
    "and convert the data into the real credit card number, knowing that:\n",
    "- each line corresponds to a credit card number, which consists of 16 characters (which are numbers in the 0-9 range) divided in 4 blocks, with a whitespace between each block\n",
    "- each character is written using a 6 bit binary representation (including the whitespace)\n",
    "- the final 4 bits of each line are a padding used to determine the end of the line, and can be ignored\n",
    "\n",
    "*Hint*: convert the binary numbers to the decimal representation first, and then use the `chr()` function to convert the latter to a char"
   ]
  },
  {
   "cell_type": "code",
   "execution_count": 93,
   "metadata": {},
   "outputs": [
    {
     "name": "stdout",
     "output_type": "stream",
     "text": [
      "last 4 digits\n",
      "['7648 5673 3775 2271', '3257 8247 3354 2266', '2722 0001 4011 6652', '0661 3063 3742 3150', '0432 1608 1462 4742', '5827 2027 8785 7303', '5774 8528 2087 1117', '8140 1210 6352 2845', '5764 1133 7301 7100', '6456 1737 4126 6726', '1228 8631 7382 0000', '7051 0160 5374 3166', '0618 3587 1630 6376', '1545 5454 7444 5636', '6735 3116 3202 6834', '7287 5011 1547 8413', '7033 2607 3328 4200', '2568 5244 1874 5024', '1684 2253 7570 7118', '0672 2576 0575 6631', '6332 8353 8787 1340', '1813 3361 1175 4211', '2477 6450 8840 2368', '5512 3505 2563 1326', '3083 7882 0621 0025', '4521 5148 8045 0334', '7563 3654 8713 5787', '8324 2664 0476 5561', '0565 2504 7168 3510', '5107 5507 1767 0738', '2462 1821 2448 1443', '2788 0638 6861 6554', '5851 5873 5474 0547', '0670 1004 4013 2655', '5874 5506 3048 0806', '2805 5401 8462 1260', '5083 8406 6310 1862', '1076 1445 3013 2266', '8440 4804 4844 5277', '4758 6141 0686 1387', '7586 0675 0315 2568', '2544 1258 7432 5165', '3474 5023 4434 5626', '1410 0270 0434 5086', '7315 4446 1104 4215', '0224 7742 8300 0266', '0170 2700 3145 0640', '2006 2437 8054 1600', '8142 4055 1776 0026', '3026 7380 1241 1084']\n"
     ]
    }
   ],
   "source": [
    "with open(\"data/credit_card.dat\", \"rb\") as file:\n",
    "    data = file.read().splitlines()\n",
    "    #print(data)\n",
    "\n",
    "\n",
    "myCardNumbers = []\n",
    "for item_bytes in data:\n",
    "    item = item_bytes.decode(\"utf-8\")\n",
    "#print(item)\n",
    "#print(type(item))\n",
    "    if len(item) == 118:\n",
    "        eachCard = []\n",
    "        for i in range(19):\n",
    "            eachCard.append(chr(int(item[i*6:i*6+6],base = 2)))\n",
    "            #print(int(item[i*6:i*6+6],base = 2))\n",
    "        myCardNumbers.append(''.join(eachCard))\n",
    "    else:\n",
    "        print(\"last 4 digits\")\n",
    "\n",
    "print(myCardNumbers)"
   ]
  },
  {
   "cell_type": "markdown",
   "metadata": {},
   "source": [
    "5\\. **Optional**: load the remote file:\n",
    "\n",
    "- https://www.dropbox.com/s/aamg1apjhclecka/regression_generated.csv\n",
    "\n",
    "with Pandas and create a scatter plot with all possible combinations of the following features:\n",
    "    \n",
    "  + features_1\n",
    "  + features_2\n",
    "  + features_3"
   ]
  },
  {
   "cell_type": "code",
   "execution_count": null,
   "metadata": {},
   "outputs": [],
   "source": []
  }
 ],
 "metadata": {
  "kernelspec": {
   "display_name": "Python 3",
   "language": "python",
   "name": "python3"
  },
  "language_info": {
   "codemirror_mode": {
    "name": "ipython",
    "version": 3
   },
   "file_extension": ".py",
   "mimetype": "text/x-python",
   "name": "python",
   "nbconvert_exporter": "python",
   "pygments_lexer": "ipython3",
   "version": "3.8.8"
  }
 },
 "nbformat": 4,
 "nbformat_minor": 2
}
