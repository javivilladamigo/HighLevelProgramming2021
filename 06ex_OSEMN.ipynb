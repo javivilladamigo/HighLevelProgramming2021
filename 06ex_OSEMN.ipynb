{
  "nbformat": 4,
  "nbformat_minor": 0,
  "metadata": {
    "kernelspec": {
      "display_name": "Python 3",
      "language": "python",
      "name": "python3"
    },
    "language_info": {
      "codemirror_mode": {
        "name": "ipython",
        "version": 3
      },
      "file_extension": ".py",
      "mimetype": "text/x-python",
      "name": "python",
      "nbconvert_exporter": "python",
      "pygments_lexer": "ipython3",
      "version": "3.8.8"
    },
    "colab": {
      "name": "06ex_OSEMN.ipynb",
      "provenance": [],
      "collapsed_sections": [],
      "include_colab_link": true
    }
  },
  "cells": [
    {
      "cell_type": "markdown",
      "metadata": {
        "id": "view-in-github",
        "colab_type": "text"
      },
      "source": [
        "<a href=\"https://colab.research.google.com/github/sevvalaz/HighLevelProgramming2021/blob/AzSevval/06ex_OSEMN.ipynb\" target=\"_parent\"><img src=\"https://colab.research.google.com/assets/colab-badge.svg\" alt=\"Open In Colab\"/></a>"
      ]
    },
    {
      "cell_type": "code",
      "metadata": {
        "id": "-PFS4E0P2vfh"
      },
      "source": [
        "import pandas as pd\n",
        "import numpy as np"
      ],
      "execution_count": null,
      "outputs": []
    },
    {
      "cell_type": "markdown",
      "metadata": {
        "id": "Njlx2_o82vfl"
      },
      "source": [
        "1\\. Perform the following operations on plain `txt` files:\n",
        "\n",
        "+ create a list of integrer numbers and then save it to a text file named \"data_int.txt\". Run the `cat` command to print the content of the file.\n",
        "+ create a matrix of 5x5 floats and then save it to a text file named \"data_float.txt\". Use the `cat` command to print the content of the file.\n",
        "+ load the txt file of the previous point and convert it to a csv file by hand."
      ]
    },
    {
      "cell_type": "code",
      "metadata": {
        "colab": {
          "base_uri": "https://localhost:8080/"
        },
        "id": "sxig1Kvk2vfm",
        "outputId": "3b3a47a5-fce4-4ab4-e5ef-39a8e68ecfc8"
      },
      "source": [
        "import random\n",
        "\n",
        "randomlist = []\n",
        "for i in range(0,25):\n",
        "    n = random.randint(1,300)\n",
        "    randomlist.append(n)\n",
        "    \n",
        "textfile = open(\"data_int.txt\", \"w\")\n",
        "for i in randomlist:\n",
        "    textfile.write(str(i) + \"\\n\")\n",
        "textfile.close()\n",
        "\n",
        "!cat data_input.txt"
      ],
      "execution_count": null,
      "outputs": [
        {
          "output_type": "stream",
          "name": "stdout",
          "text": [
            "257\n",
            "90\n",
            "168\n",
            "147\n",
            "291\n",
            "95\n",
            "274\n",
            "188\n",
            "200\n",
            "206\n",
            "178\n",
            "121\n",
            "272\n",
            "259\n",
            "251\n",
            "126\n",
            "210\n",
            "29\n",
            "94\n",
            "19\n",
            "211\n",
            "73\n",
            "126\n",
            "148\n",
            "223\n"
          ]
        }
      ]
    },
    {
      "cell_type": "code",
      "metadata": {
        "colab": {
          "base_uri": "https://localhost:8080/"
        },
        "id": "bFiQwM-42vfo",
        "outputId": "f5d192cf-5109-4076-a340-26d801aa8d6b"
      },
      "source": [
        "float_array = np.arange(0, 2.5, 0.1).reshape(5,5)\n",
        "mat = np.matrix(float_array)\n",
        "print(mat)\n",
        "with open('data_float.txt','wb') as f:\n",
        "    for line in mat:\n",
        "        np.savetxt(f, line, fmt='%.1f')\n",
        "\n",
        "!cat data_float.txt"
      ],
      "execution_count": null,
      "outputs": [
        {
          "output_type": "stream",
          "name": "stdout",
          "text": [
            "[[0.  0.1 0.2 0.3 0.4]\n",
            " [0.5 0.6 0.7 0.8 0.9]\n",
            " [1.  1.1 1.2 1.3 1.4]\n",
            " [1.5 1.6 1.7 1.8 1.9]\n",
            " [2.  2.1 2.2 2.3 2.4]]\n",
            "0.0 0.1 0.2 0.3 0.4\n",
            "0.5 0.6 0.7 0.8 0.9\n",
            "1.0 1.1 1.2 1.3 1.4\n",
            "1.5 1.6 1.7 1.8 1.9\n",
            "2.0 2.1 2.2 2.3 2.4\n"
          ]
        }
      ]
    },
    {
      "cell_type": "code",
      "metadata": {
        "colab": {
          "base_uri": "https://localhost:8080/",
          "height": 202
        },
        "id": "JuxGPkc42vfp",
        "outputId": "0d7e468e-0415-4e84-9f92-c6a469354f97"
      },
      "source": [
        "import csv\n",
        "#just for previous point\n",
        "with open('data_float.txt', 'r') as in_file:\n",
        "    stripped = (line.strip() for line in in_file)\n",
        "    lines = (line.split(\",\") for line in stripped if line)\n",
        "    with open('data_float.csv', 'w') as out_file:\n",
        "        writer = csv.writer(out_file)\n",
        "        writer.writerows(lines)\n",
        "\n",
        "data=pd.read_csv(\"data_float.csv\",header=None)\n",
        "data"
      ],
      "execution_count": null,
      "outputs": [
        {
          "output_type": "execute_result",
          "data": {
            "text/html": [
              "<div>\n",
              "<style scoped>\n",
              "    .dataframe tbody tr th:only-of-type {\n",
              "        vertical-align: middle;\n",
              "    }\n",
              "\n",
              "    .dataframe tbody tr th {\n",
              "        vertical-align: top;\n",
              "    }\n",
              "\n",
              "    .dataframe thead th {\n",
              "        text-align: right;\n",
              "    }\n",
              "</style>\n",
              "<table border=\"1\" class=\"dataframe\">\n",
              "  <thead>\n",
              "    <tr style=\"text-align: right;\">\n",
              "      <th></th>\n",
              "      <th>0</th>\n",
              "    </tr>\n",
              "  </thead>\n",
              "  <tbody>\n",
              "    <tr>\n",
              "      <th>0</th>\n",
              "      <td>0.0 0.1 0.2 0.3 0.4</td>\n",
              "    </tr>\n",
              "    <tr>\n",
              "      <th>1</th>\n",
              "      <td>0.5 0.6 0.7 0.8 0.9</td>\n",
              "    </tr>\n",
              "    <tr>\n",
              "      <th>2</th>\n",
              "      <td>1.0 1.1 1.2 1.3 1.4</td>\n",
              "    </tr>\n",
              "    <tr>\n",
              "      <th>3</th>\n",
              "      <td>1.5 1.6 1.7 1.8 1.9</td>\n",
              "    </tr>\n",
              "    <tr>\n",
              "      <th>4</th>\n",
              "      <td>2.0 2.1 2.2 2.3 2.4</td>\n",
              "    </tr>\n",
              "  </tbody>\n",
              "</table>\n",
              "</div>"
            ],
            "text/plain": [
              "                     0\n",
              "0  0.0 0.1 0.2 0.3 0.4\n",
              "1  0.5 0.6 0.7 0.8 0.9\n",
              "2  1.0 1.1 1.2 1.3 1.4\n",
              "3  1.5 1.6 1.7 1.8 1.9\n",
              "4  2.0 2.1 2.2 2.3 2.4"
            ]
          },
          "metadata": {},
          "execution_count": 4
        }
      ]
    },
    {
      "cell_type": "markdown",
      "metadata": {
        "id": "Jepnx9rg2vfq"
      },
      "source": [
        "2\\. Load the file *user_data.json*, which can be found at:\n",
        "\n",
        "- https://www.dropbox.com/s/sz5klcdpckc39hd/user_data.json\n",
        "\n",
        "and filter the data by the \"CreditCardType\" when it equals to \"American Express\". Than save the data to a new CSV file."
      ]
    },
    {
      "cell_type": "code",
      "metadata": {
        "colab": {
          "base_uri": "https://localhost:8080/"
        },
        "id": "v_P-NJ6b2vfr",
        "outputId": "f7fe08b1-8fc8-46ca-ac2c-ad5510c5697b"
      },
      "source": [
        "!wget https://www.dropbox.com/s/sz5klcdpckc39hd/user_data.json -P data/"
      ],
      "execution_count": null,
      "outputs": [
        {
          "output_type": "stream",
          "name": "stdout",
          "text": [
            "--2021-11-29 20:35:09--  https://www.dropbox.com/s/sz5klcdpckc39hd/user_data.json\n",
            "Resolving www.dropbox.com (www.dropbox.com)... 162.125.7.18, 2620:100:6035:18::a27d:5512\n",
            "Connecting to www.dropbox.com (www.dropbox.com)|162.125.7.18|:443... connected.\n",
            "HTTP request sent, awaiting response... 301 Moved Permanently\n",
            "Location: /s/raw/sz5klcdpckc39hd/user_data.json [following]\n",
            "--2021-11-29 20:35:10--  https://www.dropbox.com/s/raw/sz5klcdpckc39hd/user_data.json\n",
            "Reusing existing connection to www.dropbox.com:443.\n",
            "HTTP request sent, awaiting response... 302 Found\n",
            "Location: https://uc063ab503b6dd7a3216716f6eb3.dl.dropboxusercontent.com/cd/0/inline/Ba6Peicvy5Ku2K5Wck23o_sbfFbqRXAyDbu7SgSBCTTrdBNg3kDmnbm8Z9nD02KcUPEronXRZqZtbC2jYW1jq0hvoARNUJnM-C5iSk6iIbM6tngcoHDgmTLICHZ1mlY_RYkZnaWNoAp2c3HcsTvaEMvU/file# [following]\n",
            "--2021-11-29 20:35:10--  https://uc063ab503b6dd7a3216716f6eb3.dl.dropboxusercontent.com/cd/0/inline/Ba6Peicvy5Ku2K5Wck23o_sbfFbqRXAyDbu7SgSBCTTrdBNg3kDmnbm8Z9nD02KcUPEronXRZqZtbC2jYW1jq0hvoARNUJnM-C5iSk6iIbM6tngcoHDgmTLICHZ1mlY_RYkZnaWNoAp2c3HcsTvaEMvU/file\n",
            "Resolving uc063ab503b6dd7a3216716f6eb3.dl.dropboxusercontent.com (uc063ab503b6dd7a3216716f6eb3.dl.dropboxusercontent.com)... 162.125.81.15, 2620:100:6035:15::a27d:550f\n",
            "Connecting to uc063ab503b6dd7a3216716f6eb3.dl.dropboxusercontent.com (uc063ab503b6dd7a3216716f6eb3.dl.dropboxusercontent.com)|162.125.81.15|:443... connected.\n",
            "HTTP request sent, awaiting response... 200 OK\n",
            "Length: 40417 (39K) [text/plain]\n",
            "Saving to: ‘data/user_data.json’\n",
            "\n",
            "user_data.json      100%[===================>]  39.47K   212KB/s    in 0.2s    \n",
            "\n",
            "2021-11-29 20:35:11 (212 KB/s) - ‘data/user_data.json’ saved [40417/40417]\n",
            "\n"
          ]
        }
      ]
    },
    {
      "cell_type": "code",
      "metadata": {
        "id": "sFltGV5R4iJ_"
      },
      "source": [
        "import json\n",
        "data = json.load(open('data/user_data.json'))\n",
        "output_dict = [x for x in data if x[\"CreditCardType\"] == \"American Express\"]\n",
        "output_json = json.dumps(output_dict)\n",
        "#print (output_json)\n",
        "f = open('user_data_american_express.csv',\"w\")\n",
        "csv_file = csv.writer(f)\n",
        "for item in output_json:\n",
        "    csv_file.writerows(item) \n",
        "f.close()"
      ],
      "execution_count": null,
      "outputs": []
    },
    {
      "cell_type": "markdown",
      "metadata": {
        "id": "uPqzeiN02vfr"
      },
      "source": [
        "3\\. Load the file from this url:\n",
        "\n",
        "- https://www.dropbox.com/s/kgshemfgk22iy79/mushrooms_categorized.csv\n",
        "\n",
        "with Pandas. \n",
        "\n",
        "+ explore and print the DataFrame\n",
        "+ calculate, using `groupby()`, the average value of each feature, separately for each class\n",
        "+ save the file in a JSON format."
      ]
    },
    {
      "cell_type": "code",
      "metadata": {
        "colab": {
          "base_uri": "https://localhost:8080/"
        },
        "id": "nrO9-VlT2vfs",
        "outputId": "f1487029-77f4-4a2a-92eb-a51dd377fa74"
      },
      "source": [
        "!wget https://www.dropbox.com/s/kgshemfgk22iy79/mushrooms_categorized.csv -P data/\n",
        "\n",
        "file_name= \"data/mushrooms_categorized.csv\"\n",
        "data = pd.read_csv(file_name)\n",
        "print(data.head())\n",
        "\n",
        "print(data[\"class\"].unique())"
      ],
      "execution_count": null,
      "outputs": [
        {
          "output_type": "stream",
          "name": "stdout",
          "text": [
            "--2021-11-29 20:35:20--  https://www.dropbox.com/s/kgshemfgk22iy79/mushrooms_categorized.csv\n",
            "Resolving www.dropbox.com (www.dropbox.com)... 162.125.7.18, 2620:100:6035:18::a27d:5512\n",
            "Connecting to www.dropbox.com (www.dropbox.com)|162.125.7.18|:443... connected.\n",
            "HTTP request sent, awaiting response... 301 Moved Permanently\n",
            "Location: /s/raw/kgshemfgk22iy79/mushrooms_categorized.csv [following]\n",
            "--2021-11-29 20:35:21--  https://www.dropbox.com/s/raw/kgshemfgk22iy79/mushrooms_categorized.csv\n",
            "Reusing existing connection to www.dropbox.com:443.\n",
            "HTTP request sent, awaiting response... 302 Found\n",
            "Location: https://uc76f42a5c15834faa97b0eb4fc3.dl.dropboxusercontent.com/cd/0/inline/Ba4uA5OVrbrwArNLYI1j6AsJWZiMFYFJDeTz8Ch5ai_khPrdqWD5tp3fWnvbHCRpyAfe2V-wAtXWI_VyFp_25hdt18B66J_9ZtBHl3oK2bxA97984QVLlm-iTyXjAnzGtJAFzg4vKEbLtLOzD2hLl_0b/file# [following]\n",
            "--2021-11-29 20:35:21--  https://uc76f42a5c15834faa97b0eb4fc3.dl.dropboxusercontent.com/cd/0/inline/Ba4uA5OVrbrwArNLYI1j6AsJWZiMFYFJDeTz8Ch5ai_khPrdqWD5tp3fWnvbHCRpyAfe2V-wAtXWI_VyFp_25hdt18B66J_9ZtBHl3oK2bxA97984QVLlm-iTyXjAnzGtJAFzg4vKEbLtLOzD2hLl_0b/file\n",
            "Resolving uc76f42a5c15834faa97b0eb4fc3.dl.dropboxusercontent.com (uc76f42a5c15834faa97b0eb4fc3.dl.dropboxusercontent.com)... 162.125.81.15, 2620:100:6035:15::a27d:550f\n",
            "Connecting to uc76f42a5c15834faa97b0eb4fc3.dl.dropboxusercontent.com (uc76f42a5c15834faa97b0eb4fc3.dl.dropboxusercontent.com)|162.125.81.15|:443... connected.\n",
            "HTTP request sent, awaiting response... 200 OK\n",
            "Length: 375292 (366K) [text/plain]\n",
            "Saving to: ‘data/mushrooms_categorized.csv’\n",
            "\n",
            "mushrooms_categoriz 100%[===================>] 366.50K   599KB/s    in 0.6s    \n",
            "\n",
            "2021-11-29 20:35:22 (599 KB/s) - ‘data/mushrooms_categorized.csv’ saved [375292/375292]\n",
            "\n",
            "   class  cap-shape  cap-surface  ...  spore-print-color  population  habitat\n",
            "0      1          5            2  ...                  2           3        5\n",
            "1      0          5            2  ...                  3           2        1\n",
            "2      0          0            2  ...                  3           2        3\n",
            "3      1          5            3  ...                  2           3        5\n",
            "4      0          5            2  ...                  3           0        1\n",
            "\n",
            "[5 rows x 23 columns]\n",
            "[1 0]\n"
          ]
        }
      ]
    },
    {
      "cell_type": "code",
      "metadata": {
        "id": "6BnPb0Ldv98m"
      },
      "source": [
        "grouped_df = data.groupby([\"class\"]).mean()\n",
        "grouped_df\n",
        "\n",
        "out = grouped_df.to_json(orient='records')[1:-1].replace('},{', '} {')\n",
        "with open('mushrooms_categorized.txt', 'w') as f:\n",
        "    f.write(out)"
      ],
      "execution_count": null,
      "outputs": []
    },
    {
      "cell_type": "markdown",
      "metadata": {
        "id": "miU_MNuF2vft"
      },
      "source": [
        "4\\. Get the binary file named *credit_card.dat* from this address:\n",
        "\n",
        "- https://www.dropbox.com/s/8m0syw2tkul3dap/credit_card.dat\n",
        "\n",
        "and convert the data into the real credit card number, knowing that:\n",
        "- each line corresponds to a credit card number, which consists of 16 characters (which are numbers in the 0-9 range) divided in 4 blocks, with a whitespace between each block\n",
        "- each character is written using a 6 bit binary representation (including the whitespace)\n",
        "- the final 4 bits of each line are a padding used to determine the end of the line, and can be ignored\n",
        "\n",
        "*Hint*: convert the binary numbers to the decimal representation first, and then use the `chr()` function to convert the latter to a char"
      ]
    },
    {
      "cell_type": "code",
      "metadata": {
        "id": "ieHx1fHe2vft",
        "colab": {
          "base_uri": "https://localhost:8080/"
        },
        "outputId": "bc6a3d59-2d96-412b-dd89-43ef10006c97"
      },
      "source": [
        "!wget https://www.dropbox.com/s/8m0syw2tkul3dap/credit_card.dat -P data/\n",
        "\n",
        "with open('data/credit_card.dat', 'rb') as file:\n",
        "    credit_cards_numbers = ''\n",
        "    for line in file:\n",
        "        cc = ''\n",
        "        for i in range(0, len(line), 6):\n",
        "            cc += chr(int(line[i:i+6], 2))\n",
        "        credit_cards_numbers += cc\n",
        "    print(credit_card_numbers)"
      ],
      "execution_count": null,
      "outputs": [
        {
          "output_type": "stream",
          "name": "stdout",
          "text": [
            "--2021-11-29 20:40:54--  https://www.dropbox.com/s/8m0syw2tkul3dap/credit_card.dat\n",
            "Resolving www.dropbox.com (www.dropbox.com)... 162.125.81.18, 2620:100:6035:18::a27d:5512\n",
            "Connecting to www.dropbox.com (www.dropbox.com)|162.125.81.18|:443... connected.\n",
            "HTTP request sent, awaiting response... 301 Moved Permanently\n",
            "Location: /s/raw/8m0syw2tkul3dap/credit_card.dat [following]\n",
            "--2021-11-29 20:40:54--  https://www.dropbox.com/s/raw/8m0syw2tkul3dap/credit_card.dat\n",
            "Reusing existing connection to www.dropbox.com:443.\n",
            "HTTP request sent, awaiting response... 302 Found\n",
            "Location: https://uca073f6a80b6f21dc4b8f39f2f7.dl.dropboxusercontent.com/cd/0/inline/Ba5Wu5CLVzmgxAFNEct5xneRFoaH1ke-BwJ3nBRaHBCiZ0l9QRPd-4OPk-PthyJG6ZpKDjyMy8SonNLL392Ck4Znrlxha12wesr691gTdWVKOFep1nZW5lpHWK_9xSJuSjdKhjFW7hykuT-KzVKBdpNI/file# [following]\n",
            "--2021-11-29 20:40:54--  https://uca073f6a80b6f21dc4b8f39f2f7.dl.dropboxusercontent.com/cd/0/inline/Ba5Wu5CLVzmgxAFNEct5xneRFoaH1ke-BwJ3nBRaHBCiZ0l9QRPd-4OPk-PthyJG6ZpKDjyMy8SonNLL392Ck4Znrlxha12wesr691gTdWVKOFep1nZW5lpHWK_9xSJuSjdKhjFW7hykuT-KzVKBdpNI/file\n",
            "Resolving uca073f6a80b6f21dc4b8f39f2f7.dl.dropboxusercontent.com (uca073f6a80b6f21dc4b8f39f2f7.dl.dropboxusercontent.com)... 162.125.81.15, 2620:100:6035:15::a27d:550f\n",
            "Connecting to uca073f6a80b6f21dc4b8f39f2f7.dl.dropboxusercontent.com (uca073f6a80b6f21dc4b8f39f2f7.dl.dropboxusercontent.com)|162.125.81.15|:443... connected.\n",
            "HTTP request sent, awaiting response... 302 Found\n",
            "Location: /cd/0/inline2/Ba7Vp9eNAGkhvj7omORjoZOiHIBg04Y4zcJumzL1BQMKiAEeaE8wJpyjASjs5niJel-6AVW7X8oK0DmD_9nRljjEAJqHx58vv40uOZTmpRc8aiKvn9uCIvnhYrBUVj7CpCpATC1HyYTEjr80amKVvNECJgec2wbeGL0gbCDhUJg3M7CtCTHwQ2Jktw6xPWibIMLbKVbNI_yZc1wTxpGHW4yEgapRWv5EQy1yrtxFuQqr5a52D6PP1picwSDpPoT2ZuFU829fLWGWcaeJDiWXa-668JCVIk-Gai4Y-z0PSc8uJT4_FaBkrbMUiF-Us-q742VbvMRmtVb3G2PtZhRpXc29svRJtDsZ8zbYUt9j254thRtd4C03JTluvMvAEQggRIs/file [following]\n",
            "--2021-11-29 20:40:55--  https://uca073f6a80b6f21dc4b8f39f2f7.dl.dropboxusercontent.com/cd/0/inline2/Ba7Vp9eNAGkhvj7omORjoZOiHIBg04Y4zcJumzL1BQMKiAEeaE8wJpyjASjs5niJel-6AVW7X8oK0DmD_9nRljjEAJqHx58vv40uOZTmpRc8aiKvn9uCIvnhYrBUVj7CpCpATC1HyYTEjr80amKVvNECJgec2wbeGL0gbCDhUJg3M7CtCTHwQ2Jktw6xPWibIMLbKVbNI_yZc1wTxpGHW4yEgapRWv5EQy1yrtxFuQqr5a52D6PP1picwSDpPoT2ZuFU829fLWGWcaeJDiWXa-668JCVIk-Gai4Y-z0PSc8uJT4_FaBkrbMUiF-Us-q742VbvMRmtVb3G2PtZhRpXc29svRJtDsZ8zbYUt9j254thRtd4C03JTluvMvAEQggRIs/file\n",
            "Reusing existing connection to uca073f6a80b6f21dc4b8f39f2f7.dl.dropboxusercontent.com:443.\n",
            "HTTP request sent, awaiting response... 200 OK\n",
            "Length: 5955 (5.8K) [application/x-ns-proxy-autoconfig]\n",
            "Saving to: ‘data/credit_card.dat.1’\n",
            "\n",
            "credit_card.dat.1   100%[===================>]   5.82K  --.-KB/s    in 0s      \n",
            "\n",
            "2021-11-29 20:40:55 (749 MB/s) - ‘data/credit_card.dat.1’ saved [5955/5955]\n",
            "\n",
            "7648 5673 3775 2271\n",
            "3257 8247 3354 2266\n",
            "2722 0001 4011 6652\n",
            "0661 3063 3742 3150\n",
            "0432 1608 1462 4742\n",
            "5827 2027 8785 7303\n",
            "5774 8528 2087 1117\n",
            "8140 1210 6352 2845\n",
            "5764 1133 7301 7100\n",
            "6456 1737 4126 6726\n",
            "1228 8631 7382 0000\n",
            "7051 0160 5374 3166\n",
            "0618 3587 1630 6376\n",
            "1545 5454 7444 5636\n",
            "6735 3116 3202 6834\n",
            "7287 5011 1547 8413\n",
            "7033 2607 3328 4200\n",
            "2568 5244 1874 5024\n",
            "1684 2253 7570 7118\n",
            "0672 2576 0575 6631\n",
            "6332 8353 8787 1340\n",
            "1813 3361 1175 4211\n",
            "2477 6450 8840 2368\n",
            "5512 3505 2563 1326\n",
            "3083 7882 0621 0025\n",
            "4521 5148 8045 0334\n",
            "7563 3654 8713 5787\n",
            "8324 2664 0476 5561\n",
            "0565 2504 7168 3510\n",
            "5107 5507 1767 0738\n",
            "2462 1821 2448 1443\n",
            "2788 0638 6861 6554\n",
            "5851 5873 5474 0547\n",
            "0670 1004 4013 2655\n",
            "5874 5506 3048 0806\n",
            "2805 5401 8462 1260\n",
            "5083 8406 6310 1862\n",
            "1076 1445 3013 2266\n",
            "8440 4804 4844 5277\n",
            "4758 6141 0686 1387\n",
            "7586 0675 0315 2568\n",
            "2544 1258 7432 5165\n",
            "3474 5023 4434 5626\n",
            "1410 0270 0434 5086\n",
            "7315 4446 1104 4215\n",
            "0224 7742 8300 0266\n",
            "0170 2700 3145 0640\n",
            "2006 2437 8054 1600\n",
            "8142 4055 1776 0026\n",
            "3026 7380 1241 1084\n",
            "\n",
            "\n"
          ]
        }
      ]
    },
    {
      "cell_type": "markdown",
      "metadata": {
        "id": "jaPEOazu2vfu"
      },
      "source": [
        "5\\. **Optional**: load the remote file:\n",
        "\n",
        "- https://www.dropbox.com/s/aamg1apjhclecka/regression_generated.csv\n",
        "\n",
        "with Pandas and create a scatter plot with all possible combinations of the following features:\n",
        "    \n",
        "  + features_1\n",
        "  + features_2\n",
        "  + features_3"
      ]
    },
    {
      "cell_type": "code",
      "metadata": {
        "colab": {
          "base_uri": "https://localhost:8080/"
        },
        "id": "D-nMqo212vfu",
        "outputId": "226a6ba6-06b3-4bf5-d630-acff462e1e0c"
      },
      "source": [
        "!wget https://www.dropbox.com/s/aamg1apjhclecka/regression_generated.csv -P data/\n",
        "\n",
        "file_name= \"data/regression_generated.csv\"\n",
        "data = pd.read_csv(file_name)\n",
        "print(data.head())"
      ],
      "execution_count": null,
      "outputs": [
        {
          "output_type": "stream",
          "name": "stdout",
          "text": [
            "--2021-11-29 20:42:41--  https://www.dropbox.com/s/aamg1apjhclecka/regression_generated.csv\n",
            "Resolving www.dropbox.com (www.dropbox.com)... 162.125.81.18, 2620:100:6035:18::a27d:5512\n",
            "Connecting to www.dropbox.com (www.dropbox.com)|162.125.81.18|:443... connected.\n",
            "HTTP request sent, awaiting response... 301 Moved Permanently\n",
            "Location: /s/raw/aamg1apjhclecka/regression_generated.csv [following]\n",
            "--2021-11-29 20:42:42--  https://www.dropbox.com/s/raw/aamg1apjhclecka/regression_generated.csv\n",
            "Reusing existing connection to www.dropbox.com:443.\n",
            "HTTP request sent, awaiting response... 302 Found\n",
            "Location: https://ucf0fc5c6ee6cfcc08d9df1571ec.dl.dropboxusercontent.com/cd/0/inline/Ba7-cxh9790fKDuT1JowIuE790M6MawTt_DXDwnTZq9iOa-10gs_pbToNgXo6LedDV-OCdG9F0Eo5-BJ6VGGO4BYFTIc8GQXR41Dk9q5iwaNYVeOd1669wbkZKdUZGan9GUT5J5IymO27CI6oFIFBzuL/file# [following]\n",
            "--2021-11-29 20:42:42--  https://ucf0fc5c6ee6cfcc08d9df1571ec.dl.dropboxusercontent.com/cd/0/inline/Ba7-cxh9790fKDuT1JowIuE790M6MawTt_DXDwnTZq9iOa-10gs_pbToNgXo6LedDV-OCdG9F0Eo5-BJ6VGGO4BYFTIc8GQXR41Dk9q5iwaNYVeOd1669wbkZKdUZGan9GUT5J5IymO27CI6oFIFBzuL/file\n",
            "Resolving ucf0fc5c6ee6cfcc08d9df1571ec.dl.dropboxusercontent.com (ucf0fc5c6ee6cfcc08d9df1571ec.dl.dropboxusercontent.com)... 162.125.81.15, 2620:100:6035:15::a27d:550f\n",
            "Connecting to ucf0fc5c6ee6cfcc08d9df1571ec.dl.dropboxusercontent.com (ucf0fc5c6ee6cfcc08d9df1571ec.dl.dropboxusercontent.com)|162.125.81.15|:443... connected.\n",
            "HTTP request sent, awaiting response... 200 OK\n",
            "Length: 823374 (804K) [text/plain]\n",
            "Saving to: ‘data/regression_generated.csv’\n",
            "\n",
            "regression_generate 100%[===================>] 804.08K  1.01MB/s    in 0.8s    \n",
            "\n",
            "2021-11-29 20:42:44 (1.01 MB/s) - ‘data/regression_generated.csv’ saved [823374/823374]\n",
            "\n",
            "        label  features_1  features_2  ...  features_18  features_19  features_20\n",
            "0  -89.243497    2.175170   -0.285786  ...    -0.657400     1.367308     0.570199\n",
            "1  230.050125    1.481941   -1.327870  ...     2.410696     1.113594     2.329479\n",
            "2 -286.844411   -1.154394   -0.178649  ...     0.398384    -0.236555     0.642003\n",
            "3  364.552862    0.197665    1.455707  ...     0.754084     1.248258    -1.466045\n",
            "4  515.460006    0.596676    0.969860  ...     0.892320    -0.806912     0.736080\n",
            "\n",
            "[5 rows x 21 columns]\n"
          ]
        }
      ]
    },
    {
      "cell_type": "code",
      "metadata": {
        "colab": {
          "base_uri": "https://localhost:8080/",
          "height": 763
        },
        "id": "cDVvtEEccBb5",
        "outputId": "3455215c-1e99-4d3f-d4a3-6c3788366d07"
      },
      "source": [
        "import itertools  \n",
        "from matplotlib import pyplot as plt\n",
        "for pair in itertools.combinations((data.features_1,data.features_2,data.features_3), 2): \n",
        "    fig, ax = plt.subplots() \n",
        "    ax.scatter(pair[0], pair[1])\n",
        "plt.show()"
      ],
      "execution_count": null,
      "outputs": [
        {
          "output_type": "display_data",
          "data": {
            "image/png": "[encoded data removed]",
            "text/plain": [
              "<Figure size 432x288 with 1 Axes>"
            ]
          },
          "metadata": {
            "needs_background": "light"
          }
        },
        {
          "output_type": "display_data",
          "data": {
            "image/png": "[encoded data removed]",
            "text/plain": [
              "<Figure size 432x288 with 1 Axes>"
            ]
          },
          "metadata": {
            "needs_background": "light"
          }
        },
        {
          "output_type": "display_data",
          "data": {
            "image/png": "[encoded data removed]",
            "text/plain": [
              "<Figure size 432x288 with 1 Axes>"
            ]
          },
          "metadata": {
            "needs_background": "light"
          }
        }
      ]
    },
    {
      "cell_type": "code",
      "metadata": {
        "id": "wYcz-Mp0th6X"
      },
      "source": [
        ""
      ],
      "execution_count": null,
      "outputs": []
    }
  ]
}