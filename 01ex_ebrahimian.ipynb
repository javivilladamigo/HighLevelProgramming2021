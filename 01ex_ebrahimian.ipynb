{
  "nbformat": 4,
  "nbformat_minor": 0,
  "metadata": {
    "kernelspec": {
      "display_name": "Python 3",
      "language": "python",
      "name": "python3"
    },
    "language_info": {
      "codemirror_mode": {
        "name": "ipython",
        "version": 3
      },
      "file_extension": ".py",
      "mimetype": "text/x-python",
      "name": "python",
      "nbconvert_exporter": "python",
      "pygments_lexer": "ipython3",
      "version": "3.8.5"
    },
    "colab": {
      "name": "01ex_introduction.ipynb",
      "provenance": [],
      "collapsed_sections": [],
      "toc_visible": true
    }
  },
  "cells": [
    {
      "cell_type": "markdown",
      "metadata": {
        "id": "BZI8OH5DPGs7"
      },
      "source": [
        "1. The HelloWorld replacement\n",
        "\n",
        "a) Write a program that prints the numbers from 1 to 100. But for multiples of three print \"Hello\" instead of the number and for the multiples of five print \"World\". For numbers which are multiples of both three and five print \"HelloWorld\".\n",
        "\n",
        "b) Put the result in a tuple and substitute \"Hello\" with \"Python\" and \"World\" with \"Works\"."
      ]
    },
    {
      "cell_type": "code",
      "metadata": {
        "id": "9sFoY_BPPWgz",
        "colab": {
          "base_uri": "https://localhost:8080/"
        },
        "outputId": "5c956b04-8055-46af-a534-a40ee42ba308"
      },
      "source": [
        "#part a\n",
        "for i in range(1,100):\n",
        "  if i % 3 == 0 and i % 5 == 0: \n",
        "    result1= print(\"HelloWorld\")\n",
        "  elif i % 5 == 0 : \n",
        "    result2 = print(\"World\")\n",
        "  elif i % 3 == 0:\n",
        "    result3 = print(\"Hello\")\n",
        "  else:\n",
        "    result4 = print(i)\n",
        "\n",
        "\n"
      ],
      "execution_count": 47,
      "outputs": [
        {
          "output_type": "stream",
          "name": "stdout",
          "text": [
            "1\n",
            "2\n",
            "Hello\n",
            "4\n",
            "World\n",
            "Hello\n",
            "7\n",
            "8\n",
            "Hello\n",
            "World\n",
            "11\n",
            "Hello\n",
            "13\n",
            "14\n",
            "HelloWorld\n",
            "16\n",
            "17\n",
            "Hello\n",
            "19\n",
            "World\n",
            "Hello\n",
            "22\n",
            "23\n",
            "Hello\n",
            "World\n",
            "26\n",
            "Hello\n",
            "28\n",
            "29\n",
            "HelloWorld\n",
            "31\n",
            "32\n",
            "Hello\n",
            "34\n",
            "World\n",
            "Hello\n",
            "37\n",
            "38\n",
            "Hello\n",
            "World\n",
            "41\n",
            "Hello\n",
            "43\n",
            "44\n",
            "HelloWorld\n",
            "46\n",
            "47\n",
            "Hello\n",
            "49\n",
            "World\n",
            "Hello\n",
            "52\n",
            "53\n",
            "Hello\n",
            "World\n",
            "56\n",
            "Hello\n",
            "58\n",
            "59\n",
            "HelloWorld\n",
            "61\n",
            "62\n",
            "Hello\n",
            "64\n",
            "World\n",
            "Hello\n",
            "67\n",
            "68\n",
            "Hello\n",
            "World\n",
            "71\n",
            "Hello\n",
            "73\n",
            "74\n",
            "HelloWorld\n",
            "76\n",
            "77\n",
            "Hello\n",
            "79\n",
            "World\n",
            "Hello\n",
            "82\n",
            "83\n",
            "Hello\n",
            "World\n",
            "86\n",
            "Hello\n",
            "88\n",
            "89\n",
            "HelloWorld\n",
            "91\n",
            "92\n",
            "Hello\n",
            "94\n",
            "World\n",
            "Hello\n",
            "97\n",
            "98\n",
            "Hello\n"
          ]
        }
      ]
    },
    {
      "cell_type": "code",
      "metadata": {
        "colab": {
          "base_uri": "https://localhost:8080/"
        },
        "id": "BXj7kknXHXK0",
        "outputId": "4d483318-9c8d-46b4-a1c3-dd1f6b6c1955"
      },
      "source": [
        "#Part b: \n",
        "def convert2tuple(x):\n",
        "  return tuple(x)\n",
        "\n",
        "def convert2list(x):\n",
        "  return list(x)\n",
        "\n",
        "#Create an empty tuple\n",
        "t = tuple()\n",
        "# we can not modify tuple, so we have to convert it to list\n",
        "t = convert2list(t)\n",
        "\n",
        "for i in range(1, 101):\n",
        "  if i % 3 == 0:\n",
        "    if i % 5 == 0:\n",
        "      t.append(\"HelloWorld\")\n",
        "    else:\n",
        "      t.append(\"Hello\")\n",
        "  elif i % 5 == 0:\n",
        "    t.append(\"World\")\n",
        "  else:\n",
        "    t.append(i)\n",
        "\n",
        "t = convert2tuple(t)\n",
        "print(t)\n",
        "\n",
        "print(\" Convert it back to list\")\n",
        "\n",
        "t = convert2list(t)\n",
        "\n",
        "for i in range(len(t)):\n",
        "  if t[i] == \"Hello\":\n",
        "    t[i] = \"Python\"\n",
        "  if t[i] == \"World\":\n",
        "    t[i] = \"Works\"  \n",
        "\n",
        "t = convert2tuple(t)\n",
        "print(\"final tuple:\\n\")\n",
        "print(t)"
      ],
      "execution_count": 48,
      "outputs": [
        {
          "output_type": "stream",
          "name": "stdout",
          "text": [
            "(1, 2, 'Hello', 4, 'World', 'Hello', 7, 8, 'Hello', 'World', 11, 'Hello', 13, 14, 'HelloWorld', 16, 17, 'Hello', 19, 'World', 'Hello', 22, 23, 'Hello', 'World', 26, 'Hello', 28, 29, 'HelloWorld', 31, 32, 'Hello', 34, 'World', 'Hello', 37, 38, 'Hello', 'World', 41, 'Hello', 43, 44, 'HelloWorld', 46, 47, 'Hello', 49, 'World', 'Hello', 52, 53, 'Hello', 'World', 56, 'Hello', 58, 59, 'HelloWorld', 61, 62, 'Hello', 64, 'World', 'Hello', 67, 68, 'Hello', 'World', 71, 'Hello', 73, 74, 'HelloWorld', 76, 77, 'Hello', 79, 'World', 'Hello', 82, 83, 'Hello', 'World', 86, 'Hello', 88, 89, 'HelloWorld', 91, 92, 'Hello', 94, 'World', 'Hello', 97, 98, 'Hello', 'World')\n",
            " Convert it back to list\n",
            "final tuple:\n",
            "\n",
            "(1, 2, 'Python', 4, 'Works', 'Python', 7, 8, 'Python', 'Works', 11, 'Python', 13, 14, 'HelloWorld', 16, 17, 'Python', 19, 'Works', 'Python', 22, 23, 'Python', 'Works', 26, 'Python', 28, 29, 'HelloWorld', 31, 32, 'Python', 34, 'Works', 'Python', 37, 38, 'Python', 'Works', 41, 'Python', 43, 44, 'HelloWorld', 46, 47, 'Python', 49, 'Works', 'Python', 52, 53, 'Python', 'Works', 56, 'Python', 58, 59, 'HelloWorld', 61, 62, 'Python', 64, 'Works', 'Python', 67, 68, 'Python', 'Works', 71, 'Python', 73, 74, 'HelloWorld', 76, 77, 'Python', 79, 'Works', 'Python', 82, 83, 'Python', 'Works', 86, 'Python', 88, 89, 'HelloWorld', 91, 92, 'Python', 94, 'Works', 'Python', 97, 98, 'Python', 'Works')\n"
          ]
        }
      ]
    },
    {
      "cell_type": "markdown",
      "metadata": {
        "id": "FqBnNT1EPGs_"
      },
      "source": [
        "2\\. The swap function\n",
        "\n",
        "Write a function that swap the values of two input variables x and y (whatever the type). Try to do that also without a temporary variable"
      ]
    },
    {
      "cell_type": "code",
      "metadata": {
        "id": "htp9ix46WTHL",
        "colab": {
          "base_uri": "https://localhost:8080/"
        },
        "outputId": "9be707e5-90c2-4fb9-b53d-1bda8ee072c0"
      },
      "source": [
        "#how to make it tuple?\n",
        "def swap(x= 0 ,y= 0):\n",
        "  x = int(input(\"Enter your 1st number (as x): \"))\n",
        "  y = int(input(\"Enter your 2nd number (as y): \"))\n",
        "  x , y = y , x \n",
        "  print(\"The new Value for y =\",y)\n",
        "  print(\"The new Value for x =\",x)\n",
        "\n",
        "\n",
        "#example\n",
        "swap(3, 7)"
      ],
      "execution_count": 49,
      "outputs": [
        {
          "output_type": "stream",
          "name": "stdout",
          "text": [
            "Enter your 1st number (as x): 3\n",
            "Enter your 2nd number (as y): 7\n",
            "The new Value for y = 3\n",
            "The new Value for x = 7\n"
          ]
        }
      ]
    },
    {
      "cell_type": "markdown",
      "metadata": {
        "id": "rdfUIAspPGtA"
      },
      "source": [
        "3\\. Computing the distance\n",
        "\n",
        "Write a function that calculates and returns the euclidean distance between two points *u* and *v*, where *u* and *v* are both 2-tuples *(x,y)*. For example, if *u=(3,0)* and *v=(0,4)*, the function should return 5"
      ]
    },
    {
      "cell_type": "code",
      "metadata": {
        "colab": {
          "base_uri": "https://localhost:8080/"
        },
        "id": "vmg5XpiZo6Mj",
        "outputId": "9d173a11-385b-4f7e-db5f-c8ab2a3409e6"
      },
      "source": [
        "import math\n",
        "\n",
        "def distance(a, b):\n",
        "   y = (b[1] - a[1])**2\n",
        "   x = (b[0] - a[0])**2\n",
        "   return math.sqrt(x + y)\n",
        "\n",
        "u = (3, 0)\n",
        "v = (0, 4)\n",
        "dis = distance(u, v)\n",
        "print(f\"Eucliden distance between {u} and {v} is :\")\n",
        "print(dis)\n"
      ],
      "execution_count": 51,
      "outputs": [
        {
          "output_type": "stream",
          "name": "stdout",
          "text": [
            "Eucliden distance between (3, 0) and (0, 4) is :\n",
            "5.0\n"
          ]
        }
      ]
    },
    {
      "cell_type": "markdown",
      "metadata": {
        "id": "bcdcQcofPGtA"
      },
      "source": [
        "4\\. Counting letters\n",
        "\n",
        "Write a program to calculate the number of times each character occurs in a given string *s*. Ignore differences in capitalization"
      ]
    },
    {
      "cell_type": "code",
      "metadata": {
        "id": "wHVBAynz1Zgc",
        "colab": {
          "base_uri": "https://localhost:8080/"
        },
        "outputId": "05af9245-8eeb-4def-b8a7-48b4df9db558"
      },
      "source": [
        "print(\"\\n First Solution\")\n",
        "from collections import Counter\n",
        "word = \"reza ebrahimian baboukani\"\n",
        "counter = Counter(i for i in word.upper() if i.isalpha())\n",
        "print(counter)\n",
        "\n",
        "\n",
        "print(\"\\n Second Solution\")\n",
        "\n",
        "word = \"Reza Ebrahimian Baboukani\"\n",
        "count = {}\n",
        "  \n",
        "for i in word:\n",
        "    if i in count:\n",
        "        count[i] += 1\n",
        "    else:\n",
        "        count[i] = 1\n",
        "\n",
        "print (str(count))"
      ],
      "execution_count": 52,
      "outputs": [
        {
          "output_type": "stream",
          "name": "stdout",
          "text": [
            "\n",
            " First Solution\n",
            "Counter({'A': 5, 'B': 3, 'I': 3, 'R': 2, 'E': 2, 'N': 2, 'Z': 1, 'H': 1, 'M': 1, 'O': 1, 'U': 1, 'K': 1})\n",
            "\n",
            " Second Solution\n",
            "{'R': 1, 'e': 1, 'z': 1, 'a': 5, ' ': 2, 'E': 1, 'b': 2, 'r': 1, 'h': 1, 'i': 3, 'm': 1, 'n': 2, 'B': 1, 'o': 1, 'u': 1, 'k': 1}\n"
          ]
        }
      ]
    },
    {
      "cell_type": "markdown",
      "metadata": {
        "id": "Tpq77rbvPGtC"
      },
      "source": [
        "5\\. Isolating the unique\n",
        "\n",
        "Write a function that determines and count the unique numbers in the list:"
      ]
    },
    {
      "cell_type": "code",
      "metadata": {
        "id": "7FgPTUbRPGtC",
        "colab": {
          "base_uri": "https://localhost:8080/"
        },
        "outputId": "167593e4-67a3-4e30-b334-679771e7ce96"
      },
      "source": [
        "l = [36, 45, 58, 3, 74, 96, 64, 45, 31, 10, 24, 19, 33, 86, 99, 18, 63, 70, 85,\n",
        " 85, 63, 47, 56, 42, 70, 84, 88, 55, 20, 54, 8, 56, 51, 79, 81, 57, 37, 91,\n",
        " 1, 84, 84, 36, 66, 9, 89, 50, 42, 91, 50, 95, 90, 98, 39, 16, 82, 31, 92, 41,\n",
        " 45, 30, 66, 70, 34, 85, 94, 5, 3, 36, 72, 91, 84, 34, 87, 75, 53, 51, 20, 89, 51, 20]\n",
        "\n",
        "def countuniquenumber(x):\n",
        "  x.sort()\n",
        "  l = []\n",
        "  for i in x:\n",
        "    if x.count(i) == 1:\n",
        "      l.append(i)\n",
        "  return l\n",
        "\n",
        "uniquelist = countuniquenumber(l)\n",
        "print(\"Number of unique numbers in list :\")\n",
        "print(len(uniquelist))\n",
        "print()\n",
        "print(\"List of uniqu number :\")\n",
        "print(uniquelist)"
      ],
      "execution_count": 53,
      "outputs": [
        {
          "output_type": "stream",
          "name": "stdout",
          "text": [
            "Number of unique numbers in list :\n",
            "37\n",
            "\n",
            "List of uniqu number :\n",
            "[1, 5, 8, 9, 10, 16, 18, 19, 24, 30, 33, 37, 39, 41, 47, 53, 54, 55, 57, 58, 64, 72, 74, 75, 79, 81, 82, 86, 87, 88, 90, 92, 94, 95, 96, 98, 99]\n"
          ]
        }
      ]
    },
    {
      "cell_type": "markdown",
      "metadata": {
        "id": "PaKmXykkPGtC"
      },
      "source": [
        "Do the same without using user-defined functions, but exploiting only the Python data structures."
      ]
    },
    {
      "cell_type": "code",
      "metadata": {
        "id": "XIBjxq_z29gL",
        "colab": {
          "base_uri": "https://localhost:8080/"
        },
        "outputId": "932e4e26-f4ae-4985-a02a-be71a51c3024"
      },
      "source": [
        "a = []\n",
        "l.sort()\n",
        "for j in l:\n",
        "  if l.count(j) == 1:\n",
        "    a.append(j)\n",
        "\n",
        "print(\"Number of unique numbers in list : \")\n",
        "print(len(a))\n",
        "print()\n",
        "print(\"List of uniqu number : \")\n",
        "print(a) "
      ],
      "execution_count": 54,
      "outputs": [
        {
          "output_type": "stream",
          "name": "stdout",
          "text": [
            "Number of unique numbers in list : \n",
            "37\n",
            "\n",
            "List of uniqu number : \n",
            "[1, 5, 8, 9, 10, 16, 18, 19, 24, 30, 33, 37, 39, 41, 47, 53, 54, 55, 57, 58, 64, 72, 74, 75, 79, 81, 82, 86, 87, 88, 90, 92, 94, 95, 96, 98, 99]\n"
          ]
        }
      ]
    },
    {
      "cell_type": "markdown",
      "metadata": {
        "id": "MOdgvlc3PGtD"
      },
      "source": [
        "6\\. Combination of functions\n",
        "\n",
        "Write two functions - one that returns the square of a number, and one that returns the cube. Now write a third function that returns the number raised to the 6th power using the two previous functions."
      ]
    },
    {
      "cell_type": "code",
      "metadata": {
        "id": "AoYou3iVEh7g",
        "colab": {
          "base_uri": "https://localhost:8080/"
        },
        "outputId": "f8bae60b-1ec3-43b0-bdce-0c4efdc46ba3"
      },
      "source": [
        "import math\n",
        "def func1(x = 0):\n",
        "  result= math.pow(x,2)\n",
        "  return(result)\n",
        "\n",
        "def func2(n = 0):\n",
        "  result = math.pow(n,3)\n",
        "  return(result)\n",
        "\n",
        "def func3(m = 0):\n",
        "  result1 = func1(m)\n",
        "  result= func2(result1)\n",
        "  return(result)\n",
        "\n",
        "#Example\n",
        "print(f\"6th power of 2:\")\n",
        "print((func3(2)))"
      ],
      "execution_count": 61,
      "outputs": [
        {
          "output_type": "stream",
          "name": "stdout",
          "text": [
            "6th power of 2:\n",
            "64.0\n"
          ]
        }
      ]
    },
    {
      "cell_type": "markdown",
      "metadata": {
        "id": "gMRlJQj5PGtE"
      },
      "source": [
        "7\\. Cubes\n",
        "\n",
        "Create a list of the cubes of x for x in *[0, 10]* using:\n",
        "\n",
        "a) a for loop\n",
        "\n",
        "b) a list comprehension"
      ]
    },
    {
      "cell_type": "code",
      "metadata": {
        "id": "B-Rh2KIxHFUK",
        "colab": {
          "base_uri": "https://localhost:8080/"
        },
        "outputId": "be5481b4-a466-4333-b106-d6d15f92a86f"
      },
      "source": [
        "#part a\n",
        "print(\"part a:\")\n",
        "\n",
        "cube_list = []\n",
        "for i in range(11):\n",
        "  cube_list.append(func2(i))\n",
        "\n",
        "print(cube_list)\n",
        "\n",
        "#part b\n",
        "print(\"\\nPart b:\")\n",
        "\n",
        "x = [func2(i) for i in range(11)]\n",
        "print(x)"
      ],
      "execution_count": 62,
      "outputs": [
        {
          "output_type": "stream",
          "name": "stdout",
          "text": [
            "part a:\n",
            "[0.0, 1.0, 8.0, 27.0, 64.0, 125.0, 216.0, 343.0, 512.0, 729.0, 1000.0]\n",
            "\n",
            "Part b:\n",
            "[0.0, 1.0, 8.0, 27.0, 64.0, 125.0, 216.0, 343.0, 512.0, 729.0, 1000.0]\n"
          ]
        }
      ]
    },
    {
      "cell_type": "markdown",
      "metadata": {
        "id": "pm_dfNrxPGtE"
      },
      "source": [
        "8\\. Nested list comprehension\n",
        "\n",
        "A Pythagorean triple is an integer solution to the Pythagorean theorem $a^2+b^2=c^2$. The first Pythagorean triple is (3,4,5). Find and put in a tuple all unique Pythagorean triples for the positive integers a, b and c less than 100."
      ]
    },
    {
      "cell_type": "code",
      "metadata": {
        "id": "7sIUUlh7rc9F",
        "colab": {
          "base_uri": "https://localhost:8080/"
        },
        "outputId": "4ab6c15b-bf7c-4896-c5c7-256f3b87e7df"
      },
      "source": [
        "x = [(x, y, z) for x in range(1, 100) for y in range(1, 100) if y>x for z in range(1, 100) if z>y if z**2 == y**2 + x**2]\n",
        "x"
      ],
      "execution_count": 63,
      "outputs": [
        {
          "output_type": "execute_result",
          "data": {
            "text/plain": [
              "[(3, 4, 5),\n",
              " (5, 12, 13),\n",
              " (6, 8, 10),\n",
              " (7, 24, 25),\n",
              " (8, 15, 17),\n",
              " (9, 12, 15),\n",
              " (9, 40, 41),\n",
              " (10, 24, 26),\n",
              " (11, 60, 61),\n",
              " (12, 16, 20),\n",
              " (12, 35, 37),\n",
              " (13, 84, 85),\n",
              " (14, 48, 50),\n",
              " (15, 20, 25),\n",
              " (15, 36, 39),\n",
              " (16, 30, 34),\n",
              " (16, 63, 65),\n",
              " (18, 24, 30),\n",
              " (18, 80, 82),\n",
              " (20, 21, 29),\n",
              " (20, 48, 52),\n",
              " (21, 28, 35),\n",
              " (21, 72, 75),\n",
              " (24, 32, 40),\n",
              " (24, 45, 51),\n",
              " (24, 70, 74),\n",
              " (25, 60, 65),\n",
              " (27, 36, 45),\n",
              " (28, 45, 53),\n",
              " (30, 40, 50),\n",
              " (30, 72, 78),\n",
              " (32, 60, 68),\n",
              " (33, 44, 55),\n",
              " (33, 56, 65),\n",
              " (35, 84, 91),\n",
              " (36, 48, 60),\n",
              " (36, 77, 85),\n",
              " (39, 52, 65),\n",
              " (39, 80, 89),\n",
              " (40, 42, 58),\n",
              " (40, 75, 85),\n",
              " (42, 56, 70),\n",
              " (45, 60, 75),\n",
              " (48, 55, 73),\n",
              " (48, 64, 80),\n",
              " (51, 68, 85),\n",
              " (54, 72, 90),\n",
              " (57, 76, 95),\n",
              " (60, 63, 87),\n",
              " (65, 72, 97)]"
            ]
          },
          "metadata": {},
          "execution_count": 63
        }
      ]
    },
    {
      "cell_type": "markdown",
      "metadata": {
        "id": "-9GFrFR5PGtE"
      },
      "source": [
        "9\\. Normalization\n",
        "\n",
        "Write a function that takes a tuple of numbers and returns it with the entries normalized to one"
      ]
    },
    {
      "cell_type": "code",
      "metadata": {
        "id": "5IQ1q_4wPGtF",
        "colab": {
          "base_uri": "https://localhost:8080/"
        },
        "outputId": "5bd02333-7902-4645-fece-85c93da53c76"
      },
      "source": [
        "def normalizer(a):\n",
        "  l = []\n",
        "  for j in a:\n",
        "    temp = (j - min(a)) / (max(a) - min(a))\n",
        "    l.append(temp)\n",
        "  return l\n",
        "\n",
        "t = (5, 3, 7, 9)\n",
        "print(tuple(normalizer(t)))"
      ],
      "execution_count": 64,
      "outputs": [
        {
          "output_type": "stream",
          "name": "stdout",
          "text": [
            "(0.3333333333333333, 0.0, 0.6666666666666666, 1.0)\n"
          ]
        }
      ]
    }
  ]
}