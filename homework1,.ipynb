{
 "cells": [
  {
   "cell_type": "markdown",
   "metadata": {},
   "source": [
    "1. The HelloWorld replacement\n",
    "\n",
    "a) Write a program that prints the numbers from 1 to 100. But for multiples of three print \"Hello\" instead of the number and for the multiples of five print \"World\". For numbers which are multiples of both three and five print \"HelloWorld\".\n",
    "\n",
    "b) Put the result in a tuple and substitute \"Hello\" with \"Python\" and \"World\" with \"Works\"."
   ]
  },
  {
   "cell_type": "markdown",
   "metadata": {},
   "source": [
    "2\\. The swap function\n",
    "\n",
    "Write a function that swap the values of two input variables x and y (whatever the type). Try to do that also without a temporary variable"
   ]
  },
  {
   "cell_type": "markdown",
   "metadata": {},
   "source": [
    "3\\. Computing the distance\n",
    "\n",
    "Write a function that calculates and returns the euclidean distance between two points *u* and *v*, where *u* and *v* are both 2-tuples *(x,y)*. For example, if *u=(3,0)* and *v=(0,4)*, the function should return 5"
   ]
  },
  {
   "cell_type": "markdown",
   "metadata": {},
   "source": [
    "4\\. Counting letters\n",
    "\n",
    "Write a program to calculate the number of times each character occurs in a given string *s*. Ignore differences in capitalization"
   ]
  },
  {
   "cell_type": "markdown",
   "metadata": {},
   "source": [
    "i5\\. Isolating the unique\n",
    "\n",
    "Write a function that determines and count the unique numbers in the list:"
   ]
  },
  {
   "cell_type": "code",
   "execution_count": 5,
   "metadata": {},
   "outputs": [
    {
     "name": "stdout",
     "output_type": "stream",
     "text": [
      "1\n",
      "2\n",
      "hello\n",
      "4\n",
      "world \n",
      "\n",
      "hello\n",
      "7\n",
      "8\n",
      "hello\n",
      "world \n",
      "\n",
      "11\n",
      "hello\n",
      "13\n",
      "14\n",
      "helloworld\n",
      "16\n",
      "17\n",
      "hello\n",
      "19\n",
      "world \n",
      "\n",
      "hello\n",
      "22\n",
      "23\n",
      "hello\n",
      "world \n",
      "\n",
      "26\n",
      "hello\n",
      "28\n",
      "29\n",
      "helloworld\n",
      "31\n",
      "32\n",
      "hello\n",
      "34\n",
      "world \n",
      "\n",
      "hello\n",
      "37\n",
      "38\n",
      "hello\n",
      "world \n",
      "\n",
      "41\n",
      "hello\n",
      "43\n",
      "44\n",
      "helloworld\n",
      "46\n",
      "47\n",
      "hello\n",
      "49\n",
      "world \n",
      "\n",
      "hello\n",
      "52\n",
      "53\n",
      "hello\n",
      "world \n",
      "\n",
      "56\n",
      "hello\n",
      "58\n",
      "59\n",
      "helloworld\n",
      "61\n",
      "62\n",
      "hello\n",
      "64\n",
      "world \n",
      "\n",
      "hello\n",
      "67\n",
      "68\n",
      "hello\n",
      "world \n",
      "\n",
      "71\n",
      "hello\n",
      "73\n",
      "74\n",
      "helloworld\n",
      "76\n",
      "77\n",
      "hello\n",
      "79\n",
      "world \n",
      "\n",
      "hello\n",
      "82\n",
      "83\n",
      "hello\n",
      "world \n",
      "\n",
      "86\n",
      "hello\n",
      "88\n",
      "89\n",
      "helloworld\n",
      "91\n",
      "92\n",
      "hello\n",
      "94\n",
      "world \n",
      "\n",
      "hello\n",
      "97\n",
      "98\n",
      "hello\n",
      "world \n",
      "\n",
      "(1, 2, 'python', 4, 'works', 'python', 7, 8, 'python', 'works', 11, 'python', 13, 14, 'pythonWorks', 16, 17, 'python', 19, 'works', 'python', 22, 23, 'python', 'works', 26, 'python', 28, 29, 'pythonWorks', 31, 32, 'python', 34, 'works', 'python', 37, 38, 'python', 'works', 41, 'python', 43, 44, 'pythonWorks', 46, 47, 'python', 49, 'works', 'python', 52, 53, 'python', 'works', 56, 'python', 58, 59, 'pythonWorks', 61, 62, 'python', 64, 'works', 'python', 67, 68, 'python', 'works', 71, 'python', 73, 74, 'pythonWorks', 76, 77, 'python', 79, 'works', 'python', 82, 83, 'python', 'works', 86, 'python', 88, 89, 'pythonWorks', 91, 92, 'python', 94, 'works', 'python', 97, 98, 'python', 'works')\n"
     ]
    }
   ],
   "source": [
    "#for 1. question\n",
    "s = list()\n",
    "\n",
    "\n",
    "for a in range (1,101): \n",
    "    if (a%15==0):\n",
    "        print (\"helloworld\")\n",
    "        s.append(\"pythonWorks\")\n",
    "    elif (a%3==0):\n",
    "        print (\"hello\")\n",
    "        s.append(\"python\")\n",
    "    elif (a%5==0):\n",
    "        print (\"world\",'\\n')\n",
    "        s.append(\"works\")\n",
    "    else :\n",
    "        print (a)\n",
    "        s.append(a)\n",
    "\n",
    "myTuple = tuple(s)\n",
    "print (myTuple)\n",
    "\n",
    "def swapFunction(x,y): #Swap function\n",
    "    holder = x\n",
    "    y = x\n",
    "    x = holder\n"
   ]
  },
  {
   "cell_type": "code",
   "execution_count": 15,
   "metadata": {},
   "outputs": [
    {
     "name": "stdout",
     "output_type": "stream",
     "text": [
      "[36, 45, 58, 3, 74, 96, 64, 31, 10, 24, 19, 33, 86, 99, 18, 63, 70, 85, 47, 56, 42, 84, 88, 55, 20, 54, 8, 51, 79, 81, 57, 37, 91, 1, 66, 9, 89, 50, 95, 90, 98, 39, 16, 82, 92, 41, 30, 34, 94, 5, 72, 87, 75, 53] \n",
      "\n",
      "\n",
      "[36, 45, 58, 3, 74, 96, 64, 31, 10, 24, 19, 33, 86, 99, 18, 63, 70, 85, 47, 56, 42, 84, 88, 55, 20, 54, 8, 51, 79, 81, 57, 37, 91, 1, 66, 9, 89, 50, 95, 90, 98, 39, 16, 82, 92, 41, 30, 34, 94, 5, 72, 87, 75, 53]\n"
     ]
    }
   ],
   "source": [
    "l = [36, 45, 58, 3, 74, 96, 64, 45, 31, 10, 24, 19, 33, 86, 99, 18, 63, 70, 85,\n",
    " 85, 63, 47, 56, 42, 70, 84, 88, 55, 20, 54, 8, 56, 51, 79, 81, 57, 37, 91,\n",
    " 1, 84, 84, 36, 66, 9, 89, 50, 42, 91, 50, 95, 90, 98, 39, 16, 82, 31, 92, 41,\n",
    " 45, 30, 66, 70, 34, 85, 94, 5, 3, 36, 72, 91, 84, 34, 87, 75, 53, 51, 20, 89, 51, 20]\n",
    "def unique(l):\n",
    "    unique_list = []\n",
    "    for a in l:\n",
    "        if a not in unique_list:\n",
    "              unique_list.append(a)\n",
    "    print( unique_list,'\\n\\n');\n",
    "unique(l)\n",
    "\n",
    "#Do the same without using user-defined functions, but exploiting only the Python data structures.\n",
    "#OTHER WAY\n",
    "###########################second way ##########################################\n",
    "l = [36, 45, 58, 3, 74, 96, 64, 45, 31, 10, 24, 19, 33, 86, 99, 18, 63, 70, 85,\n",
    " 85, 63, 47, 56, 42, 70, 84, 88, 55, 20, 54, 8, 56, 51, 79, 81, 57, 37, 91,\n",
    " 1, 84, 84, 36, 66, 9, 89, 50, 42, 91, 50, 95, 90, 98, 39, 16, 82, 31, 92, 41,\n",
    " 45, 30, 66, 70, 34, 85, 94, 5, 3, 36, 72, 91, 84, 34, 87, 75, 53, 51, 20, 89, 51, 20]\n",
    "used = set()\n",
    "unique = [x for x in l if x not in used and (used.add(x) or True)]\n",
    "print(unique)\n",
    "\n",
    "\n",
    "\n"
   ]
  },
  {
   "cell_type": "markdown",
   "metadata": {},
   "source": [
    "Do the same without using user-defined functions, but exploiting only the Python data structures."
   ]
  },
  {
   "cell_type": "markdown",
   "metadata": {},
   "source": [
    "6\\. Combination of functions\n",
    "\n",
    "Write two functions - one that returns the square of a number, and one that returns the cube. Now write a third function that returns the number raised to the 6th power using the two previous functions."
   ]
  },
  {
   "cell_type": "markdown",
   "metadata": {},
   "source": [
    "7\\. Cubes\n",
    "\n",
    "Create a list of the cubes of x for x in *[0, 10]* using:\n",
    "\n",
    "a) a for loop\n",
    "\n",
    "b) a list comprehension"
   ]
  },
  {
   "cell_type": "markdown",
   "metadata": {},
   "source": [
    "8\\. Nested list comprehension\n",
    "\n",
    "A Pythagorean triple is an integer solution to the Pythagorean theorem $a^2+b^2=c^2$. The first Pythagorean triple is (3,4,5). Find and put in a tuple all unique Pythagorean triples for the positive integers a, b and c less than 100."
   ]
  },
  {
   "cell_type": "markdown",
   "metadata": {},
   "source": [
    "9\\. Normalization\n",
    "\n",
    "Write a function that takes a tuple of numbers and returns it with the entries normalized to one"
   ]
  },
  {
   "cell_type": "code",
   "execution_count": 19,
   "metadata": {},
   "outputs": [
    {
     "name": "stdout",
     "output_type": "stream",
     "text": [
      "write the first point\n",
      "5 4 \n",
      "write the second point\n",
      "6 8\n",
      " euc distance 4.123105625617661\n"
     ]
    }
   ],
   "source": [
    "#for 3.question \n",
    "import math\n",
    "print(\"write the first point\")\n",
    "a1,b1 = map(int, input().split())\n",
    "print(\"write the second point\")\n",
    "a2, b2 = map(int, input().split())\n",
    "sol = math.sqrt((a2-a1)**2 + (b2-b1)**2)\n",
    "print(\" euc distance \" + str(sol))"
   ]
  },
  {
   "cell_type": "code",
   "execution_count": 25,
   "metadata": {},
   "outputs": [
    {
     "name": "stdout",
     "output_type": "stream",
     "text": [
      "enter text; everything will be okay\n",
      "Counter({'e': 3, ' ': 3, 'y': 2, 'i': 2, 'l': 2, 'v': 1, 'r': 1, 't': 1, 'h': 1, 'n': 1, 'g': 1, 'w': 1, 'b': 1, 'o': 1, 'k': 1, 'a': 1})\n"
     ]
    }
   ],
   "source": [
    "#for 4.question\n",
    "import collections\n",
    "string=input(\"enter text; \")\n",
    "conclusion  = collections.Counter(string.lower())\n",
    "print(conclusion ) \n"
   ]
  },
  {
   "cell_type": "code",
   "execution_count": 40,
   "metadata": {},
   "outputs": [
    {
     "name": "stdout",
     "output_type": "stream",
     "text": [
      "enter a number for cube,square and sixth power: 2\n",
      "cube: 32.0\n",
      "square 64.0\n",
      "sixth power: 4096.0\n"
     ]
    }
   ],
   "source": [
    "#for 6.question\n",
    "import math \n",
    "\n",
    "def cube(number): \n",
    "    number=math.pow(number, 5)\n",
    "    return number;\n",
    "def square(number):\n",
    "    number=math.pow(number,6)\n",
    "    return number\n",
    "def sixth_power(number):\n",
    "    number=number*cube(number)*square(number)\n",
    "    print (\"sixth power:\",number)\n",
    "\n",
    "\n",
    "a=int(input(\"enter a number for cube,square and sixth power: \"));\n",
    "cube(a)\n",
    "print(\"cube:\",cube(a))\n",
    "square(a)\n",
    "print (\"square\",square(a))\n",
    "sixth_power(a)\n",
    "\n"
   ]
  },
  {
   "cell_type": "code",
   "execution_count": 44,
   "metadata": {},
   "outputs": [
    {
     "name": "stdout",
     "output_type": "stream",
     "text": [
      "[0, 1, 8, 27, 64, 125, 216, 343, 512, 729, 1000] \n",
      "\n",
      " list comprehension: [0, 1, 8, 27, 64, 125, 216, 343, 512, 729, 1000]\n"
     ]
    }
   ],
   "source": [
    "#for 7.question\n",
    "A=[0,1, 2, 3, 4,5,6,7,8,9,10]\n",
    "cubes=[pow(a, 3) for a in A]\n",
    "print(cubes,'\\n')\n",
    "A=[0,1, 2, 3, 4,5,6,7,8,9,10]\n",
    "cubes= []\n",
    "for a in A:\n",
    "    cubes.append(pow(a, 3))\n",
    "print(\" list comprehension:\",cubes)"
   ]
  },
  {
   "cell_type": "code",
   "execution_count": 51,
   "metadata": {},
   "outputs": [
    {
     "name": "stdout",
     "output_type": "stream",
     "text": [
      "Enter a number for limit to calculate pythagorean: 100\n",
      "3 4 5\n",
      "8 6 10\n",
      "5 12 13\n",
      "15 8 17\n",
      "12 16 20\n",
      "7 24 25\n",
      "24 10 26\n",
      "21 20 29\n",
      "16 30 34\n",
      "9 40 41\n",
      "35 12 37\n",
      "32 24 40\n",
      "27 36 45\n",
      "20 48 52\n",
      "11 60 61\n",
      "48 14 50\n",
      "45 28 53\n",
      "40 42 58\n",
      "33 56 65\n",
      "24 70 74\n",
      "13 84 85\n",
      "63 16 65\n",
      "60 32 68\n",
      "55 48 73\n",
      "48 64 80\n",
      "39 80 89\n",
      "28 96 100\n"
     ]
    }
   ],
   "source": [
    "# for 8.question\n",
    "def pythagorean_triplets(limits) :\n",
    "    c, k = 0, 2\n",
    "    while c < limits :\n",
    "        for n in range(1, k) :\n",
    "            a =k * k - n * n\n",
    "            b = 2 * k * n\n",
    "            c= k * k + n * n\n",
    "            if c > limits :\n",
    "                break\n",
    "            print(a, b, c)\n",
    "        k = k + 1  \n",
    "if __name__ == '__main__' :\n",
    "\n",
    "    limit=int(input(\"give an number calculate pythagorean to limit: \"))\n",
    "    pythagorean_triplets(limit)"
   ]
  },
  {
   "cell_type": "code",
   "execution_count": 65,
   "metadata": {},
   "outputs": [
    {
     "name": "stdout",
     "output_type": "stream",
     "text": [
      "info: [0.75, 0.0, 1.0, 0.375, 0.5, 0.125]\n"
     ]
    }
   ],
   "source": [
    "#for 9. question\n",
    "info=[9,3,11,6,7,4]\n",
    "cmin,cmax = min(info), max(info)\n",
    "for a,sign in enumerate(info):\n",
    "    info[a]=(sign-cmin)/(cmax-cmin)\n",
    "print(\"info:\",info)"
   ]
  },
  {
   "cell_type": "code",
   "execution_count": null,
   "metadata": {},
   "outputs": [],
   "source": []
  },
  {
   "cell_type": "code",
   "execution_count": null,
   "metadata": {},
   "outputs": [],
   "source": []
  },
  {
   "cell_type": "code",
   "execution_count": null,
   "metadata": {},
   "outputs": [],
   "source": []
  }
 ],
 "metadata": {
  "kernelspec": {
   "display_name": "Python 3",
   "language": "python",
   "name": "python3"
  },
  "language_info": {
   "codemirror_mode": {
    "name": "ipython",
    "version": 3
   },
   "file_extension": ".py",
   "mimetype": "text/x-python",
   "name": "python",
   "nbconvert_exporter": "python",
   "pygments_lexer": "ipython3",
   "version": "3.8.8"
  }
 },
 "nbformat": 4,
 "nbformat_minor": 2
}
