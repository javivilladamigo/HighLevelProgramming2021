{
 "cells": [
  {
   "cell_type": "markdown",
   "metadata": {},
   "source": [
    "1\\. Write a function that converts numbers among the bin, dec, and hex representations (bin<->dec<->hex)"
   ]
  },
  {
   "cell_type": "code",
   "execution_count": 514,
   "metadata": {},
   "outputs": [
    {
     "name": "stdout",
     "output_type": "stream",
     "text": [
      "(5, '0b101', '0x5')\n"
     ]
    }
   ],
   "source": [
    "a = 5\n",
    "def myConvert(a):\n",
    "    a_int = int(a) #getting all types and convert to integer which is a decimal representation\n",
    "    a_bin = bin(a) #similarly, converting binary representation \n",
    "    a_hex = hex(a) #similarly, converting hexadecimal representation\n",
    "    print((a_int, a_bin, a_hex)) \n",
    "myConvert(a)    "
   ]
  },
  {
   "cell_type": "markdown",
   "metadata": {},
   "source": [
    "2\\. Write a function that converts a 32 bit word into a single precision floating point (i.e. interprets the various bits as sign, mantissa and exponent) and check its validity."
   ]
  },
  {
   "cell_type": "code",
   "execution_count": 515,
   "metadata": {},
   "outputs": [
    {
     "data": {
      "text/plain": [
       "1.316553672920962e-36"
      ]
     },
     "execution_count": 515,
     "metadata": {},
     "output_type": "execute_result"
    }
   ],
   "source": [
    "import bitstring\n",
    "from decimal import Decimal\n",
    "\n",
    "\n",
    "myInput = '00000011111000000000000000000000' # 32 bit word input\n",
    "#print(myArr)\n",
    "\n",
    "def myConvert2(myInput):\n",
    "    e = 0\n",
    "    M = 0\n",
    "    myArr = bitstring.BitArray(bin = myInput).bin\n",
    "    # print(myInput) \n",
    "    # Calculation of the Exponent:\n",
    "    #print(myArr[0])\n",
    "    for i in range(1,9):\n",
    "        #print(int(i))\n",
    "        e += int(myArr[i])*(2**(8-i))\n",
    "    #print(e)\n",
    "    # Calculation of Mantissa\n",
    "    for j in range(1,23):\n",
    "        #print(j)\n",
    "        #print(Decimal(2**-j))\n",
    "        #print((2**-j)*float(myArr[8+j]))\n",
    "        M += (2**-j)*float(myArr[8+j])\n",
    "    M += 1 # Out of the loop, M is increased by 1 with respect to the Mattissa Formula given.\n",
    "    #print(M)    \n",
    "    #print(Decimal(myArr[0]) == Decimal(0))\n",
    "    #print(0)\n",
    "    #print(myArr[0])\n",
    "    if Decimal(myArr[0]) == Decimal(0): # Control operations by the help of Decimal. Otherwise, equality is not satisfied.\n",
    "        return M*(2**(e-127))\n",
    "        \n",
    "    else:\n",
    "        return (-M)*(2**(e-127))\n",
    "    \n",
    "    \n",
    "    \n",
    "myConvert2(myInput)\n"
   ]
  },
  {
   "cell_type": "markdown",
   "metadata": {},
   "source": [
    "3\\. Write a program to determine the underflow and overflow limits (within a factor of 2) for python on your computer. \n",
    "\n",
    "**Tip**: define two variables initialized to 1 and halve/double them for a sufficient amount of times to exceed the under/over-flow limits  "
   ]
  },
  {
   "cell_type": "code",
   "execution_count": 516,
   "metadata": {},
   "outputs": [
    {
     "name": "stdout",
     "output_type": "stream",
     "text": [
      "UnderFlowLimit is reached when the number is 5e-324\n",
      "OverFlowLimit is reached when the number is:  179769313486231590772930519078902473361797697894230657273430081157732675805500963132708477322407536021120113879871393357658789768814416622492847430639474124377767893424865485276302219601246094119453082952085005768838150682342462881473913110540827237163350510684586298239947245938479716304835356329624224137216\n"
     ]
    }
   ],
   "source": [
    "import sys\n",
    "import decimal\n",
    "X_under = 1\n",
    "def defineLimit():\n",
    "    isOver = True\n",
    "    isUnder = True\n",
    "    X_over = 1\n",
    "    X_under = 1\n",
    "\n",
    "\n",
    "    while isUnder:\n",
    "        myLowerLimit = X_under/2\n",
    "        #print(X_under,myLowerLimit)\n",
    "        if myLowerLimit == 0.0:\n",
    "            print(\"UnderFlowLimit is reached when the number is\",X_under)\n",
    "            isUnder = False\n",
    "        X_under/=2\n",
    "        #print(X_under,myLowerLimit)\n",
    "\n",
    "    try:\n",
    "        while isOver:\n",
    "            myOverLimit = X_over*2.0\n",
    "            X_over*=2\n",
    "            myLowerLimit = X_under/2.0\n",
    "            X_under/=2\n",
    "    except:\n",
    "        #print(\"Oops!\", sys.exc_info()[0], \"occurred.\")\n",
    "        print(\"OverFlowLimit is reached when the number is: \",X_over)\n",
    "\n",
    "\n",
    "defineLimit()"
   ]
  },
  {
   "cell_type": "markdown",
   "metadata": {},
   "source": [
    "4\\. Write a program to determine the machine precision\n",
    "\n",
    "**Tip**: define a new variable by adding an increasingly smaller value (in the same way as the previous problem) and check when the addition starts to have no effect on the number"
   ]
  },
  {
   "cell_type": "code",
   "execution_count": 517,
   "metadata": {},
   "outputs": [
    {
     "name": "stdout",
     "output_type": "stream",
     "text": [
      "5 5.1\n",
      "5.1 5.109999999999999\n",
      "5.109999999999999 5.111\n",
      "5.111 5.1110999999999995\n",
      "5.1110999999999995 5.111109999999999\n",
      "5.111109999999999 5.111110999999999\n",
      "5.111110999999999 5.1111111\n",
      "5.1111111 5.1111111099999995\n",
      "5.1111111099999995 5.111111111\n",
      "5.111111111 5.1111111111\n",
      "5.1111111111 5.11111111111\n",
      "5.11111111111 5.111111111111\n",
      "5.111111111111 5.1111111111111\n",
      "5.1111111111111 5.11111111111111\n",
      "5.11111111111111 5.111111111111111\n",
      "5.111111111111111 5.111111111111111\n",
      "A is not changing any more!!! 5.111111111111111 5.111111111111111\n",
      "My machine precision is: 15 decimal points\n"
     ]
    }
   ],
   "source": [
    "def myPrecision():\n",
    "    i=1\n",
    "    count = 0\n",
    "    A = 5\n",
    "    A_origin = A\n",
    "    A_old = A\n",
    "    areTheSame = True\n",
    "    while areTheSame:\n",
    "        A += 0.1**i\n",
    "        print(A_old,A)\n",
    "        if A==A_old:\n",
    "            print(\"A is not changing any more!!!\",A_old,A)\n",
    "            areTheSame=False\n",
    "        A_old+=0.1**i\n",
    "        #print(\"Just for check\",A_old,A)\n",
    "        i+=1\n",
    "    myStr = str(A)\n",
    "    print(\"My machine precision is: %d decimal points\" %(len(myStr)-2))\n",
    "        \n",
    "myPrecision()        \n",
    "        "
   ]
  },
  {
   "cell_type": "markdown",
   "metadata": {},
   "source": [
    "5. Write a function that takes in input three parameters $a$, $b$ and $c$ and prints out the two solutions to the quadratic equation $ax^2+bx+c=0$ using the standard formula: $$x=\\frac{-b\\pm\\sqrt{b^2-4ac}}{2a}$$\n",
    "\n",
    "(a) use the program to compute the solution for $a=0.001$, $b=1000$ and $c=0.001$\n",
    "(b) re-express the standard solution formula by multiplying the numerator and the denominator by $-b\\mp\\sqrt{b^2-4ac}$ and again find the solution for $a=0.001$, $b=1000$ and $c=0.001$. How does it compare with what has been previously obtained, and why?\n",
    "(c) write a function that computes the roots of a quadratic equation accurately in all cases"
   ]
  },
  {
   "cell_type": "code",
   "execution_count": 518,
   "metadata": {},
   "outputs": [
    {
     "data": {
      "text/plain": [
       "(-9.999894245993346e-07, -999999.999999)"
      ]
     },
     "execution_count": 518,
     "metadata": {},
     "output_type": "execute_result"
    }
   ],
   "source": [
    "import math\n",
    "a=0.001\n",
    "b=1000\n",
    "c=0.001\n",
    "#print(b)\n",
    "#print(b**2-4*a*c)\n",
    "#print(-b+math.sqrt(b**2-(4*a*c)))\n",
    "#print((-b+math.sqrt(b**2-(4*a*c)))/(2*a))\n",
    "\n",
    "def findRoots(a,b,c):\n",
    "    x1 = (-b + math.sqrt((b**2)-(4*a*c)))/(2*a)\n",
    "    x2 = (-b - math.sqrt((b**2)-(4*a*c)))/(2*a)\n",
    "    \n",
    "    return x1,x2\n",
    "\n",
    "findRoots(a,b,c)\n",
    "\n",
    "\n",
    "\n"
   ]
  },
  {
   "cell_type": "code",
   "execution_count": 519,
   "metadata": {},
   "outputs": [
    {
     "data": {
      "text/plain": [
       "(-1.000000000001e-06, -1000010.5755125057)"
      ]
     },
     "execution_count": 519,
     "metadata": {},
     "output_type": "execute_result"
    }
   ],
   "source": [
    "import math\n",
    "\n",
    "a=0.001\n",
    "b=1000\n",
    "c=0.001\n",
    "\n",
    "def findRoots2(a,b,c):\n",
    "    x1 = (2*c)/(-b-math.sqrt((b**2)-(4*a*c)))\n",
    "    x2 = (2*c)/(-b+math.sqrt((b**2)-(4*a*c)))\n",
    "    \n",
    "    return x1,x2 \n",
    "\n",
    "findRoots2(a,b,c)"
   ]
  },
  {
   "cell_type": "markdown",
   "metadata": {},
   "source": [
    "Modified Formula is: $$x=\\frac{2c}{(-b\\pm\\sqrt{b^2-4ac})}$$\n",
    "\n",
    "\n",
    "\n",
    "Since we subtracted nearly equal numbers(b and sqrt(b^2-4ac)) in the first example, it leads to loss of precision.\n",
    "It gives the correct answer for the first root but still there is the same problem: \"Subtraction of the nearly equal numbers.\"\n"
   ]
  },
  {
   "cell_type": "code",
   "execution_count": 520,
   "metadata": {},
   "outputs": [
    {
     "data": {
      "text/plain": [
       "(-1.000000000001e-06, -999999.9999989999)"
      ]
     },
     "execution_count": 520,
     "metadata": {},
     "output_type": "execute_result"
    }
   ],
   "source": [
    "import math\n",
    "\n",
    "a=0.001\n",
    "b=1000\n",
    "c=0.001\n",
    "Delta = b**2 - 4*a*c\n",
    "#print(Delta)\n",
    "def findRoots3(a,b,c):\n",
    "    if b<0: # This condition always give the bigger root first!\n",
    "        x1 = (2*c)/(-b+math.sqrt((b**2)-(4*a*c)))\n",
    "    else:\n",
    "        x1 = (2*c)/(-b-math.sqrt((b**2)-(4*a*c)))\n",
    "\n",
    "# We know that multiplication of x1 and x2 is c/a.\n",
    "        x2 = c/(a*x1)\n",
    "    return x1,x2\n",
    "findRoots3(a,b,c)"
   ]
  },
  {
   "cell_type": "markdown",
   "metadata": {},
   "source": [
    "# 6\\. Write a program that implements the function $f(x)=x(x−1)$\n",
    "\n",
    "(a) Calculate the derivative of the function at the point $x = 1$ using the derivative definition:\n",
    "\n",
    "$$\n",
    "\\frac{{\\rm d}f}{{\\rm d}x} = \\lim_{\\delta\\to0} \\frac{f(x+\\delta)-f(x)}{\\delta}\n",
    "$$\n",
    "\n",
    "with $\\delta = 10^{−2}$. Calculate the true value of the same derivative analytically and compare it with the answer your program gives. The two will not agree perfectly. Why?\n",
    "\n",
    "(b) Repeat the calculation for $\\delta = 10^{−4}, 10^{−6}, 10^{−8}, 10^{−10}, 10^{−12}$ and $10^{−14}$. How does the accuracy scales with $\\delta$?"
   ]
  },
  {
   "cell_type": "code",
   "execution_count": 521,
   "metadata": {},
   "outputs": [
    {
     "name": "stdout",
     "output_type": "stream",
     "text": [
      "1.010000000000001\n",
      "1.0000999999998899\n",
      "1.0000100000065513\n",
      "1.0000009999177333\n",
      "1.0000001005838672\n",
      "1.0000000039225287\n",
      "1.000000083740371\n"
     ]
    },
    {
     "data": {
      "text/plain": [
       "1.000000083740371"
      ]
     },
     "execution_count": 521,
     "metadata": {},
     "output_type": "execute_result"
    }
   ],
   "source": [
    "# Analytically, f'(x) is equal to 1 at teh point x=1.\n",
    "\n",
    "def myDer(a,d: float):\n",
    "    # where d is very small number\n",
    "    myResult = (((a+d)*(a+d-1)-a*(a-1)))/d #from the formula given.\n",
    "    print(myResult)\n",
    "    return myResult\n",
    "\n",
    "\n",
    "myDer(1,0.01)\n",
    "myDer(1,0.0001)\n",
    "myDer(1,0.00001)\n",
    "myDer(1,0.000001)\n",
    "myDer(1,0.0000001)\n",
    "myDer(1,0.00000001)\n",
    "myDer(1,0.000000001)\n",
    "\n",
    "# Derivative of f(x) is defined as how the function value f(x) changes with the infinitesimally small change of x.\n",
    "# Therefore, the results are as expected because the small d values give more accurate value of f'(x)\n",
    "# The concept behind is similar to previous question. When d is gradually decreased, the addition of a and d will\n",
    "# be more meaningful because one of them is a high value but the other is not.\n",
    "# As we know, the subtraction of nearly equal numbers leads to precision loss."
   ]
  },
  {
   "cell_type": "markdown",
   "metadata": {},
   "source": [
    "Derivative of f(x) is defined as how the function value f(x) changes with the infinitesimally small change of x.\n",
    "\n",
    "Therefore, the results are as expected because the small d values give more accurate value of f'(x)\n",
    "\n",
    "The concept behind is similar to previous question. When d is gradually decreased, the addition of a and d will\n",
    "\n",
    "be more meaningful because one of them is a high value but the other is not compared to other.\n",
    "\n",
    "As we know, the subtraction of nearly equal numbers leads to precision loss."
   ]
  },
  {
   "cell_type": "markdown",
   "metadata": {},
   "source": [
    "7\\. Consider the integral of the semicircle of radius 1:\n",
    "$$\n",
    "I=\\int_{-1}^{1} \\sqrt(1-x^2) {\\rm d}x\n",
    "$$\n",
    "which is known to be $I=\\frac{\\pi}{2}=1.57079632679...$.\n",
    "\n",
    "Alternatively we can use the Riemann definition of the integral:\n",
    "$$\n",
    "I=\\lim_{N\\to\\infty} \\sum_{k=1}^{N} h y_k \n",
    "$$\n",
    "\n",
    "with $h=2/N$ the width of each of the $N$ slices the domain is divided into and where\n",
    "$y_k$ is the value of the function at the $k-$th slice.\n",
    "\n",
    "(a) Write a program to compute the integral with $N=100$. How does the result compare to the true value?\n",
    "\n",
    "(b) How much can $N$ be increased if the computation needs to be run in less than a second? What is the gain in running it for 1 minute? \n"
   ]
  },
  {
   "cell_type": "code",
   "execution_count": 512,
   "metadata": {},
   "outputs": [
    {
     "name": "stdout",
     "output_type": "stream",
     "text": [
      "1.5707943251318113\n"
     ]
    }
   ],
   "source": [
    "import math\n",
    "\n",
    "\n",
    "def mySemiCircleArea(N):\n",
    "    myTotal_Y = 0\n",
    "    for k in range(1,N//2+1):\n",
    "        #print(k)\n",
    "        myTotal_Y += math.sqrt((N-2*k)*(N+2*k))\n",
    "        \n",
    "    myArea = 4*myTotal_Y/(N**2)\n",
    "    \n",
    "    return myArea\n",
    "\n",
    "print(mySemiCircleArea(1000000))\n",
    "\n",
    "#%timeit mySemiCircleArea(1000000)\n",
    "\n",
    "    "
   ]
  },
  {
   "cell_type": "markdown",
   "metadata": {},
   "source": [
    "First of all, I would like to write the formula for the quarter circle and finally multiply by 2.\n",
    "\n",
    "h = 2/N \n",
    "\n",
    "For the sum, I used Nu=50 for the quarter circle. However, N will be 100 for the function definition.\n",
    "\n",
    "\n",
    "\n",
    "$$\n",
    "                I = 4\\sum_{k=1}^{Nu=50}\\frac{h\\sqrt{1 - (2k)^2}}{N^2}  \n",
    "$$\n",
    "\n",
    "By arranging the equation h=2/N, I obtained:\n",
    "\n",
    "\n",
    "$$\n",
    "                I = \\frac{4}{N^2}\\sum_{k=1}^{Nu=50}\\sqrt{(N-2k)*(N+2k)}  \n",
    "$$             \n",
    "\n",
    "In this equation N is a big integer compared to k which is also an integer. No problem with the precision.\n",
    "\n",
    "When N is equal to a million, total time is 127ms\n",
    "\n",
    "However, when N is equal to 10 million, total time is 1.24 seconds.\n",
    "\n",
    "Maximum value of N should be a million for running time less than a second.\n",
    "\n",
    "And the result is I = 1.5707943251318113 \n",
    "\n",
    "However, when I run the timeit function, my computer temperature increased. So, I didn' t complete it.\n",
    "\n",
    "when N is a billion, the result is correct including 8 decimal points, which is more precise as expected. When N \n",
    "\n",
    "increases, the error due to Riemann sum definition(the areas of the rectangles) decreases and division of the sum \n",
    "\n",
    "expression result in more precise number. \n",
    "\n",
    "$$\n",
    "                I = \\frac{order of (N)}{order of (N^2)}   \n",
    "$$\n",
    "\n",
    "\n",
    "Denominator increases more compared to nominator. Therefore, the division gives more precise number with the gradual increase of N.\n",
    "\n"
   ]
  },
  {
   "cell_type": "code",
   "execution_count": 510,
   "metadata": {},
   "outputs": [
    {
     "name": "stdout",
     "output_type": "stream",
     "text": [
      "1.6927719116210938e-05 100\n",
      "0.015336751937866211 100100\n",
      "0.02823495864868164 200100\n",
      "0.04454922676086426 300100\n",
      "0.05498099327087402 400100\n",
      "0.09335613250732422 500100\n",
      "0.08165502548217773 600100\n",
      "0.10255289077758789 700100\n",
      "0.10839700698852539 800100\n",
      "0.12063384056091309 900100\n",
      "0.12777495384216309 1000100\n",
      "0.14600491523742676 1100100\n",
      "0.16077804565429688 1200100\n",
      "0.1831660270690918 1300100\n",
      "0.1982870101928711 1400100\n",
      "0.20099806785583496 1500100\n",
      "0.2074289321899414 1600100\n",
      "0.22803187370300293 1700100\n",
      "0.2449169158935547 1800100\n",
      "0.254166841506958 1900100\n",
      "0.26670193672180176 2000100\n",
      "0.2673637866973877 2100100\n",
      "0.28145384788513184 2200100\n",
      "0.30226588249206543 2300100\n",
      "0.3094968795776367 2400100\n",
      "0.33831238746643066 2500100\n",
      "0.3503432273864746 2600100\n",
      "0.369952917098999 2700100\n",
      "0.3601100444793701 2800100\n",
      "0.38359785079956055 2900100\n",
      "0.3953237533569336 3000100\n",
      "0.4091782569885254 3100100\n",
      "0.4168229103088379 3200100\n",
      "0.4355931282043457 3300100\n",
      "0.4563479423522949 3400100\n",
      "0.4593238830566406 3500100\n",
      "0.47126197814941406 3600100\n",
      "0.4756448268890381 3700100\n",
      "0.47879719734191895 3800100\n",
      "0.5281469821929932 3900100\n",
      "0.5197529792785645 4000100\n",
      "0.5388748645782471 4100100\n",
      "0.5605230331420898 4200100\n",
      "0.5567169189453125 4300100\n",
      "0.5794970989227295 4400100\n",
      "0.5897159576416016 4500100\n",
      "0.6230101585388184 4600100\n",
      "0.6202421188354492 4700100\n",
      "0.618128776550293 4800100\n",
      "0.6248860359191895 4900100\n",
      "0.6389250755310059 5000100\n",
      "0.6630880832672119 5100100\n",
      "0.6943387985229492 5200100\n",
      "0.6912610530853271 5300100\n",
      "0.6939220428466797 5400100\n",
      "0.7229790687561035 5500100\n",
      "0.735584020614624 5600100\n",
      "0.7606279850006104 5700100\n",
      "0.7328760623931885 5800100\n",
      "0.7548642158508301 5900100\n",
      "0.7685518264770508 6000100\n",
      "0.797245979309082 6100100\n",
      "0.7937140464782715 6200100\n",
      "0.8041369915008545 6300100\n",
      "0.8141458034515381 6400100\n",
      "0.8448240756988525 6500100\n",
      "0.8748369216918945 6600100\n",
      "0.8829960823059082 6700100\n",
      "0.8639397621154785 6800100\n",
      "0.8937211036682129 6900100\n",
      "0.9108519554138184 7000100\n",
      "0.9191169738769531 7100100\n",
      "0.9027159214019775 7200100\n",
      "0.9354312419891357 7300100\n",
      "0.936133861541748 7400100\n",
      "0.9841420650482178 7500100\n",
      "0.9819238185882568 7600100\n",
      "0.9979219436645508 7700100\n",
      "0.9745421409606934 7800100\n",
      "1.0002269744873047 7900100\n",
      "max N is: 7900100 and the time is : 1 \n",
      "1.570796073558683\n"
     ]
    }
   ],
   "source": [
    "import time\n",
    "import math\n",
    "\n",
    "\n",
    "def mySemiCircleArea(N):\n",
    "    \n",
    "    myTotal_Y = 0\n",
    "    for k in range(1,N//2+1):\n",
    "        #print(k)\n",
    "        myTotal_Y += math.sqrt((N-2*k)*(N+2*k))\n",
    "        \n",
    "    myArea = 4*myTotal_Y/(N**2)\n",
    "    return myArea\n",
    "\n",
    "\n",
    "\n",
    "for i in range(100,10000000,100000):\n",
    "    start_time = time.time()\n",
    "    mySemiCircleArea(i)  \n",
    "    finish_time = time.time()-start_time\n",
    "    print(finish_time,i)\n",
    "    if finish_time>=1:\n",
    "        #print(\"--- %s seconds ---\" % (finish_time))\n",
    "        print(\"max N is: %d and the time is :%2.f \" %(i,finish_time))\n",
    "        print(mySemiCircleArea(i))\n",
    "        break\n",
    "    \n",
    "    \n",
    "    "
   ]
  },
  {
   "cell_type": "markdown",
   "metadata": {},
   "source": [
    "Time is arranged to 1 second and corresponding N is maximum 7900000. Of course more exact results can be found but it is enough to see the order of N and result of the function is approximated to analytical value.   "
   ]
  }
 ],
 "metadata": {
  "kernelspec": {
   "display_name": "Python 3",
   "language": "python",
   "name": "python3"
  },
  "language_info": {
   "codemirror_mode": {
    "name": "ipython",
    "version": 3
   },
   "file_extension": ".py",
   "mimetype": "text/x-python",
   "name": "python",
   "nbconvert_exporter": "python",
   "pygments_lexer": "ipython3",
   "version": "3.8.8"
  }
 },
 "nbformat": 4,
 "nbformat_minor": 2
}
