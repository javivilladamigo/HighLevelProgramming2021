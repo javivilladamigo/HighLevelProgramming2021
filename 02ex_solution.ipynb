{
 "cells": [
  {
   "cell_type": "markdown",
   "metadata": {},
   "source": [
    "1. Write the following expressions using the list comprehension"
   ]
  },
  {
   "cell_type": "code",
   "execution_count": 67,
   "metadata": {},
   "outputs": [
    {
     "name": "stdout",
     "output_type": "stream",
     "text": [
      "[(0, 0), (0, 1), (0, 2), (0, 3), (1, 0), (1, 1), (1, 2), (1, 3), (2, 0), (2, 1), (2, 2), (2, 3)]\n",
      "[1, 9, 25, 49, 81]\n"
     ]
    }
   ],
   "source": [
    "# 1\n",
    "\"\"\"\n",
    "ans = []\n",
    "for i in range(3):\n",
    "    for j in range(4):\n",
    "        ans.append((i, j))\n",
    "print(ans)\n",
    "\"\"\"\n",
    "ans = []\n",
    "ans = [(i,j) for i in range(3) for j in range(4)]\n",
    "print(ans)\n",
    "\n",
    "\n",
    "# 2\n",
    "#ans = map(lambda x: x * x, filter(lambda x: x % 2 == 1, range(10)))\n",
    "\n",
    "ans = [(x*x) for x in range(10) if x%2==1]\n",
    "print(list(ans))"
   ]
  },
  {
   "cell_type": "code",
   "execution_count": null,
   "metadata": {},
   "outputs": [],
   "source": []
  },
  {
   "cell_type": "markdown",
   "metadata": {},
   "source": [
    "2\\. Convert the function $f$ into a function that doesn't use global variables and that does not modify the original list"
   ]
  },
  {
   "cell_type": "code",
   "execution_count": 7,
   "metadata": {},
   "outputs": [
    {
     "name": "stdout",
     "output_type": "stream",
     "text": [
      "[1, 2, 3, 0, 1, 2, 3, 4]\n",
      "[1, 2, 3]\n"
     ]
    }
   ],
   "source": [
    "#x = 5\n",
    "def f(alist):\n",
    "    x = 5\n",
    "    c = alist.copy()\n",
    "    for i in range(x):\n",
    "         c.append(i)\n",
    "    return c\n",
    "\n",
    "alist = [1,2,3]\n",
    "ans = f(alist)\n",
    "print(ans)\n",
    "print(alist) # alist has NOT been changed!"
   ]
  },
  {
   "cell_type": "raw",
   "metadata": {},
   "source": [
    "3. Write a `decorator` hello that makes every wrapped function print “Hello!”, i.e. something like:\n",
    "\n",
    "\n"
   ]
  },
  {
   "cell_type": "code",
   "execution_count": 27,
   "metadata": {},
   "outputs": [
    {
     "name": "stdout",
     "output_type": "stream",
     "text": [
      "Hello!\n"
     ]
    }
   ],
   "source": [
    "def hello(square):\n",
    "    def wrapper():\n",
    "        square(50)\n",
    "    return wrapper()\n",
    "    \n",
    "@hello\n",
    "def square(x):\n",
    "    print(\"Hello!\")"
   ]
  },
  {
   "cell_type": "markdown",
   "metadata": {},
   "source": [
    "4\\. Write the factorial function in two different ways, so that it a) does and b) does not use recursion."
   ]
  },
  {
   "cell_type": "code",
   "execution_count": 16,
   "metadata": {},
   "outputs": [
    {
     "name": "stdout",
     "output_type": "stream",
     "text": [
      "120\n",
      "120\n"
     ]
    }
   ],
   "source": [
    "def factorial_recursive(n):\n",
    "    if n == 1:\n",
    "        return n\n",
    "    else:\n",
    "        return n * factorial_recursive(n - 1)\n",
    "\n",
    "\n",
    "def factorial(n):\n",
    "    sum = 1\n",
    "    for i in range(n):\n",
    "        sum = sum * (i + 1)\n",
    "    return sum\n",
    "\n",
    "recursive_result = factorial_recursive(5)\n",
    "nonrecursive_result = factorial(5)\n",
    "\n",
    "print(recursive_result)\n",
    "print(nonrecursive_result)"
   ]
  },
  {
   "cell_type": "markdown",
   "metadata": {},
   "source": [
    "5\\. Use HOFs (zip in particular) to compute the weight of a circle, a disk and a sphere, assuming different radii and different densities:\n",
    "\n",
    "```python\n",
    "densities = {\"Al\" : [0.5, 1, 2], \"Fe\" : [3, 4, 5], \"Pb\" : [15, 20, 30]}\n",
    "radii = [1, 2, 3]\n",
    "```\n",
    "\n",
    "where the entries of the dictionary's values are the linear, superficial and volumetric densities of the materials respectively.\n",
    "\n",
    "Subsequently, define a list using a comprehension with three lambda functions that compute the circumference, the area and the volume for a given radius.\n"
   ]
  },
  {
   "cell_type": "code",
   "execution_count": 49,
   "metadata": {},
   "outputs": [
    {
     "name": "stdout",
     "output_type": "stream",
     "text": [
      "Circumferences [6.283185307179586, 12.566370614359172, 18.84955592153876]\n",
      "Areas [3.141592653589793, 12.566370614359172, 28.274333882308138]\n",
      "Volume [4.1887902047863905, 33.510321638291124, 113.09733552923254]\n",
      "\n",
      "Weight of circles\n",
      "3.141592653589793\n",
      "6.283185307179586\n",
      "12.566370614359172\n",
      "37.69911184307752\n",
      "50.26548245743669\n",
      "62.83185307179586\n",
      "282.7433388230814\n",
      "376.99111843077515\n",
      "565.4866776461628\n",
      "\n",
      "Weight of areas\n",
      "1.5707963267948966\n",
      "3.141592653589793\n",
      "6.283185307179586\n",
      "37.69911184307752\n",
      "50.26548245743669\n",
      "62.83185307179586\n",
      "424.11500823462205\n",
      "565.4866776461628\n",
      "848.2300164692441\n",
      "\n",
      "Weight of volumes\n",
      "2.0943951023931953\n",
      "4.1887902047863905\n",
      "8.377580409572781\n",
      "100.53096491487338\n",
      "134.0412865531645\n",
      "167.5516081914556\n",
      "1696.460032938488\n",
      "2261.9467105846506\n",
      "3392.920065876976\n"
     ]
    }
   ],
   "source": [
    "from math import pi\n",
    "densities = {\"Al\" : [0.5, 1, 2], \"Fe\" : [3, 4, 5], \"Pb\" : [15, 20, 30]}\n",
    "radii = [1, 2, 3]\n",
    "\n",
    "circumference = lambda rad: 2 * pi * rad\n",
    "area = lambda rad: pi * rad**2\n",
    "volume = lambda rad: 4/3 * pi * rad**3\n",
    "\n",
    "C = []\n",
    "A = []\n",
    "V = []\n",
    "for x in radii:\n",
    "    C.append(circumference(x))\n",
    "    A.append(area(x))\n",
    "    V.append(volume(x))\n",
    "    \n",
    "print(\"Circumferences\", C)\n",
    "print(\"Areas\", A)\n",
    "print(\"Volume\", V)\n",
    "\n",
    "print(\"\\nWeight of circles\")\n",
    "for c, dens in zip(C, densities.values()):\n",
    "    print(c * dens[0])\n",
    "    print(c * dens[1])\n",
    "    print(c * dens[2])\n",
    "print(\"\\nWeight of areas\")\n",
    "for a, dens in zip(A, densities.values()):\n",
    "    print(a * dens[0])\n",
    "    print(a * dens[1])\n",
    "    print(a * dens[2])\n",
    "print(\"\\nWeight of volumes\")\n",
    "for v, dens in zip(V, densities.values()):\n",
    "    print(v * dens[0])\n",
    "    print(v * dens[1])\n",
    "    print(v * dens[2])"
   ]
  },
  {
   "cell_type": "markdown",
   "metadata": {},
   "source": [
    "6\\. Edit the class defintion to add an instance attribute of `is_hungry = True` to the Dog class. Then add a method called `eat()` which changes the value of `is_hungry` to `False` when called. Figure out the best way to instantiate the dog objects and to feed the dogs, e.g. call the `eat()` method for all instances. Finally, print “My dogs are hungry.” or “My dogs are not hungry.” if all of them have `is_hungry = True` or `False`, respectively. The final output should look like this:\n",
    "\n",
    "`I have 3 dogs. \n",
    "Tom is 6. \n",
    "Fletcher is 7. \n",
    "Larry is 9. \n",
    "And they're all mammals, of course. \n",
    "My dogs are not hungry.\n",
    "`\n",
    "\n",
    "```python\n",
    "# Parent class\n",
    "class Dog:\n",
    "\n",
    "    # Class attribute\n",
    "    species = 'mammal'\n",
    "\n",
    "    # Initializer / Instance attributes\n",
    "    def __init__(self, name, age):\n",
    "        self.name = name\n",
    "        self.age = age\n",
    "\n",
    "    # instance method\n",
    "    def description(self):\n",
    "        return \"{} is {} years old\".format(self.name, self.age)\n",
    "\n",
    "    # instance method\n",
    "    def speak(self, sound):\n",
    "        return \"{} says {}\".format(self.name, sound)\n",
    "\n",
    "# Child class (inherits from Dog class)\n",
    "class RussellTerrier(Dog):\n",
    "    def run(self, speed):\n",
    "        return \"{} runs {}\".format(self.name, speed)\n",
    "\n",
    "# Child class (inherits from Dog class)\n",
    "class Bulldog(Dog):\n",
    "    def run(self, speed):\n",
    "        return \"{} runs {}\".format(self.name, speed)\n",
    "```"
   ]
  },
  {
   "cell_type": "code",
   "execution_count": 36,
   "metadata": {},
   "outputs": [
    {
     "name": "stdout",
     "output_type": "stream",
     "text": [
      "My dogs are hungry.\n",
      "rus says hav\n",
      "bull says soda yok mu?\n",
      "My dogs are not hungry.\n"
     ]
    }
   ],
   "source": [
    "# Parent class\n",
    "class Dog:\n",
    "\n",
    "    # Class attribute\n",
    "    species = 'mammal'\n",
    "    is_hungry = True\n",
    "\n",
    "    # Initializer / Instance attributes\n",
    "    def __init__(self, name, age):\n",
    "        self.name = name\n",
    "        self.age = age\n",
    "\n",
    "    # instance method\n",
    "    def description(self):\n",
    "        return \"{} is {} years old\".format(self.name, self.age)\n",
    "\n",
    "    # instance method\n",
    "    def speak(self, sound):\n",
    "        return \"{} says {}\".format(self.name, sound)\n",
    "    \n",
    "    def eat(self):\n",
    "        self.is_hungry = False\n",
    "\n",
    "# Child class (inherits from Dog class)\n",
    "class RussellTerrier(Dog):\n",
    "    def run(self, speed):\n",
    "        return \"{} runs {}\".format(self.name, speed)\n",
    "\n",
    "# Child class (inherits from Dog class)\n",
    "class Bulldog(Dog):\n",
    "    def run(self, speed):\n",
    "        return \"{} runs {}\".format(self.name, speed)\n",
    "    \n",
    "    \n",
    "russell = RussellTerrier(\"rus\", 3)\n",
    "bulldog = Bulldog(\"bull\", 5)\n",
    "\n",
    "if russell.is_hungry == True and bulldog.is_hungry == True:\n",
    "    print(\"My dogs are hungry.\")\n",
    "if russell.is_hungry == False and bulldog.is_hungry == False:\n",
    "    print(\"My dogs are not hungry.\")\n",
    "\n",
    "russell.eat()\n",
    "bulldog.eat()\n",
    "\n",
    "print(russell.speak(\"hav\"))\n",
    "print(bulldog.speak(\"soda yok mu?\"))\n",
    "\n",
    "if russell.is_hungry == True and bulldog.is_hungry == True:\n",
    "    print(\"My dogs are hungry.\")\n",
    "if russell.is_hungry == False and bulldog.is_hungry == False:\n",
    "    print(\"My dogs are not hungry.\")\n",
    "    "
   ]
  },
  {
   "cell_type": "code",
   "execution_count": null,
   "metadata": {},
   "outputs": [],
   "source": []
  }
 ],
 "metadata": {
  "kernelspec": {
   "display_name": "Python 3",
   "language": "python",
   "name": "python3"
  },
  "language_info": {
   "codemirror_mode": {
    "name": "ipython",
    "version": 3
   },
   "file_extension": ".py",
   "mimetype": "text/x-python",
   "name": "python",
   "nbconvert_exporter": "python",
   "pygments_lexer": "ipython3",
   "version": "3.8.5"
  }
 },
 "nbformat": 4,
 "nbformat_minor": 2
}
