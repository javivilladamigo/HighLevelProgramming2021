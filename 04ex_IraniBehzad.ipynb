{
  "nbformat": 4,
  "nbformat_minor": 0,
  "metadata": {
    "kernelspec": {
      "display_name": "Python 3",
      "language": "python",
      "name": "python3"
    },
    "language_info": {
      "codemirror_mode": {
        "name": "ipython",
        "version": 3
      },
      "file_extension": ".py",
      "mimetype": "text/x-python",
      "name": "python",
      "nbconvert_exporter": "python",
      "pygments_lexer": "ipython3",
      "version": "3.8.5"
    },
    "colab": {
      "name": "04ex_IraniBehzad.ipynb",
      "provenance": [],
      "collapsed_sections": []
    }
  },
  "cells": [
    {
      "cell_type": "markdown",
      "metadata": {
        "id": "A27qglwUXOxX"
      },
      "source": [
        "1\\. Find the total mean, and the mean for each row and column of the following matrix:\n",
        "\n",
        "```python\n",
        "m = np.arange(12).reshape((3,4))\n",
        "```"
      ]
    },
    {
      "cell_type": "code",
      "metadata": {
        "colab": {
          "base_uri": "https://localhost:8080/"
        },
        "id": "lB9vOulJXOxb",
        "outputId": "5ba0a373-8e26-4170-d55a-9a1ebab2eda3"
      },
      "source": [
        "import numpy as np\n",
        "\n",
        "m = np.arange(12).reshape((3,4))\n",
        "\n",
        "mean_total = np.mean(m)\n",
        "mean_column = np.mean(m, axis=0)\n",
        "mean_row = np.mean(m, axis=1)\n",
        "print(f\"mean_total : {mean_total}\")\n",
        "print(f\"mean_column : {mean_column}\")\n",
        "print(f\"mean_row : {mean_row}\")"
      ],
      "execution_count": 1,
      "outputs": [
        {
          "output_type": "stream",
          "name": "stdout",
          "text": [
            "mean_total : 5.5\n",
            "mean_column : [4. 5. 6. 7.]\n",
            "mean_row : [1.5 5.5 9.5]\n"
          ]
        }
      ]
    },
    {
      "cell_type": "markdown",
      "metadata": {
        "id": "VHMWSDc6XOxc"
      },
      "source": [
        "2\\. Find the outer product of the following vectors:\n",
        "\n",
        "```python\n",
        "u = np.array([1, 3, 5, 7])\n",
        "v = np.array([2, 4, 6, 8])\n",
        "```\n",
        "\n",
        "Use different methods to do this:\n",
        "\n",
        "   1. Using the function `outer` in numpy\n",
        "   2. Using a nested `for` loop or a list comprehension\n",
        "   3. Using numpy broadcasting operations"
      ]
    },
    {
      "cell_type": "code",
      "metadata": {
        "colab": {
          "base_uri": "https://localhost:8080/"
        },
        "id": "RyJK3Yn3alV_",
        "outputId": "da83120b-399f-4298-8f39-c24c1ae5d823"
      },
      "source": [
        "u = np.array([1, 3, 5, 7])\n",
        "v = np.array([2, 4, 6, 8])\n",
        "outer_method = np.outer(u, v)\n",
        "print(f\"outer_method :\")\n",
        "print(outer_method)\n",
        "\n",
        "# nested for loop or a list comprehension\n",
        "\n",
        "o = np.zeros((u.shape[0], v.shape[0]))\n",
        "for i in range(len(u)):\n",
        "  for j in range(len(v)):\n",
        "    o[i,j] = u[i]*v[j]\n",
        "print()    \n",
        "print(f\"outer with for :\")\n",
        "print(o)\n",
        "m = np.asarray([ u[i]*v[j] for i in range(4) for j in range(4) ])\n",
        "m = m.reshape(4,4)\n",
        "print()\n",
        "print(f\"comprehension :\")\n",
        "print(m)\n",
        "\n",
        "#Broadcast method\n",
        "broad_method = u.reshape((4,1))*v\n",
        "print()\n",
        "print(f\"broad_method :\")\n",
        "print(broad_method)"
      ],
      "execution_count": 2,
      "outputs": [
        {
          "output_type": "stream",
          "name": "stdout",
          "text": [
            "outer_method :\n",
            "[[ 2  4  6  8]\n",
            " [ 6 12 18 24]\n",
            " [10 20 30 40]\n",
            " [14 28 42 56]]\n",
            "\n",
            "outer with for :\n",
            "[[ 2.  4.  6.  8.]\n",
            " [ 6. 12. 18. 24.]\n",
            " [10. 20. 30. 40.]\n",
            " [14. 28. 42. 56.]]\n",
            "\n",
            "comprehension :\n",
            "[[ 2  4  6  8]\n",
            " [ 6 12 18 24]\n",
            " [10 20 30 40]\n",
            " [14 28 42 56]]\n",
            "\n",
            "broad_method :\n",
            "[[ 2  4  6  8]\n",
            " [ 6 12 18 24]\n",
            " [10 20 30 40]\n",
            " [14 28 42 56]]\n"
          ]
        }
      ]
    },
    {
      "cell_type": "markdown",
      "metadata": {
        "id": "ro0fkqDpXOxd"
      },
      "source": [
        "3\\. Create a 10 by 6 matrix of increasing float numbers, starting from zero and increasing in each step by 0.1, so the output matrix looks like the following:\n",
        "\n",
        "```python\n",
        "m = [[0. 0.1, 0.2 0.3 ... 0.9]\n",
        "     [1.0 1.1 1.2 1.3 ... 1.9]\n",
        "     ...\n",
        "     [5.0 5.1 5.2 5.3 ... 5.9]]\n",
        "```\n",
        "After creating the matrix, set all entries with a decimal part $< 0.4$ to zero."
      ]
    },
    {
      "cell_type": "code",
      "metadata": {
        "colab": {
          "base_uri": "https://localhost:8080/"
        },
        "id": "aUogCVx7XOxd",
        "outputId": "4d4a846a-4000-4c14-8c94-fefeffb8a9d7"
      },
      "source": [
        "k = np.arange(0, 6, 0.1).reshape(6,10)\n",
        "mask = (k%1 < 0.4)\n",
        "k[mask] = 0\n",
        "# np.where(k%1 < 0.4, 0 , k)\n",
        "k\n"
      ],
      "execution_count": 3,
      "outputs": [
        {
          "output_type": "execute_result",
          "data": {
            "text/plain": [
              "array([[0. , 0. , 0. , 0. , 0.4, 0.5, 0.6, 0.7, 0.8, 0.9],\n",
              "       [0. , 0. , 0. , 0. , 1.4, 1.5, 1.6, 1.7, 1.8, 1.9],\n",
              "       [0. , 0. , 0. , 0. , 2.4, 2.5, 2.6, 2.7, 2.8, 2.9],\n",
              "       [0. , 0. , 0. , 0. , 3.4, 3.5, 3.6, 3.7, 3.8, 3.9],\n",
              "       [0. , 0. , 0. , 0. , 4.4, 4.5, 4.6, 4.7, 4.8, 4.9],\n",
              "       [0. , 0. , 0. , 0. , 5.4, 5.5, 5.6, 5.7, 5.8, 5.9]])"
            ]
          },
          "metadata": {},
          "execution_count": 3
        }
      ]
    },
    {
      "cell_type": "markdown",
      "metadata": {
        "id": "F00C1U5nXOxe"
      },
      "source": [
        "4\\. Use `np.linspace` to create an array of 100 numbers between 0 and 2π (inclusive).\n",
        "\n",
        "  * Extract every 10th element using the slice notation\n",
        "  * Reverse the array using the slice notation\n",
        "  * Extract elements where the absolute difference between the sin and cos functions evaluated for that element is $< 0.1$\n",
        "  * **Optional**: make a plot showing the sin and cos functions and indicate where they are close"
      ]
    },
    {
      "cell_type": "code",
      "metadata": {
        "colab": {
          "base_uri": "https://localhost:8080/",
          "height": 684
        },
        "id": "331Jqzs2XOxf",
        "outputId": "268b4c19-923e-41f0-e90c-18089709b237"
      },
      "source": [
        "import matplotlib.pyplot as plt\n",
        "\n",
        "\n",
        "a = np.linspace(0, 2*np.pi, 100)\n",
        "\n",
        "element10 = a[10::10]\n",
        "print(\"every 10th element\", element10)\n",
        "print()\n",
        "r = a[::-1]\n",
        "print(\"Reverse\", r)\n",
        "print()\n",
        "mask = (np.abs(np.sin(a)-np.cos(a)) < 0.1)\n",
        "diff = a[mask]\n",
        "print(\"absolute difference < 0.1 : \", diff)\n",
        "print()\n",
        "b = np.copy(a)\n",
        "plotmask = (np.abs(np.sin(a)-np.cos(a)) > 0.1)\n",
        "b[plotmask]=0\n",
        "\n",
        "non_zero = np.nonzero(b)[0]\n",
        "sin = np.sin(a)\n",
        "cos = np.cos(a)\n",
        "fig, ax = plt.subplots()\n",
        "ax.plot(sin, color=\"g\")\n",
        "ax.plot(cos, color=\"r\")\n",
        "# ax.plot(mask)\n",
        "plt.fill_between(np.arange(non_zero[0], non_zero[1]+1), -1, 1, interpolate=True)\n",
        "plt.fill_between(np.arange(non_zero[2], non_zero[3]+1), -1, 1)\n",
        "ax.legend([\"sin\",\"cos\",\"sin~cos\"])\n",
        "plt.show()"
      ],
      "execution_count": 4,
      "outputs": [
        {
          "output_type": "stream",
          "name": "stdout",
          "text": [
            "every 10th element [0.63466518 1.26933037 1.90399555 2.53866073 3.17332591 3.8079911\n",
            " 4.44265628 5.07732146 5.71198664]\n",
            "\n",
            "Reverse [6.28318531 6.21971879 6.15625227 6.09278575 6.02931923 5.96585272\n",
            " 5.9023862  5.83891968 5.77545316 5.71198664 5.64852012 5.58505361\n",
            " 5.52158709 5.45812057 5.39465405 5.33118753 5.26772102 5.2042545\n",
            " 5.14078798 5.07732146 5.01385494 4.95038842 4.88692191 4.82345539\n",
            " 4.75998887 4.69652235 4.63305583 4.56958931 4.5061228  4.44265628\n",
            " 4.37918976 4.31572324 4.25225672 4.1887902  4.12532369 4.06185717\n",
            " 3.99839065 3.93492413 3.87145761 3.8079911  3.74452458 3.68105806\n",
            " 3.61759154 3.55412502 3.4906585  3.42719199 3.36372547 3.30025895\n",
            " 3.23679243 3.17332591 3.10985939 3.04639288 2.98292636 2.91945984\n",
            " 2.85599332 2.7925268  2.72906028 2.66559377 2.60212725 2.53866073\n",
            " 2.47519421 2.41172769 2.34826118 2.28479466 2.22132814 2.15786162\n",
            " 2.0943951  2.03092858 1.96746207 1.90399555 1.84052903 1.77706251\n",
            " 1.71359599 1.65012947 1.58666296 1.52319644 1.45972992 1.3962634\n",
            " 1.33279688 1.26933037 1.20586385 1.14239733 1.07893081 1.01546429\n",
            " 0.95199777 0.88853126 0.82506474 0.76159822 0.6981317  0.63466518\n",
            " 0.57119866 0.50773215 0.44426563 0.38079911 0.31733259 0.25386607\n",
            " 0.19039955 0.12693304 0.06346652 0.        ]\n",
            "\n",
            "absolute difference < 0.1 :  [0.76159822 0.82506474 3.87145761 3.93492413]\n",
            "\n"
          ]
        },
        {
          "output_type": "display_data",
          "data": {
            "image/png": "[encoded data removed]",
            "text/plain": [
              "<Figure size 432x288 with 1 Axes>"
            ]
          },
          "metadata": {
            "needs_background": "light"
          }
        }
      ]
    },
    {
      "cell_type": "markdown",
      "metadata": {
        "id": "XLq78e3CXOxf"
      },
      "source": [
        "5\\. Create a matrix that shows the 10 by 10 multiplication table.\n",
        "\n",
        " * Find the trace of the matrix\n",
        " * Extract the anti-diagonal matrix (this should be ```array([10, 18, 24, 28, 30, 30, 28, 24, 18, 10])```)\n",
        " * Extract the diagonal offset by 1 upwards (this should be ```array([ 2,  6, 12, 20, 30, 42, 56, 72, 90])```)"
      ]
    },
    {
      "cell_type": "code",
      "metadata": {
        "id": "z9rKdIvPXOxg",
        "colab": {
          "base_uri": "https://localhost:8080/"
        },
        "outputId": "1f4fa91f-307c-4e3d-c2f7-f9dd0e8e24b9"
      },
      "source": [
        "Mul_table = np.arange(1, 11) * np.arange(1, 11).reshape(10, 1)\n",
        "trace = np.trace(Mul_table)\n",
        "anti_diag = np.fliplr(Mul_table).diagonal()\n",
        "offset_1_up = np.diagonal(Mul_table, offset=1)\n",
        "\n",
        "print(f\"main taible : \")\n",
        "print(Mul_table)\n",
        "print()\n",
        "\n",
        "print(f\"Trace of main table : {trace}\")\n",
        "print()\n",
        "\n",
        "print(f'The anti-diagonal matrix : {anti_diag}')\n",
        "print()\n",
        "\n",
        "print(f'The diagonal offset by 1 upwards: {offset_1_up}')\n"
      ],
      "execution_count": 5,
      "outputs": [
        {
          "output_type": "stream",
          "name": "stdout",
          "text": [
            "main taible : \n",
            "[[  1   2   3   4   5   6   7   8   9  10]\n",
            " [  2   4   6   8  10  12  14  16  18  20]\n",
            " [  3   6   9  12  15  18  21  24  27  30]\n",
            " [  4   8  12  16  20  24  28  32  36  40]\n",
            " [  5  10  15  20  25  30  35  40  45  50]\n",
            " [  6  12  18  24  30  36  42  48  54  60]\n",
            " [  7  14  21  28  35  42  49  56  63  70]\n",
            " [  8  16  24  32  40  48  56  64  72  80]\n",
            " [  9  18  27  36  45  54  63  72  81  90]\n",
            " [ 10  20  30  40  50  60  70  80  90 100]]\n",
            "\n",
            "Trace of main table : 385\n",
            "\n",
            "The anti-diagonal matrix : [10 18 24 28 30 30 28 24 18 10]\n",
            "\n",
            "The diagonal offset by 1 upwards: [ 2  6 12 20 30 42 56 72 90]\n"
          ]
        }
      ]
    },
    {
      "cell_type": "markdown",
      "metadata": {
        "id": "pQPORILMXOxg"
      },
      "source": [
        "6\\. Use broadcasting to create a grid of distances.\n",
        "\n",
        "Route 66 crosses the following cities in the US: Chicago, Springfield, Saint-Louis, Tulsa, Oklahoma City, Amarillo, Santa Fe, Albuquerque, Flagstaff, Los Angeles\n",
        "The corresponding positions in miles are: 0, 198, 303, 736, 871, 1175, 1475, 1544, 1913, 2448\n",
        "\n",
        "  * Build a 2D grid of distances among each city along Route 66\n",
        "  * Convert the distances in km"
      ]
    },
    {
      "cell_type": "code",
      "metadata": {
        "id": "f7AcIYpqXOxg",
        "colab": {
          "base_uri": "https://localhost:8080/"
        },
        "outputId": "1c5d24bf-0a91-413a-c02d-40018887c367"
      },
      "source": [
        "cities = np.array([[0, 198, 303, 736, 871, 1175, 1475, 1544, 1913, 2448]])\n",
        "print(np.abs(cities.T - cities))"
      ],
      "execution_count": 6,
      "outputs": [
        {
          "output_type": "stream",
          "name": "stdout",
          "text": [
            "[[   0  198  303  736  871 1175 1475 1544 1913 2448]\n",
            " [ 198    0  105  538  673  977 1277 1346 1715 2250]\n",
            " [ 303  105    0  433  568  872 1172 1241 1610 2145]\n",
            " [ 736  538  433    0  135  439  739  808 1177 1712]\n",
            " [ 871  673  568  135    0  304  604  673 1042 1577]\n",
            " [1175  977  872  439  304    0  300  369  738 1273]\n",
            " [1475 1277 1172  739  604  300    0   69  438  973]\n",
            " [1544 1346 1241  808  673  369   69    0  369  904]\n",
            " [1913 1715 1610 1177 1042  738  438  369    0  535]\n",
            " [2448 2250 2145 1712 1577 1273  973  904  535    0]]\n"
          ]
        }
      ]
    },
    {
      "cell_type": "markdown",
      "metadata": {
        "id": "3iNiG7PYXOxh"
      },
      "source": [
        "7\\. Prime numbers sieve: compute the prime numbers in the 0-N (start with N=99) range with a sieve (mask).\n",
        "  * Check the performances (timeit); how does it scale with N?\n",
        "  * Implement the optimization suggested in the [sieve of Eratosthenes](https://en.wikipedia.org/wiki/Sieve_of_Eratosthenes)"
      ]
    },
    {
      "cell_type": "code",
      "metadata": {
        "id": "AuTIeW3sXOxh"
      },
      "source": [
        "import timeit\n",
        "N = [99, 999, 9999, 39999]\n",
        "t = []\n",
        "l = []\n",
        "for n in N:\n",
        "  start = timeit.default_timer()\n",
        "  for num in range(n):\n",
        "    if num == 1:\n",
        "      pass\n",
        "      # l.append(num)\n",
        "    if num == 2:\n",
        "      pass\n",
        "      # l.append(num)\n",
        "    else:\n",
        "      for i in range(2,num):\n",
        "        if num%i == 0:\n",
        "          break\n",
        "        elif i == num - 1:\n",
        "          pass\n",
        "          # l.append(num) \n",
        "  t.append(timeit.default_timer() - start)   \n",
        "# print(l)\n",
        "# print(timeit.default_timer() - start)        \n"
      ],
      "execution_count": 7,
      "outputs": []
    },
    {
      "cell_type": "code",
      "metadata": {
        "colab": {
          "base_uri": "https://localhost:8080/",
          "height": 284
        },
        "id": "XvvIz6E_UmHz",
        "outputId": "ed8840e2-9450-4af4-c983-89cd17757fe3"
      },
      "source": [
        "fig, ax = plt.subplots()\n",
        "ax.plot(N, t, marker=\"o\")"
      ],
      "execution_count": 8,
      "outputs": [
        {
          "output_type": "execute_result",
          "data": {
            "text/plain": [
              "[<matplotlib.lines.Line2D at 0x7f948f9d0c10>]"
            ]
          },
          "metadata": {},
          "execution_count": 8
        },
        {
          "output_type": "display_data",
          "data": {
            "image/png": "[encoded data removed]",
            "text/plain": [
              "<Figure size 432x288 with 1 Axes>"
            ]
          },
          "metadata": {
            "needs_background": "light"
          }
        }
      ]
    },
    {
      "cell_type": "code",
      "metadata": {
        "id": "4YX00y49X5L6"
      },
      "source": [
        "import timeit\n",
        "N1 = [99, 999, 9999, 39999]\n",
        "t1 = []\n",
        "\n",
        "not_prime = []\n",
        "prime = []\n",
        "\n",
        "for n in N1:\n",
        "  start = timeit.default_timer()\n",
        "  for i in range(2, n):\n",
        "    if i in not_prime:\n",
        "      pass\n",
        "    else:\n",
        "      # prime.append(i)\n",
        "      for j in range(n):\n",
        "        if i*j > n:\n",
        "          break\n",
        "        # not_prime.append(i*j)\n",
        "  t1.append(timeit.default_timer() - start) \n"
      ],
      "execution_count": 9,
      "outputs": []
    },
    {
      "cell_type": "code",
      "metadata": {
        "colab": {
          "base_uri": "https://localhost:8080/",
          "height": 611
        },
        "id": "9fRsD5rgZTJ5",
        "outputId": "8d2374c8-9daf-4404-abfe-2e000476667c"
      },
      "source": [
        "import matplotlib.pyplot as plt\n",
        "\n",
        "fig, ax = plt.subplots()\n",
        "fig.set_size_inches(10, 10)\n",
        "ax.plot(N1, t1, marker=\"o\")"
      ],
      "execution_count": 10,
      "outputs": [
        {
          "output_type": "execute_result",
          "data": {
            "text/plain": [
              "[<matplotlib.lines.Line2D at 0x7f948f950d10>]"
            ]
          },
          "metadata": {},
          "execution_count": 10
        },
        {
          "output_type": "display_data",
          "data": {
            "image/png": "[encoded data removed]",
            "text/plain": [
              "<Figure size 720x720 with 1 Axes>"
            ]
          },
          "metadata": {
            "needs_background": "light"
          }
        }
      ]
    },
    {
      "cell_type": "code",
      "metadata": {
        "colab": {
          "base_uri": "https://localhost:8080/",
          "height": 611
        },
        "id": "X-pVNt1lcsSg",
        "outputId": "4123e454-6a2b-4e38-f091-87e7e80cbcb3"
      },
      "source": [
        "fig, ax = plt.subplots()\n",
        "fig.set_size_inches(10, 10)\n",
        "ax.plot(N, t, marker=\"o\", color='r')\n",
        "ax.plot(N1, t1, marker=\"o\")"
      ],
      "execution_count": 11,
      "outputs": [
        {
          "output_type": "execute_result",
          "data": {
            "text/plain": [
              "[<matplotlib.lines.Line2D at 0x7f948f896650>]"
            ]
          },
          "metadata": {},
          "execution_count": 11
        },
        {
          "output_type": "display_data",
          "data": {
            "image/png": "[encoded data removed]",
            "text/plain": [
              "<Figure size 720x720 with 1 Axes>"
            ]
          },
          "metadata": {
            "needs_background": "light"
          }
        }
      ]
    }
  ]
}