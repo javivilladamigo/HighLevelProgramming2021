{
  "nbformat": 4,
  "nbformat_minor": 0,
  "metadata": {
    "kernelspec": {
      "display_name": "Python 3",
      "language": "python",
      "name": "python3"
    },
    "language_info": {
      "codemirror_mode": {
        "name": "ipython",
        "version": 3
      },
      "file_extension": ".py",
      "mimetype": "text/x-python",
      "name": "python",
      "nbconvert_exporter": "python",
      "pygments_lexer": "ipython3",
      "version": "3.8.5"
    },
    "colab": {
      "name": "05ex_pandas_irani.ipynb",
      "provenance": [],
      "collapsed_sections": []
    }
  },
  "cells": [
    {
      "cell_type": "markdown",
      "metadata": {
        "id": "8fY8JkH_dHSg"
      },
      "source": [
        "This exercise consists in analyzing a dataset containg timing information from a series of Time-to-Digital-Converters (TDC) implemented in a pair of FPGAs. Each measurement (i.e. each row of the input file) consists of a flag that specifies the type of message ('HEAD', which in this case is always 1), two addresses of the TDC providing the signal ('FPGA' and 'TDC_CHANNEL'), and the timing information ('ORBIT_CNT', 'BX_COUNTER', and 'TDC_MEAS'). Each TDC count corresponds to 25/30 ns, whereas a unit of BX_COUNTER corresponds to 25 ns, and the ORBIT_CNT is increased every 'x' BX_COUNTER. This allows to store the time in a similar way to hours, minutes and seconds."
      ]
    },
    {
      "cell_type": "code",
      "metadata": {
        "id": "Q3wPRERrdHSi",
        "colab": {
          "base_uri": "https://localhost:8080/"
        },
        "outputId": "48f34261-2ac8-420f-bfc9-000b69185522"
      },
      "source": [
        "# If haven't downloaded it yet, please get the data file with wget\n",
        "!wget https://www.dropbox.com/s/xvjzaxzz3ysphme/data_000637.txt -P ./data/"
      ],
      "execution_count": 1,
      "outputs": [
        {
          "output_type": "stream",
          "name": "stdout",
          "text": [
            "--2021-12-03 19:27:56--  https://www.dropbox.com/s/xvjzaxzz3ysphme/data_000637.txt\n",
            "Resolving www.dropbox.com (www.dropbox.com)... 162.125.4.18, 2620:100:6019:18::a27d:412\n",
            "Connecting to www.dropbox.com (www.dropbox.com)|162.125.4.18|:443... connected.\n",
            "HTTP request sent, awaiting response... 301 Moved Permanently\n",
            "Location: /s/raw/xvjzaxzz3ysphme/data_000637.txt [following]\n",
            "--2021-12-03 19:27:56--  https://www.dropbox.com/s/raw/xvjzaxzz3ysphme/data_000637.txt\n",
            "Reusing existing connection to www.dropbox.com:443.\n",
            "HTTP request sent, awaiting response... 302 Found\n",
            "Location: https://ucc10dca58c1d2cab1cd00e2f9ef.dl.dropboxusercontent.com/cd/0/inline/BbJykpadpdJ4Mhig49PrHyGoN5DrbLzvbQ35CpAMr_R86A2Wtcrkg9NK3RGc9txNg08TQzZo7R5K0SYg4wRBCYP1zN2iGfJOs9Pd4D_TKt934kRMu-XiXBG_DCbB_2oE4d4c8EiDcLg2nJjugNdB8SQW/file# [following]\n",
            "--2021-12-03 19:27:56--  https://ucc10dca58c1d2cab1cd00e2f9ef.dl.dropboxusercontent.com/cd/0/inline/BbJykpadpdJ4Mhig49PrHyGoN5DrbLzvbQ35CpAMr_R86A2Wtcrkg9NK3RGc9txNg08TQzZo7R5K0SYg4wRBCYP1zN2iGfJOs9Pd4D_TKt934kRMu-XiXBG_DCbB_2oE4d4c8EiDcLg2nJjugNdB8SQW/file\n",
            "Resolving ucc10dca58c1d2cab1cd00e2f9ef.dl.dropboxusercontent.com (ucc10dca58c1d2cab1cd00e2f9ef.dl.dropboxusercontent.com)... 162.125.6.15, 2620:100:6019:15::a27d:40f\n",
            "Connecting to ucc10dca58c1d2cab1cd00e2f9ef.dl.dropboxusercontent.com (ucc10dca58c1d2cab1cd00e2f9ef.dl.dropboxusercontent.com)|162.125.6.15|:443... connected.\n",
            "HTTP request sent, awaiting response... 200 OK\n",
            "Length: 33179236 (32M) [text/plain]\n",
            "Saving to: ‘./data/data_000637.txt’\n",
            "\n",
            "data_000637.txt     100%[===================>]  31.64M   107MB/s    in 0.3s    \n",
            "\n",
            "2021-12-03 19:27:57 (107 MB/s) - ‘./data/data_000637.txt’ saved [33179236/33179236]\n",
            "\n"
          ]
        }
      ]
    },
    {
      "cell_type": "markdown",
      "metadata": {
        "id": "gqsR-URgdHSk"
      },
      "source": [
        "1\\. Create a Pandas DataFrame reading N rows of the `data/data_000637.txt` dataset. Choose N to be smaller than or equal to the maximum number of rows and larger that 10k (check the documentation)."
      ]
    },
    {
      "cell_type": "code",
      "metadata": {
        "colab": {
          "base_uri": "https://localhost:8080/"
        },
        "id": "krIENqfMdHSl",
        "outputId": "2fb924fd-f8d0-4256-eb23-dd7389b8b437"
      },
      "source": [
        "import pandas as pd\n",
        "import numpy as np\n",
        "\n",
        "\n",
        "path = \"/content/data/data_000637.txt\"\n",
        "data = pd.read_csv(path, sep=\",\", header=0)\n",
        "max_row = data.shape[0]\n",
        "N = np.random.randint(10000, max_row)\n",
        "data = data[:N]\n",
        "data.shape"
      ],
      "execution_count": 2,
      "outputs": [
        {
          "output_type": "execute_result",
          "data": {
            "text/plain": [
              "(1256498, 6)"
            ]
          },
          "metadata": {},
          "execution_count": 2
        }
      ]
    },
    {
      "cell_type": "markdown",
      "metadata": {
        "id": "BKOCVgNrdHSl"
      },
      "source": [
        "2\\. Estimate the number of BX in a ORBIT (the value 'x')."
      ]
    },
    {
      "cell_type": "code",
      "metadata": {
        "colab": {
          "base_uri": "https://localhost:8080/"
        },
        "id": "uwemg8tbdHSm",
        "outputId": "f86bf558-7a6a-4170-bf57-9bb936ba9b58"
      },
      "source": [
        "BX = data.groupby(\"ORBIT_CNT\")[\"BX_COUNTER\"].max()\n",
        "BX"
      ],
      "execution_count": 3,
      "outputs": [
        {
          "output_type": "execute_result",
          "data": {
            "text/plain": [
              "ORBIT_CNT\n",
              "3869200167    3187\n",
              "3869200168    3538\n",
              "3869200169    2766\n",
              "3869200170    3377\n",
              "3869200171    3542\n",
              "              ... \n",
              "3869210799    3411\n",
              "3869210800    3562\n",
              "3869210801    3530\n",
              "3869210802    3435\n",
              "3869210803    2410\n",
              "Name: BX_COUNTER, Length: 10633, dtype: int64"
            ]
          },
          "metadata": {},
          "execution_count": 3
        }
      ]
    },
    {
      "cell_type": "markdown",
      "metadata": {
        "id": "h4VyKfffdHSm"
      },
      "source": [
        "3\\. Find out the duration of the data taking in hours, minutes and seconds. You can either make an estimate based on the fraction of the measurements (rows) you read, or perform this check precisely by reading the whole dataset."
      ]
    },
    {
      "cell_type": "code",
      "metadata": {
        "id": "ZItlPpExdHSn",
        "colab": {
          "base_uri": "https://localhost:8080/"
        },
        "outputId": "ef4f7d9f-6b0a-4a1a-9c76-1afbe1d4d26d"
      },
      "source": [
        "import datetime\n",
        "\n",
        "\n",
        "def trans(t):\n",
        "  return datetime.timedelta(seconds=t)\n",
        "\n",
        "\n",
        "x = data['ORBIT_CNT']*data['BX_COUNTER']*25 + data['BX_COUNTER']*25 + data['TDC_MEAS']*25/30\n",
        "x = x*10**-9\n",
        "x = x.apply(trans)\n",
        "\n",
        "print('Estimated Duration of data taking : ')\n",
        "print(x.max())"
      ],
      "execution_count": 4,
      "outputs": [
        {
          "output_type": "stream",
          "name": "stdout",
          "text": [
            "Estimated Duration of data taking : \n",
            "3 days 23:44:09.950139\n"
          ]
        }
      ]
    },
    {
      "cell_type": "markdown",
      "metadata": {
        "id": "UdjG1KqddHSo"
      },
      "source": [
        "4\\. Create a new column with the absolute time in ns (as a combination of the other three columns with timing information) since the beginning of the data acquisition."
      ]
    },
    {
      "cell_type": "code",
      "metadata": {
        "id": "oRo3RLZldHSo",
        "colab": {
          "base_uri": "https://localhost:8080/",
          "height": 206
        },
        "outputId": "acc7b8ba-a616-4ab5-be79-06874903c32e"
      },
      "source": [
        "data['duration'] = data['ORBIT_CNT']*data['BX_COUNTER']*25 + data['BX_COUNTER']*25 + data['TDC_MEAS']*25/30\n",
        "data['duration'] = data['duration'] * 10 ** -9\n",
        "data.head()"
      ],
      "execution_count": 5,
      "outputs": [
        {
          "output_type": "execute_result",
          "data": {
            "text/html": [
              "<div>\n",
              "<style scoped>\n",
              "    .dataframe tbody tr th:only-of-type {\n",
              "        vertical-align: middle;\n",
              "    }\n",
              "\n",
              "    .dataframe tbody tr th {\n",
              "        vertical-align: top;\n",
              "    }\n",
              "\n",
              "    .dataframe thead th {\n",
              "        text-align: right;\n",
              "    }\n",
              "</style>\n",
              "<table border=\"1\" class=\"dataframe\">\n",
              "  <thead>\n",
              "    <tr style=\"text-align: right;\">\n",
              "      <th></th>\n",
              "      <th>HEAD</th>\n",
              "      <th>FPGA</th>\n",
              "      <th>TDC_CHANNEL</th>\n",
              "      <th>ORBIT_CNT</th>\n",
              "      <th>BX_COUNTER</th>\n",
              "      <th>TDC_MEAS</th>\n",
              "      <th>duration</th>\n",
              "    </tr>\n",
              "  </thead>\n",
              "  <tbody>\n",
              "    <tr>\n",
              "      <th>0</th>\n",
              "      <td>1</td>\n",
              "      <td>0</td>\n",
              "      <td>123</td>\n",
              "      <td>3869200167</td>\n",
              "      <td>2374</td>\n",
              "      <td>26</td>\n",
              "      <td>229637.029971</td>\n",
              "    </tr>\n",
              "    <tr>\n",
              "      <th>1</th>\n",
              "      <td>1</td>\n",
              "      <td>0</td>\n",
              "      <td>124</td>\n",
              "      <td>3869200167</td>\n",
              "      <td>2374</td>\n",
              "      <td>27</td>\n",
              "      <td>229637.029971</td>\n",
              "    </tr>\n",
              "    <tr>\n",
              "      <th>2</th>\n",
              "      <td>1</td>\n",
              "      <td>0</td>\n",
              "      <td>63</td>\n",
              "      <td>3869200167</td>\n",
              "      <td>2553</td>\n",
              "      <td>28</td>\n",
              "      <td>246951.700723</td>\n",
              "    </tr>\n",
              "    <tr>\n",
              "      <th>3</th>\n",
              "      <td>1</td>\n",
              "      <td>0</td>\n",
              "      <td>64</td>\n",
              "      <td>3869200167</td>\n",
              "      <td>2558</td>\n",
              "      <td>19</td>\n",
              "      <td>247435.350744</td>\n",
              "    </tr>\n",
              "    <tr>\n",
              "      <th>4</th>\n",
              "      <td>1</td>\n",
              "      <td>0</td>\n",
              "      <td>64</td>\n",
              "      <td>3869200167</td>\n",
              "      <td>2760</td>\n",
              "      <td>25</td>\n",
              "      <td>266974.811592</td>\n",
              "    </tr>\n",
              "  </tbody>\n",
              "</table>\n",
              "</div>"
            ],
            "text/plain": [
              "   HEAD  FPGA  TDC_CHANNEL   ORBIT_CNT  BX_COUNTER  TDC_MEAS       duration\n",
              "0     1     0          123  3869200167        2374        26  229637.029971\n",
              "1     1     0          124  3869200167        2374        27  229637.029971\n",
              "2     1     0           63  3869200167        2553        28  246951.700723\n",
              "3     1     0           64  3869200167        2558        19  247435.350744\n",
              "4     1     0           64  3869200167        2760        25  266974.811592"
            ]
          },
          "metadata": {},
          "execution_count": 5
        }
      ]
    },
    {
      "cell_type": "markdown",
      "metadata": {
        "id": "lpGk_BL8dHSo"
      },
      "source": [
        "5\\. Use the `.groupby()` method to find out the noisy channels, i.e. the TDC channels with most counts (print to screen the top 3 and the corresponding counts)"
      ]
    },
    {
      "cell_type": "code",
      "metadata": {
        "id": "YaTGEGZKdHSp",
        "colab": {
          "base_uri": "https://localhost:8080/"
        },
        "outputId": "a94836d6-7c93-46dc-8c38-bd9efc094ef5"
      },
      "source": [
        "print(data.groupby(['TDC_CHANNEL'])['HEAD'].count().sort_values(ascending=False)[:3])"
      ],
      "execution_count": 6,
      "outputs": [
        {
          "output_type": "stream",
          "name": "stdout",
          "text": [
            "TDC_CHANNEL\n",
            "139    103605\n",
            "64      63293\n",
            "63      61971\n",
            "Name: HEAD, dtype: int64\n"
          ]
        }
      ]
    },
    {
      "cell_type": "markdown",
      "metadata": {
        "id": "4I8wvKX7dHSp"
      },
      "source": [
        "6\\. Count the number of non-empty orbits (i.e. the number of orbits with at least one hit). Count also the number of unique orbits with at least one measurement from TDC_CHANNEL=139."
      ]
    },
    {
      "cell_type": "code",
      "metadata": {
        "id": "423_8iyidHSp",
        "colab": {
          "base_uri": "https://localhost:8080/"
        },
        "outputId": "a48a0be1-024b-4a9b-ec66-28063c707765"
      },
      "source": [
        "data.groupby('ORBIT_CNT')['HEAD'].count()"
      ],
      "execution_count": 7,
      "outputs": [
        {
          "output_type": "execute_result",
          "data": {
            "text/plain": [
              "ORBIT_CNT\n",
              "3869200167     43\n",
              "3869200168     85\n",
              "3869200169    127\n",
              "3869200170     98\n",
              "3869200171    109\n",
              "             ... \n",
              "3869210799    155\n",
              "3869210800    196\n",
              "3869210801    149\n",
              "3869210802    151\n",
              "3869210803    141\n",
              "Name: HEAD, Length: 10633, dtype: int64"
            ]
          },
          "metadata": {},
          "execution_count": 7
        }
      ]
    },
    {
      "cell_type": "code",
      "metadata": {
        "colab": {
          "base_uri": "https://localhost:8080/"
        },
        "id": "62kmAnnM0ZLd",
        "outputId": "54a728d1-878e-4a2b-acfd-ffe43d717cd9"
      },
      "source": [
        "data[data['TDC_CHANNEL'] == 139].groupby(['ORBIT_CNT','TDC_CHANNEL'])['HEAD'].count()"
      ],
      "execution_count": 8,
      "outputs": [
        {
          "output_type": "execute_result",
          "data": {
            "text/plain": [
              "ORBIT_CNT   TDC_CHANNEL\n",
              "3869200167  139             4\n",
              "3869200168  139             8\n",
              "3869200169  139            11\n",
              "3869200170  139             9\n",
              "3869200171  139             9\n",
              "                           ..\n",
              "3869210799  139            15\n",
              "3869210800  139            18\n",
              "3869210801  139            14\n",
              "3869210802  139            11\n",
              "3869210803  139            14\n",
              "Name: HEAD, Length: 10608, dtype: int64"
            ]
          },
          "metadata": {},
          "execution_count": 8
        }
      ]
    },
    {
      "cell_type": "markdown",
      "metadata": {
        "id": "Kn_8wr0_dHSp"
      },
      "source": [
        "7\\. **Optional:** Make two occupancy plots (one for each FPGA), i.e. plot the number of counts per TDC channel"
      ]
    },
    {
      "cell_type": "code",
      "metadata": {
        "id": "8vu1MGJxdHSq"
      },
      "source": [
        "import matplotlib.pyplot as plt\n",
        "\n",
        "fpga0 = data[data['FPGA'] == 0].groupby('TDC_CHANNEL')['HEAD'].count()\n",
        "fpga1 = data[data['FPGA'] == 1].groupby('TDC_CHANNEL')['HEAD'].count()"
      ],
      "execution_count": 9,
      "outputs": []
    },
    {
      "cell_type": "code",
      "metadata": {
        "colab": {
          "base_uri": "https://localhost:8080/",
          "height": 297
        },
        "id": "78OYhoO-20MU",
        "outputId": "f2d90e1e-c366-4c34-ce02-58c74a4de6ba"
      },
      "source": [
        "fig, ax = plt.subplots()\n",
        "\n",
        "ax.plot(fpga0, color='r', label='FPGA0')\n",
        "ax.plot(fpga1,  color='g', label='FPGA1')\n",
        "plt.legend()\n",
        "ax.set_xlabel('TDC CHANNEL')\n",
        "ax.set_ylabel('NUMBER OF HIT')"
      ],
      "execution_count": 10,
      "outputs": [
        {
          "output_type": "execute_result",
          "data": {
            "text/plain": [
              "Text(0, 0.5, 'NUMBER OF HIT')"
            ]
          },
          "metadata": {},
          "execution_count": 10
        },
        {
          "output_type": "display_data",
          "data": {
            "image/png": "[encoded data removed]",
            "text/plain": [
              "<Figure size 432x288 with 1 Axes>"
            ]
          },
          "metadata": {
            "needs_background": "light"
          }
        }
      ]
    }
  ]
}