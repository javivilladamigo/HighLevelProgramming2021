{
 "cells": [
  {
   "cell_type": "markdown",
   "metadata": {},
   "source": [
    "1\\. Find the total mean, and the mean for each row and column of the following matrix:\n",
    "\n",
    "```python\n",
    "m = np.arange(12).reshape((3,4))\n",
    "```"
   ]
  },
  {
   "cell_type": "code",
   "execution_count": 2,
   "metadata": {},
   "outputs": [],
   "source": [
    "import numpy as np"
   ]
  },
  {
   "cell_type": "code",
   "execution_count": 3,
   "metadata": {},
   "outputs": [
    {
     "name": "stdout",
     "output_type": "stream",
     "text": [
      "Matrix:\n",
      " [[ 0  1  2  3]\n",
      " [ 4  5  6  7]\n",
      " [ 8  9 10 11]]\n",
      "\n",
      "Total mean:\n",
      " 5.5\n",
      "\n",
      "Mean of rows:\n",
      " [1.5 5.5 9.5]\n",
      "\n",
      "Mean of columns:\n",
      " [4. 5. 6. 7.]\n"
     ]
    }
   ],
   "source": [
    "# matrix\n",
    "m = np.arange(12).reshape((3, 4))\n",
    "print(\"Matrix:\\n\", m)\n",
    "\n",
    "# mean of elements in the matrix\n",
    "totMean = m.mean()\n",
    "print(\"\\nTotal mean:\\n\", totMean)\n",
    "\n",
    "# mean along each row\n",
    "rowMean = m.mean(axis=1)\n",
    "print(\"\\nMean of rows:\\n\", rowMean)\n",
    "\n",
    "# mean along each column\n",
    "colMean = m.mean(axis=0)\n",
    "print(\"\\nMean of columns:\\n\", colMean)"
   ]
  },
  {
   "cell_type": "markdown",
   "metadata": {},
   "source": [
    "2\\. Find the outer product of the following vectors:\n",
    "\n",
    "```python\n",
    "u = np.array([1, 3, 5, 7])\n",
    "v = np.array([2, 4, 6, 8])\n",
    "```\n",
    "\n",
    "Use different methods to do this:\n",
    "\n",
    "   1. Using the function `outer` in numpy\n",
    "   2. Using a nested `for` loop or a list comprehension\n",
    "   3. Using numpy broadcasting operations"
   ]
  },
  {
   "cell_type": "code",
   "execution_count": 4,
   "metadata": {},
   "outputs": [
    {
     "name": "stdout",
     "output_type": "stream",
     "text": [
      "Arrays:\n",
      " [1 3 5 7] \n",
      " [2 4 6 8]\n"
     ]
    }
   ],
   "source": [
    "# arrays\n",
    "u = np.array([1, 3, 5, 7])\n",
    "v = np.array([2, 4, 6, 8])\n",
    "print(\"Arrays:\\n\", u, \"\\n\", v)"
   ]
  },
  {
   "cell_type": "code",
   "execution_count": 5,
   "metadata": {},
   "outputs": [
    {
     "name": "stdout",
     "output_type": "stream",
     "text": [
      "Solution 1:\n",
      " [[ 2  4  6  8]\n",
      " [ 6 12 18 24]\n",
      " [10 20 30 40]\n",
      " [14 28 42 56]]\n",
      "\n",
      "Solution 2:\n",
      " [[ 2  4  6  8]\n",
      " [ 6 12 18 24]\n",
      " [10 20 30 40]\n",
      " [14 28 42 56]]\n",
      "\n",
      "Solution 2b:\n",
      " [[ 2  4  6  8]\n",
      " [ 6 12 18 24]\n",
      " [10 20 30 40]\n",
      " [14 28 42 56]]\n",
      "\n",
      "Solution 3:\n",
      " [[ 2  4  6  8]\n",
      " [ 6 12 18 24]\n",
      " [10 20 30 40]\n",
      " [14 28 42 56]]\n"
     ]
    }
   ],
   "source": [
    "# using the numpy built-in function\n",
    "r1 = np.outer(u, v)\n",
    "print(\"Solution 1:\\n\", r1)\n",
    "\n",
    "# using a nested for loop\n",
    "l = []      \n",
    "for i in u:\n",
    "    for j in v:\n",
    "        l.append(i * j)\n",
    "r2 = np.array(l).reshape(4, 4)\n",
    "print(\"\\nSolution 2:\\n\", r2)\n",
    "\n",
    "# using list comprehension\n",
    "l = [i * j for i in u for j in v]\n",
    "r2b = np.array(l).reshape(4, 4)\n",
    "print(\"\\nSolution 2b:\\n\", r2b)\n",
    "\n",
    "# using numpy broadcasting operations\n",
    "r3 = u[:, np.newaxis] * v[np.newaxis, :]\n",
    "print(\"\\nSolution 3:\\n\", r3)"
   ]
  },
  {
   "cell_type": "markdown",
   "metadata": {},
   "source": [
    "3\\. Create a 10 by 6 matrix of increasing float numbers, starting from zero and increasing in each step by 0.1, so the output matrix looks like the following:\n",
    "\n",
    "```python\n",
    "m = [[0. 0.1, 0.2 0.3 ... 0.9]\n",
    "     [1.0 1.1 1.2 1.3 ... 1.9]\n",
    "     ...\n",
    "     [5.0 5.1 5.2 5.3 ... 5.9]]\n",
    "```\n",
    "After creating the matrix, set all entries with a decimal part $< 0.4$ to zero."
   ]
  },
  {
   "cell_type": "code",
   "execution_count": 6,
   "metadata": {},
   "outputs": [
    {
     "name": "stdout",
     "output_type": "stream",
     "text": [
      "Matrix:\n",
      " [[0.  0.1 0.2 0.3 0.4 0.5 0.6 0.7 0.8 0.9]\n",
      " [1.  1.1 1.2 1.3 1.4 1.5 1.6 1.7 1.8 1.9]\n",
      " [2.  2.1 2.2 2.3 2.4 2.5 2.6 2.7 2.8 2.9]\n",
      " [3.  3.1 3.2 3.3 3.4 3.5 3.6 3.7 3.8 3.9]\n",
      " [4.  4.1 4.2 4.3 4.4 4.5 4.6 4.7 4.8 4.9]\n",
      " [5.  5.1 5.2 5.3 5.4 5.5 5.6 5.7 5.8 5.9]]\n",
      "\n",
      "Modified matrix:\n",
      " [[0.  0.  0.  0.  0.4 0.5 0.6 0.7 0.8 0.9]\n",
      " [0.  0.  0.  0.  1.4 1.5 1.6 1.7 1.8 1.9]\n",
      " [0.  0.  0.  0.  2.4 2.5 2.6 2.7 2.8 2.9]\n",
      " [0.  0.  0.  0.  3.4 3.5 3.6 3.7 3.8 3.9]\n",
      " [0.  0.  0.  0.  4.4 4.5 4.6 4.7 4.8 4.9]\n",
      " [0.  0.  0.  0.  5.4 5.5 5.6 5.7 5.8 5.9]]\n"
     ]
    }
   ],
   "source": [
    "m = np.arange(0., 6., 0.1).reshape(6, 10)\n",
    "print(\"Matrix:\\n\", m)\n",
    "\n",
    "# modify matrix\n",
    "l = [i for i in np.arange(0., 6., 0.1)]\n",
    "for i in range(len(l)):\n",
    "    if (l[i] % 1) < 0.4:\n",
    "        l[i] = 0.\n",
    "m = np.array(l).reshape(6, 10)\n",
    "print(\"\\nModified matrix:\\n\", m)"
   ]
  },
  {
   "cell_type": "markdown",
   "metadata": {},
   "source": [
    "4\\. Use `np.linspace` to create an array of 100 numbers between 0 and 2π (inclusive).\n",
    "\n",
    "  * Extract every 10th element using the slice notation\n",
    "  * Reverse the array using the slice notation\n",
    "  * Extract elements where the absolute difference between the sin and cos functions evaluated for that element is $< 0.1$\n",
    "  * **Optional**: make a plot showing the sin and cos functions and indicate where they are close"
   ]
  },
  {
   "cell_type": "code",
   "execution_count": 8,
   "metadata": {},
   "outputs": [],
   "source": [
    "# retrieve pi\n",
    "from math import pi"
   ]
  },
  {
   "cell_type": "code",
   "execution_count": 9,
   "metadata": {},
   "outputs": [
    {
     "name": "stdout",
     "output_type": "stream",
     "text": [
      "Array:\n",
      " [0.         0.06346652 0.12693304 0.19039955 0.25386607 0.31733259\n",
      " 0.38079911 0.44426563 0.50773215 0.57119866 0.63466518 0.6981317\n",
      " 0.76159822 0.82506474 0.88853126 0.95199777 1.01546429 1.07893081\n",
      " 1.14239733 1.20586385 1.26933037 1.33279688 1.3962634  1.45972992\n",
      " 1.52319644 1.58666296 1.65012947 1.71359599 1.77706251 1.84052903\n",
      " 1.90399555 1.96746207 2.03092858 2.0943951  2.15786162 2.22132814\n",
      " 2.28479466 2.34826118 2.41172769 2.47519421 2.53866073 2.60212725\n",
      " 2.66559377 2.72906028 2.7925268  2.85599332 2.91945984 2.98292636\n",
      " 3.04639288 3.10985939 3.17332591 3.23679243 3.30025895 3.36372547\n",
      " 3.42719199 3.4906585  3.55412502 3.61759154 3.68105806 3.74452458\n",
      " 3.8079911  3.87145761 3.93492413 3.99839065 4.06185717 4.12532369\n",
      " 4.1887902  4.25225672 4.31572324 4.37918976 4.44265628 4.5061228\n",
      " 4.56958931 4.63305583 4.69652235 4.75998887 4.82345539 4.88692191\n",
      " 4.95038842 5.01385494 5.07732146 5.14078798 5.2042545  5.26772102\n",
      " 5.33118753 5.39465405 5.45812057 5.52158709 5.58505361 5.64852012\n",
      " 5.71198664 5.77545316 5.83891968 5.9023862  5.96585272 6.02931923\n",
      " 6.09278575 6.15625227 6.21971879 6.28318531]\n",
      "\n",
      "Extract every 10th element:\n",
      " [0.         0.63466518 1.26933037 1.90399555 2.53866073 3.17332591\n",
      " 3.8079911  4.44265628 5.07732146 5.71198664]\n",
      "\n",
      "Reversed array:\n",
      " [6.28318531 6.21971879 6.15625227 6.09278575 6.02931923 5.96585272\n",
      " 5.9023862  5.83891968 5.77545316 5.71198664 5.64852012 5.58505361\n",
      " 5.52158709 5.45812057 5.39465405 5.33118753 5.26772102 5.2042545\n",
      " 5.14078798 5.07732146 5.01385494 4.95038842 4.88692191 4.82345539\n",
      " 4.75998887 4.69652235 4.63305583 4.56958931 4.5061228  4.44265628\n",
      " 4.37918976 4.31572324 4.25225672 4.1887902  4.12532369 4.06185717\n",
      " 3.99839065 3.93492413 3.87145761 3.8079911  3.74452458 3.68105806\n",
      " 3.61759154 3.55412502 3.4906585  3.42719199 3.36372547 3.30025895\n",
      " 3.23679243 3.17332591 3.10985939 3.04639288 2.98292636 2.91945984\n",
      " 2.85599332 2.7925268  2.72906028 2.66559377 2.60212725 2.53866073\n",
      " 2.47519421 2.41172769 2.34826118 2.28479466 2.22132814 2.15786162\n",
      " 2.0943951  2.03092858 1.96746207 1.90399555 1.84052903 1.77706251\n",
      " 1.71359599 1.65012947 1.58666296 1.52319644 1.45972992 1.3962634\n",
      " 1.33279688 1.26933037 1.20586385 1.14239733 1.07893081 1.01546429\n",
      " 0.95199777 0.88853126 0.82506474 0.76159822 0.6981317  0.63466518\n",
      " 0.57119866 0.50773215 0.44426563 0.38079911 0.31733259 0.25386607\n",
      " 0.19039955 0.12693304 0.06346652 0.        ]\n",
      "\n",
      "Filtered array:\n",
      " [0.76159822 0.82506474 3.87145761 3.93492413]\n"
     ]
    }
   ],
   "source": [
    "# array\n",
    "arr = np.linspace(0., 2*pi, 100)\n",
    "print(\"Array:\\n\", arr)\n",
    "\n",
    "# extraction\n",
    "print(\"\\nExtract every 10th element:\\n\", arr[::10])\n",
    "\n",
    "# reverse\n",
    "print(\"\\nReversed array:\\n\", arr[::-1])\n",
    "\n",
    "# extraction with condition\n",
    "mask = (abs(np.sin(arr) - np.cos(arr)) < 0.1)\n",
    "print(\"\\nFiltered array:\\n\", arr[mask])"
   ]
  },
  {
   "cell_type": "code",
   "execution_count": 10,
   "metadata": {
    "scrolled": false
   },
   "outputs": [
    {
     "data": {
      "image/png": "[encoded data removed]",
      "text/plain": [
       "<Figure size 864x576 with 1 Axes>"
      ]
     },
     "metadata": {
      "needs_background": "light"
     },
     "output_type": "display_data"
    }
   ],
   "source": [
    "# plot module\n",
    "import matplotlib.pyplot as plt\n",
    "%matplotlib inline\n",
    "\n",
    "# plot sin\n",
    "ys = np.sin(arr)\n",
    "plt.plot(arr, ys, label=\"Sine\")\n",
    "\n",
    "# plot cos\n",
    "yc = np.cos(arr)\n",
    "plt.plot(arr, yc, label=\"Cosine\")\n",
    "\n",
    "# plot points of interest\n",
    "plt.scatter(arr[mask], np.cos(arr[mask]), label=\"Filtered Points (cos)\")\n",
    "plt.scatter(arr[mask], np.sin(arr[mask]), label=\"Filtered Points (sin)\")\n",
    "\n",
    "# adjust figure size\n",
    "figure = plt.gcf()\n",
    "figure.set_size_inches(12, 8)\n",
    "\n",
    "# labels\n",
    "plt.legend(loc=\"lower left\")\n",
    "\n",
    "plt.show()"
   ]
  },
  {
   "cell_type": "markdown",
   "metadata": {},
   "source": [
    "5\\. Create a matrix that shows the 10 by 10 multiplication table.\n",
    "\n",
    " * Find the trace of the matrix\n",
    " * Extract the anti-diagonal matrix (this should be ```array([10, 18, 24, 28, 30, 30, 28, 24, 18, 10])```)\n",
    " * Extract the diagonal offset by 1 upwards (this should be ```array([ 2,  6, 12, 20, 30, 42, 56, 72, 90])```)"
   ]
  },
  {
   "cell_type": "code",
   "execution_count": 11,
   "metadata": {},
   "outputs": [
    {
     "name": "stdout",
     "output_type": "stream",
     "text": [
      "Matrix:\n",
      " [[  1.   2.   3.   4.   5.   6.   7.   8.   9.  10.]\n",
      " [  2.   4.   6.   8.  10.  12.  14.  16.  18.  20.]\n",
      " [  3.   6.   9.  12.  15.  18.  21.  24.  27.  30.]\n",
      " [  4.   8.  12.  16.  20.  24.  28.  32.  36.  40.]\n",
      " [  5.  10.  15.  20.  25.  30.  35.  40.  45.  50.]\n",
      " [  6.  12.  18.  24.  30.  36.  42.  48.  54.  60.]\n",
      " [  7.  14.  21.  28.  35.  42.  49.  56.  63.  70.]\n",
      " [  8.  16.  24.  32.  40.  48.  56.  64.  72.  80.]\n",
      " [  9.  18.  27.  36.  45.  54.  63.  72.  81.  90.]\n",
      " [ 10.  20.  30.  40.  50.  60.  70.  80.  90. 100.]]\n",
      "\n",
      "Trace of the matrix:\n",
      " 385.0\n",
      "\n",
      "Anti-diagonal of matrix:\n",
      " [10. 18. 24. 28. 30. 30. 28. 24. 18. 10.]\n",
      "\n",
      "Diagonal with upwards offset:\n",
      " [ 2.  6. 12. 20. 30. 42. 56. 72. 90.]\n"
     ]
    }
   ],
   "source": [
    "# create matrix with a lambda function (multiplication)\n",
    "tbt = np.fromfunction(lambda i, j: (i+1)*(j+1), (10, 10))\n",
    "print(\"Matrix:\\n\", tbt)\n",
    "\n",
    "# trace\n",
    "trace = tbt.trace()\n",
    "print(\"\\nTrace of the matrix:\\n\", trace)\n",
    "\n",
    "# anti-diagonal matrix: flip and get diagonal\n",
    "tbt_flipped = np.fliplr(tbt)\n",
    "ad = tbt_flipped.diagonal()\n",
    "print(\"\\nAnti-diagonal of matrix:\\n\", ad)\n",
    "\n",
    "# diagonal with offset\n",
    "d_off = np.diagonal(tbt, 1)\n",
    "print(\"\\nDiagonal with upwards offset:\\n\", d_off)"
   ]
  },
  {
   "cell_type": "markdown",
   "metadata": {},
   "source": [
    "6\\. Use broadcasting to create a grid of distances.\n",
    "\n",
    "Route 66 crosses the following cities in the US: Chicago, Springfield, Saint-Louis, Tulsa, Oklahoma City, Amarillo, Santa Fe, Albuquerque, Flagstaff, Los Angeles\n",
    "The corresponding positions in miles are: 0, 198, 303, 736, 871, 1175, 1475, 1544, 1913, 2448\n",
    "\n",
    "  * Build a 2D grid of distances among each city along Route 66\n",
    "  * Convert the distances in km"
   ]
  },
  {
   "cell_type": "code",
   "execution_count": 12,
   "metadata": {},
   "outputs": [
    {
     "name": "stdout",
     "output_type": "stream",
     "text": [
      "Grid:\n",
      " [[   0  198  303  736  871 1175 1475 1544 1913 2448]\n",
      " [ 198    0  105  538  673  977 1277 1346 1715 2250]\n",
      " [ 303  105    0  433  568  872 1172 1241 1610 2145]\n",
      " [ 736  538  433    0  135  439  739  808 1177 1712]\n",
      " [ 871  673  568  135    0  304  604  673 1042 1577]\n",
      " [1175  977  872  439  304    0  300  369  738 1273]\n",
      " [1475 1277 1172  739  604  300    0   69  438  973]\n",
      " [1544 1346 1241  808  673  369   69    0  369  904]\n",
      " [1913 1715 1610 1177 1042  738  438  369    0  535]\n",
      " [2448 2250 2145 1712 1577 1273  973  904  535    0]]\n",
      "\n",
      "Grid in km:\n",
      " [[   0.   316.8  484.8 1177.6 1393.6 1880.  2360.  2470.4 3060.8 3916.8]\n",
      " [ 316.8    0.   168.   860.8 1076.8 1563.2 2043.2 2153.6 2744.  3600. ]\n",
      " [ 484.8  168.     0.   692.8  908.8 1395.2 1875.2 1985.6 2576.  3432. ]\n",
      " [1177.6  860.8  692.8    0.   216.   702.4 1182.4 1292.8 1883.2 2739.2]\n",
      " [1393.6 1076.8  908.8  216.     0.   486.4  966.4 1076.8 1667.2 2523.2]\n",
      " [1880.  1563.2 1395.2  702.4  486.4    0.   480.   590.4 1180.8 2036.8]\n",
      " [2360.  2043.2 1875.2 1182.4  966.4  480.     0.   110.4  700.8 1556.8]\n",
      " [2470.4 2153.6 1985.6 1292.8 1076.8  590.4  110.4    0.   590.4 1446.4]\n",
      " [3060.8 2744.  2576.  1883.2 1667.2 1180.8  700.8  590.4    0.   856. ]\n",
      " [3916.8 3600.  3432.  2739.2 2523.2 2036.8 1556.8 1446.4  856.     0. ]]\n"
     ]
    },
    {
     "data": {
      "image/png": "[encoded data removed]",
      "text/plain": [
       "<Figure size 864x576 with 2 Axes>"
      ]
     },
     "metadata": {
      "needs_background": "light"
     },
     "output_type": "display_data"
    }
   ],
   "source": [
    "# data\n",
    "cities = np.array([\"Chicago\", \"Springfield\", \"Saint-Louis\", \"Tulsa\", \"Oklahoma city\", \"Amarillo\", \"Santa Fe\", \"Albuquerque\", \"Flagstaff\", \"Los Angeles\"])\n",
    "positions = np.array([0, 198, 303, 736, 871, 1175, 1475, 1544, 1913, 2448])\n",
    "\n",
    "# build a 2d grid with distances using broadcasting\n",
    "positions_t = positions.reshape((10, 1))\n",
    "grid = np.abs(positions - positions_t)\n",
    "    \n",
    "# another solution (same result)\n",
    "grid = np.fromiter((abs(i-j) for i in positions for j in positions), int).reshape(10, 10)\n",
    "\n",
    "# print grid\n",
    "print(\"Grid:\\n\", grid)\n",
    "\n",
    "# convert miles to kilometers\n",
    "grid_km = grid * 1.6\n",
    "print(\"\\nGrid in km:\\n\", grid_km)\n",
    "\n",
    "# plot heatmap\n",
    "plt.imshow(grid_km, cmap='coolwarm', interpolation='nearest')\n",
    "plt.colorbar()\n",
    "\n",
    "# manually set ticks\n",
    "locsX, labelX = plt.xticks([0, 1, 2, 3, 4, 5, 6, 7, 8, 9], cities, rotation=90)\n",
    "locsY, labelY = plt.yticks([0, 1, 2, 3, 4, 5, 6, 7, 8, 9], cities, rotation=0)\n",
    "\n",
    "# plot layout\n",
    "figure = plt.gcf()\n",
    "figure.set_size_inches(12, 8)\n",
    "plt.tight_layout()"
   ]
  },
  {
   "cell_type": "markdown",
   "metadata": {},
   "source": [
    "7\\. Prime numbers sieve: compute the prime numbers in the 0-N (start with N=99) range with a sieve (mask).\n",
    "  * Check the performances (timeit); how does it scale with N?\n",
    "  * Implement the optimization suggested in the [sieve of Eratosthenes](https://en.wikipedia.org/wiki/Sieve_of_Eratosthenes)"
   ]
  },
  {
   "cell_type": "code",
   "execution_count": 13,
   "metadata": {},
   "outputs": [],
   "source": [
    "import time"
   ]
  },
  {
   "cell_type": "code",
   "execution_count": 14,
   "metadata": {},
   "outputs": [
    {
     "name": "stdout",
     "output_type": "stream",
     "text": [
      "[ 0  1  2  3  4  5  6  7  8  9 10 11 12 13 14 15 16 17 18 19 20 21 22 23\n",
      " 24 25 26 27 28 29 30 31 32 33 34 35 36 37 38 39 40 41 42 43 44 45 46 47\n",
      " 48 49 50 51 52 53 54 55 56 57 58 59 60 61 62 63 64 65 66 67 68 69 70 71\n",
      " 72 73 74 75 76 77 78 79 80 81 82 83 84 85 86 87 88 89 90 91 92 93 94 95\n",
      " 96 97 98 99]\n"
     ]
    }
   ],
   "source": [
    "# data\n",
    "nums = np.arange(0, 100)\n",
    "print(nums)"
   ]
  },
  {
   "cell_type": "code",
   "execution_count": 15,
   "metadata": {},
   "outputs": [
    {
     "name": "stdout",
     "output_type": "stream",
     "text": [
      "\n",
      "The prime numbers up to 99 are:\n",
      " [ 2  3  5  7 11 13 17 19 23 29 31 37 41 43 47 53 59 61 67 71 73 79 83 89\n",
      " 97]\n",
      "Time: 0.0011668205261230469 seconds\n"
     ]
    }
   ],
   "source": [
    "'''\n",
    "    Solution (a).\n",
    "'''\n",
    "\n",
    "def check_prime(num):\n",
    "    \n",
    "    # bool to check when valuable factor is found\n",
    "    foundFactor = False\n",
    "    \n",
    "    # exclude zero and below\n",
    "    if num < 2:\n",
    "        return False\n",
    "    \n",
    "    # check for a generic number\n",
    "    for n in range(2, num):\n",
    "        if num % n == 0:\n",
    "            # n is a factor of num\n",
    "            foundFactor = True\n",
    "            break\n",
    "            \n",
    "    # return bool variable\n",
    "    if foundFactor:\n",
    "        return False\n",
    "    else:\n",
    "        return True\n",
    "    \n",
    "# create mask and check time\n",
    "start = time.time()\n",
    "mask = [check_prime(i) for i in nums]\n",
    "end = time.time() - start\n",
    "\n",
    "# filter numbers\n",
    "prime_nums = nums[mask]\n",
    "\n",
    "print(\"\\nThe prime numbers up to 99 are:\\n\", prime_nums)   \n",
    "print(\"Time:\", end, \"seconds\")"
   ]
  },
  {
   "cell_type": "code",
   "execution_count": 16,
   "metadata": {},
   "outputs": [
    {
     "name": "stdout",
     "output_type": "stream",
     "text": [
      "\n",
      "Using the 'Sieve of Eratosthenes' the prime numbers up to 99 are:\n",
      " [ 2  3  5  7 11 13 17 19 23 29 31 37 41 43 47 53 59 61 67 71 73 79 83 89\n",
      " 97]\n",
      "Time: 9.942054748535156e-05 seconds\n"
     ]
    }
   ],
   "source": [
    "'''\n",
    "    Solution (b). \n",
    "    Sieve of Eratosthenes.\n",
    "'''\n",
    "\n",
    "def sieve_prime(N):\n",
    "    # create default mask\n",
    "    mask = [True] * N\n",
    "    \n",
    "    # 0 and 1 are not prime\n",
    "    mask[0] = False\n",
    "    mask[1] = False\n",
    "    \n",
    "    # modify mask with algorithm\n",
    "    for i in range(N):\n",
    "        if i**2 >= N:\n",
    "            n = i - 1\n",
    "            break\n",
    "    for j in range(2, n + 1):\n",
    "        for k in range(j**2, N, j):\n",
    "            mask[k] = False\n",
    "    return mask\n",
    "\n",
    "# create mask and check time\n",
    "start = time.time()\n",
    "mask = sieve_prime(100)\n",
    "end = time.time() - start\n",
    "\n",
    "# filter numbers\n",
    "prime_nums_s = nums[mask]\n",
    "\n",
    "print(\"\\nUsing the 'Sieve of Eratosthenes' the prime numbers up to 99 are:\\n\", prime_nums_s)   \n",
    "print(\"Time:\", end, \"seconds\")"
   ]
  },
  {
   "cell_type": "code",
   "execution_count": 18,
   "metadata": {},
   "outputs": [
    {
     "data": {
      "image/png": "[encoded data removed]",
      "text/plain": [
       "<Figure size 648x432 with 1 Axes>"
      ]
     },
     "metadata": {
      "needs_background": "light"
     },
     "output_type": "display_data"
    }
   ],
   "source": [
    "'''\n",
    "    Plots. By looking at the plot it is clear\n",
    "    that the trend of time as function of\n",
    "    N is linear for solution (a). This algorithm\n",
    "    seems of the order o(N^2). The 'Sieve of \n",
    "    Eratosthenes' on the other hand seems much more\n",
    "    efficient and the trend seems of the order o(N).\n",
    "'''\n",
    "\n",
    "# data\n",
    "nums = np.arange(10, 1000, 5)\n",
    "\n",
    "# compute times\n",
    "times = []\n",
    "times_s = []\n",
    "\n",
    "for i in nums:\n",
    "    n = np.arange(0, i)\n",
    "    n_s = np.arange(1, i+1)\n",
    "    \n",
    "    # first method\n",
    "    start = time.time()\n",
    "    mask = [check_prime(j) for j in n]\n",
    "    times.append(time.time() - start)\n",
    "    \n",
    "    # second method\n",
    "    start = time.time()\n",
    "    mask_s = sieve_prime(i)\n",
    "    times_s.append(time.time() - start)\n",
    "\n",
    "# plot\n",
    "plt.scatter(nums, times, label=\"Solution (a)\")\n",
    "plt.scatter(nums, times_s, label=\"Sieve of Eratosthenes\")\n",
    "\n",
    "# adjust figure size\n",
    "figure = plt.gcf()\n",
    "figure.set_size_inches(9, 6)\n",
    "plt.tight_layout()\n",
    "\n",
    "# labels\n",
    "plt.xlabel(\"N\", fontsize=15)\n",
    "plt.ylabel(\"Time [s]\", fontsize=15)\n",
    "plt.legend(loc=\"upper left\")\n",
    "\n",
    "plt.show()"
   ]
  }
 ],
 "metadata": {
  "kernelspec": {
   "display_name": "Python 3",
   "language": "python",
   "name": "python3"
  },
  "language_info": {
   "codemirror_mode": {
    "name": "ipython",
    "version": 3
   },
   "file_extension": ".py",
   "mimetype": "text/x-python",
   "name": "python",
   "nbconvert_exporter": "python",
   "pygments_lexer": "ipython3",
   "version": "3.8.8"
  }
 },
 "nbformat": 4,
 "nbformat_minor": 2
}
