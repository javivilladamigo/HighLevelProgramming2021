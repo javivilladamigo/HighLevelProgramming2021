{
 "cells": [
  {
   "cell_type": "code",
   "execution_count": 63,
   "metadata": {},
   "outputs": [],
   "source": [
    "import pandas as pd\n",
    "import numpy as np\n",
    "\n",
    "# csv files handling\n",
    "import csv\n",
    "\n",
    "# json files handling\n",
    "import json"
   ]
  },
  {
   "cell_type": "code",
   "execution_count": 10,
   "metadata": {},
   "outputs": [],
   "source": [
    "# define path for saving output files\n",
    "path = \"outputData/\""
   ]
  },
  {
   "cell_type": "markdown",
   "metadata": {},
   "source": [
    "1\\. Perform the following operations on plain `txt` files:\n",
    "\n",
    "+ create a list of integrer numbers and then save it to a text file named \"data_int.txt\". Run the `cat` command to print the content of the file.\n",
    "+ create a matrix of 5x5 floats and then save it to a text file named \"data_float.txt\". Use the `cat` command to print the content of the file.\n",
    "+ load the txt file of the previous point and convert it to a csv file by hand."
   ]
  },
  {
   "cell_type": "code",
   "execution_count": 21,
   "metadata": {},
   "outputs": [
    {
     "name": "stdout",
     "output_type": "stream",
     "text": [
      "0\r\n",
      "1\r\n",
      "2\r\n",
      "3\r\n",
      "4\r\n",
      "5\r\n",
      "6\r\n",
      "7\r\n",
      "8\r\n",
      "9\r\n"
     ]
    }
   ],
   "source": [
    "# list of integers\n",
    "l = [i for i in range(10)]\n",
    "\n",
    "# define file name\n",
    "outFile = path + \"data_int.txt\"\n",
    "\n",
    "# write to file\n",
    "with open(outFile, 'w') as outfile:\n",
    "    for i in l:\n",
    "        outfile.write(str(i) + '\\n')\n",
    "\n",
    "# cat file\n",
    "!cat outputData/data_int.txt"
   ]
  },
  {
   "cell_type": "code",
   "execution_count": 22,
   "metadata": {
    "scrolled": true
   },
   "outputs": [
    {
     "name": "stdout",
     "output_type": "stream",
     "text": [
      "[5.13739696 8.56857424 2.00352189 2.33757955 9.33999177]\r\n",
      "[0.12241522 8.62759695 1.04730244 7.68493855 7.66183312]\r\n",
      "[0.67990285 9.22928556 4.57343804 7.31478408 1.682582  ]\r\n",
      "[5.34132583 4.64380584 5.44168565 4.60928054 6.64442607]\r\n",
      "[1.44547663 7.94348953 6.24048448 7.90490188 2.7318633 ]\r\n"
     ]
    }
   ],
   "source": [
    "# random matrix of floats\n",
    "m = np.random.uniform(low=0., high=10., size=(5,5))\n",
    "\n",
    "# define file name\n",
    "outFile = path + \"data_float.txt\"\n",
    "\n",
    "# write to file\n",
    "with open(outFile, 'w') as ofile:\n",
    "    for i in m:\n",
    "        ofile.write(str(i) + '\\n')\n",
    "\n",
    "# cat file\n",
    "!cat outputData/data_float.txt"
   ]
  },
  {
   "cell_type": "code",
   "execution_count": 62,
   "metadata": {},
   "outputs": [
    {
     "name": "stdout",
     "output_type": "stream",
     "text": [
      "5.13739696,8.56857424,2.00352189,2.33757955,9.33999177\r",
      "\r\n",
      "0.12241522,8.62759695,1.04730244,7.68493855,7.66183312\r",
      "\r\n",
      "0.67990285,9.22928556,4.57343804,7.31478408,1.682582\r",
      "\r\n",
      "5.34132583,4.64380584,5.44168565,4.60928054,6.64442607\r",
      "\r\n",
      "1.44547663,7.94348953,6.24048448,7.90490188,2.7318633\r",
      "\r\n"
     ]
    }
   ],
   "source": [
    "# define file name\n",
    "outFile2 = path + \"data_float.csv\"\n",
    "\n",
    "with open(outFile, 'r') as ifile:\n",
    "    with open(outFile2, 'w') as ofile:  \n",
    "        \n",
    "        # get lines from input file\n",
    "        for l in ifile:\n",
    "            \n",
    "            # replace square brackets\n",
    "            l = l.replace('[', '').replace(']', '')\n",
    "            \n",
    "            # strip each line and then split into a tuple\n",
    "            line = (l.strip().split(' '))\n",
    "            \n",
    "            # write to csv using the csv.writer method\n",
    "            writer = csv.writer(ofile)\n",
    "            writer.writerow(line)\n",
    "            \n",
    "# cat file\n",
    "!cat outputData/data_float.csv"
   ]
  },
  {
   "cell_type": "markdown",
   "metadata": {},
   "source": [
    "2\\. Load the file *user_data.json*, which can be found at:\n",
    "\n",
    "- https://www.dropbox.com/s/sz5klcdpckc39hd/user_data.json\n",
    "\n",
    "and filter the data by the \"CreditCardType\" when it equals to \"American Express\". Than save the data to a new CSV file."
   ]
  },
  {
   "cell_type": "code",
   "execution_count": 66,
   "metadata": {
    "scrolled": true
   },
   "outputs": [
    {
     "name": "stdout",
     "output_type": "stream",
     "text": [
      "--2021-11-22 13:51:12--  https://www.dropbox.com/s/sz5klcdpckc39hd/user_data.json\n",
      "Resolving www.dropbox.com (www.dropbox.com)... 162.125.69.18, 2620:100:6025:18::a27d:4512\n",
      "Connecting to www.dropbox.com (www.dropbox.com)|162.125.69.18|:443... connected.\n",
      "HTTP request sent, awaiting response... 301 Moved Permanently\n",
      "Location: /s/raw/sz5klcdpckc39hd/user_data.json [following]\n",
      "--2021-11-22 13:51:16--  https://www.dropbox.com/s/raw/sz5klcdpckc39hd/user_data.json\n",
      "Reusing existing connection to www.dropbox.com:443.\n",
      "HTTP request sent, awaiting response... 302 Found\n",
      "Location: https://uc4bd142a4086a27744c9dea24f5.dl.dropboxusercontent.com/cd/0/inline/BacbrejxTzz6Nr-mA8cCE_24WcF1sP_VmdGj4hWXNQNHx630xo5E4j80DX53gowHJxTtmgtJ_7ZYIoRsEy9rx1rf6_kF00OHwvEiziLpTbC9rrH-R6s3GRnmV6TuFjQV0Eyb50ifwWXOuL2UkrIqrT1O/file# [following]\n",
      "--2021-11-22 13:51:17--  https://uc4bd142a4086a27744c9dea24f5.dl.dropboxusercontent.com/cd/0/inline/BacbrejxTzz6Nr-mA8cCE_24WcF1sP_VmdGj4hWXNQNHx630xo5E4j80DX53gowHJxTtmgtJ_7ZYIoRsEy9rx1rf6_kF00OHwvEiziLpTbC9rrH-R6s3GRnmV6TuFjQV0Eyb50ifwWXOuL2UkrIqrT1O/file\n",
      "Resolving uc4bd142a4086a27744c9dea24f5.dl.dropboxusercontent.com (uc4bd142a4086a27744c9dea24f5.dl.dropboxusercontent.com)... 162.125.69.15, 2620:100:6025:15::a27d:450f\n",
      "Connecting to uc4bd142a4086a27744c9dea24f5.dl.dropboxusercontent.com (uc4bd142a4086a27744c9dea24f5.dl.dropboxusercontent.com)|162.125.69.15|:443... connected.\n",
      "HTTP request sent, awaiting response... 200 OK\n",
      "Length: 40417 (39K) [text/plain]\n",
      "Saving to: ‘data/user_data.json’\n",
      "\n",
      "user_data.json      100%[===================>]  39,47K  --.-KB/s    in 0,02s   \n",
      "\n",
      "2021-11-22 13:51:28 (2,19 MB/s) - ‘data/user_data.json’ saved [40417/40417]\n",
      "\n"
     ]
    }
   ],
   "source": [
    "# get data\n",
    "!wget https://www.dropbox.com/s/sz5klcdpckc39hd/user_data.json -P data/"
   ]
  },
  {
   "cell_type": "code",
   "execution_count": 72,
   "metadata": {},
   "outputs": [],
   "source": [
    "# get file\n",
    "filename = \"data/user_data.json\"\n",
    "data = json.load(open(filename))\n",
    "#!cat data/user_data.json\n",
    "\n",
    "'''\n",
    "    TO DO\n",
    "'''"
   ]
  },
  {
   "cell_type": "markdown",
   "metadata": {},
   "source": [
    "3\\. Load the file from this url:\n",
    "\n",
    "- https://www.dropbox.com/s/kgshemfgk22iy79/mushrooms_categorized.csv\n",
    "\n",
    "with Pandas. \n",
    "\n",
    "+ explore and print the DataFrame\n",
    "+ calculate, using `groupby()`, the average value of each feature, separately for each class\n",
    "+ save the file in a JSON format."
   ]
  },
  {
   "cell_type": "code",
   "execution_count": null,
   "metadata": {},
   "outputs": [],
   "source": []
  },
  {
   "cell_type": "markdown",
   "metadata": {},
   "source": [
    "4\\. Get the binary file named *credit_card.dat* from this address:\n",
    "\n",
    "- https://www.dropbox.com/s/8m0syw2tkul3dap/credit_card.dat\n",
    "\n",
    "and convert the data into the real credit card number, knowing that:\n",
    "- each line corresponds to a credit card number, which consists of 16 characters (which are numbers in the 0-9 range) divided in 4 blocks, with a whitespace between each block\n",
    "- each character is written using a 6 bit binary representation (including the whitespace)\n",
    "- the final 4 bits of each line are a padding used to determine the end of the line, and can be ignored\n",
    "\n",
    "*Hint*: convert the binary numbers to the decimal representation first, and then use the `chr()` function to convert the latter to a char"
   ]
  },
  {
   "cell_type": "code",
   "execution_count": null,
   "metadata": {},
   "outputs": [],
   "source": []
  },
  {
   "cell_type": "markdown",
   "metadata": {},
   "source": [
    "5\\. **Optional**: load the remote file:\n",
    "\n",
    "- https://www.dropbox.com/s/aamg1apjhclecka/regression_generated.csv\n",
    "\n",
    "with Pandas and create a scatter plot with all possible combinations of the following features:\n",
    "    \n",
    "  + features_1\n",
    "  + features_2\n",
    "  + features_3"
   ]
  },
  {
   "cell_type": "code",
   "execution_count": null,
   "metadata": {},
   "outputs": [],
   "source": []
  }
 ],
 "metadata": {
  "kernelspec": {
   "display_name": "Python 3",
   "language": "python",
   "name": "python3"
  },
  "language_info": {
   "codemirror_mode": {
    "name": "ipython",
    "version": 3
   },
   "file_extension": ".py",
   "mimetype": "text/x-python",
   "name": "python",
   "nbconvert_exporter": "python",
   "pygments_lexer": "ipython3",
   "version": "3.8.8"
  }
 },
 "nbformat": 4,
 "nbformat_minor": 2
}
