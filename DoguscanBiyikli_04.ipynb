{
 "cells": [
  {
   "cell_type": "markdown",
   "metadata": {},
   "source": [
    "1\\. Find the total mean, and the mean for each row and column of the following matrix:\n",
    "\n",
    "```python\n",
    "m = np.arange(12).reshape((3,4))\n",
    "```"
   ]
  },
  {
   "cell_type": "code",
   "execution_count": 132,
   "metadata": {},
   "outputs": [
    {
     "name": "stdout",
     "output_type": "stream",
     "text": [
      "array m: [[ 0  1  2  3]\n",
      " [ 4  5  6  7]\n",
      " [ 8  9 10 11]]\n",
      "Mean of the 1st Row:  1.5\n",
      "Mean of the 2st Row:  5.5\n",
      "Mean of the 3rd Row:  9.5\n",
      "Mean of the 1st Column:  4.0\n",
      "Mean of the 2st Column:  5.0\n",
      "Mean of the 3rd Column:  6.0\n",
      "Total mean is:  5.5\n"
     ]
    }
   ],
   "source": [
    "import numpy as np\n",
    "m = np.arange(12).reshape((3,4))\n",
    "print(\"array m:\",m)\n",
    "#print(\"Shape of array m:\",m.shape[1])\n",
    "#np.mean(m)\n",
    "\n",
    "print(\"Mean of the 1st Row: \",np.mean(m[0,0:]))\n",
    "print(\"Mean of the 2st Row: \",np.mean(m[1,0:]))\n",
    "print(\"Mean of the 3rd Row: \",np.mean(m[2,0:]))\n",
    "\n",
    "print(\"Mean of the 1st Column: \",np.mean(m[0:,0]))\n",
    "print(\"Mean of the 2st Column: \",np.mean(m[0:,1]))\n",
    "print(\"Mean of the 3rd Column: \",np.mean(m[0:,2]))\n",
    "\n",
    "\n",
    "\n",
    "#print(\"1st Row elements:\", m[0,0:4])\n",
    "print(\"Total mean is: \",np.mean(m))\n",
    "#myMeanArray = np.array([]) for i in m[1,0:4]\n"
   ]
  },
  {
   "cell_type": "markdown",
   "metadata": {},
   "source": [
    "2\\. Find the outer product of the following vectors:\n",
    "\n",
    "```python\n",
    "u = np.array([1, 3, 5, 7])\n",
    "v = np.array([2, 4, 6, 8])\n",
    "```\n",
    "\n",
    "Use different methods to do this:\n",
    "\n",
    "   1. Using the function `outer` in numpy\n",
    "   2. Using a nested `for` loop or a list comprehension\n",
    "   3. Using numpy broadcasting operations"
   ]
  },
  {
   "cell_type": "code",
   "execution_count": 133,
   "metadata": {
    "scrolled": true
   },
   "outputs": [
    {
     "name": "stdout",
     "output_type": "stream",
     "text": [
      "[[ 2  4  6  8]\n",
      " [ 6 12 18 24]\n",
      " [10 20 30 40]\n",
      " [14 28 42 56]]\n"
     ]
    }
   ],
   "source": [
    "# Question 2_1\n",
    "u = np.array([1, 3, 5, 7])\n",
    "v = np.array([2, 4, 6, 8])\n",
    "\n",
    "myRes_1 = np.outer(u,v)\n",
    "print(myRes_1)"
   ]
  },
  {
   "cell_type": "code",
   "execution_count": 142,
   "metadata": {},
   "outputs": [
    {
     "name": "stdout",
     "output_type": "stream",
     "text": [
      "My Outer Product by Nested For Loop is: \n",
      " [[ 2  4  6  8]\n",
      " [ 6 12 18 24]\n",
      " [10 20 30 40]\n",
      " [14 28 42 56]]\n",
      "My Outer Product by List Comprehension is: \n",
      " [[ 2  4  6  8]\n",
      " [ 6 12 18 24]\n",
      " [10 20 30 40]\n",
      " [14 28 42 56]]\n"
     ]
    }
   ],
   "source": [
    "# Question 2_2\n",
    "myRes_2 = np.empty([len(u),len(v)],dtype=int) \n",
    "# numpy.empty method has default value dtype float. So if we don' t change it to integer, the result will not be desired.\n",
    "#print(myRes_2.shape)\n",
    "#Nested For Loop\n",
    "for i in range(len(u)):\n",
    "    for j in range(len(v)):\n",
    "        #print(i,j)\n",
    "        myRes_2[i,j] = u[i]*v[j]\n",
    "\n",
    "print(\"My Outer Product by Nested For Loop is: \\n\",myRes_2)\n",
    "\n",
    "#List Comprehension\n",
    "#myRes_2_1 = np.empty([len(u),len(v)],dtype=int) An empty array is defined before the arrangement.\n",
    "#print(type(myRes_2_1))\n",
    "myRes_2_1 = np.empty([len(u),len(v)],dtype=int)\n",
    "[myRes_2_1[i,j] == u[i]*v[j] for j in range(len(v)) for i in range(len(u))]\n",
    "#print(type(myRes_2_1))\n",
    "print(\"My Outer Product by List Comprehension is: \\n\",myRes_2_1.reshape((len(u),len(v))))"
   ]
  },
  {
   "cell_type": "code",
   "execution_count": 135,
   "metadata": {},
   "outputs": [
    {
     "name": "stdout",
     "output_type": "stream",
     "text": [
      "[[ 2  4  6  8]\n",
      " [ 6 12 18 24]\n",
      " [10 20 30 40]\n",
      " [14 28 42 56]]\n"
     ]
    }
   ],
   "source": [
    "# Question 2_3\n",
    "# By the help of tile method, 1D array turns into 2D array. To obtain outer product, transpose of this array\n",
    "# should be used. The product is not a matrix multipllication!!!\n",
    "\n",
    "u_tile = np.tile(u,(4,1))\n",
    "v_tile = np.tile(v,(4,1))\n",
    "print(u_tile.T*v_tile)\n",
    "\n"
   ]
  },
  {
   "cell_type": "markdown",
   "metadata": {},
   "source": [
    "3\\. Create a 10 by 6 matrix of increasing float numbers, starting from zero and increasing in each step by 0.1, so the output matrix looks like the following:\n",
    "\n",
    "```python\n",
    "m = [[0. 0.1, 0.2 0.3 ... 0.9]\n",
    "     [1.0 1.1 1.2 1.3 ... 1.9]\n",
    "     ...\n",
    "     [5.0 5.1 5.2 5.3 ... 5.9]]\n",
    "```\n",
    "After creating the matrix, set all entries with a decimal part $< 0.4$ to zero."
   ]
  },
  {
   "cell_type": "code",
   "execution_count": 136,
   "metadata": {},
   "outputs": [
    {
     "name": "stdout",
     "output_type": "stream",
     "text": [
      "[[0.  0.1 0.2 0.3 0.4 0.5 0.6 0.7 0.8 0.9]\n",
      " [1.  1.1 1.2 1.3 1.4 1.5 1.6 1.7 1.8 1.9]\n",
      " [2.  2.1 2.2 2.3 2.4 2.5 2.6 2.7 2.8 2.9]\n",
      " [3.  3.1 3.2 3.3 3.4 3.5 3.6 3.7 3.8 3.9]\n",
      " [4.  4.1 4.2 4.3 4.4 4.5 4.6 4.7 4.8 4.9]\n",
      " [5.  5.1 5.2 5.3 5.4 5.5 5.6 5.7 5.8 5.9]]\n",
      "\n",
      " [[0.  0.  0.  0.  0.4 0.5 0.6 0.7 0.8 0.9]\n",
      " [0.  0.  0.  0.  1.4 1.5 1.6 1.7 1.8 1.9]\n",
      " [0.  0.  0.  0.  2.4 2.5 2.6 2.7 2.8 2.9]\n",
      " [0.  0.  0.  0.  3.4 3.5 3.6 3.7 3.8 3.9]\n",
      " [0.  0.  0.  0.  4.4 4.5 4.6 4.7 4.8 4.9]\n",
      " [0.  0.  0.  0.  5.4 5.5 5.6 5.7 5.8 5.9]]\n"
     ]
    }
   ],
   "source": [
    "import math \n",
    "from decimal import Decimal\n",
    "m=np.array([np.linspace(i,i+0.9,10) for i in range(6) ])\n",
    "# added lists to an array by using numpy.array method and list comprehension.\n",
    "\n",
    "print(m)\n",
    "#print(m.shape)\n",
    "#print((m[0].shape))\n",
    "#print(m[3][4])\n",
    "#print(3.6427 - math.floor(3.6427)) # doesn' t work for arrays but m%1<0.4 is a good option.\n",
    "mask = (m%1<0.3999) # Since some of the divisions give the result as \"0.3999999999..\" \n",
    "m[mask]=0\n",
    "print(\"\\n\",m)\n",
    "#print(mask)\n",
    "\n"
   ]
  },
  {
   "cell_type": "markdown",
   "metadata": {},
   "source": [
    "4\\. Use `np.linspace` to create an array of 100 numbers between 0 and 2π (inclusive).\n",
    "\n",
    "  * Extract every 10th element using the slice notation\n",
    "  * Reverse the array using the slice notation\n",
    "  * Extract elements where the absolute difference between the sin and cos functions evaluated for that element is $< 0.1$\n",
    "  * **Optional**: make a plot showing the sin and cos functions and indicate where they are close"
   ]
  },
  {
   "cell_type": "code",
   "execution_count": 137,
   "metadata": {},
   "outputs": [
    {
     "name": "stdout",
     "output_type": "stream",
     "text": [
      "[0.         0.06346652 0.12693304 0.19039955 0.25386607 0.31733259\n",
      " 0.38079911 0.44426563 0.50773215 0.57119866 0.63466518 0.6981317\n",
      " 0.76159822 0.82506474 0.88853126 0.95199777 1.01546429 1.07893081\n",
      " 1.14239733 1.20586385 1.26933037 1.33279688 1.3962634  1.45972992\n",
      " 1.52319644 1.58666296 1.65012947 1.71359599 1.77706251 1.84052903\n",
      " 1.90399555 1.96746207 2.03092858 2.0943951  2.15786162 2.22132814\n",
      " 2.28479466 2.34826118 2.41172769 2.47519421 2.53866073 2.60212725\n",
      " 2.66559377 2.72906028 2.7925268  2.85599332 2.91945984 2.98292636\n",
      " 3.04639288 3.10985939 3.17332591 3.23679243 3.30025895 3.36372547\n",
      " 3.42719199 3.4906585  3.55412502 3.61759154 3.68105806 3.74452458\n",
      " 3.8079911  3.87145761 3.93492413 3.99839065 4.06185717 4.12532369\n",
      " 4.1887902  4.25225672 4.31572324 4.37918976 4.44265628 4.5061228\n",
      " 4.56958931 4.63305583 4.69652235 4.75998887 4.82345539 4.88692191\n",
      " 4.95038842 5.01385494 5.07732146 5.14078798 5.2042545  5.26772102\n",
      " 5.33118753 5.39465405 5.45812057 5.52158709 5.58505361 5.64852012\n",
      " 5.71198664 5.77545316 5.83891968 5.9023862  5.96585272 6.02931923\n",
      " 6.09278575 6.15625227 6.21971879 6.28318531]\n",
      "\n",
      " Every 10th element: \n",
      " [0.57119866 1.20586385 1.84052903 2.47519421 3.10985939 3.74452458\n",
      " 4.37918976 5.01385494 5.64852012 6.28318531]\n",
      "\n",
      " Reversed array: \n",
      " [6.28318531 6.21971879 6.15625227 6.09278575 6.02931923 5.96585272\n",
      " 5.9023862  5.83891968 5.77545316 5.71198664 5.64852012 5.58505361\n",
      " 5.52158709 5.45812057 5.39465405 5.33118753 5.26772102 5.2042545\n",
      " 5.14078798 5.07732146 5.01385494 4.95038842 4.88692191 4.82345539\n",
      " 4.75998887 4.69652235 4.63305583 4.56958931 4.5061228  4.44265628\n",
      " 4.37918976 4.31572324 4.25225672 4.1887902  4.12532369 4.06185717\n",
      " 3.99839065 3.93492413 3.87145761 3.8079911  3.74452458 3.68105806\n",
      " 3.61759154 3.55412502 3.4906585  3.42719199 3.36372547 3.30025895\n",
      " 3.23679243 3.17332591 3.10985939 3.04639288 2.98292636 2.91945984\n",
      " 2.85599332 2.7925268  2.72906028 2.66559377 2.60212725 2.53866073\n",
      " 2.47519421 2.41172769 2.34826118 2.28479466 2.22132814 2.15786162\n",
      " 2.0943951  2.03092858 1.96746207 1.90399555 1.84052903 1.77706251\n",
      " 1.71359599 1.65012947 1.58666296 1.52319644 1.45972992 1.3962634\n",
      " 1.33279688 1.26933037 1.20586385 1.14239733 1.07893081 1.01546429\n",
      " 0.95199777 0.88853126 0.82506474 0.76159822 0.6981317  0.63466518\n",
      " 0.57119866 0.50773215 0.44426563 0.38079911 0.31733259 0.25386607\n",
      " 0.19039955 0.12693304 0.06346652 0.        ]\n",
      "\n",
      " After the absolute difference extraction:\n",
      " [0.76159822 0.82506474 2.34826118 2.41172769 3.87145761 3.93492413\n",
      " 5.45812057 5.52158709]\n"
     ]
    },
    {
     "data": {
      "text/plain": [
       "[<matplotlib.lines.Line2D at 0x7fd27ac2fd00>]"
      ]
     },
     "execution_count": 137,
     "metadata": {},
     "output_type": "execute_result"
    },
    {
     "data": {
      "image/png": "[encoded data removed]",
      "text/plain": [
       "<Figure size 432x288 with 1 Axes>"
      ]
     },
     "metadata": {
      "needs_background": "light"
     },
     "output_type": "display_data"
    }
   ],
   "source": [
    "import matplotlib.pyplot as plt # everybody imports it that way\n",
    "%matplotlib inline \n",
    "\n",
    "a = np.linspace(0,2*math.pi,100)\n",
    "print(a)\n",
    "\n",
    "b = a[9::10] # Every 10th element has been extracted.\n",
    "print(\"\\n Every 10th element: \\n\",b)\n",
    "c = a[::-1] #All items in the array have been reversed.\n",
    "print(\"\\n Reversed array: \\n\",c)\n",
    "\n",
    "sin_A = np.sin(a)\n",
    "cos_A = np.cos(a)\n",
    "\n",
    "mask = (np.absolute(np.absolute(sin_A)-np.absolute(cos_A))<0.1)\n",
    "\n",
    "#print(mask)\n",
    "filtered_a = a[mask]\n",
    "print(\"\\n After the absolute difference extraction:\\n\",filtered_a)\n",
    "\n",
    "plt.scatter(\n",
    "    x=filtered_a/math.pi,\n",
    "    y=np.sin(filtered_a),\n",
    "    color=\"red\",\n",
    ")\n",
    "\n",
    "plt.scatter(\n",
    "    x=filtered_a/math.pi,\n",
    "    y=np.cos(filtered_a),\n",
    "    color=\"blue\",\n",
    ")\n",
    "plt.title(\"Sin and Cos Graph\")\n",
    "plt.ylabel(\"Sin Values(Blue) & Cos Values(Orange)\")\n",
    "plt.xlabel(\"Pi values\")\n",
    "\n",
    "plt.plot()\n",
    "plt.plot(a/math.pi,sin_A)\n",
    "plt.plot(a/math.pi,cos_A)\n",
    "\n",
    "\n",
    "\n",
    "\n",
    "# From the plots, around pi/4 and 5pi/4 cosine and sine values are close to each other.\n",
    "# And theoretically we know that sin(pi/4) = cos(pi/4)    (First quadrant, 45 degree.)\n",
    "# Similarly, sin(5pi/4) = cos(5pi/4) values are very close to each other.(3rd quadrant, 225 degree.)\n",
    "# In the figure, sin and cosine values are coincident, which are shown by red and blue dots.\n",
    "# Extracted elements have been used to show the values in the graph. \n"
   ]
  },
  {
   "cell_type": "markdown",
   "metadata": {},
   "source": [
    "5\\. Create a matrix that shows the 10 by 10 multiplication table.\n",
    "\n",
    " * Find the trace of the matrix\n",
    " * Extract the anti-diagonal matrix (this should be ```array([10, 18, 24, 28, 30, 30, 28, 24, 18, 10])```)\n",
    " * Extract the diagonal offset by 1 upwards (this should be ```array([ 2,  6, 12, 20, 30, 42, 56, 72, 90])```)"
   ]
  },
  {
   "cell_type": "code",
   "execution_count": 138,
   "metadata": {},
   "outputs": [
    {
     "name": "stdout",
     "output_type": "stream",
     "text": [
      "[[  1   2   3   4   5   6   7   8   9  10]\n",
      " [  2   4   6   8  10  12  14  16  18  20]\n",
      " [  3   6   9  12  15  18  21  24  27  30]\n",
      " [  4   8  12  16  20  24  28  32  36  40]\n",
      " [  5  10  15  20  25  30  35  40  45  50]\n",
      " [  6  12  18  24  30  36  42  48  54  60]\n",
      " [  7  14  21  28  35  42  49  56  63  70]\n",
      " [  8  16  24  32  40  48  56  64  72  80]\n",
      " [  9  18  27  36  45  54  63  72  81  90]\n",
      " [ 10  20  30  40  50  60  70  80  90 100]]\n",
      "\n",
      " Trace of the matrix is: \n",
      " 385\n",
      "\n",
      " Anti Diagonal: \n",
      " [10 18 24 28 30 30 28 24 18 10]\n",
      "\n",
      " offset diagonal is: \n",
      " [ 2  6 12 20 30 42 56 72 90]\n"
     ]
    }
   ],
   "source": [
    "A = np.arange(1,11)\n",
    "#print(A)\n",
    "#print(A.shape)\n",
    "#print(A.reshape(1,10))\n",
    "#print(A.reshape(1,10).shape)\n",
    "A_tile = np.tile(A.reshape(1,10),(10,1))\n",
    "#print(A_tile)\n",
    "#print(A_tile.shape)\n",
    "B = A.reshape(1,10).T\n",
    "#print(B)\n",
    "#print(B.shape)\n",
    "MultiTable = A_tile*B\n",
    "print(MultiTable)\n",
    "#print(MultiTable.shape)\n",
    "\n",
    "\n",
    "print(\"\\n Trace of the matrix is: \\n\",np.matrix.trace(MultiTable))\n",
    "\n",
    "print(\"\\n Anti Diagonal: \\n\",np.fliplr(MultiTable).diagonal()) # Anti-diagonal of the array\n",
    "\n",
    "print(\"\\n offset diagonal is: \\n\",np.diagonal(MultiTable,1))\n",
    "\n",
    "#B = np.arange(1,6)\n",
    "#B_tile = np.tile(B.reshape(1,5),(5,1))\n",
    "#print(B_tile)\n",
    "#print(np.diagonal(B_tile,1)) Upward or downward offset Checked  "
   ]
  },
  {
   "cell_type": "markdown",
   "metadata": {},
   "source": [
    "6\\. Use broadcasting to create a grid of distances.\n",
    "\n",
    "Route 66 crosses the following cities in the US: Chicago, Springfield, Saint-Louis, Tulsa, Oklahoma City, Amarillo, Santa Fe, Albuquerque, Flagstaff, Los Angeles\n",
    "The corresponding positions in miles are: 0, 198, 303, 736, 871, 1175, 1475, 1544, 1913, 2448\n",
    "\n",
    "  * Build a 2D grid of distances among each city along Route 66\n",
    "  * Convert the distances in km"
   ]
  },
  {
   "cell_type": "code",
   "execution_count": 139,
   "metadata": {},
   "outputs": [
    {
     "name": "stdout",
     "output_type": "stream",
     "text": [
      "2D Distance Grid in miles: \n",
      "\n",
      " [[    0   198   303   736   871  1175  1475  1544  1913  2448]\n",
      " [ -198     0   105   538   673   977  1277  1346  1715  2250]\n",
      " [ -303  -105     0   433   568   872  1172  1241  1610  2145]\n",
      " [ -736  -538  -433     0   135   439   739   808  1177  1712]\n",
      " [ -871  -673  -568  -135     0   304   604   673  1042  1577]\n",
      " [-1175  -977  -872  -439  -304     0   300   369   738  1273]\n",
      " [-1475 -1277 -1172  -739  -604  -300     0    69   438   973]\n",
      " [-1544 -1346 -1241  -808  -673  -369   -69     0   369   904]\n",
      " [-1913 -1715 -1610 -1177 -1042  -738  -438  -369     0   535]\n",
      " [-2448 -2250 -2145 -1712 -1577 -1273  -973  -904  -535     0]]\n",
      "\n",
      "\n",
      " 2D Distance Grid in km: \n",
      "\n",
      " [[    0.         318.650112   487.631232  1184.477184  1401.738624\n",
      "   1890.9792    2373.7824    2484.827136  3078.675072  3939.674112]\n",
      " [ -318.650112     0.         168.98112    865.827072  1083.088512\n",
      "   1572.329088  2055.132288  2166.177024  2760.02496   3621.024   ]\n",
      " [ -487.631232  -168.98112      0.         696.845952   914.107392\n",
      "   1403.347968  1886.151168  1997.195904  2591.04384   3452.04288 ]\n",
      " [-1184.477184  -865.827072  -696.845952     0.         217.26144\n",
      "    706.502016  1189.305216  1300.349952  1894.197888  2755.196928]\n",
      " [-1401.738624 -1083.088512  -914.107392  -217.26144      0.\n",
      "    489.240576   972.043776  1083.088512  1676.936448  2537.935488]\n",
      " [-1890.9792   -1572.329088 -1403.347968  -706.502016  -489.240576\n",
      "      0.         482.8032     593.847936  1187.695872  2048.694912]\n",
      " [-2373.7824   -2055.132288 -1886.151168 -1189.305216  -972.043776\n",
      "   -482.8032       0.         111.044736   704.892672  1565.891712]\n",
      " [-2484.827136 -2166.177024 -1997.195904 -1300.349952 -1083.088512\n",
      "   -593.847936  -111.044736     0.         593.847936  1454.846976]\n",
      " [-3078.675072 -2760.02496  -2591.04384  -1894.197888 -1676.936448\n",
      "  -1187.695872  -704.892672  -593.847936     0.         860.99904 ]\n",
      " [-3939.674112 -3621.024    -3452.04288  -2755.196928 -2537.935488\n",
      "  -2048.694912 -1565.891712 -1454.846976  -860.99904      0.      ]]\n"
     ]
    }
   ],
   "source": [
    "\n",
    "Distances_from_Chicago = np.array([0, 198, 303, 736, 871, 1175, 1475, 1544, 1913, 2448])\n",
    "D_tile = Distances_from_Chicago.reshape(1,10)\n",
    "#print(D_tile.shape)\n",
    "# To create 1x10 vector reshape is used.\n",
    "\n",
    "D_T = D_tile.T\n",
    "# If we substract the transpose of the array from itself, we can create the desired grid by broadcasting\n",
    "\n",
    "\n",
    "#print(D_T)\n",
    "\n",
    "myGrid = Distances_from_Chicago - D_T\n",
    "\n",
    "\n",
    "\n",
    "print(\"2D Distance Grid in miles: \\n\\n\",myGrid)\n",
    "\n",
    "print(\"\\n\\n 2D Distance Grid in km: \\n\\n\", myGrid * 1.609344)\n",
    "\n",
    "\n",
    "\n"
   ]
  },
  {
   "cell_type": "markdown",
   "metadata": {},
   "source": [
    "7\\. Prime numbers sieve: compute the prime numbers in the 0-N (start with N=99) range with a sieve (mask).\n",
    "  * Check the performances (timeit); how does it scale with N?\n",
    "  * Implement the optimization suggested in the [sieve of Eratosthenes](https://en.wikipedia.org/wiki/Sieve_of_Eratosthenes)"
   ]
  },
  {
   "cell_type": "code",
   "execution_count": 140,
   "metadata": {},
   "outputs": [
    {
     "name": "stdout",
     "output_type": "stream",
     "text": [
      "The time difference is :0.86269900 ms\n"
     ]
    }
   ],
   "source": [
    "import timeit\n",
    "starttime = timeit.default_timer()\n",
    "N=100\n",
    "A = np.arange(N)\n",
    "sieveMask = np.array(np.zeros(N),dtype=bool)\n",
    "\n",
    "for i in range(N):\n",
    "    if i==0:\n",
    "        sieveMask[i]=False\n",
    "    elif i==1:\n",
    "        sieveMask[i]=False\n",
    "    elif i!=2 and i%2==0:\n",
    "        sieveMask[i]=False\n",
    "    elif i!=3 and i%3==0:\n",
    "        sieveMask[i]=False\n",
    "    elif i!=5 and i%5==0:\n",
    "        sieveMask[i]=False\n",
    "    elif i!=7 and i%7==0:\n",
    "        sieveMask[i]=False\n",
    "    else:\n",
    "        sieveMask[i]=True\n",
    "\n",
    "print(\"The time difference is :%.8f ms\" % ((timeit.default_timer() - starttime)*(10**3)))\n",
    "#print(\"sieveMask\\n\\n\",sieveMask)        \n",
    "#print(\"\\n\\n\",A[sieveMask])\n",
    "\n",
    "# For N = e8, time difference is approximately 30 seconds.\n",
    "# For N= e2, time difference is approximately 0.5 ms.\n",
    "\n",
    "#The sieve of Eratosthenes is a popular way to benchmark computer performance.\n",
    "#The time complexity of calculating all primes below n in the random access machine model is O(n log log n) \n",
    "#operations, a direct consequence of the fact that the prime harmonic series asymptotically approaches log log n"
   ]
  },
  {
   "cell_type": "code",
   "execution_count": 141,
   "metadata": {},
   "outputs": [
    {
     "name": "stdout",
     "output_type": "stream",
     "text": [
      "The time difference is :0.398868000 ms \n",
      "\n"
     ]
    },
    {
     "data": {
      "text/plain": [
       "'algorithm Sieve of Eratosthenes is\\n    input: an integer n > 1.\\n    output: all prime numbers from 2 through n.\\n\\n    let A be an array of Boolean values, indexed by integers 2 to n,\\n    initially all set to true.\\n    \\n    for i = 2, 3, 4, ..., not exceeding √n do\\n        if A[i] is true\\n            for j = i2, i2+i, i2+2i, i2+3i, ..., not exceeding n do\\n                A[j] := false\\n\\n    return all i such that A[i] is true.'"
      ]
     },
     "execution_count": 141,
     "metadata": {},
     "output_type": "execute_result"
    }
   ],
   "source": [
    "N=100\n",
    "starttime = timeit.default_timer()\n",
    "ERA = np.arange(N)\n",
    "maskERA = np.array(np.ones(N),dtype=bool)\n",
    "maskERA[1] = False\n",
    "maskERA[0] = False\n",
    "\n",
    "for i in range(int(np.sqrt(N))):\n",
    "    if maskERA[i]==True:\n",
    "        for j in range(i**2,N,i):\n",
    "            maskERA[j]=False\n",
    "\n",
    "print(\"The time difference is :%.9f ms \\n\" % ((timeit.default_timer() - starttime)*(10**3)))\n",
    "            \n",
    "#print(ERA[maskERA])\n",
    "\n",
    "'''algorithm Sieve of Eratosthenes is\n",
    "    input: an integer n > 1.\n",
    "    output: all prime numbers from 2 through n.\n",
    "\n",
    "    let A be an array of Boolean values, indexed by integers 2 to n,\n",
    "    initially all set to true.\n",
    "    \n",
    "    for i = 2, 3, 4, ..., not exceeding √n do\n",
    "        if A[i] is true\n",
    "            for j = i2, i2+i, i2+2i, i2+3i, ..., not exceeding n do\n",
    "                A[j] := false\n",
    "\n",
    "    return all i such that A[i] is true.'''\n"
   ]
  }
 ],
 "metadata": {
  "kernelspec": {
   "display_name": "Python 3",
   "language": "python",
   "name": "python3"
  },
  "language_info": {
   "codemirror_mode": {
    "name": "ipython",
    "version": 3
   },
   "file_extension": ".py",
   "mimetype": "text/x-python",
   "name": "python",
   "nbconvert_exporter": "python",
   "pygments_lexer": "ipython3",
   "version": "3.8.8"
  }
 },
 "nbformat": 4,
 "nbformat_minor": 2
}
