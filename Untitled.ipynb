{
 "cells": [
  {
   "cell_type": "code",
   "execution_count": 1,
   "id": "d32d54ef",
   "metadata": {},
   "outputs": [
    {
     "name": "stdout",
     "output_type": "stream",
     "text": [
      "This is python, programming is fun again\n"
     ]
    }
   ],
   "source": [
    "print(\"This is python, programming is fun again\")"
   ]
  },
  {
   "cell_type": "code",
   "execution_count": 2,
   "id": "e959b2da",
   "metadata": {},
   "outputs": [
    {
     "name": "stdout",
     "output_type": "stream",
     "text": [
      "2\n"
     ]
    }
   ],
   "source": [
    "variable=2\n",
    "print(variable)\n"
   ]
  },
  {
   "cell_type": "code",
   "execution_count": 3,
   "id": "b736c82d",
   "metadata": {},
   "outputs": [
    {
     "data": {
      "text/plain": [
       "str"
      ]
     },
     "execution_count": 3,
     "metadata": {},
     "output_type": "execute_result"
    }
   ],
   "source": [
    "variable=\"2\"\n",
    "type(variable)\n"
   ]
  },
  {
   "cell_type": "code",
   "execution_count": 4,
   "id": "0bd62345",
   "metadata": {},
   "outputs": [
    {
     "data": {
      "text/plain": [
       "float"
      ]
     },
     "execution_count": 4,
     "metadata": {},
     "output_type": "execute_result"
    }
   ],
   "source": [
    "variable=0.2\n",
    "type(variable)"
   ]
  },
  {
   "cell_type": "code",
   "execution_count": 5,
   "id": "3349732a",
   "metadata": {},
   "outputs": [
    {
     "name": "stdout",
     "output_type": "stream",
     "text": [
      "Art:   453, Price per unit:    59.06\n"
     ]
    }
   ],
   "source": [
    "print(\"Art: %5d, Price per unit: %8.2f\" % (453, 59.058))"
   ]
  },
  {
   "cell_type": "code",
   "execution_count": null,
   "id": "bbb5c06e",
   "metadata": {},
   "outputs": [],
   "source": []
  }
 ],
 "metadata": {
  "kernelspec": {
   "display_name": "Python 3",
   "language": "python",
   "name": "python3"
  },
  "language_info": {
   "codemirror_mode": {
    "name": "ipython",
    "version": 3
   },
   "file_extension": ".py",
   "mimetype": "text/x-python",
   "name": "python",
   "nbconvert_exporter": "python",
   "pygments_lexer": "ipython3",
   "version": "3.8.8"
  }
 },
 "nbformat": 4,
 "nbformat_minor": 5
}
