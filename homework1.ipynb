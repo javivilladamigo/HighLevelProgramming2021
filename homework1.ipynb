{
 "cells": [
  {
   "cell_type": "code",
   "execution_count": 28,
   "id": "2e4405fb",
   "metadata": {
    "scrolled": false
   },
   "outputs": [
    {
     "name": "stdout",
     "output_type": "stream",
     "text": [
      "1\n",
      "2\n",
      "Hello\n",
      "4\n",
      "World\n",
      "Hello\n",
      "7\n",
      "8\n",
      "Hello\n",
      "World\n",
      "11\n",
      "Hello\n",
      "13\n",
      "14\n",
      "HelloWorld\n",
      "16\n",
      "17\n",
      "Hello\n",
      "19\n",
      "World\n",
      "Hello\n",
      "22\n",
      "23\n",
      "Hello\n",
      "World\n",
      "26\n",
      "Hello\n",
      "28\n",
      "29\n",
      "HelloWorld\n",
      "31\n",
      "32\n",
      "Hello\n",
      "34\n",
      "World\n",
      "Hello\n",
      "37\n",
      "38\n",
      "Hello\n",
      "World\n",
      "41\n",
      "Hello\n",
      "43\n",
      "44\n",
      "HelloWorld\n",
      "46\n",
      "47\n",
      "Hello\n",
      "49\n",
      "World\n",
      "Hello\n",
      "52\n",
      "53\n",
      "Hello\n",
      "World\n",
      "56\n",
      "Hello\n",
      "58\n",
      "59\n",
      "HelloWorld\n",
      "61\n",
      "62\n",
      "Hello\n",
      "64\n",
      "World\n",
      "Hello\n",
      "67\n",
      "68\n",
      "Hello\n",
      "World\n",
      "71\n",
      "Hello\n",
      "73\n",
      "74\n",
      "HelloWorld\n",
      "76\n",
      "77\n",
      "Hello\n",
      "79\n",
      "World\n",
      "Hello\n",
      "82\n",
      "83\n",
      "Hello\n",
      "World\n",
      "86\n",
      "Hello\n",
      "88\n",
      "89\n",
      "HelloWorld\n",
      "91\n",
      "92\n",
      "Hello\n",
      "94\n",
      "World\n",
      "Hello\n",
      "97\n",
      "98\n",
      "Hello\n"
     ]
    }
   ],
   "source": [
    "for i in range(1,100) : \n",
    "    if(i % 15 == 0) :\n",
    "        print ('HelloWorld') \n",
    "    elif  (i % 5 == 0) :\n",
    "        print ('World') \n",
    "    elif  (i % 3 == 0) :\n",
    "        print ('Hello')       \n",
    "    else :\n",
    "        print (i) \n",
    "    "
   ]
  },
  {
   "cell_type": "code",
   "execution_count": 47,
   "id": "720a6e5d",
   "metadata": {},
   "outputs": [
    {
     "name": "stdout",
     "output_type": "stream",
     "text": [
      "(1, 2, 'Python', 4, 'Works', 'Python', 7, 8, 'Python', 'Works', 11, 'Python', 13, 14, 'HelloWorld', 16, 17, 'Python', 19, 'Works', 'Python', 22, 23, 'Python', 'Works', 26, 'Python', 28, 29, 'HelloWorld', 31, 32, 'Python', 34, 'Works', 'Python', 37, 38, 'Python', 'Works', 41, 'Python', 43, 44, 'HelloWorld', 46, 47, 'Python', 49, 'Works', 'Python', 52, 53, 'Python', 'Works', 56, 'Python', 58, 59, 'HelloWorld', 61, 62, 'Python', 64, 'Works', 'Python', 67, 68, 'Python', 'Works', 71, 'Python', 73, 74, 'HelloWorld', 76, 77, 'Python', 79, 'Works', 'Python', 82, 83, 'Python', 'Works', 86, 'Python', 88, 89, 'HelloWorld', 91, 92, 'Python', 94, 'Works', 'Python', 97, 98, 'Python')\n"
     ]
    }
   ],
   "source": [
    "def EX01_Q1B():\n",
    "    myList = []\n",
    "    for i in range(1,100):\n",
    "        if i % 3 == 0 and i % 5 == 0 : \n",
    "                j = \"HelloWorld\"\n",
    "                myList.append(j)\n",
    "        elif i % 3 == 0:\n",
    "                j = \"Hello\"\n",
    "                myList.append(j)\n",
    "        elif i % 5 == 0:\n",
    "                j = \"World\"\n",
    "                myList.append(j)\n",
    "        else:\n",
    "                j = i\n",
    "                myList.append(j)\n",
    "    replacements = {'Hello':'Python', 'World':'Works'}\n",
    "    replacer = replacements.get\n",
    "    myTuple = tuple([replacer(n, n) for n in myList])\n",
    "    print (myTuple)\n",
    "EX01_Q1B()\n",
    "        \n",
    "   \n"
   ]
  },
  {
   "cell_type": "code",
   "execution_count": 29,
   "id": "20d19deb",
   "metadata": {},
   "outputs": [
    {
     "name": "stdout",
     "output_type": "stream",
     "text": [
      "The value of x after swapping: 5\n",
      "The value of y after swapping: 1\n"
     ]
    }
   ],
   "source": [
    "x = 1\n",
    "y = 5\n",
    "temp = x\n",
    "x = y\n",
    "y = temp\n",
    "\n",
    "print('The value of x after swapping: {}'.format(x))\n",
    "print('The value of y after swapping: {}'.format(y))"
   ]
  },
  {
   "cell_type": "code",
   "execution_count": 50,
   "id": "26946717",
   "metadata": {
    "scrolled": true
   },
   "outputs": [
    {
     "data": {
      "text/plain": [
       "[[3, 4, 5],\n",
       " [4, 3, 5],\n",
       " [5, 12, 13],\n",
       " [6, 8, 10],\n",
       " [7, 24, 25],\n",
       " [8, 6, 10],\n",
       " [8, 15, 17],\n",
       " [9, 12, 15],\n",
       " [9, 40, 41],\n",
       " [10, 24, 26],\n",
       " [11, 60, 61],\n",
       " [12, 5, 13],\n",
       " [12, 9, 15],\n",
       " [12, 16, 20],\n",
       " [12, 35, 37],\n",
       " [13, 84, 85],\n",
       " [14, 48, 50],\n",
       " [15, 8, 17],\n",
       " [15, 20, 25],\n",
       " [15, 36, 39],\n",
       " [16, 12, 20],\n",
       " [16, 30, 34],\n",
       " [16, 63, 65],\n",
       " [18, 24, 30],\n",
       " [18, 80, 82],\n",
       " [20, 15, 25],\n",
       " [20, 21, 29],\n",
       " [20, 48, 52],\n",
       " [21, 20, 29],\n",
       " [21, 28, 35],\n",
       " [21, 72, 75],\n",
       " [24, 7, 25],\n",
       " [24, 10, 26],\n",
       " [24, 18, 30],\n",
       " [24, 32, 40],\n",
       " [24, 45, 51],\n",
       " [24, 70, 74],\n",
       " [25, 60, 65],\n",
       " [27, 36, 45],\n",
       " [28, 21, 35],\n",
       " [28, 45, 53],\n",
       " [30, 16, 34],\n",
       " [30, 40, 50],\n",
       " [30, 72, 78],\n",
       " [32, 24, 40],\n",
       " [32, 60, 68],\n",
       " [33, 44, 55],\n",
       " [33, 56, 65],\n",
       " [35, 12, 37],\n",
       " [35, 84, 91],\n",
       " [36, 15, 39],\n",
       " [36, 27, 45],\n",
       " [36, 48, 60],\n",
       " [36, 77, 85],\n",
       " [39, 52, 65],\n",
       " [39, 80, 89],\n",
       " [40, 9, 41],\n",
       " [40, 30, 50],\n",
       " [40, 42, 58],\n",
       " [40, 75, 85],\n",
       " [42, 40, 58],\n",
       " [42, 56, 70],\n",
       " [44, 33, 55],\n",
       " [45, 24, 51],\n",
       " [45, 28, 53],\n",
       " [45, 60, 75],\n",
       " [48, 14, 50],\n",
       " [48, 20, 52],\n",
       " [48, 36, 60],\n",
       " [48, 55, 73],\n",
       " [48, 64, 80],\n",
       " [51, 68, 85],\n",
       " [52, 39, 65],\n",
       " [54, 72, 90],\n",
       " [55, 48, 73],\n",
       " [56, 33, 65],\n",
       " [56, 42, 70],\n",
       " [57, 76, 95],\n",
       " [60, 11, 61],\n",
       " [60, 25, 65],\n",
       " [60, 32, 68],\n",
       " [60, 45, 75],\n",
       " [60, 63, 87],\n",
       " [63, 16, 65],\n",
       " [63, 60, 87],\n",
       " [64, 48, 80],\n",
       " [65, 72, 97],\n",
       " [68, 51, 85],\n",
       " [70, 24, 74],\n",
       " [72, 21, 75],\n",
       " [72, 30, 78],\n",
       " [72, 54, 90],\n",
       " [72, 65, 97],\n",
       " [75, 40, 85],\n",
       " [76, 57, 95],\n",
       " [77, 36, 85],\n",
       " [80, 18, 82],\n",
       " [80, 39, 89],\n",
       " [84, 13, 85],\n",
       " [84, 35, 91]]"
      ]
     },
     "execution_count": 50,
     "metadata": {},
     "output_type": "execute_result"
    }
   ],
   "source": [
    "def euclide():\n",
    "    \n",
    "    euclide_list = []\n",
    "    for x in range(1,100):\n",
    "        for y in range(1,100):\n",
    "            for z in range(1,100):\n",
    "                if z**2==x**2+y**2:\n",
    "                    euclide_list.append([x,y,z])\n",
    "    return euclide_list\n",
    "    print (euclide_list)\n",
    "euclide()"
   ]
  },
  {
   "cell_type": "code",
   "execution_count": 48,
   "id": "07668d0a",
   "metadata": {},
   "outputs": [
    {
     "name": "stdout",
     "output_type": "stream",
     "text": [
      "{' ': 41, 'o': 15, 'v': 2, 'm': 8, '1': 2, 'f': 10, 'p': 8, 'b': 5, '0': 2, 'd': 5, 'r': 19, 'a': 7, 'g': 1, 'w': 4, 'h': 11, 'n': 10, 's': 7, '.': 3, 'l': 12, 'e': 20, 'c': 1, 'u': 7, 't': 19, 'i': 12}\n"
     ]
    }
   ],
   "source": [
    "def orn4(myString):\n",
    "    myString = myString.lower()\n",
    "    output = {x : myString.count(x) for x in set(myString)}\n",
    "    print (output)\n",
    "s = \"Write a program that prints the numbers from 1 to 100. \\\n",
    "But for multiples of three print Hello instead of the number and for the multiples of five print World. \\\n",
    "For numbers which are multiples of both three and five print HelloWorld.\"\n",
    "orn4(s)"
   ]
  },
  {
   "cell_type": "code",
   "execution_count": 86,
   "id": "76de5c75",
   "metadata": {},
   "outputs": [
    {
     "name": "stdout",
     "output_type": "stream",
     "text": [
      "The list of unique values is: [36, 45, 58, 3, 74, 96, 64, 31, 10, 24, 19, 33, 86, 99, 18, 63, 70, 85, 47, 56, 42, 84, 88, 55, 20, 54, 8, 51, 79, 81, 57, 37, 91, 1, 66, 9, 89, 50, 95, 90, 98, 39, 16, 82, 92, 41, 30, 34, 94, 5, 72, 87, 75, 53]\n",
      "The number of unique values is: 54\n"
     ]
    }
   ],
   "source": [
    "def get_unique_values_with_for_loop(values):\n",
    "    unique_values = []\n",
    "\n",
    "    for value in values:\n",
    "        if value not in unique_values:\n",
    "            unique_values.append(value)\n",
    "\n",
    "    return unique_values\n",
    "numbers = [36, 45, 58, 3, 74, 96, 64, 45, 31, 10, 24, 19, 33, 86, 99, 18, 63, 70, 85,\n",
    " 85, 63, 47, 56, 42, 70, 84, 88, 55, 20, 54, 8, 56, 51, 79, 81, 57, 37, 91,\n",
    " 1, 84, 84, 36, 66, 9, 89, 50, 42, 91, 50, 95, 90, 98, 39, 16, 82, 31, 92, 41,\n",
    " 45, 30, 66, 70, 34, 85, 94, 5, 3, 36, 72, 91, 84, 34, 87, 75, 53, 51, 20, 89, 51, 20]\n",
    "unique_values = get_unique_values_with_for_loop(numbers)\n",
    "number_of_unique_values = len(unique_values)\n",
    "print(\"The list of unique values is: {}\".format(unique_values))\n",
    "print(\"The number of unique values is: {}\".format(number_of_unique_values))\n"
   ]
  },
  {
   "cell_type": "code",
   "execution_count": 49,
   "id": "e25c0287",
   "metadata": {},
   "outputs": [
    {
     "name": "stdout",
     "output_type": "stream",
     "text": [
      "4\n",
      "8\n",
      "32\n"
     ]
    }
   ],
   "source": [
    "def orn6sq(x): \n",
    "    print (x**2)\n",
    "    return x**2\n",
    "\n",
    "def orn6cb(x): \n",
    "    print (x**3)\n",
    "    return x**3\n",
    "    \n",
    "def orn6pwr(x):\n",
    "    out = EX01_Q6_square(x) * EX01_Q6_cube(x)\n",
    "    print(out)\n",
    "\n",
    "orn6pwr(2)"
   ]
  },
  {
   "cell_type": "code",
   "execution_count": 50,
   "id": "02c3b3e4",
   "metadata": {},
   "outputs": [
    {
     "name": "stdout",
     "output_type": "stream",
     "text": [
      "[0, 1, 8, 27, 64, 125, 216, 343, 512, 729]\n"
     ]
    }
   ],
   "source": [
    "def orn7a():\n",
    "    cubeList = []\n",
    "    for i in range(0,10):\n",
    "        cubeList.append(i**3)\n",
    "    print(cubeList)\n",
    "\n",
    "orn7a()"
   ]
  },
  {
   "cell_type": "code",
   "execution_count": 52,
   "id": "581775fe",
   "metadata": {},
   "outputs": [
    {
     "name": "stdout",
     "output_type": "stream",
     "text": [
      "[[5, 3, 4], [5, 4, 3], [10, 6, 8], [10, 8, 6], [13, 5, 12], [13, 12, 5], [15, 9, 12], [15, 12, 9], [17, 8, 15], [17, 15, 8], [20, 12, 16], [20, 16, 12], [25, 7, 24], [25, 15, 20], [25, 20, 15], [25, 24, 7], [26, 10, 24], [26, 24, 10], [29, 20, 21], [29, 21, 20], [30, 18, 24], [30, 24, 18], [34, 16, 30], [34, 30, 16], [35, 21, 28], [35, 28, 21], [37, 12, 35], [37, 35, 12], [39, 15, 36], [39, 36, 15], [40, 24, 32], [40, 32, 24], [41, 9, 40], [41, 40, 9], [45, 27, 36], [45, 36, 27], [50, 14, 48], [50, 30, 40], [50, 40, 30], [50, 48, 14], [51, 24, 45], [51, 45, 24], [52, 20, 48], [52, 48, 20], [53, 28, 45], [53, 45, 28], [55, 33, 44], [55, 44, 33], [58, 40, 42], [58, 42, 40], [60, 36, 48], [60, 48, 36], [61, 11, 60], [61, 60, 11], [65, 16, 63], [65, 25, 60], [65, 33, 56], [65, 39, 52], [65, 52, 39], [65, 56, 33], [65, 60, 25], [65, 63, 16], [68, 32, 60], [68, 60, 32], [70, 42, 56], [70, 56, 42], [73, 48, 55], [73, 55, 48], [74, 24, 70], [74, 70, 24], [75, 21, 72], [75, 45, 60], [75, 60, 45], [75, 72, 21], [78, 30, 72], [78, 72, 30], [80, 48, 64], [80, 64, 48], [82, 18, 80], [82, 80, 18], [85, 13, 84], [85, 36, 77], [85, 40, 75], [85, 51, 68], [85, 68, 51], [85, 75, 40], [85, 77, 36], [85, 84, 13], [87, 60, 63], [87, 63, 60], [89, 39, 80], [89, 80, 39], [90, 54, 72], [90, 72, 54], [91, 35, 84], [91, 84, 35], [95, 57, 76], [95, 76, 57], [97, 65, 72], [97, 72, 65]]\n"
     ]
    }
   ],
   "source": [
    "def orn8():\n",
    "    myList = []\n",
    "    for x in range (1,100):\n",
    "        for y in range (1,100):\n",
    "            for z in range (1,100):\n",
    "                if x**2 == y**2+z**2:\n",
    "                    myList.append([a,b,c])\n",
    "    print (myList)\n",
    "orn8()"
   ]
  },
  {
   "cell_type": "code",
   "execution_count": 54,
   "id": "db63400d",
   "metadata": {},
   "outputs": [
    {
     "name": "stdout",
     "output_type": "stream",
     "text": [
      "(0.0, 0.5, 1.0)\n"
     ]
    }
   ],
   "source": [
    "def orn9(myTuple):\n",
    "    minValue = min(myTuple)\n",
    "    maxValue = max(myTuple)\n",
    "    normalizedValueList = ()\n",
    "    for i in range(len(myTuple)):\n",
    "        normalizedValue = (myTuple[i]-minValue)/(maxValue-minValue)\n",
    "        normalizedValueList = normalizedValueList + (normalizedValue,)\n",
    "    print (normalizedValueList)\n",
    "               \n",
    "orn9((1,2,3))"
   ]
  },
  {
   "cell_type": "code",
   "execution_count": null,
   "id": "d6f767ee",
   "metadata": {},
   "outputs": [],
   "source": []
  }
 ],
 "metadata": {
  "kernelspec": {
   "display_name": "Python 3",
   "language": "python",
   "name": "python3"
  },
  "language_info": {
   "codemirror_mode": {
    "name": "ipython",
    "version": 3
   },
   "file_extension": ".py",
   "mimetype": "text/x-python",
   "name": "python",
   "nbconvert_exporter": "python",
   "pygments_lexer": "ipython3",
   "version": "3.8.8"
  }
 },
 "nbformat": 4,
 "nbformat_minor": 5
}
