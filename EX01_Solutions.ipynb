{
 "cells": [
  {
   "cell_type": "markdown",
   "metadata": {},
   "source": [
    "1. The HelloWorld replacement\n",
    "\n",
    "a) Write a program that prints the numbers from 1 to 100. But for multiples of three print \"Hello\" instead of the number and for the multiples of five print \"World\". For numbers which are multiples of both three and five print \"HelloWorld\".\n",
    "\n",
    "b) Put the result in a tuple and substitute \"Hello\" with \"Python\" and \"World\" with \"Works\"."
   ]
  },
  {
   "cell_type": "code",
   "execution_count": null,
   "metadata": {},
   "outputs": [],
   "source": [
    "def EX01_Q1A ():\n",
    "    for i in range(1,100):\n",
    "        if i % 3 == 0 and i % 5 == 0 : \n",
    "                print(\"HelloWorld\")\n",
    "        elif i % 3 == 0:\n",
    "                print(\"Hello\")\n",
    "        elif i % 5 == 0:\n",
    "                print(\"World\")\n",
    "        else:\n",
    "                print(i)\n",
    "EX01_Q1A ()"
   ]
  },
  {
   "cell_type": "code",
   "execution_count": null,
   "metadata": {},
   "outputs": [],
   "source": [
    "def EX01_Q1B():\n",
    "    myList = []\n",
    "    for i in range(1,100):\n",
    "        if i % 3 == 0 and i % 5 == 0 : \n",
    "                j = \"HelloWorld\"\n",
    "                myList.append(j)\n",
    "        elif i % 3 == 0:\n",
    "                j = \"Hello\"\n",
    "                myList.append(j)\n",
    "        elif i % 5 == 0:\n",
    "                j = \"World\"\n",
    "                myList.append(j)\n",
    "        else:\n",
    "                j = i\n",
    "                myList.append(j)\n",
    "    replacements = {'Hello':'Python', 'World':'Works'}\n",
    "    replacer = replacements.get\n",
    "    myTuple = tuple([replacer(n, n) for n in myList])\n",
    "    print (myTuple)\n",
    "EX01_Q1B()"
   ]
  },
  {
   "cell_type": "markdown",
   "metadata": {},
   "source": [
    "2\\. The swap function\n",
    "\n",
    "Write a function that swap the values of two input variables x and y (whatever the type). Try to do that also without a temporary variable"
   ]
  },
  {
   "cell_type": "code",
   "execution_count": null,
   "metadata": {},
   "outputs": [],
   "source": [
    "def EX01_Q2(x,y):\n",
    "    x,y = y,x\n",
    "    print (\"x =\",x)\n",
    "    print (\"y =\",y)\n",
    "EX01_Q2(5,10)"
   ]
  },
  {
   "cell_type": "markdown",
   "metadata": {},
   "source": [
    "3\\. Computing the distance\n",
    "\n",
    "Write a function that calculates and returns the euclidean distance between two points *u* and *v*, where *u* and *v* are both 2-tuples *(x,y)*. For example, if *u=(3,0)* and *v=(0,4)*, the function should return 5"
   ]
  },
  {
   "cell_type": "code",
   "execution_count": null,
   "metadata": {},
   "outputs": [],
   "source": [
    "def EX01_Q3(p1,p2):\n",
    "    distance=((p1[0]-p2[0])**2+(p1[1]-p2[1])**2)**(1/2)\n",
    "    print (distance)\n",
    "EX01_Q3 ([3,0],[0,4])"
   ]
  },
  {
   "cell_type": "markdown",
   "metadata": {},
   "source": [
    "4\\. Counting letters\n",
    "\n",
    "Write a program to calculate the number of times each character occurs in a given string *s*. Ignore differences in capitalization"
   ]
  },
  {
   "cell_type": "code",
   "execution_count": 2,
   "metadata": {},
   "outputs": [],
   "source": [
    "s = \"Write a program that prints the numbers from 1 to 100. \\\n",
    "But for multiples of three print Hello instead of the number and for the multiples of five print World. \\\n",
    "For numbers which are multiples of both three and five print HelloWorld.\""
   ]
  },
  {
   "cell_type": "code",
   "execution_count": null,
   "metadata": {},
   "outputs": [],
   "source": [
    "def EX01_Q4(myString):\n",
    "    myString = myString.lower()\n",
    "    output = {x : myString.count(x) for x in set(myString)}\n",
    "    print (output)\n",
    "s = \"Write a program that prints the numbers from 1 to 100. \\\n",
    "But for multiples of three print Hello instead of the number and for the multiples of five print World. \\\n",
    "For numbers which are multiples of both three and five print HelloWorld.\"\n",
    "EX01_Q4(s)"
   ]
  },
  {
   "cell_type": "markdown",
   "metadata": {},
   "source": [
    "5\\. Isolating the unique\n",
    "\n",
    "Write a function that determines and count the unique numbers in the list:"
   ]
  },
  {
   "cell_type": "code",
   "execution_count": 5,
   "metadata": {},
   "outputs": [],
   "source": [
    "l = [36, 45, 58, 3, 74, 96, 64, 45, 31, 10, 24, 19, 33, 86, 99, 18, 63, 70, 85,\n",
    " 85, 63, 47, 56, 42, 70, 84, 88, 55, 20, 54, 8, 56, 51, 79, 81, 57, 37, 91,\n",
    " 1, 84, 84, 36, 66, 9, 89, 50, 42, 91, 50, 95, 90, 98, 39, 16, 82, 31, 92, 41,\n",
    " 45, 30, 66, 70, 34, 85, 94, 5, 3, 36, 72, 91, 84, 34, 87, 75, 53, 51, 20, 89, 51, 20]"
   ]
  },
  {
   "cell_type": "code",
   "execution_count": null,
   "metadata": {},
   "outputs": [],
   "source": [
    "def EX01_Q5(myList):\n",
    "    output = {x : myList.count(x) for x in set(myList)}\n",
    "    print (output)\n",
    "l = [36, 45, 58, 3, 74, 96, 64, 45, 31, 10, 24, 19, 33, 86, 99, 18, 63, 70, 85,\n",
    " 85, 63, 47, 56, 42, 70, 84, 88, 55, 20, 54, 8, 56, 51, 79, 81, 57, 37, 91,\n",
    " 1, 84, 84, 36, 66, 9, 89, 50, 42, 91, 50, 95, 90, 98, 39, 16, 82, 31, 92, 41,\n",
    " 45, 30, 66, 70, 34, 85, 94, 5, 3, 36, 72, 91, 84, 34, 87, 75, 53, 51, 20, 89, 51, 20]\n",
    "EX01_Q5(l)"
   ]
  },
  {
   "cell_type": "markdown",
   "metadata": {},
   "source": [
    "Do the same without using user-defined functions, but exploiting only the Python data structures."
   ]
  },
  {
   "cell_type": "markdown",
   "metadata": {},
   "source": [
    "6\\. Combination of functions\n",
    "\n",
    "Write two functions - one that returns the square of a number, and one that returns the cube. Now write a third function that returns the number raised to the 6th power using the two previous functions."
   ]
  },
  {
   "cell_type": "code",
   "execution_count": null,
   "metadata": {},
   "outputs": [],
   "source": [
    "def EX01_Q6_square(x): \n",
    "    print (x**2)\n",
    "    return x**2\n",
    "\n",
    "def EX01_Q6_cube(x): \n",
    "    print (x**3)\n",
    "    return x**3\n",
    "    \n",
    "def EX01_Q6_sixthPower(x):\n",
    "    out = EX01_Q6_square(x) * EX01_Q6_cube(x)\n",
    "    print(out)\n",
    "\n",
    "EX01_Q6_sixthPower(2)"
   ]
  },
  {
   "cell_type": "markdown",
   "metadata": {},
   "source": [
    "7\\. Cubes\n",
    "\n",
    "Create a list of the cubes of x for x in *[0, 10]* using:\n",
    "\n",
    "a) a for loop\n",
    "\n",
    "b) a list comprehension"
   ]
  },
  {
   "cell_type": "code",
   "execution_count": null,
   "metadata": {},
   "outputs": [],
   "source": [
    "def EX01_Q7A():\n",
    "    cubeList = []\n",
    "    for i in range(0,10):\n",
    "        cubeList.append(i**3)\n",
    "    print(cubeList)\n",
    "\n",
    "EX01_Q7A()"
   ]
  },
  {
   "cell_type": "markdown",
   "metadata": {},
   "source": [
    "8\\. Nested list comprehension\n",
    "\n",
    "A Pythagorean triple is an integer solution to the Pythagorean theorem $a^2+b^2=c^2$. The first Pythagorean triple is (3,4,5). Find and put in a tuple all unique Pythagorean triples for the positive integers a, b and c less than 100."
   ]
  },
  {
   "cell_type": "code",
   "execution_count": null,
   "metadata": {},
   "outputs": [],
   "source": [
    "def EX01_Q8():\n",
    "    myList = []\n",
    "    for a in range (1,100):\n",
    "        for b in range (1,100):\n",
    "            for c in range (1,100):\n",
    "                if a**2 == b**2+c**2:\n",
    "                    myList.append([a,b,c])\n",
    "    print (myList)\n",
    "EX01_Q8()"
   ]
  },
  {
   "cell_type": "markdown",
   "metadata": {},
   "source": [
    "9\\. Normalization\n",
    "\n",
    "Write a function that takes a tuple of numbers and returns it with the entries normalized to one"
   ]
  },
  {
   "cell_type": "code",
   "execution_count": null,
   "metadata": {},
   "outputs": [],
   "source": [
    "def EX01_Q9(myTuple):\n",
    "    minValue = min(myTuple)\n",
    "    maxValue = max(myTuple)\n",
    "    normalizedValueList = ()\n",
    "    for i in range(len(myTuple)):\n",
    "        normalizedValue = (myTuple[i]-minValue)/(maxValue-minValue)\n",
    "        normalizedValueList = normalizedValueList + (normalizedValue,)\n",
    "    print (normalizedValueList)\n",
    "               \n",
    "EX01_Q9((1,2,3))"
   ]
  }
 ],
 "metadata": {
  "kernelspec": {
   "display_name": "Python 3",
   "language": "python",
   "name": "python3"
  },
  "language_info": {
   "codemirror_mode": {
    "name": "ipython",
    "version": 3
   },
   "file_extension": ".py",
   "mimetype": "text/x-python",
   "name": "python",
   "nbconvert_exporter": "python",
   "pygments_lexer": "ipython3",
   "version": "3.8.8"
  }
 },
 "nbformat": 4,
 "nbformat_minor": 2
}
