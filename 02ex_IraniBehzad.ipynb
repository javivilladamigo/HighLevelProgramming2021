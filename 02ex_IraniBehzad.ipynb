{
  "nbformat": 4,
  "nbformat_minor": 0,
  "metadata": {
    "kernelspec": {
      "display_name": "Python 3",
      "language": "python",
      "name": "python3"
    },
    "language_info": {
      "codemirror_mode": {
        "name": "ipython",
        "version": 3
      },
      "file_extension": ".py",
      "mimetype": "text/x-python",
      "name": "python",
      "nbconvert_exporter": "python",
      "pygments_lexer": "ipython3",
      "version": "3.8.5"
    },
    "colab": {
      "name": "02ex_IraniBehzad.ipynb",
      "provenance": [],
      "collapsed_sections": []
    }
  },
  "cells": [
    {
      "cell_type": "markdown",
      "metadata": {
        "id": "O_iIWybTDqDH"
      },
      "source": [
        "1. Write the following expressions using the list comprehension"
      ]
    },
    {
      "cell_type": "code",
      "metadata": {
        "colab": {
          "base_uri": "https://localhost:8080/"
        },
        "id": "4anEeG2SDqDL",
        "outputId": "3b94b4c4-3103-490a-8c3e-dabcb647f069"
      },
      "source": [
        "# 1\n",
        "ans = []\n",
        "for i in range(3):\n",
        "    for j in range(4):\n",
        "        ans.append((i, j))\n",
        "print(ans)\n",
        "\n",
        "# 2\n",
        "ans = map(lambda x: x * x, filter(lambda x: x % 2 == 1, range(10)))\n",
        "print(list(ans))"
      ],
      "execution_count": 151,
      "outputs": [
        {
          "output_type": "stream",
          "name": "stdout",
          "text": [
            "[(0, 0), (0, 1), (0, 2), (0, 3), (1, 0), (1, 1), (1, 2), (1, 3), (2, 0), (2, 1), (2, 2), (2, 3)]\n",
            "[1, 9, 25, 49, 81]\n"
          ]
        }
      ]
    },
    {
      "cell_type": "code",
      "metadata": {
        "colab": {
          "base_uri": "https://localhost:8080/"
        },
        "id": "8OXuueScDqDO",
        "outputId": "926f598b-1069-4ebd-cb98-2c8e59c909a2"
      },
      "source": [
        "# part 1\n",
        "print(\"Part 1\")\n",
        "ans = [(i, j) for i in range(3) for j in range(4)]\n",
        "print(ans)\n",
        "\n",
        "# part 2\n",
        "print(\"Part 2\")\n",
        "square = [x*x for x in range(10) if x%2 == 1]\n",
        "print(square)\n"
      ],
      "execution_count": 153,
      "outputs": [
        {
          "output_type": "stream",
          "name": "stdout",
          "text": [
            "Part 1\n",
            "[(0, 0), (0, 1), (0, 2), (0, 3), (1, 0), (1, 1), (1, 2), (1, 3), (2, 0), (2, 1), (2, 2), (2, 3)]\n",
            "Part 2\n",
            "[1, 9, 25, 49, 81]\n"
          ]
        }
      ]
    },
    {
      "cell_type": "markdown",
      "metadata": {
        "id": "R9TREBSlDqDP"
      },
      "source": [
        "2\\. Convert the function $f$ into a function that doesn't use global variables and that does not modify the original list"
      ]
    },
    {
      "cell_type": "code",
      "metadata": {
        "colab": {
          "base_uri": "https://localhost:8080/"
        },
        "id": "4CNCbonpDqDQ",
        "outputId": "b8d00868-dffa-4131-d7fd-25ba755771bb"
      },
      "source": [
        "x = 5\n",
        "def f(alist):\n",
        "    for i in range(x):\n",
        "         alist.append(i)\n",
        "    return alist\n",
        "\n",
        "alist = [1,2,3]\n",
        "ans = f(alist)\n",
        "print(ans)\n",
        "print(alist) # alist has been changed!"
      ],
      "execution_count": null,
      "outputs": [
        {
          "output_type": "stream",
          "name": "stdout",
          "text": [
            "[1, 2, 3, 0, 1, 2, 3, 4]\n",
            "[1, 2, 3, 0, 1, 2, 3, 4]\n"
          ]
        }
      ]
    },
    {
      "cell_type": "code",
      "metadata": {
        "colab": {
          "base_uri": "https://localhost:8080/"
        },
        "id": "zwkTCDZnDqDS",
        "outputId": "6756983d-74f9-41f2-ca4e-03b689dffa14"
      },
      "source": [
        "def f(alist, e):\n",
        "    l = alist.copy()\n",
        "    for i in range(e):\n",
        "         l.append(i)\n",
        "    return l\n",
        "\n",
        "alist = [1,2,3]\n",
        "ans = f(alist, 5)\n",
        "print(ans)\n",
        "print(alist) # alist has been changed!"
      ],
      "execution_count": null,
      "outputs": [
        {
          "output_type": "stream",
          "name": "stdout",
          "text": [
            "[1, 2, 3, 0, 1, 2, 3, 4]\n",
            "[1, 2, 3]\n"
          ]
        }
      ]
    },
    {
      "cell_type": "markdown",
      "metadata": {
        "id": "1ObCJnMcDqDT"
      },
      "source": [
        "3\\. Write a `decorator` hello that makes every wrapped function print “Hello!”, i.e. something like:\n",
        "\n",
        "```python\n",
        "@hello\n",
        "def square(x):\n",
        "    return x*x\n",
        "```\n",
        "\n"
      ]
    },
    {
      "cell_type": "code",
      "metadata": {
        "colab": {
          "base_uri": "https://localhost:8080/"
        },
        "id": "aeE9KLooDqDl",
        "outputId": "d540a2ef-feea-4486-8684-6133fb9af7ad"
      },
      "source": [
        "def hello(func):\n",
        "    def wrapper(x):\n",
        "        print(\"Hello\")\n",
        "        func(x)\n",
        "    return wrapper\n",
        "\n",
        "@hello\n",
        "def square(x):\n",
        "  print(x*x)\n",
        "square(5)"
      ],
      "execution_count": 154,
      "outputs": [
        {
          "output_type": "stream",
          "name": "stdout",
          "text": [
            "Hello\n",
            "25\n"
          ]
        }
      ]
    },
    {
      "cell_type": "markdown",
      "metadata": {
        "id": "9EsXpwjPDqDm"
      },
      "source": [
        "4\\. Write the factorial function in two different ways, so that it a) does and b) does not use recursion."
      ]
    },
    {
      "cell_type": "code",
      "metadata": {
        "colab": {
          "base_uri": "https://localhost:8080/"
        },
        "id": "qqB2IfyQDqDn",
        "outputId": "3d5bd91a-8d94-4054-ca1d-2d155e96b7b1"
      },
      "source": [
        "# part a\n",
        "print(\"Non Recursice :\")\n",
        "def fact(x):\n",
        "  if x>1:\n",
        "    return x * fact(x-1)\n",
        "  else:\n",
        "    return 1\n",
        "\n",
        "x = 4\n",
        "print(f\"Factorial of {x} is: \")\n",
        "print(fact(x))\n",
        "\n",
        "print()\n",
        "print(\"Recursice :\")\n",
        "\n",
        "\n",
        "# part b\n",
        "def nrfact(x):\n",
        "  f=1\n",
        "  for i in range(1,x+1):\n",
        "    f = i*f\n",
        "  return f\n",
        "\n",
        "print(f\"Factorial of {x} is: \")\n",
        "print(nrfact(x))\n",
        "\n",
        "  "
      ],
      "execution_count": 155,
      "outputs": [
        {
          "output_type": "stream",
          "name": "stdout",
          "text": [
            "Non Recursice :\n",
            "Factorial of 4 is: \n",
            "24\n",
            "\n",
            "Recursice :\n",
            "Factorial of 4 is: \n",
            "24\n"
          ]
        }
      ]
    },
    {
      "cell_type": "markdown",
      "metadata": {
        "id": "bsDRUFUkDqDo"
      },
      "source": [
        "5\\. Use HOFs (zip in particular) to compute the weight of a circle, a disk and a sphere, assuming different radii and different densities:\n",
        "\n",
        "```python\n",
        "densities = {\"Al\" : [0.5, 1, 2], \"Fe\" : [3, 4, 5], \"Pb\" : [15, 20, 30]}\n",
        "radii = [1, 2, 3]\n",
        "```\n",
        "\n",
        "where the entries of the dictionary's values are the linear, superficial and volumetric densities of the materials respectively.\n",
        "\n",
        "Subsequently, define a list using a comprehension with three lambda functions that compute the circumference, the area and the volume for a given radius.\n"
      ]
    },
    {
      "cell_type": "code",
      "metadata": {
        "id": "iG9u9J6zDqDq",
        "colab": {
          "base_uri": "https://localhost:8080/"
        },
        "outputId": "cf3ec5c4-c922-438a-87f9-651a4723e402"
      },
      "source": [
        "class Shape:\n",
        "  radii=[1,2,3]\n",
        "  def __init__(self,density):\n",
        "    self.ld = density[0]\n",
        "    self.sd = density[1]\n",
        "    self.vd = density[2]\n",
        "\n",
        "  def wieght_c(self):\n",
        "    w=[]\n",
        "    for r in radii:\n",
        "      w.append(2*3.14*r*self.ld)\n",
        "    return w\n",
        "  def wieght_s(self):\n",
        "    w=[]\n",
        "    for r in radii:\n",
        "      w.append(3.14*(r**2)*self.sd)\n",
        "    return w\n",
        "  def wieght_v(self):\n",
        "    w=[]\n",
        "    for r in radii:\n",
        "      w.append((4/3)*3.14*(r**3)*self.vd)\n",
        "    return w\n",
        "  \n",
        "\n",
        "\n",
        "densities = {\"Al\" : [0.5, 1, 2], \"Fe\" : [3, 4, 5], \"Pb\" : [15, 20, 30]}\n",
        "radii = [1, 2, 3]\n",
        "\n",
        "al = Shape(densities[\"Al\"])\n",
        "fe = Shape(densities[\"Fe\"])\n",
        "pb = Shape(densities[\"Pb\"])\n",
        "\n",
        "al.wieght_s()"
      ],
      "execution_count": 150,
      "outputs": [
        {
          "output_type": "execute_result",
          "data": {
            "text/plain": [
              "[3.14, 12.56, 28.26]"
            ]
          },
          "metadata": {},
          "execution_count": 150
        }
      ]
    },
    {
      "cell_type": "markdown",
      "metadata": {
        "id": "vvlc2uaIDqDr"
      },
      "source": [
        "6\\. Edit the class defintion to add an instance attribute of `is_hungry = True` to the Dog class. Then add a method called `eat()` which changes the value of `is_hungry` to `False` when called. Figure out the best way to instantiate the dog objects and to feed the dogs, e.g. call the `eat()` method for all instances. Finally, print “My dogs are hungry.” or “My dogs are not hungry.” if all of them have `is_hungry = True` or `False`, respectively. The final output should look like this:\n",
        "\n",
        "`I have 3 dogs. \n",
        "Tom is 6. \n",
        "Fletcher is 7. \n",
        "Larry is 9. \n",
        "And they're all mammals, of course. \n",
        "My dogs are not hungry.\n",
        "`\n",
        "\n",
        "```python\n",
        "# Parent class\n",
        "class Dog:\n",
        "\n",
        "    # Class attribute\n",
        "    species = 'mammal'\n",
        "\n",
        "    # Initializer / Instance attributes\n",
        "    def __init__(self, name, age):\n",
        "        self.name = name\n",
        "        self.age = age\n",
        "\n",
        "    # instance method\n",
        "    def description(self):\n",
        "        return \"{} is {} years old\".format(self.name, self.age)\n",
        "\n",
        "    # instance method\n",
        "    def speak(self, sound):\n",
        "        return \"{} says {}\".format(self.name, sound)\n",
        "\n",
        "# Child class (inherits from Dog class)\n",
        "class RussellTerrier(Dog):\n",
        "    def run(self, speed):\n",
        "        return \"{} runs {}\".format(self.name, speed)\n",
        "\n",
        "# Child class (inherits from Dog class)\n",
        "class Bulldog(Dog):\n",
        "    def run(self, speed):\n",
        "        return \"{} runs {}\".format(self.name, speed)\n",
        "```"
      ]
    },
    {
      "cell_type": "code",
      "metadata": {
        "id": "Mb9L-DITDqDs"
      },
      "source": [
        "# Parent class\n",
        "class Dog:\n",
        "\n",
        "    # Class attribute\n",
        "    species = 'mammal'\n",
        "    # is_hungry = True\n",
        "\n",
        "    # Initializer / Instance attributes\n",
        "    def __init__(self, name, age):\n",
        "        self.name = name\n",
        "        self.age = age\n",
        "        self.is_hungry = True\n",
        "        \n",
        "    # instance method\n",
        "    def description(self):\n",
        "        return \"{} is {} years old\".format(self.name, self.age)\n",
        "\n",
        "    # instance method\n",
        "    def speak(self, sound):\n",
        "        return \"{} says {}\".format(self.name, sound)\n",
        "    \n",
        "    def eat(self):\n",
        "        return self.is_hungry = False\n",
        "    \n",
        "    def hungry(self):\n",
        "        if self.is_hungry == True:\n",
        "            return \"My dogs are hungry\"\n",
        "        else:\n",
        "            return \"My dogs are not hungry\"\n",
        "\n",
        "# Child class (inherits from Dog class)\n",
        "class RussellTerrier(Dog):\n",
        "    def run(self, speed):\n",
        "        return \"{} runs {}\".format(self.name, speed)\n",
        "\n",
        "# Child class (inherits from Dog class)\n",
        "class Bulldog(Dog):\n",
        "    def run(self, speed):\n",
        "        return \"{} runs {}\".format(self.name, speed)"
      ],
      "execution_count": 110,
      "outputs": []
    },
    {
      "cell_type": "code",
      "metadata": {
        "colab": {
          "base_uri": "https://localhost:8080/"
        },
        "id": "8xDm7Sex5jXn",
        "outputId": "d9f3e390-d112-4246-a47c-5a40d86aef2a"
      },
      "source": [
        "dog1 = RussellTerrier(\"Tom\", 6)\n",
        "dog2 = RussellTerrier(\"Fletche\", 7)\n",
        "dog3 = Bulldog(\"Larry\", 9)\n",
        "\n",
        "my_dogs = [dog1, dog2, dog3]\n",
        "\n",
        "for dog in my_dogs:\n",
        "    dog.eat()\n",
        "\n",
        "print(f\"I have {len(my_dogs)} dogs. {dog1.description()}. {dog2.description()}. {dog3.description()}. {dog1.hungry()}.\")"
      ],
      "execution_count": 125,
      "outputs": [
        {
          "output_type": "stream",
          "name": "stdout",
          "text": [
            "I have 3 dogs. Tom is 6 years old. Fletche is 7 years old. Larry is 9 years old. My dogs are not hungry.\n"
          ]
        }
      ]
    }
  ]
}