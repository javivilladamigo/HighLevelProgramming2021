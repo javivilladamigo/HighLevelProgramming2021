{
 "cells": [
  {
   "cell_type": "markdown",
   "metadata": {},
   "source": [
    "This exercise consists in analyzing a dataset containg timing information from a series of Time-to-Digital-Converters (TDC) implemented in a pair of FPGAs. Each measurement (i.e. each row of the input file) consists of a flag that specifies the type of message ('HEAD', which in this case is always 1), two addresses of the TDC providing the signal ('FPGA' and 'TDC_CHANNEL'), and the timing information ('ORBIT_CNT', 'BX_COUNTER', and 'TDC_MEAS'). Each TDC count corresponds to 25/30 ns, whereas a unit of BX_COUNTER corresponds to 25 ns, and the ORBIT_CNT is increased every 'x' BX_COUNTER. This allows to store the time in a similar way to hours, minutes and seconds."
   ]
  },
  {
   "cell_type": "code",
   "execution_count": 1,
   "metadata": {},
   "outputs": [],
   "source": [
    "# If haven't downloaded it yet, please get the data file with wget\n",
    "#!wget https://www.dropbox.com/s/xvjzaxzz3ysphme/data_000637.txt -P ./data/"
   ]
  },
  {
   "cell_type": "code",
   "execution_count": 2,
   "metadata": {},
   "outputs": [],
   "source": [
    "import pandas as pd\n",
    "import numpy as np"
   ]
  },
  {
   "cell_type": "markdown",
   "metadata": {},
   "source": [
    "1\\. Create a Pandas DataFrame reading N rows of the `data/data_000637.txt` dataset. Choose N to be smaller than or equal to the maximum number of rows and larger that 10k (check the documentation)."
   ]
  },
  {
   "cell_type": "code",
   "execution_count": 3,
   "metadata": {},
   "outputs": [
    {
     "name": "stdout",
     "output_type": "stream",
     "text": [
      "The data frame of the data = \n",
      "          HEAD  FPGA  TDC_CHANNEL   ORBIT_CNT  BX_COUNTER  TDC_MEAS\n",
      "0           1     0          123  3869200167        2374        26\n",
      "1           1     0          124  3869200167        2374        27\n",
      "2           1     0           63  3869200167        2553        28\n",
      "3           1     0           64  3869200167        2558        19\n",
      "4           1     0           64  3869200167        2760        25\n",
      "...       ...   ...          ...         ...         ...       ...\n",
      "1310715     1     0           62  3869211171         762        14\n",
      "1310716     1     1            4  3869211171         763        11\n",
      "1310717     1     0           64  3869211171         764         0\n",
      "1310718     1     0          139  3869211171         769         0\n",
      "1310719     1     0           61  3869211171         762        18\n",
      "\n",
      "[1310720 rows x 6 columns] \n",
      "\n",
      "N (30000) sample of data = \n",
      "         HEAD  FPGA  TDC_CHANNEL   ORBIT_CNT  BX_COUNTER  TDC_MEAS\n",
      "781023     1     1            3  3869207548        1553        13\n",
      "686777     1     1            1  3869206889        3214        29\n",
      "35774      1     0           35  3869200523         731         8\n",
      "547812     1     0           63  3869205714         388        10\n",
      "928483     1     0           58  3869208562         295        20\n",
      "...      ...   ...          ...         ...         ...       ...\n",
      "186675     1     1           61  3869202024        2167        26\n",
      "602702     1     0           62  3869206271        3311         3\n",
      "536583     1     0           61  3869205599        2624        21\n",
      "772162     1     0           29  3869207492        3551        20\n",
      "880396     1     0           60  3869208212        2102        13\n",
      "\n",
      "[30000 rows x 6 columns]\n"
     ]
    }
   ],
   "source": [
    "file_name = \"./data/data_000637.txt\"\n",
    "csv = pd.read_csv(file_name) #read the csv file\n",
    "data = pd.DataFrame(csv)\n",
    "N = 30000 #declare number of N to read\n",
    "print('The data frame of the data = \\n', pd.DataFrame(data), '\\n') #print dataframe of the whole data\n",
    "df = pd.DataFrame.sample(data, n =N)  #selecting N samples of data\n",
    "print('N (30000) sample of data = \\n', df)\n"
   ]
  },
  {
   "cell_type": "code",
   "execution_count": 4,
   "metadata": {},
   "outputs": [
    {
     "data": {
      "text/html": [
       "<div>\n",
       "<style scoped>\n",
       "    .dataframe tbody tr th:only-of-type {\n",
       "        vertical-align: middle;\n",
       "    }\n",
       "\n",
       "    .dataframe tbody tr th {\n",
       "        vertical-align: top;\n",
       "    }\n",
       "\n",
       "    .dataframe thead th {\n",
       "        text-align: right;\n",
       "    }\n",
       "</style>\n",
       "<table border=\"1\" class=\"dataframe\">\n",
       "  <thead>\n",
       "    <tr style=\"text-align: right;\">\n",
       "      <th></th>\n",
       "      <th>HEAD</th>\n",
       "      <th>FPGA</th>\n",
       "      <th>TDC_CHANNEL</th>\n",
       "      <th>ORBIT_CNT</th>\n",
       "      <th>BX_COUNTER</th>\n",
       "      <th>TDC_MEAS</th>\n",
       "    </tr>\n",
       "  </thead>\n",
       "  <tbody>\n",
       "    <tr>\n",
       "      <th>1165499</th>\n",
       "      <td>1</td>\n",
       "      <td>1</td>\n",
       "      <td>5</td>\n",
       "      <td>3869210167</td>\n",
       "      <td>3051</td>\n",
       "      <td>14</td>\n",
       "    </tr>\n",
       "    <tr>\n",
       "      <th>270901</th>\n",
       "      <td>1</td>\n",
       "      <td>1</td>\n",
       "      <td>27</td>\n",
       "      <td>3869202862</td>\n",
       "      <td>997</td>\n",
       "      <td>24</td>\n",
       "    </tr>\n",
       "    <tr>\n",
       "      <th>634407</th>\n",
       "      <td>1</td>\n",
       "      <td>1</td>\n",
       "      <td>8</td>\n",
       "      <td>3869206544</td>\n",
       "      <td>1978</td>\n",
       "      <td>26</td>\n",
       "    </tr>\n",
       "    <tr>\n",
       "      <th>270922</th>\n",
       "      <td>1</td>\n",
       "      <td>1</td>\n",
       "      <td>4</td>\n",
       "      <td>3869202862</td>\n",
       "      <td>1444</td>\n",
       "      <td>9</td>\n",
       "    </tr>\n",
       "    <tr>\n",
       "      <th>447163</th>\n",
       "      <td>1</td>\n",
       "      <td>1</td>\n",
       "      <td>139</td>\n",
       "      <td>3869204676</td>\n",
       "      <td>2056</td>\n",
       "      <td>0</td>\n",
       "    </tr>\n",
       "    <tr>\n",
       "      <th>...</th>\n",
       "      <td>...</td>\n",
       "      <td>...</td>\n",
       "      <td>...</td>\n",
       "      <td>...</td>\n",
       "      <td>...</td>\n",
       "      <td>...</td>\n",
       "    </tr>\n",
       "    <tr>\n",
       "      <th>513045</th>\n",
       "      <td>1</td>\n",
       "      <td>0</td>\n",
       "      <td>17</td>\n",
       "      <td>3869205356</td>\n",
       "      <td>576</td>\n",
       "      <td>29</td>\n",
       "    </tr>\n",
       "    <tr>\n",
       "      <th>513046</th>\n",
       "      <td>1</td>\n",
       "      <td>0</td>\n",
       "      <td>51</td>\n",
       "      <td>3869205356</td>\n",
       "      <td>576</td>\n",
       "      <td>0</td>\n",
       "    </tr>\n",
       "    <tr>\n",
       "      <th>513047</th>\n",
       "      <td>1</td>\n",
       "      <td>0</td>\n",
       "      <td>54</td>\n",
       "      <td>3869205356</td>\n",
       "      <td>578</td>\n",
       "      <td>6</td>\n",
       "    </tr>\n",
       "    <tr>\n",
       "      <th>513048</th>\n",
       "      <td>1</td>\n",
       "      <td>0</td>\n",
       "      <td>139</td>\n",
       "      <td>3869205356</td>\n",
       "      <td>582</td>\n",
       "      <td>0</td>\n",
       "    </tr>\n",
       "    <tr>\n",
       "      <th>1310719</th>\n",
       "      <td>1</td>\n",
       "      <td>0</td>\n",
       "      <td>61</td>\n",
       "      <td>3869211171</td>\n",
       "      <td>762</td>\n",
       "      <td>18</td>\n",
       "    </tr>\n",
       "  </tbody>\n",
       "</table>\n",
       "<p>1310720 rows × 6 columns</p>\n",
       "</div>"
      ],
      "text/plain": [
       "         HEAD  FPGA  TDC_CHANNEL   ORBIT_CNT  BX_COUNTER  TDC_MEAS\n",
       "1165499     1     1            5  3869210167        3051        14\n",
       "270901      1     1           27  3869202862         997        24\n",
       "634407      1     1            8  3869206544        1978        26\n",
       "270922      1     1            4  3869202862        1444         9\n",
       "447163      1     1          139  3869204676        2056         0\n",
       "...       ...   ...          ...         ...         ...       ...\n",
       "513045      1     0           17  3869205356         576        29\n",
       "513046      1     0           51  3869205356         576         0\n",
       "513047      1     0           54  3869205356         578         6\n",
       "513048      1     0          139  3869205356         582         0\n",
       "1310719     1     0           61  3869211171         762        18\n",
       "\n",
       "[1310720 rows x 6 columns]"
      ]
     },
     "execution_count": 4,
     "metadata": {},
     "output_type": "execute_result"
    }
   ],
   "source": [
    "#sorting the table based on TDC_CHANNEL\n",
    "data.sort_values(by=\"FPGA\", ascending=False)"
   ]
  },
  {
   "cell_type": "markdown",
   "metadata": {},
   "source": [
    "2\\. Estimate the number of BX in a ORBIT (the value 'x')."
   ]
  },
  {
   "cell_type": "code",
   "execution_count": 5,
   "metadata": {},
   "outputs": [
    {
     "data": {
      "text/plain": [
       "3564"
      ]
     },
     "execution_count": 5,
     "metadata": {},
     "output_type": "execute_result"
    }
   ],
   "source": [
    "#the max value in BX_COUNTER is 3563, so adding one value to this will store 1 value to the orbit counter \n",
    "x = data['BX_COUNTER'].max() + 1\n",
    "x\n"
   ]
  },
  {
   "cell_type": "markdown",
   "metadata": {},
   "source": [
    "3\\. Find out the duration of the data taking in hours, minutes and seconds. You can either make an estimate based on the fraction of the measurements (rows) you read, or perform this check precisely by reading the whole dataset."
   ]
  },
  {
   "cell_type": "code",
   "execution_count": 6,
   "metadata": {
    "scrolled": true
   },
   "outputs": [
    {
     "name": "stdout",
     "output_type": "stream",
     "text": [
      "Time Begin = \n",
      " 2021-12-03 21:29:39.866810\n",
      "Time End = \n",
      " 2021-12-03 21:31:20.280615\n",
      "Time Taken = \n",
      " 0:01:40.413805\n"
     ]
    }
   ],
   "source": [
    "import datetime as dt\n",
    "#initial time\n",
    "init_time = dt.datetime.now()\n",
    "print('Time Begin = \\n', init_time)\n",
    "\n",
    "# now we can assign new column with the total time used in nanosecond for each row\n",
    "data['NS_TIME'] = data.apply(lambda row : (row.ORBIT_CNT) + (row.BX_COUNTER*25) + ((row.TDC_MEAS*(25/30))), axis= 1)\n",
    "data\n",
    "\n",
    "#Ending_time \n",
    "end_time = dt.datetime.now()\n",
    "print('Time End = \\n', end_time)\n",
    "\n",
    "#Process time \n",
    "duration = end_time - init_time\n",
    "print('Time Taken = \\n', duration)\n"
   ]
  },
  {
   "cell_type": "markdown",
   "metadata": {},
   "source": [
    "4\\. Create a new column with the absolute time in ns (as a combination of the other three columns with timing information) since the beginning of the data acquisition."
   ]
  },
  {
   "cell_type": "code",
   "execution_count": 8,
   "metadata": {},
   "outputs": [
    {
     "data": {
      "text/html": [
       "<div>\n",
       "<style scoped>\n",
       "    .dataframe tbody tr th:only-of-type {\n",
       "        vertical-align: middle;\n",
       "    }\n",
       "\n",
       "    .dataframe tbody tr th {\n",
       "        vertical-align: top;\n",
       "    }\n",
       "\n",
       "    .dataframe thead th {\n",
       "        text-align: right;\n",
       "    }\n",
       "</style>\n",
       "<table border=\"1\" class=\"dataframe\">\n",
       "  <thead>\n",
       "    <tr style=\"text-align: right;\">\n",
       "      <th></th>\n",
       "      <th>HEAD</th>\n",
       "      <th>FPGA</th>\n",
       "      <th>TDC_CHANNEL</th>\n",
       "      <th>ORBIT_CNT</th>\n",
       "      <th>BX_COUNTER</th>\n",
       "      <th>TDC_MEAS</th>\n",
       "      <th>NS_TIME</th>\n",
       "      <th>abs_NSTIME</th>\n",
       "    </tr>\n",
       "  </thead>\n",
       "  <tbody>\n",
       "    <tr>\n",
       "      <th>0</th>\n",
       "      <td>1</td>\n",
       "      <td>0</td>\n",
       "      <td>123</td>\n",
       "      <td>3869200167</td>\n",
       "      <td>2374</td>\n",
       "      <td>26</td>\n",
       "      <td>3.869260e+09</td>\n",
       "      <td>0 days 00:00:03.869259538</td>\n",
       "    </tr>\n",
       "    <tr>\n",
       "      <th>1</th>\n",
       "      <td>1</td>\n",
       "      <td>0</td>\n",
       "      <td>124</td>\n",
       "      <td>3869200167</td>\n",
       "      <td>2374</td>\n",
       "      <td>27</td>\n",
       "      <td>3.869260e+09</td>\n",
       "      <td>0 days 00:00:03.869259539</td>\n",
       "    </tr>\n",
       "    <tr>\n",
       "      <th>2</th>\n",
       "      <td>1</td>\n",
       "      <td>0</td>\n",
       "      <td>63</td>\n",
       "      <td>3869200167</td>\n",
       "      <td>2553</td>\n",
       "      <td>28</td>\n",
       "      <td>3.869264e+09</td>\n",
       "      <td>0 days 00:00:03.869264015</td>\n",
       "    </tr>\n",
       "    <tr>\n",
       "      <th>3</th>\n",
       "      <td>1</td>\n",
       "      <td>0</td>\n",
       "      <td>64</td>\n",
       "      <td>3869200167</td>\n",
       "      <td>2558</td>\n",
       "      <td>19</td>\n",
       "      <td>3.869264e+09</td>\n",
       "      <td>0 days 00:00:03.869264132</td>\n",
       "    </tr>\n",
       "    <tr>\n",
       "      <th>4</th>\n",
       "      <td>1</td>\n",
       "      <td>0</td>\n",
       "      <td>64</td>\n",
       "      <td>3869200167</td>\n",
       "      <td>2760</td>\n",
       "      <td>25</td>\n",
       "      <td>3.869269e+09</td>\n",
       "      <td>0 days 00:00:03.869269187</td>\n",
       "    </tr>\n",
       "    <tr>\n",
       "      <th>...</th>\n",
       "      <td>...</td>\n",
       "      <td>...</td>\n",
       "      <td>...</td>\n",
       "      <td>...</td>\n",
       "      <td>...</td>\n",
       "      <td>...</td>\n",
       "      <td>...</td>\n",
       "      <td>...</td>\n",
       "    </tr>\n",
       "    <tr>\n",
       "      <th>1310715</th>\n",
       "      <td>1</td>\n",
       "      <td>0</td>\n",
       "      <td>62</td>\n",
       "      <td>3869211171</td>\n",
       "      <td>762</td>\n",
       "      <td>14</td>\n",
       "      <td>3.869230e+09</td>\n",
       "      <td>0 days 00:00:03.869230232</td>\n",
       "    </tr>\n",
       "    <tr>\n",
       "      <th>1310716</th>\n",
       "      <td>1</td>\n",
       "      <td>1</td>\n",
       "      <td>4</td>\n",
       "      <td>3869211171</td>\n",
       "      <td>763</td>\n",
       "      <td>11</td>\n",
       "      <td>3.869230e+09</td>\n",
       "      <td>0 days 00:00:03.869230255</td>\n",
       "    </tr>\n",
       "    <tr>\n",
       "      <th>1310717</th>\n",
       "      <td>1</td>\n",
       "      <td>0</td>\n",
       "      <td>64</td>\n",
       "      <td>3869211171</td>\n",
       "      <td>764</td>\n",
       "      <td>0</td>\n",
       "      <td>3.869230e+09</td>\n",
       "      <td>0 days 00:00:03.869230271</td>\n",
       "    </tr>\n",
       "    <tr>\n",
       "      <th>1310718</th>\n",
       "      <td>1</td>\n",
       "      <td>0</td>\n",
       "      <td>139</td>\n",
       "      <td>3869211171</td>\n",
       "      <td>769</td>\n",
       "      <td>0</td>\n",
       "      <td>3.869230e+09</td>\n",
       "      <td>0 days 00:00:03.869230396</td>\n",
       "    </tr>\n",
       "    <tr>\n",
       "      <th>1310719</th>\n",
       "      <td>1</td>\n",
       "      <td>0</td>\n",
       "      <td>61</td>\n",
       "      <td>3869211171</td>\n",
       "      <td>762</td>\n",
       "      <td>18</td>\n",
       "      <td>3.869230e+09</td>\n",
       "      <td>0 days 00:00:03.869230236</td>\n",
       "    </tr>\n",
       "  </tbody>\n",
       "</table>\n",
       "<p>1310720 rows × 8 columns</p>\n",
       "</div>"
      ],
      "text/plain": [
       "         HEAD  FPGA  TDC_CHANNEL   ORBIT_CNT  BX_COUNTER  TDC_MEAS  \\\n",
       "0           1     0          123  3869200167        2374        26   \n",
       "1           1     0          124  3869200167        2374        27   \n",
       "2           1     0           63  3869200167        2553        28   \n",
       "3           1     0           64  3869200167        2558        19   \n",
       "4           1     0           64  3869200167        2760        25   \n",
       "...       ...   ...          ...         ...         ...       ...   \n",
       "1310715     1     0           62  3869211171         762        14   \n",
       "1310716     1     1            4  3869211171         763        11   \n",
       "1310717     1     0           64  3869211171         764         0   \n",
       "1310718     1     0          139  3869211171         769         0   \n",
       "1310719     1     0           61  3869211171         762        18   \n",
       "\n",
       "              NS_TIME                abs_NSTIME  \n",
       "0        3.869260e+09 0 days 00:00:03.869259538  \n",
       "1        3.869260e+09 0 days 00:00:03.869259539  \n",
       "2        3.869264e+09 0 days 00:00:03.869264015  \n",
       "3        3.869264e+09 0 days 00:00:03.869264132  \n",
       "4        3.869269e+09 0 days 00:00:03.869269187  \n",
       "...               ...                       ...  \n",
       "1310715  3.869230e+09 0 days 00:00:03.869230232  \n",
       "1310716  3.869230e+09 0 days 00:00:03.869230255  \n",
       "1310717  3.869230e+09 0 days 00:00:03.869230271  \n",
       "1310718  3.869230e+09 0 days 00:00:03.869230396  \n",
       "1310719  3.869230e+09 0 days 00:00:03.869230236  \n",
       "\n",
       "[1310720 rows x 8 columns]"
      ]
     },
     "execution_count": 8,
     "metadata": {},
     "output_type": "execute_result"
    }
   ],
   "source": [
    "data['abs_NSTIME'] = pd.to_timedelta(data['NS_TIME'])\n",
    "data"
   ]
  },
  {
   "cell_type": "markdown",
   "metadata": {},
   "source": [
    "5\\. Use the `.groupby()` method to find out the noisy channels, i.e. the TDC channels with most counts (print to screen the top 3 and the corresponding counts)"
   ]
  },
  {
   "cell_type": "code",
   "execution_count": 9,
   "metadata": {},
   "outputs": [
    {
     "name": "stdout",
     "output_type": "stream",
     "text": [
      "Datagroup sort by TDC Channels counts = \n",
      "                HEAD   FPGA        ORBIT_CNT  BX_COUNTER  TDC_MEAS  \\\n",
      "TDC_CHANNEL                                                         \n",
      "1             29653  28438  114733571761779    52999263    430533   \n",
      "2             34271  32669  132601566229845    61017792    499099   \n",
      "3             23463  21970   90783184937635    41678301    340104   \n",
      "4             28755  26403  111259024921199    51473537    416945   \n",
      "5             16435  15003   63590404218625    29099531    238778   \n",
      "...             ...    ...              ...         ...       ...   \n",
      "129              37     35     143160633554       67804       612   \n",
      "130              71     38     274713643273      124418       993   \n",
      "137              68     36     263106045511      123920       748   \n",
      "138              70     36     270844458243      128317       456   \n",
      "139          108059  32442  418102549486957   192477704         0   \n",
      "\n",
      "                  NS_TIME  \n",
      "TDC_CHANNEL                \n",
      "1            1.147349e+14  \n",
      "2            1.326031e+14  \n",
      "3            9.078423e+13  \n",
      "4            1.112603e+14  \n",
      "5            6.359113e+13  \n",
      "...                   ...  \n",
      "129          1.431623e+11  \n",
      "130          2.747168e+11  \n",
      "137          2.631091e+11  \n",
      "138          2.708477e+11  \n",
      "139          4.181074e+14  \n",
      "\n",
      "[133 rows x 6 columns] \n",
      "\n",
      "Top 3 of the most noisy channels are = \n",
      "                HEAD   FPGA        ORBIT_CNT  BX_COUNTER  TDC_MEAS  \\\n",
      "TDC_CHANNEL                                                         \n",
      "139          108059  32442  418102549486957   192477704         0   \n",
      "138              70     36     270844458243      128317       456   \n",
      "137              68     36     263106045511      123920       748   \n",
      "\n",
      "                  NS_TIME  \n",
      "TDC_CHANNEL                \n",
      "139          4.181074e+14  \n",
      "138          2.708477e+11  \n",
      "137          2.631091e+11  \n"
     ]
    }
   ],
   "source": [
    "datagroup = data.groupby('TDC_CHANNEL').sum()\n",
    "print('Datagroup sort by TDC Channels counts = \\n', datagroup, '\\n')\n",
    "datagroupsort = datagroup.sort_values(by=\"TDC_CHANNEL\", ascending=False)\n",
    "print ('Top 3 of the most noisy channels are = \\n',datagroupsort.head(3))\n"
   ]
  },
  {
   "cell_type": "markdown",
   "metadata": {},
   "source": [
    "6\\. Count the number of non-empty orbits (i.e. the number of orbits with at least one hit). Count also the number of unique orbits with at least one measurement from TDC_CHANNEL=139."
   ]
  },
  {
   "cell_type": "code",
   "execution_count": 10,
   "metadata": {},
   "outputs": [
    {
     "name": "stdout",
     "output_type": "stream",
     "text": [
      "Non Empty orbits = \n",
      " 9913 \n",
      "        ORBIT_CNT  counts\n",
      "0     3869200167       5\n",
      "1     3869200168       4\n",
      "2     3869200169       3\n",
      "3     3869200170       1\n",
      "4     3869200171       4\n",
      "...          ...     ...\n",
      "9908  3869211167       5\n",
      "9909  3869211168       4\n",
      "9910  3869211169       5\n",
      "9911  3869211170       2\n",
      "9912  3869211171       1\n",
      "\n",
      "[9913 rows x 2 columns]\n",
      "Unique orbits = \n",
      " 2172 \n",
      "        ORBIT_CNT  counts\n",
      "0     3869200174       2\n",
      "1     3869200177       1\n",
      "2     3869200181       1\n",
      "3     3869200185       1\n",
      "4     3869200186       1\n",
      "...          ...     ...\n",
      "2167  3869211135       1\n",
      "2168  3869211137       1\n",
      "2169  3869211138       2\n",
      "2170  3869211141       1\n",
      "2171  3869211152       2\n",
      "\n",
      "[2172 rows x 2 columns]\n"
     ]
    }
   ],
   "source": [
    "#1. Counting the number of non empy orbits\n",
    "nonempt = df.groupby('ORBIT_CNT').size().reset_index(name='counts')\n",
    "l = len(nonempt)\n",
    "\n",
    "print(\"Non Empty orbits = \\n\", l, \"\\n\", nonempt)\n",
    "\n",
    "#2. Counting the number of unique orbit\n",
    "unique = df[df['TDC_CHANNEL']==139].groupby('ORBIT_CNT').size().reset_index(name='counts')\n",
    "ul = len(unique)\n",
    "\n",
    "print(\"Unique orbits = \\n\", ul, \"\\n\", unique)"
   ]
  },
  {
   "cell_type": "markdown",
   "metadata": {},
   "source": [
    "7\\. **Optional:** Make two occupancy plots (one for each FPGA), i.e. plot the number of counts per TDC channel"
   ]
  },
  {
   "cell_type": "code",
   "execution_count": 11,
   "metadata": {},
   "outputs": [
    {
     "data": {
      "text/plain": [
       "<AxesSubplot:xlabel='TDC_CHANNEL'>"
      ]
     },
     "execution_count": 11,
     "metadata": {},
     "output_type": "execute_result"
    },
    {
     "data": {
      "image/png": "[encoded data removed]",
      "text/plain": [
       "<Figure size 432x288 with 1 Axes>"
      ]
     },
     "metadata": {
      "needs_background": "light"
     },
     "output_type": "display_data"
    }
   ],
   "source": [
    "tdc_plot = df.groupby('TDC_CHANNEL').size().reset_index(name='counts')\n",
    "tdc_plot.plot(x='TDC_CHANNEL',y='counts')"
   ]
  },
  {
   "cell_type": "code",
   "execution_count": null,
   "metadata": {},
   "outputs": [],
   "source": []
  }
 ],
 "metadata": {
  "kernelspec": {
   "display_name": "Python 3",
   "language": "python",
   "name": "python3"
  },
  "language_info": {
   "codemirror_mode": {
    "name": "ipython",
    "version": 3
   },
   "file_extension": ".py",
   "mimetype": "text/x-python",
   "name": "python",
   "nbconvert_exporter": "python",
   "pygments_lexer": "ipython3",
   "version": "3.8.8"
  }
 },
 "nbformat": 4,
 "nbformat_minor": 2
}
