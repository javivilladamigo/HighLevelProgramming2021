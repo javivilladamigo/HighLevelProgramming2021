{
 "cells": [
  {
   "cell_type": "markdown",
   "metadata": {},
   "source": [
    "This exercise consists in analyzing a dataset containg timing information from a series of Time-to-Digital-Converters (TDC) implemented in a pair of FPGAs. Each measurement (i.e. each row of the input file) consists of a flag that specifies the type of message ('HEAD', which in this case is always 1), two addresses of the TDC providing the signal ('FPGA' and 'TDC_CHANNEL'), and the timing information ('ORBIT_CNT', 'BX_COUNTER', and 'TDC_MEAS'). Each TDC count corresponds to 25/30 ns, whereas a unit of BX_COUNTER corresponds to 25 ns, and the ORBIT_CNT is increased every 'x' BX_COUNTER. This allows to store the time in a similar way to hours, minutes and seconds."
   ]
  },
  {
   "cell_type": "code",
   "execution_count": 1,
   "metadata": {},
   "outputs": [],
   "source": [
    "# If haven't downloaded it yet, please get the data file with wget\n",
    "#!wget https://www.dropbox.com/s/xvjzaxzz3ysphme/data_000637.txt -P ./data/"
   ]
  },
  {
   "cell_type": "markdown",
   "metadata": {},
   "source": [
    "1\\. Create a Pandas DataFrame reading N rows of the `data/data_000637.txt` dataset. Choose N to be smaller than or equal to the maximum number of rows and larger that 10k (check the documentation)."
   ]
  },
  {
   "cell_type": "code",
   "execution_count": 2,
   "metadata": {
    "scrolled": true
   },
   "outputs": [
    {
     "data": {
      "text/html": [
       "<div>\n",
       "<style scoped>\n",
       "    .dataframe tbody tr th:only-of-type {\n",
       "        vertical-align: middle;\n",
       "    }\n",
       "\n",
       "    .dataframe tbody tr th {\n",
       "        vertical-align: top;\n",
       "    }\n",
       "\n",
       "    .dataframe thead th {\n",
       "        text-align: right;\n",
       "    }\n",
       "</style>\n",
       "<table border=\"1\" class=\"dataframe\">\n",
       "  <thead>\n",
       "    <tr style=\"text-align: right;\">\n",
       "      <th></th>\n",
       "      <th>HEAD</th>\n",
       "      <th>FPGA</th>\n",
       "      <th>TDC_CHANNEL</th>\n",
       "      <th>ORBIT_CNT</th>\n",
       "      <th>BX_COUNTER</th>\n",
       "      <th>TDC_MEAS</th>\n",
       "    </tr>\n",
       "  </thead>\n",
       "  <tbody>\n",
       "    <tr>\n",
       "      <th>0</th>\n",
       "      <td>1</td>\n",
       "      <td>0</td>\n",
       "      <td>123</td>\n",
       "      <td>3869200167</td>\n",
       "      <td>2374</td>\n",
       "      <td>26</td>\n",
       "    </tr>\n",
       "    <tr>\n",
       "      <th>1</th>\n",
       "      <td>1</td>\n",
       "      <td>0</td>\n",
       "      <td>124</td>\n",
       "      <td>3869200167</td>\n",
       "      <td>2374</td>\n",
       "      <td>27</td>\n",
       "    </tr>\n",
       "    <tr>\n",
       "      <th>2</th>\n",
       "      <td>1</td>\n",
       "      <td>0</td>\n",
       "      <td>63</td>\n",
       "      <td>3869200167</td>\n",
       "      <td>2553</td>\n",
       "      <td>28</td>\n",
       "    </tr>\n",
       "    <tr>\n",
       "      <th>3</th>\n",
       "      <td>1</td>\n",
       "      <td>0</td>\n",
       "      <td>64</td>\n",
       "      <td>3869200167</td>\n",
       "      <td>2558</td>\n",
       "      <td>19</td>\n",
       "    </tr>\n",
       "    <tr>\n",
       "      <th>4</th>\n",
       "      <td>1</td>\n",
       "      <td>0</td>\n",
       "      <td>64</td>\n",
       "      <td>3869200167</td>\n",
       "      <td>2760</td>\n",
       "      <td>25</td>\n",
       "    </tr>\n",
       "    <tr>\n",
       "      <th>...</th>\n",
       "      <td>...</td>\n",
       "      <td>...</td>\n",
       "      <td>...</td>\n",
       "      <td>...</td>\n",
       "      <td>...</td>\n",
       "      <td>...</td>\n",
       "    </tr>\n",
       "    <tr>\n",
       "      <th>19995</th>\n",
       "      <td>1</td>\n",
       "      <td>0</td>\n",
       "      <td>27</td>\n",
       "      <td>3869200366</td>\n",
       "      <td>2513</td>\n",
       "      <td>29</td>\n",
       "    </tr>\n",
       "    <tr>\n",
       "      <th>19996</th>\n",
       "      <td>1</td>\n",
       "      <td>0</td>\n",
       "      <td>63</td>\n",
       "      <td>3869200366</td>\n",
       "      <td>2517</td>\n",
       "      <td>6</td>\n",
       "    </tr>\n",
       "    <tr>\n",
       "      <th>19997</th>\n",
       "      <td>1</td>\n",
       "      <td>0</td>\n",
       "      <td>32</td>\n",
       "      <td>3869200366</td>\n",
       "      <td>2519</td>\n",
       "      <td>5</td>\n",
       "    </tr>\n",
       "    <tr>\n",
       "      <th>19998</th>\n",
       "      <td>1</td>\n",
       "      <td>0</td>\n",
       "      <td>17</td>\n",
       "      <td>3869200366</td>\n",
       "      <td>2522</td>\n",
       "      <td>21</td>\n",
       "    </tr>\n",
       "    <tr>\n",
       "      <th>19999</th>\n",
       "      <td>1</td>\n",
       "      <td>0</td>\n",
       "      <td>64</td>\n",
       "      <td>3869200366</td>\n",
       "      <td>2522</td>\n",
       "      <td>0</td>\n",
       "    </tr>\n",
       "  </tbody>\n",
       "</table>\n",
       "<p>20000 rows × 6 columns</p>\n",
       "</div>"
      ],
      "text/plain": [
       "       HEAD  FPGA  TDC_CHANNEL   ORBIT_CNT  BX_COUNTER  TDC_MEAS\n",
       "0         1     0          123  3869200167        2374        26\n",
       "1         1     0          124  3869200167        2374        27\n",
       "2         1     0           63  3869200167        2553        28\n",
       "3         1     0           64  3869200167        2558        19\n",
       "4         1     0           64  3869200167        2760        25\n",
       "...     ...   ...          ...         ...         ...       ...\n",
       "19995     1     0           27  3869200366        2513        29\n",
       "19996     1     0           63  3869200366        2517         6\n",
       "19997     1     0           32  3869200366        2519         5\n",
       "19998     1     0           17  3869200366        2522        21\n",
       "19999     1     0           64  3869200366        2522         0\n",
       "\n",
       "[20000 rows x 6 columns]"
      ]
     },
     "execution_count": 2,
     "metadata": {},
     "output_type": "execute_result"
    }
   ],
   "source": [
    "import pandas as pd\n",
    "\n",
    "data = pd.read_csv('data_000637.txt', sep=\",\",nrows = 20000)\n",
    "data"
   ]
  },
  {
   "cell_type": "code",
   "execution_count": 9,
   "metadata": {},
   "outputs": [
    {
     "data": {
      "text/html": [
       "<div>\n",
       "<style scoped>\n",
       "    .dataframe tbody tr th:only-of-type {\n",
       "        vertical-align: middle;\n",
       "    }\n",
       "\n",
       "    .dataframe tbody tr th {\n",
       "        vertical-align: top;\n",
       "    }\n",
       "\n",
       "    .dataframe thead th {\n",
       "        text-align: right;\n",
       "    }\n",
       "</style>\n",
       "<table border=\"1\" class=\"dataframe\">\n",
       "  <thead>\n",
       "    <tr style=\"text-align: right;\">\n",
       "      <th></th>\n",
       "      <th>HEAD</th>\n",
       "      <th>FPGA</th>\n",
       "      <th>TDC_CHANNEL</th>\n",
       "      <th>ORBIT_CNT</th>\n",
       "      <th>BX_COUNTER</th>\n",
       "      <th>TDC_MEAS</th>\n",
       "      <th>NS_PASSED</th>\n",
       "    </tr>\n",
       "  </thead>\n",
       "  <tbody>\n",
       "    <tr>\n",
       "      <th>3951</th>\n",
       "      <td>1</td>\n",
       "      <td>1</td>\n",
       "      <td>4</td>\n",
       "      <td>3869200206</td>\n",
       "      <td>1634</td>\n",
       "      <td>16</td>\n",
       "      <td>3.456392e+06</td>\n",
       "    </tr>\n",
       "    <tr>\n",
       "      <th>16562</th>\n",
       "      <td>1</td>\n",
       "      <td>1</td>\n",
       "      <td>18</td>\n",
       "      <td>3869200332</td>\n",
       "      <td>1275</td>\n",
       "      <td>5</td>\n",
       "      <td>1.467401e+07</td>\n",
       "    </tr>\n",
       "    <tr>\n",
       "      <th>4904</th>\n",
       "      <td>1</td>\n",
       "      <td>1</td>\n",
       "      <td>16</td>\n",
       "      <td>3869200216</td>\n",
       "      <td>2382</td>\n",
       "      <td>19</td>\n",
       "      <td>4.366094e+06</td>\n",
       "    </tr>\n",
       "    <tr>\n",
       "      <th>16564</th>\n",
       "      <td>1</td>\n",
       "      <td>1</td>\n",
       "      <td>139</td>\n",
       "      <td>3869200332</td>\n",
       "      <td>1290</td>\n",
       "      <td>0</td>\n",
       "      <td>1.467438e+07</td>\n",
       "    </tr>\n",
       "    <tr>\n",
       "      <th>4902</th>\n",
       "      <td>1</td>\n",
       "      <td>1</td>\n",
       "      <td>18</td>\n",
       "      <td>3869200216</td>\n",
       "      <td>2377</td>\n",
       "      <td>18</td>\n",
       "      <td>4.365968e+06</td>\n",
       "    </tr>\n",
       "    <tr>\n",
       "      <th>...</th>\n",
       "      <td>...</td>\n",
       "      <td>...</td>\n",
       "      <td>...</td>\n",
       "      <td>...</td>\n",
       "      <td>...</td>\n",
       "      <td>...</td>\n",
       "      <td>...</td>\n",
       "    </tr>\n",
       "    <tr>\n",
       "      <th>7846</th>\n",
       "      <td>1</td>\n",
       "      <td>0</td>\n",
       "      <td>53</td>\n",
       "      <td>3869200245</td>\n",
       "      <td>1727</td>\n",
       "      <td>5</td>\n",
       "      <td>6.933608e+06</td>\n",
       "    </tr>\n",
       "    <tr>\n",
       "      <th>7847</th>\n",
       "      <td>1</td>\n",
       "      <td>0</td>\n",
       "      <td>57</td>\n",
       "      <td>3869200245</td>\n",
       "      <td>1732</td>\n",
       "      <td>17</td>\n",
       "      <td>6.933742e+06</td>\n",
       "    </tr>\n",
       "    <tr>\n",
       "      <th>7849</th>\n",
       "      <td>1</td>\n",
       "      <td>0</td>\n",
       "      <td>64</td>\n",
       "      <td>3869200245</td>\n",
       "      <td>1725</td>\n",
       "      <td>2</td>\n",
       "      <td>6.933555e+06</td>\n",
       "    </tr>\n",
       "    <tr>\n",
       "      <th>7850</th>\n",
       "      <td>1</td>\n",
       "      <td>0</td>\n",
       "      <td>51</td>\n",
       "      <td>3869200245</td>\n",
       "      <td>1738</td>\n",
       "      <td>23</td>\n",
       "      <td>6.933898e+06</td>\n",
       "    </tr>\n",
       "    <tr>\n",
       "      <th>19999</th>\n",
       "      <td>1</td>\n",
       "      <td>0</td>\n",
       "      <td>64</td>\n",
       "      <td>3869200366</td>\n",
       "      <td>2522</td>\n",
       "      <td>0</td>\n",
       "      <td>1.773458e+07</td>\n",
       "    </tr>\n",
       "  </tbody>\n",
       "</table>\n",
       "<p>20000 rows × 7 columns</p>\n",
       "</div>"
      ],
      "text/plain": [
       "       HEAD  FPGA  TDC_CHANNEL   ORBIT_CNT  BX_COUNTER  TDC_MEAS     NS_PASSED\n",
       "3951      1     1            4  3869200206        1634        16  3.456392e+06\n",
       "16562     1     1           18  3869200332        1275         5  1.467401e+07\n",
       "4904      1     1           16  3869200216        2382        19  4.366094e+06\n",
       "16564     1     1          139  3869200332        1290         0  1.467438e+07\n",
       "4902      1     1           18  3869200216        2377        18  4.365968e+06\n",
       "...     ...   ...          ...         ...         ...       ...           ...\n",
       "7846      1     0           53  3869200245        1727         5  6.933608e+06\n",
       "7847      1     0           57  3869200245        1732        17  6.933742e+06\n",
       "7849      1     0           64  3869200245        1725         2  6.933555e+06\n",
       "7850      1     0           51  3869200245        1738        23  6.933898e+06\n",
       "19999     1     0           64  3869200366        2522         0  1.773458e+07\n",
       "\n",
       "[20000 rows x 7 columns]"
      ]
     },
     "execution_count": 9,
     "metadata": {},
     "output_type": "execute_result"
    }
   ],
   "source": [
    "#sorting the table based on TDC_CHANNEL\n",
    "data.sort_values(by=\"FPGA\", ascending=False)"
   ]
  },
  {
   "cell_type": "markdown",
   "metadata": {},
   "source": [
    "2\\. Estimate the number of BX in a ORBIT (the value 'x')."
   ]
  },
  {
   "cell_type": "code",
   "execution_count": 3,
   "metadata": {},
   "outputs": [
    {
     "name": "stdout",
     "output_type": "stream",
     "text": [
      "Number of BX: 3564\n"
     ]
    }
   ],
   "source": [
    "n_bx = max(data[\"BX_COUNTER\"])+1\n",
    "print(\"Number of BX:\", n_bx)\n"
   ]
  },
  {
   "cell_type": "markdown",
   "metadata": {},
   "source": [
    "3\\. Find out the duration of the data taking in hours, minutes and seconds. You can either make an estimate based on the fraction of the measurements (rows) you read, or perform this check precisely by reading the whole dataset."
   ]
  },
  {
   "cell_type": "code",
   "execution_count": 10,
   "metadata": {},
   "outputs": [
    {
     "name": "stdout",
     "output_type": "stream",
     "text": [
      "Time Begin = \n",
      " 2021-12-03 21:01:56.678989\n",
      "Time End = \n",
      " 2021-12-03 21:01:57.771847\n",
      "Time Taken = \n",
      " 0:00:01.092858\n"
     ]
    }
   ],
   "source": [
    "import datetime as dt\n",
    "#initial time\n",
    "init_time = dt.datetime.now()\n",
    "print('Time Begin = \\n', init_time)\n",
    "\n",
    "# now we can assign new column with the total time used in nanosecond for each row\n",
    "data['NS_TIME'] = data.apply(lambda row : (row.ORBIT_CNT) + (row.BX_COUNTER*25) + ((row.TDC_MEAS*(25/30))), axis= 1)\n",
    "data\n",
    "\n",
    "#Ending_time \n",
    "end_time = dt.datetime.now()\n",
    "print('Time End = \\n', end_time)\n",
    "\n",
    "#Process time \n",
    "duration = end_time - init_time\n",
    "print('Time Taken = \\n', duration)"
   ]
  },
  {
   "cell_type": "markdown",
   "metadata": {},
   "source": [
    "4\\. Create a new column with the absolute time in ns (as a combination of the other three columns with timing information) since the beginning of the data acquisition."
   ]
  },
  {
   "cell_type": "code",
   "execution_count": 5,
   "metadata": {},
   "outputs": [
    {
     "data": {
      "text/html": [
       "<div>\n",
       "<style scoped>\n",
       "    .dataframe tbody tr th:only-of-type {\n",
       "        vertical-align: middle;\n",
       "    }\n",
       "\n",
       "    .dataframe tbody tr th {\n",
       "        vertical-align: top;\n",
       "    }\n",
       "\n",
       "    .dataframe thead th {\n",
       "        text-align: right;\n",
       "    }\n",
       "</style>\n",
       "<table border=\"1\" class=\"dataframe\">\n",
       "  <thead>\n",
       "    <tr style=\"text-align: right;\">\n",
       "      <th></th>\n",
       "      <th>HEAD</th>\n",
       "      <th>FPGA</th>\n",
       "      <th>TDC_CHANNEL</th>\n",
       "      <th>ORBIT_CNT</th>\n",
       "      <th>BX_COUNTER</th>\n",
       "      <th>TDC_MEAS</th>\n",
       "      <th>NS_PASSED</th>\n",
       "    </tr>\n",
       "  </thead>\n",
       "  <tbody>\n",
       "    <tr>\n",
       "      <th>0</th>\n",
       "      <td>1</td>\n",
       "      <td>0</td>\n",
       "      <td>123</td>\n",
       "      <td>3869200167</td>\n",
       "      <td>2374</td>\n",
       "      <td>26</td>\n",
       "      <td>0.000000e+00</td>\n",
       "    </tr>\n",
       "    <tr>\n",
       "      <th>1</th>\n",
       "      <td>1</td>\n",
       "      <td>0</td>\n",
       "      <td>124</td>\n",
       "      <td>3869200167</td>\n",
       "      <td>2374</td>\n",
       "      <td>27</td>\n",
       "      <td>8.125000e-01</td>\n",
       "    </tr>\n",
       "    <tr>\n",
       "      <th>2</th>\n",
       "      <td>1</td>\n",
       "      <td>0</td>\n",
       "      <td>63</td>\n",
       "      <td>3869200167</td>\n",
       "      <td>2553</td>\n",
       "      <td>28</td>\n",
       "      <td>4.476625e+03</td>\n",
       "    </tr>\n",
       "    <tr>\n",
       "      <th>3</th>\n",
       "      <td>1</td>\n",
       "      <td>0</td>\n",
       "      <td>64</td>\n",
       "      <td>3869200167</td>\n",
       "      <td>2558</td>\n",
       "      <td>19</td>\n",
       "      <td>4.594125e+03</td>\n",
       "    </tr>\n",
       "    <tr>\n",
       "      <th>4</th>\n",
       "      <td>1</td>\n",
       "      <td>0</td>\n",
       "      <td>64</td>\n",
       "      <td>3869200167</td>\n",
       "      <td>2760</td>\n",
       "      <td>25</td>\n",
       "      <td>9.649125e+03</td>\n",
       "    </tr>\n",
       "    <tr>\n",
       "      <th>...</th>\n",
       "      <td>...</td>\n",
       "      <td>...</td>\n",
       "      <td>...</td>\n",
       "      <td>...</td>\n",
       "      <td>...</td>\n",
       "      <td>...</td>\n",
       "      <td>...</td>\n",
       "    </tr>\n",
       "    <tr>\n",
       "      <th>19995</th>\n",
       "      <td>1</td>\n",
       "      <td>0</td>\n",
       "      <td>27</td>\n",
       "      <td>3869200366</td>\n",
       "      <td>2513</td>\n",
       "      <td>29</td>\n",
       "      <td>1.773438e+07</td>\n",
       "    </tr>\n",
       "    <tr>\n",
       "      <th>19996</th>\n",
       "      <td>1</td>\n",
       "      <td>0</td>\n",
       "      <td>63</td>\n",
       "      <td>3869200366</td>\n",
       "      <td>2517</td>\n",
       "      <td>6</td>\n",
       "      <td>1.773446e+07</td>\n",
       "    </tr>\n",
       "    <tr>\n",
       "      <th>19997</th>\n",
       "      <td>1</td>\n",
       "      <td>0</td>\n",
       "      <td>32</td>\n",
       "      <td>3869200366</td>\n",
       "      <td>2519</td>\n",
       "      <td>5</td>\n",
       "      <td>1.773451e+07</td>\n",
       "    </tr>\n",
       "    <tr>\n",
       "      <th>19998</th>\n",
       "      <td>1</td>\n",
       "      <td>0</td>\n",
       "      <td>17</td>\n",
       "      <td>3869200366</td>\n",
       "      <td>2522</td>\n",
       "      <td>21</td>\n",
       "      <td>1.773460e+07</td>\n",
       "    </tr>\n",
       "    <tr>\n",
       "      <th>19999</th>\n",
       "      <td>1</td>\n",
       "      <td>0</td>\n",
       "      <td>64</td>\n",
       "      <td>3869200366</td>\n",
       "      <td>2522</td>\n",
       "      <td>0</td>\n",
       "      <td>1.773458e+07</td>\n",
       "    </tr>\n",
       "  </tbody>\n",
       "</table>\n",
       "<p>20000 rows × 7 columns</p>\n",
       "</div>"
      ],
      "text/plain": [
       "       HEAD  FPGA  TDC_CHANNEL   ORBIT_CNT  BX_COUNTER  TDC_MEAS     NS_PASSED\n",
       "0         1     0          123  3869200167        2374        26  0.000000e+00\n",
       "1         1     0          124  3869200167        2374        27  8.125000e-01\n",
       "2         1     0           63  3869200167        2553        28  4.476625e+03\n",
       "3         1     0           64  3869200167        2558        19  4.594125e+03\n",
       "4         1     0           64  3869200167        2760        25  9.649125e+03\n",
       "...     ...   ...          ...         ...         ...       ...           ...\n",
       "19995     1     0           27  3869200366        2513        29  1.773438e+07\n",
       "19996     1     0           63  3869200366        2517         6  1.773446e+07\n",
       "19997     1     0           32  3869200366        2519         5  1.773451e+07\n",
       "19998     1     0           17  3869200366        2522        21  1.773460e+07\n",
       "19999     1     0           64  3869200366        2522         0  1.773458e+07\n",
       "\n",
       "[20000 rows x 7 columns]"
      ]
     },
     "execution_count": 5,
     "metadata": {},
     "output_type": "execute_result"
    }
   ],
   "source": [
    "initial_ns = (min(data[\"ORBIT_CNT\"])*n_bx + min(bx_with_min_orbit[\"BX_COUNTER\"])) * 25 + min(tdc_with_min_bx[\"TDC_MEAS\"]) * 25/30                                                                                                 \n",
    "data['NS_PASSED'] = ((data['ORBIT_CNT']*n_bx + data['BX_COUNTER']) * 25 + data['TDC_MEAS']*25/30) - initial_ns\n",
    "data"
   ]
  },
  {
   "cell_type": "markdown",
   "metadata": {},
   "source": [
    "5\\. Use the `.groupby()` method to find out the noisy channels, i.e. the TDC channels with most counts (print to screen the top 3 and the corresponding counts)"
   ]
  },
  {
   "cell_type": "code",
   "execution_count": 11,
   "metadata": {},
   "outputs": [
    {
     "name": "stdout",
     "output_type": "stream",
     "text": [
      "Datagroup sort by TDC Channels counts = \n",
      "              HEAD  FPGA      ORBIT_CNT  BX_COUNTER  TDC_MEAS     NS_PASSED  \\\n",
      "TDC_CHANNEL                                                                  \n",
      "1             448   435  1733401718409      864488      6431  3.879155e+09   \n",
      "2             502   479  1942338533552      959766      7390  4.424070e+09   \n",
      "3             379   362  1466426900120      653577      5448  3.275128e+09   \n",
      "4             415   393  1605718110639      739829      6185  3.676721e+09   \n",
      "5             275   246  1064030073147      481102      4202  2.421184e+09   \n",
      "...           ...   ...            ...         ...       ...           ...   \n",
      "125             7     7    27084401996        9974       119  7.351955e+07   \n",
      "126             9     9    34822802655        9430       166  1.023447e+08   \n",
      "127            21    21    81253205596       35531       367  1.857717e+08   \n",
      "128            25    25    96730006785       39179       316  2.320464e+08   \n",
      "139          1693   522  6550556050500     2991203         0  1.492248e+10   \n",
      "\n",
      "                  NS_TIME  \n",
      "TDC_CHANNEL                \n",
      "1            1.733423e+12  \n",
      "2            1.942363e+12  \n",
      "3            1.466443e+12  \n",
      "4            1.605737e+12  \n",
      "5            1.064042e+12  \n",
      "...                   ...  \n",
      "125          2.708465e+10  \n",
      "126          3.482304e+10  \n",
      "127          8.125409e+10  \n",
      "128          9.673099e+10  \n",
      "139          6.550631e+12  \n",
      "\n",
      "[129 rows x 7 columns] \n",
      "\n",
      "Top 3 of the most noisy channels are = \n",
      "              HEAD  FPGA      ORBIT_CNT  BX_COUNTER  TDC_MEAS     NS_PASSED  \\\n",
      "TDC_CHANNEL                                                                  \n",
      "139          1693   522  6550556050500     2991203         0  1.492248e+10   \n",
      "128            25    25    96730006785       39179       316  2.320464e+08   \n",
      "127            21    21    81253205596       35531       367  1.857717e+08   \n",
      "\n",
      "                  NS_TIME  \n",
      "TDC_CHANNEL                \n",
      "139          6.550631e+12  \n",
      "128          9.673099e+10  \n",
      "127          8.125409e+10  \n"
     ]
    }
   ],
   "source": [
    "datagroup = data.groupby('TDC_CHANNEL').sum()\n",
    "print('Datagroup sort by TDC Channels counts = \\n', datagroup, '\\n')\n",
    "datagroupsort = datagroup.sort_values(by=\"TDC_CHANNEL\", ascending=False)\n",
    "print ('Top 3 of the most noisy channels are = \\n',datagroupsort.head(3))\n"
   ]
  },
  {
   "cell_type": "markdown",
   "metadata": {},
   "source": [
    "6\\. Count the number of non-empty orbits (i.e. the number of orbits with at least one hit). Count also the number of unique orbits with at least one measurement from TDC_CHANNEL=139."
   ]
  },
  {
   "cell_type": "code",
   "execution_count": 7,
   "metadata": {},
   "outputs": [
    {
     "name": "stdout",
     "output_type": "stream",
     "text": [
      "Non-empty orbits length: 200\n",
      "TDC_CHANNEL 139 orbits length:  200\n"
     ]
    }
   ],
   "source": [
    "non_empty_orbits = data.groupby('ORBIT_CNT').size()\n",
    "print(\"Non-empty orbits length:\", len(non_empty_orbits)) \n",
    "\n",
    "channel_139_orbits = data[data['TDC_CHANNEL'] == 139].groupby('ORBIT_CNT').size()\n",
    "print(\"TDC_CHANNEL 139 orbits length: \", len(channel_139_orbits))"
   ]
  },
  {
   "cell_type": "markdown",
   "metadata": {},
   "source": [
    "7\\. **Optional:** Make two occupancy plots (one for each FPGA), i.e. plot the number of counts per TDC channel"
   ]
  },
  {
   "cell_type": "code",
   "execution_count": 8,
   "metadata": {
    "scrolled": true
   },
   "outputs": [
    {
     "data": {
      "text/plain": [
       "<AxesSubplot:xlabel='TDC_CHANNEL'>"
      ]
     },
     "execution_count": 8,
     "metadata": {},
     "output_type": "execute_result"
    },
    {
     "data": {
      "image/png": "[encoded data removed]",
      "text/plain": [
       "<Figure size 432x288 with 1 Axes>"
      ]
     },
     "metadata": {
      "needs_background": "light"
     },
     "output_type": "display_data"
    },
    {
     "data": {
      "image/png": "[encoded data removed]",
      "text/plain": [
       "<Figure size 432x288 with 1 Axes>"
      ]
     },
     "metadata": {
      "needs_background": "light"
     },
     "output_type": "display_data"
    }
   ],
   "source": [
    "fpga_0 = data[data['FPGA']== 0].groupby('TDC_CHANNEL').size()\n",
    "fpga_0_with_counts = fpga_0.reset_index(name='COUNT')\n",
    "fpga_0_with_counts.plot(x = 'TDC_CHANNEL', y = 'COUNT', legend = True)\n",
    "\n",
    "fpga_1 = data[data['FPGA']== 1].groupby('TDC_CHANNEL').size()\n",
    "fpga_1_with_counts = fpga_1.reset_index(name='COUNT')\n",
    "fpga_1_with_counts.plot(x = 'TDC_CHANNEL', y = 'COUNT', legend = True)"
   ]
  }
 ],
 "metadata": {
  "kernelspec": {
   "display_name": "Python 3",
   "language": "python",
   "name": "python3"
  },
  "language_info": {
   "codemirror_mode": {
    "name": "ipython",
    "version": 3
   },
   "file_extension": ".py",
   "mimetype": "text/x-python",
   "name": "python",
   "nbconvert_exporter": "python",
   "pygments_lexer": "ipython3",
   "version": "3.8.8"
  }
 },
 "nbformat": 4,
 "nbformat_minor": 2
}
