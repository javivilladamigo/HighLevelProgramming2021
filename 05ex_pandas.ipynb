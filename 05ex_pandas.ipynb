{
 "cells": [
  {
   "cell_type": "markdown",
   "metadata": {},
   "source": [
    "This exercise consists in analyzing a dataset containg timing information from a series of Time-to-Digital-Converters (TDC) implemented in a pair of FPGAs. Each measurement (i.e. each row of the input file) consists of a flag that specifies the type of message ('HEAD', which in this case is always 1), two addresses of the TDC providing the signal ('FPGA' and 'TDC_CHANNEL'), and the timing information ('ORBIT_CNT', 'BX_COUNTER', and 'TDC_MEAS'). Each TDC count corresponds to 25/30 ns, whereas a unit of BX_COUNTER corresponds to 25 ns, and the ORBIT_CNT is increased every 'x' BX_COUNTER. This allows to store the time in a similar way to hours, minutes and seconds."
   ]
  },
  {
   "cell_type": "code",
   "execution_count": 4,
   "metadata": {},
   "outputs": [
    {
     "name": "stdout",
     "output_type": "stream",
     "text": [
      "--2021-11-15 13:15:15--  https://www.dropbox.com/s/xvjzaxzz3ysphme/data_000637.txt\n",
      "Resolving www.dropbox.com... 162.125.69.18\n",
      "Connecting to www.dropbox.com|162.125.69.18|:443... connected.\n",
      "HTTP request sent, awaiting response... 301 Moved Permanently\n",
      "Location: /s/raw/xvjzaxzz3ysphme/data_000637.txt [following]\n",
      "--2021-11-15 13:15:15--  https://www.dropbox.com/s/raw/xvjzaxzz3ysphme/data_000637.txt\n",
      "Reusing existing connection to www.dropbox.com:443.\n",
      "HTTP request sent, awaiting response... 302 Found\n",
      "Location: https://uc1bfb60a998fffc5bc0979ea0cd.dl.dropboxusercontent.com/cd/0/inline/BaAHFO-USVxqAMVOaTJe7ss3G_onD51YJbtVKiWRCFA_Nz_RrYmDqKs3mFF06tJHxqZbGIDpmoONErZci0Dr4rfzwL63eJMiEx9iqa2WoDe9tA0_Lz9s5jLh13AQ7vS5ih9QFXYHKvrbdwpj2xWdBVmV/file# [following]\n",
      "--2021-11-15 13:15:15--  https://uc1bfb60a998fffc5bc0979ea0cd.dl.dropboxusercontent.com/cd/0/inline/BaAHFO-USVxqAMVOaTJe7ss3G_onD51YJbtVKiWRCFA_Nz_RrYmDqKs3mFF06tJHxqZbGIDpmoONErZci0Dr4rfzwL63eJMiEx9iqa2WoDe9tA0_Lz9s5jLh13AQ7vS5ih9QFXYHKvrbdwpj2xWdBVmV/file\n",
      "Resolving uc1bfb60a998fffc5bc0979ea0cd.dl.dropboxusercontent.com... 162.125.69.15\n",
      "Connecting to uc1bfb60a998fffc5bc0979ea0cd.dl.dropboxusercontent.com|162.125.69.15|:443... connected.\n",
      "HTTP request sent, awaiting response... 200 OK\n",
      "Length: 33179236 (32M) [text/plain]\n",
      "Saving to: './data/data_000637.txt'\n",
      "\n",
      "data_000637.txt     100%[===================>]  31.64M  5.96MB/s    in 5.3s    \n",
      "\n",
      "2021-11-15 13:15:21 (5.97 MB/s) - './data/data_000637.txt' saved [33179236/33179236]\n",
      "\n"
     ]
    }
   ],
   "source": [
    "# If haven't downloaded it yet, please get the data file with wget\n",
    "\n",
    "!wget https://www.dropbox.com/s/xvjzaxzz3ysphme/data_000637.txt -P ./data/"
   ]
  },
  {
   "cell_type": "markdown",
   "metadata": {},
   "source": [
    "1\\. Create a Pandas DataFrame reading N rows of the `data/data_000637.txt` dataset. Choose N to be smaller than or equal to the maximum number of rows and larger that 10k (check the documentation)."
   ]
  },
  {
   "cell_type": "code",
   "execution_count": 4,
   "metadata": {},
   "outputs": [
    {
     "name": "stdout",
     "output_type": "stream",
     "text": [
      "         HEAD  FPGA  TDC_CHANNEL   ORBIT_CNT  BX_COUNTER  TDC_MEAS\n",
      "0        HEAD  FPGA  TDC_CHANNEL   ORBIT_CNT  BX_COUNTER  TDC_MEAS\n",
      "1           1     0          123  3869200167        2374        26\n",
      "2           1     0          124  3869200167        2374        27\n",
      "3           1     0           63  3869200167        2553        28\n",
      "4           1     0           64  3869200167        2558        19\n",
      "...       ...   ...          ...         ...         ...       ...\n",
      "1310716     1     0           62  3869211171         762        14\n",
      "1310717     1     1            4  3869211171         763        11\n",
      "1310718     1     0           64  3869211171         764         0\n",
      "1310719     1     0          139  3869211171         769         0\n",
      "1310720     1     0           61  3869211171         762        18\n",
      "\n",
      "[1310721 rows x 6 columns]\n"
     ]
    },
    {
     "name": "stderr",
     "output_type": "stream",
     "text": [
      "/Users/dbiyikli/opt/anaconda3/lib/python3.8/site-packages/IPython/core/interactiveshell.py:3165: DtypeWarning: Columns (0,1,2,3,4,5) have mixed types.Specify dtype option on import or set low_memory=False.\n",
      "  has_raised = await self.run_ast_nodes(code_ast.body, cell_name,\n"
     ]
    }
   ],
   "source": [
    "import pandas as pd\n",
    "import numpy as np\n",
    "\n",
    "df = pd.read_csv('data/data_000637.txt', sep=\",\", names=['HEAD', 'FPGA', 'TDC_CHANNEL', 'ORBIT_CNT', 'BX_COUNTER', 'TDC_MEAS'])\n",
    "print(df)\n"
   ]
  },
  {
   "cell_type": "markdown",
   "metadata": {},
   "source": [
    "2\\. Estimate the number of BX in a ORBIT (the value 'x')."
   ]
  },
  {
   "cell_type": "code",
   "execution_count": 23,
   "metadata": {},
   "outputs": [
    {
     "name": "stdout",
     "output_type": "stream",
     "text": [
      "3564\n"
     ]
    }
   ],
   "source": [
    "#Maximum of the BX_COUNTER values should give the closest value\n",
    "#Since the values are string, astype() has been used to convert. Of course, max() gives error with the string values.\n",
    "#print(df[1::]['BX_COUNTER'].astype(int).max())\n",
    "\n",
    "BX_COUNTER_max = df[1::]['BX_COUNTER'].astype(int).max() +1 # Add 1 and choose BX_COUNTER_max as maximum. \n",
    "print(BX_COUNTER_max)"
   ]
  },
  {
   "cell_type": "markdown",
   "metadata": {},
   "source": [
    "3\\. Find out the duration of the data taking in hours, minutes and seconds. You can either make an estimate based on the fraction of the measurements (rows) you read, or perform this check precisely by reading the whole dataset."
   ]
  },
  {
   "cell_type": "code",
   "execution_count": 40,
   "metadata": {},
   "outputs": [
    {
     "name": "stdout",
     "output_type": "stream",
     "text": [
      "0 days 00:00:00.980456400\n"
     ]
    }
   ],
   "source": [
    "import datetime\n",
    "#print(df.loc[1::,['ORBIT_CNT','BX_COUNTER','TDC_MEAS']])\n",
    "\n",
    "#print(int(df.at[1,'ORBIT_CNT']))\n",
    "#print(int(df.at[len(df)-1,'ORBIT_CNT']))\n",
    "Time_in_Ns = ((int(df.at[len(df)-1,'ORBIT_CNT'])-int(df.at[1,'ORBIT_CNT']))*BX_COUNTER_max)*25 \n",
    "\n",
    "# for BX_COUNTER column the data starts with 2374 \n",
    "# And ends with 762, which means they are complements of each other,\n",
    "# Therefore, we can consider only the ORBIT_CNT column.\n",
    "# Also, TDC_MEAS is very small in seconds.\n",
    "#print(type(Time_in_Ns))\n",
    "print(pd.to_timedelta(str(Time_in_Ns)))"
   ]
  },
  {
   "cell_type": "markdown",
   "metadata": {},
   "source": [
    "4\\. Create a new column with the absolute time in ns (as a combination of the other three columns with timing information) since the beginning of the data acquisition."
   ]
  },
  {
   "cell_type": "code",
   "execution_count": 17,
   "metadata": {},
   "outputs": [
    {
     "name": "stdout",
     "output_type": "stream",
     "text": [
      "         HEAD  FPGA  TDC_CHANNEL   ORBIT_CNT  BX_COUNTER  TDC_MEAS  \\\n",
      "0        HEAD  FPGA  TDC_CHANNEL   ORBIT_CNT  BX_COUNTER  TDC_MEAS   \n",
      "1           1     0          123  3869200167        2374        26   \n",
      "2           1     0          124  3869200167        2374        27   \n",
      "3           1     0           63  3869200167        2553        28   \n",
      "4           1     0           64  3869200167        2558        19   \n",
      "...       ...   ...          ...         ...         ...       ...   \n",
      "1310716     1     0           62  3869211171         762        14   \n",
      "1310717     1     1            4  3869211171         763        11   \n",
      "1310718     1     0           64  3869211171         764         0   \n",
      "1310719     1     0          139  3869211171         769         0   \n",
      "1310720     1     0           61  3869211171         762        18   \n",
      "\n",
      "                           ns  \n",
      "0                          NS  \n",
      "1        344649004934896.6875  \n",
      "2           344649004934897.5  \n",
      "3        344649004939373.3125  \n",
      "4        344649004939490.8125  \n",
      "...                       ...  \n",
      "1310716  344649985075886.6875  \n",
      "1310717  344649985075909.1875  \n",
      "1310718     344649985075925.0  \n",
      "1310719     344649985076050.0  \n",
      "1310720     344649985075890.0  \n",
      "\n",
      "[1310721 rows x 7 columns]\n"
     ]
    }
   ],
   "source": [
    "ns_1 = [(int(df.at[i,'ORBIT_CNT'])*BX_COUNTER_max)*25+(int(df.at[i,'BX_COUNTER']))*25+int(df.at[i,'TDC_MEAS'])*25/30 for i in range(1,len(df))] \n",
    "ns=[\"NS\"]+ns_1\n",
    "#print(len(ns))\n",
    "#print(ns)\n",
    "#print(int(df.at[1,'ORBIT_CNT']))\n",
    "df['ns'] = pd.Series(ns, index=df.index)\n",
    "print(df)"
   ]
  },
  {
   "cell_type": "markdown",
   "metadata": {},
   "source": [
    "5\\. Use the `.groupby()` method to find out the noisy channels, i.e. the TDC channels with most counts (print to screen the top 3 and the corresponding counts)"
   ]
  },
  {
   "cell_type": "code",
   "execution_count": 20,
   "metadata": {},
   "outputs": [
    {
     "name": "stdout",
     "output_type": "stream",
     "text": [
      "                       ns TDC_MEAS        ORBIT_CNT   HEAD   FPGA BX_COUNTER\n",
      "TDC_CHANNEL                                                                 \n",
      "1            9.207659e+18   388338  103369728951189  26716  25621   47759492\n",
      "2            1.064140e+19   449842  119465629426900  30876  29417   55010461\n",
      "3            7.283135e+18   306448   81764077846457  21132  19791   37584056\n"
     ]
    }
   ],
   "source": [
    "print(df[1::].groupby('TDC_CHANNEL').sum().sort_index(axis=1,ascending=False).head(3))\n"
   ]
  },
  {
   "cell_type": "markdown",
   "metadata": {},
   "source": [
    "6\\. Count the number of non-empty orbits (i.e. the number of orbits with at least one hit). Count also the number of unique orbits with at least one measurement from TDC_CHANNEL=139."
   ]
  },
  {
   "cell_type": "code",
   "execution_count": 78,
   "metadata": {},
   "outputs": [
    {
     "name": "stdout",
     "output_type": "stream",
     "text": [
      "\n",
      " The number of non empty orbits: \n",
      " 133\n",
      "\n",
      " The number of unique orbits with at least one measurement from TDC = 139 is: \n",
      " 10976\n"
     ]
    }
   ],
   "source": [
    "TDC_CHANNEL_max = df[1::]['TDC_CHANNEL'].astype(int).max()\n",
    "#print(TDC_CHANNEL_max)\n",
    "#print(int(df.at[1,'FPGA']))\n",
    "TDC_CHANNEL_List = np.arange(1,TDC_CHANNEL_max+1)\n",
    "Filtered_TDC_CHANNEL_List = []\n",
    "[Filtered_TDC_CHANNEL_List.append(int(df.at[i,'TDC_CHANNEL'])) for i in range(1,len(df)-1)] \n",
    "#print(np.unique(Filtered_TDC_CHANNEL_List)) # Non-Empty Orbits\n",
    "print(\"\\n The number of non empty orbits: \\n\", len(np.unique(Filtered_TDC_CHANNEL_List)))\n",
    "#print(list(set(TDC_CHANNEL_List)-set(np.unique(Filtered_TDC_CHANNEL_List)))) #Empty Orbits\n",
    "TDC139_List = []\n",
    "[TDC139_List.append(int(df.at[j,'ORBIT_CNT'])) for j in range(1,len(df)-1) if int(df.at[j,'TDC_CHANNEL'])==139]\n",
    "print(\"\\n The number of unique orbits with at least one measurement from TDC = 139 is: \\n\", len(np.unique(TDC139_List)))\n",
    "      "
   ]
  },
  {
   "cell_type": "markdown",
   "metadata": {},
   "source": [
    "7\\. **Optional:** Make two occupancy plots (one for each FPGA), i.e. plot the number of counts per TDC channel"
   ]
  },
  {
   "cell_type": "code",
   "execution_count": null,
   "metadata": {},
   "outputs": [],
   "source": [
    "#[TDC139_List.append(int(df.at[j,'ORBIT_CNT'])) for j in range(1,len(df)-1) if int(df.at[j,'TDC_CHANNEL'])==139]\n",
    "#Bunu her bir TDC Channel için yapıp çizdirmek gerekiyor.\n",
    "# İki plot olacak FPGA = 0 ve FPGA = 1\n"
   ]
  }
 ],
 "metadata": {
  "kernelspec": {
   "display_name": "Python 3",
   "language": "python",
   "name": "python3"
  },
  "language_info": {
   "codemirror_mode": {
    "name": "ipython",
    "version": 3
   },
   "file_extension": ".py",
   "mimetype": "text/x-python",
   "name": "python",
   "nbconvert_exporter": "python",
   "pygments_lexer": "ipython3",
   "version": "3.8.8"
  }
 },
 "nbformat": 4,
 "nbformat_minor": 2
}
