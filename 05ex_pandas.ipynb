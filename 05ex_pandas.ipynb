{
 "cells": [
  {
   "cell_type": "markdown",
   "metadata": {},
   "source": [
    "This exercise consists in analyzing a dataset containg timing information from a series of Time-to-Digital-Converters (TDC) implemented in a pair of FPGAs. Each measurement (i.e. each row of the input file) consists of a flag that specifies the type of message ('HEAD', which in this case is always 1), two addresses of the TDC providing the signal ('FPGA' and 'TDC_CHANNEL'), and the timing information ('ORBIT_CNT', 'BX_COUNTER', and 'TDC_MEAS'). Each TDC count corresponds to 25/30 ns, whereas a unit of BX_COUNTER corresponds to 25 ns, and the ORBIT_CNT is increased every 'x' BX_COUNTER. This allows to store the time in a similar way to hours, minutes and seconds."
   ]
  },
  {
   "cell_type": "code",
   "execution_count": null,
   "metadata": {},
   "outputs": [],
   "source": [
    "# If haven't downloaded it yet, please get the data file with wget\n",
    "#!wget https://www.dropbox.com/s/xvjzaxzz3ysphme/data_000637.txt -P ./data/"
   ]
  },
  {
   "cell_type": "markdown",
   "metadata": {},
   "source": [
    "1\\. Create a Pandas DataFrame reading N rows of the `data/data_000637.txt` dataset. Choose N to be smaller than or equal to the maximum number of rows and larger that 10k (check the documentation)."
   ]
  },
  {
   "cell_type": "code",
   "execution_count": 1,
   "metadata": {},
   "outputs": [
    {
     "name": "stdout",
     "output_type": "stream",
     "text": [
      "         HEAD  FPGA  TDC_CHANNEL   ORBIT_CNT  BX_COUNTER  TDC_MEAS\n",
      "1310710     1     1           36  3869211171         427        13\n",
      "1310711     1     1           39  3869211171         430         0\n",
      "1310712     1     1           35  3869211171         429         4\n",
      "1310713     1     0           64  3869211171         758        18\n",
      "1310714     1     0           60  3869211171         762         2\n",
      "1310715     1     0           62  3869211171         762        14\n",
      "1310716     1     1            4  3869211171         763        11\n",
      "1310717     1     0           64  3869211171         764         0\n",
      "1310718     1     0          139  3869211171         769         0\n",
      "1310719     1     0           61  3869211171         762        18\n"
     ]
    }
   ],
   "source": [
    "# 05ex - 1\n",
    "\n",
    "import pandas as pd\n",
    "\n",
    "file = \"C://Users/MZ/desktop/data_000637.txt\"\n",
    "df = pd.read_csv(file)\n",
    "print(df.tail(10))      # reading the last N rows. N=10 here"
   ]
  },
  {
   "cell_type": "markdown",
   "metadata": {},
   "source": [
    "2\\. Estimate the number of BX in a ORBIT (the value 'x')."
   ]
  },
  {
   "cell_type": "code",
   "execution_count": null,
   "metadata": {},
   "outputs": [],
   "source": [
    "# 05ex - 2\n",
    "\n",
    "import pandas as pd\n",
    "file = \"C://Users/MZ/desktop/data_000637.txt\"\n",
    "df = pd.read_csv(file)\n",
    "\n",
    "print(df.loc[1310718][4])"
   ]
  },
  {
   "cell_type": "markdown",
   "metadata": {},
   "source": [
    "3\\. Find out the duration of the data taking in hours, minutes and seconds. You can either make an estimate based on the fraction of the measurements (rows) you read, or perform this check precisely by reading the whole dataset."
   ]
  },
  {
   "cell_type": "code",
   "execution_count": 6,
   "metadata": {},
   "outputs": [
    {
     "name": "stdout",
     "output_type": "stream",
     "text": [
      "1411 33 50\n"
     ]
    }
   ],
   "source": [
    "# 05ex - 3\n",
    "\n",
    "x_1 = df['TDC_MEAS']\n",
    "x_2 = df['BX_COUNTER']\n",
    "x_3 = df['ORBIT_CNT']\n",
    "y_1 = x_1.sum()\n",
    "y_2 = x_2.sum() + y_1 * 30\n",
    "y_3 = x_3.sum() + y_2 * 3563\n",
    "hour = y_3//(1000000000 * 3600)\n",
    "minute = (y_3 - (hour * 3600 * 1000000000)) // (60 * 1000000000)\n",
    "second = (y_3 - (hour * 3600 * 1000000000) - (minute * 60 * 1000000000)) // 1000000000\n",
    "\n",
    "print(hour, minute, second)"
   ]
  },
  {
   "cell_type": "markdown",
   "metadata": {},
   "source": [
    "4\\. Create a new column with the absolute time in ns (as a combination of the other three columns with timing information) since the beginning of the data acquisition."
   ]
  },
  {
   "cell_type": "code",
   "execution_count": null,
   "metadata": {},
   "outputs": [],
   "source": []
  },
  {
   "cell_type": "markdown",
   "metadata": {},
   "source": [
    "5\\. Use the `.groupby()` method to find out the noisy channels, i.e. the TDC channels with most counts (print to screen the top 3 and the corresponding counts)"
   ]
  },
  {
   "cell_type": "code",
   "execution_count": 3,
   "metadata": {
    "scrolled": true
   },
   "outputs": [
    {
     "name": "stdout",
     "output_type": "stream",
     "text": [
      "               HEAD    FPGA  ORBIT_CNT  BX_COUNTER  TDC_MEAS\n",
      "TDC_CHANNEL                                                 \n",
      "139          108059  108059     108059      108059    108059\n",
      "64            66020   66020      66020       66020     66020\n",
      "63            64642   64642      64642       64642     64642\n"
     ]
    }
   ],
   "source": [
    "# 05ex - 5\n",
    "\n",
    "import pandas as pd\n",
    "\n",
    "file = \"C://Users/MZ/desktop/data_000637.txt\"\n",
    "df = pd.read_csv(file)\n",
    "print(df.groupby('TDC_CHANNEL').count().sort_values(by = \"HEAD\", ascending = False).head(3))"
   ]
  },
  {
   "cell_type": "markdown",
   "metadata": {},
   "source": [
    "6\\. Count the number of non-empty orbits (i.e. the number of orbits with at least one hit). Count also the number of unique orbits with at least one measurement from TDC_CHANNEL=139."
   ]
  },
  {
   "cell_type": "code",
   "execution_count": 11,
   "metadata": {},
   "outputs": [
    {
     "name": "stdout",
     "output_type": "stream",
     "text": [
      "11001\n",
      "\n",
      "\n",
      "10976\n"
     ]
    }
   ],
   "source": [
    "# 05ex - 6\n",
    "\n",
    "x = df.groupby(\"ORBIT_CNT\")[\"ORBIT_CNT\"].count()\n",
    "print(x.count())\n",
    "print(\"\\n\")\n",
    "m = df[df['TDC_CHANNEL'] == 139]\n",
    "y = m.groupby(\"ORBIT_CNT\")[\"ORBIT_CNT\"].count()\n",
    "print(y.count())"
   ]
  },
  {
   "cell_type": "markdown",
   "metadata": {},
   "source": [
    "7\\. **Optional:** Make two occupancy plots (one for each FPGA), i.e. plot the number of counts per TDC channel"
   ]
  },
  {
   "cell_type": "code",
   "execution_count": null,
   "metadata": {},
   "outputs": [],
   "source": []
  }
 ],
 "metadata": {
  "kernelspec": {
   "display_name": "Python 3 (ipykernel)",
   "language": "python",
   "name": "python3"
  },
  "language_info": {
   "codemirror_mode": {
    "name": "ipython",
    "version": 3
   },
   "file_extension": ".py",
   "mimetype": "text/x-python",
   "name": "python",
   "nbconvert_exporter": "python",
   "pygments_lexer": "ipython3",
   "version": "3.9.5"
  }
 },
 "nbformat": 4,
 "nbformat_minor": 2
}
