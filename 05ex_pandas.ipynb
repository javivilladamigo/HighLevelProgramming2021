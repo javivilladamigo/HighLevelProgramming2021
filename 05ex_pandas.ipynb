{
  "nbformat": 4,
  "nbformat_minor": 0,
  "metadata": {
    "kernelspec": {
      "display_name": "Python 3",
      "language": "python",
      "name": "python3"
    },
    "language_info": {
      "codemirror_mode": {
        "name": "ipython",
        "version": 3
      },
      "file_extension": ".py",
      "mimetype": "text/x-python",
      "name": "python",
      "nbconvert_exporter": "python",
      "pygments_lexer": "ipython3",
      "version": "3.8.5"
    },
    "colab": {
      "name": "05ex_pandas.ipynb",
      "provenance": []
    },
    "accelerator": "GPU"
  },
  "cells": [
    {
      "cell_type": "markdown",
      "metadata": {
        "id": "eIZp0j0o8Dd_"
      },
      "source": [
        "This exercise consists in analyzing a dataset containg timing information from a series of Time-to-Digital-Converters (TDC) implemented in a pair of FPGAs. Each measurement (i.e. each row of the input file) consists of a flag that specifies the type of message ('HEAD', which in this case is always 1), two addresses of the TDC providing the signal ('FPGA' and 'TDC_CHANNEL'), and the timing information ('ORBIT_CNT', 'BX_COUNTER', and 'TDC_MEAS'). Each TDC count corresponds to 25/30 ns, whereas a unit of BX_COUNTER corresponds to 25 ns, and the ORBIT_CNT is increased every 'x' BX_COUNTER. This allows to store the time in a similar way to hours, minutes and seconds."
      ]
    },
    {
      "cell_type": "code",
      "metadata": {
        "colab": {
          "base_uri": "https://localhost:8080/"
        },
        "id": "c3qqSD1K8DeF",
        "outputId": "1dc201d3-296b-4516-9022-c2c8ae6ecb3e"
      },
      "source": [
        "# If haven't downloaded it yet, please get the data file with wget\n",
        "!wget https://www.dropbox.com/s/xvjzaxzz3ysphme/data_000637.txt -P ./data/"
      ],
      "execution_count": 16,
      "outputs": [
        {
          "output_type": "stream",
          "name": "stdout",
          "text": [
            "--2021-11-30 23:16:54--  https://www.dropbox.com/s/xvjzaxzz3ysphme/data_000637.txt\n",
            "Resolving www.dropbox.com (www.dropbox.com)... 162.125.3.18, 2620:100:6018:18::a27d:312\n",
            "Connecting to www.dropbox.com (www.dropbox.com)|162.125.3.18|:443... connected.\n",
            "HTTP request sent, awaiting response... 301 Moved Permanently\n",
            "Location: /s/raw/xvjzaxzz3ysphme/data_000637.txt [following]\n",
            "--2021-11-30 23:16:55--  https://www.dropbox.com/s/raw/xvjzaxzz3ysphme/data_000637.txt\n",
            "Reusing existing connection to www.dropbox.com:443.\n",
            "HTTP request sent, awaiting response... 302 Found\n",
            "Location: https://uceddeca1bcf0659b8c97471f2d0.dl.dropboxusercontent.com/cd/0/inline/Ba_Sxf1Cs4MGKruIDh0MHoLVqMKGl132Gr-JqlNbr66IA8jpRlkfBJYWQU84AczyQR98Tj4rwPCGjDRcyBS1ZgU3UcKmMWhoCSPEud9qpwDgRyq_nNwKo-vGnqvWSOK_J_QAIrVRh_gzxQj45bDJqah8/file# [following]\n",
            "--2021-11-30 23:16:55--  https://uceddeca1bcf0659b8c97471f2d0.dl.dropboxusercontent.com/cd/0/inline/Ba_Sxf1Cs4MGKruIDh0MHoLVqMKGl132Gr-JqlNbr66IA8jpRlkfBJYWQU84AczyQR98Tj4rwPCGjDRcyBS1ZgU3UcKmMWhoCSPEud9qpwDgRyq_nNwKo-vGnqvWSOK_J_QAIrVRh_gzxQj45bDJqah8/file\n",
            "Resolving uceddeca1bcf0659b8c97471f2d0.dl.dropboxusercontent.com (uceddeca1bcf0659b8c97471f2d0.dl.dropboxusercontent.com)... 162.125.3.15, 2620:100:601b:15::a27d:80f\n",
            "Connecting to uceddeca1bcf0659b8c97471f2d0.dl.dropboxusercontent.com (uceddeca1bcf0659b8c97471f2d0.dl.dropboxusercontent.com)|162.125.3.15|:443... connected.\n",
            "HTTP request sent, awaiting response... 200 OK\n",
            "Length: 33179236 (32M) [text/plain]\n",
            "Saving to: ‘./data/data_000637.txt.1’\n",
            "\n",
            "data_000637.txt.1   100%[===================>]  31.64M  53.8MB/s    in 0.6s    \n",
            "\n",
            "2021-11-30 23:16:56 (53.8 MB/s) - ‘./data/data_000637.txt.1’ saved [33179236/33179236]\n",
            "\n"
          ]
        }
      ]
    },
    {
      "cell_type": "code",
      "metadata": {
        "colab": {
          "base_uri": "https://localhost:8080/",
          "height": 424
        },
        "id": "bXHXpy1L8DeJ",
        "outputId": "e8a141b3-cf22-482a-bb4c-e36d5aa3e60e"
      },
      "source": [
        "import pandas as pd\n",
        "file_name = \"/content/data/data_000637.txt\"\n",
        "data = pd.read_csv(file_name)\n",
        "data"
      ],
      "execution_count": 17,
      "outputs": [
        {
          "output_type": "execute_result",
          "data": {
            "text/html": [
              "<div>\n",
              "<style scoped>\n",
              "    .dataframe tbody tr th:only-of-type {\n",
              "        vertical-align: middle;\n",
              "    }\n",
              "\n",
              "    .dataframe tbody tr th {\n",
              "        vertical-align: top;\n",
              "    }\n",
              "\n",
              "    .dataframe thead th {\n",
              "        text-align: right;\n",
              "    }\n",
              "</style>\n",
              "<table border=\"1\" class=\"dataframe\">\n",
              "  <thead>\n",
              "    <tr style=\"text-align: right;\">\n",
              "      <th></th>\n",
              "      <th>HEAD</th>\n",
              "      <th>FPGA</th>\n",
              "      <th>TDC_CHANNEL</th>\n",
              "      <th>ORBIT_CNT</th>\n",
              "      <th>BX_COUNTER</th>\n",
              "      <th>TDC_MEAS</th>\n",
              "    </tr>\n",
              "  </thead>\n",
              "  <tbody>\n",
              "    <tr>\n",
              "      <th>0</th>\n",
              "      <td>1</td>\n",
              "      <td>0</td>\n",
              "      <td>123</td>\n",
              "      <td>3869200167</td>\n",
              "      <td>2374</td>\n",
              "      <td>26</td>\n",
              "    </tr>\n",
              "    <tr>\n",
              "      <th>1</th>\n",
              "      <td>1</td>\n",
              "      <td>0</td>\n",
              "      <td>124</td>\n",
              "      <td>3869200167</td>\n",
              "      <td>2374</td>\n",
              "      <td>27</td>\n",
              "    </tr>\n",
              "    <tr>\n",
              "      <th>2</th>\n",
              "      <td>1</td>\n",
              "      <td>0</td>\n",
              "      <td>63</td>\n",
              "      <td>3869200167</td>\n",
              "      <td>2553</td>\n",
              "      <td>28</td>\n",
              "    </tr>\n",
              "    <tr>\n",
              "      <th>3</th>\n",
              "      <td>1</td>\n",
              "      <td>0</td>\n",
              "      <td>64</td>\n",
              "      <td>3869200167</td>\n",
              "      <td>2558</td>\n",
              "      <td>19</td>\n",
              "    </tr>\n",
              "    <tr>\n",
              "      <th>4</th>\n",
              "      <td>1</td>\n",
              "      <td>0</td>\n",
              "      <td>64</td>\n",
              "      <td>3869200167</td>\n",
              "      <td>2760</td>\n",
              "      <td>25</td>\n",
              "    </tr>\n",
              "    <tr>\n",
              "      <th>...</th>\n",
              "      <td>...</td>\n",
              "      <td>...</td>\n",
              "      <td>...</td>\n",
              "      <td>...</td>\n",
              "      <td>...</td>\n",
              "      <td>...</td>\n",
              "    </tr>\n",
              "    <tr>\n",
              "      <th>1310715</th>\n",
              "      <td>1</td>\n",
              "      <td>0</td>\n",
              "      <td>62</td>\n",
              "      <td>3869211171</td>\n",
              "      <td>762</td>\n",
              "      <td>14</td>\n",
              "    </tr>\n",
              "    <tr>\n",
              "      <th>1310716</th>\n",
              "      <td>1</td>\n",
              "      <td>1</td>\n",
              "      <td>4</td>\n",
              "      <td>3869211171</td>\n",
              "      <td>763</td>\n",
              "      <td>11</td>\n",
              "    </tr>\n",
              "    <tr>\n",
              "      <th>1310717</th>\n",
              "      <td>1</td>\n",
              "      <td>0</td>\n",
              "      <td>64</td>\n",
              "      <td>3869211171</td>\n",
              "      <td>764</td>\n",
              "      <td>0</td>\n",
              "    </tr>\n",
              "    <tr>\n",
              "      <th>1310718</th>\n",
              "      <td>1</td>\n",
              "      <td>0</td>\n",
              "      <td>139</td>\n",
              "      <td>3869211171</td>\n",
              "      <td>769</td>\n",
              "      <td>0</td>\n",
              "    </tr>\n",
              "    <tr>\n",
              "      <th>1310719</th>\n",
              "      <td>1</td>\n",
              "      <td>0</td>\n",
              "      <td>61</td>\n",
              "      <td>3869211171</td>\n",
              "      <td>762</td>\n",
              "      <td>18</td>\n",
              "    </tr>\n",
              "  </tbody>\n",
              "</table>\n",
              "<p>1310720 rows × 6 columns</p>\n",
              "</div>"
            ],
            "text/plain": [
              "         HEAD  FPGA  TDC_CHANNEL   ORBIT_CNT  BX_COUNTER  TDC_MEAS\n",
              "0           1     0          123  3869200167        2374        26\n",
              "1           1     0          124  3869200167        2374        27\n",
              "2           1     0           63  3869200167        2553        28\n",
              "3           1     0           64  3869200167        2558        19\n",
              "4           1     0           64  3869200167        2760        25\n",
              "...       ...   ...          ...         ...         ...       ...\n",
              "1310715     1     0           62  3869211171         762        14\n",
              "1310716     1     1            4  3869211171         763        11\n",
              "1310717     1     0           64  3869211171         764         0\n",
              "1310718     1     0          139  3869211171         769         0\n",
              "1310719     1     0           61  3869211171         762        18\n",
              "\n",
              "[1310720 rows x 6 columns]"
            ]
          },
          "metadata": {},
          "execution_count": 17
        }
      ]
    },
    {
      "cell_type": "markdown",
      "metadata": {
        "id": "BV5bxSZl8DeI"
      },
      "source": [
        "1\\. Create a Pandas DataFrame reading N rows of the `data/data_000637.txt` dataset. Choose N to be smaller than or equal to the maximum number of rows and larger that 10k (check the documentation)."
      ]
    },
    {
      "cell_type": "code",
      "metadata": {
        "colab": {
          "base_uri": "https://localhost:8080/",
          "height": 441
        },
        "id": "8Btf3Mo3ulvb",
        "outputId": "f7bb1419-f869-4cc3-c0be-095fb74313e5"
      },
      "source": [
        "import random\n",
        "N = random.randint(10000,1310720)\n",
        "print(\"N chosen\",N)\n",
        "df = pd.read_csv(file_name, nrows=N)\n",
        "df"
      ],
      "execution_count": 18,
      "outputs": [
        {
          "output_type": "stream",
          "name": "stdout",
          "text": [
            "N chosen 916991\n"
          ]
        },
        {
          "output_type": "execute_result",
          "data": {
            "text/html": [
              "<div>\n",
              "<style scoped>\n",
              "    .dataframe tbody tr th:only-of-type {\n",
              "        vertical-align: middle;\n",
              "    }\n",
              "\n",
              "    .dataframe tbody tr th {\n",
              "        vertical-align: top;\n",
              "    }\n",
              "\n",
              "    .dataframe thead th {\n",
              "        text-align: right;\n",
              "    }\n",
              "</style>\n",
              "<table border=\"1\" class=\"dataframe\">\n",
              "  <thead>\n",
              "    <tr style=\"text-align: right;\">\n",
              "      <th></th>\n",
              "      <th>HEAD</th>\n",
              "      <th>FPGA</th>\n",
              "      <th>TDC_CHANNEL</th>\n",
              "      <th>ORBIT_CNT</th>\n",
              "      <th>BX_COUNTER</th>\n",
              "      <th>TDC_MEAS</th>\n",
              "    </tr>\n",
              "  </thead>\n",
              "  <tbody>\n",
              "    <tr>\n",
              "      <th>0</th>\n",
              "      <td>1</td>\n",
              "      <td>0</td>\n",
              "      <td>123</td>\n",
              "      <td>3869200167</td>\n",
              "      <td>2374</td>\n",
              "      <td>26</td>\n",
              "    </tr>\n",
              "    <tr>\n",
              "      <th>1</th>\n",
              "      <td>1</td>\n",
              "      <td>0</td>\n",
              "      <td>124</td>\n",
              "      <td>3869200167</td>\n",
              "      <td>2374</td>\n",
              "      <td>27</td>\n",
              "    </tr>\n",
              "    <tr>\n",
              "      <th>2</th>\n",
              "      <td>1</td>\n",
              "      <td>0</td>\n",
              "      <td>63</td>\n",
              "      <td>3869200167</td>\n",
              "      <td>2553</td>\n",
              "      <td>28</td>\n",
              "    </tr>\n",
              "    <tr>\n",
              "      <th>3</th>\n",
              "      <td>1</td>\n",
              "      <td>0</td>\n",
              "      <td>64</td>\n",
              "      <td>3869200167</td>\n",
              "      <td>2558</td>\n",
              "      <td>19</td>\n",
              "    </tr>\n",
              "    <tr>\n",
              "      <th>4</th>\n",
              "      <td>1</td>\n",
              "      <td>0</td>\n",
              "      <td>64</td>\n",
              "      <td>3869200167</td>\n",
              "      <td>2760</td>\n",
              "      <td>25</td>\n",
              "    </tr>\n",
              "    <tr>\n",
              "      <th>...</th>\n",
              "      <td>...</td>\n",
              "      <td>...</td>\n",
              "      <td>...</td>\n",
              "      <td>...</td>\n",
              "      <td>...</td>\n",
              "      <td>...</td>\n",
              "    </tr>\n",
              "    <tr>\n",
              "      <th>916986</th>\n",
              "      <td>1</td>\n",
              "      <td>0</td>\n",
              "      <td>59</td>\n",
              "      <td>3869208477</td>\n",
              "      <td>1746</td>\n",
              "      <td>29</td>\n",
              "    </tr>\n",
              "    <tr>\n",
              "      <th>916987</th>\n",
              "      <td>1</td>\n",
              "      <td>0</td>\n",
              "      <td>64</td>\n",
              "      <td>3869208477</td>\n",
              "      <td>1746</td>\n",
              "      <td>20</td>\n",
              "    </tr>\n",
              "    <tr>\n",
              "      <th>916988</th>\n",
              "      <td>1</td>\n",
              "      <td>0</td>\n",
              "      <td>17</td>\n",
              "      <td>3869208477</td>\n",
              "      <td>1772</td>\n",
              "      <td>17</td>\n",
              "    </tr>\n",
              "    <tr>\n",
              "      <th>916989</th>\n",
              "      <td>1</td>\n",
              "      <td>0</td>\n",
              "      <td>45</td>\n",
              "      <td>3869208477</td>\n",
              "      <td>1756</td>\n",
              "      <td>9</td>\n",
              "    </tr>\n",
              "    <tr>\n",
              "      <th>916990</th>\n",
              "      <td>1</td>\n",
              "      <td>0</td>\n",
              "      <td>60</td>\n",
              "      <td>3869208477</td>\n",
              "      <td>1748</td>\n",
              "      <td>19</td>\n",
              "    </tr>\n",
              "  </tbody>\n",
              "</table>\n",
              "<p>916991 rows × 6 columns</p>\n",
              "</div>"
            ],
            "text/plain": [
              "        HEAD  FPGA  TDC_CHANNEL   ORBIT_CNT  BX_COUNTER  TDC_MEAS\n",
              "0          1     0          123  3869200167        2374        26\n",
              "1          1     0          124  3869200167        2374        27\n",
              "2          1     0           63  3869200167        2553        28\n",
              "3          1     0           64  3869200167        2558        19\n",
              "4          1     0           64  3869200167        2760        25\n",
              "...      ...   ...          ...         ...         ...       ...\n",
              "916986     1     0           59  3869208477        1746        29\n",
              "916987     1     0           64  3869208477        1746        20\n",
              "916988     1     0           17  3869208477        1772        17\n",
              "916989     1     0           45  3869208477        1756         9\n",
              "916990     1     0           60  3869208477        1748        19\n",
              "\n",
              "[916991 rows x 6 columns]"
            ]
          },
          "metadata": {},
          "execution_count": 18
        }
      ]
    },
    {
      "cell_type": "markdown",
      "metadata": {
        "id": "gnMtGH0l8DeK"
      },
      "source": [
        "2\\. Estimate the number of BX in a ORBIT (the value 'x')."
      ]
    },
    {
      "cell_type": "code",
      "metadata": {
        "colab": {
          "base_uri": "https://localhost:8080/"
        },
        "id": "v4GKTyX28DeL",
        "outputId": "5dd6ad67-9f1b-407e-c9a3-02bf139a1ce4"
      },
      "source": [
        "x = df['BX_COUNTER'].max()\n",
        "print(x)"
      ],
      "execution_count": 19,
      "outputs": [
        {
          "output_type": "stream",
          "name": "stdout",
          "text": [
            "3563\n"
          ]
        }
      ]
    },
    {
      "cell_type": "markdown",
      "metadata": {
        "id": "NzgbGvKw8DeM"
      },
      "source": [
        "3\\. Find out the duration of the data taking in hours, minutes and seconds. You can either make an estimate based on the fraction of the measurements (rows) you read, or perform this check precisely by reading the whole dataset."
      ]
    },
    {
      "cell_type": "code",
      "metadata": {
        "id": "hyCZHhFE8DeM",
        "colab": {
          "base_uri": "https://localhost:8080/"
        },
        "outputId": "34c3c468-234f-48e1-a420-0715eb67ca90"
      },
      "source": [
        "time_elapsed = len(df.groupby('ORBIT_CNT').count())*x*25/10**9\n",
        "print(\"time elapsed (s) = \",time_elapsed)\n",
        "print(\"time elapsed in mn\",time_elapsed/(60))\n",
        "print(\"time elapsed in hours\",time_elapsed/(60*60))"
      ],
      "execution_count": 20,
      "outputs": [
        {
          "output_type": "stream",
          "name": "stdout",
          "text": [
            "time elapsed (s) =  0.739946025\n",
            "time elapsed in mn 0.01233243375\n",
            "time elapsed in hours 0.0002055405625\n"
          ]
        }
      ]
    },
    {
      "cell_type": "markdown",
      "metadata": {
        "id": "ktKzhg6q8DeM"
      },
      "source": [
        "4\\. Create a new column with the absolute time in ns (as a combination of the other three columns with timing information) since the beginning of the data acquisition."
      ]
    },
    {
      "cell_type": "code",
      "metadata": {
        "id": "S7AKhxaQ8DeN",
        "colab": {
          "base_uri": "https://localhost:8080/",
          "height": 441
        },
        "outputId": "bdc41af9-1a83-4c50-9dfc-f5fe90a4fd6a"
      },
      "source": [
        "df['time'] = df['ORBIT_CNT']*x*25+df['BX_COUNTER']*25+df['TDC_MEAS']*(25/30)\n",
        "print(\"new column with the absolute time in ns:\")\n",
        "df"
      ],
      "execution_count": 21,
      "outputs": [
        {
          "output_type": "stream",
          "name": "stdout",
          "text": [
            "new column with the absolute time in ns:\n"
          ]
        },
        {
          "output_type": "execute_result",
          "data": {
            "text/html": [
              "<div>\n",
              "<style scoped>\n",
              "    .dataframe tbody tr th:only-of-type {\n",
              "        vertical-align: middle;\n",
              "    }\n",
              "\n",
              "    .dataframe tbody tr th {\n",
              "        vertical-align: top;\n",
              "    }\n",
              "\n",
              "    .dataframe thead th {\n",
              "        text-align: right;\n",
              "    }\n",
              "</style>\n",
              "<table border=\"1\" class=\"dataframe\">\n",
              "  <thead>\n",
              "    <tr style=\"text-align: right;\">\n",
              "      <th></th>\n",
              "      <th>HEAD</th>\n",
              "      <th>FPGA</th>\n",
              "      <th>TDC_CHANNEL</th>\n",
              "      <th>ORBIT_CNT</th>\n",
              "      <th>BX_COUNTER</th>\n",
              "      <th>TDC_MEAS</th>\n",
              "      <th>time</th>\n",
              "    </tr>\n",
              "  </thead>\n",
              "  <tbody>\n",
              "    <tr>\n",
              "      <th>0</th>\n",
              "      <td>1</td>\n",
              "      <td>0</td>\n",
              "      <td>123</td>\n",
              "      <td>3869200167</td>\n",
              "      <td>2374</td>\n",
              "      <td>26</td>\n",
              "      <td>3.446490e+14</td>\n",
              "    </tr>\n",
              "    <tr>\n",
              "      <th>1</th>\n",
              "      <td>1</td>\n",
              "      <td>0</td>\n",
              "      <td>124</td>\n",
              "      <td>3869200167</td>\n",
              "      <td>2374</td>\n",
              "      <td>27</td>\n",
              "      <td>3.446490e+14</td>\n",
              "    </tr>\n",
              "    <tr>\n",
              "      <th>2</th>\n",
              "      <td>1</td>\n",
              "      <td>0</td>\n",
              "      <td>63</td>\n",
              "      <td>3869200167</td>\n",
              "      <td>2553</td>\n",
              "      <td>28</td>\n",
              "      <td>3.446490e+14</td>\n",
              "    </tr>\n",
              "    <tr>\n",
              "      <th>3</th>\n",
              "      <td>1</td>\n",
              "      <td>0</td>\n",
              "      <td>64</td>\n",
              "      <td>3869200167</td>\n",
              "      <td>2558</td>\n",
              "      <td>19</td>\n",
              "      <td>3.446490e+14</td>\n",
              "    </tr>\n",
              "    <tr>\n",
              "      <th>4</th>\n",
              "      <td>1</td>\n",
              "      <td>0</td>\n",
              "      <td>64</td>\n",
              "      <td>3869200167</td>\n",
              "      <td>2760</td>\n",
              "      <td>25</td>\n",
              "      <td>3.446490e+14</td>\n",
              "    </tr>\n",
              "    <tr>\n",
              "      <th>...</th>\n",
              "      <td>...</td>\n",
              "      <td>...</td>\n",
              "      <td>...</td>\n",
              "      <td>...</td>\n",
              "      <td>...</td>\n",
              "      <td>...</td>\n",
              "      <td>...</td>\n",
              "    </tr>\n",
              "    <tr>\n",
              "      <th>916986</th>\n",
              "      <td>1</td>\n",
              "      <td>0</td>\n",
              "      <td>59</td>\n",
              "      <td>3869208477</td>\n",
              "      <td>1746</td>\n",
              "      <td>29</td>\n",
              "      <td>3.446497e+14</td>\n",
              "    </tr>\n",
              "    <tr>\n",
              "      <th>916987</th>\n",
              "      <td>1</td>\n",
              "      <td>0</td>\n",
              "      <td>64</td>\n",
              "      <td>3869208477</td>\n",
              "      <td>1746</td>\n",
              "      <td>20</td>\n",
              "      <td>3.446497e+14</td>\n",
              "    </tr>\n",
              "    <tr>\n",
              "      <th>916988</th>\n",
              "      <td>1</td>\n",
              "      <td>0</td>\n",
              "      <td>17</td>\n",
              "      <td>3869208477</td>\n",
              "      <td>1772</td>\n",
              "      <td>17</td>\n",
              "      <td>3.446497e+14</td>\n",
              "    </tr>\n",
              "    <tr>\n",
              "      <th>916989</th>\n",
              "      <td>1</td>\n",
              "      <td>0</td>\n",
              "      <td>45</td>\n",
              "      <td>3869208477</td>\n",
              "      <td>1756</td>\n",
              "      <td>9</td>\n",
              "      <td>3.446497e+14</td>\n",
              "    </tr>\n",
              "    <tr>\n",
              "      <th>916990</th>\n",
              "      <td>1</td>\n",
              "      <td>0</td>\n",
              "      <td>60</td>\n",
              "      <td>3869208477</td>\n",
              "      <td>1748</td>\n",
              "      <td>19</td>\n",
              "      <td>3.446497e+14</td>\n",
              "    </tr>\n",
              "  </tbody>\n",
              "</table>\n",
              "<p>916991 rows × 7 columns</p>\n",
              "</div>"
            ],
            "text/plain": [
              "        HEAD  FPGA  TDC_CHANNEL   ORBIT_CNT  BX_COUNTER  TDC_MEAS          time\n",
              "0          1     0          123  3869200167        2374        26  3.446490e+14\n",
              "1          1     0          124  3869200167        2374        27  3.446490e+14\n",
              "2          1     0           63  3869200167        2553        28  3.446490e+14\n",
              "3          1     0           64  3869200167        2558        19  3.446490e+14\n",
              "4          1     0           64  3869200167        2760        25  3.446490e+14\n",
              "...      ...   ...          ...         ...         ...       ...           ...\n",
              "916986     1     0           59  3869208477        1746        29  3.446497e+14\n",
              "916987     1     0           64  3869208477        1746        20  3.446497e+14\n",
              "916988     1     0           17  3869208477        1772        17  3.446497e+14\n",
              "916989     1     0           45  3869208477        1756         9  3.446497e+14\n",
              "916990     1     0           60  3869208477        1748        19  3.446497e+14\n",
              "\n",
              "[916991 rows x 7 columns]"
            ]
          },
          "metadata": {},
          "execution_count": 21
        }
      ]
    },
    {
      "cell_type": "markdown",
      "metadata": {
        "id": "lSKaCwKf8DeN"
      },
      "source": [
        "5\\. Use the `.groupby()` method to find out the noisy channels, i.e. the TDC channels with most counts (print to screen the top 3 and the corresponding counts)"
      ]
    },
    {
      "cell_type": "code",
      "metadata": {
        "id": "kvQi3HS-8DeN",
        "colab": {
          "base_uri": "https://localhost:8080/"
        },
        "outputId": "f07bb796-862d-4004-dfe7-cd25eda4bee5"
      },
      "source": [
        "noisyTDC=df.groupby(['TDC_CHANNEL']).size().sort_values(ascending=False)\n",
        "print(noisyTDC[0:3])"
      ],
      "execution_count": 22,
      "outputs": [
        {
          "output_type": "stream",
          "name": "stdout",
          "text": [
            "TDC_CHANNEL\n",
            "139    75866\n",
            "64     46085\n",
            "63     45244\n",
            "dtype: int64\n"
          ]
        }
      ]
    },
    {
      "cell_type": "markdown",
      "metadata": {
        "id": "AsUi0i6h8DeO"
      },
      "source": [
        "6\\. Count the number of non-empty orbits (i.e. the number of orbits with at least one hit). Count also the number of unique orbits with at least one measurement from TDC_CHANNEL=139."
      ]
    },
    {
      "cell_type": "code",
      "metadata": {
        "id": "GDsqlNA38DeO",
        "colab": {
          "base_uri": "https://localhost:8080/"
        },
        "outputId": "94d43fd3-a126-4091-dc2c-35297ce53d11"
      },
      "source": [
        "non_empty = len(df.groupby('ORBIT_CNT').count())\n",
        "print(\"Number of non-empty orbit\",non_empty)\n",
        "\n",
        "\n",
        "non_empty139=df[df['TDC_CHANNEL']==139].groupby('ORBIT_CNT').count()\n",
        "print(\"number of unique orbits with at least one measurement from TDC_CHANNEL=139\",len(non_empty139))\n"
      ],
      "execution_count": 23,
      "outputs": [
        {
          "output_type": "stream",
          "name": "stdout",
          "text": [
            "Number of non-empty orbit 8307\n",
            "number of unique orbits with at least one measurement from TDC_CHANNEL=139 8282\n"
          ]
        }
      ]
    },
    {
      "cell_type": "markdown",
      "metadata": {
        "id": "pte8T6kv8DeO"
      },
      "source": [
        "7\\. **Optional:** Make two occupancy plots (one for each FPGA), i.e. plot the number of counts per TDC channel"
      ]
    },
    {
      "cell_type": "code",
      "metadata": {
        "id": "26fMS-Jc8DeP",
        "colab": {
          "base_uri": "https://localhost:8080/",
          "height": 580
        },
        "outputId": "b50df668-2687-4303-f458-cd31c99c3e74"
      },
      "source": [
        "fpga0 = df.loc[df['FPGA'] == 0]\n",
        "fpga1 = df.loc[df['FPGA'] == 1]\n",
        "\n",
        "fpga0.hist(column='TDC_CHANNEL', bins= df['TDC_CHANNEL'].max(), color = 'green')\n",
        "fpga1.hist(column='TDC_CHANNEL', bins= df['TDC_CHANNEL'].max(), color=\"yellow\")\n",
        "\n"
      ],
      "execution_count": 24,
      "outputs": [
        {
          "output_type": "execute_result",
          "data": {
            "text/plain": [
              "array([[<matplotlib.axes._subplots.AxesSubplot object at 0x7f5c061835d0>]],\n",
              "      dtype=object)"
            ]
          },
          "metadata": {},
          "execution_count": 24
        },
        {
          "output_type": "display_data",
          "data": {
            "image/png": "[encoded data removed]",
            "text/plain": [
              "<Figure size 432x288 with 1 Axes>"
            ]
          },
          "metadata": {
            "needs_background": "light"
          }
        },
        {
          "output_type": "display_data",
          "data": {
            "image/png": "[encoded data removed]",
            "text/plain": [
              "<Figure size 432x288 with 1 Axes>"
            ]
          },
          "metadata": {
            "needs_background": "light"
          }
        }
      ]
    }
  ]
}