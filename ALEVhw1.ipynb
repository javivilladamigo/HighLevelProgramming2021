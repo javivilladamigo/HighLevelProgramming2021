{
 "cells": [
  {
   "cell_type": "markdown",
   "metadata": {},
   "source": [
    "1. The HelloWorld replacement\n",
    "\n",
    "a) Write a program that prints the numbers from 1 to 100. But for multiples of three print \"Hello\" instead of the number and for the multiples of five print \"World\". For numbers which are multiples of both three and five print \"HelloWorld\".\n",
    "\n",
    "b) Put the result in a tuple and substitute \"Hello\" with \"Python\" and \"World\" with \"Works\"."
   ]
  },
  {
   "cell_type": "code",
   "execution_count": 13,
   "metadata": {},
   "outputs": [
    {
     "name": "stdout",
     "output_type": "stream",
     "text": [
      "1, 2, HelloWorld, 4, , HelloWorld, 7, 8, HelloWorld, , 11, HelloWorld, 13, 14, HelloWorld, 16, 17, HelloWorld, 19, , HelloWorld, 22, 23, HelloWorld, , 26, HelloWorld, 28, 29, HelloWorld, 31, 32, HelloWorld, 34, , HelloWorld, 37, 38, HelloWorld, , 41, HelloWorld, 43, 44, HelloWorld, 46, 47, HelloWorld, 49, , HelloWorld, 52, 53, HelloWorld, , 56, HelloWorld, 58, 59, HelloWorld, 61, 62, HelloWorld, 64, , HelloWorld, 67, 68, HelloWorld, , 71, HelloWorld, 73, 74, HelloWorld, 76, 77, HelloWorld, 79, , HelloWorld, 82, 83, HelloWorld, , 86, HelloWorld, 88, 89, HelloWorld, 91, 92, HelloWorld, 94, , HelloWorld, 97, 98, HelloWorld, , \n",
      "\n",
      "('1', '2', 'HelloWorld', '4', '', 'HelloWorld', '7', '8', 'HelloWorld', '', '11', 'HelloWorld', '13', '14', 'HelloWorld', '16', '17', 'HelloWorld', '19', '', 'HelloWorld', '22', '23', 'HelloWorld', '', '26', 'HelloWorld', '28', '29', 'HelloWorld', '31', '32', 'HelloWorld', '34', '', 'HelloWorld', '37', '38', 'HelloWorld', '', '41', 'HelloWorld', '43', '44', 'HelloWorld', '46', '47', 'HelloWorld', '49', '', 'HelloWorld', '52', '53', 'HelloWorld', '', '56', 'HelloWorld', '58', '59', 'HelloWorld', '61', '62', 'HelloWorld', '64', '', 'HelloWorld', '67', '68', 'HelloWorld', '', '71', 'HelloWorld', '73', '74', 'HelloWorld', '76', '77', 'HelloWorld', '79', '', 'HelloWorld', '82', '83', 'HelloWorld', '', '86', 'HelloWorld', '88', '89', 'HelloWorld', '91', '92', 'HelloWorld', '94', '', 'HelloWorld', '97', '98', 'HelloWorld', '', '')\n",
      "1,2,PythonWorks,4,,PythonWorks,7,8,PythonWorks,,11,PythonWorks,13,14,PythonWorks,16,17,PythonWorks,19,,PythonWorks,22,23,PythonWorks,,26,PythonWorks,28,29,PythonWorks,31,32,PythonWorks,34,,PythonWorks,37,38,PythonWorks,,41,PythonWorks,43,44,PythonWorks,46,47,PythonWorks,49,,PythonWorks,52,53,PythonWorks,,56,PythonWorks,58,59,PythonWorks,61,62,PythonWorks,64,,PythonWorks,67,68,PythonWorks,,71,PythonWorks,73,74,PythonWorks,76,77,PythonWorks,79,,PythonWorks,82,83,PythonWorks,,86,PythonWorks,88,89,PythonWorks,91,92,PythonWorks,94,,PythonWorks,97,98,PythonWorks,,\n"
     ]
    }
   ],
   "source": [
    "#a\n",
    "out_str = ''\n",
    "for i in range (1, 101):\n",
    "# Numbers that are divisible by 3 and 5\n",
    "# are always divisible by 15\n",
    "# Therefore, \"HelloWorld\" is printed in place of that number\n",
    " if not (i % 3 == 0) and not (i % 5 == 0):\n",
    "    out_str += str(i)\n",
    " if (i % 3 == 0):\n",
    "    out_str += 'Hello'\n",
    " if (i % 3 == 0):\n",
    "    out_str += 'World'\n",
    " out_str +=', '\n",
    "print(out_str)\n",
    "print()\n",
    "\n",
    "#b\n",
    "out_tuple = tuple(out_str.split(', '))\n",
    "print(out_tuple)\n",
    "out= []\n",
    "for s in out_tuple:\n",
    "    s = s.replace('Hello','Python')\n",
    "    s = s.replace('World','Works')\n",
    "    out.append(s)\n",
    "print(','.join(out))\n",
    "    "
   ]
  },
  {
   "cell_type": "markdown",
   "metadata": {},
   "source": [
    "2\\. The swap function\n",
    "\n",
    "Write a function that swap the values of two input variables x and y (whatever the type). Try to do that also without a temporary variable"
   ]
  },
  {
   "cell_type": "code",
   "execution_count": 18,
   "metadata": {},
   "outputs": [
    {
     "name": "stdout",
     "output_type": "stream",
     "text": [
      "The value of x after swapping: 14\n",
      "The value of y after swapping: 25\n"
     ]
    }
   ],
   "source": [
    "def swap1(x,y):\n",
    "    temp = x\n",
    "    x = y\n",
    "    y = temp\n",
    "    return x,y\n",
    "def swap2(x,y):\n",
    "    return y,x\n",
    "    \n",
    "x = 14\n",
    "y = 25\n",
    "# To take inputs from the user\n",
    "#x = input('Enter value of x:')\n",
    "#y = input('Enter value of y:')\n",
    "#Create a temporary variable and swap the values\n",
    "print('The value of x after swapping: {}'.format(x))\n",
    "print('The value of y after swapping: {}'.format(y))"
   ]
  },
  {
   "cell_type": "markdown",
   "metadata": {},
   "source": [
    "3\\. Computing the distance\n",
    "\n",
    "Write a function that calculates and returns the euclidean distance between two points *u* and *v*, where *u* and *v* are both 2-tuples *(x,y)*. For example, if *u=(3,0)* and *v=(0,4)*, the function should return 5"
   ]
  },
  {
   "cell_type": "code",
   "execution_count": 19,
   "metadata": {},
   "outputs": [
    {
     "name": "stdout",
     "output_type": "stream",
     "text": [
      "5.0\n"
     ]
    }
   ],
   "source": [
    "def distance(u: tuple, v: tuple):\n",
    "    dist = 0\n",
    "    for i in range(len(u)):\n",
    "        dist += (u[i]-v[i])**2\n",
    "    return dist**.5\n",
    "u = (3,0)\n",
    "v = (0,4)\n",
    "print(distance(u, v))"
   ]
  },
  {
   "cell_type": "markdown",
   "metadata": {},
   "source": [
    "4\\. Counting letters\n",
    "\n",
    "Write a program to calculate the number of times each character occurs in a given string *s*. Ignore differences in capitalization"
   ]
  },
  {
   "cell_type": "code",
   "execution_count": 21,
   "metadata": {},
   "outputs": [],
   "source": [
    "s = \"Write a program that prints the numbers from 1 to 100. \\\n",
    "But for multiples of three print Hello instead of the number and for the multiples of five print World. \\\n",
    "For numbers which are multiples of both three and five print HelloWorld.\""
   ]
  },
  {
   "cell_type": "code",
   "execution_count": 22,
   "metadata": {},
   "outputs": [
    {
     "name": "stdout",
     "output_type": "stream",
     "text": [
      "w : 4\n",
      "r : 19\n",
      "i : 12\n",
      "t : 19\n",
      "e : 20\n",
      "  : 41\n",
      "a : 7\n",
      "p : 8\n",
      "o : 15\n",
      "g : 1\n",
      "m : 8\n",
      "h : 11\n",
      "n : 10\n",
      "s : 7\n",
      "u : 7\n",
      "b : 5\n",
      "f : 10\n",
      "1 : 2\n",
      "0 : 2\n",
      ". : 3\n",
      "l : 12\n",
      "d : 5\n",
      "v : 2\n",
      "c : 1\n"
     ]
    }
   ],
   "source": [
    "letters_freq = {}\n",
    "for c in s.lower():\n",
    "    letters_freq.setdefault(c,0)\n",
    "    letters_freq[c] += 1\n",
    "    \n",
    "for char,count in letters_freq.items():\n",
    "    print(char, ':', count)"
   ]
  },
  {
   "cell_type": "markdown",
   "metadata": {},
   "source": [
    "5\\. Isolating the unique\n",
    "\n",
    "Write a function that determines and count the unique numbers in the list:"
   ]
  },
  {
   "cell_type": "code",
   "execution_count": 23,
   "metadata": {},
   "outputs": [],
   "source": [
    "l = [36, 45, 58, 3, 74, 96, 64, 45, 31, 10, 24, 19, 33, 86, 99, 18, 63, 70, 85,\n",
    " 85, 63, 47, 56, 42, 70, 84, 88, 55, 20, 54, 8, 56, 51, 79, 81, 57, 37, 91,\n",
    " 1, 84, 84, 36, 66, 9, 89, 50, 42, 91, 50, 95, 90, 98, 39, 16, 82, 31, 92, 41,\n",
    " 45, 30, 66, 70, 34, 85, 94, 5, 3, 36, 72, 91, 84, 34, 87, 75, 53, 51, 20, 89, 51, 20]"
   ]
  },
  {
   "cell_type": "code",
   "execution_count": 37,
   "metadata": {},
   "outputs": [
    {
     "name": "stdout",
     "output_type": "stream",
     "text": [
      "Unique items are: [ 1  3  5  8  9 10 16 18 19 20 24 30 31 33 34 36 37 39 41 42 45 47 50 51\n",
      " 53 54 55 56 57 58 63 64 66 70 72 74 75 79 81 82 84 85 86 87 88 89 90 91\n",
      " 92 94 95 96 98 99]\n",
      "Count of unique items are: 54\n"
     ]
    }
   ],
   "source": [
    "def unique(l: list):\n",
    "    l.sort()\n",
    "    empty_list = []\n",
    "    count = 0\n",
    "    for ele in input_list:\n",
    "        if(ele not in empty_list):\n",
    "            count += 1\n",
    "            empty_list.append(ele)\n",
    "print(\"Unique items are:\",np.unique(input_list))\n",
    "print(\"Count of unique items are:\",len(np.unique(input_list)))\n"
   ]
  },
  {
   "cell_type": "markdown",
   "metadata": {},
   "source": [
    "Do the same without using user-defined functions, but exploiting only the Python data structures."
   ]
  },
  {
   "cell_type": "code",
   "execution_count": 39,
   "metadata": {},
   "outputs": [
    {
     "name": "stdout",
     "output_type": "stream",
     "text": [
      "There are 54 unique numbers: [1, 3, 5, 8, 9, 10, 16, 18, 19, 20, 24, 30, 31, 33, 34, 36, 37, 39, 41, 42, 45, 47, 50, 51, 53, 54, 55, 56, 57, 58, 63, 64, 66, 70, 72, 74, 75, 79, 81, 82, 84, 85, 86, 87, 88, 89, 90, 91, 92, 94, 95, 96, 98, 99]\n"
     ]
    }
   ],
   "source": [
    "unique = list(set(l))\n",
    "print(f'There are {len(unique)} unique numbers: {unique}')"
   ]
  },
  {
   "cell_type": "markdown",
   "metadata": {},
   "source": [
    "6\\. Combination of functions\n",
    "\n",
    "Write two functions - one that returns the square of a number, and one that returns the cube. Now write a third function that returns the number raised to the 6th power using the two previous functions."
   ]
  },
  {
   "cell_type": "code",
   "execution_count": 42,
   "metadata": {},
   "outputs": [
    {
     "name": "stdout",
     "output_type": "stream",
     "text": [
      "10779215329\n"
     ]
    }
   ],
   "source": [
    "def square(a):\n",
    "    return a**2\n",
    "def cube(a):\n",
    "    return a**3\n",
    "def sixth_power(a):\n",
    "    return cube(square(a))\n",
    "x=47\n",
    "print(sixth_power(47))"
   ]
  },
  {
   "cell_type": "markdown",
   "metadata": {},
   "source": [
    "7\\. Cubes\n",
    "\n",
    "Create a list of the cubes of x for x in *[0, 10]* using:\n",
    "\n",
    "a) a for loop\n",
    "\n",
    "b) a list comprehension"
   ]
  },
  {
   "cell_type": "code",
   "execution_count": 43,
   "metadata": {},
   "outputs": [
    {
     "name": "stdout",
     "output_type": "stream",
     "text": [
      "[0, 1, 8, 27, 64, 125, 216, 343, 512, 729, 1000]\n",
      "[0, 1, 8, 27, 64, 125, 216, 343, 512, 729, 1000]\n"
     ]
    }
   ],
   "source": [
    "#a.for loop\n",
    "cubes = []\n",
    "for n in range(0,11):\n",
    "    cubes.append(cube(n))\n",
    "print(cubes)\n",
    "\n",
    "#b.list comprehension\n",
    "cubes = [cube(n) for n in range(0,11)]\n",
    "print(cubes)\n",
    "\n",
    "    "
   ]
  },
  {
   "cell_type": "markdown",
   "metadata": {},
   "source": [
    "8\\. Nested list comprehension\n",
    "\n",
    "A Pythagorean triple is an integer solution to the Pythagorean theorem $a^2+b^2=c^2$. The first Pythagorean triple is (3,4,5). Find and put in a tuple all unique Pythagorean triples for the positive integers a, b and c less than 100."
   ]
  },
  {
   "cell_type": "code",
   "execution_count": 44,
   "metadata": {},
   "outputs": [
    {
     "name": "stdout",
     "output_type": "stream",
     "text": [
      "[(3, 4, 5), (5, 12, 13), (6, 8, 10), (7, 24, 25), (8, 15, 17), (9, 12, 15), (9, 40, 41), (10, 24, 26), (11, 60, 61), (12, 16, 20), (12, 35, 37), (13, 84, 85), (14, 48, 50), (15, 20, 25), (15, 36, 39), (16, 30, 34), (16, 63, 65), (18, 24, 30), (18, 80, 82), (20, 21, 29), (20, 48, 52), (21, 28, 35), (21, 72, 75), (24, 32, 40), (24, 45, 51), (24, 70, 74), (25, 60, 65), (27, 36, 45), (28, 45, 53), (28, 96, 100), (30, 40, 50), (30, 72, 78), (32, 60, 68), (33, 44, 55), (33, 56, 65), (35, 84, 91), (36, 48, 60), (36, 77, 85), (39, 52, 65), (39, 80, 89), (40, 42, 58), (40, 75, 85), (42, 56, 70), (45, 60, 75), (48, 55, 73), (48, 64, 80), (51, 68, 85), (54, 72, 90), (57, 76, 95), (60, 63, 87), (60, 80, 100), (65, 72, 97)]\n"
     ]
    }
   ],
   "source": [
    "lim = 100\n",
    "pytha_triples = [(a,b,c) for a in range(1,lim+1) for b in range(a,lim+1) for c in range(1,lim+1) if a**2 + b**2 == c**2]\n",
    "print(pytha_triples)"
   ]
  },
  {
   "cell_type": "markdown",
   "metadata": {},
   "source": [
    "9\\. Normalization\n",
    "\n",
    "Write a function that takes a tuple of numbers and returns it with the entries normalized to one"
   ]
  },
  {
   "cell_type": "code",
   "execution_count": 47,
   "metadata": {},
   "outputs": [
    {
     "name": "stdout",
     "output_type": "stream",
     "text": [
      "(0.2, 0.4, 1.0, 0.8, 0.4)\n",
      "(0.1414213562373095, 0.282842712474619, 0.7071067811865475, 0.565685424949238, 0.282842712474619)\n"
     ]
    }
   ],
   "source": [
    "samples = [2, 4, 10, 8, 4]\n",
    "def normalize_max(samples: tuple):\n",
    "    return tuple([s/ max(samples) for s in samples])\n",
    "def normalize_norm(numbers: tuple):\n",
    "    norm = sum([s**2 for s in samples])**.5\n",
    "    return tuple([s/ norm for s in samples])\n",
    "print(normalize_max(samples))\n",
    "print(normalize_norm(samples))"
   ]
  },
  {
   "cell_type": "code",
   "execution_count": null,
   "metadata": {},
   "outputs": [],
   "source": []
  }
 ],
 "metadata": {
  "kernelspec": {
   "display_name": "Python 3",
   "language": "python",
   "name": "python3"
  },
  "language_info": {
   "codemirror_mode": {
    "name": "ipython",
    "version": 3
   },
   "file_extension": ".py",
   "mimetype": "text/x-python",
   "name": "python",
   "nbconvert_exporter": "python",
   "pygments_lexer": "ipython3",
   "version": "3.8.5"
  }
 },
 "nbformat": 4,
 "nbformat_minor": 2
}
