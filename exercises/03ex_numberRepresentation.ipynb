{
 "cells": [
  {
   "cell_type": "markdown",
   "metadata": {},
   "source": [
    "1\\. Write a function that converts numbers among the bin, dec, and hex representations (bin<->dec<->hex)"
   ]
  },
  {
   "cell_type": "code",
   "execution_count": 11,
   "metadata": {},
   "outputs": [
    {
     "name": "stdout",
     "output_type": "stream",
     "text": [
      "n_2 = 1100 \n",
      "n_10 = 12 \n",
      "n_16 = 0xc\n",
      "---\n",
      "n_2 = 0b11111011 \n",
      "n_10 = 251 \n",
      "n_16 = 0xfb\n",
      "---\n",
      "n_2 = 0b1111 \n",
      "n_10 = 15 \n",
      "n_16 = 0xf\n"
     ]
    },
    {
     "data": {
      "text/plain": [
       "('0b1111', 15, '0xf')"
      ]
     },
     "execution_count": 11,
     "metadata": {},
     "output_type": "execute_result"
    }
   ],
   "source": [
    "# input number and its base\n",
    "def change_rep(n, base):\n",
    "    if base == 2:\n",
    "        n_bin = n\n",
    "        n_dec = int(n, 2)\n",
    "        n_hex = hex(n_dec)\n",
    "    elif base == 10:\n",
    "        n_bin = bin(n)\n",
    "        n_dec = n\n",
    "        n_hex = hex(n)\n",
    "    elif base == 16:\n",
    "        n_dec = int(n, 16)\n",
    "        n_bin = bin(n_dec)\n",
    "        n_hex = hex(n_dec)\n",
    "    else:\n",
    "        print(\"Aborting: invalid base.\")\n",
    "        return None\n",
    "    print(\"n_2 =\", n_bin, \"\\nn_10 =\", n_dec, \"\\nn_16 =\", n_hex)\n",
    "    return(n_bin, n_dec, n_hex)\n",
    "\n",
    "    \n",
    "# example\n",
    "n = \"1100\"\n",
    "change_rep(n, 2)\n",
    "print(\"---\")\n",
    "n = \"fb\"\n",
    "change_rep(n, 16)\n",
    "print(\"---\")\n",
    "n = 15\n",
    "change_rep(n, 10)"
   ]
  },
  {
   "cell_type": "markdown",
   "metadata": {},
   "source": [
    "2\\. Write a function that converts a 32 bit word into a single precision floating point (i.e. interprets the various bits as sign, mantissa and exponent) and check its validity."
   ]
  },
  {
   "cell_type": "code",
   "execution_count": 12,
   "metadata": {},
   "outputs": [
    {
     "data": {
      "text/plain": [
       "-5.5"
      ]
     },
     "execution_count": 12,
     "metadata": {},
     "output_type": "execute_result"
    }
   ],
   "source": [
    "# the function accepts a 32-chars string\n",
    "def bfloat(n):\n",
    "    if len(n) != 32:\n",
    "        print(\"Aborting: not a 32 bit string.\")\n",
    "        return None\n",
    "    \n",
    "    sign = (-1)**int(n[0], 2)\n",
    "    exponent = int(n[1:9], 2)\n",
    "    m = n[9:]\n",
    "    f = 0\n",
    "    for i in range(0, len(m)):\n",
    "        f += int(m[i]) * 2**(-i-1)\n",
    "    mantissa = 1 + f\n",
    "    res = sign * 2**(exponent-127) * mantissa\n",
    "    \n",
    "    return res\n",
    "     \n",
    "# example  \n",
    "n = \"11000000101100000000000000000000\"\n",
    "bfloat(n)"
   ]
  },
  {
   "cell_type": "markdown",
   "metadata": {},
   "source": [
    "3\\. Write a program to determine the underflow and overflow limits (within a factor of 2) for python on your computer. \n",
    "\n",
    "**Tip**: define two variables initialized to 1 and halve/double them for a sufficient amount of times to exceed the under/over-flow limits  "
   ]
  },
  {
   "cell_type": "code",
   "execution_count": 13,
   "metadata": {},
   "outputs": [
    {
     "name": "stdout",
     "output_type": "stream",
     "text": [
      "Underflow = 5e-324\n",
      "Overflow = 8.98846567431158e+307\n"
     ]
    }
   ],
   "source": [
    "a = 1.0\n",
    "b = 1.0\n",
    "notFound = True\n",
    "\n",
    "# determine underflow\n",
    "while notFound:\n",
    "    c = a / 2\n",
    "    if c > 0:\n",
    "        a /= 2\n",
    "    else:\n",
    "        notFound = False\n",
    "        print(\"Underflow =\", a)\n",
    "\n",
    "# determine overflow\n",
    "notFound = True\n",
    "\n",
    "while notFound:\n",
    "    d = b * 2\n",
    "    if d != float(\"inf\"):\n",
    "        b *= 2\n",
    "    else:\n",
    "        notFound = False\n",
    "        print(\"Overflow =\", b)"
   ]
  },
  {
   "cell_type": "code",
   "execution_count": 14,
   "metadata": {},
   "outputs": [
    {
     "name": "stdout",
     "output_type": "stream",
     "text": [
      "sys.float_info(max=1.7976931348623157e+308, max_exp=1024, max_10_exp=308, min=2.2250738585072014e-308, min_exp=-1021, min_10_exp=-307, dig=15, mant_dig=53, epsilon=2.220446049250313e-16, radix=2, rounds=1)\n"
     ]
    }
   ],
   "source": [
    "# check information about float in my system\n",
    "import sys\n",
    "print(sys.float_info)"
   ]
  },
  {
   "cell_type": "markdown",
   "metadata": {},
   "source": [
    "4\\. Write a program to determine the machine precision\n",
    "\n",
    "**Tip**: define a new variable by adding an increasingly smaller value (in the same way as the previous problem) and check when the addition starts to have no effect on the number"
   ]
  },
  {
   "cell_type": "code",
   "execution_count": 15,
   "metadata": {},
   "outputs": [
    {
     "name": "stdout",
     "output_type": "stream",
     "text": [
      "Machine precision is equal to 1e-16\n"
     ]
    }
   ],
   "source": [
    "notFound = True\n",
    "before, after, i = 0, 0, 0\n",
    "\n",
    "while notFound:\n",
    "    after += 10**(-i)\n",
    "    if before < after:\n",
    "        before = after\n",
    "        i += 1\n",
    "    else:\n",
    "        notFound = False\n",
    "        minPower = i\n",
    "\n",
    "print(\"Machine precision is equal to\", 10**(-minPower))"
   ]
  },
  {
   "cell_type": "markdown",
   "metadata": {},
   "source": [
    "5\\. Write a function that takes in input three parameters $a$, $b$ and $c$ and prints out the two solutions to the quadratic equation $ax^2+bx+c=0$ using the standard formula:\n",
    "$$\n",
    "x=\\frac{-b\\pm\\sqrt{b^2-4ac}}{2a}\n",
    "$$\n",
    "\n",
    "(a) use the program to compute the solution for $a=0.001$, $b=1000$ and $c=0.001$\n",
    "\n",
    "(b) re-express the standard solution formula by multiplying the numerator and the denominator by $-b\\mp\\sqrt{b^2-4ac}$ and again find the solution for $a=0.001$, $b=1000$ and $c=0.001$. How does it compare with what has been previously obtained, and why?\n",
    "\n",
    "(c) write a function that computes the roots of a quadratic equation accurately in all cases"
   ]
  },
  {
   "cell_type": "code",
   "execution_count": 16,
   "metadata": {},
   "outputs": [],
   "source": [
    "# retireve sqrt function\n",
    "from math import sqrt\n",
    "\n",
    "# define the parabola function\n",
    "def parabola(a, b, c, x):\n",
    "    return a*x**2 + b*x + c\n",
    "\n",
    "# parameters of the parabola\n",
    "a, b, c = 0.001, 1000, 0.001"
   ]
  },
  {
   "cell_type": "code",
   "execution_count": 17,
   "metadata": {},
   "outputs": [
    {
     "name": "stdout",
     "output_type": "stream",
     "text": [
      "Using the first formula: (-9.999894245993346e-07, -999999.999999)\n",
      "z = ax^2 + bx + c evaluated in (x, y): (1.0575401665491313e-08, 7.247924804689582e-08)\n"
     ]
    }
   ],
   "source": [
    "'''\n",
    "    Solution (a).\n",
    "'''\n",
    "def findSol_1(a, b, c):\n",
    "    val = sqrt( b**2 - 4*a*c )\n",
    "    x, y = (- b + val) / (2 * a), (- b - val) / (2 * a)\n",
    "    return(x, y)\n",
    "\n",
    "# example\n",
    "res = findSol_1(a, b, c)\n",
    "print(\"Using the first formula:\", res)\n",
    "print(\"z = ax^2 + bx + c evaluated in (x, y):\", (parabola(a, b, c, res[0]), parabola(a, b, c, res[1])))"
   ]
  },
  {
   "cell_type": "code",
   "execution_count": 18,
   "metadata": {},
   "outputs": [
    {
     "name": "stdout",
     "output_type": "stream",
     "text": [
      "Using the second formula: (-1.000000000001e-06, -1000010.5755125057)\n",
      "z = ax^2 + bx + c evaluated in (x, y): (0.0, 10575.62534720993)\n"
     ]
    }
   ],
   "source": [
    "'''\n",
    "    Solution (b).\n",
    "    Using the two formulas, we have to take into account \n",
    "    round-off errors when subtracting two very similar\n",
    "    numbers (in this case, they are similar because b\n",
    "    is way larger than a and c). That's why the result\n",
    "    are slightly different.\n",
    "'''\n",
    "def findSol_2(a, b, c):\n",
    "    val = sqrt( b**2 - 4*a*c )\n",
    "    x, y =  (2 * c) / (- b - val), (2 * c) / (- b + val) \n",
    "    return(x, y)\n",
    "\n",
    "# example\n",
    "res = findSol_2(a, b, c)\n",
    "print(\"Using the second formula:\", res)\n",
    "print(\"z = ax^2 + bx + c evaluated in (x, y):\", (parabola(a, b, c, res[0]), parabola(a, b, c, res[1])))"
   ]
  },
  {
   "cell_type": "code",
   "execution_count": 19,
   "metadata": {},
   "outputs": [
    {
     "name": "stdout",
     "output_type": "stream",
     "text": [
      "Using the third formula: (-1.000000000001e-06, -999999.999999)\n",
      "z = ax^2 + bx + c evaluated in (x, y): (0.0, 7.247924804689582e-08)\n"
     ]
    }
   ],
   "source": [
    "'''\n",
    "    Solution (c).\n",
    "    To avoid round-off errors I exploit the (b) \n",
    "    formula for x and the (a) formula for y.\n",
    "'''\n",
    "def findSol_3(a, b, c):\n",
    "    val = sqrt( b**2 - 4*a*c )\n",
    "    x, y = (2 * c) / (- b - val), (- b - val) / (2 * a)\n",
    "    return(x, y)\n",
    "\n",
    "# example\n",
    "res = findSol_3(a, b, c)\n",
    "print(\"Using the third formula:\", res)\n",
    "print(\"z = ax^2 + bx + c evaluated in (x, y):\", (parabola(a, b, c, res[0]), parabola(a, b, c, res[1])))"
   ]
  },
  {
   "cell_type": "code",
   "execution_count": 20,
   "metadata": {},
   "outputs": [
    {
     "name": "stdout",
     "output_type": "stream",
     "text": [
      "Using the first formula: (1.0, -4.0)\n",
      "z = ax^2 + bx + c evaluated in (x, y): (0.0, 0.0)\n",
      "---\n",
      "Using the second formula: (1.0, -4.0)\n",
      "z = ax^2 + bx + c evaluated in (x, y): (0.0, 0.0)\n",
      "---\n",
      "Using the third formula: (1.0, -4.0)\n",
      "z = ax^2 + bx + c evaluated in (x, y): (0.0, 0.0)\n"
     ]
    }
   ],
   "source": [
    "'''\n",
    "    Using parameters with comparable values,\n",
    "    the round-off error does not take place\n",
    "    and all functions return the same results.\n",
    "'''\n",
    "a, b, c = 1, 3, -4\n",
    "\n",
    "res = findSol_1(a, b, c)\n",
    "print(\"Using the first formula:\", res)\n",
    "print(\"z = ax^2 + bx + c evaluated in (x, y):\", (parabola(a, b, c, res[0]), parabola(a, b, c, res[1])))\n",
    "print(\"---\")\n",
    "res = findSol_2(a, b, c)\n",
    "print(\"Using the second formula:\", res)\n",
    "print(\"z = ax^2 + bx + c evaluated in (x, y):\", (parabola(a, b, c, res[0]), parabola(a, b, c, res[1])))\n",
    "print(\"---\")\n",
    "res = findSol_3(a, b, c)\n",
    "print(\"Using the third formula:\", res)\n",
    "print(\"z = ax^2 + bx + c evaluated in (x, y):\", (parabola(a, b, c, res[0]), parabola(a, b, c, res[1])))"
   ]
  },
  {
   "cell_type": "markdown",
   "metadata": {},
   "source": [
    "6\\. Write a program that implements the function $f(x)=x(x−1)$\n",
    "\n",
    "(a) Calculate the derivative of the function at the point $x = 1$ using the derivative definition:\n",
    "\n",
    "$$\n",
    "\\frac{{\\rm d}f}{{\\rm d}x} = \\lim_{\\delta\\to0} \\frac{f(x+\\delta)-f(x)}{\\delta}\n",
    "$$\n",
    "\n",
    "with $\\delta = 10^{−2}$. Calculate the true value of the same derivative analytically and compare it with the answer your program gives. The two will not agree perfectly. Why?\n",
    "\n",
    "(b) Repeat the calculation for $\\delta = 10^{−4}, 10^{−6}, 10^{−8}, 10^{−10}, 10^{−12}$ and $10^{−14}$. How does the accuracy scales with $\\delta$?"
   ]
  },
  {
   "cell_type": "code",
   "execution_count": 21,
   "metadata": {},
   "outputs": [
    {
     "name": "stdout",
     "output_type": "stream",
     "text": [
      "True value = 1\n",
      "Using the definition = 1.0099999999999998\n"
     ]
    }
   ],
   "source": [
    "'''\n",
    "    Solution (a).\n",
    "    The derivative definition holds as delta \n",
    "    approaches to zero. In this case, delta is quite \n",
    "    large and thus the formula overestimates the value.\n",
    "'''\n",
    "def f(x):\n",
    "    return x**2 - x\n",
    "\n",
    "def f_p(x):\n",
    "    return 2*x - 1\n",
    "\n",
    "def df(x, d):\n",
    "    return (f(x+d) - f(x)) / d\n",
    "\n",
    "print(\"True value =\", f_p(1))\n",
    "print(\"Using the definition =\", df(1, 10**(-2)))"
   ]
  },
  {
   "cell_type": "code",
   "execution_count": 22,
   "metadata": {},
   "outputs": [
    {
     "name": "stdout",
     "output_type": "stream",
     "text": [
      "Using d = 0.01 the derivative is 1.0099999999999998\n",
      "Using d = 0.0001 the derivative is 1.0000999999992821\n",
      "Using d = 1e-06 the derivative is 1.000001000006634\n",
      "Using d = 1e-08 the derivative is 0.999999993922529\n",
      "Using d = 1e-10 the derivative is 1.000000082740371\n",
      "Using d = 1e-12 the derivative is 1.000088900582341\n",
      "Using d = 1e-14 the derivative is 0.9992007221626409\n"
     ]
    }
   ],
   "source": [
    "'''\n",
    "    Solution (b).\n",
    "    Although we might expect that as delta goes to \n",
    "    zero the definition returns a number closer to the\n",
    "    true value, the function of the derivative definition\n",
    "    is poorly conditioned, hence the result does not\n",
    "    vary gradually as the input varies.\n",
    "'''\n",
    "dl = [10**(-c) for c in [2, 4, 6, 8, 10, 12, 14]]\n",
    "\n",
    "for val in dl:\n",
    "    print(\"Using d =\", val, \"the derivative is\", df(1, val))"
   ]
  },
  {
   "cell_type": "markdown",
   "metadata": {},
   "source": [
    "7\\. Consider the integral of the semicircle of radius 1:\n",
    "$$\n",
    "I=\\int_{-1}^{1} \\sqrt(1-x^2) {\\rm d}x\n",
    "$$\n",
    "which is known to be $I=\\frac{\\pi}{2}=1.57079632679...$.\n",
    "\n",
    "Alternatively we can use the Riemann definition of the integral:\n",
    "$$\n",
    "I=\\lim_{N\\to\\infty} \\sum_{k=1}^{N} h y_k \n",
    "$$\n",
    "\n",
    "with $h=2/N$ the width of each of the $N$ slices the domain is divided into and where\n",
    "$y_k$ is the value of the function at the $k-$th slice.\n",
    "\n",
    "(a) Write a program to compute the integral with $N=100$. How does the result compare to the true value?\n",
    "\n",
    "(b) How much can $N$ be increased if the computation needs to be run in less than a second? What is the gain in running it for 1 minute? \n"
   ]
  },
  {
   "cell_type": "code",
   "execution_count": 23,
   "metadata": {},
   "outputs": [],
   "source": [
    "# retrieve pi\n",
    "from math import pi\n",
    "\n",
    "# define function\n",
    "def f(x):\n",
    "    return sqrt(1 - x**2)\n",
    "\n",
    "# retrieve time function\n",
    "import time"
   ]
  },
  {
   "cell_type": "code",
   "execution_count": 24,
   "metadata": {},
   "outputs": [
    {
     "name": "stdout",
     "output_type": "stream",
     "text": [
      "Using the Riemann definition with 100 slices: 1.5691342555492505\n",
      "The result varies by 0.10581074180619238% with respect to the true value.\n"
     ]
    }
   ],
   "source": [
    "'''\n",
    "    Solution (a).\n",
    "'''\n",
    "def int_f(N):\n",
    "    # variables: grid spacing, starting point\n",
    "    h = 2 / N\n",
    "    x0 = -1\n",
    "    \n",
    "    # integral \n",
    "    integral = 0\n",
    "    for k in range(0, N+1):\n",
    "        x = x0 + k*h\n",
    "        integral += f(x)*h\n",
    "        \n",
    "    return integral\n",
    "       \n",
    "# example\n",
    "N = 100\n",
    "res = int_f(N)\n",
    "print(\"Using the Riemann definition with\", N, \"slices:\", res)\n",
    "var = 100 * ((pi/2) - res) / (pi/2)\n",
    "print(\"The result varies by \" + str(var) + \"% with respect to the true value.\")"
   ]
  },
  {
   "cell_type": "code",
   "execution_count": 27,
   "metadata": {},
   "outputs": [
    {
     "name": "stdout",
     "output_type": "stream",
     "text": [
      "Predicted execution time respectively for 100, 1000, 1000000 slices:\n",
      "93.6 µs ± 3.93 µs per loop (mean ± std. dev. of 7 runs, 10000 loops each)\n",
      "915 µs ± 3.24 µs per loop (mean ± std. dev. of 7 runs, 1000 loops each)\n",
      "924 ms ± 15.6 ms per loop (mean ± std. dev. of 7 runs, 1 loop each)\n"
     ]
    }
   ],
   "source": [
    "'''\n",
    "    Solution (b).\n",
    "    I use the IPython built-in function %timeit\n",
    "    to predict the execution time of a function.\n",
    "    The execution time varies a bit from time to\n",
    "    time.\n",
    "'''\n",
    "print(\"Predicted execution time respectively for 100, 1000, 1000000 slices:\")\n",
    "%timeit int_f(100)\n",
    "%timeit int_f(1000)\n",
    "%timeit int_f(1000000)"
   ]
  },
  {
   "cell_type": "code",
   "execution_count": 28,
   "metadata": {},
   "outputs": [
    {
     "name": "stdout",
     "output_type": "stream",
     "text": [
      "Using N = 1000000 the execution time is approximately of 1.0170669555664062 seconds.\n",
      "Using the Riemann definition with 1000000 slices: 1.5707963251317274\n",
      "The result varies by 1.058806370743233e-07% with respect to the true value.\n"
     ]
    }
   ],
   "source": [
    "# start clock\n",
    "start = time.time()\n",
    "\n",
    "# compute integral\n",
    "N = 1000000\n",
    "res = int_f(N)\n",
    "\n",
    "# check time\n",
    "print(\"Using N =\", N, \"the execution time is approximately of\", time.time() - start, \"seconds.\")\n",
    "\n",
    "# results\n",
    "print(\"Using the Riemann definition with\", N, \"slices:\", res)\n",
    "var = 100 * ((pi/2) - res) / (pi/2)\n",
    "print(\"The result varies by \" + str(var) + \"% with respect to the true value.\")"
   ]
  },
  {
   "cell_type": "code",
   "execution_count": 29,
   "metadata": {},
   "outputs": [
    {
     "name": "stdout",
     "output_type": "stream",
     "text": [
      "Time = 55.3774995803833\n",
      "Using the Riemann definition with 60000000 slices: 1.5707963267911924\n",
      "The result varies by 2.358133919829973e-10% with respect to the true value.\n"
     ]
    }
   ],
   "source": [
    "'''\n",
    "    Assuming that N(time) is approximately linear and\n",
    "    using the previous results, one can predict that\n",
    "    if N = 60e+06 the execution time is approximately \n",
    "    equal to 60 seconds. \n",
    "    In this case, the variation between result and true value \n",
    "    is o(1e-10 %), three orders better than the variation between\n",
    "    the result obtained with 1 second and the true value, which was o(1e-07 %).\n",
    "'''\n",
    "# start clock\n",
    "start = time.time()\n",
    "\n",
    "# compute integral\n",
    "N = 60000000\n",
    "res = int_f(N)\n",
    "\n",
    "# check time\n",
    "print(\"Time =\", time.time() - start)\n",
    "\n",
    "# results\n",
    "print(\"Using the Riemann definition with\", N, \"slices:\", res)\n",
    "var = 100 * ((pi/2) - res) / (pi/2)\n",
    "print(\"The result varies by \" + str(var) + \"% with respect to the true value.\")"
   ]
  }
 ],
 "metadata": {
  "kernelspec": {
   "display_name": "Python 3",
   "language": "python",
   "name": "python3"
  },
  "language_info": {
   "codemirror_mode": {
    "name": "ipython",
    "version": 3
   },
   "file_extension": ".py",
   "mimetype": "text/x-python",
   "name": "python",
   "nbconvert_exporter": "python",
   "pygments_lexer": "ipython3",
   "version": "3.8.8"
  }
 },
 "nbformat": 4,
 "nbformat_minor": 2
}
