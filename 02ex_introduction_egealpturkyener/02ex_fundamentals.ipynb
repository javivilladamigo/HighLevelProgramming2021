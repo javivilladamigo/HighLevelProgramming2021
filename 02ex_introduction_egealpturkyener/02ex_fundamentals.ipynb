{
 "cells": [
  {
   "cell_type": "markdown",
   "metadata": {},
   "source": [
    "1. Write the following expressions using the list comprehension"
   ]
  },
  {
   "cell_type": "code",
   "execution_count": 14,
   "metadata": {},
   "outputs": [
    {
     "name": "stdout",
     "output_type": "stream",
     "text": [
      "[(0, 0), (0, 1), (0, 2), (0, 3), (1, 0), (1, 1), (1, 2), (1, 3), (2, 0), (2, 1), (2, 2), (2, 3)]\n",
      "[1, 9, 25, 49, 81]\n"
     ]
    }
   ],
   "source": [
    "# 1\n",
    "ans = []\n",
    "for i in range(3):\n",
    "    for j in range(4):\n",
    "        ans.append((i, j))\n",
    "print(ans)\n",
    "\n",
    "# 2\n",
    "ans = map(lambda x: x * x, filter(lambda x: x % 2 == 1, range(10)))\n",
    "print(list(ans))"
   ]
  },
  {
   "cell_type": "code",
   "execution_count": 15,
   "metadata": {},
   "outputs": [
    {
     "name": "stdout",
     "output_type": "stream",
     "text": [
      "First section With List Comprehension\n",
      "[(0, 0), (0, 1), (0, 2), (0, 3), (1, 0), (1, 1), (1, 2), (1, 3), (2, 0), (2, 1), (2, 2), (2, 3)]\n",
      "##########################################################################################################\n",
      "Second section With List Comprehension\n",
      "[1, 9, 25, 49, 81]\n"
     ]
    }
   ],
   "source": [
    "\n",
    "## 1 list comprehension METHOD\n",
    "print(\"First section With List Comprehension\")\n",
    "matrix = [(i,j) for i in range(3) for j in range(4)]\n",
    "print(matrix)\n",
    "\n",
    "print(\"##########################################################################################################\")\n",
    "## 2 list comprehension METHOD\n",
    "print(\"Second section With List Comprehension\")\n",
    "\n",
    "mat = list(map(lambda x: x*x,filter(lambda x: x%2==1 ,range(10)) ))\n",
    "print(mat)\n"
   ]
  },
  {
   "cell_type": "markdown",
   "metadata": {},
   "source": [
    "2\\. Convert the function $f$ into a function that doesn't use global variables and that does not modify the original list"
   ]
  },
  {
   "cell_type": "code",
   "execution_count": 16,
   "metadata": {},
   "outputs": [
    {
     "name": "stdout",
     "output_type": "stream",
     "text": [
      "[1, 2, 3, 0, 1, 2, 3, 4]\n",
      "[1, 2, 3, 0, 1, 2, 3, 4]\n"
     ]
    }
   ],
   "source": [
    "x = 5\n",
    "def f(alist):\n",
    "    for i in range(x):\n",
    "         alist.append(i)\n",
    "    return alist\n",
    "\n",
    "alist = [1,2,3]\n",
    "ans = f(alist)\n",
    "print(ans)\n",
    "print(alist) # alist has been changed!"
   ]
  },
  {
   "cell_type": "code",
   "execution_count": 17,
   "metadata": {},
   "outputs": [
    {
     "name": "stdout",
     "output_type": "stream",
     "text": [
      "[1, 2, 3, 0, 1, 2, 3, 4]\n",
      "[1, 2, 3, 0, 1, 2, 3, 4]\n"
     ]
    }
   ],
   "source": [
    "x = 5\n",
    "alist_temp =[]\n",
    "\n",
    "def f(alist):\n",
    "    alist_temp = alist\n",
    "    for i in range(x):\n",
    "         alist_temp.append(i)\n",
    "    return alist_temp\n",
    "\n",
    "alist = [1,2,3]\n",
    "ans = f(alist)\n",
    "\n",
    "print(ans)\n",
    "print(alist) "
   ]
  },
  {
   "cell_type": "markdown",
   "metadata": {},
   "source": [
    "3\\. Write a `decorator` hello that makes every wrapped function print “Hello!”, i.e. something like:\n",
    "\n",
    "```python\n",
    "@hello\n",
    "def square(x):\n",
    "    return x*x\n",
    "```\n",
    "\n"
   ]
  },
  {
   "cell_type": "code",
   "execution_count": 18,
   "metadata": {},
   "outputs": [
    {
     "name": "stdout",
     "output_type": "stream",
     "text": [
      "<function hello at 0x0000018B9F895B80> was called.\n",
      "Hello!\n"
     ]
    }
   ],
   "source": [
    "def my_decorator(f): \n",
    "    def log_f_as_called():\n",
    "        print(f'{f} was called.')\n",
    "        f()\n",
    "    return log_f_as_called\n",
    "\n",
    "@my_decorator\n",
    "def hello():\n",
    "    print('Hello!')\n",
    "    \n",
    "hello()"
   ]
  },
  {
   "cell_type": "markdown",
   "metadata": {},
   "source": [
    "4\\. Write the factorial function in two different ways, so that it a) does and b) does not use recursion."
   ]
  },
  {
   "cell_type": "code",
   "execution_count": 19,
   "metadata": {},
   "outputs": [
    {
     "name": "stdout",
     "output_type": "stream",
     "text": [
      "Factorial of 6 is(using recursive): 720\n",
      "Factorial of 6 is(using not recursive): 720\n"
     ]
    }
   ],
   "source": [
    "\n",
    "# a) does use recursion\n",
    "def recursive_factorial(n):\n",
    "   if n == 1:\n",
    "       return n\n",
    "   else:\n",
    "       return n*recursive_factorial(n-1)\n",
    "num = 6\n",
    "print(\"Factorial of\", num, \"is(using recursive):\", recursive_factorial(num))\n",
    "\n",
    "# b) does not use recursion\n",
    "def not_recursive_factorial(x):   \n",
    "    fact=1\n",
    "    for i in range(1,x+1):\n",
    "        fact=fact*i\n",
    "    print(\"Factorial of\", x, \"is(using not recursive):\", fact)\n",
    "    \n",
    "not_recursive_factorial(6)"
   ]
  },
  {
   "cell_type": "markdown",
   "metadata": {},
   "source": [
    "5\\. Use HOFs (zip in particular) to compute the weight of a circle, a disk and a sphere, assuming different radii and different densities:\n",
    "\n",
    "```python\n",
    "densities = {\"Al\" : [0.5, 1, 2], \"Fe\" : [3, 4, 5], \"Pb\" : [15, 20, 30]}\n",
    "radii = [1, 2, 3]\n",
    "```\n",
    "\n",
    "where the entries of the dictionary's values are the linear, superficial and volumetric densities of the materials respectively.\n",
    "\n",
    "Subsequently, define a list using a comprehension with three lambda functions that compute the circumference, the area and the volume for a given radius.\n"
   ]
  },
  {
   "cell_type": "code",
   "execution_count": 20,
   "metadata": {},
   "outputs": [
    {
     "name": "stdout",
     "output_type": "stream",
     "text": [
      "[('Al', 1), ('Fe', 2), ('Pb', 3)]\n",
      "radius is :  1  density is :  0.5\n",
      "3.24\n",
      "radius is :  1  density is :  1\n",
      "3.14\n",
      "radius is :  1  density is :  2\n",
      "8.373333333333333\n",
      "radius is :  2  density is :  3\n",
      "38.88\n",
      "radius is :  2  density is :  4\n",
      "50.24\n",
      "radius is :  2  density is :  5\n",
      "167.46666666666667\n",
      "radius is :  3  density is :  15\n",
      "291.6\n",
      "radius is :  3  density is :  20\n",
      "565.1999999999999\n",
      "radius is :  3  density is :  30\n",
      "3391.1999999999994\n",
      "############## LIST COMPHERENSION #############\n",
      "[[3.24, 3.14, 8.373333333333333], [38.88, 50.24, 167.46666666666667], [291.6, 565.1999999999999, 3391.1999999999994]]\n"
     ]
    }
   ],
   "source": [
    "densities = {\"Al\" : [0.5, 1, 2], \"Fe\" : [3, 4, 5], \"Pb\" : [15, 20, 30]}\n",
    "radii = [1, 2, 3]\n",
    "\n",
    "mapped = zip(densities, radii)\n",
    "print(list(mapped))\n",
    "\n",
    "circle = lambda r : 2*3.24*r\n",
    "disk = lambda r : 3.14*r*r\n",
    "sphere =  lambda r :4/3*3.14*r*r*r\n",
    "\n",
    "##  without using list compherension ##\n",
    "functions = [circle,disk,sphere]\n",
    "for x, y in zip(densities,radii):\n",
    "    for d, f in zip(densities[x],functions):\n",
    "        print(\"radius is : \",y, \" density is : \",d)\n",
    "        print(f(y)*d)\n",
    "\n",
    "## using list compherension ##\n",
    "print(\"############## LIST COMPHERENSION #############\")\n",
    "densities2 = [[0.5, 1, 2], [3, 4, 5],[15, 20, 30]]\n",
    "\n",
    "calculation_list = [[circle(r),disk(r),sphere(r)] for r in radii]\n",
    "result = [[a * b for a, b in zip(i, j)]for i, j in zip(calculation_list, densities2)]\n",
    "print(result)        "
   ]
  },
  {
   "cell_type": "markdown",
   "metadata": {},
   "source": [
    "6\\. Edit the class defintion to add an instance attribute of `is_hungry = True` to the Dog class. Then add a method called `eat()` which changes the value of `is_hungry` to `False` when called. Figure out the best way to instantiate the dog objects and to feed the dogs, e.g. call the `eat()` method for all instances. Finally, print “My dogs are hungry.” or “My dogs are not hungry.” if all of them have `is_hungry = True` or `False`, respectively. The final output should look like this:\n",
    "\n",
    "`I have 3 dogs. \n",
    "Tom is 6. \n",
    "Fletcher is 7. \n",
    "Larry is 9. \n",
    "And they're all mammals, of course. \n",
    "My dogs are not hungry.\n",
    "`\n",
    "\n",
    "```python\n",
    "# Parent class\n",
    "class Dog:\n",
    "\n",
    "    # Class attribute\n",
    "    species = 'mammal'\n",
    "\n",
    "    # Initializer / Instance attributes\n",
    "    def __init__(self, name, age):\n",
    "        self.name = name\n",
    "        self.age = age\n",
    "\n",
    "    # instance method\n",
    "    def description(self):\n",
    "        return \"{} is {} years old\".format(self.name, self.age)\n",
    "\n",
    "    # instance method\n",
    "    def speak(self, sound):\n",
    "        return \"{} says {}\".format(self.name, sound)\n",
    "\n",
    "# Child class (inherits from Dog class)\n",
    "class RussellTerrier(Dog):\n",
    "    def run(self, speed):\n",
    "        return \"{} runs {}\".format(self.name, speed)\n",
    "\n",
    "# Child class (inherits from Dog class)\n",
    "class Bulldog(Dog):\n",
    "    def run(self, speed):\n",
    "        return \"{} runs {}\".format(self.name, speed)\n",
    "```"
   ]
  },
  {
   "cell_type": "code",
   "execution_count": 21,
   "metadata": {},
   "outputs": [
    {
     "name": "stdout",
     "output_type": "stream",
     "text": [
      "I have 3 dogs.\n",
      "Tom is 6.\n",
      "Fletcher is 7.\n",
      "Larry is 9.\n",
      "And they're all mammals, of course.\n",
      "My dogs are not hungry.\n"
     ]
    }
   ],
   "source": [
    "class Pets:\n",
    "    dogs = []\n",
    "    def __init__(self, dogs):\n",
    "        self.dogs = dogs\n",
    "class Dog:\n",
    "    species = 'mammal'\n",
    "    def __init__(self, name, age):\n",
    "        self.name = name\n",
    "        self.age = age\n",
    "        self.is_hungry = True\n",
    "    def description(self):\n",
    "        return self.name, self.age\n",
    "    def speak(self, sound):\n",
    "        return \"%s says %s\" % (self.name, sound)\n",
    "    def eat(self):\n",
    "        self.is_hungry = False\n",
    "class RussellTerrier(Dog):\n",
    "    def run(self, speed):\n",
    "        return \"%s runs %s\" % (self.name, speed)\n",
    "class Bulldog(Dog):\n",
    "    def run(self, speed):\n",
    "        return \"%s runs %s\" % (self.name, speed)\n",
    "my_dogs = [\n",
    "    Bulldog(\"Tom\", 6), \n",
    "    RussellTerrier(\"Fletcher\", 7), \n",
    "    Dog(\"Larry\", 9)\n",
    "]\n",
    "my_pets = Pets(my_dogs)\n",
    "\n",
    "print(\"I have {} dogs.\".format(len(my_pets.dogs)))\n",
    "for dog in my_pets.dogs:\n",
    "    dog.eat()\n",
    "    print(\"{} is {}.\".format(dog.name, dog.age))\n",
    "print(\"And they're all {}s, of course.\".format(dog.species))\n",
    "are_my_dogs_hungry = False\n",
    "for dog in my_pets.dogs:\n",
    "    if dog.is_hungry:\n",
    "        are_my_dogs_hungry = True\n",
    "if are_my_dogs_hungry:\n",
    "    print(\"My dogs are hungry.\")\n",
    "else:\n",
    "    print(\"My dogs are not hungry.\")"
   ]
  },
  {
   "cell_type": "code",
   "execution_count": null,
   "metadata": {},
   "outputs": [],
   "source": []
  }
 ],
 "metadata": {
  "kernelspec": {
   "display_name": "Python 3",
   "language": "python",
   "name": "python3"
  },
  "language_info": {
   "codemirror_mode": {
    "name": "ipython",
    "version": 3
   },
   "file_extension": ".py",
   "mimetype": "text/x-python",
   "name": "python",
   "nbconvert_exporter": "python",
   "pygments_lexer": "ipython3",
   "version": "3.8.5"
  }
 },
 "nbformat": 4,
 "nbformat_minor": 2
}
