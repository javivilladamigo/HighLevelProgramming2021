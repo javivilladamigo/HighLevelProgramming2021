{
 "cells": [
  {
   "cell_type": "markdown",
   "metadata": {},
   "source": [
    "1. The HelloWorld replacement\n",
    "\n",
    "a) Write a program that prints the numbers from 1 to 100. But for multiples of three print \"Hello\" instead of the number and for the multiples of five print \"World\". For numbers which are multiples of both three and five print \"HelloWorld\".\n",
    "\n",
    "b) Put the result in a tuple and substitute \"Hello\" with \"Python\" and \"World\" with \"Works\"."
   ]
  },
  {
   "cell_type": "code",
   "execution_count": 33,
   "metadata": {},
   "outputs": [
    {
     "name": "stdout",
     "output_type": "stream",
     "text": [
      "1\n",
      "2\n",
      "Hello\n",
      "4\n",
      "world\n",
      "Hello\n",
      "7\n",
      "8\n",
      "Hello\n",
      "world\n",
      "11\n",
      "Hello\n",
      "13\n",
      "14\n",
      "HelloWorld\n",
      "16\n",
      "17\n",
      "Hello\n",
      "19\n",
      "world\n",
      "Hello\n",
      "22\n",
      "23\n",
      "Hello\n",
      "world\n",
      "26\n",
      "Hello\n",
      "28\n",
      "29\n",
      "HelloWorld\n",
      "31\n",
      "32\n",
      "Hello\n",
      "34\n",
      "world\n",
      "Hello\n",
      "37\n",
      "38\n",
      "Hello\n",
      "world\n",
      "41\n",
      "Hello\n",
      "43\n",
      "44\n",
      "HelloWorld\n",
      "46\n",
      "47\n",
      "Hello\n",
      "49\n",
      "world\n",
      "Hello\n",
      "52\n",
      "53\n",
      "Hello\n",
      "world\n",
      "56\n",
      "Hello\n",
      "58\n",
      "59\n",
      "HelloWorld\n",
      "61\n",
      "62\n",
      "Hello\n",
      "64\n",
      "world\n",
      "Hello\n",
      "67\n",
      "68\n",
      "Hello\n",
      "world\n",
      "71\n",
      "Hello\n",
      "73\n",
      "74\n",
      "HelloWorld\n",
      "76\n",
      "77\n",
      "Hello\n",
      "79\n",
      "world\n",
      "Hello\n",
      "82\n",
      "83\n",
      "Hello\n",
      "world\n",
      "86\n",
      "Hello\n",
      "88\n",
      "89\n",
      "HelloWorld\n",
      "91\n",
      "92\n",
      "Hello\n",
      "94\n",
      "world\n",
      "Hello\n",
      "97\n",
      "98\n",
      "Hello\n"
     ]
    }
   ],
   "source": [
    "# 1A Solution\n",
    "\n",
    "for i in range(1,100):\n",
    "    if (i%3 == 0) and (i%5 == 0):\n",
    "        print('HelloWorld')\n",
    "    elif (i%3 == 0):\n",
    "        print('Hello')\n",
    "    elif (i%5 == 0):\n",
    "        print('world')\n",
    "    else:\n",
    "        print(i)\n",
    "        "
   ]
  },
  {
   "cell_type": "code",
   "execution_count": 34,
   "metadata": {},
   "outputs": [
    {
     "name": "stdout",
     "output_type": "stream",
     "text": [
      "(1, 2, 'python', 4, 'Works', 'python', 7, 8, 'python', 'Works', 11, 'python', 13, 14, 'HelloWorld', 16, 17, 'python', 19, 'Works', 'python', 22, 23, 'python', 'Works', 26, 'python', 28, 29, 'HelloWorld', 31, 32, 'python', 34, 'Works', 'python', 37, 38, 'python', 'Works', 41, 'python', 43, 44, 'HelloWorld', 46, 47, 'python', 49, 'Works', 'python', 52, 53, 'python', 'Works', 56, 'python', 58, 59, 'HelloWorld', 61, 62, 'python', 64, 'Works', 'python', 67, 68, 'python', 'Works', 71, 'python', 73, 74, 'HelloWorld', 76, 77, 'python', 79, 'Works', 'python', 82, 83, 'python', 'Works', 86, 'python', 88, 89, 'HelloWorld', 91, 92, 'python', 94, 'Works', 'python', 97, 98, 'python')\n"
     ]
    }
   ],
   "source": [
    "# 1b Sloution\n",
    "\n",
    "myList = []\n",
    "for i in range(1,100):\n",
    "    if (i%3 == 0) and (i%5 == 0):\n",
    "        myList.append('HelloWorld')\n",
    "    elif (i%3 == 0):\n",
    "        myList.append('python')\n",
    "    elif (i%5 == 0):\n",
    "        myList.append('Works')\n",
    "    else:\n",
    "        myList.append(i)\n",
    "myTuple = tuple(myList)\n",
    "print(myTuple)"
   ]
  },
  {
   "cell_type": "markdown",
   "metadata": {},
   "source": [
    "2\\. The swap function\n",
    "\n",
    "Write a function that swap the values of two input variables x and y (whatever the type). Try to do that also without a temporary variable"
   ]
  },
  {
   "cell_type": "code",
   "execution_count": 36,
   "metadata": {},
   "outputs": [
    {
     "name": "stdout",
     "output_type": "stream",
     "text": [
      "please input the first variable: 20\n",
      "please input the second variable: 5\n",
      "20 5\n",
      "5 20\n"
     ]
    }
   ],
   "source": [
    "# Solution\n",
    "\n",
    "x = input('please input the first variable: ')\n",
    "y = input('please input the second variable: ')\n",
    "print(x, y)\n",
    "x, y = y, x\n",
    "print(x, y)"
   ]
  },
  {
   "cell_type": "markdown",
   "metadata": {},
   "source": [
    "3\\. Computing the distance\n",
    "\n",
    "Write a function that calculates and returns the euclidean distance between two points *u* and *v*, where *u* and *v* are both 2-tuples *(x,y)*. For example, if *u=(3,0)* and *v=(0,4)*, the function should return 5"
   ]
  },
  {
   "cell_type": "code",
   "execution_count": 37,
   "metadata": {},
   "outputs": [
    {
     "name": "stdout",
     "output_type": "stream",
     "text": [
      "5.0\n"
     ]
    }
   ],
   "source": [
    "# Solution\n",
    "\n",
    "def euclideandistance(u,v):\n",
    "    return (((u[0]-v[0])**2) + (u[1]-v[1])**2)**(1/2)\n",
    "print(euclideandistance((3,0),(0,4)))"
   ]
  },
  {
   "cell_type": "markdown",
   "metadata": {},
   "source": [
    "4\\. Counting letters\n",
    "\n",
    "Write a program to calculate the number of times each character occurs in a given string *s*. Ignore differences in capitalization"
   ]
  },
  {
   "cell_type": "code",
   "execution_count": 38,
   "metadata": {},
   "outputs": [
    {
     "name": "stdout",
     "output_type": "stream",
     "text": [
      "{'m': 1, 'a': 8, 'r': 1, 'i': 1, 'n': 2, ' ': 3, 's': 2, 'h': 2, 't': 1, 'd': 1, 'l': 1, 'y': 1, 'q': 1}\n"
     ]
    }
   ],
   "source": [
    "# Solution\n",
    "\n",
    "X = 'Marian Nashaat Adly Ashaq'\n",
    "counters = {}\n",
    "for letter in X:\n",
    "    Y= letter.lower()\n",
    "    if Y in counters:\n",
    "        counters[Y] = counters[Y] +1\n",
    "    else:\n",
    "        counters[Y] = 1\n",
    "    \n",
    "print(counters)"
   ]
  },
  {
   "cell_type": "code",
   "execution_count": 2,
   "metadata": {},
   "outputs": [],
   "source": [
    "s = \"Write a program that prints the numbers from 1 to 100. \\\n",
    "But for multiples of three print Hello instead of the number and for the multiples of five print World. \\\n",
    "For numbers which are multiples of both three and five print HelloWorld.\""
   ]
  },
  {
   "cell_type": "code",
   "execution_count": 39,
   "metadata": {},
   "outputs": [
    {
     "name": "stdout",
     "output_type": "stream",
     "text": [
      "1\n",
      "2\n",
      "Hello\n",
      "4\n",
      "world\n",
      "Hello\n",
      "7\n",
      "8\n",
      "Hello\n",
      "world\n",
      "11\n",
      "Hello\n",
      "13\n",
      "14\n",
      "HelloWorld\n",
      "16\n",
      "17\n",
      "Hello\n",
      "19\n",
      "world\n",
      "Hello\n",
      "22\n",
      "23\n",
      "Hello\n",
      "world\n",
      "26\n",
      "Hello\n",
      "28\n",
      "29\n",
      "HelloWorld\n",
      "31\n",
      "32\n",
      "Hello\n",
      "34\n",
      "world\n",
      "Hello\n",
      "37\n",
      "38\n",
      "Hello\n",
      "world\n",
      "41\n",
      "Hello\n",
      "43\n",
      "44\n",
      "HelloWorld\n",
      "46\n",
      "47\n",
      "Hello\n",
      "49\n",
      "world\n",
      "Hello\n",
      "52\n",
      "53\n",
      "Hello\n",
      "world\n",
      "56\n",
      "Hello\n",
      "58\n",
      "59\n",
      "HelloWorld\n",
      "61\n",
      "62\n",
      "Hello\n",
      "64\n",
      "world\n",
      "Hello\n",
      "67\n",
      "68\n",
      "Hello\n",
      "world\n",
      "71\n",
      "Hello\n",
      "73\n",
      "74\n",
      "HelloWorld\n",
      "76\n",
      "77\n",
      "Hello\n",
      "79\n",
      "world\n",
      "Hello\n",
      "82\n",
      "83\n",
      "Hello\n",
      "world\n",
      "86\n",
      "Hello\n",
      "88\n",
      "89\n",
      "HelloWorld\n",
      "91\n",
      "92\n",
      "Hello\n",
      "94\n",
      "world\n",
      "Hello\n",
      "97\n",
      "98\n",
      "Hello\n"
     ]
    }
   ],
   "source": [
    "# Solution\n",
    "\n",
    "for i in range(1,100):\n",
    "    if (i%3 == 0) and (i%5 == 0):\n",
    "        print('HelloWorld')\n",
    "    elif (i%3 == 0):\n",
    "        print('Hello')\n",
    "    elif (i%5 == 0):\n",
    "        print('world')\n",
    "    else:\n",
    "        print(i)"
   ]
  },
  {
   "cell_type": "markdown",
   "metadata": {},
   "source": [
    "5\\. Isolating the unique\n",
    "\n",
    "Write a function that determines and count the unique numbers in the list:"
   ]
  },
  {
   "cell_type": "code",
   "execution_count": 40,
   "metadata": {},
   "outputs": [],
   "source": [
    "l = [36, 45, 58, 3, 74, 96, 64, 45, 31, 10, 24, 19, 33, 86, 99, 18, 63, 70, 85,\n",
    " 85, 63, 47, 56, 42, 70, 84, 88, 55, 20, 54, 8, 56, 51, 79, 81, 57, 37, 91,\n",
    " 1, 84, 84, 36, 66, 9, 89, 50, 42, 91, 50, 95, 90, 98, 39, 16, 82, 31, 92, 41,\n",
    " 45, 30, 66, 70, 34, 85, 94, 5, 3, 36, 72, 91, 84, 34, 87, 75, 53, 51, 20, 89, 51, 20]"
   ]
  },
  {
   "cell_type": "markdown",
   "metadata": {},
   "source": [
    "Do the same without using user-defined functions, but exploiting only the Python data structures."
   ]
  },
  {
   "cell_type": "code",
   "execution_count": 41,
   "metadata": {},
   "outputs": [
    {
     "name": "stdout",
     "output_type": "stream",
     "text": [
      "{'count': 37, 'list': [58, 74, 96, 64, 10, 24, 19, 33, 86, 99, 18, 47, 88, 55, 54, 8, 79, 81, 57, 37, 1, 9, 95, 90, 98, 39, 16, 82, 92, 41, 30, 94, 5, 72, 87, 75, 53]}\n"
     ]
    }
   ],
   "source": [
    "# Solution\n",
    "\n",
    "l = [36, 45, 58, 3, 74, 96, 64, 45, 31, 10, 24, 19, 33, 86, 99, 18, 63, 70, 85,\n",
    " 85, 63, 47, 56, 42, 70, 84, 88, 55, 20, 54, 8, 56, 51, 79, 81, 57, 37, 91,\n",
    " 1, 84, 84, 36, 66, 9, 89, 50, 42, 91, 50, 95, 90, 98, 39, 16, 82, 31, 92, 41,\n",
    " 45, 30, 66, 70, 34, 85, 94, 5, 3, 36, 72, 91, 84, 34, 87, 75, 53, 51, 20, 89, 51, 20]\n",
    "list = [num for num in l if l.count(num) == 1]\n",
    "print({'count': len(list), 'list': list})"
   ]
  },
  {
   "cell_type": "markdown",
   "metadata": {},
   "source": [
    "6\\. Combination of functions\n",
    "\n",
    "Write two functions - one that returns the square of a number, and one that returns the cube. Now write a third function that returns the number raised to the 6th power using the two previous functions."
   ]
  },
  {
   "cell_type": "code",
   "execution_count": 42,
   "metadata": {},
   "outputs": [
    {
     "name": "stdout",
     "output_type": "stream",
     "text": [
      "9\n",
      "27\n",
      "729\n"
     ]
    }
   ],
   "source": [
    "# Solution\n",
    "\n",
    "def sqrt(num):\n",
    "    return num**2\n",
    "def cube(num):\n",
    "    return num**3\n",
    "def sixth(num):\n",
    "    return cube(sqrt(num))\n",
    "print(sqrt(3))\n",
    "print(cube(3))\n",
    "print(sixth(3))"
   ]
  },
  {
   "cell_type": "markdown",
   "metadata": {},
   "source": [
    "7\\. Cubes\n",
    "\n",
    "Create a list of the cubes of x for x in *[0, 10]* using:\n",
    "\n",
    "a) a for loop\n",
    "\n",
    "b) a list comprehension"
   ]
  },
  {
   "cell_type": "code",
   "execution_count": 43,
   "metadata": {},
   "outputs": [
    {
     "name": "stdout",
     "output_type": "stream",
     "text": [
      "[0, 1, 8, 27, 64, 125, 216, 343, 512, 729]\n",
      "[0, 1, 8, 27, 64, 125, 216, 343, 512, 729]\n"
     ]
    }
   ],
   "source": [
    "# A Solution\n",
    "\n",
    "list1 = [ x**3 for x in range(0,10)]\n",
    "print(list1)\n",
    "\n",
    "#b Solution\n",
    "\n",
    "list2 = []\n",
    "for x in range(0,10):\n",
    "    list2.append(x**3)\n",
    "print(list2)"
   ]
  },
  {
   "cell_type": "markdown",
   "metadata": {},
   "source": [
    "8\\. Nested list comprehension\n",
    "\n",
    "A Pythagorean triple is an integer solution to the Pythagorean theorem $a^2+b^2=c^2$. The first Pythagorean triple is (3,4,5). Find and put in a tuple all unique Pythagorean triples for the positive integers a, b and c less than 100."
   ]
  },
  {
   "cell_type": "code",
   "execution_count": 44,
   "metadata": {},
   "outputs": [
    {
     "name": "stdout",
     "output_type": "stream",
     "text": [
      "3 4 5\n",
      "5 12 13\n",
      "6 8 10\n",
      "7 24 25\n",
      "8 15 17\n",
      "9 12 15\n",
      "9 40 41\n",
      "10 24 26\n",
      "11 60 61\n",
      "12 16 20\n",
      "12 35 37\n",
      "13 84 85\n",
      "14 48 50\n",
      "15 20 25\n",
      "15 36 39\n",
      "16 30 34\n",
      "16 63 65\n",
      "18 24 30\n",
      "18 80 82\n",
      "20 21 29\n",
      "20 48 52\n",
      "21 28 35\n",
      "21 72 75\n",
      "24 32 40\n",
      "24 45 51\n",
      "24 70 74\n",
      "25 60 65\n",
      "27 36 45\n",
      "28 45 53\n",
      "28 96 100\n",
      "30 40 50\n",
      "30 72 78\n",
      "32 60 68\n",
      "33 44 55\n",
      "33 56 65\n",
      "35 84 91\n",
      "36 48 60\n",
      "36 77 85\n",
      "39 52 65\n",
      "39 80 89\n",
      "40 42 58\n",
      "40 75 85\n",
      "42 56 70\n",
      "45 60 75\n",
      "48 55 73\n",
      "48 64 80\n",
      "51 68 85\n",
      "54 72 90\n",
      "57 76 95\n",
      "60 63 87\n",
      "60 80 100\n",
      "65 72 97\n"
     ]
    }
   ],
   "source": [
    "# Solution\n",
    "\n",
    "for a in range(1,100):\n",
    "    for b in range(a,100):\n",
    "        c = (a**2 + b**2)**(1/2)\n",
    "        if(c > 100): break\n",
    "        if(c.is_integer()):\n",
    "            print(a,b,int(c))"
   ]
  },
  {
   "cell_type": "markdown",
   "metadata": {},
   "source": [
    "9\\. Normalization\n",
    "\n",
    "Write a function that takes a tuple of numbers and returns it with the entries normalized to one"
   ]
  },
  {
   "cell_type": "code",
   "execution_count": 1,
   "metadata": {},
   "outputs": [
    {
     "name": "stdout",
     "output_type": "stream",
     "text": [
      "[0.06, 0.1, 0.14, 0.4, 1.0]\n"
     ]
    }
   ],
   "source": [
    "# Solution\n",
    "\n",
    "def normalize(list):\n",
    "    maxNum = max(list)\n",
    "    return [x/maxNum for x in list]\n",
    "\n",
    "print(normalize([3,5,7,20,50]))"
   ]
  }
 ],
 "metadata": {
  "kernelspec": {
   "display_name": "Python 3",
   "language": "python",
   "name": "python3"
  },
  "language_info": {
   "codemirror_mode": {
    "name": "ipython",
    "version": 3
   },
   "file_extension": ".py",
   "mimetype": "text/x-python",
   "name": "python",
   "nbconvert_exporter": "python",
   "pygments_lexer": "ipython3",
   "version": "3.8.8"
  }
 },
 "nbformat": 4,
 "nbformat_minor": 2
}
