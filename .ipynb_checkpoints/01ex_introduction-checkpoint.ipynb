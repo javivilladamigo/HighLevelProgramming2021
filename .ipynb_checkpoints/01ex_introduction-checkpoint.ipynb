{
 "cells": [
  {
   "cell_type": "markdown",
   "metadata": {},
   "source": [
    "1. The HelloWorld replacement\n",
    "\n",
    "a) Write a program that prints the numbers from 1 to 100. But for multiples of three print \"Hello\" instead of the number and for the multiples of five print \"World\". For numbers which are multiples of both three and five print \"HelloWorld\".\n",
    "\n",
    "b) Put the result in a tuple and substitute \"Hello\" with \"Python\" and \"World\" with \"Works\"."
   ]
  },
  {
   "cell_type": "code",
   "execution_count": 1,
   "metadata": {},
   "outputs": [
    {
     "name": "stdout",
     "output_type": "stream",
     "text": [
      "1\n",
      "2\n",
      "Hello\n",
      "4\n",
      "world\n",
      "Hello\n",
      "7\n",
      "8\n",
      "Hello\n",
      "world\n",
      "11\n",
      "Hello\n",
      "13\n",
      "14\n",
      "Hello world\n",
      "16\n",
      "17\n",
      "Hello\n",
      "19\n",
      "world\n",
      "Hello\n",
      "22\n",
      "23\n",
      "Hello\n",
      "world\n",
      "26\n",
      "Hello\n",
      "28\n",
      "29\n",
      "Hello world\n",
      "31\n",
      "32\n",
      "Hello\n",
      "34\n",
      "world\n",
      "Hello\n",
      "37\n",
      "38\n",
      "Hello\n",
      "world\n",
      "41\n",
      "Hello\n",
      "43\n",
      "44\n",
      "Hello world\n",
      "46\n",
      "47\n",
      "Hello\n",
      "49\n",
      "world\n",
      "Hello\n",
      "52\n",
      "53\n",
      "Hello\n",
      "world\n",
      "56\n",
      "Hello\n",
      "58\n",
      "59\n",
      "Hello world\n",
      "61\n",
      "62\n",
      "Hello\n",
      "64\n",
      "world\n",
      "Hello\n",
      "67\n",
      "68\n",
      "Hello\n",
      "world\n",
      "71\n",
      "Hello\n",
      "73\n",
      "74\n",
      "Hello world\n",
      "76\n",
      "77\n",
      "Hello\n",
      "79\n",
      "world\n",
      "Hello\n",
      "82\n",
      "83\n",
      "Hello\n",
      "world\n",
      "86\n",
      "Hello\n",
      "88\n",
      "89\n",
      "Hello world\n",
      "91\n",
      "92\n",
      "Hello\n",
      "94\n",
      "world\n",
      "Hello\n",
      "97\n",
      "98\n",
      "Hello\n"
     ]
    }
   ],
   "source": [
    "#a\n",
    "for i in range(1,100):\n",
    " if (i%3==0) and (i%5==0) :\n",
    "     print(\"Hello world\")\n",
    " elif i%5==0:\n",
    "    print(\"world\")\n",
    " elif (i%3==0):\n",
    "    print(\"Hello\")\n",
    " else:\n",
    "    print(i)"
   ]
  },
  {
   "cell_type": "code",
   "execution_count": 2,
   "metadata": {},
   "outputs": [
    {
     "name": "stdout",
     "output_type": "stream",
     "text": [
      "[1, 2, 'Hello', 4, 'World', 'Hello', 7, 8, 'Hello', 'World', 11, 'Hello', 13, 14, 'Hello World', 16, 17, 'Hello', 19, 'World', 'Hello', 22, 23, 'Hello', 'World', 26, 'Hello', 28, 29, 'Hello World', 31, 32, 'Hello', 34, 'World', 'Hello', 37, 38, 'Hello', 'World', 41, 'Hello', 43, 44, 'Hello World', 46, 47, 'Hello', 49, 'World', 'Hello', 52, 53, 'Hello', 'World', 56, 'Hello', 58, 59, 'Hello World', 61, 62, 'Hello', 64, 'World', 'Hello', 67, 68, 'Hello', 'World', 71, 'Hello', 73, 74, 'Hello World', 76, 77, 'Hello', 79, 'World', 'Hello', 82, 83, 'Hello', 'World', 86, 'Hello', 88, 89, 'Hello World', 91, 92, 'Hello', 94, 'World', 'Hello', 97, 98, 'Hello', 'World']\n"
     ]
    }
   ],
   "source": [
    "a=[]\n",
    "for i in range(1,101):\n",
    " if (i%3==0) and (i%5==0) :\n",
    "     a.append(\"Hello World\")\n",
    "     #print(\"Hello world\")\n",
    " elif i%5==0:\n",
    "     a.append(\"World\")\n",
    "    #print(\"world\")\n",
    " elif (i%3==0):\n",
    "     a.append(\"Hello\")\n",
    "    #print(\"Hello\")\n",
    " else:\n",
    "    #print(i)\n",
    "    a.append(i)\n",
    "print(a)"
   ]
  },
  {
   "cell_type": "code",
   "execution_count": 3,
   "metadata": {},
   "outputs": [
    {
     "name": "stdout",
     "output_type": "stream",
     "text": [
      "[1, 2, 'Python', 4, 'Works', 'Python', 7, 8, 'Python', 'Works', 11, 'Python', 13, 14, 'Python Works', 16, 17, 'Python', 19, 'Works', 'Python', 22, 23, 'Python', 'Works', 26, 'Python', 28, 29, 'Python Works', 31, 32, 'Python', 34, 'Works', 'Python', 37, 38, 'Python', 'Works', 41, 'Python', 43, 44, 'Python Works', 46, 47, 'Python', 49, 'Works', 'Python', 52, 53, 'Python', 'Works', 56, 'Python', 58, 59, 'Python Works', 61, 62, 'Python', 64, 'Works', 'Python', 67, 68, 'Python', 'Works', 71, 'Python', 73, 74, 'Python Works', 76, 77, 'Python', 79, 'Works', 'Python', 82, 83, 'Python', 'Works', 86, 'Python', 88, 89, 'Python Works', 91, 92, 'Python', 94, 'Works', 'Python', 97, 98, 'Python', 'Works']\n",
      "(1, 2, 'Python', 4, 'Works', 'Python', 7, 8, 'Python', 'Works', 11, 'Python', 13, 14, 'Python Works', 16, 17, 'Python', 19, 'Works', 'Python', 22, 23, 'Python', 'Works', 26, 'Python', 28, 29, 'Python Works', 31, 32, 'Python', 34, 'Works', 'Python', 37, 38, 'Python', 'Works', 41, 'Python', 43, 44, 'Python Works', 46, 47, 'Python', 49, 'Works', 'Python', 52, 53, 'Python', 'Works', 56, 'Python', 58, 59, 'Python Works', 61, 62, 'Python', 64, 'Works', 'Python', 67, 68, 'Python', 'Works', 71, 'Python', 73, 74, 'Python Works', 76, 77, 'Python', 79, 'Works', 'Python', 82, 83, 'Python', 'Works', 86, 'Python', 88, 89, 'Python Works', 91, 92, 'Python', 94, 'Works', 'Python', 97, 98, 'Python', 'Works')\n"
     ]
    }
   ],
   "source": [
    "#b\n",
    "for i in range(1,100):\n",
    "    if a[i]==\"World\":\n",
    "        a[i]=\"Works\"\n",
    "    elif a[i]==\"Hello\":\n",
    "        a[i]=\"Python\"\n",
    "    elif a[i]==\"Hello World\":\n",
    "        a[i]= \"Python Works\"\n",
    "print(a)\n",
    "x=tuple(a)\n",
    "print(x)"
   ]
  },
  {
   "cell_type": "markdown",
   "metadata": {},
   "source": [
    "2.The swap function\n",
    "\n",
    "Write a function that swap the values of two input variables x and y (whatever the type). Try to do that also without a temporary variable"
   ]
  },
  {
   "cell_type": "code",
   "execution_count": null,
   "metadata": {},
   "outputs": [],
   "source": [
    "#with temporary variable\n",
    "x = input('Enter the value of x: ')\n",
    "y = input('Enter the value of y: ')\n",
    "Temp=x\n",
    "x=y\n",
    "y=Temp\n",
    "print(x)\n",
    "print(y)"
   ]
  },
  {
   "cell_type": "code",
   "execution_count": null,
   "metadata": {},
   "outputs": [],
   "source": [
    "#Without temporary variable\n",
    "x = input( \"Enter value of x :\")\n",
    "y = input (\"Enter value of y :\")\n",
    "def swap_fun(x1,y1):\n",
    "    global x\n",
    "    x=y1\n",
    "    global y\n",
    "    y=x1\n",
    "    print(x)\n",
    "    print(y)\n",
    "\n",
    "swap_fun(x,y)\n"
   ]
  },
  {
   "cell_type": "markdown",
   "metadata": {},
   "source": [
    "3\\. Computing the distance\n",
    "\n",
    "Write a function that calculates and returns the euclidean distance between two points *u* and *v*, where *u* and *v* are both 2-tuples *(x,y)*. For example, if *u=(3,0)* and *v=(0,4)*, the function should return 5"
   ]
  },
  {
   "cell_type": "code",
   "execution_count": null,
   "metadata": {},
   "outputs": [],
   "source": [
    "(x,y) = input(\"Enter (x,y) : \")\n",
    "(a,b) = input(\"Enter (a,b) : \")\n",
    "import math\n",
    "def dis_fun(x,y,a,b):\n",
    "    distance = math.sqrt((x-a)**2+(a-b)**2)\n",
    "    return distance\n",
    "print(dis_fun(x,y,a,b))"
   ]
  },
  {
   "cell_type": "markdown",
   "metadata": {},
   "source": [
    "4\\. Counting letters\n",
    "\n",
    "Write a program to calculate the number of times each character occurs in a given string *s*. Ignore differences in capitalization"
   ]
  },
  {
   "cell_type": "code",
   "execution_count": 2,
   "metadata": {},
   "outputs": [],
   "source": [
    "s = \"Write a program that prints the numbers from 1 to 100. \\\n",
    "But for multiples of three print Hello instead of the number and for the multiples of five print World. \\\n",
    "For numbers which are multiples of both three and five print HelloWorld.\""
   ]
  },
  {
   "cell_type": "code",
   "execution_count": null,
   "metadata": {},
   "outputs": [],
   "source": [
    "s = \"Write a program that prints the numbers from 1 to 100. \\\n",
    "But for multiples of three print Hello instead of the number and for the multiples of five print World. \\\n",
    "For numbers which are multiples of both three and five print HelloWorld.\"\n",
    "s = s.lower()\n",
    "a = list(s)\n",
    "for x in list(s):\n",
    "    print(a.count(x))"
   ]
  },
  {
   "cell_type": "markdown",
   "metadata": {},
   "source": [
    "5\\. Isolating the unique\n",
    "\n",
    "Write a function that determines and count the unique numbers in the list:"
   ]
  },
  {
   "cell_type": "code",
   "execution_count": 5,
   "metadata": {},
   "outputs": [],
   "source": [
    "l = [36, 45, 58, 3, 74, 96, 64, 45, 31, 10, 24, 19, 33, 86, 99, 18, 63, 70, 85,\n",
    " 85, 63, 47, 56, 42, 70, 84, 88, 55, 20, 54, 8, 56, 51, 79, 81, 57, 37, 91,\n",
    " 1, 84, 84, 36, 66, 9, 89, 50, 42, 91, 50, 95, 90, 98, 39, 16, 82, 31, 92, 41,\n",
    " 45, 30, 66, 70, 34, 85, 94, 5, 3, 36, 72, 91, 84, 34, 87, 75, 53, 51, 20, 89, 51, 20]"
   ]
  },
  {
   "cell_type": "markdown",
   "metadata": {},
   "source": [
    "Do the same without using user-defined functions, but exploiting only the Python data structures."
   ]
  },
  {
   "cell_type": "code",
   "execution_count": null,
   "metadata": {},
   "outputs": [],
   "source": [
    "l = [36, 45, 58, 3, 74, 96, 64, 45, 31, 10, 24, 19, 33, 86, 99, 18, 63, 70, 85,\n",
    " 85, 63, 47, 56, 42, 70, 84, 88, 55, 20, 54, 8, 56, 51, 79, 81, 57, 37, 91,\n",
    " 1, 84, 84, 36, 66, 9, 89, 50, 42, 91, 50, 95, 90, 98, 39, 16, 82, 31, 92, 41,\n",
    " 45, 30, 66, 70, 34, 85, 94, 5, 3, 36, 72, 91, 84, 34, 87, 75, 53, 51, 20, 89, 51, 20]\n",
    "unique_list=[]\n",
    "count=0\n",
    "\n",
    "for a in l:\n",
    "    if a not in unique_list:\n",
    "        unique_list.append(a)\n",
    "        count+=1\n",
    "\n",
    "\n",
    "print(unique_list)\n",
    "print(count)\n"
   ]
  },
  {
   "cell_type": "markdown",
   "metadata": {},
   "source": [
    "6\\. Combination of functions\n",
    "\n",
    "Write two functions - one that returns the square of a number, and one that returns the cube. Now write a third function that returns the number raised to the 6th power using the two previous functions."
   ]
  },
  {
   "cell_type": "code",
   "execution_count": null,
   "metadata": {},
   "outputs": [],
   "source": [
    "x=int(input(\"Enter a number: \"))\n",
    "squr=x*x\n",
    "cub=x*x*x\n",
    "p=squr*cub*x\n",
    "print(p)"
   ]
  },
  {
   "cell_type": "markdown",
   "metadata": {},
   "source": [
    "7\\. Cubes\n",
    "\n",
    "Create a list of the cubes of x for x in *[0, 10]* using:\n",
    "\n",
    "a) a for loop\n",
    "\n",
    "b) a list comprehension"
   ]
  },
  {
   "cell_type": "code",
   "execution_count": null,
   "metadata": {},
   "outputs": [],
   "source": [
    "#a\n",
    "a=[]\n",
    "for x in range(11):\n",
    "    cube=x*x*x\n",
    "    a.append((cube))\n",
    "print(a)"
   ]
  },
  {
   "cell_type": "code",
   "execution_count": null,
   "metadata": {},
   "outputs": [],
   "source": [
    "#b\n",
    "newlist=[x*x*x  for x in range(11)]\n",
    "\n",
    "print(newlist)\n"
   ]
  },
  {
   "cell_type": "markdown",
   "metadata": {},
   "source": [
    "8\\. Nested list comprehension\n",
    "\n",
    "A Pythagorean triple is an integer solution to the Pythagorean theorem $a^2+b^2=c^2$. The first Pythagorean triple is (3,4,5). Find and put in a tuple all unique Pythagorean triples for the positive integers a, b and c less than 100."
   ]
  },
  {
   "cell_type": "code",
   "execution_count": null,
   "metadata": {},
   "outputs": [],
   "source": [
    "q = []\n",
    "for a in range(1, 100):\n",
    "    for b in range(1, 100):\n",
    "        for c in range(1, 100):\n",
    "            if c ** 2 == a ** 2 + b ** 2:\n",
    "                if a < b:\n",
    "                    q.append([a, b, c])\n",
    "\n",
    "print(q)"
   ]
  },
  {
   "cell_type": "markdown",
   "metadata": {},
   "source": [
    "9\\. Normalization\n",
    "\n",
    "Write a function that takes a tuple of numbers and returns it with the entries normalized to one"
   ]
  },
  {
   "cell_type": "code",
   "execution_count": null,
   "metadata": {},
   "outputs": [],
   "source": [
    "a=[1,2,1]\n",
    "norm=[float(i)/sum(a) for i in a]\n",
    "print(norm)"
   ]
  }
 ],
 "metadata": {
  "kernelspec": {
   "display_name": "Python 3",
   "language": "python",
   "name": "python3"
  },
  "language_info": {
   "codemirror_mode": {
    "name": "ipython",
    "version": 3
   },
   "file_extension": ".py",
   "mimetype": "text/x-python",
   "name": "python",
   "nbconvert_exporter": "python",
   "pygments_lexer": "ipython3",
   "version": "3.8.8"
  }
 },
 "nbformat": 4,
 "nbformat_minor": 2
}
