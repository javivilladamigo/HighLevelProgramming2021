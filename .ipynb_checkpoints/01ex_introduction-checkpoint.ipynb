{
 "cells": [
  {
   "cell_type": "markdown",
   "metadata": {},
   "source": [
    "1. The HelloWorld replacement\n",
    "\n",
    "a) Write a program that prints the numbers from 1 to 100. But for multiples of three print \"Hello\" instead of the number and for the multiples of five print \"World\". For numbers which are multiples of both three and five print \"HelloWorld\".\n",
    "\n",
    "b) Put the result in a tuple and substitute \"Hello\" with \"Python\" and \"World\" with \"Works\"."
   ]
  },
  {
   "cell_type": "code",
   "execution_count": 7,
   "metadata": {},
   "outputs": [
    {
     "name": "stdout",
     "output_type": "stream",
     "text": [
      "(1, 2, 'Hello', 4, 'World', 'Hello', 7, 8, 'Hello', 'World', 11, 'Hello', 13, 14, 'HelloWorld', 16, 17, 'Hello', 19, 'World', 'Hello', 22, 23, 'Hello', 'World', 26, 'Hello', 28, 29, 'HelloWorld', 31, 32, 'Hello', 34, 'World', 'Hello', 37, 38, 'Hello', 'World', 41, 'Hello', 43, 44, 'HelloWorld', 46, 47, 'Hello', 49, 'World', 'Hello', 52, 53, 'Hello', 'World', 56, 'Hello', 58, 59, 'HelloWorld', 61, 62, 'Hello', 64, 'World', 'Hello', 67, 68, 'Hello', 'World', 71, 'Hello', 73, 74, 'HelloWorld', 76, 77, 'Hello', 79, 'World', 'Hello', 82, 83, 'Hello', 'World', 86, 'Hello', 88, 89, 'HelloWorld', 91, 92, 'Hello', 94, 'World', 'Hello', 97, 98, 'Hello', 'World')\n",
      "(1, 2, 'Python', 4, 'Works', 'Python', 7, 8, 'Python', 'Works', 11, 'Python', 13, 14, 'PythonWorks', 16, 17, 'Python', 19, 'Works', 'Python', 22, 23, 'Python', 'Works', 26, 'Python', 28, 29, 'PythonWorks', 31, 32, 'Python', 34, 'Works', 'Python', 37, 38, 'Python', 'Works', 41, 'Python', 43, 44, 'PythonWorks', 46, 47, 'Python', 49, 'Works', 'Python', 52, 53, 'Python', 'Works', 56, 'Python', 58, 59, 'PythonWorks', 61, 62, 'Python', 64, 'Works', 'Python', 67, 68, 'Python', 'Works', 71, 'Python', 73, 74, 'PythonWorks', 76, 77, 'Python', 79, 'Works', 'Python', 82, 83, 'Python', 'Works', 86, 'Python', 88, 89, 'PythonWorks', 91, 92, 'Python', 94, 'Works', 'Python', 97, 98, 'Python', 'Works')\n"
     ]
    }
   ],
   "source": [
    "tup=()\n",
    "\n",
    "for i in range (1,101):\n",
    "    if i%3==0:\n",
    "        next=\"Hello\"\n",
    "        if i%5==0:\n",
    "            next=\"HelloWorld\"\n",
    "    elif i%5==0:\n",
    "        next=\"World\"\n",
    "    else:\n",
    "        next=i\n",
    "    tup+=(next,)\n",
    "    \n",
    "print(tup)\n",
    "\n",
    "l = list(tup)\n",
    "for i in range (100):\n",
    "    if isinstance(l[i], str):\n",
    "        l[i]=l[i].replace(\"Hello\",\"Python\")\n",
    "        l[i]=l[i].replace(\"World\",\"Works\")\n",
    "tup_change= tuple(l)\n",
    "\n",
    "print(tup_change)"
   ]
  },
  {
   "cell_type": "markdown",
   "metadata": {},
   "source": [
    "2\\. The swap function\n",
    "\n",
    "Write a function that swap the values of two input variables x and y (whatever the type). Try to do that also without a temporary variable"
   ]
  },
  {
   "cell_type": "code",
   "execution_count": 23,
   "metadata": {},
   "outputs": [
    {
     "name": "stdout",
     "output_type": "stream",
     "text": [
      "('trololo', 42)\n"
     ]
    }
   ],
   "source": [
    "def swap(x,y):\n",
    "    x,y=y,x\n",
    "    return x,y\n",
    "\n",
    "x=42\n",
    "y=\"trololo\"\n",
    "print(swap(x,y))"
   ]
  },
  {
   "cell_type": "markdown",
   "metadata": {},
   "source": [
    "3\\. Computing the distance\n",
    "\n",
    "Write a function that calculates and returns the euclidean distance between two points *u* and *v*, where *u* and *v* are both 2-tuples *(x,y)*. For example, if *u=(3,0)* and *v=(0,4)*, the function should return 5"
   ]
  },
  {
   "cell_type": "code",
   "execution_count": 13,
   "metadata": {},
   "outputs": [
    {
     "name": "stdout",
     "output_type": "stream",
     "text": [
      "5.0\n"
     ]
    }
   ],
   "source": [
    "import math\n",
    "\n",
    "def distance(u,v):\n",
    "    return(math.sqrt((u[0]-v[0])**2+(u[1]-v[1])**2))\n",
    "\n",
    "print(distance((3,0),(0,4)))"
   ]
  },
  {
   "cell_type": "markdown",
   "metadata": {},
   "source": [
    "4\\. Counting letters\n",
    "\n",
    "Write a program to calculate the number of times each character occurs in a given string *s*. Ignore differences in capitalization"
   ]
  },
  {
   "cell_type": "code",
   "execution_count": 14,
   "metadata": {},
   "outputs": [
    {
     "name": "stdout",
     "output_type": "stream",
     "text": [
      "Number of occurrence of  w :  4\n",
      "Number of occurrence of  r :  19\n",
      "Number of occurrence of  i :  12\n",
      "Number of occurrence of  t :  19\n",
      "Number of occurrence of  e :  20\n",
      "Number of occurrence of    :  41\n",
      "Number of occurrence of  a :  7\n",
      "Number of occurrence of  p :  8\n",
      "Number of occurrence of  o :  15\n",
      "Number of occurrence of  g :  1\n",
      "Number of occurrence of  m :  8\n",
      "Number of occurrence of  h :  11\n",
      "Number of occurrence of  n :  10\n",
      "Number of occurrence of  s :  7\n",
      "Number of occurrence of  u :  7\n",
      "Number of occurrence of  b :  5\n",
      "Number of occurrence of  f :  10\n",
      "Number of occurrence of  1 :  2\n",
      "Number of occurrence of  0 :  2\n",
      "Number of occurrence of  . :  3\n",
      "Number of occurrence of  l :  12\n",
      "Number of occurrence of  d :  5\n",
      "Number of occurrence of  v :  2\n",
      "Number of occurrence of  c :  1\n"
     ]
    }
   ],
   "source": [
    "s = \"Write a program that prints the numbers from 1 to 100. \\\n",
    "But for multiples of three print Hello instead of the number and for the multiples of five print World. \\\n",
    "For numbers which are multiples of both three and five print HelloWorld.\"\n",
    "\n",
    "s_char=[]\n",
    "s_count=[]\n",
    "\n",
    "for x in s.lower():\n",
    "    if not(x in s_char):\n",
    "        s_char.append(x)\n",
    "        s_count.append(s.lower().count(x))\n",
    "        print(\"Number of occurrence of \", x,\": \" ,s.lower().count(x))"
   ]
  },
  {
   "cell_type": "markdown",
   "metadata": {},
   "source": [
    "5\\. Isolating the unique\n",
    "\n",
    "Write a function that determines and count the unique numbers in the list:"
   ]
  },
  {
   "cell_type": "code",
   "execution_count": 16,
   "metadata": {},
   "outputs": [
    {
     "name": "stdout",
     "output_type": "stream",
     "text": [
      "Number of 42 in l:  2\n"
     ]
    }
   ],
   "source": [
    "l = [36, 45, 58, 3, 74, 96, 64, 45, 31, 10, 24, 19, 33, 86, 99, 18, 63, 70, 85,\n",
    " 85, 63, 47, 56, 42, 70, 84, 88, 55, 20, 54, 8, 56, 51, 79, 81, 57, 37, 91,\n",
    " 1, 84, 84, 36, 66, 9, 89, 50, 42, 91, 50, 95, 90, 98, 39, 16, 82, 31, 92, 41,\n",
    " 45, 30, 66, 70, 34, 85, 94, 5, 3, 36, 72, 91, 84, 34, 87, 75, 53, 51, 20, 89, 51, 20]\n",
    "\n",
    "def count(l,x):\n",
    "    i=0\n",
    "    for y in l:\n",
    "        if x==y:\n",
    "            i+=1\n",
    "    return i\n",
    "\n",
    "print(\"Number of 42 in l: \", count(l,42))"
   ]
  },
  {
   "cell_type": "markdown",
   "metadata": {},
   "source": [
    "Do the same without using user-defined functions, but exploiting only the Python data structures."
   ]
  },
  {
   "cell_type": "code",
   "execution_count": 18,
   "metadata": {},
   "outputs": [
    {
     "name": "stdout",
     "output_type": "stream",
     "text": [
      "Number of 42 in l:  2\n"
     ]
    }
   ],
   "source": [
    "print(\"Number of 42 in l: \", l.count(42))"
   ]
  },
  {
   "cell_type": "markdown",
   "metadata": {},
   "source": [
    "6\\. Combination of functions\n",
    "\n",
    "Write two functions - one that returns the square of a number, and one that returns the cube. Now write a third function that returns the number raised to the 6th power using the two previous functions."
   ]
  },
  {
   "cell_type": "code",
   "execution_count": 19,
   "metadata": {},
   "outputs": [
    {
     "name": "stdout",
     "output_type": "stream",
     "text": [
      "2 4 8 64\n"
     ]
    }
   ],
   "source": [
    "def square(x):\n",
    "    return x**2\n",
    "\n",
    "def cube(x):\n",
    "    return x**3\n",
    "\n",
    "def power6(x):\n",
    "    return(square(cube(x)))\n",
    "\n",
    "print (2,square(2),cube(2),power6(2))"
   ]
  },
  {
   "cell_type": "markdown",
   "metadata": {},
   "source": [
    "7\\. Cubes\n",
    "\n",
    "Create a list of the cubes of x for x in *[0, 10]* using:\n",
    "\n",
    "a) a for loop\n",
    "\n",
    "b) a list comprehension"
   ]
  },
  {
   "cell_type": "code",
   "execution_count": 20,
   "metadata": {},
   "outputs": [
    {
     "name": "stdout",
     "output_type": "stream",
     "text": [
      "[0, 1, 8, 27, 64, 125, 216, 343, 512, 729]\n",
      "[0, 1, 8, 27, 64, 125, 216, 343, 512, 729]\n"
     ]
    }
   ],
   "source": [
    "l_cube=[]\n",
    "\n",
    "for i in range(10):\n",
    "    l_cube.append(i**3)\n",
    "    \n",
    "print (l_cube)\n",
    "\n",
    "l_cube=[x**3 for x in range(10)]\n",
    "\n",
    "print (l_cube)"
   ]
  },
  {
   "cell_type": "markdown",
   "metadata": {},
   "source": [
    "8\\. Nested list comprehension\n",
    "\n",
    "A Pythagorean triple is an integer solution to the Pythagorean theorem $a^2+b^2=c^2$. The first Pythagorean triple is (3,4,5). Find and put in a tuple all unique Pythagorean triples for the positive integers a, b and c less than 100."
   ]
  },
  {
   "cell_type": "code",
   "execution_count": 21,
   "metadata": {},
   "outputs": [
    {
     "name": "stdout",
     "output_type": "stream",
     "text": [
      "4 3 5 is a Pythagorean triple\n",
      "8 6 10 is a Pythagorean triple\n",
      "12 5 13 is a Pythagorean triple\n",
      "12 9 15 is a Pythagorean triple\n",
      "15 8 17 is a Pythagorean triple\n",
      "16 12 20 is a Pythagorean triple\n",
      "20 15 25 is a Pythagorean triple\n",
      "21 20 29 is a Pythagorean triple\n",
      "24 7 25 is a Pythagorean triple\n",
      "24 10 26 is a Pythagorean triple\n",
      "24 18 30 is a Pythagorean triple\n",
      "28 21 35 is a Pythagorean triple\n",
      "30 16 34 is a Pythagorean triple\n",
      "32 24 40 is a Pythagorean triple\n",
      "35 12 37 is a Pythagorean triple\n",
      "36 15 39 is a Pythagorean triple\n",
      "36 27 45 is a Pythagorean triple\n",
      "40 9 41 is a Pythagorean triple\n",
      "40 30 50 is a Pythagorean triple\n",
      "42 40 58 is a Pythagorean triple\n",
      "44 33 55 is a Pythagorean triple\n",
      "45 24 51 is a Pythagorean triple\n",
      "45 28 53 is a Pythagorean triple\n",
      "48 14 50 is a Pythagorean triple\n",
      "48 20 52 is a Pythagorean triple\n",
      "48 36 60 is a Pythagorean triple\n",
      "52 39 65 is a Pythagorean triple\n",
      "55 48 73 is a Pythagorean triple\n",
      "56 33 65 is a Pythagorean triple\n",
      "56 42 70 is a Pythagorean triple\n",
      "60 11 61 is a Pythagorean triple\n",
      "60 25 65 is a Pythagorean triple\n",
      "60 32 68 is a Pythagorean triple\n",
      "60 45 75 is a Pythagorean triple\n",
      "63 16 65 is a Pythagorean triple\n",
      "63 60 87 is a Pythagorean triple\n",
      "64 48 80 is a Pythagorean triple\n",
      "68 51 85 is a Pythagorean triple\n",
      "70 24 74 is a Pythagorean triple\n",
      "72 21 75 is a Pythagorean triple\n",
      "72 30 78 is a Pythagorean triple\n",
      "72 54 90 is a Pythagorean triple\n",
      "72 65 97 is a Pythagorean triple\n",
      "75 40 85 is a Pythagorean triple\n",
      "76 57 95 is a Pythagorean triple\n",
      "77 36 85 is a Pythagorean triple\n",
      "80 18 82 is a Pythagorean triple\n",
      "80 39 89 is a Pythagorean triple\n",
      "80 60 100 is a Pythagorean triple\n",
      "84 13 85 is a Pythagorean triple\n",
      "84 35 91 is a Pythagorean triple\n",
      "96 28 100 is a Pythagorean triple\n"
     ]
    }
   ],
   "source": [
    "import math\n",
    "\n",
    "for a in range(1,101):\n",
    "    for b in range(1,a+1):\n",
    "        c=math.sqrt(a**2+b**2)\n",
    "        if c<=100 and c//1==c:\n",
    "            print (a,b,int(c),\"is a Pythagorean triple\")\n"
   ]
  },
  {
   "cell_type": "markdown",
   "metadata": {},
   "source": [
    "9\\. Normalization\n",
    "\n",
    "Write a function that takes a tuple of numbers and returns it with the entries normalized to one"
   ]
  },
  {
   "cell_type": "code",
   "execution_count": 22,
   "metadata": {},
   "outputs": [
    {
     "name": "stdout",
     "output_type": "stream",
     "text": [
      "(0.0, 0.2, 1.0, 0.6)\n"
     ]
    }
   ],
   "source": [
    "tup=(0,2,10,6)\n",
    "\n",
    "def normalized(tup):\n",
    "    tup_normal=()\n",
    "    m=max(tup)\n",
    "    for i in tup:\n",
    "        tup_normal+=(i/m,)\n",
    "    return tup_normal\n",
    "    \n",
    "print(normalized(tup))"
   ]
  },
  {
   "cell_type": "code",
   "execution_count": null,
   "metadata": {},
   "outputs": [],
   "source": []
  }
 ],
 "metadata": {
  "kernelspec": {
   "display_name": "Python 3",
   "language": "python",
   "name": "python3"
  },
  "language_info": {
   "codemirror_mode": {
    "name": "ipython",
    "version": 3
   },
   "file_extension": ".py",
   "mimetype": "text/x-python",
   "name": "python",
   "nbconvert_exporter": "python",
   "pygments_lexer": "ipython3",
   "version": "3.8.5"
  }
 },
 "nbformat": 4,
 "nbformat_minor": 2
}
