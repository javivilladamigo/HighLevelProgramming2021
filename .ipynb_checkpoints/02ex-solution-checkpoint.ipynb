{
 "cells": [
  {
   "cell_type": "markdown",
   "metadata": {},
   "source": [
    "1. Write the following expressions using the list comprehension"
   ]
  },
  {
   "cell_type": "code",
   "execution_count": 1,
   "metadata": {},
   "outputs": [
    {
     "name": "stdout",
     "output_type": "stream",
     "text": [
      "[(0, 0), (0, 1), (0, 2), (0, 3), (1, 0), (1, 1), (1, 2), (1, 3), (2, 0), (2, 1), (2, 2), (2, 3)]\n",
      "[1, 9, 25, 49, 81]\n"
     ]
    }
   ],
   "source": [
    "# 1\n",
    "ans = []\n",
    "for i in range(3):\n",
    "    for j in range(4):\n",
    "        ans.append((i, j))\n",
    "print(ans)\n",
    "\n",
    "\n",
    "\n",
    "# 2\n",
    "ans = map(lambda x: x * x, filter(lambda x: x % 2 == 1, range(10)))\n",
    "print(list(ans))"
   ]
  },
  {
   "cell_type": "code",
   "execution_count": 2,
   "metadata": {},
   "outputs": [
    {
     "name": "stdout",
     "output_type": "stream",
     "text": [
      "[(0, 0), (0, 1), (0, 2), (0, 3), (1, 0), (1, 1), (1, 2), (1, 3), (2, 0), (2, 1), (2, 2), (2, 3)]\n",
      "[1, 9, 25, 49, 81]\n"
     ]
    }
   ],
   "source": [
    "ans = [(i, j) for i in range(3) for j in range(4)]\n",
    "print(ans)\n",
    "\n",
    "ans = [x*x for x in range(10) if x%2==1]\n",
    "print (ans)"
   ]
  },
  {
   "cell_type": "markdown",
   "metadata": {},
   "source": [
    "2\\. Convert the function $f$ into a function that doesn't use global variables and that does not modify the original list"
   ]
  },
  {
   "cell_type": "code",
   "execution_count": 3,
   "metadata": {},
   "outputs": [
    {
     "name": "stdout",
     "output_type": "stream",
     "text": [
      "[1, 2, 3, 0, 1, 2, 3, 4]\n",
      "[1, 2, 3, 0, 1, 2, 3, 4]\n"
     ]
    }
   ],
   "source": [
    "x = 5\n",
    "def f(alist):\n",
    "    for i in range(x):\n",
    "         alist.append(i)\n",
    "    return alist\n",
    "\n",
    "alist = [1,2,3]\n",
    "ans = f(alist)\n",
    "print(ans)\n",
    "print(alist) # alist has been changed!"
   ]
  },
  {
   "cell_type": "code",
   "execution_count": 4,
   "metadata": {},
   "outputs": [
    {
     "name": "stdout",
     "output_type": "stream",
     "text": [
      "[0, 1, 2, 3, 4]\n",
      "[1, 2, 3]\n"
     ]
    }
   ],
   "source": [
    "def f(ret):\n",
    "    x = 5\n",
    "    ret = []\n",
    "    for i in range(x):\n",
    "        ret.append(i)\n",
    "    return ret\n",
    "\n",
    "alist = [1,2,3]\n",
    "ans = f(alist)\n",
    "print(ans)\n",
    "print(alist)"
   ]
  },
  {
   "cell_type": "markdown",
   "metadata": {},
   "source": [
    "3\\. Write a `decorator` hello that makes every wrapped function print “Hello!”, i.e. something like:\n",
    "\n",
    "```python\n",
    "@hello\n",
    "def square(x):\n",
    "    return x*x\n",
    "```\n",
    "\n"
   ]
  },
  {
   "cell_type": "code",
   "execution_count": 5,
   "metadata": {
    "scrolled": true
   },
   "outputs": [
    {
     "name": "stdout",
     "output_type": "stream",
     "text": [
      "Hello!\n",
      "81\n"
     ]
    }
   ],
   "source": [
    "def hello(func):\n",
    "    def wrap_func(x):\n",
    "        print(\"Hello!\")\n",
    "        func(x)\n",
    "        result = func(x)\n",
    "        print(result)\n",
    "    return wrap_func\n",
    "\n",
    "\n",
    "@hello\n",
    "def square(x):\n",
    "    return x*x\n",
    "\n",
    "\n",
    "square(9)"
   ]
  },
  {
   "cell_type": "markdown",
   "metadata": {},
   "source": [
    "4\\. Write the factorial function in two different ways, so that it a) does and b) does not use recursion."
   ]
  },
  {
   "cell_type": "code",
   "execution_count": 6,
   "metadata": {},
   "outputs": [
    {
     "name": "stdout",
     "output_type": "stream",
     "text": [
      "24\n",
      "24\n"
     ]
    }
   ],
   "source": [
    "def factorial(x):\n",
    "    result = 1\n",
    "    for i in range(2, x + 1):\n",
    "        result *= i\n",
    "    return print(result)\n",
    "#-------------------------------\n",
    "import math\n",
    "k = math.factorial(4)\n",
    "#-------------------------------\n",
    "\n",
    "factorial(4)\n",
    "print(k)"
   ]
  },
  {
   "cell_type": "markdown",
   "metadata": {},
   "source": [
    "5\\. Use HOFs (zip in particular) to compute the weight of a circle, a disk and a sphere, assuming different radii and different densities:\n",
    "\n",
    "```python\n",
    "densities = {\"Al\" : [0.5, 1, 2], \"Fe\" : [3, 4, 5], \"Pb\" : [15, 20, 30]}\n",
    "radii = [1, 2, 3]\n",
    "```\n",
    "\n",
    "where the entries of the dictionary's values are the linear, superficial and volumetric densities of the materials respectively.\n",
    "\n",
    "Subsequently, define a list using a comprehension with three lambda functions that compute the circumference, the area and the volume for a given radius.\n"
   ]
  },
  {
   "cell_type": "code",
   "execution_count": 7,
   "metadata": {},
   "outputs": [
    {
     "name": "stdout",
     "output_type": "stream",
     "text": [
      "Stuff: Al\n",
      "Index: 0 - Density: 0.5 and Radius: 1 - Weight: 3.141592653589793\n",
      "Index: 1 - Density: 1 and Radius: 2 - Weight: 12.566370614359172\n",
      "Index: 2 - Density: 2 and Radius: 3 - Weight: 226.19467105846508\n",
      "Stuff: Fe\n",
      "Index: 0 - Density: 3 and Radius: 1 - Weight: 18.84955592153876\n",
      "Index: 1 - Density: 4 and Radius: 2 - Weight: 50.26548245743669\n",
      "Index: 2 - Density: 5 and Radius: 3 - Weight: 565.4866776461627\n",
      "Stuff: Pb\n",
      "Index: 0 - Density: 15 and Radius: 1 - Weight: 94.24777960769379\n",
      "Index: 1 - Density: 20 and Radius: 2 - Weight: 251.32741228718345\n",
      "Index: 2 - Density: 30 and Radius: 3 - Weight: 3392.920065876976\n",
      "\n",
      "[6.283185307179586, 12.566370614359172, 113.09733552923254]\n"
     ]
    }
   ],
   "source": [
    "import math\n",
    "\n",
    "densities = {\"Al\" : [0.5, 1, 2], \"Fe\" : [3, 4, 5], \"Pb\" : [15, 20, 30]}\n",
    "radii = [1, 2, 3]\n",
    "\n",
    "for i in densities:\n",
    "    print(f'Stuff: {i}')\n",
    "    for ind, (dens, rad) in enumerate(zip(densities[i], radii)):\n",
    "        if ind == 0: \n",
    "            weight = 2 * math.pi * rad * dens #for circle\n",
    "        elif ind == 1: \n",
    "            weight = math.pi * (rad**2) * dens #for disk\n",
    "        else: \n",
    "            weight = 4.0 / 3.0 * math.pi * (rad**3) * dens #for sphere\n",
    "        print(f'Index: {ind} - Density: {dens} and Radius: {rad} - Weight: {weight}')\n",
    "print()\n",
    "\n",
    "comp_func = [\n",
    "lambda radius: 2 * math.pi * radius,\n",
    "lambda radius: math.pi * (radius**2),\n",
    "lambda radius: 4.0 / 3.0 * math.pi * (radius**3)]\n",
    "metrics = [comp_func(radius) for radius, comp_func in zip(radii, comp_func)]\n",
    "print(metrics)"
   ]
  },
  {
   "cell_type": "markdown",
   "metadata": {},
   "source": [
    "6\\. Edit the class defintion to add an instance attribute of `is_hungry = True` to the Dog class. Then add a method called `eat()` which changes the value of `is_hungry` to `False` when called. Figure out the best way to instantiate the dog objects and to feed the dogs, e.g. call the `eat()` method for all instances. Finally, print “My dogs are hungry.” or “My dogs are not hungry.” if all of them have `is_hungry = True` or `False`, respectively. The final output should look like this:\n",
    "\n",
    "`I have 3 dogs. \n",
    "Tom is 6. \n",
    "Fletcher is 7. \n",
    "Larry is 9. \n",
    "And they're all mammals, of course. \n",
    "My dogs are not hungry.\n",
    "`\n",
    "\n",
    "```python\n",
    "# Parent class\n",
    "class Dog:\n",
    "\n",
    "    # Class attribute\n",
    "    species = 'mammal'\n",
    "\n",
    "    # Initializer / Instance attributes\n",
    "    def __init__(self, name, age):\n",
    "        self.name = name\n",
    "        self.age = age\n",
    "\n",
    "    # instance method\n",
    "    def description(self):\n",
    "        return \"{} is {} years old\".format(self.name, self.age)\n",
    "\n",
    "    # instance method\n",
    "    def speak(self, sound):\n",
    "        return \"{} says {}\".format(self.name, sound)\n",
    "\n",
    "# Child class (inherits from Dog class)\n",
    "class RussellTerrier(Dog):\n",
    "    def run(self, speed):\n",
    "        return \"{} runs {}\".format(self.name, speed)\n",
    "\n",
    "# Child class (inherits from Dog class)\n",
    "class Bulldog(Dog):\n",
    "    def run(self, speed):\n",
    "        return \"{} runs {}\".format(self.name, speed)\n",
    "```"
   ]
  },
  {
   "cell_type": "code",
   "execution_count": 8,
   "metadata": {},
   "outputs": [
    {
     "name": "stdout",
     "output_type": "stream",
     "text": [
      "I have 3 dogs.\n",
      "Loosy is 3.\n",
      "Nicky is 9.\n",
      "Jooly is 1.\n",
      "And they're all mammals, of course.\n",
      "My dogs are not hungry.\n"
     ]
    }
   ],
   "source": [
    "# Parent class\n",
    "class Pets:\n",
    "\n",
    "    dogs = []\n",
    "\n",
    "    def __init__(self, dogs):\n",
    "        self.dogs = dogs\n",
    "\n",
    "\n",
    "# Parent class\n",
    "class Dog:\n",
    "\n",
    "    # Class attribute\n",
    "    species = 'mammal'\n",
    "\n",
    "    # Initializer / Instance attributes\n",
    "    def __init__(self, name, age):\n",
    "        self.name = name\n",
    "        self.age = age\n",
    "        self.is_hungry = True\n",
    "\n",
    "    # Instance method\n",
    "    def description(self):\n",
    "        return \"{} is {} years old\".format(self.name, self.age)\n",
    "\n",
    "    # Instance method\n",
    "    def speak(self, sound):\n",
    "        return \"{} says {}\".format(self.name, sound)\n",
    "\n",
    "    # Instance method\n",
    "    def eat(self):\n",
    "        self.is_hungry = False\n",
    "\n",
    "\n",
    "# Child class (inherits from Dog class)\n",
    "class RussellTerrier(Dog):\n",
    "    def run(self, speed):\n",
    "        return \"{} runs {}\".format(self.name, speed)\n",
    "\n",
    "\n",
    "# Child class (inherits from Dog class)\n",
    "class Bulldog(Dog):\n",
    "    def run(self, speed):\n",
    "        return \"{} runs {}\".format(self.name, speed)\n",
    "\n",
    "# Create instances of dogs\n",
    "my_dogs = [\n",
    "    Bulldog(\"Loosy\", 3), \n",
    "    RussellTerrier(\"Nicky\", 9), \n",
    "    Dog(\"Jooly\", 1)\n",
    "]\n",
    "\n",
    "# Instantiate the Pets class\n",
    "my_pets = Pets(my_dogs)\n",
    "\n",
    "# Output\n",
    "print(\"I have {} dogs.\".format(len(my_pets.dogs)))\n",
    "for dog in my_pets.dogs:\n",
    "    dog.eat()\n",
    "    print(\"{} is {}.\".format(dog.name, dog.age))\n",
    "\n",
    "print(\"And they're all {}s, of course.\".format(dog.species))\n",
    "\n",
    "are_my_dogs_hungry = False\n",
    "for dog in my_pets.dogs:\n",
    "    if dog.is_hungry:\n",
    "        are_my_dogs_hungry = True\n",
    "\n",
    "if are_my_dogs_hungry:\n",
    "    print(\"My dogs are hungry.\")\n",
    "else:\n",
    "    print(\"My dogs are not hungry.\")"
   ]
  }
 ],
 "metadata": {
  "kernelspec": {
   "display_name": "Python 3 (ipykernel)",
   "language": "python",
   "name": "python3"
  },
  "language_info": {
   "codemirror_mode": {
    "name": "ipython",
    "version": 3
   },
   "file_extension": ".py",
   "mimetype": "text/x-python",
   "name": "python",
   "nbconvert_exporter": "python",
   "pygments_lexer": "ipython3",
   "version": "3.9.2"
  }
 },
 "nbformat": 4,
 "nbformat_minor": 2
}
