{
 "cells": [
  {
   "cell_type": "markdown",
   "metadata": {},
   "source": [
    "1\\. Write a function that converts numbers among the bin, dec, and hex representations (bin<->dec<->hex)"
   ]
  },
  {
   "cell_type": "code",
   "execution_count": 1,
   "metadata": {},
   "outputs": [
    {
     "name": "stdout",
     "output_type": "stream",
     "text": [
      "0b100\n",
      "0xf\n",
      "10\n",
      "15\n",
      "0 1 2 3 4\n",
      "4813 2607 59\n"
     ]
    }
   ],
   "source": [
    "def converter(y,x):        #x is used to choose which conversion the user wants\n",
    " \n",
    "    if x==0:             #case1: conversion dec->bin\n",
    "        return bin(y)\n",
    "    elif x==1:           #case2: conversion dec->hex\n",
    "        return hex(y)\n",
    "    elif x==2:           #case3:conversion bin->dec\n",
    "        return int(y,2)\n",
    "    elif x==3:           #case4: conversione hex->dec\n",
    "        return int(y,16)\n",
    "\n",
    "\n",
    "\n",
    "print(converter(4,0))         #4 in byn (expected 100)\n",
    "print(converter(15,1)      )   #15 in hex (F)\n",
    "print(converter(bin(10),2)  )       #bin->dec\n",
    "print(converter(hex(15),3)   )      #hex->dec\n",
    "\n",
    "#in case one wants to convert a binary or hex number manually:\n",
    "def bintodec(x):\n",
    "    result=0\n",
    "    for i in range(len(str(x))):\n",
    "        result=result+int(str(x)[i])*2**(len(str(x))-i-1)\n",
    "    return result\n",
    "print(bintodec(0),bintodec(1),bintodec(10),bintodec(11),bintodec(100))\n",
    "\n",
    "def hextodec(x):\n",
    "    result=0\n",
    "    lista=list(x)\n",
    "    for i in range(len(lista)):\n",
    "        if lista[i]=='A':\n",
    "            lista[i]=10\n",
    "        if lista[i]==\"B\":\n",
    "            lista[i]=11\n",
    "        if lista[i]==\"C\":\n",
    "            lista[i]=12\n",
    "        if lista[i]==\"D\":\n",
    "            lista[i]=13\n",
    "        if lista[i]==\"E\":\n",
    "            lista[i]=14\n",
    "        if lista[i]==\"F\":\n",
    "            lista[i]=15\n",
    "\n",
    "        result=result+int(lista[i])*16**(len(lista)-i-1)\n",
    "    return result\n",
    "\n",
    "print(hextodec(\"12CD\"),hextodec(\"A2F\"),hextodec(\"3B\"))  # 3B=59,#A2F=2607, 12CD=4813"
   ]
  },
  {
   "cell_type": "markdown",
   "metadata": {},
   "source": [
    "2\\. Write a function that converts a 32 bit word into a single precision floating point (i.e. interprets the various bits as sign, mantissa and exponent) and check its validity."
   ]
  },
  {
   "cell_type": "code",
   "execution_count": 2,
   "metadata": {},
   "outputs": [
    {
     "name": "stdout",
     "output_type": "stream",
     "text": [
      "8.5\n",
      "-13.75\n",
      "1.316553672920962e-36\n"
     ]
    }
   ],
   "source": [
    "#DONE\n",
    "\n",
    "word ='0 10000010 00010000000000000000000'  #8.5\n",
    "word2=\"1 10000010 10111000000000000000000\" #-13.75\n",
    "word3=\"0 00000111 11000000000000000000000\" #1.3*10^-36\n",
    "def conv(y):\n",
    "    alist=[]\n",
    "    for i in range(len(y)):\n",
    "        if y[i]!=\" \":               #delete white space\n",
    "            alist.append(int(y[i]))\n",
    "\n",
    "    \n",
    "    espo=0\n",
    "    for i in range(1,9):\n",
    "        espo=espo+alist[i]*2**(8-i)\n",
    "\n",
    "    \n",
    "    \n",
    "    #mantissa\n",
    "    manti=1\n",
    "    for i in range(9,len(alist)):\n",
    "        manti=manti+alist[i]*2**(+8-i)\n",
    "        \n",
    "    \n",
    "    result=manti*2**(espo-127)\n",
    "    if alist[0]==1:                  #sign determined by the firs bit\n",
    "        result=-result        \n",
    "    print(result)\n",
    "    \n",
    "\n",
    "        \n",
    "    \n",
    "    \n",
    "conv(word)\n",
    "conv(word2)\n",
    "conv(word3)"
   ]
  },
  {
   "cell_type": "markdown",
   "metadata": {},
   "source": [
    "3\\. Write a program to determine the underflow and overflow limits (within a factor of 2) for python on your computer. \n",
    "\n",
    "**Tip**: define two variables initialized to 1 and halve/double them for a sufficient amount of times to exceed the under/over-flow limits  "
   ]
  },
  {
   "cell_type": "code",
   "execution_count": 3,
   "metadata": {},
   "outputs": [
    {
     "name": "stdout",
     "output_type": "stream",
     "text": [
      "The overflow limit is (within a factor of 2) 8.98846567431158e+307\n",
      "The underflow limit occurs after 1075  iterations. minimum value different from zero 5e-324\n",
      "0.0\n"
     ]
    }
   ],
   "source": [
    "\n",
    "f = 1.                      #need a non-integer to reach overflow\n",
    "temp=1.\n",
    "while f!=float(\"+inf\"):\n",
    "    temp=f\n",
    "    f = f *2\n",
    "\n",
    "print(\"The overflow limit is (within a factor of 2)\", temp)  #should be 1e^308 \n",
    "\n",
    "\n",
    "x,i=1.0,0\n",
    "while (x!=0):\n",
    "    x=x/2\n",
    "    i=i+1\n",
    "    if(x==0):\n",
    "        print(\"The underflow limit occurs after\",i,\" iterations. minimum value different from zero\",2**(-i+1))\n",
    "        \n",
    "print(2**(-i))"
   ]
  },
  {
   "cell_type": "markdown",
   "metadata": {},
   "source": [
    "4\\. Write a program to determine the machine precision\n",
    "\n",
    "**Tip**: define a new variable by adding an increasingly smaller value (in the same way as the previous problem) and check when the addition starts to have no effect on the number"
   ]
  },
  {
   "cell_type": "code",
   "execution_count": 4,
   "metadata": {},
   "outputs": [
    {
     "name": "stdout",
     "output_type": "stream",
     "text": [
      "After 16 iterations the maximum precision has been reached and it is 1e-16\n",
      "2.111111111111111\n",
      "2.111111111111111\n",
      "2.111111111111111\n"
     ]
    }
   ],
   "source": [
    "\n",
    "z=1\n",
    "i=0\n",
    "while(z!=z+10**(-i)):\n",
    "    z=z+10**(-i)\n",
    "    i=i+1\n",
    "    \n",
    "print(\"After\",i,\"iterations the maximum precision has been reached and it is\",10**(-i))\n",
    "\n",
    "print(z)\n",
    "print(z+10**(-i-1))\n",
    "print(z+10**(-i-2))\n"
   ]
  },
  {
   "cell_type": "markdown",
   "metadata": {},
   "source": [
    "5\\. Write a function that takes in input three parameters $a$, $b$ and $c$ and prints out the two solutions to the quadratic equation $ax^2+bx+c=0$ using the standard formula:\n",
    "$$\n",
    "x=\\frac{-b\\pm\\sqrt{b^2-4ac}}{2a}\n",
    "$$\n",
    "\n",
    "(a) use the program to compute the solution for $a=0.001$, $b=1000$ and $c=0.001$\n",
    "\n",
    "(b) re-express the standard solution formula by multiplying the numerator and the denominator by $-b\\mp\\sqrt{b^2-4ac}$ and again find the solution for $a=0.001$, $b=1000$ and $c=0.001$. How does it compare with what has been previously obtained, and why?\n",
    "\n",
    "(c) write a function that computes the roots of a quadratic equation accurately in all cases"
   ]
  },
  {
   "cell_type": "code",
   "execution_count": 5,
   "metadata": {},
   "outputs": [
    {
     "name": "stdout",
     "output_type": "stream",
     "text": [
      "x1= -9.999894245993346e-07\n",
      "x2= -999999.999999\n",
      "x1_new= -1.000000000001e-06\n",
      "x2_new= -1000010.5755125057\n",
      "\n",
      "In the first case the algorithm in unstable for x1:\n",
      "\n",
      "This happens because b^2 is large compared to 4ac and as a result, in -b+square(b**2-4ac) we are subtracting \n",
      "two close numbers (catastrophic cancellation).\n",
      "\n",
      "With the second formula reexpressing the x1 and simplifying numerator and denominator, one finds that the numerator is just +4ac and this issue is in the denominator where (-b-((b**2)-4ac)**(1/2)) appears which is approx -2b\n",
      " and doesn't affect the solution since the sign is the same.\n",
      "\n",
      "For x2 is the opposite: with the second method there is a factor (-b+square(b^2-4ac)) in the denominator \n",
      "which is close to zero\n",
      "The solution is hence to take the solutions where catastrophic cancellation doesn't happen and this is related to the sign of b (in the sense that if b changes sign then we have to take x1 and x2_new since the situation is opposite)\n",
      "The final accurate solutions are\n",
      "x1_def= -1.000000000001e-06\n",
      "x2_def= -1.000000000001e-06\n"
     ]
    }
   ],
   "source": [
    "\n",
    "def secondorder(a,b,c):\n",
    "    x1=(-b+(b*b-4*a*c)**(0.5))/(2*a)\n",
    "    x2=(-b-(b*b-4*a*c)**(0.5))/(2*a)\n",
    "    print(\"x1=\",x1)\n",
    "    print(\"x2=\",x2)\n",
    "    \n",
    "\n",
    "def order_adv(a,b,c):\n",
    "    x1_new=(2*c)/(-b-(b**2-4*a*c)**0.5)\n",
    "    x2_new=(2*c)/(-b+(b**2-4*a*c)**0.5)\n",
    "    print(\"x1_new=\",x1_new)\n",
    "    print(\"x2_new=\",x2_new)\n",
    "\n",
    "\n",
    "a=0.001\n",
    "b=1000\n",
    "c=0.001\n",
    "\n",
    "#(a) simple program to solve second order equations\n",
    "secondorder(a,b,c)\n",
    "#(b) program that gives the solutions multiplied by the factor -b+-sqrt(b^2-4ac)\n",
    "order_adv(a,b,c)\n",
    "\n",
    "\n",
    "print(\"\"\"\n",
    "In the first case the algorithm in unstable for x1:\\n\n",
    "This happens because b^2 is large compared to 4ac and as a result, in -b+square(b**2-4ac) we are subtracting \\ntwo close numbers (catastrophic cancellation).\\n\n",
    "With the second formula reexpressing the x1 and simplifying numerator and denominator, one finds that the numerator is just +4ac and this issue is in the denominator where (-b-((b**2)-4ac)**(1/2)) appears which is approx -2b\\n and doesn't affect the solution since the sign is the same.\\n\n",
    "For x2 is the opposite: with the second method there is a factor (-b+square(b^2-4ac)) in the denominator \\nwhich is close to zero\n",
    "The solution is hence to take the solutions where catastrophic cancellation doesn't happen and this is related to the sign of b (in the sense that if b changes sign then we have to take x1 and x2_new since the situation is opposite)\"\"\")\n",
    "\n",
    "print(\"The final accurate solutions are\")\n",
    "def accurate_root(a,b,c):\n",
    "    x1_def=(2*c)/(-b-b/abs(b)*(b**2-4*a*c)**0.5)\n",
    "    x2_def=c/a*x1_def\n",
    "    print(\"x1_def=\",x1_def)\n",
    "    print(\"x2_def=\",x2_def)\n",
    "\n",
    "accurate_root(a,b,c)"
   ]
  },
  {
   "cell_type": "markdown",
   "metadata": {},
   "source": [
    "6\\. Write a program that implements the function $f(x)=x(x−1)$\n",
    "\n",
    "(a) Calculate the derivative of the function at the point $x = 1$ using the derivative definition:\n",
    "\n",
    "$$\n",
    "\\frac{{\\rm d}f}{{\\rm d}x} = \\lim_{\\delta\\to0} \\frac{f(x+\\delta)-f(x)}{\\delta}\n",
    "$$\n",
    "\n",
    "with $\\delta = 10^{−2}$. Calculate the true value of the same derivative analytically and compare it with the answer your program gives. The two will not agree perfectly. Why?\n",
    "\n",
    "(b) Repeat the calculation for $\\delta = 10^{−4}, 10^{−6}, 10^{−8}, 10^{−10}, 10^{−12}$ and $10^{−14}$. How does the accuracy scales with $\\delta$?"
   ]
  },
  {
   "cell_type": "code",
   "execution_count": 6,
   "metadata": {
    "scrolled": true
   },
   "outputs": [
    {
     "name": "stdout",
     "output_type": "stream",
     "text": [
      "Numerical result is: 1.010000000000001\n",
      "Analytical Result is: 1\n",
      "The two do not match because the first is a numerical estimate corresponding to the first order taylor expansion of \n",
      "the function f with a grid spacing delta. In order to improve accuracy one can use a delta smaller \n",
      "(until catastrophic cancellation becomes too relevant) or using other expressions of the derivative\n",
      "employing for instance an expansion until the second oder which leads to (f(x+delta)-f(x-delta))/2delta\n",
      "\n",
      "\n",
      "expo\t\tderivative\trelative difference\n",
      "-2 \t 1.010000000000001 \t 0.010000000000000897\n",
      "-4 \t 1.0000999999998899 \t 9.999999988985486e-05\n",
      "-6 \t 1.000000999917733 \t 9.999177330577425e-07\n",
      "-8 \t 1.0000000039225287 \t 3.922528746258536e-09\n",
      "-10 \t 1.0000000828403708 \t 8.28403707853198e-08\n",
      "-12 \t 1.000088900583341 \t 8.890058334110051e-05\n",
      "-14 \t 0.9992007221626507 \t -0.0007992778373493437\n",
      "As one can see the accuracy gradually improves at the beginning until catastrophic cancellation\n",
      "becomes important\n"
     ]
    }
   ],
   "source": [
    "def func(x):\n",
    "    return x*(x-1)\n",
    "\n",
    "def deriv(func,x,delta):\n",
    "    return (func(x+delta)-func(x))/delta\n",
    "\n",
    "print(\"Numerical result is:\",deriv(func,1,0.01))\n",
    "print(\"Analytical Result is:\", 2*1-1)\n",
    "print(\"\"\"The two do not match because the first is a numerical estimate corresponding to the first order taylor expansion of \n",
    "the function f with a grid spacing delta. In order to improve accuracy one can use a delta smaller \n",
    "(until catastrophic cancellation becomes too relevant) or using other expressions of the derivative\n",
    "employing for instance an expansion until the second oder which leads to (f(x+delta)-f(x-delta))/2delta\n",
    "\n",
    "\"\"\")\n",
    "delta=10**(-2)\n",
    "print(\"expo\\t\\tderivative\\trelative difference\")\n",
    "x=1  #point where i want to compute the derivative\n",
    "for i in range(7):\n",
    "    result=(func(x+delta)-func(x))/delta\n",
    "    print(-2*i-2,\"\\t\",result,\"\\t\",(result-1)/1 )         #here i'm printing the value and the relative difference with the one expected\n",
    "    delta=(10**(-2))*delta              #increasing delta at each step\n",
    "\n",
    "\n",
    "print(\"\"\"As one can see the accuracy gradually improves at the beginning until catastrophic cancellation\n",
    "becomes important\"\"\")"
   ]
  },
  {
   "cell_type": "markdown",
   "metadata": {},
   "source": [
    "7\\. Consider the integral of the semicircle of radius 1:\n",
    "$$\n",
    "I=\\int_{-1}^{1} \\sqrt(1-x^2) {\\rm d}x\n",
    "$$\n",
    "which is known to be $I=\\frac{\\pi}{2}=1.57079632679...$.\n",
    "\n",
    "Alternatively we can use the Riemann definition of the integral:\n",
    "$$\n",
    "I=\\lim_{N\\to\\infty} \\sum_{k=1}^{N} h y_k \n",
    "$$\n",
    "\n",
    "with $h=2/N$ the width of each of the $N$ slices the domain is divided into and where\n",
    "$y_k$ is the value of the function at the $k-$th slice.\n",
    "\n",
    "(a) Write a program to compute the integral with $N=100$. How does the result compare to the true value?\n",
    "\n",
    "(b) How much can $N$ be increased if the computation needs to be run in less than a second? What is the gain in running it for 1 minute? \n"
   ]
  },
  {
   "cell_type": "code",
   "execution_count": 7,
   "metadata": {},
   "outputs": [
    {
     "name": "stdout",
     "output_type": "stream",
     "text": [
      "1.5691342555492507\n",
      "The relative difference is  0.0010581074180617824\n",
      "\n",
      "\n",
      "Now I set the number of intervals big enough to make the run last one second\n",
      "\n",
      "\n",
      "\n",
      "1.5707963259957929\n",
      "The relative difference is  5.087251978445426e-10\n",
      "--- 1.064058542251587 seconds ---\n",
      "\n",
      "\n",
      "\n",
      "Now I increase the number of intervals until it takes 1 minute to finish\n",
      "\n",
      "\n",
      "\n",
      "\n",
      "TIME\t\t\t  N\t\tRelative difference with the expected value\n",
      "0.016016006469726562 \t 200     \t 0.0010581074180617824\n",
      "0.00011444091796875 \t 400     \t 0.00037421204477456715\n",
      "0.0002281665802001953 \t 800     \t 0.00013232420498188492\n",
      "0.0004558563232421875 \t 1600     \t 4.678725532162032e-05\n",
      "0.0009167194366455078 \t 3200     \t 1.6542426421905977e-05\n",
      "0.0018427371978759766 \t 6400     \t 5.848742972221449e-06\n",
      "0.003680706024169922 \t 12800     \t 2.0678627167719185e-06\n",
      "0.00784158706665039 \t 25600     \t 7.311033744260292e-07\n",
      "0.01526021957397461 \t 51200     \t 2.584846947610263e-07\n",
      "0.03101658821105957 \t 102400     \t 9.138825830593895e-08\n",
      "0.06517410278320312 \t 204800     \t 3.2310656640633795e-08\n",
      "0.12366580963134766 \t 409600     \t 1.142353068029528e-08\n",
      "0.25430727005004883 \t 819200     \t 4.038804886336698e-09\n",
      "0.5274474620819092 \t 1638400     \t 1.4279093174531166e-09\n",
      "1.0133204460144043 \t 3276800     \t 5.048631563133307e-10\n",
      "2.122729778289795 \t 6553600     \t 1.785173250132692e-10\n",
      "4.255462646484375 \t 13107200     \t 6.313471721698002e-11\n",
      "8.447600603103638 \t 26214400     \t 2.240071730054047e-11\n",
      "16.76515769958496 \t 52428800     \t 7.856535495158258e-12\n",
      "33.02687120437622 \t 104857600     \t 2.508821532738422e-12\n",
      "63.1554057598114 \t 209715200     \t 1.3171737120834243e-12\n",
      "As one can see the relative difference improves only of a factor of 100 if compared with the result obtained in one second\n"
     ]
    }
   ],
   "source": [
    "from math import pi\n",
    "import time\n",
    "\n",
    "\n",
    "N=100\n",
    "lista=[]\n",
    "for i in range(N+1):                        #grid spacing\n",
    "    lista.append(-1+i*2/N)                  #x-values separated by 2/N distance\n",
    "integral=0\n",
    "for i in range(N):\n",
    "    integral+=(1-(lista[i])**2)**(0.5)*(lista[i+1]-lista[i])   #summing the value of the function in the interval\n",
    "    \n",
    "    \n",
    "print(integral)\n",
    "print(\"The relative difference is \", (pi/2-integral)/(pi/2))\n",
    "\n",
    "print(\"\"\"\n",
    "\n",
    "Now I set the number of intervals big enough to make the run last one second\n",
    "\n",
    "\n",
    "\"\"\")\n",
    "\n",
    "N=1630000\n",
    "start_time = time.time()\n",
    "lista=[]\n",
    "for i in range(N+1):                        # new grid spacing\n",
    "    lista.append(-1+i*2/N)\n",
    "integral=0\n",
    "for i in range(N):\n",
    "    integral+=(1-(lista[i])**2)**(0.5)*(lista[i+1]-lista[i])\n",
    "    \n",
    "    \n",
    "print(integral)\n",
    "print(\"The relative difference is \", (pi/2-integral)/(pi/2))\n",
    "print(\"--- %s seconds ---\" % (time.time() - start_time))\n",
    "\n",
    "print(\"\"\"\n",
    "\n",
    "\n",
    "Now I increase the number of intervals until it takes 1 minute to finish\n",
    "\n",
    "\n",
    "\n",
    "\"\"\")\n",
    "print(\"TIME\\t\\t\\t  N\\t\\tRelative difference with the expected value\")\n",
    "N=100\n",
    "start_time = time.time()\n",
    "while(time.time() - start_time)<60:\n",
    "    start_time = time.time()\n",
    "    lista=[]\n",
    "    for i in range(N+1):                        #grid spacing\n",
    "        lista.append(-1+i*2/N)\n",
    "    integral=0\n",
    "    for i in range(N):\n",
    "        integral+=(1-(lista[i])**2)**(0.5)*(lista[i+1]-lista[i])\n",
    "    N=N*2                                                               #here i increase the number of intervals\n",
    "    print(time.time() - start_time,\"\\t\",N,\"    \\t\", (pi/2-integral)/(pi/2))\n",
    "    \n",
    "\n",
    "print(\"As one can see the relative difference improves only of a factor of 100 if compared with the result obtained in one second\")\n"
   ]
  },
  {
   "cell_type": "code",
   "execution_count": null,
   "metadata": {},
   "outputs": [],
   "source": []
  }
 ],
 "metadata": {
  "kernelspec": {
   "display_name": "Python 3 (ipykernel)",
   "language": "python",
   "name": "python3"
  },
  "language_info": {
   "codemirror_mode": {
    "name": "ipython",
    "version": 3
   },
   "file_extension": ".py",
   "mimetype": "text/x-python",
   "name": "python",
   "nbconvert_exporter": "python",
   "pygments_lexer": "ipython3",
   "version": "3.9.4"
  }
 },
 "nbformat": 4,
 "nbformat_minor": 2
}
