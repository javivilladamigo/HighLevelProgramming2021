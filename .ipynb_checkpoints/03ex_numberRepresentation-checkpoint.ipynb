{
 "cells": [
  {
   "cell_type": "markdown",
   "metadata": {},
   "source": [
    "1\\. Write a function that converts numbers among the bin, dec, and hex representations (bin<->dec<->hex)"
   ]
  },
  {
   "cell_type": "code",
   "execution_count": 1,
   "metadata": {},
   "outputs": [
    {
     "name": "stdout",
     "output_type": "stream",
     "text": [
      "Given number is a BINARY!\n",
      "The decimal representation of the given number: 6\n",
      "The binary representation of the given number: 0b00110\n",
      "The hexadecimal representation of the given number: 0x6\n",
      "******************\n",
      "Given number is a HEXADECIMAL!\n",
      "The decimal representation of the given number: 26\n",
      "The binary representation of the given number: 0b00011010\n",
      "The hexadecimal representation of the given number: 0x1a\n",
      "******************\n",
      "Given number is a DECIMAL!\n",
      "The decimal representation of the given number: 12\n",
      "The binary representation of the given number: 0b0b1100\n",
      "The hexadecimal representation of the given number: 0xc\n",
      "******************\n"
     ]
    }
   ],
   "source": [
    "def convertNumber(x): # I assumed the number is entered as 0b... or 0x... for bin and hex\n",
    "    if x.find('b') != -1:\n",
    "        print('Given number is a BINARY!')\n",
    "        print('The decimal representation of the given number:', int(x,2))\n",
    "        print('The binary representation of the given number:', x)\n",
    "        print('The hexadecimal representation of the given number:', hex(int(x, 2)))  \n",
    "    elif x.find('x') != -1:\n",
    "        print('Given number is a HEXADECIMAL!')\n",
    "        print('The decimal representation of the given number:', int(x,16))\n",
    "        print('The binary representation of the given number:', str('0b')+str(\"{0:08b}\".format(int(x, 16))))\n",
    "        print('The hexadecimal representation of the given number:', x)  \n",
    "    else:\n",
    "        print('Given number is a DECIMAL!')\n",
    "        print('The decimal representation of the given number:', x)\n",
    "        print('The binary representation of the given number:', str('0b')+str(bin(int(x))))\n",
    "        print('The hexadecimal representation of the given number:', hex(int(x)))  \n",
    "         \n",
    "convertNumber(\"0b00110\")\n",
    "print(\"******************\")\n",
    "convertNumber(\"0x1a\")\n",
    "print(\"******************\")\n",
    "convertNumber(\"12\")\n",
    "print(\"******************\")"
   ]
  },
  {
   "cell_type": "markdown",
   "metadata": {},
   "source": [
    "2\\. Write a function that converts a 32 bit word into a single precision floating point (i.e. interprets the various bits as sign, mantissa and exponent) and check its validity."
   ]
  },
  {
   "cell_type": "code",
   "execution_count": 2,
   "metadata": {},
   "outputs": [
    {
     "data": {
      "text/plain": [
       "1.316553672920962e-36"
      ]
     },
     "execution_count": 2,
     "metadata": {},
     "output_type": "execute_result"
    }
   ],
   "source": [
    "def convertToFloatingPoint(number):\n",
    "    try:\n",
    "        s = int(number[0])        # sign,     1 bit\n",
    "        e = int(number[1:9],2)    # exponent, 8 bits\n",
    "        c = int(\"1\" + number[9:], 2) # mantissa, len(N)-9 bits = 23 bits in our case\n",
    "    except ValueError:\n",
    "        print(\"Given number is not binary!!\")\n",
    "    return (-1)**s * c / ( 1<<( len(number)-9 - (e-127) ))\n",
    "\n",
    "convertToFloatingPoint('0000001111100000000000000000000000')\n"
   ]
  },
  {
   "cell_type": "markdown",
   "metadata": {},
   "source": [
    "3\\. Write a program to determine the underflow and overflow limits (within a factor of 2) for python on your computer. \n",
    "\n",
    "**Tip**: define two variables initialized to 1 and halve/double them for a sufficient amount of times to exceed the under/over-flow limits  "
   ]
  },
  {
   "cell_type": "code",
   "execution_count": 3,
   "metadata": {},
   "outputs": [
    {
     "name": "stdout",
     "output_type": "stream",
     "text": [
      "Overflow has been detected at the iteration: 1024\n",
      "Underflow has been detected at the iteration: -1075\n"
     ]
    }
   ],
   "source": [
    "OFlow = 1.\n",
    "UFlow = 1.\n",
    "counter1 = counter2 = 0\n",
    "\n",
    "while True:\n",
    "    OFlow = OFlow*2\n",
    "    counter1 += 1\n",
    "    if OFlow == float('inf'):\n",
    "        break\n",
    "print(\"Overflow has been detected at the iteration:\", counter1) \n",
    "\n",
    "while True:\n",
    "    UFlow = UFlow/2\n",
    "    counter2 -= 1\n",
    "    if UFlow == 0:\n",
    "        break\n",
    "print(\"Underflow has been detected at the iteration:\", counter2) "
   ]
  },
  {
   "cell_type": "markdown",
   "metadata": {},
   "source": [
    "4\\. Write a program to determine the machine precision\n",
    "\n",
    "**Tip**: define a new variable by adding an increasingly smaller value (in the same way as the previous problem) and check when the addition starts to have no effect on the number"
   ]
  },
  {
   "cell_type": "code",
   "execution_count": 4,
   "metadata": {},
   "outputs": [
    {
     "name": "stdout",
     "output_type": "stream",
     "text": [
      "*********\n",
      " Smallest float number in the boundry of precision is: 1e- 17\n"
     ]
    }
   ],
   "source": [
    "increment = 1.\n",
    "base = 1.\n",
    "counter = 0\n",
    "\n",
    "while True:\n",
    "    copy = base\n",
    "    base += increment\n",
    "    increment = increment/10\n",
    "    counter += 1\n",
    "    if (copy == base): # increment so small that it doesn't make any difference\n",
    "        break\n",
    "print(\"*********\\n\",\"Smallest float number in the boundry of precision is: 1e-\", counter)"
   ]
  },
  {
   "cell_type": "markdown",
   "metadata": {},
   "source": [
    "5\\. Write a function that takes in input three parameters $a$, $b$ and $c$ and prints out the two solutions to the quadratic equation $ax^2+bx+c=0$ using the standard formula:\n",
    "$$\n",
    "x=\\frac{-b\\pm\\sqrt{b^2-4ac}}{2a}\n",
    "$$\n",
    "\n",
    "(a) use the program to compute the solution for $a=0.001$, $b=1000$ and $c=0.001$\n",
    "\n",
    "(b) re-express the standard solution formula by multiplying the numerator and the denominator by $-b\\mp\\sqrt{b^2-4ac}$ and again find the solution for $a=0.001$, $b=1000$ and $c=0.001$. How does it compare with what has been previously obtained, and why?\n",
    "\n",
    "(c) write a function that computes the roots of a quadratic equation accurately in all cases"
   ]
  },
  {
   "cell_type": "code",
   "execution_count": 5,
   "metadata": {},
   "outputs": [
    {
     "name": "stdout",
     "output_type": "stream",
     "text": [
      "x1: -9.999894245993346e-07\n",
      "x2: -999999.999999\n",
      "*******************\n",
      "x1: -1.0000000000009999e-06\n",
      "x2: -1000010.5755125057\n",
      "*******************\n",
      "Real and different roots \n",
      "x1: -9.999894245993346e-07\n",
      "x2: -999999.999999\n"
     ]
    }
   ],
   "source": [
    "from math import sqrt\n",
    "#PART A\n",
    "\n",
    "def findRoota(a,b,c):\n",
    "    delta2 = b**2 - 4*a*c\n",
    "    delta = sqrt(abs(delta2))\n",
    "    \n",
    "    print(\"x1:\",(-b + delta)/(2 * a)) \n",
    "    print(\"x2:\",(-b - delta)/(2 * a))    \n",
    "\n",
    "findRoota(0.001,1000,0.001)\n",
    "\n",
    "#PART B\n",
    "def findRootb(a,b,c):\n",
    "    delta2 = b**2 - 4*a*c\n",
    "    delta = sqrt(abs(delta2))\n",
    "    \n",
    "    x1 = (4*a*c) / ((2 * a)*(-b - delta))\n",
    "    x2 = (4*a*c) / ((2 * a)*(-b + delta))\n",
    "    \n",
    "    print(\"x1:\",x1) \n",
    "    print(\"x2:\",x2)    \n",
    "\n",
    "    \n",
    "print(\"*******************\")\n",
    "findRootb(0.001,1000,0.001)\n",
    "\n",
    "\"\"\"\n",
    "The results are similar but not exactly the same since we simplified\n",
    "the numerator after multiplication by (a**2 - b**2) formula and\n",
    "it became 4*a*c. But with the entered values, the original formula was more\n",
    "precise.\n",
    "\n",
    "\"\"\"\n",
    "\n",
    "#part c\n",
    "def findRootc(a,b,c):\n",
    "    \n",
    "    delta2 = b**2 - 4*a*c\n",
    "    delta = sqrt(abs(delta2))\n",
    "    \n",
    "    if delta2 > 0: \n",
    "        print(\"Real and different roots \") \n",
    "        print(\"x1:\",(-b + delta)/(2 * a)) \n",
    "        print(\"x2:\",(-b - delta)/(2 * a)) \n",
    "    elif delta2 == 0: \n",
    "        print(\"Real and same roots\") \n",
    "        print(\"x1,x2:\",-b / (2 * a)) \n",
    "    else:\n",
    "        print(\"Complex Roots\") \n",
    "        print(\"x1:\",- b / (2 * a), \" + i\", delta) \n",
    "        print(\"x2:\",- b / (2 * a), \" - i\", delta) \n",
    "\n",
    "print(\"*******************\")\n",
    "findRootc(0.001,1000,0.001)"
   ]
  },
  {
   "cell_type": "markdown",
   "metadata": {},
   "source": [
    "6\\. Write a program that implements the function $f(x)=x(x−1)$\n",
    "\n",
    "(a) Calculate the derivative of the function at the point $x = 1$ using the derivative definition:\n",
    "\n",
    "$$\n",
    "\\frac{{\\rm d}f}{{\\rm d}x} = \\lim_{\\delta\\to0} \\frac{f(x+\\delta)-f(x)}{\\delta}\n",
    "$$\n",
    "\n",
    "with $\\delta = 10^{−2}$. Calculate the true value of the same derivative analytically and compare it with the answer your program gives. The two will not agree perfectly. Why?\n",
    "\n",
    "(b) Repeat the calculation for $\\delta = 10^{−4}, 10^{−6}, 10^{−8}, 10^{−10}, 10^{−12}$ and $10^{−14}$. How does the accuracy scales with $\\delta$?"
   ]
  },
  {
   "cell_type": "code",
   "execution_count": 6,
   "metadata": {},
   "outputs": [
    {
     "name": "stdout",
     "output_type": "stream",
     "text": [
      "delta: 1e-2 Derivative: 1.010000000000001\n",
      "delta: 0.0001 Derivative: 1.0000999999998899\n",
      "delta: 1e-06 Derivative: 1.0000009999177333\n",
      "delta: 1e-08 Derivative: 1.0000000039225287\n",
      "delta: 1e-10 Derivative: 1.000000082840371\n",
      "delta: 1e-12 Derivative: 1.0000889005833413\n",
      "delta: 1e-14 Derivative: 0.9992007221626509\n"
     ]
    },
    {
     "data": {
      "text/plain": [
       "\"\\nPART A:\\nAnalytical Result:\\n\\nf(x) = x(x-1) = x**2 - x\\nd/dx(f(x)) = 2x -1\\nd/dx(f(1)) = 1\\n\\nBut from the function we get 1.01 with delta = 0.001\\nThe difference comes from the delta. Since it's not exactly zero, it deviates\\nfrom the theoretical result. As we keep decreasing the delta it will converge\\nto the true result!\\n\\nPART B:\\nUntil delta = 10**-8 the accuracy increases but after that, it starts to deviate from the true result again.\\n\\n\""
      ]
     },
     "execution_count": 6,
     "metadata": {},
     "output_type": "execute_result"
    }
   ],
   "source": [
    "def func(x):\n",
    "    return x*(x-1)\n",
    "\n",
    "deltaList = [1e-4, 1e-6, 1e-8, 1e-10, 1e-12, 1e-14]\n",
    "\n",
    "def derivative(function, x, delta):\n",
    "    numer = function(x + delta) - function(x)\n",
    "    denom = delta\n",
    "    slope = numer / denom\n",
    "    # Returns the slope to the third decimal\n",
    "    return float(slope)\n",
    "\n",
    "print(\"delta: 1e-2\", \"Derivative:\", derivative(func,1,1e-2)) # the result is 1.010000000000001++\n",
    "\n",
    "\n",
    "for i in range(6):\n",
    "    print(\"delta:\", deltaList[i], \"Derivative:\", derivative(func,1,deltaList[i]))\n",
    "\n",
    "\"\"\"\n",
    "PART A:\n",
    "Analytical Result:\n",
    "\n",
    "f(x) = x(x-1) = x**2 - x\n",
    "d/dx(f(x)) = 2x -1\n",
    "d/dx(f(1)) = 1\n",
    "\n",
    "But from the function we get 1.01 with delta = 0.001\n",
    "The difference comes from the delta. Since it's not exactly zero, it deviates\n",
    "from the theoretical result. As we keep decreasing the delta it will converge\n",
    "to the true result!\n",
    "\n",
    "PART B:\n",
    "Until delta = 10**-8 the accuracy increases but after that, it starts to deviate from the true result again.\n",
    "\n",
    "\"\"\""
   ]
  },
  {
   "cell_type": "markdown",
   "metadata": {},
   "source": [
    "7\\. Consider the integral of the semicircle of radius 1:\n",
    "$$\n",
    "I=\\int_{-1}^{1} \\sqrt(1-x^2) {\\rm d}x\n",
    "$$\n",
    "which is known to be $I=\\frac{\\pi}{2}=1.57079632679...$.\n",
    "\n",
    "Alternatively we can use the Riemann definition of the integral:\n",
    "$$\n",
    "I=\\lim_{N\\to\\infty} \\sum_{k=1}^{N} h y_k \n",
    "$$\n",
    "\n",
    "with $h=2/N$ the width of each of the $N$ slices the domain is divided into and where\n",
    "$y_k$ is the value of the function at the $k-$th slice.\n",
    "\n",
    "(a) Write a program to compute the integral with $N=100$. How does the result compare to the true value?\n",
    "\n",
    "(b) How much can $N$ be increased if the computation needs to be run in less than a second? What is the gain in running it for 1 minute? \n"
   ]
  },
  {
   "cell_type": "code",
   "execution_count": 7,
   "metadata": {},
   "outputs": [
    {
     "name": "stdout",
     "output_type": "stream",
     "text": [
      "Result with N=100 1.565154305800824\n",
      "The time passed: 1.0390207767486572 seconds\n",
      "max(N) is approximately 1668000\n",
      "1.5707963267892842\n",
      "The time passed: 58.40191078186035 seconds\n",
      "Gain: 0.005642020988460228\n"
     ]
    }
   ],
   "source": [
    "import numpy as np\n",
    "import math\n",
    "import time\n",
    "\n",
    "N=100;\n",
    "f = lambda x: math.sqrt(1-x**2)\n",
    "\n",
    "def riemannSum(func,x,y,N): #limits of integral = (x,y), N = limit of sum, func = function on which the sum is calculated\n",
    "    sumValue = 0\n",
    "    h = (y-x)/N\n",
    "    for i in range(0,N-1):\n",
    "        sumValue = sumValue + func(x+i*h) * h\n",
    "    return sumValue\n",
    "\n",
    "\n",
    "#PART A\n",
    "a = riemannSum(f,-1,1,N)\n",
    "print(\"Result with N=100\", a)  # N=100\n",
    "\n",
    "\"\"\"\n",
    "Since reimann sum does not converges to the true value completely with\n",
    "N=100, it is a little off from the true result.\n",
    "\n",
    "\"\"\"\n",
    "\n",
    "\n",
    "#PART B\n",
    "start_time = time.time()\n",
    "riemannSum(f,-1,1,1668000)\n",
    "print(\"The time passed:\",time.time() - start_time,\"seconds\")\n",
    "print(\"max(N) is approximately 1668000\")\n",
    "\n",
    "\n",
    "\n",
    "# FOR THIS PART, WE NEED TO WAIT FOR 1 MIN TO SEE THE RESULT\n",
    "\n",
    "start_time = time.time()\n",
    "b = riemannSum(f,-1,1,100000000)\n",
    "print(b)\n",
    "print(\"The time passed:\",time.time() - start_time,\"seconds\")\n",
    "print(\"Gain:\", b-a)"
   ]
  },
  {
   "cell_type": "code",
   "execution_count": null,
   "metadata": {},
   "outputs": [],
   "source": []
  },
  {
   "cell_type": "code",
   "execution_count": null,
   "metadata": {},
   "outputs": [],
   "source": []
  }
 ],
 "metadata": {
  "kernelspec": {
   "display_name": "Python 3",
   "language": "python",
   "name": "python3"
  },
  "language_info": {
   "codemirror_mode": {
    "name": "ipython",
    "version": 3
   },
   "file_extension": ".py",
   "mimetype": "text/x-python",
   "name": "python",
   "nbconvert_exporter": "python",
   "pygments_lexer": "ipython3",
   "version": "3.8.5"
  }
 },
 "nbformat": 4,
 "nbformat_minor": 2
}
