{
 "cells": [
  {
   "cell_type": "markdown",
   "metadata": {},
   "source": [
    "1\\. Write a function that converts numbers among the bin, dec, and hex representations (bin<->dec<->hex)"
   ]
  },
  {
   "cell_type": "code",
   "execution_count": 1,
   "metadata": {},
   "outputs": [
    {
     "name": "stdout",
     "output_type": "stream",
     "text": [
      "In which base do you want to convert your number ?\n",
      "Type 2 for bin\n",
      "Type 10 for dec\n",
      "Type 16 for hex\n",
      "2\n",
      "0b1101\n",
      "In which base do you want to convert your number ?\n",
      "Type 2 for bin\n",
      "Type 10 for dec\n",
      "Type 16 for hex\n",
      "16\n",
      "0xd\n",
      "In which base do you want to convert your number ?\n",
      "Type 2 for bin\n",
      "Type 10 for dec\n",
      "Type 16 for hex\n",
      "10\n",
      "13\n"
     ]
    }
   ],
   "source": [
    "def convert (n):\n",
    "    while True:\n",
    "        if type(n)==int:\n",
    "            base=10\n",
    "        elif type(n) == str :\n",
    "            if n[1]=='x':\n",
    "                base=16\n",
    "            elif n[1]=='b': \n",
    "                base=2\n",
    "\n",
    "        choix=int(input(\"In which base do you want to convert your number ?\\nType 2 for bin\\nType 10 for dec\\nType 16 for hex\\n\"))\n",
    "        if base==2:\n",
    "            if choix==2:\n",
    "                return (n)\n",
    "            if choix==10:\n",
    "                return(int(n,2))\n",
    "            if choix==16:\n",
    "                return(hex(int(n,2)))\n",
    "        if base==10:\n",
    "            if choix==2:\n",
    "                return (bin(n))\n",
    "            if choix==10:\n",
    "                return(n)\n",
    "            if choix==16:\n",
    "                return(hex(n))\n",
    "        if base==16:\n",
    "            if choix==2:\n",
    "                return (bin(int(n,16)))\n",
    "            if choix==10:\n",
    "                return(int(n,16))\n",
    "            if choix==16:\n",
    "                return(n)\n",
    "        print (\"error please type 1,2 or 3\")\n",
    "        \n",
    "a=13\n",
    "a_bin=bin(a)\n",
    "a_hex=(hex(a))\n",
    "print (convert(a))\n",
    "print (convert(a_bin))\n",
    "print(convert(a_hex))"
   ]
  },
  {
   "cell_type": "markdown",
   "metadata": {},
   "source": [
    "2\\. Write a function that converts a 32 bit word into a single precision floating point (i.e. interprets the various bits as sign, mantissa and exponent) and check its validity."
   ]
  },
  {
   "cell_type": "code",
   "execution_count": 3,
   "metadata": {},
   "outputs": [
    {
     "name": "stdout",
     "output_type": "stream",
     "text": [
      "1.316553672920962e-36\n",
      "-5.5\n"
     ]
    }
   ],
   "source": [
    "def bitWord2Float(bit):\n",
    "    s=bit[0]\n",
    "    e=bit[1:9]\n",
    "    m=bit[9:]\n",
    "    e_dec=0\n",
    "    m_dec=0\n",
    "    s_dec=(-1)**int(s)\n",
    "    for i in range(8):\n",
    "        e_dec+=int(e[7-i])*(2**i)\n",
    "    for i in range(23):\n",
    "        m_dec+=int(m[i])*(2**(-i-1))\n",
    "    return(s_dec*(1+m_dec)*(2**(e_dec-127)))\n",
    "\n",
    "           \n",
    "ex1=\"00000011111000000000000000000000\"\n",
    "ex2=\"11000000101100000000000000000000\"\n",
    "\n",
    "print(bitWord2Float(ex1))\n",
    "print(bitWord2Float(ex2))"
   ]
  },
  {
   "cell_type": "markdown",
   "metadata": {},
   "source": [
    "3\\. Write a program to determine the underflow and overflow limits (within a factor of 2) for python on your computer. \n",
    "\n",
    "**Tip**: define two variables initialized to 1 and halve/double them for a sufficient amount of times to exceed the under/over-flow limits  "
   ]
  },
  {
   "cell_type": "code",
   "execution_count": 14,
   "metadata": {},
   "outputs": [
    {
     "name": "stdout",
     "output_type": "stream",
     "text": [
      "underflow limit within a factor 2: 2 power -1075 = 10 power -323\n",
      "overflow limit within a factor 2: 2 power 1024 = 10 power 308\n"
     ]
    }
   ],
   "source": [
    "import math\n",
    "\n",
    "underflow=1.0\n",
    "overflow =1.0\n",
    "\n",
    "i=0\n",
    "while underflow>0.0: \n",
    "    underflow=underflow/2\n",
    "    i+=1\n",
    "    \n",
    "print(\"underflow limit within a factor 2: 2 power\",-i,\"= 10 power\",round(math.log10(2**-i)))\n",
    "\n",
    "j=0 \n",
    "while overflow < float('inf'):\n",
    "    overflow=overflow*2\n",
    "    j+=1\n",
    "print(\"overflow limit within a factor 2: 2 power\",j,\"= 10 power\",round(math.log10(2**j)))"
   ]
  },
  {
   "cell_type": "markdown",
   "metadata": {},
   "source": [
    "4\\. Write a program to determine the machine precision\n",
    "\n",
    "**Tip**: define a new variable by adding an increasingly smaller value (in the same way as the previous problem) and check when the addition starts to have no effect on the number"
   ]
  },
  {
   "cell_type": "code",
   "execution_count": 15,
   "metadata": {},
   "outputs": [
    {
     "name": "stdout",
     "output_type": "stream",
     "text": [
      "precision: 2 power -50 = 10 power -15\n"
     ]
    }
   ],
   "source": [
    "n=10 #number initial\n",
    "e=0 #exponent\n",
    "\n",
    "while n+2**-e != n :\n",
    "    e+=1\n",
    "\n",
    "print(\"precision: 2 power\",-e,\"= 10 power\",round(math.log10(2**-e)))"
   ]
  },
  {
   "cell_type": "markdown",
   "metadata": {},
   "source": [
    "5\\. Write a function that takes in input three parameters $a$, $b$ and $c$ and prints out the two solutions to the quadratic equation $ax^2+bx+c=0$ using the standard formula:\n",
    "$$\n",
    "x=\\frac{-b\\pm\\sqrt{b^2-4ac}}{2a}\n",
    "$$\n",
    "\n",
    "(a) use the program to compute the solution for $a=0.001$, $b=1000$ and $c=0.001$\n",
    "\n",
    "(b) re-express the standard solution formula by multiplying the numerator and the denominator by $-b\\mp\\sqrt{b^2-4ac}$ and again find the solution for $a=0.001$, $b=1000$ and $c=0.001$. How does it compare with what has been previously obtained, and why?\n",
    "\n",
    "(c) write a function that computes the roots of a quadratic equation accurately in all cases"
   ]
  },
  {
   "cell_type": "code",
   "execution_count": 89,
   "metadata": {},
   "outputs": [
    {
     "name": "stdout",
     "output_type": "stream",
     "text": [
      "sol 1: (-999999.999999, -9.999894245993346e-07)\n",
      "sol 2: (-1000010.5755125057, -1.000000000001e-06)\n",
      "correct sol are [-1.e+06 -1.e-06]\n"
     ]
    }
   ],
   "source": [
    "def quadric(a,b,c):\n",
    "    if a!=0:\n",
    "        delta=b**2-4*a*c\n",
    "        if delta>=0:\n",
    "            x1=(-b-math.sqrt(delta))/(2*a)\n",
    "            x2=(-b+math.sqrt(delta))/(2*a)\n",
    "            return (x1,x2)\n",
    "    print (\"error a=0 or no real solution\")\n",
    "\n",
    "#a)\n",
    "print(\"sol 1:\",quadric(0.001,1000,0.001))\n",
    "\n",
    "def quadric2(a,b,c):\n",
    "    if a!=0:\n",
    "        delta=b**2-4*a*c\n",
    "        if delta>=0:\n",
    "            x1=2*c/(-b+math.sqrt(delta))\n",
    "            x2=2*c/(-b-math.sqrt(delta))\n",
    "            return (x1,x2)\n",
    "    print (\"error a=0 or no real solution\")\n",
    "#b)\n",
    "print(\"sol 2:\",quadric2(0.001,1000,0.001))\n",
    "\n",
    "import numpy as np\n",
    "\n",
    "print(\"correct sol are\", np.roots([0.001,1000,0.001]))\n"
   ]
  },
  {
   "cell_type": "raw",
   "metadata": {},
   "source": [
    "In the first function x2 is wrong, in the second function x1 is wrong.\n",
    "The problem is the operation -b + sqrt(d), that is in x2 for the first function and in x1 for the second function.\n",
    "To solve the problem we have to avoid this operation."
   ]
  },
  {
   "cell_type": "code",
   "execution_count": 90,
   "metadata": {},
   "outputs": [
    {
     "name": "stdout",
     "output_type": "stream",
     "text": [
      "sol 3: (-999999.999999, -1.000000000001e-06)\n"
     ]
    }
   ],
   "source": [
    "def quadric3(a,b,c):\n",
    "    if a!=0:\n",
    "        delta=b**2-4*a*c\n",
    "        if delta>=0:\n",
    "            x1=(-b-math.sqrt(delta))/(2*a)\n",
    "            x2=2*c/(-b-math.sqrt(delta))\n",
    "            return x1,x2\n",
    "    print (\"error a=0 or no real solution\")\n",
    "\n",
    "print(\"sol 3:\",quadric3(0.001,1000,0.001))"
   ]
  },
  {
   "cell_type": "markdown",
   "metadata": {},
   "source": [
    "6\\. Write a program that implements the function $f(x)=x(x−1)$\n",
    "\n",
    "(a) Calculate the derivative of the function at the point $x = 1$ using the derivative definition:\n",
    "\n",
    "$$\n",
    "\\frac{{\\rm d}f}{{\\rm d}x} = \\lim_{\\delta\\to0} \\frac{f(x+\\delta)-f(x)}{\\delta}\n",
    "$$\n",
    "\n",
    "with $\\delta = 10^{−2}$. Calculate the true value of the same derivative analytically and compare it with the answer your program gives. The two will not agree perfectly. Why?\n",
    "\n",
    "(b) Repeat the calculation for $\\delta = 10^{−4}, 10^{−6}, 10^{−8}, 10^{−10}, 10^{−12}$ and $10^{−14}$. How does the accuracy scales with $\\delta$?"
   ]
  },
  {
   "cell_type": "code",
   "execution_count": 42,
   "metadata": {},
   "outputs": [
    {
     "name": "stdout",
     "output_type": "stream",
     "text": [
      "for delta= 0.01 we get: f'(1)= 1.010000000000001  which is an error of 10 power -2\n",
      "for delta= 0.0001 we get: f'(1)= 1.0000999999998899  which is an error of 10 power -4\n",
      "for delta= 1e-06 we get: f'(1)= 1.0000009999177333  which is an error of 10 power -6\n",
      "for delta= 1e-08 we get: f'(1)= 1.0000000039225287  which is an error of 10 power -8\n",
      "for delta= 1e-10 we get: f'(1)= 1.000000082840371  which is an error of 10 power -7\n",
      "for delta= 1e-12 we get: f'(1)= 1.0000889005833413  which is an error of 10 power -4\n",
      "for delta= 1e-14 we get: f'(1)= 0.9992007221626509  which is an error of 10 power -3\n"
     ]
    }
   ],
   "source": [
    "def f(x):\n",
    "    return(x*(x-1))\n",
    "\n",
    "def deriv(fun,delta,x):\n",
    "    return((f(x+delta)-f(x))/delta)\n",
    "\n",
    "for e in range(1,8):\n",
    "    derivate=deriv(f,10**(-2*e),1)\n",
    "    print(\"for delta=\",10**(-2*e),\"we get: f'(1)=\",derivate,\" which is an error of 10 power\",round(math.log10(abs(derivate-1))))"
   ]
  },
  {
   "cell_type": "raw",
   "metadata": {},
   "source": [
    "a)The two answer doesn't match perfectly because delta is small but so it's a good approximation of the limit but it's not the exact value we get using the limit\n",
    "b)The accuracy first increase while delta get smaller because the cacul become a better approximation of the limit. Howerver when we reach delta=1e-10 the accuracy decrease, it's because we reach the precision limite."
   ]
  },
  {
   "cell_type": "markdown",
   "metadata": {},
   "source": [
    "7\\. Consider the integral of the semicircle of radius 1:\n",
    "$$\n",
    "I=\\int_{-1}^{1} \\sqrt(1-x^2) {\\rm d}x\n",
    "$$\n",
    "which is known to be $I=\\frac{\\pi}{2}=1.57079632679...$.\n",
    "\n",
    "Alternatively we can use the Riemann definition of the integral:\n",
    "$$\n",
    "I=\\lim_{N\\to\\infty} \\sum_{k=1}^{N} h y_k \n",
    "$$\n",
    "\n",
    "with $h=2/N$ the width of each of the $N$ slices the domain is divided into and where\n",
    "$y_k$ is the value of the function at the $k-$th slice.\n",
    "\n",
    "(a) Write a program to compute the integral with $N=100$. How does the result compare to the true value?\n",
    "\n",
    "(b) How much can $N$ be increased if the computation needs to be run in less than a second? What is the gain in running it for 1 minute? \n"
   ]
  },
  {
   "cell_type": "code",
   "execution_count": 74,
   "metadata": {},
   "outputs": [
    {
     "name": "stdout",
     "output_type": "stream",
     "text": [
      "error for N=100 of 10 power -2\n",
      "in  0.87 sec error of 10 power -6\n",
      "in  61.0 sec error of 10 power -8\n"
     ]
    }
   ],
   "source": [
    "#a)\n",
    "def I(N):\n",
    "    n= np.linspace(-1,1,N)\n",
    "    return (2/(N)) * np.sum([ (math.sqrt(1-k**2)) for k in n])\n",
    "\n",
    "print(\"error for N=100 of 10 power\",round(math.log10(abs(I(100)-np.pi/2)))) \n",
    "#the precision is not bad, 10 power -N which is the invers of the temporal compexcilty of the prog\n",
    "\n",
    "#b)\n",
    "import time  \n",
    "\n",
    "#1sec\n",
    "ti = time.time() \n",
    "res1=I(800000)\n",
    "tf = time.time() \n",
    "print(\"in \" ,round(tf-ti,2),\"sec error of 10 power\",round(math.log10(abs(res1-np.pi/2))))\n",
    "\n",
    "#1min\n",
    "ti = time.time() \n",
    "res60=I(50000000)\n",
    "tf = time.time() \n",
    "print(\"in \" ,round(tf-ti,2),\"sec error of 10 power\",round(math.log10(abs(res60-np.pi/2))))\n"
   ]
  },
  {
   "cell_type": "raw",
   "metadata": {},
   "source": [
    "we gain 10**2 by running the prof for 1 min"
   ]
  }
 ],
 "metadata": {
  "kernelspec": {
   "display_name": "Python 3",
   "language": "python",
   "name": "python3"
  },
  "language_info": {
   "codemirror_mode": {
    "name": "ipython",
    "version": 3
   },
   "file_extension": ".py",
   "mimetype": "text/x-python",
   "name": "python",
   "nbconvert_exporter": "python",
   "pygments_lexer": "ipython3",
   "version": "3.8.5"
  }
 },
 "nbformat": 4,
 "nbformat_minor": 2
}
