{
 "cells": [
  {
   "cell_type": "markdown",
   "metadata": {},
   "source": [
    "1\\. Find the total mean, and the mean for each row and column of the following matrix:\n",
    "\n",
    "```python\n",
    "m = np.arange(12).reshape((3,4))\n",
    "```"
   ]
  },
  {
   "cell_type": "code",
   "execution_count": 2,
   "metadata": {},
   "outputs": [],
   "source": [
    "import numpy as np"
   ]
  },
  {
   "cell_type": "code",
   "execution_count": 5,
   "metadata": {},
   "outputs": [
    {
     "name": "stdout",
     "output_type": "stream",
     "text": [
      "[[ 0  1  2  3]\n",
      " [ 4  5  6  7]\n",
      " [ 8  9 10 11]]\n",
      "the total mean:  5.5\n",
      "the mean for each row:  [1.5 5.5 9.5]\n",
      "the mean for each column:  [4. 5. 6. 7.]\n"
     ]
    }
   ],
   "source": [
    "m = np.arange(12).reshape((3,4))\n",
    "print(m)\n",
    "print(\"the total mean: \",m.mean())\n",
    "print(\"the mean for each row: \",m.mean(axis=1))\n",
    "print(\"the mean for each column: \",m.mean(axis=0))"
   ]
  },
  {
   "cell_type": "markdown",
   "metadata": {},
   "source": [
    "2\\. Find the outer product of the following vectors:\n",
    "\n",
    "```python\n",
    "u = np.array([1, 3, 5, 7])\n",
    "v = np.array([2, 4, 6, 8])\n",
    "```\n",
    "\n",
    "Use different methods to do this:\n",
    "\n",
    "   1. Using the function `outer` in numpy\n",
    "   2. Using a nested `for` loop or a list comprehension\n",
    "   3. Using numpy broadcasting operations"
   ]
  },
  {
   "cell_type": "code",
   "execution_count": 20,
   "metadata": {},
   "outputs": [
    {
     "name": "stdout",
     "output_type": "stream",
     "text": [
      "np.outer: \n",
      " [[ 2  4  6  8]\n",
      " [ 6 12 18 24]\n",
      " [10 20 30 40]\n",
      " [14 28 42 56]]\n",
      "list comprehension:\n",
      " [[ 2  4  6  8]\n",
      " [ 6 12 18 24]\n",
      " [10 20 30 40]\n",
      " [14 28 42 56]]\n",
      "broadcasting operation:\n",
      " [[ 2  4  6  8]\n",
      " [ 6 12 18 24]\n",
      " [10 20 30 40]\n",
      " [14 28 42 56]]\n"
     ]
    }
   ],
   "source": [
    "u = np.array([1, 3, 5, 7])\n",
    "v = np.array([2, 4, 6, 8])\n",
    "\n",
    "#1. using the outer function\n",
    "print(\"np.outer: \\n\",np.outer(u,v))\n",
    " \n",
    "#2.for loop or a list comprehension\n",
    "print(\"list comprehension:\\n\",np.array([[i*j for j in v] for i in u]))\n",
    "\n",
    "#3. broadcasting operation\n",
    "print(\"broadcasting operation:\\n\",u.reshape(len(u),1)*v)"
   ]
  },
  {
   "cell_type": "markdown",
   "metadata": {},
   "source": [
    "3\\. Create a 10 by 6 matrix of increasing float numbers, starting from zero and increasing in each step by 0.1, so the output matrix looks like the following:\n",
    "\n",
    "```python\n",
    "m = [[0. 0.1, 0.2 0.3 ... 0.9]\n",
    "     [1.0 1.1 1.2 1.3 ... 1.9]\n",
    "     ...\n",
    "     [5.0 5.1 5.2 5.3 ... 5.9]]\n",
    "```\n",
    "After creating the matrix, set all entries with a decimal part $< 0.4$ to zero."
   ]
  },
  {
   "cell_type": "code",
   "execution_count": 30,
   "metadata": {},
   "outputs": [
    {
     "name": "stdout",
     "output_type": "stream",
     "text": [
      "[[0.  0.1 0.2 0.3 0.4 0.5 0.6 0.7 0.8 0.9]\n",
      " [1.  1.1 1.2 1.3 1.4 1.5 1.6 1.7 1.8 1.9]\n",
      " [2.  2.1 2.2 2.3 2.4 2.5 2.6 2.7 2.8 2.9]\n",
      " [3.  3.1 3.2 3.3 3.4 3.5 3.6 3.7 3.8 3.9]\n",
      " [4.  4.1 4.2 4.3 4.4 4.5 4.6 4.7 4.8 4.9]\n",
      " [5.  5.1 5.2 5.3 5.4 5.5 5.6 5.7 5.8 5.9]]\n",
      "[[0.  0.  0.  0.  0.4 0.5 0.6 0.7 0.8 0.9]\n",
      " [0.  0.  0.  0.  0.  1.5 1.6 1.7 1.8 1.9]\n",
      " [0.  0.  0.  0.  0.  2.5 2.6 2.7 2.8 2.9]\n",
      " [0.  0.  0.  0.  0.  3.5 3.6 3.7 3.8 3.9]\n",
      " [0.  0.  0.  0.  4.4 4.5 4.6 4.7 4.8 4.9]\n",
      " [0.  0.  0.  0.  5.4 5.5 5.6 5.7 5.8 5.9]]\n"
     ]
    }
   ],
   "source": [
    "n=np.arange(0,6).reshape(6,1)\n",
    "m=np.tile(np.arange(0,1,0.1),(6,1))+n\n",
    "print(m)\n",
    "m[m-n < 0.4 ] = 0\n",
    "print(m)"
   ]
  },
  {
   "cell_type": "markdown",
   "metadata": {},
   "source": [
    "4. Use `np.linspace` to create an array of 100 numbers between 0 and 2π (inclusive).\n",
    "\n",
    "  * Extract every 10th element using the slice notation\n",
    "  * Reverse the array using the slice notation\n",
    "  * Extract elements where the absolute difference between the sin and cos functions evaluated for that element is $< 0.1$\n",
    "  * **Optional**: make a plot showing the sin and cos functions and indicate where they are close"
   ]
  },
  {
   "cell_type": "code",
   "execution_count": 77,
   "metadata": {},
   "outputs": [
    {
     "name": "stdout",
     "output_type": "stream",
     "text": [
      "10th element:\n",
      " [0.57119866 1.20586385 1.84052903 2.47519421 3.10985939 3.74452458\n",
      " 4.37918976 5.01385494 5.64852012 6.28318531] \n",
      "\n",
      "Reverse the array:\n",
      " [6.28318531 6.21971879 6.15625227 6.09278575 6.02931923 5.96585272\n",
      " 5.9023862  5.83891968 5.77545316 5.71198664 5.64852012 5.58505361\n",
      " 5.52158709 5.45812057 5.39465405 5.33118753 5.26772102 5.2042545\n",
      " 5.14078798 5.07732146 5.01385494 4.95038842 4.88692191 4.82345539\n",
      " 4.75998887 4.69652235 4.63305583 4.56958931 4.5061228  4.44265628\n",
      " 4.37918976 4.31572324 4.25225672 4.1887902  4.12532369 4.06185717\n",
      " 3.99839065 3.93492413 3.87145761 3.8079911  3.74452458 3.68105806\n",
      " 3.61759154 3.55412502 3.4906585  3.42719199 3.36372547 3.30025895\n",
      " 3.23679243 3.17332591 3.10985939 3.04639288 2.98292636 2.91945984\n",
      " 2.85599332 2.7925268  2.72906028 2.66559377 2.60212725 2.53866073\n",
      " 2.47519421 2.41172769 2.34826118 2.28479466 2.22132814 2.15786162\n",
      " 2.0943951  2.03092858 1.96746207 1.90399555 1.84052903 1.77706251\n",
      " 1.71359599 1.65012947 1.58666296 1.52319644 1.45972992 1.3962634\n",
      " 1.33279688 1.26933037 1.20586385 1.14239733 1.07893081 1.01546429\n",
      " 0.95199777 0.88853126 0.82506474 0.76159822 0.6981317  0.63466518\n",
      " 0.57119866 0.50773215 0.44426563 0.38079911 0.31733259 0.25386607\n",
      " 0.19039955 0.12693304 0.06346652 0.        ] \n",
      "\n",
      "the absolute difference between the sin and cos functions evaluated for that element is  <0.1:\n",
      " [0.76159822 0.82506474 3.87145761 3.93492413]\n"
     ]
    },
    {
     "data": {
      "text/plain": [
       "<matplotlib.collections.PolyCollection at 0x1c927dba3a0>"
      ]
     },
     "execution_count": 77,
     "metadata": {},
     "output_type": "execute_result"
    },
    {
     "data": {
      "image/png": "[encoded data removed]",
      "text/plain": [
       "<Figure size 432x288 with 1 Axes>"
      ]
     },
     "metadata": {
      "needs_background": "light"
     },
     "output_type": "display_data"
    }
   ],
   "source": [
    "x = np.linspace(0, 2*np.pi, 100)\n",
    "print(\"10th element:\\n\",x[range(9,101,10)],\"\\n\")\n",
    "print(\"Reverse the array:\\n\",x[::-1],\"\\n\")\n",
    "mask = np.abs(np.sin(x)-np.cos(x))<0.1\n",
    "print(\"the absolute difference between the sin and cos functions evaluated for that element is  <0.1:\\n\",x[mask])\n",
    "\n",
    "import matplotlib.pyplot as plt\n",
    "plt.plot(x,np.sin(x))\n",
    "plt.plot(x,np.cos(x))\n",
    "plt.fill_between(x[mask],np.sin(x[mask]),np.cos(x[mask]))"
   ]
  },
  {
   "cell_type": "markdown",
   "metadata": {},
   "source": [
    "5\\. Create a matrix that shows the 10 by 10 multiplication table.\n",
    "\n",
    " * Find the trace of the matrix\n",
    " * Extract the anti-diagonal matrix (this should be ```array([10, 18, 24, 28, 30, 30, 28, 24, 18, 10])```)\n",
    " * Extract the diagonal offset by 1 upwards (this should be ```array([ 2,  6, 12, 20, 30, 42, 56, 72, 90])```)"
   ]
  },
  {
   "cell_type": "code",
   "execution_count": 73,
   "metadata": {},
   "outputs": [
    {
     "name": "stdout",
     "output_type": "stream",
     "text": [
      "the matrix:\n",
      " [[  1   2   3   4   5   6   7   8   9  10]\n",
      " [  2   4   6   8  10  12  14  16  18  20]\n",
      " [  3   6   9  12  15  18  21  24  27  30]\n",
      " [  4   8  12  16  20  24  28  32  36  40]\n",
      " [  5  10  15  20  25  30  35  40  45  50]\n",
      " [  6  12  18  24  30  36  42  48  54  60]\n",
      " [  7  14  21  28  35  42  49  56  63  70]\n",
      " [  8  16  24  32  40  48  56  64  72  80]\n",
      " [  9  18  27  36  45  54  63  72  81  90]\n",
      " [ 10  20  30  40  50  60  70  80  90 100]] \n",
      "\n",
      "the trace of the matrix:\n",
      " 385 \n",
      "\n",
      "the anti-diagonal matrix:\n",
      " [10 18 24 28 30 30 28 24 18 10] \n",
      "\n",
      "the diagonal offset by 1 upwards:\n",
      " [ 2  6 12 20 30 42 56 72 90]\n"
     ]
    }
   ],
   "source": [
    "m=np.arange(1,11)*np.arange(1,11).reshape(10,1)\n",
    "print(\"the matrix:\\n\",m,\"\\n\")\n",
    "print(\"the trace of the matrix:\\n\",m.trace(),\"\\n\")\n",
    "print(\"the anti-diagonal matrix:\\n\",m[range(0,10,1),range(9,-1,-1)],\"\\n\")\n",
    "print(\"the diagonal offset by 1 upwards:\\n\",m[range(0,9),range(1,10)])"
   ]
  },
  {
   "cell_type": "markdown",
   "metadata": {},
   "source": [
    "6\\. Use broadcasting to create a grid of distances.\n",
    "\n",
    "Route 66 crosses the following cities in the US: Chicago, Springfield, Saint-Louis, Tulsa, Oklahoma City, Amarillo, Santa Fe, Albuquerque, Flagstaff, Los Angeles\n",
    "The corresponding positions in miles are: 0, 198, 303, 736, 871, 1175, 1475, 1544, 1913, 2448\n",
    "\n",
    "  * Build a 2D grid of distances among each city along Route 66\n",
    "  * Convert the distances in km"
   ]
  },
  {
   "cell_type": "code",
   "execution_count": 100,
   "metadata": {},
   "outputs": [
    {
     "data": {
      "text/plain": [
       "Text(0.5, 1.0, 'distance in Km')"
      ]
     },
     "execution_count": 100,
     "metadata": {},
     "output_type": "execute_result"
    },
    {
     "data": {
      "image/png": "[encoded data removed]",
      "text/plain": [
       "<Figure size 432x288 with 1 Axes>"
      ]
     },
     "metadata": {
      "needs_background": "light"
     },
     "output_type": "display_data"
    },
    {
     "data": {
      "image/png": "[encoded data removed]",
      "text/plain": [
       "<Figure size 432x288 with 1 Axes>"
      ]
     },
     "metadata": {
      "needs_background": "light"
     },
     "output_type": "display_data"
    }
   ],
   "source": [
    "l= [0, 198, 303, 736, 871, 1175, 1475, 1544, 1913, 2448]\n",
    "names = [ \"Chicago\", \"Springfield\", \"Saint-Louis\", \"Tulsa\", \"Oklahoma City\", \"Amarillo\", \"Santa Fe\", \"Albuquerque\", \"Flagstaff\", \"Los Angeles\"]\n",
    "\n",
    "#Build a 2D grid of distances among each city along Route 66\n",
    "fig1 = plt.figure()\n",
    "plt.plot(l,names,\"*\")\n",
    "plt.title(\"distance in miles\")\n",
    "#Convert the distances in km\n",
    "km=np.array([i*(1.60934) for i in l])\n",
    "plt.figure()\n",
    "plt.plot(km,names,\"*\")\n",
    "plt.title(\"distance in Km\")"
   ]
  },
  {
   "cell_type": "markdown",
   "metadata": {},
   "source": [
    "7\\. Prime numbers sieve: compute the prime numbers in the 0-N (start with N=99) range with a sieve (mask).\n",
    "  * Check the performances (timeit); how does it scale with N?\n",
    "  * Implement the optimization suggested in the [sieve of Eratosthenes](https://en.wikipedia.org/wiki/Sieve_of_Eratosthenes)"
   ]
  },
  {
   "cell_type": "code",
   "execution_count": 182,
   "metadata": {},
   "outputs": [
    {
     "name": "stdout",
     "output_type": "stream",
     "text": [
      "loop timeit \n",
      "\n",
      "N=100\n",
      "406 µs ± 14.1 µs per loop (mean ± std. dev. of 7 runs, 1000 loops each)\n",
      "N=200\n",
      "1.59 ms ± 49.9 µs per loop (mean ± std. dev. of 7 runs, 1000 loops each)\n",
      "N=500\n",
      "9.66 ms ± 529 µs per loop (mean ± std. dev. of 7 runs, 100 loops each)\n",
      "\n",
      " \n",
      "\n",
      "sieve_of_Eratosthenes \n",
      "\n",
      "N=100\n",
      "29.3 µs ± 1.39 µs per loop (mean ± std. dev. of 7 runs, 10000 loops each)\n",
      "N=200\n",
      "52.3 µs ± 2.05 µs per loop (mean ± std. dev. of 7 runs, 10000 loops each)\n",
      "N=500\n",
      "122 µs ± 3.96 µs per loop (mean ± std. dev. of 7 runs, 10000 loops each)\n",
      "\n",
      " \n",
      "\n"
     ]
    }
   ],
   "source": [
    "import math as m\n",
    "def prime(x):\n",
    "    if x > 1:\n",
    "        i=2\n",
    "        prime = True\n",
    "        while i <= (x/2):\n",
    "            if (x % i) == 0:\n",
    "                prime = False\n",
    "            i+=1\n",
    "    else:\n",
    "        prime =False \n",
    "    if prime == True:\n",
    "        return x\n",
    "def L_prime(N):\n",
    "    N_prime=[]\n",
    "    for i in range(N):\n",
    "        if prime(i) is not None:\n",
    "            N_prime.append(i)\n",
    "    return N_prime\n",
    "        \n",
    "N=100\n",
    "#print(L_prime(N))\n",
    "print(\"loop timeit \\n\")\n",
    "print(\"N=100\")\n",
    "%timeit L_prime(N)\n",
    "print(\"N=200\")\n",
    "%timeit L_prime(200)\n",
    "print(\"N=500\")\n",
    "%timeit L_prime(500)\n",
    "print(\"\\n \\n\")\n",
    "\n",
    "def sieve_of_Eratosthenes(N):\n",
    "    A=np.ones(N)\n",
    "    A=np.array(A,bool)\n",
    "    New_prime=np.arange(0,N)\n",
    "    for i in range(2,int(m.sqrt(N))):\n",
    "        if A[i] == True:\n",
    "            j=i**2\n",
    "            while j<N:\n",
    "                A[j]=False\n",
    "                j+=i\n",
    "    New_prime=[New_prime[A]]\n",
    "    New_prime=New_prime[0]\n",
    "    New_prime=New_prime[2:]\n",
    "    return New_prime\n",
    "#print(sieve_of_Eratosthenes(N))\n",
    "print(\"sieve_of_Eratosthenes \\n\")\n",
    "print(\"N=100\")\n",
    "%timeit sieve_of_Eratosthenes(N)\n",
    "print(\"N=200\")\n",
    "%timeit sieve_of_Eratosthenes(200)\n",
    "print(\"N=500\")\n",
    "%timeit sieve_of_Eratosthenes(500)\n",
    "print(\"\\n \\n\")"
   ]
  },
  {
   "cell_type": "code",
   "execution_count": null,
   "metadata": {},
   "outputs": [],
   "source": []
  }
 ],
 "metadata": {
  "kernelspec": {
   "display_name": "Python 3",
   "language": "python",
   "name": "python3"
  },
  "language_info": {
   "codemirror_mode": {
    "name": "ipython",
    "version": 3
   },
   "file_extension": ".py",
   "mimetype": "text/x-python",
   "name": "python",
   "nbconvert_exporter": "python",
   "pygments_lexer": "ipython3",
   "version": "3.8.8"
  }
 },
 "nbformat": 4,
 "nbformat_minor": 2
}
