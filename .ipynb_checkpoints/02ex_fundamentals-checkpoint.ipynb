{
 "cells": [
  {
   "cell_type": "markdown",
   "metadata": {},
   "source": [
    "1. Write the following expressions using the list comprehension"
   ]
  },
  {
   "cell_type": "code",
   "execution_count": 6,
   "metadata": {},
   "outputs": [
    {
     "name": "stdout",
     "output_type": "stream",
     "text": [
      "[(0, 0), (0, 1), (0, 2), (0, 3), (1, 0), (1, 1), (1, 2), (1, 3), (2, 0), (2, 1), (2, 2), (2, 3)]\n",
      "[1, 9, 25, 49, 81]\n"
     ]
    }
   ],
   "source": [
    "# 1\n",
    "ans = []\n",
    "for i in range(3):\n",
    "    for j in range(4):\n",
    "        ans.append((i, j))\n",
    "print(ans)\n",
    "\n",
    "# 2\n",
    "ans = map(lambda x: x * x, filter(lambda x: x % 2 == 1, range(10)))\n",
    "print(list(ans))"
   ]
  },
  {
   "cell_type": "code",
   "execution_count": 7,
   "metadata": {},
   "outputs": [
    {
     "name": "stdout",
     "output_type": "stream",
     "text": [
      "[(0, 0), (0, 1), (0, 2), (0, 3), (1, 0), (1, 1), (1, 2), (1, 3), (2, 0), (2, 1), (2, 2), (2, 3)]\n",
      "[1, 9, 25, 49, 81]\n"
     ]
    }
   ],
   "source": [
    "ans = [(i,j) for i in range(3) for j in range(4)]\n",
    "print(ans)\n",
    "\n",
    "\n",
    "ans = [x*x for x in range(10) if x % 2 ==1]\n",
    "print(list(ans))"
   ]
  },
  {
   "cell_type": "markdown",
   "metadata": {},
   "source": [
    "2\\. Convert the function $f$ into a function that doesn't use global variables and that does not modify the original list"
   ]
  },
  {
   "cell_type": "code",
   "execution_count": 8,
   "metadata": {},
   "outputs": [
    {
     "name": "stdout",
     "output_type": "stream",
     "text": [
      "[1, 2, 3, 0, 1, 2, 3, 4]\n",
      "[1, 2, 3, 0, 1, 2, 3, 4]\n"
     ]
    }
   ],
   "source": [
    "x = 5\n",
    "def f(alist):\n",
    "    for i in range(x):\n",
    "         alist.append(i)\n",
    "    return alist\n",
    "\n",
    "alist = [1,2,3]\n",
    "ans = f(alist)\n",
    "print(ans)\n",
    "print(alist) # alist has been changed!"
   ]
  },
  {
   "cell_type": "code",
   "execution_count": 13,
   "metadata": {},
   "outputs": [
    {
     "name": "stdout",
     "output_type": "stream",
     "text": [
      "[1, 2, 3, 0, 1, 2, 3, 4]\n",
      "[1, 2, 3]\n"
     ]
    }
   ],
   "source": [
    "x = 5\n",
    "def f(alist):\n",
    "    nlist = [x for x in alist]\n",
    "    for i in range(x):\n",
    "         nlist.append(i)\n",
    "    return nlist\n",
    "\n",
    "alist = [1,2,3]\n",
    "ans = f(alist)\n",
    "print(ans)\n",
    "print(alist) # alist has been changed!"
   ]
  },
  {
   "cell_type": "markdown",
   "metadata": {},
   "source": [
    "3\\. Write a `decorator` hello that makes every wrapped function print “Hello!”, i.e. something like:\n",
    "\n",
    "```python\n",
    "@hello\n",
    "def square(x):\n",
    "    return x*x\n",
    "```\n",
    "\n"
   ]
  },
  {
   "cell_type": "code",
   "execution_count": 27,
   "metadata": {},
   "outputs": [
    {
     "name": "stdout",
     "output_type": "stream",
     "text": [
      "Hello!\n",
      "25\n"
     ]
    }
   ],
   "source": [
    "def hello(fun):\n",
    "    def wrap(x):\n",
    "        print(\"Hello!\")\n",
    "        return fun(x)\n",
    "    return wrap\n",
    "    \n",
    "@hello\n",
    "def square(x):\n",
    "    return x*x\n",
    "\n",
    "print(square(5))\n"
   ]
  },
  {
   "cell_type": "markdown",
   "metadata": {},
   "source": [
    "4\\. Write the factorial function in two different ways, so that it a) does and b) does not use recursion."
   ]
  },
  {
   "cell_type": "code",
   "execution_count": 33,
   "metadata": {},
   "outputs": [
    {
     "name": "stdout",
     "output_type": "stream",
     "text": [
      "3628800\n",
      "3628800\n",
      "33 µs ± 1.08 µs per loop (mean ± std. dev. of 7 runs, 10000 loops each)\n",
      "13.2 µs ± 1.04 µs per loop (mean ± std. dev. of 7 runs, 100000 loops each)\n"
     ]
    }
   ],
   "source": [
    "def factorial_recursive(x):\n",
    "    if x == 0 or x == 1:\n",
    "        return 1\n",
    "    else:\n",
    "        return x*factorial_recursive(x-1)\n",
    "    \n",
    "    \n",
    "    \n",
    "def factorial_non_recursive(x):\n",
    "    if x == 0 or x == 1:\n",
    "        return 1\n",
    "    else:\n",
    "        f = 1\n",
    "        for n in range(2,x+1):\n",
    "            f *= n\n",
    "    return f\n",
    "\n",
    "\n",
    "\n",
    "print(factorial_recursive(10))\n",
    "print(factorial_non_recursive(10))\n",
    "\n",
    "\n",
    "%timeit factorial_recursive(100)\n",
    "%timeit factorial_non_recursive(100)"
   ]
  },
  {
   "cell_type": "markdown",
   "metadata": {},
   "source": [
    "5\\. Use HOFs (zip in particular) to compute the weight of a circle, a disk and a sphere, assuming different radii and different densities:\n",
    "\n",
    "```python\n",
    "densities = {\"Al\" : [0.5, 1, 2], \"Fe\" : [3, 4, 5], \"Pb\" : [15, 20, 30]}\n",
    "radii = [1, 2, 3]\n",
    "```\n",
    "\n",
    "where the entries of the dictionary's values are the linear, superficial and volumetric densities of the materials respectively.\n",
    "\n",
    "Subsequently, define a list using a comprehension with three lambda functions that compute the circumference, the area and the volume for a given radius.\n"
   ]
  },
  {
   "cell_type": "code",
   "execution_count": 143,
   "metadata": {},
   "outputs": [
    {
     "name": "stdout",
     "output_type": "stream",
     "text": [
      "Mat.\tR.\tCircle\tDisk\tSphere\n",
      "Al\t1\t3.14\t3.14\t8.38\n",
      "Fe\t2\t37.70\t50.27\t167.55\n",
      "Pb\t3\t282.74\t565.49\t3392.92\n",
      "****************************************\n",
      "[[6.283185307179586, 3.141592653589793, 4.1887902047863905], [12.566370614359172, 12.566370614359172, 33.510321638291124], [18.84955592153876, 28.274333882308138, 113.09733552923254]]\n"
     ]
    }
   ],
   "source": [
    "from math import pi\n",
    "\n",
    "densities = {\"Al\" : [0.5, 1, 2], \"Fe\" : [3, 4, 5], \"Pb\" : [15, 20, 30]}\n",
    "radii = [1, 2, 3]\n",
    "\n",
    "\n",
    "def weights(r,dlist):\n",
    "    return [2 * pi * r * dlist[0] , pi * r ** 2 * dlist[1] , 4 / 3 * pi * (r**3) * dlist[2]]\n",
    "\n",
    "\n",
    "print('Mat.\\tR.\\tCircle\\tDisk\\tSphere')\n",
    "for r , d , n in zip(radii , densities.values() , densities.keys()):\n",
    "    print(n , r ,'{:.2f}\\t{:.2f}\\t{:.2f}'.format(*weights(r , d)) , sep = '\\t')\n",
    "    \n",
    "    \n",
    "print('*'*40)  \n",
    "lambda_list = [(lambda r: [2 * pi * r ,  pi * r ** 2 ,  4 / 3 * pi * (r**3)])(r) for r in radii]\n",
    "print((lambda_list))\n",
    "\n",
    " \n",
    "    "
   ]
  },
  {
   "cell_type": "markdown",
   "metadata": {},
   "source": [
    "6\\. Edit the class defintion to add an instance attribute of `is_hungry = True` to the Dog class. Then add a method called `eat()` which changes the value of `is_hungry` to `False` when called. Figure out the best way to instantiate the dog objects and to feed the dogs, e.g. call the `eat()` method for all instances. Finally, print “My dogs are hungry.” or “My dogs are not hungry.” if all of them have `is_hungry = True` or `False`, respectively. The final output should look like this:\n",
    "\n",
    "`I have 3 dogs. \n",
    "Tom is 6. \n",
    "Fletcher is 7. \n",
    "Larry is 9. \n",
    "And they're all mammals, of course. \n",
    "My dogs are not hungry.\n",
    "`\n",
    "\n",
    "```python\n",
    "# Parent class\n",
    "class Dog:\n",
    "\n",
    "    # Class attribute\n",
    "    species = 'mammal'\n",
    "\n",
    "    # Initializer / Instance attributes\n",
    "    def __init__(self, name, age):\n",
    "        self.name = name\n",
    "        self.age = age\n",
    "\n",
    "    # instance method\n",
    "    def description(self):\n",
    "        return \"{} is {} years old\".format(self.name, self.age)\n",
    "\n",
    "    # instance method\n",
    "    def speak(self, sound):\n",
    "        return \"{} says {}\".format(self.name, sound)\n",
    "\n",
    "# Child class (inherits from Dog class)\n",
    "class RussellTerrier(Dog):\n",
    "    def run(self, speed):\n",
    "        return \"{} runs {}\".format(self.name, speed)\n",
    "\n",
    "# Child class (inherits from Dog class)\n",
    "class Bulldog(Dog):\n",
    "    def run(self, speed):\n",
    "        return \"{} runs {}\".format(self.name, speed)\n",
    "```"
   ]
  },
  {
   "cell_type": "code",
   "execution_count": 2,
   "metadata": {},
   "outputs": [
    {
     "name": "stdout",
     "output_type": "stream",
     "text": [
      "How many dogs do you have? 3\n",
      "Information for dog number  0\n",
      "Name of dog: Tom\n",
      "Age of dog: 6\n",
      "Is it hungry? (y/n) y\n",
      "Information for dog number  1\n",
      "Name of dog: Fletcher\n",
      "Age of dog: 7\n",
      "Is it hungry? (y/n) y\n",
      "Information for dog number  2\n",
      "Name of dog: Larry\n",
      "Age of dog: 9\n",
      "Is it hungry? (y/n) y\n",
      "****************************************\n",
      "I have 3 dogs.\n",
      "Tom is 6.\n",
      "Fletcher is 7.\n",
      "Larry is 9.\n",
      "And they're all mammal, of course.\n",
      "My dogs are hungry.\n"
     ]
    }
   ],
   "source": [
    "# Parent class\n",
    "class Dog:\n",
    "\n",
    "    # Class attribute\n",
    "    species = 'mammal'\n",
    "\n",
    "    # Initializer / Instance attributes\n",
    "    def __init__(self, name, age, is_hungry):\n",
    "        self.name = name\n",
    "        self.age = age\n",
    "        self.is_hungry = True\n",
    "\n",
    "    # instance method\n",
    "    def description(self):\n",
    "        return \"{} is {} years old\".format(self.name, self.age)\n",
    "\n",
    "    # instance method\n",
    "    def speak(self, sound):\n",
    "        return \"{} says {}\".format(self.name, sound)\n",
    "    \n",
    "    #instance method\n",
    "    def eat(self):\n",
    "        self.is_hungry = False\n",
    "\n",
    "# Child class (inherits from Dog class)\n",
    "class RussellTerrier(Dog):\n",
    "    def run(self, speed):\n",
    "        return \"{} runs {}\".format(self.name, speed)\n",
    "\n",
    "# Child class (inherits from Dog class)\n",
    "class Bulldog(Dog):\n",
    "    def run(self, speed):\n",
    "        return \"{} runs {}\".format(self.name, speed)\n",
    "    \n",
    "    \n",
    "    \n",
    "\n",
    "# End class definition\n",
    "\n",
    "\n",
    "def get_dogs_info(num_dogs , my_dogs):\n",
    "    for i in range(num_dogs):\n",
    "        print(\"Information for dog number \" , i)\n",
    "        my_dogs.append(Dog(input(\"Name of dog: \") , input(\"Age of dog: \") , 'True'))\n",
    "        if (input(\"Is it hungry? (y/n) \").lower()=='n'):\n",
    "            my_dogs[i].eat()\n",
    "\n",
    "\n",
    "            \n",
    "            \n",
    "def report(num_dogs , my_dogs):\n",
    "    _Is_hungry = 0\n",
    "    print(\"*\"*40)\n",
    "    print(\"I have {} dogs.\".format(num_dogs))\n",
    "    for i in range(num_dogs):\n",
    "        print(\"{} is {}.\".format(my_dogs[i].name,my_dogs[i].age))\n",
    "        if my_dogs[i].is_hungry: _Is_hungry += 1\n",
    "    print(\"And they're all {}, of course.\".format(Dog.species))\n",
    "    if _Is_hungry == 0:\n",
    "        print(\"My dogs are not hungry.\")\n",
    "    elif _Is_hungry == num_dogs:\n",
    "        print(\"My dogs are hungry.\")\n",
    "\n",
    "    \n",
    "    \n",
    "    \n",
    "    \n",
    "\n",
    "num_dogs = int(input(\"How many dogs do you have? \"))\n",
    "my_dogs = []\n",
    "\n",
    "\n",
    "get_dogs_info(num_dogs , my_dogs)\n",
    "report(num_dogs , my_dogs)\n",
    "         "
   ]
  }
 ],
 "metadata": {
  "kernelspec": {
   "display_name": "Python 3",
   "language": "python",
   "name": "python3"
  },
  "language_info": {
   "codemirror_mode": {
    "name": "ipython",
    "version": 3
   },
   "file_extension": ".py",
   "mimetype": "text/x-python",
   "name": "python",
   "nbconvert_exporter": "python",
   "pygments_lexer": "ipython3",
   "version": "3.8.8"
  }
 },
 "nbformat": 4,
 "nbformat_minor": 2
}
