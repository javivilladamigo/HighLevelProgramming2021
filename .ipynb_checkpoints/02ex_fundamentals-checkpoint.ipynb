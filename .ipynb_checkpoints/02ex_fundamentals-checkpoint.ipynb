{
 "cells": [
  {
   "cell_type": "markdown",
   "metadata": {},
   "source": [
    "1. Write the following expressions using the list comprehension"
   ]
  },
  {
   "cell_type": "code",
   "execution_count": 1,
   "metadata": {},
   "outputs": [
    {
     "name": "stdout",
     "output_type": "stream",
     "text": [
      "[(0, 0), (0, 1), (0, 2), (0, 3), (1, 0), (1, 1), (1, 2), (1, 3), (2, 0), (2, 1), (2, 2), (2, 3)]\n",
      "[1, 9, 25, 49, 81]\n"
     ]
    }
   ],
   "source": [
    "# 1\n",
    "ans = []\n",
    "for i in range(3): \n",
    "    for j in range(4):\n",
    "        ans.append((i, j))\n",
    "print(ans)\n",
    "\n",
    "# 2\n",
    "ans = map(lambda x: x * x, filter(lambda x: x % 2 == 1, range(10)))\n",
    "print(list(ans))"
   ]
  },
  {
   "cell_type": "code",
   "execution_count": 2,
   "metadata": {},
   "outputs": [
    {
     "name": "stdout",
     "output_type": "stream",
     "text": [
      "[(0, 0), (0, 1), (0, 2), (0, 3), (1, 0), (1, 1), (1, 2), (1, 3), (2, 0), (2, 1), (2, 2), (2, 3)]\n",
      "[1, 9, 25, 49, 81]\n"
     ]
    }
   ],
   "source": [
    "# 1\n",
    "ans_2_1 = [(i,j) for i in range(3) for j in range(4)]\n",
    "# 2\n",
    "ans_2_2 = [x*x for x in range(10) if x%2 == 1]\n",
    "\n",
    "\n",
    "print(ans_2_1)\n",
    "print(ans_2_2)"
   ]
  },
  {
   "cell_type": "markdown",
   "metadata": {},
   "source": [
    "2\\. Convert the function $f$ into a function that doesn't use global variables and that does not modify the original list"
   ]
  },
  {
   "cell_type": "code",
   "execution_count": 7,
   "metadata": {},
   "outputs": [
    {
     "name": "stdout",
     "output_type": "stream",
     "text": [
      "[1, 2, 3, 0, 1, 2, 3, 4]\n",
      "[1, 2, 3, 0, 1, 2, 3, 4]\n"
     ]
    }
   ],
   "source": [
    "x = 5\n",
    "def f(alist):\n",
    "    for i in range(x):\n",
    "         alist.append(i)\n",
    "    return alist\n",
    "\n",
    "alist = [1,2,3]\n",
    "ans = f(alist)\n",
    "print(ans)\n",
    "print(alist) # alist has been changed!"
   ]
  },
  {
   "cell_type": "code",
   "execution_count": 3,
   "metadata": {},
   "outputs": [
    {
     "name": "stdout",
     "output_type": "stream",
     "text": [
      "[1, 2, 3, 0, 1, 2, 3, 4]\n",
      "[1, 2, 3]\n"
     ]
    }
   ],
   "source": [
    "def f_2(alist,x_range):\n",
    "    \n",
    "    temp_list=alist.copy() #this will prevent it from changing\n",
    "                        \n",
    "    \n",
    "    for i in range(x_range):\n",
    "        temp_list.append(i)\n",
    "    return temp_list\n",
    "\n",
    "alist = [1,2,3]\n",
    "ans = f_2(alist,5)\n",
    "print(ans)\n",
    "print(alist)"
   ]
  },
  {
   "cell_type": "markdown",
   "metadata": {},
   "source": [
    "3\\. Write a `decorator` hello that makes every wrapped function print “Hello!”, i.e. something like:\n",
    "\n",
    "```python\n",
    "@hello\n",
    "def square(x):\n",
    "    return x*x\n",
    "```\n",
    "\n"
   ]
  },
  {
   "cell_type": "code",
   "execution_count": 7,
   "metadata": {},
   "outputs": [
    {
     "name": "stdout",
     "output_type": "stream",
     "text": [
      "Hello\n",
      "6\n",
      "Hello\n",
      "----------\n",
      "Hello\n",
      "9\n",
      "Hello\n"
     ]
    }
   ],
   "source": [
    "def hello(func):\n",
    "    def wrapper(*args, **kwargs):\n",
    "        print(\"Hello\")\n",
    "        func(*args, **kwargs)\n",
    "        print(\"Hello\")\n",
    "    return wrapper\n",
    "\n",
    "@hello\n",
    "def square(x):\n",
    "    print( x**2)\n",
    "    \n",
    "    \n",
    "@hello\n",
    "def do_sth(x,y,z):\n",
    "    print(x*y*z)\n",
    "\n",
    "\n",
    "do_sth(1,2,3)\n",
    "print(\"----------\")\n",
    "\n",
    "square(3)"
   ]
  },
  {
   "cell_type": "markdown",
   "metadata": {},
   "source": [
    "4\\. Write the factorial function in two different ways, so that it a) does and b) does not use recursion."
   ]
  },
  {
   "cell_type": "code",
   "execution_count": 8,
   "metadata": {},
   "outputs": [
    {
     "data": {
      "text/plain": [
       "24"
      ]
     },
     "execution_count": 8,
     "metadata": {},
     "output_type": "execute_result"
    }
   ],
   "source": [
    "#recursion\n",
    "def factorial_recursive(n):\n",
    "    \n",
    "    #n*(n-1) while n >= 1\n",
    "    # 4*3*2*1 etc.\n",
    "    if n>=1:\n",
    "        return n*factorial(n-1)    \n",
    "    else:\n",
    "        \n",
    "        return 1\n",
    "    \n",
    "def factorial_v2(n):\n",
    "    #start i from 1 and increase the i and multiply and append it to fact\n",
    "    #fact = 1*1 (since i and fact starts from 1)\n",
    "    #fact = 1*2\n",
    "    #fact = 2*3\n",
    "    #fact = 3*4 etc.\n",
    "    fact=1\n",
    "    for i in range(1,n+1):\n",
    "        fact*=i\n",
    "    return fact\n",
    "        \n",
    "        \n",
    "    \n",
    "factorial_v2(4)"
   ]
  },
  {
   "cell_type": "markdown",
   "metadata": {},
   "source": [
    "5\\. Use HOFs (zip in particular) to compute the weight of a circle, a disk and a sphere, assuming different radii and different densities:\n",
    "\n",
    "```python\n",
    "densities = {\"Al\" : [0.5, 1, 2], \"Fe\" : [3, 4, 5], \"Pb\" : [15, 20, 30]}\n",
    "radii = [1, 2, 3]\n",
    "```\n",
    "\n",
    "where the entries of the dictionary's values are the linear, superficial and volumetric densities of the materials respectively.\n",
    "\n",
    "Subsequently, define a list using a comprehension with three lambda functions that compute the circumference, the area and the volume for a given radius.\n"
   ]
  },
  {
   "cell_type": "code",
   "execution_count": 61,
   "metadata": {},
   "outputs": [
    {
     "data": {
      "text/plain": [
       "[3.141592653589793,\n",
       " 9.42477796076938,\n",
       " 62.831853071795855,\n",
       " 6.283185307179586,\n",
       " 12.566370614359172,\n",
       " 83.7758040957278,\n",
       " 12.566370614359172,\n",
       " 15.707963267948966,\n",
       " 125.66370614359171,\n",
       " 6.283185307179586,\n",
       " 37.69911184307752,\n",
       " 502.65482457436684,\n",
       " 12.566370614359172,\n",
       " 50.26548245743669,\n",
       " 670.2064327658225,\n",
       " 25.132741228718345,\n",
       " 62.83185307179586,\n",
       " 1005.3096491487337,\n",
       " 9.42477796076938,\n",
       " 84.82300164692441,\n",
       " 1696.460032938488,\n",
       " 18.84955592153876,\n",
       " 113.09733552923255,\n",
       " 2261.9467105846506,\n",
       " 37.69911184307752,\n",
       " 141.3716694115407,\n",
       " 3392.920065876976]"
      ]
     },
     "execution_count": 61,
     "metadata": {},
     "output_type": "execute_result"
    }
   ],
   "source": [
    "import math\n",
    "densities = {\"Al\" : [0.5, 1, 2], \"Fe\" : [3, 4, 5], \"Pb\" : [15, 20, 30]}\n",
    "radii = [1, 2, 3]\n",
    "\n",
    "# xs = [1, 2, 3, 4]\n",
    "# ys = [10, 20, 30, 40]\n",
    "# zs = ['a', 'b', 'c', 'd', 'e']\n",
    "\n",
    "weight_list=[]\n",
    "for rad in radii:\n",
    "    for x, y, z in zip(densities[\"Al\"], densities[\"Fe\"], densities[\"Pb\"]):\n",
    "        #print(rad)\n",
    "        weight_1d = 2*math.pi*rad*x\n",
    "        weight_2d = math.pi*rad**2*y\n",
    "        weight_3d= ((4*math.pi/3)*rad**3)*z\n",
    "        weight_list.append(weight_1d)\n",
    "        weight_list.append(weight_2d)\n",
    "        weight_list.append(weight_3d)\n",
    "\n",
    "zipped_list = list(zip(densities[\"Al\"], densities[\"Fe\"], densities[\"Pb\"]))\n",
    "weight_list_lc = [(lambda x: x*x) for x in zip(densities[\"Al\"], densities[\"Fe\"], densities[\"Pb\"])]\n",
    "\n",
    "#DONE WITH FOR LOOP\n",
    "weight_list\n",
    "\n",
    "###### COUDLNT DO THIS TASK WITH LIST COMPREHENSION\n",
    "\n",
    "# #test1 = list(map(lambda x: x+3 , zipped_list))\n",
    "\n",
    "# zipped_list[2][1]\n",
    "\n",
    "# increased = list(map(lambda x: x+3 , zipped_list[1]))\n",
    "# [ [2*zipped_list[i][rad-1] for i in range(len(zipped_list))] for rad in radii]\n",
    "\n",
    "# #[entry for tag in tags for entry in entries if tag ]\n",
    "# zipped_list = [[zipped_list[i]] for i in range(len(zipped_list))]\n",
    "# zipped_list\n",
    "\n",
    "# list_of_sentences = [['The','cat','chases', 'the', 'mouse','.'],['The','dog','barks','.']]\n",
    "# [word for sentence in list_of_sentences for word in sentence]"
   ]
  },
  {
   "cell_type": "markdown",
   "metadata": {},
   "source": [
    "6\\. Edit the class defintion to add an instance attribute of `is_hungry = True` to the Dog class. Then add a method called `eat()` which changes the value of `is_hungry` to `False` when called. Figure out the best way to instantiate the dog objects and to feed the dogs, e.g. call the `eat()` method for all instances. Finally, print “My dogs are hungry.” or “My dogs are not hungry.” if all of them have `is_hungry = True` or `False`, respectively. The final output should look like this:\n",
    "\n",
    "`I have 3 dogs. \n",
    "Tom is 6. \n",
    "Fletcher is 7. \n",
    "Larry is 9. \n",
    "And they're all mammals, of course. \n",
    "My dogs are not hungry.\n",
    "`\n",
    "\n",
    "```python\n",
    "# Parent class\n",
    "class Dog:\n",
    "\n",
    "    # Class attribute\n",
    "    species = 'mammal'\n",
    "\n",
    "    # Initializer / Instance attributes\n",
    "    def __init__(self, name, age):\n",
    "        self.name = name\n",
    "        self.age = age\n",
    "\n",
    "    # instance method\n",
    "    def description(self):\n",
    "        return \"{} is {} years old\".format(self.name, self.age)\n",
    "\n",
    "    # instance method\n",
    "    def speak(self, sound):\n",
    "        return \"{} says {}\".format(self.name, sound)\n",
    "\n",
    "# Child class (inherits from Dog class)\n",
    "class RussellTerrier(Dog):\n",
    "    def run(self, speed):\n",
    "        return \"{} runs {}\".format(self.name, speed)\n",
    "\n",
    "# Child class (inherits from Dog class)\n",
    "class Bulldog(Dog):\n",
    "    def run(self, speed):\n",
    "        return \"{} runs {}\".format(self.name, speed)\n",
    "```"
   ]
  },
  {
   "cell_type": "code",
   "execution_count": 2,
   "metadata": {},
   "outputs": [],
   "source": [
    "# Parent class\n",
    "class Dog:\n",
    "\n",
    "    # Class attribute\n",
    "    \n",
    "    species = 'mammal'\n",
    "    is_hungry = True\n",
    "\n",
    "    # Initializer / Instance attributes\n",
    "    def eat(self):\n",
    "        self.is_hungry = False\n",
    "        \n",
    "    def __init__(self, name, age):\n",
    "        self.name = name\n",
    "        self.age = age\n",
    "        \n",
    "\n",
    "    # instance method\n",
    "    def description(self):\n",
    "        return \"{} is {} years old\".format(self.name, self.age)\n",
    "\n",
    "    # instance method\n",
    "    def speak(self, sound):\n",
    "        return \"{} says {}\".format(self.name, sound)\n",
    "\n",
    "# Child class (inherits from Dog class)\n",
    "class RussellTerrier(Dog):\n",
    "    def run(self, speed):\n",
    "        return \"{} runs {}\".format(self.name, speed)\n",
    "\n",
    "# Child class (inherits from Dog class)\n",
    "class Bulldog(Dog):\n",
    "    def run(self, speed):\n",
    "        return \"{} runs {}\".format(self.name, speed)\n",
    "class Pitbull(Dog):\n",
    "    def run(self, speed):\n",
    "        return \"{} runs {}\".format(self.name, speed)"
   ]
  },
  {
   "cell_type": "code",
   "execution_count": 13,
   "metadata": {},
   "outputs": [
    {
     "name": "stdout",
     "output_type": "stream",
     "text": [
      "I have 3 dogs.\n",
      "Tom is 3 years old\n",
      "Fletcher is 7 years old\n",
      "Larry is 9 years old\n",
      "My dogs are not hungry.\n"
     ]
    }
   ],
   "source": [
    "tom = Pitbull('Tom',3)\n",
    "fletcher = Bulldog('Fletcher',7)\n",
    "Larry = RussellTerrier('Larry',9)\n",
    "\n",
    "\n",
    "\n",
    "print(\"I have 3 dogs.\")\n",
    "\n",
    "print(tom.description())\n",
    "print(fletcher.description())\n",
    "print(Larry.description())\n",
    "\n",
    "tom.eat()\n",
    "fletcher.eat()\n",
    "Larry.eat()\n",
    "\n",
    "if tom.is_hungry == False and fletcher.is_hungry == False and Larry.is_hungry == False:\n",
    "    print(\"My dogs are not hungry.\")\n",
    "else:\n",
    "    print(\"My dogs are hungry\")"
   ]
  },
  {
   "cell_type": "code",
   "execution_count": 10,
   "metadata": {
    "scrolled": false
   },
   "outputs": [
    {
     "ename": "TypeError",
     "evalue": "object of type 'Pitbull' has no len()",
     "output_type": "error",
     "traceback": [
      "\u001b[1;31m---------------------------------------------------------------------------\u001b[0m",
      "\u001b[1;31mTypeError\u001b[0m                                 Traceback (most recent call last)",
      "\u001b[1;32m<ipython-input-10-8aaa162f2fa6>\u001b[0m in \u001b[0;36m<module>\u001b[1;34m\u001b[0m\n\u001b[1;32m----> 1\u001b[1;33m \u001b[0mlen\u001b[0m\u001b[1;33m(\u001b[0m\u001b[0mmia\u001b[0m\u001b[1;33m)\u001b[0m\u001b[1;33m\u001b[0m\u001b[1;33m\u001b[0m\u001b[0m\n\u001b[0m",
      "\u001b[1;31mTypeError\u001b[0m: object of type 'Pitbull' has no len()"
     ]
    }
   ],
   "source": []
  },
  {
   "cell_type": "code",
   "execution_count": null,
   "metadata": {},
   "outputs": [],
   "source": []
  }
 ],
 "metadata": {
  "kernelspec": {
   "display_name": "Python 3",
   "language": "python",
   "name": "python3"
  },
  "language_info": {
   "codemirror_mode": {
    "name": "ipython",
    "version": 3
   },
   "file_extension": ".py",
   "mimetype": "text/x-python",
   "name": "python",
   "nbconvert_exporter": "python",
   "pygments_lexer": "ipython3",
   "version": "3.8.8"
  }
 },
 "nbformat": 4,
 "nbformat_minor": 2
}
