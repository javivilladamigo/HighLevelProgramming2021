{
 "cells": [
  {
   "cell_type": "markdown",
   "metadata": {},
   "source": [
    "1. Write the following expressions using the list comprehension"
   ]
  },
  {
   "cell_type": "code",
   "execution_count": 1,
   "metadata": {},
   "outputs": [
    {
     "name": "stdout",
     "output_type": "stream",
     "text": [
      "[(0, 0), (0, 1), (0, 2), (0, 3), (1, 0), (1, 1), (1, 2), (1, 3), (2, 0), (2, 1), (2, 2), (2, 3)]\n",
      "[1, 9, 25, 49, 81]\n"
     ]
    }
   ],
   "source": [
    "# 1\n",
    "ans = []\n",
    "for i in range(3):\n",
    "    for j in range(4):\n",
    "        ans.append((i, j))\n",
    "print(ans)\n",
    "\n",
    "# 2\n",
    "ans = map(lambda x: x * x, filter(lambda x: x % 2 == 1, range(10)))\n",
    "print(list(ans))"
   ]
  },
  {
   "cell_type": "code",
   "execution_count": 2,
   "metadata": {},
   "outputs": [
    {
     "name": "stdout",
     "output_type": "stream",
     "text": [
      "[(0, 0), (0, 1), (0, 2), (0, 3), (1, 0), (1, 1), (1, 2), (1, 3), (2, 0), (2, 1), (2, 2), (2, 3)]\n",
      "[1, 9, 25, 49, 81]\n"
     ]
    }
   ],
   "source": [
    "#1\n",
    "list = []\n",
    "\n",
    "[list.append((i,j)) for i in range (0,3) for j in range(0,4)]\n",
    "print(list)\n",
    "\n",
    "#2\n",
    "\n",
    "ans = [x*x for x in range(10) if x % 2 == 1]\n",
    "print(ans)\n"
   ]
  },
  {
   "cell_type": "markdown",
   "metadata": {},
   "source": [
    "2\\. Convert the function $f$ into a function that doesn't use global variables and that does not modify the original list"
   ]
  },
  {
   "cell_type": "code",
   "execution_count": 3,
   "metadata": {},
   "outputs": [
    {
     "name": "stdout",
     "output_type": "stream",
     "text": [
      "[1, 2, 3, 0, 1, 2, 3, 4]\n",
      "[1, 2, 3, 0, 1, 2, 3, 4]\n"
     ]
    }
   ],
   "source": [
    "x = 5\n",
    "def f(alist):\n",
    "    for i in range(x):\n",
    "         alist.append(i)\n",
    "    return alist\n",
    "\n",
    "alist = [1,2,3]\n",
    "ans = f(alist)\n",
    "print(ans)\n",
    "print(alist) # alist has not been changed!\n"
   ]
  },
  {
   "cell_type": "code",
   "execution_count": 4,
   "metadata": {},
   "outputs": [
    {
     "name": "stdout",
     "output_type": "stream",
     "text": [
      "[0, 1, 2, 3, 4]\n",
      "[1, 2, 3]\n"
     ]
    }
   ],
   "source": [
    "def f(list):\n",
    "    x=5\n",
    "    list = []\n",
    "    for i in range(x):\n",
    "         list.append(i)\n",
    "    return list\n",
    "\n",
    "alist = [1,2,3]\n",
    "print(f(alist))\n",
    "print(alist) # alist has NOT been changed!"
   ]
  },
  {
   "cell_type": "markdown",
   "metadata": {},
   "source": [
    "3\\. Write a `decorator` hello that makes every wrapped function print “Hello!”, i.e. something like:\n",
    "\n",
    "```python\n",
    "@hello\n",
    "def square(x):\n",
    "    return x*x\n",
    "```\n",
    "\n"
   ]
  },
  {
   "cell_type": "code",
   "execution_count": 5,
   "metadata": {},
   "outputs": [
    {
     "name": "stdout",
     "output_type": "stream",
     "text": [
      "Hello!\n",
      "16\n"
     ]
    }
   ],
   "source": [
    "def decorator_hello(square):\n",
    "    def wrapper(x):\n",
    "        print(\"Hello!\")\n",
    "        return(square(x))\n",
    "    return wrapper\n",
    "\n",
    "@decorator_hello\n",
    "def square(x):\n",
    "    return x*x\n",
    "    \n",
    "print(square(4))"
   ]
  },
  {
   "cell_type": "markdown",
   "metadata": {},
   "source": [
    "4\\. Write the factorial function in two different ways, so that it a) does and b) does not use recursion."
   ]
  },
  {
   "cell_type": "code",
   "execution_count": 6,
   "metadata": {},
   "outputs": [
    {
     "name": "stdout",
     "output_type": "stream",
     "text": [
      "120\n",
      "120\n"
     ]
    }
   ],
   "source": [
    "# a\n",
    "n = 5\n",
    "\n",
    "def factorial_R(n):     #factorial recursive\n",
    "    if n == 0: return 1   \n",
    "    else: return n * factorial_R(n-1)\n",
    "\n",
    "print (factorial_R(n))\n",
    "\n",
    "# b\n",
    "def factorial_I(n):     #factorial iterative\n",
    "    f = 1\n",
    "    for i in range(1,n+1):\n",
    "        f *= i\n",
    "    return f\n",
    "\n",
    "print (factorial_I(5))"
   ]
  },
  {
   "cell_type": "markdown",
   "metadata": {},
   "source": [
    "5\\. Use HOFs (zip in particular) to compute the weight of a circle, a disk and a sphere, assuming different radii and different densities:\n",
    "\n",
    "```python\n",
    "densities = {\"Al\" : [0.5, 1, 2], \"Fe\" : [3, 4, 5], \"Pb\" : [15, 20, 30]}\n",
    "radii = [1, 2, 3]\n",
    "```\n",
    "\n",
    "where the entries of the dictionary's values are the linear, superficial and volumetric densities of the materials respectively.\n",
    "\n",
    "Subsequently, define a list using a comprehension with three lambda functions that compute the circumference, the area and the volume for a given radius.\n"
   ]
  },
  {
   "cell_type": "code",
   "execution_count": 7,
   "metadata": {},
   "outputs": [
    {
     "name": "stdout",
     "output_type": "stream",
     "text": [
      "Radius: 1\n",
      "Al : circle  3.14  disk  3.14  sphere  8.38\n",
      "Fe : circle  18.85  disk  12.57  sphere  20.94\n",
      "Pb : circle  94.25  disk  62.83  sphere  125.66\n",
      "Radius: 2\n",
      "Al : circle  6.28  disk  12.57  sphere  67.02\n",
      "Fe : circle  37.70  disk  50.27  sphere  167.55\n",
      "Pb : circle  188.50  disk  251.33  sphere  1005.31\n",
      "Radius: 3\n",
      "Al : circle  9.42  disk  28.27  sphere  226.19\n",
      "Fe : circle  56.55  disk  113.10  sphere  565.49\n",
      "Pb : circle  282.74  disk  565.49  sphere  3392.92\n",
      "\n",
      "\n",
      "Radius:    1\n",
      "Circumference: 6.28\n",
      "Area: 3.14\n",
      "Volume: 4.19\n",
      "Radius:    2\n",
      "Circumference: 12.57\n",
      "Area: 12.57\n",
      "Volume: 33.51\n",
      "Radius:    3\n",
      "Circumference: 18.85\n",
      "Area: 28.27\n",
      "Volume: 113.10\n"
     ]
    }
   ],
   "source": [
    "import math\n",
    "\n",
    "densities = {\"Al\" : [0.5, 1, 2], \"Fe\" : [3, 4, 5], \"Pb\" : [15, 20, 30]}\n",
    "radii = [1, 2, 3]\n",
    "\n",
    "for d,r in zip(densities,radii):\n",
    "    print(\"Radius:\",r)\n",
    "    for i in densities:\n",
    "        material = densities[i]\n",
    "        \n",
    "        circum = 2*math.pi*r\n",
    "        w1 = circum*material[0]\n",
    "        \n",
    "        area = math.pi*pow(r,2)\n",
    "        w2 = area*material[1]\n",
    "        \n",
    "        volume = (4/3)*math.pi*pow(r,3)\n",
    "        w3 = volume*material[2]\n",
    "        \n",
    "        print(i,\": circle \",f\"{w1:4.2f}\",\" disk \",f\"{w2:4.2f}\",\" sphere \",f\"{w3:4.2f}\")\n",
    "        \n",
    "print(\"\\n\")\n",
    "\n",
    "circumference = lambda d: 2*math.pi*d\n",
    "area = lambda d: math.pi*pow(d,2)\n",
    "volume = lambda d: (4/3)*math.pi*pow(d,3)\n",
    "\n",
    "list_c = [circumference(r) for r in radii]\n",
    "list_a = [area(r) for r in radii]\n",
    "list_v = [volume(r) for r in radii]\n",
    "\n",
    "for i in range(len(radii)):\n",
    "    print(\"Radius:\",f'{radii[i]:4.0f}')\n",
    "    print(\"Circumference:\",f'{list_c[i]:4.2f}')\n",
    "    print(\"Area:\",f'{list_a[i]:4.2f}')\n",
    "    print(\"Volume:\",f'{list_v[i]:4.2f}')\n"
   ]
  },
  {
   "cell_type": "markdown",
   "metadata": {},
   "source": [
    "6\\. Edit the class defintion to add an instance attribute of `is_hungry = True` to the Dog class. Then add a method called `eat()` which changes the value of `is_hungry` to `False` when called. Figure out the best way to instantiate the dog objects and to feed the dogs, e.g. call the `eat()` method for all instances. Finally, print “My dogs are hungry.” or “My dogs are not hungry.” if all of them have `is_hungry = True` or `False`, respectively. The final output should look like this:\n",
    "\n",
    "`I have 3 dogs. \n",
    "Tom is 6. \n",
    "Fletcher is 7. \n",
    "Larry is 9. \n",
    "And they're all mammals, of course. \n",
    "My dogs are not hungry.\n",
    "`\n",
    "\n",
    "```python\n",
    "# Parent class\n",
    "class Dog:\n",
    "\n",
    "    # Class attribute\n",
    "    species = 'mammal'\n",
    "\n",
    "    # Initializer / Instance attributes\n",
    "    def __init__(self, name, age):\n",
    "        self.name = name\n",
    "        self.age = age\n",
    "\n",
    "    # instance method\n",
    "    def description(self):\n",
    "        return \"{} is {} years old\".format(self.name, self.age)\n",
    "\n",
    "    # instance method\n",
    "    def speak(self, sound):\n",
    "        return \"{} says {}\".format(self.name, sound)\n",
    "\n",
    "# Child class (inherits from Dog class)\n",
    "class RussellTerrier(Dog):\n",
    "    def run(self, speed):\n",
    "        return \"{} runs {}\".format(self.name, speed)\n",
    "\n",
    "# Child class (inherits from Dog class)\n",
    "class Bulldog(Dog):\n",
    "    def run(self, speed):\n",
    "        return \"{} runs {}\".format(self.name, speed)\n",
    "```"
   ]
  },
  {
   "cell_type": "code",
   "execution_count": 8,
   "metadata": {
    "scrolled": true
   },
   "outputs": [
    {
     "name": "stdout",
     "output_type": "stream",
     "text": [
      "I have 3 dogs.\n",
      "Tom is 6\n",
      "Fletcher is 7\n",
      "Larry is 9\n",
      "And they are all mammals, of course.\n",
      "My dogs are not hungry.\n"
     ]
    }
   ],
   "source": [
    "# Parent class\n",
    "class Dog:\n",
    "\n",
    "    # Class attribute\n",
    "    species = 'mammal'\n",
    "    \n",
    "    # Initializer / Instance attributes\n",
    "    def __init__(self, name, age):\n",
    "        self.name = name\n",
    "        self.age = age\n",
    "        self.is_hungry = True\n",
    "        \n",
    "    def eat(self):\n",
    "        self.is_hungry = False\n",
    "        return self.is_hungry\n",
    "        \n",
    "    # instance method\n",
    "    def description(self):\n",
    "        return \"{} is {} years old\".format(self.name, self.age)\n",
    "\n",
    "    # instance method\n",
    "    def speak(self, sound):\n",
    "        return \"{} says {}\".format(self.name, sound)\n",
    "    \n",
    "\n",
    "# Child class (inherits from Dog class)\n",
    "class RussellTerrier(Dog):\n",
    "    def run(self, speed):\n",
    "        return \"{} runs {}\".format(self.name, speed)\n",
    "\n",
    "# Child class (inherits from Dog class)\n",
    "class Bulldog(Dog):\n",
    "    def run(self, speed):\n",
    "        return \"{} runs {}\".format(self.name, speed)\n",
    "    \n",
    "    \n",
    "list = []\n",
    "flag_1 = True #flag for species\n",
    "flag_2 = True #flag for hungry\n",
    "    \n",
    "dog_1 = Dog(\"Tom\",6)\n",
    "dog_2 = Dog(\"Fletcher\",7)\n",
    "dog_3 = Dog(\"Larry\",9)\n",
    "\n",
    "list.append(dog_1)\n",
    "list.append(dog_2)\n",
    "list.append(dog_3)\n",
    "\n",
    "print(\"I have\",len(list),\"dogs.\")\n",
    "for i in list: \n",
    "    print(i.name, 'is', i.age)\n",
    "    \n",
    "while(i in range(len(list)) and flag_1):\n",
    "    if(list[i].species != 'mammal'):\n",
    "            flag_1 = False\n",
    "    i = i+1 \n",
    "    \n",
    "if(flag_1): print('And they are all mammals, of course.')\n",
    "\n",
    "for i in list: \n",
    "    i.eat()\n",
    "    \n",
    "\n",
    "i=0\n",
    "while i in range(len(list)) and flag_2 == True:\n",
    "    if(list[i].is_hungry == True):\n",
    "            flag_2 = False\n",
    "    i += 1\n",
    "            \n",
    "if(flag_2): print(\"My dogs are not hungry.\")\n",
    "\n",
    "  \n"
   ]
  },
  {
   "cell_type": "markdown",
   "metadata": {},
   "source": [
    " "
   ]
  }
 ],
 "metadata": {
  "kernelspec": {
   "display_name": "Python 3",
   "language": "python",
   "name": "python3"
  },
  "language_info": {
   "codemirror_mode": {
    "name": "ipython",
    "version": 3
   },
   "file_extension": ".py",
   "mimetype": "text/x-python",
   "name": "python",
   "nbconvert_exporter": "python",
   "pygments_lexer": "ipython3",
   "version": "3.8.8"
  }
 },
 "nbformat": 4,
 "nbformat_minor": 2
}
