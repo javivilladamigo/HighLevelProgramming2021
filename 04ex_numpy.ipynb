{
 "cells": [
  {
   "cell_type": "code",
   "execution_count": 1,
   "metadata": {},
   "outputs": [],
   "source": [
    "import numpy as np"
   ]
  },
  {
   "cell_type": "markdown",
   "metadata": {},
   "source": [
    "1\\. Find the total mean, and the mean for each row and column of the following matrix:\n",
    "\n",
    "```python\n",
    "m = np.arange(12).reshape((3,4))\n",
    "```"
   ]
  },
  {
   "cell_type": "code",
   "execution_count": 39,
   "metadata": {},
   "outputs": [
    {
     "name": "stdout",
     "output_type": "stream",
     "text": [
      "Matrix m:\n",
      " [[ 0  1  2  3]\n",
      " [ 4  5  6  7]\n",
      " [ 8  9 10 11]]\n",
      "\n",
      "Total mean of m: 5.50\n",
      "\n",
      "1 row mean: 1.50\n",
      "2 row mean: 5.50\n",
      "3 row mean: 9.50\n",
      "\n",
      "1 column mean: 4.00\n",
      "2 column mean: 5.00\n",
      "3 column mean: 6.00\n",
      "4 column mean: 7.00\n"
     ]
    }
   ],
   "source": [
    "m = np.arange(12).reshape((3,4))\n",
    "tot_mean = np.mean(m) # total mean\n",
    "row_mean = [np.mean(m[row, :]) for row in range(m.shape[0])]\n",
    "col_mean = [np.mean(m[:, col]) for col in range(m.shape[1])]\n",
    "\n",
    "print(\"Matrix m:\\n\", m)\n",
    "print(\"\\nTotal mean of m: %.2f\\n\" % tot_mean)\n",
    "\n",
    "for row_n in range(m.shape[0]):\n",
    "  print(\"%d row mean: %.2f\" % (row_n+1, row_mean[row_n]))\n",
    "\n",
    "print(\"\")\n",
    "\n",
    "for col_n in range(m.shape[1]):\n",
    "  print(\"%d column mean: %.2f\" % (col_n+1, col_mean[col_n]))"
   ]
  },
  {
   "cell_type": "markdown",
   "metadata": {},
   "source": [
    "2\\. Find the outer product of the following vectors:\n",
    "\n",
    "```python\n",
    "u = np.array([1, 3, 5, 7])\n",
    "v = np.array([2, 4, 6, 8])\n",
    "```\n",
    "\n",
    "Use different methods to do this:\n",
    "\n",
    "   1. Using the function `outer` in numpy\n",
    "   2. Using a nested `for` loop or a list comprehension\n",
    "   3. Using numpy broadcasting operations"
   ]
  },
  {
   "cell_type": "code",
   "execution_count": 142,
   "metadata": {},
   "outputs": [
    {
     "name": "stdout",
     "output_type": "stream",
     "text": [
      "Outer product between u and v computed with numpy.outer:\n",
      " [[ 2  4  6  8]\n",
      " [ 6 12 18 24]\n",
      " [10 20 30 40]\n",
      " [14 28 42 56]]\n",
      "\n",
      "Outer product between u and v computed with nested loop:\n",
      " [[ 2  4  6  8]\n",
      " [ 6 12 18 24]\n",
      " [10 20 30 40]\n",
      " [14 28 42 56]]\n",
      "\n",
      "Outer product between u and v computed with list comprehension:\n",
      " [[ 2  4  6  8]\n",
      " [ 6 12 18 24]\n",
      " [10 20 30 40]\n",
      " [14 28 42 56]]\n",
      "\n",
      "Outer product between u and v computed with broadcasting:\n",
      " [[ 2  4  6  8]\n",
      " [ 6 12 18 24]\n",
      " [10 20 30 40]\n",
      " [14 28 42 56]]\n"
     ]
    }
   ],
   "source": [
    "u = np.array([1, 3, 5, 7])\n",
    "v = np.array([2, 4, 6, 8])\n",
    "4\n",
    "# 1) outer product with numpy\n",
    "out_np = np.outer(u,v)\n",
    "print(\"Outer product between u and v computed with numpy.outer:\\n\", out_np)\n",
    "\n",
    "# 2) for loop and list comprehension\n",
    "out_loop = np.zeros((len(u), len(v)), 'uint32')\n",
    "for i in range(len(u)):\n",
    "  for j in range(len(v)):\n",
    "    out_loop[i, j] =  u[i]*v[j]\n",
    "print(\"\\nOuter product between u and v computed with nested loop:\\n\", out_loop)\n",
    "\n",
    "out_list = np.array([u[i]*v[j] for i in range(len(u)) for j in range(len(v))]).reshape(len(u), len(v))\n",
    "print(\"\\nOuter product between u and v computed with list comprehension:\\n\", out_list)\n",
    "\n",
    "# 3) numpy broadcasting\n",
    "u = np.tile(u, (4,1)).T\n",
    "v = np.tile(v, (4,1))\n",
    "out_broad = u*v\n",
    "#out_broad = u[:, None]*v[None, :] # alternative\n",
    "print(\"\\nOuter product between u and v computed with broadcasting:\\n\", out_broad)"
   ]
  },
  {
   "cell_type": "markdown",
   "metadata": {},
   "source": [
    "3\\. Create a 10 by 6 matrix of increasing float numbers, starting from zero and increasing in each step by 0.1, so the output matrix looks like the following:\n",
    "\n",
    "```python\n",
    "m = [[0. 0.1, 0.2 0.3 ... 0.9]\n",
    "     [1.0 1.1 1.2 1.3 ... 1.9]\n",
    "     ...\n",
    "     [5.0 5.1 5.2 5.3 ... 5.9]]\n",
    "```\n",
    "After creating the matrix, set all entries with a decimal part $< 0.4$ to zero."
   ]
  },
  {
   "cell_type": "code",
   "execution_count": 97,
   "metadata": {},
   "outputs": [
    {
     "name": "stdout",
     "output_type": "stream",
     "text": [
      "Original matrix:\n",
      " [[0.  0.1 0.2 0.3 0.4 0.5 0.6 0.7 0.8 0.9]\n",
      " [1.  1.1 1.2 1.3 1.4 1.5 1.6 1.7 1.8 1.9]\n",
      " [2.  2.1 2.2 2.3 2.4 2.5 2.6 2.7 2.8 2.9]\n",
      " [3.  3.1 3.2 3.3 3.4 3.5 3.6 3.7 3.8 3.9]\n",
      " [4.  4.1 4.2 4.3 4.4 4.5 4.6 4.7 4.8 4.9]\n",
      " [5.  5.1 5.2 5.3 5.4 5.5 5.6 5.7 5.8 5.9]]\n",
      "\n",
      "Modified matrix:\n",
      " [[0.  0.  0.  0.  0.4 0.5 0.6 0.7 0.8 0.9]\n",
      " [0.  0.  0.  0.  1.4 1.5 1.6 1.7 1.8 1.9]\n",
      " [0.  0.  0.  0.  2.4 2.5 2.6 2.7 2.8 2.9]\n",
      " [0.  0.  0.  0.  3.4 3.5 3.6 3.7 3.8 3.9]\n",
      " [0.  0.  0.  0.  4.4 4.5 4.6 4.7 4.8 4.9]\n",
      " [0.  0.  0.  0.  5.4 5.5 5.6 5.7 5.8 5.9]]\n"
     ]
    }
   ],
   "source": [
    "m = np.arange(0, 6, 0.1).reshape(6, 10)\n",
    "print(\"Original matrix:\\n\", m)\n",
    "\n",
    "m[:,:-6] = 0\n",
    "print(\"\\nModified matrix:\\n\", m)"
   ]
  },
  {
   "cell_type": "markdown",
   "metadata": {},
   "source": [
    "4\\. Use `np.linspace` to create an array of 100 numbers between 0 and 2π (inclusive).\n",
    "\n",
    "  * Extract every 10th element using the slice notation\n",
    "  * Reverse the array using the slice notation\n",
    "  * Extract elements where the absolute difference between the sin and cos functions evaluated for that element is $< 0.1$\n",
    "  * **Optional**: make a plot showing the sin and cos functions and indicate where they are close"
   ]
  },
  {
   "cell_type": "code",
   "execution_count": 131,
   "metadata": {},
   "outputs": [
    {
     "name": "stdout",
     "output_type": "stream",
     "text": [
      "The original array:\n",
      " [0.         0.06346652 0.12693304 0.19039955 0.25386607 0.31733259\n",
      " 0.38079911 0.44426563 0.50773215 0.57119866 0.63466518 0.6981317\n",
      " 0.76159822 0.82506474 0.88853126 0.95199777 1.01546429 1.07893081\n",
      " 1.14239733 1.20586385 1.26933037 1.33279688 1.3962634  1.45972992\n",
      " 1.52319644 1.58666296 1.65012947 1.71359599 1.77706251 1.84052903\n",
      " 1.90399555 1.96746207 2.03092858 2.0943951  2.15786162 2.22132814\n",
      " 2.28479466 2.34826118 2.41172769 2.47519421 2.53866073 2.60212725\n",
      " 2.66559377 2.72906028 2.7925268  2.85599332 2.91945984 2.98292636\n",
      " 3.04639288 3.10985939 3.17332591 3.23679243 3.30025895 3.36372547\n",
      " 3.42719199 3.4906585  3.55412502 3.61759154 3.68105806 3.74452458\n",
      " 3.8079911  3.87145761 3.93492413 3.99839065 4.06185717 4.12532369\n",
      " 4.1887902  4.25225672 4.31572324 4.37918976 4.44265628 4.5061228\n",
      " 4.56958931 4.63305583 4.69652235 4.75998887 4.82345539 4.88692191\n",
      " 4.95038842 5.01385494 5.07732146 5.14078798 5.2042545  5.26772102\n",
      " 5.33118753 5.39465405 5.45812057 5.52158709 5.58505361 5.64852012\n",
      " 5.71198664 5.77545316 5.83891968 5.9023862  5.96585272 6.02931923\n",
      " 6.09278575 6.15625227 6.21971879 6.28318531]\n",
      "Array resulting from extraction of an element every 10:\n",
      " [0.         0.63466518 1.26933037 1.90399555 2.53866073 3.17332591\n",
      " 3.8079911  4.44265628 5.07732146 5.71198664]\n",
      "Array resulting from reversion of the original:\n",
      " [6.28318531 6.21971879 6.15625227 6.09278575 6.02931923 5.96585272\n",
      " 5.9023862  5.83891968 5.77545316 5.71198664 5.64852012 5.58505361\n",
      " 5.52158709 5.45812057 5.39465405 5.33118753 5.26772102 5.2042545\n",
      " 5.14078798 5.07732146 5.01385494 4.95038842 4.88692191 4.82345539\n",
      " 4.75998887 4.69652235 4.63305583 4.56958931 4.5061228  4.44265628\n",
      " 4.37918976 4.31572324 4.25225672 4.1887902  4.12532369 4.06185717\n",
      " 3.99839065 3.93492413 3.87145761 3.8079911  3.74452458 3.68105806\n",
      " 3.61759154 3.55412502 3.4906585  3.42719199 3.36372547 3.30025895\n",
      " 3.23679243 3.17332591 3.10985939 3.04639288 2.98292636 2.91945984\n",
      " 2.85599332 2.7925268  2.72906028 2.66559377 2.60212725 2.53866073\n",
      " 2.47519421 2.41172769 2.34826118 2.28479466 2.22132814 2.15786162\n",
      " 2.0943951  2.03092858 1.96746207 1.90399555 1.84052903 1.77706251\n",
      " 1.71359599 1.65012947 1.58666296 1.52319644 1.45972992 1.3962634\n",
      " 1.33279688 1.26933037 1.20586385 1.14239733 1.07893081 1.01546429\n",
      " 0.95199777 0.88853126 0.82506474 0.76159822 0.6981317  0.63466518\n",
      " 0.57119866 0.50773215 0.44426563 0.38079911 0.31733259 0.25386607\n",
      " 0.19039955 0.12693304 0.06346652 0.        ]\n",
      "Original array elements i for which |sin(i)-cos(i)| < 0.1:\n",
      " [0.76159822 0.82506474 3.87145761 3.93492413]\n"
     ]
    },
    {
     "data": {
      "text/plain": [
       "<matplotlib.patches.Polygon at 0x233c56274f0>"
      ]
     },
     "execution_count": 131,
     "metadata": {},
     "output_type": "execute_result"
    },
    {
     "data": {
      "image/png": "[encoded data removed]",
      "text/plain": [
       "<Figure size 432x288 with 1 Axes>"
      ]
     },
     "metadata": {
      "needs_background": "light"
     },
     "output_type": "display_data"
    }
   ],
   "source": [
    "import matplotlib.pyplot as plt\n",
    "\n",
    "a = np.linspace(0, 2*np.pi, 100)\n",
    "print(\"The original array:\\n\", a)\n",
    "\n",
    "# 1) Extraction of every 10th element\n",
    "a_10 = a[::10]\n",
    "print(\"Array resulting from extraction of an element every 10:\\n\", a_10)\n",
    "\n",
    "# 2) Reversion of the array\n",
    "a_rev = a[::-1]\n",
    "print(\"Array resulting from reversion of the original:\\n\", a_rev)\n",
    "\n",
    "# 3) Extraction of elements i for which |sin(i)-cos(i)| < 0.1\n",
    "a_diff = a[abs(np.sin(a)-np.cos(a)) < 0.1]\n",
    "print(\"Original array elements i for which |sin(i)-cos(i)| < 0.1:\\n\", a_diff)\n",
    "\n",
    "# 4) Plot for sin and cos functions\n",
    "ys = np.sin(a)\n",
    "yc = np.cos(a)\n",
    "plt.plot(a, ys)\n",
    "plt.plot(a, yc)\n",
    "plt.axvspan(a_diff[0], a_diff[1], alpha=0.5, color='red')\n",
    "plt.axvspan(a_diff[2], a_diff[3], alpha=0.5, color='red')\n",
    "# we highlighted the areas for which |sin(x)-cos(x)| < 0.1 holds, with the caveat that we\n",
    "# do not have a very high resolution since we are considering only 100 values between 0 and\n",
    "# 2*pi"
   ]
  },
  {
   "cell_type": "markdown",
   "metadata": {},
   "source": [
    "5\\. Create a matrix that shows the 10 by 10 multiplication table.\n",
    "\n",
    " * Find the trace of the matrix\n",
    " * Extract the anti-diagonal matrix (this should be ```array([10, 18, 24, 28, 30, 30, 28, 24, 18, 10])```)\n",
    " * Extract the diagonal offset by 1 upwards (this should be ```array([ 2,  6, 12, 20, 30, 42, 56, 72, 90])```)"
   ]
  },
  {
   "cell_type": "code",
   "execution_count": 4,
   "metadata": {},
   "outputs": [
    {
     "name": "stdout",
     "output_type": "stream",
     "text": [
      "10 by 10 multiplication table:\n",
      " [[  1   2   3   4   5   6   7   8   9  10]\n",
      " [  2   4   6   8  10  12  14  16  18  20]\n",
      " [  3   6   9  12  15  18  21  24  27  30]\n",
      " [  4   8  12  16  20  24  28  32  36  40]\n",
      " [  5  10  15  20  25  30  35  40  45  50]\n",
      " [  6  12  18  24  30  36  42  48  54  60]\n",
      " [  7  14  21  28  35  42  49  56  63  70]\n",
      " [  8  16  24  32  40  48  56  64  72  80]\n",
      " [  9  18  27  36  45  54  63  72  81  90]\n",
      " [ 10  20  30  40  50  60  70  80  90 100]]\n",
      "\n",
      "Trace:\n",
      " 385\n",
      "\n",
      "Anti-diagonal:\n",
      " [10 18 24 28 30 30 28 24 18 10]\n",
      "\n",
      "Diagonal offset by 1 upwards:\n",
      " [ 2  6 12 20 30 42 56 72 90]\n"
     ]
    }
   ],
   "source": [
    "first_row = np.arange(1, 11)\n",
    "first_col = np.tile(first_row, (10, 1)).T\n",
    "mult_tab = first_row * first_col\n",
    "print(\"10 by 10 multiplication table:\\n\", mult_tab)\n",
    "\n",
    "# 1) Matrix trace\n",
    "trace = np.trace(mult_tab)\n",
    "print(\"\\nTrace:\\n\", trace)\n",
    "\n",
    "# 2) Matrix anti-diagonal\n",
    "a_diag = np.fliplr(mult_tab).diagonal()\n",
    "print(\"\\nAnti-diagonal:\\n\", a_diag)\n",
    "\n",
    "# 3) Matrix diagonal offset by 1 up\n",
    "diag_offset_mat = np.tril(np.triu(mult_tab, 1), 1)\n",
    "diag_offset_arr = diag_offset_mat[diag_offset_mat > 0]\n",
    "print(\"\\nDiagonal offset by 1 upwards:\\n\", diag_offset_arr)"
   ]
  },
  {
   "cell_type": "markdown",
   "metadata": {},
   "source": [
    "6\\. Use broadcasting to create a grid of distances.\n",
    "\n",
    "Route 66 crosses the following cities in the US: Chicago, Springfield, Saint-Louis, Tulsa, Oklahoma City, Amarillo, Santa Fe, Albuquerque, Flagstaff, Los Angeles\n",
    "The corresponding positions in miles are: 0, 198, 303, 736, 871, 1175, 1475, 1544, 1913, 2448\n",
    "\n",
    "  * Build a 2D grid of distances among each city along Route 66\n",
    "  * Convert the distances in km"
   ]
  },
  {
   "cell_type": "code",
   "execution_count": 16,
   "metadata": {},
   "outputs": [
    {
     "name": "stdout",
     "output_type": "stream",
     "text": [
      "2D grid of distances between cities along Route 66:\n",
      " [[   0.  198.  303.  736.  871. 1175. 1475. 1544. 1913. 2448.]\n",
      " [ 198.    0.  105.  538.  673.  977. 1277. 1346. 1715. 2250.]\n",
      " [ 303.  105.    0.  433.  568.  872. 1172. 1241. 1610. 2145.]\n",
      " [ 736.  538.  433.    0.  135.  439.  739.  808. 1177. 1712.]\n",
      " [ 871.  673.  568.  135.    0.  304.  604.  673. 1042. 1577.]\n",
      " [1175.  977.  872.  439.  304.    0.  300.  369.  738. 1273.]\n",
      " [1475. 1277. 1172.  739.  604.  300.    0.   69.  438.  973.]\n",
      " [1544. 1346. 1241.  808.  673.  369.   69.    0.  369.  904.]\n",
      " [1913. 1715. 1610. 1177. 1042.  738.  438.  369.    0.  535.]\n",
      " [2448. 2250. 2145. 1712. 1577. 1273.  973.  904.  535.    0.]]\n",
      "2D grid of km distances between cities along Route 66:\n",
      " [[   0.          318.65011315  487.63123376 1184.47718826 1401.73862905\n",
      "  1890.97920681 2373.78240855 2484.82714495 3078.67508309 3939.67412619]\n",
      " [ 318.65011315    0.          168.98112061  865.82707512 1083.0885159\n",
      "  1572.32909366 2055.1322954  2166.1770318  2760.02496994 3621.02401304]\n",
      " [ 487.63123376  168.98112061    0.          696.84595451  914.10739529\n",
      "  1403.34797305 1886.15117479 1997.19591119 2591.04384933 3452.04289243]\n",
      " [1184.47718826  865.82707512  696.84595451    0.          217.26144078\n",
      "   706.50201854 1189.30522028 1300.34995668 1894.19789482 2755.19693792]\n",
      " [1401.73862905 1083.0885159   914.10739529  217.26144078    0.\n",
      "   489.24057776  972.0437795  1083.0885159  1676.93645404 2537.93549714]\n",
      " [1890.97920681 1572.32909366 1403.34797305  706.50201854  489.24057776\n",
      "     0.          482.80320174  593.84793814 1187.69587628 2048.69491938]\n",
      " [2373.78240855 2055.1322954  1886.15117479 1189.30522028  972.0437795\n",
      "   482.80320174    0.          111.0447364   704.89267454 1565.89171764]\n",
      " [2484.82714495 2166.1770318  1997.19591119 1300.34995668 1083.0885159\n",
      "   593.84793814  111.0447364     0.          593.84793814 1454.84698124]\n",
      " [3078.67508309 2760.02496994 2591.04384933 1894.19789482 1676.93645404\n",
      "  1187.69587628  704.89267454  593.84793814    0.          860.9990431 ]\n",
      " [3939.67412619 3621.02401304 3452.04289243 2755.19693792 2537.93549714\n",
      "  2048.69491938 1565.89171764 1454.84698124  860.9990431     0.        ]]\n"
     ]
    }
   ],
   "source": [
    "positions = np.array([0, 198, 303, 736, 871, 1175, 1475, 1544, 1913, 2448], 'float64')\n",
    "\n",
    "# 1) 2D grid of distances between cities\n",
    "positionsTransposed = np.tile(positions, (10, 1)).T\n",
    "distGrid = abs(positions - positionsTransposed)\n",
    "print(\"2D grid of distances between cities along Route 66:\\n\", distGrid)\n",
    "\n",
    "# 2) Conversion to km\n",
    "CONVERSION_FACTOR = 0.62137119\n",
    "def miles_to_km(d):\n",
    "  return d/CONVERSION_FACTOR\n",
    "\n",
    "distGridKm = np.vectorize(miles_to_km)(distGrid)\n",
    "print(\"2D grid of km distances between cities along Route 66:\\n\", distGridKm)\n"
   ]
  },
  {
   "cell_type": "markdown",
   "metadata": {},
   "source": [
    "7\\. Prime numbers sieve: compute the prime numbers in the 0-N (start with N=99) range with a sieve (mask).\n",
    "  * Check the performances (timeit); how does it scale with N?\n",
    "  * Implement the optimization suggested in the [sieve of Eratosthenes](https://en.wikipedia.org/wiki/Sieve_of_Eratosthenes)"
   ]
  },
  {
   "cell_type": "code",
   "execution_count": 49,
   "metadata": {},
   "outputs": [
    {
     "name": "stdout",
     "output_type": "stream",
     "text": [
      "Prime numbers in range [0, 99] are:\n",
      " [ 2  3  5  7 11 13 17 19 23 29 31 37 41 43 47 53 59 61 67 71 73 79 83 89\n",
      " 97]\n"
     ]
    }
   ],
   "source": [
    "N = 99\n",
    "\n",
    "def is_prime(n):\n",
    "    if n < 2: \n",
    "        return False\n",
    "\n",
    "    for i in range(2, n):\n",
    "        if n % i == 0:\n",
    "            return False\n",
    "    \n",
    "    return True\n",
    "\n",
    "def primes_basic(n):\n",
    "    num = np.arange(0, n+1)\n",
    "    mask = np.vectorize(is_prime)(num)\n",
    "    return num[mask]\n",
    "\n",
    "primeNumbers = primes_basic(N)\n",
    "print(\"Prime numbers in range [0, %d] are:\\n\" % N, primeNumbers)"
   ]
  },
  {
   "cell_type": "code",
   "execution_count": 50,
   "metadata": {},
   "outputs": [
    {
     "name": "stdout",
     "output_type": "stream",
     "text": [
      "80.2 µs ± 10.5 µs per loop (mean ± std. dev. of 7 runs, 10000 loops each)\n",
      "209 µs ± 3.64 µs per loop (mean ± std. dev. of 7 runs, 10000 loops each)\n",
      "392 µs ± 30.9 µs per loop (mean ± std. dev. of 7 runs, 1000 loops each)\n"
     ]
    }
   ],
   "source": [
    "# 1) Basic function performance\n",
    "\n",
    "%timeit primes_basic(99)\n",
    "%timeit primes_basic(198)\n",
    "%timeit primes_basic(297)\n",
    "# the function seems to scale almost polinomially with N"
   ]
  },
  {
   "cell_type": "code",
   "execution_count": 60,
   "metadata": {},
   "outputs": [
    {
     "name": "stdout",
     "output_type": "stream",
     "text": [
      "Prime numbers in range [0, 99] are:\n",
      " [ 2  3  5  7 11 13 17 19 23 29 31 37 41 43 47 53 59 61 67 71 73 79 83 89\n",
      " 97]\n",
      "14.2 µs ± 1.78 µs per loop (mean ± std. dev. of 7 runs, 100000 loops each)\n",
      "140 µs ± 11.1 µs per loop (mean ± std. dev. of 7 runs, 10000 loops each)\n",
      "1.47 ms ± 390 µs per loop (mean ± std. dev. of 7 runs, 1000 loops each)\n"
     ]
    }
   ],
   "source": [
    "# 2) Sieve of Eratosthenes implementation\n",
    "import math\n",
    "\n",
    "N = 99\n",
    "\n",
    "def erato_sieve(n):\n",
    "  prime = [True for i in range(n + 1)]\n",
    "  p = 2\n",
    "  while (p * p <= n):\n",
    "         \n",
    "    # If prime[p] is not changed, then it is a prime\n",
    "    if (prime[p] == True):\n",
    "             \n",
    "      # Update all multiples of p\n",
    "      for i in range(p ** 2, n + 1, p):\n",
    "        prime[i] = False\n",
    "    p += 1\n",
    "    prime[0]= False\n",
    "    prime[1]= False\n",
    "\n",
    "  return np.asarray(prime).nonzero()[0] #np.asarray returns a tuple for each dim\n",
    "\n",
    "primeNumbers = erato_sieve(N)\n",
    "print(\"Prime numbers in range [0, %d] are:\\n\" % N, primeNumbers)\n",
    "\n",
    "%timeit erato_sieve(100)\n",
    "%timeit erato_sieve(1000)\n",
    "%timeit erato_sieve(10000)\n",
    "\n",
    "# we can say that the Eratosthenes' implementation performs better then the basic one, being linear"
   ]
  }
 ],
 "metadata": {
  "kernelspec": {
   "display_name": "Python 3",
   "language": "python",
   "name": "python3"
  },
  "language_info": {
   "codemirror_mode": {
    "name": "ipython",
    "version": 3
   },
   "file_extension": ".py",
   "mimetype": "text/x-python",
   "name": "python",
   "nbconvert_exporter": "python",
   "pygments_lexer": "ipython3",
   "version": "3.9.5"
  }
 },
 "nbformat": 4,
 "nbformat_minor": 2
}
