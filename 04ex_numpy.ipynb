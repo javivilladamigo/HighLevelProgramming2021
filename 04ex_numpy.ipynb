{
 "cells": [
  {
   "cell_type": "markdown",
   "metadata": {},
   "source": [
    "0\\. IMPORT PACKAGES"
   ]
  },
  {
   "cell_type": "code",
   "execution_count": 1,
   "metadata": {},
   "outputs": [],
   "source": [
    "import numpy as np\n",
    "from math import pi\n",
    "import matplotlib.pyplot as plt\n",
    "%matplotlib inline\n",
    "from matplotlib.ticker import AutoMinorLocator"
   ]
  },
  {
   "cell_type": "markdown",
   "metadata": {},
   "source": [
    "1\\. Find the total mean, and the mean for each row and column of the following matrix:\n",
    "\n",
    "```python\n",
    "m = np.arange(12).reshape((3,4))\n",
    "```"
   ]
  },
  {
   "cell_type": "code",
   "execution_count": 2,
   "metadata": {},
   "outputs": [
    {
     "name": "stdout",
     "output_type": "stream",
     "text": [
      "Total mean: 5.5\n",
      "Column means: [4. 5. 6. 7.]\n",
      "Row means: [1.5 5.5 9.5]\n"
     ]
    }
   ],
   "source": [
    "# ex 1\n",
    "\n",
    "m = np.arange(12).reshape((3, 4))\n",
    "print(\"Total mean:\", np.mean(m))\n",
    "print(\"Column means:\", np.mean(m, axis=0))\n",
    "print(\"Row means:\", np.mean(m, axis=1))"
   ]
  },
  {
   "cell_type": "markdown",
   "metadata": {},
   "source": [
    "2\\. Find the outer product of the following vectors:\n",
    "\n",
    "```python\n",
    "u = np.array([1, 3, 5, 7])\n",
    "v = np.array([2, 4, 6, 8])\n",
    "```\n",
    "\n",
    "Use different methods to do this:\n",
    "\n",
    "   1. Using the function `outer` in numpy\n",
    "   2. Using a nested `for` loop or a list comprehension\n",
    "   3. Using numpy broadcasting operations"
   ]
  },
  {
   "cell_type": "code",
   "execution_count": 3,
   "metadata": {},
   "outputs": [
    {
     "name": "stdout",
     "output_type": "stream",
     "text": [
      "Method 1:\n",
      " [[ 2  4  6  8]\n",
      " [ 6 12 18 24]\n",
      " [10 20 30 40]\n",
      " [14 28 42 56]]\n",
      "Method 2:\n",
      " [[ 2  4  6  8]\n",
      " [ 6 12 18 24]\n",
      " [10 20 30 40]\n",
      " [14 28 42 56]]\n",
      "Method 3:\n",
      " [[ 2  4  6  8]\n",
      " [ 6 12 18 24]\n",
      " [10 20 30 40]\n",
      " [14 28 42 56]]\n"
     ]
    }
   ],
   "source": [
    "# ex 2\n",
    "\n",
    "u = np.array([1, 3, 5, 7])\n",
    "v = np.array([2, 4, 6, 8])\n",
    "\n",
    "print(\"Method 1:\\n\", np.outer(u, v))\n",
    "print(\"Method 2:\\n\", np.array( [(i*j) for i in u for j in v] ).reshape(4,4))\n",
    "print(\"Method 3:\\n\", (u.reshape(4,1))*v)"
   ]
  },
  {
   "cell_type": "markdown",
   "metadata": {},
   "source": [
    "3\\. Create a 10 by 6 matrix of increasing float numbers, starting from zero and increasing in each step by 0.1, so the output matrix looks like the following:\n",
    "\n",
    "```python\n",
    "m = [[0. 0.1, 0.2 0.3 ... 0.9]\n",
    "     [1.0 1.1 1.2 1.3 ... 1.9]\n",
    "     ...\n",
    "     [5.0 5.1 5.2 5.3 ... 5.9]]\n",
    "```\n",
    "After creating the matrix, set all entries with a decimal part $< 0.4$ to zero."
   ]
  },
  {
   "cell_type": "code",
   "execution_count": 4,
   "metadata": {},
   "outputs": [
    {
     "name": "stdout",
     "output_type": "stream",
     "text": [
      "[[0.  0.1 0.2 0.3 0.4 0.5 0.6 0.7 0.8 0.9]\n",
      " [1.  1.1 1.2 1.3 1.4 1.5 1.6 1.7 1.8 1.9]\n",
      " [2.  2.1 2.2 2.3 2.4 2.5 2.6 2.7 2.8 2.9]\n",
      " [3.  3.1 3.2 3.3 3.4 3.5 3.6 3.7 3.8 3.9]\n",
      " [4.  4.1 4.2 4.3 4.4 4.5 4.6 4.7 4.8 4.9]\n",
      " [5.  5.1 5.2 5.3 5.4 5.5 5.6 5.7 5.8 5.9]]\n",
      "[[0.  0.  0.  0.  0.4 0.5 0.6 0.7 0.8 0.9]\n",
      " [0.  0.  0.  0.  1.4 1.5 1.6 1.7 1.8 1.9]\n",
      " [0.  0.  0.  0.  2.4 2.5 2.6 2.7 2.8 2.9]\n",
      " [0.  0.  0.  0.  3.4 3.5 3.6 3.7 3.8 3.9]\n",
      " [0.  0.  0.  0.  4.4 4.5 4.6 4.7 4.8 4.9]\n",
      " [0.  0.  0.  0.  5.4 5.5 5.6 5.7 5.8 5.9]]\n"
     ]
    }
   ],
   "source": [
    "# ex 3\n",
    "\n",
    "m = np.arange(0, 6, 0.1).reshape(6, 10)\n",
    "print(m)\n",
    "\n",
    "l = np.array([ 0 if i%1<0.4 else i for i in np.nditer(m)]).reshape(6,10)\n",
    "print(l)"
   ]
  },
  {
   "cell_type": "markdown",
   "metadata": {},
   "source": [
    "4\\. Use `np.linspace` to create an array of 100 numbers between 0 and 2π (inclusive).\n",
    "\n",
    "  * Extract every 10th element using the slice notation\n",
    "  * Reverse the array using the slice notation\n",
    "  * Extract elements where the absolute difference between the sin and cos functions evaluated for that element is $< 0.1$\n",
    "  * **Optional**: make a plot showing the sin and cos functions and indicate where they are close"
   ]
  },
  {
   "cell_type": "code",
   "execution_count": 5,
   "metadata": {},
   "outputs": [
    {
     "name": "stdout",
     "output_type": "stream",
     "text": [
      "Extracted elements:\n",
      " [0.         0.63466518 1.26933037 1.90399555 2.53866073 3.17332591\n",
      " 3.8079911  4.44265628 5.07732146 5.71198664]\n",
      "Reversed array:\n",
      " [6.28318531 6.21971879 6.15625227 6.09278575 6.02931923 5.96585272\n",
      " 5.9023862  5.83891968 5.77545316 5.71198664 5.64852012 5.58505361\n",
      " 5.52158709 5.45812057 5.39465405 5.33118753 5.26772102 5.2042545\n",
      " 5.14078798 5.07732146 5.01385494 4.95038842 4.88692191 4.82345539\n",
      " 4.75998887 4.69652235 4.63305583 4.56958931 4.5061228  4.44265628\n",
      " 4.37918976 4.31572324 4.25225672 4.1887902  4.12532369 4.06185717\n",
      " 3.99839065 3.93492413 3.87145761 3.8079911  3.74452458 3.68105806\n",
      " 3.61759154 3.55412502 3.4906585  3.42719199 3.36372547 3.30025895\n",
      " 3.23679243 3.17332591 3.10985939 3.04639288 2.98292636 2.91945984\n",
      " 2.85599332 2.7925268  2.72906028 2.66559377 2.60212725 2.53866073\n",
      " 2.47519421 2.41172769 2.34826118 2.28479466 2.22132814 2.15786162\n",
      " 2.0943951  2.03092858 1.96746207 1.90399555 1.84052903 1.77706251\n",
      " 1.71359599 1.65012947 1.58666296 1.52319644 1.45972992 1.3962634\n",
      " 1.33279688 1.26933037 1.20586385 1.14239733 1.07893081 1.01546429\n",
      " 0.95199777 0.88853126 0.82506474 0.76159822 0.6981317  0.63466518\n",
      " 0.57119866 0.50773215 0.44426563 0.38079911 0.31733259 0.25386607\n",
      " 0.19039955 0.12693304 0.06346652 0.        ]\n",
      "Extracted elements with difference <0.1:\n",
      " [0.76159822 0.82506474 3.87145761 3.93492413]\n"
     ]
    }
   ],
   "source": [
    "# ex 4\n",
    "from math import pi\n",
    "\n",
    "v = np.linspace (0, 2*pi, 100)\n",
    "\n",
    "# 4.1:\n",
    "print(\"Extracted elements:\\n\", v[::10]) \n",
    "# 4.2\n",
    "print(\"Reversed array:\\n\", v[::-1]) \n",
    "# 4.3\n",
    "mask = (abs(np.cos(v) - np.sin(v))<0.1)\n",
    "w = v[mask]\n",
    "print(\"Extracted elements with difference <0.1:\\n\", w)"
   ]
  },
  {
   "cell_type": "code",
   "execution_count": 15,
   "metadata": {},
   "outputs": [
    {
     "data": {
      "image/png": "[encoded data removed]",
      "text/plain": [
       "<Figure size 432x288 with 1 Axes>"
      ]
     },
     "metadata": {
      "needs_background": "light"
     },
     "output_type": "display_data"
    }
   ],
   "source": [
    "# 4.4 OPTIONAL\n",
    "\n",
    "fig = plt.figure()\n",
    "ax = fig.add_subplot()\n",
    "\n",
    "ax.plot(v, np.sin(v), color = 'forestgreen', label = 'sin($\\u03B8$)')\n",
    "ax.plot(v, np.cos(v), color = 'dodgerblue', label = 'cos($\\u03B8$)')\n",
    "\n",
    "ax.axvspan(w[0], w[1], color = 'orangered', alpha = 0.4, label = '|sin(\\u03B8)-cos(\\u03B8)|<0.1')\n",
    "ax.axvspan(w[2], w[3], color = 'orangered', alpha = 0.4)\n",
    "\n",
    "ax.set_xlabel('$\\u03B8$ (rad)')\n",
    "ax.set_ylabel('f ($\\u03B8$)')\n",
    "ax.tick_params(which='both', direction='in')\n",
    "ax.grid(which='major', axis='both', alpha=0.25)\n",
    "ax.set_axisbelow(True)\n",
    "ax.xaxis.set_minor_locator(AutoMinorLocator(2))\n",
    "ax.yaxis.set_minor_locator(AutoMinorLocator(2))\n",
    "legend = ax.legend(loc = 'upper right', prop = {'size': 9}, framealpha = 0.85)"
   ]
  },
  {
   "cell_type": "markdown",
   "metadata": {},
   "source": [
    "5\\. Create a matrix that shows the 10 by 10 multiplication table.\n",
    "\n",
    " * Find the trace of the matrix\n",
    " * Extract the anti-diagonal matrix (this should be ```array([10, 18, 24, 28, 30, 30, 28, 24, 18, 10])```)\n",
    " * Extract the diagonal offset by 1 upwards (this should be ```array([ 2,  6, 12, 20, 30, 42, 56, 72, 90])```)"
   ]
  },
  {
   "cell_type": "code",
   "execution_count": 7,
   "metadata": {},
   "outputs": [
    {
     "name": "stdout",
     "output_type": "stream",
     "text": [
      "Trace: 385\n",
      "Antidiagonal: [10 18 24 28 30 30 28 24 18 10]\n",
      "Diagonal offset by 1 upwards: [ 2  6 12 20 30 42 56 72 90]\n"
     ]
    }
   ],
   "source": [
    "# ex 5\n",
    "\n",
    "a = np.arange(1,11)\n",
    "b = np.arange(1,11).reshape(10,1)\n",
    "c = a*b\n",
    "\n",
    "# 5.1\n",
    "print(\"Trace:\", np.trace(c))\n",
    "# 5.2\n",
    "print(\"Antidiagonal:\", np.diagonal(np.flip(c, axis=1)))\n",
    "# 5.3\n",
    "print(\"Diagonal offset by 1 upwards:\", np.diagonal(c, offset=1))"
   ]
  },
  {
   "cell_type": "markdown",
   "metadata": {},
   "source": [
    "6\\. Use broadcasting to create a grid of distances.\n",
    "\n",
    "Route 66 crosses the following cities in the US: Chicago, Springfield, Saint-Louis, Tulsa, Oklahoma City, Amarillo, Santa Fe, Albuquerque, Flagstaff, Los Angeles\n",
    "The corresponding positions in miles are: 0, 198, 303, 736, 871, 1175, 1475, 1544, 1913, 2448\n",
    "\n",
    "  * Build a 2D grid of distances among each city along Route 66\n",
    "  * Convert the distances in km"
   ]
  },
  {
   "cell_type": "code",
   "execution_count": 8,
   "metadata": {},
   "outputs": [
    {
     "name": "stdout",
     "output_type": "stream",
     "text": [
      "Distance grid between cities in miles:\n",
      " [[   0  198  303  736  871 1175 1475 1544 1913 2448]\n",
      " [ 198    0  105  538  673  977 1277 1346 1715 2250]\n",
      " [ 303  105    0  433  568  872 1172 1241 1610 2145]\n",
      " [ 736  538  433    0  135  439  739  808 1177 1712]\n",
      " [ 871  673  568  135    0  304  604  673 1042 1577]\n",
      " [1175  977  872  439  304    0  300  369  738 1273]\n",
      " [1475 1277 1172  739  604  300    0   69  438  973]\n",
      " [1544 1346 1241  808  673  369   69    0  369  904]\n",
      " [1913 1715 1610 1177 1042  738  438  369    0  535]\n",
      " [2448 2250 2145 1712 1577 1273  973  904  535    0]]\n",
      "\n",
      "Distance grid between cities in km:\n",
      " [[   0.       318.64932  487.63002 1184.47424 1401.73514 1890.9745\n",
      "  2373.7765  2484.82096 3078.66742 3939.66432]\n",
      " [ 318.64932    0.       168.9807   865.82492 1083.08582 1572.32518\n",
      "  2055.12718 2166.17164 2760.0181  3621.015  ]\n",
      " [ 487.63002  168.9807     0.       696.84422  914.10512 1403.34448\n",
      "  1886.14648 1997.19094 2591.0374  3452.0343 ]\n",
      " [1184.47424  865.82492  696.84422    0.       217.2609   706.50026\n",
      "  1189.30226 1300.34672 1894.19318 2755.19008]\n",
      " [1401.73514 1083.08582  914.10512  217.2609     0.       489.23936\n",
      "   972.04136 1083.08582 1676.93228 2537.92918]\n",
      " [1890.9745  1572.32518 1403.34448  706.50026  489.23936    0.\n",
      "   482.802    593.84646 1187.69292 2048.68982]\n",
      " [2373.7765  2055.12718 1886.14648 1189.30226  972.04136  482.802\n",
      "     0.       111.04446  704.89092 1565.88782]\n",
      " [2484.82096 2166.17164 1997.19094 1300.34672 1083.08582  593.84646\n",
      "   111.04446    0.       593.84646 1454.84336]\n",
      " [3078.66742 2760.0181  2591.0374  1894.19318 1676.93228 1187.69292\n",
      "   704.89092  593.84646    0.       860.9969 ]\n",
      " [3939.66432 3621.015   3452.0343  2755.19008 2537.92918 2048.68982\n",
      "  1565.88782 1454.84336  860.9969     0.     ]]\n"
     ]
    }
   ],
   "source": [
    "# ex 6\n",
    "\n",
    "names = np.array(['Chicago', 'Springfield','Saint-Louis','Tulsa','Oklahoma city', 'Amarillo', 'Santa Fe', 'Albuquerque', 'Flagstaff', 'Los Angeles'])\n",
    "positions = np.array([ 0, 198, 303, 736, 871, 1175, 1475, 1544, 1913, 2448])\n",
    "\n",
    "dist = np.abs(positions.reshape(10,1) - positions)\n",
    "\n",
    "# with list comprehension it would be:\n",
    "dist_list = np.array([ np.abs(i - j) for i in positions for j in positions]).reshape(10, 10)\n",
    "\n",
    "dist_km = dist * 1.60934\n",
    "\n",
    "print('Distance grid between cities in miles:\\n',dist)\n",
    "print('\\nDistance grid between cities in km:\\n',dist_km)"
   ]
  },
  {
   "cell_type": "markdown",
   "metadata": {},
   "source": [
    "7\\. Prime numbers sieve: compute the prime numbers in the 0-N (start with N=99) range with a sieve (mask).\n",
    "  * Check the performances (timeit); how does it scale with N?\n",
    "  * Implement the optimization suggested in the [sieve of Eratosthenes](https://en.wikipedia.org/wiki/Sieve_of_Eratosthenes)"
   ]
  },
  {
   "cell_type": "code",
   "execution_count": 9,
   "metadata": {},
   "outputs": [
    {
     "name": "stdout",
     "output_type": "stream",
     "text": [
      "The prime numbers calculated with 'Trial Division' are:\n",
      " [ 1  2  3  5  7 11 13 17 19 23 29 31 37 41 43 47 53 59 61 67 71 73 79 83\n",
      " 89 97]\n"
     ]
    }
   ],
   "source": [
    "# ex 7.1 - Trial division\n",
    "\n",
    "def maskprime(N):\n",
    "    \"\"\"Function to create the mask to get the prime numbers in [0, N] range\"\"\"\n",
    "    l = []\n",
    "    for i in range(1, N):\n",
    "        count=0\n",
    "        for j in range(2, i):\n",
    "            if (i%j!=0):\n",
    "                continue\n",
    "            else:\n",
    "                count +=1\n",
    "                break\n",
    "        if(count==0): \n",
    "            l.append(True)\n",
    "        else:\n",
    "            l.append(False)\n",
    "    mask=np.array(l)\n",
    "    return mask\n",
    "\n",
    "mask = maskprime(100)\n",
    "print(\"The prime numbers calculated with 'Trial Division' are:\\n\", np.arange(1,100)[mask])"
   ]
  },
  {
   "cell_type": "code",
   "execution_count": 10,
   "metadata": {},
   "outputs": [
    {
     "name": "stdout",
     "output_type": "stream",
     "text": [
      "The prime numbers calculated with 'Sieve of Eratosthenes' are:\n",
      " [ 1  2  3  5  7 11 13 17 19 23 29 31 37 41 43 47 53 59 61 67 71 73 79 83\n",
      " 89 97]\n"
     ]
    }
   ],
   "source": [
    "# ex 7.2 - sieve of Eratosthenes\n",
    "\n",
    "def sievemask(N):\n",
    "    \"\"\"Function to create the mask to get the prime numbers in [0, N] range, with sieve of Eratosthenes\"\"\"\n",
    "    mask = [True] * N\n",
    "    for i in range (2, 8):\n",
    "        for j in range(2, N//2):\n",
    "            if(i*j > N):\n",
    "                break\n",
    "            else:\n",
    "                mask[i*j-1] = False\n",
    "    return mask\n",
    "\n",
    "mask = sievemask(100)\n",
    "print(\"The prime numbers calculated with 'Sieve of Eratosthenes' are:\\n\", np.arange(1,101)[mask])"
   ]
  },
  {
   "cell_type": "code",
   "execution_count": 14,
   "metadata": {},
   "outputs": [
    {
     "name": "stdout",
     "output_type": "stream",
     "text": [
      "The sieve of Eratosthenes is way more efficient than the Trial Division method. The former is linear in N, while the latter is not.\n"
     ]
    },
    {
     "data": {
      "image/png": "[encoded data removed]",
      "text/plain": [
       "<Figure size 1080x288 with 3 Axes>"
      ]
     },
     "metadata": {
      "needs_background": "light"
     },
     "output_type": "display_data"
    }
   ],
   "source": [
    "# grafical comparison of execution time\n",
    "\n",
    "import time\n",
    "\n",
    "timelist = []\n",
    "timelist_sieve = []\n",
    "N = []\n",
    "\n",
    "for i in range(10, 350):\n",
    "    start=time.time()\n",
    "    maskprime(10*i)\n",
    "    t=(time.time()-start)\n",
    "    timelist.append(t)\n",
    "    start=time.time()\n",
    "    sievemask(10*i)\n",
    "    t=(time.time()-start)\n",
    "    timelist_sieve.append(t)\n",
    "    N.append(10*i)\n",
    "\n",
    "f, (ax1, ax2, ax3) = plt.subplots(nrows=1, ncols=3, figsize=(15, 4))\n",
    "\n",
    "ax1.plot(N, timelist, '.', color='forestgreen')\n",
    "ax1.title.set_text('Trial Division')\n",
    "ax1.set_xlabel('N')\n",
    "ax1.set_ylabel('t (s)')\n",
    "ax1.tick_params(which='both', direction='in')\n",
    "ax1.ticklabel_format(axis='y', style='sci', scilimits=(0,0))\n",
    "ax1.grid(which='major', axis='both', alpha=0.25)\n",
    "ax1.set_axisbelow(True)\n",
    "ax1.xaxis.set_minor_locator(AutoMinorLocator(2))\n",
    "ax1.yaxis.set_minor_locator(AutoMinorLocator(2))\n",
    "\n",
    "ax2.plot(N, timelist_sieve, '.', color='darkorange')\n",
    "ax2.title.set_text('Sieve of Eratosthenes')\n",
    "ax2.set_xlabel('N')\n",
    "ax2.set_ylabel('t (s)')\n",
    "ax2.tick_params(which='both', direction='in')\n",
    "ax2.ticklabel_format(axis='y', style='sci', scilimits=(0,0))\n",
    "ax2.grid(which='major', axis='both', alpha=0.25)\n",
    "ax2.set_axisbelow(True)\n",
    "ax2.xaxis.set_minor_locator(AutoMinorLocator(2))\n",
    "ax2.yaxis.set_minor_locator(AutoMinorLocator(2))\n",
    "\n",
    "ax3.plot(N, timelist, '.', color='forestgreen', label='Trial Division')\n",
    "ax3.title.set_text('Comparison')\n",
    "ax3.plot(N, timelist_sieve, '.', color='darkorange', label='Sieve of Eratosthenes')\n",
    "ax3.set_xlabel('N')\n",
    "ax3.set_ylabel('t (s)')\n",
    "ax3.tick_params(which='both', direction='in')\n",
    "ax3.ticklabel_format(axis='y', style='sci', scilimits=(0,0))\n",
    "ax3.grid(which='major', axis='both', alpha=0.25)\n",
    "ax3.set_axisbelow(True)\n",
    "ax3.xaxis.set_minor_locator(AutoMinorLocator(2))\n",
    "ax3.yaxis.set_minor_locator(AutoMinorLocator(2))\n",
    "ax3.legend()\n",
    "\n",
    "print('The sieve of Eratosthenes is way more efficient than the Trial Division method. The former is linear in N, while the latter is not.')"
   ]
  }
 ],
 "metadata": {
  "kernelspec": {
   "display_name": "Python 3",
   "language": "python",
   "name": "python3"
  },
  "language_info": {
   "codemirror_mode": {
    "name": "ipython",
    "version": 3
   },
   "file_extension": ".py",
   "mimetype": "text/x-python",
   "name": "python",
   "nbconvert_exporter": "python",
   "pygments_lexer": "ipython3",
   "version": "3.9.9"
  }
 },
 "nbformat": 4,
 "nbformat_minor": 2
}
