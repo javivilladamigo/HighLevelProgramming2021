{
 "cells": [
  {
   "cell_type": "markdown",
   "metadata": {},
   "source": [
    "1\\. Find the total mean, and the mean for each row and column of the following matrix:\n",
    "\n",
    "```python\n",
    "m = np.arange(12).reshape((3,4))\n",
    "```"
   ]
  },
  {
   "cell_type": "code",
   "execution_count": 2,
   "metadata": {},
   "outputs": [
    {
     "name": "stdout",
     "output_type": "stream",
     "text": [
      "m =  [[ 0  1  2  3]\n",
      " [ 4  5  6  7]\n",
      " [ 8  9 10 11]] \n",
      "\n",
      "total mean:  5.5\n",
      "columns mean:  [4. 5. 6. 7.]\n",
      "rows mean:  [1.5 5.5 9.5]\n"
     ]
    }
   ],
   "source": [
    "import numpy as np\n",
    "\n",
    "m = np.arange(12).reshape((3,4))\n",
    "print(\"m = \", m, \"\\n\")\n",
    "\n",
    "mean_total = np.mean(m)\n",
    "print(\"total mean: \", mean_total)\n",
    "\n",
    "mean_col = np.mean(m, axis=0)\n",
    "print(\"columns mean: \", mean_col)\n",
    "\n",
    "mean_row = np.mean(m, axis=1)\n",
    "print(\"rows mean: \", mean_row)"
   ]
  },
  {
   "cell_type": "markdown",
   "metadata": {},
   "source": [
    "2\\. Find the outer product of the following vectors:\n",
    "\n",
    "```python\n",
    "u = np.array([1, 3, 5, 7])\n",
    "v = np.array([2, 4, 6, 8])\n",
    "```\n",
    "\n",
    "Use different methods to do this:\n",
    "\n",
    "   1. Using the function `outer` in numpy\n",
    "   2. Using a nested `for` loop or a list comprehension\n",
    "   3. Using numpy broadcasting operations"
   ]
  },
  {
   "cell_type": "code",
   "execution_count": 3,
   "metadata": {},
   "outputs": [
    {
     "name": "stdout",
     "output_type": "stream",
     "text": [
      "method (1) result: \n",
      " [[ 2  4  6  8]\n",
      " [ 6 12 18 24]\n",
      " [10 20 30 40]\n",
      " [14 28 42 56]]\n",
      "\n",
      "method (2) result: \n",
      " [[ 2  4  6  8]\n",
      " [ 6 12 18 24]\n",
      " [10 20 30 40]\n",
      " [14 28 42 56]]\n",
      "\n",
      "method (3) result: \n",
      " [[ 2  4  6  8]\n",
      " [ 6 12 18 24]\n",
      " [10 20 30 40]\n",
      " [14 28 42 56]]\n"
     ]
    }
   ],
   "source": [
    "u = np.array([1, 3, 5, 7])\n",
    "v = np.array([2, 4, 6, 8])\n",
    "\n",
    "# method (1) using outer function\n",
    "M1=np.outer(u, v, out=None)\n",
    "print(\"method (1) result: \\n\", M1)\n",
    "\n",
    "# method (2) using list comprehension\n",
    "list_outer = [i*j for i in u for j in v]\n",
    "list_outer = np.array(list_outer)\n",
    "M2=list_outer.reshape(4, 4)\n",
    "print(\"\\nmethod (2) result: \\n\", M2)\n",
    "\n",
    "# method (3) broadcasting\n",
    "v = np.array(v)[np.newaxis]\n",
    "M3 = u*v.T\n",
    "print(\"\\nmethod (3) result: \\n\", M3.T)\n"
   ]
  },
  {
   "cell_type": "markdown",
   "metadata": {},
   "source": [
    "3\\. Create a 10 by 6 matrix of increasing float numbers, starting from zero and increasing in each step by 0.1, so the output matrix looks like the following:\n",
    "\n",
    "```python\n",
    "m = [[0. 0.1, 0.2 0.3 ... 0.9]\n",
    "     [1.0 1.1 1.2 1.3 ... 1.9]\n",
    "     ...\n",
    "     [5.0 5.1 5.2 5.3 ... 5.9]]\n",
    "```\n",
    "After creating the matrix, set all entries with a decimal part $< 0.4$ to zero."
   ]
  },
  {
   "cell_type": "code",
   "execution_count": 4,
   "metadata": {},
   "outputs": [
    {
     "name": "stdout",
     "output_type": "stream",
     "text": [
      "m = \n",
      " [[0.  0.1 0.2 0.3 0.4 0.5 0.6 0.7 0.8 0.9]\n",
      " [1.  1.1 1.2 1.3 1.4 1.5 1.6 1.7 1.8 1.9]\n",
      " [2.  2.1 2.2 2.3 2.4 2.5 2.6 2.7 2.8 2.9]\n",
      " [3.  3.1 3.2 3.3 3.4 3.5 3.6 3.7 3.8 3.9]\n",
      " [4.  4.1 4.2 4.3 4.4 4.5 4.6 4.7 4.8 4.9]\n",
      " [5.  5.1 5.2 5.3 5.4 5.5 5.6 5.7 5.8 5.9]]\n",
      "\n",
      "modified m = \n",
      " [[0.  0.  0.  0.  0.4 0.5 0.6 0.7 0.8 0.9]\n",
      " [0.  0.  0.  0.  1.4 1.5 1.6 1.7 1.8 1.9]\n",
      " [0.  0.  0.  0.  2.4 2.5 2.6 2.7 2.8 2.9]\n",
      " [0.  0.  0.  0.  3.4 3.5 3.6 3.7 3.8 3.9]\n",
      " [0.  0.  0.  0.  4.4 4.5 4.6 4.7 4.8 4.9]\n",
      " [0.  0.  0.  0.  5.4 5.5 5.6 5.7 5.8 5.9]]\n"
     ]
    }
   ],
   "source": [
    "m = np.arange(0, 6, 0.1)\n",
    "m = m.reshape(6, 10) \n",
    "print(\"m = \\n\", m)\n",
    "\n",
    "m[m % 1 < 0.4] = 0\n",
    "print(\"\\nmodified m = \\n\", m)\n"
   ]
  },
  {
   "cell_type": "markdown",
   "metadata": {},
   "source": [
    "4\\. Use `np.linspace` to create an array of 100 numbers between 0 and 2π (inclusive).\n",
    "\n",
    "  * Extract every 10th element using the slice notation\n",
    "  * Reverse the array using the slice notation\n",
    "  * Extract elements where the absolute difference between the sin and cos functions evaluated for that element is $< 0.1$\n",
    "  * **Optional**: make a plot showing the sin and cos functions and indicate where they are close"
   ]
  },
  {
   "cell_type": "code",
   "execution_count": 34,
   "metadata": {},
   "outputs": [
    {
     "name": "stdout",
     "output_type": "stream",
     "text": [
      "a:\n",
      " [0.         0.06346652 0.12693304 0.19039955 0.25386607 0.31733259\n",
      " 0.38079911 0.44426563 0.50773215 0.57119866 0.63466518 0.6981317\n",
      " 0.76159822 0.82506474 0.88853126 0.95199777 1.01546429 1.07893081\n",
      " 1.14239733 1.20586385 1.26933037 1.33279688 1.3962634  1.45972992\n",
      " 1.52319644 1.58666296 1.65012947 1.71359599 1.77706251 1.84052903\n",
      " 1.90399555 1.96746207 2.03092858 2.0943951  2.15786162 2.22132814\n",
      " 2.28479466 2.34826118 2.41172769 2.47519421 2.53866073 2.60212725\n",
      " 2.66559377 2.72906028 2.7925268  2.85599332 2.91945984 2.98292636\n",
      " 3.04639288 3.10985939 3.17332591 3.23679243 3.30025895 3.36372547\n",
      " 3.42719199 3.4906585  3.55412502 3.61759154 3.68105806 3.74452458\n",
      " 3.8079911  3.87145761 3.93492413 3.99839065 4.06185717 4.12532369\n",
      " 4.1887902  4.25225672 4.31572324 4.37918976 4.44265628 4.5061228\n",
      " 4.56958931 4.63305583 4.69652235 4.75998887 4.82345539 4.88692191\n",
      " 4.95038842 5.01385494 5.07732146 5.14078798 5.2042545  5.26772102\n",
      " 5.33118753 5.39465405 5.45812057 5.52158709 5.58505361 5.64852012\n",
      " 5.71198664 5.77545316 5.83891968 5.9023862  5.96585272 6.02931923\n",
      " 6.09278575 6.15625227 6.21971879 6.28318531]\n",
      "\n",
      "every 10th element, b:\n",
      " [0.57119866 1.20586385 1.84052903 2.47519421 3.10985939 3.74452458\n",
      " 4.37918976 5.01385494 5.64852012 6.28318531]\n",
      "\n",
      "array reversed, c:\n",
      " [6.28318531 6.21971879 6.15625227 6.09278575 6.02931923 5.96585272\n",
      " 5.9023862  5.83891968 5.77545316 5.71198664 5.64852012 5.58505361\n",
      " 5.52158709 5.45812057 5.39465405 5.33118753 5.26772102 5.2042545\n",
      " 5.14078798 5.07732146 5.01385494 4.95038842 4.88692191 4.82345539\n",
      " 4.75998887 4.69652235 4.63305583 4.56958931 4.5061228  4.44265628\n",
      " 4.37918976 4.31572324 4.25225672 4.1887902  4.12532369 4.06185717\n",
      " 3.99839065 3.93492413 3.87145761 3.8079911  3.74452458 3.68105806\n",
      " 3.61759154 3.55412502 3.4906585  3.42719199 3.36372547 3.30025895\n",
      " 3.23679243 3.17332591 3.10985939 3.04639288 2.98292636 2.91945984\n",
      " 2.85599332 2.7925268  2.72906028 2.66559377 2.60212725 2.53866073\n",
      " 2.47519421 2.41172769 2.34826118 2.28479466 2.22132814 2.15786162\n",
      " 2.0943951  2.03092858 1.96746207 1.90399555 1.84052903 1.77706251\n",
      " 1.71359599 1.65012947 1.58666296 1.52319644 1.45972992 1.3962634\n",
      " 1.33279688 1.26933037 1.20586385 1.14239733 1.07893081 1.01546429\n",
      " 0.95199777 0.88853126 0.82506474 0.76159822 0.6981317  0.63466518\n",
      " 0.57119866 0.50773215 0.44426563 0.38079911 0.31733259 0.25386607\n",
      " 0.19039955 0.12693304 0.06346652 0.        ]\n",
      "\n",
      "d:\n",
      " [0.76159822 0.82506474 3.87145761 3.93492413]\n"
     ]
    },
    {
     "data": {
      "image/png": "[encoded data removed]",
      "text/plain": [
       "<Figure size 432x288 with 1 Axes>"
      ]
     },
     "metadata": {
      "needs_background": "light"
     },
     "output_type": "display_data"
    }
   ],
   "source": [
    "from math import pi\n",
    "\n",
    "a = np.linspace(0, 2*pi , 100)\n",
    "print(\"a:\\n\", a)\n",
    "\n",
    "# extract every 10th element\n",
    "b = a[9::10]\n",
    "print(\"\\nevery 10th element, b:\\n\", b)\n",
    "\n",
    "# array reversed\n",
    "c = a[::-1]\n",
    "print(\"\\narray reversed, c:\\n\", c)\n",
    "\n",
    "# elements where the absolute difference between the sin and cos is  <0.1\n",
    "mask = (np.absolute(np.cos(a)-np.sin(a)) < 0.1)\n",
    "d=a[mask]\n",
    "print(\"\\nd:\\n\", d)\n",
    "\n",
    "# plot\n",
    "\n",
    "import matplotlib.pyplot as plt\n",
    "\n",
    "%matplotlib inline\n",
    "\n",
    "xs = np.linspace(0, 2*pi, 100)\n",
    "ys = np.sin(xs)\n",
    "ys2 = np.cos(xs)\n",
    "\n",
    "mask=(np.absolute(ys-ys2)<0.1)\n",
    "\n",
    "plt.plot(xs, ys)\n",
    "plt.plot(xs, ys2)\n",
    "\n",
    "x_points=xs[mask]\n",
    "y_points=ys[mask]\n",
    "y2_points=ys2[mask]\n",
    "\n",
    "for i,j, z in zip(x_points, y_points, y2_points):\n",
    "    plt.plot(i, j, marker='o', markersize=3, color=\"red\")\n",
    "    plt.plot(i, z, marker='o', markersize=3, color=\"red\")\n",
    "\n",
    "plt.show()"
   ]
  },
  {
   "cell_type": "markdown",
   "metadata": {},
   "source": [
    "5\\. Create a matrix that shows the 10 by 10 multiplication table.\n",
    "\n",
    " * Find the trace of the matrix\n",
    " * Extract the anti-diagonal matrix (this should be ```array([10, 18, 24, 28, 30, 30, 28, 24, 18, 10])```)\n",
    " * Extract the diagonal offset by 1 upwards (this should be ```array([ 2,  6, 12, 20, 30, 42, 56, 72, 90])```)"
   ]
  },
  {
   "cell_type": "code",
   "execution_count": 35,
   "metadata": {},
   "outputs": [
    {
     "name": "stdout",
     "output_type": "stream",
     "text": [
      "[[  1   2   3   4   5   6   7   8   9  10]\n",
      " [  2   4   6   8  10  12  14  16  18  20]\n",
      " [  3   6   9  12  15  18  21  24  27  30]\n",
      " [  4   8  12  16  20  24  28  32  36  40]\n",
      " [  5  10  15  20  25  30  35  40  45  50]\n",
      " [  6  12  18  24  30  36  42  48  54  60]\n",
      " [  7  14  21  28  35  42  49  56  63  70]\n",
      " [  8  16  24  32  40  48  56  64  72  80]\n",
      " [  9  18  27  36  45  54  63  72  81  90]\n",
      " [ 10  20  30  40  50  60  70  80  90 100]]\n",
      "\n",
      "trace:  385\n",
      "\n",
      "antidiagonal:  [10 18 24 28 30 30 28 24 18 10]\n",
      "\n",
      "diagonal offset by 1:  [ 2  6 12 20 30 42 56 72 90]\n"
     ]
    }
   ],
   "source": [
    "a = np.arange(1, 11)[np.newaxis]\n",
    "\n",
    "m=a*a.T\n",
    "print(m)\n",
    "\n",
    "print(\"\\ntrace: \", np.trace(m))\n",
    "print(\"\\nantidiagonal: \", np.fliplr(m).diagonal())\n",
    "\n",
    "diag_off = m[np.arange(1,10), np.arange(9)]\n",
    "print(\"\\ndiagonal offset by 1: \", diag_off)"
   ]
  },
  {
   "cell_type": "markdown",
   "metadata": {},
   "source": [
    "6\\. Use broadcasting to create a grid of distances.\n",
    "\n",
    "Route 66 crosses the following cities in the US: Chicago, Springfield, Saint-Louis, Tulsa, Oklahoma City, Amarillo, Santa Fe, Albuquerque, Flagstaff, Los Angeles\n",
    "The corresponding positions in miles are: 0, 198, 303, 736, 871, 1175, 1475, 1544, 1913, 2448\n",
    "\n",
    "  * Build a 2D grid of distances among each city along Route 66\n",
    "  * Convert the distances in km"
   ]
  },
  {
   "cell_type": "code",
   "execution_count": 47,
   "metadata": {},
   "outputs": [
    {
     "name": "stdout",
     "output_type": "stream",
     "text": [
      "grid of distances in miles : \n",
      " [[   0  198  303  736  871 1175 1475 1544 1913 2448]\n",
      " [ 198    0  105  538  673  977 1277 1346 1715 2250]\n",
      " [ 303  105    0  433  568  872 1172 1241 1610 2145]\n",
      " [ 736  538  433    0  135  439  739  808 1177 1712]\n",
      " [ 871  673  568  135    0  304  604  673 1042 1577]\n",
      " [1175  977  872  439  304    0  300  369  738 1273]\n",
      " [1475 1277 1172  739  604  300    0   69  438  973]\n",
      " [1544 1346 1241  808  673  369   69    0  369  904]\n",
      " [1913 1715 1610 1177 1042  738  438  369    0  535]\n",
      " [2448 2250 2145 1712 1577 1273  973  904  535    0]]\n",
      "\n",
      "grid of distances in km : \n",
      " [[   0.   316.8  484.8 1177.6 1393.6 1880.  2360.  2470.4 3060.8 3916.8]\n",
      " [ 316.8    0.   168.   860.8 1076.8 1563.2 2043.2 2153.6 2744.  3600. ]\n",
      " [ 484.8  168.     0.   692.8  908.8 1395.2 1875.2 1985.6 2576.  3432. ]\n",
      " [1177.6  860.8  692.8    0.   216.   702.4 1182.4 1292.8 1883.2 2739.2]\n",
      " [1393.6 1076.8  908.8  216.     0.   486.4  966.4 1076.8 1667.2 2523.2]\n",
      " [1880.  1563.2 1395.2  702.4  486.4    0.   480.   590.4 1180.8 2036.8]\n",
      " [2360.  2043.2 1875.2 1182.4  966.4  480.     0.   110.4  700.8 1556.8]\n",
      " [2470.4 2153.6 1985.6 1292.8 1076.8  590.4  110.4    0.   590.4 1446.4]\n",
      " [3060.8 2744.  2576.  1883.2 1667.2 1180.8  700.8  590.4    0.   856. ]\n",
      " [3916.8 3600.  3432.  2739.2 2523.2 2036.8 1556.8 1446.4  856.     0. ]]\n"
     ]
    }
   ],
   "source": [
    "d_miles = np.array([0, 198, 303, 736, 871, 1175, 1475, 1544, 1913, 2448])[np.newaxis]\n",
    "\n",
    "m=np.absolute(d_miles-d_miles.T)\n",
    "print(\"grid of distances in miles : \\n\", m)\n",
    "print(\"\\ngrid of distances in km : \\n\", m*1.6)"
   ]
  },
  {
   "cell_type": "markdown",
   "metadata": {},
   "source": [
    "7\\. Prime numbers sieve: compute the prime numbers in the 0-N (start with N=99) range with a sieve (mask).\n",
    "  * Check the performances (timeit); how does it scale with N?\n",
    "  * Implement the optimization suggested in the [sieve of Eratosthenes](https://en.wikipedia.org/wiki/Sieve_of_Eratosthenes)"
   ]
  },
  {
   "cell_type": "code",
   "execution_count": null,
   "metadata": {},
   "outputs": [],
   "source": []
  }
 ],
 "metadata": {
  "kernelspec": {
   "display_name": "Python 3",
   "language": "python",
   "name": "python3"
  },
  "language_info": {
   "codemirror_mode": {
    "name": "ipython",
    "version": 3
   },
   "file_extension": ".py",
   "mimetype": "text/x-python",
   "name": "python",
   "nbconvert_exporter": "python",
   "pygments_lexer": "ipython3",
   "version": "3.7.10"
  }
 },
 "nbformat": 4,
 "nbformat_minor": 2
}
