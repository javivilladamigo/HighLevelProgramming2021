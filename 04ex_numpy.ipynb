{
 "cells": [
  {
   "cell_type": "markdown",
   "metadata": {},
   "source": [
    "1\\. Find the total mean, and the mean for each row and column of the following matrix:\n",
    "\n",
    "```python\n",
    "m = np.arange(12).reshape((3,4))\n",
    "```"
   ]
  },
  {
   "cell_type": "code",
   "execution_count": null,
   "metadata": {},
   "outputs": [],
   "source": [
    "# ex04 - 1\n",
    "\n",
    "import numpy as np\n",
    "m = np.arange(12).reshape((3,4))\n",
    "\n",
    "print(\"total mean is:\", np.mean(m))\n",
    "\n",
    "row_mean = np.mean(m, axis = 1)\n",
    "column_mean = np.mean(m, axis = 0)\n",
    "\n",
    "print(\"mean of row 1 is:\", row_means[0])\n",
    "print(\"mean of row 2 is:\", row_means[1])\n",
    "print(\"mean of row 3 is:\", row_means[2])\n",
    "\n",
    "print(\"mean of column 1 is:\", column_means[0])\n",
    "print(\"mean of column 2 is:\", column_means[1])\n",
    "print(\"mean of column 3 is:\", column_means[2])\n",
    "print(\"mean of column 4 is:\", column_means[3])"
   ]
  },
  {
   "cell_type": "markdown",
   "metadata": {},
   "source": [
    "2\\. Find the outer product of the following vectors:\n",
    "\n",
    "```python\n",
    "u = np.array([1, 3, 5, 7])\n",
    "v = np.array([2, 4, 6, 8])\n",
    "```\n",
    "\n",
    "Use different methods to do this:\n",
    "\n",
    "   1. Using the function `outer` in numpy\n",
    "   2. Using a nested `for` loop or a list comprehension\n",
    "   3. Using numpy broadcasting operations"
   ]
  },
  {
   "cell_type": "code",
   "execution_count": null,
   "metadata": {},
   "outputs": [],
   "source": [
    "# ex04 - 2\n",
    "\n",
    "import numpy as np\n",
    "u = np.array([1, 3, 5, 7])\n",
    "v = np.array([2, 4, 6, 8])\n",
    "\n",
    "# 1.\n",
    "x = np.outer(u, v)\n",
    "print(x)\n",
    "\n",
    "# 2.\n",
    "c = []\n",
    "for row in u:\n",
    "    for column in v:\n",
    "        b = (row * column)\n",
    "        c.append(b)\n",
    "arr = np.array(c).reshape(4, 4)\n",
    "print(arr)\n",
    "\n",
    "# 3.\n",
    "b = np.ones((4, 1), dtype='int8')\n",
    "b[:, 0] = u\n",
    "a = np.ones((4, 4), dtype='int8')\n",
    "a = a * v\n",
    "outer = a * b\n",
    "print(outer)"
   ]
  },
  {
   "cell_type": "markdown",
   "metadata": {},
   "source": [
    "3\\. Create a 10 by 6 matrix of increasing float numbers, starting from zero and increasing in each step by 0.1, so the output matrix looks like the following:\n",
    "\n",
    "```python\n",
    "m = [[0. 0.1, 0.2 0.3 ... 0.9]\n",
    "     [1.0 1.1 1.2 1.3 ... 1.9]\n",
    "     ...\n",
    "     [5.0 5.1 5.2 5.3 ... 5.9]]\n",
    "```\n",
    "After creating the matrix, set all entries with a decimal part $< 0.4$ to zero."
   ]
  },
  {
   "cell_type": "code",
   "execution_count": null,
   "metadata": {},
   "outputs": [],
   "source": [
    "# 04ex - 3\n",
    "\n",
    "import numpy as np\n",
    "m = np.arange(0, 6, 0.1).reshape(10, 6)\n",
    "print(m)"
   ]
  },
  {
   "cell_type": "markdown",
   "metadata": {},
   "source": [
    "4\\. Use `np.linspace` to create an array of 100 numbers between 0 and 2π (inclusive).\n",
    "\n",
    "  * Extract every 10th element using the slice notation\n",
    "  * Reverse the array using the slice notation\n",
    "  * Extract elements where the absolute difference between the sin and cos functions evaluated for that element is $< 0.1$\n",
    "  * **Optional**: make a plot showing the sin and cos functions and indicate where they are close"
   ]
  },
  {
   "cell_type": "code",
   "execution_count": 14,
   "metadata": {},
   "outputs": [
    {
     "name": "stdout",
     "output_type": "stream",
     "text": [
      "[0.         0.06346652 0.12693304 0.19039955 0.25386607 0.31733259\n",
      " 0.38079911 0.44426563 0.50773215 0.57119866 0.63466518 0.6981317\n",
      " 0.76159822 0.82506474 0.88853126 0.95199777 1.01546429 1.07893081\n",
      " 1.14239733 1.20586385 1.26933037 1.33279688 1.3962634  1.45972992\n",
      " 1.52319644 1.58666296 1.65012947 1.71359599 1.77706251 1.84052903\n",
      " 1.90399555 1.96746207 2.03092858 2.0943951  2.15786162 2.22132814\n",
      " 2.28479466 2.34826118 2.41172769 2.47519421 2.53866073 2.60212725\n",
      " 2.66559377 2.72906028 2.7925268  2.85599332 2.91945984 2.98292636\n",
      " 3.04639288 3.10985939 3.17332591 3.23679243 3.30025895 3.36372547\n",
      " 3.42719199 3.4906585  3.55412502 3.61759154 3.68105806 3.74452458\n",
      " 3.8079911  3.87145761 3.93492413 3.99839065 4.06185717 4.12532369\n",
      " 4.1887902  4.25225672 4.31572324 4.37918976 4.44265628 4.5061228\n",
      " 4.56958931 4.63305583 4.69652235 4.75998887 4.82345539 4.88692191\n",
      " 4.95038842 5.01385494 5.07732146 5.14078798 5.2042545  5.26772102\n",
      " 5.33118753 5.39465405 5.45812057 5.52158709 5.58505361 5.64852012\n",
      " 5.71198664 5.77545316 5.83891968 5.9023862  5.96585272 6.02931923\n",
      " 6.09278575 6.15625227 6.21971879 6.28318531]\n",
      "\n",
      "\n",
      "[0.         0.63466518 1.26933037 1.90399555 2.53866073 3.17332591\n",
      " 3.8079911  4.44265628 5.07732146 5.71198664]\n",
      "\n",
      "\n",
      "[6.28318531 6.21971879 6.15625227 6.09278575 6.02931923 5.96585272\n",
      " 5.9023862  5.83891968 5.77545316 5.71198664 5.64852012 5.58505361\n",
      " 5.52158709 5.45812057 5.39465405 5.33118753 5.26772102 5.2042545\n",
      " 5.14078798 5.07732146 5.01385494 4.95038842 4.88692191 4.82345539\n",
      " 4.75998887 4.69652235 4.63305583 4.56958931 4.5061228  4.44265628\n",
      " 4.37918976 4.31572324 4.25225672 4.1887902  4.12532369 4.06185717\n",
      " 3.99839065 3.93492413 3.87145761 3.8079911  3.74452458 3.68105806\n",
      " 3.61759154 3.55412502 3.4906585  3.42719199 3.36372547 3.30025895\n",
      " 3.23679243 3.17332591 3.10985939 3.04639288 2.98292636 2.91945984\n",
      " 2.85599332 2.7925268  2.72906028 2.66559377 2.60212725 2.53866073\n",
      " 2.47519421 2.41172769 2.34826118 2.28479466 2.22132814 2.15786162\n",
      " 2.0943951  2.03092858 1.96746207 1.90399555 1.84052903 1.77706251\n",
      " 1.71359599 1.65012947 1.58666296 1.52319644 1.45972992 1.3962634\n",
      " 1.33279688 1.26933037 1.20586385 1.14239733 1.07893081 1.01546429\n",
      " 0.95199777 0.88853126 0.82506474 0.76159822 0.6981317  0.63466518\n",
      " 0.57119866 0.50773215 0.44426563 0.38079911 0.31733259 0.25386607\n",
      " 0.19039955 0.12693304 0.06346652 0.        ]\n",
      "\n",
      "\n",
      "[0.7615982190520711, 0.8250647373064104, 3.8714576135146945, 3.934924131769034]\n",
      "\n",
      "\n"
     ]
    },
    {
     "data": {
      "image/png": "[encoded data removed]",
      "text/plain": [
       "<Figure size 432x288 with 1 Axes>"
      ]
     },
     "metadata": {
      "needs_background": "light"
     },
     "output_type": "display_data"
    }
   ],
   "source": [
    "# 04ex - 4\n",
    "\n",
    "import numpy as np\n",
    "from math import pi\n",
    "m = np.linspace(0, 2*pi, 100)\n",
    "print(m)\n",
    "print(\"\\n\")\n",
    "n = m[::10]  # part 1\n",
    "print(n)\n",
    "print(\"\\n\")\n",
    "r = m[::-1]  # part 2\n",
    "print(r)\n",
    "print(\"\\n\")\n",
    "o = list([m[x] for x in range(99) if(abs(np.sin(m[x]) - np.cos(m[x]))<0.1)])  # part 3\n",
    "print(o)\n",
    "print(\"\\n\")\n",
    "import matplotlib.pyplot as mp  # optional part\n",
    "x = np.linspace(0, pi, 100)\n",
    "y = np.sin(x) - np.cos(x)\n",
    "mp.plot(x, y)\n",
    "mp.grid()\n",
    "mp.show()"
   ]
  },
  {
   "cell_type": "markdown",
   "metadata": {},
   "source": [
    "5\\. Create a matrix that shows the 10 by 10 multiplication table.\n",
    "\n",
    " * Find the trace of the matrix\n",
    " * Extract the anti-diagonal matrix (this should be ```array([10, 18, 24, 28, 30, 30, 28, 24, 18, 10])```)\n",
    " * Extract the diagonal offset by 1 upwards (this should be ```array([ 2,  6, 12, 20, 30, 42, 56, 72, 90])```)"
   ]
  },
  {
   "cell_type": "code",
   "execution_count": 1,
   "metadata": {},
   "outputs": [
    {
     "name": "stdout",
     "output_type": "stream",
     "text": [
      "here is the matrix that shows the 10 by 10 multiplication table:\n",
      " [[  1   2   3   4   5   6   7   8   9  10]\n",
      " [  2   4   6   8  10  12  14  16  18  20]\n",
      " [  3   6   9  12  15  18  21  24  27  30]\n",
      " [  4   8  12  16  20  24  28  32  36  40]\n",
      " [  5  10  15  20  25  30  35  40  45  50]\n",
      " [  6  12  18  24  30  36  42  48  54  60]\n",
      " [  7  14  21  28  35  42  49  56  63  70]\n",
      " [  8  16  24  32  40  48  56  64  72  80]\n",
      " [  9  18  27  36  45  54  63  72  81  90]\n",
      " [ 10  20  30  40  50  60  70  80  90 100]]\n",
      "\n",
      "\n",
      "the trace of the matrix is:  385\n",
      "\n",
      "\n",
      "the anti-diagonal of the matrix is:\n",
      " [10 18 24 28 30 30 28 24 18 10]\n",
      "\n",
      "\n",
      "and finally the diagonal offset by 1 upwards is:\n",
      " [ 2  6 12 20 30 42 56 72 90]\n"
     ]
    }
   ],
   "source": [
    "# 04ex - 5\n",
    "\n",
    "import numpy as np\n",
    "\n",
    "def table(n):\n",
    "    x = np.arange(1, n+1)\n",
    "    return x * x[:, None]\n",
    "\n",
    "matrx = table(10)\n",
    "print(\"here is the matrix that shows the 10 by 10 multiplication table:\\n\", (matrx))\n",
    "print(\"\\n\")\n",
    "print(\"the trace of the matrix is: \", np.trace(matrx))\n",
    "print(\"\\n\")\n",
    "print(\"the anti-diagonal of the matrix is:\\n\", np.fliplr(matrx).diagonal())\n",
    "print(\"\\n\")\n",
    "print(\"and finally the diagonal offset by 1 upwards is:\\n\", np.diagonal(matrx, offset=1))"
   ]
  },
  {
   "cell_type": "markdown",
   "metadata": {},
   "source": [
    "6\\. Use broadcasting to create a grid of distances.\n",
    "\n",
    "Route 66 crosses the following cities in the US: Chicago, Springfield, Saint-Louis, Tulsa, Oklahoma City, Amarillo, Santa Fe, Albuquerque, Flagstaff, Los Angeles\n",
    "The corresponding positions in miles are: 0, 198, 303, 736, 871, 1175, 1475, 1544, 1913, 2448\n",
    "\n",
    "  * Build a 2D grid of distances among each city along Route 66\n",
    "  * Convert the distances in km"
   ]
  },
  {
   "cell_type": "code",
   "execution_count": 8,
   "metadata": {},
   "outputs": [
    {
     "name": "stdout",
     "output_type": "stream",
     "text": [
      "[[b'Chicago' b'0']\n",
      " [b'Springfield' b'198']\n",
      " [b'Saint-Louis' b'303']\n",
      " [b'Tulsa' b'736']\n",
      " [b'Oklahoma City' b'871']\n",
      " [b'Amarillo' b'11']\n",
      " [b'Santa Fe' b'1475']\n",
      " [b'Albuquerque' b'1544']\n",
      " [b'Flagstaff' b'1913']\n",
      " [b'Los Angeles' b'2448']]\n",
      "\n",
      "\n",
      "[[b'Chicago' b'0.0']\n",
      " [b'Springfield' b'316.8']\n",
      " [b'Saint-Louis' b'484.8']\n",
      " [b'Tulsa' b'1177.6000000000001']\n",
      " [b'Oklahoma City' b'1393.6000000000001']\n",
      " [b'Amarillo' b'17.6']\n",
      " [b'Santa Fe' b'2360.0']\n",
      " [b'Albuquerque' b'2470.4']\n",
      " [b'Flagstaff' b'3060.8']\n",
      " [b'Los Angeles' b'3916.8']]\n"
     ]
    }
   ],
   "source": [
    "import numpy as np\n",
    "\n",
    "c = np.ones((10, 2), dtype='|S20')\n",
    "distance = np.array([0, 198, 303, 736, 871, 11, 1475, 1544, 1913, 2448])\n",
    "city = np.array([\"Chicago\", \"Springfield\", \"Saint-Louis\", \"Tulsa\", \"Oklahoma City\", \"Amarillo\", \"Santa Fe\", \"Albuquerque\", \"Flagstaff\", \"Los Angeles\"])\n",
    "\n",
    "c[:, 1] = distance\n",
    "c[:, 0] = city\n",
    "print(c)\n",
    "print(\"\\n\")\n",
    "distance = distance * 1.6   # converting mile to km\n",
    "c[:, 1] = distance\n",
    "print(c)"
   ]
  },
  {
   "cell_type": "markdown",
   "metadata": {},
   "source": [
    "7\\. Prime numbers sieve: compute the prime numbers in the 0-N (start with N=99) range with a sieve (mask).\n",
    "  * Check the performances (timeit); how does it scale with N?\n",
    "  * Implement the optimization suggested in the [sieve of Eratosthenes](https://en.wikipedia.org/wiki/Sieve_of_Eratosthenes)"
   ]
  },
  {
   "cell_type": "code",
   "execution_count": null,
   "metadata": {},
   "outputs": [],
   "source": []
  }
 ],
 "metadata": {
  "kernelspec": {
   "display_name": "Python 3 (ipykernel)",
   "language": "python",
   "name": "python3"
  },
  "language_info": {
   "codemirror_mode": {
    "name": "ipython",
    "version": 3
   },
   "file_extension": ".py",
   "mimetype": "text/x-python",
   "name": "python",
   "nbconvert_exporter": "python",
   "pygments_lexer": "ipython3",
   "version": "3.9.5"
  }
 },
 "nbformat": 4,
 "nbformat_minor": 2
}
