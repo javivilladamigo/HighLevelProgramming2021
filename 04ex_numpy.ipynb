{
  "nbformat": 4,
  "nbformat_minor": 0,
  "metadata": {
    "kernelspec": {
      "display_name": "Python 3",
      "language": "python",
      "name": "python3"
    },
    "language_info": {
      "codemirror_mode": {
        "name": "ipython",
        "version": 3
      },
      "file_extension": ".py",
      "mimetype": "text/x-python",
      "name": "python",
      "nbconvert_exporter": "python",
      "pygments_lexer": "ipython3",
      "version": "3.8.8"
    },
    "colab": {
      "name": "04ex_numpy.ipynb",
      "provenance": [],
      "include_colab_link": true
    }
  },
  "cells": [
    {
      "cell_type": "markdown",
      "metadata": {
        "id": "view-in-github",
        "colab_type": "text"
      },
      "source": [
        "<a href=\"https://colab.research.google.com/github/sevvalaz/HighLevelProgramming2021/blob/AzSevval/04ex_numpy.ipynb\" target=\"_parent\"><img src=\"https://colab.research.google.com/assets/colab-badge.svg\" alt=\"Open In Colab\"/></a>"
      ]
    },
    {
      "cell_type": "markdown",
      "metadata": {
        "id": "jTiOoo0Sj3Nm"
      },
      "source": [
        "1\\. Find the total mean, and the mean for each row and column of the following matrix:\n",
        "\n",
        "```python\n",
        "m = np.arange(12).reshape((3,4))\n",
        "```"
      ]
    },
    {
      "cell_type": "code",
      "metadata": {
        "id": "KPmMDLQ9j3Np"
      },
      "source": [
        "import numpy as np"
      ],
      "execution_count": null,
      "outputs": []
    },
    {
      "cell_type": "code",
      "metadata": {
        "id": "OHTR5tApj3Nq",
        "outputId": "a9931614-1556-4b26-923b-ac67424050bd"
      },
      "source": [
        "m = np.arange(12).reshape((3,4))\n",
        "m"
      ],
      "execution_count": null,
      "outputs": [
        {
          "data": {
            "text/plain": [
              "array([[ 0,  1,  2,  3],\n",
              "       [ 4,  5,  6,  7],\n",
              "       [ 8,  9, 10, 11]])"
            ]
          },
          "execution_count": 2,
          "metadata": {},
          "output_type": "execute_result"
        }
      ]
    },
    {
      "cell_type": "code",
      "metadata": {
        "id": "IgqEhP3Xj3Nq",
        "outputId": "6edf4a43-bd65-4c59-cdca-c65716fb30df"
      },
      "source": [
        "print(\"Total mean: \" , m.mean())\n",
        "print(\"Mean for each row\",m.mean(axis=1))\n",
        "print(\"Mean for each column\",m.mean(axis=0))"
      ],
      "execution_count": null,
      "outputs": [
        {
          "name": "stdout",
          "output_type": "stream",
          "text": [
            "Total mean:  5.5\n",
            "Mean for each row [1.5 5.5 9.5]\n",
            "Mean for each column [4. 5. 6. 7.]\n"
          ]
        }
      ]
    },
    {
      "cell_type": "markdown",
      "metadata": {
        "id": "Wl8CdcObj3Nr"
      },
      "source": [
        "2\\. Find the outer product of the following vectors:\n",
        "\n",
        "```python\n",
        "u = np.array([1, 3, 5, 7])\n",
        "v = np.array([2, 4, 6, 8])\n",
        "```\n",
        "\n",
        "Use different methods to do this:\n",
        "\n",
        "   1. Using the function `outer` in numpy\n",
        "   2. Using a nested `for` loop or a list comprehension\n",
        "   3. Using numpy broadcasting operations"
      ]
    },
    {
      "cell_type": "code",
      "metadata": {
        "id": "5tPcSMMuj3Nr",
        "outputId": "a62000ae-bfe7-4cb1-ec21-4fff689ad77f"
      },
      "source": [
        "u = np.array([1, 3, 5, 7])\n",
        "v = np.array([2, 4, 6, 8])\n",
        "\n",
        "print(\"with np function:\\n\", np.outer(u, v))\n",
        "\n",
        "print(\"with for loop:\\n\", np.array([[i * j for j in v] for i in u]))\n",
        "\n",
        "# broadcasting\n",
        "print(\"with broadcasting:\\n\", u[:, np.newaxis] * v[np.newaxis, :])"
      ],
      "execution_count": null,
      "outputs": [
        {
          "name": "stdout",
          "output_type": "stream",
          "text": [
            "with np function:\n",
            " [[ 2  4  6  8]\n",
            " [ 6 12 18 24]\n",
            " [10 20 30 40]\n",
            " [14 28 42 56]]\n",
            "with for loop:\n",
            " [[ 2  4  6  8]\n",
            " [ 6 12 18 24]\n",
            " [10 20 30 40]\n",
            " [14 28 42 56]]\n",
            "with broadcasting:\n",
            " [[ 2  4  6  8]\n",
            " [ 6 12 18 24]\n",
            " [10 20 30 40]\n",
            " [14 28 42 56]]\n"
          ]
        }
      ]
    },
    {
      "cell_type": "markdown",
      "metadata": {
        "id": "JvK-vwnkj3Ns"
      },
      "source": [
        "3\\. Create a 10 by 6 matrix of increasing float numbers, starting from zero and increasing in each step by 0.1, so the output matrix looks like the following:\n",
        "\n",
        "```python\n",
        "m = [[0. 0.1, 0.2 0.3 ... 0.9]\n",
        "     [1.0 1.1 1.2 1.3 ... 1.9]\n",
        "     ...\n",
        "     [5.0 5.1 5.2 5.3 ... 5.9]]\n",
        "```\n",
        "After creating the matrix, set all entries with a decimal part $< 0.4$ to zero."
      ]
    },
    {
      "cell_type": "code",
      "metadata": {
        "id": "z-t2umjWj3Nt",
        "outputId": "aea0a5ef-563e-4377-8ba6-ac4d93d628a6"
      },
      "source": [
        "float_range_array = np.arange(0, 6, 0.1)\n",
        "print(float_range_array.reshape(6,10),\"\\n\")\n",
        "\n",
        "float_range_array[float_range_array % 1 < 0.4] = 0\n",
        "print(float_range_array.reshape(6,10),\"\\n\")\n"
      ],
      "execution_count": null,
      "outputs": [
        {
          "name": "stdout",
          "output_type": "stream",
          "text": [
            "[[0.  0.1 0.2 0.3 0.4 0.5 0.6 0.7 0.8 0.9]\n",
            " [1.  1.1 1.2 1.3 1.4 1.5 1.6 1.7 1.8 1.9]\n",
            " [2.  2.1 2.2 2.3 2.4 2.5 2.6 2.7 2.8 2.9]\n",
            " [3.  3.1 3.2 3.3 3.4 3.5 3.6 3.7 3.8 3.9]\n",
            " [4.  4.1 4.2 4.3 4.4 4.5 4.6 4.7 4.8 4.9]\n",
            " [5.  5.1 5.2 5.3 5.4 5.5 5.6 5.7 5.8 5.9]] \n",
            "\n",
            "[[0.  0.  0.  0.  0.4 0.5 0.6 0.7 0.8 0.9]\n",
            " [0.  0.  0.  0.  1.4 1.5 1.6 1.7 1.8 1.9]\n",
            " [0.  0.  0.  0.  2.4 2.5 2.6 2.7 2.8 2.9]\n",
            " [0.  0.  0.  0.  3.4 3.5 3.6 3.7 3.8 3.9]\n",
            " [0.  0.  0.  0.  4.4 4.5 4.6 4.7 4.8 4.9]\n",
            " [0.  0.  0.  0.  5.4 5.5 5.6 5.7 5.8 5.9]] \n",
            "\n"
          ]
        }
      ]
    },
    {
      "cell_type": "markdown",
      "metadata": {
        "id": "qaiKKNPwj3Nu"
      },
      "source": [
        "4\\. Use `np.linspace` to create an array of 100 numbers between 0 and 2π (inclusive).\n",
        "\n",
        "  * Extract every 10th element using the slice notation\n",
        "  * Reverse the array using the slice notation\n",
        "  * Extract elements where the absolute difference between the sin and cos functions evaluated for that element is $< 0.1$\n",
        "  * **Optional**: make a plot showing the sin and cos functions and indicate where they are close"
      ]
    },
    {
      "cell_type": "code",
      "metadata": {
        "id": "xypZZvGoj3Nu",
        "outputId": "e5b17f86-1b45-4553-c0d5-d189c13d5d4b"
      },
      "source": [
        "import matplotlib.pyplot as plt\n",
        "%matplotlib inline\n",
        "\n",
        "array = np.linspace(0, 2*3.14, 100,)\n",
        "print(array, '\\n')\n",
        "\n",
        "print(array[::10], '\\n')\n",
        "\n",
        "print(array[::-1], '\\n')\n",
        "\n",
        "mask = np.abs((np.sin(array) - np.cos(array))) < 0.1\n",
        "print(array[mask], '\\n')\n",
        "\n",
        "plt.figure(figsize=(8, 4))\n",
        "plt.plot(array, np.cos(array), label='cos(x)')\n",
        "plt.plot(array, np.sin(array), label='sin(x)')\n",
        "plt.scatter(array[mask], np.sin(array[mask]), s=20, c='red')\n",
        "plt.scatter(array[mask], np.cos(array[mask]), s=20, c='red')\n",
        "plt.legend()"
      ],
      "execution_count": null,
      "outputs": [
        {
          "name": "stdout",
          "output_type": "stream",
          "text": [
            "[0.         0.06343434 0.12686869 0.19030303 0.25373737 0.31717172\n",
            " 0.38060606 0.4440404  0.50747475 0.57090909 0.63434343 0.69777778\n",
            " 0.76121212 0.82464646 0.88808081 0.95151515 1.01494949 1.07838384\n",
            " 1.14181818 1.20525253 1.26868687 1.33212121 1.39555556 1.4589899\n",
            " 1.52242424 1.58585859 1.64929293 1.71272727 1.77616162 1.83959596\n",
            " 1.9030303  1.96646465 2.02989899 2.09333333 2.15676768 2.22020202\n",
            " 2.28363636 2.34707071 2.41050505 2.47393939 2.53737374 2.60080808\n",
            " 2.66424242 2.72767677 2.79111111 2.85454545 2.9179798  2.98141414\n",
            " 3.04484848 3.10828283 3.17171717 3.23515152 3.29858586 3.3620202\n",
            " 3.42545455 3.48888889 3.55232323 3.61575758 3.67919192 3.74262626\n",
            " 3.80606061 3.86949495 3.93292929 3.99636364 4.05979798 4.12323232\n",
            " 4.18666667 4.25010101 4.31353535 4.3769697  4.44040404 4.50383838\n",
            " 4.56727273 4.63070707 4.69414141 4.75757576 4.8210101  4.88444444\n",
            " 4.94787879 5.01131313 5.07474747 5.13818182 5.20161616 5.26505051\n",
            " 5.32848485 5.39191919 5.45535354 5.51878788 5.58222222 5.64565657\n",
            " 5.70909091 5.77252525 5.8359596  5.89939394 5.96282828 6.02626263\n",
            " 6.08969697 6.15313131 6.21656566 6.28      ] \n",
            "\n",
            "[0.         0.63434343 1.26868687 1.9030303  2.53737374 3.17171717\n",
            " 3.80606061 4.44040404 5.07474747 5.70909091] \n",
            "\n",
            "[6.28       6.21656566 6.15313131 6.08969697 6.02626263 5.96282828\n",
            " 5.89939394 5.8359596  5.77252525 5.70909091 5.64565657 5.58222222\n",
            " 5.51878788 5.45535354 5.39191919 5.32848485 5.26505051 5.20161616\n",
            " 5.13818182 5.07474747 5.01131313 4.94787879 4.88444444 4.8210101\n",
            " 4.75757576 4.69414141 4.63070707 4.56727273 4.50383838 4.44040404\n",
            " 4.3769697  4.31353535 4.25010101 4.18666667 4.12323232 4.05979798\n",
            " 3.99636364 3.93292929 3.86949495 3.80606061 3.74262626 3.67919192\n",
            " 3.61575758 3.55232323 3.48888889 3.42545455 3.3620202  3.29858586\n",
            " 3.23515152 3.17171717 3.10828283 3.04484848 2.98141414 2.9179798\n",
            " 2.85454545 2.79111111 2.72767677 2.66424242 2.60080808 2.53737374\n",
            " 2.47393939 2.41050505 2.34707071 2.28363636 2.22020202 2.15676768\n",
            " 2.09333333 2.02989899 1.96646465 1.9030303  1.83959596 1.77616162\n",
            " 1.71272727 1.64929293 1.58585859 1.52242424 1.4589899  1.39555556\n",
            " 1.33212121 1.26868687 1.20525253 1.14181818 1.07838384 1.01494949\n",
            " 0.95151515 0.88808081 0.82464646 0.76121212 0.69777778 0.63434343\n",
            " 0.57090909 0.50747475 0.4440404  0.38060606 0.31717172 0.25373737\n",
            " 0.19030303 0.12686869 0.06343434 0.        ] \n",
            "\n",
            "[0.76121212 0.82464646 3.86949495 3.93292929 3.99636364] \n",
            "\n"
          ]
        },
        {
          "data": {
            "text/plain": [
              "<matplotlib.legend.Legend at 0x7ff58806cca0>"
            ]
          },
          "execution_count": 8,
          "metadata": {},
          "output_type": "execute_result"
        },
        {
          "data": {
            "image/png": "[encoded data removed]",
            "text/plain": [
              "<Figure size 576x288 with 1 Axes>"
            ]
          },
          "metadata": {
            "needs_background": "light"
          },
          "output_type": "display_data"
        }
      ]
    },
    {
      "cell_type": "markdown",
      "metadata": {
        "id": "DLUJd9dAj3Nv"
      },
      "source": [
        "5\\. Create a matrix that shows the 10 by 10 multiplication table.\n",
        "\n",
        " * Find the trace of the matrix\n",
        " * Extract the anti-diagonal matrix (this should be ```array([10, 18, 24, 28, 30, 30, 28, 24, 18, 10])```)\n",
        " * Extract the diagonal offset by 1 upwards (this should be ```array([ 2,  6, 12, 20, 30, 42, 56, 72, 90])```)"
      ]
    },
    {
      "cell_type": "code",
      "metadata": {
        "id": "XlWOvzBXj3Nv",
        "outputId": "0e8825a7-ed67-4ecd-cacc-0583eeceaaaf"
      },
      "source": [
        "x = range(1,11) \n",
        "y = range(1,11)\n",
        "\n",
        "mult_table = [[i*j for j in x] for i in y]\n",
        "print(\"multiplication table:\\n\", mult_table)\n",
        "\n",
        "print(\"trace:\\n\", np.trace(mult_table))\n",
        "\n",
        "print(\"anti-diagonal:\\n\", np.diagonal(np.fliplr(mult_table)))\n",
        "\n",
        "print(\"offset diagonal:\\n\", np.diagonal(mult_table, offset=1))"
      ],
      "execution_count": null,
      "outputs": [
        {
          "name": "stdout",
          "output_type": "stream",
          "text": [
            "multiplication table:\n",
            " [[1, 2, 3, 4, 5, 6, 7, 8, 9, 10], [2, 4, 6, 8, 10, 12, 14, 16, 18, 20], [3, 6, 9, 12, 15, 18, 21, 24, 27, 30], [4, 8, 12, 16, 20, 24, 28, 32, 36, 40], [5, 10, 15, 20, 25, 30, 35, 40, 45, 50], [6, 12, 18, 24, 30, 36, 42, 48, 54, 60], [7, 14, 21, 28, 35, 42, 49, 56, 63, 70], [8, 16, 24, 32, 40, 48, 56, 64, 72, 80], [9, 18, 27, 36, 45, 54, 63, 72, 81, 90], [10, 20, 30, 40, 50, 60, 70, 80, 90, 100]]\n",
            "trace:\n",
            " 385\n",
            "anti-diagonal:\n",
            " [10 18 24 28 30 30 28 24 18 10]\n",
            "offset diagonal:\n",
            " [ 2  6 12 20 30 42 56 72 90]\n"
          ]
        }
      ]
    },
    {
      "cell_type": "markdown",
      "metadata": {
        "id": "Gw0zwyEAj3Nw"
      },
      "source": [
        "6\\. Use broadcasting to create a grid of distances.\n",
        "\n",
        "Route 66 crosses the following cities in the US: Chicago, Springfield, Saint-Louis, Tulsa, Oklahoma City, Amarillo, Santa Fe, Albuquerque, Flagstaff, Los Angeles\n",
        "The corresponding positions in miles are: 0, 198, 303, 736, 871, 1175, 1475, 1544, 1913, 2448\n",
        "\n",
        "  * Build a 2D grid of distances among each city along Route 66\n",
        "  * Convert the distances in km"
      ]
    },
    {
      "cell_type": "code",
      "metadata": {
        "id": "6kjFkdfoj3Nw",
        "outputId": "5f3aceb0-b6c0-45ce-d62a-c12e45c9186a"
      },
      "source": [
        "route_66 = np.array([0, 198, 303, 736, 871, 1175, 1475, 1544, 1913, 2448])\n",
        "\n",
        "dist_mi = np.abs(route_66[:, np.newaxis] - route_66)\n",
        "print('distances matrix [mi]: \\n', dist_mi, '\\n')\n",
        "\n",
        "dist_km = dist_mi * 1.6\n",
        "print('distances matrix [km]: \\n', dist_km)"
      ],
      "execution_count": null,
      "outputs": [
        {
          "name": "stdout",
          "output_type": "stream",
          "text": [
            "distances matrix [mi]: \n",
            " [[   0  198  303  736  871 1175 1475 1544 1913 2448]\n",
            " [ 198    0  105  538  673  977 1277 1346 1715 2250]\n",
            " [ 303  105    0  433  568  872 1172 1241 1610 2145]\n",
            " [ 736  538  433    0  135  439  739  808 1177 1712]\n",
            " [ 871  673  568  135    0  304  604  673 1042 1577]\n",
            " [1175  977  872  439  304    0  300  369  738 1273]\n",
            " [1475 1277 1172  739  604  300    0   69  438  973]\n",
            " [1544 1346 1241  808  673  369   69    0  369  904]\n",
            " [1913 1715 1610 1177 1042  738  438  369    0  535]\n",
            " [2448 2250 2145 1712 1577 1273  973  904  535    0]] \n",
            "\n",
            "distances matrix [km]: \n",
            " [[   0.   316.8  484.8 1177.6 1393.6 1880.  2360.  2470.4 3060.8 3916.8]\n",
            " [ 316.8    0.   168.   860.8 1076.8 1563.2 2043.2 2153.6 2744.  3600. ]\n",
            " [ 484.8  168.     0.   692.8  908.8 1395.2 1875.2 1985.6 2576.  3432. ]\n",
            " [1177.6  860.8  692.8    0.   216.   702.4 1182.4 1292.8 1883.2 2739.2]\n",
            " [1393.6 1076.8  908.8  216.     0.   486.4  966.4 1076.8 1667.2 2523.2]\n",
            " [1880.  1563.2 1395.2  702.4  486.4    0.   480.   590.4 1180.8 2036.8]\n",
            " [2360.  2043.2 1875.2 1182.4  966.4  480.     0.   110.4  700.8 1556.8]\n",
            " [2470.4 2153.6 1985.6 1292.8 1076.8  590.4  110.4    0.   590.4 1446.4]\n",
            " [3060.8 2744.  2576.  1883.2 1667.2 1180.8  700.8  590.4    0.   856. ]\n",
            " [3916.8 3600.  3432.  2739.2 2523.2 2036.8 1556.8 1446.4  856.     0. ]]\n"
          ]
        }
      ]
    },
    {
      "cell_type": "markdown",
      "metadata": {
        "id": "Gme_Joctj3Nw"
      },
      "source": [
        "7\\. Prime numbers sieve: compute the prime numbers in the 0-N (start with N=99) range with a sieve (mask).\n",
        "  * Check the performances (timeit); how does it scale with N?\n",
        "  * Implement the optimization suggested in the [sieve of Eratosthenes](https://en.wikipedia.org/wiki/Sieve_of_Eratosthenes)"
      ]
    },
    {
      "cell_type": "code",
      "metadata": {
        "id": "brp4k3X8j3Nw",
        "outputId": "d632dcca-983d-4f92-fdd3-c839b85407a4"
      },
      "source": [
        "prime_numbers=[]\n",
        "\n",
        "for num in range(0, 99 + 1):\n",
        "   if num > 1:\n",
        "       for i in range(2, num):\n",
        "           if (num % i) == 0:\n",
        "               break\n",
        "       else:\n",
        "           prime_numbers.append(num)\n",
        "print(\"Prime numbers: \",prime_numbers)"
      ],
      "execution_count": null,
      "outputs": [
        {
          "name": "stdout",
          "output_type": "stream",
          "text": [
            "Prime numbers:  [2, 3, 5, 7, 11, 13, 17, 19, 23, 29, 31, 37, 41, 43, 47, 53, 59, 61, 67, 71, 73, 79, 83, 89, 97]\n"
          ]
        }
      ]
    },
    {
      "cell_type": "code",
      "metadata": {
        "id": "PvxBgc8Cj3Nx",
        "outputId": "512e19e9-3ece-44a5-839e-5e49b7ebe872"
      },
      "source": [
        "def seive_of_eratosthenes(n):\n",
        "    is_prime = [True for _ in range(n+1)]\n",
        "    is_prime[0], is_prime[1] = False, False\n",
        "\n",
        "    for i in range(2, int(n**0.5)+1):\n",
        "        for j in range(2*i, n+1, i):\n",
        "            is_prime[j] = False\n",
        "\n",
        "    return is_prime\n",
        "\n",
        "\n",
        "mask_list = seive_of_eratosthenes(99)\n",
        "\n",
        "prime_numbers=[]\n",
        "for i in range(99+1):\n",
        "    if mask_list[i]:\n",
        "        prime_numbers.append(i)\n",
        "print(\"Prime numbers: \",prime_numbers)"
      ],
      "execution_count": null,
      "outputs": [
        {
          "name": "stdout",
          "output_type": "stream",
          "text": [
            "Prime numbers:  [2, 3, 5, 7, 11, 13, 17, 19, 23, 29, 31, 37, 41, 43, 47, 53, 59, 61, 67, 71, 73, 79, 83, 89, 97]\n"
          ]
        }
      ]
    },
    {
      "cell_type": "code",
      "metadata": {
        "id": "iOOfIKCBj3Nx",
        "outputId": "449e63fa-7ac9-4a0e-df16-1fcbdbae49f3"
      },
      "source": [
        "%timeit seive_of_eratosthenes(1000)"
      ],
      "execution_count": null,
      "outputs": [
        {
          "name": "stdout",
          "output_type": "stream",
          "text": [
            "148 µs ± 833 ns per loop (mean ± std. dev. of 7 runs, 10000 loops each)\n"
          ]
        }
      ]
    },
    {
      "cell_type": "code",
      "metadata": {
        "id": "KS1xcXWcj3Nx"
      },
      "source": [
        ""
      ],
      "execution_count": null,
      "outputs": []
    }
  ]
}