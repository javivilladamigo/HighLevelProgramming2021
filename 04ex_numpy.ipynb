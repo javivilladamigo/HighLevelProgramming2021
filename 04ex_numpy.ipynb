{
 "cells": [
  {
   "cell_type": "markdown",
   "metadata": {},
   "source": [
    "0\\. IMPORT PACKAGES"
   ]
  },
  {
   "cell_type": "code",
   "execution_count": 2,
   "metadata": {},
   "outputs": [],
   "source": [
    "import numpy as np\n",
    "from math import pi\n",
    "import matplotlib.pyplot as plt"
   ]
  },
  {
   "cell_type": "markdown",
   "metadata": {},
   "source": [
    "1\\. Find the total mean, and the mean for each row and column of the following matrix:\n",
    "\n",
    "```python\n",
    "m = np.arange(12).reshape((3,4))\n",
    "```"
   ]
  },
  {
   "cell_type": "code",
   "execution_count": 74,
   "metadata": {},
   "outputs": [
    {
     "name": "stdout",
     "output_type": "stream",
     "text": [
      "Total mean: 5.5\n",
      "Column means: [4. 5. 6. 7.]\n",
      "Row means: [1.5 5.5 9.5]\n"
     ]
    }
   ],
   "source": [
    "# ex 1\n",
    "\n",
    "m = np.arange(12).reshape((3, 4))\n",
    "print(\"Total mean:\", np.mean(m))\n",
    "print(\"Column means:\", np.mean(m, axis=0))\n",
    "print(\"Row means:\", np.mean(m, axis=1))"
   ]
  },
  {
   "cell_type": "markdown",
   "metadata": {},
   "source": [
    "2\\. Find the outer product of the following vectors:\n",
    "\n",
    "```python\n",
    "u = np.array([1, 3, 5, 7])\n",
    "v = np.array([2, 4, 6, 8])\n",
    "```\n",
    "\n",
    "Use different methods to do this:\n",
    "\n",
    "   1. Using the function `outer` in numpy\n",
    "   2. Using a nested `for` loop or a list comprehension\n",
    "   3. Using numpy broadcasting operations"
   ]
  },
  {
   "cell_type": "code",
   "execution_count": 7,
   "metadata": {},
   "outputs": [
    {
     "name": "stdout",
     "output_type": "stream",
     "text": [
      "Method 1:\n",
      " [[ 2  4  6  8]\n",
      " [ 6 12 18 24]\n",
      " [10 20 30 40]\n",
      " [14 28 42 56]]\n",
      "[[ 2  6 10 14]\n",
      " [ 4 12 20 28]\n",
      " [ 6 18 30 42]\n",
      " [ 8 24 40 56]]\n",
      "[[ 2  6 10 14]\n",
      " [ 4 12 20 28]\n",
      " [ 6 18 30 42]\n",
      " [ 8 24 40 56]]\n"
     ]
    }
   ],
   "source": [
    "# ex 2\n",
    "\n",
    "u = np.array([1, 3, 5, 7])\n",
    "v = np.array([2, 4, 6, 8])\n",
    "\n",
    "print(\"Method 1:\\n\", np.outer(u, v))\n",
    "print(\"Method 2:\\n\", np.array( [(i*j) for i in v for j in u] ).reshape(4,4))\n",
    "print(\"Method 3:\\n\", u*(v.reshape(4,1)))"
   ]
  },
  {
   "cell_type": "markdown",
   "metadata": {},
   "source": [
    "3\\. Create a 10 by 6 matrix of increasing float numbers, starting from zero and increasing in each step by 0.1, so the output matrix looks like the following:\n",
    "\n",
    "```python\n",
    "m = [[0. 0.1, 0.2 0.3 ... 0.9]\n",
    "     [1.0 1.1 1.2 1.3 ... 1.9]\n",
    "     ...\n",
    "     [5.0 5.1 5.2 5.3 ... 5.9]]\n",
    "```\n",
    "After creating the matrix, set all entries with a decimal part $< 0.4$ to zero."
   ]
  },
  {
   "cell_type": "code",
   "execution_count": 76,
   "metadata": {},
   "outputs": [
    {
     "name": "stdout",
     "output_type": "stream",
     "text": [
      "[[0.  0.1 0.2 0.3 0.4 0.5 0.6 0.7 0.8 0.9]\n",
      " [1.  1.1 1.2 1.3 1.4 1.5 1.6 1.7 1.8 1.9]\n",
      " [2.  2.1 2.2 2.3 2.4 2.5 2.6 2.7 2.8 2.9]\n",
      " [3.  3.1 3.2 3.3 3.4 3.5 3.6 3.7 3.8 3.9]\n",
      " [4.  4.1 4.2 4.3 4.4 4.5 4.6 4.7 4.8 4.9]\n",
      " [5.  5.1 5.2 5.3 5.4 5.5 5.6 5.7 5.8 5.9]]\n",
      "[[0.  0.1 0.2 0.3]\n",
      " [0.  0.1 0.2 0.3]\n",
      " [0.  0.1 0.2 0.3]\n",
      " [0.  0.1 0.2 0.3]\n",
      " [0.  0.1 0.2 0.3]\n",
      " [0.  0.1 0.2 0.3]]\n"
     ]
    }
   ],
   "source": [
    "# ex 3\n",
    "\n",
    "m = np.arange(0, 6, 0.1).reshape(6, 10)\n",
    "print(m)\n",
    "\n",
    "l = np.array([ i%1 for i in np.nditer(m) if i%1<0.4 ]).reshape(6,4)\n",
    "print(l)"
   ]
  },
  {
   "cell_type": "markdown",
   "metadata": {},
   "source": [
    "4\\. Use `np.linspace` to create an array of 100 numbers between 0 and 2π (inclusive).\n",
    "\n",
    "  * Extract every 10th element using the slice notation\n",
    "  * Reverse the array using the slice notation\n",
    "  * Extract elements where the absolute difference between the sin and cos functions evaluated for that element is $< 0.1$\n",
    "  * **Optional**: make a plot showing the sin and cos functions and indicate where they are close"
   ]
  },
  {
   "cell_type": "code",
   "execution_count": 12,
   "metadata": {},
   "outputs": [
    {
     "name": "stdout",
     "output_type": "stream",
     "text": [
      "Extracted elements:\n",
      " [0.         0.63466518 1.26933037 1.90399555 2.53866073 3.17332591\n",
      " 3.8079911  4.44265628 5.07732146 5.71198664]\n",
      "Reversed array:\n",
      " [6.28318531 6.21971879 6.15625227 6.09278575 6.02931923 5.96585272\n",
      " 5.9023862  5.83891968 5.77545316 5.71198664 5.64852012 5.58505361\n",
      " 5.52158709 5.45812057 5.39465405 5.33118753 5.26772102 5.2042545\n",
      " 5.14078798 5.07732146 5.01385494 4.95038842 4.88692191 4.82345539\n",
      " 4.75998887 4.69652235 4.63305583 4.56958931 4.5061228  4.44265628\n",
      " 4.37918976 4.31572324 4.25225672 4.1887902  4.12532369 4.06185717\n",
      " 3.99839065 3.93492413 3.87145761 3.8079911  3.74452458 3.68105806\n",
      " 3.61759154 3.55412502 3.4906585  3.42719199 3.36372547 3.30025895\n",
      " 3.23679243 3.17332591 3.10985939 3.04639288 2.98292636 2.91945984\n",
      " 2.85599332 2.7925268  2.72906028 2.66559377 2.60212725 2.53866073\n",
      " 2.47519421 2.41172769 2.34826118 2.28479466 2.22132814 2.15786162\n",
      " 2.0943951  2.03092858 1.96746207 1.90399555 1.84052903 1.77706251\n",
      " 1.71359599 1.65012947 1.58666296 1.52319644 1.45972992 1.3962634\n",
      " 1.33279688 1.26933037 1.20586385 1.14239733 1.07893081 1.01546429\n",
      " 0.95199777 0.88853126 0.82506474 0.76159822 0.6981317  0.63466518\n",
      " 0.57119866 0.50773215 0.44426563 0.38079911 0.31733259 0.25386607\n",
      " 0.19039955 0.12693304 0.06346652 0.        ]\n",
      "Extracted elements with difference <0.1:\n",
      " [0.76159822 0.82506474 3.87145761 3.93492413]\n"
     ]
    }
   ],
   "source": [
    "# ex 4\n",
    "from math import pi\n",
    "\n",
    "v = np.linspace (0, 2*pi, 100)\n",
    "\n",
    "# 4.1:\n",
    "print(\"Extracted elements:\\n\", v[::10]) \n",
    "# 4.2\n",
    "print(\"Reversed array:\\n\", v[::-1]) \n",
    "# 4.3\n",
    "w = v[abs(np.cos(v) - np.sin(v))<0.1]\n",
    "print(\"Extracted elements with difference <0.1:\\n\", w)"
   ]
  },
  {
   "cell_type": "code",
   "execution_count": 78,
   "metadata": {},
   "outputs": [
    {
     "data": {
      "text/plain": [
       "<matplotlib.patches.Polygon at 0x14a0bedc0>"
      ]
     },
     "execution_count": 78,
     "metadata": {},
     "output_type": "execute_result"
    },
    {
     "data": {
      "image/png": "[encoded data removed]",
      "text/plain": [
       "<Figure size 432x288 with 1 Axes>"
      ]
     },
     "metadata": {
      "needs_background": "light"
     },
     "output_type": "display_data"
    }
   ],
   "source": [
    "# 4.4 OPTIONAL\n",
    "%matplotlib inline \n",
    "plt.plot(v, np.sin(v));\n",
    "plt.plot(v, np.cos(v));\n",
    "plt.axvspan(w[0], w[1], color='red', alpha=0.3)\n",
    "plt.axvspan(w[2], w[3], color='red', alpha=0.3)"
   ]
  },
  {
   "cell_type": "markdown",
   "metadata": {},
   "source": [
    "5\\. Create a matrix that shows the 10 by 10 multiplication table.\n",
    "\n",
    " * Find the trace of the matrix\n",
    " * Extract the anti-diagonal matrix (this should be ```array([10, 18, 24, 28, 30, 30, 28, 24, 18, 10])```)\n",
    " * Extract the diagonal offset by 1 upwards (this should be ```array([ 2,  6, 12, 20, 30, 42, 56, 72, 90])```)"
   ]
  },
  {
   "cell_type": "code",
   "execution_count": 81,
   "metadata": {},
   "outputs": [
    {
     "name": "stdout",
     "output_type": "stream",
     "text": [
      "Trace: 385\n",
      "Antidiagonal: [10 18 24 28 30 30 28 24 18 10]\n",
      "Diagonal offset by 1 upwards: [ 2  6 12 20 30 42 56 72 90]\n"
     ]
    }
   ],
   "source": [
    "# ex 5\n",
    "\n",
    "a = np.arange(1,11)\n",
    "b = np.arange(1,11).reshape(10,1)\n",
    "c = a*b\n",
    "\n",
    "# 5.1\n",
    "print(\"Trace:\", np.trace(c))\n",
    "# 5.2\n",
    "print(\"Antidiagonal:\", np.diagonal(np.flip(c, axis=1)))\n",
    "# 5.3\n",
    "print(\"Diagonal offset by 1 upwards:\", np.diagonal(c, offset=1))"
   ]
  },
  {
   "cell_type": "markdown",
   "metadata": {},
   "source": [
    "6\\. Use broadcasting to create a grid of distances.\n",
    "\n",
    "Route 66 crosses the following cities in the US: Chicago, Springfield, Saint-Louis, Tulsa, Oklahoma City, Amarillo, Santa Fe, Albuquerque, Flagstaff, Los Angeles\n",
    "The corresponding positions in miles are: 0, 198, 303, 736, 871, 1175, 1475, 1544, 1913, 2448\n",
    "\n",
    "  * Build a 2D grid of distances among each city along Route 66\n",
    "  * Convert the distances in km"
   ]
  },
  {
   "cell_type": "code",
   "execution_count": null,
   "metadata": {},
   "outputs": [],
   "source": []
  },
  {
   "cell_type": "markdown",
   "metadata": {},
   "source": [
    "7\\. Prime numbers sieve: compute the prime numbers in the 0-N (start with N=99) range with a sieve (mask).\n",
    "  * Check the performances (timeit); how does it scale with N?\n",
    "  * Implement the optimization suggested in the [sieve of Eratosthenes](https://en.wikipedia.org/wiki/Sieve_of_Eratosthenes)"
   ]
  },
  {
   "cell_type": "code",
   "execution_count": 28,
   "metadata": {},
   "outputs": [
    {
     "name": "stdout",
     "output_type": "stream",
     "text": [
      "The mask is:\n",
      " [ True  True  True  True False  True False  True False False False  True\n",
      " False  True False False False  True False  True False False False  True\n",
      " False False False False False  True False  True False False False False\n",
      " False  True False False False  True False  True False False False  True\n",
      " False False False False False  True False False False False False  True\n",
      " False  True False False False False False  True False False False  True\n",
      " False  True False False False False False  True False False False  True\n",
      " False False False False False  True False False False False False False\n",
      " False  True False False]\n",
      "The prime numbers are:\n",
      " [ 0  1  2  3  5  7 11 13 17 19 23 29 31 37 41 43 47 53 59 61 67 71 73 79\n",
      " 83 89 97]\n"
     ]
    }
   ],
   "source": [
    "def maskprime(N):\n",
    "    \"\"\"Function to create the mask\"\"\"\n",
    "    l = []\n",
    "    for i in range(0, N):\n",
    "        count=0\n",
    "        for j in range(2, i):\n",
    "            if (i%j!=0):\n",
    "                continue\n",
    "            else:\n",
    "                count +=1\n",
    "                break\n",
    "        if(count==0): \n",
    "            l.append(True)\n",
    "        else:\n",
    "            l.append(False)\n",
    "    mask=np.array(l)\n",
    "    return mask\n",
    "\n",
    "mask = maskprime(100)\n",
    "print(\"The mask is:\\n\", mask)\n",
    "print(\"The prime numbers are:\\n\", np.arange(0,100)[mask])"
   ]
  },
  {
   "cell_type": "code",
   "execution_count": 35,
   "metadata": {},
   "outputs": [
    {
     "name": "stdout",
     "output_type": "stream",
     "text": [
      "For N = 128 the execution time is: 0.00012493133544921875\n",
      "For N = 256 the execution time is: 0.00012302398681640625\n",
      "For N = 512 the execution time is: 0.00011706352233886719\n",
      "For N = 1024 the execution time is: 0.00010204315185546875\n",
      "For N = 2048 the execution time is: 9.584426879882812e-05\n",
      "For N = 4096 the execution time is: 9.608268737792969e-05\n",
      "For N = 8192 the execution time is: 9.703636169433594e-05\n",
      "For N = 16384 the execution time is: 9.608268737792969e-05\n",
      "For N = 32768 the execution time is: 9.608268737792969e-05\n",
      "For N = 65536 the execution time is: 9.417533874511719e-05\n",
      "For N = 131072 the execution time is: 9.393692016601562e-05\n",
      "For N = 262144 the execution time is: 9.489059448242188e-05\n",
      "For N = 524288 the execution time is: 9.393692016601562e-05\n",
      "For N = 1048576 the execution time is: 0.000102996826171875\n",
      "For N = 2097152 the execution time is: 9.608268737792969e-05\n",
      "For N = 4194304 the execution time is: 0.00010585784912109375\n",
      "For N = 8388608 the execution time is: 9.608268737792969e-05\n",
      "For N = 16777216 the execution time is: 9.584426879882812e-05\n",
      "For N = 33554432 the execution time is: 9.608268737792969e-05\n",
      "For N = 67108864 the execution time is: 9.489059448242188e-05\n",
      "For N = 134217728 the execution time is: 9.489059448242188e-05\n",
      "For N = 268435456 the execution time is: 9.489059448242188e-05\n",
      "For N = 536870912 the execution time is: 9.894371032714844e-05\n",
      "For N = 1073741824 the execution time is: 9.512901306152344e-05\n",
      "For N = 2147483648 the execution time is: 9.5367431640625e-05\n",
      "For N = 4294967296 the execution time is: 9.5367431640625e-05\n",
      "For N = 8589934592 the execution time is: 9.393692016601562e-05\n",
      "For N = 17179869184 the execution time is: 9.799003601074219e-05\n",
      "For N = 34359738368 the execution time is: 0.0001049041748046875\n",
      "For N = 68719476736 the execution time is: 9.703636169433594e-05\n",
      "For N = 137438953472 the execution time is: 9.608268737792969e-05\n",
      "For N = 274877906944 the execution time is: 9.608268737792969e-05\n",
      "For N = 549755813888 the execution time is: 9.489059448242188e-05\n",
      "For N = 1099511627776 the execution time is: 9.703636169433594e-05\n",
      "For N = 2199023255552 the execution time is: 9.608268737792969e-05\n",
      "For N = 4398046511104 the execution time is: 9.703636169433594e-05\n",
      "For N = 8796093022208 the execution time is: 0.00010013580322265625\n",
      "For N = 17592186044416 the execution time is: 9.584426879882812e-05\n",
      "For N = 35184372088832 the execution time is: 9.799003601074219e-05\n",
      "For N = 70368744177664 the execution time is: 9.584426879882812e-05\n",
      "For N = 140737488355328 the execution time is: 9.5367431640625e-05\n",
      "For N = 281474976710656 the execution time is: 9.393692016601562e-05\n",
      "For N = 562949953421312 the execution time is: 9.608268737792969e-05\n",
      "For N = 1125899906842624 the execution time is: 0.0001010894775390625\n",
      "For N = 2251799813685248 the execution time is: 9.608268737792969e-05\n",
      "For N = 4503599627370496 the execution time is: 9.489059448242188e-05\n",
      "For N = 9007199254740992 the execution time is: 9.703636169433594e-05\n",
      "For N = 18014398509481984 the execution time is: 9.608268737792969e-05\n",
      "For N = 36028797018963968 the execution time is: 9.608268737792969e-05\n",
      "For N = 72057594037927936 the execution time is: 9.489059448242188e-05\n",
      "For N = 144115188075855872 the execution time is: 9.584426879882812e-05\n",
      "For N = 288230376151711744 the execution time is: 9.608268737792969e-05\n",
      "For N = 576460752303423488 the execution time is: 9.489059448242188e-05\n",
      "For N = 1152921504606846976 the execution time is: 9.608268737792969e-05\n",
      "For N = 2305843009213693952 the execution time is: 0.00010824203491210938\n",
      "For N = 4611686018427387904 the execution time is: 9.512901306152344e-05\n",
      "For N = 9223372036854775808 the execution time is: 0.000102996826171875\n",
      "For N = 18446744073709551616 the execution time is: 0.00010204315185546875\n",
      "For N = 36893488147419103232 the execution time is: 9.584426879882812e-05\n",
      "For N = 73786976294838206464 the execution time is: 0.00010180473327636719\n",
      "For N = 147573952589676412928 the execution time is: 9.512901306152344e-05\n",
      "For N = 295147905179352825856 the execution time is: 9.703636169433594e-05\n",
      "For N = 590295810358705651712 the execution time is: 8.606910705566406e-05\n",
      "For N = 1180591620717411303424 the execution time is: 8.606910705566406e-05\n",
      "For N = 2361183241434822606848 the execution time is: 8.416175842285156e-05\n",
      "For N = 4722366482869645213696 the execution time is: 8.606910705566406e-05\n",
      "For N = 9444732965739290427392 the execution time is: 8.511543273925781e-05\n",
      "For N = 18889465931478580854784 the execution time is: 8.487701416015625e-05\n",
      "For N = 37778931862957161709568 the execution time is: 8.416175842285156e-05\n",
      "For N = 75557863725914323419136 the execution time is: 8.392333984375e-05\n",
      "For N = 151115727451828646838272 the execution time is: 8.511543273925781e-05\n",
      "For N = 302231454903657293676544 the execution time is: 8.702278137207031e-05\n",
      "For N = 604462909807314587353088 the execution time is: 8.606910705566406e-05\n",
      "For N = 1208925819614629174706176 the execution time is: 8.511543273925781e-05\n",
      "For N = 2417851639229258349412352 the execution time is: 8.487701416015625e-05\n",
      "For N = 4835703278458516698824704 the execution time is: 8.606910705566406e-05\n",
      "For N = 9671406556917033397649408 the execution time is: 8.487701416015625e-05\n",
      "For N = 19342813113834066795298816 the execution time is: 8.606910705566406e-05\n",
      "For N = 38685626227668133590597632 the execution time is: 8.487701416015625e-05\n",
      "For N = 77371252455336267181195264 the execution time is: 8.392333984375e-05\n",
      "For N = 154742504910672534362390528 the execution time is: 8.487701416015625e-05\n",
      "For N = 309485009821345068724781056 the execution time is: 8.511543273925781e-05\n",
      "For N = 618970019642690137449562112 the execution time is: 8.606910705566406e-05\n",
      "For N = 1237940039285380274899124224 the execution time is: 8.392333984375e-05\n",
      "For N = 2475880078570760549798248448 the execution time is: 8.702278137207031e-05\n",
      "For N = 4951760157141521099596496896 the execution time is: 8.392333984375e-05\n",
      "For N = 9903520314283042199192993792 the execution time is: 8.678436279296875e-05\n",
      "For N = 19807040628566084398385987584 the execution time is: 8.392333984375e-05\n",
      "For N = 39614081257132168796771975168 the execution time is: 8.606910705566406e-05\n",
      "For N = 79228162514264337593543950336 the execution time is: 8.702278137207031e-05\n",
      "For N = 158456325028528675187087900672 the execution time is: 8.606910705566406e-05\n",
      "For N = 316912650057057350374175801344 the execution time is: 8.606910705566406e-05\n",
      "For N = 633825300114114700748351602688 the execution time is: 8.58306884765625e-05\n"
     ]
    }
   ],
   "source": [
    "# now let's see how the time of execution depends on N\n",
    "import time\n",
    "\n",
    "for i in range(7, 100):\n",
    "    start=time.time()\n",
    "    maskprime(2**i)\n",
    "    t=(time.time()-start)\n",
    "    print(\"For N =\", 2**i, \"the execution time is:\",t)"
   ]
  }
 ],
 "metadata": {
  "kernelspec": {
   "display_name": "Python 3",
   "language": "python",
   "name": "python3"
  },
  "language_info": {
   "codemirror_mode": {
    "name": "ipython",
    "version": 3
   },
   "file_extension": ".py",
   "mimetype": "text/x-python",
   "name": "python",
   "nbconvert_exporter": "python",
   "pygments_lexer": "ipython3",
   "version": "3.9.7"
  }
 },
 "nbformat": 4,
 "nbformat_minor": 2
}
