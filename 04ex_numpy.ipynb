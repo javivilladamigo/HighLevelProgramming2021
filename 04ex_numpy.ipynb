{
 "cells": [
  {
   "cell_type": "markdown",
   "metadata": {},
   "source": [
    "1\\. Find the total mean, and the mean for each row and column of the following matrix:\n",
    "\n",
    "```python\n",
    "m = np.arange(12).reshape((3,4))\n",
    "```"
   ]
  },
  {
   "cell_type": "code",
   "execution_count": 1,
   "metadata": {},
   "outputs": [],
   "source": [
    "import numpy as np\n",
    "import matplotlib.pyplot as plt"
   ]
  },
  {
   "cell_type": "code",
   "execution_count": 2,
   "metadata": {},
   "outputs": [
    {
     "name": "stdout",
     "output_type": "stream",
     "text": [
      "The total mean is 5.5\n",
      "The mean along the column 0 is 4.0\n",
      "The mean along the column 1 is 5.0\n",
      "The mean along the column 2 is 6.0\n",
      "The mean along the column 3 is 7.0\n",
      "The mean along the row 0 is 1.5\n",
      "The mean along the row 1 is 5.5\n",
      "The mean along the row 2 is 9.5\n"
     ]
    }
   ],
   "source": [
    "m = np.arange(12).reshape((3,4))\n",
    "\n",
    "total_mean = np.mean(m)\n",
    "print(f'The total mean is {total_mean}')\n",
    "\n",
    "cols_mean = np.mean(m, axis = 0)\n",
    "for i in range(cols_mean.shape[0]):\n",
    "    print(f'The mean along the column {i} is {cols_mean[i]}')\n",
    "    \n",
    "rows_mean = np.mean(m, axis = 1)\n",
    "for i in range(rows_mean.shape[0]):\n",
    "    print(f'The mean along the row {i} is {rows_mean[i]}')"
   ]
  },
  {
   "cell_type": "markdown",
   "metadata": {},
   "source": [
    "2\\. Find the outer product of the following vectors:\n",
    "\n",
    "```python\n",
    "u = np.array([1, 3, 5, 7])\n",
    "v = np.array([2, 4, 6, 8])\n",
    "```\n",
    "\n",
    "Use different methods to do this:\n",
    "\n",
    "   1. Using the function `outer` in numpy\n",
    "   2. Using a nested `for` loop or a list comprehension\n",
    "   3. Using numpy broadcasting operations"
   ]
  },
  {
   "cell_type": "code",
   "execution_count": 3,
   "metadata": {},
   "outputs": [
    {
     "name": "stdout",
     "output_type": "stream",
     "text": [
      "The outer product of the vector u = [1 3 5 7] and v = [2 4 6 8] using the numpy method is \n",
      "[[ 2  4  6  8]\n",
      " [ 6 12 18 24]\n",
      " [10 20 30 40]\n",
      " [14 28 42 56]]\n"
     ]
    }
   ],
   "source": [
    "# 1\n",
    "u = np.array([1, 3, 5, 7])\n",
    "v = np.array([2, 4, 6, 8])\n",
    "\n",
    "outer_prod = np.outer(u, v)\n",
    "print(f'The outer product of the vector u = {u} and v = {v} using the numpy method is \\n{outer_prod}')"
   ]
  },
  {
   "cell_type": "code",
   "execution_count": 4,
   "metadata": {},
   "outputs": [
    {
     "name": "stdout",
     "output_type": "stream",
     "text": [
      "The outer product of the vector u = [1 3 5 7] and v = [2 4 6 8] using the nested for is \n",
      "[[ 2  4  6  8]\n",
      " [ 6 12 18 24]\n",
      " [10 20 30 40]\n",
      " [14 28 42 56]]\n"
     ]
    }
   ],
   "source": [
    "# 2\n",
    "nested_prod = np.array([x*y for x in u for y in v]).reshape(4,4)\n",
    "print(f'The outer product of the vector u = {u} and v = {v} using the nested for is \\n{nested_prod}')"
   ]
  },
  {
   "cell_type": "code",
   "execution_count": 5,
   "metadata": {},
   "outputs": [
    {
     "name": "stdout",
     "output_type": "stream",
     "text": [
      "The outer product of the vector u = [1 3 5 7] and v = [2 4 6 8] using broadcasting is \n",
      "[[ 2  4  6  8]\n",
      " [ 6 12 18 24]\n",
      " [10 20 30 40]\n",
      " [14 28 42 56]]\n"
     ]
    }
   ],
   "source": [
    "# 3\n",
    "u_tiled = np.tile(u, (4, 1)).T\n",
    "v_tiled = np.tile(v, (4,1))\n",
    "broadcasting_prod = np.multiply(u_tiled, v_tiled)\n",
    "\n",
    "print(f'The outer product of the vector u = {u} and v = {v} using broadcasting is \\n{broadcasting_prod}')"
   ]
  },
  {
   "cell_type": "markdown",
   "metadata": {},
   "source": [
    "3\\. Create a 10 by 6 matrix of increasing float numbers, starting from zero and increasing in each step by 0.1, so the output matrix looks like the following:\n",
    "\n",
    "```python\n",
    "m = [[0. 0.1, 0.2 0.3 ... 0.9]\n",
    "     [1.0 1.1 1.2 1.3 ... 1.9]\n",
    "     ...\n",
    "     [5.0 5.1 5.2 5.3 ... 5.9]]\n",
    "```\n",
    "After creating the matrix, set all entries with a decimal part $< 0.4$ to zero."
   ]
  },
  {
   "cell_type": "code",
   "execution_count": 6,
   "metadata": {},
   "outputs": [
    {
     "name": "stdout",
     "output_type": "stream",
     "text": [
      "The original 10x6 matrix is \n",
      "[[0.  0.1 0.2 0.3 0.4 0.5 0.6 0.7 0.8 0.9]\n",
      " [1.  1.1 1.2 1.3 1.4 1.5 1.6 1.7 1.8 1.9]\n",
      " [2.  2.1 2.2 2.3 2.4 2.5 2.6 2.7 2.8 2.9]\n",
      " [3.  3.1 3.2 3.3 3.4 3.5 3.6 3.7 3.8 3.9]\n",
      " [4.  4.1 4.2 4.3 4.4 4.5 4.6 4.7 4.8 4.9]\n",
      " [5.  5.1 5.2 5.3 5.4 5.5 5.6 5.7 5.8 5.9]]\n",
      "\n",
      "The 10x6 matrix with all entries with decimal part < than 0.4 equal to 0 is \n",
      "[[0.  0.  0.  0.  0.4 0.5 0.6 0.7 0.8 0.9]\n",
      " [0.  0.  0.  0.  1.4 1.5 1.6 1.7 1.8 1.9]\n",
      " [0.  0.  0.  0.  2.4 2.5 2.6 2.7 2.8 2.9]\n",
      " [0.  0.  0.  0.  3.4 3.5 3.6 3.7 3.8 3.9]\n",
      " [0.  0.  0.  0.  4.4 4.5 4.6 4.7 4.8 4.9]\n",
      " [0.  0.  0.  0.  5.4 5.5 5.6 5.7 5.8 5.9]]\n"
     ]
    }
   ],
   "source": [
    "m = np.arange(0, 6, 0.1).reshape(6,10)\n",
    "print(f'The original 10x6 matrix is \\n{m}\\n')\n",
    "\n",
    "m[m % 1 < 0.4] = 0\n",
    "print(f'The 10x6 matrix with all entries with decimal part < than 0.4 equal to 0 is \\n{m}')"
   ]
  },
  {
   "cell_type": "markdown",
   "metadata": {},
   "source": [
    "4\\. Use `np.linspace` to create an array of 100 numbers between 0 and 2π (inclusive).\n",
    "\n",
    "  * Extract every 10th element using the slice notation\n",
    "  * Reverse the array using the slice notation\n",
    "  * Extract elements where the absolute difference between the sin and cos functions evaluated for that element is $< 0.1$\n",
    "  * **Optional**: make a plot showing the sin and cos functions and indicate where they are close"
   ]
  },
  {
   "cell_type": "code",
   "execution_count": 7,
   "metadata": {},
   "outputs": [
    {
     "name": "stdout",
     "output_type": "stream",
     "text": [
      "The elements extracted every the 10th elements (10th, 20th, 30th, ...) are \n",
      "[0.56548668 1.19380521 1.82212374 2.45044227 3.0787608  3.70707933\n",
      " 4.33539786 4.96371639 5.59203492 6.22035345]\n",
      "\n",
      "The reversed array is \n",
      "[6.28318531 6.22035345 6.1575216  6.09468975 6.03185789 5.96902604\n",
      " 5.90619419 5.84336234 5.78053048 5.71769863 5.65486678 5.59203492\n",
      " 5.52920307 5.46637122 5.40353936 5.34070751 5.27787566 5.2150438\n",
      " 5.15221195 5.0893801  5.02654825 4.96371639 4.90088454 4.83805269\n",
      " 4.77522083 4.71238898 4.64955713 4.58672527 4.52389342 4.46106157\n",
      " 4.39822972 4.33539786 4.27256601 4.20973416 4.1469023  4.08407045\n",
      " 4.0212386  3.95840674 3.89557489 3.83274304 3.76991118 3.70707933\n",
      " 3.64424748 3.58141563 3.51858377 3.45575192 3.39292007 3.33008821\n",
      " 3.26725636 3.20442451 3.14159265 3.0787608  3.01592895 2.95309709\n",
      " 2.89026524 2.82743339 2.76460154 2.70176968 2.63893783 2.57610598\n",
      " 2.51327412 2.45044227 2.38761042 2.32477856 2.26194671 2.19911486\n",
      " 2.136283   2.07345115 2.0106193  1.94778745 1.88495559 1.82212374\n",
      " 1.75929189 1.69646003 1.63362818 1.57079633 1.50796447 1.44513262\n",
      " 1.38230077 1.31946891 1.25663706 1.19380521 1.13097336 1.0681415\n",
      " 1.00530965 0.9424778  0.87964594 0.81681409 0.75398224 0.69115038\n",
      " 0.62831853 0.56548668 0.50265482 0.43982297 0.37699112 0.31415927\n",
      " 0.25132741 0.18849556 0.12566371 0.06283185 0.        ]\n",
      "\n",
      "The elements extracted where the |sin(x) - cos(x)| < 0.1 are \n",
      "[0.75398224 0.81681409 3.89557489 3.95840674]\n",
      "\n"
     ]
    },
    {
     "data": {
      "text/plain": [
       "[<matplotlib.lines.Line2D at 0x2184c5e1780>]"
      ]
     },
     "execution_count": 7,
     "metadata": {},
     "output_type": "execute_result"
    },
    {
     "data": {
      "image/png": "[encoded data removed]",
      "text/plain": [
       "<Figure size 432x288 with 1 Axes>"
      ]
     },
     "metadata": {
      "needs_background": "light"
     },
     "output_type": "display_data"
    }
   ],
   "source": [
    "array_lin = np.linspace(0, 2*np.pi, 101)\n",
    "\n",
    "#1\n",
    "print(f'The elements extracted every the 10th elements (10th, 20th, 30th, ...) are \\n{array_lin[9:array_lin.shape[0]:10]}\\n')\n",
    "\n",
    "#2 \n",
    "print(f'The reversed array is \\n{array_lin[::-1]}\\n')\n",
    "\n",
    "#3\n",
    "array_sin = np.sin(array_lin)\n",
    "array_cos = np.cos(array_lin)\n",
    "mask = [np.absolute(array_sin - array_cos) < 0.1]\n",
    "print(f'The elements extracted where the |sin(x) - cos(x)| < 0.1 are \\n{array_lin[tuple(mask)]}\\n')\n",
    "\n",
    "#optional\n",
    "plt.plot(array_lin, array_sin)\n",
    "plt.plot(array_lin, array_cos)\n",
    "\n",
    "idx = np.argwhere(np.diff(np.sign(array_sin - array_cos))).flatten()\n",
    "plt.plot(array_lin[idx], array_cos[idx], '*', ms=10)"
   ]
  },
  {
   "cell_type": "markdown",
   "metadata": {},
   "source": [
    "5\\. Create a matrix that shows the 10 by 10 multiplication table.\n",
    "\n",
    " * Find the trace of the matrix\n",
    " * Extract the anti-diagonal matrix (this should be ```array([10, 18, 24, 28, 30, 30, 28, 24, 18, 10])```)\n",
    " * Extract the diagonal offset by 1 upwards (this should be ```array([ 2,  6, 12, 20, 30, 42, 56, 72, 90])```)"
   ]
  },
  {
   "cell_type": "code",
   "execution_count": 8,
   "metadata": {},
   "outputs": [
    {
     "name": "stdout",
     "output_type": "stream",
     "text": [
      "The 10x10 multiplication table is \n",
      "[[  1   2   3   4   5   6   7   8   9  10]\n",
      " [  2   4   6   8  10  12  14  16  18  20]\n",
      " [  3   6   9  12  15  18  21  24  27  30]\n",
      " [  4   8  12  16  20  24  28  32  36  40]\n",
      " [  5  10  15  20  25  30  35  40  45  50]\n",
      " [  6  12  18  24  30  36  42  48  54  60]\n",
      " [  7  14  21  28  35  42  49  56  63  70]\n",
      " [  8  16  24  32  40  48  56  64  72  80]\n",
      " [  9  18  27  36  45  54  63  72  81  90]\n",
      " [ 10  20  30  40  50  60  70  80  90 100]]\n",
      "\n",
      "The trace of the matrix is 385\n",
      "\n",
      "The anti-diagonal is [10 18 24 28 30 30 28 24 18 10]\n",
      "\n",
      "The diagonal offset by 1 upwards is [ 2  6 12 20 30 42 56 72 90]\n",
      "\n"
     ]
    }
   ],
   "source": [
    "table = np.array([x*y for x in range(1,11) for y in range(1,11)]).reshape(10,10)\n",
    "print(f'The 10x10 multiplication table is \\n{table}\\n')\n",
    "\n",
    "# 1\n",
    "print(f'The trace of the matrix is {np.trace(table)}\\n')\n",
    "\n",
    "# 2\n",
    "flipped_mat =  np.fliplr(table)\n",
    "print(f'The anti-diagonal is {np.diag(flipped_mat)}\\n')\n",
    "\n",
    "# 3\n",
    "print(f'The diagonal offset by 1 upwards is {np.diag(table, k = 1)}\\n')"
   ]
  },
  {
   "cell_type": "markdown",
   "metadata": {},
   "source": [
    "6\\. Use broadcasting to create a grid of distances.\n",
    "\n",
    "Route 66 crosses the following cities in the US: Chicago, Springfield, Saint-Louis, Tulsa, Oklahoma City, Amarillo, Santa Fe, Albuquerque, Flagstaff, Los Angeles\n",
    "The corresponding positions in miles are: 0, 198, 303, 736, 871, 1175, 1475, 1544, 1913, 2448\n",
    "\n",
    "  * Build a 2D grid of distances among each city along Route 66\n",
    "  * Convert the distances in km"
   ]
  },
  {
   "cell_type": "code",
   "execution_count": 9,
   "metadata": {},
   "outputs": [
    {
     "name": "stdout",
     "output_type": "stream",
     "text": [
      "The 2D grid of distances in miles is \n",
      "[[   0  198  303  736  871 1175 1475 1544 1913 2448]\n",
      " [ 198    0  105  538  673  977 1277 1346 1715 2250]\n",
      " [ 303  105    0  433  568  872 1172 1241 1610 2145]\n",
      " [ 736  538  433    0  135  439  739  808 1177 1712]\n",
      " [ 871  673  568  135    0  304  604  673 1042 1577]\n",
      " [1175  977  872  439  304    0  300  369  738 1273]\n",
      " [1475 1277 1172  739  604  300    0   69  438  973]\n",
      " [1544 1346 1241  808  673  369   69    0  369  904]\n",
      " [1913 1715 1610 1177 1042  738  438  369    0  535]\n",
      " [2448 2250 2145 1712 1577 1273  973  904  535    0]]\n",
      "\n",
      "The 2D grid of distances in km is \n",
      "[[   0.    318.65  487.63 1184.47 1401.74 1890.97 2373.78 2484.82 3078.67\n",
      "  3939.66]\n",
      " [ 318.65    0.    168.98  865.82 1083.09 1572.33 2055.13 2166.17 2760.02\n",
      "  3621.02]\n",
      " [ 487.63  168.98    0.    696.84  914.11 1403.34 1886.15 1997.19 2591.04\n",
      "  3452.03]\n",
      " [1184.47  865.82  696.84    0.    217.26  706.5  1189.3  1300.35 1894.19\n",
      "  2755.19]\n",
      " [1401.74 1083.09  914.11  217.26    0.    489.24  972.04 1083.09 1676.93\n",
      "  2537.93]\n",
      " [1890.97 1572.33 1403.34  706.5   489.24    0.    482.8   593.85 1187.69\n",
      "  2048.69]\n",
      " [2373.78 2055.13 1886.15 1189.3   972.04  482.8     0.    111.04  704.89\n",
      "  1565.89]\n",
      " [2484.82 2166.17 1997.19 1300.35 1083.09  593.85  111.04    0.    593.85\n",
      "  1454.84]\n",
      " [3078.67 2760.02 2591.04 1894.19 1676.93 1187.69  704.89  593.85    0.\n",
      "   861.  ]\n",
      " [3939.66 3621.02 3452.03 2755.19 2537.93 2048.69 1565.89 1454.84  861.\n",
      "     0.  ]]\n"
     ]
    }
   ],
   "source": [
    "# 1\n",
    "distances = np.array([0, 198, 303, 736, 871, 1175, 1475, 1544, 1913, 2448])\n",
    "distances = np.abs(distances - distances[:, np.newaxis])\n",
    "print(f'The 2D grid of distances in miles is \\n{distances}\\n')\n",
    "\n",
    "# 2\n",
    "distances_km = distances*1.60934\n",
    "print(f'The 2D grid of distances in km is \\n{np.round(distances_km,2)}')"
   ]
  },
  {
   "cell_type": "markdown",
   "metadata": {},
   "source": [
    "7\\. Prime numbers sieve: compute the prime numbers in the 0-N (start with N=99) range with a sieve (mask).\n",
    "  * Check the performances (timeit); how does it scale with N?\n",
    "  * Implement the optimization suggested in the [sieve of Eratosthenes](https://en.wikipedia.org/wiki/Sieve_of_Eratosthenes)"
   ]
  },
  {
   "cell_type": "code",
   "execution_count": 10,
   "metadata": {},
   "outputs": [
    {
     "name": "stdout",
     "output_type": "stream",
     "text": [
      "The prime numbers in the 0-99 interval are \n",
      "[ 2  3  5  7 11 13 17 19 23 29 31 37 41 43 47 53 59 61 67 71 73 79 83 89\n",
      " 97]\n",
      "The required time for N = 99 is\n",
      "433 µs ± 38.2 µs per loop (mean ± std. dev. of 7 runs, 1000 loops each)\n",
      " \n",
      "The required time for N = 198 is\n",
      "930 µs ± 15.2 µs per loop (mean ± std. dev. of 7 runs, 1000 loops each)\n",
      " \n",
      "The required time for N = 396 is\n",
      "2.07 ms ± 30.1 µs per loop (mean ± std. dev. of 7 runs, 100 loops each)\n",
      " \n",
      "The required time for N = 792 is\n",
      "5.52 ms ± 709 µs per loop (mean ± std. dev. of 7 runs, 100 loops each)\n",
      " \n",
      "The required time for N = 1584 is\n",
      "13.5 ms ± 67.5 µs per loop (mean ± std. dev. of 7 runs, 100 loops each)\n",
      " \n",
      "The required time for N = 3168 is\n",
      "42.9 ms ± 5.62 ms per loop (mean ± std. dev. of 7 runs, 10 loops each)\n",
      " \n",
      "The required time for N = 6336 is\n",
      "126 ms ± 334 µs per loop (mean ± std. dev. of 7 runs, 10 loops each)\n",
      " \n",
      "The required time for N = 12672 is\n",
      "414 ms ± 2.41 ms per loop (mean ± std. dev. of 7 runs, 1 loop each)\n",
      " \n",
      "The required time for N = 25344 is\n",
      "1.47 s ± 82.1 ms per loop (mean ± std. dev. of 7 runs, 1 loop each)\n",
      " \n",
      "The required time for N = 50688 is\n",
      "5.29 s ± 167 ms per loop (mean ± std. dev. of 7 runs, 1 loop each)\n",
      " \n",
      "The required time for N = 101376 is\n",
      "19.8 s ± 1.86 s per loop (mean ± std. dev. of 7 runs, 1 loop each)\n",
      " \n"
     ]
    }
   ],
   "source": [
    "# 1\n",
    "N = 99\n",
    "def number_sieve(N):\n",
    "    array = np.arange(2,N+1)\n",
    "    count = 0\n",
    "    for i in range(2, N):\n",
    "        mask = (array % i != 0 )\n",
    "        if not (all(mask == True)):\n",
    "            mask[count] = True\n",
    "            array = array[mask]\n",
    "            count = count+1\n",
    "    return array\n",
    "\n",
    "array_val = number_sieve(N)\n",
    "print(f'The prime numbers in the 0-{N} interval are \\n{array_val}')\n",
    "\n",
    "\n",
    "for i in range(1,12):\n",
    "    print(f'The required time for N = {N} is')\n",
    "    %timeit number_sieve(N)\n",
    "    print(' ')\n",
    "    N = N*2"
   ]
  },
  {
   "cell_type": "code",
   "execution_count": 11,
   "metadata": {},
   "outputs": [
    {
     "name": "stdout",
     "output_type": "stream",
     "text": [
      "The time to find all the prime numbers in a 0-N interval increase as N increases\n",
      "With small N, like 99, the code takes time in the order of μs.\n",
      "If N is doubled, the times approximately doubled as well\n",
      "Continuing to double, the requested time is in the order of ms.\n",
      "Here a doubling of N, request a time which is higher than the double of the previous time step\n",
      "After the 8-th doubling, the code request time in the order of seconds\n",
      "Here doubling the interval corresponds to a running time 4 times higher (more or less)\n"
     ]
    }
   ],
   "source": [
    "print('The time to find all the prime numbers in a 0-N interval increase as N increases')\n",
    "print('With small N, like 99, the code takes time in the order of \\u03BCs.')\n",
    "print('If N is doubled, the times approximately doubled as well')\n",
    "print('Continuing to double, the requested time is in the order of ms.')\n",
    "print('Here a doubling of N, request a time which is higher than the double of the previous time step')\n",
    "print('After the 8-th doubling, the code request time in the order of seconds')\n",
    "print('Here doubling the interval corresponds to a running time 4 times higher (more or less)')"
   ]
  },
  {
   "cell_type": "code",
   "execution_count": 12,
   "metadata": {},
   "outputs": [
    {
     "name": "stdout",
     "output_type": "stream",
     "text": [
      "The prime numbers in the 0-99 interval using the sieve of Eratosthenes are \n",
      "[ 2  3  5  7 11 13 17 19 23 29 31 37 41 43 47 53 59 61 67 71 73 79 83 89\n",
      " 97]\n"
     ]
    }
   ],
   "source": [
    "# 2\n",
    "N = 99\n",
    "array = np.arange(N)\n",
    "prime_num = [True for i in range(N)]\n",
    "prime_num[0] = False\n",
    "prime_num[1] = False\n",
    "\n",
    "for i in range(2,int(round(np.sqrt(N)-1))):\n",
    "    if prime_num[i] == True:\n",
    "        for j in range(i**2, N, i): \n",
    "            prime_num[j] = False\n",
    "            \n",
    "print(f'The prime numbers in the 0-{N} interval using the sieve of Eratosthenes are \\n{array[prime_num]}')          "
   ]
  },
  {
   "cell_type": "code",
   "execution_count": null,
   "metadata": {},
   "outputs": [],
   "source": []
  }
 ],
 "metadata": {
  "kernelspec": {
   "display_name": "Python 3",
   "language": "python",
   "name": "python3"
  },
  "language_info": {
   "codemirror_mode": {
    "name": "ipython",
    "version": 3
   },
   "file_extension": ".py",
   "mimetype": "text/x-python",
   "name": "python",
   "nbconvert_exporter": "python",
   "pygments_lexer": "ipython3",
   "version": "3.7.3"
  }
 },
 "nbformat": 4,
 "nbformat_minor": 2
}
