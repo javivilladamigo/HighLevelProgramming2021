{
 "cells": [
  {
   "cell_type": "markdown",
   "metadata": {},
   "source": [
    "### 1\\. Means\n",
    "Find the total mean, and the mean for each row and column of the following matrix:\n",
    "\n",
    "```python\n",
    "m = np.arange(12).reshape((3,4))\n",
    "```"
   ]
  },
  {
   "cell_type": "code",
   "execution_count": 1,
   "metadata": {},
   "outputs": [
    {
     "name": "stdout",
     "output_type": "stream",
     "text": [
      "Total mean (element-wise): 5.5\n",
      "Mean along rows:  [1.5 5.5 9.5]\n",
      "Mean along columns:  [4. 5. 6. 7.]\n"
     ]
    }
   ],
   "source": [
    "import numpy as np\n",
    "m = np.arange(12).reshape((3,4))\n",
    "\n",
    "print(\"Total mean (element-wise):\", m.mean())\n",
    "print(\"Mean along rows: \",m.mean(axis=1))\n",
    "print(\"Mean along columns: \",m.mean(axis=0))"
   ]
  },
  {
   "cell_type": "markdown",
   "metadata": {},
   "source": [
    "### 2\\. Outer product\n",
    "Find the outer product of the following vectors:\n",
    "\n",
    "```python\n",
    "u = np.array([1, 3, 5, 7])\n",
    "v = np.array([2, 4, 6, 8])\n",
    "```\n",
    "\n",
    "Use different methods to do this:\n",
    "\n",
    "   1. Using the function `outer` in numpy\n",
    "   2. Using a nested `for` loop or a list comprehension\n",
    "   3. Using numpy broadcasting operations"
   ]
  },
  {
   "cell_type": "code",
   "execution_count": 6,
   "metadata": {},
   "outputs": [
    {
     "name": "stdout",
     "output_type": "stream",
     "text": [
      "Outer product with .outer():\n",
      " [[ 2  4  6  8]\n",
      " [ 6 12 18 24]\n",
      " [10 20 30 40]\n",
      " [14 28 42 56]]\n",
      "Outer product with list comprehensions:\n",
      " [[ 2  4  6  8]\n",
      " [ 6 12 18 24]\n",
      " [10 20 30 40]\n",
      " [14 28 42 56]]\n",
      "Outer product with broadcast:\n",
      " [[ 2  6 10 14]\n",
      " [ 4 12 20 28]\n",
      " [ 6 18 30 42]\n",
      " [ 8 24 40 56]]\n"
     ]
    }
   ],
   "source": [
    "import numpy as np\n",
    "u = np.array([1, 3, 5, 7])\n",
    "v = np.array([2, 4, 6, 8])\n",
    "\n",
    "print(\"Outer product with .outer():\\n\",np.outer(u,v))\n",
    "\n",
    "p2=np.array([i*j for i in u for j in v]).reshape(4,4)\n",
    "print(\"Outer product with list comprehensions:\\n\",p2)\n",
    "\n",
    "\n",
    "#Outer product is always the product between element i and j at each position\n",
    "p3=np.tile(u, (4,1)) * np.tile(v, (4,1)).T\n",
    "print(\"Outer product with broadcast:\\n\",p3)"
   ]
  },
  {
   "cell_type": "markdown",
   "metadata": {},
   "source": [
    "### 3\\. Fancy Indexing\n",
    "Create a 10 by 6 matrix of increasing float numbers, starting from zero and increasing in each step by 0.1, so the output matrix looks like the following:\n",
    "\n",
    "```python\n",
    "m = [[0. 0.1, 0.2 0.3 ... 0.9]\n",
    "     [1.0 1.1 1.2 1.3 ... 1.9]\n",
    "     ...\n",
    "     [5.0 5.1 5.2 5.3 ... 5.9]]\n",
    "```\n",
    "After creating the matrix, set all entries with a decimal part $< 0.4$ to zero."
   ]
  },
  {
   "cell_type": "code",
   "execution_count": 1,
   "metadata": {},
   "outputs": [
    {
     "name": "stdout",
     "output_type": "stream",
     "text": [
      "[[0.  0.  0.  0.  0.4 0.5 0.6 0.7 0.8 0.9]\n",
      " [0.  0.  0.  0.  1.4 1.5 1.6 1.7 1.8 1.9]\n",
      " [0.  0.  0.  0.  2.4 2.5 2.6 2.7 2.8 2.9]\n",
      " [0.  0.  0.  0.  3.4 3.5 3.6 3.7 3.8 3.9]\n",
      " [0.  0.  0.  0.  4.4 4.5 4.6 4.7 4.8 4.9]\n",
      " [0.  0.  0.  0.  5.4 5.5 5.6 5.7 5.8 5.9]]\n"
     ]
    }
   ],
   "source": [
    "import numpy as np\n",
    "m=np.arange(0,6,0.1).reshape(6,10)\n",
    "m[m%1<0.4]=0\n",
    "print(m)"
   ]
  },
  {
   "cell_type": "markdown",
   "metadata": {},
   "source": [
    "### 4\\. Linspace and fancy indexing\n",
    "Use `np.linspace` to create an array of 100 numbers between 0 and 2π (inclusive).\n",
    "\n",
    "  * Extract every 10th element using the slice notation\n",
    "  * Reverse the array using the slice notation\n",
    "  * Extract elements where the absolute difference between the sin and cos functions evaluated for that element is $< 0.1$\n",
    "  * **Optional**: make a plot showing the sin and cos functions and indicate where they are close"
   ]
  },
  {
   "cell_type": "code",
   "execution_count": 22,
   "metadata": {},
   "outputs": [
    {
     "name": "stdout",
     "output_type": "stream",
     "text": [
      "Extract one every 10 elements:\n",
      " [0.         0.63466518 1.26933037 1.90399555 2.53866073 3.17332591\n",
      " 3.8079911  4.44265628 5.07732146 5.71198664]\n",
      "Reverse extracted array:\n",
      " [6.28318531 6.21971879 6.15625227 6.09278575 6.02931923 5.96585272\n",
      " 5.9023862  5.83891968 5.77545316 5.71198664 5.64852012 5.58505361\n",
      " 5.52158709 5.45812057 5.39465405 5.33118753 5.26772102 5.2042545\n",
      " 5.14078798 5.07732146 5.01385494 4.95038842 4.88692191 4.82345539\n",
      " 4.75998887 4.69652235 4.63305583 4.56958931 4.5061228  4.44265628\n",
      " 4.37918976 4.31572324 4.25225672 4.1887902  4.12532369 4.06185717\n",
      " 3.99839065 3.93492413 3.87145761 3.8079911  3.74452458 3.68105806\n",
      " 3.61759154 3.55412502 3.4906585  3.42719199 3.36372547 3.30025895\n",
      " 3.23679243 3.17332591 3.10985939 3.04639288 2.98292636 2.91945984\n",
      " 2.85599332 2.7925268  2.72906028 2.66559377 2.60212725 2.53866073\n",
      " 2.47519421 2.41172769 2.34826118 2.28479466 2.22132814 2.15786162\n",
      " 2.0943951  2.03092858 1.96746207 1.90399555 1.84052903 1.77706251\n",
      " 1.71359599 1.65012947 1.58666296 1.52319644 1.45972992 1.3962634\n",
      " 1.33279688 1.26933037 1.20586385 1.14239733 1.07893081 1.01546429\n",
      " 0.95199777 0.88853126 0.82506474 0.76159822 0.6981317  0.63466518\n",
      " 0.57119866 0.50773215 0.44426563 0.38079911 0.31733259 0.25386607\n",
      " 0.19039955 0.12693304 0.06346652 0.        ]\n",
      "Extract if sin-cos <1:\n",
      " [0.76159822 0.82506474 3.87145761 3.93492413]\n",
      "Ranges where the difference between sin and cos is lower than 0.1 are highlighted in red\n"
     ]
    },
    {
     "data": {
      "text/plain": [
       "[<matplotlib.lines.Line2D at 0x109d33a00>,\n",
       " <matplotlib.lines.Line2D at 0x114359120>,\n",
       " <matplotlib.lines.Line2D at 0x1111c1db0>,\n",
       " <matplotlib.lines.Line2D at 0x1143111b0>]"
      ]
     },
     "execution_count": 22,
     "metadata": {},
     "output_type": "execute_result"
    },
    {
     "data": {
      "image/png": "[encoded data removed]",
      "text/plain": [
       "<Figure size 432x288 with 1 Axes>"
      ]
     },
     "metadata": {
      "needs_background": "light"
     },
     "output_type": "display_data"
    }
   ],
   "source": [
    "import numpy as np\n",
    "from math import pi\n",
    "import matplotlib.pyplot as plt\n",
    "p = np.linspace(0, 2*pi, 100)\n",
    "\n",
    "print(\"Extract one every 10 elements:\\n\",p[::10])\n",
    "print(\"Reverse extracted array:\\n\",p[::-1])\n",
    "\n",
    "x=p[abs(np.sin(p)-np.cos(p))<0.1]\n",
    "print(\"Extract if sin-cos <1:\\n\",x)\n",
    "\n",
    "plt.plot(p, np.sin(p), label=\"sin\")\n",
    "plt.plot(p, np.cos(p), label=\"cos\")\n",
    "\n",
    "print(\"Ranges where the difference between sin and cos is lower than 0.1 are highlighted in blue\")\n",
    "[plt.axvline(i, color=\"blue\") for i in x]"
   ]
  },
  {
   "cell_type": "markdown",
   "metadata": {},
   "source": [
    "### 5\\. Trace and diagonals of matrix\n",
    "Create a matrix that shows the 10 by 10 multiplication table.\n",
    "\n",
    " * Find the trace of the matrix\n",
    " * Extract the anti-diagonal matrix (this should be ```array([10, 18, 24, 28, 30, 30, 28, 24, 18, 10])```)\n",
    " * Extract the diagonal offset by 1 upwards (this should be ```array([ 2,  6, 12, 20, 30, 42, 56, 72, 90])```)"
   ]
  },
  {
   "cell_type": "code",
   "execution_count": 2,
   "metadata": {},
   "outputs": [
    {
     "name": "stdout",
     "output_type": "stream",
     "text": [
      "Trace with trace function: 385\n",
      "Trace with sum of diagonal: 385\n",
      "Diagonal with offset +1: [ 2  6 12 20 30 42 56 72 90]\n",
      "Anti-diagonal: [10 18 24 28 30 30 28 24 18 10]\n"
     ]
    }
   ],
   "source": [
    "import numpy as np\n",
    "t = np.outer(np.arange(1,11),np.arange(1,11))\n",
    "\n",
    "#With fancy indexing\n",
    "# t.diagonal() <=> t[range(10), range(10)]\n",
    "# t.diagonal(offset=1) <=> t[range(9), range(1,10)]\n",
    "# np.fliplr(t).diag() <=> t[range(9,-1,-1), range(10)]\n",
    "\n",
    "#Trace\n",
    "print(\"Trace with trace function:\", t.trace() )\n",
    "print(\"Trace with sum of diagonal:\",t.diagonal().sum() )\n",
    "\n",
    "print(\"Diagonal with offset +1:\", t.diagonal(offset=1) ) \n",
    "print(\"Anti-diagonal:\",np.fliplr(t).diagonal())\n"
   ]
  },
  {
   "cell_type": "markdown",
   "metadata": {},
   "source": [
    "### 6\\. Route 66 grid of distances\n",
    "\n",
    "Use broadcasting to create a grid of distances.\n",
    "\n",
    "Route 66 crosses the following cities in the US: Chicago, Springfield, Saint-Louis, Tulsa, Oklahoma City, Amarillo, Santa Fe, Albuquerque, Flagstaff, Los Angeles\n",
    "The corresponding positions in miles are: 0, 198, 303, 736, 871, 1175, 1475, 1544, 1913, 2448\n",
    "\n",
    "  * Build a 2D grid of distances among each city along Route 66\n",
    "  * Convert the distances in km"
   ]
  },
  {
   "cell_type": "code",
   "execution_count": 6,
   "metadata": {},
   "outputs": [
    {
     "name": "stdout",
     "output_type": "stream",
     "text": [
      "Grid of distances (km)\n"
     ]
    },
    {
     "data": {
      "text/html": [
       "<div>\n",
       "<style scoped>\n",
       "    .dataframe tbody tr th:only-of-type {\n",
       "        vertical-align: middle;\n",
       "    }\n",
       "\n",
       "    .dataframe tbody tr th {\n",
       "        vertical-align: top;\n",
       "    }\n",
       "\n",
       "    .dataframe thead th {\n",
       "        text-align: right;\n",
       "    }\n",
       "</style>\n",
       "<table border=\"1\" class=\"dataframe\">\n",
       "  <thead>\n",
       "    <tr style=\"text-align: right;\">\n",
       "      <th></th>\n",
       "      <th>Chicago</th>\n",
       "      <th>Springfield</th>\n",
       "      <th>Saint-Louis</th>\n",
       "      <th>Tulsa</th>\n",
       "      <th>Oklahoma City</th>\n",
       "      <th>Amarillo</th>\n",
       "      <th>Santa Fe</th>\n",
       "      <th>Albuquerque</th>\n",
       "      <th>Flagstaff</th>\n",
       "      <th>Los Angeles</th>\n",
       "    </tr>\n",
       "  </thead>\n",
       "  <tbody>\n",
       "    <tr>\n",
       "      <th>Chicago</th>\n",
       "      <td>0.0</td>\n",
       "      <td>316.8</td>\n",
       "      <td>484.8</td>\n",
       "      <td>1177.6</td>\n",
       "      <td>1393.6</td>\n",
       "      <td>1880.0</td>\n",
       "      <td>2360.0</td>\n",
       "      <td>2470.4</td>\n",
       "      <td>3060.8</td>\n",
       "      <td>3916.8</td>\n",
       "    </tr>\n",
       "    <tr>\n",
       "      <th>Springfield</th>\n",
       "      <td>316.8</td>\n",
       "      <td>0.0</td>\n",
       "      <td>168.0</td>\n",
       "      <td>860.8</td>\n",
       "      <td>1076.8</td>\n",
       "      <td>1563.2</td>\n",
       "      <td>2043.2</td>\n",
       "      <td>2153.6</td>\n",
       "      <td>2744.0</td>\n",
       "      <td>3600.0</td>\n",
       "    </tr>\n",
       "    <tr>\n",
       "      <th>Saint-Louis</th>\n",
       "      <td>484.8</td>\n",
       "      <td>168.0</td>\n",
       "      <td>0.0</td>\n",
       "      <td>692.8</td>\n",
       "      <td>908.8</td>\n",
       "      <td>1395.2</td>\n",
       "      <td>1875.2</td>\n",
       "      <td>1985.6</td>\n",
       "      <td>2576.0</td>\n",
       "      <td>3432.0</td>\n",
       "    </tr>\n",
       "    <tr>\n",
       "      <th>Tulsa</th>\n",
       "      <td>1177.6</td>\n",
       "      <td>860.8</td>\n",
       "      <td>692.8</td>\n",
       "      <td>0.0</td>\n",
       "      <td>216.0</td>\n",
       "      <td>702.4</td>\n",
       "      <td>1182.4</td>\n",
       "      <td>1292.8</td>\n",
       "      <td>1883.2</td>\n",
       "      <td>2739.2</td>\n",
       "    </tr>\n",
       "    <tr>\n",
       "      <th>Oklahoma City</th>\n",
       "      <td>1393.6</td>\n",
       "      <td>1076.8</td>\n",
       "      <td>908.8</td>\n",
       "      <td>216.0</td>\n",
       "      <td>0.0</td>\n",
       "      <td>486.4</td>\n",
       "      <td>966.4</td>\n",
       "      <td>1076.8</td>\n",
       "      <td>1667.2</td>\n",
       "      <td>2523.2</td>\n",
       "    </tr>\n",
       "    <tr>\n",
       "      <th>Amarillo</th>\n",
       "      <td>1880.0</td>\n",
       "      <td>1563.2</td>\n",
       "      <td>1395.2</td>\n",
       "      <td>702.4</td>\n",
       "      <td>486.4</td>\n",
       "      <td>0.0</td>\n",
       "      <td>480.0</td>\n",
       "      <td>590.4</td>\n",
       "      <td>1180.8</td>\n",
       "      <td>2036.8</td>\n",
       "    </tr>\n",
       "    <tr>\n",
       "      <th>Santa Fe</th>\n",
       "      <td>2360.0</td>\n",
       "      <td>2043.2</td>\n",
       "      <td>1875.2</td>\n",
       "      <td>1182.4</td>\n",
       "      <td>966.4</td>\n",
       "      <td>480.0</td>\n",
       "      <td>0.0</td>\n",
       "      <td>110.4</td>\n",
       "      <td>700.8</td>\n",
       "      <td>1556.8</td>\n",
       "    </tr>\n",
       "    <tr>\n",
       "      <th>Albuquerque</th>\n",
       "      <td>2470.4</td>\n",
       "      <td>2153.6</td>\n",
       "      <td>1985.6</td>\n",
       "      <td>1292.8</td>\n",
       "      <td>1076.8</td>\n",
       "      <td>590.4</td>\n",
       "      <td>110.4</td>\n",
       "      <td>0.0</td>\n",
       "      <td>590.4</td>\n",
       "      <td>1446.4</td>\n",
       "    </tr>\n",
       "    <tr>\n",
       "      <th>Flagstaff</th>\n",
       "      <td>3060.8</td>\n",
       "      <td>2744.0</td>\n",
       "      <td>2576.0</td>\n",
       "      <td>1883.2</td>\n",
       "      <td>1667.2</td>\n",
       "      <td>1180.8</td>\n",
       "      <td>700.8</td>\n",
       "      <td>590.4</td>\n",
       "      <td>0.0</td>\n",
       "      <td>856.0</td>\n",
       "    </tr>\n",
       "    <tr>\n",
       "      <th>Los Angeles</th>\n",
       "      <td>3916.8</td>\n",
       "      <td>3600.0</td>\n",
       "      <td>3432.0</td>\n",
       "      <td>2739.2</td>\n",
       "      <td>2523.2</td>\n",
       "      <td>2036.8</td>\n",
       "      <td>1556.8</td>\n",
       "      <td>1446.4</td>\n",
       "      <td>856.0</td>\n",
       "      <td>0.0</td>\n",
       "    </tr>\n",
       "  </tbody>\n",
       "</table>\n",
       "</div>"
      ],
      "text/plain": [
       "               Chicago  Springfield  Saint-Louis   Tulsa  Oklahoma City  \\\n",
       "Chicago            0.0        316.8        484.8  1177.6         1393.6   \n",
       "Springfield      316.8          0.0        168.0   860.8         1076.8   \n",
       "Saint-Louis      484.8        168.0          0.0   692.8          908.8   \n",
       "Tulsa           1177.6        860.8        692.8     0.0          216.0   \n",
       "Oklahoma City   1393.6       1076.8        908.8   216.0            0.0   \n",
       "Amarillo        1880.0       1563.2       1395.2   702.4          486.4   \n",
       "Santa Fe        2360.0       2043.2       1875.2  1182.4          966.4   \n",
       "Albuquerque     2470.4       2153.6       1985.6  1292.8         1076.8   \n",
       "Flagstaff       3060.8       2744.0       2576.0  1883.2         1667.2   \n",
       "Los Angeles     3916.8       3600.0       3432.0  2739.2         2523.2   \n",
       "\n",
       "               Amarillo  Santa Fe  Albuquerque  Flagstaff  Los Angeles  \n",
       "Chicago          1880.0    2360.0       2470.4     3060.8       3916.8  \n",
       "Springfield      1563.2    2043.2       2153.6     2744.0       3600.0  \n",
       "Saint-Louis      1395.2    1875.2       1985.6     2576.0       3432.0  \n",
       "Tulsa             702.4    1182.4       1292.8     1883.2       2739.2  \n",
       "Oklahoma City     486.4     966.4       1076.8     1667.2       2523.2  \n",
       "Amarillo            0.0     480.0        590.4     1180.8       2036.8  \n",
       "Santa Fe          480.0       0.0        110.4      700.8       1556.8  \n",
       "Albuquerque       590.4     110.4          0.0      590.4       1446.4  \n",
       "Flagstaff        1180.8     700.8        590.4        0.0        856.0  \n",
       "Los Angeles      2036.8    1556.8       1446.4      856.0          0.0  "
      ]
     },
     "execution_count": 6,
     "metadata": {},
     "output_type": "execute_result"
    }
   ],
   "source": [
    "import numpy as np\n",
    "import pandas as pd\n",
    "\n",
    "city=dict(zip([\"Chicago\", \"Springfield\", \"Saint-Louis\", \"Tulsa\", \"Oklahoma City\", \"Amarillo\", \"Santa Fe\", \"Albuquerque\", \"Flagstaff\", \"Los Angeles\"],[0, 198, 303, 736, 871, 1175, 1475, 1544, 1913, 2448]))\n",
    "\n",
    "d = np.array([abs(i-j) for i in city.values() for j in city.values()]).reshape(len(city),len(city))\n",
    "\n",
    "print(\"Grid of distances (km)\")\n",
    "pd.DataFrame(d*1.6, index=city, columns=city)\n"
   ]
  },
  {
   "cell_type": "markdown",
   "metadata": {},
   "source": [
    "### 7\\. Prime number sieve\n",
    "Prime numbers sieve: compute the prime numbers in the 0-N (start with N=99) range with a sieve (mask).\n",
    "  * Check the performances (timeit); how does it scale with N?\n",
    "  * Implement the optimization suggested in the [sieve of Eratosthenes](https://en.wikipedia.org/wiki/Sieve_of_Eratosthenes)"
   ]
  },
  {
   "cell_type": "code",
   "execution_count": 7,
   "metadata": {},
   "outputs": [
    {
     "name": "stdout",
     "output_type": "stream",
     "text": [
      "Prime numbers up to 99 [ 2  3  5  7 11 13 17 19 23 29 31 37 41 43 47 53 59 61 67 71 73 79 83 89\n",
      " 97]\n"
     ]
    },
    {
     "data": {
      "text/plain": [
       "Text(0.5, 0, 'Prime numbers range')"
      ]
     },
     "execution_count": 7,
     "metadata": {},
     "output_type": "execute_result"
    },
    {
     "data": {
      "image/png": "[encoded data removed]",
      "text/plain": [
       "<Figure size 432x288 with 1 Axes>"
      ]
     },
     "metadata": {
      "needs_background": "light"
     },
     "output_type": "display_data"
    }
   ],
   "source": [
    "import numpy as np\n",
    "import math as m\n",
    "import time\n",
    "import matplotlib.pyplot as plt\n",
    "\n",
    "def prime_sieve(N):\n",
    "    n = np.arange(2,N+1)\n",
    "    #From wikipedia, check up to sqrt(N)\n",
    "    for i in range(2,round(m.sqrt(N))+1):\n",
    "        n= n[ np.logical_or(n % i !=0, n / i ==1) ]\n",
    "    return(n)\n",
    "    \n",
    "print(\"Prime numbers up to 99\", prime_sieve(99))\n",
    "\n",
    "exe_time=[]\n",
    "n_range=range(100,20000,100)\n",
    "for i in n_range:\n",
    "    #Standard instruction for time \n",
    "    #%timeit -n 2 -r 10 prime_sieve(i)\n",
    "    start_time = time.time()\n",
    "    prime_sieve(i)\n",
    "    exe_time.append(time.time() - start_time)\n",
    "    \n",
    "plt.plot(n_range, exe_time)\n",
    "plt.ylabel('Execution time [s]')\n",
    "plt.xlabel('Prime numbers range')    "
   ]
  }
 ],
 "metadata": {
  "kernelspec": {
   "display_name": "Python 3 (ipykernel)",
   "language": "python",
   "name": "python3"
  },
  "language_info": {
   "codemirror_mode": {
    "name": "ipython",
    "version": 3
   },
   "file_extension": ".py",
   "mimetype": "text/x-python",
   "name": "python",
   "nbconvert_exporter": "python",
   "pygments_lexer": "ipython3",
   "version": "3.10.0"
  }
 },
 "nbformat": 4,
 "nbformat_minor": 2
}
