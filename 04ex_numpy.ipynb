{
 "cells": [
  {
   "cell_type": "markdown",
   "metadata": {},
   "source": [
    "1\\. Find the total mean, and the mean for each row and column of the following matrix:\n",
    "\n",
    "```python\n",
    "m = np.arange(12).reshape((3,4))\n",
    "```"
   ]
  },
  {
   "cell_type": "code",
   "execution_count": 119,
   "metadata": {},
   "outputs": [
    {
     "name": "stdout",
     "output_type": "stream",
     "text": [
      "[[ 0  1  2  3]\n",
      " [ 4  5  6  7]\n",
      " [ 8  9 10 11]]\n",
      "\n",
      "Mean along the rows: [1.5 5.5 9.5]\n",
      "\n",
      "Mean along the columns: [4. 5. 6. 7.]\n",
      "\n",
      "total mean of whole matrix: 5.5\n"
     ]
    }
   ],
   "source": [
    "import numpy as np \n",
    "\n",
    "m = np.arange(12).reshape((3,4))\n",
    "print(m)\n",
    "row = m.mean(axis=1)\n",
    "col = m.mean(axis=0)\n",
    "\n",
    "print('\\nMean along the rows:', row)\n",
    "print('\\nMean along the columns:', col)\n",
    "print('\\ntotal mean of whole matrix:', np.mean(m))\n"
   ]
  },
  {
   "cell_type": "markdown",
   "metadata": {},
   "source": [
    "2\\. Find the outer product of the following vectors:\n",
    "\n",
    "```python\n",
    "u = np.array([1, 3, 5, 7])\n",
    "v = np.array([2, 4, 6, 8])\n",
    "```\n",
    "\n",
    "Use different methods to do this:\n",
    "\n",
    "   1. Using the function `outer` in numpy\n",
    "   2. Using a nested `for` loop or a list comprehension\n",
    "   3. Using numpy broadcasting operations"
   ]
  },
  {
   "cell_type": "code",
   "execution_count": 117,
   "metadata": {},
   "outputs": [
    {
     "name": "stdout",
     "output_type": "stream",
     "text": [
      "Using the function outer in numpy:\n",
      " [[ 2  4  6  8]\n",
      " [ 6 12 18 24]\n",
      " [10 20 30 40]\n",
      " [14 28 42 56]]\n",
      "\n",
      "Using a nested for loop or a list comprehension:\n",
      " [[ 2  4  6  8]\n",
      " [ 6 12 18 24]\n",
      " [10 20 30 40]\n",
      " [14 28 42 56]]\n",
      "\n",
      "Using numpy broadcasting operations:\n",
      " [[ 2  4  6  8]\n",
      " [ 6 12 18 24]\n",
      " [10 20 30 40]\n",
      " [14 28 42 56]]\n"
     ]
    }
   ],
   "source": [
    "import numpy as np \n",
    "\n",
    "u = np.array([1, 3, 5, 7])\n",
    "v = np.array([2, 4, 6, 8])\n",
    "\n",
    "print('Using the function outer in numpy:\\n',np.outer(u, v, out = None))\n",
    "\n",
    "m = np.array([(i*j) for i in u for j in v]).reshape(4,4)\n",
    "print('\\nUsing a nested for loop or a list comprehension:\\n', m)\n",
    "\n",
    "b = v*u.reshape(4,1)\n",
    "print('\\nUsing numpy broadcasting operations:\\n', b)\n",
    "        "
   ]
  },
  {
   "cell_type": "markdown",
   "metadata": {},
   "source": [
    "3\\. Create a 10 by 6 matrix of increasing float numbers, starting from zero and increasing in each step by 0.1, so the output matrix looks like the following:\n",
    "\n",
    "```python\n",
    "m = [[0. 0.1, 0.2 0.3 ... 0.9]\n",
    "     [1.0 1.1 1.2 1.3 ... 1.9]\n",
    "     ...\n",
    "     [5.0 5.1 5.2 5.3 ... 5.9]]\n",
    "```\n",
    "After creating the matrix, set all entries with a decimal part $< 0.4$ to zero."
   ]
  },
  {
   "cell_type": "code",
   "execution_count": 121,
   "metadata": {},
   "outputs": [
    {
     "name": "stdout",
     "output_type": "stream",
     "text": [
      "Regular matrix:\n",
      " [[0.  0.1 0.2 0.3 0.4 0.5 0.6 0.7 0.8 0.9]\n",
      " [1.  1.1 1.2 1.3 1.4 1.5 1.6 1.7 1.8 1.9]\n",
      " [2.  2.1 2.2 2.3 2.4 2.5 2.6 2.7 2.8 2.9]\n",
      " [3.  3.1 3.2 3.3 3.4 3.5 3.6 3.7 3.8 3.9]\n",
      " [4.  4.1 4.2 4.3 4.4 4.5 4.6 4.7 4.8 4.9]\n",
      " [5.  5.1 5.2 5.3 5.4 5.5 5.6 5.7 5.8 5.9]]\n",
      "\n",
      " Modified matrix:\n",
      " [[0.  0.  0.  0.  0.4 0.5 0.6 0.7 0.8 0.9]\n",
      " [0.  0.  0.  0.  1.4 1.5 1.6 1.7 1.8 1.9]\n",
      " [0.  0.  0.  0.  2.4 2.5 2.6 2.7 2.8 2.9]\n",
      " [0.  0.  0.  0.  3.4 3.5 3.6 3.7 3.8 3.9]\n",
      " [0.  0.  0.  0.  4.4 4.5 4.6 4.7 4.8 4.9]\n",
      " [0.  0.  0.  0.  5.4 5.5 5.6 5.7 5.8 5.9]]\n"
     ]
    }
   ],
   "source": [
    "import numpy as np \n",
    "m = np.arange(0, 6, 0.1).reshape(6, 10)\n",
    "print('Regular matrix:\\n', m)\n",
    "\n",
    "for i in range(6):\n",
    "    for j in range(10):\n",
    "        if i == 0 :\n",
    "            if m[i][j] % (i+1) < 0.4:\n",
    "                m[i][j]=0\n",
    "        elif m[i][j] %i < 0.4:\n",
    "                m[i][j]=0\n",
    "        \n",
    "print('\\n Modified matrix:\\n', m)\n"
   ]
  },
  {
   "cell_type": "markdown",
   "metadata": {},
   "source": [
    "4\\. Use `np.linspace` to create an array of 100 numbers between 0 and 2π (inclusive).\n",
    "\n",
    "  * Extract every 10th element using the slice notation\n",
    "  * Reverse the array using the slice notation\n",
    "  * Extract elements where the absolute difference between the sin and cos functions evaluated for that element is $< 0.1$\n",
    "  * **Optional**: make a plot showing the sin and cos functions and indicate where they are close"
   ]
  },
  {
   "cell_type": "code",
   "execution_count": 122,
   "metadata": {},
   "outputs": [
    {
     "name": "stdout",
     "output_type": "stream",
     "text": [
      "Original array:\n",
      " [0.         0.06343434 0.12686869 0.19030303 0.25373737 0.31717172\n",
      " 0.38060606 0.4440404  0.50747475 0.57090909 0.63434343 0.69777778\n",
      " 0.76121212 0.82464646 0.88808081 0.95151515 1.01494949 1.07838384\n",
      " 1.14181818 1.20525253 1.26868687 1.33212121 1.39555556 1.4589899\n",
      " 1.52242424 1.58585859 1.64929293 1.71272727 1.77616162 1.83959596\n",
      " 1.9030303  1.96646465 2.02989899 2.09333333 2.15676768 2.22020202\n",
      " 2.28363636 2.34707071 2.41050505 2.47393939 2.53737374 2.60080808\n",
      " 2.66424242 2.72767677 2.79111111 2.85454545 2.9179798  2.98141414\n",
      " 3.04484848 3.10828283 3.17171717 3.23515152 3.29858586 3.3620202\n",
      " 3.42545455 3.48888889 3.55232323 3.61575758 3.67919192 3.74262626\n",
      " 3.80606061 3.86949495 3.93292929 3.99636364 4.05979798 4.12323232\n",
      " 4.18666667 4.25010101 4.31353535 4.3769697  4.44040404 4.50383838\n",
      " 4.56727273 4.63070707 4.69414141 4.75757576 4.8210101  4.88444444\n",
      " 4.94787879 5.01131313 5.07474747 5.13818182 5.20161616 5.26505051\n",
      " 5.32848485 5.39191919 5.45535354 5.51878788 5.58222222 5.64565657\n",
      " 5.70909091 5.77252525 5.8359596  5.89939394 5.96282828 6.02626263\n",
      " 6.08969697 6.15313131 6.21656566 6.28      ]\n",
      "\n",
      "Every 10th element:\n",
      " [0.         0.63434343 1.26868687 1.9030303  2.53737374 3.17171717\n",
      " 3.80606061 4.44040404 5.07474747 5.70909091]\n",
      "\n",
      "Reversed original array:\n",
      " [6.28       6.21656566 6.15313131 6.08969697 6.02626263 5.96282828\n",
      " 5.89939394 5.8359596  5.77252525 5.70909091 5.64565657 5.58222222\n",
      " 5.51878788 5.45535354 5.39191919 5.32848485 5.26505051 5.20161616\n",
      " 5.13818182 5.07474747 5.01131313 4.94787879 4.88444444 4.8210101\n",
      " 4.75757576 4.69414141 4.63070707 4.56727273 4.50383838 4.44040404\n",
      " 4.3769697  4.31353535 4.25010101 4.18666667 4.12323232 4.05979798\n",
      " 3.99636364 3.93292929 3.86949495 3.80606061 3.74262626 3.67919192\n",
      " 3.61575758 3.55232323 3.48888889 3.42545455 3.3620202  3.29858586\n",
      " 3.23515152 3.17171717 3.10828283 3.04484848 2.98141414 2.9179798\n",
      " 2.85454545 2.79111111 2.72767677 2.66424242 2.60080808 2.53737374\n",
      " 2.47393939 2.41050505 2.34707071 2.28363636 2.22020202 2.15676768\n",
      " 2.09333333 2.02989899 1.96646465 1.9030303  1.83959596 1.77616162\n",
      " 1.71272727 1.64929293 1.58585859 1.52242424 1.4589899  1.39555556\n",
      " 1.33212121 1.26868687 1.20525253 1.14181818 1.07838384 1.01494949\n",
      " 0.95151515 0.88808081 0.82464646 0.76121212 0.69777778 0.63434343\n",
      " 0.57090909 0.50747475 0.4440404  0.38060606 0.31717172 0.25373737\n",
      " 0.19030303 0.12686869 0.06343434]\n",
      "\n",
      "Reversed modified array:\n",
      " [6.28       5.64565657 5.01131313 4.3769697  3.74262626 3.10828283\n",
      " 2.47393939 1.83959596 1.20525253 0.57090909]\n",
      "\n",
      "Elements where the absolute difference between the sin and cos functions evaluated for that element is < 0.1: [3.99636364 3.93292929 3.86949495 0.82464646 0.76121212]\n"
     ]
    }
   ],
   "source": [
    "import numpy as np \n",
    "m = np.linspace(0, 6.28, 100).astype(float)\n",
    "\n",
    "n = m[0:100:10]\n",
    "a = m[100:0:-1]\n",
    "b = m[100:0:-10]\n",
    "print('Original array:\\n', m)\n",
    "print('\\nEvery 10th element:\\n', n)\n",
    "print('\\nReversed original array:\\n', a)\n",
    "print('\\nReversed modified array:\\n', b)\n",
    "\n",
    "mask = (abs(np.sin(a) - np.cos(a)) < 0.1)\n",
    "a1 = a[mask]\n",
    "print('\\nElements where the absolute difference between the sin and cos functions evaluated for that element is < 0.1:', a1)"
   ]
  },
  {
   "cell_type": "markdown",
   "metadata": {},
   "source": [
    "5\\. Create a matrix that shows the 10 by 10 multiplication table.\n",
    "\n",
    " * Find the trace of the matrix\n",
    " * Extract the anti-diagonal matrix (this should be ```array([10, 18, 24, 28, 30, 30, 28, 24, 18, 10])```)\n",
    " * Extract the diagonal offset by 1 upwards (this should be ```array([ 2,  6, 12, 20, 30, 42, 56, 72, 90])```)"
   ]
  },
  {
   "cell_type": "code",
   "execution_count": 114,
   "metadata": {},
   "outputs": [
    {
     "name": "stdout",
     "output_type": "stream",
     "text": [
      "[[  1   2   3   4   5   6   7   8   9  10]\n",
      " [  2   4   6   8  10  12  14  16  18  20]\n",
      " [  3   6   9  12  15  18  21  24  27  30]\n",
      " [  4   8  12  16  20  24  28  32  36  40]\n",
      " [  5  10  15  20  25  30  35  40  45  50]\n",
      " [  6  12  18  24  30  36  42  48  54  60]\n",
      " [  7  14  21  28  35  42  49  56  63  70]\n",
      " [  8  16  24  32  40  48  56  64  72  80]\n",
      " [  9  18  27  36  45  54  63  72  81  90]\n",
      " [ 10  20  30  40  50  60  70  80  90 100]]\n",
      "\n",
      "The trace of the matrix: 385\n",
      "\n",
      "The anti-diagonal matrix:\n",
      " [10 18 24 28 30 30 28 24 18 10]\n",
      "\n",
      "The diagonal with offset by 1 upwards:\n",
      " [ 2  6 12 20 30 42 56 72 90]\n"
     ]
    }
   ],
   "source": [
    "import numpy as np \n",
    "m = np.arange(1, 11)\n",
    "a = np.outer(m, m, out = None)\n",
    "print(a)\n",
    "\n",
    "b = np.trace(a, offset=0, axis1=0, axis2=1, dtype=None, out=None)\n",
    "print('\\nThe trace of the matrix:',b)\n",
    "\n",
    "n = np.fliplr(a).diagonal()\n",
    "print('\\nThe anti-diagonal matrix:\\n',n)\n",
    "\n",
    "e = np.diagonal(a, offset=1, axis1=0, axis2=1)\n",
    "print('\\nThe diagonal with offset by 1 upwards:\\n',e)"
   ]
  },
  {
   "cell_type": "markdown",
   "metadata": {},
   "source": [
    "6\\. Use broadcasting to create a grid of distances.\n",
    "\n",
    "Route 66 crosses the following cities in the US: Chicago, Springfield, Saint-Louis, Tulsa, Oklahoma City, Amarillo, Santa Fe, Albuquerque, Flagstaff, Los Angeles\n",
    "The corresponding positions in miles are: 0, 198, 303, 736, 871, 1175, 1475, 1544, 1913, 2448\n",
    "\n",
    "  * Build a 2D grid of distances among each city along Route 66\n",
    "  * Convert the distances in km"
   ]
  },
  {
   "cell_type": "code",
   "execution_count": 124,
   "metadata": {},
   "outputs": [
    {
     "name": "stdout",
     "output_type": "stream",
     "text": [
      "2D grid of distances among each city along Route 66:\n",
      " [[   0  198  303  736  871 1175 1475 1544 1913 2448]\n",
      " [ 198    0  105  538  673  977 1277 1346 1715 2250]\n",
      " [ 303  105    0  433  568  872 1172 1241 1610 2145]\n",
      " [ 736  538  433    0  135  439  739  808 1177 1712]\n",
      " [ 871  673  568  135    0  304  604  673 1042 1577]\n",
      " [1175  977  872  439  304    0  300  369  738 1273]\n",
      " [1475 1277 1172  739  604  300    0   69  438  973]\n",
      " [1544 1346 1241  808  673  369   69    0  369  904]\n",
      " [1913 1715 1610 1177 1042  738  438  369    0  535]\n",
      " [2448 2250 2145 1712 1577 1273  973  904  535    0]] \n",
      "\n",
      "\n",
      "2D grid of distances among each city along Route 66 converted in km:\n",
      "\n",
      " [[   0.       318.64932  487.63002 1184.47424 1401.73514 1890.9745\n",
      "  2373.7765  2484.82096 3078.66742 3939.66432]\n",
      " [ 318.64932    0.       168.9807   865.82492 1083.08582 1572.32518\n",
      "  2055.12718 2166.17164 2760.0181  3621.015  ]\n",
      " [ 487.63002  168.9807     0.       696.84422  914.10512 1403.34448\n",
      "  1886.14648 1997.19094 2591.0374  3452.0343 ]\n",
      " [1184.47424  865.82492  696.84422    0.       217.2609   706.50026\n",
      "  1189.30226 1300.34672 1894.19318 2755.19008]\n",
      " [1401.73514 1083.08582  914.10512  217.2609     0.       489.23936\n",
      "   972.04136 1083.08582 1676.93228 2537.92918]\n",
      " [1890.9745  1572.32518 1403.34448  706.50026  489.23936    0.\n",
      "   482.802    593.84646 1187.69292 2048.68982]\n",
      " [2373.7765  2055.12718 1886.14648 1189.30226  972.04136  482.802\n",
      "     0.       111.04446  704.89092 1565.88782]\n",
      " [2484.82096 2166.17164 1997.19094 1300.34672 1083.08582  593.84646\n",
      "   111.04446    0.       593.84646 1454.84336]\n",
      " [3078.66742 2760.0181  2591.0374  1894.19318 1676.93228 1187.69292\n",
      "   704.89092  593.84646    0.       860.9969 ]\n",
      " [3939.66432 3621.015   3452.0343  2755.19008 2537.92918 2048.68982\n",
      "  1565.88782 1454.84336  860.9969     0.     ]]\n"
     ]
    }
   ],
   "source": [
    "import numpy as np\n",
    "\n",
    "m = np.array([0, 198, 303, 736, 871, 1175, 1475, 1544, 1913, 2448])\n",
    "m = np.abs(m - m[:, np.newaxis])\n",
    "n = m * 1.60934\n",
    "\n",
    "print(\"2D grid of distances among each city along Route 66:\\n\", m, '\\n\\n')\n",
    "print(\"2D grid of distances among each city along Route 66 converted in km:\\n\\n\", n)"
   ]
  },
  {
   "cell_type": "markdown",
   "metadata": {},
   "source": [
    "7\\. Prime numbers sieve: compute the prime numbers in the 0-N (start with N=99) range with a sieve (mask).\n",
    "  * Check the performances (timeit); how does it scale with N?\n",
    "  * Implement the optimization suggested in the [sieve of Eratosthenes](https://en.wikipedia.org/wiki/Sieve_of_Eratosthenes)"
   ]
  },
  {
   "cell_type": "code",
   "execution_count": 116,
   "metadata": {},
   "outputs": [
    {
     "name": "stdout",
     "output_type": "stream",
     "text": [
      "[ 2  3  5  7 11 13 17 19 23 29 31 37 41 43 47 53 59 61 67 71 73 79 83 89\n",
      " 97]\n"
     ]
    }
   ],
   "source": [
    "import numpy as np\n",
    "\n",
    "def prime_nums():\n",
    "    nums = np.arange(100)\n",
    "    mask = np.ones(nums.shape[0], dtype=bool)\n",
    "    mask[0] = False\n",
    "    mask[1] = False\n",
    "\n",
    "    for i in range(2, mask.shape[0]):\n",
    "        if mask[i]:\n",
    "            mask[i+i::i] = False      \n",
    "    return nums[mask]\n",
    "\n",
    "print(prime_nums())"
   ]
  },
  {
   "cell_type": "code",
   "execution_count": null,
   "metadata": {},
   "outputs": [],
   "source": []
  }
 ],
 "metadata": {
  "kernelspec": {
   "display_name": "Python 3 (ipykernel)",
   "language": "python",
   "name": "python3"
  },
  "language_info": {
   "codemirror_mode": {
    "name": "ipython",
    "version": 3
   },
   "file_extension": ".py",
   "mimetype": "text/x-python",
   "name": "python",
   "nbconvert_exporter": "python",
   "pygments_lexer": "ipython3",
   "version": "3.9.1"
  }
 },
 "nbformat": 4,
 "nbformat_minor": 4
}
